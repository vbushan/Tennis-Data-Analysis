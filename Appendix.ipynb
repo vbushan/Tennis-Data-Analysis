{
 "cells": [
  {
   "cell_type": "markdown",
   "metadata": {},
   "source": [
    "# Final Project Code"
   ]
  },
  {
   "cell_type": "markdown",
   "metadata": {},
   "source": [
    "This section contains the code for generating the visualizations described in the report."
   ]
  },
  {
   "cell_type": "markdown",
   "metadata": {},
   "source": [
    "Import the required libraries."
   ]
  },
  {
   "cell_type": "code",
   "execution_count": 1,
   "metadata": {},
   "outputs": [
    {
     "data": {
      "text/html": [
       "        <script type=\"text/javascript\">\n",
       "        window.PlotlyConfig = {MathJaxConfig: 'local'};\n",
       "        if (window.MathJax) {MathJax.Hub.Config({SVG: {font: \"STIX-Web\"}});}\n",
       "        if (typeof require !== 'undefined') {\n",
       "        require.undef(\"plotly\");\n",
       "        requirejs.config({\n",
       "            paths: {\n",
       "                'plotly': ['https://cdn.plot.ly/plotly-latest.min']\n",
       "            }\n",
       "        });\n",
       "        require(['plotly'], function(Plotly) {\n",
       "            window._Plotly = Plotly;\n",
       "        });\n",
       "        }\n",
       "        </script>\n",
       "        "
      ]
     },
     "metadata": {},
     "output_type": "display_data"
    }
   ],
   "source": [
    "import pandas as pd\n",
    "import plotly\n",
    "from plotly.offline import init_notebook_mode\n",
    "import warnings\n",
    "import plotly.graph_objects as go\n",
    "from ipywidgets import widgets\n",
    "\n",
    "warnings.filterwarnings('ignore')\n",
    "\n",
    "\n",
    "init_notebook_mode(connected=True)"
   ]
  },
  {
   "cell_type": "markdown",
   "metadata": {},
   "source": [
    "<b> Research Question 1: </b> First lets explore the evolution of the current top 100 ATP players since they turned pro."
   ]
  },
  {
   "cell_type": "markdown",
   "metadata": {},
   "source": [
    "Import the dataset containing the stats of Top 100 ATP players. I have personally curated this dataset by scraping data from https://www.atptour.com/ using the selenium webdriver for chrome."
   ]
  },
  {
   "cell_type": "code",
   "execution_count": 2,
   "metadata": {},
   "outputs": [],
   "source": [
    "atp_top_100=pd.read_csv('data/ATP_TOP_100.csv')\n",
    "atp_top_100.drop('Unnamed: 0',inplace=True,axis=1) # Remove the extra index column."
   ]
  },
  {
   "cell_type": "markdown",
   "metadata": {},
   "source": [
    "Let's see how the data looks like- "
   ]
  },
  {
   "cell_type": "code",
   "execution_count": 3,
   "metadata": {},
   "outputs": [
    {
     "data": {
      "text/html": [
       "<div>\n",
       "<style scoped>\n",
       "    .dataframe tbody tr th:only-of-type {\n",
       "        vertical-align: middle;\n",
       "    }\n",
       "\n",
       "    .dataframe tbody tr th {\n",
       "        vertical-align: top;\n",
       "    }\n",
       "\n",
       "    .dataframe thead th {\n",
       "        text-align: right;\n",
       "    }\n",
       "</style>\n",
       "<table border=\"1\" class=\"dataframe\">\n",
       "  <thead>\n",
       "    <tr style=\"text-align: right;\">\n",
       "      <th></th>\n",
       "      <th>Ranking</th>\n",
       "      <th>Player</th>\n",
       "      <th>Age</th>\n",
       "      <th>Points</th>\n",
       "      <th>Tourn Played</th>\n",
       "      <th>profile_url</th>\n",
       "      <th>Aces</th>\n",
       "      <th>Double Faults</th>\n",
       "      <th>1st Serve</th>\n",
       "      <th>1st Serve Points Won</th>\n",
       "      <th>...</th>\n",
       "      <th>Service Games Won</th>\n",
       "      <th>Total Service Points Won</th>\n",
       "      <th>1st Serve Return Points Won</th>\n",
       "      <th>2nd Serve Return Points Won</th>\n",
       "      <th>Break Points Opportunities</th>\n",
       "      <th>Break Points Converted</th>\n",
       "      <th>Return Games Played</th>\n",
       "      <th>Return Games Won</th>\n",
       "      <th>Return Points Won</th>\n",
       "      <th>Total Points Won</th>\n",
       "    </tr>\n",
       "  </thead>\n",
       "  <tbody>\n",
       "    <tr>\n",
       "      <th>0</th>\n",
       "      <td>1</td>\n",
       "      <td>Novak Djokovic</td>\n",
       "      <td>33</td>\n",
       "      <td>12,030</td>\n",
       "      <td>18</td>\n",
       "      <td>https://www.atptour.com/en/players/novak-djoko...</td>\n",
       "      <td>5,870</td>\n",
       "      <td>2,478</td>\n",
       "      <td>65%</td>\n",
       "      <td>74%</td>\n",
       "      <td>...</td>\n",
       "      <td>86%</td>\n",
       "      <td>67%</td>\n",
       "      <td>34%</td>\n",
       "      <td>55%</td>\n",
       "      <td>9,497</td>\n",
       "      <td>44%</td>\n",
       "      <td>13,141</td>\n",
       "      <td>32%</td>\n",
       "      <td>42%</td>\n",
       "      <td>54%</td>\n",
       "    </tr>\n",
       "    <tr>\n",
       "      <th>1</th>\n",
       "      <td>2</td>\n",
       "      <td>Rafael Nadal</td>\n",
       "      <td>34</td>\n",
       "      <td>9,850</td>\n",
       "      <td>18</td>\n",
       "      <td>https://www.atptour.com/en/players/rafael-nada...</td>\n",
       "      <td>3,604</td>\n",
       "      <td>1,878</td>\n",
       "      <td>68%</td>\n",
       "      <td>72%</td>\n",
       "      <td>...</td>\n",
       "      <td>86%</td>\n",
       "      <td>67%</td>\n",
       "      <td>34%</td>\n",
       "      <td>55%</td>\n",
       "      <td>10,299</td>\n",
       "      <td>45%</td>\n",
       "      <td>13,824</td>\n",
       "      <td>34%</td>\n",
       "      <td>42%</td>\n",
       "      <td>55%</td>\n",
       "    </tr>\n",
       "    <tr>\n",
       "      <th>2</th>\n",
       "      <td>3</td>\n",
       "      <td>Dominic Thiem</td>\n",
       "      <td>27</td>\n",
       "      <td>9,125</td>\n",
       "      <td>21</td>\n",
       "      <td>https://www.atptour.com/en/players/dominic-thi...</td>\n",
       "      <td>2,615</td>\n",
       "      <td>1,244</td>\n",
       "      <td>60%</td>\n",
       "      <td>74%</td>\n",
       "      <td>...</td>\n",
       "      <td>83%</td>\n",
       "      <td>66%</td>\n",
       "      <td>30%</td>\n",
       "      <td>50%</td>\n",
       "      <td>3,376</td>\n",
       "      <td>39%</td>\n",
       "      <td>5,605</td>\n",
       "      <td>24%</td>\n",
       "      <td>38%</td>\n",
       "      <td>51%</td>\n",
       "    </tr>\n",
       "    <tr>\n",
       "      <th>3</th>\n",
       "      <td>4</td>\n",
       "      <td>Daniil Medvedev</td>\n",
       "      <td>24</td>\n",
       "      <td>8,470</td>\n",
       "      <td>24</td>\n",
       "      <td>https://www.atptour.com/en/players/daniil-medv...</td>\n",
       "      <td>1,881</td>\n",
       "      <td>815</td>\n",
       "      <td>59%</td>\n",
       "      <td>74%</td>\n",
       "      <td>...</td>\n",
       "      <td>82%</td>\n",
       "      <td>65%</td>\n",
       "      <td>30%</td>\n",
       "      <td>53%</td>\n",
       "      <td>1,812</td>\n",
       "      <td>40%</td>\n",
       "      <td>2,921</td>\n",
       "      <td>25%</td>\n",
       "      <td>39%</td>\n",
       "      <td>52%</td>\n",
       "    </tr>\n",
       "    <tr>\n",
       "      <th>4</th>\n",
       "      <td>5</td>\n",
       "      <td>Roger Federer</td>\n",
       "      <td>39</td>\n",
       "      <td>6,630</td>\n",
       "      <td>16</td>\n",
       "      <td>https://www.atptour.com/en/players/roger-feder...</td>\n",
       "      <td>11,344</td>\n",
       "      <td>2,742</td>\n",
       "      <td>62%</td>\n",
       "      <td>77%</td>\n",
       "      <td>...</td>\n",
       "      <td>89%</td>\n",
       "      <td>70%</td>\n",
       "      <td>33%</td>\n",
       "      <td>51%</td>\n",
       "      <td>11,822</td>\n",
       "      <td>41%</td>\n",
       "      <td>18,229</td>\n",
       "      <td>27%</td>\n",
       "      <td>40%</td>\n",
       "      <td>54%</td>\n",
       "    </tr>\n",
       "  </tbody>\n",
       "</table>\n",
       "<p>5 rows × 24 columns</p>\n",
       "</div>"
      ],
      "text/plain": [
       "   Ranking           Player  Age  Points  Tourn Played  \\\n",
       "0        1   Novak Djokovic   33  12,030            18   \n",
       "1        2     Rafael Nadal   34   9,850            18   \n",
       "2        3    Dominic Thiem   27   9,125            21   \n",
       "3        4  Daniil Medvedev   24   8,470            24   \n",
       "4        5    Roger Federer   39   6,630            16   \n",
       "\n",
       "                                         profile_url    Aces Double Faults  \\\n",
       "0  https://www.atptour.com/en/players/novak-djoko...   5,870         2,478   \n",
       "1  https://www.atptour.com/en/players/rafael-nada...   3,604         1,878   \n",
       "2  https://www.atptour.com/en/players/dominic-thi...   2,615         1,244   \n",
       "3  https://www.atptour.com/en/players/daniil-medv...   1,881           815   \n",
       "4  https://www.atptour.com/en/players/roger-feder...  11,344         2,742   \n",
       "\n",
       "  1st Serve 1st Serve Points Won  ... Service Games Won  \\\n",
       "0       65%                  74%  ...               86%   \n",
       "1       68%                  72%  ...               86%   \n",
       "2       60%                  74%  ...               83%   \n",
       "3       59%                  74%  ...               82%   \n",
       "4       62%                  77%  ...               89%   \n",
       "\n",
       "  Total Service Points Won 1st Serve Return Points Won  \\\n",
       "0                      67%                         34%   \n",
       "1                      67%                         34%   \n",
       "2                      66%                         30%   \n",
       "3                      65%                         30%   \n",
       "4                      70%                         33%   \n",
       "\n",
       "  2nd Serve Return Points Won Break Points Opportunities  \\\n",
       "0                         55%                      9,497   \n",
       "1                         55%                     10,299   \n",
       "2                         50%                      3,376   \n",
       "3                         53%                      1,812   \n",
       "4                         51%                     11,822   \n",
       "\n",
       "  Break Points Converted Return Games Played Return Games Won  \\\n",
       "0                    44%              13,141              32%   \n",
       "1                    45%              13,824              34%   \n",
       "2                    39%               5,605              24%   \n",
       "3                    40%               2,921              25%   \n",
       "4                    41%              18,229              27%   \n",
       "\n",
       "  Return Points Won Total Points Won  \n",
       "0               42%              54%  \n",
       "1               42%              55%  \n",
       "2               38%              51%  \n",
       "3               39%              52%  \n",
       "4               40%              54%  \n",
       "\n",
       "[5 rows x 24 columns]"
      ]
     },
     "execution_count": 3,
     "metadata": {},
     "output_type": "execute_result"
    }
   ],
   "source": [
    "atp_top_100.head()"
   ]
  },
  {
   "cell_type": "markdown",
   "metadata": {},
   "source": [
    "Now, let's extract the ranking history of the current world number 1, Novak Djokovic (my favorite)."
   ]
  },
  {
   "cell_type": "code",
   "execution_count": 4,
   "metadata": {},
   "outputs": [
    {
     "data": {
      "text/html": [
       "<div>\n",
       "<style scoped>\n",
       "    .dataframe tbody tr th:only-of-type {\n",
       "        vertical-align: middle;\n",
       "    }\n",
       "\n",
       "    .dataframe tbody tr th {\n",
       "        vertical-align: top;\n",
       "    }\n",
       "\n",
       "    .dataframe thead th {\n",
       "        text-align: right;\n",
       "    }\n",
       "</style>\n",
       "<table border=\"1\" class=\"dataframe\">\n",
       "  <thead>\n",
       "    <tr style=\"text-align: right;\">\n",
       "      <th></th>\n",
       "      <th>Date</th>\n",
       "      <th>Singles</th>\n",
       "      <th>Doubles</th>\n",
       "    </tr>\n",
       "  </thead>\n",
       "  <tbody>\n",
       "    <tr>\n",
       "      <th>0</th>\n",
       "      <td>2020.11.30</td>\n",
       "      <td>1</td>\n",
       "      <td>155</td>\n",
       "    </tr>\n",
       "    <tr>\n",
       "      <th>1</th>\n",
       "      <td>2020.11.23</td>\n",
       "      <td>1</td>\n",
       "      <td>155</td>\n",
       "    </tr>\n",
       "    <tr>\n",
       "      <th>2</th>\n",
       "      <td>2020.11.16</td>\n",
       "      <td>1</td>\n",
       "      <td>155</td>\n",
       "    </tr>\n",
       "    <tr>\n",
       "      <th>3</th>\n",
       "      <td>2020.11.09</td>\n",
       "      <td>1</td>\n",
       "      <td>154</td>\n",
       "    </tr>\n",
       "    <tr>\n",
       "      <th>4</th>\n",
       "      <td>2020.11.02</td>\n",
       "      <td>1</td>\n",
       "      <td>151</td>\n",
       "    </tr>\n",
       "  </tbody>\n",
       "</table>\n",
       "</div>"
      ],
      "text/plain": [
       "         Date Singles Doubles\n",
       "0  2020.11.30       1     155\n",
       "1  2020.11.23       1     155\n",
       "2  2020.11.16       1     155\n",
       "3  2020.11.09       1     154\n",
       "4  2020.11.02       1     151"
      ]
     },
     "execution_count": 4,
     "metadata": {},
     "output_type": "execute_result"
    }
   ],
   "source": [
    "player_hist_df=pd.read_csv(f'data/Ranking_hist_1.csv')\n",
    "player_hist_df.head()"
   ]
  },
  {
   "cell_type": "markdown",
   "metadata": {},
   "source": [
    "Let's only consider his records in Singles matches. "
   ]
  },
  {
   "cell_type": "code",
   "execution_count": 5,
   "metadata": {},
   "outputs": [],
   "source": [
    "player_hist_df=player_hist_df[['Date','Singles']]"
   ]
  },
  {
   "cell_type": "markdown",
   "metadata": {},
   "source": [
    "Now, lets preprocess the data- "
   ]
  },
  {
   "cell_type": "code",
   "execution_count": 6,
   "metadata": {},
   "outputs": [],
   "source": [
    "def num_preprocess(x):\n",
    "    \n",
    "    noise={'%',',','T'}\n",
    "    \n",
    "    result=\"\"\n",
    "    \n",
    "    if not isinstance(x,int):\n",
    "        for l in x:\n",
    "            if l not in noise:\n",
    "                result+=l\n",
    "    \n",
    "        return int(result)\n",
    "    return x\n",
    "\n",
    "\n",
    "def preprocess(df_temp):\n",
    "    \"\"\"\n",
    "    1. Convert date to appropriate format in pandas.\n",
    "    2. Remove noise from Singles rankings column.\n",
    "    3. Choose the best rank of a player in a year.\n",
    "    4. Remove rows when ranking=0\n",
    "    \n",
    "    \"\"\"\n",
    "    \n",
    "    df_temp['Date']=pd.to_datetime(df_temp.Date,format='%Y.%m.%d')\n",
    "    \n",
    "    df_temp['Singles']=df_temp['Singles'].apply(num_preprocess)\n",
    "    df_temp['Singles']=pd.to_numeric(df_temp['Singles'])\n",
    "    \n",
    "    df_temp['Year']=pd.DatetimeIndex(df_temp.Date).year\n",
    "\n",
    "\n",
    "\n",
    "\n",
    "preprocess(player_hist_df)\n",
    "plot_df=player_hist_df.groupby(['Year'],as_index=False)['Singles'].min()\n",
    "plot_df=plot_df[plot_df.Singles!=0]"
   ]
  },
  {
   "cell_type": "markdown",
   "metadata": {},
   "source": [
    "Now, let's an interactive plot where a user can choose to compare the evolution of two players."
   ]
  },
  {
   "cell_type": "code",
   "execution_count": 7,
   "metadata": {},
   "outputs": [],
   "source": [
    "trace1 = go.Scatter(x=plot_df['Year'], y=plot_df['Singles'], \n",
    "                   name=f\"{atp_top_100.iloc[0]['Player']}\", \n",
    "                                               line= {\"shape\": 'hv'})\n",
    "                                                                                                       \n",
    "\n",
    "trace2= go.Scatter(x=plot_df['Year'], y=plot_df['Singles'], \n",
    "                   name=f'{atp_top_100.iloc[0][\"Player\"]}', line= {\"shape\": 'hv'})"
   ]
  },
  {
   "cell_type": "code",
   "execution_count": 8,
   "metadata": {},
   "outputs": [],
   "source": [
    "g1 = go.FigureWidget(data=[trace1,trace2],\n",
    "                    layout=go.Layout(\n",
    "                        title=dict(\n",
    "                            text='Player Evolution'\n",
    "                        ),\n",
    "                        xaxis=dict(\n",
    "                            title='Time'\n",
    "                        ),\n",
    "                        yaxis=dict(\n",
    "                            title='Rank',\n",
    "                            autorange=\"reversed\"\n",
    "                            \n",
    "                        )\n",
    "                    ))"
   ]
  },
  {
   "cell_type": "code",
   "execution_count": 9,
   "metadata": {},
   "outputs": [],
   "source": [
    "player1_name = widgets.Dropdown(\n",
    "    description='Player1 :   ',\n",
    "    value='Novak Djokovic',\n",
    "    options=atp_top_100.Player.unique().tolist())\n",
    "\n",
    "\n",
    "player2_name = widgets.Dropdown(\n",
    "    description='Player2 :   ',\n",
    "    value='Novak Djokovic',\n",
    "    options=atp_top_100.Player.unique().tolist())\n",
    "\n",
    "\n",
    "\n",
    "container = widgets.HBox(children=[player1_name,player2_name])"
   ]
  },
  {
   "cell_type": "code",
   "execution_count": 10,
   "metadata": {},
   "outputs": [
    {
     "data": {
      "application/vnd.jupyter.widget-view+json": {
       "model_id": "257aa08e9be0478f900cf31c7d268ba7",
       "version_major": 2,
       "version_minor": 0
      },
      "text/plain": [
       "VBox(children=(HBox(children=(Dropdown(description='Player1 :   ', options=('Novak Djokovic', 'Rafael Nadal', …"
      ]
     },
     "metadata": {},
     "output_type": "display_data"
    }
   ],
   "source": [
    "prev_player1=\"Novak Djokovic\"\n",
    "prev_player2=\"Novak Djokovic\"\n",
    "\n",
    "def response(change):\n",
    "    global prev_player1, prev_player2\n",
    "    with g1.batch_update():\n",
    "        if prev_player1!=player1_name.value:\n",
    "            new_player=player1_name.value    \n",
    "            index=0\n",
    "            prev_player1=new_player\n",
    "        else:\n",
    "            new_player=player2_name.value\n",
    "            index=1\n",
    "            prev_player2=new_player\n",
    "            \n",
    "        new_player_rank=atp_top_100.loc[atp_top_100['Player']==new_player].iloc[0]['Ranking']\n",
    "        new_player_history=pd.read_csv(f'data/Ranking_hist_{new_player_rank}.csv')[['Date','Singles']]\n",
    "        #new_plot_df=preprocess(new_player_history)\n",
    "        \n",
    "        preprocess(new_player_history)\n",
    "        new_plot_df=new_player_history.groupby(['Year'],as_index=False)['Singles'].min()\n",
    "        new_plot_df=new_plot_df[new_plot_df.Singles!=0]\n",
    "        \n",
    "        \n",
    "        \n",
    "        g1.data[index].x=new_plot_df['Year']\n",
    "        g1.data[index].y=new_plot_df['Singles']\n",
    "        g1.data[index].name=new_player\n",
    "        \n",
    "        \n",
    "        \n",
    "player1_name.observe(response, names=\"value\")\n",
    "player2_name.observe(response,names=\"value\")\n",
    "widgets.VBox([container,g1])"
   ]
  },
  {
   "cell_type": "code",
   "execution_count": 11,
   "metadata": {},
   "outputs": [],
   "source": [
    "plot_df_con=player_hist_df.groupby(['Year'],as_index=False)['Singles'].median()\n",
    "plot_df_con=plot_df_con[plot_df_con.Singles!=0]"
   ]
  },
  {
   "cell_type": "code",
   "execution_count": 12,
   "metadata": {},
   "outputs": [],
   "source": [
    "trace1_con = go.Scatter(x=plot_df_con['Year'], y=plot_df_con['Singles'], \n",
    "                   name=f\"{atp_top_100.iloc[0]['Player']}\", \n",
    "                                               line= {\"shape\": 'hv'})\n",
    "                                                                                                       \n",
    "\n",
    "trace2_con= go.Scatter(x=plot_df_con['Year'], y=plot_df_con['Singles'], \n",
    "                   name=f'{atp_top_100.iloc[0][\"Player\"]}', line= {\"shape\": 'hv'})"
   ]
  },
  {
   "cell_type": "code",
   "execution_count": 13,
   "metadata": {},
   "outputs": [],
   "source": [
    "g1_con = go.FigureWidget(data=[trace1_con,trace2_con],\n",
    "                    layout=go.Layout(\n",
    "                        title=dict(\n",
    "                            text='Player Consistency'\n",
    "                        ),\n",
    "                        xaxis=dict(\n",
    "                            title='Time'\n",
    "                        ),\n",
    "                        yaxis=dict(\n",
    "                            title='Rank',\n",
    "                            autorange=\"reversed\"\n",
    "                            \n",
    "                        )\n",
    "                    ))"
   ]
  },
  {
   "cell_type": "code",
   "execution_count": 14,
   "metadata": {},
   "outputs": [],
   "source": [
    "player1_name_con = widgets.Dropdown(\n",
    "    description='Player1 :   ',\n",
    "    value='Novak Djokovic',\n",
    "    options=atp_top_100.Player.unique().tolist())\n",
    "\n",
    "\n",
    "player2_name_con = widgets.Dropdown(\n",
    "    description='Player2 :   ',\n",
    "    value='Novak Djokovic',\n",
    "    options=atp_top_100.Player.unique().tolist())\n",
    "\n",
    "\n",
    "\n",
    "container_con = widgets.HBox(children=[player1_name_con,player2_name_con])"
   ]
  },
  {
   "cell_type": "code",
   "execution_count": 15,
   "metadata": {},
   "outputs": [
    {
     "data": {
      "application/vnd.jupyter.widget-view+json": {
       "model_id": "f8c0294a02ee42bf84569456aa4e2a1b",
       "version_major": 2,
       "version_minor": 0
      },
      "text/plain": [
       "VBox(children=(HBox(children=(Dropdown(description='Player1 :   ', options=('Novak Djokovic', 'Rafael Nadal', …"
      ]
     },
     "metadata": {},
     "output_type": "display_data"
    }
   ],
   "source": [
    "prev_player1=\"Novak Djokovic\"\n",
    "prev_player2=\"Novak Djokovic\"\n",
    "\n",
    "def response(change):\n",
    "    global prev_player1, prev_player2\n",
    "    \n",
    "    with g1_con.batch_update():\n",
    "        if prev_player1!=player1_name_con.value:\n",
    "            new_player=player1_name_con.value    \n",
    "            index=0\n",
    "            prev_player1=new_player\n",
    "        \n",
    "        else:\n",
    "            new_player=player2_name_con.value\n",
    "            index=1\n",
    "            prev_player2=new_player\n",
    "            \n",
    "        new_player_rank=atp_top_100.loc[atp_top_100['Player']==new_player].iloc[0]['Ranking']\n",
    "        new_player_history=pd.read_csv(f'data/Ranking_hist_{new_player_rank}.csv')[['Date','Singles']]\n",
    "        \n",
    "        preprocess(new_player_history)\n",
    "        new_plot_df=new_player_history.groupby(['Year'],as_index=False)['Singles'].median()\n",
    "        new_plot_df=new_plot_df[new_plot_df.Singles!=0]\n",
    "                \n",
    "        \n",
    "        g1_con.data[index].x=new_plot_df['Year']\n",
    "        g1_con.data[index].y=new_plot_df['Singles']\n",
    "        g1_con.data[index].name=new_player\n",
    "        \n",
    "        \n",
    "        \n",
    "player1_name_con.observe(response, names=\"value\")\n",
    "player2_name_con.observe(response,names=\"value\")\n",
    "widgets.VBox([container_con,g1_con])"
   ]
  },
  {
   "cell_type": "markdown",
   "metadata": {},
   "source": [
    "The above plots can be used for a lot of reasons- \n",
    "\n",
    "1. We can track the evolutions and consistency of a player in his career so far.\n",
    "\n",
    "2. Whether the age of a player impacts his rankings.\n",
    "\n",
    "3. Compare the career records of two players.\n",
    "\n",
    "4. Analyze player rankings in a period of time."
   ]
  },
  {
   "cell_type": "markdown",
   "metadata": {},
   "source": [
    "<b> Research Question 2: </b> Now, let's see the impact of serve in a player's performance. Serve is an important aspect of a player's game- holding or breaking the serve at crucial points can turn a match around. There are two kinds of metrics which help us evaluate a player on his ability to serve or break an opponents serve- \n",
    "\n",
    "1. Serve Stats - 1st Serve, 1st Serve Points Won, 2nd Serve Points Won, Break Points Faced, Break Points Saved, Service Games Played, Service Games Won, Total Service Points Won\n",
    "2. Return Stats - 1st Serve Return Points Won, 2nd Serve Return Points Won, Break Points Opportunities, Break Points Converted, Return Games Played, Return Games Won, Return Points Won, Total Points Won\n"
   ]
  },
  {
   "cell_type": "markdown",
   "metadata": {},
   "source": [
    "Let's first explore the serve statistics of players. Let's build a similar interactive plot as above."
   ]
  },
  {
   "cell_type": "code",
   "execution_count": 16,
   "metadata": {},
   "outputs": [],
   "source": [
    "player1_name_s = widgets.Dropdown(\n",
    "    description='Player1:   ',\n",
    "    value='Novak Djokovic',\n",
    "    options=atp_top_100.Player.unique().tolist())\n",
    "\n",
    "player2_name_s = widgets.Dropdown(\n",
    "    description='Player2:   ',\n",
    "    value='Rafael Nadal',\n",
    "    options=atp_top_100.Player.unique().tolist())\n",
    "\n",
    "\n",
    "container_s = widgets.HBox(children=[player1_name_s,player2_name_s])"
   ]
  },
  {
   "cell_type": "code",
   "execution_count": 17,
   "metadata": {},
   "outputs": [],
   "source": [
    "serve_stats=pd.read_csv('data/Serve_Stats.csv',index_col=False)\n",
    "return_stats=pd.read_csv('data/Return_Stats.csv',index_col=False)"
   ]
  },
  {
   "cell_type": "code",
   "execution_count": 18,
   "metadata": {},
   "outputs": [],
   "source": [
    "serve_stats.drop('Unnamed: 0',inplace=True,axis=1)\n",
    "return_stats.drop('Unnamed: 0',inplace=True,axis=1)"
   ]
  },
  {
   "cell_type": "code",
   "execution_count": 19,
   "metadata": {},
   "outputs": [
    {
     "data": {
      "text/plain": [
       "Aces                        object\n",
       "Double Faults               object\n",
       "1st Serve                   object\n",
       "1st Serve Points Won        object\n",
       "2nd Serve Points Won        object\n",
       "Break Points Faced          object\n",
       "Break Points Saved          object\n",
       "Service Games Played        object\n",
       "Service Games Won           object\n",
       "Total Service Points Won    object\n",
       "dtype: object"
      ]
     },
     "execution_count": 19,
     "metadata": {},
     "output_type": "execute_result"
    }
   ],
   "source": [
    "serve_stats.dtypes"
   ]
  },
  {
   "cell_type": "code",
   "execution_count": 20,
   "metadata": {},
   "outputs": [
    {
     "data": {
      "text/plain": [
       "1st Serve Return Points Won    object\n",
       "2nd Serve Return Points Won    object\n",
       "Break Points Opportunities     object\n",
       "Break Points Converted         object\n",
       "Return Games Played            object\n",
       "Return Games Won               object\n",
       "Return Points Won              object\n",
       "Total Points Won               object\n",
       "dtype: object"
      ]
     },
     "execution_count": 20,
     "metadata": {},
     "output_type": "execute_result"
    }
   ],
   "source": [
    "return_stats.dtypes"
   ]
  },
  {
   "cell_type": "code",
   "execution_count": 21,
   "metadata": {},
   "outputs": [],
   "source": [
    "for column in serve_stats.columns:\n",
    "    serve_stats[column]=serve_stats[column].apply(num_preprocess)\n",
    "    serve_stats[column]=pd.to_numeric(serve_stats[column])\n",
    "\n",
    "for column in return_stats.columns:\n",
    "    return_stats[column]=return_stats[column].apply(num_preprocess)\n",
    "    return_stats[column]=pd.to_numeric(return_stats[column])"
   ]
  },
  {
   "cell_type": "code",
   "execution_count": 22,
   "metadata": {},
   "outputs": [
    {
     "data": {
      "text/plain": [
       "Aces                        int64\n",
       "Double Faults               int64\n",
       "1st Serve                   int64\n",
       "1st Serve Points Won        int64\n",
       "2nd Serve Points Won        int64\n",
       "Break Points Faced          int64\n",
       "Break Points Saved          int64\n",
       "Service Games Played        int64\n",
       "Service Games Won           int64\n",
       "Total Service Points Won    int64\n",
       "dtype: object"
      ]
     },
     "execution_count": 22,
     "metadata": {},
     "output_type": "execute_result"
    }
   ],
   "source": [
    "serve_stats.dtypes"
   ]
  },
  {
   "cell_type": "code",
   "execution_count": 23,
   "metadata": {},
   "outputs": [
    {
     "data": {
      "text/plain": [
       "1st Serve Return Points Won    int64\n",
       "2nd Serve Return Points Won    int64\n",
       "Break Points Opportunities     int64\n",
       "Break Points Converted         int64\n",
       "Return Games Played            int64\n",
       "Return Games Won               int64\n",
       "Return Points Won              int64\n",
       "Total Points Won               int64\n",
       "dtype: object"
      ]
     },
     "execution_count": 23,
     "metadata": {},
     "output_type": "execute_result"
    }
   ],
   "source": [
    "return_stats.dtypes"
   ]
  },
  {
   "cell_type": "code",
   "execution_count": 24,
   "metadata": {},
   "outputs": [],
   "source": [
    "serve_stats_agg=serve_stats[['1st Serve Points Won',\n",
    "       '2nd Serve Points Won',\n",
    "        'Break Points Saved',\n",
    "         'Service Games Won',\n",
    "       'Total Service Points Won']]\n",
    "return_stats_agg=return_stats[[\n",
    "    '1st Serve Return Points Won', '2nd Serve Return Points Won',\n",
    "    'Break Points Converted', 'Return Games Won', 'Return Points Won',\n",
    "       'Total Points Won']]"
   ]
  },
  {
   "cell_type": "markdown",
   "metadata": {},
   "source": [
    "Unlike the previous plot, the data here is multivariate. A better way to visualize the mulitvariate data is through a radar plot or parallel coordinate plots. I chose to use radar plots as they are commonly used in the sports domain, also they look cool."
   ]
  },
  {
   "cell_type": "code",
   "execution_count": 25,
   "metadata": {},
   "outputs": [],
   "source": [
    "trace3=go.Scatterpolar(r=serve_stats_agg.iloc[0].values.tolist(),theta=serve_stats_agg.iloc[0].keys().tolist(),\n",
    "                       fill='toself',name='Novak Djokovic')\n",
    "\n",
    "trace4=go.Scatterpolar(r=serve_stats_agg.iloc[1].values.tolist(),theta=serve_stats_agg.iloc[1].keys().tolist(),\n",
    "                       fill='toself',name='Rafal Nadel')"
   ]
  },
  {
   "cell_type": "code",
   "execution_count": 26,
   "metadata": {},
   "outputs": [],
   "source": [
    "g2 = go.FigureWidget(data=[trace3, trace4],\n",
    "                    layout=go.Layout(\n",
    "                        title=dict(\n",
    "                            text='Serve Statistics'\n",
    "                        ),\n",
    "                        polar=dict(\n",
    "                            radialaxis=dict(\n",
    "                              visible=True,\n",
    "                              range=[0, 100]\n",
    "                            )),\n",
    "                        showlegend=True\n",
    "                    ))"
   ]
  },
  {
   "cell_type": "code",
   "execution_count": 27,
   "metadata": {},
   "outputs": [
    {
     "data": {
      "application/vnd.jupyter.widget-view+json": {
       "model_id": "2d47f07d91b64122be1a3ac41de55e1d",
       "version_major": 2,
       "version_minor": 0
      },
      "text/plain": [
       "VBox(children=(HBox(children=(Dropdown(description='Player1:   ', options=('Novak Djokovic', 'Rafael Nadal', '…"
      ]
     },
     "metadata": {},
     "output_type": "display_data"
    }
   ],
   "source": [
    "prev1='Novak Djokovic'\n",
    "prev2='Rafal Nadel'\n",
    "\n",
    "\n",
    "def serv_response(change):\n",
    "    global prev1,prev2\n",
    "\n",
    "    new_player=change['new']\n",
    "    \n",
    "    new_player_rank=atp_top_100.loc[atp_top_100['Player']==new_player].iloc[0]['Ranking']\n",
    "    new_player_stats=serve_stats_agg.iloc[new_player_rank-1]\n",
    "    \n",
    "    with g2.batch_update():\n",
    "        if prev1!=player1_name_s.value:\n",
    "            g2.data[0].r = new_player_stats.values.tolist()\n",
    "            g2.data[0].name=new_player\n",
    "            prev1=new_player\n",
    "        else:\n",
    "            g2.data[1].r = new_player_stats.values.tolist()    \n",
    "            g2.data[1].name=new_player\n",
    "            prev2=new_player\n",
    "\n",
    "        \n",
    "player1_name_s.observe(serv_response, names=\"value\")\n",
    "player2_name_s.observe(serv_response, names=\"value\")\n",
    "widgets.VBox([container_s,g2])\n",
    "\n",
    "        "
   ]
  },
  {
   "cell_type": "markdown",
   "metadata": {},
   "source": [
    "Now, let's generate a similar plot to illustrate the return statistics of players."
   ]
  },
  {
   "cell_type": "code",
   "execution_count": 28,
   "metadata": {},
   "outputs": [],
   "source": [
    "trace5=go.Scatterpolar(r=return_stats_agg.iloc[0].values.tolist(),theta=return_stats_agg.iloc[0].keys().tolist(),\n",
    "                       fill='toself',name='Novak Djokovic')\n",
    "\n",
    "trace6=go.Scatterpolar(r=return_stats_agg.iloc[1].values.tolist(),theta=return_stats_agg.iloc[1].keys().tolist(),\n",
    "                       fill='toself',name='Rafal Nadel')"
   ]
  },
  {
   "cell_type": "code",
   "execution_count": 29,
   "metadata": {},
   "outputs": [],
   "source": [
    "g3 = go.FigureWidget(data=[trace5, trace6],\n",
    "                    layout=go.Layout(\n",
    "                        title=dict(\n",
    "                            text='Return Statistics'\n",
    "                        ),\n",
    "                        polar=dict(\n",
    "                            radialaxis=dict(\n",
    "                              visible=True,\n",
    "                              range=[0, 100]\n",
    "                            )),\n",
    "                        showlegend=True\n",
    "                    ))"
   ]
  },
  {
   "cell_type": "code",
   "execution_count": 30,
   "metadata": {},
   "outputs": [
    {
     "data": {
      "application/vnd.jupyter.widget-view+json": {
       "model_id": "a78ae8e966e149a7bbdb3f5026fab2e3",
       "version_major": 2,
       "version_minor": 0
      },
      "text/plain": [
       "VBox(children=(HBox(children=(Dropdown(description='Player1:   ', options=('Novak Djokovic', 'Rafael Nadal', '…"
      ]
     },
     "metadata": {},
     "output_type": "display_data"
    }
   ],
   "source": [
    "prev1='Novak Djokovic'\n",
    "prev2='Rafal Nadel'\n",
    "def ret_response(change):\n",
    "    global prev1,prev2\n",
    "    new_player=change['new']\n",
    "    \n",
    "    new_player_rank=atp_top_100.loc[atp_top_100['Player']==new_player].iloc[0]['Ranking']\n",
    "    new_player_stats=return_stats_agg.iloc[new_player_rank-1]\n",
    "    \n",
    "    with g3.batch_update():\n",
    "        if prev1!=player1_name_r.value:\n",
    "            g3.data[0].r = new_player_stats.values.tolist()\n",
    "            g3.data[0].name=new_player\n",
    "            prev1=new_player\n",
    "        \n",
    "        else:\n",
    "            g3.data[1].r = new_player_stats.values.tolist()    \n",
    "            g3.data[1].name=new_player\n",
    "            prev2=new_player\n",
    "\n",
    "\n",
    "player1_name_r = widgets.Dropdown(\n",
    "    description='Player1:   ',\n",
    "    value='Novak Djokovic',\n",
    "    options=atp_top_100.Player.unique().tolist())\n",
    "\n",
    "player2_name_r = widgets.Dropdown(\n",
    "    description='Player2:   ',\n",
    "    value='Rafael Nadal',\n",
    "    options=atp_top_100.Player.unique().tolist())\n",
    "\n",
    "\n",
    "container_r = widgets.HBox(children=[player1_name_r,player2_name_r])\n",
    "\n",
    "    \n",
    "    \n",
    "    \n",
    "    \n",
    "    \n",
    "player1_name_r.observe(ret_response, names=\"value\")\n",
    "player2_name_r.observe(ret_response, names=\"value\")\n",
    "widgets.VBox([container_r,g3])\n"
   ]
  },
  {
   "cell_type": "markdown",
   "metadata": {},
   "source": [
    "The plots above can be used for the following analysis-\n",
    "\n",
    "1) How a player serves and returns opponents serve.\n",
    "\n",
    "2) How two players compare in serving and returning opponents serve."
   ]
  },
  {
   "cell_type": "markdown",
   "metadata": {},
   "source": [
    "There's more to a player's serve than mere stats. Two important criterias that determine a player's serve are- \n",
    "\n",
    "1. Court surface - Professional tennis matches are typically played on four types of surfaces - Grass, Clay, Hard, and Carpet. The speed of the ball is impacted by the surface type and so is the serve. To that end, Grass and Hard courts are considered faster playing surfaces, while clay is a relatively slower surface and requires much physical strength to hit the ball.\n",
    "\n",
    "2. Player's height - Taller players often have an advantage in hitting aces. John Isner, Ivo Karlovic are two of the taller players in professional tennis, and they excel at hitting aces."
   ]
  },
  {
   "cell_type": "markdown",
   "metadata": {},
   "source": [
    "So, let's compare the ability to hit aces based on playing surface. To explore this I have used ATP matches data from https://github.com/JeffSackmann/tennis_atp. \n",
    "\n",
    "This repository is known for its comprehensive collection of data in professional tennis matches starting from year 1968 and is often cited in kaggle kernels and literature. So, I think it's a reliable resource.  "
   ]
  },
  {
   "cell_type": "markdown",
   "metadata": {},
   "source": [
    "Let's import the matches data -"
   ]
  },
  {
   "cell_type": "code",
   "execution_count": 31,
   "metadata": {},
   "outputs": [],
   "source": [
    "year_range=range(1968,2021,1)"
   ]
  },
  {
   "cell_type": "code",
   "execution_count": 33,
   "metadata": {},
   "outputs": [],
   "source": [
    "match_dfs=[ pd.read_csv(f'data/atp_matches_{year}.csv') for year in year_range ]"
   ]
  },
  {
   "cell_type": "code",
   "execution_count": 34,
   "metadata": {},
   "outputs": [],
   "source": [
    "master_match_df=pd.concat(match_dfs)"
   ]
  },
  {
   "cell_type": "code",
   "execution_count": 35,
   "metadata": {},
   "outputs": [
    {
     "data": {
      "text/plain": [
       "(177642, 49)"
      ]
     },
     "execution_count": 35,
     "metadata": {},
     "output_type": "execute_result"
    }
   ],
   "source": [
    "master_match_df.shape"
   ]
  },
  {
   "cell_type": "markdown",
   "metadata": {},
   "source": [
    "The master_match_df has data relevant to all the ATP matches from 1968-2020. Now, let's clean the data, and extract the aces played during grandslams over the years. Grand slams are the grand stage of tennis. So, evaluating the aces played during grand slams would give us a fair idea."
   ]
  },
  {
   "cell_type": "code",
   "execution_count": 36,
   "metadata": {},
   "outputs": [],
   "source": [
    "# Covert date to appropriate format\n",
    "master_match_df['tourney_date']=pd.to_datetime(master_match_df.tourney_date,format='%Y%m%d') "
   ]
  },
  {
   "cell_type": "code",
   "execution_count": 37,
   "metadata": {},
   "outputs": [],
   "source": [
    "# Count the total number of aces in each match.\n",
    "master_match_df['Total_Aces']=master_match_df['w_ace']+master_match_df['l_ace']"
   ]
  },
  {
   "cell_type": "code",
   "execution_count": 38,
   "metadata": {},
   "outputs": [],
   "source": [
    "# Create a Match Count variable which can utilized to count the number of matches during aggregation.\n",
    "master_match_df['Match_Count']=[1]*len(master_match_df)"
   ]
  },
  {
   "cell_type": "code",
   "execution_count": 39,
   "metadata": {},
   "outputs": [],
   "source": [
    "# Aggregate the number of matches, aces played on each surface ny tournament level\n",
    "\n",
    "master_surface_mactes=master_match_df.groupby(['surface','tourney_level','tourney_name'],\n",
    "                                              as_index=False)['Total_Aces','Match_Count'].sum()"
   ]
  },
  {
   "cell_type": "code",
   "execution_count": 40,
   "metadata": {},
   "outputs": [],
   "source": [
    "# Extract the data for grand slams.\n",
    "\n",
    "plot_df=master_surface_mactes[master_surface_mactes['tourney_level']=='G']"
   ]
  },
  {
   "cell_type": "code",
   "execution_count": 41,
   "metadata": {},
   "outputs": [
    {
     "data": {
      "text/html": [
       "<div>\n",
       "<style scoped>\n",
       "    .dataframe tbody tr th:only-of-type {\n",
       "        vertical-align: middle;\n",
       "    }\n",
       "\n",
       "    .dataframe tbody tr th {\n",
       "        vertical-align: top;\n",
       "    }\n",
       "\n",
       "    .dataframe thead th {\n",
       "        text-align: right;\n",
       "    }\n",
       "</style>\n",
       "<table border=\"1\" class=\"dataframe\">\n",
       "  <thead>\n",
       "    <tr style=\"text-align: right;\">\n",
       "      <th></th>\n",
       "      <th>surface</th>\n",
       "      <th>tourney_level</th>\n",
       "      <th>tourney_name</th>\n",
       "      <th>Total_Aces</th>\n",
       "      <th>Match_Count</th>\n",
       "    </tr>\n",
       "  </thead>\n",
       "  <tbody>\n",
       "    <tr>\n",
       "      <th>2112</th>\n",
       "      <td>Clay</td>\n",
       "      <td>G</td>\n",
       "      <td>Roland Garros</td>\n",
       "      <td>42776.0</td>\n",
       "      <td>6683</td>\n",
       "    </tr>\n",
       "    <tr>\n",
       "      <th>2113</th>\n",
       "      <td>Clay</td>\n",
       "      <td>G</td>\n",
       "      <td>US Open</td>\n",
       "      <td>0.0</td>\n",
       "      <td>381</td>\n",
       "    </tr>\n",
       "    <tr>\n",
       "      <th>2305</th>\n",
       "      <td>Grass</td>\n",
       "      <td>G</td>\n",
       "      <td>Australian Chps.</td>\n",
       "      <td>0.0</td>\n",
       "      <td>61</td>\n",
       "    </tr>\n",
       "    <tr>\n",
       "      <th>2306</th>\n",
       "      <td>Grass</td>\n",
       "      <td>G</td>\n",
       "      <td>Australian Open</td>\n",
       "      <td>0.0</td>\n",
       "      <td>1224</td>\n",
       "    </tr>\n",
       "    <tr>\n",
       "      <th>2307</th>\n",
       "      <td>Grass</td>\n",
       "      <td>G</td>\n",
       "      <td>Australian Open-2</td>\n",
       "      <td>0.0</td>\n",
       "      <td>63</td>\n",
       "    </tr>\n",
       "    <tr>\n",
       "      <th>2308</th>\n",
       "      <td>Grass</td>\n",
       "      <td>G</td>\n",
       "      <td>US Open</td>\n",
       "      <td>0.0</td>\n",
       "      <td>837</td>\n",
       "    </tr>\n",
       "    <tr>\n",
       "      <th>2309</th>\n",
       "      <td>Grass</td>\n",
       "      <td>G</td>\n",
       "      <td>Wimbledon</td>\n",
       "      <td>74009.0</td>\n",
       "      <td>6604</td>\n",
       "    </tr>\n",
       "    <tr>\n",
       "      <th>3684</th>\n",
       "      <td>Hard</td>\n",
       "      <td>G</td>\n",
       "      <td>Australian Open</td>\n",
       "      <td>62414.0</td>\n",
       "      <td>4191</td>\n",
       "    </tr>\n",
       "    <tr>\n",
       "      <th>3685</th>\n",
       "      <td>Hard</td>\n",
       "      <td>G</td>\n",
       "      <td>US Open</td>\n",
       "      <td>62556.0</td>\n",
       "      <td>5335</td>\n",
       "    </tr>\n",
       "    <tr>\n",
       "      <th>3686</th>\n",
       "      <td>Hard</td>\n",
       "      <td>G</td>\n",
       "      <td>Us Open</td>\n",
       "      <td>2351.0</td>\n",
       "      <td>127</td>\n",
       "    </tr>\n",
       "  </tbody>\n",
       "</table>\n",
       "</div>"
      ],
      "text/plain": [
       "     surface tourney_level       tourney_name  Total_Aces  Match_Count\n",
       "2112    Clay             G      Roland Garros     42776.0         6683\n",
       "2113    Clay             G            US Open         0.0          381\n",
       "2305   Grass             G   Australian Chps.         0.0           61\n",
       "2306   Grass             G    Australian Open         0.0         1224\n",
       "2307   Grass             G  Australian Open-2         0.0           63\n",
       "2308   Grass             G            US Open         0.0          837\n",
       "2309   Grass             G          Wimbledon     74009.0         6604\n",
       "3684    Hard             G    Australian Open     62414.0         4191\n",
       "3685    Hard             G            US Open     62556.0         5335\n",
       "3686    Hard             G            Us Open      2351.0          127"
      ]
     },
     "execution_count": 41,
     "metadata": {},
     "output_type": "execute_result"
    }
   ],
   "source": [
    "plot_df"
   ]
  },
  {
   "cell_type": "code",
   "execution_count": 42,
   "metadata": {},
   "outputs": [],
   "source": [
    "plot_df=plot_df[plot_df.Total_Aces!=0]"
   ]
  },
  {
   "cell_type": "code",
   "execution_count": 43,
   "metadata": {},
   "outputs": [],
   "source": [
    "plot_df['tourney_name']=[name.upper() for name in plot_df['tourney_name']]"
   ]
  },
  {
   "cell_type": "code",
   "execution_count": 44,
   "metadata": {},
   "outputs": [
    {
     "data": {
      "text/html": [
       "<div>\n",
       "<style scoped>\n",
       "    .dataframe tbody tr th:only-of-type {\n",
       "        vertical-align: middle;\n",
       "    }\n",
       "\n",
       "    .dataframe tbody tr th {\n",
       "        vertical-align: top;\n",
       "    }\n",
       "\n",
       "    .dataframe thead th {\n",
       "        text-align: right;\n",
       "    }\n",
       "</style>\n",
       "<table border=\"1\" class=\"dataframe\">\n",
       "  <thead>\n",
       "    <tr style=\"text-align: right;\">\n",
       "      <th></th>\n",
       "      <th>surface</th>\n",
       "      <th>tourney_level</th>\n",
       "      <th>tourney_name</th>\n",
       "      <th>Total_Aces</th>\n",
       "      <th>Match_Count</th>\n",
       "    </tr>\n",
       "  </thead>\n",
       "  <tbody>\n",
       "    <tr>\n",
       "      <th>2112</th>\n",
       "      <td>Clay</td>\n",
       "      <td>G</td>\n",
       "      <td>ROLAND GARROS</td>\n",
       "      <td>42776.0</td>\n",
       "      <td>6683</td>\n",
       "    </tr>\n",
       "    <tr>\n",
       "      <th>2309</th>\n",
       "      <td>Grass</td>\n",
       "      <td>G</td>\n",
       "      <td>WIMBLEDON</td>\n",
       "      <td>74009.0</td>\n",
       "      <td>6604</td>\n",
       "    </tr>\n",
       "    <tr>\n",
       "      <th>3684</th>\n",
       "      <td>Hard</td>\n",
       "      <td>G</td>\n",
       "      <td>AUSTRALIAN OPEN</td>\n",
       "      <td>62414.0</td>\n",
       "      <td>4191</td>\n",
       "    </tr>\n",
       "    <tr>\n",
       "      <th>3685</th>\n",
       "      <td>Hard</td>\n",
       "      <td>G</td>\n",
       "      <td>US OPEN</td>\n",
       "      <td>62556.0</td>\n",
       "      <td>5335</td>\n",
       "    </tr>\n",
       "    <tr>\n",
       "      <th>3686</th>\n",
       "      <td>Hard</td>\n",
       "      <td>G</td>\n",
       "      <td>US OPEN</td>\n",
       "      <td>2351.0</td>\n",
       "      <td>127</td>\n",
       "    </tr>\n",
       "  </tbody>\n",
       "</table>\n",
       "</div>"
      ],
      "text/plain": [
       "     surface tourney_level     tourney_name  Total_Aces  Match_Count\n",
       "2112    Clay             G    ROLAND GARROS     42776.0         6683\n",
       "2309   Grass             G        WIMBLEDON     74009.0         6604\n",
       "3684    Hard             G  AUSTRALIAN OPEN     62414.0         4191\n",
       "3685    Hard             G          US OPEN     62556.0         5335\n",
       "3686    Hard             G          US OPEN      2351.0          127"
      ]
     },
     "execution_count": 44,
     "metadata": {},
     "output_type": "execute_result"
    }
   ],
   "source": [
    "plot_df"
   ]
  },
  {
   "cell_type": "markdown",
   "metadata": {},
   "source": [
    "Two of the four grand slams are played on hard courts, so that would make the plot biased if just consider the total aces on each surface- as there would more hard court tournaments than clay or grass. One way to fix this would be consider the mean number of matches played on each types of courts in grad slams and then calculate the total number of aces per match. So, lets do that below- "
   ]
  },
  {
   "cell_type": "code",
   "execution_count": 45,
   "metadata": {},
   "outputs": [],
   "source": [
    "plot_df=plot_df.groupby(['surface'],as_index=False)['Total_Aces','Match_Count'].mean()"
   ]
  },
  {
   "cell_type": "code",
   "execution_count": 46,
   "metadata": {},
   "outputs": [],
   "source": [
    "plot_df['Aces_Per_Match']=plot_df.Total_Aces/plot_df.Match_Count"
   ]
  },
  {
   "cell_type": "code",
   "execution_count": 47,
   "metadata": {},
   "outputs": [
    {
     "data": {
      "text/html": [
       "<div>\n",
       "<style scoped>\n",
       "    .dataframe tbody tr th:only-of-type {\n",
       "        vertical-align: middle;\n",
       "    }\n",
       "\n",
       "    .dataframe tbody tr th {\n",
       "        vertical-align: top;\n",
       "    }\n",
       "\n",
       "    .dataframe thead th {\n",
       "        text-align: right;\n",
       "    }\n",
       "</style>\n",
       "<table border=\"1\" class=\"dataframe\">\n",
       "  <thead>\n",
       "    <tr style=\"text-align: right;\">\n",
       "      <th></th>\n",
       "      <th>surface</th>\n",
       "      <th>Total_Aces</th>\n",
       "      <th>Match_Count</th>\n",
       "      <th>Aces_Per_Match</th>\n",
       "    </tr>\n",
       "  </thead>\n",
       "  <tbody>\n",
       "    <tr>\n",
       "      <th>0</th>\n",
       "      <td>Clay</td>\n",
       "      <td>42776.000000</td>\n",
       "      <td>6683.000000</td>\n",
       "      <td>6.400718</td>\n",
       "    </tr>\n",
       "    <tr>\n",
       "      <th>1</th>\n",
       "      <td>Grass</td>\n",
       "      <td>74009.000000</td>\n",
       "      <td>6604.000000</td>\n",
       "      <td>11.206693</td>\n",
       "    </tr>\n",
       "    <tr>\n",
       "      <th>2</th>\n",
       "      <td>Hard</td>\n",
       "      <td>42440.333333</td>\n",
       "      <td>3217.666667</td>\n",
       "      <td>13.189786</td>\n",
       "    </tr>\n",
       "  </tbody>\n",
       "</table>\n",
       "</div>"
      ],
      "text/plain": [
       "  surface    Total_Aces  Match_Count  Aces_Per_Match\n",
       "0    Clay  42776.000000  6683.000000        6.400718\n",
       "1   Grass  74009.000000  6604.000000       11.206693\n",
       "2    Hard  42440.333333  3217.666667       13.189786"
      ]
     },
     "execution_count": 47,
     "metadata": {},
     "output_type": "execute_result"
    }
   ],
   "source": [
    "plot_df"
   ]
  },
  {
   "cell_type": "markdown",
   "metadata": {},
   "source": [
    "Let' plot the results -"
   ]
  },
  {
   "cell_type": "code",
   "execution_count": 49,
   "metadata": {},
   "outputs": [
    {
     "data": {
      "image/png": "[encoded data removed]",
      "text/plain": [
       "<Figure size 432x288 with 1 Axes>"
      ]
     },
     "metadata": {},
     "output_type": "display_data"
    }
   ],
   "source": [
    "import seaborn as sns\n",
    "\n",
    "sns.set_style(\"whitegrid\")\n",
    "ax = sns.barplot(x=\"surface\", y=\"Aces_Per_Match\", data=plot_df)\n",
    "ax.set_title('Aces across surfaces');"
   ]
  },
  {
   "cell_type": "markdown",
   "metadata": {},
   "source": [
    "Above we can see that historically, the number of aces per match on grass courts and hard courts are more than that of clay courts. This is justified by our intution that since grass and hard courts are faster surfaces, the chances of hitting an Ace is high."
   ]
  },
  {
   "cell_type": "markdown",
   "metadata": {},
   "source": [
    "Now, lets verify the impact of height on hitting an ace. For this I will create a data frame of all players in the master_match_df and include their heights and total number of Aces across all the matches played by the player. Here too, if we consider the total number of aces, then we won't get a fair estimation of the relationship. So, I calculated the number of aces per match for each player."
   ]
  },
  {
   "cell_type": "code",
   "execution_count": 50,
   "metadata": {},
   "outputs": [],
   "source": [
    "winners_df=master_match_df[['winner_name','winner_hand','winner_ht','winner_age','surface','w_ace','Match_Count']]\n",
    "losers_df=master_match_df[['loser_name','loser_hand','loser_ht','loser_age','surface','l_ace','Match_Count']]"
   ]
  },
  {
   "cell_type": "code",
   "execution_count": 51,
   "metadata": {},
   "outputs": [],
   "source": [
    "win_aces_by_height=winners_df.groupby(['winner_name','winner_ht'],as_index=False)['w_ace','Match_Count'].sum()\n",
    "loser_aces_by_height=losers_df.groupby(['loser_name','loser_ht'],as_index=False)['l_ace','Match_Count'].sum()"
   ]
  },
  {
   "cell_type": "code",
   "execution_count": 52,
   "metadata": {},
   "outputs": [],
   "source": [
    "win_aces_by_height = win_aces_by_height.rename(columns={'winner_name': 'player_name',\n",
    "                                                          'winner_ht':'player_ht',\n",
    "                                                          'w_ace':'aces',\n",
    "                                                            'Match_Count':'Matches_Played'\n",
    "                                                         \n",
    "                                                         })\n",
    "\n",
    "\n",
    "loser_aces_by_height=loser_aces_by_height.rename(\n",
    "    columns={\n",
    "    \n",
    "            'loser_name': 'player_name',\n",
    "            'loser_ht':'player_ht',\n",
    "            'l_ace':'aces',\n",
    "        'Match_Count':'Matches_Played'\n",
    "    \n",
    "    })"
   ]
  },
  {
   "cell_type": "code",
   "execution_count": 53,
   "metadata": {},
   "outputs": [],
   "source": [
    "players_dfs=[win_aces_by_height,loser_aces_by_height]\n",
    "players_df=pd.concat(players_dfs)"
   ]
  },
  {
   "cell_type": "code",
   "execution_count": 54,
   "metadata": {},
   "outputs": [],
   "source": [
    "players_df=players_df.groupby(['player_name','player_ht'],as_index=False)['aces','Matches_Played'].sum()"
   ]
  },
  {
   "cell_type": "code",
   "execution_count": 55,
   "metadata": {},
   "outputs": [],
   "source": [
    "players_df['Aces_Per_Match']=players_df.aces/players_df.Matches_Played"
   ]
  },
  {
   "cell_type": "code",
   "execution_count": 56,
   "metadata": {},
   "outputs": [],
   "source": [
    "players_df=players_df[players_df.Matches_Played>10]"
   ]
  },
  {
   "cell_type": "markdown",
   "metadata": {},
   "source": [
    "Let's visualize the relationship using a trend line- "
   ]
  },
  {
   "cell_type": "code",
   "execution_count": 57,
   "metadata": {},
   "outputs": [
    {
     "data": {
      "application/vnd.plotly.v1+json": {
       "config": {
        "plotlyServerURL": "https://plot.ly"
       },
       "data": [
        {
         "customdata": [
          [
           995,
           "Aaron Krickstein",
           183,
           653
          ],
          [
           31,
           "Adam Malik",
           193,
           25
          ],
          [
           89,
           "Adrian Garcia",
           175,
           41
          ],
          [
           2051,
           "Adrian Mannarino",
           183,
           440
          ],
          [
           0,
           "Adrian Marcu",
           190,
           26
          ],
          [
           115,
           "Adrian Ungur",
           178,
           60
          ],
          [
           1585,
           "Adrian Voinea",
           185,
           312
          ],
          [
           0,
           "Adriano Panatta",
           183,
           662
          ],
          [
           2649,
           "Agustin Calleri",
           183,
           399
          ],
          [
           15,
           "Agustin Moreno",
           180,
           26
          ],
          [
           0,
           "Ahmed El Mehelmy",
           183,
           40
          ],
          [
           279,
           "Aisam Ul Haq Qureshi",
           183,
           71
          ],
          [
           29,
           "Aki Rahunen",
           175,
           79
          ],
          [
           0,
           "Al Parker",
           188,
           11
          ],
          [
           0,
           "Alan Fox",
           173,
           21
          ],
          [
           26,
           "Alan Mackin",
           183,
           15
          ],
          [
           264,
           "Albano Olivetti",
           203,
           14
          ],
          [
           88,
           "Albert Chang",
           183,
           25
          ],
          [
           2207,
           "Albert Costa",
           180,
           662
          ],
          [
           1804,
           "Albert Montanes",
           175,
           544
          ],
          [
           1382,
           "Albert Portas",
           188,
           340
          ],
          [
           1594,
           "Albert Ramos",
           188,
           462
          ],
          [
           758,
           "Alberto Berasategui",
           173,
           478
          ],
          [
           355,
           "Alberto Mancini",
           180,
           276
          ],
          [
           979,
           "Alberto Martin",
           175,
           488
          ],
          [
           0,
           "Alberto Tous",
           175,
           102
          ],
          [
           10,
           "Aldin Setkic",
           193,
           15
          ],
          [
           0,
           "Alejandro Aramburu",
           175,
           16
          ],
          [
           853,
           "Alejandro Falla",
           185,
           283
          ],
          [
           0,
           "Alejandro Ganzabal",
           180,
           115
          ],
          [
           0,
           "Alejandro Gattiker",
           180,
           27
          ],
          [
           154,
           "Alejandro Hernandez",
           180,
           77
          ],
          [
           73,
           "Alejo Mancisidor",
           183,
           26
          ],
          [
           0,
           "Alessandro De Minicis",
           175,
           26
          ],
          [
           110,
           "Alessandro Giannessi",
           183,
           31
          ],
          [
           189,
           "Alessio Di Mauro",
           185,
           53
          ],
          [
           532,
           "Alex Antonitsch",
           188,
           251
          ],
          [
           220,
           "Alex Bogdanovic",
           183,
           47
          ],
          [
           388,
           "Alex Bogomolov Jr",
           178,
           178
          ],
          [
           1051,
           "Alex Calatrava",
           190,
           178
          ],
          [
           2610,
           "Alex Corretja",
           180,
           723
          ],
          [
           71,
           "Alex Kim",
           175,
           34
          ],
          [
           286,
           "Alex Kuznetsov",
           183,
           39
          ],
          [
           101,
           "Alex Lopez Moron",
           175,
           54
          ],
          [
           1020,
           "Alex Obrien",
           185,
           230
          ],
          [
           970,
           "Alex Radulescu",
           185,
           96
          ],
          [
           0,
           "Alex Stepanek",
           180,
           11
          ],
          [
           126,
           "Alexander Kudryavtsev",
           183,
           20
          ],
          [
           699,
           "Alexander Mronz",
           188,
           169
          ],
          [
           273,
           "Alexander Peya",
           183,
           73
          ],
          [
           485,
           "Alexander Popp",
           201,
           110
          ],
          [
           53,
           "Alexander Reichel",
           193,
           11
          ],
          [
           1898,
           "Alexander Volkov",
           188,
           562
          ],
          [
           946,
           "Alexander Waske",
           188,
           92
          ],
          [
           3029,
           "Alexander Zverev",
           198,
           370
          ],
          [
           0,
           "Alexander Zverev Sr",
           185,
           30
          ],
          [
           3147,
           "Alexandr Dolgopolov",
           180,
           423
          ],
          [
           2,
           "Alexandre Hocevar",
           190,
           14
          ],
          [
           200,
           "Alexandre Simoni",
           188,
           33
          ],
          [
           0,
           "Alexey Kedryuk",
           193,
           34
          ],
          [
           34,
           "Alistair Hunt",
           190,
           29
          ],
          [
           2050,
           "Aljaz Bedene",
           181,
           255
          ],
          [
           44,
           "Alun Jones",
           180,
           13
          ],
          [
           0,
           "Alvaro Fillol",
           178,
           117
          ],
          [
           0,
           "Alvaro Jordan",
           185,
           33
          ],
          [
           807,
           "Amer Delic",
           196,
           89
          ],
          [
           23,
           "Amir Hadad",
           183,
           14
          ],
          [
           27,
           "Amir Weintraub",
           188,
           23
          ],
          [
           813,
           "Amos Mansdorf",
           175,
           542
          ],
          [
           0,
           "Anand Amritraj",
           185,
           291
          ],
          [
           600,
           "Anders Jarryd",
           180,
           658
          ],
          [
           4055,
           "Andre Agassi",
           180,
           1147
          ],
          [
           386,
           "Andre Sa",
           185,
           144
          ],
          [
           1012,
           "Andrea Gaudenzi",
           183,
           451
          ],
          [
           42,
           "Andrea Stoppini",
           190,
           11
          ],
          [
           459,
           "Andreas Beck",
           190,
           107
          ],
          [
           814,
           "Andreas Haider Maurer",
           190,
           124
          ],
          [
           0,
           "Andreas Maurer",
           175,
           260
          ],
          [
           3692,
           "Andreas Seppi",
           190,
           783
          ],
          [
           772,
           "Andreas Vinciguerra",
           180,
           190
          ],
          [
           656,
           "Andrei Cherkasov",
           180,
           407
          ],
          [
           881,
           "Andrei Chesnokov",
           188,
           608
          ],
          [
           2768,
           "Andrei Medvedev",
           193,
           537
          ],
          [
           16,
           "Andrei Merinov",
           183,
           16
          ],
          [
           1759,
           "Andrei Olhovskiy",
           185,
           283
          ],
          [
           2390,
           "Andrei Pavel",
           183,
           548
          ],
          [
           11,
           "Andrei Rybalko",
           180,
           24
          ],
          [
           459,
           "Andrei Stoliarov",
           178,
           95
          ],
          [
           94,
           "Andrej Martin",
           180,
           47
          ],
          [
           0,
           "Andres Gimeno",
           185,
           313
          ],
          [
           396,
           "Andres Gomez",
           193,
           806
          ],
          [
           7,
           "Andres Vysand",
           180,
           42
          ],
          [
           0,
           "Andrew Burrow",
           178,
           11
          ],
          [
           40,
           "Andrew Castle",
           190,
           78
          ],
          [
           970,
           "Andrew Ilie",
           180,
           206
          ],
          [
           0,
           "Andrew Pattison",
           188,
           546
          ],
          [
           152,
           "Andrew Richardson",
           201,
           20
          ],
          [
           128,
           "Andrew Sznajder",
           175,
           132
          ],
          [
           679,
           "Andrey Golubev",
           185,
           184
          ],
          [
           885,
           "Andrey Kuznetsov",
           185,
           177
          ],
          [
           0,
           "Andy Andrews",
           185,
           59
          ],
          [
           0,
           "Andy Kohlberg",
           178,
           51
          ],
          [
           5816,
           "Andy Murray",
           190,
           890
          ],
          [
           76,
           "Andy Ram",
           180,
           17
          ],
          [
           9040,
           "Andy Roddick",
           188,
           827
          ],
          [
           0,
           "Angel Gimenez",
           163,
           197
          ],
          [
           90,
           "Antonio Veic",
           180,
           35
          ],
          [
           1539,
           "Antony Dupuis",
           185,
           214
          ],
          [
           1555,
           "Arnaud Boetsch",
           183,
           437
          ],
          [
           3135,
           "Arnaud Clement",
           173,
           646
          ],
          [
           400,
           "Arnaud Di Pasquale",
           185,
           167
          ],
          [
           313,
           "Arne Thoms",
           188,
           58
          ],
          [
           0,
           "Arthur Ashe",
           185,
           955
          ],
          [
           271,
           "Arvind Parmar",
           193,
           45
          ],
          [
           104,
           "Attila Balazs",
           180,
           50
          ],
          [
           375,
           "Attila Savolt",
           183,
           101
          ],
          [
           155,
           "Axel Pretzsch",
           185,
           36
          ],
          [
           0,
           "Balazs Taroczy",
           183,
           671
          ],
          [
           202,
           "Barry Cowan",
           188,
           26
          ],
          [
           0,
           "Barry Mackay",
           190,
           33
          ],
          [
           0,
           "Barry Moir",
           180,
           95
          ],
          [
           0,
           "Barry Phillips Moore",
           173,
           412
          ],
          [
           35,
           "Bart Wuyts",
           178,
           117
          ],
          [
           0,
           "Belus Prajoux",
           170,
           220
          ],
          [
           95,
           "Ben Ellwood",
           178,
           18
          ],
          [
           0,
           "Ben Testerman",
           185,
           189
          ],
          [
           55,
           "Benjamin Balleret",
           185,
           55
          ],
          [
           2838,
           "Benjamin Becker",
           178,
           375
          ],
          [
           3961,
           "Benoit Paire",
           196,
           463
          ],
          [
           8,
           "Bent Ove Pedersen",
           185,
           23
          ],
          [
           0,
           "Bernard Boileau",
           185,
           104
          ],
          [
           0,
           "Bernard Fritz",
           173,
           135
          ],
          [
           0,
           "Bernard Mitton",
           188,
           426
          ],
          [
           2765,
           "Bernard Tomic",
           193,
           369
          ],
          [
           36,
           "Bernardo Mota",
           178,
           37
          ],
          [
           1542,
           "Bernd Karbacher",
           185,
           297
          ],
          [
           0,
           "Bernhard Pils",
           178,
           46
          ],
          [
           0,
           "Bill Scanlon",
           185,
           561
          ],
          [
           0,
           "Billy Martin",
           178,
           319
          ],
          [
           0,
           "Billy Nealon",
           178,
           12
          ],
          [
           10,
           "Bing Chao Lin",
           180,
           31
          ],
          [
           33,
           "Bing Pan",
           185,
           37
          ],
          [
           45,
           "Bjorn Borg",
           180,
           789
          ],
          [
           803,
           "Bjorn Phau",
           175,
           218
          ],
          [
           23,
           "Bjorn Rehnquist",
           175,
           15
          ],
          [
           0,
           "Blaine Willenborg",
           170,
           88
          ],
          [
           515,
           "Blaz Kavcic",
           188,
           148
          ],
          [
           390,
           "Bob Bryan",
           193,
           61
          ],
          [
           0,
           "Bob Carmichael",
           183,
           449
          ],
          [
           0,
           "Bob Green",
           193,
           98
          ],
          [
           0,
           "Bob Hewitt",
           190,
           402
          ],
          [
           0,
           "Bob Howe",
           183,
           31
          ],
          [
           885,
           "Bobby Reynolds",
           183,
           101
          ],
          [
           1471,
           "Bohdan Ulihrach",
           188,
           478
          ],
          [
           35,
           "Bong Soo Kim",
           180,
           39
          ],
          [
           4362,
           "Boris Becker",
           190,
           941
          ],
          [
           181,
           "Boris Pashanski",
           180,
           81
          ],
          [
           1,
           "Borut Urh",
           190,
           15
          ],
          [
           0,
           "Brad Drewett",
           185,
           406
          ],
          [
           1200,
           "Brad Gilbert",
           185,
           808
          ],
          [
           28,
           "Brad Pearce",
           175,
           120
          ],
          [
           435,
           "Bradley Klahn",
           190,
           54
          ],
          [
           21,
           "Branislav Stankovic",
           175,
           27
          ],
          [
           150,
           "Brendan Evans",
           188,
           21
          ],
          [
           57,
           "Brent Larkham",
           178,
           13
          ],
          [
           69,
           "Bret Garnett",
           185,
           27
          ],
          [
           0,
           "Brett Dickinson",
           183,
           11
          ],
          [
           1038,
           "Brett Steven",
           185,
           343
          ],
          [
           297,
           "Brian Baker",
           190,
           60
          ],
          [
           96,
           "Brian Dabul",
           170,
           42
          ],
          [
           25,
           "Brian Devening",
           185,
           11
          ],
          [
           97,
           "Brian Dunn",
           201,
           16
          ],
          [
           20,
           "Brian Garrow",
           173,
           39
          ],
          [
           0,
           "Brian Gottfried",
           183,
           1032
          ],
          [
           0,
           "Brian Levine",
           183,
           16
          ],
          [
           540,
           "Brian Macphie",
           180,
           65
          ],
          [
           0,
           "Brian Teacher",
           190,
           573
          ],
          [
           170,
           "Brian Vahaly",
           183,
           64
          ],
          [
           18,
           "Broderick Dyke",
           183,
           199
          ],
          [
           1,
           "Bruce Derlin",
           180,
           101
          ],
          [
           0,
           "Bruce Foxworth",
           180,
           25
          ],
          [
           0,
           "Bruce Kleege",
           190,
           45
          ],
          [
           0,
           "Bruce Manson",
           173,
           301
          ],
          [
           6,
           "Bruno Echagaray",
           183,
           13
          ],
          [
           5,
           "Bruno Oresar",
           175,
           133
          ],
          [
           1786,
           "Bryan Shelton",
           185,
           242
          ],
          [
           80,
           "Brydan Klein",
           183,
           14
          ],
          [
           0,
           "Bud Schultz",
           193,
           101
          ],
          [
           0,
           "Butch Seewagen",
           188,
           112
          ],
          [
           0,
           "Butch Walts",
           193,
           279
          ],
          [
           1534,
           "Byron Black",
           175,
           529
          ],
          [
           30,
           "Carl Limberger",
           170,
           110
          ],
          [
           615,
           "Carl Uwe Steeb",
           180,
           425
          ],
          [
           995,
           "Carlos Berlocq",
           183,
           330
          ],
          [
           0,
           "Carlos Castellan",
           190,
           70
          ],
          [
           1712,
           "Carlos Costa",
           183,
           456
          ],
          [
           0,
           "Carlos Di Laura",
           175,
           49
          ],
          [
           0,
           "Carlos Gattiker",
           175,
           28
          ],
          [
           0,
           "Carlos Kirmayr",
           173,
           324
          ],
          [
           4392,
           "Carlos Moya",
           190,
           900
          ],
          [
           201,
           "Carsten Arriens",
           193,
           64
          ],
          [
           236,
           "Carsten Ball",
           198,
           26
          ],
          [
           0,
           "Cary Stansbury",
           196,
           31
          ],
          [
           63,
           "Cassio Motta",
           180,
           298
          ],
          [
           459,
           "Cecil Mamiit",
           173,
           167
          ],
          [
           3687,
           "Cedric Pioline",
           188,
           708
          ],
          [
           254,
           "Cedrik Marcel Stebe",
           183,
           75
          ],
          [
           9,
           "Cesar Kist",
           180,
           24
          ],
          [
           0,
           "Charles Bud Cox",
           196,
           26
          ],
          [
           0,
           "Charles Buzz Strode",
           183,
           32
          ],
          [
           0,
           "Charlie Fancutt",
           178,
           62
          ],
          [
           0,
           "Chip Hooper",
           198,
           223
          ],
          [
           0,
           "Choon Ho Kim",
           163,
           15
          ],
          [
           73,
           "Chris Bailey",
           196,
           49
          ],
          [
           0,
           "Chris Dunk",
           193,
           50
          ],
          [
           148,
           "Chris Garner",
           180,
           62
          ],
          [
           1386,
           "Chris Guccione",
           201,
           110
          ],
          [
           0,
           "Chris Johnstone",
           175,
           99
          ],
          [
           0,
           "Chris Lewis",
           180,
           416
          ],
          [
           214,
           "Chris Pridham",
           183,
           134
          ],
          [
           333,
           "Chris Wilkinson",
           180,
           78
          ],
          [
           1255,
           "Chris Woodruff",
           188,
           216
          ],
          [
           23,
           "Christer Allgardh",
           190,
           38
          ],
          [
           472,
           "Christian Bergstrom",
           180,
           326
          ],
          [
           153,
           "Christian Miniussi",
           185,
           141
          ],
          [
           582,
           "Christian Ruud",
           188,
           270
          ],
          [
           345,
           "Christian Saceanu",
           190,
           183
          ],
          [
           200,
           "Christian Vinck",
           183,
           65
          ],
          [
           0,
           "Christo Steyn",
           185,
           96
          ],
          [
           417,
           "Christo Van Rensburg",
           185,
           326
          ],
          [
           0,
           "Christoph Zipf",
           185,
           43
          ],
          [
           0,
           "Christophe Casa",
           178,
           54
          ],
          [
           0,
           "Christophe Freyss",
           183,
           132
          ],
          [
           588,
           "Christophe Rochus",
           170,
           337
          ],
          [
           0,
           "Christophe Roger Vasselin",
           188,
           221
          ],
          [
           101,
           "Christophe Van Garsse",
           185,
           37
          ],
          [
           709,
           "Chuck Adams",
           185,
           176
          ],
          [
           0,
           "Clark Graebner",
           188,
           374
          ],
          [
           1,
           "Claude Ngoran",
           190,
           44
          ],
          [
           212,
           "Claudio Mezzadri",
           180,
           256
          ],
          [
           0,
           "Claudio Panatta",
           178,
           247
          ],
          [
           120,
           "Claudio Pistolesi",
           180,
           188
          ],
          [
           30,
           "Clement Ngoran",
           178,
           31
          ],
          [
           0,
           "Cliff Drysdale",
           188,
           581
          ],
          [
           0,
           "Cliff Richey",
           175,
           628
          ],
          [
           0,
           "Colin Dibley",
           188,
           636
          ],
          [
           0,
           "Colin Dowdeswell",
           185,
           294
          ],
          [
           14,
           "Conor Niland",
           185,
           27
          ],
          [
           0,
           "Corrado Aprili",
           190,
           20
          ],
          [
           0,
           "Corrado Barazzutti",
           178,
           566
          ],
          [
           0,
           "Craig A Miller",
           188,
           79
          ],
          [
           0,
           "Craig Campbell",
           190,
           21
          ],
          [
           0,
           "Craig Wittus",
           180,
           57
          ],
          [
           357,
           "Cristiano Caratti",
           178,
           189
          ],
          [
           1321,
           "Cyril Saulnier",
           190,
           186
          ],
          [
           2,
           "Cyril Suk",
           180,
           18
          ],
          [
           0,
           "Dacio Campos",
           185,
           16
          ],
          [
           578,
           "Damir Dzumhur",
           172,
           244
          ],
          [
           0,
           "Damir Keretic",
           178,
           219
          ],
          [
           0,
           "Dan Cassidy",
           178,
           110
          ],
          [
           0,
           "Dan Goldberg",
           185,
           11
          ],
          [
           76,
           "Dan Goldie",
           188,
           239
          ],
          [
           240,
           "Danai Udomchoke",
           173,
           131
          ],
          [
           22,
           "Danie Visser",
           180,
           221
          ],
          [
           1335,
           "Daniel Brands",
           196,
           153
          ],
          [
           95,
           "Daniel Elsner",
           183,
           35
          ],
          [
           635,
           "Daniel Evans",
           175,
           152
          ],
          [
           1221,
           "Daniel Gimeno Traver",
           185,
           270
          ],
          [
           28,
           "Daniel King Turner",
           190,
           29
          ],
          [
           86,
           "Daniel Koellerer",
           180,
           55
          ],
          [
           1429,
           "Daniel Nestor",
           190,
           205
          ],
          [
           66,
           "Daniel Orsanic",
           183,
           45
          ],
          [
           2615,
           "Daniel Vacek",
           190,
           403
          ],
          [
           621,
           "Daniele Bracciali",
           180,
           90
          ],
          [
           42,
           "Daniele Musa",
           183,
           13
          ],
          [
           149,
           "Danilo Marcelino",
           193,
           86
          ],
          [
           0,
           "Danny Saltz",
           193,
           37
          ],
          [
           98,
           "Danny Sapsford",
           173,
           50
          ],
          [
           129,
           "Darren Cahill",
           185,
           257
          ],
          [
           120,
           "Dave Randall",
           183,
           22
          ],
          [
           108,
           "David Adams",
           188,
           30
          ],
          [
           9,
           "David Caldwell",
           180,
           11
          ],
          [
           0,
           "David Carter",
           183,
           196
          ],
          [
           0,
           "David De Miguel",
           175,
           50
          ],
          [
           120,
           "David Dilucia",
           173,
           24
          ],
          [
           0,
           "David Dowlen",
           178,
           36
          ],
          [
           100,
           "David Engel",
           180,
           72
          ],
          [
           2926,
           "David Ferrer",
           175,
           1119
          ],
          [
           2433,
           "David Goffin",
           163,
           461
          ],
          [
           23,
           "David Guez",
           185,
           18
          ],
          [
           0,
           "David Lewis",
           180,
           30
          ],
          [
           1,
           "David Macpherson",
           175,
           13
          ],
          [
           0,
           "David Mustard",
           180,
           50
          ],
          [
           188,
           "David Nainkin",
           183,
           72
          ],
          [
           2030,
           "David Nalbandian",
           180,
           579
          ],
          [
           209,
           "David Pate",
           183,
           349
          ],
          [
           2691,
           "David Prinosil",
           185,
           390
          ],
          [
           390,
           "David Rikl",
           178,
           148
          ],
          [
           480,
           "David Sanchez",
           183,
           206
          ],
          [
           0,
           "David Schneider",
           185,
           120
          ],
          [
           23,
           "David Skoch",
           183,
           17
          ],
          [
           2471,
           "David Wheaton",
           193,
           423
          ],
          [
           281,
           "David Witt",
           190,
           38
          ],
          [
           2134,
           "Davide Sanguinetti",
           188,
           414
          ],
          [
           64,
           "Davide Scala",
           180,
           21
          ],
          [
           352,
           "Denis Gremelmayr",
           183,
           90
          ],
          [
           2956,
           "Denis Istomin",
           188,
           491
          ],
          [
           877,
           "Denis Kudla",
           180,
           149
          ],
          [
           0,
           "Dennis Ralston",
           188,
           191
          ],
          [
           416,
           "Dennis Van Scheppingen",
           185,
           116
          ],
          [
           0,
           "Derek Tarr",
           185,
           58
          ],
          [
           966,
           "Derrick Rostagno",
           185,
           376
          ],
          [
           927,
           "Dick Norman",
           203,
           99
          ],
          [
           0,
           "Dick Stockton",
           188,
           655
          ],
          [
           168,
           "Diego Hartfield",
           185,
           47
          ],
          [
           44,
           "Diego Junqueira",
           178,
           44
          ],
          [
           1128,
           "Diego Nargiso",
           188,
           255
          ],
          [
           114,
           "Diego Perez",
           178,
           463
          ],
          [
           689,
           "Diego Schwartzman",
           170,
           311
          ],
          [
           19,
           "Dieter Kindlmann",
           183,
           12
          ],
          [
           146,
           "Dimitri Poliakov",
           183,
           82
          ],
          [
           183,
           "Dinu Pescariu",
           185,
           96
          ],
          [
           105,
           "Dirk Dier",
           185,
           24
          ],
          [
           3219,
           "Dmitry Tursunov",
           185,
           457
          ],
          [
           2605,
           "Dominic Thiem",
           185,
           457
          ],
          [
           3181,
           "Dominik Hrbaty",
           183,
           679
          ],
          [
           89,
           "Dominik Meffert",
           198,
           13
          ],
          [
           0,
           "Dominique Bedel",
           185,
           148
          ],
          [
           0,
           "Don Mccormick",
           180,
           20
          ],
          [
           0,
           "Donald Dell",
           185,
           18
          ],
          [
           69,
           "Donald Johnson",
           190,
           23
          ],
          [
           1008,
           "Donald Young",
           183,
           315
          ],
          [
           0,
           "Dong Wook Song",
           175,
           19
          ],
          [
           0,
           "Doug Burke",
           180,
           27
          ],
          [
           0,
           "Doug Crawford",
           188,
           61
          ],
          [
           213,
           "Doug Flach",
           183,
           74
          ],
          [
           0,
           "Drew Gitlin",
           178,
           82
          ],
          [
           684,
           "Dudi Sela",
           175,
           336
          ],
          [
           1100,
           "Dusan Lajovic",
           180,
           300
          ],
          [
           193,
           "Dusan Vemic",
           190,
           37
          ],
          [
           1407,
           "Dustin Brown",
           196,
           160
          ],
          [
           0,
           "E Victor Seixas",
           185,
           16
          ],
          [
           0,
           "Earl Butch Buchholz",
           188,
           84
          ],
          [
           0,
           "Eddie Dibbs",
           170,
           859
          ],
          [
           0,
           "Eddie Edwards",
           190,
           221
          ],
          [
           72,
           "Edgardo Massa",
           180,
           24
          ],
          [
           893,
           "Edouard Roger Vasselin",
           188,
           209
          ],
          [
           6,
           "Eduardo Bengoechea",
           185,
           220
          ],
          [
           37,
           "Eduardo Masso",
           178,
           120
          ],
          [
           0,
           "Eduardo Osta",
           160,
           23
          ],
          [
           384,
           "Eduardo Schwank",
           183,
           105
          ],
          [
           137,
           "Edwin Kempes",
           188,
           29
          ],
          [
           0,
           "Egan Adams",
           178,
           31
          ],
          [
           0,
           "Eliot Teltscher",
           178,
           620
          ],
          [
           64,
           "Ellis Ferreira",
           188,
           12
          ],
          [
           37,
           "Emanuel Couto",
           183,
           36
          ],
          [
           458,
           "Emilio Benfele Alvarez",
           183,
           112
          ],
          [
           990,
           "Emilio Sanchez",
           180,
           725
          ],
          [
           0,
           "Eoin Collins",
           193,
           21
          ],
          [
           0,
           "Eric Fromm",
           178,
           136
          ],
          [
           49,
           "Eric Jelen",
           180,
           272
          ],
          [
           0,
           "Eric Korita",
           196,
           61
          ],
          [
           68,
           "Eric Prodon",
           178,
           20
          ],
          [
           141,
           "Eric Taino",
           175,
           34
          ],
          [
           22,
           "Eric Winogradsky",
           188,
           63
          ],
          [
           0,
           "Erick Iskersky",
           180,
           95
          ],
          [
           0,
           "Erik Van Dillen",
           183,
           388
          ],
          [
           4239,
           "Ernests Gulbis",
           190,
           481
          ],
          [
           0,
           "Ernie Fernandez",
           190,
           20
          ],
          [
           23,
           "Eui Jong Chang",
           183,
           25
          ],
          [
           800,
           "Evgeny Donskoy",
           185,
           165
          ],
          [
           805,
           "Evgeny Korolev",
           185,
           172
          ],
          [
           38,
           "Eyal Erlich",
           183,
           20
          ],
          [
           141,
           "Eyal Ran",
           183,
           56
          ],
          [
           2172,
           "Fabio Fognini",
           178,
           681
          ],
          [
           2609,
           "Fabrice Santoro",
           178,
           914
          ],
          [
           27,
           "Farrukh Dustov",
           196,
           37
          ],
          [
           96,
           "Federico Browne",
           180,
           31
          ],
          [
           1040,
           "Federico Delbonis",
           190,
           283
          ],
          [
           149,
           "Federico Luzzi",
           188,
           49
          ],
          [
           3,
           "Federico Mordegan",
           170,
           11
          ],
          [
           8,
           "Federico Sanchez",
           168,
           18
          ],
          [
           9733,
           "Feliciano Lopez",
           188,
           954
          ],
          [
           33,
           "Felipe Rivera",
           183,
           18
          ],
          [
           8,
           "Felix Barrientos",
           178,
           28
          ],
          [
           1494,
           "Felix Mantilla",
           180,
           533
          ],
          [
           0,
           "Ferdi Taygan",
           173,
           195
          ],
          [
           3729,
           "Fernando Gonzalez",
           183,
           577
          ],
          [
           1,
           "Fernando Luna",
           175,
           343
          ],
          [
           1344,
           "Fernando Meligeni",
           180,
           420
          ],
          [
           108,
           "Fernando Roese",
           190,
           71
          ],
          [
           5304,
           "Fernando Verdasco",
           188,
           976
          ],
          [
           1100,
           "Fernando Vicente",
           180,
           372
          ],
          [
           237,
           "Fernon Wibier",
           188,
           39
          ],
          [
           760,
           "Filip Dewulf",
           190,
           222
          ],
          [
           721,
           "Filip Krajinovic",
           185,
           163
          ],
          [
           38,
           "Filip Prpic",
           173,
           14
          ],
          [
           276,
           "Filippo Volandri",
           183,
           403
          ],
          [
           82,
           "Flavio Cipolla",
           173,
           102
          ],
          [
           580,
           "Flavio Saretta",
           183,
           157
          ],
          [
           1106,
           "Florent Serra",
           180,
           293
          ],
          [
           2034,
           "Florian Mayer",
           190,
           508
          ],
          [
           0,
           "Florin Segarceanu",
           180,
           136
          ],
          [
           5,
           "Francesco Cancellotti",
           183,
           234
          ],
          [
           1227,
           "Francisco Clavet",
           183,
           731
          ],
          [
           0,
           "Francisco Gonzalez",
           193,
           287
          ],
          [
           0,
           "Francisco Maciel",
           185,
           107
          ],
          [
           72,
           "Francisco Montana",
           183,
           54
          ],
          [
           248,
           "Francisco Roig",
           175,
           160
          ],
          [
           10,
           "Francisco Yunis",
           190,
           67
          ],
          [
           180,
           "Franco Davin",
           173,
           310
          ],
          [
           1090,
           "Franco Squillari",
           183,
           321
          ],
          [
           0,
           "Francois Jauffret",
           180,
           342
          ],
          [
           1247,
           "Frank Dancevic",
           185,
           180
          ],
          [
           0,
           "Frank Froehling",
           190,
           198
          ],
          [
           143,
           "Franko Skugor",
           193,
           31
          ],
          [
           81,
           "Frantisek Cermak",
           193,
           25
          ],
          [
           0,
           "Fred Mcnair",
           183,
           235
          ],
          [
           0,
           "Fred Stolle",
           190,
           279
          ],
          [
           82,
           "Frederic Fontang",
           183,
           88
          ],
          [
           289,
           "Frederic Niemeyer",
           190,
           45
          ],
          [
           11,
           "Frederic Vitoux",
           173,
           12
          ],
          [
           276,
           "Frederico Gil",
           178,
           143
          ],
          [
           350,
           "Frederik Fetterlein",
           190,
           110
          ],
          [
           89,
           "Frederik Nielsen",
           190,
           57
          ],
          [
           209,
           "Fredrik Jonsson",
           193,
           36
          ],
          [
           0,
           "Frew Mcmillan",
           183,
           419
          ],
          [
           0,
           "Fritz Buehning",
           196,
           235
          ],
          [
           198,
           "Gabriel Markus",
           180,
           131
          ],
          [
           29,
           "Gabriel Silberstein",
           178,
           25
          ],
          [
           72,
           "Gabriel Trifu",
           193,
           18
          ],
          [
           0,
           "Gabriel Urpi",
           173,
           110
          ],
          [
           6201,
           "Gael Monfils",
           193,
           777
          ],
          [
           1309,
           "Galo Blanco",
           173,
           297
          ],
          [
           0,
           "Gap Taik Ro",
           173,
           11
          ],
          [
           0,
           "Gary Donnelly",
           190,
           45
          ],
          [
           696,
           "Gary Muller",
           190,
           203
          ],
          [
           305,
           "Gastao Elias",
           178,
           84
          ],
          [
           418,
           "Gaston Etlis",
           185,
           86
          ],
          [
           1215,
           "Gaston Gaudio",
           175,
           468
          ],
          [
           0,
           "Gene Mayer",
           183,
           482
          ],
          [
           0,
           "Gene Scott",
           185,
           56
          ],
          [
           101,
           "Geoff Grant",
           183,
           27
          ],
          [
           0,
           "George Amaya",
           173,
           18
          ],
          [
           678,
           "George Bastl",
           183,
           143
          ],
          [
           18,
           "George Kalovelonis",
           190,
           55
          ],
          [
           0,
           "Georges Goven",
           173,
           429
          ],
          [
           0,
           "Gerald Battrick",
           178,
           330
          ],
          [
           42,
           "Gerald Mandl",
           190,
           13
          ],
          [
           196,
           "Gerard Solves",
           185,
           57
          ],
          [
           422,
           "German Lopez",
           193,
           77
          ],
          [
           55,
           "German Puentes",
           173,
           41
          ],
          [
           1518,
           "Gianluca Pozzi",
           180,
           434
          ],
          [
           0,
           "Gianni Ocleppo",
           183,
           231
          ],
          [
           176,
           "Gilad Bloom",
           173,
           215
          ],
          [
           286,
           "Gilbert Schaller",
           180,
           247
          ],
          [
           258,
           "Gilles Elseneer",
           188,
           42
          ],
          [
           0,
           "Gilles Moretton",
           190,
           155
          ],
          [
           5349,
           "Gilles Muller",
           193,
           445
          ],
          [
           3657,
           "Gilles Simon",
           183,
           867
          ],
          [
           65,
           "Giorgio Galimberti",
           180,
           30
          ],
          [
           108,
           "Giovanni Lapentti",
           193,
           56
          ],
          [
           5,
           "Girts Dzelde",
           173,
           37
          ],
          [
           0,
           "Givaldo Barbosa",
           183,
           58
          ],
          [
           116,
           "Glenn Layendecker",
           185,
           181
          ],
          [
           33,
           "Glenn Michibata",
           175,
           195
          ],
          [
           324,
           "Glenn Weiner",
           188,
           38
          ],
          [
           336,
           "Go Soeda",
           178,
           148
          ],
          [
           10131,
           "Goran Ivanisevic",
           193,
           937
          ],
          [
           308,
           "Goran Prpic",
           180,
           247
          ],
          [
           68,
           "Gouichi Motomura",
           173,
           76
          ],
          [
           0,
           "Graham Stilwell",
           173,
           263
          ],
          [
           387,
           "Grant Connell",
           185,
           175
          ],
          [
           58,
           "Grant Doyle",
           180,
           30
          ],
          [
           680,
           "Grant Stafford",
           188,
           201
          ],
          [
           0,
           "Greg Halder",
           188,
           34
          ],
          [
           0,
           "Greg Holmes",
           178,
           176
          ],
          [
           7589,
           "Greg Rusedski",
           193,
           728
          ],
          [
           0,
           "Greg Whitecross",
           185,
           45
          ],
          [
           547,
           "Grega Zemlja",
           183,
           99
          ],
          [
           198,
           "Gregoire Barrere",
           183,
           32
          ],
          [
           0,
           "Gregoire Rafaitin",
           180,
           14
          ],
          [
           960,
           "Gregory Carraz",
           190,
           89
          ],
          [
           3666,
           "Grigor Dimitrov",
           188,
           534
          ],
          [
           1202,
           "Guido Pella",
           185,
           233
          ],
          [
           1821,
           "Guillaume Raoux",
           180,
           404
          ],
          [
           313,
           "Guillaume Rufin",
           188,
           44
          ],
          [
           2152,
           "Guillermo Canas",
           185,
           450
          ],
          [
           917,
           "Guillermo Coria",
           175,
           335
          ],
          [
           2360,
           "Guillermo Garcia Lopez",
           188,
           653
          ],
          [
           160,
           "Guillermo Perez Roldan",
           178,
           378
          ],
          [
           0,
           "Guillermo Rivas",
           183,
           37
          ],
          [
           0,
           "Guillermo Vilas",
           180,
           1239
          ],
          [
           0,
           "Gustavo Giussani",
           180,
           26
          ],
          [
           0,
           "Gustavo Guerrero",
           180,
           29
          ],
          [
           4290,
           "Gustavo Kuerten",
           190,
           556
          ],
          [
           0,
           "Gustavo Tiberti",
           175,
           41
          ],
          [
           2493,
           "Guy Forget",
           190,
           672
          ],
          [
           0,
           "Hank Pfister",
           193,
           475
          ],
          [
           0,
           "Hans Dieter Beutel",
           185,
           64
          ],
          [
           0,
           "Hans Gildemeister",
           183,
           358
          ],
          [
           0,
           "Hans Peter Kandler",
           185,
           30
          ],
          [
           0,
           "Hans Schwaier",
           173,
           151
          ],
          [
           0,
           "Hans Simonsson",
           178,
           116
          ],
          [
           497,
           "Harel Levy",
           185,
           162
          ],
          [
           0,
           "Harold Solomon",
           168,
           913
          ],
          [
           0,
           "Haroon Ismail",
           178,
           82
          ],
          [
           7,
           "Harsh Mankad",
           173,
           17
          ],
          [
           0,
           "Heiner Moraing",
           190,
           11
          ],
          [
           0,
           "Heinz Gildemeister",
           178,
           30
          ],
          [
           0,
           "Heinz Gunthardt",
           180,
           455
          ],
          [
           1090,
           "Hendrik Dreekmann",
           188,
           217
          ],
          [
           124,
           "Hendrik Jan Davids",
           183,
           34
          ],
          [
           783,
           "Henri Leconte",
           185,
           648
          ],
          [
           1670,
           "Henrik Holm",
           183,
           207
          ],
          [
           0,
           "Henrik Sundstrom",
           188,
           262
          ],
          [
           25,
           "Herbert Wiltschnig",
           185,
           18
          ],
          [
           18,
           "Hermes Gamonal",
           180,
           16
          ],
          [
           633,
           "Hernan Gumy",
           188,
           245
          ],
          [
           0,
           "Herve Gauvain",
           180,
           34
          ],
          [
           1632,
           "Hicham Arazi",
           175,
           447
          ],
          [
           129,
           "Horacio De La Pena",
           180,
           370
          ],
          [
           1286,
           "Horacio Zeballos",
           188,
           224
          ],
          [
           518,
           "Horst Skoff",
           175,
           433
          ],
          [
           0,
           "Howard Sands",
           173,
           15
          ],
          [
           126,
           "Hugo Armando",
           183,
           43
          ],
          [
           0,
           "Hugo Chapacu",
           178,
           20
          ],
          [
           0,
           "Hugo Nunez",
           170,
           12
          ],
          [
           0,
           "Huub Van Boeckel",
           190,
           62
          ],
          [
           902,
           "Hyung Taik Lee",
           180,
           327
          ],
          [
           2129,
           "Igor Andreev",
           185,
           469
          ],
          [
           648,
           "Igor Kunitsyn",
           180,
           242
          ],
          [
           956,
           "Igor Sijsling",
           190,
           140
          ],
          [
           0,
           "Ilie Nastase",
           183,
           1198
          ],
          [
           349,
           "Ilija Bozoljac",
           193,
           31
          ],
          [
           621,
           "Illya Marchenko",
           185,
           148
          ],
          [
           24,
           "Ion Moldovan",
           188,
           19
          ],
          [
           550,
           "Irakli Labadze",
           188,
           134
          ],
          [
           18,
           "Ivan Baron",
           185,
           11
          ],
          [
           2051,
           "Ivan Dodig",
           183,
           258
          ],
          [
           0,
           "Ivan Kley",
           183,
           54
          ],
          [
           1701,
           "Ivan Lendl",
           188,
           1322
          ],
          [
           8108,
           "Ivan Ljubicic",
           193,
           728
          ],
          [
           55,
           "Ivan Miranda",
           175,
           59
          ],
          [
           671,
           "Ivan Navarro",
           183,
           100
          ],
          [
           6,
           "Ivaylo Traykov",
           188,
           18
          ],
          [
           670,
           "Ivo Heuberger",
           188,
           113
          ],
          [
           13653,
           "Ivo Karlovic",
           208,
           713
          ],
          [
           528,
           "Ivo Minar",
           183,
           104
          ],
          [
           0,
           "Ivo Werner",
           180,
           16
          ],
          [
           98,
           "Izak Van Der Merwe",
           196,
           32
          ],
          [
           1926,
           "Jacco Eltingh",
           188,
           274
          ],
          [
           1980,
           "Jack Sock",
           185,
           298
          ],
          [
           202,
           "Jacobo Diaz",
           173,
           90
          ],
          [
           0,
           "Jaime Fillol",
           180,
           829
          ],
          [
           392,
           "Jaime Oncins",
           196,
           171
          ],
          [
           461,
           "Jaime Yzaga",
           170,
           491
          ],
          [
           1803,
           "Jakob Hlasek",
           188,
           774
          ],
          [
           3472,
           "James Blake",
           185,
           626
          ],
          [
           760,
           "James Duckworth",
           183,
           79
          ],
          [
           27,
           "James Greenhalgh",
           183,
           16
          ],
          [
           48,
           "James Sekulov",
           180,
           22
          ],
          [
           462,
           "James Ward",
           190,
           85
          ],
          [
           202,
           "Jamie Delgado",
           178,
           46
          ],
          [
           1198,
           "Jamie Morgan",
           185,
           142
          ],
          [
           492,
           "Jan Apell",
           183,
           112
          ],
          [
           35,
           "Jan Frode Andersen",
           190,
           49
          ],
          [
           209,
           "Jan Gunnarsson",
           185,
           393
          ],
          [
           321,
           "Jan Hajek",
           180,
           114
          ],
          [
           575,
           "Jan Hernych",
           190,
           197
          ],
          [
           0,
           "Jan Kodes",
           175,
           729
          ],
          [
           829,
           "Jan Kroslak",
           188,
           172
          ],
          [
           4170,
           "Jan Michael Gambill",
           190,
           401
          ],
          [
           3386,
           "Jan Siemerink",
           183,
           547
          ],
          [
           407,
           "Jan Vacek",
           198,
           90
          ],
          [
           3452,
           "Janko Tipsarevic",
           180,
           550
          ],
          [
           546,
           "Jared Palmer",
           190,
           150
          ],
          [
           2181,
           "Jarkko Nieminen",
           185,
           761
          ],
          [
           0,
           "Jaromir Becka",
           175,
           31
          ],
          [
           6,
           "Jaroslav Bulant",
           175,
           11
          ],
          [
           0,
           "Jaroslav Navratil",
           196,
           92
          ],
          [
           2428,
           "Jason Stoltenberg",
           185,
           572
          ],
          [
           1360,
           "Javier Frana",
           185,
           324
          ],
          [
           1222,
           "Javier Sanchez",
           178,
           661
          ],
          [
           11,
           "Jay Berger",
           180,
           223
          ],
          [
           0,
           "Jay Lapidus",
           188,
           182
          ],
          [
           39,
           "Jean Francois Bachelot",
           183,
           11
          ],
          [
           0,
           "Jean Julien Rojer",
           183,
           14
          ],
          [
           479,
           "Jean Philippe Fleurian",
           185,
           263
          ],
          [
           260,
           "Jean Rene Lisnard",
           173,
           140
          ],
          [
           0,
           "Jeff Borowiak",
           193,
           584
          ],
          [
           0,
           "Jeff Klaparda",
           173,
           14
          ],
          [
           702,
           "Jeff Morrison",
           185,
           90
          ],
          [
           472,
           "Jeff Salzenstein",
           185,
           57
          ],
          [
           1817,
           "Jeff Tarango",
           180,
           534
          ],
          [
           0,
           "Jeff Turpin",
           188,
           21
          ],
          [
           811,
           "Jens Knippschild",
           190,
           117
          ],
          [
           22,
           "Jens Woehrmann",
           180,
           48
          ],
          [
           427,
           "Jeremy Bates",
           180,
           322
          ],
          [
           4583,
           "Jeremy Chardy",
           188,
           564
          ],
          [
           1557,
           "Jerome Golmard",
           188,
           289
          ],
          [
           105,
           "Jerome Haehnel",
           185,
           26
          ],
          [
           0,
           "Jerome Potier",
           180,
           146
          ],
          [
           0,
           "Jerome Vanier",
           175,
           23
          ],
          [
           1585,
           "Jerzy Janowicz",
           203,
           198
          ],
          [
           207,
           "Jesse Huta Galung",
           188,
           42
          ],
          [
           470,
           "Jesse Levine",
           175,
           95
          ],
          [
           68,
           "Jesse Witten",
           178,
           11
          ],
          [
           3,
           "Jia Ping Xia",
           165,
           40
          ],
          [
           2852,
           "Jim Courier",
           185,
           745
          ],
          [
           1240,
           "Jim Grabb",
           193,
           378
          ],
          [
           0,
           "Jim Gurfein",
           175,
           103
          ],
          [
           0,
           "Jim Mcmanus",
           175,
           271
          ],
          [
           0,
           "Jim Osborne",
           185,
           148
          ],
          [
           50,
           "Jim Pugh",
           193,
           180
          ],
          [
           136,
           "Jimmy Arias",
           175,
           511
          ],
          [
           17,
           "Jimmy Brown",
           180,
           314
          ],
          [
           140,
           "Jimmy Connors",
           178,
           1573
          ],
          [
           232,
           "Jimmy Wang",
           178,
           89
          ],
          [
           29,
           "Jimy Szymanski",
           175,
           53
          ],
          [
           0,
           "Jin Sun Yoo",
           185,
           19
          ],
          [
           0,
           "Jiri Granat",
           185,
           106
          ],
          [
           2245,
           "Jiri Novak",
           190,
           604
          ],
          [
           1104,
           "Jiri Vanek",
           185,
           190
          ],
          [
           6604,
           "Jo-Wilfried Tsonga",
           188,
           696
          ],
          [
           1723,
           "Joachim Johansson",
           198,
           133
          ],
          [
           0,
           "Joakim Nystrom",
           188,
           409
          ],
          [
           164,
           "Joao Cunha Silva",
           173,
           138
          ],
          [
           0,
           "Joao Soares",
           185,
           144
          ],
          [
           1467,
           "Joao Sousa",
           185,
           418
          ],
          [
           383,
           "Joao Souza",
           193,
           77
          ],
          [
           666,
           "Joern Renzenbrink",
           196,
           88
          ],
          [
           5,
           "Joey Rive",
           185,
           134
          ],
          [
           26,
           "Johan Anderson",
           183,
           64
          ],
          [
           31,
           "Johan Carlsson",
           183,
           132
          ],
          [
           53,
           "Johan Kriek",
           175,
           603
          ],
          [
           482,
           "Johan Van Herck",
           185,
           128
          ],
          [
           0,
           "John Alexander",
           190,
           966
          ],
          [
           0,
           "John Austin",
           193,
           105
          ],
          [
           0,
           "John Barrett",
           185,
           18
          ],
          [
           0,
           "John Bartlett",
           188,
           123
          ],
          [
           0,
           "John Feaver",
           190,
           241
          ],
          [
           90,
           "John Fitzgerald",
           183,
           473
          ],
          [
           0,
           "John Frawley",
           173,
           160
          ],
          [
           0,
           "John Hayes",
           193,
           46
          ],
          [
           12569,
           "John Isner",
           206,
           702
          ],
          [
           0,
           "John James",
           183,
           230
          ],
          [
           0,
           "John Letts",
           185,
           15
          ],
          [
           0,
           "John Lloyd",
           178,
           488
          ],
          [
           0,
           "John Mattke",
           183,
           14
          ],
          [
           514,
           "John McEnroe",
           180,
           1083
          ],
          [
           0,
           "John Mccurdy",
           188,
           23
          ],
          [
           844,
           "John Millman",
           183,
           190
          ],
          [
           0,
           "John Newcombe",
           183,
           695
          ],
          [
           7,
           "John Ross",
           185,
           76
          ],
          [
           0,
           "John Sadri",
           188,
           406
          ],
          [
           567,
           "John Van Lottum",
           185,
           162
          ],
          [
           0,
           "John Whitlinger",
           180,
           123
          ],
          [
           0,
           "Johnny Goudenbour",
           178,
           42
          ],
          [
           0,
           "Jon Levine",
           178,
           42
          ],
          [
           3085,
           "Jonas Bjorkman",
           183,
           778
          ],
          [
           492,
           "Jonas Svensson",
           188,
           465
          ],
          [
           22,
           "Jonathan Canter",
           185,
           164
          ],
          [
           54,
           "Jonathan Erlich",
           180,
           12
          ],
          [
           0,
           "Jonathan Smith",
           188,
           110
          ],
          [
           2555,
           "Jonathan Stark",
           188,
           287
          ],
          [
           107,
           "Joost Winnink",
           180,
           23
          ],
          [
           248,
           "Jordi Arrese",
           175,
           435
          ],
          [
           1265,
           "Jordi Burillo",
           188,
           222
          ],
          [
           0,
           "Jorge Bardou",
           180,
           37
          ],
          [
           1,
           "Jorge Lozano",
           180,
           81
          ],
          [
           0,
           "Jorgen Windahl",
           183,
           42
          ],
          [
           1916,
           "Jose Acasuso",
           190,
           376
          ],
          [
           16,
           "Jose Antonio Pepe Conde",
           175,
           11
          ],
          [
           0,
           "Jose Clavet",
           180,
           17
          ],
          [
           20,
           "Jose Daher",
           180,
           16
          ],
          [
           188,
           "Jose Francisco Altur",
           190,
           97
          ],
          [
           0,
           "Jose Higueras",
           178,
           701
          ],
          [
           0,
           "Jose Lopez Maeso",
           173,
           163
          ],
          [
           4,
           "Jose Luis Aparisi",
           178,
           12
          ],
          [
           0,
           "Jose Luis Clerc",
           185,
           539
          ],
          [
           0,
           "Jose Luis Damiani",
           185,
           137
          ],
          [
           13,
           "Jose Luis Noriega",
           178,
           12
          ],
          [
           0,
           "Jose Mandarino",
           173,
           67
          ],
          [
           70,
           "Jose Rubin Statham",
           183,
           47
          ],
          [
           0,
           "Josef Cihak",
           185,
           46
          ],
          [
           94,
           "Joseph Sirianni",
           175,
           21
          ],
          [
           32,
           "Joshua Eagle",
           183,
           15
          ],
          [
           171,
           "Josselin Ouanna",
           193,
           26
          ],
          [
           5,
           "Jozsef Krocsko",
           180,
           30
          ],
          [
           32,
           "Juan Aguilera",
           183,
           288
          ],
          [
           395,
           "Juan Albert Viloca Puig",
           185,
           128
          ],
          [
           373,
           "Juan Antonio Marin",
           175,
           203
          ],
          [
           0,
           "Juan Antonio Rodriguez",
           180,
           11
          ],
          [
           0,
           "Juan Avendano",
           178,
           117
          ],
          [
           458,
           "Juan Balcells",
           190,
           90
          ],
          [
           5,
           "Juan Carlos Baguena",
           183,
           21
          ],
          [
           2850,
           "Juan Carlos Ferrero",
           183,
           741
          ],
          [
           75,
           "Juan Gisbert Jr",
           198,
           17
          ],
          [
           1781,
           "Juan Ignacio Chela",
           190,
           605
          ],
          [
           4458,
           "Juan Martin del Potro",
           198,
           620
          ],
          [
           1309,
           "Juan Monaco",
           185,
           617
          ],
          [
           0,
           "Juan Nunez",
           190,
           29
          ],
          [
           41,
           "Juan Pablo Brzezicki",
           178,
           24
          ],
          [
           70,
           "Juan Pablo Guzman",
           178,
           23
          ],
          [
           0,
           "Juan Pino",
           185,
           38
          ],
          [
           483,
           "Julian Alonso",
           185,
           116
          ],
          [
           139,
           "Julian Knowle",
           188,
           43
          ],
          [
           162,
           "Julian Reister",
           188,
           48
          ],
          [
           3325,
           "Julien Benneteau",
           185,
           570
          ],
          [
           1417,
           "Julien Boutter",
           190,
           146
          ],
          [
           37,
           "Julien Varlet",
           180,
           11
          ],
          [
           0,
           "Julio Goes",
           180,
           53
          ],
          [
           34,
           "Julio Silva",
           173,
           13
          ],
          [
           3411,
           "Jurgen Melzer",
           183,
           689
          ],
          [
           244,
           "Jurgen Zopp",
           190,
           63
          ],
          [
           46,
           "Justin Bower",
           190,
           11
          ],
          [
           1854,
           "Justin Gimelstob",
           196,
           279
          ],
          [
           1913,
           "Karel Novacek",
           190,
           546
          ],
          [
           1404,
           "Karim Alami",
           185,
           352
          ],
          [
           0,
           "Karl Coombes",
           180,
           12
          ],
          [
           0,
           "Karl Meiler",
           178,
           445
          ],
          [
           1077,
           "Karol Beck",
           180,
           181
          ],
          [
           2416,
           "Karol Kucera",
           188,
           538
          ],
          [
           938,
           "Karsten Braasch",
           180,
           164
          ],
          [
           1947,
           "Kei Nishikori",
           178,
           607
          ],
          [
           0,
           "Keith Carpenter",
           188,
           13
          ],
          [
           0,
           "Keith Richardson",
           185,
           65
          ],
          [
           101,
           "Kelly Evernden",
           175,
           284
          ],
          [
           64,
           "Kelly Jones",
           185,
           133
          ],
          [
           0,
           "Kelvin Belcher",
           185,
           13
          ],
          [
           50,
           "Ken Flach",
           185,
           132
          ],
          [
           0,
           "Ken Rosewall",
           175,
           679
          ],
          [
           3956,
           "Kenneth Carlsen",
           190,
           559
          ],
          [
           715,
           "Kenny De Schepper",
           203,
           88
          ],
          [
           190,
           "Kenny Thorne",
           188,
           52
          ],
          [
           0,
           "Kent Carlsson",
           180,
           218
          ],
          [
           126,
           "Kent Kinnear",
           196,
           31
          ],
          [
           7111,
           "Kevin Anderson",
           203,
           576
          ],
          [
           500,
           "Kevin Curren",
           185,
           581
          ],
          [
           677,
           "Kevin Kim",
           180,
           141
          ],
          [
           0,
           "Kevin Moir",
           188,
           13
          ],
          [
           231,
           "Kevin Ullyett",
           178,
           55
          ],
          [
           0,
           "Khalid Outaleb",
           183,
           12
          ],
          [
           0,
           "Kim Tiilikainen",
           180,
           18
          ],
          [
           0,
           "Kim Warwick",
           183,
           558
          ],
          [
           48,
           "Kittipong Wachiramanowong",
           183,
           34
          ],
          [
           249,
           "Konstantin Kravchuk",
           190,
           38
          ],
          [
           56,
           "Konstantinos Economidis",
           188,
           44
          ],
          [
           112,
           "Kris Goossens",
           180,
           40
          ],
          [
           764,
           "Kristian Pless",
           188,
           141
          ],
          [
           1116,
           "Kristof Vliegen",
           193,
           212
          ],
          [
           2,
           "Kyu Tae Im",
           185,
           13
          ],
          [
           29,
           "Lamine Ouahab",
           185,
           39
          ],
          [
           0,
           "Larry Scott",
           188,
           19
          ],
          [
           0,
           "Larry Stefanki",
           178,
           140
          ],
          [
           89,
           "Lars Anders Wahlgren",
           193,
           73
          ],
          [
           928,
           "Lars Burgsmuller",
           183,
           242
          ],
          [
           469,
           "Lars Jonsson",
           188,
           218
          ],
          [
           74,
           "Lars Koslowski",
           188,
           45
          ],
          [
           190,
           "Lars Rehmann",
           196,
           37
          ],
          [
           729,
           "Laurence Tieleman",
           180,
           102
          ],
          [
           39,
           "Laurent Prades",
           183,
           13
          ],
          [
           0,
           "Laurie Warder",
           183,
           21
          ],
          [
           118,
           "Laurynas Grigelis",
           183,
           30
          ],
          [
           2,
           "Lawson Duncan",
           185,
           215
          ],
          [
           444,
           "Leander Paes",
           178,
           198
          ],
          [
           0,
           "Leif Shiras",
           183,
           174
          ],
          [
           0,
           "Leo Palin",
           178,
           115
          ],
          [
           219,
           "Leonardo Lavalle",
           188,
           200
          ],
          [
           2329,
           "Leonardo Mayer",
           188,
           377
          ],
          [
           6,
           "Libor Nemecek",
           168,
           31
          ],
          [
           8,
           "Libor Pimek",
           196,
           247
          ],
          [
           53,
           "Lionel Barthez",
           180,
           15
          ],
          [
           704,
           "Lionel Roux",
           185,
           193
          ],
          [
           5100,
           "Lleyton Hewitt",
           180,
           883
          ],
          [
           0,
           "Lloyd Bourne",
           190,
           159
          ],
          [
           0,
           "Loic Courteau",
           175,
           54
          ],
          [
           0,
           "Lorenzo Fargas",
           173,
           14
          ],
          [
           336,
           "Lorenzo Manta",
           190,
           41
          ],
          [
           63,
           "Louis Gloria",
           175,
           24
          ],
          [
           38,
           "Louk Sorensen",
           175,
           11
          ],
          [
           96,
           "Lovro Zovko",
           190,
           20
          ],
          [
           0,
           "Luca Bottazzi",
           170,
           19
          ],
          [
           129,
           "Lucas Arnold Ker",
           180,
           53
          ],
          [
           1873,
           "Lucas Pouille",
           185,
           240
          ],
          [
           61,
           "Luis Adrian Morejon",
           178,
           67
          ],
          [
           152,
           "Luis Herrera",
           170,
           136
          ],
          [
           1157,
           "Luis Horna",
           180,
           288
          ],
          [
           861,
           "Luiz Mattar",
           183,
           370
          ],
          [
           360,
           "Lukas Dlouhy",
           185,
           77
          ],
          [
           1363,
           "Lukas Lacko",
           185,
           244
          ],
          [
           1773,
           "Lukas Rosol",
           196,
           282
          ],
          [
           997,
           "Lukasz Kubot",
           190,
           229
          ],
          [
           145,
           "Luke Jensen",
           190,
           55
          ],
          [
           46,
           "Luke Milligan",
           180,
           12
          ],
          [
           1445,
           "Magnus Gustafsson",
           185,
           676
          ],
          [
           3078,
           "Magnus Larsson",
           193,
           542
          ],
          [
           2510,
           "Magnus Norman",
           188,
           423
          ],
          [
           0,
           "Magnus Tideman",
           193,
           49
          ],
          [
           112,
           "Mahesh Bhupathi",
           185,
           38
          ],
          [
           927,
           "Malek Jaziri",
           185,
           231
          ],
          [
           2026,
           "Malivai Washington",
           180,
           436
          ],
          [
           8,
           "Mansour Bahrami",
           178,
           94
          ],
          [
           0,
           "Manuel Orantes",
           178,
           993
          ],
          [
           5632,
           "Marat Safin",
           193,
           693
          ],
          [
           0,
           "Marc Flur",
           190,
           101
          ],
          [
           1239,
           "Marc Gicquel",
           188,
           205
          ],
          [
           3595,
           "Marc Kevin Goellner",
           196,
           355
          ],
          [
           32,
           "Marc Lopez",
           175,
           54
          ],
          [
           6153,
           "Marc Rosset",
           201,
           789
          ],
          [
           0,
           "Marcel Freeman",
           173,
           142
          ],
          [
           1832,
           "Marcel Granollers",
           190,
           453
          ],
          [
           80,
           "Marcello Craca",
           180,
           34
          ],
          [
           52,
           "Marcelo Charpentier",
           180,
           33
          ],
          [
           526,
           "Marcelo Filippini",
           178,
           501
          ],
          [
           0,
           "Marcelo Hennemann",
           170,
           16
          ],
          [
           2,
           "Marcelo Ingaramo",
           178,
           85
          ],
          [
           2508,
           "Marcelo Rios",
           175,
           589
          ],
          [
           22,
           "Marcio Carlsson",
           175,
           14
          ],
          [
           558,
           "Marco Chiudinelli",
           185,
           150
          ],
          [
           18,
           "Marco Meneschincheri",
           180,
           14
          ],
          [
           221,
           "Marcos Aurelio Gorriz",
           185,
           116
          ],
          [
           4350,
           "Marcos Baghdatis",
           183,
           624
          ],
          [
           361,
           "Marcos Daniel",
           180,
           90
          ],
          [
           0,
           "Marcos Hocevar",
           185,
           190
          ],
          [
           651,
           "Marcos Ondruska",
           183,
           265
          ],
          [
           4892,
           "Mardy Fish",
           188,
           526
          ],
          [
           124,
           "Marian Vajda",
           173,
           272
          ],
          [
           14,
           "Mariano Hood",
           178,
           11
          ],
          [
           841,
           "Mariano Puerta",
           180,
           247
          ],
          [
           1661,
           "Mariano Zabaleta",
           183,
           417
          ],
          [
           7082,
           "Marin Cilic",
           198,
           804
          ],
          [
           688,
           "Marinko Matosevic",
           194,
           159
          ],
          [
           2942,
           "Mario Ancic",
           196,
           344
          ],
          [
           0,
           "Mario Martinez",
           170,
           170
          ],
          [
           0,
           "Mario Tabares",
           180,
           38
          ],
          [
           1514,
           "Marius Copil",
           193,
           151
          ],
          [
           10,
           "Mariusz Fyrstenberg",
           193,
           14
          ],
          [
           0,
           "Mark Buckley",
           178,
           23
          ],
          [
           0,
           "Mark Dickson",
           190,
           247
          ],
          [
           0,
           "Mark Edmondson",
           185,
           504
          ],
          [
           29,
           "Mark Kaplan",
           185,
           32
          ],
          [
           53,
           "Mark Keil",
           185,
           12
          ],
          [
           270,
           "Mark Knowles",
           190,
           123
          ],
          [
           243,
           "Mark Koevermans",
           185,
           156
          ],
          [
           72,
           "Mark Kratzmann",
           178,
           156
          ],
          [
           82,
           "Mark Merklein",
           188,
           32
          ],
          [
           20,
           "Mark Nielsen",
           185,
           43
          ],
          [
           415,
           "Mark Petchey",
           183,
           109
          ],
          [
           6684,
           "Mark Philippoussis",
           196,
           522
          ],
          [
           0,
           "Mark Vines",
           170,
           32
          ],
          [
           1989,
           "Mark Woodforde",
           188,
           631
          ],
          [
           0,
           "Mark Wooldridge",
           188,
           14
          ],
          [
           0,
           "Marko Ostoja",
           175,
           230
          ],
          [
           7,
           "Marko Tkalec",
           178,
           35
          ],
          [
           0,
           "Markus Gunthardt",
           178,
           21
          ],
          [
           274,
           "Markus Hantschk",
           188,
           67
          ],
          [
           316,
           "Markus Hipfl",
           178,
           147
          ],
          [
           110,
           "Markus Naewie",
           190,
           57
          ],
          [
           0,
           "Markus Rackl",
           180,
           22
          ],
          [
           3,
           "Markus Zillner",
           178,
           14
          ],
          [
           995,
           "Markus Zoecke",
           196,
           170
          ],
          [
           501,
           "Marsel Ilhan",
           190,
           91
          ],
          [
           26,
           "Martin Blackman",
           188,
           18
          ],
          [
           2946,
           "Martin Damm",
           188,
           370
          ],
          [
           383,
           "Martin Jaite",
           178,
           480
          ],
          [
           1292,
           "Martin Klizan",
           190,
           303
          ],
          [
           59,
           "Martin Laurendeau",
           190,
           96
          ],
          [
           324,
           "Martin Lee",
           180,
           67
          ],
          [
           372,
           "Martin Rodriguez",
           178,
           56
          ],
          [
           536,
           "Martin Sinner",
           180,
           128
          ],
          [
           120,
           "Martin Strelba",
           190,
           110
          ],
          [
           43,
           "Martin Stringari",
           188,
           18
          ],
          [
           333,
           "Martin Vassallo Arguello",
           183,
           128
          ],
          [
           1505,
           "Martin Verkerk",
           196,
           130
          ],
          [
           27,
           "Martin Wostenholme",
           183,
           143
          ],
          [
           0,
           "Marty Davis",
           183,
           331
          ],
          [
           0,
           "Marty Riessen",
           185,
           695
          ],
          [
           349,
           "Marzio Martelli",
           180,
           51
          ],
          [
           35,
           "Mashiska Washington",
           180,
           16
          ],
          [
           0,
           "Massimiliano Narducci",
           185,
           45
          ],
          [
           26,
           "Massimo Cierro",
           173,
           64
          ],
          [
           28,
           "Massimo Valeri",
           185,
           12
          ],
          [
           25,
           "Mathieu Montcourt",
           183,
           15
          ],
          [
           363,
           "Mats Wilander",
           183,
           794
          ],
          [
           0,
           "Matt Anger",
           188,
           188
          ],
          [
           0,
           "Matt Doyle",
           193,
           140
          ],
          [
           0,
           "Matt Mitchell",
           180,
           171
          ],
          [
           1130,
           "Matthew Ebden",
           188,
           195
          ],
          [
           585,
           "Matthias Bachinger",
           188,
           85
          ],
          [
           152,
           "Maurice Ruah",
           178,
           92
          ],
          [
           126,
           "Mauricio Hadad",
           170,
           120
          ],
          [
           3,
           "Mauro Menezes",
           193,
           17
          ],
          [
           4052,
           "Max Mirnyi",
           196,
           487
          ],
          [
           155,
           "Maximo Gonzalez",
           175,
           90
          ],
          [
           8,
           "Mehdi Tahiri",
           183,
           29
          ],
          [
           0,
           "Mel Purcell",
           178,
           358
          ],
          [
           51,
           "Melle Van Gemerden",
           183,
           13
          ],
          [
           30,
           "Menno Oosting",
           180,
           64
          ],
          [
           1322,
           "Michael Berrer",
           193,
           233
          ],
          [
           0,
           "Michael Brown B395",
           175,
           11
          ],
          [
           3357,
           "Michael Chang",
           175,
           978
          ],
          [
           0,
           "Michael Grant",
           178,
           49
          ],
          [
           395,
           "Michael Joyce",
           180,
           113
          ],
          [
           371,
           "Michael Kohlmann",
           188,
           74
          ],
          [
           0,
           "Michael Kures",
           185,
           33
          ],
          [
           64,
           "Michael Lammer",
           185,
           31
          ],
          [
           3091,
           "Michael Llodra",
           190,
           410
          ],
          [
           0,
           "Michael Mortensen",
           188,
           29
          ],
          [
           2,
           "Michael Robertson",
           185,
           69
          ],
          [
           582,
           "Michael Russell",
           173,
           227
          ],
          [
           128,
           "Michael Ryderstedt",
           188,
           25
          ],
          [
           35,
           "Michael Sell",
           180,
           22
          ],
          [
           3452,
           "Michael Stich",
           193,
           564
          ],
          [
           5,
           "Michael Tauson",
           193,
           54
          ],
          [
           1633,
           "Michael Tebbutt",
           190,
           148
          ],
          [
           0,
           "Michael Westphal",
           190,
           194
          ],
          [
           90,
           "Michael Yani",
           185,
           17
          ],
          [
           42,
           "Michal Mertinak",
           180,
           26
          ],
          [
           604,
           "Michal Przysiezny",
           185,
           106
          ],
          [
           285,
           "Michal Tabara",
           175,
           95
          ],
          [
           577,
           "Michel Kratochvil",
           185,
           171
          ],
          [
           255,
           "Michiel Schapers",
           201,
           356
          ],
          [
           0,
           "Miguel Nido",
           180,
           43
          ],
          [
           66,
           "Miguel Tobon",
           185,
           44
          ],
          [
           172,
           "Mikael Pernfors",
           173,
           255
          ],
          [
           862,
           "Mikael Tillstrom",
           185,
           226
          ],
          [
           1,
           "Mike Bauer",
           188,
           166
          ],
          [
           0,
           "Mike Brunnberg",
           190,
           25
          ],
          [
           46,
           "Mike Bryan",
           190,
           16
          ],
          [
           0,
           "Mike Cahill",
           183,
           259
          ],
          [
           0,
           "Mike De Palmer",
           185,
           161
          ],
          [
           0,
           "Mike Estep",
           173,
           274
          ],
          [
           0,
           "Mike Fishbach",
           180,
           57
          ],
          [
           0,
           "Mike Leach",
           180,
           176
          ],
          [
           0,
           "Mike Scheidweiler",
           188,
           21
          ],
          [
           1136,
           "Mikhail Kukushkin",
           183,
           376
          ],
          [
           134,
           "Mikhail Ledovskikh",
           188,
           17
          ],
          [
           3501,
           "Mikhail Youzhny",
           183,
           922
          ],
          [
           0,
           "Milan Holecek",
           190,
           259
          ],
          [
           28,
           "Milan Srejber",
           203,
           257
          ],
          [
           76,
           "Miles Maclagan",
           180,
           15
          ],
          [
           7929,
           "Milos Raonic",
           196,
           547
          ],
          [
           0,
           "Miloslav Mecir",
           190,
           384
          ],
          [
           1626,
           "Mischa Zverev",
           190,
           333
          ],
          [
           0,
           "Modesto Tito Vazquez",
           173,
           46
          ],
          [
           96,
           "Mohamed Safwat",
           183,
           31
          ],
          [
           0,
           "Morris Skip Strode",
           193,
           43
          ],
          [
           47,
           "Morten Christensen",
           190,
           25
          ],
          [
           73,
           "Mose Navarra",
           180,
           14
          ],
          [
           156,
           "Nathan Healey",
           180,
           19
          ],
          [
           13,
           "Nduka Odizor",
           183,
           224
          ],
          [
           365,
           "Neil Borwick",
           193,
           75
          ],
          [
           3,
           "Neil Broad",
           190,
           26
          ],
          [
           4,
           "Nelson Aerts",
           188,
           37
          ],
          [
           183,
           "Nenad Zimonjic",
           190,
           38
          ],
          [
           438,
           "Neville Godwin",
           173,
           92
          ],
          [
           27,
           "Nick Brown",
           190,
           28
          ],
          [
           0,
           "Nick Fulwood",
           185,
           18
          ],
          [
           3732,
           "Nick Kyrgios",
           193,
           256
          ],
          [
           0,
           "Nick Saviano",
           180,
           364
          ],
          [
           64,
           "Nicklas Kroon",
           183,
           113
          ],
          [
           1442,
           "Nicklas Kulti",
           190,
           337
          ],
          [
           35,
           "Nicklas Utgren",
           188,
           20
          ],
          [
           5477,
           "Nicolas Almagro",
           183,
           679
          ],
          [
           108,
           "Nicolas Coutelot",
           185,
           32
          ],
          [
           263,
           "Nicolas Devilder",
           173,
           71
          ],
          [
           1856,
           "Nicolas Escude",
           185,
           304
          ],
          [
           0,
           "Nicolas Kelaidis",
           178,
           34
          ],
          [
           4081,
           "Nicolas Kiefer",
           183,
           642
          ],
          [
           2686,
           "Nicolas Lapentti",
           188,
           621
          ],
          [
           3111,
           "Nicolas Mahut",
           190,
           406
          ],
          [
           1886,
           "Nicolas Massu",
           183,
           497
          ],
          [
           731,
           "Nicolas Pereira",
           188,
           214
          ],
          [
           277,
           "Nicolas Thomann",
           183,
           39
          ],
          [
           2523,
           "Nikolay Davydenko",
           178,
           822
          ],
          [
           832,
           "Nikoloz Basilashvili",
           185,
           207
          ],
          [
           77,
           "Noam Behr",
           188,
           22
          ],
          [
           336,
           "Noam Okun",
           185,
           94
          ],
          [
           5887,
           "Novak Djokovic",
           188,
           1138
          ],
          [
           252,
           "Nuno Marques",
           190,
           157
          ],
          [
           352,
           "Oleg Ogorodov",
           193,
           113
          ],
          [
           21,
           "Oliver Fernandez",
           175,
           24
          ],
          [
           409,
           "Oliver Gross",
           185,
           128
          ],
          [
           216,
           "Oliver Marach",
           185,
           53
          ],
          [
           831,
           "Olivier Delaitre",
           170,
           309
          ],
          [
           253,
           "Olivier Mutis",
           175,
           65
          ],
          [
           332,
           "Olivier Patience",
           180,
           79
          ],
          [
           840,
           "Olivier Rochus",
           168,
           515
          ],
          [
           1,
           "Olli Rahnasto",
           183,
           51
          ],
          [
           1055,
           "Omar Camporese",
           188,
           307
          ],
          [
           0,
           "Onny Parun",
           188,
           708
          ],
          [
           302,
           "Orlin Stanoytchev",
           185,
           73
          ],
          [
           49,
           "Oscar Burrieza",
           170,
           21
          ],
          [
           455,
           "Oscar Hernandez",
           180,
           190
          ],
          [
           92,
           "Oscar Martinez",
           185,
           46
          ],
          [
           25,
           "Oscar Ortiz",
           183,
           13
          ],
          [
           27,
           "Oscar Serrano",
           173,
           19
          ],
          [
           67,
           "Ota Fukarek",
           190,
           15
          ],
          [
           0,
           "Ove Nils Bengtson",
           196,
           291
          ],
          [
           0,
           "Owen Davidson",
           185,
           185
          ],
          [
           562,
           "Pablo Andujar",
           180,
           351
          ],
          [
           126,
           "Pablo Arraya",
           180,
           359
          ],
          [
           41,
           "Pablo Campana",
           180,
           21
          ],
          [
           1432,
           "Pablo Carreno Busta",
           188,
           359
          ],
          [
           2391,
           "Pablo Cuevas",
           180,
           435
          ],
          [
           3,
           "Pablo Gonzalez",
           178,
           19
          ],
          [
           0,
           "Paolo Bertolucci",
           175,
           357
          ],
          [
           305,
           "Paolo Cane",
           180,
           268
          ],
          [
           1159,
           "Paolo Lorenzi",
           183,
           293
          ],
          [
           10,
           "Paolo Pambianco",
           190,
           15
          ],
          [
           2478,
           "Paradorn Srichaphan",
           185,
           445
          ],
          [
           0,
           "Pascal Portes",
           175,
           227
          ],
          [
           346,
           "Pat Cash",
           183,
           386
          ],
          [
           0,
           "Pat Dupre",
           190,
           382
          ],
          [
           0,
           "Patrice Beust",
           170,
           44
          ],
          [
           0,
           "Patrice Dominguez",
           173,
           335
          ],
          [
           0,
           "Patrice Hagelauer",
           188,
           12
          ],
          [
           0,
           "Patrice Kuchna",
           178,
           21
          ],
          [
           0,
           "Patricio Cornejo",
           180,
           347
          ],
          [
           0,
           "Patricio Rodriguez Chi",
           188,
           64
          ],
          [
           515,
           "Patrick Baur",
           188,
           174
          ],
          [
           727,
           "Patrick McEnroe",
           183,
           304
          ],
          [
           0,
           "Patrick Proisy",
           180,
           422
          ],
          [
           3633,
           "Patrick Rafter",
           185,
           551
          ],
          [
           160,
           "Patrik Fredriksson",
           185,
           39
          ],
          [
           937,
           "Patrik Kuhnen",
           190,
           281
          ],
          [
           82,
           "Paul Annacone",
           185,
           291
          ],
          [
           412,
           "Paul Capdeville",
           190,
           127
          ],
          [
           1,
           "Paul Chamberlin",
           178,
           124
          ],
          [
           0,
           "Paul Gerken",
           185,
           239
          ],
          [
           469,
           "Paul Goldstein",
           178,
           200
          ],
          [
           1924,
           "Paul Haarhuis",
           188,
           526
          ],
          [
           2783,
           "Paul Henri Mathieu",
           185,
           584
          ],
          [
           101,
           "Paul Kilderry",
           175,
           29
          ],
          [
           0,
           "Paul Mcnamee",
           178,
           476
          ],
          [
           0,
           "Paul Torre",
           180,
           35
          ],
          [
           3,
           "Paul Vojtischek",
           188,
           59
          ],
          [
           95,
           "Paul Wekesa",
           188,
           76
          ],
          [
           0,
           "Pavel Slozil",
           173,
           309
          ],
          [
           2,
           "Pedro Rebolledo",
           170,
           227
          ],
          [
           90,
           "Pedro Sousa",
           180,
           37
          ],
          [
           0,
           "Per Hjertquist",
           183,
           134
          ],
          [
           413,
           "Pere Riba",
           183,
           87
          ],
          [
           8689,
           "Pete Sampras",
           185,
           996
          ],
          [
           0,
           "Peter Bastiansen",
           193,
           38
          ],
          [
           0,
           "Peter Burwash",
           175,
           22
          ],
          [
           0,
           "Peter Carlsson",
           183,
           32
          ],
          [
           0,
           "Peter Carter",
           180,
           22
          ],
          [
           0,
           "Peter Clarke",
           188,
           11
          ],
          [
           8,
           "Peter Doohan",
           190,
           132
          ],
          [
           0,
           "Peter Elter",
           178,
           214
          ],
          [
           0,
           "Peter Feigl",
           183,
           252
          ],
          [
           0,
           "Peter Fleming",
           196,
           437
          ],
          [
           940,
           "Peter Gojowczyk",
           185,
           134
          ],
          [
           0,
           "Peter Johnston",
           178,
           18
          ],
          [
           0,
           "Peter Lindgren",
           175,
           22
          ],
          [
           639,
           "Peter Luczak",
           183,
           130
          ],
          [
           285,
           "Peter Lundgren",
           185,
           255
          ],
          [
           0,
           "Peter Mcnamara",
           185,
           343
          ],
          [
           66,
           "Peter Moraing",
           193,
           25
          ],
          [
           51,
           "Peter Nyborg",
           190,
           14
          ],
          [
           220,
           "Peter Polansky",
           180,
           64
          ],
          [
           0,
           "Peter Rennert",
           185,
           111
          ],
          [
           103,
           "Peter Tramacchi",
           185,
           21
          ],
          [
           902,
           "Peter Wessels",
           196,
           105
          ],
          [
           0,
           "Peter Wright",
           185,
           16
          ],
          [
           2223,
           "Petr Korda",
           190,
           664
          ],
          [
           52,
           "Petr Luxa",
           190,
           21
          ],
          [
           0,
           "Phil Dent",
           183,
           722
          ],
          [
           19,
           "Philip Bester",
           188,
           11
          ],
          [
           0,
           "Philip Johnson",
           173,
           23
          ],
          [
           4591,
           "Philipp Kohlschreiber",
           178,
           862
          ],
          [
           1378,
           "Philipp Petzschner",
           185,
           196
          ],
          [
           21,
           "Philippe Pech",
           180,
           16
          ],
          [
           37,
           "Phillip King",
           175,
           15
          ],
          [
           1652,
           "Pierre Hugues Herbert",
           188,
           192
          ],
          [
           36,
           "Piet Norval",
           185,
           16
          ],
          [
           0,
           "Pieter Aldrich",
           180,
           76
          ],
          [
           848,
           "Potito Starace",
           188,
           355
          ],
          [
           147,
           "Prakash Amritraj",
           188,
           53
          ],
          [
           4112,
           "Radek Stepanek",
           185,
           691
          ],
          [
           198,
           "Radomir Vasek",
           188,
           60
          ],
          [
           1463,
           "Raemon Sluiter",
           185,
           221
          ],
          [
           3630,
           "Rafael Nadal",
           185,
           1221
          ],
          [
           2121,
           "Rainer Schuettler",
           180,
           668
          ],
          [
           1137,
           "Rajeev Ram",
           193,
           151
          ],
          [
           0,
           "Ramayah Ramachandran",
           160,
           17
          ],
          [
           25,
           "Ramesh Krishnan",
           170,
           616
          ],
          [
           1095,
           "Ramon Delgado",
           185,
           219
          ],
          [
           0,
           "Randy Crawford",
           188,
           22
          ],
          [
           0,
           "Randy Nixon",
           193,
           12
          ],
          [
           4,
           "Raul Antonio Viver",
           190,
           94
          ],
          [
           0,
           "Raul Ramirez",
           183,
           825
          ],
          [
           47,
           "Raven Klaasen",
           180,
           12
          ],
          [
           0,
           "Raymond Moore",
           183,
           684
          ],
          [
           141,
           "Razvan Sabau",
           185,
           78
          ],
          [
           70,
           "Reda El Amrani",
           185,
           17
          ],
          [
           0,
           "Rejean Genois",
           175,
           45
          ],
          [
           1253,
           "Renzo Furlan",
           175,
           466
          ],
          [
           963,
           "Ricardas Berankis",
           175,
           230
          ],
          [
           0,
           "Ricardo Acuna",
           175,
           189
          ],
          [
           0,
           "Ricardo Cano",
           170,
           313
          ],
          [
           351,
           "Ricardo Mello",
           175,
           154
          ],
          [
           0,
           "Ricardo Ycaza",
           183,
           181
          ],
          [
           163,
           "Richard Bloomfield",
           185,
           16
          ],
          [
           3687,
           "Richard Fromberg",
           196,
           546
          ],
          [
           4700,
           "Richard Gasquet",
           185,
           887
          ],
          [
           7648,
           "Richard Krajicek",
           196,
           635
          ],
          [
           98,
           "Richard Matuszewski",
           188,
           134
          ],
          [
           0,
           "Richard Meyer",
           183,
           119
          ],
          [
           0,
           "Richard Pancho Gonzales",
           188,
           180
          ],
          [
           12,
           "Richard Schmidt",
           185,
           13
          ],
          [
           28,
           "Richard Vogel",
           193,
           12
          ],
          [
           1821,
           "Richey Reneberg",
           180,
           572
          ],
          [
           0,
           "Rick Fagel",
           180,
           147
          ],
          [
           70,
           "Rick Leach",
           188,
           79
          ],
          [
           0,
           "Ricki Osterthun",
           185,
           139
          ],
          [
           0,
           "Ricky Brown",
           178,
           21
          ],
          [
           226,
           "Rik De Voest",
           180,
           88
          ],
          [
           19,
           "Rikard Bergh",
           188,
           14
          ],
          [
           23,
           "Robbie Koenig",
           173,
           14
          ],
          [
           0,
           "Robbie Venter",
           180,
           26
          ],
          [
           208,
           "Robbie Weiss",
           183,
           127
          ],
          [
           2197,
           "Robby Ginepri",
           183,
           393
          ],
          [
           57,
           "Robert Farah",
           193,
           13
          ],
          [
           1082,
           "Robert Kendrick",
           190,
           113
          ],
          [
           0,
           "Robert Lutz",
           180,
           689
          ],
          [
           0,
           "Robert Maud",
           180,
           216
          ],
          [
           0,
           "Robert Reininger",
           185,
           54
          ],
          [
           4,
           "Robert Seguso",
           190,
           181
          ],
          [
           0,
           "Robert Trogolo",
           180,
           26
          ],
          [
           0,
           "Robert Vant Hof",
           193,
           188
          ],
          [
           0,
           "Roberto Arguello",
           173,
           145
          ],
          [
           120,
           "Roberto Azar",
           185,
           139
          ],
          [
           1528,
           "Roberto Bautista Agut",
           183,
           493
          ],
          [
           90,
           "Roberto Carretero",
           178,
           68
          ],
          [
           86,
           "Roberto Jabali",
           190,
           34
          ],
          [
           0,
           "Roberto Saad",
           185,
           43
          ],
          [
           0,
           "Roberto Vizcaino",
           178,
           55
          ],
          [
           3090,
           "Robin Haase",
           190,
           495
          ],
          [
           3868,
           "Robin Soderling",
           193,
           482
          ],
          [
           215,
           "Robin Vik",
           183,
           58
          ],
          [
           0,
           "Rod Frawley",
           185,
           243
          ],
          [
           0,
           "Rod Laver",
           173,
           609
          ],
          [
           0,
           "Rodney Harmon",
           188,
           76
          ],
          [
           768,
           "Rodolphe Gilbert",
           183,
           183
          ],
          [
           11311,
           "Roger Federer",
           185,
           1525
          ],
          [
           17,
           "Roger Rasheed",
           183,
           11
          ],
          [
           65,
           "Roger Smith",
           185,
           116
          ],
          [
           292,
           "Rogerio Dutra Silva",
           178,
           95
          ],
          [
           56,
           "Rogier Wassen",
           190,
           17
          ],
          [
           237,
           "Rohan Bopanna",
           190,
           48
          ],
          [
           208,
           "Roko Karanusic",
           183,
           57
          ],
          [
           0,
           "Roland Stadler",
           178,
           160
          ],
          [
           0,
           "Rolf Gehring",
           185,
           268
          ],
          [
           0,
           "Rolf Thung",
           190,
           98
          ],
          [
           0,
           "Ron Hightower",
           185,
           27
          ],
          [
           0,
           "Ron Holmberg",
           185,
           65
          ],
          [
           630,
           "Ronald Agenor",
           180,
           484
          ],
          [
           0,
           "Ronnie Bathman",
           183,
           35
          ],
          [
           0,
           "Roscoe Tanner",
           183,
           896
          ],
          [
           0,
           "Roy Barth",
           175,
           155
          ],
          [
           0,
           "Roy Emerson",
           183,
           357
          ],
          [
           596,
           "Ruben Ramirez Hidalgo",
           183,
           201
          ],
          [
           82,
           "Rui Machado",
           178,
           82
          ],
          [
           0,
           "Russell Barlow",
           173,
           12
          ],
          [
           0,
           "Russell Simpson",
           188,
           358
          ],
          [
           1909,
           "Ryan Harrison",
           183,
           278
          ],
          [
           390,
           "Ryan Sweeting",
           196,
           92
          ],
          [
           23,
           "Salvador Navarro",
           180,
           11
          ],
          [
           8356,
           "Sam Querrey",
           198,
           676
          ],
          [
           75,
           "Sam Warburg",
           190,
           15
          ],
          [
           0,
           "Sammy Giammalva Jr",
           178,
           327
          ],
          [
           35,
           "Sander Groen",
           190,
           13
          ],
          [
           1445,
           "Sandon Stolle",
           193,
           221
          ],
          [
           284,
           "Sandor Noszaly",
           193,
           83
          ],
          [
           0,
           "Sandy Mayer",
           178,
           548
          ],
          [
           1258,
           "Santiago Giraldo",
           188,
           372
          ],
          [
           27,
           "Santiago Gonzalez",
           190,
           22
          ],
          [
           361,
           "Santiago Ventura",
           183,
           97
          ],
          [
           1466,
           "Sargis Sargsian",
           180,
           366
          ],
          [
           49,
           "Sasa Hirszon",
           185,
           35
          ],
          [
           0,
           "Sashi Menon",
           180,
           295
          ],
          [
           36,
           "Satoshi Iwabuchi",
           175,
           23
          ],
          [
           125,
           "Scott Davis",
           188,
           404
          ],
          [
           1535,
           "Scott Draper",
           178,
           237
          ],
          [
           88,
           "Scott Humphries",
           185,
           15
          ],
          [
           0,
           "Scott Mccain",
           180,
           69
          ],
          [
           131,
           "Scoville Jenkins",
           188,
           21
          ],
          [
           0,
           "Sean Brawley",
           178,
           11
          ],
          [
           48,
           "Sebastian Prieto",
           180,
           16
          ],
          [
           186,
           "Sebastien De Chaunac",
           183,
           33
          ],
          [
           3098,
           "Sebastien Grosjean",
           175,
           590
          ],
          [
           1269,
           "Sebastien Lareau",
           183,
           238
          ],
          [
           2181,
           "Sergi Bruguera",
           188,
           719
          ],
          [
           12,
           "Sergio Casal",
           185,
           273
          ],
          [
           14,
           "Sergio Cortes",
           170,
           44
          ],
          [
           241,
           "Sergio Roitman",
           185,
           87
          ],
          [
           2308,
           "Sergiy Stakhovsky",
           193,
           382
          ],
          [
           6,
           "Shahar Perkiss",
           193,
           113
          ],
          [
           0,
           "Shane Barr",
           193,
           23
          ],
          [
           15,
           "Shao Xuan Zeng",
           185,
           15
          ],
          [
           0,
           "Sherwood Stewart",
           188,
           391
          ],
          [
           0,
           "Shlomo Glickstein",
           188,
           350
          ],
          [
           1523,
           "Shuzo Matsuoka",
           185,
           313
          ],
          [
           438,
           "Simon Greul",
           185,
           117
          ],
          [
           71,
           "Simon Larose",
           190,
           30
          ],
          [
           43,
           "Simon Stadler",
           183,
           16
          ],
          [
           314,
           "Simon Youl",
           185,
           234
          ],
          [
           1140,
           "Simone Bolelli",
           183,
           291
          ],
          [
           0,
           "Simone Colombo",
           180,
           89
          ],
          [
           5,
           "Simone Vagnozzi",
           173,
           11
          ],
          [
           2016,
           "Sjeng Schalken",
           193,
           562
          ],
          [
           955,
           "Slava Dosedel",
           183,
           390
          ],
          [
           109,
           "Slobodan Zivojinovic",
           198,
           296
          ],
          [
           449,
           "Somdev Devvarman",
           180,
           144
          ],
          [
           0,
           "Srinivasan Vasudevan",
           190,
           14
          ],
          [
           0,
           "Stan Smith",
           193,
           983
          ],
          [
           5819,
           "Stan Wawrinka",
           183,
           842
          ],
          [
           0,
           "Stanislav Birner",
           170,
           184
          ],
          [
           1405,
           "Stefan Edberg",
           188,
           1077
          ],
          [
           1,
           "Stefan Eriksson",
           193,
           53
          ],
          [
           1517,
           "Stefan Koubek",
           175,
           469
          ],
          [
           0,
           "Stefan Simonsson",
           175,
           225
          ],
          [
           0,
           "Stefan Svensson",
           185,
           16
          ],
          [
           144,
           "Stefano Galvani",
           178,
           55
          ],
          [
           1034,
           "Stefano Pescosolido",
           185,
           268
          ],
          [
           135,
           "Stephane Bohli",
           185,
           27
          ],
          [
           0,
           "Stephane Bonneau",
           188,
           29
          ],
          [
           316,
           "Stephane Huet",
           180,
           53
          ],
          [
           439,
           "Stephane Robert",
           185,
           113
          ],
          [
           619,
           "Stephane Simian",
           193,
           125
          ],
          [
           150,
           "Steve Bryan",
           178,
           106
          ],
          [
           260,
           "Steve Campbell",
           183,
           86
          ],
          [
           927,
           "Steve Darcis",
           178,
           256
          ],
          [
           0,
           "Steve Denton",
           188,
           226
          ],
          [
           13,
           "Steve Devries",
           180,
           18
          ],
          [
           4,
           "Steve Guy",
           188,
           56
          ],
          [
           2785,
           "Steve Johnson",
           188,
           341
          ],
          [
           0,
           "Steve Krulevitz",
           175,
           329
          ],
          [
           0,
           "Steve Meister",
           193,
           93
          ],
          [
           0,
           "Steve Shaw",
           190,
           71
          ],
          [
           23,
           "Steven Downs",
           183,
           12
          ],
          [
           0,
           "Stian Boretti",
           188,
           25
          ],
          [
           0,
           "Stuart Bale",
           185,
           23
          ],
          [
           10,
           "Sule Ladipo",
           180,
           22
          ],
          [
           13,
           "Suwandi Suwandi",
           178,
           53
          ],
          [
           0,
           "Syd Ball",
           188,
           267
          ],
          [
           491,
           "Takao Suzuki",
           175,
           96
          ],
          [
           39,
           "Tamer El Sawy",
           188,
           42
          ],
          [
           0,
           "Tarek El Sakka",
           180,
           28
          ],
          [
           69,
           "Tarik Benhabiles",
           175,
           176
          ],
          [
           358,
           "Tatsuma Ito",
           180,
           102
          ],
          [
           2129,
           "Taylor Dent",
           188,
           293
          ],
          [
           0,
           "Terry Addison",
           180,
           149
          ],
          [
           0,
           "Terry Moor",
           178,
           469
          ],
          [
           0,
           "Terry Rocavert",
           180,
           99
          ],
          [
           1388,
           "Teymuraz Gabashvili",
           188,
           316
          ],
          [
           81,
           "Thiago Alves",
           178,
           34
          ],
          [
           1149,
           "Thiemo De Bakker",
           193,
           164
          ],
          [
           272,
           "Thierry Ascione",
           188,
           76
          ],
          [
           254,
           "Thierry Champion",
           183,
           266
          ],
          [
           189,
           "Thierry Guardiola",
           188,
           59
          ],
          [
           0,
           "Thierry Pham",
           178,
           14
          ],
          [
           5,
           "Thierry Tulasne",
           178,
           451
          ],
          [
           56,
           "Thomas Buchmayer",
           185,
           25
          ],
          [
           5417,
           "Thomas Enqvist",
           190,
           750
          ],
          [
           47,
           "Thomas Gollwitzer",
           178,
           12
          ],
          [
           0,
           "Thomas Haldin",
           185,
           13
          ],
          [
           227,
           "Thomas Hogstedt",
           190,
           243
          ],
          [
           5113,
           "Thomas Johansson",
           180,
           658
          ],
          [
           1813,
           "Thomas Muster",
           180,
           905
          ],
          [
           17,
           "Thomas Schiessling",
           180,
           13
          ],
          [
           2333,
           "Thomaz Bellucci",
           188,
           420
          ],
          [
           13,
           "Ti Chen",
           183,
           35
          ],
          [
           0,
           "Tim Gullikson",
           180,
           497
          ],
          [
           4306,
           "Tim Henman",
           185,
           775
          ],
          [
           181,
           "Tim Mayotte",
           190,
           545
          ],
          [
           571,
           "Tim Smyczek",
           175,
           128
          ],
          [
           0,
           "Tim Wilkison",
           180,
           592
          ],
          [
           0,
           "Timo Nieminen",
           185,
           12
          ],
          [
           329,
           "Tobias Kamke",
           180,
           166
          ],
          [
           0,
           "Tobias Svantesson",
           193,
           34
          ],
          [
           31,
           "Todd Larkham",
           178,
           17
          ],
          [
           5663,
           "Todd Martin",
           198,
           649
          ],
          [
           57,
           "Todd Nelson",
           185,
           143
          ],
          [
           115,
           "Todd Reid",
           180,
           36
          ],
          [
           180,
           "Todd Witsken",
           183,
           250
          ],
          [
           1224,
           "Todd Woodbridge",
           178,
           482
          ],
          [
           0,
           "Tom Cain",
           185,
           112
          ],
          [
           0,
           "Tom Edlefsen",
           188,
           192
          ],
          [
           0,
           "Tom Gorman",
           180,
           639
          ],
          [
           0,
           "Tom Gullikson",
           180,
           443
          ],
          [
           0,
           "Tom Leonard",
           175,
           174
          ],
          [
           184,
           "Tom Nijssen",
           175,
           129
          ],
          [
           0,
           "Tom Okker",
           178,
           840
          ],
          [
           12,
           "Tomas Anzari",
           180,
           15
          ],
          [
           440,
           "Tomas Behrend",
           193,
           116
          ],
          [
           7195,
           "Tomas Berdych",
           196,
           987
          ],
          [
           69,
           "Tomas Cakl",
           178,
           12
          ],
          [
           824,
           "Tomas Carbonell",
           178,
           417
          ],
          [
           261,
           "Tomas Nydahl",
           185,
           97
          ],
          [
           0,
           "Tomas Smid",
           190,
           860
          ],
          [
           479,
           "Tomas Zib",
           178,
           140
          ],
          [
           0,
           "Tomm Warneke",
           193,
           23
          ],
          [
           5893,
           "Tommy Haas",
           188,
           919
          ],
          [
           362,
           "Tommy Ho",
           183,
           102
          ],
          [
           3230,
           "Tommy Robredo",
           180,
           895
          ],
          [
           0,
           "Tony Giammalva",
           190,
           132
          ],
          [
           0,
           "Tony Mmoh",
           178,
           49
          ],
          [
           0,
           "Tony Roche",
           178,
           443
          ],
          [
           0,
           "Tore Meinecke",
           180,
           91
          ],
          [
           0,
           "Toru Yonezawa",
           188,
           11
          ],
          [
           0,
           "Treat Conrad Huey",
           178,
           16
          ],
          [
           0,
           "Trevor Allan",
           178,
           57
          ],
          [
           0,
           "Trey Waltke",
           173,
           298
          ],
          [
           0,
           "Tsuyoshi Fukui",
           170,
           76
          ],
          [
           203,
           "Tuomas Ketola",
           185,
           75
          ],
          [
           118,
           "Udo Riglewski",
           185,
           122
          ],
          [
           2,
           "Ulf Stenlund",
           180,
           96
          ],
          [
           20,
           "Vaclav Roubicek",
           185,
           15
          ],
          [
           41,
           "Vadim Kutsenko",
           180,
           43
          ],
          [
           0,
           "Vallis Wilder",
           190,
           13
          ],
          [
           0,
           "Van Winitsky",
           185,
           240
          ],
          [
           2505,
           "Vasek Pospisil",
           193,
           275
          ],
          [
           3,
           "Vasilis Mazarakis",
           178,
           19
          ],
          [
           65,
           "Veli Paloheimo",
           183,
           110
          ],
          [
           0,
           "Victor Amaya",
           201,
           362
          ],
          [
           143,
           "Victor Crivoi",
           185,
           53
          ],
          [
           390,
           "Victor Estrella",
           173,
           159
          ],
          [
           1986,
           "Victor Hanescu",
           198,
           445
          ],
          [
           0,
           "Victor Pecci",
           193,
           624
          ],
          [
           0,
           "Vijay Amritraj",
           193,
           721
          ],
          [
           4195,
           "Viktor Troicki",
           193,
           567
          ],
          [
           36,
           "Ville Liukko",
           173,
           31
          ],
          [
           122,
           "Vincent Millot",
           173,
           30
          ],
          [
           2338,
           "Vincent Spadea",
           183,
           671
          ],
          [
           0,
           "Vincent Van Patten",
           180,
           232
          ],
          [
           182,
           "Vincenzo Santopadre",
           183,
           46
          ],
          [
           0,
           "Vitas Gerulaitis",
           183,
           769
          ],
          [
           20,
           "Vladimir Gabrichidze",
           175,
           12
          ],
          [
           696,
           "Vladimir Voltchkov",
           180,
           165
          ],
          [
           130,
           "Wade Mcguire",
           188,
           27
          ],
          [
           995,
           "Wally Masur",
           180,
           615
          ],
          [
           4341,
           "Wayne Arthurs",
           190,
           294
          ],
          [
           373,
           "Wayne Black",
           170,
           185
          ],
          [
           5566,
           "Wayne Ferreira",
           185,
           843
          ],
          [
           0,
           "Wayne Hampson",
           183,
           41
          ],
          [
           518,
           "Wayne Odesnik",
           180,
           101
          ],
          [
           277,
           "Werner Eschauer",
           188,
           56
          ],
          [
           1208,
           "Wesley Moodie",
           196,
           128
          ],
          [
           90,
           "Wesley Whitehouse",
           190,
           11
          ],
          [
           0,
           "Wilhelm Bungert",
           188,
           87
          ],
          [
           0,
           "Wojtek Fibak",
           183,
           860
          ],
          [
           89,
           "Wojtek Kowalski",
           183,
           43
          ],
          [
           0,
           "Wolfgang Popp",
           183,
           111
          ],
          [
           89,
           "Wolfgang Schranz",
           178,
           23
          ],
          [
           0,
           "Woody Blocher",
           173,
           37
          ],
          [
           24,
           "Woong Sun Jun",
           190,
           22
          ],
          [
           99,
           "Xavier Daufresne",
           193,
           47
          ],
          [
           3722,
           "Xavier Malisse",
           185,
           568
          ],
          [
           44,
           "Yahiya Doumbia",
           185,
           81
          ],
          [
           84,
           "Yannick Noah",
           193,
           696
          ],
          [
           23,
           "Yasufumi Yamamoto",
           175,
           28
          ],
          [
           1546,
           "Yen Hsun Lu",
           180,
           390
          ],
          [
           4706,
           "Yevgeny Kafelnikov",
           190,
           920
          ],
          [
           38,
           "Yong Il Yoon",
           175,
           40
          ],
          [
           3108,
           "Younes El Aynaoui",
           193,
           502
          ],
          [
           0,
           "Young Dae Jeon",
           183,
           13
          ],
          [
           479,
           "Yuichi Sugita",
           173,
           138
          ],
          [
           92,
           "Yuki Bhambri",
           183,
           55
          ],
          [
           84,
           "Yuri Schukin",
           188,
           36
          ],
          [
           68,
           "Yves Allegro",
           183,
           15
          ],
          [
           138,
           "Zack Fleishman",
           188,
           24
          ],
          [
           0,
           "Zeeshan Ali",
           180,
           20
          ],
          [
           95,
           "Zeljko Krajan",
           178,
           37
          ],
          [
           0,
           "Zoltan Kuharszky",
           183,
           117
          ]
         ],
         "hoverlabel": {
          "namelength": 0
         },
         "hovertemplate": "player_ht=%{customdata[2]}<br>Aces_Per_Match=%{marker.color}<br>aces=%{customdata[0]}<br>player_name=%{customdata[1]}<br>Matches_Played=%{customdata[3]}",
         "legendgroup": "",
         "marker": {
          "color": [
           1.5237366003062787,
           1.24,
           2.1707317073170733,
           4.661363636363636,
           0,
           1.9166666666666667,
           5.080128205128205,
           0,
           6.639097744360902,
           0.5769230769230769,
           0,
           3.9295774647887325,
           0.3670886075949367,
           0,
           0,
           1.7333333333333334,
           18.857142857142858,
           3.52,
           3.3338368580060425,
           3.3161764705882355,
           4.064705882352941,
           3.45021645021645,
           1.5857740585774058,
           1.286231884057971,
           2.0061475409836067,
           0,
           0.6666666666666666,
           0,
           3.0141342756183747,
           0,
           0,
           2,
           2.8076923076923075,
           0,
           3.5483870967741935,
           3.5660377358490565,
           2.1195219123505975,
           4.680851063829787,
           2.1797752808988764,
           5.904494382022472,
           3.6099585062240664,
           2.088235294117647,
           7.333333333333333,
           1.8703703703703705,
           4.434782608695652,
           10.104166666666666,
           0,
           6.3,
           4.136094674556213,
           3.73972602739726,
           4.409090909090909,
           4.818181818181818,
           3.377224199288256,
           10.282608695652174,
           8.186486486486487,
           0,
           7.439716312056738,
           0.14285714285714285,
           6.0606060606060606,
           0,
           1.1724137931034482,
           8.03921568627451,
           3.3846153846153846,
           0,
           0,
           9.067415730337078,
           1.6428571428571428,
           1.173913043478261,
           1.5,
           0,
           0.9118541033434651,
           3.5353095030514385,
           2.6805555555555554,
           2.2439024390243905,
           3.8181818181818183,
           4.289719626168225,
           6.564516129032258,
           0,
           4.715197956577267,
           4.063157894736842,
           1.6117936117936118,
           1.449013157894737,
           5.154562383612663,
           1,
           6.215547703180212,
           4.361313868613139,
           0.4583333333333333,
           4.831578947368421,
           2,
           0,
           0.4913151364764268,
           0.16666666666666666,
           0,
           0.5128205128205128,
           4.70873786407767,
           0,
           7.6,
           0.9696969696969697,
           3.6902173913043477,
           5,
           0,
           0,
           6.534831460674157,
           4.470588235294118,
           10.931076178960097,
           0,
           2.5714285714285716,
           7.191588785046729,
           3.5583524027459954,
           4.852941176470588,
           2.395209580838323,
           5.396551724137931,
           0,
           6.022222222222222,
           2.08,
           3.712871287128713,
           4.305555555555555,
           0,
           7.769230769230769,
           0,
           0,
           0,
           0.29914529914529914,
           0,
           5.277777777777778,
           0,
           1,
           7.568,
           8.555075593952484,
           0.34782608695652173,
           0,
           0,
           0,
           7.493224932249323,
           0.972972972972973,
           5.191919191919192,
           0,
           0,
           0,
           0,
           0.3225806451612903,
           0.8918918918918919,
           0.057034220532319393,
           3.68348623853211,
           1.5333333333333334,
           0,
           3.47972972972973,
           6.39344262295082,
           0,
           0,
           0,
           0,
           8.762376237623762,
           3.077405857740586,
           0.8974358974358975,
           4.635494155154092,
           2.234567901234568,
           0.06666666666666667,
           0,
           1.4851485148514851,
           0.23333333333333334,
           8.055555555555555,
           0.7777777777777778,
           7.142857142857143,
           4.384615384615385,
           2.5555555555555554,
           0,
           3.0262390670553936,
           4.95,
           2.2857142857142856,
           2.272727272727273,
           6.0625,
           0.5128205128205128,
           0,
           0,
           8.307692307692308,
           0,
           2.65625,
           0.09045226130653267,
           0.009900990099009901,
           0,
           0,
           0,
           0.46153846153846156,
           0.03759398496240601,
           7.380165289256198,
           5.714285714285714,
           0,
           0,
           0,
           2.899810964083176,
           0.2727272727272727,
           1.4470588235294117,
           3.015151515151515,
           0,
           3.754385964912281,
           0,
           0,
           0,
           4.88,
           3.140625,
           9.076923076923077,
           0,
           0.21140939597315436,
           2.748502994011976,
           5.2076271186440675,
           3.3866666666666667,
           0.375,
           0,
           0,
           0,
           0,
           0,
           1.489795918367347,
           0,
           2.3870967741935485,
           12.6,
           0,
           0,
           1.5970149253731343,
           4.269230769230769,
           5.810185185185185,
           0.6052631578947368,
           1.4478527607361964,
           1.0851063829787233,
           2.1555555555555554,
           1.8852459016393444,
           3.076923076923077,
           0,
           1.2791411042944785,
           0,
           0,
           0,
           1.7448071216617211,
           0,
           2.72972972972973,
           4.028409090909091,
           0,
           0.022727272727272728,
           0.828125,
           0,
           0.6382978723404256,
           0.967741935483871,
           0,
           0,
           0,
           0,
           0.5185185185185185,
           0,
           0,
           0,
           0,
           0,
           1.8888888888888888,
           7.102150537634409,
           0.1111111111111111,
           0,
           2.3688524590163933,
           0,
           0,
           0,
           0.3179916317991632,
           1.83206106870229,
           0.09954751131221719,
           8.72549019607843,
           2.7142857142857144,
           4.177631578947368,
           4.522222222222222,
           0.9655172413793104,
           1.5636363636363637,
           6.970731707317073,
           1.4666666666666666,
           6.488833746898263,
           6.9,
           3.230769230769231,
           1.7325581395348837,
           0,
           1.96,
           0.5019455252918288,
           5.454545454545454,
           3.6,
           0.8181818181818182,
           0,
           0,
           5,
           0,
           1.3888888888888888,
           2.614834673815907,
           5.27765726681128,
           1.2777777777777777,
           0,
           0.07692307692307693,
           0,
           2.611111111111111,
           3.5060449050086357,
           0.5988538681948424,
           6.9,
           2.635135135135135,
           2.3300970873786406,
           0,
           1.3529411764705883,
           5.84160756501182,
           7.394736842105263,
           5.154589371980676,
           3.0476190476190474,
           3.911111111111111,
           6.020366598778004,
           5.885906040268456,
           0,
           3.586206896551724,
           0,
           2.5691489361702127,
           9.363636363636363,
           0,
           3.574468085106383,
           1,
           4.423529411764706,
           0.24622030237580994,
           2.215434083601286,
           1.5833333333333333,
           1.7804878048780488,
           1.90625,
           4.375,
           7.043763676148797,
           5.700218818380744,
           4.684830633284242,
           6.846153846153846,
           0,
           0,
           0,
           3,
           3.2,
           0,
           0,
           0,
           2.8783783783783785,
           0,
           2.0357142857142856,
           3.6666666666666665,
           5.216216216216216,
           8.79375,
           0,
           0,
           0,
           0,
           3,
           4.2727272727272725,
           0.02727272727272727,
           0.30833333333333335,
           0,
           3.657142857142857,
           4.724137931034483,
           0,
           0,
           5.333333333333333,
           1.0277777777777777,
           4.089285714285714,
           1.3655172413793104,
           0,
           0,
           0.1801470588235294,
           0,
           3.4,
           4.147058823529412,
           0.3492063492063492,
           0,
           0,
           8.812889812889813,
           0,
           0.92,
           4.848484848484849,
           4.680232558139535,
           1.9,
           2.517857142857143,
           3.1894273127753303,
           2.8544857768052516,
           0.7297297297297297,
           3.096774193548387,
           3.674911660777385,
           3.0408163265306123,
           0.2727272727272727,
           0.4444444444444444,
           10.20230607966457,
           1.8333333333333333,
           0.2857142857142857,
           2.803001876172608,
           0,
           6.462738301559792,
           0.0029154518950437317,
           3.2,
           1.5211267605633803,
           5.434426229508197,
           2.956989247311828,
           6.076923076923077,
           3.4234234234234235,
           4.423312883435583,
           2.7142857142857144,
           0.684863523573201,
           0.803921568627451,
           3.694267515923567,
           3.7747440273037545,
           4.003937007874016,
           0,
           0.021367521367521368,
           1.6785225718194254,
           0,
           0,
           1.3333333333333333,
           1.55,
           0.14925373134328357,
           0.5806451612903226,
           3.3956386292834893,
           0,
           6.927777777777778,
           0,
           4.612903225806452,
           3.24,
           0,
           0,
           0.9318181818181818,
           6.4222222222222225,
           0.9166666666666666,
           1.93006993006993,
           3.1818181818181817,
           1.5614035087719298,
           5.805555555555555,
           0,
           0,
           1.5114503816793894,
           1.16,
           4,
           0,
           7.980694980694981,
           4.407407407407407,
           0,
           0,
           3.4285714285714284,
           3.630952380952381,
           4.8604651162790695,
           2.5961538461538463,
           0,
           0,
           3.740740740740741,
           0,
           4.741258741258742,
           0.32727272727272727,
           0,
           0,
           3.230769230769231,
           3.43859649122807,
           5.48051948051948,
           1.3414634146341464,
           3.4976958525345623,
           0,
           0.8186046511627907,
           1.1578947368421053,
           6.142857142857143,
           0,
           12.020224719101124,
           4.217993079584775,
           2.1666666666666665,
           1.9285714285714286,
           0.13513513513513514,
           0,
           0.6408839779005525,
           0.16923076923076924,
           8.526315789473685,
           2.27027027027027,
           10.812166488794023,
           1.2469635627530364,
           0.8947368421052632,
           0,
           2.2114285714285713,
           1.9333333333333333,
           3.383084577114428,
           0,
           0,
           10.42445054945055,
           0,
           5.525252525252525,
           6.1875,
           0,
           10.786516853932584,
           6.865168539325842,
           5.1587982832618025,
           4.507425742574258,
           7.113636363636363,
           4.782222222222222,
           2.737313432835821,
           3.6140888208269524,
           0.42328042328042326,
           0,
           0,
           0,
           0,
           7.715827338129497,
           0,
           3.7098214285714284,
           0,
           0,
           0,
           0,
           0,
           0,
           3.067901234567901,
           0,
           0,
           0.4117647058823529,
           0,
           0,
           0,
           5.023041474654378,
           3.6470588235294117,
           1.2083333333333333,
           8.067632850241546,
           0,
           1.3888888888888888,
           1.125,
           2.583673469387755,
           0,
           3.651006711409396,
           0.34864864864864864,
           5.741071428571429,
           1.1963048498845266,
           0,
           2.9302325581395348,
           0,
           0,
           0,
           2.758409785932722,
           4.539445628997868,
           2.677685950413223,
           6.828571428571428,
           0,
           11.258064516129032,
           4.195945945945946,
           1.263157894736842,
           4.104477611940299,
           1.6363636363636365,
           7.949612403100775,
           0,
           1.2866868381240544,
           11.137362637362637,
           0.9322033898305084,
           6.71,
           0.3333333333333333,
           5.929203539823009,
           19.14866760168303,
           5.076923076923077,
           0,
           3.0625,
           7.029197080291971,
           6.644295302013423,
           2.2444444444444445,
           0,
           2.2923976608187133,
           0.9389002036659878,
           2.3294573643410854,
           5.546325878594249,
           9.620253164556962,
           1.6875,
           2.1818181818181817,
           5.435294117647059,
           4.391304347826087,
           8.43661971830986,
           4.392857142857143,
           0.7142857142857143,
           0.5318066157760815,
           2.8157894736842106,
           2.918781725888325,
           0,
           4.819767441860465,
           10.399002493765586,
           6.190127970749543,
           4.522222222222222,
           6.276363636363636,
           3.64,
           2.865965834428384,
           0,
           0.5454545454545454,
           0,
           4.244755244755245,
           4.197530864197531,
           1.848714069591528,
           0.04932735426008968,
           0,
           3.5454545454545454,
           0,
           1.8212927756653992,
           1.8571428571428572,
           0,
           0,
           7.8,
           8.280701754385966,
           3.402621722846442,
           0,
           6.931623931623932,
           0.4583333333333333,
           1.326086956521739,
           8.125886524822695,
           5.387543252595155,
           4.038461538461538,
           0,
           0,
           8.005050505050505,
           4.928571428571429,
           4.947368421052632,
           6.181818181818182,
           0.075,
           3.8281879194630872,
           3.2804232804232805,
           0,
           0,
           0,
           0.2777777777777778,
           0.26614481409001955,
           0.054140127388535034,
           0.08900190718372536,
           2.606741573033708,
           0.5471698113207547,
           0,
           0,
           3.716887417218543,
           5.810526315789474,
           9.488505747126437,
           12.954887218045112,
           0,
           1.1884057971014492,
           0,
           3.5095693779904304,
           4.974025974025974,
           7.568181818181818,
           0.03731343283582089,
           0.40625,
           0.23484848484848486,
           0.087893864013267,
           3.765625,
           0,
           0,
           0,
           0,
           0,
           0.19027484143763213,
           0,
           0,
           17.904558404558404,
           0,
           0,
           0,
           0,
           0.47460757156048017,
           0,
           4.442105263157894,
           0,
           0.09210526315789473,
           0,
           3.5,
           0,
           0,
           0,
           3.9652956298200515,
           1.0580645161290323,
           0.13414634146341464,
           4.5,
           0,
           8.902439024390244,
           4.6521739130434785,
           0.5701149425287356,
           5.698198198198198,
           0,
           0.012345679012345678,
           0,
           5.095744680851064,
           1.4545454545454546,
           0,
           1.25,
           1.9381443298969072,
           0,
           0,
           0.3333333333333333,
           0,
           0,
           1.0833333333333333,
           0,
           1.4893617021276595,
           0,
           4.476190476190476,
           2.1333333333333333,
           6.576923076923077,
           0.16666666666666666,
           0.1111111111111111,
           3.0859375,
           1.8374384236453203,
           0,
           0,
           5.088888888888889,
           0.23809523809523808,
           3.8461538461538463,
           4.411764705882353,
           2.943801652892562,
           7.190322580645161,
           2.1215559157212316,
           0,
           1.7083333333333333,
           3.0434782608695654,
           0,
           4.163793103448276,
           3.2325581395348837,
           3.375,
           5.833333333333333,
           9.705479452054794,
           3.3636363636363638,
           0,
           2.6153846153846154,
           4.950653120464441,
           3.873015873015873,
           4.181818181818182,
           6.645161290322581,
           3.5036630036630036,
           3.9886363636363638,
           0,
           0,
           5.9502762430939224,
           4.4907063197026025,
           5.719512195121951,
           3.2075782537067545,
           0,
           0,
           0.35563380281690143,
           0.48120300751879697,
           0,
           0.3787878787878788,
           0,
           7.076923076923077,
           8.125,
           3.6538461538461537,
           0,
           4.064516129032258,
           12.34548611111111,
           0.8605851979345955,
           4.801418439716312,
           0,
           4.2,
           0,
           0,
           0,
           1.411764705882353,
           6.552631578947368,
           1.2727272727272727,
           2.8,
           5.418439716312057,
           5.264150943396227,
           0.15384615384615385,
           0.7435897435897436,
           0,
           0,
           1.2191780821917808,
           3.834710743801653,
           2.1513761467889907,
           1.6444444444444444,
           5.135135135135135,
           7.147058823529412,
           3,
           0,
           3.933333333333333,
           0.009302325581395349,
           2.242424242424242,
           0,
           0,
           1.095,
           6.177718832891247,
           0.1935483870967742,
           0.032388663967611336,
           3.533333333333333,
           3.6476683937823835,
           5.775764439411098,
           0,
           0,
           0,
           8.195121951219512,
           2.625,
           3.4545454545454546,
           4.8,
           0,
           2.4339622641509435,
           7.804166666666666,
           0.9104477611940298,
           1.1176470588235294,
           4.017361111111111,
           2.327027027027027,
           4.675324675324675,
           5.586065573770492,
           6.287234042553192,
           4.353711790393013,
           2.6363636363636362,
           3.8333333333333335,
           2.1375739644970415,
           5.678966789667896,
           5.933806146572104,
           0,
           2.9473684210526314,
           4.012987012987013,
           4.646788990825688,
           0.0851063829787234,
           0,
           8.126984126984127,
           0,
           6.04390243902439,
           10.126760563380282,
           0.5925925925925926,
           7.798479087452471,
           0,
           4.044150110375276,
           2.3529411764705883,
           1.5757575757575757,
           1.0499001996007984,
           0,
           0.023529411764705882,
           4.258064516129032,
           1.5714285714285714,
           3.72,
           1.2857142857142858,
           1.9051724137931034,
           6.971153846153846,
           4.011111111111111,
           0,
           2.456603773584906,
           9.300380228136882,
           0.45588235294117646,
           1.2727272727272727,
           3.4048582995951415,
           3.983213429256595,
           8.808457711442786,
           4.327044025157233,
           8.55232558139535,
           0,
           0,
           10.026490066225165,
           0.7142857142857143,
           0,
           0,
           0,
           0.90625,
           4.416666666666667,
           2.1951219512195124,
           1.5576923076923077,
           0.46153846153846156,
           2.5625,
           0.46511627906976744,
           3.8073394495412844,
           12.804597701149426,
           0,
           3.152139461172742,
           0,
           0,
           0.2,
           0,
           4.08955223880597,
           2.1496598639455784,
           1.9298245614035088,
           0,
           0.21428571428571427,
           5.852941176470588,
           5.5054945054945055,
           1.4444444444444444,
           7.962162162162162,
           0.7979166666666667,
           4.264026402640264,
           0.6145833333333334,
           4.835820895522388,
           6.642857142857143,
           4.1875,
           1.0909090909090908,
           2.388888888888889,
           2.6015625,
           11.576923076923077,
           0.1888111888111888,
           0,
           0,
           6.8431372549019605,
           2.1875,
           0,
           0.40625,
           2.3333333333333335,
           1.6666666666666667,
           0.45717884130982367,
           0,
           0,
           0,
           5.794871794871795,
           6.882352941176471,
           1.6521739130434783,
           1.05,
           0.17647058823529413,
           8.320328542094456,
           1.7222222222222223,
           0.27586206896551724,
           0,
           3.923076923076923,
           0.46875,
           5.67381974248927,
           0,
           3.432515337423313,
           0,
           3.495575221238938,
           5.013513513513513,
           0,
           2.064516129032258,
           7.5390243902439025,
           0,
           0.028985507246376812,
           2.563876651982379,
           5.12,
           1.5909090909090908,
           6.120567375886525,
           0.09259259259259259,
           11.033783783783784,
           0,
           5.294117647058823,
           1.6153846153846154,
           5.69811320754717,
           3,
           3.374269005847953,
           0.7162921348314607,
           0,
           1.5,
           0.6745098039215687,
           3.814159292035398,
           0.006024096385542169,
           0,
           2.875,
           0,
           0,
           0,
           0,
           0,
           0,
           3.021276595744681,
           7.882352941176471,
           3.797180043383948,
           0,
           0.10894941634241245,
           5.066666666666666,
           14.495429616087751,
           0,
           4.882882882882883,
           0,
           3.096774193548387,
           0,
           1.88,
           5.214285714285714,
           8.210526315789474,
           0.05803571428571429,
           4.866666666666666,
           0.11538461538461539,
           0.10810810810810811,
           4.815789473684211,
           4.760869565217392,
           0.9642857142857143,
           0,
           14.578125,
           0,
           0.5663716814159292,
           4.278931750741839,
           1.75,
           8.066273932253313,
           3.375,
           3.704225352112676,
           6.105263157894737,
           0,
           6.3566978193146415,
           4.325281803542673,
           7.66256157635468,
           3.7947686116700203,
           3.4158878504672896,
           7.102564102564102,
           3.0693430656934306,
           4.019323671497585,
           3.5,
           3.574468085106383,
           5.1731107205623905,
           1.605095541401274,
           3.1150442477876106,
           0.875,
           3.1953125,
           4.0754716981132075,
           2.6893203883495147,
           3.8923076923076922,
           4.2025316455696204,
           1.6310679611650485,
           0.0196078431372549,
           3.436482084690554,
           0,
           4.136986301369863,
           2.3333333333333335,
           2.3947368421052633,
           2,
           1.9230769230769231,
           1.4210526315789473,
           4.466666666666667,
           0,
           0,
           1.601139601139601,
           0.35097493036211697,
           1.9523809523809523,
           3.988857938718663,
           5.496551724137931,
           0.15789473684210525,
           0,
           1.1380597014925373,
           3.955631399317406,
           0.6666666666666666,
           5.568539325842696,
           0,
           0.8963730569948186,
           0,
           0,
           0,
           0,
           0,
           0,
           0,
           2.9597701149425286,
           2.3914473684210527,
           0,
           6.593466424682395,
           4.102564102564102,
           3.3345195729537367,
           0.281786941580756,
           3.2440944881889764,
           0.008064516129032258,
           0,
           2.345,
           3.6577946768060836,
           4.765410958904109,
           3.4827586206896552,
           0,
           0,
           0.05084745762711865,
           1.25,
           0,
           0.00881057268722467,
           2.4324324324324325,
           0,
           4.747126436781609,
           8.723895582329318,
           0,
           0,
           0,
           0,
           0,
           0.06060606060606061,
           0,
           0,
           0,
           7.014925373134329,
           0,
           0,
           4.915384615384616,
           1.1176470588235294,
           0,
           2.64,
           3.642857142857143,
           3.4375,
           0,
           4.904761904761905,
           8.59047619047619,
           0,
           3.3478915662650603,
           2.4761904761904763,
           0,
           1.7272727272727273,
           0,
           5.325986078886311,
           7.030612244897959,
           1.3125,
           2.466666666666667,
           8.604166666666666,
           2.25,
           0,
           2.388732394366197,
           2.7735849056603774,
           5.950795947901592,
           3.3,
           6.619909502262443,
           2.972972972972973,
           3.1751497005988023,
           7.529801324503311,
           0,
           0.040584415584415584,
           5,
           0,
           0,
           0.0425531914893617,
           0,
           3.9166666666666665,
           0,
           1.8076923076923077,
           4.117647058823529,
           0,
           2.688841201716738,
           4.1869565217391305,
           0,
           0,
           2.279220779220779,
           0,
           10.1875,
           6.752747252747253,
           5.2987598647125145,
           12.044094488188977,
           0.7313432835820896,
           0,
           0,
           0.9230769230769231,
           2.3333333333333335,
           3.1835664335664338,
           0,
           0.8860759493670886,
           0,
           0,
           2.5681818181818183,
           1.3571428571428572,
           1.6428571428571428,
           0,
           1.6377952755905512,
           5.590330788804072,
           4.384615384615385,
           9.575221238938052,
           0,
           0,
           0,
           0.022099447513812154,
           0,
           0,
           0,
           0.8633093525179856,
           3.099391480730223,
           1.3235294117647058,
           2.5294117647058822,
           0,
           0,
           6.242424242424242,
           8.024896265560166,
           3.706896551724138,
           0,
           0,
           0,
           4.19672131147541,
           7.417049180327869,
           1.5454545454545454,
           0.5603448275862069,
           3.0736842105263156,
           3.2941176470588234,
           4.9375,
           3.6491228070175437,
           0,
           0,
           0,
           0,
           0,
           1.3016528925619835,
           0,
           0,
           0,
           0,
           2.9651741293532337,
           1,
           0,
           0,
           6.866906474820144,
           4.239130434782608,
           2.090909090909091,
           12.36094674556213,
           5,
           0,
           2.6923076923076925,
           6.538461538461538,
           3.4216867469879517,
           0,
           3.381720430107527,
           1.2272727272727273,
           3.7216494845360826,
           4.005464480874317,
           1.4,
           0,
           1.565217391304348,
           0.3094059405940594,
           6.476793248945148,
           5.866666666666666,
           0,
           6.238095238095238,
           0,
           3,
           5.636363636363637,
           5.250847457627119,
           5.331932773109243,
           3.0333796940194713,
           0.04395604395604396,
           0.3181818181818182,
           2.7701149425287355,
           6.041884816753926,
           0.05309734513274336,
           0,
           1,
           0,
           0,
           4.865814696485623,
           3.7435897435897436,
           2.3666666666666667,
           2.6875,
           1.3418803418803418,
           3.917525773195876,
           0,
           0.45454545454545453,
           3.587188612099644,
           2.448717948717949,
           0.36824324324324326,
           3.1180555555555554,
           0,
           0,
           6.910926365795724,
           0,
           1.3045496750232126,
           0.018867924528301886,
           3.23454157782516,
           0,
           0,
           2.618181818181818,
           3.8582089552238807,
           5,
           0,
           5.962264150943396,
           3.8849557522123894,
           4.952,
           1.4150943396226414,
           3.0232558139534884,
           3.62109375,
           0,
           0.7222222222222222,
           0.07142857142857142,
           8.167155425219942,
           0,
           0,
           0,
           1.9166666666666667,
           0,
           0,
           0.45454545454545453,
           0.24528301886792453,
           0,
           5.114583333333333,
           0.9285714285714286,
           0,
           0.39204545454545453,
           3.5098039215686274,
           7.266211604095563,
           0,
           0,
           0,
           4.3924050632911396,
           2.3823529411764706,
           7.0060975609756095,
           3.5789473684210527,
           0.9548872180451128,
           3.2033898305084745,
           0,
           0.011086474501108648,
           2.24,
           7.222666666666667,
           3.9166666666666665,
           0,
           0.934156378600823,
           7.770516717325228,
           2.0033149171270717,
           1.3076923076923077,
           5.554761904761905,
           0.37142857142857144,
           0,
           5.556129032258064,
           0.3321100917431193,
           4.4609375,
           0,
           0,
           1.9819277108433735,
           0,
           1.8235294117647058,
           8.72573189522342,
           0.3986013986013986,
           3.1944444444444446,
           0.72,
           2.5394190871369293,
           0,
           0,
           0,
           0,
           0,
           1.426356589147287,
           0,
           0.8,
           3.793103448275862,
           7.289766970618034,
           5.75,
           1.976019184652278,
           2.6907216494845363,
           0,
           3.4214285714285713,
           0,
           6.41240478781284,
           3.549019607843137,
           3.6089385474860336,
           0,
           0,
           0,
           0,
           0,
           0,
           0,
           0,
           0,
           2.7066666666666666,
           0.9672131147540983,
           0.020833333333333332,
           1.3333333333333333,
           0.9534883720930233,
           0,
           0,
           9.10909090909091,
           0.15789473684210525,
           0.5909090909090909,
           0,
           2.69811320754717,
           2.452830188679245,
           4.462921348314607,
           0,
           0,
           7.398589065255732,
           1.1612903225806452,
           4.066666666666666,
           3.4843517138599105,
           0,
           3.9565217391304346,
           0,
           1.6666666666666667,
           4.218181818181818,
           4.814814814814815,
           1.6178861788617886,
           14.76530612244898,
           2.016216216216216,
           6.602609727164888,
           0,
           5.128712871287129,
           4.946428571428571,
           9.4375,
           8.181818181818182,
           0,
           0,
           2.0697674418604652,
           0,
           3.869565217391304,
           0,
           1.0909090909090908,
           2.106382978723404,
           6.552816901408451,
           0.5432098765432098,
           0.1206896551724138,
           0.8214285714285714,
           3.9641025641025642,
           5.1152173913043475,
           0.95,
           6.191235059760956,
           0,
           3.471014492753623,
           1.6727272727272726,
           2.3333333333333335,
           4.533333333333333,
           5.75,
           0,
           2.5675675675675675,
           0
          ],
          "coloraxis": "coloraxis",
          "symbol": "circle"
         },
         "mode": "markers",
         "name": "",
         "showlegend": false,
         "type": "scattergl",
         "x": [
          183,
          193,
          175,
          183,
          190,
          178,
          185,
          183,
          183,
          180,
          183,
          183,
          175,
          188,
          173,
          183,
          203,
          183,
          180,
          175,
          188,
          188,
          173,
          180,
          175,
          175,
          193,
          175,
          185,
          180,
          180,
          180,
          183,
          175,
          183,
          185,
          188,
          183,
          178,
          190,
          180,
          175,
          183,
          175,
          185,
          185,
          180,
          183,
          188,
          183,
          201,
          193,
          188,
          188,
          198,
          185,
          180,
          190,
          188,
          193,
          190,
          181,
          180,
          178,
          185,
          196,
          183,
          188,
          175,
          185,
          180,
          180,
          185,
          183,
          190,
          190,
          190,
          175,
          190,
          180,
          180,
          188,
          193,
          183,
          185,
          183,
          180,
          178,
          180,
          185,
          193,
          180,
          178,
          190,
          180,
          188,
          201,
          175,
          185,
          185,
          185,
          178,
          190,
          180,
          188,
          163,
          180,
          185,
          183,
          173,
          185,
          188,
          185,
          193,
          180,
          183,
          185,
          183,
          188,
          190,
          180,
          173,
          178,
          170,
          178,
          185,
          185,
          178,
          196,
          185,
          185,
          173,
          188,
          193,
          178,
          185,
          178,
          185,
          178,
          178,
          180,
          185,
          180,
          175,
          175,
          170,
          188,
          193,
          183,
          193,
          190,
          183,
          183,
          188,
          180,
          190,
          180,
          190,
          185,
          185,
          175,
          190,
          175,
          188,
          178,
          185,
          183,
          185,
          190,
          170,
          185,
          201,
          173,
          183,
          183,
          180,
          190,
          183,
          183,
          180,
          180,
          190,
          173,
          183,
          175,
          185,
          183,
          193,
          188,
          193,
          175,
          170,
          180,
          183,
          190,
          183,
          175,
          175,
          173,
          190,
          193,
          198,
          196,
          180,
          173,
          188,
          183,
          180,
          196,
          183,
          178,
          198,
          163,
          196,
          193,
          180,
          201,
          175,
          180,
          183,
          180,
          188,
          190,
          180,
          185,
          188,
          190,
          183,
          185,
          185,
          185,
          178,
          183,
          170,
          188,
          185,
          185,
          188,
          190,
          180,
          178,
          180,
          178,
          188,
          175,
          188,
          185,
          185,
          190,
          178,
          188,
          190,
          180,
          178,
          190,
          180,
          185,
          172,
          178,
          178,
          185,
          188,
          173,
          180,
          196,
          183,
          175,
          185,
          190,
          180,
          190,
          183,
          190,
          180,
          183,
          193,
          193,
          173,
          185,
          183,
          188,
          180,
          183,
          175,
          173,
          178,
          180,
          175,
          163,
          185,
          180,
          175,
          180,
          183,
          180,
          183,
          185,
          178,
          183,
          185,
          183,
          193,
          190,
          188,
          180,
          183,
          188,
          180,
          188,
          185,
          185,
          185,
          203,
          188,
          185,
          178,
          188,
          178,
          170,
          183,
          183,
          185,
          185,
          185,
          185,
          183,
          198,
          185,
          180,
          185,
          190,
          183,
          175,
          180,
          188,
          183,
          178,
          175,
          180,
          190,
          196,
          185,
          188,
          170,
          190,
          180,
          188,
          185,
          178,
          160,
          183,
          188,
          178,
          178,
          188,
          183,
          183,
          180,
          193,
          178,
          180,
          196,
          178,
          175,
          188,
          180,
          183,
          190,
          190,
          183,
          185,
          185,
          183,
          183,
          178,
          178,
          196,
          180,
          190,
          188,
          170,
          168,
          188,
          183,
          178,
          180,
          173,
          183,
          175,
          180,
          190,
          188,
          180,
          188,
          190,
          185,
          173,
          183,
          173,
          183,
          180,
          190,
          180,
          183,
          183,
          193,
          185,
          183,
          175,
          190,
          173,
          183,
          180,
          185,
          190,
          193,
          193,
          183,
          190,
          183,
          190,
          173,
          178,
          190,
          190,
          193,
          183,
          196,
          180,
          178,
          193,
          173,
          193,
          173,
          173,
          190,
          190,
          178,
          185,
          175,
          183,
          185,
          183,
          173,
          183,
          190,
          173,
          178,
          190,
          185,
          193,
          173,
          180,
          183,
          173,
          180,
          188,
          190,
          193,
          183,
          180,
          193,
          173,
          183,
          185,
          175,
          188,
          178,
          193,
          180,
          173,
          173,
          185,
          180,
          188,
          188,
          178,
          193,
          185,
          183,
          183,
          180,
          190,
          188,
          185,
          180,
          188,
          185,
          175,
          188,
          178,
          183,
          180,
          180,
          180,
          190,
          175,
          190,
          193,
          185,
          183,
          185,
          173,
          178,
          185,
          168,
          178,
          173,
          190,
          178,
          180,
          188,
          183,
          185,
          183,
          188,
          185,
          180,
          188,
          180,
          175,
          180,
          188,
          175,
          173,
          183,
          178,
          170,
          190,
          180,
          185,
          180,
          190,
          183,
          193,
          185,
          188,
          188,
          185,
          183,
          183,
          188,
          193,
          175,
          183,
          188,
          188,
          208,
          183,
          180,
          196,
          188,
          185,
          173,
          180,
          196,
          170,
          188,
          185,
          183,
          183,
          180,
          190,
          178,
          185,
          183,
          190,
          185,
          180,
          190,
          175,
          188,
          190,
          183,
          198,
          180,
          190,
          185,
          175,
          175,
          196,
          185,
          185,
          178,
          180,
          188,
          183,
          183,
          185,
          173,
          193,
          173,
          185,
          185,
          180,
          188,
          190,
          180,
          180,
          188,
          188,
          185,
          180,
          175,
          203,
          188,
          175,
          178,
          165,
          185,
          193,
          175,
          175,
          185,
          193,
          175,
          180,
          178,
          178,
          175,
          185,
          185,
          190,
          185,
          188,
          198,
          188,
          173,
          185,
          185,
          193,
          196,
          185,
          183,
          183,
          175,
          185,
          190,
          193,
          185,
          188,
          190,
          183,
          173,
          193,
          206,
          183,
          185,
          178,
          183,
          180,
          188,
          183,
          183,
          185,
          188,
          185,
          180,
          178,
          178,
          183,
          188,
          185,
          180,
          188,
          188,
          180,
          175,
          188,
          180,
          180,
          183,
          190,
          175,
          180,
          180,
          190,
          178,
          173,
          178,
          185,
          185,
          178,
          173,
          183,
          185,
          175,
          183,
          193,
          180,
          183,
          185,
          175,
          180,
          178,
          190,
          183,
          183,
          198,
          190,
          198,
          185,
          190,
          178,
          178,
          185,
          185,
          188,
          188,
          185,
          190,
          180,
          180,
          173,
          183,
          190,
          190,
          196,
          190,
          185,
          180,
          178,
          180,
          188,
          180,
          178,
          188,
          185,
          175,
          185,
          185,
          185,
          175,
          190,
          203,
          188,
          180,
          196,
          203,
          185,
          180,
          188,
          178,
          183,
          180,
          183,
          183,
          190,
          188,
          180,
          188,
          193,
          185,
          185,
          188,
          178,
          193,
          183,
          188,
          188,
          196,
          180,
          183,
          183,
          183,
          185,
          178,
          183,
          178,
          188,
          188,
          168,
          196,
          180,
          185,
          180,
          190,
          175,
          173,
          190,
          175,
          175,
          190,
          170,
          180,
          185,
          178,
          170,
          180,
          183,
          185,
          185,
          196,
          190,
          190,
          180,
          185,
          193,
          188,
          193,
          185,
          185,
          180,
          178,
          178,
          193,
          190,
          188,
          196,
          175,
          201,
          173,
          190,
          180,
          180,
          178,
          170,
          178,
          175,
          175,
          185,
          180,
          185,
          183,
          180,
          185,
          183,
          188,
          173,
          178,
          180,
          183,
          198,
          194,
          196,
          170,
          180,
          193,
          193,
          178,
          190,
          185,
          185,
          185,
          190,
          185,
          178,
          188,
          185,
          183,
          196,
          170,
          188,
          188,
          175,
          178,
          178,
          188,
          178,
          190,
          180,
          178,
          196,
          190,
          188,
          188,
          178,
          190,
          190,
          180,
          178,
          180,
          190,
          188,
          183,
          196,
          183,
          183,
          185,
          180,
          180,
          185,
          173,
          185,
          183,
          183,
          188,
          193,
          180,
          188,
          188,
          178,
          170,
          193,
          196,
          175,
          183,
          178,
          183,
          180,
          193,
          175,
          175,
          178,
          180,
          188,
          185,
          185,
          190,
          188,
          185,
          173,
          188,
          180,
          193,
          193,
          190,
          190,
          185,
          180,
          185,
          175,
          185,
          201,
          180,
          185,
          173,
          185,
          188,
          190,
          190,
          183,
          185,
          173,
          180,
          180,
          188,
          183,
          188,
          183,
          190,
          203,
          180,
          196,
          190,
          190,
          173,
          183,
          193,
          190,
          180,
          180,
          183,
          193,
          190,
          188,
          190,
          173,
          190,
          185,
          193,
          180,
          183,
          190,
          188,
          183,
          185,
          173,
          185,
          178,
          183,
          188,
          190,
          183,
          188,
          183,
          178,
          185,
          188,
          185,
          188,
          190,
          193,
          175,
          185,
          185,
          170,
          175,
          180,
          168,
          183,
          188,
          188,
          185,
          170,
          180,
          185,
          183,
          173,
          190,
          196,
          185,
          180,
          180,
          180,
          188,
          180,
          178,
          175,
          180,
          183,
          190,
          185,
          175,
          183,
          190,
          170,
          173,
          188,
          178,
          180,
          188,
          188,
          183,
          180,
          185,
          185,
          190,
          185,
          190,
          178,
          185,
          178,
          188,
          185,
          175,
          178,
          180,
          188,
          188,
          173,
          170,
          180,
          183,
          183,
          185,
          193,
          175,
          183,
          180,
          188,
          190,
          178,
          183,
          196,
          185,
          178,
          175,
          183,
          185,
          185,
          193,
          190,
          180,
          185,
          185,
          196,
          185,
          190,
          190,
          183,
          188,
          173,
          178,
          185,
          180,
          175,
          188,
          185,
          180,
          188,
          188,
          185,
          188,
          185,
          185,
          180,
          193,
          160,
          170,
          185,
          188,
          193,
          190,
          183,
          180,
          183,
          185,
          185,
          175,
          175,
          175,
          175,
          170,
          175,
          183,
          185,
          196,
          185,
          196,
          188,
          183,
          188,
          185,
          193,
          180,
          180,
          188,
          185,
          178,
          180,
          188,
          173,
          180,
          183,
          183,
          193,
          190,
          180,
          180,
          185,
          190,
          180,
          193,
          173,
          185,
          183,
          178,
          190,
          185,
          178,
          190,
          193,
          183,
          185,
          173,
          188,
          183,
          185,
          183,
          185,
          178,
          190,
          190,
          183,
          178,
          185,
          190,
          185,
          185,
          180,
          183,
          183,
          175,
          183,
          183,
          178,
          173,
          188,
          183,
          196,
          180,
          198,
          190,
          178,
          190,
          193,
          193,
          178,
          188,
          190,
          183,
          180,
          185,
          180,
          175,
          188,
          178,
          185,
          180,
          188,
          178,
          180,
          183,
          175,
          183,
          188,
          185,
          170,
          185,
          193,
          193,
          193,
          185,
          188,
          188,
          185,
          185,
          190,
          183,
          185,
          183,
          180,
          173,
          193,
          183,
          198,
          180,
          190,
          193,
          183,
          170,
          188,
          193,
          175,
          175,
          185,
          178,
          185,
          185,
          188,
          180,
          185,
          193,
          178,
          183,
          178,
          188,
          180,
          188,
          188,
          175,
          193,
          190,
          183,
          188,
          185,
          180,
          178,
          188,
          175,
          188,
          180,
          175,
          180,
          188,
          180,
          178,
          180,
          188,
          178,
          193,
          188,
          183,
          188,
          178,
          178,
          185,
          190,
          178,
          185,
          190,
          180,
          180,
          180,
          188,
          183,
          180,
          185,
          190,
          175,
          180,
          185,
          180,
          193,
          178,
          198,
          185,
          180,
          183,
          178,
          185,
          188,
          180,
          180,
          175,
          175,
          178,
          180,
          193,
          196,
          178,
          178,
          185,
          190,
          178,
          193,
          188,
          183,
          180,
          190,
          178,
          178,
          180,
          188,
          178,
          178,
          173,
          170,
          185,
          185,
          180,
          185,
          180,
          190,
          185,
          193,
          178,
          183,
          201,
          185,
          173,
          198,
          193,
          193,
          193,
          173,
          173,
          183,
          180,
          183,
          183,
          175,
          180,
          188,
          180,
          190,
          170,
          185,
          183,
          180,
          188,
          196,
          190,
          188,
          183,
          183,
          183,
          178,
          173,
          190,
          193,
          185,
          185,
          193,
          175,
          180,
          190,
          175,
          193,
          183,
          173,
          183,
          188,
          183,
          188,
          180,
          178,
          183
         ],
         "xaxis": "x",
         "y": [
          1.5237366003062787,
          1.24,
          2.1707317073170733,
          4.661363636363636,
          0,
          1.9166666666666667,
          5.080128205128205,
          0,
          6.639097744360902,
          0.5769230769230769,
          0,
          3.9295774647887325,
          0.3670886075949367,
          0,
          0,
          1.7333333333333334,
          18.857142857142858,
          3.52,
          3.3338368580060425,
          3.3161764705882355,
          4.064705882352941,
          3.45021645021645,
          1.5857740585774058,
          1.286231884057971,
          2.0061475409836067,
          0,
          0.6666666666666666,
          0,
          3.0141342756183747,
          0,
          0,
          2,
          2.8076923076923075,
          0,
          3.5483870967741935,
          3.5660377358490565,
          2.1195219123505975,
          4.680851063829787,
          2.1797752808988764,
          5.904494382022472,
          3.6099585062240664,
          2.088235294117647,
          7.333333333333333,
          1.8703703703703705,
          4.434782608695652,
          10.104166666666666,
          0,
          6.3,
          4.136094674556213,
          3.73972602739726,
          4.409090909090909,
          4.818181818181818,
          3.377224199288256,
          10.282608695652174,
          8.186486486486487,
          0,
          7.439716312056738,
          0.14285714285714285,
          6.0606060606060606,
          0,
          1.1724137931034482,
          8.03921568627451,
          3.3846153846153846,
          0,
          0,
          9.067415730337078,
          1.6428571428571428,
          1.173913043478261,
          1.5,
          0,
          0.9118541033434651,
          3.5353095030514385,
          2.6805555555555554,
          2.2439024390243905,
          3.8181818181818183,
          4.289719626168225,
          6.564516129032258,
          0,
          4.715197956577267,
          4.063157894736842,
          1.6117936117936118,
          1.449013157894737,
          5.154562383612663,
          1,
          6.215547703180212,
          4.361313868613139,
          0.4583333333333333,
          4.831578947368421,
          2,
          0,
          0.4913151364764268,
          0.16666666666666666,
          0,
          0.5128205128205128,
          4.70873786407767,
          0,
          7.6,
          0.9696969696969697,
          3.6902173913043477,
          5,
          0,
          0,
          6.534831460674157,
          4.470588235294118,
          10.931076178960097,
          0,
          2.5714285714285716,
          7.191588785046729,
          3.5583524027459954,
          4.852941176470588,
          2.395209580838323,
          5.396551724137931,
          0,
          6.022222222222222,
          2.08,
          3.712871287128713,
          4.305555555555555,
          0,
          7.769230769230769,
          0,
          0,
          0,
          0.29914529914529914,
          0,
          5.277777777777778,
          0,
          1,
          7.568,
          8.555075593952484,
          0.34782608695652173,
          0,
          0,
          0,
          7.493224932249323,
          0.972972972972973,
          5.191919191919192,
          0,
          0,
          0,
          0,
          0.3225806451612903,
          0.8918918918918919,
          0.057034220532319393,
          3.68348623853211,
          1.5333333333333334,
          0,
          3.47972972972973,
          6.39344262295082,
          0,
          0,
          0,
          0,
          8.762376237623762,
          3.077405857740586,
          0.8974358974358975,
          4.635494155154092,
          2.234567901234568,
          0.06666666666666667,
          0,
          1.4851485148514851,
          0.23333333333333334,
          8.055555555555555,
          0.7777777777777778,
          7.142857142857143,
          4.384615384615385,
          2.5555555555555554,
          0,
          3.0262390670553936,
          4.95,
          2.2857142857142856,
          2.272727272727273,
          6.0625,
          0.5128205128205128,
          0,
          0,
          8.307692307692308,
          0,
          2.65625,
          0.09045226130653267,
          0.009900990099009901,
          0,
          0,
          0,
          0.46153846153846156,
          0.03759398496240601,
          7.380165289256198,
          5.714285714285714,
          0,
          0,
          0,
          2.899810964083176,
          0.2727272727272727,
          1.4470588235294117,
          3.015151515151515,
          0,
          3.754385964912281,
          0,
          0,
          0,
          4.88,
          3.140625,
          9.076923076923077,
          0,
          0.21140939597315436,
          2.748502994011976,
          5.2076271186440675,
          3.3866666666666667,
          0.375,
          0,
          0,
          0,
          0,
          0,
          1.489795918367347,
          0,
          2.3870967741935485,
          12.6,
          0,
          0,
          1.5970149253731343,
          4.269230769230769,
          5.810185185185185,
          0.6052631578947368,
          1.4478527607361964,
          1.0851063829787233,
          2.1555555555555554,
          1.8852459016393444,
          3.076923076923077,
          0,
          1.2791411042944785,
          0,
          0,
          0,
          1.7448071216617211,
          0,
          2.72972972972973,
          4.028409090909091,
          0,
          0.022727272727272728,
          0.828125,
          0,
          0.6382978723404256,
          0.967741935483871,
          0,
          0,
          0,
          0,
          0.5185185185185185,
          0,
          0,
          0,
          0,
          0,
          1.8888888888888888,
          7.102150537634409,
          0.1111111111111111,
          0,
          2.3688524590163933,
          0,
          0,
          0,
          0.3179916317991632,
          1.83206106870229,
          0.09954751131221719,
          8.72549019607843,
          2.7142857142857144,
          4.177631578947368,
          4.522222222222222,
          0.9655172413793104,
          1.5636363636363637,
          6.970731707317073,
          1.4666666666666666,
          6.488833746898263,
          6.9,
          3.230769230769231,
          1.7325581395348837,
          0,
          1.96,
          0.5019455252918288,
          5.454545454545454,
          3.6,
          0.8181818181818182,
          0,
          0,
          5,
          0,
          1.3888888888888888,
          2.614834673815907,
          5.27765726681128,
          1.2777777777777777,
          0,
          0.07692307692307693,
          0,
          2.611111111111111,
          3.5060449050086357,
          0.5988538681948424,
          6.9,
          2.635135135135135,
          2.3300970873786406,
          0,
          1.3529411764705883,
          5.84160756501182,
          7.394736842105263,
          5.154589371980676,
          3.0476190476190474,
          3.911111111111111,
          6.020366598778004,
          5.885906040268456,
          0,
          3.586206896551724,
          0,
          2.5691489361702127,
          9.363636363636363,
          0,
          3.574468085106383,
          1,
          4.423529411764706,
          0.24622030237580994,
          2.215434083601286,
          1.5833333333333333,
          1.7804878048780488,
          1.90625,
          4.375,
          7.043763676148797,
          5.700218818380744,
          4.684830633284242,
          6.846153846153846,
          0,
          0,
          0,
          3,
          3.2,
          0,
          0,
          0,
          2.8783783783783785,
          0,
          2.0357142857142856,
          3.6666666666666665,
          5.216216216216216,
          8.79375,
          0,
          0,
          0,
          0,
          3,
          4.2727272727272725,
          0.02727272727272727,
          0.30833333333333335,
          0,
          3.657142857142857,
          4.724137931034483,
          0,
          0,
          5.333333333333333,
          1.0277777777777777,
          4.089285714285714,
          1.3655172413793104,
          0,
          0,
          0.1801470588235294,
          0,
          3.4,
          4.147058823529412,
          0.3492063492063492,
          0,
          0,
          8.812889812889813,
          0,
          0.92,
          4.848484848484849,
          4.680232558139535,
          1.9,
          2.517857142857143,
          3.1894273127753303,
          2.8544857768052516,
          0.7297297297297297,
          3.096774193548387,
          3.674911660777385,
          3.0408163265306123,
          0.2727272727272727,
          0.4444444444444444,
          10.20230607966457,
          1.8333333333333333,
          0.2857142857142857,
          2.803001876172608,
          0,
          6.462738301559792,
          0.0029154518950437317,
          3.2,
          1.5211267605633803,
          5.434426229508197,
          2.956989247311828,
          6.076923076923077,
          3.4234234234234235,
          4.423312883435583,
          2.7142857142857144,
          0.684863523573201,
          0.803921568627451,
          3.694267515923567,
          3.7747440273037545,
          4.003937007874016,
          0,
          0.021367521367521368,
          1.6785225718194254,
          0,
          0,
          1.3333333333333333,
          1.55,
          0.14925373134328357,
          0.5806451612903226,
          3.3956386292834893,
          0,
          6.927777777777778,
          0,
          4.612903225806452,
          3.24,
          0,
          0,
          0.9318181818181818,
          6.4222222222222225,
          0.9166666666666666,
          1.93006993006993,
          3.1818181818181817,
          1.5614035087719298,
          5.805555555555555,
          0,
          0,
          1.5114503816793894,
          1.16,
          4,
          0,
          7.980694980694981,
          4.407407407407407,
          0,
          0,
          3.4285714285714284,
          3.630952380952381,
          4.8604651162790695,
          2.5961538461538463,
          0,
          0,
          3.740740740740741,
          0,
          4.741258741258742,
          0.32727272727272727,
          0,
          0,
          3.230769230769231,
          3.43859649122807,
          5.48051948051948,
          1.3414634146341464,
          3.4976958525345623,
          0,
          0.8186046511627907,
          1.1578947368421053,
          6.142857142857143,
          0,
          12.020224719101124,
          4.217993079584775,
          2.1666666666666665,
          1.9285714285714286,
          0.13513513513513514,
          0,
          0.6408839779005525,
          0.16923076923076924,
          8.526315789473685,
          2.27027027027027,
          10.812166488794023,
          1.2469635627530364,
          0.8947368421052632,
          0,
          2.2114285714285713,
          1.9333333333333333,
          3.383084577114428,
          0,
          0,
          10.42445054945055,
          0,
          5.525252525252525,
          6.1875,
          0,
          10.786516853932584,
          6.865168539325842,
          5.1587982832618025,
          4.507425742574258,
          7.113636363636363,
          4.782222222222222,
          2.737313432835821,
          3.6140888208269524,
          0.42328042328042326,
          0,
          0,
          0,
          0,
          7.715827338129497,
          0,
          3.7098214285714284,
          0,
          0,
          0,
          0,
          0,
          0,
          3.067901234567901,
          0,
          0,
          0.4117647058823529,
          0,
          0,
          0,
          5.023041474654378,
          3.6470588235294117,
          1.2083333333333333,
          8.067632850241546,
          0,
          1.3888888888888888,
          1.125,
          2.583673469387755,
          0,
          3.651006711409396,
          0.34864864864864864,
          5.741071428571429,
          1.1963048498845266,
          0,
          2.9302325581395348,
          0,
          0,
          0,
          2.758409785932722,
          4.539445628997868,
          2.677685950413223,
          6.828571428571428,
          0,
          11.258064516129032,
          4.195945945945946,
          1.263157894736842,
          4.104477611940299,
          1.6363636363636365,
          7.949612403100775,
          0,
          1.2866868381240544,
          11.137362637362637,
          0.9322033898305084,
          6.71,
          0.3333333333333333,
          5.929203539823009,
          19.14866760168303,
          5.076923076923077,
          0,
          3.0625,
          7.029197080291971,
          6.644295302013423,
          2.2444444444444445,
          0,
          2.2923976608187133,
          0.9389002036659878,
          2.3294573643410854,
          5.546325878594249,
          9.620253164556962,
          1.6875,
          2.1818181818181817,
          5.435294117647059,
          4.391304347826087,
          8.43661971830986,
          4.392857142857143,
          0.7142857142857143,
          0.5318066157760815,
          2.8157894736842106,
          2.918781725888325,
          0,
          4.819767441860465,
          10.399002493765586,
          6.190127970749543,
          4.522222222222222,
          6.276363636363636,
          3.64,
          2.865965834428384,
          0,
          0.5454545454545454,
          0,
          4.244755244755245,
          4.197530864197531,
          1.848714069591528,
          0.04932735426008968,
          0,
          3.5454545454545454,
          0,
          1.8212927756653992,
          1.8571428571428572,
          0,
          0,
          7.8,
          8.280701754385966,
          3.402621722846442,
          0,
          6.931623931623932,
          0.4583333333333333,
          1.326086956521739,
          8.125886524822695,
          5.387543252595155,
          4.038461538461538,
          0,
          0,
          8.005050505050505,
          4.928571428571429,
          4.947368421052632,
          6.181818181818182,
          0.075,
          3.8281879194630872,
          3.2804232804232805,
          0,
          0,
          0,
          0.2777777777777778,
          0.26614481409001955,
          0.054140127388535034,
          0.08900190718372536,
          2.606741573033708,
          0.5471698113207547,
          0,
          0,
          3.716887417218543,
          5.810526315789474,
          9.488505747126437,
          12.954887218045112,
          0,
          1.1884057971014492,
          0,
          3.5095693779904304,
          4.974025974025974,
          7.568181818181818,
          0.03731343283582089,
          0.40625,
          0.23484848484848486,
          0.087893864013267,
          3.765625,
          0,
          0,
          0,
          0,
          0,
          0.19027484143763213,
          0,
          0,
          17.904558404558404,
          0,
          0,
          0,
          0,
          0.47460757156048017,
          0,
          4.442105263157894,
          0,
          0.09210526315789473,
          0,
          3.5,
          0,
          0,
          0,
          3.9652956298200515,
          1.0580645161290323,
          0.13414634146341464,
          4.5,
          0,
          8.902439024390244,
          4.6521739130434785,
          0.5701149425287356,
          5.698198198198198,
          0,
          0.012345679012345678,
          0,
          5.095744680851064,
          1.4545454545454546,
          0,
          1.25,
          1.9381443298969072,
          0,
          0,
          0.3333333333333333,
          0,
          0,
          1.0833333333333333,
          0,
          1.4893617021276595,
          0,
          4.476190476190476,
          2.1333333333333333,
          6.576923076923077,
          0.16666666666666666,
          0.1111111111111111,
          3.0859375,
          1.8374384236453203,
          0,
          0,
          5.088888888888889,
          0.23809523809523808,
          3.8461538461538463,
          4.411764705882353,
          2.943801652892562,
          7.190322580645161,
          2.1215559157212316,
          0,
          1.7083333333333333,
          3.0434782608695654,
          0,
          4.163793103448276,
          3.2325581395348837,
          3.375,
          5.833333333333333,
          9.705479452054794,
          3.3636363636363638,
          0,
          2.6153846153846154,
          4.950653120464441,
          3.873015873015873,
          4.181818181818182,
          6.645161290322581,
          3.5036630036630036,
          3.9886363636363638,
          0,
          0,
          5.9502762430939224,
          4.4907063197026025,
          5.719512195121951,
          3.2075782537067545,
          0,
          0,
          0.35563380281690143,
          0.48120300751879697,
          0,
          0.3787878787878788,
          0,
          7.076923076923077,
          8.125,
          3.6538461538461537,
          0,
          4.064516129032258,
          12.34548611111111,
          0.8605851979345955,
          4.801418439716312,
          0,
          4.2,
          0,
          0,
          0,
          1.411764705882353,
          6.552631578947368,
          1.2727272727272727,
          2.8,
          5.418439716312057,
          5.264150943396227,
          0.15384615384615385,
          0.7435897435897436,
          0,
          0,
          1.2191780821917808,
          3.834710743801653,
          2.1513761467889907,
          1.6444444444444444,
          5.135135135135135,
          7.147058823529412,
          3,
          0,
          3.933333333333333,
          0.009302325581395349,
          2.242424242424242,
          0,
          0,
          1.095,
          6.177718832891247,
          0.1935483870967742,
          0.032388663967611336,
          3.533333333333333,
          3.6476683937823835,
          5.775764439411098,
          0,
          0,
          0,
          8.195121951219512,
          2.625,
          3.4545454545454546,
          4.8,
          0,
          2.4339622641509435,
          7.804166666666666,
          0.9104477611940298,
          1.1176470588235294,
          4.017361111111111,
          2.327027027027027,
          4.675324675324675,
          5.586065573770492,
          6.287234042553192,
          4.353711790393013,
          2.6363636363636362,
          3.8333333333333335,
          2.1375739644970415,
          5.678966789667896,
          5.933806146572104,
          0,
          2.9473684210526314,
          4.012987012987013,
          4.646788990825688,
          0.0851063829787234,
          0,
          8.126984126984127,
          0,
          6.04390243902439,
          10.126760563380282,
          0.5925925925925926,
          7.798479087452471,
          0,
          4.044150110375276,
          2.3529411764705883,
          1.5757575757575757,
          1.0499001996007984,
          0,
          0.023529411764705882,
          4.258064516129032,
          1.5714285714285714,
          3.72,
          1.2857142857142858,
          1.9051724137931034,
          6.971153846153846,
          4.011111111111111,
          0,
          2.456603773584906,
          9.300380228136882,
          0.45588235294117646,
          1.2727272727272727,
          3.4048582995951415,
          3.983213429256595,
          8.808457711442786,
          4.327044025157233,
          8.55232558139535,
          0,
          0,
          10.026490066225165,
          0.7142857142857143,
          0,
          0,
          0,
          0.90625,
          4.416666666666667,
          2.1951219512195124,
          1.5576923076923077,
          0.46153846153846156,
          2.5625,
          0.46511627906976744,
          3.8073394495412844,
          12.804597701149426,
          0,
          3.152139461172742,
          0,
          0,
          0.2,
          0,
          4.08955223880597,
          2.1496598639455784,
          1.9298245614035088,
          0,
          0.21428571428571427,
          5.852941176470588,
          5.5054945054945055,
          1.4444444444444444,
          7.962162162162162,
          0.7979166666666667,
          4.264026402640264,
          0.6145833333333334,
          4.835820895522388,
          6.642857142857143,
          4.1875,
          1.0909090909090908,
          2.388888888888889,
          2.6015625,
          11.576923076923077,
          0.1888111888111888,
          0,
          0,
          6.8431372549019605,
          2.1875,
          0,
          0.40625,
          2.3333333333333335,
          1.6666666666666667,
          0.45717884130982367,
          0,
          0,
          0,
          5.794871794871795,
          6.882352941176471,
          1.6521739130434783,
          1.05,
          0.17647058823529413,
          8.320328542094456,
          1.7222222222222223,
          0.27586206896551724,
          0,
          3.923076923076923,
          0.46875,
          5.67381974248927,
          0,
          3.432515337423313,
          0,
          3.495575221238938,
          5.013513513513513,
          0,
          2.064516129032258,
          7.5390243902439025,
          0,
          0.028985507246376812,
          2.563876651982379,
          5.12,
          1.5909090909090908,
          6.120567375886525,
          0.09259259259259259,
          11.033783783783784,
          0,
          5.294117647058823,
          1.6153846153846154,
          5.69811320754717,
          3,
          3.374269005847953,
          0.7162921348314607,
          0,
          1.5,
          0.6745098039215687,
          3.814159292035398,
          0.006024096385542169,
          0,
          2.875,
          0,
          0,
          0,
          0,
          0,
          0,
          3.021276595744681,
          7.882352941176471,
          3.797180043383948,
          0,
          0.10894941634241245,
          5.066666666666666,
          14.495429616087751,
          0,
          4.882882882882883,
          0,
          3.096774193548387,
          0,
          1.88,
          5.214285714285714,
          8.210526315789474,
          0.05803571428571429,
          4.866666666666666,
          0.11538461538461539,
          0.10810810810810811,
          4.815789473684211,
          4.760869565217392,
          0.9642857142857143,
          0,
          14.578125,
          0,
          0.5663716814159292,
          4.278931750741839,
          1.75,
          8.066273932253313,
          3.375,
          3.704225352112676,
          6.105263157894737,
          0,
          6.3566978193146415,
          4.325281803542673,
          7.66256157635468,
          3.7947686116700203,
          3.4158878504672896,
          7.102564102564102,
          3.0693430656934306,
          4.019323671497585,
          3.5,
          3.574468085106383,
          5.1731107205623905,
          1.605095541401274,
          3.1150442477876106,
          0.875,
          3.1953125,
          4.0754716981132075,
          2.6893203883495147,
          3.8923076923076922,
          4.2025316455696204,
          1.6310679611650485,
          0.0196078431372549,
          3.436482084690554,
          0,
          4.136986301369863,
          2.3333333333333335,
          2.3947368421052633,
          2,
          1.9230769230769231,
          1.4210526315789473,
          4.466666666666667,
          0,
          0,
          1.601139601139601,
          0.35097493036211697,
          1.9523809523809523,
          3.988857938718663,
          5.496551724137931,
          0.15789473684210525,
          0,
          1.1380597014925373,
          3.955631399317406,
          0.6666666666666666,
          5.568539325842696,
          0,
          0.8963730569948186,
          0,
          0,
          0,
          0,
          0,
          0,
          0,
          2.9597701149425286,
          2.3914473684210527,
          0,
          6.593466424682395,
          4.102564102564102,
          3.3345195729537367,
          0.281786941580756,
          3.2440944881889764,
          0.008064516129032258,
          0,
          2.345,
          3.6577946768060836,
          4.765410958904109,
          3.4827586206896552,
          0,
          0,
          0.05084745762711865,
          1.25,
          0,
          0.00881057268722467,
          2.4324324324324325,
          0,
          4.747126436781609,
          8.723895582329318,
          0,
          0,
          0,
          0,
          0,
          0.06060606060606061,
          0,
          0,
          0,
          7.014925373134329,
          0,
          0,
          4.915384615384616,
          1.1176470588235294,
          0,
          2.64,
          3.642857142857143,
          3.4375,
          0,
          4.904761904761905,
          8.59047619047619,
          0,
          3.3478915662650603,
          2.4761904761904763,
          0,
          1.7272727272727273,
          0,
          5.325986078886311,
          7.030612244897959,
          1.3125,
          2.466666666666667,
          8.604166666666666,
          2.25,
          0,
          2.388732394366197,
          2.7735849056603774,
          5.950795947901592,
          3.3,
          6.619909502262443,
          2.972972972972973,
          3.1751497005988023,
          7.529801324503311,
          0,
          0.040584415584415584,
          5,
          0,
          0,
          0.0425531914893617,
          0,
          3.9166666666666665,
          0,
          1.8076923076923077,
          4.117647058823529,
          0,
          2.688841201716738,
          4.1869565217391305,
          0,
          0,
          2.279220779220779,
          0,
          10.1875,
          6.752747252747253,
          5.2987598647125145,
          12.044094488188977,
          0.7313432835820896,
          0,
          0,
          0.9230769230769231,
          2.3333333333333335,
          3.1835664335664338,
          0,
          0.8860759493670886,
          0,
          0,
          2.5681818181818183,
          1.3571428571428572,
          1.6428571428571428,
          0,
          1.6377952755905512,
          5.590330788804072,
          4.384615384615385,
          9.575221238938052,
          0,
          0,
          0,
          0.022099447513812154,
          0,
          0,
          0,
          0.8633093525179856,
          3.099391480730223,
          1.3235294117647058,
          2.5294117647058822,
          0,
          0,
          6.242424242424242,
          8.024896265560166,
          3.706896551724138,
          0,
          0,
          0,
          4.19672131147541,
          7.417049180327869,
          1.5454545454545454,
          0.5603448275862069,
          3.0736842105263156,
          3.2941176470588234,
          4.9375,
          3.6491228070175437,
          0,
          0,
          0,
          0,
          0,
          1.3016528925619835,
          0,
          0,
          0,
          0,
          2.9651741293532337,
          1,
          0,
          0,
          6.866906474820144,
          4.239130434782608,
          2.090909090909091,
          12.36094674556213,
          5,
          0,
          2.6923076923076925,
          6.538461538461538,
          3.4216867469879517,
          0,
          3.381720430107527,
          1.2272727272727273,
          3.7216494845360826,
          4.005464480874317,
          1.4,
          0,
          1.565217391304348,
          0.3094059405940594,
          6.476793248945148,
          5.866666666666666,
          0,
          6.238095238095238,
          0,
          3,
          5.636363636363637,
          5.250847457627119,
          5.331932773109243,
          3.0333796940194713,
          0.04395604395604396,
          0.3181818181818182,
          2.7701149425287355,
          6.041884816753926,
          0.05309734513274336,
          0,
          1,
          0,
          0,
          4.865814696485623,
          3.7435897435897436,
          2.3666666666666667,
          2.6875,
          1.3418803418803418,
          3.917525773195876,
          0,
          0.45454545454545453,
          3.587188612099644,
          2.448717948717949,
          0.36824324324324326,
          3.1180555555555554,
          0,
          0,
          6.910926365795724,
          0,
          1.3045496750232126,
          0.018867924528301886,
          3.23454157782516,
          0,
          0,
          2.618181818181818,
          3.8582089552238807,
          5,
          0,
          5.962264150943396,
          3.8849557522123894,
          4.952,
          1.4150943396226414,
          3.0232558139534884,
          3.62109375,
          0,
          0.7222222222222222,
          0.07142857142857142,
          8.167155425219942,
          0,
          0,
          0,
          1.9166666666666667,
          0,
          0,
          0.45454545454545453,
          0.24528301886792453,
          0,
          5.114583333333333,
          0.9285714285714286,
          0,
          0.39204545454545453,
          3.5098039215686274,
          7.266211604095563,
          0,
          0,
          0,
          4.3924050632911396,
          2.3823529411764706,
          7.0060975609756095,
          3.5789473684210527,
          0.9548872180451128,
          3.2033898305084745,
          0,
          0.011086474501108648,
          2.24,
          7.222666666666667,
          3.9166666666666665,
          0,
          0.934156378600823,
          7.770516717325228,
          2.0033149171270717,
          1.3076923076923077,
          5.554761904761905,
          0.37142857142857144,
          0,
          5.556129032258064,
          0.3321100917431193,
          4.4609375,
          0,
          0,
          1.9819277108433735,
          0,
          1.8235294117647058,
          8.72573189522342,
          0.3986013986013986,
          3.1944444444444446,
          0.72,
          2.5394190871369293,
          0,
          0,
          0,
          0,
          0,
          1.426356589147287,
          0,
          0.8,
          3.793103448275862,
          7.289766970618034,
          5.75,
          1.976019184652278,
          2.6907216494845363,
          0,
          3.4214285714285713,
          0,
          6.41240478781284,
          3.549019607843137,
          3.6089385474860336,
          0,
          0,
          0,
          0,
          0,
          0,
          0,
          0,
          0,
          2.7066666666666666,
          0.9672131147540983,
          0.020833333333333332,
          1.3333333333333333,
          0.9534883720930233,
          0,
          0,
          9.10909090909091,
          0.15789473684210525,
          0.5909090909090909,
          0,
          2.69811320754717,
          2.452830188679245,
          4.462921348314607,
          0,
          0,
          7.398589065255732,
          1.1612903225806452,
          4.066666666666666,
          3.4843517138599105,
          0,
          3.9565217391304346,
          0,
          1.6666666666666667,
          4.218181818181818,
          4.814814814814815,
          1.6178861788617886,
          14.76530612244898,
          2.016216216216216,
          6.602609727164888,
          0,
          5.128712871287129,
          4.946428571428571,
          9.4375,
          8.181818181818182,
          0,
          0,
          2.0697674418604652,
          0,
          3.869565217391304,
          0,
          1.0909090909090908,
          2.106382978723404,
          6.552816901408451,
          0.5432098765432098,
          0.1206896551724138,
          0.8214285714285714,
          3.9641025641025642,
          5.1152173913043475,
          0.95,
          6.191235059760956,
          0,
          3.471014492753623,
          1.6727272727272726,
          2.3333333333333335,
          4.533333333333333,
          5.75,
          0,
          2.5675675675675675,
          0
         ],
         "yaxis": "y"
        },
        {
         "hoverlabel": {
          "namelength": 0
         },
         "hovertemplate": "<b>OLS trendline</b><br>Aces_Per_Match = 0.16817 * player_ht + -28.3907<br>R<sup>2</sup>=0.149992<br><br>player_ht=%{x}<br>Aces_Per_Match=%{y} <b>(trend)</b>",
         "legendgroup": "",
         "line": {
          "color": "red"
         },
         "marker": {
          "symbol": "circle"
         },
         "mode": "lines",
         "name": "",
         "showlegend": false,
         "type": "scattergl",
         "x": [
          160,
          160,
          163,
          163,
          163,
          165,
          168,
          168,
          168,
          168,
          170,
          170,
          170,
          170,
          170,
          170,
          170,
          170,
          170,
          170,
          170,
          170,
          170,
          170,
          170,
          170,
          170,
          170,
          170,
          170,
          170,
          170,
          170,
          170,
          170,
          170,
          172,
          173,
          173,
          173,
          173,
          173,
          173,
          173,
          173,
          173,
          173,
          173,
          173,
          173,
          173,
          173,
          173,
          173,
          173,
          173,
          173,
          173,
          173,
          173,
          173,
          173,
          173,
          173,
          173,
          173,
          173,
          173,
          173,
          173,
          173,
          173,
          173,
          173,
          173,
          173,
          173,
          173,
          173,
          173,
          173,
          173,
          173,
          173,
          173,
          173,
          173,
          173,
          173,
          173,
          173,
          173,
          173,
          173,
          173,
          173,
          173,
          173,
          173,
          173,
          175,
          175,
          175,
          175,
          175,
          175,
          175,
          175,
          175,
          175,
          175,
          175,
          175,
          175,
          175,
          175,
          175,
          175,
          175,
          175,
          175,
          175,
          175,
          175,
          175,
          175,
          175,
          175,
          175,
          175,
          175,
          175,
          175,
          175,
          175,
          175,
          175,
          175,
          175,
          175,
          175,
          175,
          175,
          175,
          175,
          175,
          175,
          175,
          175,
          175,
          175,
          175,
          175,
          175,
          175,
          175,
          175,
          175,
          175,
          175,
          175,
          175,
          175,
          175,
          175,
          175,
          175,
          175,
          175,
          175,
          175,
          175,
          175,
          175,
          175,
          175,
          175,
          175,
          175,
          175,
          175,
          175,
          175,
          175,
          175,
          175,
          175,
          175,
          175,
          175,
          175,
          175,
          178,
          178,
          178,
          178,
          178,
          178,
          178,
          178,
          178,
          178,
          178,
          178,
          178,
          178,
          178,
          178,
          178,
          178,
          178,
          178,
          178,
          178,
          178,
          178,
          178,
          178,
          178,
          178,
          178,
          178,
          178,
          178,
          178,
          178,
          178,
          178,
          178,
          178,
          178,
          178,
          178,
          178,
          178,
          178,
          178,
          178,
          178,
          178,
          178,
          178,
          178,
          178,
          178,
          178,
          178,
          178,
          178,
          178,
          178,
          178,
          178,
          178,
          178,
          178,
          178,
          178,
          178,
          178,
          178,
          178,
          178,
          178,
          178,
          178,
          178,
          178,
          178,
          178,
          178,
          178,
          178,
          178,
          178,
          178,
          178,
          178,
          178,
          178,
          178,
          178,
          178,
          178,
          178,
          178,
          178,
          178,
          178,
          178,
          178,
          178,
          178,
          178,
          178,
          178,
          178,
          178,
          178,
          178,
          178,
          178,
          178,
          178,
          178,
          178,
          178,
          178,
          178,
          178,
          178,
          178,
          178,
          178,
          178,
          178,
          178,
          180,
          180,
          180,
          180,
          180,
          180,
          180,
          180,
          180,
          180,
          180,
          180,
          180,
          180,
          180,
          180,
          180,
          180,
          180,
          180,
          180,
          180,
          180,
          180,
          180,
          180,
          180,
          180,
          180,
          180,
          180,
          180,
          180,
          180,
          180,
          180,
          180,
          180,
          180,
          180,
          180,
          180,
          180,
          180,
          180,
          180,
          180,
          180,
          180,
          180,
          180,
          180,
          180,
          180,
          180,
          180,
          180,
          180,
          180,
          180,
          180,
          180,
          180,
          180,
          180,
          180,
          180,
          180,
          180,
          180,
          180,
          180,
          180,
          180,
          180,
          180,
          180,
          180,
          180,
          180,
          180,
          180,
          180,
          180,
          180,
          180,
          180,
          180,
          180,
          180,
          180,
          180,
          180,
          180,
          180,
          180,
          180,
          180,
          180,
          180,
          180,
          180,
          180,
          180,
          180,
          180,
          180,
          180,
          180,
          180,
          180,
          180,
          180,
          180,
          180,
          180,
          180,
          180,
          180,
          180,
          180,
          180,
          180,
          180,
          180,
          180,
          180,
          180,
          180,
          180,
          180,
          180,
          180,
          180,
          180,
          180,
          180,
          180,
          180,
          180,
          180,
          180,
          180,
          180,
          180,
          180,
          180,
          180,
          180,
          180,
          180,
          180,
          180,
          180,
          180,
          180,
          180,
          180,
          180,
          180,
          180,
          180,
          180,
          180,
          180,
          180,
          180,
          180,
          180,
          180,
          180,
          180,
          180,
          180,
          180,
          180,
          180,
          180,
          180,
          180,
          180,
          180,
          180,
          180,
          180,
          180,
          180,
          180,
          180,
          180,
          180,
          180,
          180,
          180,
          180,
          180,
          180,
          180,
          180,
          180,
          181,
          183,
          183,
          183,
          183,
          183,
          183,
          183,
          183,
          183,
          183,
          183,
          183,
          183,
          183,
          183,
          183,
          183,
          183,
          183,
          183,
          183,
          183,
          183,
          183,
          183,
          183,
          183,
          183,
          183,
          183,
          183,
          183,
          183,
          183,
          183,
          183,
          183,
          183,
          183,
          183,
          183,
          183,
          183,
          183,
          183,
          183,
          183,
          183,
          183,
          183,
          183,
          183,
          183,
          183,
          183,
          183,
          183,
          183,
          183,
          183,
          183,
          183,
          183,
          183,
          183,
          183,
          183,
          183,
          183,
          183,
          183,
          183,
          183,
          183,
          183,
          183,
          183,
          183,
          183,
          183,
          183,
          183,
          183,
          183,
          183,
          183,
          183,
          183,
          183,
          183,
          183,
          183,
          183,
          183,
          183,
          183,
          183,
          183,
          183,
          183,
          183,
          183,
          183,
          183,
          183,
          183,
          183,
          183,
          183,
          183,
          183,
          183,
          183,
          183,
          183,
          183,
          183,
          183,
          183,
          183,
          183,
          183,
          183,
          183,
          183,
          183,
          183,
          183,
          183,
          183,
          183,
          183,
          183,
          183,
          183,
          183,
          183,
          183,
          183,
          183,
          183,
          183,
          183,
          183,
          183,
          183,
          183,
          183,
          183,
          183,
          183,
          183,
          183,
          183,
          183,
          183,
          183,
          183,
          183,
          183,
          183,
          183,
          183,
          183,
          183,
          183,
          183,
          183,
          183,
          183,
          183,
          183,
          183,
          183,
          183,
          183,
          183,
          183,
          183,
          183,
          183,
          183,
          183,
          183,
          183,
          183,
          183,
          183,
          183,
          183,
          183,
          183,
          185,
          185,
          185,
          185,
          185,
          185,
          185,
          185,
          185,
          185,
          185,
          185,
          185,
          185,
          185,
          185,
          185,
          185,
          185,
          185,
          185,
          185,
          185,
          185,
          185,
          185,
          185,
          185,
          185,
          185,
          185,
          185,
          185,
          185,
          185,
          185,
          185,
          185,
          185,
          185,
          185,
          185,
          185,
          185,
          185,
          185,
          185,
          185,
          185,
          185,
          185,
          185,
          185,
          185,
          185,
          185,
          185,
          185,
          185,
          185,
          185,
          185,
          185,
          185,
          185,
          185,
          185,
          185,
          185,
          185,
          185,
          185,
          185,
          185,
          185,
          185,
          185,
          185,
          185,
          185,
          185,
          185,
          185,
          185,
          185,
          185,
          185,
          185,
          185,
          185,
          185,
          185,
          185,
          185,
          185,
          185,
          185,
          185,
          185,
          185,
          185,
          185,
          185,
          185,
          185,
          185,
          185,
          185,
          185,
          185,
          185,
          185,
          185,
          185,
          185,
          185,
          185,
          185,
          185,
          185,
          185,
          185,
          185,
          185,
          185,
          185,
          185,
          185,
          185,
          185,
          185,
          185,
          185,
          185,
          185,
          185,
          185,
          185,
          185,
          185,
          185,
          185,
          185,
          185,
          185,
          185,
          185,
          185,
          185,
          185,
          185,
          185,
          185,
          185,
          185,
          185,
          185,
          185,
          185,
          185,
          185,
          185,
          185,
          185,
          185,
          185,
          185,
          185,
          185,
          185,
          185,
          185,
          185,
          185,
          185,
          185,
          185,
          185,
          185,
          185,
          185,
          185,
          185,
          185,
          185,
          185,
          185,
          185,
          185,
          185,
          185,
          185,
          185,
          185,
          185,
          185,
          185,
          185,
          185,
          185,
          185,
          185,
          185,
          185,
          185,
          185,
          185,
          185,
          185,
          185,
          185,
          185,
          185,
          185,
          185,
          185,
          185,
          185,
          185,
          185,
          188,
          188,
          188,
          188,
          188,
          188,
          188,
          188,
          188,
          188,
          188,
          188,
          188,
          188,
          188,
          188,
          188,
          188,
          188,
          188,
          188,
          188,
          188,
          188,
          188,
          188,
          188,
          188,
          188,
          188,
          188,
          188,
          188,
          188,
          188,
          188,
          188,
          188,
          188,
          188,
          188,
          188,
          188,
          188,
          188,
          188,
          188,
          188,
          188,
          188,
          188,
          188,
          188,
          188,
          188,
          188,
          188,
          188,
          188,
          188,
          188,
          188,
          188,
          188,
          188,
          188,
          188,
          188,
          188,
          188,
          188,
          188,
          188,
          188,
          188,
          188,
          188,
          188,
          188,
          188,
          188,
          188,
          188,
          188,
          188,
          188,
          188,
          188,
          188,
          188,
          188,
          188,
          188,
          188,
          188,
          188,
          188,
          188,
          188,
          188,
          188,
          188,
          188,
          188,
          188,
          188,
          188,
          188,
          188,
          188,
          188,
          188,
          188,
          188,
          188,
          188,
          188,
          188,
          188,
          188,
          188,
          188,
          188,
          188,
          188,
          188,
          188,
          188,
          188,
          188,
          188,
          188,
          188,
          188,
          188,
          188,
          188,
          188,
          188,
          188,
          188,
          188,
          188,
          188,
          188,
          188,
          188,
          188,
          188,
          188,
          188,
          188,
          188,
          188,
          188,
          188,
          188,
          188,
          188,
          188,
          188,
          188,
          188,
          188,
          190,
          190,
          190,
          190,
          190,
          190,
          190,
          190,
          190,
          190,
          190,
          190,
          190,
          190,
          190,
          190,
          190,
          190,
          190,
          190,
          190,
          190,
          190,
          190,
          190,
          190,
          190,
          190,
          190,
          190,
          190,
          190,
          190,
          190,
          190,
          190,
          190,
          190,
          190,
          190,
          190,
          190,
          190,
          190,
          190,
          190,
          190,
          190,
          190,
          190,
          190,
          190,
          190,
          190,
          190,
          190,
          190,
          190,
          190,
          190,
          190,
          190,
          190,
          190,
          190,
          190,
          190,
          190,
          190,
          190,
          190,
          190,
          190,
          190,
          190,
          190,
          190,
          190,
          190,
          190,
          190,
          190,
          190,
          190,
          190,
          190,
          190,
          190,
          190,
          190,
          190,
          190,
          190,
          190,
          190,
          190,
          190,
          190,
          190,
          190,
          190,
          190,
          190,
          190,
          190,
          190,
          190,
          190,
          190,
          190,
          190,
          190,
          190,
          190,
          190,
          190,
          190,
          190,
          190,
          190,
          190,
          190,
          190,
          190,
          190,
          190,
          190,
          190,
          190,
          190,
          190,
          190,
          190,
          190,
          190,
          190,
          190,
          190,
          193,
          193,
          193,
          193,
          193,
          193,
          193,
          193,
          193,
          193,
          193,
          193,
          193,
          193,
          193,
          193,
          193,
          193,
          193,
          193,
          193,
          193,
          193,
          193,
          193,
          193,
          193,
          193,
          193,
          193,
          193,
          193,
          193,
          193,
          193,
          193,
          193,
          193,
          193,
          193,
          193,
          193,
          193,
          193,
          193,
          193,
          193,
          193,
          193,
          193,
          193,
          193,
          193,
          193,
          193,
          193,
          193,
          193,
          193,
          193,
          193,
          193,
          193,
          193,
          193,
          193,
          193,
          193,
          193,
          193,
          193,
          193,
          193,
          193,
          193,
          193,
          193,
          193,
          193,
          193,
          193,
          193,
          193,
          193,
          194,
          196,
          196,
          196,
          196,
          196,
          196,
          196,
          196,
          196,
          196,
          196,
          196,
          196,
          196,
          196,
          196,
          196,
          196,
          196,
          196,
          196,
          196,
          196,
          196,
          196,
          196,
          196,
          196,
          196,
          196,
          196,
          196,
          196,
          196,
          198,
          198,
          198,
          198,
          198,
          198,
          198,
          198,
          198,
          198,
          198,
          198,
          198,
          201,
          201,
          201,
          201,
          201,
          201,
          201,
          203,
          203,
          203,
          203,
          203,
          203,
          206,
          208
         ],
         "xaxis": "x",
         "y": [
          -1.4834767385471537,
          -1.4834767385471537,
          -0.9789661726976355,
          -0.9789661726976355,
          -0.9789661726976355,
          -0.6426257954646246,
          -0.13811522961510647,
          -0.13811522961510647,
          -0.13811522961510647,
          -0.13811522961510647,
          0.19822514761790444,
          0.19822514761790444,
          0.19822514761790444,
          0.19822514761790444,
          0.19822514761790444,
          0.19822514761790444,
          0.19822514761790444,
          0.19822514761790444,
          0.19822514761790444,
          0.19822514761790444,
          0.19822514761790444,
          0.19822514761790444,
          0.19822514761790444,
          0.19822514761790444,
          0.19822514761790444,
          0.19822514761790444,
          0.19822514761790444,
          0.19822514761790444,
          0.19822514761790444,
          0.19822514761790444,
          0.19822514761790444,
          0.19822514761790444,
          0.19822514761790444,
          0.19822514761790444,
          0.19822514761790444,
          0.19822514761790444,
          0.5345655248509189,
          0.7027357134674226,
          0.7027357134674226,
          0.7027357134674226,
          0.7027357134674226,
          0.7027357134674226,
          0.7027357134674226,
          0.7027357134674226,
          0.7027357134674226,
          0.7027357134674226,
          0.7027357134674226,
          0.7027357134674226,
          0.7027357134674226,
          0.7027357134674226,
          0.7027357134674226,
          0.7027357134674226,
          0.7027357134674226,
          0.7027357134674226,
          0.7027357134674226,
          0.7027357134674226,
          0.7027357134674226,
          0.7027357134674226,
          0.7027357134674226,
          0.7027357134674226,
          0.7027357134674226,
          0.7027357134674226,
          0.7027357134674226,
          0.7027357134674226,
          0.7027357134674226,
          0.7027357134674226,
          0.7027357134674226,
          0.7027357134674226,
          0.7027357134674226,
          0.7027357134674226,
          0.7027357134674226,
          0.7027357134674226,
          0.7027357134674226,
          0.7027357134674226,
          0.7027357134674226,
          0.7027357134674226,
          0.7027357134674226,
          0.7027357134674226,
          0.7027357134674226,
          0.7027357134674226,
          0.7027357134674226,
          0.7027357134674226,
          0.7027357134674226,
          0.7027357134674226,
          0.7027357134674226,
          0.7027357134674226,
          0.7027357134674226,
          0.7027357134674226,
          0.7027357134674226,
          0.7027357134674226,
          0.7027357134674226,
          0.7027357134674226,
          0.7027357134674226,
          0.7027357134674226,
          0.7027357134674226,
          0.7027357134674226,
          0.7027357134674226,
          0.7027357134674226,
          0.7027357134674226,
          0.7027357134674226,
          1.0390760907004335,
          1.0390760907004335,
          1.0390760907004335,
          1.0390760907004335,
          1.0390760907004335,
          1.0390760907004335,
          1.0390760907004335,
          1.0390760907004335,
          1.0390760907004335,
          1.0390760907004335,
          1.0390760907004335,
          1.0390760907004335,
          1.0390760907004335,
          1.0390760907004335,
          1.0390760907004335,
          1.0390760907004335,
          1.0390760907004335,
          1.0390760907004335,
          1.0390760907004335,
          1.0390760907004335,
          1.0390760907004335,
          1.0390760907004335,
          1.0390760907004335,
          1.0390760907004335,
          1.0390760907004335,
          1.0390760907004335,
          1.0390760907004335,
          1.0390760907004335,
          1.0390760907004335,
          1.0390760907004335,
          1.0390760907004335,
          1.0390760907004335,
          1.0390760907004335,
          1.0390760907004335,
          1.0390760907004335,
          1.0390760907004335,
          1.0390760907004335,
          1.0390760907004335,
          1.0390760907004335,
          1.0390760907004335,
          1.0390760907004335,
          1.0390760907004335,
          1.0390760907004335,
          1.0390760907004335,
          1.0390760907004335,
          1.0390760907004335,
          1.0390760907004335,
          1.0390760907004335,
          1.0390760907004335,
          1.0390760907004335,
          1.0390760907004335,
          1.0390760907004335,
          1.0390760907004335,
          1.0390760907004335,
          1.0390760907004335,
          1.0390760907004335,
          1.0390760907004335,
          1.0390760907004335,
          1.0390760907004335,
          1.0390760907004335,
          1.0390760907004335,
          1.0390760907004335,
          1.0390760907004335,
          1.0390760907004335,
          1.0390760907004335,
          1.0390760907004335,
          1.0390760907004335,
          1.0390760907004335,
          1.0390760907004335,
          1.0390760907004335,
          1.0390760907004335,
          1.0390760907004335,
          1.0390760907004335,
          1.0390760907004335,
          1.0390760907004335,
          1.0390760907004335,
          1.0390760907004335,
          1.0390760907004335,
          1.0390760907004335,
          1.0390760907004335,
          1.0390760907004335,
          1.0390760907004335,
          1.0390760907004335,
          1.0390760907004335,
          1.0390760907004335,
          1.0390760907004335,
          1.0390760907004335,
          1.0390760907004335,
          1.0390760907004335,
          1.0390760907004335,
          1.0390760907004335,
          1.0390760907004335,
          1.5435866565499516,
          1.5435866565499516,
          1.5435866565499516,
          1.5435866565499516,
          1.5435866565499516,
          1.5435866565499516,
          1.5435866565499516,
          1.5435866565499516,
          1.5435866565499516,
          1.5435866565499516,
          1.5435866565499516,
          1.5435866565499516,
          1.5435866565499516,
          1.5435866565499516,
          1.5435866565499516,
          1.5435866565499516,
          1.5435866565499516,
          1.5435866565499516,
          1.5435866565499516,
          1.5435866565499516,
          1.5435866565499516,
          1.5435866565499516,
          1.5435866565499516,
          1.5435866565499516,
          1.5435866565499516,
          1.5435866565499516,
          1.5435866565499516,
          1.5435866565499516,
          1.5435866565499516,
          1.5435866565499516,
          1.5435866565499516,
          1.5435866565499516,
          1.5435866565499516,
          1.5435866565499516,
          1.5435866565499516,
          1.5435866565499516,
          1.5435866565499516,
          1.5435866565499516,
          1.5435866565499516,
          1.5435866565499516,
          1.5435866565499516,
          1.5435866565499516,
          1.5435866565499516,
          1.5435866565499516,
          1.5435866565499516,
          1.5435866565499516,
          1.5435866565499516,
          1.5435866565499516,
          1.5435866565499516,
          1.5435866565499516,
          1.5435866565499516,
          1.5435866565499516,
          1.5435866565499516,
          1.5435866565499516,
          1.5435866565499516,
          1.5435866565499516,
          1.5435866565499516,
          1.5435866565499516,
          1.5435866565499516,
          1.5435866565499516,
          1.5435866565499516,
          1.5435866565499516,
          1.5435866565499516,
          1.5435866565499516,
          1.5435866565499516,
          1.5435866565499516,
          1.5435866565499516,
          1.5435866565499516,
          1.5435866565499516,
          1.5435866565499516,
          1.5435866565499516,
          1.5435866565499516,
          1.5435866565499516,
          1.5435866565499516,
          1.5435866565499516,
          1.5435866565499516,
          1.5435866565499516,
          1.5435866565499516,
          1.5435866565499516,
          1.5435866565499516,
          1.5435866565499516,
          1.5435866565499516,
          1.5435866565499516,
          1.5435866565499516,
          1.5435866565499516,
          1.5435866565499516,
          1.5435866565499516,
          1.5435866565499516,
          1.5435866565499516,
          1.5435866565499516,
          1.5435866565499516,
          1.5435866565499516,
          1.5435866565499516,
          1.5435866565499516,
          1.5435866565499516,
          1.5435866565499516,
          1.5435866565499516,
          1.5435866565499516,
          1.5435866565499516,
          1.5435866565499516,
          1.5435866565499516,
          1.5435866565499516,
          1.5435866565499516,
          1.5435866565499516,
          1.5435866565499516,
          1.5435866565499516,
          1.5435866565499516,
          1.5435866565499516,
          1.5435866565499516,
          1.5435866565499516,
          1.5435866565499516,
          1.5435866565499516,
          1.5435866565499516,
          1.5435866565499516,
          1.5435866565499516,
          1.5435866565499516,
          1.5435866565499516,
          1.5435866565499516,
          1.5435866565499516,
          1.5435866565499516,
          1.5435866565499516,
          1.5435866565499516,
          1.5435866565499516,
          1.5435866565499516,
          1.5435866565499516,
          1.8799270337829626,
          1.8799270337829626,
          1.8799270337829626,
          1.8799270337829626,
          1.8799270337829626,
          1.8799270337829626,
          1.8799270337829626,
          1.8799270337829626,
          1.8799270337829626,
          1.8799270337829626,
          1.8799270337829626,
          1.8799270337829626,
          1.8799270337829626,
          1.8799270337829626,
          1.8799270337829626,
          1.8799270337829626,
          1.8799270337829626,
          1.8799270337829626,
          1.8799270337829626,
          1.8799270337829626,
          1.8799270337829626,
          1.8799270337829626,
          1.8799270337829626,
          1.8799270337829626,
          1.8799270337829626,
          1.8799270337829626,
          1.8799270337829626,
          1.8799270337829626,
          1.8799270337829626,
          1.8799270337829626,
          1.8799270337829626,
          1.8799270337829626,
          1.8799270337829626,
          1.8799270337829626,
          1.8799270337829626,
          1.8799270337829626,
          1.8799270337829626,
          1.8799270337829626,
          1.8799270337829626,
          1.8799270337829626,
          1.8799270337829626,
          1.8799270337829626,
          1.8799270337829626,
          1.8799270337829626,
          1.8799270337829626,
          1.8799270337829626,
          1.8799270337829626,
          1.8799270337829626,
          1.8799270337829626,
          1.8799270337829626,
          1.8799270337829626,
          1.8799270337829626,
          1.8799270337829626,
          1.8799270337829626,
          1.8799270337829626,
          1.8799270337829626,
          1.8799270337829626,
          1.8799270337829626,
          1.8799270337829626,
          1.8799270337829626,
          1.8799270337829626,
          1.8799270337829626,
          1.8799270337829626,
          1.8799270337829626,
          1.8799270337829626,
          1.8799270337829626,
          1.8799270337829626,
          1.8799270337829626,
          1.8799270337829626,
          1.8799270337829626,
          1.8799270337829626,
          1.8799270337829626,
          1.8799270337829626,
          1.8799270337829626,
          1.8799270337829626,
          1.8799270337829626,
          1.8799270337829626,
          1.8799270337829626,
          1.8799270337829626,
          1.8799270337829626,
          1.8799270337829626,
          1.8799270337829626,
          1.8799270337829626,
          1.8799270337829626,
          1.8799270337829626,
          1.8799270337829626,
          1.8799270337829626,
          1.8799270337829626,
          1.8799270337829626,
          1.8799270337829626,
          1.8799270337829626,
          1.8799270337829626,
          1.8799270337829626,
          1.8799270337829626,
          1.8799270337829626,
          1.8799270337829626,
          1.8799270337829626,
          1.8799270337829626,
          1.8799270337829626,
          1.8799270337829626,
          1.8799270337829626,
          1.8799270337829626,
          1.8799270337829626,
          1.8799270337829626,
          1.8799270337829626,
          1.8799270337829626,
          1.8799270337829626,
          1.8799270337829626,
          1.8799270337829626,
          1.8799270337829626,
          1.8799270337829626,
          1.8799270337829626,
          1.8799270337829626,
          1.8799270337829626,
          1.8799270337829626,
          1.8799270337829626,
          1.8799270337829626,
          1.8799270337829626,
          1.8799270337829626,
          1.8799270337829626,
          1.8799270337829626,
          1.8799270337829626,
          1.8799270337829626,
          1.8799270337829626,
          1.8799270337829626,
          1.8799270337829626,
          1.8799270337829626,
          1.8799270337829626,
          1.8799270337829626,
          1.8799270337829626,
          1.8799270337829626,
          1.8799270337829626,
          1.8799270337829626,
          1.8799270337829626,
          1.8799270337829626,
          1.8799270337829626,
          1.8799270337829626,
          1.8799270337829626,
          1.8799270337829626,
          1.8799270337829626,
          1.8799270337829626,
          1.8799270337829626,
          1.8799270337829626,
          1.8799270337829626,
          1.8799270337829626,
          1.8799270337829626,
          1.8799270337829626,
          1.8799270337829626,
          1.8799270337829626,
          1.8799270337829626,
          1.8799270337829626,
          1.8799270337829626,
          1.8799270337829626,
          1.8799270337829626,
          1.8799270337829626,
          1.8799270337829626,
          1.8799270337829626,
          1.8799270337829626,
          1.8799270337829626,
          1.8799270337829626,
          1.8799270337829626,
          1.8799270337829626,
          1.8799270337829626,
          1.8799270337829626,
          1.8799270337829626,
          1.8799270337829626,
          1.8799270337829626,
          1.8799270337829626,
          1.8799270337829626,
          1.8799270337829626,
          1.8799270337829626,
          1.8799270337829626,
          1.8799270337829626,
          1.8799270337829626,
          1.8799270337829626,
          1.8799270337829626,
          1.8799270337829626,
          1.8799270337829626,
          1.8799270337829626,
          1.8799270337829626,
          1.8799270337829626,
          1.8799270337829626,
          1.8799270337829626,
          1.8799270337829626,
          1.8799270337829626,
          1.8799270337829626,
          1.8799270337829626,
          1.8799270337829626,
          1.8799270337829626,
          1.8799270337829626,
          1.8799270337829626,
          1.8799270337829626,
          1.8799270337829626,
          1.8799270337829626,
          1.8799270337829626,
          1.8799270337829626,
          1.8799270337829626,
          1.8799270337829626,
          1.8799270337829626,
          1.8799270337829626,
          2.04809722239947,
          2.3844375996324807,
          2.3844375996324807,
          2.3844375996324807,
          2.3844375996324807,
          2.3844375996324807,
          2.3844375996324807,
          2.3844375996324807,
          2.3844375996324807,
          2.3844375996324807,
          2.3844375996324807,
          2.3844375996324807,
          2.3844375996324807,
          2.3844375996324807,
          2.3844375996324807,
          2.3844375996324807,
          2.3844375996324807,
          2.3844375996324807,
          2.3844375996324807,
          2.3844375996324807,
          2.3844375996324807,
          2.3844375996324807,
          2.3844375996324807,
          2.3844375996324807,
          2.3844375996324807,
          2.3844375996324807,
          2.3844375996324807,
          2.3844375996324807,
          2.3844375996324807,
          2.3844375996324807,
          2.3844375996324807,
          2.3844375996324807,
          2.3844375996324807,
          2.3844375996324807,
          2.3844375996324807,
          2.3844375996324807,
          2.3844375996324807,
          2.3844375996324807,
          2.3844375996324807,
          2.3844375996324807,
          2.3844375996324807,
          2.3844375996324807,
          2.3844375996324807,
          2.3844375996324807,
          2.3844375996324807,
          2.3844375996324807,
          2.3844375996324807,
          2.3844375996324807,
          2.3844375996324807,
          2.3844375996324807,
          2.3844375996324807,
          2.3844375996324807,
          2.3844375996324807,
          2.3844375996324807,
          2.3844375996324807,
          2.3844375996324807,
          2.3844375996324807,
          2.3844375996324807,
          2.3844375996324807,
          2.3844375996324807,
          2.3844375996324807,
          2.3844375996324807,
          2.3844375996324807,
          2.3844375996324807,
          2.3844375996324807,
          2.3844375996324807,
          2.3844375996324807,
          2.3844375996324807,
          2.3844375996324807,
          2.3844375996324807,
          2.3844375996324807,
          2.3844375996324807,
          2.3844375996324807,
          2.3844375996324807,
          2.3844375996324807,
          2.3844375996324807,
          2.3844375996324807,
          2.3844375996324807,
          2.3844375996324807,
          2.3844375996324807,
          2.3844375996324807,
          2.3844375996324807,
          2.3844375996324807,
          2.3844375996324807,
          2.3844375996324807,
          2.3844375996324807,
          2.3844375996324807,
          2.3844375996324807,
          2.3844375996324807,
          2.3844375996324807,
          2.3844375996324807,
          2.3844375996324807,
          2.3844375996324807,
          2.3844375996324807,
          2.3844375996324807,
          2.3844375996324807,
          2.3844375996324807,
          2.3844375996324807,
          2.3844375996324807,
          2.3844375996324807,
          2.3844375996324807,
          2.3844375996324807,
          2.3844375996324807,
          2.3844375996324807,
          2.3844375996324807,
          2.3844375996324807,
          2.3844375996324807,
          2.3844375996324807,
          2.3844375996324807,
          2.3844375996324807,
          2.3844375996324807,
          2.3844375996324807,
          2.3844375996324807,
          2.3844375996324807,
          2.3844375996324807,
          2.3844375996324807,
          2.3844375996324807,
          2.3844375996324807,
          2.3844375996324807,
          2.3844375996324807,
          2.3844375996324807,
          2.3844375996324807,
          2.3844375996324807,
          2.3844375996324807,
          2.3844375996324807,
          2.3844375996324807,
          2.3844375996324807,
          2.3844375996324807,
          2.3844375996324807,
          2.3844375996324807,
          2.3844375996324807,
          2.3844375996324807,
          2.3844375996324807,
          2.3844375996324807,
          2.3844375996324807,
          2.3844375996324807,
          2.3844375996324807,
          2.3844375996324807,
          2.3844375996324807,
          2.3844375996324807,
          2.3844375996324807,
          2.3844375996324807,
          2.3844375996324807,
          2.3844375996324807,
          2.3844375996324807,
          2.3844375996324807,
          2.3844375996324807,
          2.3844375996324807,
          2.3844375996324807,
          2.3844375996324807,
          2.3844375996324807,
          2.3844375996324807,
          2.3844375996324807,
          2.3844375996324807,
          2.3844375996324807,
          2.3844375996324807,
          2.3844375996324807,
          2.3844375996324807,
          2.3844375996324807,
          2.3844375996324807,
          2.3844375996324807,
          2.3844375996324807,
          2.3844375996324807,
          2.3844375996324807,
          2.3844375996324807,
          2.3844375996324807,
          2.3844375996324807,
          2.3844375996324807,
          2.3844375996324807,
          2.3844375996324807,
          2.3844375996324807,
          2.3844375996324807,
          2.3844375996324807,
          2.3844375996324807,
          2.3844375996324807,
          2.3844375996324807,
          2.3844375996324807,
          2.3844375996324807,
          2.3844375996324807,
          2.3844375996324807,
          2.3844375996324807,
          2.3844375996324807,
          2.3844375996324807,
          2.3844375996324807,
          2.3844375996324807,
          2.3844375996324807,
          2.3844375996324807,
          2.3844375996324807,
          2.3844375996324807,
          2.3844375996324807,
          2.3844375996324807,
          2.3844375996324807,
          2.3844375996324807,
          2.720777976865495,
          2.720777976865495,
          2.720777976865495,
          2.720777976865495,
          2.720777976865495,
          2.720777976865495,
          2.720777976865495,
          2.720777976865495,
          2.720777976865495,
          2.720777976865495,
          2.720777976865495,
          2.720777976865495,
          2.720777976865495,
          2.720777976865495,
          2.720777976865495,
          2.720777976865495,
          2.720777976865495,
          2.720777976865495,
          2.720777976865495,
          2.720777976865495,
          2.720777976865495,
          2.720777976865495,
          2.720777976865495,
          2.720777976865495,
          2.720777976865495,
          2.720777976865495,
          2.720777976865495,
          2.720777976865495,
          2.720777976865495,
          2.720777976865495,
          2.720777976865495,
          2.720777976865495,
          2.720777976865495,
          2.720777976865495,
          2.720777976865495,
          2.720777976865495,
          2.720777976865495,
          2.720777976865495,
          2.720777976865495,
          2.720777976865495,
          2.720777976865495,
          2.720777976865495,
          2.720777976865495,
          2.720777976865495,
          2.720777976865495,
          2.720777976865495,
          2.720777976865495,
          2.720777976865495,
          2.720777976865495,
          2.720777976865495,
          2.720777976865495,
          2.720777976865495,
          2.720777976865495,
          2.720777976865495,
          2.720777976865495,
          2.720777976865495,
          2.720777976865495,
          2.720777976865495,
          2.720777976865495,
          2.720777976865495,
          2.720777976865495,
          2.720777976865495,
          2.720777976865495,
          2.720777976865495,
          2.720777976865495,
          2.720777976865495,
          2.720777976865495,
          2.720777976865495,
          2.720777976865495,
          2.720777976865495,
          2.720777976865495,
          2.720777976865495,
          2.720777976865495,
          2.720777976865495,
          2.720777976865495,
          2.720777976865495,
          2.720777976865495,
          2.720777976865495,
          2.720777976865495,
          2.720777976865495,
          2.720777976865495,
          2.720777976865495,
          2.720777976865495,
          2.720777976865495,
          2.720777976865495,
          2.720777976865495,
          2.720777976865495,
          2.720777976865495,
          2.720777976865495,
          2.720777976865495,
          2.720777976865495,
          2.720777976865495,
          2.720777976865495,
          2.720777976865495,
          2.720777976865495,
          2.720777976865495,
          2.720777976865495,
          2.720777976865495,
          2.720777976865495,
          2.720777976865495,
          2.720777976865495,
          2.720777976865495,
          2.720777976865495,
          2.720777976865495,
          2.720777976865495,
          2.720777976865495,
          2.720777976865495,
          2.720777976865495,
          2.720777976865495,
          2.720777976865495,
          2.720777976865495,
          2.720777976865495,
          2.720777976865495,
          2.720777976865495,
          2.720777976865495,
          2.720777976865495,
          2.720777976865495,
          2.720777976865495,
          2.720777976865495,
          2.720777976865495,
          2.720777976865495,
          2.720777976865495,
          2.720777976865495,
          2.720777976865495,
          2.720777976865495,
          2.720777976865495,
          2.720777976865495,
          2.720777976865495,
          2.720777976865495,
          2.720777976865495,
          2.720777976865495,
          2.720777976865495,
          2.720777976865495,
          2.720777976865495,
          2.720777976865495,
          2.720777976865495,
          2.720777976865495,
          2.720777976865495,
          2.720777976865495,
          2.720777976865495,
          2.720777976865495,
          2.720777976865495,
          2.720777976865495,
          2.720777976865495,
          2.720777976865495,
          2.720777976865495,
          2.720777976865495,
          2.720777976865495,
          2.720777976865495,
          2.720777976865495,
          2.720777976865495,
          2.720777976865495,
          2.720777976865495,
          2.720777976865495,
          2.720777976865495,
          2.720777976865495,
          2.720777976865495,
          2.720777976865495,
          2.720777976865495,
          2.720777976865495,
          2.720777976865495,
          2.720777976865495,
          2.720777976865495,
          2.720777976865495,
          2.720777976865495,
          2.720777976865495,
          2.720777976865495,
          2.720777976865495,
          2.720777976865495,
          2.720777976865495,
          2.720777976865495,
          2.720777976865495,
          2.720777976865495,
          2.720777976865495,
          2.720777976865495,
          2.720777976865495,
          2.720777976865495,
          2.720777976865495,
          2.720777976865495,
          2.720777976865495,
          2.720777976865495,
          2.720777976865495,
          2.720777976865495,
          2.720777976865495,
          2.720777976865495,
          2.720777976865495,
          2.720777976865495,
          2.720777976865495,
          2.720777976865495,
          2.720777976865495,
          2.720777976865495,
          2.720777976865495,
          2.720777976865495,
          2.720777976865495,
          2.720777976865495,
          2.720777976865495,
          2.720777976865495,
          2.720777976865495,
          2.720777976865495,
          2.720777976865495,
          2.720777976865495,
          2.720777976865495,
          2.720777976865495,
          2.720777976865495,
          2.720777976865495,
          2.720777976865495,
          2.720777976865495,
          2.720777976865495,
          2.720777976865495,
          2.720777976865495,
          2.720777976865495,
          2.720777976865495,
          2.720777976865495,
          2.720777976865495,
          2.720777976865495,
          2.720777976865495,
          2.720777976865495,
          2.720777976865495,
          2.720777976865495,
          2.720777976865495,
          3.2252885427150133,
          3.2252885427150133,
          3.2252885427150133,
          3.2252885427150133,
          3.2252885427150133,
          3.2252885427150133,
          3.2252885427150133,
          3.2252885427150133,
          3.2252885427150133,
          3.2252885427150133,
          3.2252885427150133,
          3.2252885427150133,
          3.2252885427150133,
          3.2252885427150133,
          3.2252885427150133,
          3.2252885427150133,
          3.2252885427150133,
          3.2252885427150133,
          3.2252885427150133,
          3.2252885427150133,
          3.2252885427150133,
          3.2252885427150133,
          3.2252885427150133,
          3.2252885427150133,
          3.2252885427150133,
          3.2252885427150133,
          3.2252885427150133,
          3.2252885427150133,
          3.2252885427150133,
          3.2252885427150133,
          3.2252885427150133,
          3.2252885427150133,
          3.2252885427150133,
          3.2252885427150133,
          3.2252885427150133,
          3.2252885427150133,
          3.2252885427150133,
          3.2252885427150133,
          3.2252885427150133,
          3.2252885427150133,
          3.2252885427150133,
          3.2252885427150133,
          3.2252885427150133,
          3.2252885427150133,
          3.2252885427150133,
          3.2252885427150133,
          3.2252885427150133,
          3.2252885427150133,
          3.2252885427150133,
          3.2252885427150133,
          3.2252885427150133,
          3.2252885427150133,
          3.2252885427150133,
          3.2252885427150133,
          3.2252885427150133,
          3.2252885427150133,
          3.2252885427150133,
          3.2252885427150133,
          3.2252885427150133,
          3.2252885427150133,
          3.2252885427150133,
          3.2252885427150133,
          3.2252885427150133,
          3.2252885427150133,
          3.2252885427150133,
          3.2252885427150133,
          3.2252885427150133,
          3.2252885427150133,
          3.2252885427150133,
          3.2252885427150133,
          3.2252885427150133,
          3.2252885427150133,
          3.2252885427150133,
          3.2252885427150133,
          3.2252885427150133,
          3.2252885427150133,
          3.2252885427150133,
          3.2252885427150133,
          3.2252885427150133,
          3.2252885427150133,
          3.2252885427150133,
          3.2252885427150133,
          3.2252885427150133,
          3.2252885427150133,
          3.2252885427150133,
          3.2252885427150133,
          3.2252885427150133,
          3.2252885427150133,
          3.2252885427150133,
          3.2252885427150133,
          3.2252885427150133,
          3.2252885427150133,
          3.2252885427150133,
          3.2252885427150133,
          3.2252885427150133,
          3.2252885427150133,
          3.2252885427150133,
          3.2252885427150133,
          3.2252885427150133,
          3.2252885427150133,
          3.2252885427150133,
          3.2252885427150133,
          3.2252885427150133,
          3.2252885427150133,
          3.2252885427150133,
          3.2252885427150133,
          3.2252885427150133,
          3.2252885427150133,
          3.2252885427150133,
          3.2252885427150133,
          3.2252885427150133,
          3.2252885427150133,
          3.2252885427150133,
          3.2252885427150133,
          3.2252885427150133,
          3.2252885427150133,
          3.2252885427150133,
          3.2252885427150133,
          3.2252885427150133,
          3.2252885427150133,
          3.2252885427150133,
          3.2252885427150133,
          3.2252885427150133,
          3.2252885427150133,
          3.2252885427150133,
          3.2252885427150133,
          3.2252885427150133,
          3.2252885427150133,
          3.2252885427150133,
          3.2252885427150133,
          3.2252885427150133,
          3.2252885427150133,
          3.2252885427150133,
          3.2252885427150133,
          3.2252885427150133,
          3.2252885427150133,
          3.2252885427150133,
          3.2252885427150133,
          3.2252885427150133,
          3.2252885427150133,
          3.2252885427150133,
          3.2252885427150133,
          3.2252885427150133,
          3.2252885427150133,
          3.2252885427150133,
          3.2252885427150133,
          3.2252885427150133,
          3.2252885427150133,
          3.2252885427150133,
          3.2252885427150133,
          3.2252885427150133,
          3.2252885427150133,
          3.2252885427150133,
          3.2252885427150133,
          3.2252885427150133,
          3.2252885427150133,
          3.2252885427150133,
          3.2252885427150133,
          3.2252885427150133,
          3.2252885427150133,
          3.2252885427150133,
          3.2252885427150133,
          3.2252885427150133,
          3.2252885427150133,
          3.561628919948024,
          3.561628919948024,
          3.561628919948024,
          3.561628919948024,
          3.561628919948024,
          3.561628919948024,
          3.561628919948024,
          3.561628919948024,
          3.561628919948024,
          3.561628919948024,
          3.561628919948024,
          3.561628919948024,
          3.561628919948024,
          3.561628919948024,
          3.561628919948024,
          3.561628919948024,
          3.561628919948024,
          3.561628919948024,
          3.561628919948024,
          3.561628919948024,
          3.561628919948024,
          3.561628919948024,
          3.561628919948024,
          3.561628919948024,
          3.561628919948024,
          3.561628919948024,
          3.561628919948024,
          3.561628919948024,
          3.561628919948024,
          3.561628919948024,
          3.561628919948024,
          3.561628919948024,
          3.561628919948024,
          3.561628919948024,
          3.561628919948024,
          3.561628919948024,
          3.561628919948024,
          3.561628919948024,
          3.561628919948024,
          3.561628919948024,
          3.561628919948024,
          3.561628919948024,
          3.561628919948024,
          3.561628919948024,
          3.561628919948024,
          3.561628919948024,
          3.561628919948024,
          3.561628919948024,
          3.561628919948024,
          3.561628919948024,
          3.561628919948024,
          3.561628919948024,
          3.561628919948024,
          3.561628919948024,
          3.561628919948024,
          3.561628919948024,
          3.561628919948024,
          3.561628919948024,
          3.561628919948024,
          3.561628919948024,
          3.561628919948024,
          3.561628919948024,
          3.561628919948024,
          3.561628919948024,
          3.561628919948024,
          3.561628919948024,
          3.561628919948024,
          3.561628919948024,
          3.561628919948024,
          3.561628919948024,
          3.561628919948024,
          3.561628919948024,
          3.561628919948024,
          3.561628919948024,
          3.561628919948024,
          3.561628919948024,
          3.561628919948024,
          3.561628919948024,
          3.561628919948024,
          3.561628919948024,
          3.561628919948024,
          3.561628919948024,
          3.561628919948024,
          3.561628919948024,
          3.561628919948024,
          3.561628919948024,
          3.561628919948024,
          3.561628919948024,
          3.561628919948024,
          3.561628919948024,
          3.561628919948024,
          3.561628919948024,
          3.561628919948024,
          3.561628919948024,
          3.561628919948024,
          3.561628919948024,
          3.561628919948024,
          3.561628919948024,
          3.561628919948024,
          3.561628919948024,
          3.561628919948024,
          3.561628919948024,
          3.561628919948024,
          3.561628919948024,
          3.561628919948024,
          3.561628919948024,
          3.561628919948024,
          3.561628919948024,
          3.561628919948024,
          3.561628919948024,
          3.561628919948024,
          3.561628919948024,
          3.561628919948024,
          3.561628919948024,
          3.561628919948024,
          3.561628919948024,
          3.561628919948024,
          3.561628919948024,
          3.561628919948024,
          3.561628919948024,
          3.561628919948024,
          3.561628919948024,
          3.561628919948024,
          3.561628919948024,
          3.561628919948024,
          3.561628919948024,
          3.561628919948024,
          3.561628919948024,
          3.561628919948024,
          3.561628919948024,
          3.561628919948024,
          3.561628919948024,
          3.561628919948024,
          3.561628919948024,
          3.561628919948024,
          3.561628919948024,
          3.561628919948024,
          3.561628919948024,
          4.066139485797542,
          4.066139485797542,
          4.066139485797542,
          4.066139485797542,
          4.066139485797542,
          4.066139485797542,
          4.066139485797542,
          4.066139485797542,
          4.066139485797542,
          4.066139485797542,
          4.066139485797542,
          4.066139485797542,
          4.066139485797542,
          4.066139485797542,
          4.066139485797542,
          4.066139485797542,
          4.066139485797542,
          4.066139485797542,
          4.066139485797542,
          4.066139485797542,
          4.066139485797542,
          4.066139485797542,
          4.066139485797542,
          4.066139485797542,
          4.066139485797542,
          4.066139485797542,
          4.066139485797542,
          4.066139485797542,
          4.066139485797542,
          4.066139485797542,
          4.066139485797542,
          4.066139485797542,
          4.066139485797542,
          4.066139485797542,
          4.066139485797542,
          4.066139485797542,
          4.066139485797542,
          4.066139485797542,
          4.066139485797542,
          4.066139485797542,
          4.066139485797542,
          4.066139485797542,
          4.066139485797542,
          4.066139485797542,
          4.066139485797542,
          4.066139485797542,
          4.066139485797542,
          4.066139485797542,
          4.066139485797542,
          4.066139485797542,
          4.066139485797542,
          4.066139485797542,
          4.066139485797542,
          4.066139485797542,
          4.066139485797542,
          4.066139485797542,
          4.066139485797542,
          4.066139485797542,
          4.066139485797542,
          4.066139485797542,
          4.066139485797542,
          4.066139485797542,
          4.066139485797542,
          4.066139485797542,
          4.066139485797542,
          4.066139485797542,
          4.066139485797542,
          4.066139485797542,
          4.066139485797542,
          4.066139485797542,
          4.066139485797542,
          4.066139485797542,
          4.066139485797542,
          4.066139485797542,
          4.066139485797542,
          4.066139485797542,
          4.066139485797542,
          4.066139485797542,
          4.066139485797542,
          4.066139485797542,
          4.066139485797542,
          4.066139485797542,
          4.066139485797542,
          4.066139485797542,
          4.23430967441405,
          4.570650051647057,
          4.570650051647057,
          4.570650051647057,
          4.570650051647057,
          4.570650051647057,
          4.570650051647057,
          4.570650051647057,
          4.570650051647057,
          4.570650051647057,
          4.570650051647057,
          4.570650051647057,
          4.570650051647057,
          4.570650051647057,
          4.570650051647057,
          4.570650051647057,
          4.570650051647057,
          4.570650051647057,
          4.570650051647057,
          4.570650051647057,
          4.570650051647057,
          4.570650051647057,
          4.570650051647057,
          4.570650051647057,
          4.570650051647057,
          4.570650051647057,
          4.570650051647057,
          4.570650051647057,
          4.570650051647057,
          4.570650051647057,
          4.570650051647057,
          4.570650051647057,
          4.570650051647057,
          4.570650051647057,
          4.570650051647057,
          4.906990428880071,
          4.906990428880071,
          4.906990428880071,
          4.906990428880071,
          4.906990428880071,
          4.906990428880071,
          4.906990428880071,
          4.906990428880071,
          4.906990428880071,
          4.906990428880071,
          4.906990428880071,
          4.906990428880071,
          4.906990428880071,
          5.411500994729586,
          5.411500994729586,
          5.411500994729586,
          5.411500994729586,
          5.411500994729586,
          5.411500994729586,
          5.411500994729586,
          5.7478413719626005,
          5.7478413719626005,
          5.7478413719626005,
          5.7478413719626005,
          5.7478413719626005,
          5.7478413719626005,
          6.252351937812115,
          6.5886923150451295
         ],
         "yaxis": "y"
        }
       ],
       "layout": {
        "coloraxis": {
         "colorbar": {
          "title": {
           "text": "Aces_Per_Match"
          }
         },
         "colorscale": [
          [
           0,
           "#0d0887"
          ],
          [
           0.1111111111111111,
           "#46039f"
          ],
          [
           0.2222222222222222,
           "#7201a8"
          ],
          [
           0.3333333333333333,
           "#9c179e"
          ],
          [
           0.4444444444444444,
           "#bd3786"
          ],
          [
           0.5555555555555556,
           "#d8576b"
          ],
          [
           0.6666666666666666,
           "#ed7953"
          ],
          [
           0.7777777777777778,
           "#fb9f3a"
          ],
          [
           0.8888888888888888,
           "#fdca26"
          ],
          [
           1,
           "#f0f921"
          ]
         ]
        },
        "legend": {
         "tracegroupgap": 0
        },
        "template": {
         "data": {
          "bar": [
           {
            "error_x": {
             "color": "#2a3f5f"
            },
            "error_y": {
             "color": "#2a3f5f"
            },
            "marker": {
             "line": {
              "color": "#E5ECF6",
              "width": 0.5
             }
            },
            "type": "bar"
           }
          ],
          "barpolar": [
           {
            "marker": {
             "line": {
              "color": "#E5ECF6",
              "width": 0.5
             }
            },
            "type": "barpolar"
           }
          ],
          "carpet": [
           {
            "aaxis": {
             "endlinecolor": "#2a3f5f",
             "gridcolor": "white",
             "linecolor": "white",
             "minorgridcolor": "white",
             "startlinecolor": "#2a3f5f"
            },
            "baxis": {
             "endlinecolor": "#2a3f5f",
             "gridcolor": "white",
             "linecolor": "white",
             "minorgridcolor": "white",
             "startlinecolor": "#2a3f5f"
            },
            "type": "carpet"
           }
          ],
          "choropleth": [
           {
            "colorbar": {
             "outlinewidth": 0,
             "ticks": ""
            },
            "type": "choropleth"
           }
          ],
          "contour": [
           {
            "colorbar": {
             "outlinewidth": 0,
             "ticks": ""
            },
            "colorscale": [
             [
              0,
              "#0d0887"
             ],
             [
              0.1111111111111111,
              "#46039f"
             ],
             [
              0.2222222222222222,
              "#7201a8"
             ],
             [
              0.3333333333333333,
              "#9c179e"
             ],
             [
              0.4444444444444444,
              "#bd3786"
             ],
             [
              0.5555555555555556,
              "#d8576b"
             ],
             [
              0.6666666666666666,
              "#ed7953"
             ],
             [
              0.7777777777777778,
              "#fb9f3a"
             ],
             [
              0.8888888888888888,
              "#fdca26"
             ],
             [
              1,
              "#f0f921"
             ]
            ],
            "type": "contour"
           }
          ],
          "contourcarpet": [
           {
            "colorbar": {
             "outlinewidth": 0,
             "ticks": ""
            },
            "type": "contourcarpet"
           }
          ],
          "heatmap": [
           {
            "colorbar": {
             "outlinewidth": 0,
             "ticks": ""
            },
            "colorscale": [
             [
              0,
              "#0d0887"
             ],
             [
              0.1111111111111111,
              "#46039f"
             ],
             [
              0.2222222222222222,
              "#7201a8"
             ],
             [
              0.3333333333333333,
              "#9c179e"
             ],
             [
              0.4444444444444444,
              "#bd3786"
             ],
             [
              0.5555555555555556,
              "#d8576b"
             ],
             [
              0.6666666666666666,
              "#ed7953"
             ],
             [
              0.7777777777777778,
              "#fb9f3a"
             ],
             [
              0.8888888888888888,
              "#fdca26"
             ],
             [
              1,
              "#f0f921"
             ]
            ],
            "type": "heatmap"
           }
          ],
          "heatmapgl": [
           {
            "colorbar": {
             "outlinewidth": 0,
             "ticks": ""
            },
            "colorscale": [
             [
              0,
              "#0d0887"
             ],
             [
              0.1111111111111111,
              "#46039f"
             ],
             [
              0.2222222222222222,
              "#7201a8"
             ],
             [
              0.3333333333333333,
              "#9c179e"
             ],
             [
              0.4444444444444444,
              "#bd3786"
             ],
             [
              0.5555555555555556,
              "#d8576b"
             ],
             [
              0.6666666666666666,
              "#ed7953"
             ],
             [
              0.7777777777777778,
              "#fb9f3a"
             ],
             [
              0.8888888888888888,
              "#fdca26"
             ],
             [
              1,
              "#f0f921"
             ]
            ],
            "type": "heatmapgl"
           }
          ],
          "histogram": [
           {
            "marker": {
             "colorbar": {
              "outlinewidth": 0,
              "ticks": ""
             }
            },
            "type": "histogram"
           }
          ],
          "histogram2d": [
           {
            "colorbar": {
             "outlinewidth": 0,
             "ticks": ""
            },
            "colorscale": [
             [
              0,
              "#0d0887"
             ],
             [
              0.1111111111111111,
              "#46039f"
             ],
             [
              0.2222222222222222,
              "#7201a8"
             ],
             [
              0.3333333333333333,
              "#9c179e"
             ],
             [
              0.4444444444444444,
              "#bd3786"
             ],
             [
              0.5555555555555556,
              "#d8576b"
             ],
             [
              0.6666666666666666,
              "#ed7953"
             ],
             [
              0.7777777777777778,
              "#fb9f3a"
             ],
             [
              0.8888888888888888,
              "#fdca26"
             ],
             [
              1,
              "#f0f921"
             ]
            ],
            "type": "histogram2d"
           }
          ],
          "histogram2dcontour": [
           {
            "colorbar": {
             "outlinewidth": 0,
             "ticks": ""
            },
            "colorscale": [
             [
              0,
              "#0d0887"
             ],
             [
              0.1111111111111111,
              "#46039f"
             ],
             [
              0.2222222222222222,
              "#7201a8"
             ],
             [
              0.3333333333333333,
              "#9c179e"
             ],
             [
              0.4444444444444444,
              "#bd3786"
             ],
             [
              0.5555555555555556,
              "#d8576b"
             ],
             [
              0.6666666666666666,
              "#ed7953"
             ],
             [
              0.7777777777777778,
              "#fb9f3a"
             ],
             [
              0.8888888888888888,
              "#fdca26"
             ],
             [
              1,
              "#f0f921"
             ]
            ],
            "type": "histogram2dcontour"
           }
          ],
          "mesh3d": [
           {
            "colorbar": {
             "outlinewidth": 0,
             "ticks": ""
            },
            "type": "mesh3d"
           }
          ],
          "parcoords": [
           {
            "line": {
             "colorbar": {
              "outlinewidth": 0,
              "ticks": ""
             }
            },
            "type": "parcoords"
           }
          ],
          "pie": [
           {
            "automargin": true,
            "type": "pie"
           }
          ],
          "scatter": [
           {
            "marker": {
             "colorbar": {
              "outlinewidth": 0,
              "ticks": ""
             }
            },
            "type": "scatter"
           }
          ],
          "scatter3d": [
           {
            "line": {
             "colorbar": {
              "outlinewidth": 0,
              "ticks": ""
             }
            },
            "marker": {
             "colorbar": {
              "outlinewidth": 0,
              "ticks": ""
             }
            },
            "type": "scatter3d"
           }
          ],
          "scattercarpet": [
           {
            "marker": {
             "colorbar": {
              "outlinewidth": 0,
              "ticks": ""
             }
            },
            "type": "scattercarpet"
           }
          ],
          "scattergeo": [
           {
            "marker": {
             "colorbar": {
              "outlinewidth": 0,
              "ticks": ""
             }
            },
            "type": "scattergeo"
           }
          ],
          "scattergl": [
           {
            "marker": {
             "colorbar": {
              "outlinewidth": 0,
              "ticks": ""
             }
            },
            "type": "scattergl"
           }
          ],
          "scattermapbox": [
           {
            "marker": {
             "colorbar": {
              "outlinewidth": 0,
              "ticks": ""
             }
            },
            "type": "scattermapbox"
           }
          ],
          "scatterpolar": [
           {
            "marker": {
             "colorbar": {
              "outlinewidth": 0,
              "ticks": ""
             }
            },
            "type": "scatterpolar"
           }
          ],
          "scatterpolargl": [
           {
            "marker": {
             "colorbar": {
              "outlinewidth": 0,
              "ticks": ""
             }
            },
            "type": "scatterpolargl"
           }
          ],
          "scatterternary": [
           {
            "marker": {
             "colorbar": {
              "outlinewidth": 0,
              "ticks": ""
             }
            },
            "type": "scatterternary"
           }
          ],
          "surface": [
           {
            "colorbar": {
             "outlinewidth": 0,
             "ticks": ""
            },
            "colorscale": [
             [
              0,
              "#0d0887"
             ],
             [
              0.1111111111111111,
              "#46039f"
             ],
             [
              0.2222222222222222,
              "#7201a8"
             ],
             [
              0.3333333333333333,
              "#9c179e"
             ],
             [
              0.4444444444444444,
              "#bd3786"
             ],
             [
              0.5555555555555556,
              "#d8576b"
             ],
             [
              0.6666666666666666,
              "#ed7953"
             ],
             [
              0.7777777777777778,
              "#fb9f3a"
             ],
             [
              0.8888888888888888,
              "#fdca26"
             ],
             [
              1,
              "#f0f921"
             ]
            ],
            "type": "surface"
           }
          ],
          "table": [
           {
            "cells": {
             "fill": {
              "color": "#EBF0F8"
             },
             "line": {
              "color": "white"
             }
            },
            "header": {
             "fill": {
              "color": "#C8D4E3"
             },
             "line": {
              "color": "white"
             }
            },
            "type": "table"
           }
          ]
         },
         "layout": {
          "annotationdefaults": {
           "arrowcolor": "#2a3f5f",
           "arrowhead": 0,
           "arrowwidth": 1
          },
          "coloraxis": {
           "colorbar": {
            "outlinewidth": 0,
            "ticks": ""
           }
          },
          "colorscale": {
           "diverging": [
            [
             0,
             "#8e0152"
            ],
            [
             0.1,
             "#c51b7d"
            ],
            [
             0.2,
             "#de77ae"
            ],
            [
             0.3,
             "#f1b6da"
            ],
            [
             0.4,
             "#fde0ef"
            ],
            [
             0.5,
             "#f7f7f7"
            ],
            [
             0.6,
             "#e6f5d0"
            ],
            [
             0.7,
             "#b8e186"
            ],
            [
             0.8,
             "#7fbc41"
            ],
            [
             0.9,
             "#4d9221"
            ],
            [
             1,
             "#276419"
            ]
           ],
           "sequential": [
            [
             0,
             "#0d0887"
            ],
            [
             0.1111111111111111,
             "#46039f"
            ],
            [
             0.2222222222222222,
             "#7201a8"
            ],
            [
             0.3333333333333333,
             "#9c179e"
            ],
            [
             0.4444444444444444,
             "#bd3786"
            ],
            [
             0.5555555555555556,
             "#d8576b"
            ],
            [
             0.6666666666666666,
             "#ed7953"
            ],
            [
             0.7777777777777778,
             "#fb9f3a"
            ],
            [
             0.8888888888888888,
             "#fdca26"
            ],
            [
             1,
             "#f0f921"
            ]
           ],
           "sequentialminus": [
            [
             0,
             "#0d0887"
            ],
            [
             0.1111111111111111,
             "#46039f"
            ],
            [
             0.2222222222222222,
             "#7201a8"
            ],
            [
             0.3333333333333333,
             "#9c179e"
            ],
            [
             0.4444444444444444,
             "#bd3786"
            ],
            [
             0.5555555555555556,
             "#d8576b"
            ],
            [
             0.6666666666666666,
             "#ed7953"
            ],
            [
             0.7777777777777778,
             "#fb9f3a"
            ],
            [
             0.8888888888888888,
             "#fdca26"
            ],
            [
             1,
             "#f0f921"
            ]
           ]
          },
          "colorway": [
           "#636efa",
           "#EF553B",
           "#00cc96",
           "#ab63fa",
           "#FFA15A",
           "#19d3f3",
           "#FF6692",
           "#B6E880",
           "#FF97FF",
           "#FECB52"
          ],
          "font": {
           "color": "#2a3f5f"
          },
          "geo": {
           "bgcolor": "white",
           "lakecolor": "white",
           "landcolor": "#E5ECF6",
           "showlakes": true,
           "showland": true,
           "subunitcolor": "white"
          },
          "hoverlabel": {
           "align": "left"
          },
          "hovermode": "closest",
          "mapbox": {
           "style": "light"
          },
          "paper_bgcolor": "white",
          "plot_bgcolor": "#E5ECF6",
          "polar": {
           "angularaxis": {
            "gridcolor": "white",
            "linecolor": "white",
            "ticks": ""
           },
           "bgcolor": "#E5ECF6",
           "radialaxis": {
            "gridcolor": "white",
            "linecolor": "white",
            "ticks": ""
           }
          },
          "scene": {
           "xaxis": {
            "backgroundcolor": "#E5ECF6",
            "gridcolor": "white",
            "gridwidth": 2,
            "linecolor": "white",
            "showbackground": true,
            "ticks": "",
            "zerolinecolor": "white"
           },
           "yaxis": {
            "backgroundcolor": "#E5ECF6",
            "gridcolor": "white",
            "gridwidth": 2,
            "linecolor": "white",
            "showbackground": true,
            "ticks": "",
            "zerolinecolor": "white"
           },
           "zaxis": {
            "backgroundcolor": "#E5ECF6",
            "gridcolor": "white",
            "gridwidth": 2,
            "linecolor": "white",
            "showbackground": true,
            "ticks": "",
            "zerolinecolor": "white"
           }
          },
          "shapedefaults": {
           "line": {
            "color": "#2a3f5f"
           }
          },
          "ternary": {
           "aaxis": {
            "gridcolor": "white",
            "linecolor": "white",
            "ticks": ""
           },
           "baxis": {
            "gridcolor": "white",
            "linecolor": "white",
            "ticks": ""
           },
           "bgcolor": "#E5ECF6",
           "caxis": {
            "gridcolor": "white",
            "linecolor": "white",
            "ticks": ""
           }
          },
          "title": {
           "x": 0.05
          },
          "xaxis": {
           "automargin": true,
           "gridcolor": "white",
           "linecolor": "white",
           "ticks": "",
           "title": {
            "standoff": 15
           },
           "zerolinecolor": "white",
           "zerolinewidth": 2
          },
          "yaxis": {
           "automargin": true,
           "gridcolor": "white",
           "linecolor": "white",
           "ticks": "",
           "title": {
            "standoff": 15
           },
           "zerolinecolor": "white",
           "zerolinewidth": 2
          }
         }
        },
        "title": {
         "text": "Aces vs Height"
        },
        "xaxis": {
         "anchor": "y",
         "domain": [
          0,
          1
         ],
         "title": {
          "text": "player_ht"
         }
        },
        "yaxis": {
         "anchor": "x",
         "domain": [
          0,
          1
         ],
         "title": {
          "text": "Aces_Per_Match"
         }
        }
       }
      },
      "text/html": [
       "<div>\n",
       "        \n",
       "        \n",
       "            <div id=\"a2d3aa3b-0ae3-4b7f-bb77-cd4820399712\" class=\"plotly-graph-div\" style=\"height:525px; width:100%;\"></div>\n",
       "            <script type=\"text/javascript\">\n",
       "                require([\"plotly\"], function(Plotly) {\n",
       "                    window.PLOTLYENV=window.PLOTLYENV || {};\n",
       "                    \n",
       "                if (document.getElementById(\"a2d3aa3b-0ae3-4b7f-bb77-cd4820399712\")) {\n",
       "                    Plotly.newPlot(\n",
       "                        'a2d3aa3b-0ae3-4b7f-bb77-cd4820399712',\n",
       "                        [{\"customdata\": [[995.0, \"Aaron Krickstein\", 183.0, 653], [31.0, \"Adam Malik\", 193.0, 25], [89.0, \"Adrian Garcia\", 175.0, 41], [2051.0, \"Adrian Mannarino\", 183.0, 440], [0.0, \"Adrian Marcu\", 190.0, 26], [115.0, \"Adrian Ungur\", 178.0, 60], [1585.0, \"Adrian Voinea\", 185.0, 312], [0.0, \"Adriano Panatta\", 183.0, 662], [2649.0, \"Agustin Calleri\", 183.0, 399], [15.0, \"Agustin Moreno\", 180.0, 26], [0.0, \"Ahmed El Mehelmy\", 183.0, 40], [279.0, \"Aisam Ul Haq Qureshi\", 183.0, 71], [29.0, \"Aki Rahunen\", 175.0, 79], [0.0, \"Al Parker\", 188.0, 11], [0.0, \"Alan Fox\", 173.0, 21], [26.0, \"Alan Mackin\", 183.0, 15], [264.0, \"Albano Olivetti\", 203.0, 14], [88.0, \"Albert Chang\", 183.0, 25], [2207.0, \"Albert Costa\", 180.0, 662], [1804.0, \"Albert Montanes\", 175.0, 544], [1382.0, \"Albert Portas\", 188.0, 340], [1594.0, \"Albert Ramos\", 188.0, 462], [758.0, \"Alberto Berasategui\", 173.0, 478], [355.0, \"Alberto Mancini\", 180.0, 276], [979.0, \"Alberto Martin\", 175.0, 488], [0.0, \"Alberto Tous\", 175.0, 102], [10.0, \"Aldin Setkic\", 193.0, 15], [0.0, \"Alejandro Aramburu\", 175.0, 16], [853.0, \"Alejandro Falla\", 185.0, 283], [0.0, \"Alejandro Ganzabal\", 180.0, 115], [0.0, \"Alejandro Gattiker\", 180.0, 27], [154.0, \"Alejandro Hernandez\", 180.0, 77], [73.0, \"Alejo Mancisidor\", 183.0, 26], [0.0, \"Alessandro De Minicis\", 175.0, 26], [110.0, \"Alessandro Giannessi\", 183.0, 31], [189.0, \"Alessio Di Mauro\", 185.0, 53], [532.0, \"Alex Antonitsch\", 188.0, 251], [220.0, \"Alex Bogdanovic\", 183.0, 47], [388.0, \"Alex Bogomolov Jr\", 178.0, 178], [1051.0, \"Alex Calatrava\", 190.0, 178], [2610.0, \"Alex Corretja\", 180.0, 723], [71.0, \"Alex Kim\", 175.0, 34], [286.0, \"Alex Kuznetsov\", 183.0, 39], [101.0, \"Alex Lopez Moron\", 175.0, 54], [1020.0, \"Alex Obrien\", 185.0, 230], [970.0, \"Alex Radulescu\", 185.0, 96], [0.0, \"Alex Stepanek\", 180.0, 11], [126.0, \"Alexander Kudryavtsev\", 183.0, 20], [699.0, \"Alexander Mronz\", 188.0, 169], [273.0, \"Alexander Peya\", 183.0, 73], [485.0, \"Alexander Popp\", 201.0, 110], [53.0, \"Alexander Reichel\", 193.0, 11], [1898.0, \"Alexander Volkov\", 188.0, 562], [946.0, \"Alexander Waske\", 188.0, 92], [3029.0, \"Alexander Zverev\", 198.0, 370], [0.0, \"Alexander Zverev Sr\", 185.0, 30], [3147.0, \"Alexandr Dolgopolov\", 180.0, 423], [2.0, \"Alexandre Hocevar\", 190.0, 14], [200.0, \"Alexandre Simoni\", 188.0, 33], [0.0, \"Alexey Kedryuk\", 193.0, 34], [34.0, \"Alistair Hunt\", 190.0, 29], [2050.0, \"Aljaz Bedene\", 181.0, 255], [44.0, \"Alun Jones\", 180.0, 13], [0.0, \"Alvaro Fillol\", 178.0, 117], [0.0, \"Alvaro Jordan\", 185.0, 33], [807.0, \"Amer Delic\", 196.0, 89], [23.0, \"Amir Hadad\", 183.0, 14], [27.0, \"Amir Weintraub\", 188.0, 23], [813.0, \"Amos Mansdorf\", 175.0, 542], [0.0, \"Anand Amritraj\", 185.0, 291], [600.0, \"Anders Jarryd\", 180.0, 658], [4055.0, \"Andre Agassi\", 180.0, 1147], [386.0, \"Andre Sa\", 185.0, 144], [1012.0, \"Andrea Gaudenzi\", 183.0, 451], [42.0, \"Andrea Stoppini\", 190.0, 11], [459.0, \"Andreas Beck\", 190.0, 107], [814.0, \"Andreas Haider Maurer\", 190.0, 124], [0.0, \"Andreas Maurer\", 175.0, 260], [3692.0, \"Andreas Seppi\", 190.0, 783], [772.0, \"Andreas Vinciguerra\", 180.0, 190], [656.0, \"Andrei Cherkasov\", 180.0, 407], [881.0, \"Andrei Chesnokov\", 188.0, 608], [2768.0, \"Andrei Medvedev\", 193.0, 537], [16.0, \"Andrei Merinov\", 183.0, 16], [1759.0, \"Andrei Olhovskiy\", 185.0, 283], [2390.0, \"Andrei Pavel\", 183.0, 548], [11.0, \"Andrei Rybalko\", 180.0, 24], [459.0, \"Andrei Stoliarov\", 178.0, 95], [94.0, \"Andrej Martin\", 180.0, 47], [0.0, \"Andres Gimeno\", 185.0, 313], [396.0, \"Andres Gomez\", 193.0, 806], [7.0, \"Andres Vysand\", 180.0, 42], [0.0, \"Andrew Burrow\", 178.0, 11], [40.0, \"Andrew Castle\", 190.0, 78], [970.0, \"Andrew Ilie\", 180.0, 206], [0.0, \"Andrew Pattison\", 188.0, 546], [152.0, \"Andrew Richardson\", 201.0, 20], [128.0, \"Andrew Sznajder\", 175.0, 132], [679.0, \"Andrey Golubev\", 185.0, 184], [885.0, \"Andrey Kuznetsov\", 185.0, 177], [0.0, \"Andy Andrews\", 185.0, 59], [0.0, \"Andy Kohlberg\", 178.0, 51], [5816.0, \"Andy Murray\", 190.0, 890], [76.0, \"Andy Ram\", 180.0, 17], [9040.0, \"Andy Roddick\", 188.0, 827], [0.0, \"Angel Gimenez\", 163.0, 197], [90.0, \"Antonio Veic\", 180.0, 35], [1539.0, \"Antony Dupuis\", 185.0, 214], [1555.0, \"Arnaud Boetsch\", 183.0, 437], [3135.0, \"Arnaud Clement\", 173.0, 646], [400.0, \"Arnaud Di Pasquale\", 185.0, 167], [313.0, \"Arne Thoms\", 188.0, 58], [0.0, \"Arthur Ashe\", 185.0, 955], [271.0, \"Arvind Parmar\", 193.0, 45], [104.0, \"Attila Balazs\", 180.0, 50], [375.0, \"Attila Savolt\", 183.0, 101], [155.0, \"Axel Pretzsch\", 185.0, 36], [0.0, \"Balazs Taroczy\", 183.0, 671], [202.0, \"Barry Cowan\", 188.0, 26], [0.0, \"Barry Mackay\", 190.0, 33], [0.0, \"Barry Moir\", 180.0, 95], [0.0, \"Barry Phillips Moore\", 173.0, 412], [35.0, \"Bart Wuyts\", 178.0, 117], [0.0, \"Belus Prajoux\", 170.0, 220], [95.0, \"Ben Ellwood\", 178.0, 18], [0.0, \"Ben Testerman\", 185.0, 189], [55.0, \"Benjamin Balleret\", 185.0, 55], [2838.0, \"Benjamin Becker\", 178.0, 375], [3961.0, \"Benoit Paire\", 196.0, 463], [8.0, \"Bent Ove Pedersen\", 185.0, 23], [0.0, \"Bernard Boileau\", 185.0, 104], [0.0, \"Bernard Fritz\", 173.0, 135], [0.0, \"Bernard Mitton\", 188.0, 426], [2765.0, \"Bernard Tomic\", 193.0, 369], [36.0, \"Bernardo Mota\", 178.0, 37], [1542.0, \"Bernd Karbacher\", 185.0, 297], [0.0, \"Bernhard Pils\", 178.0, 46], [0.0, \"Bill Scanlon\", 185.0, 561], [0.0, \"Billy Martin\", 178.0, 319], [0.0, \"Billy Nealon\", 178.0, 12], [10.0, \"Bing Chao Lin\", 180.0, 31], [33.0, \"Bing Pan\", 185.0, 37], [45.0, \"Bjorn Borg\", 180.0, 789], [803.0, \"Bjorn Phau\", 175.0, 218], [23.0, \"Bjorn Rehnquist\", 175.0, 15], [0.0, \"Blaine Willenborg\", 170.0, 88], [515.0, \"Blaz Kavcic\", 188.0, 148], [390.0, \"Bob Bryan\", 193.0, 61], [0.0, \"Bob Carmichael\", 183.0, 449], [0.0, \"Bob Green\", 193.0, 98], [0.0, \"Bob Hewitt\", 190.0, 402], [0.0, \"Bob Howe\", 183.0, 31], [885.0, \"Bobby Reynolds\", 183.0, 101], [1471.0, \"Bohdan Ulihrach\", 188.0, 478], [35.0, \"Bong Soo Kim\", 180.0, 39], [4362.0, \"Boris Becker\", 190.0, 941], [181.0, \"Boris Pashanski\", 180.0, 81], [1.0, \"Borut Urh\", 190.0, 15], [0.0, \"Brad Drewett\", 185.0, 406], [1200.0, \"Brad Gilbert\", 185.0, 808], [28.0, \"Brad Pearce\", 175.0, 120], [435.0, \"Bradley Klahn\", 190.0, 54], [21.0, \"Branislav Stankovic\", 175.0, 27], [150.0, \"Brendan Evans\", 188.0, 21], [57.0, \"Brent Larkham\", 178.0, 13], [69.0, \"Bret Garnett\", 185.0, 27], [0.0, \"Brett Dickinson\", 183.0, 11], [1038.0, \"Brett Steven\", 185.0, 343], [297.0, \"Brian Baker\", 190.0, 60], [96.0, \"Brian Dabul\", 170.0, 42], [25.0, \"Brian Devening\", 185.0, 11], [97.0, \"Brian Dunn\", 201.0, 16], [20.0, \"Brian Garrow\", 173.0, 39], [0.0, \"Brian Gottfried\", 183.0, 1032], [0.0, \"Brian Levine\", 183.0, 16], [540.0, \"Brian Macphie\", 180.0, 65], [0.0, \"Brian Teacher\", 190.0, 573], [170.0, \"Brian Vahaly\", 183.0, 64], [18.0, \"Broderick Dyke\", 183.0, 199], [1.0, \"Bruce Derlin\", 180.0, 101], [0.0, \"Bruce Foxworth\", 180.0, 25], [0.0, \"Bruce Kleege\", 190.0, 45], [0.0, \"Bruce Manson\", 173.0, 301], [6.0, \"Bruno Echagaray\", 183.0, 13], [5.0, \"Bruno Oresar\", 175.0, 133], [1786.0, \"Bryan Shelton\", 185.0, 242], [80.0, \"Brydan Klein\", 183.0, 14], [0.0, \"Bud Schultz\", 193.0, 101], [0.0, \"Butch Seewagen\", 188.0, 112], [0.0, \"Butch Walts\", 193.0, 279], [1534.0, \"Byron Black\", 175.0, 529], [30.0, \"Carl Limberger\", 170.0, 110], [615.0, \"Carl Uwe Steeb\", 180.0, 425], [995.0, \"Carlos Berlocq\", 183.0, 330], [0.0, \"Carlos Castellan\", 190.0, 70], [1712.0, \"Carlos Costa\", 183.0, 456], [0.0, \"Carlos Di Laura\", 175.0, 49], [0.0, \"Carlos Gattiker\", 175.0, 28], [0.0, \"Carlos Kirmayr\", 173.0, 324], [4392.0, \"Carlos Moya\", 190.0, 900], [201.0, \"Carsten Arriens\", 193.0, 64], [236.0, \"Carsten Ball\", 198.0, 26], [0.0, \"Cary Stansbury\", 196.0, 31], [63.0, \"Cassio Motta\", 180.0, 298], [459.0, \"Cecil Mamiit\", 173.0, 167], [3687.0, \"Cedric Pioline\", 188.0, 708], [254.0, \"Cedrik Marcel Stebe\", 183.0, 75], [9.0, \"Cesar Kist\", 180.0, 24], [0.0, \"Charles Bud Cox\", 196.0, 26], [0.0, \"Charles Buzz Strode\", 183.0, 32], [0.0, \"Charlie Fancutt\", 178.0, 62], [0.0, \"Chip Hooper\", 198.0, 223], [0.0, \"Choon Ho Kim\", 163.0, 15], [73.0, \"Chris Bailey\", 196.0, 49], [0.0, \"Chris Dunk\", 193.0, 50], [148.0, \"Chris Garner\", 180.0, 62], [1386.0, \"Chris Guccione\", 201.0, 110], [0.0, \"Chris Johnstone\", 175.0, 99], [0.0, \"Chris Lewis\", 180.0, 416], [214.0, \"Chris Pridham\", 183.0, 134], [333.0, \"Chris Wilkinson\", 180.0, 78], [1255.0, \"Chris Woodruff\", 188.0, 216], [23.0, \"Christer Allgardh\", 190.0, 38], [472.0, \"Christian Bergstrom\", 180.0, 326], [153.0, \"Christian Miniussi\", 185.0, 141], [582.0, \"Christian Ruud\", 188.0, 270], [345.0, \"Christian Saceanu\", 190.0, 183], [200.0, \"Christian Vinck\", 183.0, 65], [0.0, \"Christo Steyn\", 185.0, 96], [417.0, \"Christo Van Rensburg\", 185.0, 326], [0.0, \"Christoph Zipf\", 185.0, 43], [0.0, \"Christophe Casa\", 178.0, 54], [0.0, \"Christophe Freyss\", 183.0, 132], [588.0, \"Christophe Rochus\", 170.0, 337], [0.0, \"Christophe Roger Vasselin\", 188.0, 221], [101.0, \"Christophe Van Garsse\", 185.0, 37], [709.0, \"Chuck Adams\", 185.0, 176], [0.0, \"Clark Graebner\", 188.0, 374], [1.0, \"Claude Ngoran\", 190.0, 44], [212.0, \"Claudio Mezzadri\", 180.0, 256], [0.0, \"Claudio Panatta\", 178.0, 247], [120.0, \"Claudio Pistolesi\", 180.0, 188], [30.0, \"Clement Ngoran\", 178.0, 31], [0.0, \"Cliff Drysdale\", 188.0, 581], [0.0, \"Cliff Richey\", 175.0, 628], [0.0, \"Colin Dibley\", 188.0, 636], [0.0, \"Colin Dowdeswell\", 185.0, 294], [14.0, \"Conor Niland\", 185.0, 27], [0.0, \"Corrado Aprili\", 190.0, 20], [0.0, \"Corrado Barazzutti\", 178.0, 566], [0.0, \"Craig A Miller\", 188.0, 79], [0.0, \"Craig Campbell\", 190.0, 21], [0.0, \"Craig Wittus\", 180.0, 57], [357.0, \"Cristiano Caratti\", 178.0, 189], [1321.0, \"Cyril Saulnier\", 190.0, 186], [2.0, \"Cyril Suk\", 180.0, 18], [0.0, \"Dacio Campos\", 185.0, 16], [578.0, \"Damir Dzumhur\", 172.0, 244], [0.0, \"Damir Keretic\", 178.0, 219], [0.0, \"Dan Cassidy\", 178.0, 110], [0.0, \"Dan Goldberg\", 185.0, 11], [76.0, \"Dan Goldie\", 188.0, 239], [240.0, \"Danai Udomchoke\", 173.0, 131], [22.0, \"Danie Visser\", 180.0, 221], [1335.0, \"Daniel Brands\", 196.0, 153], [95.0, \"Daniel Elsner\", 183.0, 35], [635.0, \"Daniel Evans\", 175.0, 152], [1221.0, \"Daniel Gimeno Traver\", 185.0, 270], [28.0, \"Daniel King Turner\", 190.0, 29], [86.0, \"Daniel Koellerer\", 180.0, 55], [1429.0, \"Daniel Nestor\", 190.0, 205], [66.0, \"Daniel Orsanic\", 183.0, 45], [2615.0, \"Daniel Vacek\", 190.0, 403], [621.0, \"Daniele Bracciali\", 180.0, 90], [42.0, \"Daniele Musa\", 183.0, 13], [149.0, \"Danilo Marcelino\", 193.0, 86], [0.0, \"Danny Saltz\", 193.0, 37], [98.0, \"Danny Sapsford\", 173.0, 50], [129.0, \"Darren Cahill\", 185.0, 257], [120.0, \"Dave Randall\", 183.0, 22], [108.0, \"David Adams\", 188.0, 30], [9.0, \"David Caldwell\", 180.0, 11], [0.0, \"David Carter\", 183.0, 196], [0.0, \"David De Miguel\", 175.0, 50], [120.0, \"David Dilucia\", 173.0, 24], [0.0, \"David Dowlen\", 178.0, 36], [100.0, \"David Engel\", 180.0, 72], [2926.0, \"David Ferrer\", 175.0, 1119], [2433.0, \"David Goffin\", 163.0, 461], [23.0, \"David Guez\", 185.0, 18], [0.0, \"David Lewis\", 180.0, 30], [1.0, \"David Macpherson\", 175.0, 13], [0.0, \"David Mustard\", 180.0, 50], [188.0, \"David Nainkin\", 183.0, 72], [2030.0, \"David Nalbandian\", 180.0, 579], [209.0, \"David Pate\", 183.0, 349], [2691.0, \"David Prinosil\", 185.0, 390], [390.0, \"David Rikl\", 178.0, 148], [480.0, \"David Sanchez\", 183.0, 206], [0.0, \"David Schneider\", 185.0, 120], [23.0, \"David Skoch\", 183.0, 17], [2471.0, \"David Wheaton\", 193.0, 423], [281.0, \"David Witt\", 190.0, 38], [2134.0, \"Davide Sanguinetti\", 188.0, 414], [64.0, \"Davide Scala\", 180.0, 21], [352.0, \"Denis Gremelmayr\", 183.0, 90], [2956.0, \"Denis Istomin\", 188.0, 491], [877.0, \"Denis Kudla\", 180.0, 149], [0.0, \"Dennis Ralston\", 188.0, 191], [416.0, \"Dennis Van Scheppingen\", 185.0, 116], [0.0, \"Derek Tarr\", 185.0, 58], [966.0, \"Derrick Rostagno\", 185.0, 376], [927.0, \"Dick Norman\", 203.0, 99], [0.0, \"Dick Stockton\", 188.0, 655], [168.0, \"Diego Hartfield\", 185.0, 47], [44.0, \"Diego Junqueira\", 178.0, 44], [1128.0, \"Diego Nargiso\", 188.0, 255], [114.0, \"Diego Perez\", 178.0, 463], [689.0, \"Diego Schwartzman\", 170.0, 311], [19.0, \"Dieter Kindlmann\", 183.0, 12], [146.0, \"Dimitri Poliakov\", 183.0, 82], [183.0, \"Dinu Pescariu\", 185.0, 96], [105.0, \"Dirk Dier\", 185.0, 24], [3219.0, \"Dmitry Tursunov\", 185.0, 457], [2605.0, \"Dominic Thiem\", 185.0, 457], [3181.0, \"Dominik Hrbaty\", 183.0, 679], [89.0, \"Dominik Meffert\", 198.0, 13], [0.0, \"Dominique Bedel\", 185.0, 148], [0.0, \"Don Mccormick\", 180.0, 20], [0.0, \"Donald Dell\", 185.0, 18], [69.0, \"Donald Johnson\", 190.0, 23], [1008.0, \"Donald Young\", 183.0, 315], [0.0, \"Dong Wook Song\", 175.0, 19], [0.0, \"Doug Burke\", 180.0, 27], [0.0, \"Doug Crawford\", 188.0, 61], [213.0, \"Doug Flach\", 183.0, 74], [0.0, \"Drew Gitlin\", 178.0, 82], [684.0, \"Dudi Sela\", 175.0, 336], [1100.0, \"Dusan Lajovic\", 180.0, 300], [193.0, \"Dusan Vemic\", 190.0, 37], [1407.0, \"Dustin Brown\", 196.0, 160], [0.0, \"E Victor Seixas\", 185.0, 16], [0.0, \"Earl Butch Buchholz\", 188.0, 84], [0.0, \"Eddie Dibbs\", 170.0, 859], [0.0, \"Eddie Edwards\", 190.0, 221], [72.0, \"Edgardo Massa\", 180.0, 24], [893.0, \"Edouard Roger Vasselin\", 188.0, 209], [6.0, \"Eduardo Bengoechea\", 185.0, 220], [37.0, \"Eduardo Masso\", 178.0, 120], [0.0, \"Eduardo Osta\", 160.0, 23], [384.0, \"Eduardo Schwank\", 183.0, 105], [137.0, \"Edwin Kempes\", 188.0, 29], [0.0, \"Egan Adams\", 178.0, 31], [0.0, \"Eliot Teltscher\", 178.0, 620], [64.0, \"Ellis Ferreira\", 188.0, 12], [37.0, \"Emanuel Couto\", 183.0, 36], [458.0, \"Emilio Benfele Alvarez\", 183.0, 112], [990.0, \"Emilio Sanchez\", 180.0, 725], [0.0, \"Eoin Collins\", 193.0, 21], [0.0, \"Eric Fromm\", 178.0, 136], [49.0, \"Eric Jelen\", 180.0, 272], [0.0, \"Eric Korita\", 196.0, 61], [68.0, \"Eric Prodon\", 178.0, 20], [141.0, \"Eric Taino\", 175.0, 34], [22.0, \"Eric Winogradsky\", 188.0, 63], [0.0, \"Erick Iskersky\", 180.0, 95], [0.0, \"Erik Van Dillen\", 183.0, 388], [4239.0, \"Ernests Gulbis\", 190.0, 481], [0.0, \"Ernie Fernandez\", 190.0, 20], [23.0, \"Eui Jong Chang\", 183.0, 25], [800.0, \"Evgeny Donskoy\", 185.0, 165], [805.0, \"Evgeny Korolev\", 185.0, 172], [38.0, \"Eyal Erlich\", 183.0, 20], [141.0, \"Eyal Ran\", 183.0, 56], [2172.0, \"Fabio Fognini\", 178.0, 681], [2609.0, \"Fabrice Santoro\", 178.0, 914], [27.0, \"Farrukh Dustov\", 196.0, 37], [96.0, \"Federico Browne\", 180.0, 31], [1040.0, \"Federico Delbonis\", 190.0, 283], [149.0, \"Federico Luzzi\", 188.0, 49], [3.0, \"Federico Mordegan\", 170.0, 11], [8.0, \"Federico Sanchez\", 168.0, 18], [9733.0, \"Feliciano Lopez\", 188.0, 954], [33.0, \"Felipe Rivera\", 183.0, 18], [8.0, \"Felix Barrientos\", 178.0, 28], [1494.0, \"Felix Mantilla\", 180.0, 533], [0.0, \"Ferdi Taygan\", 173.0, 195], [3729.0, \"Fernando Gonzalez\", 183.0, 577], [1.0, \"Fernando Luna\", 175.0, 343], [1344.0, \"Fernando Meligeni\", 180.0, 420], [108.0, \"Fernando Roese\", 190.0, 71], [5304.0, \"Fernando Verdasco\", 188.0, 976], [1100.0, \"Fernando Vicente\", 180.0, 372], [237.0, \"Fernon Wibier\", 188.0, 39], [760.0, \"Filip Dewulf\", 190.0, 222], [721.0, \"Filip Krajinovic\", 185.0, 163], [38.0, \"Filip Prpic\", 173.0, 14], [276.0, \"Filippo Volandri\", 183.0, 403], [82.0, \"Flavio Cipolla\", 173.0, 102], [580.0, \"Flavio Saretta\", 183.0, 157], [1106.0, \"Florent Serra\", 180.0, 293], [2034.0, \"Florian Mayer\", 190.0, 508], [0.0, \"Florin Segarceanu\", 180.0, 136], [5.0, \"Francesco Cancellotti\", 183.0, 234], [1227.0, \"Francisco Clavet\", 183.0, 731], [0.0, \"Francisco Gonzalez\", 193.0, 287], [0.0, \"Francisco Maciel\", 185.0, 107], [72.0, \"Francisco Montana\", 183.0, 54], [248.0, \"Francisco Roig\", 175.0, 160], [10.0, \"Francisco Yunis\", 190.0, 67], [180.0, \"Franco Davin\", 173.0, 310], [1090.0, \"Franco Squillari\", 183.0, 321], [0.0, \"Francois Jauffret\", 180.0, 342], [1247.0, \"Frank Dancevic\", 185.0, 180], [0.0, \"Frank Froehling\", 190.0, 198], [143.0, \"Franko Skugor\", 193.0, 31], [81.0, \"Frantisek Cermak\", 193.0, 25], [0.0, \"Fred Mcnair\", 183.0, 235], [0.0, \"Fred Stolle\", 190.0, 279], [82.0, \"Frederic Fontang\", 183.0, 88], [289.0, \"Frederic Niemeyer\", 190.0, 45], [11.0, \"Frederic Vitoux\", 173.0, 12], [276.0, \"Frederico Gil\", 178.0, 143], [350.0, \"Frederik Fetterlein\", 190.0, 110], [89.0, \"Frederik Nielsen\", 190.0, 57], [209.0, \"Fredrik Jonsson\", 193.0, 36], [0.0, \"Frew Mcmillan\", 183.0, 419], [0.0, \"Fritz Buehning\", 196.0, 235], [198.0, \"Gabriel Markus\", 180.0, 131], [29.0, \"Gabriel Silberstein\", 178.0, 25], [72.0, \"Gabriel Trifu\", 193.0, 18], [0.0, \"Gabriel Urpi\", 173.0, 110], [6201.0, \"Gael Monfils\", 193.0, 777], [1309.0, \"Galo Blanco\", 173.0, 297], [0.0, \"Gap Taik Ro\", 173.0, 11], [0.0, \"Gary Donnelly\", 190.0, 45], [696.0, \"Gary Muller\", 190.0, 203], [305.0, \"Gastao Elias\", 178.0, 84], [418.0, \"Gaston Etlis\", 185.0, 86], [1215.0, \"Gaston Gaudio\", 175.0, 468], [0.0, \"Gene Mayer\", 183.0, 482], [0.0, \"Gene Scott\", 185.0, 56], [101.0, \"Geoff Grant\", 183.0, 27], [0.0, \"George Amaya\", 173.0, 18], [678.0, \"George Bastl\", 183.0, 143], [18.0, \"George Kalovelonis\", 190.0, 55], [0.0, \"Georges Goven\", 173.0, 429], [0.0, \"Gerald Battrick\", 178.0, 330], [42.0, \"Gerald Mandl\", 190.0, 13], [196.0, \"Gerard Solves\", 185.0, 57], [422.0, \"German Lopez\", 193.0, 77], [55.0, \"German Puentes\", 173.0, 41], [1518.0, \"Gianluca Pozzi\", 180.0, 434], [0.0, \"Gianni Ocleppo\", 183.0, 231], [176.0, \"Gilad Bloom\", 173.0, 215], [286.0, \"Gilbert Schaller\", 180.0, 247], [258.0, \"Gilles Elseneer\", 188.0, 42], [0.0, \"Gilles Moretton\", 190.0, 155], [5349.0, \"Gilles Muller\", 193.0, 445], [3657.0, \"Gilles Simon\", 183.0, 867], [65.0, \"Giorgio Galimberti\", 180.0, 30], [108.0, \"Giovanni Lapentti\", 193.0, 56], [5.0, \"Girts Dzelde\", 173.0, 37], [0.0, \"Givaldo Barbosa\", 183.0, 58], [116.0, \"Glenn Layendecker\", 185.0, 181], [33.0, \"Glenn Michibata\", 175.0, 195], [324.0, \"Glenn Weiner\", 188.0, 38], [336.0, \"Go Soeda\", 178.0, 148], [10131.0, \"Goran Ivanisevic\", 193.0, 937], [308.0, \"Goran Prpic\", 180.0, 247], [68.0, \"Gouichi Motomura\", 173.0, 76], [0.0, \"Graham Stilwell\", 173.0, 263], [387.0, \"Grant Connell\", 185.0, 175], [58.0, \"Grant Doyle\", 180.0, 30], [680.0, \"Grant Stafford\", 188.0, 201], [0.0, \"Greg Halder\", 188.0, 34], [0.0, \"Greg Holmes\", 178.0, 176], [7589.0, \"Greg Rusedski\", 193.0, 728], [0.0, \"Greg Whitecross\", 185.0, 45], [547.0, \"Grega Zemlja\", 183.0, 99], [198.0, \"Gregoire Barrere\", 183.0, 32], [0.0, \"Gregoire Rafaitin\", 180.0, 14], [960.0, \"Gregory Carraz\", 190.0, 89], [3666.0, \"Grigor Dimitrov\", 188.0, 534], [1202.0, \"Guido Pella\", 185.0, 233], [1821.0, \"Guillaume Raoux\", 180.0, 404], [313.0, \"Guillaume Rufin\", 188.0, 44], [2152.0, \"Guillermo Canas\", 185.0, 450], [917.0, \"Guillermo Coria\", 175.0, 335], [2360.0, \"Guillermo Garcia Lopez\", 188.0, 653], [160.0, \"Guillermo Perez Roldan\", 178.0, 378], [0.0, \"Guillermo Rivas\", 183.0, 37], [0.0, \"Guillermo Vilas\", 180.0, 1239], [0.0, \"Gustavo Giussani\", 180.0, 26], [0.0, \"Gustavo Guerrero\", 180.0, 29], [4290.0, \"Gustavo Kuerten\", 190.0, 556], [0.0, \"Gustavo Tiberti\", 175.0, 41], [2493.0, \"Guy Forget\", 190.0, 672], [0.0, \"Hank Pfister\", 193.0, 475], [0.0, \"Hans Dieter Beutel\", 185.0, 64], [0.0, \"Hans Gildemeister\", 183.0, 358], [0.0, \"Hans Peter Kandler\", 185.0, 30], [0.0, \"Hans Schwaier\", 173.0, 151], [0.0, \"Hans Simonsson\", 178.0, 116], [497.0, \"Harel Levy\", 185.0, 162], [0.0, \"Harold Solomon\", 168.0, 913], [0.0, \"Haroon Ismail\", 178.0, 82], [7.0, \"Harsh Mankad\", 173.0, 17], [0.0, \"Heiner Moraing\", 190.0, 11], [0.0, \"Heinz Gildemeister\", 178.0, 30], [0.0, \"Heinz Gunthardt\", 180.0, 455], [1090.0, \"Hendrik Dreekmann\", 188.0, 217], [124.0, \"Hendrik Jan Davids\", 183.0, 34], [783.0, \"Henri Leconte\", 185.0, 648], [1670.0, \"Henrik Holm\", 183.0, 207], [0.0, \"Henrik Sundstrom\", 188.0, 262], [25.0, \"Herbert Wiltschnig\", 185.0, 18], [18.0, \"Hermes Gamonal\", 180.0, 16], [633.0, \"Hernan Gumy\", 188.0, 245], [0.0, \"Herve Gauvain\", 180.0, 34], [1632.0, \"Hicham Arazi\", 175.0, 447], [129.0, \"Horacio De La Pena\", 180.0, 370], [1286.0, \"Horacio Zeballos\", 188.0, 224], [518.0, \"Horst Skoff\", 175.0, 433], [0.0, \"Howard Sands\", 173.0, 15], [126.0, \"Hugo Armando\", 183.0, 43], [0.0, \"Hugo Chapacu\", 178.0, 20], [0.0, \"Hugo Nunez\", 170.0, 12], [0.0, \"Huub Van Boeckel\", 190.0, 62], [902.0, \"Hyung Taik Lee\", 180.0, 327], [2129.0, \"Igor Andreev\", 185.0, 469], [648.0, \"Igor Kunitsyn\", 180.0, 242], [956.0, \"Igor Sijsling\", 190.0, 140], [0.0, \"Ilie Nastase\", 183.0, 1198], [349.0, \"Ilija Bozoljac\", 193.0, 31], [621.0, \"Illya Marchenko\", 185.0, 148], [24.0, \"Ion Moldovan\", 188.0, 19], [550.0, \"Irakli Labadze\", 188.0, 134], [18.0, \"Ivan Baron\", 185.0, 11], [2051.0, \"Ivan Dodig\", 183.0, 258], [0.0, \"Ivan Kley\", 183.0, 54], [1701.0, \"Ivan Lendl\", 188.0, 1322], [8108.0, \"Ivan Ljubicic\", 193.0, 728], [55.0, \"Ivan Miranda\", 175.0, 59], [671.0, \"Ivan Navarro\", 183.0, 100], [6.0, \"Ivaylo Traykov\", 188.0, 18], [670.0, \"Ivo Heuberger\", 188.0, 113], [13653.0, \"Ivo Karlovic\", 208.0, 713], [528.0, \"Ivo Minar\", 183.0, 104], [0.0, \"Ivo Werner\", 180.0, 16], [98.0, \"Izak Van Der Merwe\", 196.0, 32], [1926.0, \"Jacco Eltingh\", 188.0, 274], [1980.0, \"Jack Sock\", 185.0, 298], [202.0, \"Jacobo Diaz\", 173.0, 90], [0.0, \"Jaime Fillol\", 180.0, 829], [392.0, \"Jaime Oncins\", 196.0, 171], [461.0, \"Jaime Yzaga\", 170.0, 491], [1803.0, \"Jakob Hlasek\", 188.0, 774], [3472.0, \"James Blake\", 185.0, 626], [760.0, \"James Duckworth\", 183.0, 79], [27.0, \"James Greenhalgh\", 183.0, 16], [48.0, \"James Sekulov\", 180.0, 22], [462.0, \"James Ward\", 190.0, 85], [202.0, \"Jamie Delgado\", 178.0, 46], [1198.0, \"Jamie Morgan\", 185.0, 142], [492.0, \"Jan Apell\", 183.0, 112], [35.0, \"Jan Frode Andersen\", 190.0, 49], [209.0, \"Jan Gunnarsson\", 185.0, 393], [321.0, \"Jan Hajek\", 180.0, 114], [575.0, \"Jan Hernych\", 190.0, 197], [0.0, \"Jan Kodes\", 175.0, 729], [829.0, \"Jan Kroslak\", 188.0, 172], [4170.0, \"Jan Michael Gambill\", 190.0, 401], [3386.0, \"Jan Siemerink\", 183.0, 547], [407.0, \"Jan Vacek\", 198.0, 90], [3452.0, \"Janko Tipsarevic\", 180.0, 550], [546.0, \"Jared Palmer\", 190.0, 150], [2181.0, \"Jarkko Nieminen\", 185.0, 761], [0.0, \"Jaromir Becka\", 175.0, 31], [6.0, \"Jaroslav Bulant\", 175.0, 11], [0.0, \"Jaroslav Navratil\", 196.0, 92], [2428.0, \"Jason Stoltenberg\", 185.0, 572], [1360.0, \"Javier Frana\", 185.0, 324], [1222.0, \"Javier Sanchez\", 178.0, 661], [11.0, \"Jay Berger\", 180.0, 223], [0.0, \"Jay Lapidus\", 188.0, 182], [39.0, \"Jean Francois Bachelot\", 183.0, 11], [0.0, \"Jean Julien Rojer\", 183.0, 14], [479.0, \"Jean Philippe Fleurian\", 185.0, 263], [260.0, \"Jean Rene Lisnard\", 173.0, 140], [0.0, \"Jeff Borowiak\", 193.0, 584], [0.0, \"Jeff Klaparda\", 173.0, 14], [702.0, \"Jeff Morrison\", 185.0, 90], [472.0, \"Jeff Salzenstein\", 185.0, 57], [1817.0, \"Jeff Tarango\", 180.0, 534], [0.0, \"Jeff Turpin\", 188.0, 21], [811.0, \"Jens Knippschild\", 190.0, 117], [22.0, \"Jens Woehrmann\", 180.0, 48], [427.0, \"Jeremy Bates\", 180.0, 322], [4583.0, \"Jeremy Chardy\", 188.0, 564], [1557.0, \"Jerome Golmard\", 188.0, 289], [105.0, \"Jerome Haehnel\", 185.0, 26], [0.0, \"Jerome Potier\", 180.0, 146], [0.0, \"Jerome Vanier\", 175.0, 23], [1585.0, \"Jerzy Janowicz\", 203.0, 198], [207.0, \"Jesse Huta Galung\", 188.0, 42], [470.0, \"Jesse Levine\", 175.0, 95], [68.0, \"Jesse Witten\", 178.0, 11], [3.0, \"Jia Ping Xia\", 165.0, 40], [2852.0, \"Jim Courier\", 185.0, 745], [1240.0, \"Jim Grabb\", 193.0, 378], [0.0, \"Jim Gurfein\", 175.0, 103], [0.0, \"Jim Mcmanus\", 175.0, 271], [0.0, \"Jim Osborne\", 185.0, 148], [50.0, \"Jim Pugh\", 193.0, 180], [136.0, \"Jimmy Arias\", 175.0, 511], [17.0, \"Jimmy Brown\", 180.0, 314], [140.0, \"Jimmy Connors\", 178.0, 1573], [232.0, \"Jimmy Wang\", 178.0, 89], [29.0, \"Jimy Szymanski\", 175.0, 53], [0.0, \"Jin Sun Yoo\", 185.0, 19], [0.0, \"Jiri Granat\", 185.0, 106], [2245.0, \"Jiri Novak\", 190.0, 604], [1104.0, \"Jiri Vanek\", 185.0, 190], [6604.0, \"Jo-Wilfried Tsonga\", 188.0, 696], [1723.0, \"Joachim Johansson\", 198.0, 133], [0.0, \"Joakim Nystrom\", 188.0, 409], [164.0, \"Joao Cunha Silva\", 173.0, 138], [0.0, \"Joao Soares\", 185.0, 144], [1467.0, \"Joao Sousa\", 185.0, 418], [383.0, \"Joao Souza\", 193.0, 77], [666.0, \"Joern Renzenbrink\", 196.0, 88], [5.0, \"Joey Rive\", 185.0, 134], [26.0, \"Johan Anderson\", 183.0, 64], [31.0, \"Johan Carlsson\", 183.0, 132], [53.0, \"Johan Kriek\", 175.0, 603], [482.0, \"Johan Van Herck\", 185.0, 128], [0.0, \"John Alexander\", 190.0, 966], [0.0, \"John Austin\", 193.0, 105], [0.0, \"John Barrett\", 185.0, 18], [0.0, \"John Bartlett\", 188.0, 123], [0.0, \"John Feaver\", 190.0, 241], [90.0, \"John Fitzgerald\", 183.0, 473], [0.0, \"John Frawley\", 173.0, 160], [0.0, \"John Hayes\", 193.0, 46], [12569.0, \"John Isner\", 206.0, 702], [0.0, \"John James\", 183.0, 230], [0.0, \"John Letts\", 185.0, 15], [0.0, \"John Lloyd\", 178.0, 488], [0.0, \"John Mattke\", 183.0, 14], [514.0, \"John McEnroe\", 180.0, 1083], [0.0, \"John Mccurdy\", 188.0, 23], [844.0, \"John Millman\", 183.0, 190], [0.0, \"John Newcombe\", 183.0, 695], [7.0, \"John Ross\", 185.0, 76], [0.0, \"John Sadri\", 188.0, 406], [567.0, \"John Van Lottum\", 185.0, 162], [0.0, \"John Whitlinger\", 180.0, 123], [0.0, \"Johnny Goudenbour\", 178.0, 42], [0.0, \"Jon Levine\", 178.0, 42], [3085.0, \"Jonas Bjorkman\", 183.0, 778], [492.0, \"Jonas Svensson\", 188.0, 465], [22.0, \"Jonathan Canter\", 185.0, 164], [54.0, \"Jonathan Erlich\", 180.0, 12], [0.0, \"Jonathan Smith\", 188.0, 110], [2555.0, \"Jonathan Stark\", 188.0, 287], [107.0, \"Joost Winnink\", 180.0, 23], [248.0, \"Jordi Arrese\", 175.0, 435], [1265.0, \"Jordi Burillo\", 188.0, 222], [0.0, \"Jorge Bardou\", 180.0, 37], [1.0, \"Jorge Lozano\", 180.0, 81], [0.0, \"Jorgen Windahl\", 183.0, 42], [1916.0, \"Jose Acasuso\", 190.0, 376], [16.0, \"Jose Antonio Pepe Conde\", 175.0, 11], [0.0, \"Jose Clavet\", 180.0, 17], [20.0, \"Jose Daher\", 180.0, 16], [188.0, \"Jose Francisco Altur\", 190.0, 97], [0.0, \"Jose Higueras\", 178.0, 701], [0.0, \"Jose Lopez Maeso\", 173.0, 163], [4.0, \"Jose Luis Aparisi\", 178.0, 12], [0.0, \"Jose Luis Clerc\", 185.0, 539], [0.0, \"Jose Luis Damiani\", 185.0, 137], [13.0, \"Jose Luis Noriega\", 178.0, 12], [0.0, \"Jose Mandarino\", 173.0, 67], [70.0, \"Jose Rubin Statham\", 183.0, 47], [0.0, \"Josef Cihak\", 185.0, 46], [94.0, \"Joseph Sirianni\", 175.0, 21], [32.0, \"Joshua Eagle\", 183.0, 15], [171.0, \"Josselin Ouanna\", 193.0, 26], [5.0, \"Jozsef Krocsko\", 180.0, 30], [32.0, \"Juan Aguilera\", 183.0, 288], [395.0, \"Juan Albert Viloca Puig\", 185.0, 128], [373.0, \"Juan Antonio Marin\", 175.0, 203], [0.0, \"Juan Antonio Rodriguez\", 180.0, 11], [0.0, \"Juan Avendano\", 178.0, 117], [458.0, \"Juan Balcells\", 190.0, 90], [5.0, \"Juan Carlos Baguena\", 183.0, 21], [2850.0, \"Juan Carlos Ferrero\", 183.0, 741], [75.0, \"Juan Gisbert Jr\", 198.0, 17], [1781.0, \"Juan Ignacio Chela\", 190.0, 605], [4458.0, \"Juan Martin del Potro\", 198.0, 620], [1309.0, \"Juan Monaco\", 185.0, 617], [0.0, \"Juan Nunez\", 190.0, 29], [41.0, \"Juan Pablo Brzezicki\", 178.0, 24], [70.0, \"Juan Pablo Guzman\", 178.0, 23], [0.0, \"Juan Pino\", 185.0, 38], [483.0, \"Julian Alonso\", 185.0, 116], [139.0, \"Julian Knowle\", 188.0, 43], [162.0, \"Julian Reister\", 188.0, 48], [3325.0, \"Julien Benneteau\", 185.0, 570], [1417.0, \"Julien Boutter\", 190.0, 146], [37.0, \"Julien Varlet\", 180.0, 11], [0.0, \"Julio Goes\", 180.0, 53], [34.0, \"Julio Silva\", 173.0, 13], [3411.0, \"Jurgen Melzer\", 183.0, 689], [244.0, \"Jurgen Zopp\", 190.0, 63], [46.0, \"Justin Bower\", 190.0, 11], [1854.0, \"Justin Gimelstob\", 196.0, 279], [1913.0, \"Karel Novacek\", 190.0, 546], [1404.0, \"Karim Alami\", 185.0, 352], [0.0, \"Karl Coombes\", 180.0, 12], [0.0, \"Karl Meiler\", 178.0, 445], [1077.0, \"Karol Beck\", 180.0, 181], [2416.0, \"Karol Kucera\", 188.0, 538], [938.0, \"Karsten Braasch\", 180.0, 164], [1947.0, \"Kei Nishikori\", 178.0, 607], [0.0, \"Keith Carpenter\", 188.0, 13], [0.0, \"Keith Richardson\", 185.0, 65], [101.0, \"Kelly Evernden\", 175.0, 284], [64.0, \"Kelly Jones\", 185.0, 133], [0.0, \"Kelvin Belcher\", 185.0, 13], [50.0, \"Ken Flach\", 185.0, 132], [0.0, \"Ken Rosewall\", 175.0, 679], [3956.0, \"Kenneth Carlsen\", 190.0, 559], [715.0, \"Kenny De Schepper\", 203.0, 88], [190.0, \"Kenny Thorne\", 188.0, 52], [0.0, \"Kent Carlsson\", 180.0, 218], [126.0, \"Kent Kinnear\", 196.0, 31], [7111.0, \"Kevin Anderson\", 203.0, 576], [500.0, \"Kevin Curren\", 185.0, 581], [677.0, \"Kevin Kim\", 180.0, 141], [0.0, \"Kevin Moir\", 188.0, 13], [231.0, \"Kevin Ullyett\", 178.0, 55], [0.0, \"Khalid Outaleb\", 183.0, 12], [0.0, \"Kim Tiilikainen\", 180.0, 18], [0.0, \"Kim Warwick\", 183.0, 558], [48.0, \"Kittipong Wachiramanowong\", 183.0, 34], [249.0, \"Konstantin Kravchuk\", 190.0, 38], [56.0, \"Konstantinos Economidis\", 188.0, 44], [112.0, \"Kris Goossens\", 180.0, 40], [764.0, \"Kristian Pless\", 188.0, 141], [1116.0, \"Kristof Vliegen\", 193.0, 212], [2.0, \"Kyu Tae Im\", 185.0, 13], [29.0, \"Lamine Ouahab\", 185.0, 39], [0.0, \"Larry Scott\", 188.0, 19], [0.0, \"Larry Stefanki\", 178.0, 140], [89.0, \"Lars Anders Wahlgren\", 193.0, 73], [928.0, \"Lars Burgsmuller\", 183.0, 242], [469.0, \"Lars Jonsson\", 188.0, 218], [74.0, \"Lars Koslowski\", 188.0, 45], [190.0, \"Lars Rehmann\", 196.0, 37], [729.0, \"Laurence Tieleman\", 180.0, 102], [39.0, \"Laurent Prades\", 183.0, 13], [0.0, \"Laurie Warder\", 183.0, 21], [118.0, \"Laurynas Grigelis\", 183.0, 30], [2.0, \"Lawson Duncan\", 185.0, 215], [444.0, \"Leander Paes\", 178.0, 198], [0.0, \"Leif Shiras\", 183.0, 174], [0.0, \"Leo Palin\", 178.0, 115], [219.0, \"Leonardo Lavalle\", 188.0, 200], [2329.0, \"Leonardo Mayer\", 188.0, 377], [6.0, \"Libor Nemecek\", 168.0, 31], [8.0, \"Libor Pimek\", 196.0, 247], [53.0, \"Lionel Barthez\", 180.0, 15], [704.0, \"Lionel Roux\", 185.0, 193], [5100.0, \"Lleyton Hewitt\", 180.0, 883], [0.0, \"Lloyd Bourne\", 190.0, 159], [0.0, \"Loic Courteau\", 175.0, 54], [0.0, \"Lorenzo Fargas\", 173.0, 14], [336.0, \"Lorenzo Manta\", 190.0, 41], [63.0, \"Louis Gloria\", 175.0, 24], [38.0, \"Louk Sorensen\", 175.0, 11], [96.0, \"Lovro Zovko\", 190.0, 20], [0.0, \"Luca Bottazzi\", 170.0, 19], [129.0, \"Lucas Arnold Ker\", 180.0, 53], [1873.0, \"Lucas Pouille\", 185.0, 240], [61.0, \"Luis Adrian Morejon\", 178.0, 67], [152.0, \"Luis Herrera\", 170.0, 136], [1157.0, \"Luis Horna\", 180.0, 288], [861.0, \"Luiz Mattar\", 183.0, 370], [360.0, \"Lukas Dlouhy\", 185.0, 77], [1363.0, \"Lukas Lacko\", 185.0, 244], [1773.0, \"Lukas Rosol\", 196.0, 282], [997.0, \"Lukasz Kubot\", 190.0, 229], [145.0, \"Luke Jensen\", 190.0, 55], [46.0, \"Luke Milligan\", 180.0, 12], [1445.0, \"Magnus Gustafsson\", 185.0, 676], [3078.0, \"Magnus Larsson\", 193.0, 542], [2510.0, \"Magnus Norman\", 188.0, 423], [0.0, \"Magnus Tideman\", 193.0, 49], [112.0, \"Mahesh Bhupathi\", 185.0, 38], [927.0, \"Malek Jaziri\", 185.0, 231], [2026.0, \"Malivai Washington\", 180.0, 436], [8.0, \"Mansour Bahrami\", 178.0, 94], [0.0, \"Manuel Orantes\", 178.0, 993], [5632.0, \"Marat Safin\", 193.0, 693], [0.0, \"Marc Flur\", 190.0, 101], [1239.0, \"Marc Gicquel\", 188.0, 205], [3595.0, \"Marc Kevin Goellner\", 196.0, 355], [32.0, \"Marc Lopez\", 175.0, 54], [6153.0, \"Marc Rosset\", 201.0, 789], [0.0, \"Marcel Freeman\", 173.0, 142], [1832.0, \"Marcel Granollers\", 190.0, 453], [80.0, \"Marcello Craca\", 180.0, 34], [52.0, \"Marcelo Charpentier\", 180.0, 33], [526.0, \"Marcelo Filippini\", 178.0, 501], [0.0, \"Marcelo Hennemann\", 170.0, 16], [2.0, \"Marcelo Ingaramo\", 178.0, 85], [2508.0, \"Marcelo Rios\", 175.0, 589], [22.0, \"Marcio Carlsson\", 175.0, 14], [558.0, \"Marco Chiudinelli\", 185.0, 150], [18.0, \"Marco Meneschincheri\", 180.0, 14], [221.0, \"Marcos Aurelio Gorriz\", 185.0, 116], [4350.0, \"Marcos Baghdatis\", 183.0, 624], [361.0, \"Marcos Daniel\", 180.0, 90], [0.0, \"Marcos Hocevar\", 185.0, 190], [651.0, \"Marcos Ondruska\", 183.0, 265], [4892.0, \"Mardy Fish\", 188.0, 526], [124.0, \"Marian Vajda\", 173.0, 272], [14.0, \"Mariano Hood\", 178.0, 11], [841.0, \"Mariano Puerta\", 180.0, 247], [1661.0, \"Mariano Zabaleta\", 183.0, 417], [7082.0, \"Marin Cilic\", 198.0, 804], [688.0, \"Marinko Matosevic\", 194.0, 159], [2942.0, \"Mario Ancic\", 196.0, 344], [0.0, \"Mario Martinez\", 170.0, 170], [0.0, \"Mario Tabares\", 180.0, 38], [1514.0, \"Marius Copil\", 193.0, 151], [10.0, \"Mariusz Fyrstenberg\", 193.0, 14], [0.0, \"Mark Buckley\", 178.0, 23], [0.0, \"Mark Dickson\", 190.0, 247], [0.0, \"Mark Edmondson\", 185.0, 504], [29.0, \"Mark Kaplan\", 185.0, 32], [53.0, \"Mark Keil\", 185.0, 12], [270.0, \"Mark Knowles\", 190.0, 123], [243.0, \"Mark Koevermans\", 185.0, 156], [72.0, \"Mark Kratzmann\", 178.0, 156], [82.0, \"Mark Merklein\", 188.0, 32], [20.0, \"Mark Nielsen\", 185.0, 43], [415.0, \"Mark Petchey\", 183.0, 109], [6684.0, \"Mark Philippoussis\", 196.0, 522], [0.0, \"Mark Vines\", 170.0, 32], [1989.0, \"Mark Woodforde\", 188.0, 631], [0.0, \"Mark Wooldridge\", 188.0, 14], [0.0, \"Marko Ostoja\", 175.0, 230], [7.0, \"Marko Tkalec\", 178.0, 35], [0.0, \"Markus Gunthardt\", 178.0, 21], [274.0, \"Markus Hantschk\", 188.0, 67], [316.0, \"Markus Hipfl\", 178.0, 147], [110.0, \"Markus Naewie\", 190.0, 57], [0.0, \"Markus Rackl\", 180.0, 22], [3.0, \"Markus Zillner\", 178.0, 14], [995.0, \"Markus Zoecke\", 196.0, 170], [501.0, \"Marsel Ilhan\", 190.0, 91], [26.0, \"Martin Blackman\", 188.0, 18], [2946.0, \"Martin Damm\", 188.0, 370], [383.0, \"Martin Jaite\", 178.0, 480], [1292.0, \"Martin Klizan\", 190.0, 303], [59.0, \"Martin Laurendeau\", 190.0, 96], [324.0, \"Martin Lee\", 180.0, 67], [372.0, \"Martin Rodriguez\", 178.0, 56], [536.0, \"Martin Sinner\", 180.0, 128], [120.0, \"Martin Strelba\", 190.0, 110], [43.0, \"Martin Stringari\", 188.0, 18], [333.0, \"Martin Vassallo Arguello\", 183.0, 128], [1505.0, \"Martin Verkerk\", 196.0, 130], [27.0, \"Martin Wostenholme\", 183.0, 143], [0.0, \"Marty Davis\", 183.0, 331], [0.0, \"Marty Riessen\", 185.0, 695], [349.0, \"Marzio Martelli\", 180.0, 51], [35.0, \"Mashiska Washington\", 180.0, 16], [0.0, \"Massimiliano Narducci\", 185.0, 45], [26.0, \"Massimo Cierro\", 173.0, 64], [28.0, \"Massimo Valeri\", 185.0, 12], [25.0, \"Mathieu Montcourt\", 183.0, 15], [363.0, \"Mats Wilander\", 183.0, 794], [0.0, \"Matt Anger\", 188.0, 188], [0.0, \"Matt Doyle\", 193.0, 140], [0.0, \"Matt Mitchell\", 180.0, 171], [1130.0, \"Matthew Ebden\", 188.0, 195], [585.0, \"Matthias Bachinger\", 188.0, 85], [152.0, \"Maurice Ruah\", 178.0, 92], [126.0, \"Mauricio Hadad\", 170.0, 120], [3.0, \"Mauro Menezes\", 193.0, 17], [4052.0, \"Max Mirnyi\", 196.0, 487], [155.0, \"Maximo Gonzalez\", 175.0, 90], [8.0, \"Mehdi Tahiri\", 183.0, 29], [0.0, \"Mel Purcell\", 178.0, 358], [51.0, \"Melle Van Gemerden\", 183.0, 13], [30.0, \"Menno Oosting\", 180.0, 64], [1322.0, \"Michael Berrer\", 193.0, 233], [0.0, \"Michael Brown B395\", 175.0, 11], [3357.0, \"Michael Chang\", 175.0, 978], [0.0, \"Michael Grant\", 178.0, 49], [395.0, \"Michael Joyce\", 180.0, 113], [371.0, \"Michael Kohlmann\", 188.0, 74], [0.0, \"Michael Kures\", 185.0, 33], [64.0, \"Michael Lammer\", 185.0, 31], [3091.0, \"Michael Llodra\", 190.0, 410], [0.0, \"Michael Mortensen\", 188.0, 29], [2.0, \"Michael Robertson\", 185.0, 69], [582.0, \"Michael Russell\", 173.0, 227], [128.0, \"Michael Ryderstedt\", 188.0, 25], [35.0, \"Michael Sell\", 180.0, 22], [3452.0, \"Michael Stich\", 193.0, 564], [5.0, \"Michael Tauson\", 193.0, 54], [1633.0, \"Michael Tebbutt\", 190.0, 148], [0.0, \"Michael Westphal\", 190.0, 194], [90.0, \"Michael Yani\", 185.0, 17], [42.0, \"Michal Mertinak\", 180.0, 26], [604.0, \"Michal Przysiezny\", 185.0, 106], [285.0, \"Michal Tabara\", 175.0, 95], [577.0, \"Michel Kratochvil\", 185.0, 171], [255.0, \"Michiel Schapers\", 201.0, 356], [0.0, \"Miguel Nido\", 180.0, 43], [66.0, \"Miguel Tobon\", 185.0, 44], [172.0, \"Mikael Pernfors\", 173.0, 255], [862.0, \"Mikael Tillstrom\", 185.0, 226], [1.0, \"Mike Bauer\", 188.0, 166], [0.0, \"Mike Brunnberg\", 190.0, 25], [46.0, \"Mike Bryan\", 190.0, 16], [0.0, \"Mike Cahill\", 183.0, 259], [0.0, \"Mike De Palmer\", 185.0, 161], [0.0, \"Mike Estep\", 173.0, 274], [0.0, \"Mike Fishbach\", 180.0, 57], [0.0, \"Mike Leach\", 180.0, 176], [0.0, \"Mike Scheidweiler\", 188.0, 21], [1136.0, \"Mikhail Kukushkin\", 183.0, 376], [134.0, \"Mikhail Ledovskikh\", 188.0, 17], [3501.0, \"Mikhail Youzhny\", 183.0, 922], [0.0, \"Milan Holecek\", 190.0, 259], [28.0, \"Milan Srejber\", 203.0, 257], [76.0, \"Miles Maclagan\", 180.0, 15], [7929.0, \"Milos Raonic\", 196.0, 547], [0.0, \"Miloslav Mecir\", 190.0, 384], [1626.0, \"Mischa Zverev\", 190.0, 333], [0.0, \"Modesto Tito Vazquez\", 173.0, 46], [96.0, \"Mohamed Safwat\", 183.0, 31], [0.0, \"Morris Skip Strode\", 193.0, 43], [47.0, \"Morten Christensen\", 190.0, 25], [73.0, \"Mose Navarra\", 180.0, 14], [156.0, \"Nathan Healey\", 180.0, 19], [13.0, \"Nduka Odizor\", 183.0, 224], [365.0, \"Neil Borwick\", 193.0, 75], [3.0, \"Neil Broad\", 190.0, 26], [4.0, \"Nelson Aerts\", 188.0, 37], [183.0, \"Nenad Zimonjic\", 190.0, 38], [438.0, \"Neville Godwin\", 173.0, 92], [27.0, \"Nick Brown\", 190.0, 28], [0.0, \"Nick Fulwood\", 185.0, 18], [3732.0, \"Nick Kyrgios\", 193.0, 256], [0.0, \"Nick Saviano\", 180.0, 364], [64.0, \"Nicklas Kroon\", 183.0, 113], [1442.0, \"Nicklas Kulti\", 190.0, 337], [35.0, \"Nicklas Utgren\", 188.0, 20], [5477.0, \"Nicolas Almagro\", 183.0, 679], [108.0, \"Nicolas Coutelot\", 185.0, 32], [263.0, \"Nicolas Devilder\", 173.0, 71], [1856.0, \"Nicolas Escude\", 185.0, 304], [0.0, \"Nicolas Kelaidis\", 178.0, 34], [4081.0, \"Nicolas Kiefer\", 183.0, 642], [2686.0, \"Nicolas Lapentti\", 188.0, 621], [3111.0, \"Nicolas Mahut\", 190.0, 406], [1886.0, \"Nicolas Massu\", 183.0, 497], [731.0, \"Nicolas Pereira\", 188.0, 214], [277.0, \"Nicolas Thomann\", 183.0, 39], [2523.0, \"Nikolay Davydenko\", 178.0, 822], [832.0, \"Nikoloz Basilashvili\", 185.0, 207], [77.0, \"Noam Behr\", 188.0, 22], [336.0, \"Noam Okun\", 185.0, 94], [5887.0, \"Novak Djokovic\", 188.0, 1138], [252.0, \"Nuno Marques\", 190.0, 157], [352.0, \"Oleg Ogorodov\", 193.0, 113], [21.0, \"Oliver Fernandez\", 175.0, 24], [409.0, \"Oliver Gross\", 185.0, 128], [216.0, \"Oliver Marach\", 185.0, 53], [831.0, \"Olivier Delaitre\", 170.0, 309], [253.0, \"Olivier Mutis\", 175.0, 65], [332.0, \"Olivier Patience\", 180.0, 79], [840.0, \"Olivier Rochus\", 168.0, 515], [1.0, \"Olli Rahnasto\", 183.0, 51], [1055.0, \"Omar Camporese\", 188.0, 307], [0.0, \"Onny Parun\", 188.0, 708], [302.0, \"Orlin Stanoytchev\", 185.0, 73], [49.0, \"Oscar Burrieza\", 170.0, 21], [455.0, \"Oscar Hernandez\", 180.0, 190], [92.0, \"Oscar Martinez\", 185.0, 46], [25.0, \"Oscar Ortiz\", 183.0, 13], [27.0, \"Oscar Serrano\", 173.0, 19], [67.0, \"Ota Fukarek\", 190.0, 15], [0.0, \"Ove Nils Bengtson\", 196.0, 291], [0.0, \"Owen Davidson\", 185.0, 185], [562.0, \"Pablo Andujar\", 180.0, 351], [126.0, \"Pablo Arraya\", 180.0, 359], [41.0, \"Pablo Campana\", 180.0, 21], [1432.0, \"Pablo Carreno Busta\", 188.0, 359], [2391.0, \"Pablo Cuevas\", 180.0, 435], [3.0, \"Pablo Gonzalez\", 178.0, 19], [0.0, \"Paolo Bertolucci\", 175.0, 357], [305.0, \"Paolo Cane\", 180.0, 268], [1159.0, \"Paolo Lorenzi\", 183.0, 293], [10.0, \"Paolo Pambianco\", 190.0, 15], [2478.0, \"Paradorn Srichaphan\", 185.0, 445], [0.0, \"Pascal Portes\", 175.0, 227], [346.0, \"Pat Cash\", 183.0, 386], [0.0, \"Pat Dupre\", 190.0, 382], [0.0, \"Patrice Beust\", 170.0, 44], [0.0, \"Patrice Dominguez\", 173.0, 335], [0.0, \"Patrice Hagelauer\", 188.0, 12], [0.0, \"Patrice Kuchna\", 178.0, 21], [0.0, \"Patricio Cornejo\", 180.0, 347], [0.0, \"Patricio Rodriguez Chi\", 188.0, 64], [515.0, \"Patrick Baur\", 188.0, 174], [727.0, \"Patrick McEnroe\", 183.0, 304], [0.0, \"Patrick Proisy\", 180.0, 422], [3633.0, \"Patrick Rafter\", 185.0, 551], [160.0, \"Patrik Fredriksson\", 185.0, 39], [937.0, \"Patrik Kuhnen\", 190.0, 281], [82.0, \"Paul Annacone\", 185.0, 291], [412.0, \"Paul Capdeville\", 190.0, 127], [1.0, \"Paul Chamberlin\", 178.0, 124], [0.0, \"Paul Gerken\", 185.0, 239], [469.0, \"Paul Goldstein\", 178.0, 200], [1924.0, \"Paul Haarhuis\", 188.0, 526], [2783.0, \"Paul Henri Mathieu\", 185.0, 584], [101.0, \"Paul Kilderry\", 175.0, 29], [0.0, \"Paul Mcnamee\", 178.0, 476], [0.0, \"Paul Torre\", 180.0, 35], [3.0, \"Paul Vojtischek\", 188.0, 59], [95.0, \"Paul Wekesa\", 188.0, 76], [0.0, \"Pavel Slozil\", 173.0, 309], [2.0, \"Pedro Rebolledo\", 170.0, 227], [90.0, \"Pedro Sousa\", 180.0, 37], [0.0, \"Per Hjertquist\", 183.0, 134], [413.0, \"Pere Riba\", 183.0, 87], [8689.0, \"Pete Sampras\", 185.0, 996], [0.0, \"Peter Bastiansen\", 193.0, 38], [0.0, \"Peter Burwash\", 175.0, 22], [0.0, \"Peter Carlsson\", 183.0, 32], [0.0, \"Peter Carter\", 180.0, 22], [0.0, \"Peter Clarke\", 188.0, 11], [8.0, \"Peter Doohan\", 190.0, 132], [0.0, \"Peter Elter\", 178.0, 214], [0.0, \"Peter Feigl\", 183.0, 252], [0.0, \"Peter Fleming\", 196.0, 437], [940.0, \"Peter Gojowczyk\", 185.0, 134], [0.0, \"Peter Johnston\", 178.0, 18], [0.0, \"Peter Lindgren\", 175.0, 22], [639.0, \"Peter Luczak\", 183.0, 130], [285.0, \"Peter Lundgren\", 185.0, 255], [0.0, \"Peter Mcnamara\", 185.0, 343], [66.0, \"Peter Moraing\", 193.0, 25], [51.0, \"Peter Nyborg\", 190.0, 14], [220.0, \"Peter Polansky\", 180.0, 64], [0.0, \"Peter Rennert\", 185.0, 111], [103.0, \"Peter Tramacchi\", 185.0, 21], [902.0, \"Peter Wessels\", 196.0, 105], [0.0, \"Peter Wright\", 185.0, 16], [2223.0, \"Petr Korda\", 190.0, 664], [52.0, \"Petr Luxa\", 190.0, 21], [0.0, \"Phil Dent\", 183.0, 722], [19.0, \"Philip Bester\", 188.0, 11], [0.0, \"Philip Johnson\", 173.0, 23], [4591.0, \"Philipp Kohlschreiber\", 178.0, 862], [1378.0, \"Philipp Petzschner\", 185.0, 196], [21.0, \"Philippe Pech\", 180.0, 16], [37.0, \"Phillip King\", 175.0, 15], [1652.0, \"Pierre Hugues Herbert\", 188.0, 192], [36.0, \"Piet Norval\", 185.0, 16], [0.0, \"Pieter Aldrich\", 180.0, 76], [848.0, \"Potito Starace\", 188.0, 355], [147.0, \"Prakash Amritraj\", 188.0, 53], [4112.0, \"Radek Stepanek\", 185.0, 691], [198.0, \"Radomir Vasek\", 188.0, 60], [1463.0, \"Raemon Sluiter\", 185.0, 221], [3630.0, \"Rafael Nadal\", 185.0, 1221], [2121.0, \"Rainer Schuettler\", 180.0, 668], [1137.0, \"Rajeev Ram\", 193.0, 151], [0.0, \"Ramayah Ramachandran\", 160.0, 17], [25.0, \"Ramesh Krishnan\", 170.0, 616], [1095.0, \"Ramon Delgado\", 185.0, 219], [0.0, \"Randy Crawford\", 188.0, 22], [0.0, \"Randy Nixon\", 193.0, 12], [4.0, \"Raul Antonio Viver\", 190.0, 94], [0.0, \"Raul Ramirez\", 183.0, 825], [47.0, \"Raven Klaasen\", 180.0, 12], [0.0, \"Raymond Moore\", 183.0, 684], [141.0, \"Razvan Sabau\", 185.0, 78], [70.0, \"Reda El Amrani\", 185.0, 17], [0.0, \"Rejean Genois\", 175.0, 45], [1253.0, \"Renzo Furlan\", 175.0, 466], [963.0, \"Ricardas Berankis\", 175.0, 230], [0.0, \"Ricardo Acuna\", 175.0, 189], [0.0, \"Ricardo Cano\", 170.0, 313], [351.0, \"Ricardo Mello\", 175.0, 154], [0.0, \"Ricardo Ycaza\", 183.0, 181], [163.0, \"Richard Bloomfield\", 185.0, 16], [3687.0, \"Richard Fromberg\", 196.0, 546], [4700.0, \"Richard Gasquet\", 185.0, 887], [7648.0, \"Richard Krajicek\", 196.0, 635], [98.0, \"Richard Matuszewski\", 188.0, 134], [0.0, \"Richard Meyer\", 183.0, 119], [0.0, \"Richard Pancho Gonzales\", 188.0, 180], [12.0, \"Richard Schmidt\", 185.0, 13], [28.0, \"Richard Vogel\", 193.0, 12], [1821.0, \"Richey Reneberg\", 180.0, 572], [0.0, \"Rick Fagel\", 180.0, 147], [70.0, \"Rick Leach\", 188.0, 79], [0.0, \"Ricki Osterthun\", 185.0, 139], [0.0, \"Ricky Brown\", 178.0, 21], [226.0, \"Rik De Voest\", 180.0, 88], [19.0, \"Rikard Bergh\", 188.0, 14], [23.0, \"Robbie Koenig\", 173.0, 14], [0.0, \"Robbie Venter\", 180.0, 26], [208.0, \"Robbie Weiss\", 183.0, 127], [2197.0, \"Robby Ginepri\", 183.0, 393], [57.0, \"Robert Farah\", 193.0, 13], [1082.0, \"Robert Kendrick\", 190.0, 113], [0.0, \"Robert Lutz\", 180.0, 689], [0.0, \"Robert Maud\", 180.0, 216], [0.0, \"Robert Reininger\", 185.0, 54], [4.0, \"Robert Seguso\", 190.0, 181], [0.0, \"Robert Trogolo\", 180.0, 26], [0.0, \"Robert Vant Hof\", 193.0, 188], [0.0, \"Roberto Arguello\", 173.0, 145], [120.0, \"Roberto Azar\", 185.0, 139], [1528.0, \"Roberto Bautista Agut\", 183.0, 493], [90.0, \"Roberto Carretero\", 178.0, 68], [86.0, \"Roberto Jabali\", 190.0, 34], [0.0, \"Roberto Saad\", 185.0, 43], [0.0, \"Roberto Vizcaino\", 178.0, 55], [3090.0, \"Robin Haase\", 190.0, 495], [3868.0, \"Robin Soderling\", 193.0, 482], [215.0, \"Robin Vik\", 183.0, 58], [0.0, \"Rod Frawley\", 185.0, 243], [0.0, \"Rod Laver\", 173.0, 609], [0.0, \"Rodney Harmon\", 188.0, 76], [768.0, \"Rodolphe Gilbert\", 183.0, 183], [11311.0, \"Roger Federer\", 185.0, 1525], [17.0, \"Roger Rasheed\", 183.0, 11], [65.0, \"Roger Smith\", 185.0, 116], [292.0, \"Rogerio Dutra Silva\", 178.0, 95], [56.0, \"Rogier Wassen\", 190.0, 17], [237.0, \"Rohan Bopanna\", 190.0, 48], [208.0, \"Roko Karanusic\", 183.0, 57], [0.0, \"Roland Stadler\", 178.0, 160], [0.0, \"Rolf Gehring\", 185.0, 268], [0.0, \"Rolf Thung\", 190.0, 98], [0.0, \"Ron Hightower\", 185.0, 27], [0.0, \"Ron Holmberg\", 185.0, 65], [630.0, \"Ronald Agenor\", 180.0, 484], [0.0, \"Ronnie Bathman\", 183.0, 35], [0.0, \"Roscoe Tanner\", 183.0, 896], [0.0, \"Roy Barth\", 175.0, 155], [0.0, \"Roy Emerson\", 183.0, 357], [596.0, \"Ruben Ramirez Hidalgo\", 183.0, 201], [82.0, \"Rui Machado\", 178.0, 82], [0.0, \"Russell Barlow\", 173.0, 12], [0.0, \"Russell Simpson\", 188.0, 358], [1909.0, \"Ryan Harrison\", 183.0, 278], [390.0, \"Ryan Sweeting\", 196.0, 92], [23.0, \"Salvador Navarro\", 180.0, 11], [8356.0, \"Sam Querrey\", 198.0, 676], [75.0, \"Sam Warburg\", 190.0, 15], [0.0, \"Sammy Giammalva Jr\", 178.0, 327], [35.0, \"Sander Groen\", 190.0, 13], [1445.0, \"Sandon Stolle\", 193.0, 221], [284.0, \"Sandor Noszaly\", 193.0, 83], [0.0, \"Sandy Mayer\", 178.0, 548], [1258.0, \"Santiago Giraldo\", 188.0, 372], [27.0, \"Santiago Gonzalez\", 190.0, 22], [361.0, \"Santiago Ventura\", 183.0, 97], [1466.0, \"Sargis Sargsian\", 180.0, 366], [49.0, \"Sasa Hirszon\", 185.0, 35], [0.0, \"Sashi Menon\", 180.0, 295], [36.0, \"Satoshi Iwabuchi\", 175.0, 23], [125.0, \"Scott Davis\", 188.0, 404], [1535.0, \"Scott Draper\", 178.0, 237], [88.0, \"Scott Humphries\", 185.0, 15], [0.0, \"Scott Mccain\", 180.0, 69], [131.0, \"Scoville Jenkins\", 188.0, 21], [0.0, \"Sean Brawley\", 178.0, 11], [48.0, \"Sebastian Prieto\", 180.0, 16], [186.0, \"Sebastien De Chaunac\", 183.0, 33], [3098.0, \"Sebastien Grosjean\", 175.0, 590], [1269.0, \"Sebastien Lareau\", 183.0, 238], [2181.0, \"Sergi Bruguera\", 188.0, 719], [12.0, \"Sergio Casal\", 185.0, 273], [14.0, \"Sergio Cortes\", 170.0, 44], [241.0, \"Sergio Roitman\", 185.0, 87], [2308.0, \"Sergiy Stakhovsky\", 193.0, 382], [6.0, \"Shahar Perkiss\", 193.0, 113], [0.0, \"Shane Barr\", 193.0, 23], [15.0, \"Shao Xuan Zeng\", 185.0, 15], [0.0, \"Sherwood Stewart\", 188.0, 391], [0.0, \"Shlomo Glickstein\", 188.0, 350], [1523.0, \"Shuzo Matsuoka\", 185.0, 313], [438.0, \"Simon Greul\", 185.0, 117], [71.0, \"Simon Larose\", 190.0, 30], [43.0, \"Simon Stadler\", 183.0, 16], [314.0, \"Simon Youl\", 185.0, 234], [1140.0, \"Simone Bolelli\", 183.0, 291], [0.0, \"Simone Colombo\", 180.0, 89], [5.0, \"Simone Vagnozzi\", 173.0, 11], [2016.0, \"Sjeng Schalken\", 193.0, 562], [955.0, \"Slava Dosedel\", 183.0, 390], [109.0, \"Slobodan Zivojinovic\", 198.0, 296], [449.0, \"Somdev Devvarman\", 180.0, 144], [0.0, \"Srinivasan Vasudevan\", 190.0, 14], [0.0, \"Stan Smith\", 193.0, 983], [5819.0, \"Stan Wawrinka\", 183.0, 842], [0.0, \"Stanislav Birner\", 170.0, 184], [1405.0, \"Stefan Edberg\", 188.0, 1077], [1.0, \"Stefan Eriksson\", 193.0, 53], [1517.0, \"Stefan Koubek\", 175.0, 469], [0.0, \"Stefan Simonsson\", 175.0, 225], [0.0, \"Stefan Svensson\", 185.0, 16], [144.0, \"Stefano Galvani\", 178.0, 55], [1034.0, \"Stefano Pescosolido\", 185.0, 268], [135.0, \"Stephane Bohli\", 185.0, 27], [0.0, \"Stephane Bonneau\", 188.0, 29], [316.0, \"Stephane Huet\", 180.0, 53], [439.0, \"Stephane Robert\", 185.0, 113], [619.0, \"Stephane Simian\", 193.0, 125], [150.0, \"Steve Bryan\", 178.0, 106], [260.0, \"Steve Campbell\", 183.0, 86], [927.0, \"Steve Darcis\", 178.0, 256], [0.0, \"Steve Denton\", 188.0, 226], [13.0, \"Steve Devries\", 180.0, 18], [4.0, \"Steve Guy\", 188.0, 56], [2785.0, \"Steve Johnson\", 188.0, 341], [0.0, \"Steve Krulevitz\", 175.0, 329], [0.0, \"Steve Meister\", 193.0, 93], [0.0, \"Steve Shaw\", 190.0, 71], [23.0, \"Steven Downs\", 183.0, 12], [0.0, \"Stian Boretti\", 188.0, 25], [0.0, \"Stuart Bale\", 185.0, 23], [10.0, \"Sule Ladipo\", 180.0, 22], [13.0, \"Suwandi Suwandi\", 178.0, 53], [0.0, \"Syd Ball\", 188.0, 267], [491.0, \"Takao Suzuki\", 175.0, 96], [39.0, \"Tamer El Sawy\", 188.0, 42], [0.0, \"Tarek El Sakka\", 180.0, 28], [69.0, \"Tarik Benhabiles\", 175.0, 176], [358.0, \"Tatsuma Ito\", 180.0, 102], [2129.0, \"Taylor Dent\", 188.0, 293], [0.0, \"Terry Addison\", 180.0, 149], [0.0, \"Terry Moor\", 178.0, 469], [0.0, \"Terry Rocavert\", 180.0, 99], [1388.0, \"Teymuraz Gabashvili\", 188.0, 316], [81.0, \"Thiago Alves\", 178.0, 34], [1149.0, \"Thiemo De Bakker\", 193.0, 164], [272.0, \"Thierry Ascione\", 188.0, 76], [254.0, \"Thierry Champion\", 183.0, 266], [189.0, \"Thierry Guardiola\", 188.0, 59], [0.0, \"Thierry Pham\", 178.0, 14], [5.0, \"Thierry Tulasne\", 178.0, 451], [56.0, \"Thomas Buchmayer\", 185.0, 25], [5417.0, \"Thomas Enqvist\", 190.0, 750], [47.0, \"Thomas Gollwitzer\", 178.0, 12], [0.0, \"Thomas Haldin\", 185.0, 13], [227.0, \"Thomas Hogstedt\", 190.0, 243], [5113.0, \"Thomas Johansson\", 180.0, 658], [1813.0, \"Thomas Muster\", 180.0, 905], [17.0, \"Thomas Schiessling\", 180.0, 13], [2333.0, \"Thomaz Bellucci\", 188.0, 420], [13.0, \"Ti Chen\", 183.0, 35], [0.0, \"Tim Gullikson\", 180.0, 497], [4306.0, \"Tim Henman\", 185.0, 775], [181.0, \"Tim Mayotte\", 190.0, 545], [571.0, \"Tim Smyczek\", 175.0, 128], [0.0, \"Tim Wilkison\", 180.0, 592], [0.0, \"Timo Nieminen\", 185.0, 12], [329.0, \"Tobias Kamke\", 180.0, 166], [0.0, \"Tobias Svantesson\", 193.0, 34], [31.0, \"Todd Larkham\", 178.0, 17], [5663.0, \"Todd Martin\", 198.0, 649], [57.0, \"Todd Nelson\", 185.0, 143], [115.0, \"Todd Reid\", 180.0, 36], [180.0, \"Todd Witsken\", 183.0, 250], [1224.0, \"Todd Woodbridge\", 178.0, 482], [0.0, \"Tom Cain\", 185.0, 112], [0.0, \"Tom Edlefsen\", 188.0, 192], [0.0, \"Tom Gorman\", 180.0, 639], [0.0, \"Tom Gullikson\", 180.0, 443], [0.0, \"Tom Leonard\", 175.0, 174], [184.0, \"Tom Nijssen\", 175.0, 129], [0.0, \"Tom Okker\", 178.0, 840], [12.0, \"Tomas Anzari\", 180.0, 15], [440.0, \"Tomas Behrend\", 193.0, 116], [7195.0, \"Tomas Berdych\", 196.0, 987], [69.0, \"Tomas Cakl\", 178.0, 12], [824.0, \"Tomas Carbonell\", 178.0, 417], [261.0, \"Tomas Nydahl\", 185.0, 97], [0.0, \"Tomas Smid\", 190.0, 860], [479.0, \"Tomas Zib\", 178.0, 140], [0.0, \"Tomm Warneke\", 193.0, 23], [5893.0, \"Tommy Haas\", 188.0, 919], [362.0, \"Tommy Ho\", 183.0, 102], [3230.0, \"Tommy Robredo\", 180.0, 895], [0.0, \"Tony Giammalva\", 190.0, 132], [0.0, \"Tony Mmoh\", 178.0, 49], [0.0, \"Tony Roche\", 178.0, 443], [0.0, \"Tore Meinecke\", 180.0, 91], [0.0, \"Toru Yonezawa\", 188.0, 11], [0.0, \"Treat Conrad Huey\", 178.0, 16], [0.0, \"Trevor Allan\", 178.0, 57], [0.0, \"Trey Waltke\", 173.0, 298], [0.0, \"Tsuyoshi Fukui\", 170.0, 76], [203.0, \"Tuomas Ketola\", 185.0, 75], [118.0, \"Udo Riglewski\", 185.0, 122], [2.0, \"Ulf Stenlund\", 180.0, 96], [20.0, \"Vaclav Roubicek\", 185.0, 15], [41.0, \"Vadim Kutsenko\", 180.0, 43], [0.0, \"Vallis Wilder\", 190.0, 13], [0.0, \"Van Winitsky\", 185.0, 240], [2505.0, \"Vasek Pospisil\", 193.0, 275], [3.0, \"Vasilis Mazarakis\", 178.0, 19], [65.0, \"Veli Paloheimo\", 183.0, 110], [0.0, \"Victor Amaya\", 201.0, 362], [143.0, \"Victor Crivoi\", 185.0, 53], [390.0, \"Victor Estrella\", 173.0, 159], [1986.0, \"Victor Hanescu\", 198.0, 445], [0.0, \"Victor Pecci\", 193.0, 624], [0.0, \"Vijay Amritraj\", 193.0, 721], [4195.0, \"Viktor Troicki\", 193.0, 567], [36.0, \"Ville Liukko\", 173.0, 31], [122.0, \"Vincent Millot\", 173.0, 30], [2338.0, \"Vincent Spadea\", 183.0, 671], [0.0, \"Vincent Van Patten\", 180.0, 232], [182.0, \"Vincenzo Santopadre\", 183.0, 46], [0.0, \"Vitas Gerulaitis\", 183.0, 769], [20.0, \"Vladimir Gabrichidze\", 175.0, 12], [696.0, \"Vladimir Voltchkov\", 180.0, 165], [130.0, \"Wade Mcguire\", 188.0, 27], [995.0, \"Wally Masur\", 180.0, 615], [4341.0, \"Wayne Arthurs\", 190.0, 294], [373.0, \"Wayne Black\", 170.0, 185], [5566.0, \"Wayne Ferreira\", 185.0, 843], [0.0, \"Wayne Hampson\", 183.0, 41], [518.0, \"Wayne Odesnik\", 180.0, 101], [277.0, \"Werner Eschauer\", 188.0, 56], [1208.0, \"Wesley Moodie\", 196.0, 128], [90.0, \"Wesley Whitehouse\", 190.0, 11], [0.0, \"Wilhelm Bungert\", 188.0, 87], [0.0, \"Wojtek Fibak\", 183.0, 860], [89.0, \"Wojtek Kowalski\", 183.0, 43], [0.0, \"Wolfgang Popp\", 183.0, 111], [89.0, \"Wolfgang Schranz\", 178.0, 23], [0.0, \"Woody Blocher\", 173.0, 37], [24.0, \"Woong Sun Jun\", 190.0, 22], [99.0, \"Xavier Daufresne\", 193.0, 47], [3722.0, \"Xavier Malisse\", 185.0, 568], [44.0, \"Yahiya Doumbia\", 185.0, 81], [84.0, \"Yannick Noah\", 193.0, 696], [23.0, \"Yasufumi Yamamoto\", 175.0, 28], [1546.0, \"Yen Hsun Lu\", 180.0, 390], [4706.0, \"Yevgeny Kafelnikov\", 190.0, 920], [38.0, \"Yong Il Yoon\", 175.0, 40], [3108.0, \"Younes El Aynaoui\", 193.0, 502], [0.0, \"Young Dae Jeon\", 183.0, 13], [479.0, \"Yuichi Sugita\", 173.0, 138], [92.0, \"Yuki Bhambri\", 183.0, 55], [84.0, \"Yuri Schukin\", 188.0, 36], [68.0, \"Yves Allegro\", 183.0, 15], [138.0, \"Zack Fleishman\", 188.0, 24], [0.0, \"Zeeshan Ali\", 180.0, 20], [95.0, \"Zeljko Krajan\", 178.0, 37], [0.0, \"Zoltan Kuharszky\", 183.0, 117]], \"hoverlabel\": {\"namelength\": 0}, \"hovertemplate\": \"player_ht=%{customdata[2]}<br>Aces_Per_Match=%{marker.color}<br>aces=%{customdata[0]}<br>player_name=%{customdata[1]}<br>Matches_Played=%{customdata[3]}\", \"legendgroup\": \"\", \"marker\": {\"color\": [1.5237366003062787, 1.24, 2.1707317073170733, 4.661363636363636, 0.0, 1.9166666666666667, 5.080128205128205, 0.0, 6.639097744360902, 0.5769230769230769, 0.0, 3.9295774647887325, 0.3670886075949367, 0.0, 0.0, 1.7333333333333334, 18.857142857142858, 3.52, 3.3338368580060425, 3.3161764705882355, 4.064705882352941, 3.45021645021645, 1.5857740585774058, 1.286231884057971, 2.0061475409836067, 0.0, 0.6666666666666666, 0.0, 3.0141342756183747, 0.0, 0.0, 2.0, 2.8076923076923075, 0.0, 3.5483870967741935, 3.5660377358490565, 2.1195219123505975, 4.680851063829787, 2.1797752808988764, 5.904494382022472, 3.6099585062240664, 2.088235294117647, 7.333333333333333, 1.8703703703703705, 4.434782608695652, 10.104166666666666, 0.0, 6.3, 4.136094674556213, 3.73972602739726, 4.409090909090909, 4.818181818181818, 3.377224199288256, 10.282608695652174, 8.186486486486487, 0.0, 7.439716312056738, 0.14285714285714285, 6.0606060606060606, 0.0, 1.1724137931034482, 8.03921568627451, 3.3846153846153846, 0.0, 0.0, 9.067415730337078, 1.6428571428571428, 1.173913043478261, 1.5, 0.0, 0.9118541033434651, 3.5353095030514385, 2.6805555555555554, 2.2439024390243905, 3.8181818181818183, 4.289719626168225, 6.564516129032258, 0.0, 4.715197956577267, 4.063157894736842, 1.6117936117936118, 1.449013157894737, 5.154562383612663, 1.0, 6.215547703180212, 4.361313868613139, 0.4583333333333333, 4.831578947368421, 2.0, 0.0, 0.4913151364764268, 0.16666666666666666, 0.0, 0.5128205128205128, 4.70873786407767, 0.0, 7.6, 0.9696969696969697, 3.6902173913043477, 5.0, 0.0, 0.0, 6.534831460674157, 4.470588235294118, 10.931076178960097, 0.0, 2.5714285714285716, 7.191588785046729, 3.5583524027459954, 4.852941176470588, 2.395209580838323, 5.396551724137931, 0.0, 6.022222222222222, 2.08, 3.712871287128713, 4.305555555555555, 0.0, 7.769230769230769, 0.0, 0.0, 0.0, 0.29914529914529914, 0.0, 5.277777777777778, 0.0, 1.0, 7.568, 8.555075593952484, 0.34782608695652173, 0.0, 0.0, 0.0, 7.493224932249323, 0.972972972972973, 5.191919191919192, 0.0, 0.0, 0.0, 0.0, 0.3225806451612903, 0.8918918918918919, 0.057034220532319393, 3.68348623853211, 1.5333333333333334, 0.0, 3.47972972972973, 6.39344262295082, 0.0, 0.0, 0.0, 0.0, 8.762376237623762, 3.077405857740586, 0.8974358974358975, 4.635494155154092, 2.234567901234568, 0.06666666666666667, 0.0, 1.4851485148514851, 0.23333333333333334, 8.055555555555555, 0.7777777777777778, 7.142857142857143, 4.384615384615385, 2.5555555555555554, 0.0, 3.0262390670553936, 4.95, 2.2857142857142856, 2.272727272727273, 6.0625, 0.5128205128205128, 0.0, 0.0, 8.307692307692308, 0.0, 2.65625, 0.09045226130653267, 0.009900990099009901, 0.0, 0.0, 0.0, 0.46153846153846156, 0.03759398496240601, 7.380165289256198, 5.714285714285714, 0.0, 0.0, 0.0, 2.899810964083176, 0.2727272727272727, 1.4470588235294117, 3.015151515151515, 0.0, 3.754385964912281, 0.0, 0.0, 0.0, 4.88, 3.140625, 9.076923076923077, 0.0, 0.21140939597315436, 2.748502994011976, 5.2076271186440675, 3.3866666666666667, 0.375, 0.0, 0.0, 0.0, 0.0, 0.0, 1.489795918367347, 0.0, 2.3870967741935485, 12.6, 0.0, 0.0, 1.5970149253731343, 4.269230769230769, 5.810185185185185, 0.6052631578947368, 1.4478527607361964, 1.0851063829787233, 2.1555555555555554, 1.8852459016393444, 3.076923076923077, 0.0, 1.2791411042944785, 0.0, 0.0, 0.0, 1.7448071216617211, 0.0, 2.72972972972973, 4.028409090909091, 0.0, 0.022727272727272728, 0.828125, 0.0, 0.6382978723404256, 0.967741935483871, 0.0, 0.0, 0.0, 0.0, 0.5185185185185185, 0.0, 0.0, 0.0, 0.0, 0.0, 1.8888888888888888, 7.102150537634409, 0.1111111111111111, 0.0, 2.3688524590163933, 0.0, 0.0, 0.0, 0.3179916317991632, 1.83206106870229, 0.09954751131221719, 8.72549019607843, 2.7142857142857144, 4.177631578947368, 4.522222222222222, 0.9655172413793104, 1.5636363636363637, 6.970731707317073, 1.4666666666666666, 6.488833746898263, 6.9, 3.230769230769231, 1.7325581395348837, 0.0, 1.96, 0.5019455252918288, 5.454545454545454, 3.6, 0.8181818181818182, 0.0, 0.0, 5.0, 0.0, 1.3888888888888888, 2.614834673815907, 5.27765726681128, 1.2777777777777777, 0.0, 0.07692307692307693, 0.0, 2.611111111111111, 3.5060449050086357, 0.5988538681948424, 6.9, 2.635135135135135, 2.3300970873786406, 0.0, 1.3529411764705883, 5.84160756501182, 7.394736842105263, 5.154589371980676, 3.0476190476190474, 3.911111111111111, 6.020366598778004, 5.885906040268456, 0.0, 3.586206896551724, 0.0, 2.5691489361702127, 9.363636363636363, 0.0, 3.574468085106383, 1.0, 4.423529411764706, 0.24622030237580994, 2.215434083601286, 1.5833333333333333, 1.7804878048780488, 1.90625, 4.375, 7.043763676148797, 5.700218818380744, 4.684830633284242, 6.846153846153846, 0.0, 0.0, 0.0, 3.0, 3.2, 0.0, 0.0, 0.0, 2.8783783783783785, 0.0, 2.0357142857142856, 3.6666666666666665, 5.216216216216216, 8.79375, 0.0, 0.0, 0.0, 0.0, 3.0, 4.2727272727272725, 0.02727272727272727, 0.30833333333333335, 0.0, 3.657142857142857, 4.724137931034483, 0.0, 0.0, 5.333333333333333, 1.0277777777777777, 4.089285714285714, 1.3655172413793104, 0.0, 0.0, 0.1801470588235294, 0.0, 3.4, 4.147058823529412, 0.3492063492063492, 0.0, 0.0, 8.812889812889813, 0.0, 0.92, 4.848484848484849, 4.680232558139535, 1.9, 2.517857142857143, 3.1894273127753303, 2.8544857768052516, 0.7297297297297297, 3.096774193548387, 3.674911660777385, 3.0408163265306123, 0.2727272727272727, 0.4444444444444444, 10.20230607966457, 1.8333333333333333, 0.2857142857142857, 2.803001876172608, 0.0, 6.462738301559792, 0.0029154518950437317, 3.2, 1.5211267605633803, 5.434426229508197, 2.956989247311828, 6.076923076923077, 3.4234234234234235, 4.423312883435583, 2.7142857142857144, 0.684863523573201, 0.803921568627451, 3.694267515923567, 3.7747440273037545, 4.003937007874016, 0.0, 0.021367521367521368, 1.6785225718194254, 0.0, 0.0, 1.3333333333333333, 1.55, 0.14925373134328357, 0.5806451612903226, 3.3956386292834893, 0.0, 6.927777777777778, 0.0, 4.612903225806452, 3.24, 0.0, 0.0, 0.9318181818181818, 6.4222222222222225, 0.9166666666666666, 1.93006993006993, 3.1818181818181817, 1.5614035087719298, 5.805555555555555, 0.0, 0.0, 1.5114503816793894, 1.16, 4.0, 0.0, 7.980694980694981, 4.407407407407407, 0.0, 0.0, 3.4285714285714284, 3.630952380952381, 4.8604651162790695, 2.5961538461538463, 0.0, 0.0, 3.740740740740741, 0.0, 4.741258741258742, 0.32727272727272727, 0.0, 0.0, 3.230769230769231, 3.43859649122807, 5.48051948051948, 1.3414634146341464, 3.4976958525345623, 0.0, 0.8186046511627907, 1.1578947368421053, 6.142857142857143, 0.0, 12.020224719101124, 4.217993079584775, 2.1666666666666665, 1.9285714285714286, 0.13513513513513514, 0.0, 0.6408839779005525, 0.16923076923076924, 8.526315789473685, 2.27027027027027, 10.812166488794023, 1.2469635627530364, 0.8947368421052632, 0.0, 2.2114285714285713, 1.9333333333333333, 3.383084577114428, 0.0, 0.0, 10.42445054945055, 0.0, 5.525252525252525, 6.1875, 0.0, 10.786516853932584, 6.865168539325842, 5.1587982832618025, 4.507425742574258, 7.113636363636363, 4.782222222222222, 2.737313432835821, 3.6140888208269524, 0.42328042328042326, 0.0, 0.0, 0.0, 0.0, 7.715827338129497, 0.0, 3.7098214285714284, 0.0, 0.0, 0.0, 0.0, 0.0, 0.0, 3.067901234567901, 0.0, 0.0, 0.4117647058823529, 0.0, 0.0, 0.0, 5.023041474654378, 3.6470588235294117, 1.2083333333333333, 8.067632850241546, 0.0, 1.3888888888888888, 1.125, 2.583673469387755, 0.0, 3.651006711409396, 0.34864864864864864, 5.741071428571429, 1.1963048498845266, 0.0, 2.9302325581395348, 0.0, 0.0, 0.0, 2.758409785932722, 4.539445628997868, 2.677685950413223, 6.828571428571428, 0.0, 11.258064516129032, 4.195945945945946, 1.263157894736842, 4.104477611940299, 1.6363636363636365, 7.949612403100775, 0.0, 1.2866868381240544, 11.137362637362637, 0.9322033898305084, 6.71, 0.3333333333333333, 5.929203539823009, 19.14866760168303, 5.076923076923077, 0.0, 3.0625, 7.029197080291971, 6.644295302013423, 2.2444444444444445, 0.0, 2.2923976608187133, 0.9389002036659878, 2.3294573643410854, 5.546325878594249, 9.620253164556962, 1.6875, 2.1818181818181817, 5.435294117647059, 4.391304347826087, 8.43661971830986, 4.392857142857143, 0.7142857142857143, 0.5318066157760815, 2.8157894736842106, 2.918781725888325, 0.0, 4.819767441860465, 10.399002493765586, 6.190127970749543, 4.522222222222222, 6.276363636363636, 3.64, 2.865965834428384, 0.0, 0.5454545454545454, 0.0, 4.244755244755245, 4.197530864197531, 1.848714069591528, 0.04932735426008968, 0.0, 3.5454545454545454, 0.0, 1.8212927756653992, 1.8571428571428572, 0.0, 0.0, 7.8, 8.280701754385966, 3.402621722846442, 0.0, 6.931623931623932, 0.4583333333333333, 1.326086956521739, 8.125886524822695, 5.387543252595155, 4.038461538461538, 0.0, 0.0, 8.005050505050505, 4.928571428571429, 4.947368421052632, 6.181818181818182, 0.075, 3.8281879194630872, 3.2804232804232805, 0.0, 0.0, 0.0, 0.2777777777777778, 0.26614481409001955, 0.054140127388535034, 0.08900190718372536, 2.606741573033708, 0.5471698113207547, 0.0, 0.0, 3.716887417218543, 5.810526315789474, 9.488505747126437, 12.954887218045112, 0.0, 1.1884057971014492, 0.0, 3.5095693779904304, 4.974025974025974, 7.568181818181818, 0.03731343283582089, 0.40625, 0.23484848484848486, 0.087893864013267, 3.765625, 0.0, 0.0, 0.0, 0.0, 0.0, 0.19027484143763213, 0.0, 0.0, 17.904558404558404, 0.0, 0.0, 0.0, 0.0, 0.47460757156048017, 0.0, 4.442105263157894, 0.0, 0.09210526315789473, 0.0, 3.5, 0.0, 0.0, 0.0, 3.9652956298200515, 1.0580645161290323, 0.13414634146341464, 4.5, 0.0, 8.902439024390244, 4.6521739130434785, 0.5701149425287356, 5.698198198198198, 0.0, 0.012345679012345678, 0.0, 5.095744680851064, 1.4545454545454546, 0.0, 1.25, 1.9381443298969072, 0.0, 0.0, 0.3333333333333333, 0.0, 0.0, 1.0833333333333333, 0.0, 1.4893617021276595, 0.0, 4.476190476190476, 2.1333333333333333, 6.576923076923077, 0.16666666666666666, 0.1111111111111111, 3.0859375, 1.8374384236453203, 0.0, 0.0, 5.088888888888889, 0.23809523809523808, 3.8461538461538463, 4.411764705882353, 2.943801652892562, 7.190322580645161, 2.1215559157212316, 0.0, 1.7083333333333333, 3.0434782608695654, 0.0, 4.163793103448276, 3.2325581395348837, 3.375, 5.833333333333333, 9.705479452054794, 3.3636363636363638, 0.0, 2.6153846153846154, 4.950653120464441, 3.873015873015873, 4.181818181818182, 6.645161290322581, 3.5036630036630036, 3.9886363636363638, 0.0, 0.0, 5.9502762430939224, 4.4907063197026025, 5.719512195121951, 3.2075782537067545, 0.0, 0.0, 0.35563380281690143, 0.48120300751879697, 0.0, 0.3787878787878788, 0.0, 7.076923076923077, 8.125, 3.6538461538461537, 0.0, 4.064516129032258, 12.34548611111111, 0.8605851979345955, 4.801418439716312, 0.0, 4.2, 0.0, 0.0, 0.0, 1.411764705882353, 6.552631578947368, 1.2727272727272727, 2.8, 5.418439716312057, 5.264150943396227, 0.15384615384615385, 0.7435897435897436, 0.0, 0.0, 1.2191780821917808, 3.834710743801653, 2.1513761467889907, 1.6444444444444444, 5.135135135135135, 7.147058823529412, 3.0, 0.0, 3.933333333333333, 0.009302325581395349, 2.242424242424242, 0.0, 0.0, 1.095, 6.177718832891247, 0.1935483870967742, 0.032388663967611336, 3.533333333333333, 3.6476683937823835, 5.775764439411098, 0.0, 0.0, 0.0, 8.195121951219512, 2.625, 3.4545454545454546, 4.8, 0.0, 2.4339622641509435, 7.804166666666666, 0.9104477611940298, 1.1176470588235294, 4.017361111111111, 2.327027027027027, 4.675324675324675, 5.586065573770492, 6.287234042553192, 4.353711790393013, 2.6363636363636362, 3.8333333333333335, 2.1375739644970415, 5.678966789667896, 5.933806146572104, 0.0, 2.9473684210526314, 4.012987012987013, 4.646788990825688, 0.0851063829787234, 0.0, 8.126984126984127, 0.0, 6.04390243902439, 10.126760563380282, 0.5925925925925926, 7.798479087452471, 0.0, 4.044150110375276, 2.3529411764705883, 1.5757575757575757, 1.0499001996007984, 0.0, 0.023529411764705882, 4.258064516129032, 1.5714285714285714, 3.72, 1.2857142857142858, 1.9051724137931034, 6.971153846153846, 4.011111111111111, 0.0, 2.456603773584906, 9.300380228136882, 0.45588235294117646, 1.2727272727272727, 3.4048582995951415, 3.983213429256595, 8.808457711442786, 4.327044025157233, 8.55232558139535, 0.0, 0.0, 10.026490066225165, 0.7142857142857143, 0.0, 0.0, 0.0, 0.90625, 4.416666666666667, 2.1951219512195124, 1.5576923076923077, 0.46153846153846156, 2.5625, 0.46511627906976744, 3.8073394495412844, 12.804597701149426, 0.0, 3.152139461172742, 0.0, 0.0, 0.2, 0.0, 4.08955223880597, 2.1496598639455784, 1.9298245614035088, 0.0, 0.21428571428571427, 5.852941176470588, 5.5054945054945055, 1.4444444444444444, 7.962162162162162, 0.7979166666666667, 4.264026402640264, 0.6145833333333334, 4.835820895522388, 6.642857142857143, 4.1875, 1.0909090909090908, 2.388888888888889, 2.6015625, 11.576923076923077, 0.1888111888111888, 0.0, 0.0, 6.8431372549019605, 2.1875, 0.0, 0.40625, 2.3333333333333335, 1.6666666666666667, 0.45717884130982367, 0.0, 0.0, 0.0, 5.794871794871795, 6.882352941176471, 1.6521739130434783, 1.05, 0.17647058823529413, 8.320328542094456, 1.7222222222222223, 0.27586206896551724, 0.0, 3.923076923076923, 0.46875, 5.67381974248927, 0.0, 3.432515337423313, 0.0, 3.495575221238938, 5.013513513513513, 0.0, 2.064516129032258, 7.5390243902439025, 0.0, 0.028985507246376812, 2.563876651982379, 5.12, 1.5909090909090908, 6.120567375886525, 0.09259259259259259, 11.033783783783784, 0.0, 5.294117647058823, 1.6153846153846154, 5.69811320754717, 3.0, 3.374269005847953, 0.7162921348314607, 0.0, 1.5, 0.6745098039215687, 3.814159292035398, 0.006024096385542169, 0.0, 2.875, 0.0, 0.0, 0.0, 0.0, 0.0, 0.0, 3.021276595744681, 7.882352941176471, 3.797180043383948, 0.0, 0.10894941634241245, 5.066666666666666, 14.495429616087751, 0.0, 4.882882882882883, 0.0, 3.096774193548387, 0.0, 1.88, 5.214285714285714, 8.210526315789474, 0.05803571428571429, 4.866666666666666, 0.11538461538461539, 0.10810810810810811, 4.815789473684211, 4.760869565217392, 0.9642857142857143, 0.0, 14.578125, 0.0, 0.5663716814159292, 4.278931750741839, 1.75, 8.066273932253313, 3.375, 3.704225352112676, 6.105263157894737, 0.0, 6.3566978193146415, 4.325281803542673, 7.66256157635468, 3.7947686116700203, 3.4158878504672896, 7.102564102564102, 3.0693430656934306, 4.019323671497585, 3.5, 3.574468085106383, 5.1731107205623905, 1.605095541401274, 3.1150442477876106, 0.875, 3.1953125, 4.0754716981132075, 2.6893203883495147, 3.8923076923076922, 4.2025316455696204, 1.6310679611650485, 0.0196078431372549, 3.436482084690554, 0.0, 4.136986301369863, 2.3333333333333335, 2.3947368421052633, 2.0, 1.9230769230769231, 1.4210526315789473, 4.466666666666667, 0.0, 0.0, 1.601139601139601, 0.35097493036211697, 1.9523809523809523, 3.988857938718663, 5.496551724137931, 0.15789473684210525, 0.0, 1.1380597014925373, 3.955631399317406, 0.6666666666666666, 5.568539325842696, 0.0, 0.8963730569948186, 0.0, 0.0, 0.0, 0.0, 0.0, 0.0, 0.0, 2.9597701149425286, 2.3914473684210527, 0.0, 6.593466424682395, 4.102564102564102, 3.3345195729537367, 0.281786941580756, 3.2440944881889764, 0.008064516129032258, 0.0, 2.345, 3.6577946768060836, 4.765410958904109, 3.4827586206896552, 0.0, 0.0, 0.05084745762711865, 1.25, 0.0, 0.00881057268722467, 2.4324324324324325, 0.0, 4.747126436781609, 8.723895582329318, 0.0, 0.0, 0.0, 0.0, 0.0, 0.06060606060606061, 0.0, 0.0, 0.0, 7.014925373134329, 0.0, 0.0, 4.915384615384616, 1.1176470588235294, 0.0, 2.64, 3.642857142857143, 3.4375, 0.0, 4.904761904761905, 8.59047619047619, 0.0, 3.3478915662650603, 2.4761904761904763, 0.0, 1.7272727272727273, 0.0, 5.325986078886311, 7.030612244897959, 1.3125, 2.466666666666667, 8.604166666666666, 2.25, 0.0, 2.388732394366197, 2.7735849056603774, 5.950795947901592, 3.3, 6.619909502262443, 2.972972972972973, 3.1751497005988023, 7.529801324503311, 0.0, 0.040584415584415584, 5.0, 0.0, 0.0, 0.0425531914893617, 0.0, 3.9166666666666665, 0.0, 1.8076923076923077, 4.117647058823529, 0.0, 2.688841201716738, 4.1869565217391305, 0.0, 0.0, 2.279220779220779, 0.0, 10.1875, 6.752747252747253, 5.2987598647125145, 12.044094488188977, 0.7313432835820896, 0.0, 0.0, 0.9230769230769231, 2.3333333333333335, 3.1835664335664338, 0.0, 0.8860759493670886, 0.0, 0.0, 2.5681818181818183, 1.3571428571428572, 1.6428571428571428, 0.0, 1.6377952755905512, 5.590330788804072, 4.384615384615385, 9.575221238938052, 0.0, 0.0, 0.0, 0.022099447513812154, 0.0, 0.0, 0.0, 0.8633093525179856, 3.099391480730223, 1.3235294117647058, 2.5294117647058822, 0.0, 0.0, 6.242424242424242, 8.024896265560166, 3.706896551724138, 0.0, 0.0, 0.0, 4.19672131147541, 7.417049180327869, 1.5454545454545454, 0.5603448275862069, 3.0736842105263156, 3.2941176470588234, 4.9375, 3.6491228070175437, 0.0, 0.0, 0.0, 0.0, 0.0, 1.3016528925619835, 0.0, 0.0, 0.0, 0.0, 2.9651741293532337, 1.0, 0.0, 0.0, 6.866906474820144, 4.239130434782608, 2.090909090909091, 12.36094674556213, 5.0, 0.0, 2.6923076923076925, 6.538461538461538, 3.4216867469879517, 0.0, 3.381720430107527, 1.2272727272727273, 3.7216494845360826, 4.005464480874317, 1.4, 0.0, 1.565217391304348, 0.3094059405940594, 6.476793248945148, 5.866666666666666, 0.0, 6.238095238095238, 0.0, 3.0, 5.636363636363637, 5.250847457627119, 5.331932773109243, 3.0333796940194713, 0.04395604395604396, 0.3181818181818182, 2.7701149425287355, 6.041884816753926, 0.05309734513274336, 0.0, 1.0, 0.0, 0.0, 4.865814696485623, 3.7435897435897436, 2.3666666666666667, 2.6875, 1.3418803418803418, 3.917525773195876, 0.0, 0.45454545454545453, 3.587188612099644, 2.448717948717949, 0.36824324324324326, 3.1180555555555554, 0.0, 0.0, 6.910926365795724, 0.0, 1.3045496750232126, 0.018867924528301886, 3.23454157782516, 0.0, 0.0, 2.618181818181818, 3.8582089552238807, 5.0, 0.0, 5.962264150943396, 3.8849557522123894, 4.952, 1.4150943396226414, 3.0232558139534884, 3.62109375, 0.0, 0.7222222222222222, 0.07142857142857142, 8.167155425219942, 0.0, 0.0, 0.0, 1.9166666666666667, 0.0, 0.0, 0.45454545454545453, 0.24528301886792453, 0.0, 5.114583333333333, 0.9285714285714286, 0.0, 0.39204545454545453, 3.5098039215686274, 7.266211604095563, 0.0, 0.0, 0.0, 4.3924050632911396, 2.3823529411764706, 7.0060975609756095, 3.5789473684210527, 0.9548872180451128, 3.2033898305084745, 0.0, 0.011086474501108648, 2.24, 7.222666666666667, 3.9166666666666665, 0.0, 0.934156378600823, 7.770516717325228, 2.0033149171270717, 1.3076923076923077, 5.554761904761905, 0.37142857142857144, 0.0, 5.556129032258064, 0.3321100917431193, 4.4609375, 0.0, 0.0, 1.9819277108433735, 0.0, 1.8235294117647058, 8.72573189522342, 0.3986013986013986, 3.1944444444444446, 0.72, 2.5394190871369293, 0.0, 0.0, 0.0, 0.0, 0.0, 1.426356589147287, 0.0, 0.8, 3.793103448275862, 7.289766970618034, 5.75, 1.976019184652278, 2.6907216494845363, 0.0, 3.4214285714285713, 0.0, 6.41240478781284, 3.549019607843137, 3.6089385474860336, 0.0, 0.0, 0.0, 0.0, 0.0, 0.0, 0.0, 0.0, 0.0, 2.7066666666666666, 0.9672131147540983, 0.020833333333333332, 1.3333333333333333, 0.9534883720930233, 0.0, 0.0, 9.10909090909091, 0.15789473684210525, 0.5909090909090909, 0.0, 2.69811320754717, 2.452830188679245, 4.462921348314607, 0.0, 0.0, 7.398589065255732, 1.1612903225806452, 4.066666666666666, 3.4843517138599105, 0.0, 3.9565217391304346, 0.0, 1.6666666666666667, 4.218181818181818, 4.814814814814815, 1.6178861788617886, 14.76530612244898, 2.016216216216216, 6.602609727164888, 0.0, 5.128712871287129, 4.946428571428571, 9.4375, 8.181818181818182, 0.0, 0.0, 2.0697674418604652, 0.0, 3.869565217391304, 0.0, 1.0909090909090908, 2.106382978723404, 6.552816901408451, 0.5432098765432098, 0.1206896551724138, 0.8214285714285714, 3.9641025641025642, 5.1152173913043475, 0.95, 6.191235059760956, 0.0, 3.471014492753623, 1.6727272727272726, 2.3333333333333335, 4.533333333333333, 5.75, 0.0, 2.5675675675675675, 0.0], \"coloraxis\": \"coloraxis\", \"symbol\": \"circle\"}, \"mode\": \"markers\", \"name\": \"\", \"showlegend\": false, \"type\": \"scattergl\", \"x\": [183.0, 193.0, 175.0, 183.0, 190.0, 178.0, 185.0, 183.0, 183.0, 180.0, 183.0, 183.0, 175.0, 188.0, 173.0, 183.0, 203.0, 183.0, 180.0, 175.0, 188.0, 188.0, 173.0, 180.0, 175.0, 175.0, 193.0, 175.0, 185.0, 180.0, 180.0, 180.0, 183.0, 175.0, 183.0, 185.0, 188.0, 183.0, 178.0, 190.0, 180.0, 175.0, 183.0, 175.0, 185.0, 185.0, 180.0, 183.0, 188.0, 183.0, 201.0, 193.0, 188.0, 188.0, 198.0, 185.0, 180.0, 190.0, 188.0, 193.0, 190.0, 181.0, 180.0, 178.0, 185.0, 196.0, 183.0, 188.0, 175.0, 185.0, 180.0, 180.0, 185.0, 183.0, 190.0, 190.0, 190.0, 175.0, 190.0, 180.0, 180.0, 188.0, 193.0, 183.0, 185.0, 183.0, 180.0, 178.0, 180.0, 185.0, 193.0, 180.0, 178.0, 190.0, 180.0, 188.0, 201.0, 175.0, 185.0, 185.0, 185.0, 178.0, 190.0, 180.0, 188.0, 163.0, 180.0, 185.0, 183.0, 173.0, 185.0, 188.0, 185.0, 193.0, 180.0, 183.0, 185.0, 183.0, 188.0, 190.0, 180.0, 173.0, 178.0, 170.0, 178.0, 185.0, 185.0, 178.0, 196.0, 185.0, 185.0, 173.0, 188.0, 193.0, 178.0, 185.0, 178.0, 185.0, 178.0, 178.0, 180.0, 185.0, 180.0, 175.0, 175.0, 170.0, 188.0, 193.0, 183.0, 193.0, 190.0, 183.0, 183.0, 188.0, 180.0, 190.0, 180.0, 190.0, 185.0, 185.0, 175.0, 190.0, 175.0, 188.0, 178.0, 185.0, 183.0, 185.0, 190.0, 170.0, 185.0, 201.0, 173.0, 183.0, 183.0, 180.0, 190.0, 183.0, 183.0, 180.0, 180.0, 190.0, 173.0, 183.0, 175.0, 185.0, 183.0, 193.0, 188.0, 193.0, 175.0, 170.0, 180.0, 183.0, 190.0, 183.0, 175.0, 175.0, 173.0, 190.0, 193.0, 198.0, 196.0, 180.0, 173.0, 188.0, 183.0, 180.0, 196.0, 183.0, 178.0, 198.0, 163.0, 196.0, 193.0, 180.0, 201.0, 175.0, 180.0, 183.0, 180.0, 188.0, 190.0, 180.0, 185.0, 188.0, 190.0, 183.0, 185.0, 185.0, 185.0, 178.0, 183.0, 170.0, 188.0, 185.0, 185.0, 188.0, 190.0, 180.0, 178.0, 180.0, 178.0, 188.0, 175.0, 188.0, 185.0, 185.0, 190.0, 178.0, 188.0, 190.0, 180.0, 178.0, 190.0, 180.0, 185.0, 172.0, 178.0, 178.0, 185.0, 188.0, 173.0, 180.0, 196.0, 183.0, 175.0, 185.0, 190.0, 180.0, 190.0, 183.0, 190.0, 180.0, 183.0, 193.0, 193.0, 173.0, 185.0, 183.0, 188.0, 180.0, 183.0, 175.0, 173.0, 178.0, 180.0, 175.0, 163.0, 185.0, 180.0, 175.0, 180.0, 183.0, 180.0, 183.0, 185.0, 178.0, 183.0, 185.0, 183.0, 193.0, 190.0, 188.0, 180.0, 183.0, 188.0, 180.0, 188.0, 185.0, 185.0, 185.0, 203.0, 188.0, 185.0, 178.0, 188.0, 178.0, 170.0, 183.0, 183.0, 185.0, 185.0, 185.0, 185.0, 183.0, 198.0, 185.0, 180.0, 185.0, 190.0, 183.0, 175.0, 180.0, 188.0, 183.0, 178.0, 175.0, 180.0, 190.0, 196.0, 185.0, 188.0, 170.0, 190.0, 180.0, 188.0, 185.0, 178.0, 160.0, 183.0, 188.0, 178.0, 178.0, 188.0, 183.0, 183.0, 180.0, 193.0, 178.0, 180.0, 196.0, 178.0, 175.0, 188.0, 180.0, 183.0, 190.0, 190.0, 183.0, 185.0, 185.0, 183.0, 183.0, 178.0, 178.0, 196.0, 180.0, 190.0, 188.0, 170.0, 168.0, 188.0, 183.0, 178.0, 180.0, 173.0, 183.0, 175.0, 180.0, 190.0, 188.0, 180.0, 188.0, 190.0, 185.0, 173.0, 183.0, 173.0, 183.0, 180.0, 190.0, 180.0, 183.0, 183.0, 193.0, 185.0, 183.0, 175.0, 190.0, 173.0, 183.0, 180.0, 185.0, 190.0, 193.0, 193.0, 183.0, 190.0, 183.0, 190.0, 173.0, 178.0, 190.0, 190.0, 193.0, 183.0, 196.0, 180.0, 178.0, 193.0, 173.0, 193.0, 173.0, 173.0, 190.0, 190.0, 178.0, 185.0, 175.0, 183.0, 185.0, 183.0, 173.0, 183.0, 190.0, 173.0, 178.0, 190.0, 185.0, 193.0, 173.0, 180.0, 183.0, 173.0, 180.0, 188.0, 190.0, 193.0, 183.0, 180.0, 193.0, 173.0, 183.0, 185.0, 175.0, 188.0, 178.0, 193.0, 180.0, 173.0, 173.0, 185.0, 180.0, 188.0, 188.0, 178.0, 193.0, 185.0, 183.0, 183.0, 180.0, 190.0, 188.0, 185.0, 180.0, 188.0, 185.0, 175.0, 188.0, 178.0, 183.0, 180.0, 180.0, 180.0, 190.0, 175.0, 190.0, 193.0, 185.0, 183.0, 185.0, 173.0, 178.0, 185.0, 168.0, 178.0, 173.0, 190.0, 178.0, 180.0, 188.0, 183.0, 185.0, 183.0, 188.0, 185.0, 180.0, 188.0, 180.0, 175.0, 180.0, 188.0, 175.0, 173.0, 183.0, 178.0, 170.0, 190.0, 180.0, 185.0, 180.0, 190.0, 183.0, 193.0, 185.0, 188.0, 188.0, 185.0, 183.0, 183.0, 188.0, 193.0, 175.0, 183.0, 188.0, 188.0, 208.0, 183.0, 180.0, 196.0, 188.0, 185.0, 173.0, 180.0, 196.0, 170.0, 188.0, 185.0, 183.0, 183.0, 180.0, 190.0, 178.0, 185.0, 183.0, 190.0, 185.0, 180.0, 190.0, 175.0, 188.0, 190.0, 183.0, 198.0, 180.0, 190.0, 185.0, 175.0, 175.0, 196.0, 185.0, 185.0, 178.0, 180.0, 188.0, 183.0, 183.0, 185.0, 173.0, 193.0, 173.0, 185.0, 185.0, 180.0, 188.0, 190.0, 180.0, 180.0, 188.0, 188.0, 185.0, 180.0, 175.0, 203.0, 188.0, 175.0, 178.0, 165.0, 185.0, 193.0, 175.0, 175.0, 185.0, 193.0, 175.0, 180.0, 178.0, 178.0, 175.0, 185.0, 185.0, 190.0, 185.0, 188.0, 198.0, 188.0, 173.0, 185.0, 185.0, 193.0, 196.0, 185.0, 183.0, 183.0, 175.0, 185.0, 190.0, 193.0, 185.0, 188.0, 190.0, 183.0, 173.0, 193.0, 206.0, 183.0, 185.0, 178.0, 183.0, 180.0, 188.0, 183.0, 183.0, 185.0, 188.0, 185.0, 180.0, 178.0, 178.0, 183.0, 188.0, 185.0, 180.0, 188.0, 188.0, 180.0, 175.0, 188.0, 180.0, 180.0, 183.0, 190.0, 175.0, 180.0, 180.0, 190.0, 178.0, 173.0, 178.0, 185.0, 185.0, 178.0, 173.0, 183.0, 185.0, 175.0, 183.0, 193.0, 180.0, 183.0, 185.0, 175.0, 180.0, 178.0, 190.0, 183.0, 183.0, 198.0, 190.0, 198.0, 185.0, 190.0, 178.0, 178.0, 185.0, 185.0, 188.0, 188.0, 185.0, 190.0, 180.0, 180.0, 173.0, 183.0, 190.0, 190.0, 196.0, 190.0, 185.0, 180.0, 178.0, 180.0, 188.0, 180.0, 178.0, 188.0, 185.0, 175.0, 185.0, 185.0, 185.0, 175.0, 190.0, 203.0, 188.0, 180.0, 196.0, 203.0, 185.0, 180.0, 188.0, 178.0, 183.0, 180.0, 183.0, 183.0, 190.0, 188.0, 180.0, 188.0, 193.0, 185.0, 185.0, 188.0, 178.0, 193.0, 183.0, 188.0, 188.0, 196.0, 180.0, 183.0, 183.0, 183.0, 185.0, 178.0, 183.0, 178.0, 188.0, 188.0, 168.0, 196.0, 180.0, 185.0, 180.0, 190.0, 175.0, 173.0, 190.0, 175.0, 175.0, 190.0, 170.0, 180.0, 185.0, 178.0, 170.0, 180.0, 183.0, 185.0, 185.0, 196.0, 190.0, 190.0, 180.0, 185.0, 193.0, 188.0, 193.0, 185.0, 185.0, 180.0, 178.0, 178.0, 193.0, 190.0, 188.0, 196.0, 175.0, 201.0, 173.0, 190.0, 180.0, 180.0, 178.0, 170.0, 178.0, 175.0, 175.0, 185.0, 180.0, 185.0, 183.0, 180.0, 185.0, 183.0, 188.0, 173.0, 178.0, 180.0, 183.0, 198.0, 194.0, 196.0, 170.0, 180.0, 193.0, 193.0, 178.0, 190.0, 185.0, 185.0, 185.0, 190.0, 185.0, 178.0, 188.0, 185.0, 183.0, 196.0, 170.0, 188.0, 188.0, 175.0, 178.0, 178.0, 188.0, 178.0, 190.0, 180.0, 178.0, 196.0, 190.0, 188.0, 188.0, 178.0, 190.0, 190.0, 180.0, 178.0, 180.0, 190.0, 188.0, 183.0, 196.0, 183.0, 183.0, 185.0, 180.0, 180.0, 185.0, 173.0, 185.0, 183.0, 183.0, 188.0, 193.0, 180.0, 188.0, 188.0, 178.0, 170.0, 193.0, 196.0, 175.0, 183.0, 178.0, 183.0, 180.0, 193.0, 175.0, 175.0, 178.0, 180.0, 188.0, 185.0, 185.0, 190.0, 188.0, 185.0, 173.0, 188.0, 180.0, 193.0, 193.0, 190.0, 190.0, 185.0, 180.0, 185.0, 175.0, 185.0, 201.0, 180.0, 185.0, 173.0, 185.0, 188.0, 190.0, 190.0, 183.0, 185.0, 173.0, 180.0, 180.0, 188.0, 183.0, 188.0, 183.0, 190.0, 203.0, 180.0, 196.0, 190.0, 190.0, 173.0, 183.0, 193.0, 190.0, 180.0, 180.0, 183.0, 193.0, 190.0, 188.0, 190.0, 173.0, 190.0, 185.0, 193.0, 180.0, 183.0, 190.0, 188.0, 183.0, 185.0, 173.0, 185.0, 178.0, 183.0, 188.0, 190.0, 183.0, 188.0, 183.0, 178.0, 185.0, 188.0, 185.0, 188.0, 190.0, 193.0, 175.0, 185.0, 185.0, 170.0, 175.0, 180.0, 168.0, 183.0, 188.0, 188.0, 185.0, 170.0, 180.0, 185.0, 183.0, 173.0, 190.0, 196.0, 185.0, 180.0, 180.0, 180.0, 188.0, 180.0, 178.0, 175.0, 180.0, 183.0, 190.0, 185.0, 175.0, 183.0, 190.0, 170.0, 173.0, 188.0, 178.0, 180.0, 188.0, 188.0, 183.0, 180.0, 185.0, 185.0, 190.0, 185.0, 190.0, 178.0, 185.0, 178.0, 188.0, 185.0, 175.0, 178.0, 180.0, 188.0, 188.0, 173.0, 170.0, 180.0, 183.0, 183.0, 185.0, 193.0, 175.0, 183.0, 180.0, 188.0, 190.0, 178.0, 183.0, 196.0, 185.0, 178.0, 175.0, 183.0, 185.0, 185.0, 193.0, 190.0, 180.0, 185.0, 185.0, 196.0, 185.0, 190.0, 190.0, 183.0, 188.0, 173.0, 178.0, 185.0, 180.0, 175.0, 188.0, 185.0, 180.0, 188.0, 188.0, 185.0, 188.0, 185.0, 185.0, 180.0, 193.0, 160.0, 170.0, 185.0, 188.0, 193.0, 190.0, 183.0, 180.0, 183.0, 185.0, 185.0, 175.0, 175.0, 175.0, 175.0, 170.0, 175.0, 183.0, 185.0, 196.0, 185.0, 196.0, 188.0, 183.0, 188.0, 185.0, 193.0, 180.0, 180.0, 188.0, 185.0, 178.0, 180.0, 188.0, 173.0, 180.0, 183.0, 183.0, 193.0, 190.0, 180.0, 180.0, 185.0, 190.0, 180.0, 193.0, 173.0, 185.0, 183.0, 178.0, 190.0, 185.0, 178.0, 190.0, 193.0, 183.0, 185.0, 173.0, 188.0, 183.0, 185.0, 183.0, 185.0, 178.0, 190.0, 190.0, 183.0, 178.0, 185.0, 190.0, 185.0, 185.0, 180.0, 183.0, 183.0, 175.0, 183.0, 183.0, 178.0, 173.0, 188.0, 183.0, 196.0, 180.0, 198.0, 190.0, 178.0, 190.0, 193.0, 193.0, 178.0, 188.0, 190.0, 183.0, 180.0, 185.0, 180.0, 175.0, 188.0, 178.0, 185.0, 180.0, 188.0, 178.0, 180.0, 183.0, 175.0, 183.0, 188.0, 185.0, 170.0, 185.0, 193.0, 193.0, 193.0, 185.0, 188.0, 188.0, 185.0, 185.0, 190.0, 183.0, 185.0, 183.0, 180.0, 173.0, 193.0, 183.0, 198.0, 180.0, 190.0, 193.0, 183.0, 170.0, 188.0, 193.0, 175.0, 175.0, 185.0, 178.0, 185.0, 185.0, 188.0, 180.0, 185.0, 193.0, 178.0, 183.0, 178.0, 188.0, 180.0, 188.0, 188.0, 175.0, 193.0, 190.0, 183.0, 188.0, 185.0, 180.0, 178.0, 188.0, 175.0, 188.0, 180.0, 175.0, 180.0, 188.0, 180.0, 178.0, 180.0, 188.0, 178.0, 193.0, 188.0, 183.0, 188.0, 178.0, 178.0, 185.0, 190.0, 178.0, 185.0, 190.0, 180.0, 180.0, 180.0, 188.0, 183.0, 180.0, 185.0, 190.0, 175.0, 180.0, 185.0, 180.0, 193.0, 178.0, 198.0, 185.0, 180.0, 183.0, 178.0, 185.0, 188.0, 180.0, 180.0, 175.0, 175.0, 178.0, 180.0, 193.0, 196.0, 178.0, 178.0, 185.0, 190.0, 178.0, 193.0, 188.0, 183.0, 180.0, 190.0, 178.0, 178.0, 180.0, 188.0, 178.0, 178.0, 173.0, 170.0, 185.0, 185.0, 180.0, 185.0, 180.0, 190.0, 185.0, 193.0, 178.0, 183.0, 201.0, 185.0, 173.0, 198.0, 193.0, 193.0, 193.0, 173.0, 173.0, 183.0, 180.0, 183.0, 183.0, 175.0, 180.0, 188.0, 180.0, 190.0, 170.0, 185.0, 183.0, 180.0, 188.0, 196.0, 190.0, 188.0, 183.0, 183.0, 183.0, 178.0, 173.0, 190.0, 193.0, 185.0, 185.0, 193.0, 175.0, 180.0, 190.0, 175.0, 193.0, 183.0, 173.0, 183.0, 188.0, 183.0, 188.0, 180.0, 178.0, 183.0], \"xaxis\": \"x\", \"y\": [1.5237366003062787, 1.24, 2.1707317073170733, 4.661363636363636, 0.0, 1.9166666666666667, 5.080128205128205, 0.0, 6.639097744360902, 0.5769230769230769, 0.0, 3.9295774647887325, 0.3670886075949367, 0.0, 0.0, 1.7333333333333334, 18.857142857142858, 3.52, 3.3338368580060425, 3.3161764705882355, 4.064705882352941, 3.45021645021645, 1.5857740585774058, 1.286231884057971, 2.0061475409836067, 0.0, 0.6666666666666666, 0.0, 3.0141342756183747, 0.0, 0.0, 2.0, 2.8076923076923075, 0.0, 3.5483870967741935, 3.5660377358490565, 2.1195219123505975, 4.680851063829787, 2.1797752808988764, 5.904494382022472, 3.6099585062240664, 2.088235294117647, 7.333333333333333, 1.8703703703703705, 4.434782608695652, 10.104166666666666, 0.0, 6.3, 4.136094674556213, 3.73972602739726, 4.409090909090909, 4.818181818181818, 3.377224199288256, 10.282608695652174, 8.186486486486487, 0.0, 7.439716312056738, 0.14285714285714285, 6.0606060606060606, 0.0, 1.1724137931034482, 8.03921568627451, 3.3846153846153846, 0.0, 0.0, 9.067415730337078, 1.6428571428571428, 1.173913043478261, 1.5, 0.0, 0.9118541033434651, 3.5353095030514385, 2.6805555555555554, 2.2439024390243905, 3.8181818181818183, 4.289719626168225, 6.564516129032258, 0.0, 4.715197956577267, 4.063157894736842, 1.6117936117936118, 1.449013157894737, 5.154562383612663, 1.0, 6.215547703180212, 4.361313868613139, 0.4583333333333333, 4.831578947368421, 2.0, 0.0, 0.4913151364764268, 0.16666666666666666, 0.0, 0.5128205128205128, 4.70873786407767, 0.0, 7.6, 0.9696969696969697, 3.6902173913043477, 5.0, 0.0, 0.0, 6.534831460674157, 4.470588235294118, 10.931076178960097, 0.0, 2.5714285714285716, 7.191588785046729, 3.5583524027459954, 4.852941176470588, 2.395209580838323, 5.396551724137931, 0.0, 6.022222222222222, 2.08, 3.712871287128713, 4.305555555555555, 0.0, 7.769230769230769, 0.0, 0.0, 0.0, 0.29914529914529914, 0.0, 5.277777777777778, 0.0, 1.0, 7.568, 8.555075593952484, 0.34782608695652173, 0.0, 0.0, 0.0, 7.493224932249323, 0.972972972972973, 5.191919191919192, 0.0, 0.0, 0.0, 0.0, 0.3225806451612903, 0.8918918918918919, 0.057034220532319393, 3.68348623853211, 1.5333333333333334, 0.0, 3.47972972972973, 6.39344262295082, 0.0, 0.0, 0.0, 0.0, 8.762376237623762, 3.077405857740586, 0.8974358974358975, 4.635494155154092, 2.234567901234568, 0.06666666666666667, 0.0, 1.4851485148514851, 0.23333333333333334, 8.055555555555555, 0.7777777777777778, 7.142857142857143, 4.384615384615385, 2.5555555555555554, 0.0, 3.0262390670553936, 4.95, 2.2857142857142856, 2.272727272727273, 6.0625, 0.5128205128205128, 0.0, 0.0, 8.307692307692308, 0.0, 2.65625, 0.09045226130653267, 0.009900990099009901, 0.0, 0.0, 0.0, 0.46153846153846156, 0.03759398496240601, 7.380165289256198, 5.714285714285714, 0.0, 0.0, 0.0, 2.899810964083176, 0.2727272727272727, 1.4470588235294117, 3.015151515151515, 0.0, 3.754385964912281, 0.0, 0.0, 0.0, 4.88, 3.140625, 9.076923076923077, 0.0, 0.21140939597315436, 2.748502994011976, 5.2076271186440675, 3.3866666666666667, 0.375, 0.0, 0.0, 0.0, 0.0, 0.0, 1.489795918367347, 0.0, 2.3870967741935485, 12.6, 0.0, 0.0, 1.5970149253731343, 4.269230769230769, 5.810185185185185, 0.6052631578947368, 1.4478527607361964, 1.0851063829787233, 2.1555555555555554, 1.8852459016393444, 3.076923076923077, 0.0, 1.2791411042944785, 0.0, 0.0, 0.0, 1.7448071216617211, 0.0, 2.72972972972973, 4.028409090909091, 0.0, 0.022727272727272728, 0.828125, 0.0, 0.6382978723404256, 0.967741935483871, 0.0, 0.0, 0.0, 0.0, 0.5185185185185185, 0.0, 0.0, 0.0, 0.0, 0.0, 1.8888888888888888, 7.102150537634409, 0.1111111111111111, 0.0, 2.3688524590163933, 0.0, 0.0, 0.0, 0.3179916317991632, 1.83206106870229, 0.09954751131221719, 8.72549019607843, 2.7142857142857144, 4.177631578947368, 4.522222222222222, 0.9655172413793104, 1.5636363636363637, 6.970731707317073, 1.4666666666666666, 6.488833746898263, 6.9, 3.230769230769231, 1.7325581395348837, 0.0, 1.96, 0.5019455252918288, 5.454545454545454, 3.6, 0.8181818181818182, 0.0, 0.0, 5.0, 0.0, 1.3888888888888888, 2.614834673815907, 5.27765726681128, 1.2777777777777777, 0.0, 0.07692307692307693, 0.0, 2.611111111111111, 3.5060449050086357, 0.5988538681948424, 6.9, 2.635135135135135, 2.3300970873786406, 0.0, 1.3529411764705883, 5.84160756501182, 7.394736842105263, 5.154589371980676, 3.0476190476190474, 3.911111111111111, 6.020366598778004, 5.885906040268456, 0.0, 3.586206896551724, 0.0, 2.5691489361702127, 9.363636363636363, 0.0, 3.574468085106383, 1.0, 4.423529411764706, 0.24622030237580994, 2.215434083601286, 1.5833333333333333, 1.7804878048780488, 1.90625, 4.375, 7.043763676148797, 5.700218818380744, 4.684830633284242, 6.846153846153846, 0.0, 0.0, 0.0, 3.0, 3.2, 0.0, 0.0, 0.0, 2.8783783783783785, 0.0, 2.0357142857142856, 3.6666666666666665, 5.216216216216216, 8.79375, 0.0, 0.0, 0.0, 0.0, 3.0, 4.2727272727272725, 0.02727272727272727, 0.30833333333333335, 0.0, 3.657142857142857, 4.724137931034483, 0.0, 0.0, 5.333333333333333, 1.0277777777777777, 4.089285714285714, 1.3655172413793104, 0.0, 0.0, 0.1801470588235294, 0.0, 3.4, 4.147058823529412, 0.3492063492063492, 0.0, 0.0, 8.812889812889813, 0.0, 0.92, 4.848484848484849, 4.680232558139535, 1.9, 2.517857142857143, 3.1894273127753303, 2.8544857768052516, 0.7297297297297297, 3.096774193548387, 3.674911660777385, 3.0408163265306123, 0.2727272727272727, 0.4444444444444444, 10.20230607966457, 1.8333333333333333, 0.2857142857142857, 2.803001876172608, 0.0, 6.462738301559792, 0.0029154518950437317, 3.2, 1.5211267605633803, 5.434426229508197, 2.956989247311828, 6.076923076923077, 3.4234234234234235, 4.423312883435583, 2.7142857142857144, 0.684863523573201, 0.803921568627451, 3.694267515923567, 3.7747440273037545, 4.003937007874016, 0.0, 0.021367521367521368, 1.6785225718194254, 0.0, 0.0, 1.3333333333333333, 1.55, 0.14925373134328357, 0.5806451612903226, 3.3956386292834893, 0.0, 6.927777777777778, 0.0, 4.612903225806452, 3.24, 0.0, 0.0, 0.9318181818181818, 6.4222222222222225, 0.9166666666666666, 1.93006993006993, 3.1818181818181817, 1.5614035087719298, 5.805555555555555, 0.0, 0.0, 1.5114503816793894, 1.16, 4.0, 0.0, 7.980694980694981, 4.407407407407407, 0.0, 0.0, 3.4285714285714284, 3.630952380952381, 4.8604651162790695, 2.5961538461538463, 0.0, 0.0, 3.740740740740741, 0.0, 4.741258741258742, 0.32727272727272727, 0.0, 0.0, 3.230769230769231, 3.43859649122807, 5.48051948051948, 1.3414634146341464, 3.4976958525345623, 0.0, 0.8186046511627907, 1.1578947368421053, 6.142857142857143, 0.0, 12.020224719101124, 4.217993079584775, 2.1666666666666665, 1.9285714285714286, 0.13513513513513514, 0.0, 0.6408839779005525, 0.16923076923076924, 8.526315789473685, 2.27027027027027, 10.812166488794023, 1.2469635627530364, 0.8947368421052632, 0.0, 2.2114285714285713, 1.9333333333333333, 3.383084577114428, 0.0, 0.0, 10.42445054945055, 0.0, 5.525252525252525, 6.1875, 0.0, 10.786516853932584, 6.865168539325842, 5.1587982832618025, 4.507425742574258, 7.113636363636363, 4.782222222222222, 2.737313432835821, 3.6140888208269524, 0.42328042328042326, 0.0, 0.0, 0.0, 0.0, 7.715827338129497, 0.0, 3.7098214285714284, 0.0, 0.0, 0.0, 0.0, 0.0, 0.0, 3.067901234567901, 0.0, 0.0, 0.4117647058823529, 0.0, 0.0, 0.0, 5.023041474654378, 3.6470588235294117, 1.2083333333333333, 8.067632850241546, 0.0, 1.3888888888888888, 1.125, 2.583673469387755, 0.0, 3.651006711409396, 0.34864864864864864, 5.741071428571429, 1.1963048498845266, 0.0, 2.9302325581395348, 0.0, 0.0, 0.0, 2.758409785932722, 4.539445628997868, 2.677685950413223, 6.828571428571428, 0.0, 11.258064516129032, 4.195945945945946, 1.263157894736842, 4.104477611940299, 1.6363636363636365, 7.949612403100775, 0.0, 1.2866868381240544, 11.137362637362637, 0.9322033898305084, 6.71, 0.3333333333333333, 5.929203539823009, 19.14866760168303, 5.076923076923077, 0.0, 3.0625, 7.029197080291971, 6.644295302013423, 2.2444444444444445, 0.0, 2.2923976608187133, 0.9389002036659878, 2.3294573643410854, 5.546325878594249, 9.620253164556962, 1.6875, 2.1818181818181817, 5.435294117647059, 4.391304347826087, 8.43661971830986, 4.392857142857143, 0.7142857142857143, 0.5318066157760815, 2.8157894736842106, 2.918781725888325, 0.0, 4.819767441860465, 10.399002493765586, 6.190127970749543, 4.522222222222222, 6.276363636363636, 3.64, 2.865965834428384, 0.0, 0.5454545454545454, 0.0, 4.244755244755245, 4.197530864197531, 1.848714069591528, 0.04932735426008968, 0.0, 3.5454545454545454, 0.0, 1.8212927756653992, 1.8571428571428572, 0.0, 0.0, 7.8, 8.280701754385966, 3.402621722846442, 0.0, 6.931623931623932, 0.4583333333333333, 1.326086956521739, 8.125886524822695, 5.387543252595155, 4.038461538461538, 0.0, 0.0, 8.005050505050505, 4.928571428571429, 4.947368421052632, 6.181818181818182, 0.075, 3.8281879194630872, 3.2804232804232805, 0.0, 0.0, 0.0, 0.2777777777777778, 0.26614481409001955, 0.054140127388535034, 0.08900190718372536, 2.606741573033708, 0.5471698113207547, 0.0, 0.0, 3.716887417218543, 5.810526315789474, 9.488505747126437, 12.954887218045112, 0.0, 1.1884057971014492, 0.0, 3.5095693779904304, 4.974025974025974, 7.568181818181818, 0.03731343283582089, 0.40625, 0.23484848484848486, 0.087893864013267, 3.765625, 0.0, 0.0, 0.0, 0.0, 0.0, 0.19027484143763213, 0.0, 0.0, 17.904558404558404, 0.0, 0.0, 0.0, 0.0, 0.47460757156048017, 0.0, 4.442105263157894, 0.0, 0.09210526315789473, 0.0, 3.5, 0.0, 0.0, 0.0, 3.9652956298200515, 1.0580645161290323, 0.13414634146341464, 4.5, 0.0, 8.902439024390244, 4.6521739130434785, 0.5701149425287356, 5.698198198198198, 0.0, 0.012345679012345678, 0.0, 5.095744680851064, 1.4545454545454546, 0.0, 1.25, 1.9381443298969072, 0.0, 0.0, 0.3333333333333333, 0.0, 0.0, 1.0833333333333333, 0.0, 1.4893617021276595, 0.0, 4.476190476190476, 2.1333333333333333, 6.576923076923077, 0.16666666666666666, 0.1111111111111111, 3.0859375, 1.8374384236453203, 0.0, 0.0, 5.088888888888889, 0.23809523809523808, 3.8461538461538463, 4.411764705882353, 2.943801652892562, 7.190322580645161, 2.1215559157212316, 0.0, 1.7083333333333333, 3.0434782608695654, 0.0, 4.163793103448276, 3.2325581395348837, 3.375, 5.833333333333333, 9.705479452054794, 3.3636363636363638, 0.0, 2.6153846153846154, 4.950653120464441, 3.873015873015873, 4.181818181818182, 6.645161290322581, 3.5036630036630036, 3.9886363636363638, 0.0, 0.0, 5.9502762430939224, 4.4907063197026025, 5.719512195121951, 3.2075782537067545, 0.0, 0.0, 0.35563380281690143, 0.48120300751879697, 0.0, 0.3787878787878788, 0.0, 7.076923076923077, 8.125, 3.6538461538461537, 0.0, 4.064516129032258, 12.34548611111111, 0.8605851979345955, 4.801418439716312, 0.0, 4.2, 0.0, 0.0, 0.0, 1.411764705882353, 6.552631578947368, 1.2727272727272727, 2.8, 5.418439716312057, 5.264150943396227, 0.15384615384615385, 0.7435897435897436, 0.0, 0.0, 1.2191780821917808, 3.834710743801653, 2.1513761467889907, 1.6444444444444444, 5.135135135135135, 7.147058823529412, 3.0, 0.0, 3.933333333333333, 0.009302325581395349, 2.242424242424242, 0.0, 0.0, 1.095, 6.177718832891247, 0.1935483870967742, 0.032388663967611336, 3.533333333333333, 3.6476683937823835, 5.775764439411098, 0.0, 0.0, 0.0, 8.195121951219512, 2.625, 3.4545454545454546, 4.8, 0.0, 2.4339622641509435, 7.804166666666666, 0.9104477611940298, 1.1176470588235294, 4.017361111111111, 2.327027027027027, 4.675324675324675, 5.586065573770492, 6.287234042553192, 4.353711790393013, 2.6363636363636362, 3.8333333333333335, 2.1375739644970415, 5.678966789667896, 5.933806146572104, 0.0, 2.9473684210526314, 4.012987012987013, 4.646788990825688, 0.0851063829787234, 0.0, 8.126984126984127, 0.0, 6.04390243902439, 10.126760563380282, 0.5925925925925926, 7.798479087452471, 0.0, 4.044150110375276, 2.3529411764705883, 1.5757575757575757, 1.0499001996007984, 0.0, 0.023529411764705882, 4.258064516129032, 1.5714285714285714, 3.72, 1.2857142857142858, 1.9051724137931034, 6.971153846153846, 4.011111111111111, 0.0, 2.456603773584906, 9.300380228136882, 0.45588235294117646, 1.2727272727272727, 3.4048582995951415, 3.983213429256595, 8.808457711442786, 4.327044025157233, 8.55232558139535, 0.0, 0.0, 10.026490066225165, 0.7142857142857143, 0.0, 0.0, 0.0, 0.90625, 4.416666666666667, 2.1951219512195124, 1.5576923076923077, 0.46153846153846156, 2.5625, 0.46511627906976744, 3.8073394495412844, 12.804597701149426, 0.0, 3.152139461172742, 0.0, 0.0, 0.2, 0.0, 4.08955223880597, 2.1496598639455784, 1.9298245614035088, 0.0, 0.21428571428571427, 5.852941176470588, 5.5054945054945055, 1.4444444444444444, 7.962162162162162, 0.7979166666666667, 4.264026402640264, 0.6145833333333334, 4.835820895522388, 6.642857142857143, 4.1875, 1.0909090909090908, 2.388888888888889, 2.6015625, 11.576923076923077, 0.1888111888111888, 0.0, 0.0, 6.8431372549019605, 2.1875, 0.0, 0.40625, 2.3333333333333335, 1.6666666666666667, 0.45717884130982367, 0.0, 0.0, 0.0, 5.794871794871795, 6.882352941176471, 1.6521739130434783, 1.05, 0.17647058823529413, 8.320328542094456, 1.7222222222222223, 0.27586206896551724, 0.0, 3.923076923076923, 0.46875, 5.67381974248927, 0.0, 3.432515337423313, 0.0, 3.495575221238938, 5.013513513513513, 0.0, 2.064516129032258, 7.5390243902439025, 0.0, 0.028985507246376812, 2.563876651982379, 5.12, 1.5909090909090908, 6.120567375886525, 0.09259259259259259, 11.033783783783784, 0.0, 5.294117647058823, 1.6153846153846154, 5.69811320754717, 3.0, 3.374269005847953, 0.7162921348314607, 0.0, 1.5, 0.6745098039215687, 3.814159292035398, 0.006024096385542169, 0.0, 2.875, 0.0, 0.0, 0.0, 0.0, 0.0, 0.0, 3.021276595744681, 7.882352941176471, 3.797180043383948, 0.0, 0.10894941634241245, 5.066666666666666, 14.495429616087751, 0.0, 4.882882882882883, 0.0, 3.096774193548387, 0.0, 1.88, 5.214285714285714, 8.210526315789474, 0.05803571428571429, 4.866666666666666, 0.11538461538461539, 0.10810810810810811, 4.815789473684211, 4.760869565217392, 0.9642857142857143, 0.0, 14.578125, 0.0, 0.5663716814159292, 4.278931750741839, 1.75, 8.066273932253313, 3.375, 3.704225352112676, 6.105263157894737, 0.0, 6.3566978193146415, 4.325281803542673, 7.66256157635468, 3.7947686116700203, 3.4158878504672896, 7.102564102564102, 3.0693430656934306, 4.019323671497585, 3.5, 3.574468085106383, 5.1731107205623905, 1.605095541401274, 3.1150442477876106, 0.875, 3.1953125, 4.0754716981132075, 2.6893203883495147, 3.8923076923076922, 4.2025316455696204, 1.6310679611650485, 0.0196078431372549, 3.436482084690554, 0.0, 4.136986301369863, 2.3333333333333335, 2.3947368421052633, 2.0, 1.9230769230769231, 1.4210526315789473, 4.466666666666667, 0.0, 0.0, 1.601139601139601, 0.35097493036211697, 1.9523809523809523, 3.988857938718663, 5.496551724137931, 0.15789473684210525, 0.0, 1.1380597014925373, 3.955631399317406, 0.6666666666666666, 5.568539325842696, 0.0, 0.8963730569948186, 0.0, 0.0, 0.0, 0.0, 0.0, 0.0, 0.0, 2.9597701149425286, 2.3914473684210527, 0.0, 6.593466424682395, 4.102564102564102, 3.3345195729537367, 0.281786941580756, 3.2440944881889764, 0.008064516129032258, 0.0, 2.345, 3.6577946768060836, 4.765410958904109, 3.4827586206896552, 0.0, 0.0, 0.05084745762711865, 1.25, 0.0, 0.00881057268722467, 2.4324324324324325, 0.0, 4.747126436781609, 8.723895582329318, 0.0, 0.0, 0.0, 0.0, 0.0, 0.06060606060606061, 0.0, 0.0, 0.0, 7.014925373134329, 0.0, 0.0, 4.915384615384616, 1.1176470588235294, 0.0, 2.64, 3.642857142857143, 3.4375, 0.0, 4.904761904761905, 8.59047619047619, 0.0, 3.3478915662650603, 2.4761904761904763, 0.0, 1.7272727272727273, 0.0, 5.325986078886311, 7.030612244897959, 1.3125, 2.466666666666667, 8.604166666666666, 2.25, 0.0, 2.388732394366197, 2.7735849056603774, 5.950795947901592, 3.3, 6.619909502262443, 2.972972972972973, 3.1751497005988023, 7.529801324503311, 0.0, 0.040584415584415584, 5.0, 0.0, 0.0, 0.0425531914893617, 0.0, 3.9166666666666665, 0.0, 1.8076923076923077, 4.117647058823529, 0.0, 2.688841201716738, 4.1869565217391305, 0.0, 0.0, 2.279220779220779, 0.0, 10.1875, 6.752747252747253, 5.2987598647125145, 12.044094488188977, 0.7313432835820896, 0.0, 0.0, 0.9230769230769231, 2.3333333333333335, 3.1835664335664338, 0.0, 0.8860759493670886, 0.0, 0.0, 2.5681818181818183, 1.3571428571428572, 1.6428571428571428, 0.0, 1.6377952755905512, 5.590330788804072, 4.384615384615385, 9.575221238938052, 0.0, 0.0, 0.0, 0.022099447513812154, 0.0, 0.0, 0.0, 0.8633093525179856, 3.099391480730223, 1.3235294117647058, 2.5294117647058822, 0.0, 0.0, 6.242424242424242, 8.024896265560166, 3.706896551724138, 0.0, 0.0, 0.0, 4.19672131147541, 7.417049180327869, 1.5454545454545454, 0.5603448275862069, 3.0736842105263156, 3.2941176470588234, 4.9375, 3.6491228070175437, 0.0, 0.0, 0.0, 0.0, 0.0, 1.3016528925619835, 0.0, 0.0, 0.0, 0.0, 2.9651741293532337, 1.0, 0.0, 0.0, 6.866906474820144, 4.239130434782608, 2.090909090909091, 12.36094674556213, 5.0, 0.0, 2.6923076923076925, 6.538461538461538, 3.4216867469879517, 0.0, 3.381720430107527, 1.2272727272727273, 3.7216494845360826, 4.005464480874317, 1.4, 0.0, 1.565217391304348, 0.3094059405940594, 6.476793248945148, 5.866666666666666, 0.0, 6.238095238095238, 0.0, 3.0, 5.636363636363637, 5.250847457627119, 5.331932773109243, 3.0333796940194713, 0.04395604395604396, 0.3181818181818182, 2.7701149425287355, 6.041884816753926, 0.05309734513274336, 0.0, 1.0, 0.0, 0.0, 4.865814696485623, 3.7435897435897436, 2.3666666666666667, 2.6875, 1.3418803418803418, 3.917525773195876, 0.0, 0.45454545454545453, 3.587188612099644, 2.448717948717949, 0.36824324324324326, 3.1180555555555554, 0.0, 0.0, 6.910926365795724, 0.0, 1.3045496750232126, 0.018867924528301886, 3.23454157782516, 0.0, 0.0, 2.618181818181818, 3.8582089552238807, 5.0, 0.0, 5.962264150943396, 3.8849557522123894, 4.952, 1.4150943396226414, 3.0232558139534884, 3.62109375, 0.0, 0.7222222222222222, 0.07142857142857142, 8.167155425219942, 0.0, 0.0, 0.0, 1.9166666666666667, 0.0, 0.0, 0.45454545454545453, 0.24528301886792453, 0.0, 5.114583333333333, 0.9285714285714286, 0.0, 0.39204545454545453, 3.5098039215686274, 7.266211604095563, 0.0, 0.0, 0.0, 4.3924050632911396, 2.3823529411764706, 7.0060975609756095, 3.5789473684210527, 0.9548872180451128, 3.2033898305084745, 0.0, 0.011086474501108648, 2.24, 7.222666666666667, 3.9166666666666665, 0.0, 0.934156378600823, 7.770516717325228, 2.0033149171270717, 1.3076923076923077, 5.554761904761905, 0.37142857142857144, 0.0, 5.556129032258064, 0.3321100917431193, 4.4609375, 0.0, 0.0, 1.9819277108433735, 0.0, 1.8235294117647058, 8.72573189522342, 0.3986013986013986, 3.1944444444444446, 0.72, 2.5394190871369293, 0.0, 0.0, 0.0, 0.0, 0.0, 1.426356589147287, 0.0, 0.8, 3.793103448275862, 7.289766970618034, 5.75, 1.976019184652278, 2.6907216494845363, 0.0, 3.4214285714285713, 0.0, 6.41240478781284, 3.549019607843137, 3.6089385474860336, 0.0, 0.0, 0.0, 0.0, 0.0, 0.0, 0.0, 0.0, 0.0, 2.7066666666666666, 0.9672131147540983, 0.020833333333333332, 1.3333333333333333, 0.9534883720930233, 0.0, 0.0, 9.10909090909091, 0.15789473684210525, 0.5909090909090909, 0.0, 2.69811320754717, 2.452830188679245, 4.462921348314607, 0.0, 0.0, 7.398589065255732, 1.1612903225806452, 4.066666666666666, 3.4843517138599105, 0.0, 3.9565217391304346, 0.0, 1.6666666666666667, 4.218181818181818, 4.814814814814815, 1.6178861788617886, 14.76530612244898, 2.016216216216216, 6.602609727164888, 0.0, 5.128712871287129, 4.946428571428571, 9.4375, 8.181818181818182, 0.0, 0.0, 2.0697674418604652, 0.0, 3.869565217391304, 0.0, 1.0909090909090908, 2.106382978723404, 6.552816901408451, 0.5432098765432098, 0.1206896551724138, 0.8214285714285714, 3.9641025641025642, 5.1152173913043475, 0.95, 6.191235059760956, 0.0, 3.471014492753623, 1.6727272727272726, 2.3333333333333335, 4.533333333333333, 5.75, 0.0, 2.5675675675675675, 0.0], \"yaxis\": \"y\"}, {\"hoverlabel\": {\"namelength\": 0}, \"hovertemplate\": \"<b>OLS trendline</b><br>Aces_Per_Match = 0.16817 * player_ht + -28.3907<br>R<sup>2</sup>=0.149992<br><br>player_ht=%{x}<br>Aces_Per_Match=%{y} <b>(trend)</b>\", \"legendgroup\": \"\", \"line\": {\"color\": \"red\"}, \"marker\": {\"symbol\": \"circle\"}, \"mode\": \"lines\", \"name\": \"\", \"showlegend\": false, \"type\": \"scattergl\", \"x\": [160.0, 160.0, 163.0, 163.0, 163.0, 165.0, 168.0, 168.0, 168.0, 168.0, 170.0, 170.0, 170.0, 170.0, 170.0, 170.0, 170.0, 170.0, 170.0, 170.0, 170.0, 170.0, 170.0, 170.0, 170.0, 170.0, 170.0, 170.0, 170.0, 170.0, 170.0, 170.0, 170.0, 170.0, 170.0, 170.0, 172.0, 173.0, 173.0, 173.0, 173.0, 173.0, 173.0, 173.0, 173.0, 173.0, 173.0, 173.0, 173.0, 173.0, 173.0, 173.0, 173.0, 173.0, 173.0, 173.0, 173.0, 173.0, 173.0, 173.0, 173.0, 173.0, 173.0, 173.0, 173.0, 173.0, 173.0, 173.0, 173.0, 173.0, 173.0, 173.0, 173.0, 173.0, 173.0, 173.0, 173.0, 173.0, 173.0, 173.0, 173.0, 173.0, 173.0, 173.0, 173.0, 173.0, 173.0, 173.0, 173.0, 173.0, 173.0, 173.0, 173.0, 173.0, 173.0, 173.0, 173.0, 173.0, 173.0, 173.0, 175.0, 175.0, 175.0, 175.0, 175.0, 175.0, 175.0, 175.0, 175.0, 175.0, 175.0, 175.0, 175.0, 175.0, 175.0, 175.0, 175.0, 175.0, 175.0, 175.0, 175.0, 175.0, 175.0, 175.0, 175.0, 175.0, 175.0, 175.0, 175.0, 175.0, 175.0, 175.0, 175.0, 175.0, 175.0, 175.0, 175.0, 175.0, 175.0, 175.0, 175.0, 175.0, 175.0, 175.0, 175.0, 175.0, 175.0, 175.0, 175.0, 175.0, 175.0, 175.0, 175.0, 175.0, 175.0, 175.0, 175.0, 175.0, 175.0, 175.0, 175.0, 175.0, 175.0, 175.0, 175.0, 175.0, 175.0, 175.0, 175.0, 175.0, 175.0, 175.0, 175.0, 175.0, 175.0, 175.0, 175.0, 175.0, 175.0, 175.0, 175.0, 175.0, 175.0, 175.0, 175.0, 175.0, 175.0, 175.0, 175.0, 175.0, 175.0, 175.0, 178.0, 178.0, 178.0, 178.0, 178.0, 178.0, 178.0, 178.0, 178.0, 178.0, 178.0, 178.0, 178.0, 178.0, 178.0, 178.0, 178.0, 178.0, 178.0, 178.0, 178.0, 178.0, 178.0, 178.0, 178.0, 178.0, 178.0, 178.0, 178.0, 178.0, 178.0, 178.0, 178.0, 178.0, 178.0, 178.0, 178.0, 178.0, 178.0, 178.0, 178.0, 178.0, 178.0, 178.0, 178.0, 178.0, 178.0, 178.0, 178.0, 178.0, 178.0, 178.0, 178.0, 178.0, 178.0, 178.0, 178.0, 178.0, 178.0, 178.0, 178.0, 178.0, 178.0, 178.0, 178.0, 178.0, 178.0, 178.0, 178.0, 178.0, 178.0, 178.0, 178.0, 178.0, 178.0, 178.0, 178.0, 178.0, 178.0, 178.0, 178.0, 178.0, 178.0, 178.0, 178.0, 178.0, 178.0, 178.0, 178.0, 178.0, 178.0, 178.0, 178.0, 178.0, 178.0, 178.0, 178.0, 178.0, 178.0, 178.0, 178.0, 178.0, 178.0, 178.0, 178.0, 178.0, 178.0, 178.0, 178.0, 178.0, 178.0, 178.0, 178.0, 178.0, 178.0, 178.0, 178.0, 178.0, 178.0, 178.0, 178.0, 178.0, 178.0, 178.0, 178.0, 180.0, 180.0, 180.0, 180.0, 180.0, 180.0, 180.0, 180.0, 180.0, 180.0, 180.0, 180.0, 180.0, 180.0, 180.0, 180.0, 180.0, 180.0, 180.0, 180.0, 180.0, 180.0, 180.0, 180.0, 180.0, 180.0, 180.0, 180.0, 180.0, 180.0, 180.0, 180.0, 180.0, 180.0, 180.0, 180.0, 180.0, 180.0, 180.0, 180.0, 180.0, 180.0, 180.0, 180.0, 180.0, 180.0, 180.0, 180.0, 180.0, 180.0, 180.0, 180.0, 180.0, 180.0, 180.0, 180.0, 180.0, 180.0, 180.0, 180.0, 180.0, 180.0, 180.0, 180.0, 180.0, 180.0, 180.0, 180.0, 180.0, 180.0, 180.0, 180.0, 180.0, 180.0, 180.0, 180.0, 180.0, 180.0, 180.0, 180.0, 180.0, 180.0, 180.0, 180.0, 180.0, 180.0, 180.0, 180.0, 180.0, 180.0, 180.0, 180.0, 180.0, 180.0, 180.0, 180.0, 180.0, 180.0, 180.0, 180.0, 180.0, 180.0, 180.0, 180.0, 180.0, 180.0, 180.0, 180.0, 180.0, 180.0, 180.0, 180.0, 180.0, 180.0, 180.0, 180.0, 180.0, 180.0, 180.0, 180.0, 180.0, 180.0, 180.0, 180.0, 180.0, 180.0, 180.0, 180.0, 180.0, 180.0, 180.0, 180.0, 180.0, 180.0, 180.0, 180.0, 180.0, 180.0, 180.0, 180.0, 180.0, 180.0, 180.0, 180.0, 180.0, 180.0, 180.0, 180.0, 180.0, 180.0, 180.0, 180.0, 180.0, 180.0, 180.0, 180.0, 180.0, 180.0, 180.0, 180.0, 180.0, 180.0, 180.0, 180.0, 180.0, 180.0, 180.0, 180.0, 180.0, 180.0, 180.0, 180.0, 180.0, 180.0, 180.0, 180.0, 180.0, 180.0, 180.0, 180.0, 180.0, 180.0, 180.0, 180.0, 180.0, 180.0, 180.0, 180.0, 180.0, 180.0, 180.0, 180.0, 180.0, 180.0, 180.0, 180.0, 180.0, 180.0, 180.0, 180.0, 181.0, 183.0, 183.0, 183.0, 183.0, 183.0, 183.0, 183.0, 183.0, 183.0, 183.0, 183.0, 183.0, 183.0, 183.0, 183.0, 183.0, 183.0, 183.0, 183.0, 183.0, 183.0, 183.0, 183.0, 183.0, 183.0, 183.0, 183.0, 183.0, 183.0, 183.0, 183.0, 183.0, 183.0, 183.0, 183.0, 183.0, 183.0, 183.0, 183.0, 183.0, 183.0, 183.0, 183.0, 183.0, 183.0, 183.0, 183.0, 183.0, 183.0, 183.0, 183.0, 183.0, 183.0, 183.0, 183.0, 183.0, 183.0, 183.0, 183.0, 183.0, 183.0, 183.0, 183.0, 183.0, 183.0, 183.0, 183.0, 183.0, 183.0, 183.0, 183.0, 183.0, 183.0, 183.0, 183.0, 183.0, 183.0, 183.0, 183.0, 183.0, 183.0, 183.0, 183.0, 183.0, 183.0, 183.0, 183.0, 183.0, 183.0, 183.0, 183.0, 183.0, 183.0, 183.0, 183.0, 183.0, 183.0, 183.0, 183.0, 183.0, 183.0, 183.0, 183.0, 183.0, 183.0, 183.0, 183.0, 183.0, 183.0, 183.0, 183.0, 183.0, 183.0, 183.0, 183.0, 183.0, 183.0, 183.0, 183.0, 183.0, 183.0, 183.0, 183.0, 183.0, 183.0, 183.0, 183.0, 183.0, 183.0, 183.0, 183.0, 183.0, 183.0, 183.0, 183.0, 183.0, 183.0, 183.0, 183.0, 183.0, 183.0, 183.0, 183.0, 183.0, 183.0, 183.0, 183.0, 183.0, 183.0, 183.0, 183.0, 183.0, 183.0, 183.0, 183.0, 183.0, 183.0, 183.0, 183.0, 183.0, 183.0, 183.0, 183.0, 183.0, 183.0, 183.0, 183.0, 183.0, 183.0, 183.0, 183.0, 183.0, 183.0, 183.0, 183.0, 183.0, 183.0, 183.0, 183.0, 183.0, 183.0, 183.0, 183.0, 183.0, 183.0, 183.0, 183.0, 183.0, 183.0, 183.0, 183.0, 183.0, 185.0, 185.0, 185.0, 185.0, 185.0, 185.0, 185.0, 185.0, 185.0, 185.0, 185.0, 185.0, 185.0, 185.0, 185.0, 185.0, 185.0, 185.0, 185.0, 185.0, 185.0, 185.0, 185.0, 185.0, 185.0, 185.0, 185.0, 185.0, 185.0, 185.0, 185.0, 185.0, 185.0, 185.0, 185.0, 185.0, 185.0, 185.0, 185.0, 185.0, 185.0, 185.0, 185.0, 185.0, 185.0, 185.0, 185.0, 185.0, 185.0, 185.0, 185.0, 185.0, 185.0, 185.0, 185.0, 185.0, 185.0, 185.0, 185.0, 185.0, 185.0, 185.0, 185.0, 185.0, 185.0, 185.0, 185.0, 185.0, 185.0, 185.0, 185.0, 185.0, 185.0, 185.0, 185.0, 185.0, 185.0, 185.0, 185.0, 185.0, 185.0, 185.0, 185.0, 185.0, 185.0, 185.0, 185.0, 185.0, 185.0, 185.0, 185.0, 185.0, 185.0, 185.0, 185.0, 185.0, 185.0, 185.0, 185.0, 185.0, 185.0, 185.0, 185.0, 185.0, 185.0, 185.0, 185.0, 185.0, 185.0, 185.0, 185.0, 185.0, 185.0, 185.0, 185.0, 185.0, 185.0, 185.0, 185.0, 185.0, 185.0, 185.0, 185.0, 185.0, 185.0, 185.0, 185.0, 185.0, 185.0, 185.0, 185.0, 185.0, 185.0, 185.0, 185.0, 185.0, 185.0, 185.0, 185.0, 185.0, 185.0, 185.0, 185.0, 185.0, 185.0, 185.0, 185.0, 185.0, 185.0, 185.0, 185.0, 185.0, 185.0, 185.0, 185.0, 185.0, 185.0, 185.0, 185.0, 185.0, 185.0, 185.0, 185.0, 185.0, 185.0, 185.0, 185.0, 185.0, 185.0, 185.0, 185.0, 185.0, 185.0, 185.0, 185.0, 185.0, 185.0, 185.0, 185.0, 185.0, 185.0, 185.0, 185.0, 185.0, 185.0, 185.0, 185.0, 185.0, 185.0, 185.0, 185.0, 185.0, 185.0, 185.0, 185.0, 185.0, 185.0, 185.0, 185.0, 185.0, 185.0, 185.0, 185.0, 185.0, 185.0, 185.0, 185.0, 185.0, 185.0, 185.0, 185.0, 185.0, 185.0, 185.0, 185.0, 185.0, 185.0, 185.0, 185.0, 185.0, 188.0, 188.0, 188.0, 188.0, 188.0, 188.0, 188.0, 188.0, 188.0, 188.0, 188.0, 188.0, 188.0, 188.0, 188.0, 188.0, 188.0, 188.0, 188.0, 188.0, 188.0, 188.0, 188.0, 188.0, 188.0, 188.0, 188.0, 188.0, 188.0, 188.0, 188.0, 188.0, 188.0, 188.0, 188.0, 188.0, 188.0, 188.0, 188.0, 188.0, 188.0, 188.0, 188.0, 188.0, 188.0, 188.0, 188.0, 188.0, 188.0, 188.0, 188.0, 188.0, 188.0, 188.0, 188.0, 188.0, 188.0, 188.0, 188.0, 188.0, 188.0, 188.0, 188.0, 188.0, 188.0, 188.0, 188.0, 188.0, 188.0, 188.0, 188.0, 188.0, 188.0, 188.0, 188.0, 188.0, 188.0, 188.0, 188.0, 188.0, 188.0, 188.0, 188.0, 188.0, 188.0, 188.0, 188.0, 188.0, 188.0, 188.0, 188.0, 188.0, 188.0, 188.0, 188.0, 188.0, 188.0, 188.0, 188.0, 188.0, 188.0, 188.0, 188.0, 188.0, 188.0, 188.0, 188.0, 188.0, 188.0, 188.0, 188.0, 188.0, 188.0, 188.0, 188.0, 188.0, 188.0, 188.0, 188.0, 188.0, 188.0, 188.0, 188.0, 188.0, 188.0, 188.0, 188.0, 188.0, 188.0, 188.0, 188.0, 188.0, 188.0, 188.0, 188.0, 188.0, 188.0, 188.0, 188.0, 188.0, 188.0, 188.0, 188.0, 188.0, 188.0, 188.0, 188.0, 188.0, 188.0, 188.0, 188.0, 188.0, 188.0, 188.0, 188.0, 188.0, 188.0, 188.0, 188.0, 188.0, 188.0, 188.0, 188.0, 188.0, 190.0, 190.0, 190.0, 190.0, 190.0, 190.0, 190.0, 190.0, 190.0, 190.0, 190.0, 190.0, 190.0, 190.0, 190.0, 190.0, 190.0, 190.0, 190.0, 190.0, 190.0, 190.0, 190.0, 190.0, 190.0, 190.0, 190.0, 190.0, 190.0, 190.0, 190.0, 190.0, 190.0, 190.0, 190.0, 190.0, 190.0, 190.0, 190.0, 190.0, 190.0, 190.0, 190.0, 190.0, 190.0, 190.0, 190.0, 190.0, 190.0, 190.0, 190.0, 190.0, 190.0, 190.0, 190.0, 190.0, 190.0, 190.0, 190.0, 190.0, 190.0, 190.0, 190.0, 190.0, 190.0, 190.0, 190.0, 190.0, 190.0, 190.0, 190.0, 190.0, 190.0, 190.0, 190.0, 190.0, 190.0, 190.0, 190.0, 190.0, 190.0, 190.0, 190.0, 190.0, 190.0, 190.0, 190.0, 190.0, 190.0, 190.0, 190.0, 190.0, 190.0, 190.0, 190.0, 190.0, 190.0, 190.0, 190.0, 190.0, 190.0, 190.0, 190.0, 190.0, 190.0, 190.0, 190.0, 190.0, 190.0, 190.0, 190.0, 190.0, 190.0, 190.0, 190.0, 190.0, 190.0, 190.0, 190.0, 190.0, 190.0, 190.0, 190.0, 190.0, 190.0, 190.0, 190.0, 190.0, 190.0, 190.0, 190.0, 190.0, 190.0, 190.0, 190.0, 190.0, 190.0, 190.0, 193.0, 193.0, 193.0, 193.0, 193.0, 193.0, 193.0, 193.0, 193.0, 193.0, 193.0, 193.0, 193.0, 193.0, 193.0, 193.0, 193.0, 193.0, 193.0, 193.0, 193.0, 193.0, 193.0, 193.0, 193.0, 193.0, 193.0, 193.0, 193.0, 193.0, 193.0, 193.0, 193.0, 193.0, 193.0, 193.0, 193.0, 193.0, 193.0, 193.0, 193.0, 193.0, 193.0, 193.0, 193.0, 193.0, 193.0, 193.0, 193.0, 193.0, 193.0, 193.0, 193.0, 193.0, 193.0, 193.0, 193.0, 193.0, 193.0, 193.0, 193.0, 193.0, 193.0, 193.0, 193.0, 193.0, 193.0, 193.0, 193.0, 193.0, 193.0, 193.0, 193.0, 193.0, 193.0, 193.0, 193.0, 193.0, 193.0, 193.0, 193.0, 193.0, 193.0, 193.0, 194.0, 196.0, 196.0, 196.0, 196.0, 196.0, 196.0, 196.0, 196.0, 196.0, 196.0, 196.0, 196.0, 196.0, 196.0, 196.0, 196.0, 196.0, 196.0, 196.0, 196.0, 196.0, 196.0, 196.0, 196.0, 196.0, 196.0, 196.0, 196.0, 196.0, 196.0, 196.0, 196.0, 196.0, 196.0, 198.0, 198.0, 198.0, 198.0, 198.0, 198.0, 198.0, 198.0, 198.0, 198.0, 198.0, 198.0, 198.0, 201.0, 201.0, 201.0, 201.0, 201.0, 201.0, 201.0, 203.0, 203.0, 203.0, 203.0, 203.0, 203.0, 206.0, 208.0], \"xaxis\": \"x\", \"y\": [-1.4834767385471537, -1.4834767385471537, -0.9789661726976355, -0.9789661726976355, -0.9789661726976355, -0.6426257954646246, -0.13811522961510647, -0.13811522961510647, -0.13811522961510647, -0.13811522961510647, 0.19822514761790444, 0.19822514761790444, 0.19822514761790444, 0.19822514761790444, 0.19822514761790444, 0.19822514761790444, 0.19822514761790444, 0.19822514761790444, 0.19822514761790444, 0.19822514761790444, 0.19822514761790444, 0.19822514761790444, 0.19822514761790444, 0.19822514761790444, 0.19822514761790444, 0.19822514761790444, 0.19822514761790444, 0.19822514761790444, 0.19822514761790444, 0.19822514761790444, 0.19822514761790444, 0.19822514761790444, 0.19822514761790444, 0.19822514761790444, 0.19822514761790444, 0.19822514761790444, 0.5345655248509189, 0.7027357134674226, 0.7027357134674226, 0.7027357134674226, 0.7027357134674226, 0.7027357134674226, 0.7027357134674226, 0.7027357134674226, 0.7027357134674226, 0.7027357134674226, 0.7027357134674226, 0.7027357134674226, 0.7027357134674226, 0.7027357134674226, 0.7027357134674226, 0.7027357134674226, 0.7027357134674226, 0.7027357134674226, 0.7027357134674226, 0.7027357134674226, 0.7027357134674226, 0.7027357134674226, 0.7027357134674226, 0.7027357134674226, 0.7027357134674226, 0.7027357134674226, 0.7027357134674226, 0.7027357134674226, 0.7027357134674226, 0.7027357134674226, 0.7027357134674226, 0.7027357134674226, 0.7027357134674226, 0.7027357134674226, 0.7027357134674226, 0.7027357134674226, 0.7027357134674226, 0.7027357134674226, 0.7027357134674226, 0.7027357134674226, 0.7027357134674226, 0.7027357134674226, 0.7027357134674226, 0.7027357134674226, 0.7027357134674226, 0.7027357134674226, 0.7027357134674226, 0.7027357134674226, 0.7027357134674226, 0.7027357134674226, 0.7027357134674226, 0.7027357134674226, 0.7027357134674226, 0.7027357134674226, 0.7027357134674226, 0.7027357134674226, 0.7027357134674226, 0.7027357134674226, 0.7027357134674226, 0.7027357134674226, 0.7027357134674226, 0.7027357134674226, 0.7027357134674226, 0.7027357134674226, 1.0390760907004335, 1.0390760907004335, 1.0390760907004335, 1.0390760907004335, 1.0390760907004335, 1.0390760907004335, 1.0390760907004335, 1.0390760907004335, 1.0390760907004335, 1.0390760907004335, 1.0390760907004335, 1.0390760907004335, 1.0390760907004335, 1.0390760907004335, 1.0390760907004335, 1.0390760907004335, 1.0390760907004335, 1.0390760907004335, 1.0390760907004335, 1.0390760907004335, 1.0390760907004335, 1.0390760907004335, 1.0390760907004335, 1.0390760907004335, 1.0390760907004335, 1.0390760907004335, 1.0390760907004335, 1.0390760907004335, 1.0390760907004335, 1.0390760907004335, 1.0390760907004335, 1.0390760907004335, 1.0390760907004335, 1.0390760907004335, 1.0390760907004335, 1.0390760907004335, 1.0390760907004335, 1.0390760907004335, 1.0390760907004335, 1.0390760907004335, 1.0390760907004335, 1.0390760907004335, 1.0390760907004335, 1.0390760907004335, 1.0390760907004335, 1.0390760907004335, 1.0390760907004335, 1.0390760907004335, 1.0390760907004335, 1.0390760907004335, 1.0390760907004335, 1.0390760907004335, 1.0390760907004335, 1.0390760907004335, 1.0390760907004335, 1.0390760907004335, 1.0390760907004335, 1.0390760907004335, 1.0390760907004335, 1.0390760907004335, 1.0390760907004335, 1.0390760907004335, 1.0390760907004335, 1.0390760907004335, 1.0390760907004335, 1.0390760907004335, 1.0390760907004335, 1.0390760907004335, 1.0390760907004335, 1.0390760907004335, 1.0390760907004335, 1.0390760907004335, 1.0390760907004335, 1.0390760907004335, 1.0390760907004335, 1.0390760907004335, 1.0390760907004335, 1.0390760907004335, 1.0390760907004335, 1.0390760907004335, 1.0390760907004335, 1.0390760907004335, 1.0390760907004335, 1.0390760907004335, 1.0390760907004335, 1.0390760907004335, 1.0390760907004335, 1.0390760907004335, 1.0390760907004335, 1.0390760907004335, 1.0390760907004335, 1.0390760907004335, 1.5435866565499516, 1.5435866565499516, 1.5435866565499516, 1.5435866565499516, 1.5435866565499516, 1.5435866565499516, 1.5435866565499516, 1.5435866565499516, 1.5435866565499516, 1.5435866565499516, 1.5435866565499516, 1.5435866565499516, 1.5435866565499516, 1.5435866565499516, 1.5435866565499516, 1.5435866565499516, 1.5435866565499516, 1.5435866565499516, 1.5435866565499516, 1.5435866565499516, 1.5435866565499516, 1.5435866565499516, 1.5435866565499516, 1.5435866565499516, 1.5435866565499516, 1.5435866565499516, 1.5435866565499516, 1.5435866565499516, 1.5435866565499516, 1.5435866565499516, 1.5435866565499516, 1.5435866565499516, 1.5435866565499516, 1.5435866565499516, 1.5435866565499516, 1.5435866565499516, 1.5435866565499516, 1.5435866565499516, 1.5435866565499516, 1.5435866565499516, 1.5435866565499516, 1.5435866565499516, 1.5435866565499516, 1.5435866565499516, 1.5435866565499516, 1.5435866565499516, 1.5435866565499516, 1.5435866565499516, 1.5435866565499516, 1.5435866565499516, 1.5435866565499516, 1.5435866565499516, 1.5435866565499516, 1.5435866565499516, 1.5435866565499516, 1.5435866565499516, 1.5435866565499516, 1.5435866565499516, 1.5435866565499516, 1.5435866565499516, 1.5435866565499516, 1.5435866565499516, 1.5435866565499516, 1.5435866565499516, 1.5435866565499516, 1.5435866565499516, 1.5435866565499516, 1.5435866565499516, 1.5435866565499516, 1.5435866565499516, 1.5435866565499516, 1.5435866565499516, 1.5435866565499516, 1.5435866565499516, 1.5435866565499516, 1.5435866565499516, 1.5435866565499516, 1.5435866565499516, 1.5435866565499516, 1.5435866565499516, 1.5435866565499516, 1.5435866565499516, 1.5435866565499516, 1.5435866565499516, 1.5435866565499516, 1.5435866565499516, 1.5435866565499516, 1.5435866565499516, 1.5435866565499516, 1.5435866565499516, 1.5435866565499516, 1.5435866565499516, 1.5435866565499516, 1.5435866565499516, 1.5435866565499516, 1.5435866565499516, 1.5435866565499516, 1.5435866565499516, 1.5435866565499516, 1.5435866565499516, 1.5435866565499516, 1.5435866565499516, 1.5435866565499516, 1.5435866565499516, 1.5435866565499516, 1.5435866565499516, 1.5435866565499516, 1.5435866565499516, 1.5435866565499516, 1.5435866565499516, 1.5435866565499516, 1.5435866565499516, 1.5435866565499516, 1.5435866565499516, 1.5435866565499516, 1.5435866565499516, 1.5435866565499516, 1.5435866565499516, 1.5435866565499516, 1.5435866565499516, 1.5435866565499516, 1.5435866565499516, 1.5435866565499516, 1.5435866565499516, 1.5435866565499516, 1.8799270337829626, 1.8799270337829626, 1.8799270337829626, 1.8799270337829626, 1.8799270337829626, 1.8799270337829626, 1.8799270337829626, 1.8799270337829626, 1.8799270337829626, 1.8799270337829626, 1.8799270337829626, 1.8799270337829626, 1.8799270337829626, 1.8799270337829626, 1.8799270337829626, 1.8799270337829626, 1.8799270337829626, 1.8799270337829626, 1.8799270337829626, 1.8799270337829626, 1.8799270337829626, 1.8799270337829626, 1.8799270337829626, 1.8799270337829626, 1.8799270337829626, 1.8799270337829626, 1.8799270337829626, 1.8799270337829626, 1.8799270337829626, 1.8799270337829626, 1.8799270337829626, 1.8799270337829626, 1.8799270337829626, 1.8799270337829626, 1.8799270337829626, 1.8799270337829626, 1.8799270337829626, 1.8799270337829626, 1.8799270337829626, 1.8799270337829626, 1.8799270337829626, 1.8799270337829626, 1.8799270337829626, 1.8799270337829626, 1.8799270337829626, 1.8799270337829626, 1.8799270337829626, 1.8799270337829626, 1.8799270337829626, 1.8799270337829626, 1.8799270337829626, 1.8799270337829626, 1.8799270337829626, 1.8799270337829626, 1.8799270337829626, 1.8799270337829626, 1.8799270337829626, 1.8799270337829626, 1.8799270337829626, 1.8799270337829626, 1.8799270337829626, 1.8799270337829626, 1.8799270337829626, 1.8799270337829626, 1.8799270337829626, 1.8799270337829626, 1.8799270337829626, 1.8799270337829626, 1.8799270337829626, 1.8799270337829626, 1.8799270337829626, 1.8799270337829626, 1.8799270337829626, 1.8799270337829626, 1.8799270337829626, 1.8799270337829626, 1.8799270337829626, 1.8799270337829626, 1.8799270337829626, 1.8799270337829626, 1.8799270337829626, 1.8799270337829626, 1.8799270337829626, 1.8799270337829626, 1.8799270337829626, 1.8799270337829626, 1.8799270337829626, 1.8799270337829626, 1.8799270337829626, 1.8799270337829626, 1.8799270337829626, 1.8799270337829626, 1.8799270337829626, 1.8799270337829626, 1.8799270337829626, 1.8799270337829626, 1.8799270337829626, 1.8799270337829626, 1.8799270337829626, 1.8799270337829626, 1.8799270337829626, 1.8799270337829626, 1.8799270337829626, 1.8799270337829626, 1.8799270337829626, 1.8799270337829626, 1.8799270337829626, 1.8799270337829626, 1.8799270337829626, 1.8799270337829626, 1.8799270337829626, 1.8799270337829626, 1.8799270337829626, 1.8799270337829626, 1.8799270337829626, 1.8799270337829626, 1.8799270337829626, 1.8799270337829626, 1.8799270337829626, 1.8799270337829626, 1.8799270337829626, 1.8799270337829626, 1.8799270337829626, 1.8799270337829626, 1.8799270337829626, 1.8799270337829626, 1.8799270337829626, 1.8799270337829626, 1.8799270337829626, 1.8799270337829626, 1.8799270337829626, 1.8799270337829626, 1.8799270337829626, 1.8799270337829626, 1.8799270337829626, 1.8799270337829626, 1.8799270337829626, 1.8799270337829626, 1.8799270337829626, 1.8799270337829626, 1.8799270337829626, 1.8799270337829626, 1.8799270337829626, 1.8799270337829626, 1.8799270337829626, 1.8799270337829626, 1.8799270337829626, 1.8799270337829626, 1.8799270337829626, 1.8799270337829626, 1.8799270337829626, 1.8799270337829626, 1.8799270337829626, 1.8799270337829626, 1.8799270337829626, 1.8799270337829626, 1.8799270337829626, 1.8799270337829626, 1.8799270337829626, 1.8799270337829626, 1.8799270337829626, 1.8799270337829626, 1.8799270337829626, 1.8799270337829626, 1.8799270337829626, 1.8799270337829626, 1.8799270337829626, 1.8799270337829626, 1.8799270337829626, 1.8799270337829626, 1.8799270337829626, 1.8799270337829626, 1.8799270337829626, 1.8799270337829626, 1.8799270337829626, 1.8799270337829626, 1.8799270337829626, 1.8799270337829626, 1.8799270337829626, 1.8799270337829626, 1.8799270337829626, 1.8799270337829626, 1.8799270337829626, 1.8799270337829626, 1.8799270337829626, 1.8799270337829626, 1.8799270337829626, 1.8799270337829626, 1.8799270337829626, 1.8799270337829626, 1.8799270337829626, 1.8799270337829626, 1.8799270337829626, 1.8799270337829626, 1.8799270337829626, 1.8799270337829626, 1.8799270337829626, 1.8799270337829626, 1.8799270337829626, 1.8799270337829626, 2.04809722239947, 2.3844375996324807, 2.3844375996324807, 2.3844375996324807, 2.3844375996324807, 2.3844375996324807, 2.3844375996324807, 2.3844375996324807, 2.3844375996324807, 2.3844375996324807, 2.3844375996324807, 2.3844375996324807, 2.3844375996324807, 2.3844375996324807, 2.3844375996324807, 2.3844375996324807, 2.3844375996324807, 2.3844375996324807, 2.3844375996324807, 2.3844375996324807, 2.3844375996324807, 2.3844375996324807, 2.3844375996324807, 2.3844375996324807, 2.3844375996324807, 2.3844375996324807, 2.3844375996324807, 2.3844375996324807, 2.3844375996324807, 2.3844375996324807, 2.3844375996324807, 2.3844375996324807, 2.3844375996324807, 2.3844375996324807, 2.3844375996324807, 2.3844375996324807, 2.3844375996324807, 2.3844375996324807, 2.3844375996324807, 2.3844375996324807, 2.3844375996324807, 2.3844375996324807, 2.3844375996324807, 2.3844375996324807, 2.3844375996324807, 2.3844375996324807, 2.3844375996324807, 2.3844375996324807, 2.3844375996324807, 2.3844375996324807, 2.3844375996324807, 2.3844375996324807, 2.3844375996324807, 2.3844375996324807, 2.3844375996324807, 2.3844375996324807, 2.3844375996324807, 2.3844375996324807, 2.3844375996324807, 2.3844375996324807, 2.3844375996324807, 2.3844375996324807, 2.3844375996324807, 2.3844375996324807, 2.3844375996324807, 2.3844375996324807, 2.3844375996324807, 2.3844375996324807, 2.3844375996324807, 2.3844375996324807, 2.3844375996324807, 2.3844375996324807, 2.3844375996324807, 2.3844375996324807, 2.3844375996324807, 2.3844375996324807, 2.3844375996324807, 2.3844375996324807, 2.3844375996324807, 2.3844375996324807, 2.3844375996324807, 2.3844375996324807, 2.3844375996324807, 2.3844375996324807, 2.3844375996324807, 2.3844375996324807, 2.3844375996324807, 2.3844375996324807, 2.3844375996324807, 2.3844375996324807, 2.3844375996324807, 2.3844375996324807, 2.3844375996324807, 2.3844375996324807, 2.3844375996324807, 2.3844375996324807, 2.3844375996324807, 2.3844375996324807, 2.3844375996324807, 2.3844375996324807, 2.3844375996324807, 2.3844375996324807, 2.3844375996324807, 2.3844375996324807, 2.3844375996324807, 2.3844375996324807, 2.3844375996324807, 2.3844375996324807, 2.3844375996324807, 2.3844375996324807, 2.3844375996324807, 2.3844375996324807, 2.3844375996324807, 2.3844375996324807, 2.3844375996324807, 2.3844375996324807, 2.3844375996324807, 2.3844375996324807, 2.3844375996324807, 2.3844375996324807, 2.3844375996324807, 2.3844375996324807, 2.3844375996324807, 2.3844375996324807, 2.3844375996324807, 2.3844375996324807, 2.3844375996324807, 2.3844375996324807, 2.3844375996324807, 2.3844375996324807, 2.3844375996324807, 2.3844375996324807, 2.3844375996324807, 2.3844375996324807, 2.3844375996324807, 2.3844375996324807, 2.3844375996324807, 2.3844375996324807, 2.3844375996324807, 2.3844375996324807, 2.3844375996324807, 2.3844375996324807, 2.3844375996324807, 2.3844375996324807, 2.3844375996324807, 2.3844375996324807, 2.3844375996324807, 2.3844375996324807, 2.3844375996324807, 2.3844375996324807, 2.3844375996324807, 2.3844375996324807, 2.3844375996324807, 2.3844375996324807, 2.3844375996324807, 2.3844375996324807, 2.3844375996324807, 2.3844375996324807, 2.3844375996324807, 2.3844375996324807, 2.3844375996324807, 2.3844375996324807, 2.3844375996324807, 2.3844375996324807, 2.3844375996324807, 2.3844375996324807, 2.3844375996324807, 2.3844375996324807, 2.3844375996324807, 2.3844375996324807, 2.3844375996324807, 2.3844375996324807, 2.3844375996324807, 2.3844375996324807, 2.3844375996324807, 2.3844375996324807, 2.3844375996324807, 2.3844375996324807, 2.3844375996324807, 2.3844375996324807, 2.3844375996324807, 2.3844375996324807, 2.3844375996324807, 2.3844375996324807, 2.3844375996324807, 2.3844375996324807, 2.3844375996324807, 2.3844375996324807, 2.3844375996324807, 2.3844375996324807, 2.3844375996324807, 2.3844375996324807, 2.3844375996324807, 2.720777976865495, 2.720777976865495, 2.720777976865495, 2.720777976865495, 2.720777976865495, 2.720777976865495, 2.720777976865495, 2.720777976865495, 2.720777976865495, 2.720777976865495, 2.720777976865495, 2.720777976865495, 2.720777976865495, 2.720777976865495, 2.720777976865495, 2.720777976865495, 2.720777976865495, 2.720777976865495, 2.720777976865495, 2.720777976865495, 2.720777976865495, 2.720777976865495, 2.720777976865495, 2.720777976865495, 2.720777976865495, 2.720777976865495, 2.720777976865495, 2.720777976865495, 2.720777976865495, 2.720777976865495, 2.720777976865495, 2.720777976865495, 2.720777976865495, 2.720777976865495, 2.720777976865495, 2.720777976865495, 2.720777976865495, 2.720777976865495, 2.720777976865495, 2.720777976865495, 2.720777976865495, 2.720777976865495, 2.720777976865495, 2.720777976865495, 2.720777976865495, 2.720777976865495, 2.720777976865495, 2.720777976865495, 2.720777976865495, 2.720777976865495, 2.720777976865495, 2.720777976865495, 2.720777976865495, 2.720777976865495, 2.720777976865495, 2.720777976865495, 2.720777976865495, 2.720777976865495, 2.720777976865495, 2.720777976865495, 2.720777976865495, 2.720777976865495, 2.720777976865495, 2.720777976865495, 2.720777976865495, 2.720777976865495, 2.720777976865495, 2.720777976865495, 2.720777976865495, 2.720777976865495, 2.720777976865495, 2.720777976865495, 2.720777976865495, 2.720777976865495, 2.720777976865495, 2.720777976865495, 2.720777976865495, 2.720777976865495, 2.720777976865495, 2.720777976865495, 2.720777976865495, 2.720777976865495, 2.720777976865495, 2.720777976865495, 2.720777976865495, 2.720777976865495, 2.720777976865495, 2.720777976865495, 2.720777976865495, 2.720777976865495, 2.720777976865495, 2.720777976865495, 2.720777976865495, 2.720777976865495, 2.720777976865495, 2.720777976865495, 2.720777976865495, 2.720777976865495, 2.720777976865495, 2.720777976865495, 2.720777976865495, 2.720777976865495, 2.720777976865495, 2.720777976865495, 2.720777976865495, 2.720777976865495, 2.720777976865495, 2.720777976865495, 2.720777976865495, 2.720777976865495, 2.720777976865495, 2.720777976865495, 2.720777976865495, 2.720777976865495, 2.720777976865495, 2.720777976865495, 2.720777976865495, 2.720777976865495, 2.720777976865495, 2.720777976865495, 2.720777976865495, 2.720777976865495, 2.720777976865495, 2.720777976865495, 2.720777976865495, 2.720777976865495, 2.720777976865495, 2.720777976865495, 2.720777976865495, 2.720777976865495, 2.720777976865495, 2.720777976865495, 2.720777976865495, 2.720777976865495, 2.720777976865495, 2.720777976865495, 2.720777976865495, 2.720777976865495, 2.720777976865495, 2.720777976865495, 2.720777976865495, 2.720777976865495, 2.720777976865495, 2.720777976865495, 2.720777976865495, 2.720777976865495, 2.720777976865495, 2.720777976865495, 2.720777976865495, 2.720777976865495, 2.720777976865495, 2.720777976865495, 2.720777976865495, 2.720777976865495, 2.720777976865495, 2.720777976865495, 2.720777976865495, 2.720777976865495, 2.720777976865495, 2.720777976865495, 2.720777976865495, 2.720777976865495, 2.720777976865495, 2.720777976865495, 2.720777976865495, 2.720777976865495, 2.720777976865495, 2.720777976865495, 2.720777976865495, 2.720777976865495, 2.720777976865495, 2.720777976865495, 2.720777976865495, 2.720777976865495, 2.720777976865495, 2.720777976865495, 2.720777976865495, 2.720777976865495, 2.720777976865495, 2.720777976865495, 2.720777976865495, 2.720777976865495, 2.720777976865495, 2.720777976865495, 2.720777976865495, 2.720777976865495, 2.720777976865495, 2.720777976865495, 2.720777976865495, 2.720777976865495, 2.720777976865495, 2.720777976865495, 2.720777976865495, 2.720777976865495, 2.720777976865495, 2.720777976865495, 2.720777976865495, 2.720777976865495, 2.720777976865495, 2.720777976865495, 2.720777976865495, 2.720777976865495, 2.720777976865495, 2.720777976865495, 2.720777976865495, 2.720777976865495, 2.720777976865495, 2.720777976865495, 2.720777976865495, 2.720777976865495, 2.720777976865495, 2.720777976865495, 2.720777976865495, 2.720777976865495, 2.720777976865495, 2.720777976865495, 2.720777976865495, 2.720777976865495, 2.720777976865495, 2.720777976865495, 3.2252885427150133, 3.2252885427150133, 3.2252885427150133, 3.2252885427150133, 3.2252885427150133, 3.2252885427150133, 3.2252885427150133, 3.2252885427150133, 3.2252885427150133, 3.2252885427150133, 3.2252885427150133, 3.2252885427150133, 3.2252885427150133, 3.2252885427150133, 3.2252885427150133, 3.2252885427150133, 3.2252885427150133, 3.2252885427150133, 3.2252885427150133, 3.2252885427150133, 3.2252885427150133, 3.2252885427150133, 3.2252885427150133, 3.2252885427150133, 3.2252885427150133, 3.2252885427150133, 3.2252885427150133, 3.2252885427150133, 3.2252885427150133, 3.2252885427150133, 3.2252885427150133, 3.2252885427150133, 3.2252885427150133, 3.2252885427150133, 3.2252885427150133, 3.2252885427150133, 3.2252885427150133, 3.2252885427150133, 3.2252885427150133, 3.2252885427150133, 3.2252885427150133, 3.2252885427150133, 3.2252885427150133, 3.2252885427150133, 3.2252885427150133, 3.2252885427150133, 3.2252885427150133, 3.2252885427150133, 3.2252885427150133, 3.2252885427150133, 3.2252885427150133, 3.2252885427150133, 3.2252885427150133, 3.2252885427150133, 3.2252885427150133, 3.2252885427150133, 3.2252885427150133, 3.2252885427150133, 3.2252885427150133, 3.2252885427150133, 3.2252885427150133, 3.2252885427150133, 3.2252885427150133, 3.2252885427150133, 3.2252885427150133, 3.2252885427150133, 3.2252885427150133, 3.2252885427150133, 3.2252885427150133, 3.2252885427150133, 3.2252885427150133, 3.2252885427150133, 3.2252885427150133, 3.2252885427150133, 3.2252885427150133, 3.2252885427150133, 3.2252885427150133, 3.2252885427150133, 3.2252885427150133, 3.2252885427150133, 3.2252885427150133, 3.2252885427150133, 3.2252885427150133, 3.2252885427150133, 3.2252885427150133, 3.2252885427150133, 3.2252885427150133, 3.2252885427150133, 3.2252885427150133, 3.2252885427150133, 3.2252885427150133, 3.2252885427150133, 3.2252885427150133, 3.2252885427150133, 3.2252885427150133, 3.2252885427150133, 3.2252885427150133, 3.2252885427150133, 3.2252885427150133, 3.2252885427150133, 3.2252885427150133, 3.2252885427150133, 3.2252885427150133, 3.2252885427150133, 3.2252885427150133, 3.2252885427150133, 3.2252885427150133, 3.2252885427150133, 3.2252885427150133, 3.2252885427150133, 3.2252885427150133, 3.2252885427150133, 3.2252885427150133, 3.2252885427150133, 3.2252885427150133, 3.2252885427150133, 3.2252885427150133, 3.2252885427150133, 3.2252885427150133, 3.2252885427150133, 3.2252885427150133, 3.2252885427150133, 3.2252885427150133, 3.2252885427150133, 3.2252885427150133, 3.2252885427150133, 3.2252885427150133, 3.2252885427150133, 3.2252885427150133, 3.2252885427150133, 3.2252885427150133, 3.2252885427150133, 3.2252885427150133, 3.2252885427150133, 3.2252885427150133, 3.2252885427150133, 3.2252885427150133, 3.2252885427150133, 3.2252885427150133, 3.2252885427150133, 3.2252885427150133, 3.2252885427150133, 3.2252885427150133, 3.2252885427150133, 3.2252885427150133, 3.2252885427150133, 3.2252885427150133, 3.2252885427150133, 3.2252885427150133, 3.2252885427150133, 3.2252885427150133, 3.2252885427150133, 3.2252885427150133, 3.2252885427150133, 3.2252885427150133, 3.2252885427150133, 3.2252885427150133, 3.2252885427150133, 3.2252885427150133, 3.2252885427150133, 3.2252885427150133, 3.2252885427150133, 3.2252885427150133, 3.2252885427150133, 3.561628919948024, 3.561628919948024, 3.561628919948024, 3.561628919948024, 3.561628919948024, 3.561628919948024, 3.561628919948024, 3.561628919948024, 3.561628919948024, 3.561628919948024, 3.561628919948024, 3.561628919948024, 3.561628919948024, 3.561628919948024, 3.561628919948024, 3.561628919948024, 3.561628919948024, 3.561628919948024, 3.561628919948024, 3.561628919948024, 3.561628919948024, 3.561628919948024, 3.561628919948024, 3.561628919948024, 3.561628919948024, 3.561628919948024, 3.561628919948024, 3.561628919948024, 3.561628919948024, 3.561628919948024, 3.561628919948024, 3.561628919948024, 3.561628919948024, 3.561628919948024, 3.561628919948024, 3.561628919948024, 3.561628919948024, 3.561628919948024, 3.561628919948024, 3.561628919948024, 3.561628919948024, 3.561628919948024, 3.561628919948024, 3.561628919948024, 3.561628919948024, 3.561628919948024, 3.561628919948024, 3.561628919948024, 3.561628919948024, 3.561628919948024, 3.561628919948024, 3.561628919948024, 3.561628919948024, 3.561628919948024, 3.561628919948024, 3.561628919948024, 3.561628919948024, 3.561628919948024, 3.561628919948024, 3.561628919948024, 3.561628919948024, 3.561628919948024, 3.561628919948024, 3.561628919948024, 3.561628919948024, 3.561628919948024, 3.561628919948024, 3.561628919948024, 3.561628919948024, 3.561628919948024, 3.561628919948024, 3.561628919948024, 3.561628919948024, 3.561628919948024, 3.561628919948024, 3.561628919948024, 3.561628919948024, 3.561628919948024, 3.561628919948024, 3.561628919948024, 3.561628919948024, 3.561628919948024, 3.561628919948024, 3.561628919948024, 3.561628919948024, 3.561628919948024, 3.561628919948024, 3.561628919948024, 3.561628919948024, 3.561628919948024, 3.561628919948024, 3.561628919948024, 3.561628919948024, 3.561628919948024, 3.561628919948024, 3.561628919948024, 3.561628919948024, 3.561628919948024, 3.561628919948024, 3.561628919948024, 3.561628919948024, 3.561628919948024, 3.561628919948024, 3.561628919948024, 3.561628919948024, 3.561628919948024, 3.561628919948024, 3.561628919948024, 3.561628919948024, 3.561628919948024, 3.561628919948024, 3.561628919948024, 3.561628919948024, 3.561628919948024, 3.561628919948024, 3.561628919948024, 3.561628919948024, 3.561628919948024, 3.561628919948024, 3.561628919948024, 3.561628919948024, 3.561628919948024, 3.561628919948024, 3.561628919948024, 3.561628919948024, 3.561628919948024, 3.561628919948024, 3.561628919948024, 3.561628919948024, 3.561628919948024, 3.561628919948024, 3.561628919948024, 3.561628919948024, 3.561628919948024, 3.561628919948024, 3.561628919948024, 3.561628919948024, 3.561628919948024, 4.066139485797542, 4.066139485797542, 4.066139485797542, 4.066139485797542, 4.066139485797542, 4.066139485797542, 4.066139485797542, 4.066139485797542, 4.066139485797542, 4.066139485797542, 4.066139485797542, 4.066139485797542, 4.066139485797542, 4.066139485797542, 4.066139485797542, 4.066139485797542, 4.066139485797542, 4.066139485797542, 4.066139485797542, 4.066139485797542, 4.066139485797542, 4.066139485797542, 4.066139485797542, 4.066139485797542, 4.066139485797542, 4.066139485797542, 4.066139485797542, 4.066139485797542, 4.066139485797542, 4.066139485797542, 4.066139485797542, 4.066139485797542, 4.066139485797542, 4.066139485797542, 4.066139485797542, 4.066139485797542, 4.066139485797542, 4.066139485797542, 4.066139485797542, 4.066139485797542, 4.066139485797542, 4.066139485797542, 4.066139485797542, 4.066139485797542, 4.066139485797542, 4.066139485797542, 4.066139485797542, 4.066139485797542, 4.066139485797542, 4.066139485797542, 4.066139485797542, 4.066139485797542, 4.066139485797542, 4.066139485797542, 4.066139485797542, 4.066139485797542, 4.066139485797542, 4.066139485797542, 4.066139485797542, 4.066139485797542, 4.066139485797542, 4.066139485797542, 4.066139485797542, 4.066139485797542, 4.066139485797542, 4.066139485797542, 4.066139485797542, 4.066139485797542, 4.066139485797542, 4.066139485797542, 4.066139485797542, 4.066139485797542, 4.066139485797542, 4.066139485797542, 4.066139485797542, 4.066139485797542, 4.066139485797542, 4.066139485797542, 4.066139485797542, 4.066139485797542, 4.066139485797542, 4.066139485797542, 4.066139485797542, 4.066139485797542, 4.23430967441405, 4.570650051647057, 4.570650051647057, 4.570650051647057, 4.570650051647057, 4.570650051647057, 4.570650051647057, 4.570650051647057, 4.570650051647057, 4.570650051647057, 4.570650051647057, 4.570650051647057, 4.570650051647057, 4.570650051647057, 4.570650051647057, 4.570650051647057, 4.570650051647057, 4.570650051647057, 4.570650051647057, 4.570650051647057, 4.570650051647057, 4.570650051647057, 4.570650051647057, 4.570650051647057, 4.570650051647057, 4.570650051647057, 4.570650051647057, 4.570650051647057, 4.570650051647057, 4.570650051647057, 4.570650051647057, 4.570650051647057, 4.570650051647057, 4.570650051647057, 4.570650051647057, 4.906990428880071, 4.906990428880071, 4.906990428880071, 4.906990428880071, 4.906990428880071, 4.906990428880071, 4.906990428880071, 4.906990428880071, 4.906990428880071, 4.906990428880071, 4.906990428880071, 4.906990428880071, 4.906990428880071, 5.411500994729586, 5.411500994729586, 5.411500994729586, 5.411500994729586, 5.411500994729586, 5.411500994729586, 5.411500994729586, 5.7478413719626005, 5.7478413719626005, 5.7478413719626005, 5.7478413719626005, 5.7478413719626005, 5.7478413719626005, 6.252351937812115, 6.5886923150451295], \"yaxis\": \"y\"}],\n",
       "                        {\"coloraxis\": {\"colorbar\": {\"title\": {\"text\": \"Aces_Per_Match\"}}, \"colorscale\": [[0.0, \"#0d0887\"], [0.1111111111111111, \"#46039f\"], [0.2222222222222222, \"#7201a8\"], [0.3333333333333333, \"#9c179e\"], [0.4444444444444444, \"#bd3786\"], [0.5555555555555556, \"#d8576b\"], [0.6666666666666666, \"#ed7953\"], [0.7777777777777778, \"#fb9f3a\"], [0.8888888888888888, \"#fdca26\"], [1.0, \"#f0f921\"]]}, \"legend\": {\"tracegroupgap\": 0}, \"template\": {\"data\": {\"bar\": [{\"error_x\": {\"color\": \"#2a3f5f\"}, \"error_y\": {\"color\": \"#2a3f5f\"}, \"marker\": {\"line\": {\"color\": \"#E5ECF6\", \"width\": 0.5}}, \"type\": \"bar\"}], \"barpolar\": [{\"marker\": {\"line\": {\"color\": \"#E5ECF6\", \"width\": 0.5}}, \"type\": \"barpolar\"}], \"carpet\": [{\"aaxis\": {\"endlinecolor\": \"#2a3f5f\", \"gridcolor\": \"white\", \"linecolor\": \"white\", \"minorgridcolor\": \"white\", \"startlinecolor\": \"#2a3f5f\"}, \"baxis\": {\"endlinecolor\": \"#2a3f5f\", \"gridcolor\": \"white\", \"linecolor\": \"white\", \"minorgridcolor\": \"white\", \"startlinecolor\": \"#2a3f5f\"}, \"type\": \"carpet\"}], \"choropleth\": [{\"colorbar\": {\"outlinewidth\": 0, \"ticks\": \"\"}, \"type\": \"choropleth\"}], \"contour\": [{\"colorbar\": {\"outlinewidth\": 0, \"ticks\": \"\"}, \"colorscale\": [[0.0, \"#0d0887\"], [0.1111111111111111, \"#46039f\"], [0.2222222222222222, \"#7201a8\"], [0.3333333333333333, \"#9c179e\"], [0.4444444444444444, \"#bd3786\"], [0.5555555555555556, \"#d8576b\"], [0.6666666666666666, \"#ed7953\"], [0.7777777777777778, \"#fb9f3a\"], [0.8888888888888888, \"#fdca26\"], [1.0, \"#f0f921\"]], \"type\": \"contour\"}], \"contourcarpet\": [{\"colorbar\": {\"outlinewidth\": 0, \"ticks\": \"\"}, \"type\": \"contourcarpet\"}], \"heatmap\": [{\"colorbar\": {\"outlinewidth\": 0, \"ticks\": \"\"}, \"colorscale\": [[0.0, \"#0d0887\"], [0.1111111111111111, \"#46039f\"], [0.2222222222222222, \"#7201a8\"], [0.3333333333333333, \"#9c179e\"], [0.4444444444444444, \"#bd3786\"], [0.5555555555555556, \"#d8576b\"], [0.6666666666666666, \"#ed7953\"], [0.7777777777777778, \"#fb9f3a\"], [0.8888888888888888, \"#fdca26\"], [1.0, \"#f0f921\"]], \"type\": \"heatmap\"}], \"heatmapgl\": [{\"colorbar\": {\"outlinewidth\": 0, \"ticks\": \"\"}, \"colorscale\": [[0.0, \"#0d0887\"], [0.1111111111111111, \"#46039f\"], [0.2222222222222222, \"#7201a8\"], [0.3333333333333333, \"#9c179e\"], [0.4444444444444444, \"#bd3786\"], [0.5555555555555556, \"#d8576b\"], [0.6666666666666666, \"#ed7953\"], [0.7777777777777778, \"#fb9f3a\"], [0.8888888888888888, \"#fdca26\"], [1.0, \"#f0f921\"]], \"type\": \"heatmapgl\"}], \"histogram\": [{\"marker\": {\"colorbar\": {\"outlinewidth\": 0, \"ticks\": \"\"}}, \"type\": \"histogram\"}], \"histogram2d\": [{\"colorbar\": {\"outlinewidth\": 0, \"ticks\": \"\"}, \"colorscale\": [[0.0, \"#0d0887\"], [0.1111111111111111, \"#46039f\"], [0.2222222222222222, \"#7201a8\"], [0.3333333333333333, \"#9c179e\"], [0.4444444444444444, \"#bd3786\"], [0.5555555555555556, \"#d8576b\"], [0.6666666666666666, \"#ed7953\"], [0.7777777777777778, \"#fb9f3a\"], [0.8888888888888888, \"#fdca26\"], [1.0, \"#f0f921\"]], \"type\": \"histogram2d\"}], \"histogram2dcontour\": [{\"colorbar\": {\"outlinewidth\": 0, \"ticks\": \"\"}, \"colorscale\": [[0.0, \"#0d0887\"], [0.1111111111111111, \"#46039f\"], [0.2222222222222222, \"#7201a8\"], [0.3333333333333333, \"#9c179e\"], [0.4444444444444444, \"#bd3786\"], [0.5555555555555556, \"#d8576b\"], [0.6666666666666666, \"#ed7953\"], [0.7777777777777778, \"#fb9f3a\"], [0.8888888888888888, \"#fdca26\"], [1.0, \"#f0f921\"]], \"type\": \"histogram2dcontour\"}], \"mesh3d\": [{\"colorbar\": {\"outlinewidth\": 0, \"ticks\": \"\"}, \"type\": \"mesh3d\"}], \"parcoords\": [{\"line\": {\"colorbar\": {\"outlinewidth\": 0, \"ticks\": \"\"}}, \"type\": \"parcoords\"}], \"pie\": [{\"automargin\": true, \"type\": \"pie\"}], \"scatter\": [{\"marker\": {\"colorbar\": {\"outlinewidth\": 0, \"ticks\": \"\"}}, \"type\": \"scatter\"}], \"scatter3d\": [{\"line\": {\"colorbar\": {\"outlinewidth\": 0, \"ticks\": \"\"}}, \"marker\": {\"colorbar\": {\"outlinewidth\": 0, \"ticks\": \"\"}}, \"type\": \"scatter3d\"}], \"scattercarpet\": [{\"marker\": {\"colorbar\": {\"outlinewidth\": 0, \"ticks\": \"\"}}, \"type\": \"scattercarpet\"}], \"scattergeo\": [{\"marker\": {\"colorbar\": {\"outlinewidth\": 0, \"ticks\": \"\"}}, \"type\": \"scattergeo\"}], \"scattergl\": [{\"marker\": {\"colorbar\": {\"outlinewidth\": 0, \"ticks\": \"\"}}, \"type\": \"scattergl\"}], \"scattermapbox\": [{\"marker\": {\"colorbar\": {\"outlinewidth\": 0, \"ticks\": \"\"}}, \"type\": \"scattermapbox\"}], \"scatterpolar\": [{\"marker\": {\"colorbar\": {\"outlinewidth\": 0, \"ticks\": \"\"}}, \"type\": \"scatterpolar\"}], \"scatterpolargl\": [{\"marker\": {\"colorbar\": {\"outlinewidth\": 0, \"ticks\": \"\"}}, \"type\": \"scatterpolargl\"}], \"scatterternary\": [{\"marker\": {\"colorbar\": {\"outlinewidth\": 0, \"ticks\": \"\"}}, \"type\": \"scatterternary\"}], \"surface\": [{\"colorbar\": {\"outlinewidth\": 0, \"ticks\": \"\"}, \"colorscale\": [[0.0, \"#0d0887\"], [0.1111111111111111, \"#46039f\"], [0.2222222222222222, \"#7201a8\"], [0.3333333333333333, \"#9c179e\"], [0.4444444444444444, \"#bd3786\"], [0.5555555555555556, \"#d8576b\"], [0.6666666666666666, \"#ed7953\"], [0.7777777777777778, \"#fb9f3a\"], [0.8888888888888888, \"#fdca26\"], [1.0, \"#f0f921\"]], \"type\": \"surface\"}], \"table\": [{\"cells\": {\"fill\": {\"color\": \"#EBF0F8\"}, \"line\": {\"color\": \"white\"}}, \"header\": {\"fill\": {\"color\": \"#C8D4E3\"}, \"line\": {\"color\": \"white\"}}, \"type\": \"table\"}]}, \"layout\": {\"annotationdefaults\": {\"arrowcolor\": \"#2a3f5f\", \"arrowhead\": 0, \"arrowwidth\": 1}, \"coloraxis\": {\"colorbar\": {\"outlinewidth\": 0, \"ticks\": \"\"}}, \"colorscale\": {\"diverging\": [[0, \"#8e0152\"], [0.1, \"#c51b7d\"], [0.2, \"#de77ae\"], [0.3, \"#f1b6da\"], [0.4, \"#fde0ef\"], [0.5, \"#f7f7f7\"], [0.6, \"#e6f5d0\"], [0.7, \"#b8e186\"], [0.8, \"#7fbc41\"], [0.9, \"#4d9221\"], [1, \"#276419\"]], \"sequential\": [[0.0, \"#0d0887\"], [0.1111111111111111, \"#46039f\"], [0.2222222222222222, \"#7201a8\"], [0.3333333333333333, \"#9c179e\"], [0.4444444444444444, \"#bd3786\"], [0.5555555555555556, \"#d8576b\"], [0.6666666666666666, \"#ed7953\"], [0.7777777777777778, \"#fb9f3a\"], [0.8888888888888888, \"#fdca26\"], [1.0, \"#f0f921\"]], \"sequentialminus\": [[0.0, \"#0d0887\"], [0.1111111111111111, \"#46039f\"], [0.2222222222222222, \"#7201a8\"], [0.3333333333333333, \"#9c179e\"], [0.4444444444444444, \"#bd3786\"], [0.5555555555555556, \"#d8576b\"], [0.6666666666666666, \"#ed7953\"], [0.7777777777777778, \"#fb9f3a\"], [0.8888888888888888, \"#fdca26\"], [1.0, \"#f0f921\"]]}, \"colorway\": [\"#636efa\", \"#EF553B\", \"#00cc96\", \"#ab63fa\", \"#FFA15A\", \"#19d3f3\", \"#FF6692\", \"#B6E880\", \"#FF97FF\", \"#FECB52\"], \"font\": {\"color\": \"#2a3f5f\"}, \"geo\": {\"bgcolor\": \"white\", \"lakecolor\": \"white\", \"landcolor\": \"#E5ECF6\", \"showlakes\": true, \"showland\": true, \"subunitcolor\": \"white\"}, \"hoverlabel\": {\"align\": \"left\"}, \"hovermode\": \"closest\", \"mapbox\": {\"style\": \"light\"}, \"paper_bgcolor\": \"white\", \"plot_bgcolor\": \"#E5ECF6\", \"polar\": {\"angularaxis\": {\"gridcolor\": \"white\", \"linecolor\": \"white\", \"ticks\": \"\"}, \"bgcolor\": \"#E5ECF6\", \"radialaxis\": {\"gridcolor\": \"white\", \"linecolor\": \"white\", \"ticks\": \"\"}}, \"scene\": {\"xaxis\": {\"backgroundcolor\": \"#E5ECF6\", \"gridcolor\": \"white\", \"gridwidth\": 2, \"linecolor\": \"white\", \"showbackground\": true, \"ticks\": \"\", \"zerolinecolor\": \"white\"}, \"yaxis\": {\"backgroundcolor\": \"#E5ECF6\", \"gridcolor\": \"white\", \"gridwidth\": 2, \"linecolor\": \"white\", \"showbackground\": true, \"ticks\": \"\", \"zerolinecolor\": \"white\"}, \"zaxis\": {\"backgroundcolor\": \"#E5ECF6\", \"gridcolor\": \"white\", \"gridwidth\": 2, \"linecolor\": \"white\", \"showbackground\": true, \"ticks\": \"\", \"zerolinecolor\": \"white\"}}, \"shapedefaults\": {\"line\": {\"color\": \"#2a3f5f\"}}, \"ternary\": {\"aaxis\": {\"gridcolor\": \"white\", \"linecolor\": \"white\", \"ticks\": \"\"}, \"baxis\": {\"gridcolor\": \"white\", \"linecolor\": \"white\", \"ticks\": \"\"}, \"bgcolor\": \"#E5ECF6\", \"caxis\": {\"gridcolor\": \"white\", \"linecolor\": \"white\", \"ticks\": \"\"}}, \"title\": {\"x\": 0.05}, \"xaxis\": {\"automargin\": true, \"gridcolor\": \"white\", \"linecolor\": \"white\", \"ticks\": \"\", \"title\": {\"standoff\": 15}, \"zerolinecolor\": \"white\", \"zerolinewidth\": 2}, \"yaxis\": {\"automargin\": true, \"gridcolor\": \"white\", \"linecolor\": \"white\", \"ticks\": \"\", \"title\": {\"standoff\": 15}, \"zerolinecolor\": \"white\", \"zerolinewidth\": 2}}}, \"title\": {\"text\": \"Aces vs Height\"}, \"xaxis\": {\"anchor\": \"y\", \"domain\": [0.0, 1.0], \"title\": {\"text\": \"player_ht\"}}, \"yaxis\": {\"anchor\": \"x\", \"domain\": [0.0, 1.0], \"title\": {\"text\": \"Aces_Per_Match\"}}},\n",
       "                        {\"responsive\": true}\n",
       "                    ).then(function(){\n",
       "                            \n",
       "var gd = document.getElementById('a2d3aa3b-0ae3-4b7f-bb77-cd4820399712');\n",
       "var x = new MutationObserver(function (mutations, observer) {{\n",
       "        var display = window.getComputedStyle(gd).display;\n",
       "        if (!display || display === 'none') {{\n",
       "            console.log([gd, 'removed!']);\n",
       "            Plotly.purge(gd);\n",
       "            observer.disconnect();\n",
       "        }}\n",
       "}});\n",
       "\n",
       "// Listen for the removal of the full notebook cells\n",
       "var notebookContainer = gd.closest('#notebook-container');\n",
       "if (notebookContainer) {{\n",
       "    x.observe(notebookContainer, {childList: true});\n",
       "}}\n",
       "\n",
       "// Listen for the clearing of the current output cell\n",
       "var outputEl = gd.closest('.output');\n",
       "if (outputEl) {{\n",
       "    x.observe(outputEl, {childList: true});\n",
       "}}\n",
       "\n",
       "                        })\n",
       "                };\n",
       "                });\n",
       "            </script>\n",
       "        </div>"
      ]
     },
     "metadata": {},
     "output_type": "display_data"
    }
   ],
   "source": [
    "import plotly.express as px\n",
    "\n",
    "\n",
    "\n",
    "fig = px.scatter(players_df,y='Aces_Per_Match',x='player_ht',hover_data=['aces','player_name','player_ht','Matches_Played'],trendline='ols',\n",
    "                trendline_color_override='red',title='Aces vs Height',color='Aces_Per_Match')\n",
    "fig.show()\n"
   ]
  },
  {
   "cell_type": "markdown",
   "metadata": {},
   "source": [
    "In the above plot we can clearly see that height has a positive impact on the abillity to hit aces. Players like John Isner, Kevin Anderson, Ivo Karlovic, Albano Olivetti are few of the taller players in the Tour and they have the highest chances for hitting aces among all the players. The plot is also interactive- data relevant to the points and trend line are displayed when a user hovers over them.   "
   ]
  },
  {
   "cell_type": "markdown",
   "metadata": {},
   "source": [
    "<b> Research Question 3: </b> Now, let's analyze how a player's performance is related across surfaces. The playing conditions on a hard-court are kind of a bargain between grass and clay- the speed of the ball is slightly less than grass courts but more than clay courts. So, generally players who are dominant on hard courts fare well on other two courts. But players who are fully-dominant on clay/grass courts do not necessarily dominate on other courts. \n",
    "\n",
    "For this analysis, I will be calculating the win-index of players across each surface.\n",
    "\n",
    "\n",
    "win_index=(number_of_wins) / (number_of_wins+number_of_losses)"
   ]
  },
  {
   "cell_type": "code",
   "execution_count": 58,
   "metadata": {},
   "outputs": [
    {
     "data": {
      "text/plain": [
       "['Grass', 'Clay', 'Carpet', 'Hard', nan]"
      ]
     },
     "execution_count": 58,
     "metadata": {},
     "output_type": "execute_result"
    }
   ],
   "source": [
    "surfaces=master_match_df.surface.unique().tolist()\n",
    "surfaces"
   ]
  },
  {
   "cell_type": "code",
   "execution_count": 59,
   "metadata": {},
   "outputs": [],
   "source": [
    "import numpy as np\n",
    "player_names=master_match_df.winner_name.unique().tolist()+master_match_df.loser_name.unique().tolist()\n",
    "player_names=np.unique(player_names)"
   ]
  },
  {
   "cell_type": "code",
   "execution_count": 60,
   "metadata": {},
   "outputs": [],
   "source": [
    "player_records={\n",
    "    'player_name':player_names\n",
    "}\n",
    "\n",
    "\n",
    "player_records=pd.DataFrame.from_dict(player_records)"
   ]
  },
  {
   "cell_type": "code",
   "execution_count": 61,
   "metadata": {},
   "outputs": [],
   "source": [
    "surface_wins_df=master_match_df.groupby(['winner_name','surface'],as_index=False)['Match_Count'].sum()\n",
    "surface_losses_df=master_match_df.groupby(['loser_name','surface'],as_index=False)['Match_Count'].sum()\n",
    "overall_wins_df=master_match_df.groupby(['winner_name'],as_index=False)['Match_Count'].sum()\n",
    "overall_losses_df=master_match_df.groupby(['loser_name'],as_index=False)['Match_Count'].sum()"
   ]
  },
  {
   "cell_type": "code",
   "execution_count": 62,
   "metadata": {},
   "outputs": [],
   "source": [
    "grass_win_records=surface_wins_df[surface_wins_df.surface=='Grass']\n",
    "clay_win_records=surface_wins_df[surface_wins_df.surface=='Clay']\n",
    "hard_win_records=surface_wins_df[surface_wins_df.surface=='Hard']\n",
    "\n",
    "\n",
    "grass_loss_records=surface_losses_df[surface_losses_df.surface=='Grass']\n",
    "clay_loss_records=surface_losses_df[surface_losses_df.surface=='Clay']\n",
    "hard_loss_records=surface_losses_df[surface_losses_df.surface=='Hard']\n",
    "\n"
   ]
  },
  {
   "cell_type": "code",
   "execution_count": 63,
   "metadata": {},
   "outputs": [],
   "source": [
    "overall_wins_df=overall_wins_df.rename(\n",
    "columns={\n",
    "    \n",
    "    'winner_name':'player_name',\n",
    "    'Match_Count':'overall_wins'\n",
    "}\n",
    "\n",
    ")\n",
    "\n",
    "overall_losses_df=overall_losses_df.rename(\n",
    "columns={\n",
    "    \n",
    "    'loser_name':'player_name',\n",
    "    'Match_Count':'overall_losses'\n",
    "}\n",
    "\n",
    ")\n",
    "\n",
    "\n",
    "grass_win_records=grass_win_records.rename(\n",
    "\n",
    "columns={\n",
    "    \n",
    "    'winner_name':'player_name',\n",
    "    'Match_Count':'grass_wins'\n",
    "    \n",
    "}\n",
    "\n",
    ")\n",
    "\n",
    "\n",
    "grass_loss_records=grass_loss_records.rename(\n",
    "\n",
    "columns={\n",
    "    \n",
    "    'loser_name':'player_name',\n",
    "    'Match_Count':'grass_losses'\n",
    "    \n",
    "}\n",
    "\n",
    ")\n",
    "\n",
    "\n",
    "clay_win_records=clay_win_records.rename(\n",
    "\n",
    "columns={\n",
    "    \n",
    "    'winner_name':'player_name',\n",
    "    'Match_Count':'clay_wins'\n",
    "    \n",
    "}\n",
    "\n",
    ")\n",
    "\n",
    "\n",
    "clay_loss_records=clay_loss_records.rename(\n",
    "\n",
    "columns={\n",
    "    \n",
    "    'loser_name':'player_name',\n",
    "    'Match_Count':'clay_losses'\n",
    "    \n",
    "}\n",
    "\n",
    ")\n",
    "\n",
    "\n",
    "\n",
    "hard_win_records=hard_win_records.rename(\n",
    "\n",
    "columns={\n",
    "    \n",
    "    'winner_name':'player_name',\n",
    "    'Match_Count':'hard_wins'\n",
    "    \n",
    "}\n",
    "\n",
    ")\n",
    "\n",
    "\n",
    "\n",
    "hard_loss_records=hard_loss_records.rename(\n",
    "\n",
    "columns={\n",
    "    \n",
    "    'loser_name':'player_name',\n",
    "    'Match_Count':'hard_losses'\n",
    "    \n",
    "}\n",
    "\n",
    ")"
   ]
  },
  {
   "cell_type": "code",
   "execution_count": 64,
   "metadata": {},
   "outputs": [],
   "source": [
    "grass_win_records.drop(columns=['surface'],inplace=True)\n",
    "grass_loss_records.drop(columns=['surface'],inplace=True)\n",
    "hard_win_records.drop(columns=['surface'],inplace=True)\n",
    "hard_loss_records.drop(columns=['surface'],inplace=True)\n",
    "clay_win_records.drop(columns=['surface'],inplace=True)\n",
    "clay_loss_records.drop(columns=['surface'],inplace=True)"
   ]
  },
  {
   "cell_type": "code",
   "execution_count": 65,
   "metadata": {},
   "outputs": [],
   "source": [
    "player_records=player_records.merge(overall_wins_df,on='player_name',how='left')\n",
    "player_records=player_records.merge(overall_losses_df,on='player_name',how='left')\n",
    "player_records=player_records.merge(grass_win_records,on='player_name',how='left')\n",
    "player_records=player_records.merge(grass_loss_records,on='player_name',how='left')\n",
    "player_records=player_records.merge(clay_win_records,on='player_name',how='left')\n",
    "player_records=player_records.merge(clay_loss_records,on='player_name',how='left')\n",
    "player_records=player_records.merge(hard_win_records,on='player_name',how='left')\n",
    "player_records=player_records.merge(hard_loss_records,on='player_name',how='left')"
   ]
  },
  {
   "cell_type": "code",
   "execution_count": 66,
   "metadata": {},
   "outputs": [],
   "source": [
    "player_records['clay_win_index']=player_records['clay_wins']/(player_records['clay_wins']+player_records['clay_losses'])\n",
    "player_records['grass_win_index']=player_records['grass_wins']/(player_records['grass_wins']+player_records['grass_losses'])\n",
    "player_records['hard_win_index']=player_records['hard_wins']/(player_records['hard_wins']+player_records['hard_losses'])\n",
    "\n"
   ]
  },
  {
   "cell_type": "code",
   "execution_count": 67,
   "metadata": {},
   "outputs": [],
   "source": [
    "player_records=player_records.dropna()"
   ]
  },
  {
   "cell_type": "code",
   "execution_count": 68,
   "metadata": {},
   "outputs": [],
   "source": [
    "player_records=player_records[(player_records.overall_wins+player_records.overall_losses)>100]"
   ]
  },
  {
   "cell_type": "markdown",
   "metadata": {},
   "source": [
    "Now that we have the win-index of all the players, across each surface, lets use this data to cluster players into groups. Let's use a simple yet poweful clustering algorithm called k-means for this analysis.  "
   ]
  },
  {
   "cell_type": "code",
   "execution_count": 69,
   "metadata": {},
   "outputs": [],
   "source": [
    "from sklearn.cluster import KMeans\n",
    "\n",
    "\n",
    "data= {'Clay_record': player_records.clay_win_index,\n",
    "       'Grass_record' :player_records.grass_win_index,\n",
    "       'Hard_record':player_records.hard_win_index}"
   ]
  },
  {
   "cell_type": "code",
   "execution_count": 70,
   "metadata": {},
   "outputs": [],
   "source": [
    "kmeans_df =  pd.DataFrame(data=data)\n",
    "\n",
    "kmeans = KMeans(n_clusters = 3, random_state = 0).fit(kmeans_df)\n",
    "kmeans_df['label'] = kmeans.labels_\n",
    "kmeans_df['player_name']=player_records.player_name"
   ]
  },
  {
   "cell_type": "code",
   "execution_count": 71,
   "metadata": {},
   "outputs": [],
   "source": [
    "kmeans_df['label']=kmeans_df['label'].apply(str)"
   ]
  },
  {
   "cell_type": "code",
   "execution_count": 72,
   "metadata": {},
   "outputs": [
    {
     "data": {
      "application/vnd.plotly.v1+json": {
       "config": {
        "plotlyServerURL": "https://plot.ly"
       },
       "data": [
        {
         "customdata": [
          [
           0.583732057416268,
           0.5714285714285714,
           0.6513761467889908,
           "1",
           "Aaron Krickstein"
          ],
          [
           0.6928571428571428,
           0.5416666666666666,
           0.5180722891566265,
           "1",
           "Adriano Panatta"
          ],
          [
           0.6621315192743764,
           0.36363636363636365,
           0.5611814345991561,
           "1",
           "Alex Corretja"
          ],
          [
           0.631578947368421,
           0.7863247863247863,
           0.7272727272727273,
           "1",
           "Alex Metreveli"
          ],
          [
           0.4,
           0.582089552238806,
           0.5630630630630631,
           "1",
           "Alexander Volkov"
          ],
          [
           0.7,
           0.631578947368421,
           0.6531531531531531,
           "1",
           "Alexander Zverev"
          ],
          [
           0.49206349206349204,
           0.5348837209302325,
           0.531496062992126,
           "1",
           "Alexandr Dolgopolov"
          ],
          [
           0.5,
           0.5581395348837209,
           0.4537037037037037,
           "1",
           "Allan Stone"
          ],
          [
           0.575,
           0.5384615384615384,
           0.5700483091787439,
           "1",
           "Anders Jarryd"
          ],
          [
           0.7272727272727273,
           0.7352941176470589,
           0.7889182058047494,
           "1",
           "Andre Agassi"
          ],
          [
           0.4962121212121212,
           0.5660377358490566,
           0.4623115577889447,
           "1",
           "Andreas Seppi"
          ],
          [
           0.66796875,
           0.47058823529411764,
           0.5612903225806452,
           "1",
           "Andrei Medvedev"
          ],
          [
           0.545,
           0.4489795918367347,
           0.4956896551724138,
           "1",
           "Andrei Pavel"
          ],
          [
           0.7142857142857143,
           0.7142857142857143,
           0.6103896103896104,
           "1",
           "Andres Gimeno"
          ],
          [
           0.7021276595744681,
           0.5555555555555556,
           0.6439024390243903,
           "1",
           "Andres Gomez"
          ],
          [
           0.5196850393700787,
           0.5147058823529411,
           0.5612244897959183,
           "1",
           "Andrew Pattison"
          ],
          [
           0.5813953488372093,
           0.5714285714285714,
           0.6024096385542169,
           "1",
           "Andrey Rublev"
          ],
          [
           0.6883116883116883,
           0.8307692307692308,
           0.7774030354131535,
           "1",
           "Andy Murray"
          ],
          [
           0.6386554621848739,
           0.7981651376146789,
           0.75177304964539,
           "1",
           "Andy Roddick"
          ],
          [
           0.47540983606557374,
           0.5428571428571428,
           0.5379746835443038,
           "1",
           "Arnaud Boetsch"
          ],
          [
           0.7079646017699115,
           0.7638888888888888,
           0.7617021276595745,
           "1",
           "Arthur Ashe"
          ],
          [
           0.6945054945054945,
           0.5185185185185185,
           0.52,
           "1",
           "Balazs Taroczy"
          ],
          [
           0.5161290322580645,
           0.5,
           0.4618320610687023,
           "1",
           "Benoit Paire"
          ],
          [
           0.41975308641975306,
           0.59,
           0.5572916666666666,
           "1",
           "Bill Scanlon"
          ],
          [
           0.8532110091743119,
           0.8470588235294118,
           0.7533333333333333,
           "1",
           "Bjorn Borg"
          ],
          [
           0.6223776223776224,
           0.6376811594202898,
           0.5684210526315789,
           "1",
           "Bob Hewitt"
          ],
          [
           0.6594594594594595,
           0.8226950354609929,
           0.7586206896551724,
           "1",
           "Boris Becker"
          ],
          [
           0.5684210526315789,
           0.5238095238095238,
           0.5163043478260869,
           "1",
           "Borna Coric"
          ],
          [
           0.5,
           0.5535714285714286,
           0.6856540084388185,
           "1",
           "Brad Gilbert"
          ],
          [
           0.42857142857142855,
           0.5932203389830508,
           0.5,
           "1",
           "Brett Steven"
          ],
          [
           0.48951048951048953,
           0.5531914893617021,
           0.52,
           "1",
           "Brian Fairlie"
          ],
          [
           0.6311787072243346,
           0.6666666666666666,
           0.7146892655367232,
           "1",
           "Brian Gottfried"
          ],
          [
           0.5204081632653061,
           0.6466165413533834,
           0.5927835051546392,
           "1",
           "Brian Teacher"
          ],
          [
           0.6561264822134387,
           0.5681818181818182,
           0.6216216216216216,
           "1",
           "Buster C Mottram"
          ],
          [
           0.7033195020746889,
           0.4642857142857143,
           0.5955056179775281,
           "1",
           "Carlos Moya"
          ],
          [
           0.5363636363636364,
           0.5974025974025974,
           0.5551470588235294,
           "1",
           "Cedric Pioline"
          ],
          [
           0.47619047619047616,
           0.6179775280898876,
           0.45714285714285713,
           "1",
           "Charlie Pasarell"
          ],
          [
           0.5643564356435643,
           0.5420560747663551,
           0.5217391304347826,
           "1",
           "Chris Lewis"
          ],
          [
           0.45544554455445546,
           0.5185185185185185,
           0.5354330708661418,
           "1",
           "Christian Bergstrom"
          ],
          [
           0.6710526315789473,
           0.7325581395348837,
           0.6793893129770993,
           "1",
           "Clark Graebner"
          ],
          [
           0.6818181818181818,
           0.6493506493506493,
           0.6449704142011834,
           "1",
           "Cliff Drysdale"
          ],
          [
           0.7010869565217391,
           0.6557377049180327,
           0.7029702970297029,
           "1",
           "Cliff Richey"
          ],
          [
           0.48026315789473684,
           0.5802469135802469,
           0.48044692737430167,
           "1",
           "Colin Dibley"
          ],
          [
           0.35714285714285715,
           0.6,
           0.7087912087912088,
           "1",
           "Daniil Medvedev"
          ],
          [
           0.5423728813559322,
           0.4666666666666667,
           0.5555555555555556,
           "1",
           "Darren Cahill"
          ],
          [
           0.7050209205020921,
           0.6285714285714286,
           0.6352087114337568,
           "1",
           "David Ferrer"
          ],
          [
           0.6101694915254238,
           0.5581395348837209,
           0.6140939597315436,
           "1",
           "David Goffin"
          ],
          [
           0.6602870813397129,
           0.6888888888888889,
           0.6538461538461539,
           "1",
           "David Nalbandian"
          ],
          [
           0.5263157894736842,
           0.6363636363636364,
           0.5530973451327433,
           "1",
           "David Wheaton"
          ],
          [
           0.6153846153846154,
           0.6842105263157895,
           0.46774193548387094,
           "1",
           "Dennis Ralston"
          ],
          [
           0.5305343511450382,
           0.5347222222222222,
           0.48672566371681414,
           "1",
           "Dick Crealy"
          ],
          [
           0.6484848484848484,
           0.6060606060606061,
           0.5272727272727272,
           "1",
           "Dick Stockton"
          ],
          [
           0.7446808510638298,
           0.5172413793103449,
           0.6,
           "1",
           "Dominic Thiem"
          ],
          [
           0.7380952380952381,
           0.5,
           0.684931506849315,
           "1",
           "Eddie Dibbs"
          ],
          [
           0.6262626262626263,
           0.5,
           0.6995708154506438,
           "1",
           "Eliot Teltscher"
          ],
          [
           0.5842696629213483,
           0.5135135135135135,
           0.47719298245614034,
           "1",
           "Fabio Fognini"
          ],
          [
           0.48175182481751827,
           0.5714285714285714,
           0.5347826086956522,
           "1",
           "Fabrice Santoro"
          ],
          [
           0.49429657794676807,
           0.6587301587301587,
           0.5055555555555555,
           "1",
           "Feliciano Lopez"
          ],
          [
           0.5161290322580645,
           0.75,
           0.5277777777777778,
           "1",
           "Felix Auger Aliassime"
          ],
          [
           0.7,
           0.6216216216216216,
           0.6102941176470589,
           "1",
           "Fernando Gonzalez"
          ],
          [
           0.610079575596817,
           0.5483870967741935,
           0.5357873210633947,
           "1",
           "Fernando Verdasco"
          ],
          [
           0.5,
           0.6,
           0.4297872340425532,
           "1",
           "Florian Mayer"
          ],
          [
           0.5782608695652174,
           0.5,
           0.4772727272727273,
           "1",
           "Francisco Clavet"
          ],
          [
           0.5625,
           0.676923076923077,
           0.4864864864864865,
           "1",
           "Fred Stolle"
          ],
          [
           0.6037735849056604,
           0.5797101449275363,
           0.6577319587628866,
           "1",
           "Gael Monfils"
          ],
          [
           0.6060606060606061,
           0.5357142857142857,
           0.7388535031847133,
           "1",
           "Gene Mayer"
          ],
          [
           0.5040650406504065,
           0.49137931034482757,
           0.5,
           "1",
           "Geoff Masters"
          ],
          [
           0.4576271186440678,
           0.5555555555555556,
           0.5272108843537415,
           "1",
           "Gilles Muller"
          ],
          [
           0.5658914728682171,
           0.5777777777777777,
           0.5787401574803149,
           "1",
           "Gilles Simon"
          ],
          [
           0.618421052631579,
           0.7171717171717171,
           0.5830903790087464,
           "1",
           "Goran Ivanisevic"
          ],
          [
           0.37037037037037035,
           0.7049180327868853,
           0.5907928388746803,
           "1",
           "Greg Rusedski"
          ],
          [
           0.5867768595041323,
           0.5806451612903226,
           0.6131805157593123,
           "1",
           "Grigor Dimitrov"
          ],
          [
           0.5904761904761905,
           0.5909090909090909,
           0.5536723163841808,
           "1",
           "Guillermo Canas"
          ],
          [
           0.7165775401069518,
           0.5555555555555556,
           0.5862068965517241,
           "1",
           "Guillermo Coria"
          ],
          [
           0.7968936678614098,
           0.7291666666666666,
           0.6918238993710691,
           "1",
           "Guillermo Vilas"
          ],
          [
           0.7011494252873564,
           0.4666666666666667,
           0.6228813559322034,
           "1",
           "Gustavo Kuerten"
          ],
          [
           0.5210526315789473,
           0.5897435897435898,
           0.6074380165289256,
           "1",
           "Guy Forget"
          ],
          [
           0.4230769230769231,
           0.6442953020134228,
           0.5647058823529412,
           "1",
           "Hank Pfister"
          ],
          [
           0.690537084398977,
           0.2857142857142857,
           0.6472727272727272,
           "1",
           "Harold Solomon"
          ],
          [
           0.5773195876288659,
           0.45454545454545453,
           0.5590551181102362,
           "1",
           "Heinz Gunthardt"
          ],
          [
           0.5970149253731343,
           0.6451612903225806,
           0.567741935483871,
           "1",
           "Henri Leconte"
          ],
          [
           0.5,
           0.5142857142857142,
           0.4823529411764706,
           "1",
           "Hicham Arazi"
          ],
          [
           0.5,
           0.48717948717948717,
           0.48325358851674644,
           "1",
           "Hyung Taik Lee"
          ],
          [
           0.5339366515837104,
           0.48484848484848486,
           0.47692307692307695,
           "1",
           "Igor Andreev"
          ],
          [
           0.7833001988071571,
           0.7027027027027027,
           0.7025089605734767,
           "1",
           "Ilie Nastase"
          ],
          [
           0.5934579439252337,
           0.4634146341463415,
           0.4027777777777778,
           "1",
           "Ion Tiriac"
          ],
          [
           0.8103448275862069,
           0.75,
           0.8257261410788381,
           "1",
           "Ivan Lendl"
          ],
          [
           0.5585106382978723,
           0.48,
           0.6034063260340633,
           "1",
           "Ivan Ljubicic"
          ],
          [
           0.42424242424242425,
           0.6293103448275862,
           0.5223214285714286,
           "1",
           "Ivo Karlovic"
          ],
          [
           0.5789473684210527,
           0.5217391304347826,
           0.555045871559633,
           "1",
           "Jack Sock"
          ],
          [
           0.6363636363636364,
           0.524390243902439,
           0.5607476635514018,
           "1",
           "Jaime Fillol"
          ],
          [
           0.5401069518716578,
           0.4166666666666667,
           0.5634920634920635,
           "1",
           "Jaime Yzaga"
          ],
          [
           0.5549738219895288,
           0.5142857142857142,
           0.5551601423487544,
           "1",
           "Jakob Hlasek"
          ],
          [
           0.46,
           0.5161290322580645,
           0.6316964285714286,
           "1",
           "James Blake"
          ],
          [
           0.4842105263157895,
           0.47368421052631576,
           0.5447154471544715,
           "1",
           "Jan Gunnarsson"
          ],
          [
           0.6924882629107981,
           0.6451612903225806,
           0.5225225225225225,
           "1",
           "Jan Kodes"
          ],
          [
           0.5140845070422535,
           0.5277777777777778,
           0.5356037151702786,
           "1",
           "Janko Tipsarevic"
          ],
          [
           0.5609756097560976,
           0.43859649122807015,
           0.5377969762419006,
           "1",
           "Jarkko Nieminen"
          ],
          [
           0.5784313725490197,
           0.6145833333333334,
           0.5194029850746269,
           "1",
           "Jason Stoltenberg"
          ],
          [
           0.5739130434782609,
           0.5555555555555556,
           0.4473684210526316,
           "1",
           "Javier Frana"
          ],
          [
           0.6455696202531646,
           0.5,
           0.6612903225806451,
           "1",
           "Jay Berger"
          ],
          [
           0.5228426395939086,
           0.4827586206896552,
           0.47896440129449835,
           "1",
           "Jeremy Chardy"
          ],
          [
           0.6845238095238095,
           0.6222222222222222,
           0.7094430992736077,
           "1",
           "Jim Courier"
          ],
          [
           0.6108786610878661,
           0.5,
           0.5491071428571429,
           "1",
           "Jimmy Arias"
          ],
          [
           0.7703703703703704,
           0.8207547169811321,
           0.819935691318328,
           "1",
           "Jimmy Connors"
          ],
          [
           0.5638766519823789,
           0.4857142857142857,
           0.5735294117647058,
           "1",
           "Jiri Novak"
          ],
          [
           0.5,
           0.6,
           0.4049586776859504,
           "1",
           "Jiri Vesely"
          ],
          [
           0.6267605633802817,
           0.6933333333333334,
           0.6845493562231759,
           "1",
           "Jo-Wilfried Tsonga"
          ],
          [
           0.6559633027522935,
           0.6216216216216216,
           0.6593406593406593,
           "1",
           "Joakim Nystrom"
          ],
          [
           0.5,
           0.7264957264957265,
           0.6245353159851301,
           "1",
           "Johan Kriek"
          ],
          [
           0.6238244514106583,
           0.5951219512195122,
           0.5747663551401869,
           "1",
           "John Alexander"
          ],
          [
           0.5426356589147286,
           0.6712328767123288,
           0.626,
           "1",
           "John Isner"
          ],
          [
           0.7192982456140351,
           0.8581560283687943,
           0.8100558659217877,
           "1",
           "John McEnroe"
          ],
          [
           0.7169811320754716,
           0.7837837837837838,
           0.7102272727272727,
           "1",
           "John Newcombe"
          ],
          [
           0.4827586206896552,
           0.5964912280701754,
           0.4878048780487805,
           "1",
           "John Sadri"
          ],
          [
           0.4927536231884058,
           0.5,
           0.5844155844155844,
           "1",
           "Jonas Svensson"
          ],
          [
           0.6778169014084507,
           0.5,
           0.5576923076923077,
           "1",
           "Jose Higueras"
          ],
          [
           0.7682619647355163,
           0.5238095238095238,
           0.7096774193548387,
           "1",
           "Jose Luis Clerc"
          ],
          [
           0.7277936962750716,
           0.6122448979591837,
           0.5705128205128205,
           "1",
           "Juan Carlos Ferrero"
          ],
          [
           0.5601851851851852,
           0.6666666666666666,
           0.5409836065573771,
           "1",
           "Juan Gisbert"
          ],
          [
           0.6942148760330579,
           0.6896551724137931,
           0.7228637413394919,
           "1",
           "Juan Martin del Potro"
          ],
          [
           0.5029940119760479,
           0.46875,
           0.5285714285714286,
           "1",
           "Jurgen Fassbender"
          ],
          [
           0.5210084033613446,
           0.527027027027027,
           0.5098039215686274,
           "1",
           "Jurgen Melzer"
          ],
          [
           0.6163934426229508,
           0.4166666666666667,
           0.49107142857142855,
           "1",
           "Karel Novacek"
          ],
          [
           0.5714285714285714,
           0.6666666666666666,
           0.5345911949685535,
           "1",
           "Karen Khachanov"
          ],
          [
           0.545,
           0.5416666666666666,
           0.5625,
           "1",
           "Karl Meiler"
          ],
          [
           0.475,
           0.5967741935483871,
           0.5515695067264574,
           "1",
           "Karol Kucera"
          ],
          [
           0.6879432624113475,
           0.6060606060606061,
           0.6750629722921915,
           "1",
           "Kei Nishikori"
          ],
          [
           0.8029197080291971,
           0.7894736842105263,
           0.7315789473684211,
           "1",
           "Ken Rosewall"
          ],
          [
           0.5277777777777778,
           0.5909090909090909,
           0.6119402985074627,
           "1",
           "Kevin Anderson"
          ],
          [
           0.51875,
           0.5675675675675675,
           0.45528455284552843,
           "1",
           "Kim Warwick"
          ],
          [
           0.6363636363636364,
           0.7543859649122807,
           0.7024482109227872,
           "1",
           "Lleyton Hewitt"
          ],
          [
           0.5555555555555556,
           0.5806451612903226,
           0.541095890410959,
           "1",
           "Lucas Pouille"
          ],
          [
           0.649390243902439,
           0.5,
           0.546583850931677,
           "1",
           "Magnus Gustafsson"
          ],
          [
           0.5699481865284974,
           0.5581395348837209,
           0.558252427184466,
           "1",
           "Magnus Larsson"
          ],
          [
           0.6055555555555555,
           0.4666666666666667,
           0.5778894472361809,
           "1",
           "Magnus Norman"
          ],
          [
           0.35714285714285715,
           0.5932203389830508,
           0.6388888888888888,
           "1",
           "Mal Anderson"
          ],
          [
           0.5657894736842105,
           0.5531914893617021,
           0.6016949152542372,
           "1",
           "Malivai Washington"
          ],
          [
           0.7671232876712328,
           0.5740740740740741,
           0.5684210526315789,
           "1",
           "Manuel Orantes"
          ],
          [
           0.7317073170731707,
           0.6428571428571429,
           0.5625,
           "1",
           "Manuel Santana"
          ],
          [
           0.5960591133004927,
           0.5777777777777777,
           0.6033519553072626,
           "1",
           "Marat Safin"
          ],
          [
           0.5042735042735043,
           0.4745762711864407,
           0.5436241610738255,
           "1",
           "Marc Rosset"
          ],
          [
           0.688212927756654,
           0.5,
           0.6666666666666666,
           "1",
           "Marcelo Rios"
          ],
          [
           0.4318181818181818,
           0.5789473684210527,
           0.5727699530516432,
           "1",
           "Marcos Baghdatis"
          ],
          [
           0.46153846153846156,
           0.6388888888888888,
           0.58994708994709,
           "1",
           "Mardy Fish"
          ],
          [
           0.6188118811881188,
           0.6868686868686869,
           0.6497975708502024,
           "1",
           "Marin Cilic"
          ],
          [
           0.5737704918032787,
           0.7358490566037735,
           0.578125,
           "1",
           "Mario Ancic"
          ],
          [
           0.5620437956204379,
           0.6153846153846154,
           0.5670731707317073,
           "1",
           "Mark Cox"
          ],
          [
           0.524390243902439,
           0.5789473684210527,
           0.5058823529411764,
           "1",
           "Mark Dickson"
          ],
          [
           0.4421768707482993,
           0.6374269005847953,
           0.46788990825688076,
           "1",
           "Mark Edmondson"
          ],
          [
           0.5591397849462365,
           0.6891891891891891,
           0.5993377483443708,
           "1",
           "Mark Philippoussis"
          ],
          [
           0.6637931034482759,
           0.4444444444444444,
           0.5543478260869565,
           "1",
           "Martin Jaite"
          ],
          [
           0.6527777777777778,
           0.6213592233009708,
           0.5833333333333334,
           "1",
           "Marty Riessen"
          ],
          [
           0.7667638483965015,
           0.7424242424242424,
           0.7153846153846154,
           "1",
           "Mats Wilander"
          ],
          [
           0.6666666666666666,
           0.7222222222222222,
           0.4838709677419355,
           "1",
           "Matteo Berrettini"
          ],
          [
           0.577922077922078,
           0.47058823529411764,
           0.5606060606060606,
           "1",
           "Mel Purcell"
          ],
          [
           0.6445783132530121,
           0.5454545454545454,
           0.7044673539518901,
           "1",
           "Michael Chang"
          ],
          [
           0.6687898089171974,
           0.782051282051282,
           0.6630434782608695,
           "1",
           "Michael Stich"
          ],
          [
           0.475,
           0.6666666666666666,
           0.6097560975609756,
           "1",
           "Mikael Pernfors"
          ],
          [
           0.6470588235294118,
           0.5,
           0.4482758620689655,
           "1",
           "Mike Belkin"
          ],
          [
           0.5114503816793893,
           0.5648148148148148,
           0.5436105476673428,
           "1",
           "Mikhail Youzhny"
          ],
          [
           0.6310679611650486,
           0.6805555555555556,
           0.6827956989247311,
           "1",
           "Milos Raonic"
          ],
          [
           0.6666666666666666,
           0.6666666666666666,
           0.7403846153846154,
           "1",
           "Miloslav Mecir"
          ],
          [
           0.5777777777777777,
           0.6111111111111112,
           0.6589595375722543,
           "1",
           "Nick Kyrgios"
          ],
          [
           0.6565420560747663,
           0.4666666666666667,
           0.4744186046511628,
           "1",
           "Nicolas Almagro"
          ],
          [
           0.41509433962264153,
           0.6216216216216216,
           0.6111111111111112,
           "1",
           "Nicolas Escude"
          ],
          [
           0.44715447154471544,
           0.5945945945945946,
           0.6037234042553191,
           "1",
           "Nicolas Kiefer"
          ],
          [
           0.5449438202247191,
           0.6973684210526315,
           0.5526315789473685,
           "1",
           "Nikola Pilic"
          ],
          [
           0.8041958041958042,
           0.8407079646017699,
           0.8429752066115702,
           "1",
           "Novak Djokovic"
          ],
          [
           0.5166051660516605,
           0.6027397260273972,
           0.5341614906832298,
           "1",
           "Onny Parun"
          ],
          [
           0.4,
           0.7279411764705882,
           0.5793650793650794,
           "1",
           "Pat Cash"
          ],
          [
           0.5026455026455027,
           0.6122448979591837,
           0.4745762711864407,
           "1",
           "Patrice Dominguez"
          ],
          [
           0.5652173913043478,
           0.5,
           0.44680851063829785,
           "1",
           "Patrick Proisy"
          ],
          [
           0.5142857142857142,
           0.7474747474747475,
           0.664576802507837,
           "1",
           "Patrick Rafter"
          ],
          [
           0.4666666666666667,
           0.6190476190476191,
           0.47580645161290325,
           "1",
           "Paul Annacone"
          ],
          [
           0.46099290780141844,
           0.5283018867924528,
           0.5302325581395348,
           "1",
           "Paul Haarhuis"
          ],
          [
           0.5045045045045045,
           0.5636363636363636,
           0.47297297297297297,
           "1",
           "Paul Mcnamee"
          ],
          [
           0.625,
           0.8360655737704918,
           0.8014981273408239,
           "1",
           "Pete Sampras"
          ],
          [
           0.5119047619047619,
           0.49019607843137253,
           0.5294117647058824,
           "1",
           "Peter Feigl"
          ],
          [
           0.6502732240437158,
           0.43859649122807015,
           0.5128205128205128,
           "1",
           "Peter Mcnamara"
          ],
          [
           0.5769230769230769,
           0.6521739130434783,
           0.6305970149253731,
           "1",
           "Petr Korda"
          ],
          [
           0.5333333333333333,
           0.6495327102803738,
           0.5153374233128835,
           "1",
           "Phil Dent"
          ],
          [
           0.5619047619047619,
           0.5979381443298969,
           0.5331807780320366,
           "1",
           "Philipp Kohlschreiber"
          ],
          [
           0.5645161290322581,
           0.5576923076923077,
           0.48148148148148145,
           "1",
           "Pierre Barthes"
          ],
          [
           0.5489130434782609,
           0.589041095890411,
           0.5555555555555556,
           "1",
           "Radek Stepanek"
          ],
          [
           0.9144602851323829,
           0.7802197802197802,
           0.7765451664025357,
           "1",
           "Rafael Nadal"
          ],
          [
           0.7267080745341615,
           0.6533333333333333,
           0.6604477611940298,
           "1",
           "Raul Ramirez"
          ],
          [
           0.5357142857142857,
           0.5785123966942148,
           0.4742268041237113,
           "1",
           "Ray Ruffels"
          ],
          [
           0.6147186147186147,
           0.6666666666666666,
           0.6172607879924953,
           "1",
           "Richard Gasquet"
          ],
          [
           0.5984848484848485,
           0.7078651685393258,
           0.6666666666666666,
           "1",
           "Richard Krajicek"
          ],
          [
           0.631578947368421,
           0.6595744680851063,
           0.7763157894736842,
           "1",
           "Richard Pancho Gonzales"
          ],
          [
           0.5111111111111111,
           0.5735294117647058,
           0.5512820512820513,
           "1",
           "Richey Reneberg"
          ],
          [
           0.5363636363636364,
           0.6407766990291263,
           0.6016260162601627,
           "1",
           "Robert Lutz"
          ],
          [
           0.59375,
           0.7111111111111111,
           0.6352201257861635,
           "1",
           "Roberto Bautista Agut"
          ],
          [
           0.6231884057971014,
           0.6046511627906976,
           0.6446886446886447,
           "1",
           "Robin Soderling"
          ],
          [
           0.7769230769230769,
           0.84375,
           0.8296703296703297,
           "1",
           "Rod Laver"
          ],
          [
           0.7593220338983051,
           0.875,
           0.8326271186440678,
           "1",
           "Roger Federer"
          ],
          [
           0.5641025641025641,
           0.6290322580645161,
           0.5669291338582677,
           "1",
           "Roger Taylor"
          ],
          [
           0.6298701298701299,
           0.7341772151898734,
           0.6750788643533123,
           "1",
           "Roscoe Tanner"
          ],
          [
           0.47540983606557374,
           0.5611510791366906,
           0.5,
           "1",
           "Ross Case"
          ],
          [
           0.6493506493506493,
           0.6779661016949152,
           0.5816326530612245,
           "1",
           "Roy Emerson"
          ],
          [
           0.4473684210526316,
           0.6415094339622641,
           0.5619469026548672,
           "1",
           "Sam Querrey"
          ],
          [
           0.6,
           0.627906976744186,
           0.6460674157303371,
           "1",
           "Sandy Mayer"
          ],
          [
           0.5827814569536424,
           0.6533333333333333,
           0.5635179153094463,
           "1",
           "Sebastien Grosjean"
          ],
          [
           0.6867749419953596,
           0.5,
           0.5536723163841808,
           "1",
           "Sergi Bruguera"
          ],
          [
           0.5612244897959183,
           0.475,
           0.5987261146496815,
           "1",
           "Shlomo Glickstein"
          ],
          [
           0.4642857142857143,
           0.6103896103896104,
           0.527972027972028,
           "1",
           "Sjeng Schalken"
          ],
          [
           0.5,
           0.6470588235294118,
           0.5126050420168067,
           "1",
           "Slobodan Zivojinovic"
          ],
          [
           0.6909090909090909,
           0.7469879518072289,
           0.7064220183486238,
           "1",
           "Stan Smith"
          ],
          [
           0.6630824372759857,
           0.5,
           0.6376811594202898,
           "1",
           "Stan Wawrinka"
          ],
          [
           0.6766169154228856,
           0.7857142857142857,
           0.7865853658536586,
           "1",
           "Stefan Edberg"
          ],
          [
           0.7037037037037037,
           0.5333333333333333,
           0.624113475177305,
           "1",
           "Stefanos Tsitsipas"
          ],
          [
           0.4915254237288136,
           0.5614035087719298,
           0.4888888888888889,
           "1",
           "Steve Johnson"
          ],
          [
           0.5697674418604651,
           0.48148148148148145,
           0.5220588235294118,
           "1",
           "Terry Moor"
          ],
          [
           0.4793388429752066,
           0.4878048780487805,
           0.6397379912663755,
           "1",
           "Thomas Enqvist"
          ],
          [
           0.7661870503597122,
           0.4444444444444444,
           0.6371308016877637,
           "1",
           "Thomas Muster"
          ],
          [
           0.46153846153846156,
           0.6422018348623854,
           0.5681818181818182,
           "1",
           "Tim Gullikson"
          ],
          [
           0.5294117647058824,
           0.7142857142857143,
           0.6517647058823529,
           "1",
           "Tim Henman"
          ],
          [
           0.2962962962962963,
           0.7086614173228346,
           0.6064814814814815,
           "1",
           "Tim Mayotte"
          ],
          [
           0.4657534246575342,
           0.5447761194029851,
           0.5315985130111525,
           "1",
           "Tim Wilkison"
          ],
          [
           0.5775862068965517,
           0.7093023255813954,
           0.6462395543175488,
           "1",
           "Todd Martin"
          ],
          [
           0.5483870967741935,
           0.5726495726495726,
           0.596244131455399,
           "1",
           "Tom Gorman"
          ],
          [
           0.45454545454545453,
           0.5520833333333334,
           0.5,
           "1",
           "Tom Gullikson"
          ],
          [
           0.7166666666666667,
           0.7559055118110236,
           0.6813725490196079,
           "1",
           "Tom Okker"
          ],
          [
           0.6370967741935484,
           0.6868686868686869,
           0.6482982171799028,
           "1",
           "Tomas Berdych"
          ],
          [
           0.6538461538461539,
           0.5294117647058824,
           0.6075268817204301,
           "1",
           "Tomas Smid"
          ],
          [
           0.5929203539823009,
           0.6263736263736264,
           0.6316758747697975,
           "1",
           "Tommy Haas"
          ],
          [
           0.6624365482233503,
           0.5535714285714286,
           0.5533980582524272,
           "1",
           "Tommy Robredo"
          ],
          [
           0.7012987012987013,
           0.7763975155279503,
           0.6,
           "1",
           "Tony Roche"
          ],
          [
           0.5631067961165048,
           0.5,
           0.48148148148148145,
           "1",
           "Ulrich Pinner"
          ],
          [
           0.41379310344827586,
           0.5675675675675675,
           0.5428571428571428,
           "1",
           "Victor Amaya"
          ],
          [
           0.613882863340564,
           0.5641025641025641,
           0.5526315789473685,
           "1",
           "Victor Pecci"
          ],
          [
           0.5362318840579711,
           0.6482758620689655,
           0.5343137254901961,
           "1",
           "Vijay Amritraj"
          ],
          [
           0.5107913669064749,
           0.5161290322580645,
           0.5300546448087432,
           "1",
           "Viktor Troicki"
          ],
          [
           0.7105263157894737,
           0.6781609195402298,
           0.7323232323232324,
           "1",
           "Vitas Gerulaitis"
          ],
          [
           0.5769230769230769,
           0.6601941747572816,
           0.6332622601279317,
           "1",
           "Wayne Ferreira"
          ],
          [
           0.6567567567567567,
           0.5897435897435898,
           0.6408839779005525,
           "1",
           "Wojtek Fibak"
          ],
          [
           0.49572649572649574,
           0.625,
           0.4940119760479042,
           "1",
           "Xavier Malisse"
          ],
          [
           0.7379310344827587,
           0.45454545454545453,
           0.7192982456140351,
           "1",
           "Yannick Noah"
          ],
          [
           0.5778688524590164,
           0.696969696969697,
           0.6770833333333334,
           "1",
           "Yevgeny Kafelnikov"
          ],
          [
           0.5833333333333334,
           0.5,
           0.5026737967914439,
           "1",
           "Younes El Aynaoui"
          ],
          [
           0.6309794988610479,
           0.42857142857142855,
           0.4939759036144578,
           "1",
           "Zeljko Franulovic"
          ]
         ],
         "hoverlabel": {
          "namelength": 0
         },
         "hovertemplate": "label=%{customdata[3]}<br>Clay_record=%{customdata[0]}<br>Grass_record=%{customdata[1]}<br>Hard_record=%{customdata[2]}<br>player_name=%{customdata[4]}",
         "legendgroup": "1",
         "marker": {
          "color": "#636efa",
          "symbol": "circle"
         },
         "mode": "markers",
         "name": "1",
         "scene": "scene",
         "showlegend": true,
         "type": "scatter3d",
         "x": [
          0.583732057416268,
          0.6928571428571428,
          0.6621315192743764,
          0.631578947368421,
          0.4,
          0.7,
          0.49206349206349204,
          0.5,
          0.575,
          0.7272727272727273,
          0.4962121212121212,
          0.66796875,
          0.545,
          0.7142857142857143,
          0.7021276595744681,
          0.5196850393700787,
          0.5813953488372093,
          0.6883116883116883,
          0.6386554621848739,
          0.47540983606557374,
          0.7079646017699115,
          0.6945054945054945,
          0.5161290322580645,
          0.41975308641975306,
          0.8532110091743119,
          0.6223776223776224,
          0.6594594594594595,
          0.5684210526315789,
          0.5,
          0.42857142857142855,
          0.48951048951048953,
          0.6311787072243346,
          0.5204081632653061,
          0.6561264822134387,
          0.7033195020746889,
          0.5363636363636364,
          0.47619047619047616,
          0.5643564356435643,
          0.45544554455445546,
          0.6710526315789473,
          0.6818181818181818,
          0.7010869565217391,
          0.48026315789473684,
          0.35714285714285715,
          0.5423728813559322,
          0.7050209205020921,
          0.6101694915254238,
          0.6602870813397129,
          0.5263157894736842,
          0.6153846153846154,
          0.5305343511450382,
          0.6484848484848484,
          0.7446808510638298,
          0.7380952380952381,
          0.6262626262626263,
          0.5842696629213483,
          0.48175182481751827,
          0.49429657794676807,
          0.5161290322580645,
          0.7,
          0.610079575596817,
          0.5,
          0.5782608695652174,
          0.5625,
          0.6037735849056604,
          0.6060606060606061,
          0.5040650406504065,
          0.4576271186440678,
          0.5658914728682171,
          0.618421052631579,
          0.37037037037037035,
          0.5867768595041323,
          0.5904761904761905,
          0.7165775401069518,
          0.7968936678614098,
          0.7011494252873564,
          0.5210526315789473,
          0.4230769230769231,
          0.690537084398977,
          0.5773195876288659,
          0.5970149253731343,
          0.5,
          0.5,
          0.5339366515837104,
          0.7833001988071571,
          0.5934579439252337,
          0.8103448275862069,
          0.5585106382978723,
          0.42424242424242425,
          0.5789473684210527,
          0.6363636363636364,
          0.5401069518716578,
          0.5549738219895288,
          0.46,
          0.4842105263157895,
          0.6924882629107981,
          0.5140845070422535,
          0.5609756097560976,
          0.5784313725490197,
          0.5739130434782609,
          0.6455696202531646,
          0.5228426395939086,
          0.6845238095238095,
          0.6108786610878661,
          0.7703703703703704,
          0.5638766519823789,
          0.5,
          0.6267605633802817,
          0.6559633027522935,
          0.5,
          0.6238244514106583,
          0.5426356589147286,
          0.7192982456140351,
          0.7169811320754716,
          0.4827586206896552,
          0.4927536231884058,
          0.6778169014084507,
          0.7682619647355163,
          0.7277936962750716,
          0.5601851851851852,
          0.6942148760330579,
          0.5029940119760479,
          0.5210084033613446,
          0.6163934426229508,
          0.5714285714285714,
          0.545,
          0.475,
          0.6879432624113475,
          0.8029197080291971,
          0.5277777777777778,
          0.51875,
          0.6363636363636364,
          0.5555555555555556,
          0.649390243902439,
          0.5699481865284974,
          0.6055555555555555,
          0.35714285714285715,
          0.5657894736842105,
          0.7671232876712328,
          0.7317073170731707,
          0.5960591133004927,
          0.5042735042735043,
          0.688212927756654,
          0.4318181818181818,
          0.46153846153846156,
          0.6188118811881188,
          0.5737704918032787,
          0.5620437956204379,
          0.524390243902439,
          0.4421768707482993,
          0.5591397849462365,
          0.6637931034482759,
          0.6527777777777778,
          0.7667638483965015,
          0.6666666666666666,
          0.577922077922078,
          0.6445783132530121,
          0.6687898089171974,
          0.475,
          0.6470588235294118,
          0.5114503816793893,
          0.6310679611650486,
          0.6666666666666666,
          0.5777777777777777,
          0.6565420560747663,
          0.41509433962264153,
          0.44715447154471544,
          0.5449438202247191,
          0.8041958041958042,
          0.5166051660516605,
          0.4,
          0.5026455026455027,
          0.5652173913043478,
          0.5142857142857142,
          0.4666666666666667,
          0.46099290780141844,
          0.5045045045045045,
          0.625,
          0.5119047619047619,
          0.6502732240437158,
          0.5769230769230769,
          0.5333333333333333,
          0.5619047619047619,
          0.5645161290322581,
          0.5489130434782609,
          0.9144602851323829,
          0.7267080745341615,
          0.5357142857142857,
          0.6147186147186147,
          0.5984848484848485,
          0.631578947368421,
          0.5111111111111111,
          0.5363636363636364,
          0.59375,
          0.6231884057971014,
          0.7769230769230769,
          0.7593220338983051,
          0.5641025641025641,
          0.6298701298701299,
          0.47540983606557374,
          0.6493506493506493,
          0.4473684210526316,
          0.6,
          0.5827814569536424,
          0.6867749419953596,
          0.5612244897959183,
          0.4642857142857143,
          0.5,
          0.6909090909090909,
          0.6630824372759857,
          0.6766169154228856,
          0.7037037037037037,
          0.4915254237288136,
          0.5697674418604651,
          0.4793388429752066,
          0.7661870503597122,
          0.46153846153846156,
          0.5294117647058824,
          0.2962962962962963,
          0.4657534246575342,
          0.5775862068965517,
          0.5483870967741935,
          0.45454545454545453,
          0.7166666666666667,
          0.6370967741935484,
          0.6538461538461539,
          0.5929203539823009,
          0.6624365482233503,
          0.7012987012987013,
          0.5631067961165048,
          0.41379310344827586,
          0.613882863340564,
          0.5362318840579711,
          0.5107913669064749,
          0.7105263157894737,
          0.5769230769230769,
          0.6567567567567567,
          0.49572649572649574,
          0.7379310344827587,
          0.5778688524590164,
          0.5833333333333334,
          0.6309794988610479
         ],
         "y": [
          0.5714285714285714,
          0.5416666666666666,
          0.36363636363636365,
          0.7863247863247863,
          0.582089552238806,
          0.631578947368421,
          0.5348837209302325,
          0.5581395348837209,
          0.5384615384615384,
          0.7352941176470589,
          0.5660377358490566,
          0.47058823529411764,
          0.4489795918367347,
          0.7142857142857143,
          0.5555555555555556,
          0.5147058823529411,
          0.5714285714285714,
          0.8307692307692308,
          0.7981651376146789,
          0.5428571428571428,
          0.7638888888888888,
          0.5185185185185185,
          0.5,
          0.59,
          0.8470588235294118,
          0.6376811594202898,
          0.8226950354609929,
          0.5238095238095238,
          0.5535714285714286,
          0.5932203389830508,
          0.5531914893617021,
          0.6666666666666666,
          0.6466165413533834,
          0.5681818181818182,
          0.4642857142857143,
          0.5974025974025974,
          0.6179775280898876,
          0.5420560747663551,
          0.5185185185185185,
          0.7325581395348837,
          0.6493506493506493,
          0.6557377049180327,
          0.5802469135802469,
          0.6,
          0.4666666666666667,
          0.6285714285714286,
          0.5581395348837209,
          0.6888888888888889,
          0.6363636363636364,
          0.6842105263157895,
          0.5347222222222222,
          0.6060606060606061,
          0.5172413793103449,
          0.5,
          0.5,
          0.5135135135135135,
          0.5714285714285714,
          0.6587301587301587,
          0.75,
          0.6216216216216216,
          0.5483870967741935,
          0.6,
          0.5,
          0.676923076923077,
          0.5797101449275363,
          0.5357142857142857,
          0.49137931034482757,
          0.5555555555555556,
          0.5777777777777777,
          0.7171717171717171,
          0.7049180327868853,
          0.5806451612903226,
          0.5909090909090909,
          0.5555555555555556,
          0.7291666666666666,
          0.4666666666666667,
          0.5897435897435898,
          0.6442953020134228,
          0.2857142857142857,
          0.45454545454545453,
          0.6451612903225806,
          0.5142857142857142,
          0.48717948717948717,
          0.48484848484848486,
          0.7027027027027027,
          0.4634146341463415,
          0.75,
          0.48,
          0.6293103448275862,
          0.5217391304347826,
          0.524390243902439,
          0.4166666666666667,
          0.5142857142857142,
          0.5161290322580645,
          0.47368421052631576,
          0.6451612903225806,
          0.5277777777777778,
          0.43859649122807015,
          0.6145833333333334,
          0.5555555555555556,
          0.5,
          0.4827586206896552,
          0.6222222222222222,
          0.5,
          0.8207547169811321,
          0.4857142857142857,
          0.6,
          0.6933333333333334,
          0.6216216216216216,
          0.7264957264957265,
          0.5951219512195122,
          0.6712328767123288,
          0.8581560283687943,
          0.7837837837837838,
          0.5964912280701754,
          0.5,
          0.5,
          0.5238095238095238,
          0.6122448979591837,
          0.6666666666666666,
          0.6896551724137931,
          0.46875,
          0.527027027027027,
          0.4166666666666667,
          0.6666666666666666,
          0.5416666666666666,
          0.5967741935483871,
          0.6060606060606061,
          0.7894736842105263,
          0.5909090909090909,
          0.5675675675675675,
          0.7543859649122807,
          0.5806451612903226,
          0.5,
          0.5581395348837209,
          0.4666666666666667,
          0.5932203389830508,
          0.5531914893617021,
          0.5740740740740741,
          0.6428571428571429,
          0.5777777777777777,
          0.4745762711864407,
          0.5,
          0.5789473684210527,
          0.6388888888888888,
          0.6868686868686869,
          0.7358490566037735,
          0.6153846153846154,
          0.5789473684210527,
          0.6374269005847953,
          0.6891891891891891,
          0.4444444444444444,
          0.6213592233009708,
          0.7424242424242424,
          0.7222222222222222,
          0.47058823529411764,
          0.5454545454545454,
          0.782051282051282,
          0.6666666666666666,
          0.5,
          0.5648148148148148,
          0.6805555555555556,
          0.6666666666666666,
          0.6111111111111112,
          0.4666666666666667,
          0.6216216216216216,
          0.5945945945945946,
          0.6973684210526315,
          0.8407079646017699,
          0.6027397260273972,
          0.7279411764705882,
          0.6122448979591837,
          0.5,
          0.7474747474747475,
          0.6190476190476191,
          0.5283018867924528,
          0.5636363636363636,
          0.8360655737704918,
          0.49019607843137253,
          0.43859649122807015,
          0.6521739130434783,
          0.6495327102803738,
          0.5979381443298969,
          0.5576923076923077,
          0.589041095890411,
          0.7802197802197802,
          0.6533333333333333,
          0.5785123966942148,
          0.6666666666666666,
          0.7078651685393258,
          0.6595744680851063,
          0.5735294117647058,
          0.6407766990291263,
          0.7111111111111111,
          0.6046511627906976,
          0.84375,
          0.875,
          0.6290322580645161,
          0.7341772151898734,
          0.5611510791366906,
          0.6779661016949152,
          0.6415094339622641,
          0.627906976744186,
          0.6533333333333333,
          0.5,
          0.475,
          0.6103896103896104,
          0.6470588235294118,
          0.7469879518072289,
          0.5,
          0.7857142857142857,
          0.5333333333333333,
          0.5614035087719298,
          0.48148148148148145,
          0.4878048780487805,
          0.4444444444444444,
          0.6422018348623854,
          0.7142857142857143,
          0.7086614173228346,
          0.5447761194029851,
          0.7093023255813954,
          0.5726495726495726,
          0.5520833333333334,
          0.7559055118110236,
          0.6868686868686869,
          0.5294117647058824,
          0.6263736263736264,
          0.5535714285714286,
          0.7763975155279503,
          0.5,
          0.5675675675675675,
          0.5641025641025641,
          0.6482758620689655,
          0.5161290322580645,
          0.6781609195402298,
          0.6601941747572816,
          0.5897435897435898,
          0.625,
          0.45454545454545453,
          0.696969696969697,
          0.5,
          0.42857142857142855
         ],
         "z": [
          0.6513761467889908,
          0.5180722891566265,
          0.5611814345991561,
          0.7272727272727273,
          0.5630630630630631,
          0.6531531531531531,
          0.531496062992126,
          0.4537037037037037,
          0.5700483091787439,
          0.7889182058047494,
          0.4623115577889447,
          0.5612903225806452,
          0.4956896551724138,
          0.6103896103896104,
          0.6439024390243903,
          0.5612244897959183,
          0.6024096385542169,
          0.7774030354131535,
          0.75177304964539,
          0.5379746835443038,
          0.7617021276595745,
          0.52,
          0.4618320610687023,
          0.5572916666666666,
          0.7533333333333333,
          0.5684210526315789,
          0.7586206896551724,
          0.5163043478260869,
          0.6856540084388185,
          0.5,
          0.52,
          0.7146892655367232,
          0.5927835051546392,
          0.6216216216216216,
          0.5955056179775281,
          0.5551470588235294,
          0.45714285714285713,
          0.5217391304347826,
          0.5354330708661418,
          0.6793893129770993,
          0.6449704142011834,
          0.7029702970297029,
          0.48044692737430167,
          0.7087912087912088,
          0.5555555555555556,
          0.6352087114337568,
          0.6140939597315436,
          0.6538461538461539,
          0.5530973451327433,
          0.46774193548387094,
          0.48672566371681414,
          0.5272727272727272,
          0.6,
          0.684931506849315,
          0.6995708154506438,
          0.47719298245614034,
          0.5347826086956522,
          0.5055555555555555,
          0.5277777777777778,
          0.6102941176470589,
          0.5357873210633947,
          0.4297872340425532,
          0.4772727272727273,
          0.4864864864864865,
          0.6577319587628866,
          0.7388535031847133,
          0.5,
          0.5272108843537415,
          0.5787401574803149,
          0.5830903790087464,
          0.5907928388746803,
          0.6131805157593123,
          0.5536723163841808,
          0.5862068965517241,
          0.6918238993710691,
          0.6228813559322034,
          0.6074380165289256,
          0.5647058823529412,
          0.6472727272727272,
          0.5590551181102362,
          0.567741935483871,
          0.4823529411764706,
          0.48325358851674644,
          0.47692307692307695,
          0.7025089605734767,
          0.4027777777777778,
          0.8257261410788381,
          0.6034063260340633,
          0.5223214285714286,
          0.555045871559633,
          0.5607476635514018,
          0.5634920634920635,
          0.5551601423487544,
          0.6316964285714286,
          0.5447154471544715,
          0.5225225225225225,
          0.5356037151702786,
          0.5377969762419006,
          0.5194029850746269,
          0.4473684210526316,
          0.6612903225806451,
          0.47896440129449835,
          0.7094430992736077,
          0.5491071428571429,
          0.819935691318328,
          0.5735294117647058,
          0.4049586776859504,
          0.6845493562231759,
          0.6593406593406593,
          0.6245353159851301,
          0.5747663551401869,
          0.626,
          0.8100558659217877,
          0.7102272727272727,
          0.4878048780487805,
          0.5844155844155844,
          0.5576923076923077,
          0.7096774193548387,
          0.5705128205128205,
          0.5409836065573771,
          0.7228637413394919,
          0.5285714285714286,
          0.5098039215686274,
          0.49107142857142855,
          0.5345911949685535,
          0.5625,
          0.5515695067264574,
          0.6750629722921915,
          0.7315789473684211,
          0.6119402985074627,
          0.45528455284552843,
          0.7024482109227872,
          0.541095890410959,
          0.546583850931677,
          0.558252427184466,
          0.5778894472361809,
          0.6388888888888888,
          0.6016949152542372,
          0.5684210526315789,
          0.5625,
          0.6033519553072626,
          0.5436241610738255,
          0.6666666666666666,
          0.5727699530516432,
          0.58994708994709,
          0.6497975708502024,
          0.578125,
          0.5670731707317073,
          0.5058823529411764,
          0.46788990825688076,
          0.5993377483443708,
          0.5543478260869565,
          0.5833333333333334,
          0.7153846153846154,
          0.4838709677419355,
          0.5606060606060606,
          0.7044673539518901,
          0.6630434782608695,
          0.6097560975609756,
          0.4482758620689655,
          0.5436105476673428,
          0.6827956989247311,
          0.7403846153846154,
          0.6589595375722543,
          0.4744186046511628,
          0.6111111111111112,
          0.6037234042553191,
          0.5526315789473685,
          0.8429752066115702,
          0.5341614906832298,
          0.5793650793650794,
          0.4745762711864407,
          0.44680851063829785,
          0.664576802507837,
          0.47580645161290325,
          0.5302325581395348,
          0.47297297297297297,
          0.8014981273408239,
          0.5294117647058824,
          0.5128205128205128,
          0.6305970149253731,
          0.5153374233128835,
          0.5331807780320366,
          0.48148148148148145,
          0.5555555555555556,
          0.7765451664025357,
          0.6604477611940298,
          0.4742268041237113,
          0.6172607879924953,
          0.6666666666666666,
          0.7763157894736842,
          0.5512820512820513,
          0.6016260162601627,
          0.6352201257861635,
          0.6446886446886447,
          0.8296703296703297,
          0.8326271186440678,
          0.5669291338582677,
          0.6750788643533123,
          0.5,
          0.5816326530612245,
          0.5619469026548672,
          0.6460674157303371,
          0.5635179153094463,
          0.5536723163841808,
          0.5987261146496815,
          0.527972027972028,
          0.5126050420168067,
          0.7064220183486238,
          0.6376811594202898,
          0.7865853658536586,
          0.624113475177305,
          0.4888888888888889,
          0.5220588235294118,
          0.6397379912663755,
          0.6371308016877637,
          0.5681818181818182,
          0.6517647058823529,
          0.6064814814814815,
          0.5315985130111525,
          0.6462395543175488,
          0.596244131455399,
          0.5,
          0.6813725490196079,
          0.6482982171799028,
          0.6075268817204301,
          0.6316758747697975,
          0.5533980582524272,
          0.6,
          0.48148148148148145,
          0.5428571428571428,
          0.5526315789473685,
          0.5343137254901961,
          0.5300546448087432,
          0.7323232323232324,
          0.6332622601279317,
          0.6408839779005525,
          0.4940119760479042,
          0.7192982456140351,
          0.6770833333333334,
          0.5026737967914439,
          0.4939759036144578
         ]
        },
        {
         "customdata": [
          [
           0.25,
           0.5903614457831325,
           0.46511627906976744,
           "2",
           "Adrian Mannarino"
          ],
          [
           0.42857142857142855,
           0.3902439024390244,
           0.39156626506024095,
           "2",
           "Alejandro Falla"
          ],
          [
           0.3877551020408163,
           0.5142857142857142,
           0.45132743362831856,
           "2",
           "Alex Antonitsch"
          ],
          [
           0.14285714285714285,
           0.44,
           0.41007194244604317,
           "2",
           "Alex Bogomolov Jr"
          ],
          [
           0.15384615384615385,
           0.4,
           0.6428571428571429,
           "2",
           "Alex De Minaur"
          ],
          [
           0.3225806451612903,
           0.41935483870967744,
           0.42857142857142855,
           "2",
           "Alex Obrien"
          ],
          [
           0.2916666666666667,
           0.36363636363636365,
           0.358695652173913,
           "2",
           "Alexander Mronz"
          ],
          [
           0.19230769230769232,
           0.631578947368421,
           0.36585365853658536,
           "2",
           "Alexander Popp"
          ],
          [
           0.2708333333333333,
           0.5737704918032787,
           0.6261127596439169,
           "2",
           "Amos Mansdorf"
          ],
          [
           0.3595505617977528,
           0.38636363636363635,
           0.35802469135802467,
           "2",
           "Anand Amritraj"
          ],
          [
           0.27906976744186046,
           0.37037037037037035,
           0.4126984126984127,
           "2",
           "Andre Sa"
          ],
          [
           0.36363636363636365,
           0.5,
           0.3684210526315789,
           "2",
           "Andreas Beck"
          ],
          [
           0.47619047619047616,
           0.5,
           0.37037037037037035,
           "2",
           "Andreas Maurer"
          ],
          [
           0.3076923076923077,
           0.5,
           0.32967032967032966,
           "2",
           "Andrei Olhovskiy"
          ],
          [
           0.3448275862068966,
           0.4634146341463415,
           0.40594059405940597,
           "2",
           "Antony Dupuis"
          ],
          [
           0.4083333333333333,
           0.5376344086021505,
           0.5071225071225072,
           "2",
           "Arnaud Clement"
          ],
          [
           0.3684210526315789,
           0.5,
           0.4166666666666667,
           "2",
           "Ben Testerman"
          ],
          [
           0.24444444444444444,
           0.5454545454545454,
           0.4061302681992337,
           "2",
           "Benjamin Becker"
          ],
          [
           0.3958333333333333,
           0.5,
           0.39285714285714285,
           "2",
           "Bernard Fritz"
          ],
          [
           0.4166666666666667,
           0.42857142857142855,
           0.625,
           "2",
           "Bernard Mignot"
          ],
          [
           0.3902439024390244,
           0.5142857142857142,
           0.5095541401273885,
           "2",
           "Bernard Mitton"
          ],
          [
           0.3230769230769231,
           0.5428571428571428,
           0.5384615384615384,
           "2",
           "Bernard Tomic"
          ],
          [
           0.4716981132075472,
           0.5945945945945946,
           0.39285714285714285,
           "2",
           "Bill Bowrey"
          ],
          [
           0.44565217391304346,
           0.46511627906976744,
           0.4430379746835443,
           "2",
           "Billy Martin"
          ],
          [
           0.3684210526315789,
           0.5,
           0.26666666666666666,
           "2",
           "Birger Andersson"
          ],
          [
           0.47058823529411764,
           0.4842105263157895,
           0.49264705882352944,
           "2",
           "Bob Carmichael"
          ],
          [
           0.32,
           0.5416666666666666,
           0.3125,
           "2",
           "Bob Giltinan"
          ],
          [
           0.4032258064516129,
           0.5448717948717948,
           0.35555555555555557,
           "2",
           "Brad Drewett"
          ],
          [
           0.375,
           0.4666666666666667,
           0.32926829268292684,
           "2",
           "Brad Pearce"
          ],
          [
           0.23809523809523808,
           0.3877551020408163,
           0.39325842696629215,
           "2",
           "Broderick Dyke"
          ],
          [
           0.30303030303030304,
           0.3076923076923077,
           0.45,
           "2",
           "Bruce Derlin"
          ],
          [
           0.4857142857142857,
           0.5333333333333333,
           0.36936936936936937,
           "2",
           "Bryan Shelton"
          ],
          [
           0.16666666666666666,
           0.5652173913043478,
           0.5,
           "2",
           "Bud Schultz"
          ],
          [
           0.391304347826087,
           0.45714285714285713,
           0.3157894736842105,
           "2",
           "Butch Seewagen"
          ],
          [
           0.4,
           0.45,
           0.5277777777777778,
           "2",
           "Butch Walts"
          ],
          [
           0.3709677419354839,
           0.4864864864864865,
           0.4155844155844156,
           "2",
           "Byron Bertram"
          ],
          [
           0.38636363636363635,
           0.6111111111111112,
           0.528125,
           "2",
           "Byron Black"
          ],
          [
           0.4803921568627451,
           0.42857142857142855,
           0.4666666666666667,
           "2",
           "Carlos Kirmayr"
          ],
          [
           0.3855421686746988,
           0.4,
           0.4117647058823529,
           "2",
           "Cassio Motta"
          ],
          [
           0.3793103448275862,
           0.4375,
           0.5128205128205128,
           "2",
           "Charles Owens"
          ],
          [
           0.4375,
           0.40625,
           0.4563106796116505,
           "2",
           "Chip Hooper"
          ],
          [
           0.14285714285714285,
           0.4,
           0.4605263157894737,
           "2",
           "Chris Guccione"
          ],
          [
           0.18518518518518517,
           0.33962264150943394,
           0.25,
           "2",
           "Chris Kachel"
          ],
          [
           0.2,
           0.35294117647058826,
           0.41379310344827586,
           "2",
           "Chris Pridham"
          ],
          [
           0.4634146341463415,
           0.5,
           0.5074626865671642,
           "2",
           "Chris Woodruff"
          ],
          [
           0.3448275862068966,
           0.5476190476190477,
           0.28378378378378377,
           "2",
           "Christian Saceanu"
          ],
          [
           0.09090909090909091,
           0.6111111111111112,
           0.49710982658959535,
           "2",
           "Christo Van Rensburg"
          ],
          [
           0.08333333333333333,
           0.3,
           0.5074626865671642,
           "2",
           "Chuck Adams"
          ],
          [
           0.2727272727272727,
           0.43037974683544306,
           0.2857142857142857,
           "2",
           "Cliff Letcher"
          ],
          [
           0.125,
           0.4166666666666667,
           0.40336134453781514,
           "2",
           "Cyril Saulnier"
          ],
          [
           0.45901639344262296,
           0.5555555555555556,
           0.4785276073619632,
           "2",
           "Damir Dzumhur"
          ],
          [
           0.23529411764705882,
           0.4117647058823529,
           0.359375,
           "2",
           "Dan Cassidy"
          ],
          [
           0.25,
           0.5428571428571428,
           0.5337837837837838,
           "2",
           "Dan Goldie"
          ],
          [
           0.21052631578947367,
           0.4626865671641791,
           0.4322033898305085,
           "2",
           "Danie Visser"
          ],
          [
           0.38181818181818183,
           0.4117647058823529,
           0.3875,
           "2",
           "Daniel Brands"
          ],
          [
           0.25,
           0.4230769230769231,
           0.5,
           "2",
           "Daniel Evans"
          ],
          [
           0.2,
           0.4186046511627907,
           0.43548387096774194,
           "2",
           "Daniel Nestor"
          ],
          [
           0.35294117647058826,
           0.425,
           0.45595854922279794,
           "2",
           "Daniel Vacek"
          ],
          [
           0.42391304347826086,
           0.3953488372093023,
           0.3469387755102041,
           "2",
           "David Carter"
          ],
          [
           0.2777777777777778,
           0.543859649122807,
           0.5355450236966824,
           "2",
           "David Pate"
          ],
          [
           0.23809523809523808,
           0.5645161290322581,
           0.4012738853503185,
           "2",
           "David Prinosil"
          ],
          [
           0.18181818181818182,
           0.29411764705882354,
           0.3275862068965517,
           "2",
           "David Schneider"
          ],
          [
           0.3680555555555556,
           0.425531914893617,
           0.43956043956043955,
           "2",
           "Davide Sanguinetti"
          ],
          [
           0.45384615384615384,
           0.5394736842105263,
           0.45390070921985815,
           "2",
           "Denis Istomin"
          ],
          [
           0.2631578947368421,
           0.5116279069767442,
           0.28735632183908044,
           "2",
           "Denis Kudla"
          ],
          [
           0.27586206896551724,
           0.375,
           0.5,
           "2",
           "Deon Joubert"
          ],
          [
           0.2972972972972973,
           0.5915492957746479,
           0.5288461538461539,
           "2",
           "Derrick Rostagno"
          ],
          [
           0.32653061224489793,
           0.4230769230769231,
           0.4125,
           "2",
           "Diego Nargiso"
          ],
          [
           0.3918918918918919,
           0.5522388059701493,
           0.5255972696245734,
           "2",
           "Dmitry Tursunov"
          ],
          [
           0.21875,
           0.38461538461538464,
           0.4279835390946502,
           "2",
           "Donald Young"
          ],
          [
           0.18604651162790697,
           0.48148148148148145,
           0.4491525423728814,
           "2",
           "Dudi Sela"
          ],
          [
           0.40384615384615385,
           0.45,
           0.3382352941176471,
           "2",
           "Dustin Brown"
          ],
          [
           0.38095238095238093,
           0.49382716049382713,
           0.3170731707317073,
           "2",
           "Eddie Edwards"
          ],
          [
           0.37735849056603776,
           0.45714285714285713,
           0.4,
           "2",
           "Edouard Roger Vasselin"
          ],
          [
           0.3698630136986301,
           0.6346153846153846,
           0.4426229508196721,
           "2",
           "Eric Jelen"
          ],
          [
           0.45652173913043476,
           0.48214285714285715,
           0.4251968503937008,
           "2",
           "Erik Van Dillen"
          ],
          [
           0.20689655172413793,
           0.26666666666666666,
           0.36363636363636365,
           "2",
           "Evgeny Donskoy"
          ],
          [
           0.28,
           0.391304347826087,
           0.3333333333333333,
           "2",
           "Ferdi Taygan"
          ],
          [
           0.5204081632653061,
           0.5,
           0.42857142857142855,
           "2",
           "Flavio Saretta"
          ],
          [
           0.3448275862068966,
           0.46153846153846156,
           0.43478260869565216,
           "2",
           "Frances Tiafoe"
          ],
          [
           0.35443037974683544,
           0.3953488372093023,
           0.41818181818181815,
           "2",
           "Francisco Gonzalez"
          ],
          [
           0.38738738738738737,
           0.5,
           0.4166666666666667,
           "2",
           "Francisco Roig"
          ],
          [
           0.05263157894736842,
           0.4772727272727273,
           0.37735849056603776,
           "2",
           "Frank Dancevic"
          ],
          [
           0.3611111111111111,
           0.4444444444444444,
           0.3076923076923077,
           "2",
           "Frank Gebert"
          ],
          [
           0.30120481927710846,
           0.4,
           0.1956521739130435,
           "2",
           "Fred Mcnair"
          ],
          [
           0.2894736842105263,
           0.4444444444444444,
           0.48,
           "2",
           "Frederik Fetterlein"
          ],
          [
           0.411214953271028,
           0.49230769230769234,
           0.421875,
           "2",
           "Frew Mcmillan"
          ],
          [
           0.29411764705882354,
           0.55,
           0.48936170212765956,
           "2",
           "Fritz Buehning"
          ],
          [
           0.4,
           0.42857142857142855,
           0.41732283464566927,
           "2",
           "Gary Muller"
          ],
          [
           0.29577464788732394,
           0.3142857142857143,
           0.37681159420289856,
           "2",
           "George Hardie"
          ],
          [
           0.45185185185185184,
           0.4666666666666667,
           0.48,
           "2",
           "Georges Goven"
          ],
          [
           0.44274809160305345,
           0.45,
           0.46835443037974683,
           "2",
           "Gerald Battrick"
          ],
          [
           0.14634146341463414,
           0.47058823529411764,
           0.41732283464566927,
           "2",
           "Gianluca Pozzi"
          ],
          [
           0.4,
           0.35714285714285715,
           0.49056603773584906,
           "2",
           "Gianni Ocleppo"
          ],
          [
           0.25,
           0.45454545454545453,
           0.49230769230769234,
           "2",
           "Gilad Bloom"
          ],
          [
           0.25,
           0.4418604651162791,
           0.45054945054945056,
           "2",
           "Glenn Layendecker"
          ],
          [
           0.29411764705882354,
           0.36,
           0.391304347826087,
           "2",
           "Glenn Michibata"
          ],
          [
           0.33783783783783783,
           0.4897959183673469,
           0.2982456140350877,
           "2",
           "Graham Stilwell"
          ],
          [
           0.3333333333333333,
           0.5,
           0.424,
           "2",
           "Grant Stafford"
          ],
          [
           0.1111111111111111,
           0.4074074074074074,
           0.5454545454545454,
           "2",
           "Greg Holmes"
          ],
          [
           0.25,
           0.375,
           0.35555555555555557,
           "2",
           "Grover Raz Reid"
          ],
          [
           0.28846153846153844,
           0.4375,
           0.46153846153846156,
           "2",
           "Guillaume Raoux"
          ],
          [
           0.49635036496350365,
           0.48333333333333334,
           0.4222222222222222,
           "2",
           "Guillermo Garcia Lopez"
          ],
          [
           0.3855421686746988,
           0.375,
           0.25,
           "2",
           "Hans Joachim Ploetz"
          ],
          [
           0.4262295081967213,
           0.5,
           0.30434782608695654,
           "2",
           "Hans Schwaier"
          ],
          [
           0.4146341463414634,
           0.375,
           0.38144329896907214,
           "2",
           "Harel Levy"
          ],
          [
           0.3404255319148936,
           0.3333333333333333,
           0.47619047619047616,
           "2",
           "Haroon Rahim"
          ],
          [
           0.3770491803278688,
           0.36666666666666664,
           0.532608695652174,
           "2",
           "Hendrik Dreekmann"
          ],
          [
           0.2631578947368421,
           0.5789473684210527,
           0.4811320754716981,
           "2",
           "Henrik Holm"
          ],
          [
           0.4,
           0.5,
           0.4931506849315068,
           "2",
           "Hubert Hurkacz"
          ],
          [
           0.425531914893617,
           0.5365853658536586,
           0.45454545454545453,
           "2",
           "Ian Fletcher"
          ],
          [
           0.26666666666666666,
           0.32432432432432434,
           0.37662337662337664,
           "2",
           "Igor Kunitsyn"
          ],
          [
           0.30303030303030304,
           0.43478260869565216,
           0.35365853658536583,
           "2",
           "Igor Sijsling"
          ],
          [
           0.16666666666666666,
           0.3,
           0.45871559633027525,
           "2",
           "Illya Marchenko"
          ],
          [
           0.47641509433962265,
           0.5066666666666667,
           0.4642857142857143,
           "2",
           "Ismail El Shafei"
          ],
          [
           0.421875,
           0.5483870967741935,
           0.4539877300613497,
           "2",
           "Ivan Dodig"
          ],
          [
           0.125,
           0.3333333333333333,
           0.3181818181818182,
           "2",
           "Ivo Heuberger"
          ],
          [
           0.4864864864864865,
           0.574468085106383,
           0.37755102040816324,
           "2",
           "Jacco Eltingh"
          ],
          [
           0.475,
           0.5,
           0.42857142857142855,
           "2",
           "Jaime Oncins"
          ],
          [
           0.3684210526315789,
           0.47619047619047616,
           0.43529411764705883,
           "2",
           "Jamie Morgan"
          ],
          [
           0.3448275862068966,
           0.5454545454545454,
           0.4,
           "2",
           "Jan Apell"
          ],
          [
           0.30952380952380953,
           0.475,
           0.4215686274509804,
           "2",
           "Jan Hernych"
          ],
          [
           0.3333333333333333,
           0.3076923076923077,
           0.4625,
           "2",
           "Jan Kroslak"
          ],
          [
           0.4032258064516129,
           0.4,
           0.2777777777777778,
           "2",
           "Jan Kukal"
          ],
          [
           0.2127659574468085,
           0.5227272727272727,
           0.5586206896551724,
           "2",
           "Jan Michael Gambill"
          ],
          [
           0.2608695652173913,
           0.3333333333333333,
           0.39473684210526316,
           "2",
           "Jan Norback"
          ],
          [
           0.3793103448275862,
           0.4666666666666667,
           0.5137254901960784,
           "2",
           "Jan Siemerink"
          ],
          [
           0.26666666666666666,
           0.42857142857142855,
           0.4691358024691358,
           "2",
           "Jared Donaldson"
          ],
          [
           0.3953488372093023,
           0.42105263157894735,
           0.4444444444444444,
           "2",
           "Jay Lapidus"
          ],
          [
           0.22727272727272727,
           0.4358974358974359,
           0.3548387096774194,
           "2",
           "Jean Baptiste Chanfreau"
          ],
          [
           0.3125,
           0.3,
           0.45714285714285713,
           "2",
           "Jean Louis Haillet"
          ],
          [
           0.3888888888888889,
           0.4,
           0.4097222222222222,
           "2",
           "Jean Philippe Fleurian"
          ],
          [
           0.2631578947368421,
           0.36363636363636365,
           0.425,
           "2",
           "Jeff Austin"
          ],
          [
           0.5251396648044693,
           0.44776119402985076,
           0.4588235294117647,
           "2",
           "Jeff Borowiak"
          ],
          [
           0.2647058823529412,
           0.5,
           0.22580645161290322,
           "2",
           "Jeff Simpson"
          ],
          [
           0.39655172413793105,
           0.5454545454545454,
           0.3448275862068966,
           "2",
           "Jens Knippschild"
          ],
          [
           0.2564102564102564,
           0.4574468085106383,
           0.42028985507246375,
           "2",
           "Jeremy Bates"
          ],
          [
           0.4473684210526316,
           0.46875,
           0.5483870967741935,
           "2",
           "Jerome Golmard"
          ],
          [
           0.358974358974359,
           0.6153846153846154,
           0.52,
           "2",
           "Jerzy Janowicz"
          ],
          [
           0.3283582089552239,
           0.43243243243243246,
           0.3709677419354839,
           "2",
           "Jim Delaney"
          ],
          [
           0.1875,
           0.3333333333333333,
           0.50199203187251,
           "2",
           "Jim Grabb"
          ],
          [
           0.2345679012345679,
           0.4,
           0.36585365853658536,
           "2",
           "Jim Mcmanus"
          ],
          [
           0.45161290322580644,
           0.4827586206896552,
           0.47540983606557374,
           "2",
           "Jim Osborne"
          ],
          [
           0.3870967741935484,
           0.5555555555555556,
           0.47058823529411764,
           "2",
           "Jim Pugh"
          ],
          [
           0.17647058823529413,
           0.5,
           0.6082474226804123,
           "2",
           "Joachim Johansson"
          ],
          [
           0.2923076923076923,
           0.3333333333333333,
           0.23076923076923078,
           "2",
           "Joao Soares"
          ],
          [
           0.43010752688172044,
           0.5121951219512195,
           0.3137254901960784,
           "2",
           "Joaquin Loyo Mayo"
          ],
          [
           0.25,
           0.5217391304347826,
           0.41975308641975306,
           "2",
           "Joey Rive"
          ],
          [
           0.30434782608695654,
           0.3333333333333333,
           0.4673913043478261,
           "2",
           "Johan Carlsson"
          ],
          [
           0.2727272727272727,
           0.32,
           0.4583333333333333,
           "2",
           "John Austin"
          ],
          [
           0.24074074074074073,
           0.3170731707317073,
           0.1111111111111111,
           "2",
           "John Bartlett"
          ],
          [
           0.2857142857142857,
           0.5932203389830508,
           0.5098039215686274,
           "2",
           "John Cooper"
          ],
          [
           0.2903225806451613,
           0.328125,
           0.21428571428571427,
           "2",
           "John Feaver"
          ],
          [
           0.2777777777777778,
           0.5868263473053892,
           0.48677248677248675,
           "2",
           "John Fitzgerald"
          ],
          [
           0.35294117647058826,
           0.4634146341463415,
           0.38461538461538464,
           "2",
           "John James"
          ],
          [
           0.41007194244604317,
           0.49166666666666664,
           0.45864661654135336,
           "2",
           "John Lloyd"
          ],
          [
           0.18181818181818182,
           0.3673469387755102,
           0.2,
           "2",
           "John Marks"
          ],
          [
           0.36666666666666664,
           0.43478260869565216,
           0.48175182481751827,
           "2",
           "John Millman"
          ],
          [
           0.30952380952380953,
           0.4482758620689655,
           0.41025641025641024,
           "2",
           "John Van Lottum"
          ],
          [
           0.30952380952380953,
           0.45454545454545453,
           0.375,
           "2",
           "John Whitlinger"
          ],
          [
           0.39473684210526316,
           0.42857142857142855,
           0.38596491228070173,
           "2",
           "John Yuill"
          ],
          [
           0.36,
           0.6507936507936508,
           0.5355555555555556,
           "2",
           "Jonas Bjorkman"
          ],
          [
           0.21428571428571427,
           0.375,
           0.47474747474747475,
           "2",
           "Jonathan Canter"
          ],
          [
           0.36666666666666664,
           0.3584905660377358,
           0.3,
           "2",
           "Jonathan Smith"
          ],
          [
           0.3684210526315789,
           0.4883720930232558,
           0.45698924731182794,
           "2",
           "Jonathan Stark"
          ],
          [
           0.38095238095238093,
           0.38095238095238093,
           0.4418604651162791,
           "2",
           "Jordan Thompson"
          ],
          [
           0.4697986577181208,
           0.5,
           0.2777777777777778,
           "2",
           "Jordi Burillo"
          ],
          [
           0.20512820512820512,
           0.26666666666666666,
           0.17647058823529413,
           "2",
           "Jorge Andrew"
          ],
          [
           0.4818181818181818,
           0.5,
           0.25,
           "2",
           "Jose Luis Damiani"
          ],
          [
           0.545816733067729,
           0.5,
           0.2631578947368421,
           "2",
           "Juan Aguilera"
          ],
          [
           0.4672897196261682,
           0.4444444444444444,
           0.4,
           "2",
           "Julian Ganzabal"
          ],
          [
           0.4144144144144144,
           0.47368421052631576,
           0.4943820224719101,
           "2",
           "Julien Benneteau"
          ],
          [
           0.32,
           0.4067796610169492,
           0.3858695652173913,
           "2",
           "Justin Gimelstob"
          ],
          [
           0.09090909090909091,
           0.4375,
           0.36036036036036034,
           "2",
           "Karol Beck"
          ],
          [
           0.3409090909090909,
           0.44,
           0.45454545454545453,
           "2",
           "Karsten Braasch"
          ],
          [
           0.42857142857142855,
           0.5846153846153846,
           0.46710526315789475,
           "2",
           "Kelly Evernden"
          ],
          [
           0.2909090909090909,
           0.45588235294117646,
           0.5062111801242236,
           "2",
           "Kenneth Carlsen"
          ],
          [
           0.3333333333333333,
           0.6635514018691588,
           0.56640625,
           "2",
           "Kevin Curren"
          ],
          [
           0.3125,
           0.3076923076923077,
           0.3923076923076923,
           "2",
           "Lars Burgsmuller"
          ],
          [
           0.1,
           0.5263157894736842,
           0.38,
           "2",
           "Laurence Tieleman"
          ],
          [
           0.42857142857142855,
           0.6571428571428571,
           0.40860215053763443,
           "2",
           "Leander Paes"
          ],
          [
           0.2727272727272727,
           0.5,
           0.30985915492957744,
           "2",
           "Leif Shiras"
          ],
          [
           0.5254237288135594,
           0.45714285714285713,
           0.4303030303030303,
           "2",
           "Leonardo Mayer"
          ],
          [
           0.45454545454545453,
           0.5098039215686274,
           0.38095238095238093,
           "2",
           "Lloyd Bourne"
          ],
          [
           0.36666666666666664,
           0.48,
           0.3835616438356164,
           "2",
           "Luis Herrera"
          ],
          [
           0.2,
           0.4186046511627907,
           0.41714285714285715,
           "2",
           "Lukas Lacko"
          ],
          [
           0.4742268041237113,
           0.52,
           0.36538461538461536,
           "2",
           "Lukasz Kubot"
          ],
          [
           0.3333333333333333,
           0.4074074074074074,
           0.39622641509433965,
           "2",
           "Marc Flur"
          ],
          [
           0.4406779661016949,
           0.4230769230769231,
           0.4215686274509804,
           "2",
           "Marc Gicquel"
          ],
          [
           0.5117647058823529,
           0.4594594594594595,
           0.37373737373737376,
           "2",
           "Marc Kevin Goellner"
          ],
          [
           0.38235294117647056,
           0.35,
           0.4027777777777778,
           "2",
           "Marcel Freeman"
          ],
          [
           0.48130841121495327,
           0.4473684210526316,
           0.4129353233830846,
           "2",
           "Marcel Granollers"
          ],
          [
           0.25925925925925924,
           0.4,
           0.35294117647058826,
           "2",
           "Marco Chiudinelli"
          ],
          [
           0.48360655737704916,
           0.5217391304347826,
           0.4411764705882353,
           "2",
           "Marcos Hocevar"
          ],
          [
           0.45,
           0.43333333333333335,
           0.46835443037974683,
           "2",
           "Marcos Ondruska"
          ],
          [
           0.2962962962962963,
           0.4,
           0.42857142857142855,
           "2",
           "Marinko Matosevic"
          ],
          [
           0.2702702702702703,
           0.4,
           0.4742268041237113,
           "2",
           "Marius Copil"
          ],
          [
           0.3333333333333333,
           0.47058823529411764,
           0.34285714285714286,
           "2",
           "Mark Knowles"
          ],
          [
           0.5,
           0.5,
           0.43902439024390244,
           "2",
           "Mark Koevermans"
          ],
          [
           0.1,
           0.5102040816326531,
           0.34177215189873417,
           "2",
           "Mark Kratzmann"
          ],
          [
           0.36363636363636365,
           0.37777777777777777,
           0.25,
           "2",
           "Mark Petchey"
          ],
          [
           0.38738738738738737,
           0.5368421052631579,
           0.5359281437125748,
           "2",
           "Mark Woodforde"
          ],
          [
           0.42105263157894735,
           0.42857142857142855,
           0.31343283582089554,
           "2",
           "Marko Ostoja"
          ],
          [
           0.2222222222222222,
           0.3125,
           0.44554455445544555,
           "2",
           "Markus Zoecke"
          ],
          [
           0.17647058823529413,
           0.46938775510204084,
           0.41304347826086957,
           "2",
           "Martin Damm"
          ],
          [
           0.39436619718309857,
           0.42857142857142855,
           0.3584905660377358,
           "2",
           "Martin Wostenholme"
          ],
          [
           0.3953488372093023,
           0.5263157894736842,
           0.49101796407185627,
           "2",
           "Marty Davis"
          ],
          [
           0.36363636363636365,
           0.5306122448979592,
           0.42990654205607476,
           "2",
           "Matt Anger"
          ],
          [
           0.32,
           0.4166666666666667,
           0.4875,
           "2",
           "Matt Doyle"
          ],
          [
           0.2631578947368421,
           0.38636363636363635,
           0.39705882352941174,
           "2",
           "Matt Mitchell"
          ],
          [
           0.07142857142857142,
           0.4444444444444444,
           0.38235294117647056,
           "2",
           "Matthew Ebden"
          ],
          [
           0.40594059405940597,
           0.5357142857142857,
           0.5097276264591439,
           "2",
           "Max Mirnyi"
          ],
          [
           0.2978723404255319,
           0.2916666666666667,
           0.4125,
           "2",
           "Michael Berrer"
          ],
          [
           0.16666666666666666,
           0.4375,
           0.45121951219512196,
           "2",
           "Michael Joyce"
          ],
          [
           0.3333333333333333,
           0.5945945945945946,
           0.4538152610441767,
           "2",
           "Michael Llodra"
          ],
          [
           0.2553191489361702,
           0.30303030303030304,
           0.3741496598639456,
           "2",
           "Michael Russell"
          ],
          [
           0.20689655172413793,
           0.3333333333333333,
           0.2807017543859649,
           "2",
           "Michal Przysiezny"
          ],
          [
           0.3829787234042553,
           0.5238095238095238,
           0.43820224719101125,
           "2",
           "Michel Kratochvil"
          ],
          [
           0.37142857142857144,
           0.559322033898305,
           0.4866666666666667,
           "2",
           "Michiel Schapers"
          ],
          [
           0.13333333333333333,
           0.5660377358490566,
           0.3333333333333333,
           "2",
           "Mike Bauer"
          ],
          [
           0.4583333333333333,
           0.4375,
           0.46835443037974683,
           "2",
           "Mike De Palmer"
          ],
          [
           0.21666666666666667,
           0.532258064516129,
           0.45555555555555555,
           "2",
           "Mike Estep"
          ],
          [
           0.07692307692307693,
           0.34285714285714286,
           0.30952380952380953,
           "2",
           "Mike Machette"
          ],
          [
           0.37894736842105264,
           0.39473684210526316,
           0.47478991596638653,
           "2",
           "Mikhail Kukushkin"
          ],
          [
           0.41964285714285715,
           0.4411764705882353,
           0.4358974358974359,
           "2",
           "Milan Holecek"
          ],
          [
           0.4430379746835443,
           0.4375,
           0.5102040816326531,
           "2",
           "Milan Srejber"
          ],
          [
           0.31645569620253167,
           0.5,
           0.40932642487046633,
           "2",
           "Mischa Zverev"
          ],
          [
           0.4482758620689655,
           0.5081967213114754,
           0.38613861386138615,
           "2",
           "Nduka Odizor"
          ],
          [
           0.4222222222222222,
           0.45,
           0.4166666666666667,
           "2",
           "Nicholas Kalogeropoulos"
          ],
          [
           0.390625,
           0.4918032786885246,
           0.474025974025974,
           "2",
           "Nick Saviano"
          ],
          [
           0.35294117647058826,
           0.36363636363636365,
           0.5098039215686274,
           "2",
           "Nicklas Kroon"
          ],
          [
           0.4649122807017544,
           0.5357142857142857,
           0.421875,
           "2",
           "Nicklas Kulti"
          ],
          [
           0.30357142857142855,
           0.6203703703703703,
           0.40789473684210525,
           "2",
           "Nicolas Mahut"
          ],
          [
           0.39655172413793105,
           0.3793103448275862,
           0.4017857142857143,
           "2",
           "Nicolas Pereira"
          ],
          [
           0.2727272727272727,
           0.42105263157894735,
           0.45394736842105265,
           "2",
           "Olivier Delaitre"
          ],
          [
           0.3935483870967742,
           0.5308641975308642,
           0.47619047619047616,
           "2",
           "Olivier Rochus"
          ],
          [
           0.31666666666666665,
           0.4634146341463415,
           0.4368932038834951,
           "2",
           "Ove Nils Bengtson"
          ],
          [
           0.375,
           0.6153846153846154,
           0.375,
           "2",
           "Owen Davidson"
          ],
          [
           0.2553191489361702,
           0.5555555555555556,
           0.6049382716049383,
           "2",
           "Paradorn Srichaphan"
          ],
          [
           0.22448979591836735,
           0.36363636363636365,
           0.44,
           "2",
           "Pat Cramer"
          ],
          [
           0.46296296296296297,
           0.4791666666666667,
           0.5081967213114754,
           "2",
           "Pat Dupre"
          ],
          [
           0.2972972972972973,
           0.3333333333333333,
           0.42857142857142855,
           "2",
           "Patrick Baur"
          ],
          [
           0.37142857142857144,
           0.4,
           0.5,
           "2",
           "Patrick McEnroe"
          ],
          [
           0.391304347826087,
           0.4523809523809524,
           0.46218487394957986,
           "2",
           "Patrik Kuhnen"
          ],
          [
           0.4625,
           0.47058823529411764,
           0.5217391304347826,
           "2",
           "Paul Gerken"
          ],
          [
           0.4,
           0.5,
           0.4189189189189189,
           "2",
           "Paul Goldstein"
          ],
          [
           0.37209302325581395,
           0.43859649122807015,
           0.36363636363636365,
           "2",
           "Paul Kronk"
          ],
          [
           0.3,
           0.5205479452054794,
           0.17777777777777778,
           "2",
           "Peter Doohan"
          ],
          [
           0.38596491228070173,
           0.4,
           0.5497076023391813,
           "2",
           "Peter Fleming"
          ],
          [
           0.3333333333333333,
           0.4444444444444444,
           0.4631578947368421,
           "2",
           "Peter Gojowczyk"
          ],
          [
           0.27419354838709675,
           0.4444444444444444,
           0.3389830508474576,
           "2",
           "Peter Luczak"
          ],
          [
           0.05263157894736842,
           0.5,
           0.525974025974026,
           "2",
           "Peter Lundgren"
          ],
          [
           0.5454545454545454,
           0.5641025641025641,
           0.3333333333333333,
           "2",
           "Peter Rennert"
          ],
          [
           0.2222222222222222,
           0.5625,
           0.423728813559322,
           "2",
           "Peter Wessels"
          ],
          [
           0.37209302325581395,
           0.525,
           0.46017699115044247,
           "2",
           "Philipp Petzschner"
          ],
          [
           0.45454545454545453,
           0.5,
           0.4351145038167939,
           "2",
           "Pierre Hugues Herbert"
          ],
          [
           0.43137254901960786,
           0.5,
           0.41228070175438597,
           "2",
           "Radu Albot"
          ],
          [
           0.3870967741935484,
           0.46938775510204084,
           0.3953488372093023,
           "2",
           "Raemon Sluiter"
          ],
          [
           0.39263803680981596,
           0.5555555555555556,
           0.5253333333333333,
           "2",
           "Rainer Schuettler"
          ],
          [
           0.36363636363636365,
           0.5428571428571428,
           0.3238095238095238,
           "2",
           "Rajeev Ram"
          ],
          [
           0.39285714285714285,
           0.5480769230769231,
           0.5704918032786885,
           "2",
           "Ramesh Krishnan"
          ],
          [
           0.2857142857142857,
           0.40384615384615385,
           0.2413793103448276,
           "2",
           "Ray Keldie"
          ],
          [
           0.44086021505376344,
           0.4948453608247423,
           0.5308641975308642,
           "2",
           "Raymond Moore"
          ],
          [
           0.3230769230769231,
           0.5238095238095238,
           0.38095238095238093,
           "2",
           "Ricardo Acuna"
          ],
          [
           0.5058365758754864,
           0.4473684210526316,
           0.47685185185185186,
           "2",
           "Richard Fromberg"
          ],
          [
           0.2830188679245283,
           0.4084507042253521,
           0.47368421052631576,
           "2",
           "Richard Lewis"
          ],
          [
           0.25,
           0.375,
           0.4146341463414634,
           "2",
           "Richard Matuszewski"
          ],
          [
           0.28,
           0.4090909090909091,
           0.2903225806451613,
           "2",
           "Richard Meyer"
          ],
          [
           0.23076923076923078,
           0.36,
           0.3,
           "2",
           "Rick Fisher"
          ],
          [
           0.09090909090909091,
           0.4166666666666667,
           0.38823529411764707,
           "2",
           "Robbie Weiss"
          ],
          [
           0.2857142857142857,
           0.48,
           0.5143884892086331,
           "2",
           "Robby Ginepri"
          ],
          [
           0.16666666666666666,
           0.2222222222222222,
           0.3493975903614458,
           "2",
           "Robert Kendrick"
          ],
          [
           0.4745762711864407,
           0.48717948717948717,
           0.39655172413793105,
           "2",
           "Robert Maud"
          ],
          [
           0.23076923076923078,
           0.5405405405405406,
           0.5094339622641509,
           "2",
           "Robert Seguso"
          ],
          [
           0.3333333333333333,
           0.36363636363636365,
           0.5106382978723404,
           "2",
           "Robert Vant Hof"
          ],
          [
           0.375,
           0.5319148936170213,
           0.42105263157894735,
           "2",
           "Rod Frawley"
          ],
          [
           0.3181818181818182,
           0.4444444444444444,
           0.4266666666666667,
           "2",
           "Roger Smith"
          ],
          [
           0.4876543209876543,
           0.4782608695652174,
           0.4074074074074074,
           "2",
           "Rolf Gehring"
          ],
          [
           0.1724137931034483,
           0.43243243243243246,
           0.21818181818181817,
           "2",
           "Roy Barth"
          ],
          [
           0.28846153846153844,
           0.47863247863247865,
           0.4444444444444444,
           "2",
           "Russell Simpson"
          ],
          [
           0.35714285714285715,
           0.35135135135135137,
           0.4623115577889447,
           "2",
           "Ryan Harrison"
          ],
          [
           0.43103448275862066,
           0.5370370370370371,
           0.5225806451612903,
           "2",
           "Sammy Giammalva Jr"
          ],
          [
           0.4,
           0.5714285714285714,
           0.4264705882352941,
           "2",
           "Sandon Stolle"
          ],
          [
           0.5082872928176796,
           0.45161290322580644,
           0.3860759493670886,
           "2",
           "Santiago Giraldo"
          ],
          [
           0.4326923076923077,
           0.4827586206896552,
           0.39766081871345027,
           "2",
           "Sargis Sargsian"
          ],
          [
           0.23529411764705882,
           0.5084745762711864,
           0.5466101694915254,
           "2",
           "Scott Davis"
          ],
          [
           0.34146341463414637,
           0.4888888888888889,
           0.47794117647058826,
           "2",
           "Scott Draper"
          ],
          [
           0.15,
           0.3870967741935484,
           0.4407894736842105,
           "2",
           "Sebastien Lareau"
          ],
          [
           0.375,
           0.48148148148148145,
           0.4649122807017544,
           "2",
           "Sergiy Stakhovsky"
          ],
          [
           0.3684210526315789,
           0.46153846153846156,
           0.47692307692307695,
           "2",
           "Shahar Perkiss"
          ],
          [
           0.4117647058823529,
           0.45901639344262296,
           0.42727272727272725,
           "2",
           "Sherwood Stewart"
          ],
          [
           0.3076923076923077,
           0.5581395348837209,
           0.4845360824742268,
           "2",
           "Shuzo Matsuoka"
          ],
          [
           0.23333333333333334,
           0.40350877192982454,
           0.4409448818897638,
           "2",
           "Simon Youl"
          ],
          [
           0.4745762711864407,
           0.5,
           0.36231884057971014,
           "2",
           "Simone Bolelli"
          ],
          [
           0.3263157894736842,
           0.375,
           0.3684210526315789,
           "2",
           "Stanislav Birner"
          ],
          [
           0.463768115942029,
           0.5,
           0.41818181818181815,
           "2",
           "Stefan Simonsson"
          ],
          [
           0.30952380952380953,
           0.3333333333333333,
           0.3559322033898305,
           "2",
           "Stephane Robert"
          ],
          [
           0.26666666666666666,
           0.48,
           0.359375,
           "2",
           "Stephane Simian"
          ],
          [
           0.4666666666666667,
           0.45714285714285713,
           0.46099290780141844,
           "2",
           "Steve Darcis"
          ],
          [
           0.36363636363636365,
           0.5416666666666666,
           0.5060240963855421,
           "2",
           "Steve Denton"
          ],
          [
           0.2857142857142857,
           0.42424242424242425,
           0.4107142857142857,
           "2",
           "Steve Docherty"
          ],
          [
           0.3904109589041096,
           0.375,
           0.4157303370786517,
           "2",
           "Steve Krulevitz"
          ],
          [
           0.25,
           0.45614035087719296,
           0.3018867924528302,
           "2",
           "Syd Ball"
          ],
          [
           0.4057971014492754,
           0.5789473684210527,
           0.36363636363636365,
           "2",
           "Szabolcz Baranyi"
          ],
          [
           0.3076923076923077,
           0.4,
           0.3283582089552239,
           "2",
           "Tatsuma Ito"
          ],
          [
           0.25,
           0.5576923076923077,
           0.5280373831775701,
           "2",
           "Taylor Dent"
          ],
          [
           0.5151515151515151,
           0.43478260869565216,
           0.5,
           "2",
           "Taylor Fritz"
          ],
          [
           0.20408163265306123,
           0.2857142857142857,
           0.30303030303030304,
           "2",
           "Tenny Svensson"
          ],
          [
           0.2857142857142857,
           0.5172413793103449,
           0.2631578947368421,
           "2",
           "Terry Addison"
          ],
          [
           0.325,
           0.4864864864864865,
           0.34615384615384615,
           "2",
           "Terry Ryan"
          ],
          [
           0.4027777777777778,
           0.4782608695652174,
           0.359375,
           "2",
           "Thierry Champion"
          ],
          [
           0.35514018691588783,
           0.6153846153846154,
           0.5623268698060941,
           "2",
           "Thomas Johansson"
          ],
          [
           0.25,
           0.3333333333333333,
           0.3469387755102041,
           "2",
           "Tim Smyczek"
          ],
          [
           0.36363636363636365,
           0.4583333333333333,
           0.3673469387755102,
           "2",
           "Tobias Kamke"
          ],
          [
           0.3,
           0.34615384615384615,
           0.3235294117647059,
           "2",
           "Todd Nelson"
          ],
          [
           0.3728813559322034,
           0.5921052631578947,
           0.5302491103202847,
           "2",
           "Todd Woodbridge"
          ],
          [
           0.4090909090909091,
           0.4166666666666667,
           0.40540540540540543,
           "2",
           "Tom Edlefsen"
          ],
          [
           0.047619047619047616,
           0.4,
           0.410958904109589,
           "2",
           "Tom Leonard"
          ],
          [
           0.2909090909090909,
           0.375,
           0.3225806451612903,
           "2",
           "Tomas Zib"
          ],
          [
           0.4090909090909091,
           0.38095238095238093,
           0.4358974358974359,
           "2",
           "Tony Giammalva"
          ],
          [
           0.1282051282051282,
           0.47368421052631576,
           0.21621621621621623,
           "2",
           "Torben Ulrich"
          ],
          [
           0.375,
           0.4583333333333333,
           0.6428571428571429,
           "2",
           "Toshiro Sakai"
          ],
          [
           0.2903225806451613,
           0.3333333333333333,
           0.49606299212598426,
           "2",
           "Trey Waltke"
          ],
          [
           0.3157894736842105,
           0.4,
           0.2857142857142857,
           "2",
           "Udo Riglewski"
          ],
          [
           0.05,
           0.3902439024390244,
           0.49295774647887325,
           "2",
           "Vasek Pospisil"
          ],
          [
           0.47058823529411764,
           0.4166666666666667,
           0.47619047619047616,
           "2",
           "Veli Paloheimo"
          ],
          [
           0.42592592592592593,
           0.4090909090909091,
           0.4925373134328358,
           "2",
           "Vincent Spadea"
          ],
          [
           0.19047619047619047,
           0.45454545454545453,
           0.45977011494252873,
           "2",
           "Vladimir Voltchkov"
          ],
          [
           0.32432432432432434,
           0.6436781609195402,
           0.5361216730038023,
           "2",
           "Wally Masur"
          ],
          [
           0.37037037037037035,
           0.5652173913043478,
           0.43902439024390244,
           "2",
           "Wayne Arthurs"
          ],
          [
           0.30434782608695654,
           0.3684210526315789,
           0.4491525423728814,
           "2",
           "Wayne Black"
          ],
          [
           0.375,
           0.4,
           0.36363636363636365,
           "2",
           "Werner Zirngibl"
          ],
          [
           0.34285714285714286,
           0.4444444444444444,
           0.3333333333333333,
           "2",
           "Wolfgang Popp"
          ],
          [
           0.23076923076923078,
           0.4375,
           0.4217687074829932,
           "2",
           "Yen Hsun Lu"
          ],
          [
           0.17647058823529413,
           0.5,
           0.391304347826087,
           "2",
           "Yuichi Sugita"
          ],
          [
           0.3888888888888889,
           0.375,
           0.3,
           "2",
           "Zoltan Kuharszky"
          ]
         ],
         "hoverlabel": {
          "namelength": 0
         },
         "hovertemplate": "label=%{customdata[3]}<br>Clay_record=%{customdata[0]}<br>Grass_record=%{customdata[1]}<br>Hard_record=%{customdata[2]}<br>player_name=%{customdata[4]}",
         "legendgroup": "2",
         "marker": {
          "color": "#EF553B",
          "symbol": "circle"
         },
         "mode": "markers",
         "name": "2",
         "scene": "scene",
         "showlegend": true,
         "type": "scatter3d",
         "x": [
          0.25,
          0.42857142857142855,
          0.3877551020408163,
          0.14285714285714285,
          0.15384615384615385,
          0.3225806451612903,
          0.2916666666666667,
          0.19230769230769232,
          0.2708333333333333,
          0.3595505617977528,
          0.27906976744186046,
          0.36363636363636365,
          0.47619047619047616,
          0.3076923076923077,
          0.3448275862068966,
          0.4083333333333333,
          0.3684210526315789,
          0.24444444444444444,
          0.3958333333333333,
          0.4166666666666667,
          0.3902439024390244,
          0.3230769230769231,
          0.4716981132075472,
          0.44565217391304346,
          0.3684210526315789,
          0.47058823529411764,
          0.32,
          0.4032258064516129,
          0.375,
          0.23809523809523808,
          0.30303030303030304,
          0.4857142857142857,
          0.16666666666666666,
          0.391304347826087,
          0.4,
          0.3709677419354839,
          0.38636363636363635,
          0.4803921568627451,
          0.3855421686746988,
          0.3793103448275862,
          0.4375,
          0.14285714285714285,
          0.18518518518518517,
          0.2,
          0.4634146341463415,
          0.3448275862068966,
          0.09090909090909091,
          0.08333333333333333,
          0.2727272727272727,
          0.125,
          0.45901639344262296,
          0.23529411764705882,
          0.25,
          0.21052631578947367,
          0.38181818181818183,
          0.25,
          0.2,
          0.35294117647058826,
          0.42391304347826086,
          0.2777777777777778,
          0.23809523809523808,
          0.18181818181818182,
          0.3680555555555556,
          0.45384615384615384,
          0.2631578947368421,
          0.27586206896551724,
          0.2972972972972973,
          0.32653061224489793,
          0.3918918918918919,
          0.21875,
          0.18604651162790697,
          0.40384615384615385,
          0.38095238095238093,
          0.37735849056603776,
          0.3698630136986301,
          0.45652173913043476,
          0.20689655172413793,
          0.28,
          0.5204081632653061,
          0.3448275862068966,
          0.35443037974683544,
          0.38738738738738737,
          0.05263157894736842,
          0.3611111111111111,
          0.30120481927710846,
          0.2894736842105263,
          0.411214953271028,
          0.29411764705882354,
          0.4,
          0.29577464788732394,
          0.45185185185185184,
          0.44274809160305345,
          0.14634146341463414,
          0.4,
          0.25,
          0.25,
          0.29411764705882354,
          0.33783783783783783,
          0.3333333333333333,
          0.1111111111111111,
          0.25,
          0.28846153846153844,
          0.49635036496350365,
          0.3855421686746988,
          0.4262295081967213,
          0.4146341463414634,
          0.3404255319148936,
          0.3770491803278688,
          0.2631578947368421,
          0.4,
          0.425531914893617,
          0.26666666666666666,
          0.30303030303030304,
          0.16666666666666666,
          0.47641509433962265,
          0.421875,
          0.125,
          0.4864864864864865,
          0.475,
          0.3684210526315789,
          0.3448275862068966,
          0.30952380952380953,
          0.3333333333333333,
          0.4032258064516129,
          0.2127659574468085,
          0.2608695652173913,
          0.3793103448275862,
          0.26666666666666666,
          0.3953488372093023,
          0.22727272727272727,
          0.3125,
          0.3888888888888889,
          0.2631578947368421,
          0.5251396648044693,
          0.2647058823529412,
          0.39655172413793105,
          0.2564102564102564,
          0.4473684210526316,
          0.358974358974359,
          0.3283582089552239,
          0.1875,
          0.2345679012345679,
          0.45161290322580644,
          0.3870967741935484,
          0.17647058823529413,
          0.2923076923076923,
          0.43010752688172044,
          0.25,
          0.30434782608695654,
          0.2727272727272727,
          0.24074074074074073,
          0.2857142857142857,
          0.2903225806451613,
          0.2777777777777778,
          0.35294117647058826,
          0.41007194244604317,
          0.18181818181818182,
          0.36666666666666664,
          0.30952380952380953,
          0.30952380952380953,
          0.39473684210526316,
          0.36,
          0.21428571428571427,
          0.36666666666666664,
          0.3684210526315789,
          0.38095238095238093,
          0.4697986577181208,
          0.20512820512820512,
          0.4818181818181818,
          0.545816733067729,
          0.4672897196261682,
          0.4144144144144144,
          0.32,
          0.09090909090909091,
          0.3409090909090909,
          0.42857142857142855,
          0.2909090909090909,
          0.3333333333333333,
          0.3125,
          0.1,
          0.42857142857142855,
          0.2727272727272727,
          0.5254237288135594,
          0.45454545454545453,
          0.36666666666666664,
          0.2,
          0.4742268041237113,
          0.3333333333333333,
          0.4406779661016949,
          0.5117647058823529,
          0.38235294117647056,
          0.48130841121495327,
          0.25925925925925924,
          0.48360655737704916,
          0.45,
          0.2962962962962963,
          0.2702702702702703,
          0.3333333333333333,
          0.5,
          0.1,
          0.36363636363636365,
          0.38738738738738737,
          0.42105263157894735,
          0.2222222222222222,
          0.17647058823529413,
          0.39436619718309857,
          0.3953488372093023,
          0.36363636363636365,
          0.32,
          0.2631578947368421,
          0.07142857142857142,
          0.40594059405940597,
          0.2978723404255319,
          0.16666666666666666,
          0.3333333333333333,
          0.2553191489361702,
          0.20689655172413793,
          0.3829787234042553,
          0.37142857142857144,
          0.13333333333333333,
          0.4583333333333333,
          0.21666666666666667,
          0.07692307692307693,
          0.37894736842105264,
          0.41964285714285715,
          0.4430379746835443,
          0.31645569620253167,
          0.4482758620689655,
          0.4222222222222222,
          0.390625,
          0.35294117647058826,
          0.4649122807017544,
          0.30357142857142855,
          0.39655172413793105,
          0.2727272727272727,
          0.3935483870967742,
          0.31666666666666665,
          0.375,
          0.2553191489361702,
          0.22448979591836735,
          0.46296296296296297,
          0.2972972972972973,
          0.37142857142857144,
          0.391304347826087,
          0.4625,
          0.4,
          0.37209302325581395,
          0.3,
          0.38596491228070173,
          0.3333333333333333,
          0.27419354838709675,
          0.05263157894736842,
          0.5454545454545454,
          0.2222222222222222,
          0.37209302325581395,
          0.45454545454545453,
          0.43137254901960786,
          0.3870967741935484,
          0.39263803680981596,
          0.36363636363636365,
          0.39285714285714285,
          0.2857142857142857,
          0.44086021505376344,
          0.3230769230769231,
          0.5058365758754864,
          0.2830188679245283,
          0.25,
          0.28,
          0.23076923076923078,
          0.09090909090909091,
          0.2857142857142857,
          0.16666666666666666,
          0.4745762711864407,
          0.23076923076923078,
          0.3333333333333333,
          0.375,
          0.3181818181818182,
          0.4876543209876543,
          0.1724137931034483,
          0.28846153846153844,
          0.35714285714285715,
          0.43103448275862066,
          0.4,
          0.5082872928176796,
          0.4326923076923077,
          0.23529411764705882,
          0.34146341463414637,
          0.15,
          0.375,
          0.3684210526315789,
          0.4117647058823529,
          0.3076923076923077,
          0.23333333333333334,
          0.4745762711864407,
          0.3263157894736842,
          0.463768115942029,
          0.30952380952380953,
          0.26666666666666666,
          0.4666666666666667,
          0.36363636363636365,
          0.2857142857142857,
          0.3904109589041096,
          0.25,
          0.4057971014492754,
          0.3076923076923077,
          0.25,
          0.5151515151515151,
          0.20408163265306123,
          0.2857142857142857,
          0.325,
          0.4027777777777778,
          0.35514018691588783,
          0.25,
          0.36363636363636365,
          0.3,
          0.3728813559322034,
          0.4090909090909091,
          0.047619047619047616,
          0.2909090909090909,
          0.4090909090909091,
          0.1282051282051282,
          0.375,
          0.2903225806451613,
          0.3157894736842105,
          0.05,
          0.47058823529411764,
          0.42592592592592593,
          0.19047619047619047,
          0.32432432432432434,
          0.37037037037037035,
          0.30434782608695654,
          0.375,
          0.34285714285714286,
          0.23076923076923078,
          0.17647058823529413,
          0.3888888888888889
         ],
         "y": [
          0.5903614457831325,
          0.3902439024390244,
          0.5142857142857142,
          0.44,
          0.4,
          0.41935483870967744,
          0.36363636363636365,
          0.631578947368421,
          0.5737704918032787,
          0.38636363636363635,
          0.37037037037037035,
          0.5,
          0.5,
          0.5,
          0.4634146341463415,
          0.5376344086021505,
          0.5,
          0.5454545454545454,
          0.5,
          0.42857142857142855,
          0.5142857142857142,
          0.5428571428571428,
          0.5945945945945946,
          0.46511627906976744,
          0.5,
          0.4842105263157895,
          0.5416666666666666,
          0.5448717948717948,
          0.4666666666666667,
          0.3877551020408163,
          0.3076923076923077,
          0.5333333333333333,
          0.5652173913043478,
          0.45714285714285713,
          0.45,
          0.4864864864864865,
          0.6111111111111112,
          0.42857142857142855,
          0.4,
          0.4375,
          0.40625,
          0.4,
          0.33962264150943394,
          0.35294117647058826,
          0.5,
          0.5476190476190477,
          0.6111111111111112,
          0.3,
          0.43037974683544306,
          0.4166666666666667,
          0.5555555555555556,
          0.4117647058823529,
          0.5428571428571428,
          0.4626865671641791,
          0.4117647058823529,
          0.4230769230769231,
          0.4186046511627907,
          0.425,
          0.3953488372093023,
          0.543859649122807,
          0.5645161290322581,
          0.29411764705882354,
          0.425531914893617,
          0.5394736842105263,
          0.5116279069767442,
          0.375,
          0.5915492957746479,
          0.4230769230769231,
          0.5522388059701493,
          0.38461538461538464,
          0.48148148148148145,
          0.45,
          0.49382716049382713,
          0.45714285714285713,
          0.6346153846153846,
          0.48214285714285715,
          0.26666666666666666,
          0.391304347826087,
          0.5,
          0.46153846153846156,
          0.3953488372093023,
          0.5,
          0.4772727272727273,
          0.4444444444444444,
          0.4,
          0.4444444444444444,
          0.49230769230769234,
          0.55,
          0.42857142857142855,
          0.3142857142857143,
          0.4666666666666667,
          0.45,
          0.47058823529411764,
          0.35714285714285715,
          0.45454545454545453,
          0.4418604651162791,
          0.36,
          0.4897959183673469,
          0.5,
          0.4074074074074074,
          0.375,
          0.4375,
          0.48333333333333334,
          0.375,
          0.5,
          0.375,
          0.3333333333333333,
          0.36666666666666664,
          0.5789473684210527,
          0.5,
          0.5365853658536586,
          0.32432432432432434,
          0.43478260869565216,
          0.3,
          0.5066666666666667,
          0.5483870967741935,
          0.3333333333333333,
          0.574468085106383,
          0.5,
          0.47619047619047616,
          0.5454545454545454,
          0.475,
          0.3076923076923077,
          0.4,
          0.5227272727272727,
          0.3333333333333333,
          0.4666666666666667,
          0.42857142857142855,
          0.42105263157894735,
          0.4358974358974359,
          0.3,
          0.4,
          0.36363636363636365,
          0.44776119402985076,
          0.5,
          0.5454545454545454,
          0.4574468085106383,
          0.46875,
          0.6153846153846154,
          0.43243243243243246,
          0.3333333333333333,
          0.4,
          0.4827586206896552,
          0.5555555555555556,
          0.5,
          0.3333333333333333,
          0.5121951219512195,
          0.5217391304347826,
          0.3333333333333333,
          0.32,
          0.3170731707317073,
          0.5932203389830508,
          0.328125,
          0.5868263473053892,
          0.4634146341463415,
          0.49166666666666664,
          0.3673469387755102,
          0.43478260869565216,
          0.4482758620689655,
          0.45454545454545453,
          0.42857142857142855,
          0.6507936507936508,
          0.375,
          0.3584905660377358,
          0.4883720930232558,
          0.38095238095238093,
          0.5,
          0.26666666666666666,
          0.5,
          0.5,
          0.4444444444444444,
          0.47368421052631576,
          0.4067796610169492,
          0.4375,
          0.44,
          0.5846153846153846,
          0.45588235294117646,
          0.6635514018691588,
          0.3076923076923077,
          0.5263157894736842,
          0.6571428571428571,
          0.5,
          0.45714285714285713,
          0.5098039215686274,
          0.48,
          0.4186046511627907,
          0.52,
          0.4074074074074074,
          0.4230769230769231,
          0.4594594594594595,
          0.35,
          0.4473684210526316,
          0.4,
          0.5217391304347826,
          0.43333333333333335,
          0.4,
          0.4,
          0.47058823529411764,
          0.5,
          0.5102040816326531,
          0.37777777777777777,
          0.5368421052631579,
          0.42857142857142855,
          0.3125,
          0.46938775510204084,
          0.42857142857142855,
          0.5263157894736842,
          0.5306122448979592,
          0.4166666666666667,
          0.38636363636363635,
          0.4444444444444444,
          0.5357142857142857,
          0.2916666666666667,
          0.4375,
          0.5945945945945946,
          0.30303030303030304,
          0.3333333333333333,
          0.5238095238095238,
          0.559322033898305,
          0.5660377358490566,
          0.4375,
          0.532258064516129,
          0.34285714285714286,
          0.39473684210526316,
          0.4411764705882353,
          0.4375,
          0.5,
          0.5081967213114754,
          0.45,
          0.4918032786885246,
          0.36363636363636365,
          0.5357142857142857,
          0.6203703703703703,
          0.3793103448275862,
          0.42105263157894735,
          0.5308641975308642,
          0.4634146341463415,
          0.6153846153846154,
          0.5555555555555556,
          0.36363636363636365,
          0.4791666666666667,
          0.3333333333333333,
          0.4,
          0.4523809523809524,
          0.47058823529411764,
          0.5,
          0.43859649122807015,
          0.5205479452054794,
          0.4,
          0.4444444444444444,
          0.4444444444444444,
          0.5,
          0.5641025641025641,
          0.5625,
          0.525,
          0.5,
          0.5,
          0.46938775510204084,
          0.5555555555555556,
          0.5428571428571428,
          0.5480769230769231,
          0.40384615384615385,
          0.4948453608247423,
          0.5238095238095238,
          0.4473684210526316,
          0.4084507042253521,
          0.375,
          0.4090909090909091,
          0.36,
          0.4166666666666667,
          0.48,
          0.2222222222222222,
          0.48717948717948717,
          0.5405405405405406,
          0.36363636363636365,
          0.5319148936170213,
          0.4444444444444444,
          0.4782608695652174,
          0.43243243243243246,
          0.47863247863247865,
          0.35135135135135137,
          0.5370370370370371,
          0.5714285714285714,
          0.45161290322580644,
          0.4827586206896552,
          0.5084745762711864,
          0.4888888888888889,
          0.3870967741935484,
          0.48148148148148145,
          0.46153846153846156,
          0.45901639344262296,
          0.5581395348837209,
          0.40350877192982454,
          0.5,
          0.375,
          0.5,
          0.3333333333333333,
          0.48,
          0.45714285714285713,
          0.5416666666666666,
          0.42424242424242425,
          0.375,
          0.45614035087719296,
          0.5789473684210527,
          0.4,
          0.5576923076923077,
          0.43478260869565216,
          0.2857142857142857,
          0.5172413793103449,
          0.4864864864864865,
          0.4782608695652174,
          0.6153846153846154,
          0.3333333333333333,
          0.4583333333333333,
          0.34615384615384615,
          0.5921052631578947,
          0.4166666666666667,
          0.4,
          0.375,
          0.38095238095238093,
          0.47368421052631576,
          0.4583333333333333,
          0.3333333333333333,
          0.4,
          0.3902439024390244,
          0.4166666666666667,
          0.4090909090909091,
          0.45454545454545453,
          0.6436781609195402,
          0.5652173913043478,
          0.3684210526315789,
          0.4,
          0.4444444444444444,
          0.4375,
          0.5,
          0.375
         ],
         "z": [
          0.46511627906976744,
          0.39156626506024095,
          0.45132743362831856,
          0.41007194244604317,
          0.6428571428571429,
          0.42857142857142855,
          0.358695652173913,
          0.36585365853658536,
          0.6261127596439169,
          0.35802469135802467,
          0.4126984126984127,
          0.3684210526315789,
          0.37037037037037035,
          0.32967032967032966,
          0.40594059405940597,
          0.5071225071225072,
          0.4166666666666667,
          0.4061302681992337,
          0.39285714285714285,
          0.625,
          0.5095541401273885,
          0.5384615384615384,
          0.39285714285714285,
          0.4430379746835443,
          0.26666666666666666,
          0.49264705882352944,
          0.3125,
          0.35555555555555557,
          0.32926829268292684,
          0.39325842696629215,
          0.45,
          0.36936936936936937,
          0.5,
          0.3157894736842105,
          0.5277777777777778,
          0.4155844155844156,
          0.528125,
          0.4666666666666667,
          0.4117647058823529,
          0.5128205128205128,
          0.4563106796116505,
          0.4605263157894737,
          0.25,
          0.41379310344827586,
          0.5074626865671642,
          0.28378378378378377,
          0.49710982658959535,
          0.5074626865671642,
          0.2857142857142857,
          0.40336134453781514,
          0.4785276073619632,
          0.359375,
          0.5337837837837838,
          0.4322033898305085,
          0.3875,
          0.5,
          0.43548387096774194,
          0.45595854922279794,
          0.3469387755102041,
          0.5355450236966824,
          0.4012738853503185,
          0.3275862068965517,
          0.43956043956043955,
          0.45390070921985815,
          0.28735632183908044,
          0.5,
          0.5288461538461539,
          0.4125,
          0.5255972696245734,
          0.4279835390946502,
          0.4491525423728814,
          0.3382352941176471,
          0.3170731707317073,
          0.4,
          0.4426229508196721,
          0.4251968503937008,
          0.36363636363636365,
          0.3333333333333333,
          0.42857142857142855,
          0.43478260869565216,
          0.41818181818181815,
          0.4166666666666667,
          0.37735849056603776,
          0.3076923076923077,
          0.1956521739130435,
          0.48,
          0.421875,
          0.48936170212765956,
          0.41732283464566927,
          0.37681159420289856,
          0.48,
          0.46835443037974683,
          0.41732283464566927,
          0.49056603773584906,
          0.49230769230769234,
          0.45054945054945056,
          0.391304347826087,
          0.2982456140350877,
          0.424,
          0.5454545454545454,
          0.35555555555555557,
          0.46153846153846156,
          0.4222222222222222,
          0.25,
          0.30434782608695654,
          0.38144329896907214,
          0.47619047619047616,
          0.532608695652174,
          0.4811320754716981,
          0.4931506849315068,
          0.45454545454545453,
          0.37662337662337664,
          0.35365853658536583,
          0.45871559633027525,
          0.4642857142857143,
          0.4539877300613497,
          0.3181818181818182,
          0.37755102040816324,
          0.42857142857142855,
          0.43529411764705883,
          0.4,
          0.4215686274509804,
          0.4625,
          0.2777777777777778,
          0.5586206896551724,
          0.39473684210526316,
          0.5137254901960784,
          0.4691358024691358,
          0.4444444444444444,
          0.3548387096774194,
          0.45714285714285713,
          0.4097222222222222,
          0.425,
          0.4588235294117647,
          0.22580645161290322,
          0.3448275862068966,
          0.42028985507246375,
          0.5483870967741935,
          0.52,
          0.3709677419354839,
          0.50199203187251,
          0.36585365853658536,
          0.47540983606557374,
          0.47058823529411764,
          0.6082474226804123,
          0.23076923076923078,
          0.3137254901960784,
          0.41975308641975306,
          0.4673913043478261,
          0.4583333333333333,
          0.1111111111111111,
          0.5098039215686274,
          0.21428571428571427,
          0.48677248677248675,
          0.38461538461538464,
          0.45864661654135336,
          0.2,
          0.48175182481751827,
          0.41025641025641024,
          0.375,
          0.38596491228070173,
          0.5355555555555556,
          0.47474747474747475,
          0.3,
          0.45698924731182794,
          0.4418604651162791,
          0.2777777777777778,
          0.17647058823529413,
          0.25,
          0.2631578947368421,
          0.4,
          0.4943820224719101,
          0.3858695652173913,
          0.36036036036036034,
          0.45454545454545453,
          0.46710526315789475,
          0.5062111801242236,
          0.56640625,
          0.3923076923076923,
          0.38,
          0.40860215053763443,
          0.30985915492957744,
          0.4303030303030303,
          0.38095238095238093,
          0.3835616438356164,
          0.41714285714285715,
          0.36538461538461536,
          0.39622641509433965,
          0.4215686274509804,
          0.37373737373737376,
          0.4027777777777778,
          0.4129353233830846,
          0.35294117647058826,
          0.4411764705882353,
          0.46835443037974683,
          0.42857142857142855,
          0.4742268041237113,
          0.34285714285714286,
          0.43902439024390244,
          0.34177215189873417,
          0.25,
          0.5359281437125748,
          0.31343283582089554,
          0.44554455445544555,
          0.41304347826086957,
          0.3584905660377358,
          0.49101796407185627,
          0.42990654205607476,
          0.4875,
          0.39705882352941174,
          0.38235294117647056,
          0.5097276264591439,
          0.4125,
          0.45121951219512196,
          0.4538152610441767,
          0.3741496598639456,
          0.2807017543859649,
          0.43820224719101125,
          0.4866666666666667,
          0.3333333333333333,
          0.46835443037974683,
          0.45555555555555555,
          0.30952380952380953,
          0.47478991596638653,
          0.4358974358974359,
          0.5102040816326531,
          0.40932642487046633,
          0.38613861386138615,
          0.4166666666666667,
          0.474025974025974,
          0.5098039215686274,
          0.421875,
          0.40789473684210525,
          0.4017857142857143,
          0.45394736842105265,
          0.47619047619047616,
          0.4368932038834951,
          0.375,
          0.6049382716049383,
          0.44,
          0.5081967213114754,
          0.42857142857142855,
          0.5,
          0.46218487394957986,
          0.5217391304347826,
          0.4189189189189189,
          0.36363636363636365,
          0.17777777777777778,
          0.5497076023391813,
          0.4631578947368421,
          0.3389830508474576,
          0.525974025974026,
          0.3333333333333333,
          0.423728813559322,
          0.46017699115044247,
          0.4351145038167939,
          0.41228070175438597,
          0.3953488372093023,
          0.5253333333333333,
          0.3238095238095238,
          0.5704918032786885,
          0.2413793103448276,
          0.5308641975308642,
          0.38095238095238093,
          0.47685185185185186,
          0.47368421052631576,
          0.4146341463414634,
          0.2903225806451613,
          0.3,
          0.38823529411764707,
          0.5143884892086331,
          0.3493975903614458,
          0.39655172413793105,
          0.5094339622641509,
          0.5106382978723404,
          0.42105263157894735,
          0.4266666666666667,
          0.4074074074074074,
          0.21818181818181817,
          0.4444444444444444,
          0.4623115577889447,
          0.5225806451612903,
          0.4264705882352941,
          0.3860759493670886,
          0.39766081871345027,
          0.5466101694915254,
          0.47794117647058826,
          0.4407894736842105,
          0.4649122807017544,
          0.47692307692307695,
          0.42727272727272725,
          0.4845360824742268,
          0.4409448818897638,
          0.36231884057971014,
          0.3684210526315789,
          0.41818181818181815,
          0.3559322033898305,
          0.359375,
          0.46099290780141844,
          0.5060240963855421,
          0.4107142857142857,
          0.4157303370786517,
          0.3018867924528302,
          0.36363636363636365,
          0.3283582089552239,
          0.5280373831775701,
          0.5,
          0.30303030303030304,
          0.2631578947368421,
          0.34615384615384615,
          0.359375,
          0.5623268698060941,
          0.3469387755102041,
          0.3673469387755102,
          0.3235294117647059,
          0.5302491103202847,
          0.40540540540540543,
          0.410958904109589,
          0.3225806451612903,
          0.4358974358974359,
          0.21621621621621623,
          0.6428571428571429,
          0.49606299212598426,
          0.2857142857142857,
          0.49295774647887325,
          0.47619047619047616,
          0.4925373134328358,
          0.45977011494252873,
          0.5361216730038023,
          0.43902439024390244,
          0.4491525423728814,
          0.36363636363636365,
          0.3333333333333333,
          0.4217687074829932,
          0.391304347826087,
          0.3
         ]
        },
        {
         "customdata": [
          [
           0.4666666666666667,
           0.2631578947368421,
           0.43636363636363634,
           "0",
           "Adrian Voinea"
          ],
          [
           0.6,
           0.2857142857142857,
           0.4489795918367347,
           "0",
           "Agustin Calleri"
          ],
          [
           0.6650485436893204,
           0.2222222222222222,
           0.49523809523809526,
           "0",
           "Albert Costa"
          ],
          [
           0.5338345864661654,
           0.3157894736842105,
           0.3064516129032258,
           "0",
           "Albert Montanes"
          ],
          [
           0.47388059701492535,
           0.21428571428571427,
           0.22448979591836735,
           "0",
           "Albert Portas"
          ],
          [
           0.5401459854014599,
           0.3333333333333333,
           0.3764705882352941,
           "0",
           "Albert Ramos"
          ],
          [
           0.5879396984924623,
           0.3333333333333333,
           0.4444444444444444,
           "0",
           "Alberto Mancini"
          ],
          [
           0.5164473684210527,
           0.32,
           0.3464052287581699,
           "0",
           "Alberto Martin"
          ],
          [
           0.40350877192982454,
           0.14285714285714285,
           0.4074074074074074,
           "0",
           "Alex Calatrava"
          ],
          [
           0.5,
           0.39285714285714285,
           0.4628099173553719,
           "0",
           "Aljaz Bedene"
          ],
          [
           0.25,
           0.2,
           0.42105263157894735,
           "0",
           "Alvaro Fillol"
          ],
          [
           0.2682926829268293,
           0.17142857142857143,
           0.30303030303030304,
           "0",
           "Alvin Gardiner"
          ],
          [
           0.5585284280936454,
           0.1,
           0.375,
           "0",
           "Andrea Gaudenzi"
          ],
          [
           0.3870967741935484,
           0.2857142857142857,
           0.3541666666666667,
           "0",
           "Andreas Haider Maurer"
          ],
          [
           0.43661971830985913,
           0.2857142857142857,
           0.48484848484848486,
           "0",
           "Andreas Vinciguerra"
          ],
          [
           0.6415094339622641,
           0.2727272727272727,
           0.5682819383259912,
           "0",
           "Andrei Chesnokov"
          ],
          [
           0.5316455696202531,
           0.3125,
           0.3904761904761905,
           "0",
           "Andrew Ilie"
          ],
          [
           0.36065573770491804,
           0.09090909090909091,
           0.3853211009174312,
           "0",
           "Andrey Golubev"
          ],
          [
           0.44776119402985076,
           0.35,
           0.4666666666666667,
           "0",
           "Andrey Kuznetsov"
          ],
          [
           0.4817073170731707,
           0.16666666666666666,
           0.35294117647058826,
           "0",
           "Angel Gimenez"
          ],
          [
           0.3926940639269406,
           0.2777777777777778,
           0.19047619047619047,
           "0",
           "Antonio Munoz"
          ],
          [
           0.4861878453038674,
           0.23529411764705882,
           0.2857142857142857,
           "0",
           "Antonio Zugarelli"
          ],
          [
           0.47474747474747475,
           0.25,
           0.32727272727272727,
           "0",
           "Arnaud Di Pasquale"
          ],
          [
           0.5338983050847458,
           0.44776119402985076,
           0.34375,
           "0",
           "Barry Phillips Moore"
          ],
          [
           0.40804597701149425,
           0.2727272727272727,
           0.25,
           "0",
           "Belus Prajoux"
          ],
          [
           0.4745762711864407,
           0.25,
           0.43478260869565216,
           "0",
           "Bernard Boileau"
          ],
          [
           0.5310344827586206,
           0.23529411764705882,
           0.4444444444444444,
           "0",
           "Bernd Karbacher"
          ],
          [
           0.3728813559322034,
           0.07142857142857142,
           0.4,
           "0",
           "Bjorn Phau"
          ],
          [
           0.43333333333333335,
           0.1875,
           0.36363636363636365,
           "0",
           "Blaz Kavcic"
          ],
          [
           0.3333333333333333,
           0.29411764705882354,
           0.26666666666666666,
           "0",
           "Bobby Reynolds"
          ],
          [
           0.5155555555555555,
           0.2631578947368421,
           0.4817073170731707,
           "0",
           "Bohdan Ulihrach"
          ],
          [
           0.4375,
           0.3333333333333333,
           0.45614035087719296,
           "0",
           "Bruce Manson"
          ],
          [
           0.43478260869565216,
           0.35714285714285715,
           0.4794520547945205,
           "0",
           "Cameron Norrie"
          ],
          [
           0.3333333333333333,
           0.07142857142857142,
           0.375,
           "0",
           "Carl Limberger"
          ],
          [
           0.47513812154696133,
           0.2222222222222222,
           0.5241935483870968,
           "0",
           "Carl Uwe Steeb"
          ],
          [
           0.463302752293578,
           0.25,
           0.32558139534883723,
           "0",
           "Carlos Berlocq"
          ],
          [
           0.599388379204893,
           0.375,
           0.4536082474226804,
           "0",
           "Carlos Costa"
          ],
          [
           0.30434782608695654,
           0.23529411764705882,
           0.3770491803278688,
           "0",
           "Cecil Mamiit"
          ],
          [
           0.671875,
           0.2857142857142857,
           0.375,
           "0",
           "Christian Garin"
          ],
          [
           0.41566265060240964,
           0.12,
           0.3228346456692913,
           "0",
           "Christophe Rochus"
          ],
          [
           0.44537815126050423,
           0.2,
           0.453125,
           "0",
           "Christophe Roger Vasselin"
          ],
          [
           0.489247311827957,
           0.25,
           0.3953488372093023,
           "0",
           "Claudio Mezzadri"
          ],
          [
           0.4444444444444444,
           0.3333333333333333,
           0.3888888888888889,
           "0",
           "Claudio Panatta"
          ],
          [
           0.45962732919254656,
           0.2,
           0.10526315789473684,
           "0",
           "Claudio Pistolesi"
          ],
          [
           0.39215686274509803,
           0.3333333333333333,
           0.4810126582278481,
           "0",
           "Colin Dowdeswell"
          ],
          [
           0.6175,
           0.1111111111111111,
           0.5942028985507246,
           "0",
           "Corrado Barazzutti"
          ],
          [
           0.3333333333333333,
           0.21428571428571427,
           0.40707964601769914,
           "0",
           "Cristiano Caratti"
          ],
          [
           0.4620253164556962,
           0.3888888888888889,
           0.3125,
           "0",
           "Damir Keretic"
          ],
          [
           0.45454545454545453,
           0.3157894736842105,
           0.46808510638297873,
           "0",
           "Danai Udomchoke"
          ],
          [
           0.42391304347826086,
           0.10526315789473684,
           0.2537313432835821,
           "0",
           "Daniel Gimeno Traver"
          ],
          [
           0.41025641025641024,
           0.2,
           0.30434782608695654,
           "0",
           "David Rikl"
          ],
          [
           0.5483870967741935,
           0.25,
           0.5833333333333334,
           "0",
           "Denis Shapovalov"
          ],
          [
           0.4318181818181818,
           0.3181818181818182,
           0.38461538461538464,
           "0",
           "Dennis Van Scheppingen"
          ],
          [
           0.3,
           0.3,
           0.14285714285714285,
           "0",
           "Dick Dell"
          ],
          [
           0.5684931506849316,
           0.3333333333333333,
           0.5333333333333333,
           "0",
           "Diego Schwartzman"
          ],
          [
           0.5362903225806451,
           0.24,
           0.5427728613569321,
           "0",
           "Dominik Hrbaty"
          ],
          [
           0.5066666666666667,
           0.25,
           0.4090909090909091,
           "0",
           "Dusan Lajovic"
          ],
          [
           0.6,
           0.2,
           0.5454545454545454,
           "0",
           "Edison Mandarino"
          ],
          [
           0.42857142857142855,
           0.3333333333333333,
           0.39285714285714285,
           "0",
           "Eduardo Masso"
          ],
          [
           0.4696969696969697,
           0.125,
           0.25806451612903225,
           "0",
           "Eduardo Schwank"
          ],
          [
           0.643312101910828,
           0.2857142857142857,
           0.5833333333333334,
           "0",
           "Emilio Sanchez"
          ],
          [
           0.423728813559322,
           0.3333333333333333,
           0.4166666666666667,
           "0",
           "Eric Deblicker"
          ],
          [
           0.45,
           0.4,
           0.33962264150943394,
           "0",
           "Eric Fromm"
          ],
          [
           0.5241379310344828,
           0.38461538461538464,
           0.5071428571428571,
           "0",
           "Ernests Gulbis"
          ],
          [
           0.3870967741935484,
           0.16666666666666666,
           0.5,
           "0",
           "Evgeny Korolev"
          ],
          [
           0.659217877094972,
           0.3333333333333333,
           0.49635036496350365,
           "0",
           "Felix Mantilla"
          ],
          [
           0.5513698630136986,
           0.14285714285714285,
           0.3486238532110092,
           "0",
           "Fernando Meligeni"
          ],
          [
           0.46887966804979253,
           0.29411764705882354,
           0.3786407766990291,
           "0",
           "Fernando Vicente"
          ],
          [
           0.5050505050505051,
           0.25,
           0.36764705882352944,
           "0",
           "Filip Dewulf"
          ],
          [
           0.5339805825242718,
           0.15384615384615385,
           0.1323529411764706,
           "0",
           "Filippo Volandri"
          ],
          [
           0.358974358974359,
           0.125,
           0.38181818181818183,
           "0",
           "Flavio Cipolla"
          ],
          [
           0.46153846153846156,
           0.34615384615384615,
           0.4166666666666667,
           "0",
           "Florent Serra"
          ],
          [
           0.46511627906976744,
           0.2,
           0.38461538461538464,
           "0",
           "Florin Segarceanu"
          ],
          [
           0.5397489539748954,
           0.14285714285714285,
           0.36231884057971014,
           "0",
           "Franco Squillari"
          ],
          [
           0.6241379310344828,
           0.4090909090909091,
           0.3076923076923077,
           "0",
           "Francois Jauffret"
          ],
          [
           0.4918032786885246,
           0.38461538461538464,
           0.45,
           "0",
           "Frank Froehling"
          ],
          [
           0.4397163120567376,
           0.25,
           0.2857142857142857,
           "0",
           "Frantisek Pala"
          ],
          [
           0.5476190476190477,
           0.125,
           0.3877551020408163,
           "0",
           "Frederico Gil"
          ],
          [
           0.46835443037974683,
           0.14285714285714285,
           0.20408163265306123,
           "0",
           "Galo Blanco"
          ],
          [
           0.660436137071651,
           0.25,
           0.42105263157894735,
           "0",
           "Gaston Gaudio"
          ],
          [
           0.2222222222222222,
           0.1875,
           0.4065934065934066,
           "0",
           "George Bastl"
          ],
          [
           0.4069767441860465,
           0.2857142857142857,
           0.4444444444444444,
           "0",
           "Gilles Moretton"
          ],
          [
           0.3076923076923077,
           0.23529411764705882,
           0.36538461538461536,
           "0",
           "Go Soeda"
          ],
          [
           0.5581395348837209,
           0.16666666666666666,
           0.4642857142857143,
           "0",
           "Goran Prpic"
          ],
          [
           0.5446428571428571,
           0.4444444444444444,
           0.4174757281553398,
           "0",
           "Guido Pella"
          ],
          [
           0.6175548589341693,
           0.3333333333333333,
           0.2,
           "0",
           "Hans Gildemeister"
          ],
          [
           0.5133333333333333,
           0.2857142857142857,
           0.5777777777777777,
           "0",
           "Hans Jurgen Pohmann"
          ],
          [
           0.41295546558704455,
           0.2857142857142857,
           0.4666666666666667,
           "0",
           "Hans Kary"
          ],
          [
           0.3548387096774194,
           0.25,
           0.40625,
           "0",
           "Hans Simonsson"
          ],
          [
           0.52,
           0.35294117647058826,
           0.5,
           "0",
           "Harald Elschenbroich"
          ],
          [
           0.6751269035532995,
           0.29411764705882354,
           0.34375,
           "0",
           "Henrik Sundstrom"
          ],
          [
           0.453125,
           0.15384615384615385,
           0.37349397590361444,
           "0",
           "Horacio Zeballos"
          ],
          [
           0.5907590759075908,
           0.14285714285714285,
           0.34328358208955223,
           "0",
           "Horst Skoff"
          ],
          [
           0.5483870967741935,
           0.3333333333333333,
           0.5309734513274337,
           "0",
           "Hyeon Chung"
          ],
          [
           0.45,
           0.35714285714285715,
           0.3018867924528302,
           "0",
           "Irakli Labadze"
          ],
          [
           0.49056603773584906,
           0.14285714285714285,
           0.26666666666666666,
           "0",
           "Ivan Molina"
          ],
          [
           0.3181818181818182,
           0.23076923076923078,
           0.4090909090909091,
           "0",
           "Ivo Minar"
          ],
          [
           0.44285714285714284,
           0.2,
           0.3333333333333333,
           "0",
           "Jaime Pinto Bravo"
          ],
          [
           0.45263157894736844,
           0.375,
           0.48255813953488375,
           "0",
           "Jan Lennard Struff"
          ],
          [
           0.5263157894736842,
           0.3888888888888889,
           0.4625,
           "0",
           "Jared Palmer"
          ],
          [
           0.5375,
           0.2727272727272727,
           0.45454545454545453,
           "0",
           "Javier Sanchez"
          ],
          [
           0.4489795918367347,
           0.13333333333333333,
           0.3333333333333333,
           "0",
           "Jean Francois Caujolle"
          ],
          [
           0.5405405405405406,
           0.3870967741935484,
           0.375,
           "0",
           "Jean Loup Rouyer"
          ],
          [
           0.4084507042253521,
           0.2,
           0.3559322033898305,
           "0",
           "Jean Rene Lisnard"
          ],
          [
           0.4537037037037037,
           0.34146341463414637,
           0.46645367412140576,
           "0",
           "Jeff Tarango"
          ],
          [
           0.3611111111111111,
           0.2222222222222222,
           0.4666666666666667,
           "0",
           "Jerome Potier"
          ],
          [
           0.4375,
           0.4,
           0.2571428571428571,
           "0",
           "Jim Gurfein"
          ],
          [
           0.5384615384615384,
           0.43478260869565216,
           0.4107142857142857,
           "0",
           "Jiri Hrebec"
          ],
          [
           0.42105263157894735,
           0.125,
           0.3,
           "0",
           "Jiri Vanek"
          ],
          [
           0.32558139534883723,
           0.2,
           0.40625,
           "0",
           "Joao Cunha Silva"
          ],
          [
           0.4968553459119497,
           0.4117647058823529,
           0.45045045045045046,
           "0",
           "Joao Sousa"
          ],
          [
           0.43333333333333335,
           0.36363636363636365,
           0.4878048780487805,
           "0",
           "John Frawley"
          ],
          [
           0.416,
           0.3333333333333333,
           0.38095238095238093,
           "0",
           "Jose Lopez Maeso"
          ],
          [
           0.44086021505376344,
           0.3333333333333333,
           0.20689655172413793,
           "0",
           "Juan Albert Viloca Puig"
          ],
          [
           0.5963855421686747,
           0.26666666666666666,
           0.5,
           "0",
           "Juan Ignacio Chela"
          ],
          [
           0.6226912928759895,
           0.3888888888888889,
           0.463768115942029,
           "0",
           "Juan Monaco"
          ],
          [
           0.5172413793103449,
           0.1111111111111111,
           0.3559322033898305,
           "0",
           "Julien Boutter"
          ],
          [
           0.4473684210526316,
           0.38235294117647056,
           0.37142857142857144,
           "0",
           "Jun Kamiwazumi"
          ],
          [
           0.371900826446281,
           0.25,
           0.3939393939393939,
           "0",
           "Jun Kuki"
          ],
          [
           0.5313807531380753,
           0.3333333333333333,
           0.375,
           "0",
           "Karim Alami"
          ],
          [
           0.2,
           0.2222222222222222,
           0.34615384615384615,
           "0",
           "Kevin Kim"
          ],
          [
           0.4887640449438202,
           0.2222222222222222,
           0.4318181818181818,
           "0",
           "Kjell Johansson"
          ],
          [
           0.46808510638297873,
           0.3333333333333333,
           0.3076923076923077,
           "0",
           "Klaus Eberhard"
          ],
          [
           0.34615384615384615,
           0.25,
           0.40476190476190477,
           "0",
           "Kristian Pless"
          ],
          [
           0.42857142857142855,
           0.37037037037037035,
           0.4222222222222222,
           "0",
           "Kristof Vliegen"
          ],
          [
           0.49056603773584906,
           0.3870967741935484,
           0.5333333333333333,
           "0",
           "Kyle Edmund"
          ],
          [
           0.375,
           0.2608695652173913,
           0.4473684210526316,
           "0",
           "Larry Stefanki"
          ],
          [
           0.41025641025641024,
           0.2222222222222222,
           0.4027777777777778,
           "0",
           "Lars Jonsson"
          ],
          [
           0.6338028169014085,
           0.2,
           0.21212121212121213,
           "0",
           "Laslo Djere"
          ],
          [
           0.37209302325581395,
           0.2,
           0.3170731707317073,
           "0",
           "Leo Palin"
          ],
          [
           0.4861111111111111,
           0.15384615384615385,
           0.4090909090909091,
           "0",
           "Leonardo Lavalle"
          ],
          [
           0.3025210084033613,
           0.2,
           0.2,
           "0",
           "Lito Alvarez"
          ],
          [
           0.49390243902439024,
           0.14285714285714285,
           0.554140127388535,
           "0",
           "Luiz Mattar"
          ],
          [
           0.5247524752475248,
           0.4,
           0.39375,
           "0",
           "Lukas Rosol"
          ],
          [
           0.42592592592592593,
           0.2962962962962963,
           0.43243243243243246,
           "0",
           "Malek Jaziri"
          ],
          [
           0.43,
           0.2727272727272727,
           0.358974358974359,
           "0",
           "Marcello Lara"
          ],
          [
           0.45121951219512196,
           0.25,
           0.23255813953488372,
           "0",
           "Marco Cecchinato"
          ],
          [
           0.3448275862068966,
           0.25,
           0.23529411764705882,
           "0",
           "Marcos Aurelio Gorriz"
          ],
          [
           0.5193370165745856,
           0.25,
           0.3090909090909091,
           "0",
           "Marian Vajda"
          ],
          [
           0.509090909090909,
           0.14285714285714285,
           0.3076923076923077,
           "0",
           "Markus Hipfl"
          ],
          [
           0.553030303030303,
           0.23529411764705882,
           0.44666666666666666,
           "0",
           "Martin Klizan"
          ],
          [
           0.632,
           0.25,
           0.3684210526315789,
           "0",
           "Martin Mulligan"
          ],
          [
           0.3170731707317073,
           0.14285714285714285,
           0.4166666666666667,
           "0",
           "Martin Sinner"
          ],
          [
           0.43617021276595747,
           0.2857142857142857,
           0.14814814814814814,
           "0",
           "Martin Vassallo Arguello"
          ],
          [
           0.5079365079365079,
           0.3333333333333333,
           0.38636363636363635,
           "0",
           "Martin Verkerk"
          ],
          [
           0.5555555555555556,
           0.3076923076923077,
           0.4946236559139785,
           "0",
           "Marton Fucsovics"
          ],
          [
           0.4,
           0.26666666666666666,
           0.45555555555555555,
           "0",
           "Michael Tebbutt"
          ],
          [
           0.45652173913043476,
           0.25,
           0.45454545454545453,
           "0",
           "Michael Westphal"
          ],
          [
           0.4696969696969697,
           0.2727272727272727,
           0.5416666666666666,
           "0",
           "Mikael Tillstrom"
          ],
          [
           0.42857142857142855,
           0.38461538461538464,
           0.3582089552238806,
           "0",
           "Mike Leach"
          ],
          [
           0.375,
           0.15789473684210525,
           0.42424242424242425,
           "0",
           "Nicola Spear"
          ],
          [
           0.6065573770491803,
           0.4,
           0.2972972972972973,
           "0",
           "Nicolas Jarry"
          ],
          [
           0.5617283950617284,
           0.36666666666666664,
           0.4890829694323144,
           "0",
           "Nicolas Lapentti"
          ],
          [
           0.5765124555160143,
           0.3333333333333333,
           0.4540229885057471,
           "0",
           "Nicolas Massu"
          ],
          [
           0.6065573770491803,
           0.3333333333333333,
           0.5862068965517241,
           "0",
           "Nikolay Davydenko"
          ],
          [
           0.47619047619047616,
           0.3684210526315789,
           0.4672131147540984,
           "0",
           "Nikoloz Basilashvili"
          ],
          [
           0.3684210526315789,
           0.16666666666666666,
           0.40540540540540543,
           "0",
           "Nuno Marques"
          ],
          [
           0.5,
           0.4,
           0.4838709677419355,
           "0",
           "Oleg Ogorodov"
          ],
          [
           0.461038961038961,
           0.38461538461538464,
           0.5263157894736842,
           "0",
           "Omar Camporese"
          ],
          [
           0.4125874125874126,
           0.1,
           0.13513513513513514,
           "0",
           "Oscar Hernandez"
          ],
          [
           0.5097087378640777,
           0.11764705882352941,
           0.28125,
           "0",
           "Pablo Andujar"
          ],
          [
           0.5375,
           0.2,
           0.5608465608465608,
           "0",
           "Pablo Carreno Busta"
          ],
          [
           0.6007462686567164,
           0.4117647058823529,
           0.40540540540540543,
           "0",
           "Pablo Cuevas"
          ],
          [
           0.6136363636363636,
           0.375,
           0.35714285714285715,
           "0",
           "Paolo Bertolucci"
          ],
          [
           0.5310734463276836,
           0.25,
           0.5106382978723404,
           "0",
           "Paolo Cane"
          ],
          [
           0.4195804195804196,
           0.2,
           0.36,
           "0",
           "Paolo Lorenzi"
          ],
          [
           0.4065934065934066,
           0.3333333333333333,
           0.5135135135135135,
           "0",
           "Pascal Portes"
          ],
          [
           0.44776119402985076,
           0.35,
           0.2777777777777778,
           "0",
           "Patricio Cornejo"
          ],
          [
           0.423728813559322,
           0.2727272727272727,
           0.6666666666666666,
           "0",
           "Patrick Hombergen"
          ],
          [
           0.39622641509433965,
           0.3,
           0.38095238095238093,
           "0",
           "Paul Capdeville"
          ],
          [
           0.4864864864864865,
           0.4074074074074074,
           0.4618181818181818,
           "0",
           "Paul Henri Mathieu"
          ],
          [
           0.461038961038961,
           0.3333333333333333,
           0.35135135135135137,
           "0",
           "Peter Elter"
          ],
          [
           0.5286885245901639,
           0.08333333333333333,
           0.3111111111111111,
           "0",
           "Potito Starace"
          ],
          [
           0.6265060240963856,
           0.18181818181818182,
           0.42857142857142855,
           "0",
           "Ramon Delgado"
          ],
          [
           0.49814126394052044,
           0.3333333333333333,
           0.44715447154471544,
           "0",
           "Renzo Furlan"
          ],
          [
           0.27586206896551724,
           0.21052631578947367,
           0.5222222222222223,
           "0",
           "Ricardas Berankis"
          ],
          [
           0.45614035087719296,
           0.1111111111111111,
           0.39285714285714285,
           "0",
           "Ricardo Mello"
          ],
          [
           0.48344370860927155,
           0.2,
           0.1,
           "0",
           "Ricardo Ycaza"
          ],
          [
           0.5,
           0.16666666666666666,
           0.375,
           "0",
           "Roberto Carballes Baena"
          ],
          [
           0.3404255319148936,
           0.25,
           0.3333333333333333,
           "0",
           "Robin Drysdale"
          ],
          [
           0.5058139534883721,
           0.4,
           0.44150943396226416,
           "0",
           "Robin Haase"
          ],
          [
           0.375,
           0.18181818181818182,
           0.38461538461538464,
           "0",
           "Rodolphe Gilbert"
          ],
          [
           0.5232974910394266,
           0.3333333333333333,
           0.37398373983739835,
           "0",
           "Ronald Agenor"
          ],
          [
           0.3865546218487395,
           0.2765957446808511,
           0.32894736842105265,
           "0",
           "Sashi Menon"
          ],
          [
           0.4581005586592179,
           0.16666666666666666,
           0.46808510638297873,
           "0",
           "Sergio Casal"
          ],
          [
           0.38461538461538464,
           0.3333333333333333,
           0.37735849056603776,
           "0",
           "Simon Greul"
          ],
          [
           0.5610687022900763,
           0.3333333333333333,
           0.42696629213483145,
           "0",
           "Slava Dosedel"
          ],
          [
           0.2857142857142857,
           0.25,
           0.4818181818181818,
           "0",
           "Somdev Devvarman"
          ],
          [
           0.5,
           0.2962962962962963,
           0.44545454545454544,
           "0",
           "Stefan Koubek"
          ],
          [
           0.4036697247706422,
           0.3333333333333333,
           0.4608695652173913,
           "0",
           "Stefano Pescosolido"
          ],
          [
           0.3333333333333333,
           0.2,
           0.3670886075949367,
           "0",
           "Steve Bryan"
          ],
          [
           0.44554455445544555,
           0.2,
           0.3877551020408163,
           "0",
           "Tarik Benhabiles"
          ],
          [
           0.3904761904761905,
           0.2608695652173913,
           0.36363636363636365,
           "0",
           "Teymuraz Gabashvili"
          ],
          [
           0.49295774647887325,
           0.3333333333333333,
           0.1935483870967742,
           "0",
           "Thiago Monteiro"
          ],
          [
           0.48333333333333334,
           0.3888888888888889,
           0.4,
           "0",
           "Thiemo De Bakker"
          ],
          [
           0.5627009646302251,
           0.2,
           0.42045454545454547,
           "0",
           "Thierry Tulasne"
          ],
          [
           0.2727272727272727,
           0.18181818181818182,
           0.36153846153846153,
           "0",
           "Thomas Hogstedt"
          ],
          [
           0.5565217391304348,
           0.3333333333333333,
           0.40350877192982454,
           "0",
           "Thomaz Bellucci"
          ],
          [
           0.5757575757575758,
           0.3235294117647059,
           0.5,
           "0",
           "Thomaz Koch"
          ],
          [
           0.3541666666666667,
           0.3,
           0.5126582278481012,
           "0",
           "Todd Witsken"
          ],
          [
           0.41379310344827586,
           0.35714285714285715,
           0.4318181818181818,
           "0",
           "Tom Cain"
          ],
          [
           0.3170731707317073,
           0.125,
           0.3611111111111111,
           "0",
           "Tom Nijssen"
          ],
          [
           0.5145985401459854,
           0.35294117647058826,
           0.3875,
           "0",
           "Tomas Carbonell"
          ],
          [
           0.11458333333333333,
           0.034482758620689655,
           0.08695652173913043,
           "0",
           "U Unknown"
          ],
          [
           0.45714285714285713,
           0.16666666666666666,
           0.47297297297297297,
           "0",
           "Van Winitsky"
          ],
          [
           0.6285714285714286,
           0.23529411764705882,
           0.43661971830985913,
           "0",
           "Victor Estrella"
          ],
          [
           0.5416666666666666,
           0.40625,
           0.3419354838709677,
           "0",
           "Victor Hanescu"
          ],
          [
           0.2857142857142857,
           0.2,
           0.48739495798319327,
           "0",
           "Vincent Van Patten"
          ],
          [
           0.48360655737704916,
           0.36,
           0.34615384615384615,
           "0",
           "Vladimir Zednik"
          ]
         ],
         "hoverlabel": {
          "namelength": 0
         },
         "hovertemplate": "label=%{customdata[3]}<br>Clay_record=%{customdata[0]}<br>Grass_record=%{customdata[1]}<br>Hard_record=%{customdata[2]}<br>player_name=%{customdata[4]}",
         "legendgroup": "0",
         "marker": {
          "color": "#00cc96",
          "symbol": "circle"
         },
         "mode": "markers",
         "name": "0",
         "scene": "scene",
         "showlegend": true,
         "type": "scatter3d",
         "x": [
          0.4666666666666667,
          0.6,
          0.6650485436893204,
          0.5338345864661654,
          0.47388059701492535,
          0.5401459854014599,
          0.5879396984924623,
          0.5164473684210527,
          0.40350877192982454,
          0.5,
          0.25,
          0.2682926829268293,
          0.5585284280936454,
          0.3870967741935484,
          0.43661971830985913,
          0.6415094339622641,
          0.5316455696202531,
          0.36065573770491804,
          0.44776119402985076,
          0.4817073170731707,
          0.3926940639269406,
          0.4861878453038674,
          0.47474747474747475,
          0.5338983050847458,
          0.40804597701149425,
          0.4745762711864407,
          0.5310344827586206,
          0.3728813559322034,
          0.43333333333333335,
          0.3333333333333333,
          0.5155555555555555,
          0.4375,
          0.43478260869565216,
          0.3333333333333333,
          0.47513812154696133,
          0.463302752293578,
          0.599388379204893,
          0.30434782608695654,
          0.671875,
          0.41566265060240964,
          0.44537815126050423,
          0.489247311827957,
          0.4444444444444444,
          0.45962732919254656,
          0.39215686274509803,
          0.6175,
          0.3333333333333333,
          0.4620253164556962,
          0.45454545454545453,
          0.42391304347826086,
          0.41025641025641024,
          0.5483870967741935,
          0.4318181818181818,
          0.3,
          0.5684931506849316,
          0.5362903225806451,
          0.5066666666666667,
          0.6,
          0.42857142857142855,
          0.4696969696969697,
          0.643312101910828,
          0.423728813559322,
          0.45,
          0.5241379310344828,
          0.3870967741935484,
          0.659217877094972,
          0.5513698630136986,
          0.46887966804979253,
          0.5050505050505051,
          0.5339805825242718,
          0.358974358974359,
          0.46153846153846156,
          0.46511627906976744,
          0.5397489539748954,
          0.6241379310344828,
          0.4918032786885246,
          0.4397163120567376,
          0.5476190476190477,
          0.46835443037974683,
          0.660436137071651,
          0.2222222222222222,
          0.4069767441860465,
          0.3076923076923077,
          0.5581395348837209,
          0.5446428571428571,
          0.6175548589341693,
          0.5133333333333333,
          0.41295546558704455,
          0.3548387096774194,
          0.52,
          0.6751269035532995,
          0.453125,
          0.5907590759075908,
          0.5483870967741935,
          0.45,
          0.49056603773584906,
          0.3181818181818182,
          0.44285714285714284,
          0.45263157894736844,
          0.5263157894736842,
          0.5375,
          0.4489795918367347,
          0.5405405405405406,
          0.4084507042253521,
          0.4537037037037037,
          0.3611111111111111,
          0.4375,
          0.5384615384615384,
          0.42105263157894735,
          0.32558139534883723,
          0.4968553459119497,
          0.43333333333333335,
          0.416,
          0.44086021505376344,
          0.5963855421686747,
          0.6226912928759895,
          0.5172413793103449,
          0.4473684210526316,
          0.371900826446281,
          0.5313807531380753,
          0.2,
          0.4887640449438202,
          0.46808510638297873,
          0.34615384615384615,
          0.42857142857142855,
          0.49056603773584906,
          0.375,
          0.41025641025641024,
          0.6338028169014085,
          0.37209302325581395,
          0.4861111111111111,
          0.3025210084033613,
          0.49390243902439024,
          0.5247524752475248,
          0.42592592592592593,
          0.43,
          0.45121951219512196,
          0.3448275862068966,
          0.5193370165745856,
          0.509090909090909,
          0.553030303030303,
          0.632,
          0.3170731707317073,
          0.43617021276595747,
          0.5079365079365079,
          0.5555555555555556,
          0.4,
          0.45652173913043476,
          0.4696969696969697,
          0.42857142857142855,
          0.375,
          0.6065573770491803,
          0.5617283950617284,
          0.5765124555160143,
          0.6065573770491803,
          0.47619047619047616,
          0.3684210526315789,
          0.5,
          0.461038961038961,
          0.4125874125874126,
          0.5097087378640777,
          0.5375,
          0.6007462686567164,
          0.6136363636363636,
          0.5310734463276836,
          0.4195804195804196,
          0.4065934065934066,
          0.44776119402985076,
          0.423728813559322,
          0.39622641509433965,
          0.4864864864864865,
          0.461038961038961,
          0.5286885245901639,
          0.6265060240963856,
          0.49814126394052044,
          0.27586206896551724,
          0.45614035087719296,
          0.48344370860927155,
          0.5,
          0.3404255319148936,
          0.5058139534883721,
          0.375,
          0.5232974910394266,
          0.3865546218487395,
          0.4581005586592179,
          0.38461538461538464,
          0.5610687022900763,
          0.2857142857142857,
          0.5,
          0.4036697247706422,
          0.3333333333333333,
          0.44554455445544555,
          0.3904761904761905,
          0.49295774647887325,
          0.48333333333333334,
          0.5627009646302251,
          0.2727272727272727,
          0.5565217391304348,
          0.5757575757575758,
          0.3541666666666667,
          0.41379310344827586,
          0.3170731707317073,
          0.5145985401459854,
          0.11458333333333333,
          0.45714285714285713,
          0.6285714285714286,
          0.5416666666666666,
          0.2857142857142857,
          0.48360655737704916
         ],
         "y": [
          0.2631578947368421,
          0.2857142857142857,
          0.2222222222222222,
          0.3157894736842105,
          0.21428571428571427,
          0.3333333333333333,
          0.3333333333333333,
          0.32,
          0.14285714285714285,
          0.39285714285714285,
          0.2,
          0.17142857142857143,
          0.1,
          0.2857142857142857,
          0.2857142857142857,
          0.2727272727272727,
          0.3125,
          0.09090909090909091,
          0.35,
          0.16666666666666666,
          0.2777777777777778,
          0.23529411764705882,
          0.25,
          0.44776119402985076,
          0.2727272727272727,
          0.25,
          0.23529411764705882,
          0.07142857142857142,
          0.1875,
          0.29411764705882354,
          0.2631578947368421,
          0.3333333333333333,
          0.35714285714285715,
          0.07142857142857142,
          0.2222222222222222,
          0.25,
          0.375,
          0.23529411764705882,
          0.2857142857142857,
          0.12,
          0.2,
          0.25,
          0.3333333333333333,
          0.2,
          0.3333333333333333,
          0.1111111111111111,
          0.21428571428571427,
          0.3888888888888889,
          0.3157894736842105,
          0.10526315789473684,
          0.2,
          0.25,
          0.3181818181818182,
          0.3,
          0.3333333333333333,
          0.24,
          0.25,
          0.2,
          0.3333333333333333,
          0.125,
          0.2857142857142857,
          0.3333333333333333,
          0.4,
          0.38461538461538464,
          0.16666666666666666,
          0.3333333333333333,
          0.14285714285714285,
          0.29411764705882354,
          0.25,
          0.15384615384615385,
          0.125,
          0.34615384615384615,
          0.2,
          0.14285714285714285,
          0.4090909090909091,
          0.38461538461538464,
          0.25,
          0.125,
          0.14285714285714285,
          0.25,
          0.1875,
          0.2857142857142857,
          0.23529411764705882,
          0.16666666666666666,
          0.4444444444444444,
          0.3333333333333333,
          0.2857142857142857,
          0.2857142857142857,
          0.25,
          0.35294117647058826,
          0.29411764705882354,
          0.15384615384615385,
          0.14285714285714285,
          0.3333333333333333,
          0.35714285714285715,
          0.14285714285714285,
          0.23076923076923078,
          0.2,
          0.375,
          0.3888888888888889,
          0.2727272727272727,
          0.13333333333333333,
          0.3870967741935484,
          0.2,
          0.34146341463414637,
          0.2222222222222222,
          0.4,
          0.43478260869565216,
          0.125,
          0.2,
          0.4117647058823529,
          0.36363636363636365,
          0.3333333333333333,
          0.3333333333333333,
          0.26666666666666666,
          0.3888888888888889,
          0.1111111111111111,
          0.38235294117647056,
          0.25,
          0.3333333333333333,
          0.2222222222222222,
          0.2222222222222222,
          0.3333333333333333,
          0.25,
          0.37037037037037035,
          0.3870967741935484,
          0.2608695652173913,
          0.2222222222222222,
          0.2,
          0.2,
          0.15384615384615385,
          0.2,
          0.14285714285714285,
          0.4,
          0.2962962962962963,
          0.2727272727272727,
          0.25,
          0.25,
          0.25,
          0.14285714285714285,
          0.23529411764705882,
          0.25,
          0.14285714285714285,
          0.2857142857142857,
          0.3333333333333333,
          0.3076923076923077,
          0.26666666666666666,
          0.25,
          0.2727272727272727,
          0.38461538461538464,
          0.15789473684210525,
          0.4,
          0.36666666666666664,
          0.3333333333333333,
          0.3333333333333333,
          0.3684210526315789,
          0.16666666666666666,
          0.4,
          0.38461538461538464,
          0.1,
          0.11764705882352941,
          0.2,
          0.4117647058823529,
          0.375,
          0.25,
          0.2,
          0.3333333333333333,
          0.35,
          0.2727272727272727,
          0.3,
          0.4074074074074074,
          0.3333333333333333,
          0.08333333333333333,
          0.18181818181818182,
          0.3333333333333333,
          0.21052631578947367,
          0.1111111111111111,
          0.2,
          0.16666666666666666,
          0.25,
          0.4,
          0.18181818181818182,
          0.3333333333333333,
          0.2765957446808511,
          0.16666666666666666,
          0.3333333333333333,
          0.3333333333333333,
          0.25,
          0.2962962962962963,
          0.3333333333333333,
          0.2,
          0.2,
          0.2608695652173913,
          0.3333333333333333,
          0.3888888888888889,
          0.2,
          0.18181818181818182,
          0.3333333333333333,
          0.3235294117647059,
          0.3,
          0.35714285714285715,
          0.125,
          0.35294117647058826,
          0.034482758620689655,
          0.16666666666666666,
          0.23529411764705882,
          0.40625,
          0.2,
          0.36
         ],
         "z": [
          0.43636363636363634,
          0.4489795918367347,
          0.49523809523809526,
          0.3064516129032258,
          0.22448979591836735,
          0.3764705882352941,
          0.4444444444444444,
          0.3464052287581699,
          0.4074074074074074,
          0.4628099173553719,
          0.42105263157894735,
          0.30303030303030304,
          0.375,
          0.3541666666666667,
          0.48484848484848486,
          0.5682819383259912,
          0.3904761904761905,
          0.3853211009174312,
          0.4666666666666667,
          0.35294117647058826,
          0.19047619047619047,
          0.2857142857142857,
          0.32727272727272727,
          0.34375,
          0.25,
          0.43478260869565216,
          0.4444444444444444,
          0.4,
          0.36363636363636365,
          0.26666666666666666,
          0.4817073170731707,
          0.45614035087719296,
          0.4794520547945205,
          0.375,
          0.5241935483870968,
          0.32558139534883723,
          0.4536082474226804,
          0.3770491803278688,
          0.375,
          0.3228346456692913,
          0.453125,
          0.3953488372093023,
          0.3888888888888889,
          0.10526315789473684,
          0.4810126582278481,
          0.5942028985507246,
          0.40707964601769914,
          0.3125,
          0.46808510638297873,
          0.2537313432835821,
          0.30434782608695654,
          0.5833333333333334,
          0.38461538461538464,
          0.14285714285714285,
          0.5333333333333333,
          0.5427728613569321,
          0.4090909090909091,
          0.5454545454545454,
          0.39285714285714285,
          0.25806451612903225,
          0.5833333333333334,
          0.4166666666666667,
          0.33962264150943394,
          0.5071428571428571,
          0.5,
          0.49635036496350365,
          0.3486238532110092,
          0.3786407766990291,
          0.36764705882352944,
          0.1323529411764706,
          0.38181818181818183,
          0.4166666666666667,
          0.38461538461538464,
          0.36231884057971014,
          0.3076923076923077,
          0.45,
          0.2857142857142857,
          0.3877551020408163,
          0.20408163265306123,
          0.42105263157894735,
          0.4065934065934066,
          0.4444444444444444,
          0.36538461538461536,
          0.4642857142857143,
          0.4174757281553398,
          0.2,
          0.5777777777777777,
          0.4666666666666667,
          0.40625,
          0.5,
          0.34375,
          0.37349397590361444,
          0.34328358208955223,
          0.5309734513274337,
          0.3018867924528302,
          0.26666666666666666,
          0.4090909090909091,
          0.3333333333333333,
          0.48255813953488375,
          0.4625,
          0.45454545454545453,
          0.3333333333333333,
          0.375,
          0.3559322033898305,
          0.46645367412140576,
          0.4666666666666667,
          0.2571428571428571,
          0.4107142857142857,
          0.3,
          0.40625,
          0.45045045045045046,
          0.4878048780487805,
          0.38095238095238093,
          0.20689655172413793,
          0.5,
          0.463768115942029,
          0.3559322033898305,
          0.37142857142857144,
          0.3939393939393939,
          0.375,
          0.34615384615384615,
          0.4318181818181818,
          0.3076923076923077,
          0.40476190476190477,
          0.4222222222222222,
          0.5333333333333333,
          0.4473684210526316,
          0.4027777777777778,
          0.21212121212121213,
          0.3170731707317073,
          0.4090909090909091,
          0.2,
          0.554140127388535,
          0.39375,
          0.43243243243243246,
          0.358974358974359,
          0.23255813953488372,
          0.23529411764705882,
          0.3090909090909091,
          0.3076923076923077,
          0.44666666666666666,
          0.3684210526315789,
          0.4166666666666667,
          0.14814814814814814,
          0.38636363636363635,
          0.4946236559139785,
          0.45555555555555555,
          0.45454545454545453,
          0.5416666666666666,
          0.3582089552238806,
          0.42424242424242425,
          0.2972972972972973,
          0.4890829694323144,
          0.4540229885057471,
          0.5862068965517241,
          0.4672131147540984,
          0.40540540540540543,
          0.4838709677419355,
          0.5263157894736842,
          0.13513513513513514,
          0.28125,
          0.5608465608465608,
          0.40540540540540543,
          0.35714285714285715,
          0.5106382978723404,
          0.36,
          0.5135135135135135,
          0.2777777777777778,
          0.6666666666666666,
          0.38095238095238093,
          0.4618181818181818,
          0.35135135135135137,
          0.3111111111111111,
          0.42857142857142855,
          0.44715447154471544,
          0.5222222222222223,
          0.39285714285714285,
          0.1,
          0.375,
          0.3333333333333333,
          0.44150943396226416,
          0.38461538461538464,
          0.37398373983739835,
          0.32894736842105265,
          0.46808510638297873,
          0.37735849056603776,
          0.42696629213483145,
          0.4818181818181818,
          0.44545454545454544,
          0.4608695652173913,
          0.3670886075949367,
          0.3877551020408163,
          0.36363636363636365,
          0.1935483870967742,
          0.4,
          0.42045454545454547,
          0.36153846153846153,
          0.40350877192982454,
          0.5,
          0.5126582278481012,
          0.4318181818181818,
          0.3611111111111111,
          0.3875,
          0.08695652173913043,
          0.47297297297297297,
          0.43661971830985913,
          0.3419354838709677,
          0.48739495798319327,
          0.34615384615384615
         ]
        }
       ],
       "layout": {
        "legend": {
         "title": {
          "text": "label"
         },
         "tracegroupgap": 0
        },
        "margin": {
         "t": 60
        },
        "scene": {
         "domain": {
          "x": [
           0,
           1
          ],
          "y": [
           0,
           1
          ]
         },
         "xaxis": {
          "title": {
           "text": "Clay_record"
          }
         },
         "yaxis": {
          "title": {
           "text": "Grass_record"
          }
         },
         "zaxis": {
          "title": {
           "text": "Hard_record"
          }
         }
        },
        "template": {
         "data": {
          "bar": [
           {
            "error_x": {
             "color": "#2a3f5f"
            },
            "error_y": {
             "color": "#2a3f5f"
            },
            "marker": {
             "line": {
              "color": "#E5ECF6",
              "width": 0.5
             }
            },
            "type": "bar"
           }
          ],
          "barpolar": [
           {
            "marker": {
             "line": {
              "color": "#E5ECF6",
              "width": 0.5
             }
            },
            "type": "barpolar"
           }
          ],
          "carpet": [
           {
            "aaxis": {
             "endlinecolor": "#2a3f5f",
             "gridcolor": "white",
             "linecolor": "white",
             "minorgridcolor": "white",
             "startlinecolor": "#2a3f5f"
            },
            "baxis": {
             "endlinecolor": "#2a3f5f",
             "gridcolor": "white",
             "linecolor": "white",
             "minorgridcolor": "white",
             "startlinecolor": "#2a3f5f"
            },
            "type": "carpet"
           }
          ],
          "choropleth": [
           {
            "colorbar": {
             "outlinewidth": 0,
             "ticks": ""
            },
            "type": "choropleth"
           }
          ],
          "contour": [
           {
            "colorbar": {
             "outlinewidth": 0,
             "ticks": ""
            },
            "colorscale": [
             [
              0,
              "#0d0887"
             ],
             [
              0.1111111111111111,
              "#46039f"
             ],
             [
              0.2222222222222222,
              "#7201a8"
             ],
             [
              0.3333333333333333,
              "#9c179e"
             ],
             [
              0.4444444444444444,
              "#bd3786"
             ],
             [
              0.5555555555555556,
              "#d8576b"
             ],
             [
              0.6666666666666666,
              "#ed7953"
             ],
             [
              0.7777777777777778,
              "#fb9f3a"
             ],
             [
              0.8888888888888888,
              "#fdca26"
             ],
             [
              1,
              "#f0f921"
             ]
            ],
            "type": "contour"
           }
          ],
          "contourcarpet": [
           {
            "colorbar": {
             "outlinewidth": 0,
             "ticks": ""
            },
            "type": "contourcarpet"
           }
          ],
          "heatmap": [
           {
            "colorbar": {
             "outlinewidth": 0,
             "ticks": ""
            },
            "colorscale": [
             [
              0,
              "#0d0887"
             ],
             [
              0.1111111111111111,
              "#46039f"
             ],
             [
              0.2222222222222222,
              "#7201a8"
             ],
             [
              0.3333333333333333,
              "#9c179e"
             ],
             [
              0.4444444444444444,
              "#bd3786"
             ],
             [
              0.5555555555555556,
              "#d8576b"
             ],
             [
              0.6666666666666666,
              "#ed7953"
             ],
             [
              0.7777777777777778,
              "#fb9f3a"
             ],
             [
              0.8888888888888888,
              "#fdca26"
             ],
             [
              1,
              "#f0f921"
             ]
            ],
            "type": "heatmap"
           }
          ],
          "heatmapgl": [
           {
            "colorbar": {
             "outlinewidth": 0,
             "ticks": ""
            },
            "colorscale": [
             [
              0,
              "#0d0887"
             ],
             [
              0.1111111111111111,
              "#46039f"
             ],
             [
              0.2222222222222222,
              "#7201a8"
             ],
             [
              0.3333333333333333,
              "#9c179e"
             ],
             [
              0.4444444444444444,
              "#bd3786"
             ],
             [
              0.5555555555555556,
              "#d8576b"
             ],
             [
              0.6666666666666666,
              "#ed7953"
             ],
             [
              0.7777777777777778,
              "#fb9f3a"
             ],
             [
              0.8888888888888888,
              "#fdca26"
             ],
             [
              1,
              "#f0f921"
             ]
            ],
            "type": "heatmapgl"
           }
          ],
          "histogram": [
           {
            "marker": {
             "colorbar": {
              "outlinewidth": 0,
              "ticks": ""
             }
            },
            "type": "histogram"
           }
          ],
          "histogram2d": [
           {
            "colorbar": {
             "outlinewidth": 0,
             "ticks": ""
            },
            "colorscale": [
             [
              0,
              "#0d0887"
             ],
             [
              0.1111111111111111,
              "#46039f"
             ],
             [
              0.2222222222222222,
              "#7201a8"
             ],
             [
              0.3333333333333333,
              "#9c179e"
             ],
             [
              0.4444444444444444,
              "#bd3786"
             ],
             [
              0.5555555555555556,
              "#d8576b"
             ],
             [
              0.6666666666666666,
              "#ed7953"
             ],
             [
              0.7777777777777778,
              "#fb9f3a"
             ],
             [
              0.8888888888888888,
              "#fdca26"
             ],
             [
              1,
              "#f0f921"
             ]
            ],
            "type": "histogram2d"
           }
          ],
          "histogram2dcontour": [
           {
            "colorbar": {
             "outlinewidth": 0,
             "ticks": ""
            },
            "colorscale": [
             [
              0,
              "#0d0887"
             ],
             [
              0.1111111111111111,
              "#46039f"
             ],
             [
              0.2222222222222222,
              "#7201a8"
             ],
             [
              0.3333333333333333,
              "#9c179e"
             ],
             [
              0.4444444444444444,
              "#bd3786"
             ],
             [
              0.5555555555555556,
              "#d8576b"
             ],
             [
              0.6666666666666666,
              "#ed7953"
             ],
             [
              0.7777777777777778,
              "#fb9f3a"
             ],
             [
              0.8888888888888888,
              "#fdca26"
             ],
             [
              1,
              "#f0f921"
             ]
            ],
            "type": "histogram2dcontour"
           }
          ],
          "mesh3d": [
           {
            "colorbar": {
             "outlinewidth": 0,
             "ticks": ""
            },
            "type": "mesh3d"
           }
          ],
          "parcoords": [
           {
            "line": {
             "colorbar": {
              "outlinewidth": 0,
              "ticks": ""
             }
            },
            "type": "parcoords"
           }
          ],
          "pie": [
           {
            "automargin": true,
            "type": "pie"
           }
          ],
          "scatter": [
           {
            "marker": {
             "colorbar": {
              "outlinewidth": 0,
              "ticks": ""
             }
            },
            "type": "scatter"
           }
          ],
          "scatter3d": [
           {
            "line": {
             "colorbar": {
              "outlinewidth": 0,
              "ticks": ""
             }
            },
            "marker": {
             "colorbar": {
              "outlinewidth": 0,
              "ticks": ""
             }
            },
            "type": "scatter3d"
           }
          ],
          "scattercarpet": [
           {
            "marker": {
             "colorbar": {
              "outlinewidth": 0,
              "ticks": ""
             }
            },
            "type": "scattercarpet"
           }
          ],
          "scattergeo": [
           {
            "marker": {
             "colorbar": {
              "outlinewidth": 0,
              "ticks": ""
             }
            },
            "type": "scattergeo"
           }
          ],
          "scattergl": [
           {
            "marker": {
             "colorbar": {
              "outlinewidth": 0,
              "ticks": ""
             }
            },
            "type": "scattergl"
           }
          ],
          "scattermapbox": [
           {
            "marker": {
             "colorbar": {
              "outlinewidth": 0,
              "ticks": ""
             }
            },
            "type": "scattermapbox"
           }
          ],
          "scatterpolar": [
           {
            "marker": {
             "colorbar": {
              "outlinewidth": 0,
              "ticks": ""
             }
            },
            "type": "scatterpolar"
           }
          ],
          "scatterpolargl": [
           {
            "marker": {
             "colorbar": {
              "outlinewidth": 0,
              "ticks": ""
             }
            },
            "type": "scatterpolargl"
           }
          ],
          "scatterternary": [
           {
            "marker": {
             "colorbar": {
              "outlinewidth": 0,
              "ticks": ""
             }
            },
            "type": "scatterternary"
           }
          ],
          "surface": [
           {
            "colorbar": {
             "outlinewidth": 0,
             "ticks": ""
            },
            "colorscale": [
             [
              0,
              "#0d0887"
             ],
             [
              0.1111111111111111,
              "#46039f"
             ],
             [
              0.2222222222222222,
              "#7201a8"
             ],
             [
              0.3333333333333333,
              "#9c179e"
             ],
             [
              0.4444444444444444,
              "#bd3786"
             ],
             [
              0.5555555555555556,
              "#d8576b"
             ],
             [
              0.6666666666666666,
              "#ed7953"
             ],
             [
              0.7777777777777778,
              "#fb9f3a"
             ],
             [
              0.8888888888888888,
              "#fdca26"
             ],
             [
              1,
              "#f0f921"
             ]
            ],
            "type": "surface"
           }
          ],
          "table": [
           {
            "cells": {
             "fill": {
              "color": "#EBF0F8"
             },
             "line": {
              "color": "white"
             }
            },
            "header": {
             "fill": {
              "color": "#C8D4E3"
             },
             "line": {
              "color": "white"
             }
            },
            "type": "table"
           }
          ]
         },
         "layout": {
          "annotationdefaults": {
           "arrowcolor": "#2a3f5f",
           "arrowhead": 0,
           "arrowwidth": 1
          },
          "coloraxis": {
           "colorbar": {
            "outlinewidth": 0,
            "ticks": ""
           }
          },
          "colorscale": {
           "diverging": [
            [
             0,
             "#8e0152"
            ],
            [
             0.1,
             "#c51b7d"
            ],
            [
             0.2,
             "#de77ae"
            ],
            [
             0.3,
             "#f1b6da"
            ],
            [
             0.4,
             "#fde0ef"
            ],
            [
             0.5,
             "#f7f7f7"
            ],
            [
             0.6,
             "#e6f5d0"
            ],
            [
             0.7,
             "#b8e186"
            ],
            [
             0.8,
             "#7fbc41"
            ],
            [
             0.9,
             "#4d9221"
            ],
            [
             1,
             "#276419"
            ]
           ],
           "sequential": [
            [
             0,
             "#0d0887"
            ],
            [
             0.1111111111111111,
             "#46039f"
            ],
            [
             0.2222222222222222,
             "#7201a8"
            ],
            [
             0.3333333333333333,
             "#9c179e"
            ],
            [
             0.4444444444444444,
             "#bd3786"
            ],
            [
             0.5555555555555556,
             "#d8576b"
            ],
            [
             0.6666666666666666,
             "#ed7953"
            ],
            [
             0.7777777777777778,
             "#fb9f3a"
            ],
            [
             0.8888888888888888,
             "#fdca26"
            ],
            [
             1,
             "#f0f921"
            ]
           ],
           "sequentialminus": [
            [
             0,
             "#0d0887"
            ],
            [
             0.1111111111111111,
             "#46039f"
            ],
            [
             0.2222222222222222,
             "#7201a8"
            ],
            [
             0.3333333333333333,
             "#9c179e"
            ],
            [
             0.4444444444444444,
             "#bd3786"
            ],
            [
             0.5555555555555556,
             "#d8576b"
            ],
            [
             0.6666666666666666,
             "#ed7953"
            ],
            [
             0.7777777777777778,
             "#fb9f3a"
            ],
            [
             0.8888888888888888,
             "#fdca26"
            ],
            [
             1,
             "#f0f921"
            ]
           ]
          },
          "colorway": [
           "#636efa",
           "#EF553B",
           "#00cc96",
           "#ab63fa",
           "#FFA15A",
           "#19d3f3",
           "#FF6692",
           "#B6E880",
           "#FF97FF",
           "#FECB52"
          ],
          "font": {
           "color": "#2a3f5f"
          },
          "geo": {
           "bgcolor": "white",
           "lakecolor": "white",
           "landcolor": "#E5ECF6",
           "showlakes": true,
           "showland": true,
           "subunitcolor": "white"
          },
          "hoverlabel": {
           "align": "left"
          },
          "hovermode": "closest",
          "mapbox": {
           "style": "light"
          },
          "paper_bgcolor": "white",
          "plot_bgcolor": "#E5ECF6",
          "polar": {
           "angularaxis": {
            "gridcolor": "white",
            "linecolor": "white",
            "ticks": ""
           },
           "bgcolor": "#E5ECF6",
           "radialaxis": {
            "gridcolor": "white",
            "linecolor": "white",
            "ticks": ""
           }
          },
          "scene": {
           "xaxis": {
            "backgroundcolor": "#E5ECF6",
            "gridcolor": "white",
            "gridwidth": 2,
            "linecolor": "white",
            "showbackground": true,
            "ticks": "",
            "zerolinecolor": "white"
           },
           "yaxis": {
            "backgroundcolor": "#E5ECF6",
            "gridcolor": "white",
            "gridwidth": 2,
            "linecolor": "white",
            "showbackground": true,
            "ticks": "",
            "zerolinecolor": "white"
           },
           "zaxis": {
            "backgroundcolor": "#E5ECF6",
            "gridcolor": "white",
            "gridwidth": 2,
            "linecolor": "white",
            "showbackground": true,
            "ticks": "",
            "zerolinecolor": "white"
           }
          },
          "shapedefaults": {
           "line": {
            "color": "#2a3f5f"
           }
          },
          "ternary": {
           "aaxis": {
            "gridcolor": "white",
            "linecolor": "white",
            "ticks": ""
           },
           "baxis": {
            "gridcolor": "white",
            "linecolor": "white",
            "ticks": ""
           },
           "bgcolor": "#E5ECF6",
           "caxis": {
            "gridcolor": "white",
            "linecolor": "white",
            "ticks": ""
           }
          },
          "title": {
           "x": 0.05
          },
          "xaxis": {
           "automargin": true,
           "gridcolor": "white",
           "linecolor": "white",
           "ticks": "",
           "title": {
            "standoff": 15
           },
           "zerolinecolor": "white",
           "zerolinewidth": 2
          },
          "yaxis": {
           "automargin": true,
           "gridcolor": "white",
           "linecolor": "white",
           "ticks": "",
           "title": {
            "standoff": 15
           },
           "zerolinecolor": "white",
           "zerolinewidth": 2
          }
         }
        }
       }
      },
      "text/html": [
       "<div>\n",
       "        \n",
       "        \n",
       "            <div id=\"7f6f3057-a1ff-4046-a128-f7c989d9ba89\" class=\"plotly-graph-div\" style=\"height:525px; width:100%;\"></div>\n",
       "            <script type=\"text/javascript\">\n",
       "                require([\"plotly\"], function(Plotly) {\n",
       "                    window.PLOTLYENV=window.PLOTLYENV || {};\n",
       "                    \n",
       "                if (document.getElementById(\"7f6f3057-a1ff-4046-a128-f7c989d9ba89\")) {\n",
       "                    Plotly.newPlot(\n",
       "                        '7f6f3057-a1ff-4046-a128-f7c989d9ba89',\n",
       "                        [{\"customdata\": [[0.583732057416268, 0.5714285714285714, 0.6513761467889908, \"1\", \"Aaron Krickstein\"], [0.6928571428571428, 0.5416666666666666, 0.5180722891566265, \"1\", \"Adriano Panatta\"], [0.6621315192743764, 0.36363636363636365, 0.5611814345991561, \"1\", \"Alex Corretja\"], [0.631578947368421, 0.7863247863247863, 0.7272727272727273, \"1\", \"Alex Metreveli\"], [0.4, 0.582089552238806, 0.5630630630630631, \"1\", \"Alexander Volkov\"], [0.7, 0.631578947368421, 0.6531531531531531, \"1\", \"Alexander Zverev\"], [0.49206349206349204, 0.5348837209302325, 0.531496062992126, \"1\", \"Alexandr Dolgopolov\"], [0.5, 0.5581395348837209, 0.4537037037037037, \"1\", \"Allan Stone\"], [0.575, 0.5384615384615384, 0.5700483091787439, \"1\", \"Anders Jarryd\"], [0.7272727272727273, 0.7352941176470589, 0.7889182058047494, \"1\", \"Andre Agassi\"], [0.4962121212121212, 0.5660377358490566, 0.4623115577889447, \"1\", \"Andreas Seppi\"], [0.66796875, 0.47058823529411764, 0.5612903225806452, \"1\", \"Andrei Medvedev\"], [0.545, 0.4489795918367347, 0.4956896551724138, \"1\", \"Andrei Pavel\"], [0.7142857142857143, 0.7142857142857143, 0.6103896103896104, \"1\", \"Andres Gimeno\"], [0.7021276595744681, 0.5555555555555556, 0.6439024390243903, \"1\", \"Andres Gomez\"], [0.5196850393700787, 0.5147058823529411, 0.5612244897959183, \"1\", \"Andrew Pattison\"], [0.5813953488372093, 0.5714285714285714, 0.6024096385542169, \"1\", \"Andrey Rublev\"], [0.6883116883116883, 0.8307692307692308, 0.7774030354131535, \"1\", \"Andy Murray\"], [0.6386554621848739, 0.7981651376146789, 0.75177304964539, \"1\", \"Andy Roddick\"], [0.47540983606557374, 0.5428571428571428, 0.5379746835443038, \"1\", \"Arnaud Boetsch\"], [0.7079646017699115, 0.7638888888888888, 0.7617021276595745, \"1\", \"Arthur Ashe\"], [0.6945054945054945, 0.5185185185185185, 0.52, \"1\", \"Balazs Taroczy\"], [0.5161290322580645, 0.5, 0.4618320610687023, \"1\", \"Benoit Paire\"], [0.41975308641975306, 0.59, 0.5572916666666666, \"1\", \"Bill Scanlon\"], [0.8532110091743119, 0.8470588235294118, 0.7533333333333333, \"1\", \"Bjorn Borg\"], [0.6223776223776224, 0.6376811594202898, 0.5684210526315789, \"1\", \"Bob Hewitt\"], [0.6594594594594595, 0.8226950354609929, 0.7586206896551724, \"1\", \"Boris Becker\"], [0.5684210526315789, 0.5238095238095238, 0.5163043478260869, \"1\", \"Borna Coric\"], [0.5, 0.5535714285714286, 0.6856540084388185, \"1\", \"Brad Gilbert\"], [0.42857142857142855, 0.5932203389830508, 0.5, \"1\", \"Brett Steven\"], [0.48951048951048953, 0.5531914893617021, 0.52, \"1\", \"Brian Fairlie\"], [0.6311787072243346, 0.6666666666666666, 0.7146892655367232, \"1\", \"Brian Gottfried\"], [0.5204081632653061, 0.6466165413533834, 0.5927835051546392, \"1\", \"Brian Teacher\"], [0.6561264822134387, 0.5681818181818182, 0.6216216216216216, \"1\", \"Buster C Mottram\"], [0.7033195020746889, 0.4642857142857143, 0.5955056179775281, \"1\", \"Carlos Moya\"], [0.5363636363636364, 0.5974025974025974, 0.5551470588235294, \"1\", \"Cedric Pioline\"], [0.47619047619047616, 0.6179775280898876, 0.45714285714285713, \"1\", \"Charlie Pasarell\"], [0.5643564356435643, 0.5420560747663551, 0.5217391304347826, \"1\", \"Chris Lewis\"], [0.45544554455445546, 0.5185185185185185, 0.5354330708661418, \"1\", \"Christian Bergstrom\"], [0.6710526315789473, 0.7325581395348837, 0.6793893129770993, \"1\", \"Clark Graebner\"], [0.6818181818181818, 0.6493506493506493, 0.6449704142011834, \"1\", \"Cliff Drysdale\"], [0.7010869565217391, 0.6557377049180327, 0.7029702970297029, \"1\", \"Cliff Richey\"], [0.48026315789473684, 0.5802469135802469, 0.48044692737430167, \"1\", \"Colin Dibley\"], [0.35714285714285715, 0.6, 0.7087912087912088, \"1\", \"Daniil Medvedev\"], [0.5423728813559322, 0.4666666666666667, 0.5555555555555556, \"1\", \"Darren Cahill\"], [0.7050209205020921, 0.6285714285714286, 0.6352087114337568, \"1\", \"David Ferrer\"], [0.6101694915254238, 0.5581395348837209, 0.6140939597315436, \"1\", \"David Goffin\"], [0.6602870813397129, 0.6888888888888889, 0.6538461538461539, \"1\", \"David Nalbandian\"], [0.5263157894736842, 0.6363636363636364, 0.5530973451327433, \"1\", \"David Wheaton\"], [0.6153846153846154, 0.6842105263157895, 0.46774193548387094, \"1\", \"Dennis Ralston\"], [0.5305343511450382, 0.5347222222222222, 0.48672566371681414, \"1\", \"Dick Crealy\"], [0.6484848484848484, 0.6060606060606061, 0.5272727272727272, \"1\", \"Dick Stockton\"], [0.7446808510638298, 0.5172413793103449, 0.6, \"1\", \"Dominic Thiem\"], [0.7380952380952381, 0.5, 0.684931506849315, \"1\", \"Eddie Dibbs\"], [0.6262626262626263, 0.5, 0.6995708154506438, \"1\", \"Eliot Teltscher\"], [0.5842696629213483, 0.5135135135135135, 0.47719298245614034, \"1\", \"Fabio Fognini\"], [0.48175182481751827, 0.5714285714285714, 0.5347826086956522, \"1\", \"Fabrice Santoro\"], [0.49429657794676807, 0.6587301587301587, 0.5055555555555555, \"1\", \"Feliciano Lopez\"], [0.5161290322580645, 0.75, 0.5277777777777778, \"1\", \"Felix Auger Aliassime\"], [0.7, 0.6216216216216216, 0.6102941176470589, \"1\", \"Fernando Gonzalez\"], [0.610079575596817, 0.5483870967741935, 0.5357873210633947, \"1\", \"Fernando Verdasco\"], [0.5, 0.6, 0.4297872340425532, \"1\", \"Florian Mayer\"], [0.5782608695652174, 0.5, 0.4772727272727273, \"1\", \"Francisco Clavet\"], [0.5625, 0.676923076923077, 0.4864864864864865, \"1\", \"Fred Stolle\"], [0.6037735849056604, 0.5797101449275363, 0.6577319587628866, \"1\", \"Gael Monfils\"], [0.6060606060606061, 0.5357142857142857, 0.7388535031847133, \"1\", \"Gene Mayer\"], [0.5040650406504065, 0.49137931034482757, 0.5, \"1\", \"Geoff Masters\"], [0.4576271186440678, 0.5555555555555556, 0.5272108843537415, \"1\", \"Gilles Muller\"], [0.5658914728682171, 0.5777777777777777, 0.5787401574803149, \"1\", \"Gilles Simon\"], [0.618421052631579, 0.7171717171717171, 0.5830903790087464, \"1\", \"Goran Ivanisevic\"], [0.37037037037037035, 0.7049180327868853, 0.5907928388746803, \"1\", \"Greg Rusedski\"], [0.5867768595041323, 0.5806451612903226, 0.6131805157593123, \"1\", \"Grigor Dimitrov\"], [0.5904761904761905, 0.5909090909090909, 0.5536723163841808, \"1\", \"Guillermo Canas\"], [0.7165775401069518, 0.5555555555555556, 0.5862068965517241, \"1\", \"Guillermo Coria\"], [0.7968936678614098, 0.7291666666666666, 0.6918238993710691, \"1\", \"Guillermo Vilas\"], [0.7011494252873564, 0.4666666666666667, 0.6228813559322034, \"1\", \"Gustavo Kuerten\"], [0.5210526315789473, 0.5897435897435898, 0.6074380165289256, \"1\", \"Guy Forget\"], [0.4230769230769231, 0.6442953020134228, 0.5647058823529412, \"1\", \"Hank Pfister\"], [0.690537084398977, 0.2857142857142857, 0.6472727272727272, \"1\", \"Harold Solomon\"], [0.5773195876288659, 0.45454545454545453, 0.5590551181102362, \"1\", \"Heinz Gunthardt\"], [0.5970149253731343, 0.6451612903225806, 0.567741935483871, \"1\", \"Henri Leconte\"], [0.5, 0.5142857142857142, 0.4823529411764706, \"1\", \"Hicham Arazi\"], [0.5, 0.48717948717948717, 0.48325358851674644, \"1\", \"Hyung Taik Lee\"], [0.5339366515837104, 0.48484848484848486, 0.47692307692307695, \"1\", \"Igor Andreev\"], [0.7833001988071571, 0.7027027027027027, 0.7025089605734767, \"1\", \"Ilie Nastase\"], [0.5934579439252337, 0.4634146341463415, 0.4027777777777778, \"1\", \"Ion Tiriac\"], [0.8103448275862069, 0.75, 0.8257261410788381, \"1\", \"Ivan Lendl\"], [0.5585106382978723, 0.48, 0.6034063260340633, \"1\", \"Ivan Ljubicic\"], [0.42424242424242425, 0.6293103448275862, 0.5223214285714286, \"1\", \"Ivo Karlovic\"], [0.5789473684210527, 0.5217391304347826, 0.555045871559633, \"1\", \"Jack Sock\"], [0.6363636363636364, 0.524390243902439, 0.5607476635514018, \"1\", \"Jaime Fillol\"], [0.5401069518716578, 0.4166666666666667, 0.5634920634920635, \"1\", \"Jaime Yzaga\"], [0.5549738219895288, 0.5142857142857142, 0.5551601423487544, \"1\", \"Jakob Hlasek\"], [0.46, 0.5161290322580645, 0.6316964285714286, \"1\", \"James Blake\"], [0.4842105263157895, 0.47368421052631576, 0.5447154471544715, \"1\", \"Jan Gunnarsson\"], [0.6924882629107981, 0.6451612903225806, 0.5225225225225225, \"1\", \"Jan Kodes\"], [0.5140845070422535, 0.5277777777777778, 0.5356037151702786, \"1\", \"Janko Tipsarevic\"], [0.5609756097560976, 0.43859649122807015, 0.5377969762419006, \"1\", \"Jarkko Nieminen\"], [0.5784313725490197, 0.6145833333333334, 0.5194029850746269, \"1\", \"Jason Stoltenberg\"], [0.5739130434782609, 0.5555555555555556, 0.4473684210526316, \"1\", \"Javier Frana\"], [0.6455696202531646, 0.5, 0.6612903225806451, \"1\", \"Jay Berger\"], [0.5228426395939086, 0.4827586206896552, 0.47896440129449835, \"1\", \"Jeremy Chardy\"], [0.6845238095238095, 0.6222222222222222, 0.7094430992736077, \"1\", \"Jim Courier\"], [0.6108786610878661, 0.5, 0.5491071428571429, \"1\", \"Jimmy Arias\"], [0.7703703703703704, 0.8207547169811321, 0.819935691318328, \"1\", \"Jimmy Connors\"], [0.5638766519823789, 0.4857142857142857, 0.5735294117647058, \"1\", \"Jiri Novak\"], [0.5, 0.6, 0.4049586776859504, \"1\", \"Jiri Vesely\"], [0.6267605633802817, 0.6933333333333334, 0.6845493562231759, \"1\", \"Jo-Wilfried Tsonga\"], [0.6559633027522935, 0.6216216216216216, 0.6593406593406593, \"1\", \"Joakim Nystrom\"], [0.5, 0.7264957264957265, 0.6245353159851301, \"1\", \"Johan Kriek\"], [0.6238244514106583, 0.5951219512195122, 0.5747663551401869, \"1\", \"John Alexander\"], [0.5426356589147286, 0.6712328767123288, 0.626, \"1\", \"John Isner\"], [0.7192982456140351, 0.8581560283687943, 0.8100558659217877, \"1\", \"John McEnroe\"], [0.7169811320754716, 0.7837837837837838, 0.7102272727272727, \"1\", \"John Newcombe\"], [0.4827586206896552, 0.5964912280701754, 0.4878048780487805, \"1\", \"John Sadri\"], [0.4927536231884058, 0.5, 0.5844155844155844, \"1\", \"Jonas Svensson\"], [0.6778169014084507, 0.5, 0.5576923076923077, \"1\", \"Jose Higueras\"], [0.7682619647355163, 0.5238095238095238, 0.7096774193548387, \"1\", \"Jose Luis Clerc\"], [0.7277936962750716, 0.6122448979591837, 0.5705128205128205, \"1\", \"Juan Carlos Ferrero\"], [0.5601851851851852, 0.6666666666666666, 0.5409836065573771, \"1\", \"Juan Gisbert\"], [0.6942148760330579, 0.6896551724137931, 0.7228637413394919, \"1\", \"Juan Martin del Potro\"], [0.5029940119760479, 0.46875, 0.5285714285714286, \"1\", \"Jurgen Fassbender\"], [0.5210084033613446, 0.527027027027027, 0.5098039215686274, \"1\", \"Jurgen Melzer\"], [0.6163934426229508, 0.4166666666666667, 0.49107142857142855, \"1\", \"Karel Novacek\"], [0.5714285714285714, 0.6666666666666666, 0.5345911949685535, \"1\", \"Karen Khachanov\"], [0.545, 0.5416666666666666, 0.5625, \"1\", \"Karl Meiler\"], [0.475, 0.5967741935483871, 0.5515695067264574, \"1\", \"Karol Kucera\"], [0.6879432624113475, 0.6060606060606061, 0.6750629722921915, \"1\", \"Kei Nishikori\"], [0.8029197080291971, 0.7894736842105263, 0.7315789473684211, \"1\", \"Ken Rosewall\"], [0.5277777777777778, 0.5909090909090909, 0.6119402985074627, \"1\", \"Kevin Anderson\"], [0.51875, 0.5675675675675675, 0.45528455284552843, \"1\", \"Kim Warwick\"], [0.6363636363636364, 0.7543859649122807, 0.7024482109227872, \"1\", \"Lleyton Hewitt\"], [0.5555555555555556, 0.5806451612903226, 0.541095890410959, \"1\", \"Lucas Pouille\"], [0.649390243902439, 0.5, 0.546583850931677, \"1\", \"Magnus Gustafsson\"], [0.5699481865284974, 0.5581395348837209, 0.558252427184466, \"1\", \"Magnus Larsson\"], [0.6055555555555555, 0.4666666666666667, 0.5778894472361809, \"1\", \"Magnus Norman\"], [0.35714285714285715, 0.5932203389830508, 0.6388888888888888, \"1\", \"Mal Anderson\"], [0.5657894736842105, 0.5531914893617021, 0.6016949152542372, \"1\", \"Malivai Washington\"], [0.7671232876712328, 0.5740740740740741, 0.5684210526315789, \"1\", \"Manuel Orantes\"], [0.7317073170731707, 0.6428571428571429, 0.5625, \"1\", \"Manuel Santana\"], [0.5960591133004927, 0.5777777777777777, 0.6033519553072626, \"1\", \"Marat Safin\"], [0.5042735042735043, 0.4745762711864407, 0.5436241610738255, \"1\", \"Marc Rosset\"], [0.688212927756654, 0.5, 0.6666666666666666, \"1\", \"Marcelo Rios\"], [0.4318181818181818, 0.5789473684210527, 0.5727699530516432, \"1\", \"Marcos Baghdatis\"], [0.46153846153846156, 0.6388888888888888, 0.58994708994709, \"1\", \"Mardy Fish\"], [0.6188118811881188, 0.6868686868686869, 0.6497975708502024, \"1\", \"Marin Cilic\"], [0.5737704918032787, 0.7358490566037735, 0.578125, \"1\", \"Mario Ancic\"], [0.5620437956204379, 0.6153846153846154, 0.5670731707317073, \"1\", \"Mark Cox\"], [0.524390243902439, 0.5789473684210527, 0.5058823529411764, \"1\", \"Mark Dickson\"], [0.4421768707482993, 0.6374269005847953, 0.46788990825688076, \"1\", \"Mark Edmondson\"], [0.5591397849462365, 0.6891891891891891, 0.5993377483443708, \"1\", \"Mark Philippoussis\"], [0.6637931034482759, 0.4444444444444444, 0.5543478260869565, \"1\", \"Martin Jaite\"], [0.6527777777777778, 0.6213592233009708, 0.5833333333333334, \"1\", \"Marty Riessen\"], [0.7667638483965015, 0.7424242424242424, 0.7153846153846154, \"1\", \"Mats Wilander\"], [0.6666666666666666, 0.7222222222222222, 0.4838709677419355, \"1\", \"Matteo Berrettini\"], [0.577922077922078, 0.47058823529411764, 0.5606060606060606, \"1\", \"Mel Purcell\"], [0.6445783132530121, 0.5454545454545454, 0.7044673539518901, \"1\", \"Michael Chang\"], [0.6687898089171974, 0.782051282051282, 0.6630434782608695, \"1\", \"Michael Stich\"], [0.475, 0.6666666666666666, 0.6097560975609756, \"1\", \"Mikael Pernfors\"], [0.6470588235294118, 0.5, 0.4482758620689655, \"1\", \"Mike Belkin\"], [0.5114503816793893, 0.5648148148148148, 0.5436105476673428, \"1\", \"Mikhail Youzhny\"], [0.6310679611650486, 0.6805555555555556, 0.6827956989247311, \"1\", \"Milos Raonic\"], [0.6666666666666666, 0.6666666666666666, 0.7403846153846154, \"1\", \"Miloslav Mecir\"], [0.5777777777777777, 0.6111111111111112, 0.6589595375722543, \"1\", \"Nick Kyrgios\"], [0.6565420560747663, 0.4666666666666667, 0.4744186046511628, \"1\", \"Nicolas Almagro\"], [0.41509433962264153, 0.6216216216216216, 0.6111111111111112, \"1\", \"Nicolas Escude\"], [0.44715447154471544, 0.5945945945945946, 0.6037234042553191, \"1\", \"Nicolas Kiefer\"], [0.5449438202247191, 0.6973684210526315, 0.5526315789473685, \"1\", \"Nikola Pilic\"], [0.8041958041958042, 0.8407079646017699, 0.8429752066115702, \"1\", \"Novak Djokovic\"], [0.5166051660516605, 0.6027397260273972, 0.5341614906832298, \"1\", \"Onny Parun\"], [0.4, 0.7279411764705882, 0.5793650793650794, \"1\", \"Pat Cash\"], [0.5026455026455027, 0.6122448979591837, 0.4745762711864407, \"1\", \"Patrice Dominguez\"], [0.5652173913043478, 0.5, 0.44680851063829785, \"1\", \"Patrick Proisy\"], [0.5142857142857142, 0.7474747474747475, 0.664576802507837, \"1\", \"Patrick Rafter\"], [0.4666666666666667, 0.6190476190476191, 0.47580645161290325, \"1\", \"Paul Annacone\"], [0.46099290780141844, 0.5283018867924528, 0.5302325581395348, \"1\", \"Paul Haarhuis\"], [0.5045045045045045, 0.5636363636363636, 0.47297297297297297, \"1\", \"Paul Mcnamee\"], [0.625, 0.8360655737704918, 0.8014981273408239, \"1\", \"Pete Sampras\"], [0.5119047619047619, 0.49019607843137253, 0.5294117647058824, \"1\", \"Peter Feigl\"], [0.6502732240437158, 0.43859649122807015, 0.5128205128205128, \"1\", \"Peter Mcnamara\"], [0.5769230769230769, 0.6521739130434783, 0.6305970149253731, \"1\", \"Petr Korda\"], [0.5333333333333333, 0.6495327102803738, 0.5153374233128835, \"1\", \"Phil Dent\"], [0.5619047619047619, 0.5979381443298969, 0.5331807780320366, \"1\", \"Philipp Kohlschreiber\"], [0.5645161290322581, 0.5576923076923077, 0.48148148148148145, \"1\", \"Pierre Barthes\"], [0.5489130434782609, 0.589041095890411, 0.5555555555555556, \"1\", \"Radek Stepanek\"], [0.9144602851323829, 0.7802197802197802, 0.7765451664025357, \"1\", \"Rafael Nadal\"], [0.7267080745341615, 0.6533333333333333, 0.6604477611940298, \"1\", \"Raul Ramirez\"], [0.5357142857142857, 0.5785123966942148, 0.4742268041237113, \"1\", \"Ray Ruffels\"], [0.6147186147186147, 0.6666666666666666, 0.6172607879924953, \"1\", \"Richard Gasquet\"], [0.5984848484848485, 0.7078651685393258, 0.6666666666666666, \"1\", \"Richard Krajicek\"], [0.631578947368421, 0.6595744680851063, 0.7763157894736842, \"1\", \"Richard Pancho Gonzales\"], [0.5111111111111111, 0.5735294117647058, 0.5512820512820513, \"1\", \"Richey Reneberg\"], [0.5363636363636364, 0.6407766990291263, 0.6016260162601627, \"1\", \"Robert Lutz\"], [0.59375, 0.7111111111111111, 0.6352201257861635, \"1\", \"Roberto Bautista Agut\"], [0.6231884057971014, 0.6046511627906976, 0.6446886446886447, \"1\", \"Robin Soderling\"], [0.7769230769230769, 0.84375, 0.8296703296703297, \"1\", \"Rod Laver\"], [0.7593220338983051, 0.875, 0.8326271186440678, \"1\", \"Roger Federer\"], [0.5641025641025641, 0.6290322580645161, 0.5669291338582677, \"1\", \"Roger Taylor\"], [0.6298701298701299, 0.7341772151898734, 0.6750788643533123, \"1\", \"Roscoe Tanner\"], [0.47540983606557374, 0.5611510791366906, 0.5, \"1\", \"Ross Case\"], [0.6493506493506493, 0.6779661016949152, 0.5816326530612245, \"1\", \"Roy Emerson\"], [0.4473684210526316, 0.6415094339622641, 0.5619469026548672, \"1\", \"Sam Querrey\"], [0.6, 0.627906976744186, 0.6460674157303371, \"1\", \"Sandy Mayer\"], [0.5827814569536424, 0.6533333333333333, 0.5635179153094463, \"1\", \"Sebastien Grosjean\"], [0.6867749419953596, 0.5, 0.5536723163841808, \"1\", \"Sergi Bruguera\"], [0.5612244897959183, 0.475, 0.5987261146496815, \"1\", \"Shlomo Glickstein\"], [0.4642857142857143, 0.6103896103896104, 0.527972027972028, \"1\", \"Sjeng Schalken\"], [0.5, 0.6470588235294118, 0.5126050420168067, \"1\", \"Slobodan Zivojinovic\"], [0.6909090909090909, 0.7469879518072289, 0.7064220183486238, \"1\", \"Stan Smith\"], [0.6630824372759857, 0.5, 0.6376811594202898, \"1\", \"Stan Wawrinka\"], [0.6766169154228856, 0.7857142857142857, 0.7865853658536586, \"1\", \"Stefan Edberg\"], [0.7037037037037037, 0.5333333333333333, 0.624113475177305, \"1\", \"Stefanos Tsitsipas\"], [0.4915254237288136, 0.5614035087719298, 0.4888888888888889, \"1\", \"Steve Johnson\"], [0.5697674418604651, 0.48148148148148145, 0.5220588235294118, \"1\", \"Terry Moor\"], [0.4793388429752066, 0.4878048780487805, 0.6397379912663755, \"1\", \"Thomas Enqvist\"], [0.7661870503597122, 0.4444444444444444, 0.6371308016877637, \"1\", \"Thomas Muster\"], [0.46153846153846156, 0.6422018348623854, 0.5681818181818182, \"1\", \"Tim Gullikson\"], [0.5294117647058824, 0.7142857142857143, 0.6517647058823529, \"1\", \"Tim Henman\"], [0.2962962962962963, 0.7086614173228346, 0.6064814814814815, \"1\", \"Tim Mayotte\"], [0.4657534246575342, 0.5447761194029851, 0.5315985130111525, \"1\", \"Tim Wilkison\"], [0.5775862068965517, 0.7093023255813954, 0.6462395543175488, \"1\", \"Todd Martin\"], [0.5483870967741935, 0.5726495726495726, 0.596244131455399, \"1\", \"Tom Gorman\"], [0.45454545454545453, 0.5520833333333334, 0.5, \"1\", \"Tom Gullikson\"], [0.7166666666666667, 0.7559055118110236, 0.6813725490196079, \"1\", \"Tom Okker\"], [0.6370967741935484, 0.6868686868686869, 0.6482982171799028, \"1\", \"Tomas Berdych\"], [0.6538461538461539, 0.5294117647058824, 0.6075268817204301, \"1\", \"Tomas Smid\"], [0.5929203539823009, 0.6263736263736264, 0.6316758747697975, \"1\", \"Tommy Haas\"], [0.6624365482233503, 0.5535714285714286, 0.5533980582524272, \"1\", \"Tommy Robredo\"], [0.7012987012987013, 0.7763975155279503, 0.6, \"1\", \"Tony Roche\"], [0.5631067961165048, 0.5, 0.48148148148148145, \"1\", \"Ulrich Pinner\"], [0.41379310344827586, 0.5675675675675675, 0.5428571428571428, \"1\", \"Victor Amaya\"], [0.613882863340564, 0.5641025641025641, 0.5526315789473685, \"1\", \"Victor Pecci\"], [0.5362318840579711, 0.6482758620689655, 0.5343137254901961, \"1\", \"Vijay Amritraj\"], [0.5107913669064749, 0.5161290322580645, 0.5300546448087432, \"1\", \"Viktor Troicki\"], [0.7105263157894737, 0.6781609195402298, 0.7323232323232324, \"1\", \"Vitas Gerulaitis\"], [0.5769230769230769, 0.6601941747572816, 0.6332622601279317, \"1\", \"Wayne Ferreira\"], [0.6567567567567567, 0.5897435897435898, 0.6408839779005525, \"1\", \"Wojtek Fibak\"], [0.49572649572649574, 0.625, 0.4940119760479042, \"1\", \"Xavier Malisse\"], [0.7379310344827587, 0.45454545454545453, 0.7192982456140351, \"1\", \"Yannick Noah\"], [0.5778688524590164, 0.696969696969697, 0.6770833333333334, \"1\", \"Yevgeny Kafelnikov\"], [0.5833333333333334, 0.5, 0.5026737967914439, \"1\", \"Younes El Aynaoui\"], [0.6309794988610479, 0.42857142857142855, 0.4939759036144578, \"1\", \"Zeljko Franulovic\"]], \"hoverlabel\": {\"namelength\": 0}, \"hovertemplate\": \"label=%{customdata[3]}<br>Clay_record=%{customdata[0]}<br>Grass_record=%{customdata[1]}<br>Hard_record=%{customdata[2]}<br>player_name=%{customdata[4]}\", \"legendgroup\": \"1\", \"marker\": {\"color\": \"#636efa\", \"symbol\": \"circle\"}, \"mode\": \"markers\", \"name\": \"1\", \"scene\": \"scene\", \"showlegend\": true, \"type\": \"scatter3d\", \"x\": [0.583732057416268, 0.6928571428571428, 0.6621315192743764, 0.631578947368421, 0.4, 0.7, 0.49206349206349204, 0.5, 0.575, 0.7272727272727273, 0.4962121212121212, 0.66796875, 0.545, 0.7142857142857143, 0.7021276595744681, 0.5196850393700787, 0.5813953488372093, 0.6883116883116883, 0.6386554621848739, 0.47540983606557374, 0.7079646017699115, 0.6945054945054945, 0.5161290322580645, 0.41975308641975306, 0.8532110091743119, 0.6223776223776224, 0.6594594594594595, 0.5684210526315789, 0.5, 0.42857142857142855, 0.48951048951048953, 0.6311787072243346, 0.5204081632653061, 0.6561264822134387, 0.7033195020746889, 0.5363636363636364, 0.47619047619047616, 0.5643564356435643, 0.45544554455445546, 0.6710526315789473, 0.6818181818181818, 0.7010869565217391, 0.48026315789473684, 0.35714285714285715, 0.5423728813559322, 0.7050209205020921, 0.6101694915254238, 0.6602870813397129, 0.5263157894736842, 0.6153846153846154, 0.5305343511450382, 0.6484848484848484, 0.7446808510638298, 0.7380952380952381, 0.6262626262626263, 0.5842696629213483, 0.48175182481751827, 0.49429657794676807, 0.5161290322580645, 0.7, 0.610079575596817, 0.5, 0.5782608695652174, 0.5625, 0.6037735849056604, 0.6060606060606061, 0.5040650406504065, 0.4576271186440678, 0.5658914728682171, 0.618421052631579, 0.37037037037037035, 0.5867768595041323, 0.5904761904761905, 0.7165775401069518, 0.7968936678614098, 0.7011494252873564, 0.5210526315789473, 0.4230769230769231, 0.690537084398977, 0.5773195876288659, 0.5970149253731343, 0.5, 0.5, 0.5339366515837104, 0.7833001988071571, 0.5934579439252337, 0.8103448275862069, 0.5585106382978723, 0.42424242424242425, 0.5789473684210527, 0.6363636363636364, 0.5401069518716578, 0.5549738219895288, 0.46, 0.4842105263157895, 0.6924882629107981, 0.5140845070422535, 0.5609756097560976, 0.5784313725490197, 0.5739130434782609, 0.6455696202531646, 0.5228426395939086, 0.6845238095238095, 0.6108786610878661, 0.7703703703703704, 0.5638766519823789, 0.5, 0.6267605633802817, 0.6559633027522935, 0.5, 0.6238244514106583, 0.5426356589147286, 0.7192982456140351, 0.7169811320754716, 0.4827586206896552, 0.4927536231884058, 0.6778169014084507, 0.7682619647355163, 0.7277936962750716, 0.5601851851851852, 0.6942148760330579, 0.5029940119760479, 0.5210084033613446, 0.6163934426229508, 0.5714285714285714, 0.545, 0.475, 0.6879432624113475, 0.8029197080291971, 0.5277777777777778, 0.51875, 0.6363636363636364, 0.5555555555555556, 0.649390243902439, 0.5699481865284974, 0.6055555555555555, 0.35714285714285715, 0.5657894736842105, 0.7671232876712328, 0.7317073170731707, 0.5960591133004927, 0.5042735042735043, 0.688212927756654, 0.4318181818181818, 0.46153846153846156, 0.6188118811881188, 0.5737704918032787, 0.5620437956204379, 0.524390243902439, 0.4421768707482993, 0.5591397849462365, 0.6637931034482759, 0.6527777777777778, 0.7667638483965015, 0.6666666666666666, 0.577922077922078, 0.6445783132530121, 0.6687898089171974, 0.475, 0.6470588235294118, 0.5114503816793893, 0.6310679611650486, 0.6666666666666666, 0.5777777777777777, 0.6565420560747663, 0.41509433962264153, 0.44715447154471544, 0.5449438202247191, 0.8041958041958042, 0.5166051660516605, 0.4, 0.5026455026455027, 0.5652173913043478, 0.5142857142857142, 0.4666666666666667, 0.46099290780141844, 0.5045045045045045, 0.625, 0.5119047619047619, 0.6502732240437158, 0.5769230769230769, 0.5333333333333333, 0.5619047619047619, 0.5645161290322581, 0.5489130434782609, 0.9144602851323829, 0.7267080745341615, 0.5357142857142857, 0.6147186147186147, 0.5984848484848485, 0.631578947368421, 0.5111111111111111, 0.5363636363636364, 0.59375, 0.6231884057971014, 0.7769230769230769, 0.7593220338983051, 0.5641025641025641, 0.6298701298701299, 0.47540983606557374, 0.6493506493506493, 0.4473684210526316, 0.6, 0.5827814569536424, 0.6867749419953596, 0.5612244897959183, 0.4642857142857143, 0.5, 0.6909090909090909, 0.6630824372759857, 0.6766169154228856, 0.7037037037037037, 0.4915254237288136, 0.5697674418604651, 0.4793388429752066, 0.7661870503597122, 0.46153846153846156, 0.5294117647058824, 0.2962962962962963, 0.4657534246575342, 0.5775862068965517, 0.5483870967741935, 0.45454545454545453, 0.7166666666666667, 0.6370967741935484, 0.6538461538461539, 0.5929203539823009, 0.6624365482233503, 0.7012987012987013, 0.5631067961165048, 0.41379310344827586, 0.613882863340564, 0.5362318840579711, 0.5107913669064749, 0.7105263157894737, 0.5769230769230769, 0.6567567567567567, 0.49572649572649574, 0.7379310344827587, 0.5778688524590164, 0.5833333333333334, 0.6309794988610479], \"y\": [0.5714285714285714, 0.5416666666666666, 0.36363636363636365, 0.7863247863247863, 0.582089552238806, 0.631578947368421, 0.5348837209302325, 0.5581395348837209, 0.5384615384615384, 0.7352941176470589, 0.5660377358490566, 0.47058823529411764, 0.4489795918367347, 0.7142857142857143, 0.5555555555555556, 0.5147058823529411, 0.5714285714285714, 0.8307692307692308, 0.7981651376146789, 0.5428571428571428, 0.7638888888888888, 0.5185185185185185, 0.5, 0.59, 0.8470588235294118, 0.6376811594202898, 0.8226950354609929, 0.5238095238095238, 0.5535714285714286, 0.5932203389830508, 0.5531914893617021, 0.6666666666666666, 0.6466165413533834, 0.5681818181818182, 0.4642857142857143, 0.5974025974025974, 0.6179775280898876, 0.5420560747663551, 0.5185185185185185, 0.7325581395348837, 0.6493506493506493, 0.6557377049180327, 0.5802469135802469, 0.6, 0.4666666666666667, 0.6285714285714286, 0.5581395348837209, 0.6888888888888889, 0.6363636363636364, 0.6842105263157895, 0.5347222222222222, 0.6060606060606061, 0.5172413793103449, 0.5, 0.5, 0.5135135135135135, 0.5714285714285714, 0.6587301587301587, 0.75, 0.6216216216216216, 0.5483870967741935, 0.6, 0.5, 0.676923076923077, 0.5797101449275363, 0.5357142857142857, 0.49137931034482757, 0.5555555555555556, 0.5777777777777777, 0.7171717171717171, 0.7049180327868853, 0.5806451612903226, 0.5909090909090909, 0.5555555555555556, 0.7291666666666666, 0.4666666666666667, 0.5897435897435898, 0.6442953020134228, 0.2857142857142857, 0.45454545454545453, 0.6451612903225806, 0.5142857142857142, 0.48717948717948717, 0.48484848484848486, 0.7027027027027027, 0.4634146341463415, 0.75, 0.48, 0.6293103448275862, 0.5217391304347826, 0.524390243902439, 0.4166666666666667, 0.5142857142857142, 0.5161290322580645, 0.47368421052631576, 0.6451612903225806, 0.5277777777777778, 0.43859649122807015, 0.6145833333333334, 0.5555555555555556, 0.5, 0.4827586206896552, 0.6222222222222222, 0.5, 0.8207547169811321, 0.4857142857142857, 0.6, 0.6933333333333334, 0.6216216216216216, 0.7264957264957265, 0.5951219512195122, 0.6712328767123288, 0.8581560283687943, 0.7837837837837838, 0.5964912280701754, 0.5, 0.5, 0.5238095238095238, 0.6122448979591837, 0.6666666666666666, 0.6896551724137931, 0.46875, 0.527027027027027, 0.4166666666666667, 0.6666666666666666, 0.5416666666666666, 0.5967741935483871, 0.6060606060606061, 0.7894736842105263, 0.5909090909090909, 0.5675675675675675, 0.7543859649122807, 0.5806451612903226, 0.5, 0.5581395348837209, 0.4666666666666667, 0.5932203389830508, 0.5531914893617021, 0.5740740740740741, 0.6428571428571429, 0.5777777777777777, 0.4745762711864407, 0.5, 0.5789473684210527, 0.6388888888888888, 0.6868686868686869, 0.7358490566037735, 0.6153846153846154, 0.5789473684210527, 0.6374269005847953, 0.6891891891891891, 0.4444444444444444, 0.6213592233009708, 0.7424242424242424, 0.7222222222222222, 0.47058823529411764, 0.5454545454545454, 0.782051282051282, 0.6666666666666666, 0.5, 0.5648148148148148, 0.6805555555555556, 0.6666666666666666, 0.6111111111111112, 0.4666666666666667, 0.6216216216216216, 0.5945945945945946, 0.6973684210526315, 0.8407079646017699, 0.6027397260273972, 0.7279411764705882, 0.6122448979591837, 0.5, 0.7474747474747475, 0.6190476190476191, 0.5283018867924528, 0.5636363636363636, 0.8360655737704918, 0.49019607843137253, 0.43859649122807015, 0.6521739130434783, 0.6495327102803738, 0.5979381443298969, 0.5576923076923077, 0.589041095890411, 0.7802197802197802, 0.6533333333333333, 0.5785123966942148, 0.6666666666666666, 0.7078651685393258, 0.6595744680851063, 0.5735294117647058, 0.6407766990291263, 0.7111111111111111, 0.6046511627906976, 0.84375, 0.875, 0.6290322580645161, 0.7341772151898734, 0.5611510791366906, 0.6779661016949152, 0.6415094339622641, 0.627906976744186, 0.6533333333333333, 0.5, 0.475, 0.6103896103896104, 0.6470588235294118, 0.7469879518072289, 0.5, 0.7857142857142857, 0.5333333333333333, 0.5614035087719298, 0.48148148148148145, 0.4878048780487805, 0.4444444444444444, 0.6422018348623854, 0.7142857142857143, 0.7086614173228346, 0.5447761194029851, 0.7093023255813954, 0.5726495726495726, 0.5520833333333334, 0.7559055118110236, 0.6868686868686869, 0.5294117647058824, 0.6263736263736264, 0.5535714285714286, 0.7763975155279503, 0.5, 0.5675675675675675, 0.5641025641025641, 0.6482758620689655, 0.5161290322580645, 0.6781609195402298, 0.6601941747572816, 0.5897435897435898, 0.625, 0.45454545454545453, 0.696969696969697, 0.5, 0.42857142857142855], \"z\": [0.6513761467889908, 0.5180722891566265, 0.5611814345991561, 0.7272727272727273, 0.5630630630630631, 0.6531531531531531, 0.531496062992126, 0.4537037037037037, 0.5700483091787439, 0.7889182058047494, 0.4623115577889447, 0.5612903225806452, 0.4956896551724138, 0.6103896103896104, 0.6439024390243903, 0.5612244897959183, 0.6024096385542169, 0.7774030354131535, 0.75177304964539, 0.5379746835443038, 0.7617021276595745, 0.52, 0.4618320610687023, 0.5572916666666666, 0.7533333333333333, 0.5684210526315789, 0.7586206896551724, 0.5163043478260869, 0.6856540084388185, 0.5, 0.52, 0.7146892655367232, 0.5927835051546392, 0.6216216216216216, 0.5955056179775281, 0.5551470588235294, 0.45714285714285713, 0.5217391304347826, 0.5354330708661418, 0.6793893129770993, 0.6449704142011834, 0.7029702970297029, 0.48044692737430167, 0.7087912087912088, 0.5555555555555556, 0.6352087114337568, 0.6140939597315436, 0.6538461538461539, 0.5530973451327433, 0.46774193548387094, 0.48672566371681414, 0.5272727272727272, 0.6, 0.684931506849315, 0.6995708154506438, 0.47719298245614034, 0.5347826086956522, 0.5055555555555555, 0.5277777777777778, 0.6102941176470589, 0.5357873210633947, 0.4297872340425532, 0.4772727272727273, 0.4864864864864865, 0.6577319587628866, 0.7388535031847133, 0.5, 0.5272108843537415, 0.5787401574803149, 0.5830903790087464, 0.5907928388746803, 0.6131805157593123, 0.5536723163841808, 0.5862068965517241, 0.6918238993710691, 0.6228813559322034, 0.6074380165289256, 0.5647058823529412, 0.6472727272727272, 0.5590551181102362, 0.567741935483871, 0.4823529411764706, 0.48325358851674644, 0.47692307692307695, 0.7025089605734767, 0.4027777777777778, 0.8257261410788381, 0.6034063260340633, 0.5223214285714286, 0.555045871559633, 0.5607476635514018, 0.5634920634920635, 0.5551601423487544, 0.6316964285714286, 0.5447154471544715, 0.5225225225225225, 0.5356037151702786, 0.5377969762419006, 0.5194029850746269, 0.4473684210526316, 0.6612903225806451, 0.47896440129449835, 0.7094430992736077, 0.5491071428571429, 0.819935691318328, 0.5735294117647058, 0.4049586776859504, 0.6845493562231759, 0.6593406593406593, 0.6245353159851301, 0.5747663551401869, 0.626, 0.8100558659217877, 0.7102272727272727, 0.4878048780487805, 0.5844155844155844, 0.5576923076923077, 0.7096774193548387, 0.5705128205128205, 0.5409836065573771, 0.7228637413394919, 0.5285714285714286, 0.5098039215686274, 0.49107142857142855, 0.5345911949685535, 0.5625, 0.5515695067264574, 0.6750629722921915, 0.7315789473684211, 0.6119402985074627, 0.45528455284552843, 0.7024482109227872, 0.541095890410959, 0.546583850931677, 0.558252427184466, 0.5778894472361809, 0.6388888888888888, 0.6016949152542372, 0.5684210526315789, 0.5625, 0.6033519553072626, 0.5436241610738255, 0.6666666666666666, 0.5727699530516432, 0.58994708994709, 0.6497975708502024, 0.578125, 0.5670731707317073, 0.5058823529411764, 0.46788990825688076, 0.5993377483443708, 0.5543478260869565, 0.5833333333333334, 0.7153846153846154, 0.4838709677419355, 0.5606060606060606, 0.7044673539518901, 0.6630434782608695, 0.6097560975609756, 0.4482758620689655, 0.5436105476673428, 0.6827956989247311, 0.7403846153846154, 0.6589595375722543, 0.4744186046511628, 0.6111111111111112, 0.6037234042553191, 0.5526315789473685, 0.8429752066115702, 0.5341614906832298, 0.5793650793650794, 0.4745762711864407, 0.44680851063829785, 0.664576802507837, 0.47580645161290325, 0.5302325581395348, 0.47297297297297297, 0.8014981273408239, 0.5294117647058824, 0.5128205128205128, 0.6305970149253731, 0.5153374233128835, 0.5331807780320366, 0.48148148148148145, 0.5555555555555556, 0.7765451664025357, 0.6604477611940298, 0.4742268041237113, 0.6172607879924953, 0.6666666666666666, 0.7763157894736842, 0.5512820512820513, 0.6016260162601627, 0.6352201257861635, 0.6446886446886447, 0.8296703296703297, 0.8326271186440678, 0.5669291338582677, 0.6750788643533123, 0.5, 0.5816326530612245, 0.5619469026548672, 0.6460674157303371, 0.5635179153094463, 0.5536723163841808, 0.5987261146496815, 0.527972027972028, 0.5126050420168067, 0.7064220183486238, 0.6376811594202898, 0.7865853658536586, 0.624113475177305, 0.4888888888888889, 0.5220588235294118, 0.6397379912663755, 0.6371308016877637, 0.5681818181818182, 0.6517647058823529, 0.6064814814814815, 0.5315985130111525, 0.6462395543175488, 0.596244131455399, 0.5, 0.6813725490196079, 0.6482982171799028, 0.6075268817204301, 0.6316758747697975, 0.5533980582524272, 0.6, 0.48148148148148145, 0.5428571428571428, 0.5526315789473685, 0.5343137254901961, 0.5300546448087432, 0.7323232323232324, 0.6332622601279317, 0.6408839779005525, 0.4940119760479042, 0.7192982456140351, 0.6770833333333334, 0.5026737967914439, 0.4939759036144578]}, {\"customdata\": [[0.25, 0.5903614457831325, 0.46511627906976744, \"2\", \"Adrian Mannarino\"], [0.42857142857142855, 0.3902439024390244, 0.39156626506024095, \"2\", \"Alejandro Falla\"], [0.3877551020408163, 0.5142857142857142, 0.45132743362831856, \"2\", \"Alex Antonitsch\"], [0.14285714285714285, 0.44, 0.41007194244604317, \"2\", \"Alex Bogomolov Jr\"], [0.15384615384615385, 0.4, 0.6428571428571429, \"2\", \"Alex De Minaur\"], [0.3225806451612903, 0.41935483870967744, 0.42857142857142855, \"2\", \"Alex Obrien\"], [0.2916666666666667, 0.36363636363636365, 0.358695652173913, \"2\", \"Alexander Mronz\"], [0.19230769230769232, 0.631578947368421, 0.36585365853658536, \"2\", \"Alexander Popp\"], [0.2708333333333333, 0.5737704918032787, 0.6261127596439169, \"2\", \"Amos Mansdorf\"], [0.3595505617977528, 0.38636363636363635, 0.35802469135802467, \"2\", \"Anand Amritraj\"], [0.27906976744186046, 0.37037037037037035, 0.4126984126984127, \"2\", \"Andre Sa\"], [0.36363636363636365, 0.5, 0.3684210526315789, \"2\", \"Andreas Beck\"], [0.47619047619047616, 0.5, 0.37037037037037035, \"2\", \"Andreas Maurer\"], [0.3076923076923077, 0.5, 0.32967032967032966, \"2\", \"Andrei Olhovskiy\"], [0.3448275862068966, 0.4634146341463415, 0.40594059405940597, \"2\", \"Antony Dupuis\"], [0.4083333333333333, 0.5376344086021505, 0.5071225071225072, \"2\", \"Arnaud Clement\"], [0.3684210526315789, 0.5, 0.4166666666666667, \"2\", \"Ben Testerman\"], [0.24444444444444444, 0.5454545454545454, 0.4061302681992337, \"2\", \"Benjamin Becker\"], [0.3958333333333333, 0.5, 0.39285714285714285, \"2\", \"Bernard Fritz\"], [0.4166666666666667, 0.42857142857142855, 0.625, \"2\", \"Bernard Mignot\"], [0.3902439024390244, 0.5142857142857142, 0.5095541401273885, \"2\", \"Bernard Mitton\"], [0.3230769230769231, 0.5428571428571428, 0.5384615384615384, \"2\", \"Bernard Tomic\"], [0.4716981132075472, 0.5945945945945946, 0.39285714285714285, \"2\", \"Bill Bowrey\"], [0.44565217391304346, 0.46511627906976744, 0.4430379746835443, \"2\", \"Billy Martin\"], [0.3684210526315789, 0.5, 0.26666666666666666, \"2\", \"Birger Andersson\"], [0.47058823529411764, 0.4842105263157895, 0.49264705882352944, \"2\", \"Bob Carmichael\"], [0.32, 0.5416666666666666, 0.3125, \"2\", \"Bob Giltinan\"], [0.4032258064516129, 0.5448717948717948, 0.35555555555555557, \"2\", \"Brad Drewett\"], [0.375, 0.4666666666666667, 0.32926829268292684, \"2\", \"Brad Pearce\"], [0.23809523809523808, 0.3877551020408163, 0.39325842696629215, \"2\", \"Broderick Dyke\"], [0.30303030303030304, 0.3076923076923077, 0.45, \"2\", \"Bruce Derlin\"], [0.4857142857142857, 0.5333333333333333, 0.36936936936936937, \"2\", \"Bryan Shelton\"], [0.16666666666666666, 0.5652173913043478, 0.5, \"2\", \"Bud Schultz\"], [0.391304347826087, 0.45714285714285713, 0.3157894736842105, \"2\", \"Butch Seewagen\"], [0.4, 0.45, 0.5277777777777778, \"2\", \"Butch Walts\"], [0.3709677419354839, 0.4864864864864865, 0.4155844155844156, \"2\", \"Byron Bertram\"], [0.38636363636363635, 0.6111111111111112, 0.528125, \"2\", \"Byron Black\"], [0.4803921568627451, 0.42857142857142855, 0.4666666666666667, \"2\", \"Carlos Kirmayr\"], [0.3855421686746988, 0.4, 0.4117647058823529, \"2\", \"Cassio Motta\"], [0.3793103448275862, 0.4375, 0.5128205128205128, \"2\", \"Charles Owens\"], [0.4375, 0.40625, 0.4563106796116505, \"2\", \"Chip Hooper\"], [0.14285714285714285, 0.4, 0.4605263157894737, \"2\", \"Chris Guccione\"], [0.18518518518518517, 0.33962264150943394, 0.25, \"2\", \"Chris Kachel\"], [0.2, 0.35294117647058826, 0.41379310344827586, \"2\", \"Chris Pridham\"], [0.4634146341463415, 0.5, 0.5074626865671642, \"2\", \"Chris Woodruff\"], [0.3448275862068966, 0.5476190476190477, 0.28378378378378377, \"2\", \"Christian Saceanu\"], [0.09090909090909091, 0.6111111111111112, 0.49710982658959535, \"2\", \"Christo Van Rensburg\"], [0.08333333333333333, 0.3, 0.5074626865671642, \"2\", \"Chuck Adams\"], [0.2727272727272727, 0.43037974683544306, 0.2857142857142857, \"2\", \"Cliff Letcher\"], [0.125, 0.4166666666666667, 0.40336134453781514, \"2\", \"Cyril Saulnier\"], [0.45901639344262296, 0.5555555555555556, 0.4785276073619632, \"2\", \"Damir Dzumhur\"], [0.23529411764705882, 0.4117647058823529, 0.359375, \"2\", \"Dan Cassidy\"], [0.25, 0.5428571428571428, 0.5337837837837838, \"2\", \"Dan Goldie\"], [0.21052631578947367, 0.4626865671641791, 0.4322033898305085, \"2\", \"Danie Visser\"], [0.38181818181818183, 0.4117647058823529, 0.3875, \"2\", \"Daniel Brands\"], [0.25, 0.4230769230769231, 0.5, \"2\", \"Daniel Evans\"], [0.2, 0.4186046511627907, 0.43548387096774194, \"2\", \"Daniel Nestor\"], [0.35294117647058826, 0.425, 0.45595854922279794, \"2\", \"Daniel Vacek\"], [0.42391304347826086, 0.3953488372093023, 0.3469387755102041, \"2\", \"David Carter\"], [0.2777777777777778, 0.543859649122807, 0.5355450236966824, \"2\", \"David Pate\"], [0.23809523809523808, 0.5645161290322581, 0.4012738853503185, \"2\", \"David Prinosil\"], [0.18181818181818182, 0.29411764705882354, 0.3275862068965517, \"2\", \"David Schneider\"], [0.3680555555555556, 0.425531914893617, 0.43956043956043955, \"2\", \"Davide Sanguinetti\"], [0.45384615384615384, 0.5394736842105263, 0.45390070921985815, \"2\", \"Denis Istomin\"], [0.2631578947368421, 0.5116279069767442, 0.28735632183908044, \"2\", \"Denis Kudla\"], [0.27586206896551724, 0.375, 0.5, \"2\", \"Deon Joubert\"], [0.2972972972972973, 0.5915492957746479, 0.5288461538461539, \"2\", \"Derrick Rostagno\"], [0.32653061224489793, 0.4230769230769231, 0.4125, \"2\", \"Diego Nargiso\"], [0.3918918918918919, 0.5522388059701493, 0.5255972696245734, \"2\", \"Dmitry Tursunov\"], [0.21875, 0.38461538461538464, 0.4279835390946502, \"2\", \"Donald Young\"], [0.18604651162790697, 0.48148148148148145, 0.4491525423728814, \"2\", \"Dudi Sela\"], [0.40384615384615385, 0.45, 0.3382352941176471, \"2\", \"Dustin Brown\"], [0.38095238095238093, 0.49382716049382713, 0.3170731707317073, \"2\", \"Eddie Edwards\"], [0.37735849056603776, 0.45714285714285713, 0.4, \"2\", \"Edouard Roger Vasselin\"], [0.3698630136986301, 0.6346153846153846, 0.4426229508196721, \"2\", \"Eric Jelen\"], [0.45652173913043476, 0.48214285714285715, 0.4251968503937008, \"2\", \"Erik Van Dillen\"], [0.20689655172413793, 0.26666666666666666, 0.36363636363636365, \"2\", \"Evgeny Donskoy\"], [0.28, 0.391304347826087, 0.3333333333333333, \"2\", \"Ferdi Taygan\"], [0.5204081632653061, 0.5, 0.42857142857142855, \"2\", \"Flavio Saretta\"], [0.3448275862068966, 0.46153846153846156, 0.43478260869565216, \"2\", \"Frances Tiafoe\"], [0.35443037974683544, 0.3953488372093023, 0.41818181818181815, \"2\", \"Francisco Gonzalez\"], [0.38738738738738737, 0.5, 0.4166666666666667, \"2\", \"Francisco Roig\"], [0.05263157894736842, 0.4772727272727273, 0.37735849056603776, \"2\", \"Frank Dancevic\"], [0.3611111111111111, 0.4444444444444444, 0.3076923076923077, \"2\", \"Frank Gebert\"], [0.30120481927710846, 0.4, 0.1956521739130435, \"2\", \"Fred Mcnair\"], [0.2894736842105263, 0.4444444444444444, 0.48, \"2\", \"Frederik Fetterlein\"], [0.411214953271028, 0.49230769230769234, 0.421875, \"2\", \"Frew Mcmillan\"], [0.29411764705882354, 0.55, 0.48936170212765956, \"2\", \"Fritz Buehning\"], [0.4, 0.42857142857142855, 0.41732283464566927, \"2\", \"Gary Muller\"], [0.29577464788732394, 0.3142857142857143, 0.37681159420289856, \"2\", \"George Hardie\"], [0.45185185185185184, 0.4666666666666667, 0.48, \"2\", \"Georges Goven\"], [0.44274809160305345, 0.45, 0.46835443037974683, \"2\", \"Gerald Battrick\"], [0.14634146341463414, 0.47058823529411764, 0.41732283464566927, \"2\", \"Gianluca Pozzi\"], [0.4, 0.35714285714285715, 0.49056603773584906, \"2\", \"Gianni Ocleppo\"], [0.25, 0.45454545454545453, 0.49230769230769234, \"2\", \"Gilad Bloom\"], [0.25, 0.4418604651162791, 0.45054945054945056, \"2\", \"Glenn Layendecker\"], [0.29411764705882354, 0.36, 0.391304347826087, \"2\", \"Glenn Michibata\"], [0.33783783783783783, 0.4897959183673469, 0.2982456140350877, \"2\", \"Graham Stilwell\"], [0.3333333333333333, 0.5, 0.424, \"2\", \"Grant Stafford\"], [0.1111111111111111, 0.4074074074074074, 0.5454545454545454, \"2\", \"Greg Holmes\"], [0.25, 0.375, 0.35555555555555557, \"2\", \"Grover Raz Reid\"], [0.28846153846153844, 0.4375, 0.46153846153846156, \"2\", \"Guillaume Raoux\"], [0.49635036496350365, 0.48333333333333334, 0.4222222222222222, \"2\", \"Guillermo Garcia Lopez\"], [0.3855421686746988, 0.375, 0.25, \"2\", \"Hans Joachim Ploetz\"], [0.4262295081967213, 0.5, 0.30434782608695654, \"2\", \"Hans Schwaier\"], [0.4146341463414634, 0.375, 0.38144329896907214, \"2\", \"Harel Levy\"], [0.3404255319148936, 0.3333333333333333, 0.47619047619047616, \"2\", \"Haroon Rahim\"], [0.3770491803278688, 0.36666666666666664, 0.532608695652174, \"2\", \"Hendrik Dreekmann\"], [0.2631578947368421, 0.5789473684210527, 0.4811320754716981, \"2\", \"Henrik Holm\"], [0.4, 0.5, 0.4931506849315068, \"2\", \"Hubert Hurkacz\"], [0.425531914893617, 0.5365853658536586, 0.45454545454545453, \"2\", \"Ian Fletcher\"], [0.26666666666666666, 0.32432432432432434, 0.37662337662337664, \"2\", \"Igor Kunitsyn\"], [0.30303030303030304, 0.43478260869565216, 0.35365853658536583, \"2\", \"Igor Sijsling\"], [0.16666666666666666, 0.3, 0.45871559633027525, \"2\", \"Illya Marchenko\"], [0.47641509433962265, 0.5066666666666667, 0.4642857142857143, \"2\", \"Ismail El Shafei\"], [0.421875, 0.5483870967741935, 0.4539877300613497, \"2\", \"Ivan Dodig\"], [0.125, 0.3333333333333333, 0.3181818181818182, \"2\", \"Ivo Heuberger\"], [0.4864864864864865, 0.574468085106383, 0.37755102040816324, \"2\", \"Jacco Eltingh\"], [0.475, 0.5, 0.42857142857142855, \"2\", \"Jaime Oncins\"], [0.3684210526315789, 0.47619047619047616, 0.43529411764705883, \"2\", \"Jamie Morgan\"], [0.3448275862068966, 0.5454545454545454, 0.4, \"2\", \"Jan Apell\"], [0.30952380952380953, 0.475, 0.4215686274509804, \"2\", \"Jan Hernych\"], [0.3333333333333333, 0.3076923076923077, 0.4625, \"2\", \"Jan Kroslak\"], [0.4032258064516129, 0.4, 0.2777777777777778, \"2\", \"Jan Kukal\"], [0.2127659574468085, 0.5227272727272727, 0.5586206896551724, \"2\", \"Jan Michael Gambill\"], [0.2608695652173913, 0.3333333333333333, 0.39473684210526316, \"2\", \"Jan Norback\"], [0.3793103448275862, 0.4666666666666667, 0.5137254901960784, \"2\", \"Jan Siemerink\"], [0.26666666666666666, 0.42857142857142855, 0.4691358024691358, \"2\", \"Jared Donaldson\"], [0.3953488372093023, 0.42105263157894735, 0.4444444444444444, \"2\", \"Jay Lapidus\"], [0.22727272727272727, 0.4358974358974359, 0.3548387096774194, \"2\", \"Jean Baptiste Chanfreau\"], [0.3125, 0.3, 0.45714285714285713, \"2\", \"Jean Louis Haillet\"], [0.3888888888888889, 0.4, 0.4097222222222222, \"2\", \"Jean Philippe Fleurian\"], [0.2631578947368421, 0.36363636363636365, 0.425, \"2\", \"Jeff Austin\"], [0.5251396648044693, 0.44776119402985076, 0.4588235294117647, \"2\", \"Jeff Borowiak\"], [0.2647058823529412, 0.5, 0.22580645161290322, \"2\", \"Jeff Simpson\"], [0.39655172413793105, 0.5454545454545454, 0.3448275862068966, \"2\", \"Jens Knippschild\"], [0.2564102564102564, 0.4574468085106383, 0.42028985507246375, \"2\", \"Jeremy Bates\"], [0.4473684210526316, 0.46875, 0.5483870967741935, \"2\", \"Jerome Golmard\"], [0.358974358974359, 0.6153846153846154, 0.52, \"2\", \"Jerzy Janowicz\"], [0.3283582089552239, 0.43243243243243246, 0.3709677419354839, \"2\", \"Jim Delaney\"], [0.1875, 0.3333333333333333, 0.50199203187251, \"2\", \"Jim Grabb\"], [0.2345679012345679, 0.4, 0.36585365853658536, \"2\", \"Jim Mcmanus\"], [0.45161290322580644, 0.4827586206896552, 0.47540983606557374, \"2\", \"Jim Osborne\"], [0.3870967741935484, 0.5555555555555556, 0.47058823529411764, \"2\", \"Jim Pugh\"], [0.17647058823529413, 0.5, 0.6082474226804123, \"2\", \"Joachim Johansson\"], [0.2923076923076923, 0.3333333333333333, 0.23076923076923078, \"2\", \"Joao Soares\"], [0.43010752688172044, 0.5121951219512195, 0.3137254901960784, \"2\", \"Joaquin Loyo Mayo\"], [0.25, 0.5217391304347826, 0.41975308641975306, \"2\", \"Joey Rive\"], [0.30434782608695654, 0.3333333333333333, 0.4673913043478261, \"2\", \"Johan Carlsson\"], [0.2727272727272727, 0.32, 0.4583333333333333, \"2\", \"John Austin\"], [0.24074074074074073, 0.3170731707317073, 0.1111111111111111, \"2\", \"John Bartlett\"], [0.2857142857142857, 0.5932203389830508, 0.5098039215686274, \"2\", \"John Cooper\"], [0.2903225806451613, 0.328125, 0.21428571428571427, \"2\", \"John Feaver\"], [0.2777777777777778, 0.5868263473053892, 0.48677248677248675, \"2\", \"John Fitzgerald\"], [0.35294117647058826, 0.4634146341463415, 0.38461538461538464, \"2\", \"John James\"], [0.41007194244604317, 0.49166666666666664, 0.45864661654135336, \"2\", \"John Lloyd\"], [0.18181818181818182, 0.3673469387755102, 0.2, \"2\", \"John Marks\"], [0.36666666666666664, 0.43478260869565216, 0.48175182481751827, \"2\", \"John Millman\"], [0.30952380952380953, 0.4482758620689655, 0.41025641025641024, \"2\", \"John Van Lottum\"], [0.30952380952380953, 0.45454545454545453, 0.375, \"2\", \"John Whitlinger\"], [0.39473684210526316, 0.42857142857142855, 0.38596491228070173, \"2\", \"John Yuill\"], [0.36, 0.6507936507936508, 0.5355555555555556, \"2\", \"Jonas Bjorkman\"], [0.21428571428571427, 0.375, 0.47474747474747475, \"2\", \"Jonathan Canter\"], [0.36666666666666664, 0.3584905660377358, 0.3, \"2\", \"Jonathan Smith\"], [0.3684210526315789, 0.4883720930232558, 0.45698924731182794, \"2\", \"Jonathan Stark\"], [0.38095238095238093, 0.38095238095238093, 0.4418604651162791, \"2\", \"Jordan Thompson\"], [0.4697986577181208, 0.5, 0.2777777777777778, \"2\", \"Jordi Burillo\"], [0.20512820512820512, 0.26666666666666666, 0.17647058823529413, \"2\", \"Jorge Andrew\"], [0.4818181818181818, 0.5, 0.25, \"2\", \"Jose Luis Damiani\"], [0.545816733067729, 0.5, 0.2631578947368421, \"2\", \"Juan Aguilera\"], [0.4672897196261682, 0.4444444444444444, 0.4, \"2\", \"Julian Ganzabal\"], [0.4144144144144144, 0.47368421052631576, 0.4943820224719101, \"2\", \"Julien Benneteau\"], [0.32, 0.4067796610169492, 0.3858695652173913, \"2\", \"Justin Gimelstob\"], [0.09090909090909091, 0.4375, 0.36036036036036034, \"2\", \"Karol Beck\"], [0.3409090909090909, 0.44, 0.45454545454545453, \"2\", \"Karsten Braasch\"], [0.42857142857142855, 0.5846153846153846, 0.46710526315789475, \"2\", \"Kelly Evernden\"], [0.2909090909090909, 0.45588235294117646, 0.5062111801242236, \"2\", \"Kenneth Carlsen\"], [0.3333333333333333, 0.6635514018691588, 0.56640625, \"2\", \"Kevin Curren\"], [0.3125, 0.3076923076923077, 0.3923076923076923, \"2\", \"Lars Burgsmuller\"], [0.1, 0.5263157894736842, 0.38, \"2\", \"Laurence Tieleman\"], [0.42857142857142855, 0.6571428571428571, 0.40860215053763443, \"2\", \"Leander Paes\"], [0.2727272727272727, 0.5, 0.30985915492957744, \"2\", \"Leif Shiras\"], [0.5254237288135594, 0.45714285714285713, 0.4303030303030303, \"2\", \"Leonardo Mayer\"], [0.45454545454545453, 0.5098039215686274, 0.38095238095238093, \"2\", \"Lloyd Bourne\"], [0.36666666666666664, 0.48, 0.3835616438356164, \"2\", \"Luis Herrera\"], [0.2, 0.4186046511627907, 0.41714285714285715, \"2\", \"Lukas Lacko\"], [0.4742268041237113, 0.52, 0.36538461538461536, \"2\", \"Lukasz Kubot\"], [0.3333333333333333, 0.4074074074074074, 0.39622641509433965, \"2\", \"Marc Flur\"], [0.4406779661016949, 0.4230769230769231, 0.4215686274509804, \"2\", \"Marc Gicquel\"], [0.5117647058823529, 0.4594594594594595, 0.37373737373737376, \"2\", \"Marc Kevin Goellner\"], [0.38235294117647056, 0.35, 0.4027777777777778, \"2\", \"Marcel Freeman\"], [0.48130841121495327, 0.4473684210526316, 0.4129353233830846, \"2\", \"Marcel Granollers\"], [0.25925925925925924, 0.4, 0.35294117647058826, \"2\", \"Marco Chiudinelli\"], [0.48360655737704916, 0.5217391304347826, 0.4411764705882353, \"2\", \"Marcos Hocevar\"], [0.45, 0.43333333333333335, 0.46835443037974683, \"2\", \"Marcos Ondruska\"], [0.2962962962962963, 0.4, 0.42857142857142855, \"2\", \"Marinko Matosevic\"], [0.2702702702702703, 0.4, 0.4742268041237113, \"2\", \"Marius Copil\"], [0.3333333333333333, 0.47058823529411764, 0.34285714285714286, \"2\", \"Mark Knowles\"], [0.5, 0.5, 0.43902439024390244, \"2\", \"Mark Koevermans\"], [0.1, 0.5102040816326531, 0.34177215189873417, \"2\", \"Mark Kratzmann\"], [0.36363636363636365, 0.37777777777777777, 0.25, \"2\", \"Mark Petchey\"], [0.38738738738738737, 0.5368421052631579, 0.5359281437125748, \"2\", \"Mark Woodforde\"], [0.42105263157894735, 0.42857142857142855, 0.31343283582089554, \"2\", \"Marko Ostoja\"], [0.2222222222222222, 0.3125, 0.44554455445544555, \"2\", \"Markus Zoecke\"], [0.17647058823529413, 0.46938775510204084, 0.41304347826086957, \"2\", \"Martin Damm\"], [0.39436619718309857, 0.42857142857142855, 0.3584905660377358, \"2\", \"Martin Wostenholme\"], [0.3953488372093023, 0.5263157894736842, 0.49101796407185627, \"2\", \"Marty Davis\"], [0.36363636363636365, 0.5306122448979592, 0.42990654205607476, \"2\", \"Matt Anger\"], [0.32, 0.4166666666666667, 0.4875, \"2\", \"Matt Doyle\"], [0.2631578947368421, 0.38636363636363635, 0.39705882352941174, \"2\", \"Matt Mitchell\"], [0.07142857142857142, 0.4444444444444444, 0.38235294117647056, \"2\", \"Matthew Ebden\"], [0.40594059405940597, 0.5357142857142857, 0.5097276264591439, \"2\", \"Max Mirnyi\"], [0.2978723404255319, 0.2916666666666667, 0.4125, \"2\", \"Michael Berrer\"], [0.16666666666666666, 0.4375, 0.45121951219512196, \"2\", \"Michael Joyce\"], [0.3333333333333333, 0.5945945945945946, 0.4538152610441767, \"2\", \"Michael Llodra\"], [0.2553191489361702, 0.30303030303030304, 0.3741496598639456, \"2\", \"Michael Russell\"], [0.20689655172413793, 0.3333333333333333, 0.2807017543859649, \"2\", \"Michal Przysiezny\"], [0.3829787234042553, 0.5238095238095238, 0.43820224719101125, \"2\", \"Michel Kratochvil\"], [0.37142857142857144, 0.559322033898305, 0.4866666666666667, \"2\", \"Michiel Schapers\"], [0.13333333333333333, 0.5660377358490566, 0.3333333333333333, \"2\", \"Mike Bauer\"], [0.4583333333333333, 0.4375, 0.46835443037974683, \"2\", \"Mike De Palmer\"], [0.21666666666666667, 0.532258064516129, 0.45555555555555555, \"2\", \"Mike Estep\"], [0.07692307692307693, 0.34285714285714286, 0.30952380952380953, \"2\", \"Mike Machette\"], [0.37894736842105264, 0.39473684210526316, 0.47478991596638653, \"2\", \"Mikhail Kukushkin\"], [0.41964285714285715, 0.4411764705882353, 0.4358974358974359, \"2\", \"Milan Holecek\"], [0.4430379746835443, 0.4375, 0.5102040816326531, \"2\", \"Milan Srejber\"], [0.31645569620253167, 0.5, 0.40932642487046633, \"2\", \"Mischa Zverev\"], [0.4482758620689655, 0.5081967213114754, 0.38613861386138615, \"2\", \"Nduka Odizor\"], [0.4222222222222222, 0.45, 0.4166666666666667, \"2\", \"Nicholas Kalogeropoulos\"], [0.390625, 0.4918032786885246, 0.474025974025974, \"2\", \"Nick Saviano\"], [0.35294117647058826, 0.36363636363636365, 0.5098039215686274, \"2\", \"Nicklas Kroon\"], [0.4649122807017544, 0.5357142857142857, 0.421875, \"2\", \"Nicklas Kulti\"], [0.30357142857142855, 0.6203703703703703, 0.40789473684210525, \"2\", \"Nicolas Mahut\"], [0.39655172413793105, 0.3793103448275862, 0.4017857142857143, \"2\", \"Nicolas Pereira\"], [0.2727272727272727, 0.42105263157894735, 0.45394736842105265, \"2\", \"Olivier Delaitre\"], [0.3935483870967742, 0.5308641975308642, 0.47619047619047616, \"2\", \"Olivier Rochus\"], [0.31666666666666665, 0.4634146341463415, 0.4368932038834951, \"2\", \"Ove Nils Bengtson\"], [0.375, 0.6153846153846154, 0.375, \"2\", \"Owen Davidson\"], [0.2553191489361702, 0.5555555555555556, 0.6049382716049383, \"2\", \"Paradorn Srichaphan\"], [0.22448979591836735, 0.36363636363636365, 0.44, \"2\", \"Pat Cramer\"], [0.46296296296296297, 0.4791666666666667, 0.5081967213114754, \"2\", \"Pat Dupre\"], [0.2972972972972973, 0.3333333333333333, 0.42857142857142855, \"2\", \"Patrick Baur\"], [0.37142857142857144, 0.4, 0.5, \"2\", \"Patrick McEnroe\"], [0.391304347826087, 0.4523809523809524, 0.46218487394957986, \"2\", \"Patrik Kuhnen\"], [0.4625, 0.47058823529411764, 0.5217391304347826, \"2\", \"Paul Gerken\"], [0.4, 0.5, 0.4189189189189189, \"2\", \"Paul Goldstein\"], [0.37209302325581395, 0.43859649122807015, 0.36363636363636365, \"2\", \"Paul Kronk\"], [0.3, 0.5205479452054794, 0.17777777777777778, \"2\", \"Peter Doohan\"], [0.38596491228070173, 0.4, 0.5497076023391813, \"2\", \"Peter Fleming\"], [0.3333333333333333, 0.4444444444444444, 0.4631578947368421, \"2\", \"Peter Gojowczyk\"], [0.27419354838709675, 0.4444444444444444, 0.3389830508474576, \"2\", \"Peter Luczak\"], [0.05263157894736842, 0.5, 0.525974025974026, \"2\", \"Peter Lundgren\"], [0.5454545454545454, 0.5641025641025641, 0.3333333333333333, \"2\", \"Peter Rennert\"], [0.2222222222222222, 0.5625, 0.423728813559322, \"2\", \"Peter Wessels\"], [0.37209302325581395, 0.525, 0.46017699115044247, \"2\", \"Philipp Petzschner\"], [0.45454545454545453, 0.5, 0.4351145038167939, \"2\", \"Pierre Hugues Herbert\"], [0.43137254901960786, 0.5, 0.41228070175438597, \"2\", \"Radu Albot\"], [0.3870967741935484, 0.46938775510204084, 0.3953488372093023, \"2\", \"Raemon Sluiter\"], [0.39263803680981596, 0.5555555555555556, 0.5253333333333333, \"2\", \"Rainer Schuettler\"], [0.36363636363636365, 0.5428571428571428, 0.3238095238095238, \"2\", \"Rajeev Ram\"], [0.39285714285714285, 0.5480769230769231, 0.5704918032786885, \"2\", \"Ramesh Krishnan\"], [0.2857142857142857, 0.40384615384615385, 0.2413793103448276, \"2\", \"Ray Keldie\"], [0.44086021505376344, 0.4948453608247423, 0.5308641975308642, \"2\", \"Raymond Moore\"], [0.3230769230769231, 0.5238095238095238, 0.38095238095238093, \"2\", \"Ricardo Acuna\"], [0.5058365758754864, 0.4473684210526316, 0.47685185185185186, \"2\", \"Richard Fromberg\"], [0.2830188679245283, 0.4084507042253521, 0.47368421052631576, \"2\", \"Richard Lewis\"], [0.25, 0.375, 0.4146341463414634, \"2\", \"Richard Matuszewski\"], [0.28, 0.4090909090909091, 0.2903225806451613, \"2\", \"Richard Meyer\"], [0.23076923076923078, 0.36, 0.3, \"2\", \"Rick Fisher\"], [0.09090909090909091, 0.4166666666666667, 0.38823529411764707, \"2\", \"Robbie Weiss\"], [0.2857142857142857, 0.48, 0.5143884892086331, \"2\", \"Robby Ginepri\"], [0.16666666666666666, 0.2222222222222222, 0.3493975903614458, \"2\", \"Robert Kendrick\"], [0.4745762711864407, 0.48717948717948717, 0.39655172413793105, \"2\", \"Robert Maud\"], [0.23076923076923078, 0.5405405405405406, 0.5094339622641509, \"2\", \"Robert Seguso\"], [0.3333333333333333, 0.36363636363636365, 0.5106382978723404, \"2\", \"Robert Vant Hof\"], [0.375, 0.5319148936170213, 0.42105263157894735, \"2\", \"Rod Frawley\"], [0.3181818181818182, 0.4444444444444444, 0.4266666666666667, \"2\", \"Roger Smith\"], [0.4876543209876543, 0.4782608695652174, 0.4074074074074074, \"2\", \"Rolf Gehring\"], [0.1724137931034483, 0.43243243243243246, 0.21818181818181817, \"2\", \"Roy Barth\"], [0.28846153846153844, 0.47863247863247865, 0.4444444444444444, \"2\", \"Russell Simpson\"], [0.35714285714285715, 0.35135135135135137, 0.4623115577889447, \"2\", \"Ryan Harrison\"], [0.43103448275862066, 0.5370370370370371, 0.5225806451612903, \"2\", \"Sammy Giammalva Jr\"], [0.4, 0.5714285714285714, 0.4264705882352941, \"2\", \"Sandon Stolle\"], [0.5082872928176796, 0.45161290322580644, 0.3860759493670886, \"2\", \"Santiago Giraldo\"], [0.4326923076923077, 0.4827586206896552, 0.39766081871345027, \"2\", \"Sargis Sargsian\"], [0.23529411764705882, 0.5084745762711864, 0.5466101694915254, \"2\", \"Scott Davis\"], [0.34146341463414637, 0.4888888888888889, 0.47794117647058826, \"2\", \"Scott Draper\"], [0.15, 0.3870967741935484, 0.4407894736842105, \"2\", \"Sebastien Lareau\"], [0.375, 0.48148148148148145, 0.4649122807017544, \"2\", \"Sergiy Stakhovsky\"], [0.3684210526315789, 0.46153846153846156, 0.47692307692307695, \"2\", \"Shahar Perkiss\"], [0.4117647058823529, 0.45901639344262296, 0.42727272727272725, \"2\", \"Sherwood Stewart\"], [0.3076923076923077, 0.5581395348837209, 0.4845360824742268, \"2\", \"Shuzo Matsuoka\"], [0.23333333333333334, 0.40350877192982454, 0.4409448818897638, \"2\", \"Simon Youl\"], [0.4745762711864407, 0.5, 0.36231884057971014, \"2\", \"Simone Bolelli\"], [0.3263157894736842, 0.375, 0.3684210526315789, \"2\", \"Stanislav Birner\"], [0.463768115942029, 0.5, 0.41818181818181815, \"2\", \"Stefan Simonsson\"], [0.30952380952380953, 0.3333333333333333, 0.3559322033898305, \"2\", \"Stephane Robert\"], [0.26666666666666666, 0.48, 0.359375, \"2\", \"Stephane Simian\"], [0.4666666666666667, 0.45714285714285713, 0.46099290780141844, \"2\", \"Steve Darcis\"], [0.36363636363636365, 0.5416666666666666, 0.5060240963855421, \"2\", \"Steve Denton\"], [0.2857142857142857, 0.42424242424242425, 0.4107142857142857, \"2\", \"Steve Docherty\"], [0.3904109589041096, 0.375, 0.4157303370786517, \"2\", \"Steve Krulevitz\"], [0.25, 0.45614035087719296, 0.3018867924528302, \"2\", \"Syd Ball\"], [0.4057971014492754, 0.5789473684210527, 0.36363636363636365, \"2\", \"Szabolcz Baranyi\"], [0.3076923076923077, 0.4, 0.3283582089552239, \"2\", \"Tatsuma Ito\"], [0.25, 0.5576923076923077, 0.5280373831775701, \"2\", \"Taylor Dent\"], [0.5151515151515151, 0.43478260869565216, 0.5, \"2\", \"Taylor Fritz\"], [0.20408163265306123, 0.2857142857142857, 0.30303030303030304, \"2\", \"Tenny Svensson\"], [0.2857142857142857, 0.5172413793103449, 0.2631578947368421, \"2\", \"Terry Addison\"], [0.325, 0.4864864864864865, 0.34615384615384615, \"2\", \"Terry Ryan\"], [0.4027777777777778, 0.4782608695652174, 0.359375, \"2\", \"Thierry Champion\"], [0.35514018691588783, 0.6153846153846154, 0.5623268698060941, \"2\", \"Thomas Johansson\"], [0.25, 0.3333333333333333, 0.3469387755102041, \"2\", \"Tim Smyczek\"], [0.36363636363636365, 0.4583333333333333, 0.3673469387755102, \"2\", \"Tobias Kamke\"], [0.3, 0.34615384615384615, 0.3235294117647059, \"2\", \"Todd Nelson\"], [0.3728813559322034, 0.5921052631578947, 0.5302491103202847, \"2\", \"Todd Woodbridge\"], [0.4090909090909091, 0.4166666666666667, 0.40540540540540543, \"2\", \"Tom Edlefsen\"], [0.047619047619047616, 0.4, 0.410958904109589, \"2\", \"Tom Leonard\"], [0.2909090909090909, 0.375, 0.3225806451612903, \"2\", \"Tomas Zib\"], [0.4090909090909091, 0.38095238095238093, 0.4358974358974359, \"2\", \"Tony Giammalva\"], [0.1282051282051282, 0.47368421052631576, 0.21621621621621623, \"2\", \"Torben Ulrich\"], [0.375, 0.4583333333333333, 0.6428571428571429, \"2\", \"Toshiro Sakai\"], [0.2903225806451613, 0.3333333333333333, 0.49606299212598426, \"2\", \"Trey Waltke\"], [0.3157894736842105, 0.4, 0.2857142857142857, \"2\", \"Udo Riglewski\"], [0.05, 0.3902439024390244, 0.49295774647887325, \"2\", \"Vasek Pospisil\"], [0.47058823529411764, 0.4166666666666667, 0.47619047619047616, \"2\", \"Veli Paloheimo\"], [0.42592592592592593, 0.4090909090909091, 0.4925373134328358, \"2\", \"Vincent Spadea\"], [0.19047619047619047, 0.45454545454545453, 0.45977011494252873, \"2\", \"Vladimir Voltchkov\"], [0.32432432432432434, 0.6436781609195402, 0.5361216730038023, \"2\", \"Wally Masur\"], [0.37037037037037035, 0.5652173913043478, 0.43902439024390244, \"2\", \"Wayne Arthurs\"], [0.30434782608695654, 0.3684210526315789, 0.4491525423728814, \"2\", \"Wayne Black\"], [0.375, 0.4, 0.36363636363636365, \"2\", \"Werner Zirngibl\"], [0.34285714285714286, 0.4444444444444444, 0.3333333333333333, \"2\", \"Wolfgang Popp\"], [0.23076923076923078, 0.4375, 0.4217687074829932, \"2\", \"Yen Hsun Lu\"], [0.17647058823529413, 0.5, 0.391304347826087, \"2\", \"Yuichi Sugita\"], [0.3888888888888889, 0.375, 0.3, \"2\", \"Zoltan Kuharszky\"]], \"hoverlabel\": {\"namelength\": 0}, \"hovertemplate\": \"label=%{customdata[3]}<br>Clay_record=%{customdata[0]}<br>Grass_record=%{customdata[1]}<br>Hard_record=%{customdata[2]}<br>player_name=%{customdata[4]}\", \"legendgroup\": \"2\", \"marker\": {\"color\": \"#EF553B\", \"symbol\": \"circle\"}, \"mode\": \"markers\", \"name\": \"2\", \"scene\": \"scene\", \"showlegend\": true, \"type\": \"scatter3d\", \"x\": [0.25, 0.42857142857142855, 0.3877551020408163, 0.14285714285714285, 0.15384615384615385, 0.3225806451612903, 0.2916666666666667, 0.19230769230769232, 0.2708333333333333, 0.3595505617977528, 0.27906976744186046, 0.36363636363636365, 0.47619047619047616, 0.3076923076923077, 0.3448275862068966, 0.4083333333333333, 0.3684210526315789, 0.24444444444444444, 0.3958333333333333, 0.4166666666666667, 0.3902439024390244, 0.3230769230769231, 0.4716981132075472, 0.44565217391304346, 0.3684210526315789, 0.47058823529411764, 0.32, 0.4032258064516129, 0.375, 0.23809523809523808, 0.30303030303030304, 0.4857142857142857, 0.16666666666666666, 0.391304347826087, 0.4, 0.3709677419354839, 0.38636363636363635, 0.4803921568627451, 0.3855421686746988, 0.3793103448275862, 0.4375, 0.14285714285714285, 0.18518518518518517, 0.2, 0.4634146341463415, 0.3448275862068966, 0.09090909090909091, 0.08333333333333333, 0.2727272727272727, 0.125, 0.45901639344262296, 0.23529411764705882, 0.25, 0.21052631578947367, 0.38181818181818183, 0.25, 0.2, 0.35294117647058826, 0.42391304347826086, 0.2777777777777778, 0.23809523809523808, 0.18181818181818182, 0.3680555555555556, 0.45384615384615384, 0.2631578947368421, 0.27586206896551724, 0.2972972972972973, 0.32653061224489793, 0.3918918918918919, 0.21875, 0.18604651162790697, 0.40384615384615385, 0.38095238095238093, 0.37735849056603776, 0.3698630136986301, 0.45652173913043476, 0.20689655172413793, 0.28, 0.5204081632653061, 0.3448275862068966, 0.35443037974683544, 0.38738738738738737, 0.05263157894736842, 0.3611111111111111, 0.30120481927710846, 0.2894736842105263, 0.411214953271028, 0.29411764705882354, 0.4, 0.29577464788732394, 0.45185185185185184, 0.44274809160305345, 0.14634146341463414, 0.4, 0.25, 0.25, 0.29411764705882354, 0.33783783783783783, 0.3333333333333333, 0.1111111111111111, 0.25, 0.28846153846153844, 0.49635036496350365, 0.3855421686746988, 0.4262295081967213, 0.4146341463414634, 0.3404255319148936, 0.3770491803278688, 0.2631578947368421, 0.4, 0.425531914893617, 0.26666666666666666, 0.30303030303030304, 0.16666666666666666, 0.47641509433962265, 0.421875, 0.125, 0.4864864864864865, 0.475, 0.3684210526315789, 0.3448275862068966, 0.30952380952380953, 0.3333333333333333, 0.4032258064516129, 0.2127659574468085, 0.2608695652173913, 0.3793103448275862, 0.26666666666666666, 0.3953488372093023, 0.22727272727272727, 0.3125, 0.3888888888888889, 0.2631578947368421, 0.5251396648044693, 0.2647058823529412, 0.39655172413793105, 0.2564102564102564, 0.4473684210526316, 0.358974358974359, 0.3283582089552239, 0.1875, 0.2345679012345679, 0.45161290322580644, 0.3870967741935484, 0.17647058823529413, 0.2923076923076923, 0.43010752688172044, 0.25, 0.30434782608695654, 0.2727272727272727, 0.24074074074074073, 0.2857142857142857, 0.2903225806451613, 0.2777777777777778, 0.35294117647058826, 0.41007194244604317, 0.18181818181818182, 0.36666666666666664, 0.30952380952380953, 0.30952380952380953, 0.39473684210526316, 0.36, 0.21428571428571427, 0.36666666666666664, 0.3684210526315789, 0.38095238095238093, 0.4697986577181208, 0.20512820512820512, 0.4818181818181818, 0.545816733067729, 0.4672897196261682, 0.4144144144144144, 0.32, 0.09090909090909091, 0.3409090909090909, 0.42857142857142855, 0.2909090909090909, 0.3333333333333333, 0.3125, 0.1, 0.42857142857142855, 0.2727272727272727, 0.5254237288135594, 0.45454545454545453, 0.36666666666666664, 0.2, 0.4742268041237113, 0.3333333333333333, 0.4406779661016949, 0.5117647058823529, 0.38235294117647056, 0.48130841121495327, 0.25925925925925924, 0.48360655737704916, 0.45, 0.2962962962962963, 0.2702702702702703, 0.3333333333333333, 0.5, 0.1, 0.36363636363636365, 0.38738738738738737, 0.42105263157894735, 0.2222222222222222, 0.17647058823529413, 0.39436619718309857, 0.3953488372093023, 0.36363636363636365, 0.32, 0.2631578947368421, 0.07142857142857142, 0.40594059405940597, 0.2978723404255319, 0.16666666666666666, 0.3333333333333333, 0.2553191489361702, 0.20689655172413793, 0.3829787234042553, 0.37142857142857144, 0.13333333333333333, 0.4583333333333333, 0.21666666666666667, 0.07692307692307693, 0.37894736842105264, 0.41964285714285715, 0.4430379746835443, 0.31645569620253167, 0.4482758620689655, 0.4222222222222222, 0.390625, 0.35294117647058826, 0.4649122807017544, 0.30357142857142855, 0.39655172413793105, 0.2727272727272727, 0.3935483870967742, 0.31666666666666665, 0.375, 0.2553191489361702, 0.22448979591836735, 0.46296296296296297, 0.2972972972972973, 0.37142857142857144, 0.391304347826087, 0.4625, 0.4, 0.37209302325581395, 0.3, 0.38596491228070173, 0.3333333333333333, 0.27419354838709675, 0.05263157894736842, 0.5454545454545454, 0.2222222222222222, 0.37209302325581395, 0.45454545454545453, 0.43137254901960786, 0.3870967741935484, 0.39263803680981596, 0.36363636363636365, 0.39285714285714285, 0.2857142857142857, 0.44086021505376344, 0.3230769230769231, 0.5058365758754864, 0.2830188679245283, 0.25, 0.28, 0.23076923076923078, 0.09090909090909091, 0.2857142857142857, 0.16666666666666666, 0.4745762711864407, 0.23076923076923078, 0.3333333333333333, 0.375, 0.3181818181818182, 0.4876543209876543, 0.1724137931034483, 0.28846153846153844, 0.35714285714285715, 0.43103448275862066, 0.4, 0.5082872928176796, 0.4326923076923077, 0.23529411764705882, 0.34146341463414637, 0.15, 0.375, 0.3684210526315789, 0.4117647058823529, 0.3076923076923077, 0.23333333333333334, 0.4745762711864407, 0.3263157894736842, 0.463768115942029, 0.30952380952380953, 0.26666666666666666, 0.4666666666666667, 0.36363636363636365, 0.2857142857142857, 0.3904109589041096, 0.25, 0.4057971014492754, 0.3076923076923077, 0.25, 0.5151515151515151, 0.20408163265306123, 0.2857142857142857, 0.325, 0.4027777777777778, 0.35514018691588783, 0.25, 0.36363636363636365, 0.3, 0.3728813559322034, 0.4090909090909091, 0.047619047619047616, 0.2909090909090909, 0.4090909090909091, 0.1282051282051282, 0.375, 0.2903225806451613, 0.3157894736842105, 0.05, 0.47058823529411764, 0.42592592592592593, 0.19047619047619047, 0.32432432432432434, 0.37037037037037035, 0.30434782608695654, 0.375, 0.34285714285714286, 0.23076923076923078, 0.17647058823529413, 0.3888888888888889], \"y\": [0.5903614457831325, 0.3902439024390244, 0.5142857142857142, 0.44, 0.4, 0.41935483870967744, 0.36363636363636365, 0.631578947368421, 0.5737704918032787, 0.38636363636363635, 0.37037037037037035, 0.5, 0.5, 0.5, 0.4634146341463415, 0.5376344086021505, 0.5, 0.5454545454545454, 0.5, 0.42857142857142855, 0.5142857142857142, 0.5428571428571428, 0.5945945945945946, 0.46511627906976744, 0.5, 0.4842105263157895, 0.5416666666666666, 0.5448717948717948, 0.4666666666666667, 0.3877551020408163, 0.3076923076923077, 0.5333333333333333, 0.5652173913043478, 0.45714285714285713, 0.45, 0.4864864864864865, 0.6111111111111112, 0.42857142857142855, 0.4, 0.4375, 0.40625, 0.4, 0.33962264150943394, 0.35294117647058826, 0.5, 0.5476190476190477, 0.6111111111111112, 0.3, 0.43037974683544306, 0.4166666666666667, 0.5555555555555556, 0.4117647058823529, 0.5428571428571428, 0.4626865671641791, 0.4117647058823529, 0.4230769230769231, 0.4186046511627907, 0.425, 0.3953488372093023, 0.543859649122807, 0.5645161290322581, 0.29411764705882354, 0.425531914893617, 0.5394736842105263, 0.5116279069767442, 0.375, 0.5915492957746479, 0.4230769230769231, 0.5522388059701493, 0.38461538461538464, 0.48148148148148145, 0.45, 0.49382716049382713, 0.45714285714285713, 0.6346153846153846, 0.48214285714285715, 0.26666666666666666, 0.391304347826087, 0.5, 0.46153846153846156, 0.3953488372093023, 0.5, 0.4772727272727273, 0.4444444444444444, 0.4, 0.4444444444444444, 0.49230769230769234, 0.55, 0.42857142857142855, 0.3142857142857143, 0.4666666666666667, 0.45, 0.47058823529411764, 0.35714285714285715, 0.45454545454545453, 0.4418604651162791, 0.36, 0.4897959183673469, 0.5, 0.4074074074074074, 0.375, 0.4375, 0.48333333333333334, 0.375, 0.5, 0.375, 0.3333333333333333, 0.36666666666666664, 0.5789473684210527, 0.5, 0.5365853658536586, 0.32432432432432434, 0.43478260869565216, 0.3, 0.5066666666666667, 0.5483870967741935, 0.3333333333333333, 0.574468085106383, 0.5, 0.47619047619047616, 0.5454545454545454, 0.475, 0.3076923076923077, 0.4, 0.5227272727272727, 0.3333333333333333, 0.4666666666666667, 0.42857142857142855, 0.42105263157894735, 0.4358974358974359, 0.3, 0.4, 0.36363636363636365, 0.44776119402985076, 0.5, 0.5454545454545454, 0.4574468085106383, 0.46875, 0.6153846153846154, 0.43243243243243246, 0.3333333333333333, 0.4, 0.4827586206896552, 0.5555555555555556, 0.5, 0.3333333333333333, 0.5121951219512195, 0.5217391304347826, 0.3333333333333333, 0.32, 0.3170731707317073, 0.5932203389830508, 0.328125, 0.5868263473053892, 0.4634146341463415, 0.49166666666666664, 0.3673469387755102, 0.43478260869565216, 0.4482758620689655, 0.45454545454545453, 0.42857142857142855, 0.6507936507936508, 0.375, 0.3584905660377358, 0.4883720930232558, 0.38095238095238093, 0.5, 0.26666666666666666, 0.5, 0.5, 0.4444444444444444, 0.47368421052631576, 0.4067796610169492, 0.4375, 0.44, 0.5846153846153846, 0.45588235294117646, 0.6635514018691588, 0.3076923076923077, 0.5263157894736842, 0.6571428571428571, 0.5, 0.45714285714285713, 0.5098039215686274, 0.48, 0.4186046511627907, 0.52, 0.4074074074074074, 0.4230769230769231, 0.4594594594594595, 0.35, 0.4473684210526316, 0.4, 0.5217391304347826, 0.43333333333333335, 0.4, 0.4, 0.47058823529411764, 0.5, 0.5102040816326531, 0.37777777777777777, 0.5368421052631579, 0.42857142857142855, 0.3125, 0.46938775510204084, 0.42857142857142855, 0.5263157894736842, 0.5306122448979592, 0.4166666666666667, 0.38636363636363635, 0.4444444444444444, 0.5357142857142857, 0.2916666666666667, 0.4375, 0.5945945945945946, 0.30303030303030304, 0.3333333333333333, 0.5238095238095238, 0.559322033898305, 0.5660377358490566, 0.4375, 0.532258064516129, 0.34285714285714286, 0.39473684210526316, 0.4411764705882353, 0.4375, 0.5, 0.5081967213114754, 0.45, 0.4918032786885246, 0.36363636363636365, 0.5357142857142857, 0.6203703703703703, 0.3793103448275862, 0.42105263157894735, 0.5308641975308642, 0.4634146341463415, 0.6153846153846154, 0.5555555555555556, 0.36363636363636365, 0.4791666666666667, 0.3333333333333333, 0.4, 0.4523809523809524, 0.47058823529411764, 0.5, 0.43859649122807015, 0.5205479452054794, 0.4, 0.4444444444444444, 0.4444444444444444, 0.5, 0.5641025641025641, 0.5625, 0.525, 0.5, 0.5, 0.46938775510204084, 0.5555555555555556, 0.5428571428571428, 0.5480769230769231, 0.40384615384615385, 0.4948453608247423, 0.5238095238095238, 0.4473684210526316, 0.4084507042253521, 0.375, 0.4090909090909091, 0.36, 0.4166666666666667, 0.48, 0.2222222222222222, 0.48717948717948717, 0.5405405405405406, 0.36363636363636365, 0.5319148936170213, 0.4444444444444444, 0.4782608695652174, 0.43243243243243246, 0.47863247863247865, 0.35135135135135137, 0.5370370370370371, 0.5714285714285714, 0.45161290322580644, 0.4827586206896552, 0.5084745762711864, 0.4888888888888889, 0.3870967741935484, 0.48148148148148145, 0.46153846153846156, 0.45901639344262296, 0.5581395348837209, 0.40350877192982454, 0.5, 0.375, 0.5, 0.3333333333333333, 0.48, 0.45714285714285713, 0.5416666666666666, 0.42424242424242425, 0.375, 0.45614035087719296, 0.5789473684210527, 0.4, 0.5576923076923077, 0.43478260869565216, 0.2857142857142857, 0.5172413793103449, 0.4864864864864865, 0.4782608695652174, 0.6153846153846154, 0.3333333333333333, 0.4583333333333333, 0.34615384615384615, 0.5921052631578947, 0.4166666666666667, 0.4, 0.375, 0.38095238095238093, 0.47368421052631576, 0.4583333333333333, 0.3333333333333333, 0.4, 0.3902439024390244, 0.4166666666666667, 0.4090909090909091, 0.45454545454545453, 0.6436781609195402, 0.5652173913043478, 0.3684210526315789, 0.4, 0.4444444444444444, 0.4375, 0.5, 0.375], \"z\": [0.46511627906976744, 0.39156626506024095, 0.45132743362831856, 0.41007194244604317, 0.6428571428571429, 0.42857142857142855, 0.358695652173913, 0.36585365853658536, 0.6261127596439169, 0.35802469135802467, 0.4126984126984127, 0.3684210526315789, 0.37037037037037035, 0.32967032967032966, 0.40594059405940597, 0.5071225071225072, 0.4166666666666667, 0.4061302681992337, 0.39285714285714285, 0.625, 0.5095541401273885, 0.5384615384615384, 0.39285714285714285, 0.4430379746835443, 0.26666666666666666, 0.49264705882352944, 0.3125, 0.35555555555555557, 0.32926829268292684, 0.39325842696629215, 0.45, 0.36936936936936937, 0.5, 0.3157894736842105, 0.5277777777777778, 0.4155844155844156, 0.528125, 0.4666666666666667, 0.4117647058823529, 0.5128205128205128, 0.4563106796116505, 0.4605263157894737, 0.25, 0.41379310344827586, 0.5074626865671642, 0.28378378378378377, 0.49710982658959535, 0.5074626865671642, 0.2857142857142857, 0.40336134453781514, 0.4785276073619632, 0.359375, 0.5337837837837838, 0.4322033898305085, 0.3875, 0.5, 0.43548387096774194, 0.45595854922279794, 0.3469387755102041, 0.5355450236966824, 0.4012738853503185, 0.3275862068965517, 0.43956043956043955, 0.45390070921985815, 0.28735632183908044, 0.5, 0.5288461538461539, 0.4125, 0.5255972696245734, 0.4279835390946502, 0.4491525423728814, 0.3382352941176471, 0.3170731707317073, 0.4, 0.4426229508196721, 0.4251968503937008, 0.36363636363636365, 0.3333333333333333, 0.42857142857142855, 0.43478260869565216, 0.41818181818181815, 0.4166666666666667, 0.37735849056603776, 0.3076923076923077, 0.1956521739130435, 0.48, 0.421875, 0.48936170212765956, 0.41732283464566927, 0.37681159420289856, 0.48, 0.46835443037974683, 0.41732283464566927, 0.49056603773584906, 0.49230769230769234, 0.45054945054945056, 0.391304347826087, 0.2982456140350877, 0.424, 0.5454545454545454, 0.35555555555555557, 0.46153846153846156, 0.4222222222222222, 0.25, 0.30434782608695654, 0.38144329896907214, 0.47619047619047616, 0.532608695652174, 0.4811320754716981, 0.4931506849315068, 0.45454545454545453, 0.37662337662337664, 0.35365853658536583, 0.45871559633027525, 0.4642857142857143, 0.4539877300613497, 0.3181818181818182, 0.37755102040816324, 0.42857142857142855, 0.43529411764705883, 0.4, 0.4215686274509804, 0.4625, 0.2777777777777778, 0.5586206896551724, 0.39473684210526316, 0.5137254901960784, 0.4691358024691358, 0.4444444444444444, 0.3548387096774194, 0.45714285714285713, 0.4097222222222222, 0.425, 0.4588235294117647, 0.22580645161290322, 0.3448275862068966, 0.42028985507246375, 0.5483870967741935, 0.52, 0.3709677419354839, 0.50199203187251, 0.36585365853658536, 0.47540983606557374, 0.47058823529411764, 0.6082474226804123, 0.23076923076923078, 0.3137254901960784, 0.41975308641975306, 0.4673913043478261, 0.4583333333333333, 0.1111111111111111, 0.5098039215686274, 0.21428571428571427, 0.48677248677248675, 0.38461538461538464, 0.45864661654135336, 0.2, 0.48175182481751827, 0.41025641025641024, 0.375, 0.38596491228070173, 0.5355555555555556, 0.47474747474747475, 0.3, 0.45698924731182794, 0.4418604651162791, 0.2777777777777778, 0.17647058823529413, 0.25, 0.2631578947368421, 0.4, 0.4943820224719101, 0.3858695652173913, 0.36036036036036034, 0.45454545454545453, 0.46710526315789475, 0.5062111801242236, 0.56640625, 0.3923076923076923, 0.38, 0.40860215053763443, 0.30985915492957744, 0.4303030303030303, 0.38095238095238093, 0.3835616438356164, 0.41714285714285715, 0.36538461538461536, 0.39622641509433965, 0.4215686274509804, 0.37373737373737376, 0.4027777777777778, 0.4129353233830846, 0.35294117647058826, 0.4411764705882353, 0.46835443037974683, 0.42857142857142855, 0.4742268041237113, 0.34285714285714286, 0.43902439024390244, 0.34177215189873417, 0.25, 0.5359281437125748, 0.31343283582089554, 0.44554455445544555, 0.41304347826086957, 0.3584905660377358, 0.49101796407185627, 0.42990654205607476, 0.4875, 0.39705882352941174, 0.38235294117647056, 0.5097276264591439, 0.4125, 0.45121951219512196, 0.4538152610441767, 0.3741496598639456, 0.2807017543859649, 0.43820224719101125, 0.4866666666666667, 0.3333333333333333, 0.46835443037974683, 0.45555555555555555, 0.30952380952380953, 0.47478991596638653, 0.4358974358974359, 0.5102040816326531, 0.40932642487046633, 0.38613861386138615, 0.4166666666666667, 0.474025974025974, 0.5098039215686274, 0.421875, 0.40789473684210525, 0.4017857142857143, 0.45394736842105265, 0.47619047619047616, 0.4368932038834951, 0.375, 0.6049382716049383, 0.44, 0.5081967213114754, 0.42857142857142855, 0.5, 0.46218487394957986, 0.5217391304347826, 0.4189189189189189, 0.36363636363636365, 0.17777777777777778, 0.5497076023391813, 0.4631578947368421, 0.3389830508474576, 0.525974025974026, 0.3333333333333333, 0.423728813559322, 0.46017699115044247, 0.4351145038167939, 0.41228070175438597, 0.3953488372093023, 0.5253333333333333, 0.3238095238095238, 0.5704918032786885, 0.2413793103448276, 0.5308641975308642, 0.38095238095238093, 0.47685185185185186, 0.47368421052631576, 0.4146341463414634, 0.2903225806451613, 0.3, 0.38823529411764707, 0.5143884892086331, 0.3493975903614458, 0.39655172413793105, 0.5094339622641509, 0.5106382978723404, 0.42105263157894735, 0.4266666666666667, 0.4074074074074074, 0.21818181818181817, 0.4444444444444444, 0.4623115577889447, 0.5225806451612903, 0.4264705882352941, 0.3860759493670886, 0.39766081871345027, 0.5466101694915254, 0.47794117647058826, 0.4407894736842105, 0.4649122807017544, 0.47692307692307695, 0.42727272727272725, 0.4845360824742268, 0.4409448818897638, 0.36231884057971014, 0.3684210526315789, 0.41818181818181815, 0.3559322033898305, 0.359375, 0.46099290780141844, 0.5060240963855421, 0.4107142857142857, 0.4157303370786517, 0.3018867924528302, 0.36363636363636365, 0.3283582089552239, 0.5280373831775701, 0.5, 0.30303030303030304, 0.2631578947368421, 0.34615384615384615, 0.359375, 0.5623268698060941, 0.3469387755102041, 0.3673469387755102, 0.3235294117647059, 0.5302491103202847, 0.40540540540540543, 0.410958904109589, 0.3225806451612903, 0.4358974358974359, 0.21621621621621623, 0.6428571428571429, 0.49606299212598426, 0.2857142857142857, 0.49295774647887325, 0.47619047619047616, 0.4925373134328358, 0.45977011494252873, 0.5361216730038023, 0.43902439024390244, 0.4491525423728814, 0.36363636363636365, 0.3333333333333333, 0.4217687074829932, 0.391304347826087, 0.3]}, {\"customdata\": [[0.4666666666666667, 0.2631578947368421, 0.43636363636363634, \"0\", \"Adrian Voinea\"], [0.6, 0.2857142857142857, 0.4489795918367347, \"0\", \"Agustin Calleri\"], [0.6650485436893204, 0.2222222222222222, 0.49523809523809526, \"0\", \"Albert Costa\"], [0.5338345864661654, 0.3157894736842105, 0.3064516129032258, \"0\", \"Albert Montanes\"], [0.47388059701492535, 0.21428571428571427, 0.22448979591836735, \"0\", \"Albert Portas\"], [0.5401459854014599, 0.3333333333333333, 0.3764705882352941, \"0\", \"Albert Ramos\"], [0.5879396984924623, 0.3333333333333333, 0.4444444444444444, \"0\", \"Alberto Mancini\"], [0.5164473684210527, 0.32, 0.3464052287581699, \"0\", \"Alberto Martin\"], [0.40350877192982454, 0.14285714285714285, 0.4074074074074074, \"0\", \"Alex Calatrava\"], [0.5, 0.39285714285714285, 0.4628099173553719, \"0\", \"Aljaz Bedene\"], [0.25, 0.2, 0.42105263157894735, \"0\", \"Alvaro Fillol\"], [0.2682926829268293, 0.17142857142857143, 0.30303030303030304, \"0\", \"Alvin Gardiner\"], [0.5585284280936454, 0.1, 0.375, \"0\", \"Andrea Gaudenzi\"], [0.3870967741935484, 0.2857142857142857, 0.3541666666666667, \"0\", \"Andreas Haider Maurer\"], [0.43661971830985913, 0.2857142857142857, 0.48484848484848486, \"0\", \"Andreas Vinciguerra\"], [0.6415094339622641, 0.2727272727272727, 0.5682819383259912, \"0\", \"Andrei Chesnokov\"], [0.5316455696202531, 0.3125, 0.3904761904761905, \"0\", \"Andrew Ilie\"], [0.36065573770491804, 0.09090909090909091, 0.3853211009174312, \"0\", \"Andrey Golubev\"], [0.44776119402985076, 0.35, 0.4666666666666667, \"0\", \"Andrey Kuznetsov\"], [0.4817073170731707, 0.16666666666666666, 0.35294117647058826, \"0\", \"Angel Gimenez\"], [0.3926940639269406, 0.2777777777777778, 0.19047619047619047, \"0\", \"Antonio Munoz\"], [0.4861878453038674, 0.23529411764705882, 0.2857142857142857, \"0\", \"Antonio Zugarelli\"], [0.47474747474747475, 0.25, 0.32727272727272727, \"0\", \"Arnaud Di Pasquale\"], [0.5338983050847458, 0.44776119402985076, 0.34375, \"0\", \"Barry Phillips Moore\"], [0.40804597701149425, 0.2727272727272727, 0.25, \"0\", \"Belus Prajoux\"], [0.4745762711864407, 0.25, 0.43478260869565216, \"0\", \"Bernard Boileau\"], [0.5310344827586206, 0.23529411764705882, 0.4444444444444444, \"0\", \"Bernd Karbacher\"], [0.3728813559322034, 0.07142857142857142, 0.4, \"0\", \"Bjorn Phau\"], [0.43333333333333335, 0.1875, 0.36363636363636365, \"0\", \"Blaz Kavcic\"], [0.3333333333333333, 0.29411764705882354, 0.26666666666666666, \"0\", \"Bobby Reynolds\"], [0.5155555555555555, 0.2631578947368421, 0.4817073170731707, \"0\", \"Bohdan Ulihrach\"], [0.4375, 0.3333333333333333, 0.45614035087719296, \"0\", \"Bruce Manson\"], [0.43478260869565216, 0.35714285714285715, 0.4794520547945205, \"0\", \"Cameron Norrie\"], [0.3333333333333333, 0.07142857142857142, 0.375, \"0\", \"Carl Limberger\"], [0.47513812154696133, 0.2222222222222222, 0.5241935483870968, \"0\", \"Carl Uwe Steeb\"], [0.463302752293578, 0.25, 0.32558139534883723, \"0\", \"Carlos Berlocq\"], [0.599388379204893, 0.375, 0.4536082474226804, \"0\", \"Carlos Costa\"], [0.30434782608695654, 0.23529411764705882, 0.3770491803278688, \"0\", \"Cecil Mamiit\"], [0.671875, 0.2857142857142857, 0.375, \"0\", \"Christian Garin\"], [0.41566265060240964, 0.12, 0.3228346456692913, \"0\", \"Christophe Rochus\"], [0.44537815126050423, 0.2, 0.453125, \"0\", \"Christophe Roger Vasselin\"], [0.489247311827957, 0.25, 0.3953488372093023, \"0\", \"Claudio Mezzadri\"], [0.4444444444444444, 0.3333333333333333, 0.3888888888888889, \"0\", \"Claudio Panatta\"], [0.45962732919254656, 0.2, 0.10526315789473684, \"0\", \"Claudio Pistolesi\"], [0.39215686274509803, 0.3333333333333333, 0.4810126582278481, \"0\", \"Colin Dowdeswell\"], [0.6175, 0.1111111111111111, 0.5942028985507246, \"0\", \"Corrado Barazzutti\"], [0.3333333333333333, 0.21428571428571427, 0.40707964601769914, \"0\", \"Cristiano Caratti\"], [0.4620253164556962, 0.3888888888888889, 0.3125, \"0\", \"Damir Keretic\"], [0.45454545454545453, 0.3157894736842105, 0.46808510638297873, \"0\", \"Danai Udomchoke\"], [0.42391304347826086, 0.10526315789473684, 0.2537313432835821, \"0\", \"Daniel Gimeno Traver\"], [0.41025641025641024, 0.2, 0.30434782608695654, \"0\", \"David Rikl\"], [0.5483870967741935, 0.25, 0.5833333333333334, \"0\", \"Denis Shapovalov\"], [0.4318181818181818, 0.3181818181818182, 0.38461538461538464, \"0\", \"Dennis Van Scheppingen\"], [0.3, 0.3, 0.14285714285714285, \"0\", \"Dick Dell\"], [0.5684931506849316, 0.3333333333333333, 0.5333333333333333, \"0\", \"Diego Schwartzman\"], [0.5362903225806451, 0.24, 0.5427728613569321, \"0\", \"Dominik Hrbaty\"], [0.5066666666666667, 0.25, 0.4090909090909091, \"0\", \"Dusan Lajovic\"], [0.6, 0.2, 0.5454545454545454, \"0\", \"Edison Mandarino\"], [0.42857142857142855, 0.3333333333333333, 0.39285714285714285, \"0\", \"Eduardo Masso\"], [0.4696969696969697, 0.125, 0.25806451612903225, \"0\", \"Eduardo Schwank\"], [0.643312101910828, 0.2857142857142857, 0.5833333333333334, \"0\", \"Emilio Sanchez\"], [0.423728813559322, 0.3333333333333333, 0.4166666666666667, \"0\", \"Eric Deblicker\"], [0.45, 0.4, 0.33962264150943394, \"0\", \"Eric Fromm\"], [0.5241379310344828, 0.38461538461538464, 0.5071428571428571, \"0\", \"Ernests Gulbis\"], [0.3870967741935484, 0.16666666666666666, 0.5, \"0\", \"Evgeny Korolev\"], [0.659217877094972, 0.3333333333333333, 0.49635036496350365, \"0\", \"Felix Mantilla\"], [0.5513698630136986, 0.14285714285714285, 0.3486238532110092, \"0\", \"Fernando Meligeni\"], [0.46887966804979253, 0.29411764705882354, 0.3786407766990291, \"0\", \"Fernando Vicente\"], [0.5050505050505051, 0.25, 0.36764705882352944, \"0\", \"Filip Dewulf\"], [0.5339805825242718, 0.15384615384615385, 0.1323529411764706, \"0\", \"Filippo Volandri\"], [0.358974358974359, 0.125, 0.38181818181818183, \"0\", \"Flavio Cipolla\"], [0.46153846153846156, 0.34615384615384615, 0.4166666666666667, \"0\", \"Florent Serra\"], [0.46511627906976744, 0.2, 0.38461538461538464, \"0\", \"Florin Segarceanu\"], [0.5397489539748954, 0.14285714285714285, 0.36231884057971014, \"0\", \"Franco Squillari\"], [0.6241379310344828, 0.4090909090909091, 0.3076923076923077, \"0\", \"Francois Jauffret\"], [0.4918032786885246, 0.38461538461538464, 0.45, \"0\", \"Frank Froehling\"], [0.4397163120567376, 0.25, 0.2857142857142857, \"0\", \"Frantisek Pala\"], [0.5476190476190477, 0.125, 0.3877551020408163, \"0\", \"Frederico Gil\"], [0.46835443037974683, 0.14285714285714285, 0.20408163265306123, \"0\", \"Galo Blanco\"], [0.660436137071651, 0.25, 0.42105263157894735, \"0\", \"Gaston Gaudio\"], [0.2222222222222222, 0.1875, 0.4065934065934066, \"0\", \"George Bastl\"], [0.4069767441860465, 0.2857142857142857, 0.4444444444444444, \"0\", \"Gilles Moretton\"], [0.3076923076923077, 0.23529411764705882, 0.36538461538461536, \"0\", \"Go Soeda\"], [0.5581395348837209, 0.16666666666666666, 0.4642857142857143, \"0\", \"Goran Prpic\"], [0.5446428571428571, 0.4444444444444444, 0.4174757281553398, \"0\", \"Guido Pella\"], [0.6175548589341693, 0.3333333333333333, 0.2, \"0\", \"Hans Gildemeister\"], [0.5133333333333333, 0.2857142857142857, 0.5777777777777777, \"0\", \"Hans Jurgen Pohmann\"], [0.41295546558704455, 0.2857142857142857, 0.4666666666666667, \"0\", \"Hans Kary\"], [0.3548387096774194, 0.25, 0.40625, \"0\", \"Hans Simonsson\"], [0.52, 0.35294117647058826, 0.5, \"0\", \"Harald Elschenbroich\"], [0.6751269035532995, 0.29411764705882354, 0.34375, \"0\", \"Henrik Sundstrom\"], [0.453125, 0.15384615384615385, 0.37349397590361444, \"0\", \"Horacio Zeballos\"], [0.5907590759075908, 0.14285714285714285, 0.34328358208955223, \"0\", \"Horst Skoff\"], [0.5483870967741935, 0.3333333333333333, 0.5309734513274337, \"0\", \"Hyeon Chung\"], [0.45, 0.35714285714285715, 0.3018867924528302, \"0\", \"Irakli Labadze\"], [0.49056603773584906, 0.14285714285714285, 0.26666666666666666, \"0\", \"Ivan Molina\"], [0.3181818181818182, 0.23076923076923078, 0.4090909090909091, \"0\", \"Ivo Minar\"], [0.44285714285714284, 0.2, 0.3333333333333333, \"0\", \"Jaime Pinto Bravo\"], [0.45263157894736844, 0.375, 0.48255813953488375, \"0\", \"Jan Lennard Struff\"], [0.5263157894736842, 0.3888888888888889, 0.4625, \"0\", \"Jared Palmer\"], [0.5375, 0.2727272727272727, 0.45454545454545453, \"0\", \"Javier Sanchez\"], [0.4489795918367347, 0.13333333333333333, 0.3333333333333333, \"0\", \"Jean Francois Caujolle\"], [0.5405405405405406, 0.3870967741935484, 0.375, \"0\", \"Jean Loup Rouyer\"], [0.4084507042253521, 0.2, 0.3559322033898305, \"0\", \"Jean Rene Lisnard\"], [0.4537037037037037, 0.34146341463414637, 0.46645367412140576, \"0\", \"Jeff Tarango\"], [0.3611111111111111, 0.2222222222222222, 0.4666666666666667, \"0\", \"Jerome Potier\"], [0.4375, 0.4, 0.2571428571428571, \"0\", \"Jim Gurfein\"], [0.5384615384615384, 0.43478260869565216, 0.4107142857142857, \"0\", \"Jiri Hrebec\"], [0.42105263157894735, 0.125, 0.3, \"0\", \"Jiri Vanek\"], [0.32558139534883723, 0.2, 0.40625, \"0\", \"Joao Cunha Silva\"], [0.4968553459119497, 0.4117647058823529, 0.45045045045045046, \"0\", \"Joao Sousa\"], [0.43333333333333335, 0.36363636363636365, 0.4878048780487805, \"0\", \"John Frawley\"], [0.416, 0.3333333333333333, 0.38095238095238093, \"0\", \"Jose Lopez Maeso\"], [0.44086021505376344, 0.3333333333333333, 0.20689655172413793, \"0\", \"Juan Albert Viloca Puig\"], [0.5963855421686747, 0.26666666666666666, 0.5, \"0\", \"Juan Ignacio Chela\"], [0.6226912928759895, 0.3888888888888889, 0.463768115942029, \"0\", \"Juan Monaco\"], [0.5172413793103449, 0.1111111111111111, 0.3559322033898305, \"0\", \"Julien Boutter\"], [0.4473684210526316, 0.38235294117647056, 0.37142857142857144, \"0\", \"Jun Kamiwazumi\"], [0.371900826446281, 0.25, 0.3939393939393939, \"0\", \"Jun Kuki\"], [0.5313807531380753, 0.3333333333333333, 0.375, \"0\", \"Karim Alami\"], [0.2, 0.2222222222222222, 0.34615384615384615, \"0\", \"Kevin Kim\"], [0.4887640449438202, 0.2222222222222222, 0.4318181818181818, \"0\", \"Kjell Johansson\"], [0.46808510638297873, 0.3333333333333333, 0.3076923076923077, \"0\", \"Klaus Eberhard\"], [0.34615384615384615, 0.25, 0.40476190476190477, \"0\", \"Kristian Pless\"], [0.42857142857142855, 0.37037037037037035, 0.4222222222222222, \"0\", \"Kristof Vliegen\"], [0.49056603773584906, 0.3870967741935484, 0.5333333333333333, \"0\", \"Kyle Edmund\"], [0.375, 0.2608695652173913, 0.4473684210526316, \"0\", \"Larry Stefanki\"], [0.41025641025641024, 0.2222222222222222, 0.4027777777777778, \"0\", \"Lars Jonsson\"], [0.6338028169014085, 0.2, 0.21212121212121213, \"0\", \"Laslo Djere\"], [0.37209302325581395, 0.2, 0.3170731707317073, \"0\", \"Leo Palin\"], [0.4861111111111111, 0.15384615384615385, 0.4090909090909091, \"0\", \"Leonardo Lavalle\"], [0.3025210084033613, 0.2, 0.2, \"0\", \"Lito Alvarez\"], [0.49390243902439024, 0.14285714285714285, 0.554140127388535, \"0\", \"Luiz Mattar\"], [0.5247524752475248, 0.4, 0.39375, \"0\", \"Lukas Rosol\"], [0.42592592592592593, 0.2962962962962963, 0.43243243243243246, \"0\", \"Malek Jaziri\"], [0.43, 0.2727272727272727, 0.358974358974359, \"0\", \"Marcello Lara\"], [0.45121951219512196, 0.25, 0.23255813953488372, \"0\", \"Marco Cecchinato\"], [0.3448275862068966, 0.25, 0.23529411764705882, \"0\", \"Marcos Aurelio Gorriz\"], [0.5193370165745856, 0.25, 0.3090909090909091, \"0\", \"Marian Vajda\"], [0.509090909090909, 0.14285714285714285, 0.3076923076923077, \"0\", \"Markus Hipfl\"], [0.553030303030303, 0.23529411764705882, 0.44666666666666666, \"0\", \"Martin Klizan\"], [0.632, 0.25, 0.3684210526315789, \"0\", \"Martin Mulligan\"], [0.3170731707317073, 0.14285714285714285, 0.4166666666666667, \"0\", \"Martin Sinner\"], [0.43617021276595747, 0.2857142857142857, 0.14814814814814814, \"0\", \"Martin Vassallo Arguello\"], [0.5079365079365079, 0.3333333333333333, 0.38636363636363635, \"0\", \"Martin Verkerk\"], [0.5555555555555556, 0.3076923076923077, 0.4946236559139785, \"0\", \"Marton Fucsovics\"], [0.4, 0.26666666666666666, 0.45555555555555555, \"0\", \"Michael Tebbutt\"], [0.45652173913043476, 0.25, 0.45454545454545453, \"0\", \"Michael Westphal\"], [0.4696969696969697, 0.2727272727272727, 0.5416666666666666, \"0\", \"Mikael Tillstrom\"], [0.42857142857142855, 0.38461538461538464, 0.3582089552238806, \"0\", \"Mike Leach\"], [0.375, 0.15789473684210525, 0.42424242424242425, \"0\", \"Nicola Spear\"], [0.6065573770491803, 0.4, 0.2972972972972973, \"0\", \"Nicolas Jarry\"], [0.5617283950617284, 0.36666666666666664, 0.4890829694323144, \"0\", \"Nicolas Lapentti\"], [0.5765124555160143, 0.3333333333333333, 0.4540229885057471, \"0\", \"Nicolas Massu\"], [0.6065573770491803, 0.3333333333333333, 0.5862068965517241, \"0\", \"Nikolay Davydenko\"], [0.47619047619047616, 0.3684210526315789, 0.4672131147540984, \"0\", \"Nikoloz Basilashvili\"], [0.3684210526315789, 0.16666666666666666, 0.40540540540540543, \"0\", \"Nuno Marques\"], [0.5, 0.4, 0.4838709677419355, \"0\", \"Oleg Ogorodov\"], [0.461038961038961, 0.38461538461538464, 0.5263157894736842, \"0\", \"Omar Camporese\"], [0.4125874125874126, 0.1, 0.13513513513513514, \"0\", \"Oscar Hernandez\"], [0.5097087378640777, 0.11764705882352941, 0.28125, \"0\", \"Pablo Andujar\"], [0.5375, 0.2, 0.5608465608465608, \"0\", \"Pablo Carreno Busta\"], [0.6007462686567164, 0.4117647058823529, 0.40540540540540543, \"0\", \"Pablo Cuevas\"], [0.6136363636363636, 0.375, 0.35714285714285715, \"0\", \"Paolo Bertolucci\"], [0.5310734463276836, 0.25, 0.5106382978723404, \"0\", \"Paolo Cane\"], [0.4195804195804196, 0.2, 0.36, \"0\", \"Paolo Lorenzi\"], [0.4065934065934066, 0.3333333333333333, 0.5135135135135135, \"0\", \"Pascal Portes\"], [0.44776119402985076, 0.35, 0.2777777777777778, \"0\", \"Patricio Cornejo\"], [0.423728813559322, 0.2727272727272727, 0.6666666666666666, \"0\", \"Patrick Hombergen\"], [0.39622641509433965, 0.3, 0.38095238095238093, \"0\", \"Paul Capdeville\"], [0.4864864864864865, 0.4074074074074074, 0.4618181818181818, \"0\", \"Paul Henri Mathieu\"], [0.461038961038961, 0.3333333333333333, 0.35135135135135137, \"0\", \"Peter Elter\"], [0.5286885245901639, 0.08333333333333333, 0.3111111111111111, \"0\", \"Potito Starace\"], [0.6265060240963856, 0.18181818181818182, 0.42857142857142855, \"0\", \"Ramon Delgado\"], [0.49814126394052044, 0.3333333333333333, 0.44715447154471544, \"0\", \"Renzo Furlan\"], [0.27586206896551724, 0.21052631578947367, 0.5222222222222223, \"0\", \"Ricardas Berankis\"], [0.45614035087719296, 0.1111111111111111, 0.39285714285714285, \"0\", \"Ricardo Mello\"], [0.48344370860927155, 0.2, 0.1, \"0\", \"Ricardo Ycaza\"], [0.5, 0.16666666666666666, 0.375, \"0\", \"Roberto Carballes Baena\"], [0.3404255319148936, 0.25, 0.3333333333333333, \"0\", \"Robin Drysdale\"], [0.5058139534883721, 0.4, 0.44150943396226416, \"0\", \"Robin Haase\"], [0.375, 0.18181818181818182, 0.38461538461538464, \"0\", \"Rodolphe Gilbert\"], [0.5232974910394266, 0.3333333333333333, 0.37398373983739835, \"0\", \"Ronald Agenor\"], [0.3865546218487395, 0.2765957446808511, 0.32894736842105265, \"0\", \"Sashi Menon\"], [0.4581005586592179, 0.16666666666666666, 0.46808510638297873, \"0\", \"Sergio Casal\"], [0.38461538461538464, 0.3333333333333333, 0.37735849056603776, \"0\", \"Simon Greul\"], [0.5610687022900763, 0.3333333333333333, 0.42696629213483145, \"0\", \"Slava Dosedel\"], [0.2857142857142857, 0.25, 0.4818181818181818, \"0\", \"Somdev Devvarman\"], [0.5, 0.2962962962962963, 0.44545454545454544, \"0\", \"Stefan Koubek\"], [0.4036697247706422, 0.3333333333333333, 0.4608695652173913, \"0\", \"Stefano Pescosolido\"], [0.3333333333333333, 0.2, 0.3670886075949367, \"0\", \"Steve Bryan\"], [0.44554455445544555, 0.2, 0.3877551020408163, \"0\", \"Tarik Benhabiles\"], [0.3904761904761905, 0.2608695652173913, 0.36363636363636365, \"0\", \"Teymuraz Gabashvili\"], [0.49295774647887325, 0.3333333333333333, 0.1935483870967742, \"0\", \"Thiago Monteiro\"], [0.48333333333333334, 0.3888888888888889, 0.4, \"0\", \"Thiemo De Bakker\"], [0.5627009646302251, 0.2, 0.42045454545454547, \"0\", \"Thierry Tulasne\"], [0.2727272727272727, 0.18181818181818182, 0.36153846153846153, \"0\", \"Thomas Hogstedt\"], [0.5565217391304348, 0.3333333333333333, 0.40350877192982454, \"0\", \"Thomaz Bellucci\"], [0.5757575757575758, 0.3235294117647059, 0.5, \"0\", \"Thomaz Koch\"], [0.3541666666666667, 0.3, 0.5126582278481012, \"0\", \"Todd Witsken\"], [0.41379310344827586, 0.35714285714285715, 0.4318181818181818, \"0\", \"Tom Cain\"], [0.3170731707317073, 0.125, 0.3611111111111111, \"0\", \"Tom Nijssen\"], [0.5145985401459854, 0.35294117647058826, 0.3875, \"0\", \"Tomas Carbonell\"], [0.11458333333333333, 0.034482758620689655, 0.08695652173913043, \"0\", \"U Unknown\"], [0.45714285714285713, 0.16666666666666666, 0.47297297297297297, \"0\", \"Van Winitsky\"], [0.6285714285714286, 0.23529411764705882, 0.43661971830985913, \"0\", \"Victor Estrella\"], [0.5416666666666666, 0.40625, 0.3419354838709677, \"0\", \"Victor Hanescu\"], [0.2857142857142857, 0.2, 0.48739495798319327, \"0\", \"Vincent Van Patten\"], [0.48360655737704916, 0.36, 0.34615384615384615, \"0\", \"Vladimir Zednik\"]], \"hoverlabel\": {\"namelength\": 0}, \"hovertemplate\": \"label=%{customdata[3]}<br>Clay_record=%{customdata[0]}<br>Grass_record=%{customdata[1]}<br>Hard_record=%{customdata[2]}<br>player_name=%{customdata[4]}\", \"legendgroup\": \"0\", \"marker\": {\"color\": \"#00cc96\", \"symbol\": \"circle\"}, \"mode\": \"markers\", \"name\": \"0\", \"scene\": \"scene\", \"showlegend\": true, \"type\": \"scatter3d\", \"x\": [0.4666666666666667, 0.6, 0.6650485436893204, 0.5338345864661654, 0.47388059701492535, 0.5401459854014599, 0.5879396984924623, 0.5164473684210527, 0.40350877192982454, 0.5, 0.25, 0.2682926829268293, 0.5585284280936454, 0.3870967741935484, 0.43661971830985913, 0.6415094339622641, 0.5316455696202531, 0.36065573770491804, 0.44776119402985076, 0.4817073170731707, 0.3926940639269406, 0.4861878453038674, 0.47474747474747475, 0.5338983050847458, 0.40804597701149425, 0.4745762711864407, 0.5310344827586206, 0.3728813559322034, 0.43333333333333335, 0.3333333333333333, 0.5155555555555555, 0.4375, 0.43478260869565216, 0.3333333333333333, 0.47513812154696133, 0.463302752293578, 0.599388379204893, 0.30434782608695654, 0.671875, 0.41566265060240964, 0.44537815126050423, 0.489247311827957, 0.4444444444444444, 0.45962732919254656, 0.39215686274509803, 0.6175, 0.3333333333333333, 0.4620253164556962, 0.45454545454545453, 0.42391304347826086, 0.41025641025641024, 0.5483870967741935, 0.4318181818181818, 0.3, 0.5684931506849316, 0.5362903225806451, 0.5066666666666667, 0.6, 0.42857142857142855, 0.4696969696969697, 0.643312101910828, 0.423728813559322, 0.45, 0.5241379310344828, 0.3870967741935484, 0.659217877094972, 0.5513698630136986, 0.46887966804979253, 0.5050505050505051, 0.5339805825242718, 0.358974358974359, 0.46153846153846156, 0.46511627906976744, 0.5397489539748954, 0.6241379310344828, 0.4918032786885246, 0.4397163120567376, 0.5476190476190477, 0.46835443037974683, 0.660436137071651, 0.2222222222222222, 0.4069767441860465, 0.3076923076923077, 0.5581395348837209, 0.5446428571428571, 0.6175548589341693, 0.5133333333333333, 0.41295546558704455, 0.3548387096774194, 0.52, 0.6751269035532995, 0.453125, 0.5907590759075908, 0.5483870967741935, 0.45, 0.49056603773584906, 0.3181818181818182, 0.44285714285714284, 0.45263157894736844, 0.5263157894736842, 0.5375, 0.4489795918367347, 0.5405405405405406, 0.4084507042253521, 0.4537037037037037, 0.3611111111111111, 0.4375, 0.5384615384615384, 0.42105263157894735, 0.32558139534883723, 0.4968553459119497, 0.43333333333333335, 0.416, 0.44086021505376344, 0.5963855421686747, 0.6226912928759895, 0.5172413793103449, 0.4473684210526316, 0.371900826446281, 0.5313807531380753, 0.2, 0.4887640449438202, 0.46808510638297873, 0.34615384615384615, 0.42857142857142855, 0.49056603773584906, 0.375, 0.41025641025641024, 0.6338028169014085, 0.37209302325581395, 0.4861111111111111, 0.3025210084033613, 0.49390243902439024, 0.5247524752475248, 0.42592592592592593, 0.43, 0.45121951219512196, 0.3448275862068966, 0.5193370165745856, 0.509090909090909, 0.553030303030303, 0.632, 0.3170731707317073, 0.43617021276595747, 0.5079365079365079, 0.5555555555555556, 0.4, 0.45652173913043476, 0.4696969696969697, 0.42857142857142855, 0.375, 0.6065573770491803, 0.5617283950617284, 0.5765124555160143, 0.6065573770491803, 0.47619047619047616, 0.3684210526315789, 0.5, 0.461038961038961, 0.4125874125874126, 0.5097087378640777, 0.5375, 0.6007462686567164, 0.6136363636363636, 0.5310734463276836, 0.4195804195804196, 0.4065934065934066, 0.44776119402985076, 0.423728813559322, 0.39622641509433965, 0.4864864864864865, 0.461038961038961, 0.5286885245901639, 0.6265060240963856, 0.49814126394052044, 0.27586206896551724, 0.45614035087719296, 0.48344370860927155, 0.5, 0.3404255319148936, 0.5058139534883721, 0.375, 0.5232974910394266, 0.3865546218487395, 0.4581005586592179, 0.38461538461538464, 0.5610687022900763, 0.2857142857142857, 0.5, 0.4036697247706422, 0.3333333333333333, 0.44554455445544555, 0.3904761904761905, 0.49295774647887325, 0.48333333333333334, 0.5627009646302251, 0.2727272727272727, 0.5565217391304348, 0.5757575757575758, 0.3541666666666667, 0.41379310344827586, 0.3170731707317073, 0.5145985401459854, 0.11458333333333333, 0.45714285714285713, 0.6285714285714286, 0.5416666666666666, 0.2857142857142857, 0.48360655737704916], \"y\": [0.2631578947368421, 0.2857142857142857, 0.2222222222222222, 0.3157894736842105, 0.21428571428571427, 0.3333333333333333, 0.3333333333333333, 0.32, 0.14285714285714285, 0.39285714285714285, 0.2, 0.17142857142857143, 0.1, 0.2857142857142857, 0.2857142857142857, 0.2727272727272727, 0.3125, 0.09090909090909091, 0.35, 0.16666666666666666, 0.2777777777777778, 0.23529411764705882, 0.25, 0.44776119402985076, 0.2727272727272727, 0.25, 0.23529411764705882, 0.07142857142857142, 0.1875, 0.29411764705882354, 0.2631578947368421, 0.3333333333333333, 0.35714285714285715, 0.07142857142857142, 0.2222222222222222, 0.25, 0.375, 0.23529411764705882, 0.2857142857142857, 0.12, 0.2, 0.25, 0.3333333333333333, 0.2, 0.3333333333333333, 0.1111111111111111, 0.21428571428571427, 0.3888888888888889, 0.3157894736842105, 0.10526315789473684, 0.2, 0.25, 0.3181818181818182, 0.3, 0.3333333333333333, 0.24, 0.25, 0.2, 0.3333333333333333, 0.125, 0.2857142857142857, 0.3333333333333333, 0.4, 0.38461538461538464, 0.16666666666666666, 0.3333333333333333, 0.14285714285714285, 0.29411764705882354, 0.25, 0.15384615384615385, 0.125, 0.34615384615384615, 0.2, 0.14285714285714285, 0.4090909090909091, 0.38461538461538464, 0.25, 0.125, 0.14285714285714285, 0.25, 0.1875, 0.2857142857142857, 0.23529411764705882, 0.16666666666666666, 0.4444444444444444, 0.3333333333333333, 0.2857142857142857, 0.2857142857142857, 0.25, 0.35294117647058826, 0.29411764705882354, 0.15384615384615385, 0.14285714285714285, 0.3333333333333333, 0.35714285714285715, 0.14285714285714285, 0.23076923076923078, 0.2, 0.375, 0.3888888888888889, 0.2727272727272727, 0.13333333333333333, 0.3870967741935484, 0.2, 0.34146341463414637, 0.2222222222222222, 0.4, 0.43478260869565216, 0.125, 0.2, 0.4117647058823529, 0.36363636363636365, 0.3333333333333333, 0.3333333333333333, 0.26666666666666666, 0.3888888888888889, 0.1111111111111111, 0.38235294117647056, 0.25, 0.3333333333333333, 0.2222222222222222, 0.2222222222222222, 0.3333333333333333, 0.25, 0.37037037037037035, 0.3870967741935484, 0.2608695652173913, 0.2222222222222222, 0.2, 0.2, 0.15384615384615385, 0.2, 0.14285714285714285, 0.4, 0.2962962962962963, 0.2727272727272727, 0.25, 0.25, 0.25, 0.14285714285714285, 0.23529411764705882, 0.25, 0.14285714285714285, 0.2857142857142857, 0.3333333333333333, 0.3076923076923077, 0.26666666666666666, 0.25, 0.2727272727272727, 0.38461538461538464, 0.15789473684210525, 0.4, 0.36666666666666664, 0.3333333333333333, 0.3333333333333333, 0.3684210526315789, 0.16666666666666666, 0.4, 0.38461538461538464, 0.1, 0.11764705882352941, 0.2, 0.4117647058823529, 0.375, 0.25, 0.2, 0.3333333333333333, 0.35, 0.2727272727272727, 0.3, 0.4074074074074074, 0.3333333333333333, 0.08333333333333333, 0.18181818181818182, 0.3333333333333333, 0.21052631578947367, 0.1111111111111111, 0.2, 0.16666666666666666, 0.25, 0.4, 0.18181818181818182, 0.3333333333333333, 0.2765957446808511, 0.16666666666666666, 0.3333333333333333, 0.3333333333333333, 0.25, 0.2962962962962963, 0.3333333333333333, 0.2, 0.2, 0.2608695652173913, 0.3333333333333333, 0.3888888888888889, 0.2, 0.18181818181818182, 0.3333333333333333, 0.3235294117647059, 0.3, 0.35714285714285715, 0.125, 0.35294117647058826, 0.034482758620689655, 0.16666666666666666, 0.23529411764705882, 0.40625, 0.2, 0.36], \"z\": [0.43636363636363634, 0.4489795918367347, 0.49523809523809526, 0.3064516129032258, 0.22448979591836735, 0.3764705882352941, 0.4444444444444444, 0.3464052287581699, 0.4074074074074074, 0.4628099173553719, 0.42105263157894735, 0.30303030303030304, 0.375, 0.3541666666666667, 0.48484848484848486, 0.5682819383259912, 0.3904761904761905, 0.3853211009174312, 0.4666666666666667, 0.35294117647058826, 0.19047619047619047, 0.2857142857142857, 0.32727272727272727, 0.34375, 0.25, 0.43478260869565216, 0.4444444444444444, 0.4, 0.36363636363636365, 0.26666666666666666, 0.4817073170731707, 0.45614035087719296, 0.4794520547945205, 0.375, 0.5241935483870968, 0.32558139534883723, 0.4536082474226804, 0.3770491803278688, 0.375, 0.3228346456692913, 0.453125, 0.3953488372093023, 0.3888888888888889, 0.10526315789473684, 0.4810126582278481, 0.5942028985507246, 0.40707964601769914, 0.3125, 0.46808510638297873, 0.2537313432835821, 0.30434782608695654, 0.5833333333333334, 0.38461538461538464, 0.14285714285714285, 0.5333333333333333, 0.5427728613569321, 0.4090909090909091, 0.5454545454545454, 0.39285714285714285, 0.25806451612903225, 0.5833333333333334, 0.4166666666666667, 0.33962264150943394, 0.5071428571428571, 0.5, 0.49635036496350365, 0.3486238532110092, 0.3786407766990291, 0.36764705882352944, 0.1323529411764706, 0.38181818181818183, 0.4166666666666667, 0.38461538461538464, 0.36231884057971014, 0.3076923076923077, 0.45, 0.2857142857142857, 0.3877551020408163, 0.20408163265306123, 0.42105263157894735, 0.4065934065934066, 0.4444444444444444, 0.36538461538461536, 0.4642857142857143, 0.4174757281553398, 0.2, 0.5777777777777777, 0.4666666666666667, 0.40625, 0.5, 0.34375, 0.37349397590361444, 0.34328358208955223, 0.5309734513274337, 0.3018867924528302, 0.26666666666666666, 0.4090909090909091, 0.3333333333333333, 0.48255813953488375, 0.4625, 0.45454545454545453, 0.3333333333333333, 0.375, 0.3559322033898305, 0.46645367412140576, 0.4666666666666667, 0.2571428571428571, 0.4107142857142857, 0.3, 0.40625, 0.45045045045045046, 0.4878048780487805, 0.38095238095238093, 0.20689655172413793, 0.5, 0.463768115942029, 0.3559322033898305, 0.37142857142857144, 0.3939393939393939, 0.375, 0.34615384615384615, 0.4318181818181818, 0.3076923076923077, 0.40476190476190477, 0.4222222222222222, 0.5333333333333333, 0.4473684210526316, 0.4027777777777778, 0.21212121212121213, 0.3170731707317073, 0.4090909090909091, 0.2, 0.554140127388535, 0.39375, 0.43243243243243246, 0.358974358974359, 0.23255813953488372, 0.23529411764705882, 0.3090909090909091, 0.3076923076923077, 0.44666666666666666, 0.3684210526315789, 0.4166666666666667, 0.14814814814814814, 0.38636363636363635, 0.4946236559139785, 0.45555555555555555, 0.45454545454545453, 0.5416666666666666, 0.3582089552238806, 0.42424242424242425, 0.2972972972972973, 0.4890829694323144, 0.4540229885057471, 0.5862068965517241, 0.4672131147540984, 0.40540540540540543, 0.4838709677419355, 0.5263157894736842, 0.13513513513513514, 0.28125, 0.5608465608465608, 0.40540540540540543, 0.35714285714285715, 0.5106382978723404, 0.36, 0.5135135135135135, 0.2777777777777778, 0.6666666666666666, 0.38095238095238093, 0.4618181818181818, 0.35135135135135137, 0.3111111111111111, 0.42857142857142855, 0.44715447154471544, 0.5222222222222223, 0.39285714285714285, 0.1, 0.375, 0.3333333333333333, 0.44150943396226416, 0.38461538461538464, 0.37398373983739835, 0.32894736842105265, 0.46808510638297873, 0.37735849056603776, 0.42696629213483145, 0.4818181818181818, 0.44545454545454544, 0.4608695652173913, 0.3670886075949367, 0.3877551020408163, 0.36363636363636365, 0.1935483870967742, 0.4, 0.42045454545454547, 0.36153846153846153, 0.40350877192982454, 0.5, 0.5126582278481012, 0.4318181818181818, 0.3611111111111111, 0.3875, 0.08695652173913043, 0.47297297297297297, 0.43661971830985913, 0.3419354838709677, 0.48739495798319327, 0.34615384615384615]}],\n",
       "                        {\"legend\": {\"title\": {\"text\": \"label\"}, \"tracegroupgap\": 0}, \"margin\": {\"t\": 60}, \"scene\": {\"domain\": {\"x\": [0.0, 1.0], \"y\": [0.0, 1.0]}, \"xaxis\": {\"title\": {\"text\": \"Clay_record\"}}, \"yaxis\": {\"title\": {\"text\": \"Grass_record\"}}, \"zaxis\": {\"title\": {\"text\": \"Hard_record\"}}}, \"template\": {\"data\": {\"bar\": [{\"error_x\": {\"color\": \"#2a3f5f\"}, \"error_y\": {\"color\": \"#2a3f5f\"}, \"marker\": {\"line\": {\"color\": \"#E5ECF6\", \"width\": 0.5}}, \"type\": \"bar\"}], \"barpolar\": [{\"marker\": {\"line\": {\"color\": \"#E5ECF6\", \"width\": 0.5}}, \"type\": \"barpolar\"}], \"carpet\": [{\"aaxis\": {\"endlinecolor\": \"#2a3f5f\", \"gridcolor\": \"white\", \"linecolor\": \"white\", \"minorgridcolor\": \"white\", \"startlinecolor\": \"#2a3f5f\"}, \"baxis\": {\"endlinecolor\": \"#2a3f5f\", \"gridcolor\": \"white\", \"linecolor\": \"white\", \"minorgridcolor\": \"white\", \"startlinecolor\": \"#2a3f5f\"}, \"type\": \"carpet\"}], \"choropleth\": [{\"colorbar\": {\"outlinewidth\": 0, \"ticks\": \"\"}, \"type\": \"choropleth\"}], \"contour\": [{\"colorbar\": {\"outlinewidth\": 0, \"ticks\": \"\"}, \"colorscale\": [[0.0, \"#0d0887\"], [0.1111111111111111, \"#46039f\"], [0.2222222222222222, \"#7201a8\"], [0.3333333333333333, \"#9c179e\"], [0.4444444444444444, \"#bd3786\"], [0.5555555555555556, \"#d8576b\"], [0.6666666666666666, \"#ed7953\"], [0.7777777777777778, \"#fb9f3a\"], [0.8888888888888888, \"#fdca26\"], [1.0, \"#f0f921\"]], \"type\": \"contour\"}], \"contourcarpet\": [{\"colorbar\": {\"outlinewidth\": 0, \"ticks\": \"\"}, \"type\": \"contourcarpet\"}], \"heatmap\": [{\"colorbar\": {\"outlinewidth\": 0, \"ticks\": \"\"}, \"colorscale\": [[0.0, \"#0d0887\"], [0.1111111111111111, \"#46039f\"], [0.2222222222222222, \"#7201a8\"], [0.3333333333333333, \"#9c179e\"], [0.4444444444444444, \"#bd3786\"], [0.5555555555555556, \"#d8576b\"], [0.6666666666666666, \"#ed7953\"], [0.7777777777777778, \"#fb9f3a\"], [0.8888888888888888, \"#fdca26\"], [1.0, \"#f0f921\"]], \"type\": \"heatmap\"}], \"heatmapgl\": [{\"colorbar\": {\"outlinewidth\": 0, \"ticks\": \"\"}, \"colorscale\": [[0.0, \"#0d0887\"], [0.1111111111111111, \"#46039f\"], [0.2222222222222222, \"#7201a8\"], [0.3333333333333333, \"#9c179e\"], [0.4444444444444444, \"#bd3786\"], [0.5555555555555556, \"#d8576b\"], [0.6666666666666666, \"#ed7953\"], [0.7777777777777778, \"#fb9f3a\"], [0.8888888888888888, \"#fdca26\"], [1.0, \"#f0f921\"]], \"type\": \"heatmapgl\"}], \"histogram\": [{\"marker\": {\"colorbar\": {\"outlinewidth\": 0, \"ticks\": \"\"}}, \"type\": \"histogram\"}], \"histogram2d\": [{\"colorbar\": {\"outlinewidth\": 0, \"ticks\": \"\"}, \"colorscale\": [[0.0, \"#0d0887\"], [0.1111111111111111, \"#46039f\"], [0.2222222222222222, \"#7201a8\"], [0.3333333333333333, \"#9c179e\"], [0.4444444444444444, \"#bd3786\"], [0.5555555555555556, \"#d8576b\"], [0.6666666666666666, \"#ed7953\"], [0.7777777777777778, \"#fb9f3a\"], [0.8888888888888888, \"#fdca26\"], [1.0, \"#f0f921\"]], \"type\": \"histogram2d\"}], \"histogram2dcontour\": [{\"colorbar\": {\"outlinewidth\": 0, \"ticks\": \"\"}, \"colorscale\": [[0.0, \"#0d0887\"], [0.1111111111111111, \"#46039f\"], [0.2222222222222222, \"#7201a8\"], [0.3333333333333333, \"#9c179e\"], [0.4444444444444444, \"#bd3786\"], [0.5555555555555556, \"#d8576b\"], [0.6666666666666666, \"#ed7953\"], [0.7777777777777778, \"#fb9f3a\"], [0.8888888888888888, \"#fdca26\"], [1.0, \"#f0f921\"]], \"type\": \"histogram2dcontour\"}], \"mesh3d\": [{\"colorbar\": {\"outlinewidth\": 0, \"ticks\": \"\"}, \"type\": \"mesh3d\"}], \"parcoords\": [{\"line\": {\"colorbar\": {\"outlinewidth\": 0, \"ticks\": \"\"}}, \"type\": \"parcoords\"}], \"pie\": [{\"automargin\": true, \"type\": \"pie\"}], \"scatter\": [{\"marker\": {\"colorbar\": {\"outlinewidth\": 0, \"ticks\": \"\"}}, \"type\": \"scatter\"}], \"scatter3d\": [{\"line\": {\"colorbar\": {\"outlinewidth\": 0, \"ticks\": \"\"}}, \"marker\": {\"colorbar\": {\"outlinewidth\": 0, \"ticks\": \"\"}}, \"type\": \"scatter3d\"}], \"scattercarpet\": [{\"marker\": {\"colorbar\": {\"outlinewidth\": 0, \"ticks\": \"\"}}, \"type\": \"scattercarpet\"}], \"scattergeo\": [{\"marker\": {\"colorbar\": {\"outlinewidth\": 0, \"ticks\": \"\"}}, \"type\": \"scattergeo\"}], \"scattergl\": [{\"marker\": {\"colorbar\": {\"outlinewidth\": 0, \"ticks\": \"\"}}, \"type\": \"scattergl\"}], \"scattermapbox\": [{\"marker\": {\"colorbar\": {\"outlinewidth\": 0, \"ticks\": \"\"}}, \"type\": \"scattermapbox\"}], \"scatterpolar\": [{\"marker\": {\"colorbar\": {\"outlinewidth\": 0, \"ticks\": \"\"}}, \"type\": \"scatterpolar\"}], \"scatterpolargl\": [{\"marker\": {\"colorbar\": {\"outlinewidth\": 0, \"ticks\": \"\"}}, \"type\": \"scatterpolargl\"}], \"scatterternary\": [{\"marker\": {\"colorbar\": {\"outlinewidth\": 0, \"ticks\": \"\"}}, \"type\": \"scatterternary\"}], \"surface\": [{\"colorbar\": {\"outlinewidth\": 0, \"ticks\": \"\"}, \"colorscale\": [[0.0, \"#0d0887\"], [0.1111111111111111, \"#46039f\"], [0.2222222222222222, \"#7201a8\"], [0.3333333333333333, \"#9c179e\"], [0.4444444444444444, \"#bd3786\"], [0.5555555555555556, \"#d8576b\"], [0.6666666666666666, \"#ed7953\"], [0.7777777777777778, \"#fb9f3a\"], [0.8888888888888888, \"#fdca26\"], [1.0, \"#f0f921\"]], \"type\": \"surface\"}], \"table\": [{\"cells\": {\"fill\": {\"color\": \"#EBF0F8\"}, \"line\": {\"color\": \"white\"}}, \"header\": {\"fill\": {\"color\": \"#C8D4E3\"}, \"line\": {\"color\": \"white\"}}, \"type\": \"table\"}]}, \"layout\": {\"annotationdefaults\": {\"arrowcolor\": \"#2a3f5f\", \"arrowhead\": 0, \"arrowwidth\": 1}, \"coloraxis\": {\"colorbar\": {\"outlinewidth\": 0, \"ticks\": \"\"}}, \"colorscale\": {\"diverging\": [[0, \"#8e0152\"], [0.1, \"#c51b7d\"], [0.2, \"#de77ae\"], [0.3, \"#f1b6da\"], [0.4, \"#fde0ef\"], [0.5, \"#f7f7f7\"], [0.6, \"#e6f5d0\"], [0.7, \"#b8e186\"], [0.8, \"#7fbc41\"], [0.9, \"#4d9221\"], [1, \"#276419\"]], \"sequential\": [[0.0, \"#0d0887\"], [0.1111111111111111, \"#46039f\"], [0.2222222222222222, \"#7201a8\"], [0.3333333333333333, \"#9c179e\"], [0.4444444444444444, \"#bd3786\"], [0.5555555555555556, \"#d8576b\"], [0.6666666666666666, \"#ed7953\"], [0.7777777777777778, \"#fb9f3a\"], [0.8888888888888888, \"#fdca26\"], [1.0, \"#f0f921\"]], \"sequentialminus\": [[0.0, \"#0d0887\"], [0.1111111111111111, \"#46039f\"], [0.2222222222222222, \"#7201a8\"], [0.3333333333333333, \"#9c179e\"], [0.4444444444444444, \"#bd3786\"], [0.5555555555555556, \"#d8576b\"], [0.6666666666666666, \"#ed7953\"], [0.7777777777777778, \"#fb9f3a\"], [0.8888888888888888, \"#fdca26\"], [1.0, \"#f0f921\"]]}, \"colorway\": [\"#636efa\", \"#EF553B\", \"#00cc96\", \"#ab63fa\", \"#FFA15A\", \"#19d3f3\", \"#FF6692\", \"#B6E880\", \"#FF97FF\", \"#FECB52\"], \"font\": {\"color\": \"#2a3f5f\"}, \"geo\": {\"bgcolor\": \"white\", \"lakecolor\": \"white\", \"landcolor\": \"#E5ECF6\", \"showlakes\": true, \"showland\": true, \"subunitcolor\": \"white\"}, \"hoverlabel\": {\"align\": \"left\"}, \"hovermode\": \"closest\", \"mapbox\": {\"style\": \"light\"}, \"paper_bgcolor\": \"white\", \"plot_bgcolor\": \"#E5ECF6\", \"polar\": {\"angularaxis\": {\"gridcolor\": \"white\", \"linecolor\": \"white\", \"ticks\": \"\"}, \"bgcolor\": \"#E5ECF6\", \"radialaxis\": {\"gridcolor\": \"white\", \"linecolor\": \"white\", \"ticks\": \"\"}}, \"scene\": {\"xaxis\": {\"backgroundcolor\": \"#E5ECF6\", \"gridcolor\": \"white\", \"gridwidth\": 2, \"linecolor\": \"white\", \"showbackground\": true, \"ticks\": \"\", \"zerolinecolor\": \"white\"}, \"yaxis\": {\"backgroundcolor\": \"#E5ECF6\", \"gridcolor\": \"white\", \"gridwidth\": 2, \"linecolor\": \"white\", \"showbackground\": true, \"ticks\": \"\", \"zerolinecolor\": \"white\"}, \"zaxis\": {\"backgroundcolor\": \"#E5ECF6\", \"gridcolor\": \"white\", \"gridwidth\": 2, \"linecolor\": \"white\", \"showbackground\": true, \"ticks\": \"\", \"zerolinecolor\": \"white\"}}, \"shapedefaults\": {\"line\": {\"color\": \"#2a3f5f\"}}, \"ternary\": {\"aaxis\": {\"gridcolor\": \"white\", \"linecolor\": \"white\", \"ticks\": \"\"}, \"baxis\": {\"gridcolor\": \"white\", \"linecolor\": \"white\", \"ticks\": \"\"}, \"bgcolor\": \"#E5ECF6\", \"caxis\": {\"gridcolor\": \"white\", \"linecolor\": \"white\", \"ticks\": \"\"}}, \"title\": {\"x\": 0.05}, \"xaxis\": {\"automargin\": true, \"gridcolor\": \"white\", \"linecolor\": \"white\", \"ticks\": \"\", \"title\": {\"standoff\": 15}, \"zerolinecolor\": \"white\", \"zerolinewidth\": 2}, \"yaxis\": {\"automargin\": true, \"gridcolor\": \"white\", \"linecolor\": \"white\", \"ticks\": \"\", \"title\": {\"standoff\": 15}, \"zerolinecolor\": \"white\", \"zerolinewidth\": 2}}}},\n",
       "                        {\"responsive\": true}\n",
       "                    ).then(function(){\n",
       "                            \n",
       "var gd = document.getElementById('7f6f3057-a1ff-4046-a128-f7c989d9ba89');\n",
       "var x = new MutationObserver(function (mutations, observer) {{\n",
       "        var display = window.getComputedStyle(gd).display;\n",
       "        if (!display || display === 'none') {{\n",
       "            console.log([gd, 'removed!']);\n",
       "            Plotly.purge(gd);\n",
       "            observer.disconnect();\n",
       "        }}\n",
       "}});\n",
       "\n",
       "// Listen for the removal of the full notebook cells\n",
       "var notebookContainer = gd.closest('#notebook-container');\n",
       "if (notebookContainer) {{\n",
       "    x.observe(notebookContainer, {childList: true});\n",
       "}}\n",
       "\n",
       "// Listen for the clearing of the current output cell\n",
       "var outputEl = gd.closest('.output');\n",
       "if (outputEl) {{\n",
       "    x.observe(outputEl, {childList: true});\n",
       "}}\n",
       "\n",
       "                        })\n",
       "                };\n",
       "                });\n",
       "            </script>\n",
       "        </div>"
      ]
     },
     "metadata": {},
     "output_type": "display_data"
    }
   ],
   "source": [
    "fig = px.scatter_3d(kmeans_df, x='Clay_record', y='Grass_record', z='Hard_record',\n",
    "              color='label',hover_data=kmeans_df.columns.values)\n",
    "fig.show()"
   ]
  },
  {
   "cell_type": "markdown",
   "metadata": {},
   "source": [
    "In the above plot, we can clearly see the positive correlation between hard court records and grass or clay court records, the correlation with grass court records is most dominant. The correlation of grass court records and clay court records is not significant. For quatitative analysis of this relationship, lets plot a correlation heatmap- "
   ]
  },
  {
   "cell_type": "code",
   "execution_count": 73,
   "metadata": {},
   "outputs": [
    {
     "data": {
      "image/png": "[encoded data removed]",
      "text/plain": [
       "<Figure size 432x288 with 2 Axes>"
      ]
     },
     "metadata": {},
     "output_type": "display_data"
    }
   ],
   "source": [
    "sns.heatmap(kmeans_df[['Clay_record','Grass_record','Hard_record']].corr(),annot=True);"
   ]
  },
  {
   "cell_type": "markdown",
   "metadata": {},
   "source": [
    "In above heat-map, we can clearly see that the relationship of hart court records and grass court records is significant."
   ]
  }
 ],
 "metadata": {
  "kernelspec": {
   "display_name": "Python 3",
   "language": "python",
   "name": "python3"
  },
  "language_info": {
   "codemirror_mode": {
    "name": "ipython",
    "version": 3
   },
   "file_extension": ".py",
   "mimetype": "text/x-python",
   "name": "python",
   "nbconvert_exporter": "python",
   "pygments_lexer": "ipython3",
   "version": "3.7.3"
  }
 },
 "nbformat": 4,
 "nbformat_minor": 2
}
