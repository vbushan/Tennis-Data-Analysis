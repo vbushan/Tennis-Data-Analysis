{
 "cells": [
  {
   "cell_type": "code",
   "execution_count": 1,
   "metadata": {},
   "outputs": [],
   "source": [
    "import pandas as pd"
   ]
  },
  {
   "cell_type": "code",
   "execution_count": 2,
   "metadata": {},
   "outputs": [],
   "source": [
    "year_range=range(1968,2021,1)"
   ]
  },
  {
   "cell_type": "code",
   "execution_count": 3,
   "metadata": {},
   "outputs": [
    {
     "name": "stdout",
     "output_type": "stream",
     "text": [
      "All columns same\n"
     ]
    }
   ],
   "source": [
    "prev=None\n",
    "for year in year_range:\n",
    "    df=pd.read_csv(f'atp_matches_{year}.csv')\n",
    "    if prev and prev!=set(df.columns):\n",
    "        print(year)\n",
    "        break\n",
    "    \n",
    "    prev=set(df.columns)\n",
    "\n",
    "print('All columns same')"
   ]
  },
  {
   "cell_type": "code",
   "execution_count": 4,
   "metadata": {},
   "outputs": [],
   "source": [
    "match_dfs=[ pd.read_csv(f'atp_matches_{year}.csv') for year in year_range ]"
   ]
  },
  {
   "cell_type": "code",
   "execution_count": 5,
   "metadata": {},
   "outputs": [],
   "source": [
    "master_match_df=pd.concat(match_dfs)"
   ]
  },
  {
   "cell_type": "code",
   "execution_count": 6,
   "metadata": {},
   "outputs": [
    {
     "data": {
      "text/plain": [
       "(177642, 49)"
      ]
     },
     "execution_count": 6,
     "metadata": {},
     "output_type": "execute_result"
    }
   ],
   "source": [
    "master_match_df.shape"
   ]
  },
  {
   "cell_type": "code",
   "execution_count": 7,
   "metadata": {},
   "outputs": [
    {
     "data": {
      "text/html": [
       "<div>\n",
       "<style scoped>\n",
       "    .dataframe tbody tr th:only-of-type {\n",
       "        vertical-align: middle;\n",
       "    }\n",
       "\n",
       "    .dataframe tbody tr th {\n",
       "        vertical-align: top;\n",
       "    }\n",
       "\n",
       "    .dataframe thead th {\n",
       "        text-align: right;\n",
       "    }\n",
       "</style>\n",
       "<table border=\"1\" class=\"dataframe\">\n",
       "  <thead>\n",
       "    <tr style=\"text-align: right;\">\n",
       "      <th></th>\n",
       "      <th>tourney_id</th>\n",
       "      <th>tourney_name</th>\n",
       "      <th>surface</th>\n",
       "      <th>draw_size</th>\n",
       "      <th>tourney_level</th>\n",
       "      <th>tourney_date</th>\n",
       "      <th>match_num</th>\n",
       "      <th>winner_id</th>\n",
       "      <th>winner_seed</th>\n",
       "      <th>winner_entry</th>\n",
       "      <th>...</th>\n",
       "      <th>l_1stIn</th>\n",
       "      <th>l_1stWon</th>\n",
       "      <th>l_2ndWon</th>\n",
       "      <th>l_SvGms</th>\n",
       "      <th>l_bpSaved</th>\n",
       "      <th>l_bpFaced</th>\n",
       "      <th>winner_rank</th>\n",
       "      <th>winner_rank_points</th>\n",
       "      <th>loser_rank</th>\n",
       "      <th>loser_rank_points</th>\n",
       "    </tr>\n",
       "  </thead>\n",
       "  <tbody>\n",
       "    <tr>\n",
       "      <th>0</th>\n",
       "      <td>1968-2029</td>\n",
       "      <td>Dublin</td>\n",
       "      <td>Grass</td>\n",
       "      <td>32</td>\n",
       "      <td>A</td>\n",
       "      <td>19680708</td>\n",
       "      <td>270</td>\n",
       "      <td>202866</td>\n",
       "      <td>NaN</td>\n",
       "      <td>NaN</td>\n",
       "      <td>...</td>\n",
       "      <td>NaN</td>\n",
       "      <td>NaN</td>\n",
       "      <td>NaN</td>\n",
       "      <td>NaN</td>\n",
       "      <td>NaN</td>\n",
       "      <td>NaN</td>\n",
       "      <td>NaN</td>\n",
       "      <td>NaN</td>\n",
       "      <td>NaN</td>\n",
       "      <td>NaN</td>\n",
       "    </tr>\n",
       "    <tr>\n",
       "      <th>1</th>\n",
       "      <td>1968-2029</td>\n",
       "      <td>Dublin</td>\n",
       "      <td>Grass</td>\n",
       "      <td>32</td>\n",
       "      <td>A</td>\n",
       "      <td>19680708</td>\n",
       "      <td>271</td>\n",
       "      <td>126914</td>\n",
       "      <td>NaN</td>\n",
       "      <td>NaN</td>\n",
       "      <td>...</td>\n",
       "      <td>NaN</td>\n",
       "      <td>NaN</td>\n",
       "      <td>NaN</td>\n",
       "      <td>NaN</td>\n",
       "      <td>NaN</td>\n",
       "      <td>NaN</td>\n",
       "      <td>NaN</td>\n",
       "      <td>NaN</td>\n",
       "      <td>NaN</td>\n",
       "      <td>NaN</td>\n",
       "    </tr>\n",
       "    <tr>\n",
       "      <th>2</th>\n",
       "      <td>1968-2029</td>\n",
       "      <td>Dublin</td>\n",
       "      <td>Grass</td>\n",
       "      <td>32</td>\n",
       "      <td>A</td>\n",
       "      <td>19680708</td>\n",
       "      <td>272</td>\n",
       "      <td>209523</td>\n",
       "      <td>NaN</td>\n",
       "      <td>NaN</td>\n",
       "      <td>...</td>\n",
       "      <td>NaN</td>\n",
       "      <td>NaN</td>\n",
       "      <td>NaN</td>\n",
       "      <td>NaN</td>\n",
       "      <td>NaN</td>\n",
       "      <td>NaN</td>\n",
       "      <td>NaN</td>\n",
       "      <td>NaN</td>\n",
       "      <td>NaN</td>\n",
       "      <td>NaN</td>\n",
       "    </tr>\n",
       "    <tr>\n",
       "      <th>3</th>\n",
       "      <td>1968-2029</td>\n",
       "      <td>Dublin</td>\n",
       "      <td>Grass</td>\n",
       "      <td>32</td>\n",
       "      <td>A</td>\n",
       "      <td>19680708</td>\n",
       "      <td>273</td>\n",
       "      <td>100084</td>\n",
       "      <td>NaN</td>\n",
       "      <td>NaN</td>\n",
       "      <td>...</td>\n",
       "      <td>NaN</td>\n",
       "      <td>NaN</td>\n",
       "      <td>NaN</td>\n",
       "      <td>NaN</td>\n",
       "      <td>NaN</td>\n",
       "      <td>NaN</td>\n",
       "      <td>NaN</td>\n",
       "      <td>NaN</td>\n",
       "      <td>NaN</td>\n",
       "      <td>NaN</td>\n",
       "    </tr>\n",
       "    <tr>\n",
       "      <th>4</th>\n",
       "      <td>1968-2029</td>\n",
       "      <td>Dublin</td>\n",
       "      <td>Grass</td>\n",
       "      <td>32</td>\n",
       "      <td>A</td>\n",
       "      <td>19680708</td>\n",
       "      <td>274</td>\n",
       "      <td>100132</td>\n",
       "      <td>NaN</td>\n",
       "      <td>NaN</td>\n",
       "      <td>...</td>\n",
       "      <td>NaN</td>\n",
       "      <td>NaN</td>\n",
       "      <td>NaN</td>\n",
       "      <td>NaN</td>\n",
       "      <td>NaN</td>\n",
       "      <td>NaN</td>\n",
       "      <td>NaN</td>\n",
       "      <td>NaN</td>\n",
       "      <td>NaN</td>\n",
       "      <td>NaN</td>\n",
       "    </tr>\n",
       "  </tbody>\n",
       "</table>\n",
       "<p>5 rows × 49 columns</p>\n",
       "</div>"
      ],
      "text/plain": [
       "  tourney_id tourney_name surface  draw_size tourney_level  tourney_date  \\\n",
       "0  1968-2029       Dublin   Grass         32             A      19680708   \n",
       "1  1968-2029       Dublin   Grass         32             A      19680708   \n",
       "2  1968-2029       Dublin   Grass         32             A      19680708   \n",
       "3  1968-2029       Dublin   Grass         32             A      19680708   \n",
       "4  1968-2029       Dublin   Grass         32             A      19680708   \n",
       "\n",
       "   match_num  winner_id winner_seed winner_entry  ... l_1stIn l_1stWon  \\\n",
       "0        270     202866         NaN          NaN  ...     NaN      NaN   \n",
       "1        271     126914         NaN          NaN  ...     NaN      NaN   \n",
       "2        272     209523         NaN          NaN  ...     NaN      NaN   \n",
       "3        273     100084         NaN          NaN  ...     NaN      NaN   \n",
       "4        274     100132         NaN          NaN  ...     NaN      NaN   \n",
       "\n",
       "   l_2ndWon l_SvGms  l_bpSaved  l_bpFaced winner_rank winner_rank_points  \\\n",
       "0       NaN     NaN        NaN        NaN         NaN                NaN   \n",
       "1       NaN     NaN        NaN        NaN         NaN                NaN   \n",
       "2       NaN     NaN        NaN        NaN         NaN                NaN   \n",
       "3       NaN     NaN        NaN        NaN         NaN                NaN   \n",
       "4       NaN     NaN        NaN        NaN         NaN                NaN   \n",
       "\n",
       "  loser_rank loser_rank_points  \n",
       "0        NaN               NaN  \n",
       "1        NaN               NaN  \n",
       "2        NaN               NaN  \n",
       "3        NaN               NaN  \n",
       "4        NaN               NaN  \n",
       "\n",
       "[5 rows x 49 columns]"
      ]
     },
     "execution_count": 7,
     "metadata": {},
     "output_type": "execute_result"
    }
   ],
   "source": [
    "master_match_df.head()"
   ]
  },
  {
   "cell_type": "code",
   "execution_count": 8,
   "metadata": {},
   "outputs": [
    {
     "data": {
      "text/plain": [
       "tourney_id             object\n",
       "tourney_name           object\n",
       "surface                object\n",
       "draw_size               int64\n",
       "tourney_level          object\n",
       "tourney_date            int64\n",
       "match_num               int64\n",
       "winner_id               int64\n",
       "winner_seed            object\n",
       "winner_entry           object\n",
       "winner_name            object\n",
       "winner_hand            object\n",
       "winner_ht             float64\n",
       "winner_ioc             object\n",
       "winner_age            float64\n",
       "loser_id                int64\n",
       "loser_seed             object\n",
       "loser_entry            object\n",
       "loser_name             object\n",
       "loser_hand             object\n",
       "loser_ht              float64\n",
       "loser_ioc              object\n",
       "loser_age             float64\n",
       "score                  object\n",
       "best_of                 int64\n",
       "round                  object\n",
       "minutes               float64\n",
       "w_ace                 float64\n",
       "w_df                  float64\n",
       "w_svpt                float64\n",
       "w_1stIn               float64\n",
       "w_1stWon              float64\n",
       "w_2ndWon              float64\n",
       "w_SvGms               float64\n",
       "w_bpSaved             float64\n",
       "w_bpFaced             float64\n",
       "l_ace                 float64\n",
       "l_df                  float64\n",
       "l_svpt                float64\n",
       "l_1stIn               float64\n",
       "l_1stWon              float64\n",
       "l_2ndWon              float64\n",
       "l_SvGms               float64\n",
       "l_bpSaved             float64\n",
       "l_bpFaced             float64\n",
       "winner_rank           float64\n",
       "winner_rank_points    float64\n",
       "loser_rank            float64\n",
       "loser_rank_points     float64\n",
       "dtype: object"
      ]
     },
     "execution_count": 8,
     "metadata": {},
     "output_type": "execute_result"
    }
   ],
   "source": [
    "master_match_df.dtypes"
   ]
  },
  {
   "cell_type": "code",
   "execution_count": 9,
   "metadata": {},
   "outputs": [],
   "source": [
    "master_match_df['tourney_date']=pd.to_datetime(master_match_df.tourney_date,format='%Y%m%d')"
   ]
  },
  {
   "cell_type": "code",
   "execution_count": 10,
   "metadata": {},
   "outputs": [],
   "source": [
    "master_match_df['Total_Aces']=master_match_df['w_ace']+master_match_df['l_ace']"
   ]
  },
  {
   "cell_type": "code",
   "execution_count": 11,
   "metadata": {},
   "outputs": [],
   "source": [
    "master_match_df['Match_Count']=[1]*len(master_match_df)"
   ]
  },
  {
   "cell_type": "code",
   "execution_count": 12,
   "metadata": {},
   "outputs": [],
   "source": [
    "master_surface_mactes=master_match_df.groupby(['surface','tourney_level','tourney_name'],\n",
    "                                              as_index=False)['Total_Aces','Match_Count'].sum()"
   ]
  },
  {
   "cell_type": "code",
   "execution_count": 13,
   "metadata": {},
   "outputs": [],
   "source": [
    "plot_df=master_surface_mactes[master_surface_mactes['tourney_level']=='G']"
   ]
  },
  {
   "cell_type": "code",
   "execution_count": 14,
   "metadata": {},
   "outputs": [
    {
     "data": {
      "text/html": [
       "<div>\n",
       "<style scoped>\n",
       "    .dataframe tbody tr th:only-of-type {\n",
       "        vertical-align: middle;\n",
       "    }\n",
       "\n",
       "    .dataframe tbody tr th {\n",
       "        vertical-align: top;\n",
       "    }\n",
       "\n",
       "    .dataframe thead th {\n",
       "        text-align: right;\n",
       "    }\n",
       "</style>\n",
       "<table border=\"1\" class=\"dataframe\">\n",
       "  <thead>\n",
       "    <tr style=\"text-align: right;\">\n",
       "      <th></th>\n",
       "      <th>surface</th>\n",
       "      <th>tourney_level</th>\n",
       "      <th>tourney_name</th>\n",
       "      <th>Total_Aces</th>\n",
       "      <th>Match_Count</th>\n",
       "    </tr>\n",
       "  </thead>\n",
       "  <tbody>\n",
       "    <tr>\n",
       "      <th>2112</th>\n",
       "      <td>Clay</td>\n",
       "      <td>G</td>\n",
       "      <td>Roland Garros</td>\n",
       "      <td>42776.0</td>\n",
       "      <td>6683</td>\n",
       "    </tr>\n",
       "    <tr>\n",
       "      <th>2113</th>\n",
       "      <td>Clay</td>\n",
       "      <td>G</td>\n",
       "      <td>US Open</td>\n",
       "      <td>0.0</td>\n",
       "      <td>381</td>\n",
       "    </tr>\n",
       "    <tr>\n",
       "      <th>2305</th>\n",
       "      <td>Grass</td>\n",
       "      <td>G</td>\n",
       "      <td>Australian Chps.</td>\n",
       "      <td>0.0</td>\n",
       "      <td>61</td>\n",
       "    </tr>\n",
       "    <tr>\n",
       "      <th>2306</th>\n",
       "      <td>Grass</td>\n",
       "      <td>G</td>\n",
       "      <td>Australian Open</td>\n",
       "      <td>0.0</td>\n",
       "      <td>1224</td>\n",
       "    </tr>\n",
       "    <tr>\n",
       "      <th>2307</th>\n",
       "      <td>Grass</td>\n",
       "      <td>G</td>\n",
       "      <td>Australian Open-2</td>\n",
       "      <td>0.0</td>\n",
       "      <td>63</td>\n",
       "    </tr>\n",
       "    <tr>\n",
       "      <th>2308</th>\n",
       "      <td>Grass</td>\n",
       "      <td>G</td>\n",
       "      <td>US Open</td>\n",
       "      <td>0.0</td>\n",
       "      <td>837</td>\n",
       "    </tr>\n",
       "    <tr>\n",
       "      <th>2309</th>\n",
       "      <td>Grass</td>\n",
       "      <td>G</td>\n",
       "      <td>Wimbledon</td>\n",
       "      <td>74009.0</td>\n",
       "      <td>6604</td>\n",
       "    </tr>\n",
       "    <tr>\n",
       "      <th>3684</th>\n",
       "      <td>Hard</td>\n",
       "      <td>G</td>\n",
       "      <td>Australian Open</td>\n",
       "      <td>62414.0</td>\n",
       "      <td>4191</td>\n",
       "    </tr>\n",
       "    <tr>\n",
       "      <th>3685</th>\n",
       "      <td>Hard</td>\n",
       "      <td>G</td>\n",
       "      <td>US Open</td>\n",
       "      <td>62556.0</td>\n",
       "      <td>5335</td>\n",
       "    </tr>\n",
       "    <tr>\n",
       "      <th>3686</th>\n",
       "      <td>Hard</td>\n",
       "      <td>G</td>\n",
       "      <td>Us Open</td>\n",
       "      <td>2351.0</td>\n",
       "      <td>127</td>\n",
       "    </tr>\n",
       "  </tbody>\n",
       "</table>\n",
       "</div>"
      ],
      "text/plain": [
       "     surface tourney_level       tourney_name  Total_Aces  Match_Count\n",
       "2112    Clay             G      Roland Garros     42776.0         6683\n",
       "2113    Clay             G            US Open         0.0          381\n",
       "2305   Grass             G   Australian Chps.         0.0           61\n",
       "2306   Grass             G    Australian Open         0.0         1224\n",
       "2307   Grass             G  Australian Open-2         0.0           63\n",
       "2308   Grass             G            US Open         0.0          837\n",
       "2309   Grass             G          Wimbledon     74009.0         6604\n",
       "3684    Hard             G    Australian Open     62414.0         4191\n",
       "3685    Hard             G            US Open     62556.0         5335\n",
       "3686    Hard             G            Us Open      2351.0          127"
      ]
     },
     "execution_count": 14,
     "metadata": {},
     "output_type": "execute_result"
    }
   ],
   "source": [
    "plot_df"
   ]
  },
  {
   "cell_type": "code",
   "execution_count": 15,
   "metadata": {},
   "outputs": [],
   "source": [
    "plot_df=plot_df[plot_df.Total_Aces!=0]"
   ]
  },
  {
   "cell_type": "code",
   "execution_count": 16,
   "metadata": {},
   "outputs": [
    {
     "name": "stderr",
     "output_type": "stream",
     "text": [
      "C:\\Users\\Vamsi\\Anaconda3\\lib\\site-packages\\ipykernel_launcher.py:1: SettingWithCopyWarning: \n",
      "A value is trying to be set on a copy of a slice from a DataFrame.\n",
      "Try using .loc[row_indexer,col_indexer] = value instead\n",
      "\n",
      "See the caveats in the documentation: http://pandas.pydata.org/pandas-docs/stable/indexing.html#indexing-view-versus-copy\n",
      "  \"\"\"Entry point for launching an IPython kernel.\n"
     ]
    }
   ],
   "source": [
    "plot_df['tourney_name']=[name.upper() for name in plot_df['tourney_name']]"
   ]
  },
  {
   "cell_type": "code",
   "execution_count": 17,
   "metadata": {},
   "outputs": [
    {
     "data": {
      "text/html": [
       "<div>\n",
       "<style scoped>\n",
       "    .dataframe tbody tr th:only-of-type {\n",
       "        vertical-align: middle;\n",
       "    }\n",
       "\n",
       "    .dataframe tbody tr th {\n",
       "        vertical-align: top;\n",
       "    }\n",
       "\n",
       "    .dataframe thead th {\n",
       "        text-align: right;\n",
       "    }\n",
       "</style>\n",
       "<table border=\"1\" class=\"dataframe\">\n",
       "  <thead>\n",
       "    <tr style=\"text-align: right;\">\n",
       "      <th></th>\n",
       "      <th>surface</th>\n",
       "      <th>tourney_level</th>\n",
       "      <th>tourney_name</th>\n",
       "      <th>Total_Aces</th>\n",
       "      <th>Match_Count</th>\n",
       "    </tr>\n",
       "  </thead>\n",
       "  <tbody>\n",
       "    <tr>\n",
       "      <th>2112</th>\n",
       "      <td>Clay</td>\n",
       "      <td>G</td>\n",
       "      <td>ROLAND GARROS</td>\n",
       "      <td>42776.0</td>\n",
       "      <td>6683</td>\n",
       "    </tr>\n",
       "    <tr>\n",
       "      <th>2309</th>\n",
       "      <td>Grass</td>\n",
       "      <td>G</td>\n",
       "      <td>WIMBLEDON</td>\n",
       "      <td>74009.0</td>\n",
       "      <td>6604</td>\n",
       "    </tr>\n",
       "    <tr>\n",
       "      <th>3684</th>\n",
       "      <td>Hard</td>\n",
       "      <td>G</td>\n",
       "      <td>AUSTRALIAN OPEN</td>\n",
       "      <td>62414.0</td>\n",
       "      <td>4191</td>\n",
       "    </tr>\n",
       "    <tr>\n",
       "      <th>3685</th>\n",
       "      <td>Hard</td>\n",
       "      <td>G</td>\n",
       "      <td>US OPEN</td>\n",
       "      <td>62556.0</td>\n",
       "      <td>5335</td>\n",
       "    </tr>\n",
       "    <tr>\n",
       "      <th>3686</th>\n",
       "      <td>Hard</td>\n",
       "      <td>G</td>\n",
       "      <td>US OPEN</td>\n",
       "      <td>2351.0</td>\n",
       "      <td>127</td>\n",
       "    </tr>\n",
       "  </tbody>\n",
       "</table>\n",
       "</div>"
      ],
      "text/plain": [
       "     surface tourney_level     tourney_name  Total_Aces  Match_Count\n",
       "2112    Clay             G    ROLAND GARROS     42776.0         6683\n",
       "2309   Grass             G        WIMBLEDON     74009.0         6604\n",
       "3684    Hard             G  AUSTRALIAN OPEN     62414.0         4191\n",
       "3685    Hard             G          US OPEN     62556.0         5335\n",
       "3686    Hard             G          US OPEN      2351.0          127"
      ]
     },
     "execution_count": 17,
     "metadata": {},
     "output_type": "execute_result"
    }
   ],
   "source": [
    "plot_df"
   ]
  },
  {
   "cell_type": "code",
   "execution_count": 18,
   "metadata": {},
   "outputs": [],
   "source": [
    "plot_df=plot_df.groupby(['surface'],as_index=False)['Total_Aces','Match_Count'].mean()"
   ]
  },
  {
   "cell_type": "code",
   "execution_count": 19,
   "metadata": {},
   "outputs": [],
   "source": [
    "plot_df['Aces_Per_Match']=plot_df.Total_Aces/plot_df.Match_Count"
   ]
  },
  {
   "cell_type": "code",
   "execution_count": 20,
   "metadata": {},
   "outputs": [
    {
     "data": {
      "text/html": [
       "<div>\n",
       "<style scoped>\n",
       "    .dataframe tbody tr th:only-of-type {\n",
       "        vertical-align: middle;\n",
       "    }\n",
       "\n",
       "    .dataframe tbody tr th {\n",
       "        vertical-align: top;\n",
       "    }\n",
       "\n",
       "    .dataframe thead th {\n",
       "        text-align: right;\n",
       "    }\n",
       "</style>\n",
       "<table border=\"1\" class=\"dataframe\">\n",
       "  <thead>\n",
       "    <tr style=\"text-align: right;\">\n",
       "      <th></th>\n",
       "      <th>surface</th>\n",
       "      <th>Total_Aces</th>\n",
       "      <th>Match_Count</th>\n",
       "      <th>Aces_Per_Match</th>\n",
       "    </tr>\n",
       "  </thead>\n",
       "  <tbody>\n",
       "    <tr>\n",
       "      <th>0</th>\n",
       "      <td>Clay</td>\n",
       "      <td>42776.000000</td>\n",
       "      <td>6683.000000</td>\n",
       "      <td>6.400718</td>\n",
       "    </tr>\n",
       "    <tr>\n",
       "      <th>1</th>\n",
       "      <td>Grass</td>\n",
       "      <td>74009.000000</td>\n",
       "      <td>6604.000000</td>\n",
       "      <td>11.206693</td>\n",
       "    </tr>\n",
       "    <tr>\n",
       "      <th>2</th>\n",
       "      <td>Hard</td>\n",
       "      <td>42440.333333</td>\n",
       "      <td>3217.666667</td>\n",
       "      <td>13.189786</td>\n",
       "    </tr>\n",
       "  </tbody>\n",
       "</table>\n",
       "</div>"
      ],
      "text/plain": [
       "  surface    Total_Aces  Match_Count  Aces_Per_Match\n",
       "0    Clay  42776.000000  6683.000000        6.400718\n",
       "1   Grass  74009.000000  6604.000000       11.206693\n",
       "2    Hard  42440.333333  3217.666667       13.189786"
      ]
     },
     "execution_count": 20,
     "metadata": {},
     "output_type": "execute_result"
    }
   ],
   "source": [
    "plot_df"
   ]
  },
  {
   "cell_type": "code",
   "execution_count": 21,
   "metadata": {},
   "outputs": [
    {
     "data": {
      "text/html": [
       "<div>\n",
       "<style scoped>\n",
       "    .dataframe tbody tr th:only-of-type {\n",
       "        vertical-align: middle;\n",
       "    }\n",
       "\n",
       "    .dataframe tbody tr th {\n",
       "        vertical-align: top;\n",
       "    }\n",
       "\n",
       "    .dataframe thead th {\n",
       "        text-align: right;\n",
       "    }\n",
       "</style>\n",
       "<table border=\"1\" class=\"dataframe\">\n",
       "  <thead>\n",
       "    <tr style=\"text-align: right;\">\n",
       "      <th></th>\n",
       "      <th>surface</th>\n",
       "      <th>Total_Aces</th>\n",
       "      <th>Match_Count</th>\n",
       "      <th>Aces_Per_Match</th>\n",
       "    </tr>\n",
       "  </thead>\n",
       "  <tbody>\n",
       "    <tr>\n",
       "      <th>0</th>\n",
       "      <td>Clay</td>\n",
       "      <td>42776.000000</td>\n",
       "      <td>6683.000000</td>\n",
       "      <td>6.400718</td>\n",
       "    </tr>\n",
       "    <tr>\n",
       "      <th>1</th>\n",
       "      <td>Grass</td>\n",
       "      <td>74009.000000</td>\n",
       "      <td>6604.000000</td>\n",
       "      <td>11.206693</td>\n",
       "    </tr>\n",
       "    <tr>\n",
       "      <th>2</th>\n",
       "      <td>Hard</td>\n",
       "      <td>42440.333333</td>\n",
       "      <td>3217.666667</td>\n",
       "      <td>13.189786</td>\n",
       "    </tr>\n",
       "  </tbody>\n",
       "</table>\n",
       "</div>"
      ],
      "text/plain": [
       "  surface    Total_Aces  Match_Count  Aces_Per_Match\n",
       "0    Clay  42776.000000  6683.000000        6.400718\n",
       "1   Grass  74009.000000  6604.000000       11.206693\n",
       "2    Hard  42440.333333  3217.666667       13.189786"
      ]
     },
     "execution_count": 21,
     "metadata": {},
     "output_type": "execute_result"
    }
   ],
   "source": [
    "plot_df"
   ]
  },
  {
   "cell_type": "code",
   "execution_count": 29,
   "metadata": {},
   "outputs": [
    {
     "data": {
      "image/png": "[encoded data removed]",
      "text/plain": [
       "<Figure size 432x288 with 1 Axes>"
      ]
     },
     "metadata": {},
     "output_type": "display_data"
    }
   ],
   "source": [
    "import seaborn as sns\n",
    "\n",
    "sns.set_style(\"whitegrid\")\n",
    "ax = sns.barplot(x=\"surface\", y=\"Aces_Per_Match\", data=plot_df)"
   ]
  },
  {
   "cell_type": "code",
   "execution_count": 23,
   "metadata": {},
   "outputs": [],
   "source": [
    "winners_df=master_match_df[['winner_name','winner_hand','winner_ht','winner_age','surface','w_ace']]\n",
    "losers_df=master_match_df[['loser_name','loser_hand','loser_ht','loser_age','surface','l_ace']]"
   ]
  },
  {
   "cell_type": "code",
   "execution_count": 24,
   "metadata": {},
   "outputs": [],
   "source": [
    "win_aces_by_height=winners_df.groupby(['winner_name','winner_ht'],as_index=False)['w_ace'].sum()\n",
    "loser_aces_by_height=losers_df.groupby(['loser_name','loser_ht'],as_index=False)['l_ace'].sum()"
   ]
  },
  {
   "cell_type": "code",
   "execution_count": 25,
   "metadata": {},
   "outputs": [
    {
     "data": {
      "text/html": [
       "<div>\n",
       "<style scoped>\n",
       "    .dataframe tbody tr th:only-of-type {\n",
       "        vertical-align: middle;\n",
       "    }\n",
       "\n",
       "    .dataframe tbody tr th {\n",
       "        vertical-align: top;\n",
       "    }\n",
       "\n",
       "    .dataframe thead th {\n",
       "        text-align: right;\n",
       "    }\n",
       "</style>\n",
       "<table border=\"1\" class=\"dataframe\">\n",
       "  <thead>\n",
       "    <tr style=\"text-align: right;\">\n",
       "      <th></th>\n",
       "      <th>loser_name</th>\n",
       "      <th>loser_ht</th>\n",
       "      <th>l_ace</th>\n",
       "    </tr>\n",
       "  </thead>\n",
       "  <tbody>\n",
       "    <tr>\n",
       "      <th>0</th>\n",
       "      <td>Aaron Krickstein</td>\n",
       "      <td>183.0</td>\n",
       "      <td>355.0</td>\n",
       "    </tr>\n",
       "    <tr>\n",
       "      <th>1</th>\n",
       "      <td>Adam Anderson</td>\n",
       "      <td>180.0</td>\n",
       "      <td>0.0</td>\n",
       "    </tr>\n",
       "    <tr>\n",
       "      <th>2</th>\n",
       "      <td>Adam Chadaj</td>\n",
       "      <td>178.0</td>\n",
       "      <td>2.0</td>\n",
       "    </tr>\n",
       "    <tr>\n",
       "      <th>3</th>\n",
       "      <td>Adam Malik</td>\n",
       "      <td>193.0</td>\n",
       "      <td>11.0</td>\n",
       "    </tr>\n",
       "    <tr>\n",
       "      <th>4</th>\n",
       "      <td>Adam Peterson</td>\n",
       "      <td>185.0</td>\n",
       "      <td>0.0</td>\n",
       "    </tr>\n",
       "    <tr>\n",
       "      <th>5</th>\n",
       "      <td>Adrian Garcia</td>\n",
       "      <td>175.0</td>\n",
       "      <td>62.0</td>\n",
       "    </tr>\n",
       "    <tr>\n",
       "      <th>6</th>\n",
       "      <td>Adrian Mannarino</td>\n",
       "      <td>183.0</td>\n",
       "      <td>902.0</td>\n",
       "    </tr>\n",
       "    <tr>\n",
       "      <th>7</th>\n",
       "      <td>Adrian Marcu</td>\n",
       "      <td>190.0</td>\n",
       "      <td>0.0</td>\n",
       "    </tr>\n",
       "    <tr>\n",
       "      <th>8</th>\n",
       "      <td>Adrian Ungur</td>\n",
       "      <td>178.0</td>\n",
       "      <td>83.0</td>\n",
       "    </tr>\n",
       "    <tr>\n",
       "      <th>9</th>\n",
       "      <td>Adrian Voinea</td>\n",
       "      <td>185.0</td>\n",
       "      <td>763.0</td>\n",
       "    </tr>\n",
       "    <tr>\n",
       "      <th>10</th>\n",
       "      <td>Adriano Panatta</td>\n",
       "      <td>183.0</td>\n",
       "      <td>0.0</td>\n",
       "    </tr>\n",
       "    <tr>\n",
       "      <th>11</th>\n",
       "      <td>Agustin Calleri</td>\n",
       "      <td>183.0</td>\n",
       "      <td>1197.0</td>\n",
       "    </tr>\n",
       "    <tr>\n",
       "      <th>12</th>\n",
       "      <td>Agustin Garizzio</td>\n",
       "      <td>185.0</td>\n",
       "      <td>0.0</td>\n",
       "    </tr>\n",
       "    <tr>\n",
       "      <th>13</th>\n",
       "      <td>Agustin Moreno</td>\n",
       "      <td>180.0</td>\n",
       "      <td>13.0</td>\n",
       "    </tr>\n",
       "    <tr>\n",
       "      <th>14</th>\n",
       "      <td>Ahmed El Mehelmy</td>\n",
       "      <td>183.0</td>\n",
       "      <td>0.0</td>\n",
       "    </tr>\n",
       "    <tr>\n",
       "      <th>15</th>\n",
       "      <td>Aisam Ul Haq Qureshi</td>\n",
       "      <td>183.0</td>\n",
       "      <td>135.0</td>\n",
       "    </tr>\n",
       "    <tr>\n",
       "      <th>16</th>\n",
       "      <td>Akash Wagh</td>\n",
       "      <td>175.0</td>\n",
       "      <td>7.0</td>\n",
       "    </tr>\n",
       "    <tr>\n",
       "      <th>17</th>\n",
       "      <td>Aki Rahunen</td>\n",
       "      <td>175.0</td>\n",
       "      <td>16.0</td>\n",
       "    </tr>\n",
       "    <tr>\n",
       "      <th>18</th>\n",
       "      <td>Al Parker</td>\n",
       "      <td>188.0</td>\n",
       "      <td>0.0</td>\n",
       "    </tr>\n",
       "    <tr>\n",
       "      <th>19</th>\n",
       "      <td>Alan Fox</td>\n",
       "      <td>173.0</td>\n",
       "      <td>0.0</td>\n",
       "    </tr>\n",
       "    <tr>\n",
       "      <th>20</th>\n",
       "      <td>Alan Mackin</td>\n",
       "      <td>183.0</td>\n",
       "      <td>26.0</td>\n",
       "    </tr>\n",
       "    <tr>\n",
       "      <th>21</th>\n",
       "      <td>Albano Olivetti</td>\n",
       "      <td>203.0</td>\n",
       "      <td>170.0</td>\n",
       "    </tr>\n",
       "    <tr>\n",
       "      <th>22</th>\n",
       "      <td>Albert Chang</td>\n",
       "      <td>183.0</td>\n",
       "      <td>76.0</td>\n",
       "    </tr>\n",
       "    <tr>\n",
       "      <th>23</th>\n",
       "      <td>Albert Costa</td>\n",
       "      <td>180.0</td>\n",
       "      <td>876.0</td>\n",
       "    </tr>\n",
       "    <tr>\n",
       "      <th>24</th>\n",
       "      <td>Albert Montanes</td>\n",
       "      <td>175.0</td>\n",
       "      <td>778.0</td>\n",
       "    </tr>\n",
       "    <tr>\n",
       "      <th>25</th>\n",
       "      <td>Albert Portas</td>\n",
       "      <td>188.0</td>\n",
       "      <td>797.0</td>\n",
       "    </tr>\n",
       "    <tr>\n",
       "      <th>26</th>\n",
       "      <td>Albert Ramos</td>\n",
       "      <td>188.0</td>\n",
       "      <td>759.0</td>\n",
       "    </tr>\n",
       "    <tr>\n",
       "      <th>27</th>\n",
       "      <td>Alberto Berasategui</td>\n",
       "      <td>173.0</td>\n",
       "      <td>277.0</td>\n",
       "    </tr>\n",
       "    <tr>\n",
       "      <th>28</th>\n",
       "      <td>Alberto Mancini</td>\n",
       "      <td>180.0</td>\n",
       "      <td>152.0</td>\n",
       "    </tr>\n",
       "    <tr>\n",
       "      <th>29</th>\n",
       "      <td>Alberto Martin</td>\n",
       "      <td>175.0</td>\n",
       "      <td>466.0</td>\n",
       "    </tr>\n",
       "    <tr>\n",
       "      <th>...</th>\n",
       "      <td>...</td>\n",
       "      <td>...</td>\n",
       "      <td>...</td>\n",
       "    </tr>\n",
       "    <tr>\n",
       "      <th>1868</th>\n",
       "      <td>William Notar</td>\n",
       "      <td>185.0</td>\n",
       "      <td>0.0</td>\n",
       "    </tr>\n",
       "    <tr>\n",
       "      <th>1869</th>\n",
       "      <td>Wojtek Fibak</td>\n",
       "      <td>183.0</td>\n",
       "      <td>0.0</td>\n",
       "    </tr>\n",
       "    <tr>\n",
       "      <th>1870</th>\n",
       "      <td>Wojtek Kowalski</td>\n",
       "      <td>183.0</td>\n",
       "      <td>45.0</td>\n",
       "    </tr>\n",
       "    <tr>\n",
       "      <th>1871</th>\n",
       "      <td>Wolfgang Popp</td>\n",
       "      <td>183.0</td>\n",
       "      <td>0.0</td>\n",
       "    </tr>\n",
       "    <tr>\n",
       "      <th>1872</th>\n",
       "      <td>Wolfgang Schranz</td>\n",
       "      <td>178.0</td>\n",
       "      <td>73.0</td>\n",
       "    </tr>\n",
       "    <tr>\n",
       "      <th>1873</th>\n",
       "      <td>Woo Ryong Lee</td>\n",
       "      <td>173.0</td>\n",
       "      <td>0.0</td>\n",
       "    </tr>\n",
       "    <tr>\n",
       "      <th>1874</th>\n",
       "      <td>Woody Blocher</td>\n",
       "      <td>173.0</td>\n",
       "      <td>0.0</td>\n",
       "    </tr>\n",
       "    <tr>\n",
       "      <th>1875</th>\n",
       "      <td>Woody Hunt</td>\n",
       "      <td>178.0</td>\n",
       "      <td>0.0</td>\n",
       "    </tr>\n",
       "    <tr>\n",
       "      <th>1876</th>\n",
       "      <td>Woong Sun Jun</td>\n",
       "      <td>190.0</td>\n",
       "      <td>19.0</td>\n",
       "    </tr>\n",
       "    <tr>\n",
       "      <th>1877</th>\n",
       "      <td>Xavier Avila</td>\n",
       "      <td>183.0</td>\n",
       "      <td>1.0</td>\n",
       "    </tr>\n",
       "    <tr>\n",
       "      <th>1878</th>\n",
       "      <td>Xavier Daufresne</td>\n",
       "      <td>193.0</td>\n",
       "      <td>50.0</td>\n",
       "    </tr>\n",
       "    <tr>\n",
       "      <th>1879</th>\n",
       "      <td>Xavier Malisse</td>\n",
       "      <td>185.0</td>\n",
       "      <td>1612.0</td>\n",
       "    </tr>\n",
       "    <tr>\n",
       "      <th>1880</th>\n",
       "      <td>Yahiya Doumbia</td>\n",
       "      <td>185.0</td>\n",
       "      <td>21.0</td>\n",
       "    </tr>\n",
       "    <tr>\n",
       "      <th>1881</th>\n",
       "      <td>Yann Marti</td>\n",
       "      <td>173.0</td>\n",
       "      <td>7.0</td>\n",
       "    </tr>\n",
       "    <tr>\n",
       "      <th>1882</th>\n",
       "      <td>Yannick Noah</td>\n",
       "      <td>193.0</td>\n",
       "      <td>50.0</td>\n",
       "    </tr>\n",
       "    <tr>\n",
       "      <th>1883</th>\n",
       "      <td>Yasufumi Yamamoto</td>\n",
       "      <td>175.0</td>\n",
       "      <td>23.0</td>\n",
       "    </tr>\n",
       "    <tr>\n",
       "      <th>1884</th>\n",
       "      <td>Yen Hsun Lu</td>\n",
       "      <td>180.0</td>\n",
       "      <td>809.0</td>\n",
       "    </tr>\n",
       "    <tr>\n",
       "      <th>1885</th>\n",
       "      <td>Yevgeny Kafelnikov</td>\n",
       "      <td>190.0</td>\n",
       "      <td>1359.0</td>\n",
       "    </tr>\n",
       "    <tr>\n",
       "      <th>1886</th>\n",
       "      <td>Yong Il Yoon</td>\n",
       "      <td>175.0</td>\n",
       "      <td>24.0</td>\n",
       "    </tr>\n",
       "    <tr>\n",
       "      <th>1887</th>\n",
       "      <td>Younes El Aynaoui</td>\n",
       "      <td>193.0</td>\n",
       "      <td>1230.0</td>\n",
       "    </tr>\n",
       "    <tr>\n",
       "      <th>1888</th>\n",
       "      <td>Young Dae Jeon</td>\n",
       "      <td>183.0</td>\n",
       "      <td>0.0</td>\n",
       "    </tr>\n",
       "    <tr>\n",
       "      <th>1889</th>\n",
       "      <td>Yuichi Sugita</td>\n",
       "      <td>173.0</td>\n",
       "      <td>270.0</td>\n",
       "    </tr>\n",
       "    <tr>\n",
       "      <th>1890</th>\n",
       "      <td>Yuki Bhambri</td>\n",
       "      <td>183.0</td>\n",
       "      <td>56.0</td>\n",
       "    </tr>\n",
       "    <tr>\n",
       "      <th>1891</th>\n",
       "      <td>Yuri Schukin</td>\n",
       "      <td>188.0</td>\n",
       "      <td>56.0</td>\n",
       "    </tr>\n",
       "    <tr>\n",
       "      <th>1892</th>\n",
       "      <td>Yves Allegro</td>\n",
       "      <td>183.0</td>\n",
       "      <td>31.0</td>\n",
       "    </tr>\n",
       "    <tr>\n",
       "      <th>1893</th>\n",
       "      <td>Zack Fleishman</td>\n",
       "      <td>188.0</td>\n",
       "      <td>83.0</td>\n",
       "    </tr>\n",
       "    <tr>\n",
       "      <th>1894</th>\n",
       "      <td>Zbynek Mlynarik</td>\n",
       "      <td>175.0</td>\n",
       "      <td>4.0</td>\n",
       "    </tr>\n",
       "    <tr>\n",
       "      <th>1895</th>\n",
       "      <td>Zeeshan Ali</td>\n",
       "      <td>180.0</td>\n",
       "      <td>0.0</td>\n",
       "    </tr>\n",
       "    <tr>\n",
       "      <th>1896</th>\n",
       "      <td>Zeljko Krajan</td>\n",
       "      <td>178.0</td>\n",
       "      <td>72.0</td>\n",
       "    </tr>\n",
       "    <tr>\n",
       "      <th>1897</th>\n",
       "      <td>Zoltan Kuharszky</td>\n",
       "      <td>183.0</td>\n",
       "      <td>0.0</td>\n",
       "    </tr>\n",
       "  </tbody>\n",
       "</table>\n",
       "<p>1898 rows × 3 columns</p>\n",
       "</div>"
      ],
      "text/plain": [
       "                loser_name  loser_ht   l_ace\n",
       "0         Aaron Krickstein     183.0   355.0\n",
       "1            Adam Anderson     180.0     0.0\n",
       "2              Adam Chadaj     178.0     2.0\n",
       "3               Adam Malik     193.0    11.0\n",
       "4            Adam Peterson     185.0     0.0\n",
       "5            Adrian Garcia     175.0    62.0\n",
       "6         Adrian Mannarino     183.0   902.0\n",
       "7             Adrian Marcu     190.0     0.0\n",
       "8             Adrian Ungur     178.0    83.0\n",
       "9            Adrian Voinea     185.0   763.0\n",
       "10         Adriano Panatta     183.0     0.0\n",
       "11         Agustin Calleri     183.0  1197.0\n",
       "12        Agustin Garizzio     185.0     0.0\n",
       "13          Agustin Moreno     180.0    13.0\n",
       "14        Ahmed El Mehelmy     183.0     0.0\n",
       "15    Aisam Ul Haq Qureshi     183.0   135.0\n",
       "16              Akash Wagh     175.0     7.0\n",
       "17             Aki Rahunen     175.0    16.0\n",
       "18               Al Parker     188.0     0.0\n",
       "19                Alan Fox     173.0     0.0\n",
       "20             Alan Mackin     183.0    26.0\n",
       "21         Albano Olivetti     203.0   170.0\n",
       "22            Albert Chang     183.0    76.0\n",
       "23            Albert Costa     180.0   876.0\n",
       "24         Albert Montanes     175.0   778.0\n",
       "25           Albert Portas     188.0   797.0\n",
       "26            Albert Ramos     188.0   759.0\n",
       "27     Alberto Berasategui     173.0   277.0\n",
       "28         Alberto Mancini     180.0   152.0\n",
       "29          Alberto Martin     175.0   466.0\n",
       "...                    ...       ...     ...\n",
       "1868         William Notar     185.0     0.0\n",
       "1869          Wojtek Fibak     183.0     0.0\n",
       "1870       Wojtek Kowalski     183.0    45.0\n",
       "1871         Wolfgang Popp     183.0     0.0\n",
       "1872      Wolfgang Schranz     178.0    73.0\n",
       "1873         Woo Ryong Lee     173.0     0.0\n",
       "1874         Woody Blocher     173.0     0.0\n",
       "1875            Woody Hunt     178.0     0.0\n",
       "1876         Woong Sun Jun     190.0    19.0\n",
       "1877          Xavier Avila     183.0     1.0\n",
       "1878      Xavier Daufresne     193.0    50.0\n",
       "1879        Xavier Malisse     185.0  1612.0\n",
       "1880        Yahiya Doumbia     185.0    21.0\n",
       "1881            Yann Marti     173.0     7.0\n",
       "1882          Yannick Noah     193.0    50.0\n",
       "1883     Yasufumi Yamamoto     175.0    23.0\n",
       "1884           Yen Hsun Lu     180.0   809.0\n",
       "1885    Yevgeny Kafelnikov     190.0  1359.0\n",
       "1886          Yong Il Yoon     175.0    24.0\n",
       "1887     Younes El Aynaoui     193.0  1230.0\n",
       "1888        Young Dae Jeon     183.0     0.0\n",
       "1889         Yuichi Sugita     173.0   270.0\n",
       "1890          Yuki Bhambri     183.0    56.0\n",
       "1891          Yuri Schukin     188.0    56.0\n",
       "1892          Yves Allegro     183.0    31.0\n",
       "1893        Zack Fleishman     188.0    83.0\n",
       "1894       Zbynek Mlynarik     175.0     4.0\n",
       "1895           Zeeshan Ali     180.0     0.0\n",
       "1896         Zeljko Krajan     178.0    72.0\n",
       "1897      Zoltan Kuharszky     183.0     0.0\n",
       "\n",
       "[1898 rows x 3 columns]"
      ]
     },
     "execution_count": 25,
     "metadata": {},
     "output_type": "execute_result"
    }
   ],
   "source": [
    "loser_aces_by_height"
   ]
  },
  {
   "cell_type": "code",
   "execution_count": 26,
   "metadata": {},
   "outputs": [],
   "source": [
    "win_aces_by_height = win_aces_by_height.rename(columns={'winner_name': 'player_name',\n",
    "                                                          'winner_ht':'player_ht',\n",
    "                                                          'w_ace':'aces'\n",
    "                                                         \n",
    "                                                         })\n",
    "\n",
    "\n",
    "loser_aces_by_height=loser_aces_by_height.rename(\n",
    "    columns={\n",
    "    \n",
    "            'loser_name': 'player_name',\n",
    "            'loser_ht':'player_ht',\n",
    "            'l_ace':'aces'\n",
    "    \n",
    "    })"
   ]
  },
  {
   "cell_type": "code",
   "execution_count": 27,
   "metadata": {},
   "outputs": [],
   "source": [
    "players_dfs=[win_aces_by_height,loser_aces_by_height]\n",
    "players_df=pd.concat(players_dfs)"
   ]
  },
  {
   "cell_type": "code",
   "execution_count": 30,
   "metadata": {},
   "outputs": [],
   "source": [
    "players_df=players_df.groupby(['player_name','player_ht'],as_index=False)['aces'].sum()"
   ]
  },
  {
   "cell_type": "code",
   "execution_count": 229,
   "metadata": {},
   "outputs": [
    {
     "data": {
      "application/vnd.plotly.v1+json": {
       "config": {
        "plotlyServerURL": "https://plot.ly"
       },
       "data": [
        {
         "customdata": [
          [
           995,
           "Aaron Krickstein",
           183
          ],
          [
           0,
           "Adam Anderson",
           180
          ],
          [
           3,
           "Adam Chadaj",
           178
          ],
          [
           31,
           "Adam Malik",
           193
          ],
          [
           0,
           "Adam Peterson",
           185
          ],
          [
           89,
           "Adrian Garcia",
           175
          ],
          [
           2051,
           "Adrian Mannarino",
           183
          ],
          [
           0,
           "Adrian Marcu",
           190
          ],
          [
           115,
           "Adrian Ungur",
           178
          ],
          [
           1585,
           "Adrian Voinea",
           185
          ],
          [
           0,
           "Adriano Panatta",
           183
          ],
          [
           2649,
           "Agustin Calleri",
           183
          ],
          [
           3,
           "Agustin Garizzio",
           185
          ],
          [
           15,
           "Agustin Moreno",
           180
          ],
          [
           0,
           "Ahmed El Mehelmy",
           183
          ],
          [
           279,
           "Aisam Ul Haq Qureshi",
           183
          ],
          [
           7,
           "Akash Wagh",
           175
          ],
          [
           29,
           "Aki Rahunen",
           175
          ],
          [
           0,
           "Al Parker",
           188
          ],
          [
           0,
           "Alan Fox",
           173
          ],
          [
           26,
           "Alan Mackin",
           183
          ],
          [
           264,
           "Albano Olivetti",
           203
          ],
          [
           88,
           "Albert Chang",
           183
          ],
          [
           2207,
           "Albert Costa",
           180
          ],
          [
           1804,
           "Albert Montanes",
           175
          ],
          [
           1382,
           "Albert Portas",
           188
          ],
          [
           1594,
           "Albert Ramos",
           188
          ],
          [
           758,
           "Alberto Berasategui",
           173
          ],
          [
           355,
           "Alberto Mancini",
           180
          ],
          [
           979,
           "Alberto Martin",
           175
          ],
          [
           0,
           "Alberto Tous",
           175
          ],
          [
           10,
           "Aldin Setkic",
           193
          ],
          [
           0,
           "Alejandro Aramburu",
           175
          ],
          [
           853,
           "Alejandro Falla",
           185
          ],
          [
           0,
           "Alejandro Ganzabal",
           180
          ],
          [
           0,
           "Alejandro Gattiker",
           180
          ],
          [
           154,
           "Alejandro Hernandez",
           180
          ],
          [
           73,
           "Alejo Mancisidor",
           183
          ],
          [
           6,
           "Aleksandar Kitinov",
           190
          ],
          [
           0,
           "Alessandro De Minicis",
           175
          ],
          [
           110,
           "Alessandro Giannessi",
           183
          ],
          [
           189,
           "Alessio Di Mauro",
           185
          ],
          [
           532,
           "Alex Antonitsch",
           188
          ],
          [
           220,
           "Alex Bogdanovic",
           183
          ],
          [
           388,
           "Alex Bogomolov Jr",
           178
          ],
          [
           1051,
           "Alex Calatrava",
           190
          ],
          [
           11,
           "Alex Clayton",
           183
          ],
          [
           2610,
           "Alex Corretja",
           180
          ],
          [
           71,
           "Alex Kim",
           175
          ],
          [
           286,
           "Alex Kuznetsov",
           183
          ],
          [
           101,
           "Alex Lopez Moron",
           175
          ],
          [
           0,
           "Alex Nizet",
           188
          ],
          [
           1020,
           "Alex Obrien",
           185
          ],
          [
           970,
           "Alex Radulescu",
           185
          ],
          [
           0,
           "Alex Stepanek",
           180
          ],
          [
           126,
           "Alexander Kudryavtsev",
           183
          ],
          [
           699,
           "Alexander Mronz",
           188
          ],
          [
           273,
           "Alexander Peya",
           183
          ],
          [
           485,
           "Alexander Popp",
           201
          ],
          [
           53,
           "Alexander Reichel",
           193
          ],
          [
           20,
           "Alexander Sadecky",
           193
          ],
          [
           12,
           "Alexander Slabinsky",
           185
          ],
          [
           1898,
           "Alexander Volkov",
           188
          ],
          [
           946,
           "Alexander Waske",
           188
          ],
          [
           3029,
           "Alexander Zverev",
           198
          ],
          [
           0,
           "Alexander Zverev Sr",
           185
          ],
          [
           3147,
           "Alexandr Dolgopolov",
           180
          ],
          [
           2,
           "Alexandre Hocevar",
           190
          ],
          [
           200,
           "Alexandre Simoni",
           188
          ],
          [
           0,
           "Alexey Kedryuk",
           193
          ],
          [
           12,
           "Alexis Hombrecher",
           196
          ],
          [
           0,
           "Alfonso Mora",
           188
          ],
          [
           34,
           "Alistair Hunt",
           190
          ],
          [
           2050,
           "Aljaz Bedene",
           181
          ],
          [
           9,
           "Allen Belobrajdic",
           175
          ],
          [
           44,
           "Alun Jones",
           180
          ],
          [
           0,
           "Alvaro Fillol",
           178
          ],
          [
           0,
           "Alvaro Jordan",
           185
          ],
          [
           807,
           "Amer Delic",
           196
          ],
          [
           23,
           "Amir Hadad",
           183
          ],
          [
           27,
           "Amir Weintraub",
           188
          ],
          [
           0,
           "Amit Naor",
           178
          ],
          [
           813,
           "Amos Mansdorf",
           175
          ],
          [
           0,
           "Anand Amritraj",
           185
          ],
          [
           600,
           "Anders Jarryd",
           180
          ],
          [
           4055,
           "Andre Agassi",
           180
          ],
          [
           19,
           "Andre Ghem",
           193
          ],
          [
           386,
           "Andre Sa",
           185
          ],
          [
           1012,
           "Andrea Gaudenzi",
           183
          ],
          [
           42,
           "Andrea Stoppini",
           190
          ],
          [
           459,
           "Andreas Beck",
           190
          ],
          [
           814,
           "Andreas Haider Maurer",
           190
          ],
          [
           0,
           "Andreas Lesch",
           196
          ],
          [
           0,
           "Andreas Maurer",
           175
          ],
          [
           3692,
           "Andreas Seppi",
           190
          ],
          [
           772,
           "Andreas Vinciguerra",
           180
          ],
          [
           656,
           "Andrei Cherkasov",
           180
          ],
          [
           881,
           "Andrei Chesnokov",
           188
          ],
          [
           2768,
           "Andrei Medvedev",
           193
          ],
          [
           16,
           "Andrei Merinov",
           183
          ],
          [
           1759,
           "Andrei Olhovskiy",
           185
          ],
          [
           2390,
           "Andrei Pavel",
           183
          ],
          [
           11,
           "Andrei Rybalko",
           180
          ],
          [
           459,
           "Andrei Stoliarov",
           178
          ],
          [
           94,
           "Andrej Martin",
           180
          ],
          [
           0,
           "Andres Gimeno",
           185
          ],
          [
           396,
           "Andres Gomez",
           193
          ],
          [
           7,
           "Andres Vysand",
           180
          ],
          [
           1,
           "Andrew Anderson",
           193
          ],
          [
           0,
           "Andrew Burrow",
           178
          ],
          [
           40,
           "Andrew Castle",
           190
          ],
          [
           103,
           "Andrew Foster",
           190
          ],
          [
           970,
           "Andrew Ilie",
           180
          ],
          [
           13,
           "Andrew Kratzmann",
           193
          ],
          [
           0,
           "Andrew Lobb",
           180
          ],
          [
           11,
           "Andrew Painter",
           188
          ],
          [
           0,
           "Andrew Pattison",
           188
          ],
          [
           152,
           "Andrew Richardson",
           201
          ],
          [
           128,
           "Andrew Sznajder",
           175
          ],
          [
           679,
           "Andrey Golubev",
           185
          ],
          [
           885,
           "Andrey Kuznetsov",
           185
          ],
          [
           0,
           "Andy Andrews",
           185
          ],
          [
           4,
           "Andy Fahlke",
           185
          ],
          [
           0,
           "Andy Kohlberg",
           178
          ],
          [
           5816,
           "Andy Murray",
           190
          ],
          [
           76,
           "Andy Ram",
           180
          ],
          [
           9040,
           "Andy Roddick",
           188
          ],
          [
           2,
           "Andy Zingman",
           183
          ],
          [
           0,
           "Angel Gimenez",
           163
          ],
          [
           0,
           "Anthony Lane",
           183
          ],
          [
           0,
           "Antonio Padovani",
           178
          ],
          [
           90,
           "Antonio Veic",
           180
          ],
          [
           1539,
           "Antony Dupuis",
           185
          ],
          [
           0,
           "Antony Emerson",
           180
          ],
          [
           0,
           "Armin Sandbichler",
           180
          ],
          [
           18,
           "Arnau Brugues Davi",
           183
          ],
          [
           1555,
           "Arnaud Boetsch",
           183
          ],
          [
           3135,
           "Arnaud Clement",
           173
          ],
          [
           400,
           "Arnaud Di Pasquale",
           185
          ],
          [
           313,
           "Arne Thoms",
           188
          ],
          [
           7,
           "Arsenije Zlatanovic",
           193
          ],
          [
           0,
           "Arthur Anastopoulo",
           178
          ],
          [
           0,
           "Arthur Ashe",
           185
          ],
          [
           271,
           "Arvind Parmar",
           193
          ],
          [
           104,
           "Attila Balazs",
           180
          ],
          [
           375,
           "Attila Savolt",
           183
          ],
          [
           0,
           "Audun Jensen",
           178
          ],
          [
           155,
           "Axel Pretzsch",
           185
          ],
          [
           0,
           "Balazs Taroczy",
           183
          ],
          [
           202,
           "Barry Cowan",
           188
          ],
          [
           0,
           "Barry Mackay",
           190
          ],
          [
           0,
           "Barry Moir",
           180
          ],
          [
           0,
           "Barry Phillips Moore",
           173
          ],
          [
           35,
           "Bart Wuyts",
           178
          ],
          [
           8,
           "Bartolome Salva Vidal",
           183
          ],
          [
           0,
           "Belus Prajoux",
           170
          ],
          [
           95,
           "Ben Ellwood",
           178
          ],
          [
           0,
           "Ben Testerman",
           185
          ],
          [
           11,
           "Benedikt Dorsch",
           178
          ],
          [
           55,
           "Benjamin Balleret",
           185
          ],
          [
           2838,
           "Benjamin Becker",
           178
          ],
          [
           0,
           "Benjy Robins",
           175
          ],
          [
           3961,
           "Benoit Paire",
           196
          ],
          [
           8,
           "Bent Ove Pedersen",
           185
          ],
          [
           0,
           "Bernard Boileau",
           185
          ],
          [
           0,
           "Bernard Fritz",
           173
          ],
          [
           0,
           "Bernard Mitton",
           188
          ],
          [
           2765,
           "Bernard Tomic",
           193
          ],
          [
           36,
           "Bernardo Mota",
           178
          ],
          [
           1542,
           "Bernd Karbacher",
           185
          ],
          [
           0,
           "Bernhard Pils",
           178
          ],
          [
           17,
           "Bill Behrens",
           188
          ],
          [
           0,
           "Bill Scanlon",
           185
          ],
          [
           0,
           "Billy Martin",
           178
          ],
          [
           0,
           "Billy Nealon",
           178
          ],
          [
           10,
           "Bing Chao Lin",
           180
          ],
          [
           33,
           "Bing Pan",
           185
          ],
          [
           45,
           "Bjorn Borg",
           180
          ],
          [
           803,
           "Bjorn Phau",
           175
          ],
          [
           23,
           "Bjorn Rehnquist",
           175
          ],
          [
           0,
           "Blaine Willenborg",
           170
          ],
          [
           8,
           "Blake Strode",
           188
          ],
          [
           515,
           "Blaz Kavcic",
           188
          ],
          [
           0,
           "Boaz Merenstein",
           180
          ],
          [
           390,
           "Bob Bryan",
           193
          ],
          [
           0,
           "Bob Carmichael",
           183
          ],
          [
           0,
           "Bob Green",
           193
          ],
          [
           0,
           "Bob Hewitt",
           190
          ],
          [
           0,
           "Bob Howe",
           183
          ],
          [
           0,
           "Bobby Banck",
           165
          ],
          [
           0,
           "Bobby Blair",
           178
          ],
          [
           21,
           "Bobby Kokavec",
           190
          ],
          [
           885,
           "Bobby Reynolds",
           183
          ],
          [
           1471,
           "Bohdan Ulihrach",
           188
          ],
          [
           35,
           "Bong Soo Kim",
           180
          ],
          [
           2,
           "Bonit Wiryawan",
           173
          ],
          [
           4362,
           "Boris Becker",
           190
          ],
          [
           181,
           "Boris Pashanski",
           180
          ],
          [
           1,
           "Borut Urh",
           190
          ],
          [
           0,
           "Brad Drewett",
           185
          ],
          [
           1200,
           "Brad Gilbert",
           185
          ],
          [
           28,
           "Brad Pearce",
           175
          ],
          [
           435,
           "Bradley Klahn",
           190
          ],
          [
           4,
           "Brandon Coupe",
           183
          ],
          [
           21,
           "Branislav Stankovic",
           175
          ],
          [
           150,
           "Brendan Evans",
           188
          ],
          [
           7,
           "Brent Haygarth",
           185
          ],
          [
           57,
           "Brent Larkham",
           178
          ],
          [
           69,
           "Bret Garnett",
           185
          ],
          [
           1,
           "Bret Richardson",
           178
          ],
          [
           0,
           "Brett Custer",
           183
          ],
          [
           0,
           "Brett Dickinson",
           183
          ],
          [
           0,
           "Brett Greenwood",
           178
          ],
          [
           6,
           "Brett Hansen Dent",
           183
          ],
          [
           1038,
           "Brett Steven",
           185
          ],
          [
           297,
           "Brian Baker",
           190
          ],
          [
           96,
           "Brian Dabul",
           170
          ],
          [
           25,
           "Brian Devening",
           185
          ],
          [
           97,
           "Brian Dunn",
           201
          ],
          [
           20,
           "Brian Garrow",
           173
          ],
          [
           0,
           "Brian Gottfried",
           183
          ],
          [
           0,
           "Brian Gyetko",
           183
          ],
          [
           16,
           "Brian Joelson",
           183
          ],
          [
           0,
           "Brian Levine",
           183
          ],
          [
           540,
           "Brian Macphie",
           180
          ],
          [
           0,
           "Brian Page",
           183
          ],
          [
           0,
           "Brian Roe",
           193
          ],
          [
           0,
           "Brian Teacher",
           190
          ],
          [
           170,
           "Brian Vahaly",
           183
          ],
          [
           23,
           "Brian Wilson",
           190
          ],
          [
           18,
           "Broderick Dyke",
           183
          ],
          [
           1,
           "Bruce Derlin",
           180
          ],
          [
           0,
           "Bruce Foxworth",
           180
          ],
          [
           0,
           "Bruce Kleege",
           190
          ],
          [
           0,
           "Bruce Manson",
           173
          ],
          [
           0,
           "Bruno Dadillon",
           175
          ],
          [
           6,
           "Bruno Echagaray",
           183
          ],
          [
           5,
           "Bruno Oresar",
           175
          ],
          [
           0,
           "Bruno Soares",
           180
          ],
          [
           1786,
           "Bryan Shelton",
           185
          ],
          [
           80,
           "Brydan Klein",
           183
          ],
          [
           0,
           "Bud Schultz",
           193
          ],
          [
           17,
           "Buff Farrow",
           170
          ],
          [
           0,
           "Butch Seewagen",
           188
          ],
          [
           0,
           "Butch Walts",
           193
          ],
          [
           1534,
           "Byron Black",
           175
          ],
          [
           0,
           "Byron Talbot",
           183
          ],
          [
           8,
           "Caio Zampieri",
           183
          ],
          [
           0,
           "Candy Idoko",
           175
          ],
          [
           22,
           "Carl Chang",
           175
          ],
          [
           30,
           "Carl Limberger",
           170
          ],
          [
           615,
           "Carl Uwe Steeb",
           180
          ],
          [
           995,
           "Carlos Berlocq",
           183
          ],
          [
           0,
           "Carlos Castellan",
           190
          ],
          [
           1712,
           "Carlos Costa",
           183
          ],
          [
           16,
           "Carlos Cuadrado",
           180
          ],
          [
           0,
           "Carlos Di Laura",
           175
          ],
          [
           0,
           "Carlos Gattiker",
           175
          ],
          [
           0,
           "Carlos Kirmayr",
           173
          ],
          [
           4392,
           "Carlos Moya",
           190
          ],
          [
           8,
           "Carlos Salamanca",
           196
          ],
          [
           201,
           "Carsten Arriens",
           193
          ],
          [
           236,
           "Carsten Ball",
           198
          ],
          [
           0,
           "Cary Stansbury",
           196
          ],
          [
           63,
           "Cassio Motta",
           180
          ],
          [
           459,
           "Cecil Mamiit",
           173
          ],
          [
           3687,
           "Cedric Pioline",
           188
          ],
          [
           254,
           "Cedrik Marcel Stebe",
           183
          ],
          [
           9,
           "Cesar Kist",
           180
          ],
          [
           1,
           "Charles Auffray",
           183
          ],
          [
           0,
           "Charles Beckman",
           185
          ],
          [
           0,
           "Charles Bud Cox",
           196
          ],
          [
           0,
           "Charles Buzz Strode",
           183
          ],
          [
           0,
           "Charles Honey",
           185
          ],
          [
           0,
           "Charles Merzbacher",
           185
          ],
          [
           0,
           "Charlie Fancutt",
           178
          ],
          [
           0,
           "Charlton Eagle",
           180
          ],
          [
           0,
           "Chemseddine Belal",
           180
          ],
          [
           5,
           "Chi Wan Kim",
           180
          ],
          [
           0,
           "Chip Hooper",
           198
          ],
          [
           0,
           "Choon Ho Kim",
           163
          ],
          [
           73,
           "Chris Bailey",
           196
          ],
          [
           0,
           "Chris Dunk",
           193
          ],
          [
           148,
           "Chris Garner",
           180
          ],
          [
           1386,
           "Chris Guccione",
           201
          ],
          [
           11,
           "Chris Haggard",
           178
          ],
          [
           0,
           "Chris Johnstone",
           175
          ],
          [
           0,
           "Chris Kennedy",
           185
          ],
          [
           0,
           "Chris Lewis",
           180
          ],
          [
           214,
           "Chris Pridham",
           183
          ],
          [
           333,
           "Chris Wilkinson",
           180
          ],
          [
           1255,
           "Chris Woodruff",
           188
          ],
          [
           23,
           "Christer Allgardh",
           190
          ],
          [
           472,
           "Christian Bergstrom",
           180
          ],
          [
           0,
           "Christian Feenstra",
           183
          ],
          [
           0,
           "Christian Geyer",
           183
          ],
          [
           153,
           "Christian Miniussi",
           185
          ],
          [
           582,
           "Christian Ruud",
           188
          ],
          [
           345,
           "Christian Saceanu",
           190
          ],
          [
           200,
           "Christian Vinck",
           183
          ],
          [
           0,
           "Christian Weis",
           180
          ],
          [
           0,
           "Christo Steyn",
           185
          ],
          [
           417,
           "Christo Van Rensburg",
           185
          ],
          [
           0,
           "Christoph Zipf",
           185
          ],
          [
           0,
           "Christophe Bernelle",
           185
          ],
          [
           0,
           "Christophe Casa",
           178
          ],
          [
           0,
           "Christophe Freyss",
           183
          ],
          [
           588,
           "Christophe Rochus",
           170
          ],
          [
           0,
           "Christophe Roger Vasselin",
           188
          ],
          [
           101,
           "Christophe Van Garsse",
           185
          ],
          [
           0,
           "Christopher Kas",
           188
          ],
          [
           2,
           "Christopher Koderisch",
           180
          ],
          [
           709,
           "Chuck Adams",
           185
          ],
          [
           6,
           "Ciprian Petre Porumb",
           196
          ],
          [
           0,
           "Clark Graebner",
           188
          ],
          [
           1,
           "Claude Ngoran",
           190
          ],
          [
           212,
           "Claudio Mezzadri",
           180
          ],
          [
           0,
           "Claudio Panatta",
           178
          ],
          [
           120,
           "Claudio Pistolesi",
           180
          ],
          [
           23,
           "Clemens Trimmel",
           185
          ],
          [
           30,
           "Clement Ngoran",
           178
          ],
          [
           0,
           "Cliff Drysdale",
           188
          ],
          [
           0,
           "Cliff Richey",
           175
          ],
          [
           1,
           "Clinton Marsh",
           188
          ],
          [
           0,
           "Colin Dibley",
           188
          ],
          [
           0,
           "Colin Dowdeswell",
           185
          ],
          [
           11,
           "Colin Fleming",
           188
          ],
          [
           0,
           "Conny Falk",
           188
          ],
          [
           14,
           "Conor Niland",
           185
          ],
          [
           2,
           "Constantinos Efremoglou",
           188
          ],
          [
           0,
           "Corrado Aprili",
           190
          ],
          [
           0,
           "Corrado Barazzutti",
           178
          ],
          [
           25,
           "Corrado Borroni",
           185
          ],
          [
           0,
           "Craig A Miller",
           188
          ],
          [
           0,
           "Craig Boynton",
           183
          ],
          [
           0,
           "Craig Campbell",
           190
          ],
          [
           0,
           "Craig Edwards",
           175
          ],
          [
           0,
           "Craig Wittus",
           180
          ],
          [
           357,
           "Cristiano Caratti",
           178
          ],
          [
           1321,
           "Cyril Saulnier",
           190
          ],
          [
           2,
           "Cyril Suk",
           180
          ],
          [
           0,
           "Dacio Campos",
           185
          ],
          [
           0,
           "Dale Houston",
           188
          ],
          [
           6,
           "Damir Buljevic",
           196
          ],
          [
           578,
           "Damir Dzumhur",
           172
          ],
          [
           0,
           "Damir Keretic",
           178
          ],
          [
           0,
           "Dan Cassidy",
           178
          ],
          [
           0,
           "Dan Goldberg",
           185
          ],
          [
           76,
           "Dan Goldie",
           188
          ],
          [
           0,
           "Dan Nahirny",
           190
          ],
          [
           240,
           "Danai Udomchoke",
           173
          ],
          [
           22,
           "Danie Visser",
           180
          ],
          [
           1,
           "Daniel Berta",
           178
          ],
          [
           1335,
           "Daniel Brands",
           196
          ],
          [
           33,
           "Daniel Courcol",
           190
          ],
          [
           23,
           "Daniel Cox",
           170
          ],
          [
           0,
           "Daniel Dutra Da Silva",
           175
          ],
          [
           95,
           "Daniel Elsner",
           183
          ],
          [
           635,
           "Daniel Evans",
           175
          ],
          [
           1221,
           "Daniel Gimeno Traver",
           185
          ],
          [
           28,
           "Daniel King Turner",
           190
          ],
          [
           86,
           "Daniel Koellerer",
           180
          ],
          [
           8,
           "Daniel Marco",
           178
          ],
          [
           3,
           "Daniel Melo",
           185
          ],
          [
           0,
           "Daniel Montes De Oca",
           170
          ],
          [
           1429,
           "Daniel Nestor",
           190
          ],
          [
           66,
           "Daniel Orsanic",
           183
          ],
          [
           2615,
           "Daniel Vacek",
           190
          ],
          [
           621,
           "Daniele Bracciali",
           180
          ],
          [
           42,
           "Daniele Musa",
           183
          ],
          [
           149,
           "Danilo Marcelino",
           193
          ],
          [
           0,
           "Danny Saltz",
           193
          ],
          [
           98,
           "Danny Sapsford",
           173
          ],
          [
           129,
           "Darren Cahill",
           185
          ],
          [
           0,
           "Darren Patten",
           188
          ],
          [
           120,
           "Dave Randall",
           183
          ],
          [
           108,
           "David Adams",
           188
          ],
          [
           2,
           "David Caballero",
           180
          ],
          [
           9,
           "David Caldwell",
           180
          ],
          [
           0,
           "David Carter",
           183
          ],
          [
           0,
           "David De Miguel",
           175
          ],
          [
           120,
           "David Dilucia",
           173
          ],
          [
           0,
           "David Dowlen",
           178
          ],
          [
           100,
           "David Engel",
           180
          ],
          [
           0,
           "David Felgate",
           180
          ],
          [
           2926,
           "David Ferrer",
           175
          ],
          [
           2433,
           "David Goffin",
           163
          ],
          [
           0,
           "David Graham",
           180
          ],
          [
           23,
           "David Guez",
           185
          ],
          [
           0,
           "David Kass",
           180
          ],
          [
           0,
           "David Lewis",
           180
          ],
          [
           0,
           "David Livingston",
           180
          ],
          [
           1,
           "David Macpherson",
           175
          ],
          [
           49,
           "David Marrero",
           185
          ],
          [
           2,
           "David Martin",
           185
          ],
          [
           7,
           "David Miketa",
           183
          ],
          [
           0,
           "David Mustard",
           180
          ],
          [
           188,
           "David Nainkin",
           183
          ],
          [
           2030,
           "David Nalbandian",
           180
          ],
          [
           209,
           "David Pate",
           183
          ],
          [
           2691,
           "David Prinosil",
           185
          ],
          [
           390,
           "David Rikl",
           178
          ],
          [
           480,
           "David Sanchez",
           183
          ],
          [
           0,
           "David Schneider",
           185
          ],
          [
           12,
           "David Sherwood",
           193
          ],
          [
           23,
           "David Skoch",
           183
          ],
          [
           0,
           "David Smith",
           180
          ],
          [
           0,
           "David Wells Roth",
           178
          ],
          [
           2471,
           "David Wheaton",
           193
          ],
          [
           281,
           "David Witt",
           190
          ],
          [
           2134,
           "Davide Sanguinetti",
           188
          ],
          [
           64,
           "Davide Scala",
           180
          ],
          [
           0,
           "Dean Botha",
           175
          ],
          [
           0,
           "Denes Lukacs",
           180
          ],
          [
           15,
           "Denis Golovanov",
           188
          ],
          [
           352,
           "Denis Gremelmayr",
           183
          ],
          [
           2956,
           "Denis Istomin",
           188
          ],
          [
           877,
           "Denis Kudla",
           180
          ],
          [
           0,
           "Denis Langaskens",
           193
          ],
          [
           8,
           "Denis Matsukevitch",
           190
          ],
          [
           0,
           "Dennis Ralston",
           188
          ],
          [
           4,
           "Dennis Schmid",
           193
          ],
          [
           416,
           "Dennis Van Scheppingen",
           185
          ],
          [
           0,
           "Denys Maasdorp",
           183
          ],
          [
           0,
           "Derek Farren",
           183
          ],
          [
           0,
           "Derek Segal",
           178
          ],
          [
           0,
           "Derek Tarr",
           185
          ],
          [
           966,
           "Derrick Rostagno",
           185
          ],
          [
           0,
           "Desmond Tyson",
           185
          ],
          [
           24,
           "Devin Britton",
           193
          ],
          [
           0,
           "Dexter Macbride",
           193
          ],
          [
           927,
           "Dick Norman",
           203
          ],
          [
           0,
           "Dick Stockton",
           188
          ],
          [
           13,
           "Didac Perez",
           178
          ],
          [
           9,
           "Diego Ayala",
           175
          ],
          [
           5,
           "Diego Del Rio",
           175
          ],
          [
           168,
           "Diego Hartfield",
           185
          ],
          [
           44,
           "Diego Junqueira",
           178
          ],
          [
           11,
           "Diego Moyano",
           175
          ],
          [
           1128,
           "Diego Nargiso",
           188
          ],
          [
           114,
           "Diego Perez",
           178
          ],
          [
           689,
           "Diego Schwartzman",
           170
          ],
          [
           17,
           "Diego Veronelli",
           193
          ],
          [
           19,
           "Dieter Kindlmann",
           183
          ],
          [
           146,
           "Dimitri Poliakov",
           183
          ],
          [
           183,
           "Dinu Pescariu",
           185
          ],
          [
           105,
           "Dirk Dier",
           185
          ],
          [
           0,
           "Dirk Leppen",
           180
          ],
          [
           3219,
           "Dmitry Tursunov",
           185
          ],
          [
           1,
           "Dmitry Vlasov",
           188
          ],
          [
           2605,
           "Dominic Thiem",
           185
          ],
          [
           0,
           "Dominik Guido Utzinger",
           193
          ],
          [
           3181,
           "Dominik Hrbaty",
           183
          ],
          [
           89,
           "Dominik Meffert",
           198
          ],
          [
           0,
           "Dominique Bedel",
           185
          ],
          [
           0,
           "Don Mccormick",
           180
          ],
          [
           0,
           "Donald Dell",
           185
          ],
          [
           69,
           "Donald Johnson",
           190
          ],
          [
           1008,
           "Donald Young",
           183
          ],
          [
           0,
           "Dong Wook Song",
           175
          ],
          [
           0,
           "Donni Leaycraft",
           180
          ],
          [
           1,
           "Donny Susetyo",
           170
          ],
          [
           0,
           "Doug Burke",
           180
          ],
          [
           0,
           "Doug Crawford",
           188
          ],
          [
           213,
           "Doug Flach",
           183
          ],
          [
           0,
           "Drew Gitlin",
           178
          ],
          [
           684,
           "Dudi Sela",
           175
          ],
          [
           1100,
           "Dusan Lajovic",
           180
          ],
          [
           193,
           "Dusan Vemic",
           190
          ],
          [
           1407,
           "Dustin Brown",
           196
          ],
          [
           0,
           "E Victor Seixas",
           185
          ],
          [
           0,
           "Earl Butch Buchholz",
           188
          ],
          [
           0,
           "Eddie Dibbs",
           170
          ],
          [
           0,
           "Eddie Edwards",
           190
          ],
          [
           72,
           "Edgardo Massa",
           180
          ],
          [
           0,
           "Edoardo Mazza",
           175
          ],
          [
           893,
           "Edouard Roger Vasselin",
           188
          ],
          [
           6,
           "Eduardo Bengoechea",
           185
          ],
          [
           0,
           "Eduardo Furusho",
           168
          ],
          [
           37,
           "Eduardo Masso",
           178
          ],
          [
           10,
           "Eduardo Medica",
           180
          ],
          [
           11,
           "Eduardo Nicolas",
           173
          ],
          [
           0,
           "Eduardo Osta",
           160
          ],
          [
           384,
           "Eduardo Schwank",
           183
          ],
          [
           0,
           "Eduardo Velez",
           175
          ],
          [
           0,
           "Edvaldo Oliveira",
           178
          ],
          [
           137,
           "Edwin Kempes",
           188
          ],
          [
           0,
           "Egan Adams",
           178
          ],
          [
           0,
           "Eliot Teltscher",
           178
          ],
          [
           64,
           "Ellis Ferreira",
           188
          ],
          [
           37,
           "Emanuel Couto",
           183
          ],
          [
           458,
           "Emilio Benfele Alvarez",
           183
          ],
          [
           990,
           "Emilio Sanchez",
           180
          ],
          [
           0,
           "Emmanuel Marmillod",
           180
          ],
          [
           0,
           "Enrico Cocchi",
           190
          ],
          [
           0,
           "Eoin Collins",
           193
          ],
          [
           0,
           "Eric Amend",
           180
          ],
          [
           0,
           "Eric Fromm",
           178
          ],
          [
           49,
           "Eric Jelen",
           180
          ],
          [
           0,
           "Eric Korita",
           196
          ],
          [
           68,
           "Eric Prodon",
           178
          ],
          [
           0,
           "Eric Rosenfeld",
           180
          ],
          [
           0,
           "Eric Sherbeck",
           193
          ],
          [
           141,
           "Eric Taino",
           175
          ],
          [
           22,
           "Eric Winogradsky",
           188
          ],
          [
           0,
           "Erick Iskersky",
           180
          ],
          [
           0,
           "Erik Van Dillen",
           183
          ],
          [
           0,
           "Erik Vant Hof",
           188
          ],
          [
           4239,
           "Ernests Gulbis",
           190
          ],
          [
           0,
           "Ernie Fernandez",
           190
          ],
          [
           23,
           "Eui Jong Chang",
           183
          ],
          [
           7,
           "Evan King",
           185
          ],
          [
           800,
           "Evgeny Donskoy",
           185
          ],
          [
           805,
           "Evgeny Korolev",
           185
          ],
          [
           38,
           "Eyal Erlich",
           183
          ],
          [
           141,
           "Eyal Ran",
           183
          ],
          [
           2172,
           "Fabio Fognini",
           178
          ],
          [
           3,
           "Fabio Maggi",
           175
          ],
          [
           3,
           "Fabio Silberberg",
           190
          ],
          [
           2609,
           "Fabrice Santoro",
           178
          ],
          [
           27,
           "Farrukh Dustov",
           196
          ],
          [
           96,
           "Federico Browne",
           180
          ],
          [
           1040,
           "Federico Delbonis",
           190
          ],
          [
           149,
           "Federico Luzzi",
           188
          ],
          [
           3,
           "Federico Mordegan",
           170
          ],
          [
           8,
           "Federico Sanchez",
           168
          ],
          [
           9733,
           "Feliciano Lopez",
           188
          ],
          [
           5,
           "Felipe Parada",
           175
          ],
          [
           33,
           "Felipe Rivera",
           183
          ],
          [
           8,
           "Felix Barrientos",
           178
          ],
          [
           1494,
           "Felix Mantilla",
           180
          ],
          [
           0,
           "Ferdi Taygan",
           173
          ],
          [
           3729,
           "Fernando Gonzalez",
           183
          ],
          [
           1,
           "Fernando Luna",
           175
          ],
          [
           1344,
           "Fernando Meligeni",
           180
          ],
          [
           108,
           "Fernando Roese",
           190
          ],
          [
           1,
           "Fernando Romboli",
           180
          ],
          [
           0,
           "Fernando Soler",
           185
          ],
          [
           5304,
           "Fernando Verdasco",
           188
          ],
          [
           1100,
           "Fernando Vicente",
           180
          ],
          [
           237,
           "Fernon Wibier",
           188
          ],
          [
           0,
           "Ferrante Rocchi",
           180
          ],
          [
           760,
           "Filip Dewulf",
           190
          ],
          [
           721,
           "Filip Krajinovic",
           185
          ],
          [
           0,
           "Filip Polasek",
           196
          ],
          [
           38,
           "Filip Prpic",
           173
          ],
          [
           5,
           "Filip Urban",
           193
          ],
          [
           12,
           "Filippo Messori",
           173
          ],
          [
           276,
           "Filippo Volandri",
           183
          ],
          [
           82,
           "Flavio Cipolla",
           173
          ],
          [
           580,
           "Flavio Saretta",
           183
          ],
          [
           1106,
           "Florent Serra",
           180
          ],
          [
           6,
           "Florian Krumrey",
           190
          ],
          [
           2034,
           "Florian Mayer",
           190
          ],
          [
           11,
           "Florin Mergea",
           180
          ],
          [
           0,
           "Florin Segarceanu",
           180
          ],
          [
           4,
           "Francesco Aldi",
           175
          ],
          [
           5,
           "Francesco Cancellotti",
           183
          ],
          [
           14,
           "Francisco Cabello",
           190
          ],
          [
           1227,
           "Francisco Clavet",
           183
          ],
          [
           15,
           "Francisco Costa",
           180
          ],
          [
           8,
           "Francisco Fogues",
           190
          ],
          [
           0,
           "Francisco Gonzalez",
           193
          ],
          [
           0,
           "Francisco Maciel",
           185
          ],
          [
           72,
           "Francisco Montana",
           183
          ],
          [
           248,
           "Francisco Roig",
           175
          ],
          [
           10,
           "Francisco Yunis",
           190
          ],
          [
           180,
           "Franco Davin",
           173
          ],
          [
           15,
           "Franco Ferreiro",
           188
          ],
          [
           1090,
           "Franco Squillari",
           183
          ],
          [
           0,
           "Francois Errard",
           180
          ],
          [
           0,
           "Francois Jauffret",
           180
          ],
          [
           1247,
           "Frank Dancevic",
           185
          ],
          [
           0,
           "Frank Dennhardt",
           188
          ],
          [
           0,
           "Frank Froehling",
           190
          ],
          [
           11,
           "Frank Moser",
           193
          ],
          [
           143,
           "Franko Skugor",
           193
          ],
          [
           81,
           "Frantisek Cermak",
           193
          ],
          [
           12,
           "Fred Hemmes",
           183
          ],
          [
           0,
           "Fred Mcnair",
           183
          ],
          [
           0,
           "Fred Stolle",
           190
          ],
          [
           82,
           "Frederic Fontang",
           183
          ],
          [
           289,
           "Frederic Niemeyer",
           190
          ],
          [
           11,
           "Frederic Vitoux",
           173
          ],
          [
           276,
           "Frederico Gil",
           178
          ],
          [
           350,
           "Frederik Fetterlein",
           190
          ],
          [
           89,
           "Frederik Nielsen",
           190
          ],
          [
           8,
           "Fredrik Bergh",
           193
          ],
          [
           209,
           "Fredrik Jonsson",
           193
          ],
          [
           0,
           "Fredrik Rosenquist",
           180
          ],
          [
           0,
           "Fredrik Waern",
           185
          ],
          [
           0,
           "Frew Mcmillan",
           183
          ],
          [
           0,
           "Fritz Buehning",
           196
          ],
          [
           2,
           "G Jones",
           183
          ],
          [
           198,
           "Gabriel Markus",
           180
          ],
          [
           3,
           "Gabriel Moraru",
           180
          ],
          [
           29,
           "Gabriel Silberstein",
           178
          ],
          [
           72,
           "Gabriel Trifu",
           193
          ],
          [
           0,
           "Gabriel Urpi",
           173
          ],
          [
           6201,
           "Gael Monfils",
           193
          ],
          [
           1309,
           "Galo Blanco",
           173
          ],
          [
           0,
           "Gap Taik Ro",
           173
          ],
          [
           0,
           "Gary Donnelly",
           190
          ],
          [
           0,
           "Gary Lemon",
           190
          ],
          [
           696,
           "Gary Muller",
           190
          ],
          [
           0,
           "Gary Plock",
           175
          ],
          [
           305,
           "Gastao Elias",
           178
          ],
          [
           418,
           "Gaston Etlis",
           185
          ],
          [
           1215,
           "Gaston Gaudio",
           175
          ],
          [
           0,
           "Gd Jones",
           183
          ],
          [
           0,
           "Gene Mayer",
           183
          ],
          [
           0,
           "Gene Scott",
           185
          ],
          [
           101,
           "Geoff Grant",
           183
          ],
          [
           0,
           "Geoff Roper",
           183
          ],
          [
           0,
           "George Amaya",
           173
          ],
          [
           678,
           "George Bastl",
           183
          ],
          [
           3,
           "George Bezecny",
           183
          ],
          [
           2,
           "George Cosac",
           190
          ],
          [
           18,
           "George Kalovelonis",
           190
          ],
          [
           0,
           "Georges Goven",
           173
          ],
          [
           0,
           "Gerald Battrick",
           178
          ],
          [
           42,
           "Gerald Mandl",
           190
          ],
          [
           0,
           "Gerald Marzenell",
           180
          ],
          [
           196,
           "Gerard Solves",
           185
          ],
          [
           0,
           "Gerard Toulon",
           185
          ],
          [
           0,
           "Gerardo Mirad",
           180
          ],
          [
           422,
           "German Lopez",
           193
          ],
          [
           55,
           "German Puentes",
           173
          ],
          [
           0,
           "Gerry Perry",
           168
          ],
          [
           1518,
           "Gianluca Pozzi",
           180
          ],
          [
           13,
           "Gianni Mina",
           185
          ],
          [
           0,
           "Gianni Ocleppo",
           183
          ],
          [
           176,
           "Gilad Bloom",
           173
          ],
          [
           286,
           "Gilbert Schaller",
           180
          ],
          [
           258,
           "Gilles Elseneer",
           188
          ],
          [
           0,
           "Gilles Moretton",
           190
          ],
          [
           5349,
           "Gilles Muller",
           193
          ],
          [
           3657,
           "Gilles Simon",
           183
          ],
          [
           65,
           "Giorgio Galimberti",
           180
          ],
          [
           108,
           "Giovanni Lapentti",
           193
          ],
          [
           5,
           "Girts Dzelde",
           173
          ],
          [
           0,
           "Givaldo Barbosa",
           183
          ],
          [
           116,
           "Glenn Layendecker",
           185
          ],
          [
           33,
           "Glenn Michibata",
           175
          ],
          [
           324,
           "Glenn Weiner",
           188
          ],
          [
           336,
           "Go Soeda",
           178
          ],
          [
           10131,
           "Goran Ivanisevic",
           193
          ],
          [
           308,
           "Goran Prpic",
           180
          ],
          [
           4,
           "Gorka Fraile",
           180
          ],
          [
           68,
           "Gouichi Motomura",
           173
          ],
          [
           0,
           "Graham Stilwell",
           173
          ],
          [
           387,
           "Grant Connell",
           185
          ],
          [
           58,
           "Grant Doyle",
           180
          ],
          [
           0,
           "Grant Golden",
           175
          ],
          [
           0,
           "Grant Saacks",
           190
          ],
          [
           680,
           "Grant Stafford",
           188
          ],
          [
           0,
           "Greg Failla",
           180
          ],
          [
           0,
           "Greg Halder",
           188
          ],
          [
           0,
           "Greg Holmes",
           178
          ],
          [
           52,
           "Greg Jones",
           190
          ],
          [
           7589,
           "Greg Rusedski",
           193
          ],
          [
           0,
           "Greg Van Emburgh",
           188
          ],
          [
           0,
           "Greg Whitecross",
           185
          ],
          [
           547,
           "Grega Zemlja",
           183
          ],
          [
           198,
           "Gregoire Barrere",
           183
          ],
          [
           0,
           "Gregoire Rafaitin",
           180
          ],
          [
           960,
           "Gregory Carraz",
           190
          ],
          [
           3666,
           "Grigor Dimitrov",
           188
          ],
          [
           4,
           "Grzegorz Panfil",
           183
          ],
          [
           1202,
           "Guido Pella",
           185
          ],
          [
           1821,
           "Guillaume Raoux",
           180
          ],
          [
           313,
           "Guillaume Rufin",
           188
          ],
          [
           11,
           "Guillermo Alcaide",
           188
          ],
          [
           2152,
           "Guillermo Canas",
           185
          ],
          [
           917,
           "Guillermo Coria",
           175
          ],
          [
           2360,
           "Guillermo Garcia Lopez",
           188
          ],
          [
           160,
           "Guillermo Perez Roldan",
           178
          ],
          [
           0,
           "Guillermo Rivas",
           183
          ],
          [
           0,
           "Guillermo Stevens",
           180
          ],
          [
           0,
           "Guillermo Vilas",
           180
          ],
          [
           0,
           "Gustav Fichardt",
           185
          ],
          [
           0,
           "Gustavo Garetto",
           190
          ],
          [
           0,
           "Gustavo Giussani",
           180
          ],
          [
           0,
           "Gustavo Guerrero",
           180
          ],
          [
           4290,
           "Gustavo Kuerten",
           190
          ],
          [
           0,
           "Gustavo Luza",
           185
          ],
          [
           0,
           "Gustavo Tiberti",
           175
          ],
          [
           2493,
           "Guy Forget",
           190
          ],
          [
           0,
           "Hank Pfister",
           193
          ],
          [
           0,
           "Hans Dieter Beutel",
           185
          ],
          [
           0,
           "Hans Fredborg",
           183
          ],
          [
           0,
           "Hans Gildemeister",
           183
          ],
          [
           0,
           "Hans Peter Kandler",
           185
          ],
          [
           0,
           "Hans Schwaier",
           173
          ],
          [
           0,
           "Hans Simonsson",
           178
          ],
          [
           0,
           "Harald Rittersbacher",
           188
          ],
          [
           497,
           "Harel Levy",
           185
          ],
          [
           0,
           "Harold Solomon",
           168
          ],
          [
           0,
           "Haroon Ismail",
           178
          ],
          [
           7,
           "Harsh Mankad",
           173
          ],
          [
           33,
           "Heath Denman",
           183
          ],
          [
           1,
           "Hector Moretti",
           170
          ],
          [
           0,
           "Hector Ortiz",
           180
          ],
          [
           0,
           "Heiner Moraing",
           190
          ],
          [
           0,
           "Heinz Gildemeister",
           178
          ],
          [
           0,
           "Heinz Gunthardt",
           180
          ],
          [
           1090,
           "Hendrik Dreekmann",
           188
          ],
          [
           124,
           "Hendrik Jan Davids",
           183
          ],
          [
           0,
           "Henri De Wet",
           188
          ],
          [
           783,
           "Henri Leconte",
           185
          ],
          [
           1670,
           "Henrik Holm",
           183
          ],
          [
           0,
           "Henrik Sundstrom",
           188
          ],
          [
           25,
           "Herbert Wiltschnig",
           185
          ],
          [
           18,
           "Hermes Gamonal",
           180
          ],
          [
           633,
           "Hernan Gumy",
           188
          ],
          [
           0,
           "Herve Gauvain",
           180
          ],
          [
           2,
           "Herve Grenier",
           190
          ],
          [
           1632,
           "Hicham Arazi",
           175
          ],
          [
           129,
           "Horacio De La Pena",
           180
          ],
          [
           1286,
           "Horacio Zeballos",
           188
          ],
          [
           8,
           "Horia Tecau",
           193
          ],
          [
           518,
           "Horst Skoff",
           175
          ],
          [
           0,
           "Howard Herr",
           170
          ],
          [
           0,
           "Howard Sands",
           173
          ],
          [
           126,
           "Hugo Armando",
           183
          ],
          [
           0,
           "Hugo Chapacu",
           178
          ],
          [
           0,
           "Hugo Nunez",
           170
          ],
          [
           0,
           "Huub Van Boeckel",
           190
          ],
          [
           902,
           "Hyung Taik Lee",
           180
          ],
          [
           21,
           "Ignacio Hirigoyen",
           183
          ],
          [
           4,
           "Ignacio Martinez",
           185
          ],
          [
           17,
           "Ignacio Truyol",
           170
          ],
          [
           2129,
           "Igor Andreev",
           185
          ],
          [
           10,
           "Igor Gaudi",
           188
          ],
          [
           648,
           "Igor Kunitsyn",
           180
          ],
          [
           5,
           "Igor Saric",
           190
          ],
          [
           956,
           "Igor Sijsling",
           190
          ],
          [
           0,
           "Ilie Nastase",
           183
          ],
          [
           349,
           "Ilija Bozoljac",
           193
          ],
          [
           621,
           "Illya Marchenko",
           185
          ],
          [
           1,
           "Ilya Belyaev",
           180
          ],
          [
           0,
           "Ingo Neumuller",
           183
          ],
          [
           24,
           "Ion Moldovan",
           188
          ],
          [
           550,
           "Irakli Labadze",
           188
          ],
          [
           18,
           "Ivan Baron",
           185
          ],
          [
           0,
           "Ivan Cerovic",
           190
          ],
          [
           2051,
           "Ivan Dodig",
           183
          ],
          [
           0,
           "Ivan Kley",
           183
          ],
          [
           1701,
           "Ivan Lendl",
           188
          ],
          [
           8108,
           "Ivan Ljubicic",
           193
          ],
          [
           55,
           "Ivan Miranda",
           175
          ],
          [
           671,
           "Ivan Navarro",
           183
          ],
          [
           6,
           "Ivaylo Traykov",
           188
          ],
          [
           670,
           "Ivo Heuberger",
           188
          ],
          [
           13653,
           "Ivo Karlovic",
           208
          ],
          [
           14,
           "Ivo Klec",
           183
          ],
          [
           528,
           "Ivo Minar",
           183
          ],
          [
           0,
           "Ivo Werner",
           180
          ],
          [
           98,
           "Izak Van Der Merwe",
           196
          ],
          [
           1926,
           "Jacco Eltingh",
           188
          ],
          [
           49,
           "Jack Brasington",
           188
          ],
          [
           1980,
           "Jack Sock",
           185
          ],
          [
           12,
           "Jack Waite",
           185
          ],
          [
           202,
           "Jacobo Diaz",
           173
          ],
          [
           0,
           "Jacques Manset",
           185
          ],
          [
           0,
           "Jaime Fillol",
           180
          ],
          [
           392,
           "Jaime Oncins",
           196
          ],
          [
           461,
           "Jaime Yzaga",
           170
          ],
          [
           0,
           "Jairo Velasco Jr",
           183
          ],
          [
           1803,
           "Jakob Hlasek",
           188
          ],
          [
           3472,
           "James Blake",
           185
          ],
          [
           760,
           "James Duckworth",
           183
          ],
          [
           27,
           "James Greenhalgh",
           183
          ],
          [
           0,
           "James Schor",
           185
          ],
          [
           48,
           "James Sekulov",
           180
          ],
          [
           0,
           "James Turner",
           180
          ],
          [
           462,
           "James Ward",
           190
          ],
          [
           202,
           "Jamie Delgado",
           178
          ],
          [
           1198,
           "Jamie Morgan",
           185
          ],
          [
           0,
           "Jamie Murray",
           190
          ],
          [
           492,
           "Jan Apell",
           183
          ],
          [
           35,
           "Jan Frode Andersen",
           190
          ],
          [
           209,
           "Jan Gunnarsson",
           185
          ],
          [
           321,
           "Jan Hajek",
           180
          ],
          [
           575,
           "Jan Hernych",
           190
          ],
          [
           0,
           "Jan Kodes",
           175
          ],
          [
           1,
           "Jan Kodes Jr",
           178
          ],
          [
           829,
           "Jan Kroslak",
           188
          ],
          [
           17,
           "Jan Mertl",
           190
          ],
          [
           4170,
           "Jan Michael Gambill",
           190
          ],
          [
           0,
           "Jan Sandberg",
           188
          ],
          [
           3386,
           "Jan Siemerink",
           183
          ],
          [
           407,
           "Jan Vacek",
           198
          ],
          [
           0,
           "Jan Willem Lodder",
           193
          ],
          [
           3452,
           "Janko Tipsarevic",
           180
          ],
          [
           546,
           "Jared Palmer",
           190
          ],
          [
           2181,
           "Jarkko Nieminen",
           185
          ],
          [
           0,
           "Jaromir Becka",
           175
          ],
          [
           6,
           "Jaroslav Bulant",
           175
          ],
          [
           1,
           "Jaroslav Levinsky",
           196
          ],
          [
           0,
           "Jaroslav Navratil",
           196
          ],
          [
           3,
           "Jason Cask",
           178
          ],
          [
           0,
           "Jason Goodall",
           178
          ],
          [
           0,
           "Jason Netter",
           178
          ],
          [
           2428,
           "Jason Stoltenberg",
           185
          ],
          [
           0,
           "Javier Contreras",
           173
          ],
          [
           1360,
           "Javier Frana",
           185
          ],
          [
           1,
           "Javier Molina",
           178
          ],
          [
           1222,
           "Javier Sanchez",
           178
          ],
          [
           11,
           "Jay Berger",
           180
          ],
          [
           2,
           "Jay Gooding",
           188
          ],
          [
           0,
           "Jay Lapidus",
           188
          ],
          [
           33,
           "Jaymon Crabb",
           183
          ],
          [
           46,
           "Jean Baptiste Perlant",
           190
          ],
          [
           33,
           "Jean Christophe Faurel",
           175
          ],
          [
           60,
           "Jean Claude Scherrer",
           188
          ],
          [
           39,
           "Jean Francois Bachelot",
           183
          ],
          [
           0,
           "Jean Julien Rojer",
           183
          ],
          [
           0,
           "Jean Luc Cotard",
           178
          ],
          [
           0,
           "Jean Marc Piacentile",
           178
          ],
          [
           479,
           "Jean Philippe Fleurian",
           185
          ],
          [
           260,
           "Jean Rene Lisnard",
           173
          ],
          [
           0,
           "Jeff Borowiak",
           193
          ],
          [
           0,
           "Jeff Brown",
           193
          ],
          [
           0,
           "Jeff Coetzee",
           173
          ],
          [
           0,
           "Jeff Klaparda",
           173
          ],
          [
           702,
           "Jeff Morrison",
           185
          ],
          [
           472,
           "Jeff Salzenstein",
           185
          ],
          [
           1817,
           "Jeff Tarango",
           180
          ],
          [
           0,
           "Jeff Turpin",
           188
          ],
          [
           811,
           "Jens Knippschild",
           190
          ],
          [
           22,
           "Jens Woehrmann",
           180
          ],
          [
           427,
           "Jeremy Bates",
           180
          ],
          [
           4583,
           "Jeremy Chardy",
           188
          ],
          [
           1557,
           "Jerome Golmard",
           188
          ],
          [
           105,
           "Jerome Haehnel",
           185
          ],
          [
           10,
           "Jerome Hanquez",
           185
          ],
          [
           0,
           "Jerome Potier",
           180
          ],
          [
           0,
           "Jerome Vanier",
           175
          ],
          [
           1585,
           "Jerzy Janowicz",
           203
          ],
          [
           207,
           "Jesse Huta Galung",
           188
          ],
          [
           470,
           "Jesse Levine",
           175
          ],
          [
           68,
           "Jesse Witten",
           178
          ],
          [
           0,
           "Jesus Colas",
           170
          ],
          [
           3,
           "Jia Ping Xia",
           165
          ],
          [
           2852,
           "Jim Courier",
           185
          ],
          [
           1240,
           "Jim Grabb",
           193
          ],
          [
           0,
           "Jim Gurfein",
           175
          ],
          [
           0,
           "Jim Mcmanus",
           175
          ],
          [
           0,
           "Jim Osborne",
           185
          ],
          [
           50,
           "Jim Pugh",
           193
          ],
          [
           7,
           "Jim Thomas",
           193
          ],
          [
           136,
           "Jimmy Arias",
           175
          ],
          [
           17,
           "Jimmy Brown",
           180
          ],
          [
           140,
           "Jimmy Connors",
           178
          ],
          [
           232,
           "Jimmy Wang",
           178
          ],
          [
           29,
           "Jimy Szymanski",
           175
          ],
          [
           0,
           "Jin Sun Yoo",
           185
          ],
          [
           0,
           "Jiri Granat",
           185
          ],
          [
           2245,
           "Jiri Novak",
           190
          ],
          [
           1104,
           "Jiri Vanek",
           185
          ],
          [
           6604,
           "Jo-Wilfried Tsonga",
           188
          ],
          [
           1723,
           "Joachim Johansson",
           198
          ],
          [
           0,
           "Joakim Berner",
           178
          ],
          [
           0,
           "Joakim Nystrom",
           188
          ],
          [
           164,
           "Joao Cunha Silva",
           173
          ],
          [
           0,
           "Joao Soares",
           185
          ],
          [
           1467,
           "Joao Sousa",
           185
          ],
          [
           383,
           "Joao Souza",
           193
          ],
          [
           4,
           "Joao Zwetsch",
           180
          ],
          [
           0,
           "Joe De Foor",
           188
          ],
          [
           666,
           "Joern Renzenbrink",
           196
          ],
          [
           0,
           "Joey Blake",
           178
          ],
          [
           5,
           "Joey Rive",
           185
          ],
          [
           26,
           "Johan Anderson",
           183
          ],
          [
           31,
           "Johan Carlsson",
           183
          ],
          [
           1,
           "Johan De Beer",
           190
          ],
          [
           1,
           "Johan Donar",
           180
          ],
          [
           53,
           "Johan Kriek",
           175
          ],
          [
           2,
           "Johan Landsberg",
           183
          ],
          [
           0,
           "Johan Sandberg",
           193
          ],
          [
           18,
           "Johan Settergren",
           185
          ],
          [
           482,
           "Johan Van Herck",
           185
          ],
          [
           0,
           "Johan Vekemans",
           185
          ],
          [
           4,
           "Johannes Ager",
           196
          ],
          [
           0,
           "John Alexander",
           190
          ],
          [
           0,
           "John Austin",
           193
          ],
          [
           0,
           "John Barrett",
           185
          ],
          [
           0,
           "John Bartlett",
           188
          ],
          [
           0,
           "John Boytim",
           175
          ],
          [
           0,
           "John Feaver",
           190
          ],
          [
           90,
           "John Fitzgerald",
           183
          ],
          [
           0,
           "John Frawley",
           173
          ],
          [
           0,
           "John Hayes",
           193
          ],
          [
           12569,
           "John Isner",
           206
          ],
          [
           0,
           "John James",
           183
          ],
          [
           5,
           "John Laffnie De Jager",
           193
          ],
          [
           0,
           "John Letts",
           185
          ],
          [
           0,
           "John Lloyd",
           178
          ],
          [
           0,
           "John Mattke",
           183
          ],
          [
           514,
           "John McEnroe",
           180
          ],
          [
           0,
           "John Mccurdy",
           188
          ],
          [
           844,
           "John Millman",
           183
          ],
          [
           0,
           "John Newcombe",
           183
          ],
          [
           8,
           "John Paul Fruttero",
           185
          ],
          [
           7,
           "John Ross",
           185
          ],
          [
           0,
           "John Sadri",
           188
          ],
          [
           1,
           "John Sobel",
           173
          ],
          [
           5,
           "John Stimpson",
           183
          ],
          [
           21,
           "John Sullivan",
           188
          ],
          [
           567,
           "John Van Lottum",
           185
          ],
          [
           0,
           "John Whitlinger",
           180
          ],
          [
           0,
           "Johnny Goudenbour",
           178
          ],
          [
           0,
           "Jon Levine",
           178
          ],
          [
           0,
           "Jon Sorbo",
           190
          ],
          [
           3085,
           "Jonas Bjorkman",
           183
          ],
          [
           492,
           "Jonas Svensson",
           188
          ],
          [
           22,
           "Jonathan Canter",
           185
          ],
          [
           54,
           "Jonathan Erlich",
           180
          ],
          [
           8,
           "Jonathan Eysseric",
           180
          ],
          [
           0,
           "Jonathan Smith",
           188
          ],
          [
           2555,
           "Jonathan Stark",
           188
          ],
          [
           107,
           "Joost Winnink",
           180
          ],
          [
           248,
           "Jordi Arrese",
           175
          ],
          [
           1265,
           "Jordi Burillo",
           188
          ],
          [
           0,
           "Jorge Bardou",
           180
          ],
          [
           1,
           "Jorge Lozano",
           180
          ],
          [
           0,
           "Jorgen Windahl",
           183
          ],
          [
           1916,
           "Jose Acasuso",
           190
          ],
          [
           16,
           "Jose Antonio Pepe Conde",
           175
          ],
          [
           0,
           "Jose Ayala",
           180
          ],
          [
           0,
           "Jose Clavet",
           180
          ],
          [
           20,
           "Jose Daher",
           180
          ],
          [
           188,
           "Jose Francisco Altur",
           190
          ],
          [
           0,
           "Jose Higueras",
           178
          ],
          [
           9,
           "Jose Imaz Ruiz",
           178
          ],
          [
           0,
           "Jose Lopez Maeso",
           173
          ],
          [
           4,
           "Jose Luis Aparisi",
           178
          ],
          [
           0,
           "Jose Luis Clerc",
           185
          ],
          [
           0,
           "Jose Luis Damiani",
           185
          ],
          [
           13,
           "Jose Luis Noriega",
           178
          ],
          [
           0,
           "Jose Mandarino",
           173
          ],
          [
           70,
           "Jose Rubin Statham",
           183
          ],
          [
           0,
           "Josef Cihak",
           185
          ],
          [
           0,
           "Joseph Russell",
           188
          ],
          [
           94,
           "Joseph Sirianni",
           175
          ],
          [
           38,
           "Josh Goodall",
           188
          ],
          [
           32,
           "Joshua Eagle",
           183
          ],
          [
           84,
           "Joshua Goodall",
           188
          ],
          [
           171,
           "Josselin Ouanna",
           193
          ],
          [
           5,
           "Jozsef Krocsko",
           180
          ],
          [
           32,
           "Juan Aguilera",
           183
          ],
          [
           395,
           "Juan Albert Viloca Puig",
           185
          ],
          [
           373,
           "Juan Antonio Marin",
           175
          ],
          [
           0,
           "Juan Antonio Rodriguez",
           180
          ],
          [
           0,
           "Juan Avendano",
           178
          ],
          [
           458,
           "Juan Balcells",
           190
          ],
          [
           5,
           "Juan Carlos Baguena",
           183
          ],
          [
           2850,
           "Juan Carlos Ferrero",
           183
          ],
          [
           0,
           "Juan Farrow",
           180
          ],
          [
           21,
           "Juan Garat",
           180
          ],
          [
           5,
           "Juan Giner",
           178
          ],
          [
           75,
           "Juan Gisbert Jr",
           198
          ],
          [
           1781,
           "Juan Ignacio Chela",
           190
          ],
          [
           0,
           "Juan Manuel Elizondo",
           180
          ],
          [
           4458,
           "Juan Martin del Potro",
           198
          ],
          [
           1309,
           "Juan Monaco",
           185
          ],
          [
           0,
           "Juan Nunez",
           190
          ],
          [
           41,
           "Juan Pablo Brzezicki",
           178
          ],
          [
           70,
           "Juan Pablo Guzman",
           178
          ],
          [
           0,
           "Juan Pino",
           185
          ],
          [
           0,
           "Juan Rios",
           185
          ],
          [
           483,
           "Julian Alonso",
           185
          ],
          [
           139,
           "Julian Knowle",
           188
          ],
          [
           162,
           "Julian Reister",
           188
          ],
          [
           3325,
           "Julien Benneteau",
           185
          ],
          [
           1417,
           "Julien Boutter",
           190
          ],
          [
           17,
           "Julien Jeanpierre",
           188
          ],
          [
           37,
           "Julien Varlet",
           180
          ],
          [
           0,
           "Julio Goes",
           180
          ],
          [
           34,
           "Julio Silva",
           173
          ],
          [
           0,
           "Jun Kato",
           173
          ],
          [
           3411,
           "Jurgen Melzer",
           183
          ],
          [
           244,
           "Jurgen Zopp",
           190
          ],
          [
           46,
           "Justin Bower",
           190
          ],
          [
           1854,
           "Justin Gimelstob",
           196
          ],
          [
           0,
           "Karan Rastogi",
           178
          ],
          [
           1913,
           "Karel Novacek",
           190
          ],
          [
           1404,
           "Karim Alami",
           185
          ],
          [
           0,
           "Karl Coombes",
           180
          ],
          [
           0,
           "Karl Meiler",
           178
          ],
          [
           0,
           "Karl Richter",
           170
          ],
          [
           1077,
           "Karol Beck",
           180
          ],
          [
           2416,
           "Karol Kucera",
           188
          ],
          [
           938,
           "Karsten Braasch",
           180
          ],
          [
           0,
           "Karsten Schulz",
           183
          ],
          [
           1947,
           "Kei Nishikori",
           178
          ],
          [
           0,
           "Keith Carpenter",
           188
          ],
          [
           80,
           "Keith Evans",
           188
          ],
          [
           0,
           "Keith Richardson",
           185
          ],
          [
           101,
           "Kelly Evernden",
           175
          ],
          [
           64,
           "Kelly Jones",
           185
          ],
          [
           0,
           "Kelvin Belcher",
           185
          ],
          [
           0,
           "Ken Binns",
           175
          ],
          [
           50,
           "Ken Flach",
           185
          ],
          [
           0,
           "Ken Rosewall",
           175
          ],
          [
           3956,
           "Kenneth Carlsen",
           190
          ],
          [
           715,
           "Kenny De Schepper",
           203
          ],
          [
           190,
           "Kenny Thorne",
           188
          ],
          [
           0,
           "Kent Carlsson",
           180
          ],
          [
           126,
           "Kent Kinnear",
           196
          ],
          [
           7111,
           "Kevin Anderson",
           203
          ],
          [
           500,
           "Kevin Curren",
           185
          ],
          [
           677,
           "Kevin Kim",
           180
          ],
          [
           19,
           "Kevin Krawietz",
           190
          ],
          [
           0,
           "Kevin Moir",
           188
          ],
          [
           0,
           "Kevin Sorensen",
           183
          ],
          [
           231,
           "Kevin Ullyett",
           178
          ],
          [
           0,
           "Khalid Outaleb",
           183
          ],
          [
           0,
           "Kim Tiilikainen",
           180
          ],
          [
           0,
           "Kim Warwick",
           183
          ],
          [
           0,
           "Kimmo Alkio",
           178
          ],
          [
           48,
           "Kittipong Wachiramanowong",
           183
          ],
          [
           14,
           "Kj Hippensteel",
           190
          ],
          [
           1,
           "Komlavi Loglo",
           183
          ],
          [
           5,
           "Konstantin Don Gruber",
           183
          ],
          [
           249,
           "Konstantin Kravchuk",
           190
          ],
          [
           56,
           "Konstantinos Economidis",
           188
          ],
          [
           112,
           "Kris Goossens",
           180
          ],
          [
           0,
           "Krister Wedenby",
           185
          ],
          [
           38,
           "Kristian Capalik",
           188
          ],
          [
           764,
           "Kristian Pless",
           188
          ],
          [
           1116,
           "Kristof Vliegen",
           193
          ],
          [
           2,
           "Kyu Tae Im",
           185
          ],
          [
           10,
           "Ladislav Svarc",
           188
          ],
          [
           0,
           "Laird Dunlop",
           180
          ],
          [
           29,
           "Lamine Ouahab",
           185
          ],
          [
           18,
           "Lan Bale",
           175
          ],
          [
           0,
           "Larry Scott",
           188
          ],
          [
           0,
           "Larry Stefanki",
           178
          ],
          [
           89,
           "Lars Anders Wahlgren",
           193
          ],
          [
           928,
           "Lars Burgsmuller",
           183
          ],
          [
           469,
           "Lars Jonsson",
           188
          ],
          [
           74,
           "Lars Koslowski",
           188
          ],
          [
           190,
           "Lars Rehmann",
           196
          ],
          [
           0,
           "Laszlo Markovits",
           180
          ],
          [
           729,
           "Laurence Tieleman",
           180
          ],
          [
           39,
           "Laurent Prades",
           183
          ],
          [
           0,
           "Laurie Warder",
           183
          ],
          [
           118,
           "Laurynas Grigelis",
           183
          ],
          [
           2,
           "Lawson Duncan",
           185
          ],
          [
           444,
           "Leander Paes",
           178
          ],
          [
           0,
           "Leif Shiras",
           183
          ],
          [
           0,
           "Leighton Alfred",
           180
          ],
          [
           0,
           "Leo Palin",
           178
          ],
          [
           8,
           "Leonardo Azzaro",
           188
          ],
          [
           0,
           "Leonardo Kirche",
           188
          ],
          [
           219,
           "Leonardo Lavalle",
           188
          ],
          [
           2329,
           "Leonardo Mayer",
           188
          ],
          [
           28,
           "Leos Friedl",
           183
          ],
          [
           0,
           "Lester Cook",
           180
          ],
          [
           6,
           "Libor Nemecek",
           168
          ],
          [
           8,
           "Libor Pimek",
           196
          ],
          [
           53,
           "Lionel Barthez",
           180
          ],
          [
           704,
           "Lionel Roux",
           185
          ],
          [
           1,
           "Lior Mor",
           175
          ],
          [
           5100,
           "Lleyton Hewitt",
           180
          ],
          [
           0,
           "Lloyd Bourne",
           190
          ],
          [
           0,
           "Loic Courteau",
           175
          ],
          [
           0,
           "Lorenzo Fargas",
           173
          ],
          [
           336,
           "Lorenzo Manta",
           190
          ],
          [
           63,
           "Louis Gloria",
           175
          ],
          [
           0,
           "Louis Vosloo",
           178
          ],
          [
           38,
           "Louk Sorensen",
           175
          ],
          [
           96,
           "Lovro Zovko",
           190
          ],
          [
           0,
           "Luca Bottazzi",
           170
          ],
          [
           129,
           "Lucas Arnold Ker",
           180
          ],
          [
           1873,
           "Lucas Pouille",
           185
          ],
          [
           61,
           "Luis Adrian Morejon",
           178
          ],
          [
           152,
           "Luis Herrera",
           170
          ],
          [
           1157,
           "Luis Horna",
           180
          ],
          [
           3,
           "Luis Lobo",
           180
          ],
          [
           861,
           "Luiz Mattar",
           183
          ],
          [
           360,
           "Lukas Dlouhy",
           185
          ],
          [
           1363,
           "Lukas Lacko",
           185
          ],
          [
           1773,
           "Lukas Rosol",
           196
          ],
          [
           997,
           "Lukasz Kubot",
           190
          ],
          [
           27,
           "Luke Bourgeois",
           188
          ],
          [
           145,
           "Luke Jensen",
           190
          ],
          [
           46,
           "Luke Milligan",
           180
          ],
          [
           36,
           "Luke Smith",
           188
          ],
          [
           1445,
           "Magnus Gustafsson",
           185
          ],
          [
           3078,
           "Magnus Larsson",
           193
          ],
          [
           2510,
           "Magnus Norman",
           188
          ],
          [
           0,
           "Magnus Tideman",
           193
          ],
          [
           112,
           "Mahesh Bhupathi",
           185
          ],
          [
           0,
           "Malcolm Allen",
           178
          ],
          [
           927,
           "Malek Jaziri",
           185
          ],
          [
           2026,
           "Malivai Washington",
           180
          ],
          [
           8,
           "Mansour Bahrami",
           178
          ],
          [
           0,
           "Manuel Orantes",
           178
          ],
          [
           3,
           "Mao Xin Gong",
           178
          ],
          [
           5632,
           "Marat Safin",
           193
          ],
          [
           0,
           "Marc Flur",
           190
          ],
          [
           1239,
           "Marc Gicquel",
           188
          ],
          [
           3595,
           "Marc Kevin Goellner",
           196
          ],
          [
           14,
           "Marc Kimmich",
           183
          ],
          [
           32,
           "Marc Lopez",
           175
          ],
          [
           6153,
           "Marc Rosset",
           201
          ],
          [
           0,
           "Marcel Freeman",
           173
          ],
          [
           1832,
           "Marcel Granollers",
           190
          ],
          [
           80,
           "Marcello Craca",
           180
          ],
          [
           52,
           "Marcelo Charpentier",
           180
          ],
          [
           526,
           "Marcelo Filippini",
           178
          ],
          [
           0,
           "Marcelo Hennemann",
           170
          ],
          [
           2,
           "Marcelo Ingaramo",
           178
          ],
          [
           0,
           "Marcelo Melo",
           203
          ],
          [
           2508,
           "Marcelo Rios",
           175
          ],
          [
           21,
           "Marcelo Saliola",
           178
          ],
          [
           5,
           "Marcin Matkowski",
           188
          ],
          [
           22,
           "Marcio Carlsson",
           175
          ],
          [
           0,
           "Marco Armellini",
           188
          ],
          [
           558,
           "Marco Chiudinelli",
           185
          ],
          [
           1,
           "Marco Crugnola",
           188
          ],
          [
           18,
           "Marco Meneschincheri",
           180
          ],
          [
           0,
           "Marco Mirnegg",
           180
          ],
          [
           221,
           "Marcos Aurelio Gorriz",
           185
          ],
          [
           4350,
           "Marcos Baghdatis",
           183
          ],
          [
           361,
           "Marcos Daniel",
           180
          ],
          [
           0,
           "Marcos Hocevar",
           185
          ],
          [
           651,
           "Marcos Ondruska",
           183
          ],
          [
           5,
           "Marcos Perez Hubert",
           193
          ],
          [
           0,
           "Marcus Daniell",
           190
          ],
          [
           18,
           "Marcus Sarstrand",
           183
          ],
          [
           4892,
           "Mardy Fish",
           188
          ],
          [
           124,
           "Marian Vajda",
           173
          ],
          [
           2,
           "Mariano Delfino",
           183
          ],
          [
           14,
           "Mariano Hood",
           178
          ],
          [
           841,
           "Mariano Puerta",
           180
          ],
          [
           1661,
           "Mariano Zabaleta",
           183
          ],
          [
           7082,
           "Marin Cilic",
           198
          ],
          [
           688,
           "Marinko Matosevic",
           194
          ],
          [
           2942,
           "Mario Ancic",
           196
          ],
          [
           0,
           "Mario Martinez",
           170
          ],
          [
           26,
           "Mario Radic",
           188
          ],
          [
           0,
           "Mario Tabares",
           180
          ],
          [
           36,
           "Mario Visconti",
           185
          ],
          [
           0,
           "Marius Barnard",
           188
          ],
          [
           1514,
           "Marius Copil",
           193
          ],
          [
           10,
           "Mariusz Fyrstenberg",
           193
          ],
          [
           0,
           "Mark Basham",
           175
          ],
          [
           0,
           "Mark Buckley",
           178
          ],
          [
           0,
           "Mark Darby",
           185
          ],
          [
           0,
           "Mark Dickson",
           190
          ],
          [
           31,
           "Mark Draper",
           185
          ],
          [
           0,
           "Mark Edmondson",
           185
          ],
          [
           0,
           "Mark Ferreira",
           173
          ],
          [
           17,
           "Mark Hilton",
           170
          ],
          [
           29,
           "Mark Kaplan",
           185
          ],
          [
           53,
           "Mark Keil",
           185
          ],
          [
           270,
           "Mark Knowles",
           190
          ],
          [
           243,
           "Mark Koevermans",
           185
          ],
          [
           72,
           "Mark Kratzmann",
           178
          ],
          [
           82,
           "Mark Merklein",
           188
          ],
          [
           20,
           "Mark Nielsen",
           185
          ],
          [
           0,
           "Mark Ozer",
           196
          ],
          [
           415,
           "Mark Petchey",
           183
          ],
          [
           6684,
           "Mark Philippoussis",
           196
          ],
          [
           0,
           "Mark Turpin",
           183
          ],
          [
           0,
           "Mark Vines",
           170
          ],
          [
           0,
           "Mark Witsken",
           188
          ],
          [
           1989,
           "Mark Woodforde",
           188
          ],
          [
           0,
           "Mark Wooldridge",
           188
          ],
          [
           0,
           "Marko Ostoja",
           175
          ],
          [
           7,
           "Marko Tkalec",
           178
          ],
          [
           0,
           "Markus Gunthardt",
           178
          ],
          [
           274,
           "Markus Hantschk",
           188
          ],
          [
           316,
           "Markus Hipfl",
           178
          ],
          [
           110,
           "Markus Naewie",
           190
          ],
          [
           0,
           "Markus Rackl",
           180
          ],
          [
           3,
           "Markus Zillner",
           178
          ],
          [
           995,
           "Markus Zoecke",
           196
          ],
          [
           501,
           "Marsel Ilhan",
           190
          ],
          [
           0,
           "Martin Barba",
           180
          ],
          [
           26,
           "Martin Blackman",
           188
          ],
          [
           2946,
           "Martin Damm",
           188
          ],
          [
           3,
           "Martin Garcia",
           190
          ],
          [
           383,
           "Martin Jaite",
           178
          ],
          [
           1292,
           "Martin Klizan",
           190
          ],
          [
           59,
           "Martin Laurendeau",
           190
          ],
          [
           324,
           "Martin Lee",
           180
          ],
          [
           372,
           "Martin Rodriguez",
           178
          ],
          [
           536,
           "Martin Sinner",
           180
          ],
          [
           32,
           "Martin Spottl",
           180
          ],
          [
           120,
           "Martin Strelba",
           190
          ],
          [
           43,
           "Martin Stringari",
           188
          ],
          [
           333,
           "Martin Vassallo Arguello",
           183
          ],
          [
           1505,
           "Martin Verkerk",
           196
          ],
          [
           27,
           "Martin Wostenholme",
           183
          ],
          [
           0,
           "Marty Davis",
           183
          ],
          [
           0,
           "Marty Riessen",
           185
          ],
          [
           349,
           "Marzio Martelli",
           180
          ],
          [
           35,
           "Mashiska Washington",
           180
          ],
          [
           0,
           "Massimiliano Narducci",
           185
          ],
          [
           2,
           "Massimo Ardinghi",
           175
          ],
          [
           0,
           "Massimo Boscatto",
           178
          ],
          [
           6,
           "Massimo Calvelli",
           183
          ],
          [
           26,
           "Massimo Cierro",
           173
          ],
          [
           62,
           "Massimo Dellacqua",
           193
          ],
          [
           28,
           "Massimo Valeri",
           185
          ],
          [
           25,
           "Mathieu Montcourt",
           183
          ],
          [
           363,
           "Mats Wilander",
           183
          ],
          [
           0,
           "Matt Anger",
           188
          ],
          [
           0,
           "Matt Doyle",
           193
          ],
          [
           2,
           "Matt Lucena",
           178
          ],
          [
           0,
           "Matt Mitchell",
           180
          ],
          [
           1130,
           "Matthew Ebden",
           188
          ],
          [
           585,
           "Matthias Bachinger",
           188
          ],
          [
           152,
           "Maurice Ruah",
           178
          ],
          [
           126,
           "Mauricio Hadad",
           170
          ],
          [
           3,
           "Mauro Menezes",
           193
          ],
          [
           4052,
           "Max Mirnyi",
           196
          ],
          [
           5,
           "Maxime Huard",
           180
          ],
          [
           155,
           "Maximo Gonzalez",
           175
          ],
          [
           8,
           "Mehdi Tahiri",
           183
          ],
          [
           0,
           "Mel Purcell",
           178
          ],
          [
           51,
           "Melle Van Gemerden",
           183
          ],
          [
           30,
           "Menno Oosting",
           180
          ],
          [
           0,
           "Michael Bauer",
           173
          ],
          [
           1322,
           "Michael Berrer",
           193
          ],
          [
           0,
           "Michael Brown B395",
           175
          ],
          [
           3357,
           "Michael Chang",
           175
          ],
          [
           0,
           "Michael Daniel",
           188
          ],
          [
           0,
           "Michael Davies",
           183
          ],
          [
           0,
           "Michael Fancutt",
           190
          ],
          [
           32,
           "Michael Geserer",
           190
          ],
          [
           0,
           "Michael Grant",
           178
          ],
          [
           73,
           "Michael Hill",
           188
          ],
          [
           395,
           "Michael Joyce",
           180
          ],
          [
           371,
           "Michael Kohlmann",
           188
          ],
          [
           0,
           "Michael Kures",
           185
          ],
          [
           64,
           "Michael Lammer",
           185
          ],
          [
           3091,
           "Michael Llodra",
           190
          ],
          [
           25,
           "Michael Mcclune",
           188
          ],
          [
           0,
           "Michael Mortensen",
           188
          ],
          [
           0,
           "Michael Oberleitner",
           190
          ],
          [
           2,
           "Michael Robertson",
           185
          ],
          [
           582,
           "Michael Russell",
           173
          ],
          [
           128,
           "Michael Ryderstedt",
           188
          ],
          [
           35,
           "Michael Sell",
           180
          ],
          [
           3452,
           "Michael Stich",
           193
          ],
          [
           5,
           "Michael Tauson",
           193
          ],
          [
           1633,
           "Michael Tebbutt",
           190
          ],
          [
           4,
           "Michael Walker",
           183
          ],
          [
           0,
           "Michael Westphal",
           190
          ],
          [
           90,
           "Michael Yani",
           185
          ],
          [
           45,
           "Michail Elgin",
           183
          ],
          [
           42,
           "Michal Mertinak",
           180
          ],
          [
           604,
           "Michal Przysiezny",
           185
          ],
          [
           285,
           "Michal Tabara",
           175
          ],
          [
           577,
           "Michel Kratochvil",
           185
          ],
          [
           0,
           "Michele Fioroni",
           180
          ],
          [
           255,
           "Michiel Schapers",
           201
          ],
          [
           18,
           "Miguel Angel Lopez Jaen",
           188
          ],
          [
           0,
           "Miguel Nido",
           180
          ],
          [
           66,
           "Miguel Tobon",
           185
          ],
          [
           0,
           "Mihnea Ion Nastase",
           183
          ],
          [
           172,
           "Mikael Pernfors",
           173
          ],
          [
           24,
           "Mikael Stadling",
           188
          ],
          [
           862,
           "Mikael Tillstrom",
           185
          ],
          [
           1,
           "Mike Bauer",
           188
          ],
          [
           0,
           "Mike Briggs",
           178
          ],
          [
           0,
           "Mike Brown",
           183
          ],
          [
           0,
           "Mike Brunnberg",
           190
          ],
          [
           46,
           "Mike Bryan",
           190
          ],
          [
           0,
           "Mike Cahill",
           183
          ],
          [
           0,
           "Mike De Palmer",
           185
          ],
          [
           0,
           "Mike Estep",
           173
          ],
          [
           0,
           "Mike Fishbach",
           180
          ],
          [
           0,
           "Mike Leach",
           180
          ],
          [
           0,
           "Mike Lee",
           178
          ],
          [
           0,
           "Mike Scheidweiler",
           188
          ],
          [
           4,
           "Mikhail Elgin",
           183
          ],
          [
           1136,
           "Mikhail Kukushkin",
           183
          ],
          [
           134,
           "Mikhail Ledovskikh",
           188
          ],
          [
           3501,
           "Mikhail Youzhny",
           183
          ],
          [
           0,
           "Milan Holecek",
           190
          ],
          [
           28,
           "Milan Srejber",
           203
          ],
          [
           76,
           "Miles Maclagan",
           180
          ],
          [
           7929,
           "Milos Raonic",
           196
          ],
          [
           0,
           "Miloslav Lacek",
           175
          ],
          [
           0,
           "Miloslav Mecir",
           190
          ],
          [
           1626,
           "Mischa Zverev",
           190
          ],
          [
           0,
           "Mitch Sprengelmeyer",
           185
          ],
          [
           0,
           "Modesto Tito Vazquez",
           173
          ],
          [
           96,
           "Mohamed Safwat",
           183
          ],
          [
           0,
           "Morris Skip Strode",
           193
          ],
          [
           47,
           "Morten Christensen",
           190
          ],
          [
           73,
           "Mose Navarra",
           180
          ],
          [
           11,
           "Murphy Jensen",
           193
          ],
          [
           0,
           "Myron Franks",
           178
          ],
          [
           156,
           "Nathan Healey",
           180
          ],
          [
           13,
           "Nduka Odizor",
           183
          ],
          [
           0,
           "Nebojsa Djordjevic",
           190
          ],
          [
           0,
           "Ned Caswell",
           190
          ],
          [
           365,
           "Neil Borwick",
           193
          ],
          [
           3,
           "Neil Broad",
           190
          ],
          [
           4,
           "Nelson Aerts",
           188
          ],
          [
           183,
           "Nenad Zimonjic",
           190
          ],
          [
           438,
           "Neville Godwin",
           173
          ],
          [
           27,
           "Nick Brown",
           190
          ],
          [
           0,
           "Nick Fulwood",
           185
          ],
          [
           3732,
           "Nick Kyrgios",
           193
          ],
          [
           39,
           "Nick Lindahl",
           183
          ],
          [
           0,
           "Nick Saviano",
           180
          ],
          [
           64,
           "Nicklas Kroon",
           183
          ],
          [
           1442,
           "Nicklas Kulti",
           190
          ],
          [
           5,
           "Nicklas Timfjord",
           180
          ],
          [
           35,
           "Nicklas Utgren",
           188
          ],
          [
           27,
           "Nicola Bruno",
           178
          ],
          [
           5477,
           "Nicolas Almagro",
           183
          ],
          [
           2,
           "Nicolas Barrientos",
           175
          ],
          [
           9,
           "Nicolas Becerra",
           185
          ],
          [
           108,
           "Nicolas Coutelot",
           185
          ],
          [
           263,
           "Nicolas Devilder",
           173
          ],
          [
           1856,
           "Nicolas Escude",
           185
          ],
          [
           0,
           "Nicolas Kelaidis",
           178
          ],
          [
           4081,
           "Nicolas Kiefer",
           183
          ],
          [
           2686,
           "Nicolas Lapentti",
           188
          ],
          [
           3111,
           "Nicolas Mahut",
           190
          ],
          [
           1886,
           "Nicolas Massu",
           183
          ],
          [
           731,
           "Nicolas Pereira",
           188
          ],
          [
           277,
           "Nicolas Thomann",
           183
          ],
          [
           2,
           "Nicolas Todero",
           183
          ],
          [
           2523,
           "Nikolay Davydenko",
           178
          ],
          [
           832,
           "Nikoloz Basilashvili",
           185
          ],
          [
           77,
           "Noam Behr",
           188
          ],
          [
           336,
           "Noam Okun",
           185
          ],
          [
           0,
           "Norm Schellenger",
           180
          ],
          [
           5887,
           "Novak Djokovic",
           188
          ],
          [
           252,
           "Nuno Marques",
           190
          ],
          [
           21,
           "Ofer Sela",
           188
          ],
          [
           0,
           "Ola Jonsson J092",
           178
          ],
          [
           3,
           "Ola Kristiansson",
           188
          ],
          [
           352,
           "Oleg Ogorodov",
           193
          ],
          [
           21,
           "Oliver Fernandez",
           175
          ],
          [
           0,
           "Oliver Freund",
           178
          ],
          [
           0,
           "Oliver Fuchs",
           180
          ],
          [
           409,
           "Oliver Gross",
           185
          ],
          [
           216,
           "Oliver Marach",
           185
          ],
          [
           831,
           "Olivier Delaitre",
           170
          ],
          [
           8,
           "Olivier Malcor",
           180
          ],
          [
           253,
           "Olivier Mutis",
           175
          ],
          [
           332,
           "Olivier Patience",
           180
          ],
          [
           840,
           "Olivier Rochus",
           168
          ],
          [
           14,
           "Olivier Soules",
           188
          ],
          [
           1,
           "Olli Rahnasto",
           183
          ],
          [
           1055,
           "Omar Camporese",
           188
          ],
          [
           0,
           "Onny Parun",
           188
          ],
          [
           7,
           "Oren Motevassel",
           170
          ],
          [
           302,
           "Orlin Stanoytchev",
           185
          ],
          [
           49,
           "Oscar Burrieza",
           170
          ],
          [
           455,
           "Oscar Hernandez",
           180
          ],
          [
           92,
           "Oscar Martinez",
           185
          ],
          [
           25,
           "Oscar Ortiz",
           183
          ],
          [
           27,
           "Oscar Serrano",
           173
          ],
          [
           67,
           "Ota Fukarek",
           190
          ],
          [
           0,
           "Otavio Della",
           170
          ],
          [
           0,
           "Otis Smith",
           180
          ],
          [
           0,
           "Ove Nils Bengtson",
           196
          ],
          [
           0,
           "Owen Davidson",
           185
          ],
          [
           20,
           "Pablo Albano",
           178
          ],
          [
           562,
           "Pablo Andujar",
           180
          ],
          [
           126,
           "Pablo Arraya",
           180
          ],
          [
           41,
           "Pablo Campana",
           180
          ],
          [
           1432,
           "Pablo Carreno Busta",
           188
          ],
          [
           2391,
           "Pablo Cuevas",
           180
          ],
          [
           3,
           "Pablo Gonzalez",
           178
          ],
          [
           0,
           "Paolo Bertolucci",
           175
          ],
          [
           305,
           "Paolo Cane",
           180
          ],
          [
           1159,
           "Paolo Lorenzi",
           183
          ],
          [
           10,
           "Paolo Pambianco",
           190
          ],
          [
           2478,
           "Paradorn Srichaphan",
           185
          ],
          [
           0,
           "Paris Gemouchidis",
           175
          ],
          [
           0,
           "Pascal Deniau",
           185
          ],
          [
           0,
           "Pascal Portes",
           175
          ],
          [
           0,
           "Pasi Virtanen",
           188
          ],
          [
           346,
           "Pat Cash",
           183
          ],
          [
           22,
           "Pat Crow",
           188
          ],
          [
           0,
           "Pat Dupre",
           190
          ],
          [
           0,
           "Patrice Beust",
           170
          ],
          [
           0,
           "Patrice Dominguez",
           173
          ],
          [
           0,
           "Patrice Hagelauer",
           188
          ],
          [
           0,
           "Patrice Kuchna",
           178
          ],
          [
           31,
           "Patricio Arnold",
           183
          ],
          [
           0,
           "Patricio Cornejo",
           180
          ],
          [
           0,
           "Patricio Rodriguez Chi",
           188
          ],
          [
           515,
           "Patrick Baur",
           188
          ],
          [
           0,
           "Patrick Flynn",
           183
          ],
          [
           0,
           "Patrick Galbraith",
           183
          ],
          [
           727,
           "Patrick McEnroe",
           183
          ],
          [
           11,
           "Patrick Mohr",
           178
          ],
          [
           0,
           "Patrick Proisy",
           180
          ],
          [
           3633,
           "Patrick Rafter",
           185
          ],
          [
           160,
           "Patrik Fredriksson",
           185
          ],
          [
           937,
           "Patrik Kuhnen",
           190
          ],
          [
           0,
           "Patrik Wennberg",
           185
          ],
          [
           82,
           "Paul Annacone",
           185
          ],
          [
           82,
           "Paul Baccanello",
           183
          ],
          [
           412,
           "Paul Capdeville",
           190
          ],
          [
           1,
           "Paul Chamberlin",
           178
          ],
          [
           0,
           "Paul Dogger",
           185
          ],
          [
           0,
           "Paul Gerken",
           185
          ],
          [
           469,
           "Paul Goldstein",
           178
          ],
          [
           1924,
           "Paul Haarhuis",
           188
          ],
          [
           6,
           "Paul Hanley",
           183
          ],
          [
           2783,
           "Paul Henri Mathieu",
           185
          ],
          [
           101,
           "Paul Kilderry",
           175
          ],
          [
           6,
           "Paul Logtens",
           175
          ],
          [
           0,
           "Paul Mcnamee",
           178
          ],
          [
           0,
           "Paul Torre",
           180
          ],
          [
           3,
           "Paul Vojtischek",
           188
          ],
          [
           95,
           "Paul Wekesa",
           188
          ],
          [
           0,
           "Pavel Slozil",
           173
          ],
          [
           22,
           "Pavel Snobel",
           190
          ],
          [
           3,
           "Pavel Vizner",
           183
          ],
          [
           2,
           "Pedro Rebolledo",
           170
          ],
          [
           90,
           "Pedro Sousa",
           180
          ],
          [
           3,
           "Per Henricsson",
           190
          ],
          [
           0,
           "Per Hjertquist",
           183
          ],
          [
           413,
           "Pere Riba",
           183
          ],
          [
           8689,
           "Pete Sampras",
           185
          ],
          [
           0,
           "Peter Ballauff",
           188
          ],
          [
           0,
           "Peter Bastiansen",
           193
          ],
          [
           0,
           "Peter Burwash",
           175
          ],
          [
           0,
           "Peter Carlsson",
           183
          ],
          [
           0,
           "Peter Carter",
           180
          ],
          [
           0,
           "Peter Clarke",
           188
          ],
          [
           8,
           "Peter Doohan",
           190
          ],
          [
           0,
           "Peter Elter",
           178
          ],
          [
           0,
           "Peter Feigl",
           183
          ],
          [
           0,
           "Peter Fishbach",
           180
          ],
          [
           0,
           "Peter Fleming",
           196
          ],
          [
           940,
           "Peter Gojowczyk",
           185
          ],
          [
           0,
           "Peter Hajek",
           175
          ],
          [
           0,
           "Peter Johnston",
           178
          ],
          [
           0,
           "Peter Lindgren",
           175
          ],
          [
           639,
           "Peter Luczak",
           183
          ],
          [
           285,
           "Peter Lundgren",
           185
          ],
          [
           0,
           "Peter Mcnamara",
           185
          ],
          [
           66,
           "Peter Moraing",
           193
          ],
          [
           51,
           "Peter Nyborg",
           190
          ],
          [
           0,
           "Peter Palandjian",
           188
          ],
          [
           220,
           "Peter Polansky",
           180
          ],
          [
           0,
           "Peter Rennert",
           185
          ],
          [
           0,
           "Peter Svensson",
           183
          ],
          [
           0,
           "Peter Thrupp",
           183
          ],
          [
           103,
           "Peter Tramacchi",
           185
          ],
          [
           902,
           "Peter Wessels",
           196
          ],
          [
           0,
           "Peter Wright",
           185
          ],
          [
           2223,
           "Petr Korda",
           190
          ],
          [
           18,
           "Petr Kralert",
           188
          ],
          [
           52,
           "Petr Luxa",
           190
          ],
          [
           1,
           "Petr Pala",
           193
          ],
          [
           0,
           "Petru Alexandru Luncanu",
           185
          ],
          [
           0,
           "Phil Dent",
           183
          ],
          [
           19,
           "Philip Bester",
           188
          ],
          [
           2,
           "Philip Gubenco",
           188
          ],
          [
           0,
           "Philip Johnson",
           173
          ],
          [
           4591,
           "Philipp Kohlschreiber",
           178
          ],
          [
           1378,
           "Philipp Petzschner",
           185
          ],
          [
           21,
           "Philippe Pech",
           180
          ],
          [
           37,
           "Phillip King",
           175
          ],
          [
           0,
           "Phillipe Ventura",
           175
          ],
          [
           12,
           "Pier Gauthier",
           185
          ],
          [
           20,
           "Pierre Bouteyre",
           185
          ],
          [
           1652,
           "Pierre Hugues Herbert",
           188
          ],
          [
           36,
           "Piet Norval",
           185
          ],
          [
           0,
           "Pieter Aldrich",
           180
          ],
          [
           3,
           "Pietro Pennisi",
           173
          ],
          [
           848,
           "Potito Starace",
           188
          ],
          [
           147,
           "Prakash Amritraj",
           188
          ],
          [
           23,
           "Quino Munoz",
           178
          ],
          [
           4112,
           "Radek Stepanek",
           185
          ],
          [
           198,
           "Radomir Vasek",
           188
          ],
          [
           1463,
           "Raemon Sluiter",
           185
          ],
          [
           3630,
           "Rafael Nadal",
           185
          ],
          [
           12,
           "Rainer Eitzinger",
           178
          ],
          [
           2121,
           "Rainer Schuettler",
           180
          ],
          [
           1137,
           "Rajeev Ram",
           193
          ],
          [
           0,
           "Ramayah Ramachandran",
           160
          ],
          [
           25,
           "Ramesh Krishnan",
           170
          ],
          [
           1095,
           "Ramon Delgado",
           185
          ],
          [
           0,
           "Randy Crawford",
           188
          ],
          [
           0,
           "Randy Nixon",
           193
          ],
          [
           1,
           "Raphael Durek",
           188
          ],
          [
           4,
           "Rasmus Norby",
           183
          ],
          [
           4,
           "Raul Antonio Viver",
           190
          ],
          [
           0,
           "Raul Ramirez",
           183
          ],
          [
           47,
           "Raven Klaasen",
           180
          ],
          [
           10,
           "Raviv Weidenfeld",
           188
          ],
          [
           0,
           "Raymond Moore",
           183
          ],
          [
           141,
           "Razvan Sabau",
           185
          ],
          [
           70,
           "Reda El Amrani",
           185
          ],
          [
           5,
           "Reginald Willems",
           180
          ],
          [
           0,
           "Regis Brunet",
           183
          ],
          [
           0,
           "Rejean Genois",
           175
          ],
          [
           0,
           "Renald Etienne",
           175
          ],
          [
           1253,
           "Renzo Furlan",
           175
          ],
          [
           963,
           "Ricardas Berankis",
           175
          ],
          [
           6,
           "Ricardo Acioly",
           180
          ],
          [
           0,
           "Ricardo Acuna",
           175
          ],
          [
           4,
           "Ricardo Camargo",
           180
          ],
          [
           0,
           "Ricardo Cano",
           170
          ],
          [
           28,
           "Ricardo Hocevar",
           180
          ],
          [
           351,
           "Ricardo Mello",
           175
          ],
          [
           0,
           "Ricardo Ycaza",
           183
          ],
          [
           11,
           "Riccardo Ghedin",
           188
          ],
          [
           163,
           "Richard Bloomfield",
           185
          ],
          [
           3687,
           "Richard Fromberg",
           196
          ],
          [
           4700,
           "Richard Gasquet",
           185
          ],
          [
           7648,
           "Richard Krajicek",
           196
          ],
          [
           98,
           "Richard Matuszewski",
           188
          ],
          [
           0,
           "Richard Meyer",
           183
          ],
          [
           0,
           "Richard Pancho Gonzales",
           188
          ],
          [
           12,
           "Richard Schmidt",
           185
          ],
          [
           28,
           "Richard Vogel",
           193
          ],
          [
           0,
           "Richard Whichello",
           185
          ],
          [
           1821,
           "Richey Reneberg",
           180
          ],
          [
           0,
           "Rick Fagel",
           180
          ],
          [
           70,
           "Rick Leach",
           188
          ],
          [
           0,
           "Rick Meyers",
           173
          ],
          [
           0,
           "Rick Rudeen",
           188
          ],
          [
           0,
           "Ricki Osterthun",
           185
          ],
          [
           0,
           "Ricky Brown",
           178
          ],
          [
           226,
           "Rik De Voest",
           180
          ],
          [
           19,
           "Rikard Bergh",
           188
          ],
          [
           0,
           "Rill Baxter",
           183
          ],
          [
           23,
           "Robbie Koenig",
           173
          ],
          [
           0,
           "Robbie Venter",
           180
          ],
          [
           208,
           "Robbie Weiss",
           183
          ],
          [
           2197,
           "Robby Ginepri",
           183
          ],
          [
           0,
           "Robert Bettauer",
           175
          ],
          [
           0,
           "Robert Casey C100",
           188
          ],
          [
           57,
           "Robert Farah",
           193
          ],
          [
           0,
           "Robert Janecek",
           183
          ],
          [
           1082,
           "Robert Kendrick",
           190
          ],
          [
           0,
           "Robert Lindstedt",
           190
          ],
          [
           0,
           "Robert Lutz",
           180
          ],
          [
           0,
           "Robert Maud",
           180
          ],
          [
           0,
           "Robert Perry",
           188
          ],
          [
           0,
           "Robert Puddicombe",
           178
          ],
          [
           0,
           "Robert Reininger",
           185
          ],
          [
           4,
           "Robert Seguso",
           190
          ],
          [
           67,
           "Robert Smeets",
           188
          ],
          [
           0,
           "Robert Trogolo",
           180
          ],
          [
           0,
           "Robert Vant Hof",
           193
          ],
          [
           0,
           "Roberto Arguello",
           173
          ],
          [
           120,
           "Roberto Azar",
           185
          ],
          [
           1528,
           "Roberto Bautista Agut",
           183
          ],
          [
           90,
           "Roberto Carretero",
           178
          ],
          [
           86,
           "Roberto Jabali",
           190
          ],
          [
           0,
           "Roberto Saad",
           185
          ],
          [
           0,
           "Roberto Vizcaino",
           178
          ],
          [
           3090,
           "Robin Haase",
           190
          ],
          [
           3868,
           "Robin Soderling",
           193
          ],
          [
           215,
           "Robin Vik",
           183
          ],
          [
           0,
           "Rod Frawley",
           185
          ],
          [
           0,
           "Rod Laver",
           173
          ],
          [
           0,
           "Rodney Harmon",
           188
          ],
          [
           22,
           "Rodolphe Cadart",
           183
          ],
          [
           768,
           "Rodolphe Gilbert",
           183
          ],
          [
           11311,
           "Roger Federer",
           185
          ],
          [
           0,
           "Roger Knapp",
           183
          ],
          [
           17,
           "Roger Rasheed",
           183
          ],
          [
           65,
           "Roger Smith",
           185
          ],
          [
           292,
           "Rogerio Dutra Silva",
           178
          ],
          [
           56,
           "Rogier Wassen",
           190
          ],
          [
           237,
           "Rohan Bopanna",
           190
          ],
          [
           208,
           "Roko Karanusic",
           183
          ],
          [
           16,
           "Roland Burtscher",
           183
          ],
          [
           0,
           "Roland Stadler",
           178
          ],
          [
           0,
           "Rolf Gehring",
           185
          ],
          [
           0,
           "Rolf Hertzog",
           178
          ],
          [
           0,
           "Rolf Thung",
           190
          ],
          [
           35,
           "Romain Jouan",
           183
          ],
          [
           1,
           "Roman Valent",
           183
          ],
          [
           0,
           "Ron Hightower",
           185
          ],
          [
           0,
           "Ron Holmberg",
           185
          ],
          [
           630,
           "Ronald Agenor",
           180
          ],
          [
           0,
           "Ronnie Bathman",
           183
          ],
          [
           0,
           "Roscoe Tanner",
           183
          ],
          [
           6,
           "Ross Hutchins",
           190
          ],
          [
           57,
           "Ross Matheson",
           196
          ],
          [
           0,
           "Roy Barth",
           175
          ],
          [
           0,
           "Roy Emerson",
           183
          ],
          [
           0,
           "Royce Deppe",
           188
          ],
          [
           596,
           "Ruben Ramirez Hidalgo",
           183
          ],
          [
           12,
           "Rudiger Haas",
           193
          ],
          [
           82,
           "Rui Machado",
           178
          ],
          [
           0,
           "Russell Barlow",
           173
          ],
          [
           0,
           "Russell Simpson",
           188
          ],
          [
           1909,
           "Ryan Harrison",
           183
          ],
          [
           10,
           "Ryan Henry",
           183
          ],
          [
           390,
           "Ryan Sweeting",
           196
          ],
          [
           4,
           "Ryan Wolters",
           180
          ],
          [
           38,
           "Ryler Deheart",
           183
          ],
          [
           23,
           "Salvador Navarro",
           180
          ],
          [
           8356,
           "Sam Querrey",
           198
          ],
          [
           75,
           "Sam Warburg",
           190
          ],
          [
           0,
           "Sammy Giammalva",
           180
          ],
          [
           0,
           "Sammy Giammalva Jr",
           178
          ],
          [
           0,
           "Sanchai Ratiwatana",
           175
          ],
          [
           35,
           "Sander Groen",
           190
          ],
          [
           1445,
           "Sandon Stolle",
           193
          ],
          [
           284,
           "Sandor Noszaly",
           193
          ],
          [
           21,
           "Sandro Ehrat",
           180
          ],
          [
           0,
           "Sandy Mayer",
           178
          ],
          [
           1258,
           "Santiago Giraldo",
           188
          ],
          [
           27,
           "Santiago Gonzalez",
           190
          ],
          [
           0,
           "Santiago Mora",
           168
          ],
          [
           361,
           "Santiago Ventura",
           183
          ],
          [
           1466,
           "Sargis Sargsian",
           180
          ],
          [
           49,
           "Sasa Hirszon",
           185
          ],
          [
           13,
           "Sasa Tuksar",
           180
          ],
          [
           6,
           "Sascha Nensel",
           180
          ],
          [
           0,
           "Sashi Menon",
           180
          ],
          [
           36,
           "Satoshi Iwabuchi",
           175
          ],
          [
           125,
           "Scott Davis",
           188
          ],
          [
           1535,
           "Scott Draper",
           178
          ],
          [
           4,
           "Scott Gessner",
           183
          ],
          [
           88,
           "Scott Humphries",
           185
          ],
          [
           8,
           "Scott Lipsky",
           185
          ],
          [
           0,
           "Scott Mccain",
           180
          ],
          [
           6,
           "Scott Melville",
           188
          ],
          [
           53,
           "Scott Oudsema",
           190
          ],
          [
           0,
           "Scott Warner",
           196
          ],
          [
           131,
           "Scoville Jenkins",
           188
          ],
          [
           0,
           "Sean Brawley",
           178
          ],
          [
           26,
           "Sebastian Decoud",
           178
          ],
          [
           48,
           "Sebastian Prieto",
           180
          ],
          [
           186,
           "Sebastien De Chaunac",
           183
          ],
          [
           3098,
           "Sebastien Grosjean",
           175
          ],
          [
           1269,
           "Sebastien Lareau",
           183
          ],
          [
           14,
           "Sebastien Leblanc",
           193
          ],
          [
           0,
           "Sergei Leonjuk",
           183
          ],
          [
           2181,
           "Sergi Bruguera",
           188
          ],
          [
           12,
           "Sergio Casal",
           185
          ],
          [
           14,
           "Sergio Cortes",
           170
          ],
          [
           241,
           "Sergio Roitman",
           185
          ],
          [
           2308,
           "Sergiy Stakhovsky",
           193
          ],
          [
           6,
           "Shahar Perkiss",
           193
          ],
          [
           0,
           "Shane Barr",
           193
          ],
          [
           15,
           "Shao Xuan Zeng",
           185
          ],
          [
           3,
           "Shelby Cannon",
           180
          ],
          [
           0,
           "Sherwood Stewart",
           188
          ],
          [
           0,
           "Shlomo Glickstein",
           188
          ],
          [
           1523,
           "Shuzo Matsuoka",
           185
          ],
          [
           0,
           "Simon Aspelin",
           185
          ],
          [
           438,
           "Simon Greul",
           185
          ],
          [
           71,
           "Simon Larose",
           190
          ],
          [
           0,
           "Simon Robinson",
           198
          ],
          [
           43,
           "Simon Stadler",
           183
          ],
          [
           314,
           "Simon Youl",
           185
          ],
          [
           1140,
           "Simone Bolelli",
           183
          ],
          [
           0,
           "Simone Colombo",
           180
          ],
          [
           5,
           "Simone Vagnozzi",
           173
          ],
          [
           2016,
           "Sjeng Schalken",
           193
          ],
          [
           955,
           "Slava Dosedel",
           183
          ],
          [
           109,
           "Slobodan Zivojinovic",
           198
          ],
          [
           449,
           "Somdev Devvarman",
           180
          ],
          [
           3,
           "Sonchat Ratiwatana",
           175
          ],
          [
           0,
           "Srinivasan Vasudevan",
           190
          ],
          [
           0,
           "Stan Smith",
           193
          ],
          [
           5819,
           "Stan Wawrinka",
           183
          ],
          [
           0,
           "Stanislav Birner",
           170
          ],
          [
           1,
           "Stanislav Vovk",
           185
          ],
          [
           0,
           "Stanley Pasarell",
           185
          ],
          [
           1405,
           "Stefan Edberg",
           188
          ],
          [
           1,
           "Stefan Eriksson",
           193
          ],
          [
           0,
           "Stefan Heckmanns",
           193
          ],
          [
           0,
           "Stefan Hermann",
           190
          ],
          [
           1517,
           "Stefan Koubek",
           175
          ],
          [
           0,
           "Stefan Lochbihler",
           180
          ],
          [
           0,
           "Stefan Simonsson",
           175
          ],
          [
           0,
           "Stefan Svensson",
           185
          ],
          [
           4,
           "Stefano Cobolli",
           175
          ],
          [
           144,
           "Stefano Galvani",
           178
          ],
          [
           1034,
           "Stefano Pescosolido",
           185
          ],
          [
           6,
           "Stefano Tarallo",
           185
          ],
          [
           0,
           "Stephan Medem",
           185
          ],
          [
           7,
           "Stephan Rhode",
           188
          ],
          [
           135,
           "Stephane Bohli",
           185
          ],
          [
           0,
           "Stephane Bonneau",
           188
          ],
          [
           0,
           "Stephane Grenier",
           190
          ],
          [
           316,
           "Stephane Huet",
           180
          ],
          [
           439,
           "Stephane Robert",
           185
          ],
          [
           12,
           "Stephane Sansoni",
           180
          ],
          [
           619,
           "Stephane Simian",
           193
          ],
          [
           0,
           "Stephen Botfield",
           180
          ],
          [
           0,
           "Stephen Furlong",
           185
          ],
          [
           15,
           "Stephen Noteboom",
           185
          ],
          [
           0,
           "Stephen Temple",
           175
          ],
          [
           150,
           "Steve Bryan",
           178
          ],
          [
           260,
           "Steve Campbell",
           183
          ],
          [
           0,
           "Steve Cornell",
           178
          ],
          [
           927,
           "Steve Darcis",
           178
          ],
          [
           0,
           "Steve Denton",
           188
          ],
          [
           13,
           "Steve Devries",
           180
          ],
          [
           4,
           "Steve Guy",
           188
          ],
          [
           2785,
           "Steve Johnson",
           188
          ],
          [
           0,
           "Steve Kennedy",
           183
          ],
          [
           0,
           "Steve Krulevitz",
           175
          ],
          [
           0,
           "Steve Meister",
           193
          ],
          [
           0,
           "Steve Shaw",
           190
          ],
          [
           0,
           "Steven Alger",
           188
          ],
          [
           1,
           "Steven Baldas",
           180
          ],
          [
           23,
           "Steven Downs",
           183
          ],
          [
           0,
           "Stian Boretti",
           188
          ],
          [
           0,
           "Stuart Bale",
           185
          ],
          [
           10,
           "Sule Ladipo",
           180
          ],
          [
           13,
           "Suwandi Suwandi",
           178
          ],
          [
           2,
           "Sven Salumaa",
           196
          ],
          [
           0,
           "Syd Ball",
           188
          ],
          [
           491,
           "Takao Suzuki",
           175
          ],
          [
           39,
           "Tamer El Sawy",
           188
          ],
          [
           0,
           "Tarek El Sakka",
           180
          ],
          [
           69,
           "Tarik Benhabiles",
           175
          ],
          [
           16,
           "Tasuku Iwami",
           168
          ],
          [
           358,
           "Tatsuma Ito",
           180
          ],
          [
           2129,
           "Taylor Dent",
           188
          ],
          [
           0,
           "Ted Farnsworth",
           188
          ],
          [
           0,
           "Ted Scherman",
           188
          ],
          [
           0,
           "Terry Addison",
           180
          ],
          [
           0,
           "Terry Moor",
           178
          ],
          [
           0,
           "Terry Rocavert",
           180
          ],
          [
           1388,
           "Teymuraz Gabashvili",
           188
          ],
          [
           81,
           "Thiago Alves",
           178
          ],
          [
           1149,
           "Thiemo De Bakker",
           193
          ],
          [
           272,
           "Thierry Ascione",
           188
          ],
          [
           254,
           "Thierry Champion",
           183
          ],
          [
           189,
           "Thierry Guardiola",
           188
          ],
          [
           0,
           "Thierry Pham",
           178
          ],
          [
           5,
           "Thierry Tulasne",
           178
          ],
          [
           56,
           "Thomas Buchmayer",
           185
          ],
          [
           5417,
           "Thomas Enqvist",
           190
          ],
          [
           47,
           "Thomas Gollwitzer",
           178
          ],
          [
           0,
           "Thomas Haldin",
           185
          ],
          [
           227,
           "Thomas Hogstedt",
           190
          ],
          [
           5113,
           "Thomas Johansson",
           180
          ],
          [
           15,
           "Thomas Larsen",
           180
          ],
          [
           1813,
           "Thomas Muster",
           180
          ],
          [
           17,
           "Thomas Schiessling",
           180
          ],
          [
           27,
           "Thomas Schoorel",
           203
          ],
          [
           14,
           "Thomas Shimada",
           178
          ],
          [
           0,
           "Thomas Stalhandske",
           190
          ],
          [
           2333,
           "Thomaz Bellucci",
           188
          ],
          [
           13,
           "Ti Chen",
           183
          ],
          [
           0,
           "Tian C Viljoen",
           191
          ],
          [
           0,
           "Tim Donovan",
           175
          ],
          [
           0,
           "Tim Gullikson",
           180
          ],
          [
           4306,
           "Tim Henman",
           185
          ],
          [
           181,
           "Tim Mayotte",
           190
          ],
          [
           0,
           "Tim Siegel",
           175
          ],
          [
           571,
           "Tim Smyczek",
           175
          ],
          [
           0,
           "Tim Trigueiro",
           188
          ],
          [
           0,
           "Tim Wilkison",
           180
          ],
          [
           0,
           "Timo Nieminen",
           185
          ],
          [
           3,
           "Tino Anda",
           180
          ],
          [
           36,
           "Tj Middleton",
           183
          ],
          [
           31,
           "Tobias Clemens",
           185
          ],
          [
           329,
           "Tobias Kamke",
           180
          ],
          [
           0,
           "Tobias Klein",
           170
          ],
          [
           39,
           "Tobias Summerer",
           185
          ],
          [
           0,
           "Tobias Svantesson",
           193
          ],
          [
           31,
           "Todd Larkham",
           178
          ],
          [
           5663,
           "Todd Martin",
           198
          ],
          [
           57,
           "Todd Nelson",
           185
          ],
          [
           2,
           "Todd Perry",
           175
          ],
          [
           115,
           "Todd Reid",
           180
          ],
          [
           180,
           "Todd Witsken",
           183
          ],
          [
           1224,
           "Todd Woodbridge",
           178
          ],
          [
           0,
           "Tom Brown",
           185
          ],
          [
           0,
           "Tom Cain",
           185
          ],
          [
           0,
           "Tom Edlefsen",
           188
          ],
          [
           0,
           "Tom Frisher",
           175
          ],
          [
           0,
           "Tom Gorman",
           180
          ],
          [
           0,
           "Tom Gullikson",
           180
          ],
          [
           59,
           "Tom Kempers",
           188
          ],
          [
           0,
           "Tom Leonard",
           175
          ],
          [
           6,
           "Tom Mercer",
           185
          ],
          [
           184,
           "Tom Nijssen",
           175
          ],
          [
           0,
           "Tom Okker",
           178
          ],
          [
           12,
           "Tomas Anzari",
           180
          ],
          [
           440,
           "Tomas Behrend",
           193
          ],
          [
           7195,
           "Tomas Berdych",
           196
          ],
          [
           69,
           "Tomas Cakl",
           178
          ],
          [
           824,
           "Tomas Carbonell",
           178
          ],
          [
           261,
           "Tomas Nydahl",
           185
          ],
          [
           0,
           "Tomas Smid",
           190
          ],
          [
           8,
           "Tomas Tenconi",
           178
          ],
          [
           479,
           "Tomas Zib",
           178
          ],
          [
           0,
           "Tomm Warneke",
           193
          ],
          [
           5893,
           "Tommy Haas",
           188
          ],
          [
           362,
           "Tommy Ho",
           183
          ],
          [
           3230,
           "Tommy Robredo",
           180
          ],
          [
           0,
           "Tony Giammalva",
           190
          ],
          [
           0,
           "Tony Mmoh",
           178
          ],
          [
           0,
           "Tony Roche",
           178
          ],
          [
           1,
           "Torben Theine",
           183
          ],
          [
           0,
           "Tore Meinecke",
           180
          ],
          [
           0,
           "Toru Yonezawa",
           188
          ],
          [
           4,
           "Toshiaki Sakai",
           175
          ],
          [
           12,
           "Toshihide Matsui",
           180
          ],
          [
           0,
           "Tracy Delatte",
           178
          ],
          [
           24,
           "Travis Rettenmaier",
           188
          ],
          [
           0,
           "Treat Conrad Huey",
           178
          ],
          [
           0,
           "Trevor Allan",
           178
          ],
          [
           4,
           "Trevor Kronemann",
           193
          ],
          [
           3,
           "Trevor Spracklin",
           190
          ],
          [
           0,
           "Trey Waltke",
           173
          ],
          [
           1,
           "Tripp Phillips",
           185
          ],
          [
           0,
           "Tsuyoshi Fukui",
           170
          ],
          [
           203,
           "Tuomas Ketola",
           185
          ],
          [
           118,
           "Udo Riglewski",
           185
          ],
          [
           0,
           "Ugo Biagianti",
           173
          ],
          [
           0,
           "Ugo Colombini",
           183
          ],
          [
           2,
           "Ulf Stenlund",
           180
          ],
          [
           60,
           "Uros Vico",
           188
          ],
          [
           20,
           "Vaclav Roubicek",
           185
          ],
          [
           41,
           "Vadim Kutsenko",
           180
          ],
          [
           0,
           "Vallis Wilder",
           190
          ],
          [
           0,
           "Van Winitsky",
           185
          ],
          [
           2505,
           "Vasek Pospisil",
           193
          ],
          [
           3,
           "Vasilis Mazarakis",
           178
          ],
          [
           65,
           "Veli Paloheimo",
           183
          ],
          [
           0,
           "Vicente Solves",
           180
          ],
          [
           0,
           "Victor Amaya",
           201
          ],
          [
           143,
           "Victor Crivoi",
           185
          ],
          [
           390,
           "Victor Estrella",
           173
          ],
          [
           1986,
           "Victor Hanescu",
           198
          ],
          [
           5,
           "Victor Ionita",
           185
          ],
          [
           0,
           "Victor Pecci",
           193
          ],
          [
           0,
           "Victor Sendin",
           175
          ],
          [
           0,
           "Vijay Amritraj",
           193
          ],
          [
           1,
           "Viktor Nagy",
           178
          ],
          [
           4195,
           "Viktor Troicki",
           193
          ],
          [
           0,
           "Ville Jansson",
           183
          ],
          [
           36,
           "Ville Liukko",
           173
          ],
          [
           122,
           "Vincent Millot",
           173
          ],
          [
           2338,
           "Vincent Spadea",
           183
          ],
          [
           0,
           "Vincent Van Patten",
           180
          ],
          [
           182,
           "Vincenzo Santopadre",
           183
          ],
          [
           17,
           "Vishnu Vardhan",
           188
          ],
          [
           0,
           "Vitas Gerulaitis",
           183
          ],
          [
           20,
           "Vladimir Gabrichidze",
           175
          ],
          [
           0,
           "Vladimir Obradovic",
           196
          ],
          [
           696,
           "Vladimir Voltchkov",
           180
          ],
          [
           0,
           "Vojtech Flegl",
           180
          ],
          [
           130,
           "Wade Mcguire",
           188
          ],
          [
           995,
           "Wally Masur",
           180
          ],
          [
           4341,
           "Wayne Arthurs",
           190
          ],
          [
           373,
           "Wayne Black",
           170
          ],
          [
           5566,
           "Wayne Ferreira",
           185
          ],
          [
           0,
           "Wayne Hampson",
           183
          ],
          [
           0,
           "Wayne Hearn",
           188
          ],
          [
           518,
           "Wayne Odesnik",
           180
          ],
          [
           0,
           "Weller Evans",
           178
          ],
          [
           277,
           "Werner Eschauer",
           188
          ],
          [
           1208,
           "Wesley Moodie",
           196
          ],
          [
           90,
           "Wesley Whitehouse",
           190
          ],
          [
           0,
           "Wilhelm Bungert",
           188
          ],
          [
           0,
           "Will Bull",
           185
          ],
          [
           0,
           "William Alvarez",
           178
          ],
          [
           0,
           "William Notar",
           185
          ],
          [
           0,
           "Wojtek Fibak",
           183
          ],
          [
           89,
           "Wojtek Kowalski",
           183
          ],
          [
           0,
           "Wolfgang Popp",
           183
          ],
          [
           89,
           "Wolfgang Schranz",
           178
          ],
          [
           0,
           "Woo Ryong Lee",
           173
          ],
          [
           0,
           "Woody Blocher",
           173
          ],
          [
           0,
           "Woody Hunt",
           178
          ],
          [
           24,
           "Woong Sun Jun",
           190
          ],
          [
           1,
           "Xavier Avila",
           183
          ],
          [
           99,
           "Xavier Daufresne",
           193
          ],
          [
           3722,
           "Xavier Malisse",
           185
          ],
          [
           44,
           "Yahiya Doumbia",
           185
          ],
          [
           12,
           "Yann Marti",
           173
          ],
          [
           84,
           "Yannick Noah",
           193
          ],
          [
           23,
           "Yasufumi Yamamoto",
           175
          ],
          [
           1546,
           "Yen Hsun Lu",
           180
          ],
          [
           4706,
           "Yevgeny Kafelnikov",
           190
          ],
          [
           38,
           "Yong Il Yoon",
           175
          ],
          [
           3108,
           "Younes El Aynaoui",
           193
          ],
          [
           0,
           "Young Dae Jeon",
           183
          ],
          [
           479,
           "Yuichi Sugita",
           173
          ],
          [
           92,
           "Yuki Bhambri",
           183
          ],
          [
           84,
           "Yuri Schukin",
           188
          ],
          [
           68,
           "Yves Allegro",
           183
          ],
          [
           138,
           "Zack Fleishman",
           188
          ],
          [
           4,
           "Zbynek Mlynarik",
           175
          ],
          [
           0,
           "Zeeshan Ali",
           180
          ],
          [
           95,
           "Zeljko Krajan",
           178
          ],
          [
           0,
           "Zoltan Kuharszky",
           183
          ]
         ],
         "hoverlabel": {
          "namelength": 0
         },
         "hovertemplate": "player_ht=%{customdata[2]}<br>aces=%{customdata[0]}<br>player_name=%{customdata[1]}",
         "legendgroup": "",
         "marker": {
          "color": "#636efa",
          "symbol": "circle"
         },
         "mode": "markers",
         "name": "",
         "showlegend": false,
         "type": "scattergl",
         "x": [
          183,
          180,
          178,
          193,
          185,
          175,
          183,
          190,
          178,
          185,
          183,
          183,
          185,
          180,
          183,
          183,
          175,
          175,
          188,
          173,
          183,
          203,
          183,
          180,
          175,
          188,
          188,
          173,
          180,
          175,
          175,
          193,
          175,
          185,
          180,
          180,
          180,
          183,
          190,
          175,
          183,
          185,
          188,
          183,
          178,
          190,
          183,
          180,
          175,
          183,
          175,
          188,
          185,
          185,
          180,
          183,
          188,
          183,
          201,
          193,
          193,
          185,
          188,
          188,
          198,
          185,
          180,
          190,
          188,
          193,
          196,
          188,
          190,
          181,
          175,
          180,
          178,
          185,
          196,
          183,
          188,
          178,
          175,
          185,
          180,
          180,
          193,
          185,
          183,
          190,
          190,
          190,
          196,
          175,
          190,
          180,
          180,
          188,
          193,
          183,
          185,
          183,
          180,
          178,
          180,
          185,
          193,
          180,
          193,
          178,
          190,
          190,
          180,
          193,
          180,
          188,
          188,
          201,
          175,
          185,
          185,
          185,
          185,
          178,
          190,
          180,
          188,
          183,
          163,
          183,
          178,
          180,
          185,
          180,
          180,
          183,
          183,
          173,
          185,
          188,
          193,
          178,
          185,
          193,
          180,
          183,
          178,
          185,
          183,
          188,
          190,
          180,
          173,
          178,
          183,
          170,
          178,
          185,
          178,
          185,
          178,
          175,
          196,
          185,
          185,
          173,
          188,
          193,
          178,
          185,
          178,
          188,
          185,
          178,
          178,
          180,
          185,
          180,
          175,
          175,
          170,
          188,
          188,
          180,
          193,
          183,
          193,
          190,
          183,
          165,
          178,
          190,
          183,
          188,
          180,
          173,
          190,
          180,
          190,
          185,
          185,
          175,
          190,
          183,
          175,
          188,
          185,
          178,
          185,
          178,
          183,
          183,
          178,
          183,
          185,
          190,
          170,
          185,
          201,
          173,
          183,
          183,
          183,
          183,
          180,
          183,
          193,
          190,
          183,
          190,
          183,
          180,
          180,
          190,
          173,
          175,
          183,
          175,
          180,
          185,
          183,
          193,
          170,
          188,
          193,
          175,
          183,
          183,
          175,
          175,
          170,
          180,
          183,
          190,
          183,
          180,
          175,
          175,
          173,
          190,
          196,
          193,
          198,
          196,
          180,
          173,
          188,
          183,
          180,
          183,
          185,
          196,
          183,
          185,
          185,
          178,
          180,
          180,
          180,
          198,
          163,
          196,
          193,
          180,
          201,
          178,
          175,
          185,
          180,
          183,
          180,
          188,
          190,
          180,
          183,
          183,
          185,
          188,
          190,
          183,
          180,
          185,
          185,
          185,
          185,
          178,
          183,
          170,
          188,
          185,
          188,
          180,
          185,
          196,
          188,
          190,
          180,
          178,
          180,
          185,
          178,
          188,
          175,
          188,
          188,
          185,
          188,
          188,
          185,
          188,
          190,
          178,
          185,
          188,
          183,
          190,
          175,
          180,
          178,
          190,
          180,
          185,
          188,
          196,
          172,
          178,
          178,
          185,
          188,
          190,
          173,
          180,
          178,
          196,
          190,
          170,
          175,
          183,
          175,
          185,
          190,
          180,
          178,
          185,
          170,
          190,
          183,
          190,
          180,
          183,
          193,
          193,
          173,
          185,
          188,
          183,
          188,
          180,
          180,
          183,
          175,
          173,
          178,
          180,
          180,
          175,
          163,
          180,
          185,
          180,
          180,
          180,
          175,
          185,
          185,
          183,
          180,
          183,
          180,
          183,
          185,
          178,
          183,
          185,
          193,
          183,
          180,
          178,
          193,
          190,
          188,
          180,
          175,
          180,
          188,
          183,
          188,
          180,
          193,
          190,
          188,
          193,
          185,
          183,
          183,
          178,
          185,
          185,
          185,
          193,
          193,
          203,
          188,
          178,
          175,
          175,
          185,
          178,
          175,
          188,
          178,
          170,
          193,
          183,
          183,
          185,
          185,
          180,
          185,
          188,
          185,
          193,
          183,
          198,
          185,
          180,
          185,
          190,
          183,
          175,
          180,
          170,
          180,
          188,
          183,
          178,
          175,
          180,
          190,
          196,
          185,
          188,
          170,
          190,
          180,
          175,
          188,
          185,
          168,
          178,
          180,
          173,
          160,
          183,
          175,
          178,
          188,
          178,
          178,
          188,
          183,
          183,
          180,
          180,
          190,
          193,
          180,
          178,
          180,
          196,
          178,
          180,
          193,
          175,
          188,
          180,
          183,
          188,
          190,
          190,
          183,
          185,
          185,
          185,
          183,
          183,
          178,
          175,
          190,
          178,
          196,
          180,
          190,
          188,
          170,
          168,
          188,
          175,
          183,
          178,
          180,
          173,
          183,
          175,
          180,
          190,
          180,
          185,
          188,
          180,
          188,
          180,
          190,
          185,
          196,
          173,
          193,
          173,
          183,
          173,
          183,
          180,
          190,
          190,
          180,
          180,
          175,
          183,
          190,
          183,
          180,
          190,
          193,
          185,
          183,
          175,
          190,
          173,
          188,
          183,
          180,
          180,
          185,
          188,
          190,
          193,
          193,
          193,
          183,
          183,
          190,
          183,
          190,
          173,
          178,
          190,
          190,
          193,
          193,
          180,
          185,
          183,
          196,
          183,
          180,
          180,
          178,
          193,
          173,
          193,
          173,
          173,
          190,
          190,
          190,
          175,
          178,
          185,
          175,
          183,
          183,
          185,
          183,
          183,
          173,
          183,
          183,
          190,
          190,
          173,
          178,
          190,
          180,
          185,
          185,
          180,
          193,
          173,
          168,
          180,
          185,
          183,
          173,
          180,
          188,
          190,
          193,
          183,
          180,
          193,
          173,
          183,
          185,
          175,
          188,
          178,
          193,
          180,
          180,
          173,
          173,
          185,
          180,
          175,
          190,
          188,
          180,
          188,
          178,
          190,
          193,
          188,
          185,
          183,
          183,
          180,
          190,
          188,
          183,
          185,
          180,
          188,
          188,
          185,
          175,
          188,
          178,
          183,
          180,
          180,
          185,
          190,
          180,
          180,
          190,
          185,
          175,
          190,
          193,
          185,
          183,
          183,
          185,
          173,
          178,
          188,
          185,
          168,
          178,
          173,
          183,
          170,
          180,
          190,
          178,
          180,
          188,
          183,
          188,
          185,
          183,
          188,
          185,
          180,
          188,
          180,
          190,
          175,
          180,
          188,
          193,
          175,
          170,
          173,
          183,
          178,
          170,
          190,
          180,
          183,
          185,
          170,
          185,
          188,
          180,
          190,
          190,
          183,
          193,
          185,
          180,
          183,
          188,
          188,
          185,
          190,
          183,
          183,
          188,
          193,
          175,
          183,
          188,
          188,
          208,
          183,
          183,
          180,
          196,
          188,
          188,
          185,
          185,
          173,
          185,
          180,
          196,
          170,
          183,
          188,
          185,
          183,
          183,
          185,
          180,
          180,
          190,
          178,
          185,
          190,
          183,
          190,
          185,
          180,
          190,
          175,
          178,
          188,
          190,
          190,
          188,
          183,
          198,
          193,
          180,
          190,
          185,
          175,
          175,
          196,
          196,
          178,
          178,
          178,
          185,
          173,
          185,
          178,
          178,
          180,
          188,
          188,
          183,
          190,
          175,
          188,
          183,
          183,
          178,
          178,
          185,
          173,
          193,
          193,
          173,
          173,
          185,
          185,
          180,
          188,
          190,
          180,
          180,
          188,
          188,
          185,
          185,
          180,
          175,
          203,
          188,
          175,
          178,
          170,
          165,
          185,
          193,
          175,
          175,
          185,
          193,
          193,
          175,
          180,
          178,
          178,
          175,
          185,
          185,
          190,
          185,
          188,
          198,
          178,
          188,
          173,
          185,
          185,
          193,
          180,
          188,
          196,
          178,
          185,
          183,
          183,
          190,
          180,
          175,
          183,
          193,
          185,
          185,
          185,
          196,
          190,
          193,
          185,
          188,
          175,
          190,
          183,
          173,
          193,
          206,
          183,
          193,
          185,
          178,
          183,
          180,
          188,
          183,
          183,
          185,
          185,
          188,
          173,
          183,
          188,
          185,
          180,
          178,
          178,
          190,
          183,
          188,
          185,
          180,
          180,
          188,
          188,
          180,
          175,
          188,
          180,
          180,
          183,
          190,
          175,
          180,
          180,
          180,
          190,
          178,
          178,
          173,
          178,
          185,
          185,
          178,
          173,
          183,
          185,
          188,
          175,
          188,
          183,
          188,
          193,
          180,
          183,
          185,
          175,
          180,
          178,
          190,
          183,
          183,
          180,
          180,
          178,
          198,
          190,
          180,
          198,
          185,
          190,
          178,
          178,
          185,
          185,
          185,
          188,
          188,
          185,
          190,
          188,
          180,
          180,
          173,
          173,
          183,
          190,
          190,
          196,
          178,
          190,
          185,
          180,
          178,
          170,
          180,
          188,
          180,
          183,
          178,
          188,
          188,
          185,
          175,
          185,
          185,
          175,
          185,
          175,
          190,
          203,
          188,
          180,
          196,
          203,
          185,
          180,
          190,
          188,
          183,
          178,
          183,
          180,
          183,
          178,
          183,
          190,
          183,
          183,
          190,
          188,
          180,
          185,
          188,
          188,
          193,
          185,
          188,
          180,
          185,
          175,
          188,
          178,
          193,
          183,
          188,
          188,
          196,
          180,
          180,
          183,
          183,
          183,
          185,
          178,
          183,
          180,
          178,
          188,
          188,
          188,
          188,
          183,
          180,
          168,
          196,
          180,
          185,
          175,
          180,
          190,
          175,
          173,
          190,
          175,
          178,
          175,
          190,
          170,
          180,
          185,
          178,
          170,
          180,
          180,
          183,
          185,
          185,
          196,
          190,
          188,
          190,
          180,
          188,
          185,
          193,
          188,
          193,
          185,
          178,
          185,
          180,
          178,
          178,
          178,
          193,
          190,
          188,
          196,
          183,
          175,
          201,
          173,
          190,
          180,
          180,
          178,
          170,
          178,
          203,
          175,
          178,
          188,
          175,
          188,
          185,
          188,
          180,
          180,
          185,
          183,
          180,
          185,
          183,
          193,
          190,
          183,
          188,
          173,
          183,
          178,
          180,
          183,
          198,
          194,
          196,
          170,
          188,
          180,
          185,
          188,
          193,
          193,
          175,
          178,
          185,
          190,
          185,
          185,
          173,
          170,
          185,
          185,
          190,
          185,
          178,
          188,
          185,
          196,
          183,
          196,
          183,
          170,
          188,
          188,
          188,
          175,
          178,
          178,
          188,
          178,
          190,
          180,
          178,
          196,
          190,
          180,
          188,
          188,
          190,
          178,
          190,
          190,
          180,
          178,
          180,
          180,
          190,
          188,
          183,
          196,
          183,
          183,
          185,
          180,
          180,
          185,
          175,
          178,
          183,
          173,
          193,
          185,
          183,
          183,
          188,
          193,
          178,
          180,
          188,
          188,
          178,
          170,
          193,
          196,
          180,
          175,
          183,
          178,
          183,
          180,
          173,
          193,
          175,
          175,
          188,
          183,
          190,
          190,
          178,
          188,
          180,
          188,
          185,
          185,
          190,
          188,
          188,
          190,
          185,
          173,
          188,
          180,
          193,
          193,
          190,
          183,
          190,
          185,
          183,
          180,
          185,
          175,
          185,
          180,
          201,
          188,
          180,
          185,
          183,
          173,
          188,
          185,
          188,
          178,
          183,
          190,
          190,
          183,
          185,
          173,
          180,
          180,
          178,
          188,
          183,
          183,
          188,
          183,
          190,
          203,
          180,
          196,
          175,
          190,
          190,
          185,
          173,
          183,
          193,
          190,
          180,
          193,
          178,
          180,
          183,
          190,
          190,
          193,
          190,
          188,
          190,
          173,
          190,
          185,
          193,
          183,
          180,
          183,
          190,
          180,
          188,
          178,
          183,
          175,
          185,
          185,
          173,
          185,
          178,
          183,
          188,
          190,
          183,
          188,
          183,
          183,
          178,
          185,
          188,
          185,
          180,
          188,
          190,
          188,
          178,
          188,
          193,
          175,
          178,
          180,
          185,
          185,
          170,
          180,
          175,
          180,
          168,
          188,
          183,
          188,
          188,
          170,
          185,
          170,
          180,
          185,
          183,
          173,
          190,
          170,
          180,
          196,
          185,
          178,
          180,
          180,
          180,
          188,
          180,
          178,
          175,
          180,
          183,
          190,
          185,
          175,
          185,
          175,
          188,
          183,
          188,
          190,
          170,
          173,
          188,
          178,
          183,
          180,
          188,
          188,
          183,
          183,
          183,
          178,
          180,
          185,
          185,
          190,
          185,
          185,
          183,
          190,
          178,
          185,
          185,
          178,
          188,
          183,
          185,
          175,
          175,
          178,
          180,
          188,
          188,
          173,
          190,
          183,
          170,
          180,
          190,
          183,
          183,
          185,
          188,
          193,
          175,
          183,
          180,
          188,
          190,
          178,
          183,
          180,
          196,
          185,
          175,
          178,
          175,
          183,
          185,
          185,
          193,
          190,
          188,
          180,
          185,
          183,
          183,
          185,
          196,
          185,
          190,
          188,
          190,
          193,
          185,
          183,
          188,
          188,
          173,
          178,
          185,
          180,
          175,
          175,
          185,
          185,
          188,
          185,
          180,
          173,
          188,
          188,
          178,
          185,
          188,
          185,
          185,
          178,
          180,
          193,
          160,
          170,
          185,
          188,
          193,
          188,
          183,
          190,
          183,
          180,
          188,
          183,
          185,
          185,
          180,
          183,
          175,
          175,
          175,
          175,
          180,
          175,
          180,
          170,
          180,
          175,
          183,
          188,
          185,
          196,
          185,
          196,
          188,
          183,
          188,
          185,
          193,
          185,
          180,
          180,
          188,
          173,
          188,
          185,
          178,
          180,
          188,
          183,
          173,
          180,
          183,
          183,
          175,
          188,
          193,
          183,
          190,
          190,
          180,
          180,
          188,
          178,
          185,
          190,
          188,
          180,
          193,
          173,
          185,
          183,
          178,
          190,
          185,
          178,
          190,
          193,
          183,
          185,
          173,
          188,
          183,
          183,
          185,
          183,
          183,
          185,
          178,
          190,
          190,
          183,
          183,
          178,
          185,
          178,
          190,
          183,
          183,
          185,
          185,
          180,
          183,
          183,
          190,
          196,
          175,
          183,
          188,
          183,
          193,
          178,
          173,
          188,
          183,
          183,
          196,
          180,
          183,
          180,
          198,
          190,
          180,
          178,
          175,
          190,
          193,
          193,
          180,
          178,
          188,
          190,
          168,
          183,
          180,
          185,
          180,
          180,
          180,
          175,
          188,
          178,
          183,
          185,
          185,
          180,
          188,
          190,
          196,
          188,
          178,
          178,
          180,
          183,
          175,
          183,
          193,
          183,
          188,
          185,
          170,
          185,
          193,
          193,
          193,
          185,
          180,
          188,
          188,
          185,
          185,
          185,
          190,
          198,
          183,
          185,
          183,
          180,
          173,
          193,
          183,
          198,
          180,
          175,
          190,
          193,
          183,
          170,
          185,
          185,
          188,
          193,
          193,
          190,
          175,
          180,
          175,
          185,
          175,
          178,
          185,
          185,
          185,
          188,
          185,
          188,
          190,
          180,
          185,
          180,
          193,
          180,
          185,
          185,
          175,
          178,
          183,
          178,
          178,
          188,
          180,
          188,
          188,
          183,
          175,
          193,
          190,
          188,
          180,
          183,
          188,
          185,
          180,
          178,
          196,
          188,
          175,
          188,
          180,
          175,
          168,
          180,
          188,
          188,
          188,
          180,
          178,
          180,
          188,
          178,
          193,
          188,
          183,
          188,
          178,
          178,
          185,
          190,
          178,
          185,
          190,
          180,
          180,
          180,
          180,
          203,
          178,
          190,
          188,
          183,
          191,
          175,
          180,
          185,
          190,
          175,
          175,
          188,
          180,
          185,
          180,
          183,
          185,
          180,
          170,
          185,
          193,
          178,
          198,
          185,
          175,
          180,
          183,
          178,
          185,
          185,
          188,
          175,
          180,
          180,
          188,
          175,
          185,
          175,
          178,
          180,
          193,
          196,
          178,
          178,
          185,
          190,
          178,
          178,
          193,
          188,
          183,
          180,
          190,
          178,
          178,
          183,
          180,
          188,
          175,
          180,
          178,
          188,
          178,
          178,
          193,
          190,
          173,
          185,
          170,
          185,
          185,
          173,
          183,
          180,
          188,
          185,
          180,
          190,
          185,
          193,
          178,
          183,
          180,
          201,
          185,
          173,
          198,
          185,
          193,
          175,
          193,
          178,
          193,
          183,
          173,
          173,
          183,
          180,
          183,
          188,
          183,
          175,
          196,
          180,
          180,
          188,
          180,
          190,
          170,
          185,
          183,
          188,
          180,
          178,
          188,
          196,
          190,
          188,
          185,
          178,
          185,
          183,
          183,
          183,
          178,
          173,
          173,
          178,
          190,
          183,
          193,
          185,
          185,
          173,
          193,
          175,
          180,
          190,
          175,
          193,
          183,
          173,
          183,
          188,
          183,
          188,
          175,
          180,
          178,
          183
         ],
         "xaxis": "x",
         "y": [
          995,
          0,
          3,
          31,
          0,
          89,
          2051,
          0,
          115,
          1585,
          0,
          2649,
          3,
          15,
          0,
          279,
          7,
          29,
          0,
          0,
          26,
          264,
          88,
          2207,
          1804,
          1382,
          1594,
          758,
          355,
          979,
          0,
          10,
          0,
          853,
          0,
          0,
          154,
          73,
          6,
          0,
          110,
          189,
          532,
          220,
          388,
          1051,
          11,
          2610,
          71,
          286,
          101,
          0,
          1020,
          970,
          0,
          126,
          699,
          273,
          485,
          53,
          20,
          12,
          1898,
          946,
          3029,
          0,
          3147,
          2,
          200,
          0,
          12,
          0,
          34,
          2050,
          9,
          44,
          0,
          0,
          807,
          23,
          27,
          0,
          813,
          0,
          600,
          4055,
          19,
          386,
          1012,
          42,
          459,
          814,
          0,
          0,
          3692,
          772,
          656,
          881,
          2768,
          16,
          1759,
          2390,
          11,
          459,
          94,
          0,
          396,
          7,
          1,
          0,
          40,
          103,
          970,
          13,
          0,
          11,
          0,
          152,
          128,
          679,
          885,
          0,
          4,
          0,
          5816,
          76,
          9040,
          2,
          0,
          0,
          0,
          90,
          1539,
          0,
          0,
          18,
          1555,
          3135,
          400,
          313,
          7,
          0,
          0,
          271,
          104,
          375,
          0,
          155,
          0,
          202,
          0,
          0,
          0,
          35,
          8,
          0,
          95,
          0,
          11,
          55,
          2838,
          0,
          3961,
          8,
          0,
          0,
          0,
          2765,
          36,
          1542,
          0,
          17,
          0,
          0,
          0,
          10,
          33,
          45,
          803,
          23,
          0,
          8,
          515,
          0,
          390,
          0,
          0,
          0,
          0,
          0,
          0,
          21,
          885,
          1471,
          35,
          2,
          4362,
          181,
          1,
          0,
          1200,
          28,
          435,
          4,
          21,
          150,
          7,
          57,
          69,
          1,
          0,
          0,
          0,
          6,
          1038,
          297,
          96,
          25,
          97,
          20,
          0,
          0,
          16,
          0,
          540,
          0,
          0,
          0,
          170,
          23,
          18,
          1,
          0,
          0,
          0,
          0,
          6,
          5,
          0,
          1786,
          80,
          0,
          17,
          0,
          0,
          1534,
          0,
          8,
          0,
          22,
          30,
          615,
          995,
          0,
          1712,
          16,
          0,
          0,
          0,
          4392,
          8,
          201,
          236,
          0,
          63,
          459,
          3687,
          254,
          9,
          1,
          0,
          0,
          0,
          0,
          0,
          0,
          0,
          0,
          5,
          0,
          0,
          73,
          0,
          148,
          1386,
          11,
          0,
          0,
          0,
          214,
          333,
          1255,
          23,
          472,
          0,
          0,
          153,
          582,
          345,
          200,
          0,
          0,
          417,
          0,
          0,
          0,
          0,
          588,
          0,
          101,
          0,
          2,
          709,
          6,
          0,
          1,
          212,
          0,
          120,
          23,
          30,
          0,
          0,
          1,
          0,
          0,
          11,
          0,
          14,
          2,
          0,
          0,
          25,
          0,
          0,
          0,
          0,
          0,
          357,
          1321,
          2,
          0,
          0,
          6,
          578,
          0,
          0,
          0,
          76,
          0,
          240,
          22,
          1,
          1335,
          33,
          23,
          0,
          95,
          635,
          1221,
          28,
          86,
          8,
          3,
          0,
          1429,
          66,
          2615,
          621,
          42,
          149,
          0,
          98,
          129,
          0,
          120,
          108,
          2,
          9,
          0,
          0,
          120,
          0,
          100,
          0,
          2926,
          2433,
          0,
          23,
          0,
          0,
          0,
          1,
          49,
          2,
          7,
          0,
          188,
          2030,
          209,
          2691,
          390,
          480,
          0,
          12,
          23,
          0,
          0,
          2471,
          281,
          2134,
          64,
          0,
          0,
          15,
          352,
          2956,
          877,
          0,
          8,
          0,
          4,
          416,
          0,
          0,
          0,
          0,
          966,
          0,
          24,
          0,
          927,
          0,
          13,
          9,
          5,
          168,
          44,
          11,
          1128,
          114,
          689,
          17,
          19,
          146,
          183,
          105,
          0,
          3219,
          1,
          2605,
          0,
          3181,
          89,
          0,
          0,
          0,
          69,
          1008,
          0,
          0,
          1,
          0,
          0,
          213,
          0,
          684,
          1100,
          193,
          1407,
          0,
          0,
          0,
          0,
          72,
          0,
          893,
          6,
          0,
          37,
          10,
          11,
          0,
          384,
          0,
          0,
          137,
          0,
          0,
          64,
          37,
          458,
          990,
          0,
          0,
          0,
          0,
          0,
          49,
          0,
          68,
          0,
          0,
          141,
          22,
          0,
          0,
          0,
          4239,
          0,
          23,
          7,
          800,
          805,
          38,
          141,
          2172,
          3,
          3,
          2609,
          27,
          96,
          1040,
          149,
          3,
          8,
          9733,
          5,
          33,
          8,
          1494,
          0,
          3729,
          1,
          1344,
          108,
          1,
          0,
          5304,
          1100,
          237,
          0,
          760,
          721,
          0,
          38,
          5,
          12,
          276,
          82,
          580,
          1106,
          6,
          2034,
          11,
          0,
          4,
          5,
          14,
          1227,
          15,
          8,
          0,
          0,
          72,
          248,
          10,
          180,
          15,
          1090,
          0,
          0,
          1247,
          0,
          0,
          11,
          143,
          81,
          12,
          0,
          0,
          82,
          289,
          11,
          276,
          350,
          89,
          8,
          209,
          0,
          0,
          0,
          0,
          2,
          198,
          3,
          29,
          72,
          0,
          6201,
          1309,
          0,
          0,
          0,
          696,
          0,
          305,
          418,
          1215,
          0,
          0,
          0,
          101,
          0,
          0,
          678,
          3,
          2,
          18,
          0,
          0,
          42,
          0,
          196,
          0,
          0,
          422,
          55,
          0,
          1518,
          13,
          0,
          176,
          286,
          258,
          0,
          5349,
          3657,
          65,
          108,
          5,
          0,
          116,
          33,
          324,
          336,
          10131,
          308,
          4,
          68,
          0,
          387,
          58,
          0,
          0,
          680,
          0,
          0,
          0,
          52,
          7589,
          0,
          0,
          547,
          198,
          0,
          960,
          3666,
          4,
          1202,
          1821,
          313,
          11,
          2152,
          917,
          2360,
          160,
          0,
          0,
          0,
          0,
          0,
          0,
          0,
          4290,
          0,
          0,
          2493,
          0,
          0,
          0,
          0,
          0,
          0,
          0,
          0,
          497,
          0,
          0,
          7,
          33,
          1,
          0,
          0,
          0,
          0,
          1090,
          124,
          0,
          783,
          1670,
          0,
          25,
          18,
          633,
          0,
          2,
          1632,
          129,
          1286,
          8,
          518,
          0,
          0,
          126,
          0,
          0,
          0,
          902,
          21,
          4,
          17,
          2129,
          10,
          648,
          5,
          956,
          0,
          349,
          621,
          1,
          0,
          24,
          550,
          18,
          0,
          2051,
          0,
          1701,
          8108,
          55,
          671,
          6,
          670,
          13653,
          14,
          528,
          0,
          98,
          1926,
          49,
          1980,
          12,
          202,
          0,
          0,
          392,
          461,
          0,
          1803,
          3472,
          760,
          27,
          0,
          48,
          0,
          462,
          202,
          1198,
          0,
          492,
          35,
          209,
          321,
          575,
          0,
          1,
          829,
          17,
          4170,
          0,
          3386,
          407,
          0,
          3452,
          546,
          2181,
          0,
          6,
          1,
          0,
          3,
          0,
          0,
          2428,
          0,
          1360,
          1,
          1222,
          11,
          2,
          0,
          33,
          46,
          33,
          60,
          39,
          0,
          0,
          0,
          479,
          260,
          0,
          0,
          0,
          0,
          702,
          472,
          1817,
          0,
          811,
          22,
          427,
          4583,
          1557,
          105,
          10,
          0,
          0,
          1585,
          207,
          470,
          68,
          0,
          3,
          2852,
          1240,
          0,
          0,
          0,
          50,
          7,
          136,
          17,
          140,
          232,
          29,
          0,
          0,
          2245,
          1104,
          6604,
          1723,
          0,
          0,
          164,
          0,
          1467,
          383,
          4,
          0,
          666,
          0,
          5,
          26,
          31,
          1,
          1,
          53,
          2,
          0,
          18,
          482,
          0,
          4,
          0,
          0,
          0,
          0,
          0,
          0,
          90,
          0,
          0,
          12569,
          0,
          5,
          0,
          0,
          0,
          514,
          0,
          844,
          0,
          8,
          7,
          0,
          1,
          5,
          21,
          567,
          0,
          0,
          0,
          0,
          3085,
          492,
          22,
          54,
          8,
          0,
          2555,
          107,
          248,
          1265,
          0,
          1,
          0,
          1916,
          16,
          0,
          0,
          20,
          188,
          0,
          9,
          0,
          4,
          0,
          0,
          13,
          0,
          70,
          0,
          0,
          94,
          38,
          32,
          84,
          171,
          5,
          32,
          395,
          373,
          0,
          0,
          458,
          5,
          2850,
          0,
          21,
          5,
          75,
          1781,
          0,
          4458,
          1309,
          0,
          41,
          70,
          0,
          0,
          483,
          139,
          162,
          3325,
          1417,
          17,
          37,
          0,
          34,
          0,
          3411,
          244,
          46,
          1854,
          0,
          1913,
          1404,
          0,
          0,
          0,
          1077,
          2416,
          938,
          0,
          1947,
          0,
          80,
          0,
          101,
          64,
          0,
          0,
          50,
          0,
          3956,
          715,
          190,
          0,
          126,
          7111,
          500,
          677,
          19,
          0,
          0,
          231,
          0,
          0,
          0,
          0,
          48,
          14,
          1,
          5,
          249,
          56,
          112,
          0,
          38,
          764,
          1116,
          2,
          10,
          0,
          29,
          18,
          0,
          0,
          89,
          928,
          469,
          74,
          190,
          0,
          729,
          39,
          0,
          118,
          2,
          444,
          0,
          0,
          0,
          8,
          0,
          219,
          2329,
          28,
          0,
          6,
          8,
          53,
          704,
          1,
          5100,
          0,
          0,
          0,
          336,
          63,
          0,
          38,
          96,
          0,
          129,
          1873,
          61,
          152,
          1157,
          3,
          861,
          360,
          1363,
          1773,
          997,
          27,
          145,
          46,
          36,
          1445,
          3078,
          2510,
          0,
          112,
          0,
          927,
          2026,
          8,
          0,
          3,
          5632,
          0,
          1239,
          3595,
          14,
          32,
          6153,
          0,
          1832,
          80,
          52,
          526,
          0,
          2,
          0,
          2508,
          21,
          5,
          22,
          0,
          558,
          1,
          18,
          0,
          221,
          4350,
          361,
          0,
          651,
          5,
          0,
          18,
          4892,
          124,
          2,
          14,
          841,
          1661,
          7082,
          688,
          2942,
          0,
          26,
          0,
          36,
          0,
          1514,
          10,
          0,
          0,
          0,
          0,
          31,
          0,
          0,
          17,
          29,
          53,
          270,
          243,
          72,
          82,
          20,
          0,
          415,
          6684,
          0,
          0,
          0,
          1989,
          0,
          0,
          7,
          0,
          274,
          316,
          110,
          0,
          3,
          995,
          501,
          0,
          26,
          2946,
          3,
          383,
          1292,
          59,
          324,
          372,
          536,
          32,
          120,
          43,
          333,
          1505,
          27,
          0,
          0,
          349,
          35,
          0,
          2,
          0,
          6,
          26,
          62,
          28,
          25,
          363,
          0,
          0,
          2,
          0,
          1130,
          585,
          152,
          126,
          3,
          4052,
          5,
          155,
          8,
          0,
          51,
          30,
          0,
          1322,
          0,
          3357,
          0,
          0,
          0,
          32,
          0,
          73,
          395,
          371,
          0,
          64,
          3091,
          25,
          0,
          0,
          2,
          582,
          128,
          35,
          3452,
          5,
          1633,
          4,
          0,
          90,
          45,
          42,
          604,
          285,
          577,
          0,
          255,
          18,
          0,
          66,
          0,
          172,
          24,
          862,
          1,
          0,
          0,
          0,
          46,
          0,
          0,
          0,
          0,
          0,
          0,
          0,
          4,
          1136,
          134,
          3501,
          0,
          28,
          76,
          7929,
          0,
          0,
          1626,
          0,
          0,
          96,
          0,
          47,
          73,
          11,
          0,
          156,
          13,
          0,
          0,
          365,
          3,
          4,
          183,
          438,
          27,
          0,
          3732,
          39,
          0,
          64,
          1442,
          5,
          35,
          27,
          5477,
          2,
          9,
          108,
          263,
          1856,
          0,
          4081,
          2686,
          3111,
          1886,
          731,
          277,
          2,
          2523,
          832,
          77,
          336,
          0,
          5887,
          252,
          21,
          0,
          3,
          352,
          21,
          0,
          0,
          409,
          216,
          831,
          8,
          253,
          332,
          840,
          14,
          1,
          1055,
          0,
          7,
          302,
          49,
          455,
          92,
          25,
          27,
          67,
          0,
          0,
          0,
          0,
          20,
          562,
          126,
          41,
          1432,
          2391,
          3,
          0,
          305,
          1159,
          10,
          2478,
          0,
          0,
          0,
          0,
          346,
          22,
          0,
          0,
          0,
          0,
          0,
          31,
          0,
          0,
          515,
          0,
          0,
          727,
          11,
          0,
          3633,
          160,
          937,
          0,
          82,
          82,
          412,
          1,
          0,
          0,
          469,
          1924,
          6,
          2783,
          101,
          6,
          0,
          0,
          3,
          95,
          0,
          22,
          3,
          2,
          90,
          3,
          0,
          413,
          8689,
          0,
          0,
          0,
          0,
          0,
          0,
          8,
          0,
          0,
          0,
          0,
          940,
          0,
          0,
          0,
          639,
          285,
          0,
          66,
          51,
          0,
          220,
          0,
          0,
          0,
          103,
          902,
          0,
          2223,
          18,
          52,
          1,
          0,
          0,
          19,
          2,
          0,
          4591,
          1378,
          21,
          37,
          0,
          12,
          20,
          1652,
          36,
          0,
          3,
          848,
          147,
          23,
          4112,
          198,
          1463,
          3630,
          12,
          2121,
          1137,
          0,
          25,
          1095,
          0,
          0,
          1,
          4,
          4,
          0,
          47,
          10,
          0,
          141,
          70,
          5,
          0,
          0,
          0,
          1253,
          963,
          6,
          0,
          4,
          0,
          28,
          351,
          0,
          11,
          163,
          3687,
          4700,
          7648,
          98,
          0,
          0,
          12,
          28,
          0,
          1821,
          0,
          70,
          0,
          0,
          0,
          0,
          226,
          19,
          0,
          23,
          0,
          208,
          2197,
          0,
          0,
          57,
          0,
          1082,
          0,
          0,
          0,
          0,
          0,
          0,
          4,
          67,
          0,
          0,
          0,
          120,
          1528,
          90,
          86,
          0,
          0,
          3090,
          3868,
          215,
          0,
          0,
          0,
          22,
          768,
          11311,
          0,
          17,
          65,
          292,
          56,
          237,
          208,
          16,
          0,
          0,
          0,
          0,
          35,
          1,
          0,
          0,
          630,
          0,
          0,
          6,
          57,
          0,
          0,
          0,
          596,
          12,
          82,
          0,
          0,
          1909,
          10,
          390,
          4,
          38,
          23,
          8356,
          75,
          0,
          0,
          0,
          35,
          1445,
          284,
          21,
          0,
          1258,
          27,
          0,
          361,
          1466,
          49,
          13,
          6,
          0,
          36,
          125,
          1535,
          4,
          88,
          8,
          0,
          6,
          53,
          0,
          131,
          0,
          26,
          48,
          186,
          3098,
          1269,
          14,
          0,
          2181,
          12,
          14,
          241,
          2308,
          6,
          0,
          15,
          3,
          0,
          0,
          1523,
          0,
          438,
          71,
          0,
          43,
          314,
          1140,
          0,
          5,
          2016,
          955,
          109,
          449,
          3,
          0,
          0,
          5819,
          0,
          1,
          0,
          1405,
          1,
          0,
          0,
          1517,
          0,
          0,
          0,
          4,
          144,
          1034,
          6,
          0,
          7,
          135,
          0,
          0,
          316,
          439,
          12,
          619,
          0,
          0,
          15,
          0,
          150,
          260,
          0,
          927,
          0,
          13,
          4,
          2785,
          0,
          0,
          0,
          0,
          0,
          1,
          23,
          0,
          0,
          10,
          13,
          2,
          0,
          491,
          39,
          0,
          69,
          16,
          358,
          2129,
          0,
          0,
          0,
          0,
          0,
          1388,
          81,
          1149,
          272,
          254,
          189,
          0,
          5,
          56,
          5417,
          47,
          0,
          227,
          5113,
          15,
          1813,
          17,
          27,
          14,
          0,
          2333,
          13,
          0,
          0,
          0,
          4306,
          181,
          0,
          571,
          0,
          0,
          0,
          3,
          36,
          31,
          329,
          0,
          39,
          0,
          31,
          5663,
          57,
          2,
          115,
          180,
          1224,
          0,
          0,
          0,
          0,
          0,
          0,
          59,
          0,
          6,
          184,
          0,
          12,
          440,
          7195,
          69,
          824,
          261,
          0,
          8,
          479,
          0,
          5893,
          362,
          3230,
          0,
          0,
          0,
          1,
          0,
          0,
          4,
          12,
          0,
          24,
          0,
          0,
          4,
          3,
          0,
          1,
          0,
          203,
          118,
          0,
          0,
          2,
          60,
          20,
          41,
          0,
          0,
          2505,
          3,
          65,
          0,
          0,
          143,
          390,
          1986,
          5,
          0,
          0,
          0,
          1,
          4195,
          0,
          36,
          122,
          2338,
          0,
          182,
          17,
          0,
          20,
          0,
          696,
          0,
          130,
          995,
          4341,
          373,
          5566,
          0,
          0,
          518,
          0,
          277,
          1208,
          90,
          0,
          0,
          0,
          0,
          0,
          89,
          0,
          89,
          0,
          0,
          0,
          24,
          1,
          99,
          3722,
          44,
          12,
          84,
          23,
          1546,
          4706,
          38,
          3108,
          0,
          479,
          92,
          84,
          68,
          138,
          4,
          0,
          95,
          0
         ],
         "yaxis": "y"
        },
        {
         "hoverlabel": {
          "namelength": 0
         },
         "hovertemplate": "<b>OLS trendline</b><br>aces = 46.0753 * player_ht + -7972.82<br>R<sup>2</sup>=0.058997<br><br>player_ht=%{x}<br>aces=%{y} <b>(trend)</b>",
         "legendgroup": "",
         "line": {
          "color": "red"
         },
         "marker": {
          "color": "#636efa",
          "symbol": "circle"
         },
         "mode": "lines",
         "name": "",
         "showlegend": false,
         "type": "scattergl",
         "x": [
          160,
          160,
          163,
          163,
          163,
          165,
          165,
          168,
          168,
          168,
          168,
          168,
          168,
          168,
          168,
          170,
          170,
          170,
          170,
          170,
          170,
          170,
          170,
          170,
          170,
          170,
          170,
          170,
          170,
          170,
          170,
          170,
          170,
          170,
          170,
          170,
          170,
          170,
          170,
          170,
          170,
          170,
          170,
          170,
          170,
          170,
          170,
          170,
          170,
          170,
          170,
          170,
          170,
          170,
          172,
          173,
          173,
          173,
          173,
          173,
          173,
          173,
          173,
          173,
          173,
          173,
          173,
          173,
          173,
          173,
          173,
          173,
          173,
          173,
          173,
          173,
          173,
          173,
          173,
          173,
          173,
          173,
          173,
          173,
          173,
          173,
          173,
          173,
          173,
          173,
          173,
          173,
          173,
          173,
          173,
          173,
          173,
          173,
          173,
          173,
          173,
          173,
          173,
          173,
          173,
          173,
          173,
          173,
          173,
          173,
          173,
          173,
          173,
          173,
          173,
          173,
          173,
          173,
          173,
          173,
          173,
          173,
          173,
          173,
          173,
          173,
          173,
          173,
          173,
          173,
          173,
          173,
          175,
          175,
          175,
          175,
          175,
          175,
          175,
          175,
          175,
          175,
          175,
          175,
          175,
          175,
          175,
          175,
          175,
          175,
          175,
          175,
          175,
          175,
          175,
          175,
          175,
          175,
          175,
          175,
          175,
          175,
          175,
          175,
          175,
          175,
          175,
          175,
          175,
          175,
          175,
          175,
          175,
          175,
          175,
          175,
          175,
          175,
          175,
          175,
          175,
          175,
          175,
          175,
          175,
          175,
          175,
          175,
          175,
          175,
          175,
          175,
          175,
          175,
          175,
          175,
          175,
          175,
          175,
          175,
          175,
          175,
          175,
          175,
          175,
          175,
          175,
          175,
          175,
          175,
          175,
          175,
          175,
          175,
          175,
          175,
          175,
          175,
          175,
          175,
          175,
          175,
          175,
          175,
          175,
          175,
          175,
          175,
          175,
          175,
          175,
          175,
          175,
          175,
          175,
          175,
          175,
          175,
          175,
          175,
          175,
          175,
          175,
          175,
          175,
          175,
          175,
          175,
          175,
          175,
          175,
          175,
          175,
          175,
          175,
          175,
          175,
          175,
          175,
          175,
          175,
          175,
          175,
          175,
          175,
          175,
          175,
          175,
          175,
          178,
          178,
          178,
          178,
          178,
          178,
          178,
          178,
          178,
          178,
          178,
          178,
          178,
          178,
          178,
          178,
          178,
          178,
          178,
          178,
          178,
          178,
          178,
          178,
          178,
          178,
          178,
          178,
          178,
          178,
          178,
          178,
          178,
          178,
          178,
          178,
          178,
          178,
          178,
          178,
          178,
          178,
          178,
          178,
          178,
          178,
          178,
          178,
          178,
          178,
          178,
          178,
          178,
          178,
          178,
          178,
          178,
          178,
          178,
          178,
          178,
          178,
          178,
          178,
          178,
          178,
          178,
          178,
          178,
          178,
          178,
          178,
          178,
          178,
          178,
          178,
          178,
          178,
          178,
          178,
          178,
          178,
          178,
          178,
          178,
          178,
          178,
          178,
          178,
          178,
          178,
          178,
          178,
          178,
          178,
          178,
          178,
          178,
          178,
          178,
          178,
          178,
          178,
          178,
          178,
          178,
          178,
          178,
          178,
          178,
          178,
          178,
          178,
          178,
          178,
          178,
          178,
          178,
          178,
          178,
          178,
          178,
          178,
          178,
          178,
          178,
          178,
          178,
          178,
          178,
          178,
          178,
          178,
          178,
          178,
          178,
          178,
          178,
          178,
          178,
          178,
          178,
          178,
          178,
          178,
          178,
          178,
          178,
          178,
          178,
          178,
          178,
          178,
          178,
          178,
          178,
          178,
          178,
          178,
          178,
          178,
          178,
          178,
          178,
          178,
          178,
          178,
          178,
          178,
          178,
          178,
          178,
          178,
          178,
          178,
          178,
          178,
          178,
          178,
          178,
          178,
          180,
          180,
          180,
          180,
          180,
          180,
          180,
          180,
          180,
          180,
          180,
          180,
          180,
          180,
          180,
          180,
          180,
          180,
          180,
          180,
          180,
          180,
          180,
          180,
          180,
          180,
          180,
          180,
          180,
          180,
          180,
          180,
          180,
          180,
          180,
          180,
          180,
          180,
          180,
          180,
          180,
          180,
          180,
          180,
          180,
          180,
          180,
          180,
          180,
          180,
          180,
          180,
          180,
          180,
          180,
          180,
          180,
          180,
          180,
          180,
          180,
          180,
          180,
          180,
          180,
          180,
          180,
          180,
          180,
          180,
          180,
          180,
          180,
          180,
          180,
          180,
          180,
          180,
          180,
          180,
          180,
          180,
          180,
          180,
          180,
          180,
          180,
          180,
          180,
          180,
          180,
          180,
          180,
          180,
          180,
          180,
          180,
          180,
          180,
          180,
          180,
          180,
          180,
          180,
          180,
          180,
          180,
          180,
          180,
          180,
          180,
          180,
          180,
          180,
          180,
          180,
          180,
          180,
          180,
          180,
          180,
          180,
          180,
          180,
          180,
          180,
          180,
          180,
          180,
          180,
          180,
          180,
          180,
          180,
          180,
          180,
          180,
          180,
          180,
          180,
          180,
          180,
          180,
          180,
          180,
          180,
          180,
          180,
          180,
          180,
          180,
          180,
          180,
          180,
          180,
          180,
          180,
          180,
          180,
          180,
          180,
          180,
          180,
          180,
          180,
          180,
          180,
          180,
          180,
          180,
          180,
          180,
          180,
          180,
          180,
          180,
          180,
          180,
          180,
          180,
          180,
          180,
          180,
          180,
          180,
          180,
          180,
          180,
          180,
          180,
          180,
          180,
          180,
          180,
          180,
          180,
          180,
          180,
          180,
          180,
          180,
          180,
          180,
          180,
          180,
          180,
          180,
          180,
          180,
          180,
          180,
          180,
          180,
          180,
          180,
          180,
          180,
          180,
          180,
          180,
          180,
          180,
          180,
          180,
          180,
          180,
          180,
          180,
          180,
          180,
          180,
          180,
          180,
          180,
          180,
          180,
          180,
          180,
          180,
          180,
          180,
          180,
          180,
          180,
          180,
          180,
          180,
          180,
          180,
          180,
          180,
          180,
          180,
          180,
          180,
          180,
          180,
          180,
          180,
          180,
          180,
          180,
          180,
          180,
          180,
          180,
          180,
          180,
          180,
          180,
          180,
          180,
          180,
          180,
          180,
          180,
          180,
          180,
          180,
          180,
          180,
          180,
          181,
          183,
          183,
          183,
          183,
          183,
          183,
          183,
          183,
          183,
          183,
          183,
          183,
          183,
          183,
          183,
          183,
          183,
          183,
          183,
          183,
          183,
          183,
          183,
          183,
          183,
          183,
          183,
          183,
          183,
          183,
          183,
          183,
          183,
          183,
          183,
          183,
          183,
          183,
          183,
          183,
          183,
          183,
          183,
          183,
          183,
          183,
          183,
          183,
          183,
          183,
          183,
          183,
          183,
          183,
          183,
          183,
          183,
          183,
          183,
          183,
          183,
          183,
          183,
          183,
          183,
          183,
          183,
          183,
          183,
          183,
          183,
          183,
          183,
          183,
          183,
          183,
          183,
          183,
          183,
          183,
          183,
          183,
          183,
          183,
          183,
          183,
          183,
          183,
          183,
          183,
          183,
          183,
          183,
          183,
          183,
          183,
          183,
          183,
          183,
          183,
          183,
          183,
          183,
          183,
          183,
          183,
          183,
          183,
          183,
          183,
          183,
          183,
          183,
          183,
          183,
          183,
          183,
          183,
          183,
          183,
          183,
          183,
          183,
          183,
          183,
          183,
          183,
          183,
          183,
          183,
          183,
          183,
          183,
          183,
          183,
          183,
          183,
          183,
          183,
          183,
          183,
          183,
          183,
          183,
          183,
          183,
          183,
          183,
          183,
          183,
          183,
          183,
          183,
          183,
          183,
          183,
          183,
          183,
          183,
          183,
          183,
          183,
          183,
          183,
          183,
          183,
          183,
          183,
          183,
          183,
          183,
          183,
          183,
          183,
          183,
          183,
          183,
          183,
          183,
          183,
          183,
          183,
          183,
          183,
          183,
          183,
          183,
          183,
          183,
          183,
          183,
          183,
          183,
          183,
          183,
          183,
          183,
          183,
          183,
          183,
          183,
          183,
          183,
          183,
          183,
          183,
          183,
          183,
          183,
          183,
          183,
          183,
          183,
          183,
          183,
          183,
          183,
          183,
          183,
          183,
          183,
          183,
          183,
          183,
          183,
          183,
          183,
          183,
          183,
          183,
          183,
          183,
          183,
          183,
          183,
          183,
          183,
          183,
          183,
          183,
          183,
          183,
          183,
          183,
          183,
          183,
          183,
          183,
          183,
          183,
          183,
          183,
          183,
          183,
          183,
          183,
          183,
          183,
          183,
          183,
          183,
          183,
          183,
          183,
          183,
          183,
          183,
          183,
          183,
          183,
          183,
          183,
          185,
          185,
          185,
          185,
          185,
          185,
          185,
          185,
          185,
          185,
          185,
          185,
          185,
          185,
          185,
          185,
          185,
          185,
          185,
          185,
          185,
          185,
          185,
          185,
          185,
          185,
          185,
          185,
          185,
          185,
          185,
          185,
          185,
          185,
          185,
          185,
          185,
          185,
          185,
          185,
          185,
          185,
          185,
          185,
          185,
          185,
          185,
          185,
          185,
          185,
          185,
          185,
          185,
          185,
          185,
          185,
          185,
          185,
          185,
          185,
          185,
          185,
          185,
          185,
          185,
          185,
          185,
          185,
          185,
          185,
          185,
          185,
          185,
          185,
          185,
          185,
          185,
          185,
          185,
          185,
          185,
          185,
          185,
          185,
          185,
          185,
          185,
          185,
          185,
          185,
          185,
          185,
          185,
          185,
          185,
          185,
          185,
          185,
          185,
          185,
          185,
          185,
          185,
          185,
          185,
          185,
          185,
          185,
          185,
          185,
          185,
          185,
          185,
          185,
          185,
          185,
          185,
          185,
          185,
          185,
          185,
          185,
          185,
          185,
          185,
          185,
          185,
          185,
          185,
          185,
          185,
          185,
          185,
          185,
          185,
          185,
          185,
          185,
          185,
          185,
          185,
          185,
          185,
          185,
          185,
          185,
          185,
          185,
          185,
          185,
          185,
          185,
          185,
          185,
          185,
          185,
          185,
          185,
          185,
          185,
          185,
          185,
          185,
          185,
          185,
          185,
          185,
          185,
          185,
          185,
          185,
          185,
          185,
          185,
          185,
          185,
          185,
          185,
          185,
          185,
          185,
          185,
          185,
          185,
          185,
          185,
          185,
          185,
          185,
          185,
          185,
          185,
          185,
          185,
          185,
          185,
          185,
          185,
          185,
          185,
          185,
          185,
          185,
          185,
          185,
          185,
          185,
          185,
          185,
          185,
          185,
          185,
          185,
          185,
          185,
          185,
          185,
          185,
          185,
          185,
          185,
          185,
          185,
          185,
          185,
          185,
          185,
          185,
          185,
          185,
          185,
          185,
          185,
          185,
          185,
          185,
          185,
          185,
          185,
          185,
          185,
          185,
          185,
          185,
          185,
          185,
          185,
          185,
          185,
          185,
          185,
          185,
          185,
          185,
          185,
          185,
          185,
          185,
          185,
          185,
          185,
          185,
          185,
          185,
          185,
          185,
          185,
          185,
          185,
          185,
          185,
          185,
          185,
          185,
          185,
          185,
          185,
          185,
          185,
          185,
          185,
          188,
          188,
          188,
          188,
          188,
          188,
          188,
          188,
          188,
          188,
          188,
          188,
          188,
          188,
          188,
          188,
          188,
          188,
          188,
          188,
          188,
          188,
          188,
          188,
          188,
          188,
          188,
          188,
          188,
          188,
          188,
          188,
          188,
          188,
          188,
          188,
          188,
          188,
          188,
          188,
          188,
          188,
          188,
          188,
          188,
          188,
          188,
          188,
          188,
          188,
          188,
          188,
          188,
          188,
          188,
          188,
          188,
          188,
          188,
          188,
          188,
          188,
          188,
          188,
          188,
          188,
          188,
          188,
          188,
          188,
          188,
          188,
          188,
          188,
          188,
          188,
          188,
          188,
          188,
          188,
          188,
          188,
          188,
          188,
          188,
          188,
          188,
          188,
          188,
          188,
          188,
          188,
          188,
          188,
          188,
          188,
          188,
          188,
          188,
          188,
          188,
          188,
          188,
          188,
          188,
          188,
          188,
          188,
          188,
          188,
          188,
          188,
          188,
          188,
          188,
          188,
          188,
          188,
          188,
          188,
          188,
          188,
          188,
          188,
          188,
          188,
          188,
          188,
          188,
          188,
          188,
          188,
          188,
          188,
          188,
          188,
          188,
          188,
          188,
          188,
          188,
          188,
          188,
          188,
          188,
          188,
          188,
          188,
          188,
          188,
          188,
          188,
          188,
          188,
          188,
          188,
          188,
          188,
          188,
          188,
          188,
          188,
          188,
          188,
          188,
          188,
          188,
          188,
          188,
          188,
          188,
          188,
          188,
          188,
          188,
          188,
          188,
          188,
          188,
          188,
          188,
          188,
          188,
          188,
          188,
          188,
          188,
          188,
          188,
          188,
          188,
          188,
          188,
          188,
          188,
          188,
          188,
          188,
          188,
          188,
          188,
          188,
          188,
          188,
          188,
          188,
          188,
          188,
          188,
          188,
          188,
          188,
          188,
          188,
          188,
          188,
          188,
          188,
          188,
          188,
          188,
          188,
          188,
          188,
          188,
          188,
          188,
          188,
          188,
          188,
          188,
          188,
          188,
          188,
          188,
          188,
          188,
          188,
          188,
          188,
          188,
          188,
          190,
          190,
          190,
          190,
          190,
          190,
          190,
          190,
          190,
          190,
          190,
          190,
          190,
          190,
          190,
          190,
          190,
          190,
          190,
          190,
          190,
          190,
          190,
          190,
          190,
          190,
          190,
          190,
          190,
          190,
          190,
          190,
          190,
          190,
          190,
          190,
          190,
          190,
          190,
          190,
          190,
          190,
          190,
          190,
          190,
          190,
          190,
          190,
          190,
          190,
          190,
          190,
          190,
          190,
          190,
          190,
          190,
          190,
          190,
          190,
          190,
          190,
          190,
          190,
          190,
          190,
          190,
          190,
          190,
          190,
          190,
          190,
          190,
          190,
          190,
          190,
          190,
          190,
          190,
          190,
          190,
          190,
          190,
          190,
          190,
          190,
          190,
          190,
          190,
          190,
          190,
          190,
          190,
          190,
          190,
          190,
          190,
          190,
          190,
          190,
          190,
          190,
          190,
          190,
          190,
          190,
          190,
          190,
          190,
          190,
          190,
          190,
          190,
          190,
          190,
          190,
          190,
          190,
          190,
          190,
          190,
          190,
          190,
          190,
          190,
          190,
          190,
          190,
          190,
          190,
          190,
          190,
          190,
          190,
          190,
          190,
          190,
          190,
          190,
          190,
          190,
          190,
          190,
          190,
          190,
          190,
          190,
          190,
          190,
          190,
          190,
          190,
          190,
          190,
          190,
          190,
          190,
          190,
          190,
          190,
          190,
          190,
          190,
          190,
          190,
          190,
          190,
          190,
          190,
          190,
          190,
          190,
          190,
          190,
          190,
          190,
          190,
          190,
          190,
          190,
          190,
          191,
          193,
          193,
          193,
          193,
          193,
          193,
          193,
          193,
          193,
          193,
          193,
          193,
          193,
          193,
          193,
          193,
          193,
          193,
          193,
          193,
          193,
          193,
          193,
          193,
          193,
          193,
          193,
          193,
          193,
          193,
          193,
          193,
          193,
          193,
          193,
          193,
          193,
          193,
          193,
          193,
          193,
          193,
          193,
          193,
          193,
          193,
          193,
          193,
          193,
          193,
          193,
          193,
          193,
          193,
          193,
          193,
          193,
          193,
          193,
          193,
          193,
          193,
          193,
          193,
          193,
          193,
          193,
          193,
          193,
          193,
          193,
          193,
          193,
          193,
          193,
          193,
          193,
          193,
          193,
          193,
          193,
          193,
          193,
          193,
          193,
          193,
          193,
          193,
          193,
          193,
          193,
          193,
          193,
          193,
          193,
          193,
          193,
          193,
          193,
          193,
          193,
          193,
          193,
          193,
          193,
          193,
          193,
          193,
          193,
          193,
          193,
          193,
          193,
          193,
          193,
          194,
          196,
          196,
          196,
          196,
          196,
          196,
          196,
          196,
          196,
          196,
          196,
          196,
          196,
          196,
          196,
          196,
          196,
          196,
          196,
          196,
          196,
          196,
          196,
          196,
          196,
          196,
          196,
          196,
          196,
          196,
          196,
          196,
          196,
          196,
          196,
          196,
          196,
          196,
          196,
          196,
          196,
          196,
          196,
          196,
          196,
          196,
          196,
          198,
          198,
          198,
          198,
          198,
          198,
          198,
          198,
          198,
          198,
          198,
          198,
          198,
          198,
          201,
          201,
          201,
          201,
          201,
          201,
          201,
          203,
          203,
          203,
          203,
          203,
          203,
          203,
          203,
          206,
          208
         ],
         "xaxis": "x",
         "y": [
          -600.7710590856113,
          -600.7710590856113,
          -462.5451611166973,
          -462.5451611166973,
          -462.5451611166973,
          -370.39456247075486,
          -370.39456247075486,
          -232.1686645018408,
          -232.1686645018408,
          -232.1686645018408,
          -232.1686645018408,
          -232.1686645018408,
          -232.1686645018408,
          -232.1686645018408,
          -232.1686645018408,
          -140.01806585589839,
          -140.01806585589839,
          -140.01806585589839,
          -140.01806585589839,
          -140.01806585589839,
          -140.01806585589839,
          -140.01806585589839,
          -140.01806585589839,
          -140.01806585589839,
          -140.01806585589839,
          -140.01806585589839,
          -140.01806585589839,
          -140.01806585589839,
          -140.01806585589839,
          -140.01806585589839,
          -140.01806585589839,
          -140.01806585589839,
          -140.01806585589839,
          -140.01806585589839,
          -140.01806585589839,
          -140.01806585589839,
          -140.01806585589839,
          -140.01806585589839,
          -140.01806585589839,
          -140.01806585589839,
          -140.01806585589839,
          -140.01806585589839,
          -140.01806585589839,
          -140.01806585589839,
          -140.01806585589839,
          -140.01806585589839,
          -140.01806585589839,
          -140.01806585589839,
          -140.01806585589839,
          -140.01806585589839,
          -140.01806585589839,
          -140.01806585589839,
          -140.01806585589839,
          -140.01806585589839,
          -47.867467209955066,
          -1.7921678869843163,
          -1.7921678869843163,
          -1.7921678869843163,
          -1.7921678869843163,
          -1.7921678869843163,
          -1.7921678869843163,
          -1.7921678869843163,
          -1.7921678869843163,
          -1.7921678869843163,
          -1.7921678869843163,
          -1.7921678869843163,
          -1.7921678869843163,
          -1.7921678869843163,
          -1.7921678869843163,
          -1.7921678869843163,
          -1.7921678869843163,
          -1.7921678869843163,
          -1.7921678869843163,
          -1.7921678869843163,
          -1.7921678869843163,
          -1.7921678869843163,
          -1.7921678869843163,
          -1.7921678869843163,
          -1.7921678869843163,
          -1.7921678869843163,
          -1.7921678869843163,
          -1.7921678869843163,
          -1.7921678869843163,
          -1.7921678869843163,
          -1.7921678869843163,
          -1.7921678869843163,
          -1.7921678869843163,
          -1.7921678869843163,
          -1.7921678869843163,
          -1.7921678869843163,
          -1.7921678869843163,
          -1.7921678869843163,
          -1.7921678869843163,
          -1.7921678869843163,
          -1.7921678869843163,
          -1.7921678869843163,
          -1.7921678869843163,
          -1.7921678869843163,
          -1.7921678869843163,
          -1.7921678869843163,
          -1.7921678869843163,
          -1.7921678869843163,
          -1.7921678869843163,
          -1.7921678869843163,
          -1.7921678869843163,
          -1.7921678869843163,
          -1.7921678869843163,
          -1.7921678869843163,
          -1.7921678869843163,
          -1.7921678869843163,
          -1.7921678869843163,
          -1.7921678869843163,
          -1.7921678869843163,
          -1.7921678869843163,
          -1.7921678869843163,
          -1.7921678869843163,
          -1.7921678869843163,
          -1.7921678869843163,
          -1.7921678869843163,
          -1.7921678869843163,
          -1.7921678869843163,
          -1.7921678869843163,
          -1.7921678869843163,
          -1.7921678869843163,
          -1.7921678869843163,
          -1.7921678869843163,
          -1.7921678869843163,
          -1.7921678869843163,
          -1.7921678869843163,
          -1.7921678869843163,
          -1.7921678869843163,
          -1.7921678869843163,
          90.3584307589581,
          90.3584307589581,
          90.3584307589581,
          90.3584307589581,
          90.3584307589581,
          90.3584307589581,
          90.3584307589581,
          90.3584307589581,
          90.3584307589581,
          90.3584307589581,
          90.3584307589581,
          90.3584307589581,
          90.3584307589581,
          90.3584307589581,
          90.3584307589581,
          90.3584307589581,
          90.3584307589581,
          90.3584307589581,
          90.3584307589581,
          90.3584307589581,
          90.3584307589581,
          90.3584307589581,
          90.3584307589581,
          90.3584307589581,
          90.3584307589581,
          90.3584307589581,
          90.3584307589581,
          90.3584307589581,
          90.3584307589581,
          90.3584307589581,
          90.3584307589581,
          90.3584307589581,
          90.3584307589581,
          90.3584307589581,
          90.3584307589581,
          90.3584307589581,
          90.3584307589581,
          90.3584307589581,
          90.3584307589581,
          90.3584307589581,
          90.3584307589581,
          90.3584307589581,
          90.3584307589581,
          90.3584307589581,
          90.3584307589581,
          90.3584307589581,
          90.3584307589581,
          90.3584307589581,
          90.3584307589581,
          90.3584307589581,
          90.3584307589581,
          90.3584307589581,
          90.3584307589581,
          90.3584307589581,
          90.3584307589581,
          90.3584307589581,
          90.3584307589581,
          90.3584307589581,
          90.3584307589581,
          90.3584307589581,
          90.3584307589581,
          90.3584307589581,
          90.3584307589581,
          90.3584307589581,
          90.3584307589581,
          90.3584307589581,
          90.3584307589581,
          90.3584307589581,
          90.3584307589581,
          90.3584307589581,
          90.3584307589581,
          90.3584307589581,
          90.3584307589581,
          90.3584307589581,
          90.3584307589581,
          90.3584307589581,
          90.3584307589581,
          90.3584307589581,
          90.3584307589581,
          90.3584307589581,
          90.3584307589581,
          90.3584307589581,
          90.3584307589581,
          90.3584307589581,
          90.3584307589581,
          90.3584307589581,
          90.3584307589581,
          90.3584307589581,
          90.3584307589581,
          90.3584307589581,
          90.3584307589581,
          90.3584307589581,
          90.3584307589581,
          90.3584307589581,
          90.3584307589581,
          90.3584307589581,
          90.3584307589581,
          90.3584307589581,
          90.3584307589581,
          90.3584307589581,
          90.3584307589581,
          90.3584307589581,
          90.3584307589581,
          90.3584307589581,
          90.3584307589581,
          90.3584307589581,
          90.3584307589581,
          90.3584307589581,
          90.3584307589581,
          90.3584307589581,
          90.3584307589581,
          90.3584307589581,
          90.3584307589581,
          90.3584307589581,
          90.3584307589581,
          90.3584307589581,
          90.3584307589581,
          90.3584307589581,
          90.3584307589581,
          90.3584307589581,
          90.3584307589581,
          90.3584307589581,
          90.3584307589581,
          90.3584307589581,
          90.3584307589581,
          90.3584307589581,
          90.3584307589581,
          90.3584307589581,
          90.3584307589581,
          90.3584307589581,
          90.3584307589581,
          90.3584307589581,
          90.3584307589581,
          90.3584307589581,
          90.3584307589581,
          90.3584307589581,
          90.3584307589581,
          228.58432872787307,
          228.58432872787307,
          228.58432872787307,
          228.58432872787307,
          228.58432872787307,
          228.58432872787307,
          228.58432872787307,
          228.58432872787307,
          228.58432872787307,
          228.58432872787307,
          228.58432872787307,
          228.58432872787307,
          228.58432872787307,
          228.58432872787307,
          228.58432872787307,
          228.58432872787307,
          228.58432872787307,
          228.58432872787307,
          228.58432872787307,
          228.58432872787307,
          228.58432872787307,
          228.58432872787307,
          228.58432872787307,
          228.58432872787307,
          228.58432872787307,
          228.58432872787307,
          228.58432872787307,
          228.58432872787307,
          228.58432872787307,
          228.58432872787307,
          228.58432872787307,
          228.58432872787307,
          228.58432872787307,
          228.58432872787307,
          228.58432872787307,
          228.58432872787307,
          228.58432872787307,
          228.58432872787307,
          228.58432872787307,
          228.58432872787307,
          228.58432872787307,
          228.58432872787307,
          228.58432872787307,
          228.58432872787307,
          228.58432872787307,
          228.58432872787307,
          228.58432872787307,
          228.58432872787307,
          228.58432872787307,
          228.58432872787307,
          228.58432872787307,
          228.58432872787307,
          228.58432872787307,
          228.58432872787307,
          228.58432872787307,
          228.58432872787307,
          228.58432872787307,
          228.58432872787307,
          228.58432872787307,
          228.58432872787307,
          228.58432872787307,
          228.58432872787307,
          228.58432872787307,
          228.58432872787307,
          228.58432872787307,
          228.58432872787307,
          228.58432872787307,
          228.58432872787307,
          228.58432872787307,
          228.58432872787307,
          228.58432872787307,
          228.58432872787307,
          228.58432872787307,
          228.58432872787307,
          228.58432872787307,
          228.58432872787307,
          228.58432872787307,
          228.58432872787307,
          228.58432872787307,
          228.58432872787307,
          228.58432872787307,
          228.58432872787307,
          228.58432872787307,
          228.58432872787307,
          228.58432872787307,
          228.58432872787307,
          228.58432872787307,
          228.58432872787307,
          228.58432872787307,
          228.58432872787307,
          228.58432872787307,
          228.58432872787307,
          228.58432872787307,
          228.58432872787307,
          228.58432872787307,
          228.58432872787307,
          228.58432872787307,
          228.58432872787307,
          228.58432872787307,
          228.58432872787307,
          228.58432872787307,
          228.58432872787307,
          228.58432872787307,
          228.58432872787307,
          228.58432872787307,
          228.58432872787307,
          228.58432872787307,
          228.58432872787307,
          228.58432872787307,
          228.58432872787307,
          228.58432872787307,
          228.58432872787307,
          228.58432872787307,
          228.58432872787307,
          228.58432872787307,
          228.58432872787307,
          228.58432872787307,
          228.58432872787307,
          228.58432872787307,
          228.58432872787307,
          228.58432872787307,
          228.58432872787307,
          228.58432872787307,
          228.58432872787307,
          228.58432872787307,
          228.58432872787307,
          228.58432872787307,
          228.58432872787307,
          228.58432872787307,
          228.58432872787307,
          228.58432872787307,
          228.58432872787307,
          228.58432872787307,
          228.58432872787307,
          228.58432872787307,
          228.58432872787307,
          228.58432872787307,
          228.58432872787307,
          228.58432872787307,
          228.58432872787307,
          228.58432872787307,
          228.58432872787307,
          228.58432872787307,
          228.58432872787307,
          228.58432872787307,
          228.58432872787307,
          228.58432872787307,
          228.58432872787307,
          228.58432872787307,
          228.58432872787307,
          228.58432872787307,
          228.58432872787307,
          228.58432872787307,
          228.58432872787307,
          228.58432872787307,
          228.58432872787307,
          228.58432872787307,
          228.58432872787307,
          228.58432872787307,
          228.58432872787307,
          228.58432872787307,
          228.58432872787307,
          228.58432872787307,
          228.58432872787307,
          228.58432872787307,
          228.58432872787307,
          228.58432872787307,
          228.58432872787307,
          228.58432872787307,
          228.58432872787307,
          228.58432872787307,
          228.58432872787307,
          228.58432872787307,
          228.58432872787307,
          228.58432872787307,
          228.58432872787307,
          228.58432872787307,
          228.58432872787307,
          228.58432872787307,
          228.58432872787307,
          228.58432872787307,
          320.73492737381457,
          320.73492737381457,
          320.73492737381457,
          320.73492737381457,
          320.73492737381457,
          320.73492737381457,
          320.73492737381457,
          320.73492737381457,
          320.73492737381457,
          320.73492737381457,
          320.73492737381457,
          320.73492737381457,
          320.73492737381457,
          320.73492737381457,
          320.73492737381457,
          320.73492737381457,
          320.73492737381457,
          320.73492737381457,
          320.73492737381457,
          320.73492737381457,
          320.73492737381457,
          320.73492737381457,
          320.73492737381457,
          320.73492737381457,
          320.73492737381457,
          320.73492737381457,
          320.73492737381457,
          320.73492737381457,
          320.73492737381457,
          320.73492737381457,
          320.73492737381457,
          320.73492737381457,
          320.73492737381457,
          320.73492737381457,
          320.73492737381457,
          320.73492737381457,
          320.73492737381457,
          320.73492737381457,
          320.73492737381457,
          320.73492737381457,
          320.73492737381457,
          320.73492737381457,
          320.73492737381457,
          320.73492737381457,
          320.73492737381457,
          320.73492737381457,
          320.73492737381457,
          320.73492737381457,
          320.73492737381457,
          320.73492737381457,
          320.73492737381457,
          320.73492737381457,
          320.73492737381457,
          320.73492737381457,
          320.73492737381457,
          320.73492737381457,
          320.73492737381457,
          320.73492737381457,
          320.73492737381457,
          320.73492737381457,
          320.73492737381457,
          320.73492737381457,
          320.73492737381457,
          320.73492737381457,
          320.73492737381457,
          320.73492737381457,
          320.73492737381457,
          320.73492737381457,
          320.73492737381457,
          320.73492737381457,
          320.73492737381457,
          320.73492737381457,
          320.73492737381457,
          320.73492737381457,
          320.73492737381457,
          320.73492737381457,
          320.73492737381457,
          320.73492737381457,
          320.73492737381457,
          320.73492737381457,
          320.73492737381457,
          320.73492737381457,
          320.73492737381457,
          320.73492737381457,
          320.73492737381457,
          320.73492737381457,
          320.73492737381457,
          320.73492737381457,
          320.73492737381457,
          320.73492737381457,
          320.73492737381457,
          320.73492737381457,
          320.73492737381457,
          320.73492737381457,
          320.73492737381457,
          320.73492737381457,
          320.73492737381457,
          320.73492737381457,
          320.73492737381457,
          320.73492737381457,
          320.73492737381457,
          320.73492737381457,
          320.73492737381457,
          320.73492737381457,
          320.73492737381457,
          320.73492737381457,
          320.73492737381457,
          320.73492737381457,
          320.73492737381457,
          320.73492737381457,
          320.73492737381457,
          320.73492737381457,
          320.73492737381457,
          320.73492737381457,
          320.73492737381457,
          320.73492737381457,
          320.73492737381457,
          320.73492737381457,
          320.73492737381457,
          320.73492737381457,
          320.73492737381457,
          320.73492737381457,
          320.73492737381457,
          320.73492737381457,
          320.73492737381457,
          320.73492737381457,
          320.73492737381457,
          320.73492737381457,
          320.73492737381457,
          320.73492737381457,
          320.73492737381457,
          320.73492737381457,
          320.73492737381457,
          320.73492737381457,
          320.73492737381457,
          320.73492737381457,
          320.73492737381457,
          320.73492737381457,
          320.73492737381457,
          320.73492737381457,
          320.73492737381457,
          320.73492737381457,
          320.73492737381457,
          320.73492737381457,
          320.73492737381457,
          320.73492737381457,
          320.73492737381457,
          320.73492737381457,
          320.73492737381457,
          320.73492737381457,
          320.73492737381457,
          320.73492737381457,
          320.73492737381457,
          320.73492737381457,
          320.73492737381457,
          320.73492737381457,
          320.73492737381457,
          320.73492737381457,
          320.73492737381457,
          320.73492737381457,
          320.73492737381457,
          320.73492737381457,
          320.73492737381457,
          320.73492737381457,
          320.73492737381457,
          320.73492737381457,
          320.73492737381457,
          320.73492737381457,
          320.73492737381457,
          320.73492737381457,
          320.73492737381457,
          320.73492737381457,
          320.73492737381457,
          320.73492737381457,
          320.73492737381457,
          320.73492737381457,
          320.73492737381457,
          320.73492737381457,
          320.73492737381457,
          320.73492737381457,
          320.73492737381457,
          320.73492737381457,
          320.73492737381457,
          320.73492737381457,
          320.73492737381457,
          320.73492737381457,
          320.73492737381457,
          320.73492737381457,
          320.73492737381457,
          320.73492737381457,
          320.73492737381457,
          320.73492737381457,
          320.73492737381457,
          320.73492737381457,
          320.73492737381457,
          320.73492737381457,
          320.73492737381457,
          320.73492737381457,
          320.73492737381457,
          320.73492737381457,
          320.73492737381457,
          320.73492737381457,
          320.73492737381457,
          320.73492737381457,
          320.73492737381457,
          320.73492737381457,
          320.73492737381457,
          320.73492737381457,
          320.73492737381457,
          320.73492737381457,
          320.73492737381457,
          320.73492737381457,
          320.73492737381457,
          320.73492737381457,
          320.73492737381457,
          320.73492737381457,
          320.73492737381457,
          320.73492737381457,
          320.73492737381457,
          320.73492737381457,
          320.73492737381457,
          320.73492737381457,
          320.73492737381457,
          320.73492737381457,
          320.73492737381457,
          320.73492737381457,
          320.73492737381457,
          320.73492737381457,
          320.73492737381457,
          320.73492737381457,
          320.73492737381457,
          320.73492737381457,
          320.73492737381457,
          320.73492737381457,
          320.73492737381457,
          320.73492737381457,
          320.73492737381457,
          320.73492737381457,
          320.73492737381457,
          320.73492737381457,
          320.73492737381457,
          320.73492737381457,
          320.73492737381457,
          320.73492737381457,
          320.73492737381457,
          320.73492737381457,
          320.73492737381457,
          320.73492737381457,
          320.73492737381457,
          320.73492737381457,
          320.73492737381457,
          320.73492737381457,
          320.73492737381457,
          320.73492737381457,
          320.73492737381457,
          320.73492737381457,
          320.73492737381457,
          320.73492737381457,
          320.73492737381457,
          320.73492737381457,
          320.73492737381457,
          320.73492737381457,
          320.73492737381457,
          320.73492737381457,
          320.73492737381457,
          320.73492737381457,
          320.73492737381457,
          320.73492737381457,
          320.73492737381457,
          320.73492737381457,
          320.73492737381457,
          320.73492737381457,
          320.73492737381457,
          320.73492737381457,
          320.73492737381457,
          320.73492737381457,
          320.73492737381457,
          320.73492737381457,
          320.73492737381457,
          320.73492737381457,
          320.73492737381457,
          320.73492737381457,
          366.81022669678714,
          458.96082534272864,
          458.96082534272864,
          458.96082534272864,
          458.96082534272864,
          458.96082534272864,
          458.96082534272864,
          458.96082534272864,
          458.96082534272864,
          458.96082534272864,
          458.96082534272864,
          458.96082534272864,
          458.96082534272864,
          458.96082534272864,
          458.96082534272864,
          458.96082534272864,
          458.96082534272864,
          458.96082534272864,
          458.96082534272864,
          458.96082534272864,
          458.96082534272864,
          458.96082534272864,
          458.96082534272864,
          458.96082534272864,
          458.96082534272864,
          458.96082534272864,
          458.96082534272864,
          458.96082534272864,
          458.96082534272864,
          458.96082534272864,
          458.96082534272864,
          458.96082534272864,
          458.96082534272864,
          458.96082534272864,
          458.96082534272864,
          458.96082534272864,
          458.96082534272864,
          458.96082534272864,
          458.96082534272864,
          458.96082534272864,
          458.96082534272864,
          458.96082534272864,
          458.96082534272864,
          458.96082534272864,
          458.96082534272864,
          458.96082534272864,
          458.96082534272864,
          458.96082534272864,
          458.96082534272864,
          458.96082534272864,
          458.96082534272864,
          458.96082534272864,
          458.96082534272864,
          458.96082534272864,
          458.96082534272864,
          458.96082534272864,
          458.96082534272864,
          458.96082534272864,
          458.96082534272864,
          458.96082534272864,
          458.96082534272864,
          458.96082534272864,
          458.96082534272864,
          458.96082534272864,
          458.96082534272864,
          458.96082534272864,
          458.96082534272864,
          458.96082534272864,
          458.96082534272864,
          458.96082534272864,
          458.96082534272864,
          458.96082534272864,
          458.96082534272864,
          458.96082534272864,
          458.96082534272864,
          458.96082534272864,
          458.96082534272864,
          458.96082534272864,
          458.96082534272864,
          458.96082534272864,
          458.96082534272864,
          458.96082534272864,
          458.96082534272864,
          458.96082534272864,
          458.96082534272864,
          458.96082534272864,
          458.96082534272864,
          458.96082534272864,
          458.96082534272864,
          458.96082534272864,
          458.96082534272864,
          458.96082534272864,
          458.96082534272864,
          458.96082534272864,
          458.96082534272864,
          458.96082534272864,
          458.96082534272864,
          458.96082534272864,
          458.96082534272864,
          458.96082534272864,
          458.96082534272864,
          458.96082534272864,
          458.96082534272864,
          458.96082534272864,
          458.96082534272864,
          458.96082534272864,
          458.96082534272864,
          458.96082534272864,
          458.96082534272864,
          458.96082534272864,
          458.96082534272864,
          458.96082534272864,
          458.96082534272864,
          458.96082534272864,
          458.96082534272864,
          458.96082534272864,
          458.96082534272864,
          458.96082534272864,
          458.96082534272864,
          458.96082534272864,
          458.96082534272864,
          458.96082534272864,
          458.96082534272864,
          458.96082534272864,
          458.96082534272864,
          458.96082534272864,
          458.96082534272864,
          458.96082534272864,
          458.96082534272864,
          458.96082534272864,
          458.96082534272864,
          458.96082534272864,
          458.96082534272864,
          458.96082534272864,
          458.96082534272864,
          458.96082534272864,
          458.96082534272864,
          458.96082534272864,
          458.96082534272864,
          458.96082534272864,
          458.96082534272864,
          458.96082534272864,
          458.96082534272864,
          458.96082534272864,
          458.96082534272864,
          458.96082534272864,
          458.96082534272864,
          458.96082534272864,
          458.96082534272864,
          458.96082534272864,
          458.96082534272864,
          458.96082534272864,
          458.96082534272864,
          458.96082534272864,
          458.96082534272864,
          458.96082534272864,
          458.96082534272864,
          458.96082534272864,
          458.96082534272864,
          458.96082534272864,
          458.96082534272864,
          458.96082534272864,
          458.96082534272864,
          458.96082534272864,
          458.96082534272864,
          458.96082534272864,
          458.96082534272864,
          458.96082534272864,
          458.96082534272864,
          458.96082534272864,
          458.96082534272864,
          458.96082534272864,
          458.96082534272864,
          458.96082534272864,
          458.96082534272864,
          458.96082534272864,
          458.96082534272864,
          458.96082534272864,
          458.96082534272864,
          458.96082534272864,
          458.96082534272864,
          458.96082534272864,
          458.96082534272864,
          458.96082534272864,
          458.96082534272864,
          458.96082534272864,
          458.96082534272864,
          458.96082534272864,
          458.96082534272864,
          458.96082534272864,
          458.96082534272864,
          458.96082534272864,
          458.96082534272864,
          458.96082534272864,
          458.96082534272864,
          458.96082534272864,
          458.96082534272864,
          458.96082534272864,
          458.96082534272864,
          458.96082534272864,
          458.96082534272864,
          458.96082534272864,
          458.96082534272864,
          458.96082534272864,
          458.96082534272864,
          458.96082534272864,
          458.96082534272864,
          458.96082534272864,
          458.96082534272864,
          458.96082534272864,
          458.96082534272864,
          458.96082534272864,
          458.96082534272864,
          458.96082534272864,
          458.96082534272864,
          458.96082534272864,
          458.96082534272864,
          458.96082534272864,
          458.96082534272864,
          458.96082534272864,
          458.96082534272864,
          458.96082534272864,
          458.96082534272864,
          458.96082534272864,
          458.96082534272864,
          458.96082534272864,
          458.96082534272864,
          458.96082534272864,
          458.96082534272864,
          458.96082534272864,
          458.96082534272864,
          458.96082534272864,
          458.96082534272864,
          458.96082534272864,
          458.96082534272864,
          458.96082534272864,
          458.96082534272864,
          458.96082534272864,
          458.96082534272864,
          458.96082534272864,
          458.96082534272864,
          458.96082534272864,
          458.96082534272864,
          458.96082534272864,
          458.96082534272864,
          458.96082534272864,
          458.96082534272864,
          458.96082534272864,
          458.96082534272864,
          458.96082534272864,
          458.96082534272864,
          458.96082534272864,
          458.96082534272864,
          458.96082534272864,
          458.96082534272864,
          458.96082534272864,
          458.96082534272864,
          458.96082534272864,
          458.96082534272864,
          458.96082534272864,
          458.96082534272864,
          458.96082534272864,
          458.96082534272864,
          458.96082534272864,
          458.96082534272864,
          458.96082534272864,
          458.96082534272864,
          458.96082534272864,
          458.96082534272864,
          458.96082534272864,
          458.96082534272864,
          458.96082534272864,
          458.96082534272864,
          551.111423988672,
          551.111423988672,
          551.111423988672,
          551.111423988672,
          551.111423988672,
          551.111423988672,
          551.111423988672,
          551.111423988672,
          551.111423988672,
          551.111423988672,
          551.111423988672,
          551.111423988672,
          551.111423988672,
          551.111423988672,
          551.111423988672,
          551.111423988672,
          551.111423988672,
          551.111423988672,
          551.111423988672,
          551.111423988672,
          551.111423988672,
          551.111423988672,
          551.111423988672,
          551.111423988672,
          551.111423988672,
          551.111423988672,
          551.111423988672,
          551.111423988672,
          551.111423988672,
          551.111423988672,
          551.111423988672,
          551.111423988672,
          551.111423988672,
          551.111423988672,
          551.111423988672,
          551.111423988672,
          551.111423988672,
          551.111423988672,
          551.111423988672,
          551.111423988672,
          551.111423988672,
          551.111423988672,
          551.111423988672,
          551.111423988672,
          551.111423988672,
          551.111423988672,
          551.111423988672,
          551.111423988672,
          551.111423988672,
          551.111423988672,
          551.111423988672,
          551.111423988672,
          551.111423988672,
          551.111423988672,
          551.111423988672,
          551.111423988672,
          551.111423988672,
          551.111423988672,
          551.111423988672,
          551.111423988672,
          551.111423988672,
          551.111423988672,
          551.111423988672,
          551.111423988672,
          551.111423988672,
          551.111423988672,
          551.111423988672,
          551.111423988672,
          551.111423988672,
          551.111423988672,
          551.111423988672,
          551.111423988672,
          551.111423988672,
          551.111423988672,
          551.111423988672,
          551.111423988672,
          551.111423988672,
          551.111423988672,
          551.111423988672,
          551.111423988672,
          551.111423988672,
          551.111423988672,
          551.111423988672,
          551.111423988672,
          551.111423988672,
          551.111423988672,
          551.111423988672,
          551.111423988672,
          551.111423988672,
          551.111423988672,
          551.111423988672,
          551.111423988672,
          551.111423988672,
          551.111423988672,
          551.111423988672,
          551.111423988672,
          551.111423988672,
          551.111423988672,
          551.111423988672,
          551.111423988672,
          551.111423988672,
          551.111423988672,
          551.111423988672,
          551.111423988672,
          551.111423988672,
          551.111423988672,
          551.111423988672,
          551.111423988672,
          551.111423988672,
          551.111423988672,
          551.111423988672,
          551.111423988672,
          551.111423988672,
          551.111423988672,
          551.111423988672,
          551.111423988672,
          551.111423988672,
          551.111423988672,
          551.111423988672,
          551.111423988672,
          551.111423988672,
          551.111423988672,
          551.111423988672,
          551.111423988672,
          551.111423988672,
          551.111423988672,
          551.111423988672,
          551.111423988672,
          551.111423988672,
          551.111423988672,
          551.111423988672,
          551.111423988672,
          551.111423988672,
          551.111423988672,
          551.111423988672,
          551.111423988672,
          551.111423988672,
          551.111423988672,
          551.111423988672,
          551.111423988672,
          551.111423988672,
          551.111423988672,
          551.111423988672,
          551.111423988672,
          551.111423988672,
          551.111423988672,
          551.111423988672,
          551.111423988672,
          551.111423988672,
          551.111423988672,
          551.111423988672,
          551.111423988672,
          551.111423988672,
          551.111423988672,
          551.111423988672,
          551.111423988672,
          551.111423988672,
          551.111423988672,
          551.111423988672,
          551.111423988672,
          551.111423988672,
          551.111423988672,
          551.111423988672,
          551.111423988672,
          551.111423988672,
          551.111423988672,
          551.111423988672,
          551.111423988672,
          551.111423988672,
          551.111423988672,
          551.111423988672,
          551.111423988672,
          551.111423988672,
          551.111423988672,
          551.111423988672,
          551.111423988672,
          551.111423988672,
          551.111423988672,
          551.111423988672,
          551.111423988672,
          551.111423988672,
          551.111423988672,
          551.111423988672,
          551.111423988672,
          551.111423988672,
          551.111423988672,
          551.111423988672,
          551.111423988672,
          551.111423988672,
          551.111423988672,
          551.111423988672,
          551.111423988672,
          551.111423988672,
          551.111423988672,
          551.111423988672,
          551.111423988672,
          551.111423988672,
          551.111423988672,
          551.111423988672,
          551.111423988672,
          551.111423988672,
          551.111423988672,
          551.111423988672,
          551.111423988672,
          551.111423988672,
          551.111423988672,
          551.111423988672,
          551.111423988672,
          551.111423988672,
          551.111423988672,
          551.111423988672,
          551.111423988672,
          551.111423988672,
          551.111423988672,
          551.111423988672,
          551.111423988672,
          551.111423988672,
          551.111423988672,
          551.111423988672,
          551.111423988672,
          551.111423988672,
          551.111423988672,
          551.111423988672,
          551.111423988672,
          551.111423988672,
          551.111423988672,
          551.111423988672,
          551.111423988672,
          551.111423988672,
          551.111423988672,
          551.111423988672,
          551.111423988672,
          551.111423988672,
          551.111423988672,
          551.111423988672,
          551.111423988672,
          551.111423988672,
          551.111423988672,
          551.111423988672,
          551.111423988672,
          551.111423988672,
          551.111423988672,
          551.111423988672,
          551.111423988672,
          551.111423988672,
          551.111423988672,
          551.111423988672,
          551.111423988672,
          551.111423988672,
          551.111423988672,
          551.111423988672,
          551.111423988672,
          551.111423988672,
          551.111423988672,
          551.111423988672,
          551.111423988672,
          551.111423988672,
          551.111423988672,
          551.111423988672,
          551.111423988672,
          551.111423988672,
          551.111423988672,
          551.111423988672,
          551.111423988672,
          551.111423988672,
          551.111423988672,
          551.111423988672,
          551.111423988672,
          551.111423988672,
          551.111423988672,
          551.111423988672,
          551.111423988672,
          551.111423988672,
          551.111423988672,
          551.111423988672,
          551.111423988672,
          551.111423988672,
          551.111423988672,
          551.111423988672,
          551.111423988672,
          551.111423988672,
          689.337321957586,
          689.337321957586,
          689.337321957586,
          689.337321957586,
          689.337321957586,
          689.337321957586,
          689.337321957586,
          689.337321957586,
          689.337321957586,
          689.337321957586,
          689.337321957586,
          689.337321957586,
          689.337321957586,
          689.337321957586,
          689.337321957586,
          689.337321957586,
          689.337321957586,
          689.337321957586,
          689.337321957586,
          689.337321957586,
          689.337321957586,
          689.337321957586,
          689.337321957586,
          689.337321957586,
          689.337321957586,
          689.337321957586,
          689.337321957586,
          689.337321957586,
          689.337321957586,
          689.337321957586,
          689.337321957586,
          689.337321957586,
          689.337321957586,
          689.337321957586,
          689.337321957586,
          689.337321957586,
          689.337321957586,
          689.337321957586,
          689.337321957586,
          689.337321957586,
          689.337321957586,
          689.337321957586,
          689.337321957586,
          689.337321957586,
          689.337321957586,
          689.337321957586,
          689.337321957586,
          689.337321957586,
          689.337321957586,
          689.337321957586,
          689.337321957586,
          689.337321957586,
          689.337321957586,
          689.337321957586,
          689.337321957586,
          689.337321957586,
          689.337321957586,
          689.337321957586,
          689.337321957586,
          689.337321957586,
          689.337321957586,
          689.337321957586,
          689.337321957586,
          689.337321957586,
          689.337321957586,
          689.337321957586,
          689.337321957586,
          689.337321957586,
          689.337321957586,
          689.337321957586,
          689.337321957586,
          689.337321957586,
          689.337321957586,
          689.337321957586,
          689.337321957586,
          689.337321957586,
          689.337321957586,
          689.337321957586,
          689.337321957586,
          689.337321957586,
          689.337321957586,
          689.337321957586,
          689.337321957586,
          689.337321957586,
          689.337321957586,
          689.337321957586,
          689.337321957586,
          689.337321957586,
          689.337321957586,
          689.337321957586,
          689.337321957586,
          689.337321957586,
          689.337321957586,
          689.337321957586,
          689.337321957586,
          689.337321957586,
          689.337321957586,
          689.337321957586,
          689.337321957586,
          689.337321957586,
          689.337321957586,
          689.337321957586,
          689.337321957586,
          689.337321957586,
          689.337321957586,
          689.337321957586,
          689.337321957586,
          689.337321957586,
          689.337321957586,
          689.337321957586,
          689.337321957586,
          689.337321957586,
          689.337321957586,
          689.337321957586,
          689.337321957586,
          689.337321957586,
          689.337321957586,
          689.337321957586,
          689.337321957586,
          689.337321957586,
          689.337321957586,
          689.337321957586,
          689.337321957586,
          689.337321957586,
          689.337321957586,
          689.337321957586,
          689.337321957586,
          689.337321957586,
          689.337321957586,
          689.337321957586,
          689.337321957586,
          689.337321957586,
          689.337321957586,
          689.337321957586,
          689.337321957586,
          689.337321957586,
          689.337321957586,
          689.337321957586,
          689.337321957586,
          689.337321957586,
          689.337321957586,
          689.337321957586,
          689.337321957586,
          689.337321957586,
          689.337321957586,
          689.337321957586,
          689.337321957586,
          689.337321957586,
          689.337321957586,
          689.337321957586,
          689.337321957586,
          689.337321957586,
          689.337321957586,
          689.337321957586,
          689.337321957586,
          689.337321957586,
          689.337321957586,
          689.337321957586,
          689.337321957586,
          689.337321957586,
          689.337321957586,
          689.337321957586,
          689.337321957586,
          689.337321957586,
          689.337321957586,
          689.337321957586,
          689.337321957586,
          689.337321957586,
          689.337321957586,
          689.337321957586,
          689.337321957586,
          689.337321957586,
          689.337321957586,
          689.337321957586,
          689.337321957586,
          689.337321957586,
          689.337321957586,
          689.337321957586,
          689.337321957586,
          689.337321957586,
          689.337321957586,
          689.337321957586,
          689.337321957586,
          689.337321957586,
          689.337321957586,
          689.337321957586,
          689.337321957586,
          689.337321957586,
          689.337321957586,
          689.337321957586,
          689.337321957586,
          689.337321957586,
          689.337321957586,
          689.337321957586,
          689.337321957586,
          689.337321957586,
          689.337321957586,
          689.337321957586,
          689.337321957586,
          689.337321957586,
          689.337321957586,
          689.337321957586,
          689.337321957586,
          689.337321957586,
          689.337321957586,
          689.337321957586,
          689.337321957586,
          689.337321957586,
          689.337321957586,
          689.337321957586,
          689.337321957586,
          689.337321957586,
          689.337321957586,
          689.337321957586,
          689.337321957586,
          689.337321957586,
          689.337321957586,
          689.337321957586,
          689.337321957586,
          689.337321957586,
          689.337321957586,
          689.337321957586,
          689.337321957586,
          689.337321957586,
          689.337321957586,
          689.337321957586,
          689.337321957586,
          689.337321957586,
          689.337321957586,
          689.337321957586,
          689.337321957586,
          689.337321957586,
          689.337321957586,
          689.337321957586,
          689.337321957586,
          689.337321957586,
          689.337321957586,
          689.337321957586,
          689.337321957586,
          689.337321957586,
          689.337321957586,
          689.337321957586,
          781.4879206035293,
          781.4879206035293,
          781.4879206035293,
          781.4879206035293,
          781.4879206035293,
          781.4879206035293,
          781.4879206035293,
          781.4879206035293,
          781.4879206035293,
          781.4879206035293,
          781.4879206035293,
          781.4879206035293,
          781.4879206035293,
          781.4879206035293,
          781.4879206035293,
          781.4879206035293,
          781.4879206035293,
          781.4879206035293,
          781.4879206035293,
          781.4879206035293,
          781.4879206035293,
          781.4879206035293,
          781.4879206035293,
          781.4879206035293,
          781.4879206035293,
          781.4879206035293,
          781.4879206035293,
          781.4879206035293,
          781.4879206035293,
          781.4879206035293,
          781.4879206035293,
          781.4879206035293,
          781.4879206035293,
          781.4879206035293,
          781.4879206035293,
          781.4879206035293,
          781.4879206035293,
          781.4879206035293,
          781.4879206035293,
          781.4879206035293,
          781.4879206035293,
          781.4879206035293,
          781.4879206035293,
          781.4879206035293,
          781.4879206035293,
          781.4879206035293,
          781.4879206035293,
          781.4879206035293,
          781.4879206035293,
          781.4879206035293,
          781.4879206035293,
          781.4879206035293,
          781.4879206035293,
          781.4879206035293,
          781.4879206035293,
          781.4879206035293,
          781.4879206035293,
          781.4879206035293,
          781.4879206035293,
          781.4879206035293,
          781.4879206035293,
          781.4879206035293,
          781.4879206035293,
          781.4879206035293,
          781.4879206035293,
          781.4879206035293,
          781.4879206035293,
          781.4879206035293,
          781.4879206035293,
          781.4879206035293,
          781.4879206035293,
          781.4879206035293,
          781.4879206035293,
          781.4879206035293,
          781.4879206035293,
          781.4879206035293,
          781.4879206035293,
          781.4879206035293,
          781.4879206035293,
          781.4879206035293,
          781.4879206035293,
          781.4879206035293,
          781.4879206035293,
          781.4879206035293,
          781.4879206035293,
          781.4879206035293,
          781.4879206035293,
          781.4879206035293,
          781.4879206035293,
          781.4879206035293,
          781.4879206035293,
          781.4879206035293,
          781.4879206035293,
          781.4879206035293,
          781.4879206035293,
          781.4879206035293,
          781.4879206035293,
          781.4879206035293,
          781.4879206035293,
          781.4879206035293,
          781.4879206035293,
          781.4879206035293,
          781.4879206035293,
          781.4879206035293,
          781.4879206035293,
          781.4879206035293,
          781.4879206035293,
          781.4879206035293,
          781.4879206035293,
          781.4879206035293,
          781.4879206035293,
          781.4879206035293,
          781.4879206035293,
          781.4879206035293,
          781.4879206035293,
          781.4879206035293,
          781.4879206035293,
          781.4879206035293,
          781.4879206035293,
          781.4879206035293,
          781.4879206035293,
          781.4879206035293,
          781.4879206035293,
          781.4879206035293,
          781.4879206035293,
          781.4879206035293,
          781.4879206035293,
          781.4879206035293,
          781.4879206035293,
          781.4879206035293,
          781.4879206035293,
          781.4879206035293,
          781.4879206035293,
          781.4879206035293,
          781.4879206035293,
          781.4879206035293,
          781.4879206035293,
          781.4879206035293,
          781.4879206035293,
          781.4879206035293,
          781.4879206035293,
          781.4879206035293,
          781.4879206035293,
          781.4879206035293,
          781.4879206035293,
          781.4879206035293,
          781.4879206035293,
          781.4879206035293,
          781.4879206035293,
          781.4879206035293,
          781.4879206035293,
          781.4879206035293,
          781.4879206035293,
          781.4879206035293,
          781.4879206035293,
          781.4879206035293,
          781.4879206035293,
          781.4879206035293,
          781.4879206035293,
          781.4879206035293,
          781.4879206035293,
          781.4879206035293,
          781.4879206035293,
          781.4879206035293,
          781.4879206035293,
          781.4879206035293,
          781.4879206035293,
          781.4879206035293,
          781.4879206035293,
          781.4879206035293,
          781.4879206035293,
          781.4879206035293,
          781.4879206035293,
          781.4879206035293,
          781.4879206035293,
          781.4879206035293,
          781.4879206035293,
          781.4879206035293,
          781.4879206035293,
          781.4879206035293,
          781.4879206035293,
          827.5632199265001,
          919.7138185724434,
          919.7138185724434,
          919.7138185724434,
          919.7138185724434,
          919.7138185724434,
          919.7138185724434,
          919.7138185724434,
          919.7138185724434,
          919.7138185724434,
          919.7138185724434,
          919.7138185724434,
          919.7138185724434,
          919.7138185724434,
          919.7138185724434,
          919.7138185724434,
          919.7138185724434,
          919.7138185724434,
          919.7138185724434,
          919.7138185724434,
          919.7138185724434,
          919.7138185724434,
          919.7138185724434,
          919.7138185724434,
          919.7138185724434,
          919.7138185724434,
          919.7138185724434,
          919.7138185724434,
          919.7138185724434,
          919.7138185724434,
          919.7138185724434,
          919.7138185724434,
          919.7138185724434,
          919.7138185724434,
          919.7138185724434,
          919.7138185724434,
          919.7138185724434,
          919.7138185724434,
          919.7138185724434,
          919.7138185724434,
          919.7138185724434,
          919.7138185724434,
          919.7138185724434,
          919.7138185724434,
          919.7138185724434,
          919.7138185724434,
          919.7138185724434,
          919.7138185724434,
          919.7138185724434,
          919.7138185724434,
          919.7138185724434,
          919.7138185724434,
          919.7138185724434,
          919.7138185724434,
          919.7138185724434,
          919.7138185724434,
          919.7138185724434,
          919.7138185724434,
          919.7138185724434,
          919.7138185724434,
          919.7138185724434,
          919.7138185724434,
          919.7138185724434,
          919.7138185724434,
          919.7138185724434,
          919.7138185724434,
          919.7138185724434,
          919.7138185724434,
          919.7138185724434,
          919.7138185724434,
          919.7138185724434,
          919.7138185724434,
          919.7138185724434,
          919.7138185724434,
          919.7138185724434,
          919.7138185724434,
          919.7138185724434,
          919.7138185724434,
          919.7138185724434,
          919.7138185724434,
          919.7138185724434,
          919.7138185724434,
          919.7138185724434,
          919.7138185724434,
          919.7138185724434,
          919.7138185724434,
          919.7138185724434,
          919.7138185724434,
          919.7138185724434,
          919.7138185724434,
          919.7138185724434,
          919.7138185724434,
          919.7138185724434,
          919.7138185724434,
          919.7138185724434,
          919.7138185724434,
          919.7138185724434,
          919.7138185724434,
          919.7138185724434,
          919.7138185724434,
          919.7138185724434,
          919.7138185724434,
          919.7138185724434,
          919.7138185724434,
          919.7138185724434,
          919.7138185724434,
          919.7138185724434,
          919.7138185724434,
          919.7138185724434,
          919.7138185724434,
          919.7138185724434,
          919.7138185724434,
          919.7138185724434,
          919.7138185724434,
          919.7138185724434,
          919.7138185724434,
          965.7891178954142,
          1057.9397165413575,
          1057.9397165413575,
          1057.9397165413575,
          1057.9397165413575,
          1057.9397165413575,
          1057.9397165413575,
          1057.9397165413575,
          1057.9397165413575,
          1057.9397165413575,
          1057.9397165413575,
          1057.9397165413575,
          1057.9397165413575,
          1057.9397165413575,
          1057.9397165413575,
          1057.9397165413575,
          1057.9397165413575,
          1057.9397165413575,
          1057.9397165413575,
          1057.9397165413575,
          1057.9397165413575,
          1057.9397165413575,
          1057.9397165413575,
          1057.9397165413575,
          1057.9397165413575,
          1057.9397165413575,
          1057.9397165413575,
          1057.9397165413575,
          1057.9397165413575,
          1057.9397165413575,
          1057.9397165413575,
          1057.9397165413575,
          1057.9397165413575,
          1057.9397165413575,
          1057.9397165413575,
          1057.9397165413575,
          1057.9397165413575,
          1057.9397165413575,
          1057.9397165413575,
          1057.9397165413575,
          1057.9397165413575,
          1057.9397165413575,
          1057.9397165413575,
          1057.9397165413575,
          1057.9397165413575,
          1057.9397165413575,
          1057.9397165413575,
          1057.9397165413575,
          1150.090315187299,
          1150.090315187299,
          1150.090315187299,
          1150.090315187299,
          1150.090315187299,
          1150.090315187299,
          1150.090315187299,
          1150.090315187299,
          1150.090315187299,
          1150.090315187299,
          1150.090315187299,
          1150.090315187299,
          1150.090315187299,
          1150.090315187299,
          1288.316213156213,
          1288.316213156213,
          1288.316213156213,
          1288.316213156213,
          1288.316213156213,
          1288.316213156213,
          1288.316213156213,
          1380.4668118021564,
          1380.4668118021564,
          1380.4668118021564,
          1380.4668118021564,
          1380.4668118021564,
          1380.4668118021564,
          1380.4668118021564,
          1380.4668118021564,
          1518.6927097710704,
          1610.843308417012
         ],
         "yaxis": "y"
        }
       ],
       "layout": {
        "legend": {
         "tracegroupgap": 0
        },
        "margin": {
         "t": 60
        },
        "template": {
         "data": {
          "bar": [
           {
            "error_x": {
             "color": "#2a3f5f"
            },
            "error_y": {
             "color": "#2a3f5f"
            },
            "marker": {
             "line": {
              "color": "#E5ECF6",
              "width": 0.5
             }
            },
            "type": "bar"
           }
          ],
          "barpolar": [
           {
            "marker": {
             "line": {
              "color": "#E5ECF6",
              "width": 0.5
             }
            },
            "type": "barpolar"
           }
          ],
          "carpet": [
           {
            "aaxis": {
             "endlinecolor": "#2a3f5f",
             "gridcolor": "white",
             "linecolor": "white",
             "minorgridcolor": "white",
             "startlinecolor": "#2a3f5f"
            },
            "baxis": {
             "endlinecolor": "#2a3f5f",
             "gridcolor": "white",
             "linecolor": "white",
             "minorgridcolor": "white",
             "startlinecolor": "#2a3f5f"
            },
            "type": "carpet"
           }
          ],
          "choropleth": [
           {
            "colorbar": {
             "outlinewidth": 0,
             "ticks": ""
            },
            "type": "choropleth"
           }
          ],
          "contour": [
           {
            "colorbar": {
             "outlinewidth": 0,
             "ticks": ""
            },
            "colorscale": [
             [
              0,
              "#0d0887"
             ],
             [
              0.1111111111111111,
              "#46039f"
             ],
             [
              0.2222222222222222,
              "#7201a8"
             ],
             [
              0.3333333333333333,
              "#9c179e"
             ],
             [
              0.4444444444444444,
              "#bd3786"
             ],
             [
              0.5555555555555556,
              "#d8576b"
             ],
             [
              0.6666666666666666,
              "#ed7953"
             ],
             [
              0.7777777777777778,
              "#fb9f3a"
             ],
             [
              0.8888888888888888,
              "#fdca26"
             ],
             [
              1,
              "#f0f921"
             ]
            ],
            "type": "contour"
           }
          ],
          "contourcarpet": [
           {
            "colorbar": {
             "outlinewidth": 0,
             "ticks": ""
            },
            "type": "contourcarpet"
           }
          ],
          "heatmap": [
           {
            "colorbar": {
             "outlinewidth": 0,
             "ticks": ""
            },
            "colorscale": [
             [
              0,
              "#0d0887"
             ],
             [
              0.1111111111111111,
              "#46039f"
             ],
             [
              0.2222222222222222,
              "#7201a8"
             ],
             [
              0.3333333333333333,
              "#9c179e"
             ],
             [
              0.4444444444444444,
              "#bd3786"
             ],
             [
              0.5555555555555556,
              "#d8576b"
             ],
             [
              0.6666666666666666,
              "#ed7953"
             ],
             [
              0.7777777777777778,
              "#fb9f3a"
             ],
             [
              0.8888888888888888,
              "#fdca26"
             ],
             [
              1,
              "#f0f921"
             ]
            ],
            "type": "heatmap"
           }
          ],
          "heatmapgl": [
           {
            "colorbar": {
             "outlinewidth": 0,
             "ticks": ""
            },
            "colorscale": [
             [
              0,
              "#0d0887"
             ],
             [
              0.1111111111111111,
              "#46039f"
             ],
             [
              0.2222222222222222,
              "#7201a8"
             ],
             [
              0.3333333333333333,
              "#9c179e"
             ],
             [
              0.4444444444444444,
              "#bd3786"
             ],
             [
              0.5555555555555556,
              "#d8576b"
             ],
             [
              0.6666666666666666,
              "#ed7953"
             ],
             [
              0.7777777777777778,
              "#fb9f3a"
             ],
             [
              0.8888888888888888,
              "#fdca26"
             ],
             [
              1,
              "#f0f921"
             ]
            ],
            "type": "heatmapgl"
           }
          ],
          "histogram": [
           {
            "marker": {
             "colorbar": {
              "outlinewidth": 0,
              "ticks": ""
             }
            },
            "type": "histogram"
           }
          ],
          "histogram2d": [
           {
            "colorbar": {
             "outlinewidth": 0,
             "ticks": ""
            },
            "colorscale": [
             [
              0,
              "#0d0887"
             ],
             [
              0.1111111111111111,
              "#46039f"
             ],
             [
              0.2222222222222222,
              "#7201a8"
             ],
             [
              0.3333333333333333,
              "#9c179e"
             ],
             [
              0.4444444444444444,
              "#bd3786"
             ],
             [
              0.5555555555555556,
              "#d8576b"
             ],
             [
              0.6666666666666666,
              "#ed7953"
             ],
             [
              0.7777777777777778,
              "#fb9f3a"
             ],
             [
              0.8888888888888888,
              "#fdca26"
             ],
             [
              1,
              "#f0f921"
             ]
            ],
            "type": "histogram2d"
           }
          ],
          "histogram2dcontour": [
           {
            "colorbar": {
             "outlinewidth": 0,
             "ticks": ""
            },
            "colorscale": [
             [
              0,
              "#0d0887"
             ],
             [
              0.1111111111111111,
              "#46039f"
             ],
             [
              0.2222222222222222,
              "#7201a8"
             ],
             [
              0.3333333333333333,
              "#9c179e"
             ],
             [
              0.4444444444444444,
              "#bd3786"
             ],
             [
              0.5555555555555556,
              "#d8576b"
             ],
             [
              0.6666666666666666,
              "#ed7953"
             ],
             [
              0.7777777777777778,
              "#fb9f3a"
             ],
             [
              0.8888888888888888,
              "#fdca26"
             ],
             [
              1,
              "#f0f921"
             ]
            ],
            "type": "histogram2dcontour"
           }
          ],
          "mesh3d": [
           {
            "colorbar": {
             "outlinewidth": 0,
             "ticks": ""
            },
            "type": "mesh3d"
           }
          ],
          "parcoords": [
           {
            "line": {
             "colorbar": {
              "outlinewidth": 0,
              "ticks": ""
             }
            },
            "type": "parcoords"
           }
          ],
          "pie": [
           {
            "automargin": true,
            "type": "pie"
           }
          ],
          "scatter": [
           {
            "marker": {
             "colorbar": {
              "outlinewidth": 0,
              "ticks": ""
             }
            },
            "type": "scatter"
           }
          ],
          "scatter3d": [
           {
            "line": {
             "colorbar": {
              "outlinewidth": 0,
              "ticks": ""
             }
            },
            "marker": {
             "colorbar": {
              "outlinewidth": 0,
              "ticks": ""
             }
            },
            "type": "scatter3d"
           }
          ],
          "scattercarpet": [
           {
            "marker": {
             "colorbar": {
              "outlinewidth": 0,
              "ticks": ""
             }
            },
            "type": "scattercarpet"
           }
          ],
          "scattergeo": [
           {
            "marker": {
             "colorbar": {
              "outlinewidth": 0,
              "ticks": ""
             }
            },
            "type": "scattergeo"
           }
          ],
          "scattergl": [
           {
            "marker": {
             "colorbar": {
              "outlinewidth": 0,
              "ticks": ""
             }
            },
            "type": "scattergl"
           }
          ],
          "scattermapbox": [
           {
            "marker": {
             "colorbar": {
              "outlinewidth": 0,
              "ticks": ""
             }
            },
            "type": "scattermapbox"
           }
          ],
          "scatterpolar": [
           {
            "marker": {
             "colorbar": {
              "outlinewidth": 0,
              "ticks": ""
             }
            },
            "type": "scatterpolar"
           }
          ],
          "scatterpolargl": [
           {
            "marker": {
             "colorbar": {
              "outlinewidth": 0,
              "ticks": ""
             }
            },
            "type": "scatterpolargl"
           }
          ],
          "scatterternary": [
           {
            "marker": {
             "colorbar": {
              "outlinewidth": 0,
              "ticks": ""
             }
            },
            "type": "scatterternary"
           }
          ],
          "surface": [
           {
            "colorbar": {
             "outlinewidth": 0,
             "ticks": ""
            },
            "colorscale": [
             [
              0,
              "#0d0887"
             ],
             [
              0.1111111111111111,
              "#46039f"
             ],
             [
              0.2222222222222222,
              "#7201a8"
             ],
             [
              0.3333333333333333,
              "#9c179e"
             ],
             [
              0.4444444444444444,
              "#bd3786"
             ],
             [
              0.5555555555555556,
              "#d8576b"
             ],
             [
              0.6666666666666666,
              "#ed7953"
             ],
             [
              0.7777777777777778,
              "#fb9f3a"
             ],
             [
              0.8888888888888888,
              "#fdca26"
             ],
             [
              1,
              "#f0f921"
             ]
            ],
            "type": "surface"
           }
          ],
          "table": [
           {
            "cells": {
             "fill": {
              "color": "#EBF0F8"
             },
             "line": {
              "color": "white"
             }
            },
            "header": {
             "fill": {
              "color": "#C8D4E3"
             },
             "line": {
              "color": "white"
             }
            },
            "type": "table"
           }
          ]
         },
         "layout": {
          "annotationdefaults": {
           "arrowcolor": "#2a3f5f",
           "arrowhead": 0,
           "arrowwidth": 1
          },
          "coloraxis": {
           "colorbar": {
            "outlinewidth": 0,
            "ticks": ""
           }
          },
          "colorscale": {
           "diverging": [
            [
             0,
             "#8e0152"
            ],
            [
             0.1,
             "#c51b7d"
            ],
            [
             0.2,
             "#de77ae"
            ],
            [
             0.3,
             "#f1b6da"
            ],
            [
             0.4,
             "#fde0ef"
            ],
            [
             0.5,
             "#f7f7f7"
            ],
            [
             0.6,
             "#e6f5d0"
            ],
            [
             0.7,
             "#b8e186"
            ],
            [
             0.8,
             "#7fbc41"
            ],
            [
             0.9,
             "#4d9221"
            ],
            [
             1,
             "#276419"
            ]
           ],
           "sequential": [
            [
             0,
             "#0d0887"
            ],
            [
             0.1111111111111111,
             "#46039f"
            ],
            [
             0.2222222222222222,
             "#7201a8"
            ],
            [
             0.3333333333333333,
             "#9c179e"
            ],
            [
             0.4444444444444444,
             "#bd3786"
            ],
            [
             0.5555555555555556,
             "#d8576b"
            ],
            [
             0.6666666666666666,
             "#ed7953"
            ],
            [
             0.7777777777777778,
             "#fb9f3a"
            ],
            [
             0.8888888888888888,
             "#fdca26"
            ],
            [
             1,
             "#f0f921"
            ]
           ],
           "sequentialminus": [
            [
             0,
             "#0d0887"
            ],
            [
             0.1111111111111111,
             "#46039f"
            ],
            [
             0.2222222222222222,
             "#7201a8"
            ],
            [
             0.3333333333333333,
             "#9c179e"
            ],
            [
             0.4444444444444444,
             "#bd3786"
            ],
            [
             0.5555555555555556,
             "#d8576b"
            ],
            [
             0.6666666666666666,
             "#ed7953"
            ],
            [
             0.7777777777777778,
             "#fb9f3a"
            ],
            [
             0.8888888888888888,
             "#fdca26"
            ],
            [
             1,
             "#f0f921"
            ]
           ]
          },
          "colorway": [
           "#636efa",
           "#EF553B",
           "#00cc96",
           "#ab63fa",
           "#FFA15A",
           "#19d3f3",
           "#FF6692",
           "#B6E880",
           "#FF97FF",
           "#FECB52"
          ],
          "font": {
           "color": "#2a3f5f"
          },
          "geo": {
           "bgcolor": "white",
           "lakecolor": "white",
           "landcolor": "#E5ECF6",
           "showlakes": true,
           "showland": true,
           "subunitcolor": "white"
          },
          "hoverlabel": {
           "align": "left"
          },
          "hovermode": "closest",
          "mapbox": {
           "style": "light"
          },
          "paper_bgcolor": "white",
          "plot_bgcolor": "#E5ECF6",
          "polar": {
           "angularaxis": {
            "gridcolor": "white",
            "linecolor": "white",
            "ticks": ""
           },
           "bgcolor": "#E5ECF6",
           "radialaxis": {
            "gridcolor": "white",
            "linecolor": "white",
            "ticks": ""
           }
          },
          "scene": {
           "xaxis": {
            "backgroundcolor": "#E5ECF6",
            "gridcolor": "white",
            "gridwidth": 2,
            "linecolor": "white",
            "showbackground": true,
            "ticks": "",
            "zerolinecolor": "white"
           },
           "yaxis": {
            "backgroundcolor": "#E5ECF6",
            "gridcolor": "white",
            "gridwidth": 2,
            "linecolor": "white",
            "showbackground": true,
            "ticks": "",
            "zerolinecolor": "white"
           },
           "zaxis": {
            "backgroundcolor": "#E5ECF6",
            "gridcolor": "white",
            "gridwidth": 2,
            "linecolor": "white",
            "showbackground": true,
            "ticks": "",
            "zerolinecolor": "white"
           }
          },
          "shapedefaults": {
           "line": {
            "color": "#2a3f5f"
           }
          },
          "ternary": {
           "aaxis": {
            "gridcolor": "white",
            "linecolor": "white",
            "ticks": ""
           },
           "baxis": {
            "gridcolor": "white",
            "linecolor": "white",
            "ticks": ""
           },
           "bgcolor": "#E5ECF6",
           "caxis": {
            "gridcolor": "white",
            "linecolor": "white",
            "ticks": ""
           }
          },
          "title": {
           "x": 0.05
          },
          "xaxis": {
           "automargin": true,
           "gridcolor": "white",
           "linecolor": "white",
           "ticks": "",
           "title": {
            "standoff": 15
           },
           "zerolinecolor": "white",
           "zerolinewidth": 2
          },
          "yaxis": {
           "automargin": true,
           "gridcolor": "white",
           "linecolor": "white",
           "ticks": "",
           "title": {
            "standoff": 15
           },
           "zerolinecolor": "white",
           "zerolinewidth": 2
          }
         }
        },
        "xaxis": {
         "anchor": "y",
         "domain": [
          0,
          1
         ],
         "title": {
          "text": "player_ht"
         }
        },
        "yaxis": {
         "anchor": "x",
         "domain": [
          0,
          1
         ],
         "title": {
          "text": "aces"
         }
        }
       }
      },
      "text/html": [
       "<div>\n",
       "        \n",
       "        \n",
       "            <div id=\"b0730567-4e35-49e7-a0ab-8ff528e9c1ca\" class=\"plotly-graph-div\" style=\"height:525px; width:100%;\"></div>\n",
       "            <script type=\"text/javascript\">\n",
       "                require([\"plotly\"], function(Plotly) {\n",
       "                    window.PLOTLYENV=window.PLOTLYENV || {};\n",
       "                    \n",
       "                if (document.getElementById(\"b0730567-4e35-49e7-a0ab-8ff528e9c1ca\")) {\n",
       "                    Plotly.newPlot(\n",
       "                        'b0730567-4e35-49e7-a0ab-8ff528e9c1ca',\n",
       "                        [{\"customdata\": [[995.0, \"Aaron Krickstein\", 183.0], [0.0, \"Adam Anderson\", 180.0], [3.0, \"Adam Chadaj\", 178.0], [31.0, \"Adam Malik\", 193.0], [0.0, \"Adam Peterson\", 185.0], [89.0, \"Adrian Garcia\", 175.0], [2051.0, \"Adrian Mannarino\", 183.0], [0.0, \"Adrian Marcu\", 190.0], [115.0, \"Adrian Ungur\", 178.0], [1585.0, \"Adrian Voinea\", 185.0], [0.0, \"Adriano Panatta\", 183.0], [2649.0, \"Agustin Calleri\", 183.0], [3.0, \"Agustin Garizzio\", 185.0], [15.0, \"Agustin Moreno\", 180.0], [0.0, \"Ahmed El Mehelmy\", 183.0], [279.0, \"Aisam Ul Haq Qureshi\", 183.0], [7.0, \"Akash Wagh\", 175.0], [29.0, \"Aki Rahunen\", 175.0], [0.0, \"Al Parker\", 188.0], [0.0, \"Alan Fox\", 173.0], [26.0, \"Alan Mackin\", 183.0], [264.0, \"Albano Olivetti\", 203.0], [88.0, \"Albert Chang\", 183.0], [2207.0, \"Albert Costa\", 180.0], [1804.0, \"Albert Montanes\", 175.0], [1382.0, \"Albert Portas\", 188.0], [1594.0, \"Albert Ramos\", 188.0], [758.0, \"Alberto Berasategui\", 173.0], [355.0, \"Alberto Mancini\", 180.0], [979.0, \"Alberto Martin\", 175.0], [0.0, \"Alberto Tous\", 175.0], [10.0, \"Aldin Setkic\", 193.0], [0.0, \"Alejandro Aramburu\", 175.0], [853.0, \"Alejandro Falla\", 185.0], [0.0, \"Alejandro Ganzabal\", 180.0], [0.0, \"Alejandro Gattiker\", 180.0], [154.0, \"Alejandro Hernandez\", 180.0], [73.0, \"Alejo Mancisidor\", 183.0], [6.0, \"Aleksandar Kitinov\", 190.0], [0.0, \"Alessandro De Minicis\", 175.0], [110.0, \"Alessandro Giannessi\", 183.0], [189.0, \"Alessio Di Mauro\", 185.0], [532.0, \"Alex Antonitsch\", 188.0], [220.0, \"Alex Bogdanovic\", 183.0], [388.0, \"Alex Bogomolov Jr\", 178.0], [1051.0, \"Alex Calatrava\", 190.0], [11.0, \"Alex Clayton\", 183.0], [2610.0, \"Alex Corretja\", 180.0], [71.0, \"Alex Kim\", 175.0], [286.0, \"Alex Kuznetsov\", 183.0], [101.0, \"Alex Lopez Moron\", 175.0], [0.0, \"Alex Nizet\", 188.0], [1020.0, \"Alex Obrien\", 185.0], [970.0, \"Alex Radulescu\", 185.0], [0.0, \"Alex Stepanek\", 180.0], [126.0, \"Alexander Kudryavtsev\", 183.0], [699.0, \"Alexander Mronz\", 188.0], [273.0, \"Alexander Peya\", 183.0], [485.0, \"Alexander Popp\", 201.0], [53.0, \"Alexander Reichel\", 193.0], [20.0, \"Alexander Sadecky\", 193.0], [12.0, \"Alexander Slabinsky\", 185.0], [1898.0, \"Alexander Volkov\", 188.0], [946.0, \"Alexander Waske\", 188.0], [3029.0, \"Alexander Zverev\", 198.0], [0.0, \"Alexander Zverev Sr\", 185.0], [3147.0, \"Alexandr Dolgopolov\", 180.0], [2.0, \"Alexandre Hocevar\", 190.0], [200.0, \"Alexandre Simoni\", 188.0], [0.0, \"Alexey Kedryuk\", 193.0], [12.0, \"Alexis Hombrecher\", 196.0], [0.0, \"Alfonso Mora\", 188.0], [34.0, \"Alistair Hunt\", 190.0], [2050.0, \"Aljaz Bedene\", 181.0], [9.0, \"Allen Belobrajdic\", 175.0], [44.0, \"Alun Jones\", 180.0], [0.0, \"Alvaro Fillol\", 178.0], [0.0, \"Alvaro Jordan\", 185.0], [807.0, \"Amer Delic\", 196.0], [23.0, \"Amir Hadad\", 183.0], [27.0, \"Amir Weintraub\", 188.0], [0.0, \"Amit Naor\", 178.0], [813.0, \"Amos Mansdorf\", 175.0], [0.0, \"Anand Amritraj\", 185.0], [600.0, \"Anders Jarryd\", 180.0], [4055.0, \"Andre Agassi\", 180.0], [19.0, \"Andre Ghem\", 193.0], [386.0, \"Andre Sa\", 185.0], [1012.0, \"Andrea Gaudenzi\", 183.0], [42.0, \"Andrea Stoppini\", 190.0], [459.0, \"Andreas Beck\", 190.0], [814.0, \"Andreas Haider Maurer\", 190.0], [0.0, \"Andreas Lesch\", 196.0], [0.0, \"Andreas Maurer\", 175.0], [3692.0, \"Andreas Seppi\", 190.0], [772.0, \"Andreas Vinciguerra\", 180.0], [656.0, \"Andrei Cherkasov\", 180.0], [881.0, \"Andrei Chesnokov\", 188.0], [2768.0, \"Andrei Medvedev\", 193.0], [16.0, \"Andrei Merinov\", 183.0], [1759.0, \"Andrei Olhovskiy\", 185.0], [2390.0, \"Andrei Pavel\", 183.0], [11.0, \"Andrei Rybalko\", 180.0], [459.0, \"Andrei Stoliarov\", 178.0], [94.0, \"Andrej Martin\", 180.0], [0.0, \"Andres Gimeno\", 185.0], [396.0, \"Andres Gomez\", 193.0], [7.0, \"Andres Vysand\", 180.0], [1.0, \"Andrew Anderson\", 193.0], [0.0, \"Andrew Burrow\", 178.0], [40.0, \"Andrew Castle\", 190.0], [103.0, \"Andrew Foster\", 190.0], [970.0, \"Andrew Ilie\", 180.0], [13.0, \"Andrew Kratzmann\", 193.0], [0.0, \"Andrew Lobb\", 180.0], [11.0, \"Andrew Painter\", 188.0], [0.0, \"Andrew Pattison\", 188.0], [152.0, \"Andrew Richardson\", 201.0], [128.0, \"Andrew Sznajder\", 175.0], [679.0, \"Andrey Golubev\", 185.0], [885.0, \"Andrey Kuznetsov\", 185.0], [0.0, \"Andy Andrews\", 185.0], [4.0, \"Andy Fahlke\", 185.0], [0.0, \"Andy Kohlberg\", 178.0], [5816.0, \"Andy Murray\", 190.0], [76.0, \"Andy Ram\", 180.0], [9040.0, \"Andy Roddick\", 188.0], [2.0, \"Andy Zingman\", 183.0], [0.0, \"Angel Gimenez\", 163.0], [0.0, \"Anthony Lane\", 183.0], [0.0, \"Antonio Padovani\", 178.0], [90.0, \"Antonio Veic\", 180.0], [1539.0, \"Antony Dupuis\", 185.0], [0.0, \"Antony Emerson\", 180.0], [0.0, \"Armin Sandbichler\", 180.0], [18.0, \"Arnau Brugues Davi\", 183.0], [1555.0, \"Arnaud Boetsch\", 183.0], [3135.0, \"Arnaud Clement\", 173.0], [400.0, \"Arnaud Di Pasquale\", 185.0], [313.0, \"Arne Thoms\", 188.0], [7.0, \"Arsenije Zlatanovic\", 193.0], [0.0, \"Arthur Anastopoulo\", 178.0], [0.0, \"Arthur Ashe\", 185.0], [271.0, \"Arvind Parmar\", 193.0], [104.0, \"Attila Balazs\", 180.0], [375.0, \"Attila Savolt\", 183.0], [0.0, \"Audun Jensen\", 178.0], [155.0, \"Axel Pretzsch\", 185.0], [0.0, \"Balazs Taroczy\", 183.0], [202.0, \"Barry Cowan\", 188.0], [0.0, \"Barry Mackay\", 190.0], [0.0, \"Barry Moir\", 180.0], [0.0, \"Barry Phillips Moore\", 173.0], [35.0, \"Bart Wuyts\", 178.0], [8.0, \"Bartolome Salva Vidal\", 183.0], [0.0, \"Belus Prajoux\", 170.0], [95.0, \"Ben Ellwood\", 178.0], [0.0, \"Ben Testerman\", 185.0], [11.0, \"Benedikt Dorsch\", 178.0], [55.0, \"Benjamin Balleret\", 185.0], [2838.0, \"Benjamin Becker\", 178.0], [0.0, \"Benjy Robins\", 175.0], [3961.0, \"Benoit Paire\", 196.0], [8.0, \"Bent Ove Pedersen\", 185.0], [0.0, \"Bernard Boileau\", 185.0], [0.0, \"Bernard Fritz\", 173.0], [0.0, \"Bernard Mitton\", 188.0], [2765.0, \"Bernard Tomic\", 193.0], [36.0, \"Bernardo Mota\", 178.0], [1542.0, \"Bernd Karbacher\", 185.0], [0.0, \"Bernhard Pils\", 178.0], [17.0, \"Bill Behrens\", 188.0], [0.0, \"Bill Scanlon\", 185.0], [0.0, \"Billy Martin\", 178.0], [0.0, \"Billy Nealon\", 178.0], [10.0, \"Bing Chao Lin\", 180.0], [33.0, \"Bing Pan\", 185.0], [45.0, \"Bjorn Borg\", 180.0], [803.0, \"Bjorn Phau\", 175.0], [23.0, \"Bjorn Rehnquist\", 175.0], [0.0, \"Blaine Willenborg\", 170.0], [8.0, \"Blake Strode\", 188.0], [515.0, \"Blaz Kavcic\", 188.0], [0.0, \"Boaz Merenstein\", 180.0], [390.0, \"Bob Bryan\", 193.0], [0.0, \"Bob Carmichael\", 183.0], [0.0, \"Bob Green\", 193.0], [0.0, \"Bob Hewitt\", 190.0], [0.0, \"Bob Howe\", 183.0], [0.0, \"Bobby Banck\", 165.0], [0.0, \"Bobby Blair\", 178.0], [21.0, \"Bobby Kokavec\", 190.0], [885.0, \"Bobby Reynolds\", 183.0], [1471.0, \"Bohdan Ulihrach\", 188.0], [35.0, \"Bong Soo Kim\", 180.0], [2.0, \"Bonit Wiryawan\", 173.0], [4362.0, \"Boris Becker\", 190.0], [181.0, \"Boris Pashanski\", 180.0], [1.0, \"Borut Urh\", 190.0], [0.0, \"Brad Drewett\", 185.0], [1200.0, \"Brad Gilbert\", 185.0], [28.0, \"Brad Pearce\", 175.0], [435.0, \"Bradley Klahn\", 190.0], [4.0, \"Brandon Coupe\", 183.0], [21.0, \"Branislav Stankovic\", 175.0], [150.0, \"Brendan Evans\", 188.0], [7.0, \"Brent Haygarth\", 185.0], [57.0, \"Brent Larkham\", 178.0], [69.0, \"Bret Garnett\", 185.0], [1.0, \"Bret Richardson\", 178.0], [0.0, \"Brett Custer\", 183.0], [0.0, \"Brett Dickinson\", 183.0], [0.0, \"Brett Greenwood\", 178.0], [6.0, \"Brett Hansen Dent\", 183.0], [1038.0, \"Brett Steven\", 185.0], [297.0, \"Brian Baker\", 190.0], [96.0, \"Brian Dabul\", 170.0], [25.0, \"Brian Devening\", 185.0], [97.0, \"Brian Dunn\", 201.0], [20.0, \"Brian Garrow\", 173.0], [0.0, \"Brian Gottfried\", 183.0], [0.0, \"Brian Gyetko\", 183.0], [16.0, \"Brian Joelson\", 183.0], [0.0, \"Brian Levine\", 183.0], [540.0, \"Brian Macphie\", 180.0], [0.0, \"Brian Page\", 183.0], [0.0, \"Brian Roe\", 193.0], [0.0, \"Brian Teacher\", 190.0], [170.0, \"Brian Vahaly\", 183.0], [23.0, \"Brian Wilson\", 190.0], [18.0, \"Broderick Dyke\", 183.0], [1.0, \"Bruce Derlin\", 180.0], [0.0, \"Bruce Foxworth\", 180.0], [0.0, \"Bruce Kleege\", 190.0], [0.0, \"Bruce Manson\", 173.0], [0.0, \"Bruno Dadillon\", 175.0], [6.0, \"Bruno Echagaray\", 183.0], [5.0, \"Bruno Oresar\", 175.0], [0.0, \"Bruno Soares\", 180.0], [1786.0, \"Bryan Shelton\", 185.0], [80.0, \"Brydan Klein\", 183.0], [0.0, \"Bud Schultz\", 193.0], [17.0, \"Buff Farrow\", 170.0], [0.0, \"Butch Seewagen\", 188.0], [0.0, \"Butch Walts\", 193.0], [1534.0, \"Byron Black\", 175.0], [0.0, \"Byron Talbot\", 183.0], [8.0, \"Caio Zampieri\", 183.0], [0.0, \"Candy Idoko\", 175.0], [22.0, \"Carl Chang\", 175.0], [30.0, \"Carl Limberger\", 170.0], [615.0, \"Carl Uwe Steeb\", 180.0], [995.0, \"Carlos Berlocq\", 183.0], [0.0, \"Carlos Castellan\", 190.0], [1712.0, \"Carlos Costa\", 183.0], [16.0, \"Carlos Cuadrado\", 180.0], [0.0, \"Carlos Di Laura\", 175.0], [0.0, \"Carlos Gattiker\", 175.0], [0.0, \"Carlos Kirmayr\", 173.0], [4392.0, \"Carlos Moya\", 190.0], [8.0, \"Carlos Salamanca\", 196.0], [201.0, \"Carsten Arriens\", 193.0], [236.0, \"Carsten Ball\", 198.0], [0.0, \"Cary Stansbury\", 196.0], [63.0, \"Cassio Motta\", 180.0], [459.0, \"Cecil Mamiit\", 173.0], [3687.0, \"Cedric Pioline\", 188.0], [254.0, \"Cedrik Marcel Stebe\", 183.0], [9.0, \"Cesar Kist\", 180.0], [1.0, \"Charles Auffray\", 183.0], [0.0, \"Charles Beckman\", 185.0], [0.0, \"Charles Bud Cox\", 196.0], [0.0, \"Charles Buzz Strode\", 183.0], [0.0, \"Charles Honey\", 185.0], [0.0, \"Charles Merzbacher\", 185.0], [0.0, \"Charlie Fancutt\", 178.0], [0.0, \"Charlton Eagle\", 180.0], [0.0, \"Chemseddine Belal\", 180.0], [5.0, \"Chi Wan Kim\", 180.0], [0.0, \"Chip Hooper\", 198.0], [0.0, \"Choon Ho Kim\", 163.0], [73.0, \"Chris Bailey\", 196.0], [0.0, \"Chris Dunk\", 193.0], [148.0, \"Chris Garner\", 180.0], [1386.0, \"Chris Guccione\", 201.0], [11.0, \"Chris Haggard\", 178.0], [0.0, \"Chris Johnstone\", 175.0], [0.0, \"Chris Kennedy\", 185.0], [0.0, \"Chris Lewis\", 180.0], [214.0, \"Chris Pridham\", 183.0], [333.0, \"Chris Wilkinson\", 180.0], [1255.0, \"Chris Woodruff\", 188.0], [23.0, \"Christer Allgardh\", 190.0], [472.0, \"Christian Bergstrom\", 180.0], [0.0, \"Christian Feenstra\", 183.0], [0.0, \"Christian Geyer\", 183.0], [153.0, \"Christian Miniussi\", 185.0], [582.0, \"Christian Ruud\", 188.0], [345.0, \"Christian Saceanu\", 190.0], [200.0, \"Christian Vinck\", 183.0], [0.0, \"Christian Weis\", 180.0], [0.0, \"Christo Steyn\", 185.0], [417.0, \"Christo Van Rensburg\", 185.0], [0.0, \"Christoph Zipf\", 185.0], [0.0, \"Christophe Bernelle\", 185.0], [0.0, \"Christophe Casa\", 178.0], [0.0, \"Christophe Freyss\", 183.0], [588.0, \"Christophe Rochus\", 170.0], [0.0, \"Christophe Roger Vasselin\", 188.0], [101.0, \"Christophe Van Garsse\", 185.0], [0.0, \"Christopher Kas\", 188.0], [2.0, \"Christopher Koderisch\", 180.0], [709.0, \"Chuck Adams\", 185.0], [6.0, \"Ciprian Petre Porumb\", 196.0], [0.0, \"Clark Graebner\", 188.0], [1.0, \"Claude Ngoran\", 190.0], [212.0, \"Claudio Mezzadri\", 180.0], [0.0, \"Claudio Panatta\", 178.0], [120.0, \"Claudio Pistolesi\", 180.0], [23.0, \"Clemens Trimmel\", 185.0], [30.0, \"Clement Ngoran\", 178.0], [0.0, \"Cliff Drysdale\", 188.0], [0.0, \"Cliff Richey\", 175.0], [1.0, \"Clinton Marsh\", 188.0], [0.0, \"Colin Dibley\", 188.0], [0.0, \"Colin Dowdeswell\", 185.0], [11.0, \"Colin Fleming\", 188.0], [0.0, \"Conny Falk\", 188.0], [14.0, \"Conor Niland\", 185.0], [2.0, \"Constantinos Efremoglou\", 188.0], [0.0, \"Corrado Aprili\", 190.0], [0.0, \"Corrado Barazzutti\", 178.0], [25.0, \"Corrado Borroni\", 185.0], [0.0, \"Craig A Miller\", 188.0], [0.0, \"Craig Boynton\", 183.0], [0.0, \"Craig Campbell\", 190.0], [0.0, \"Craig Edwards\", 175.0], [0.0, \"Craig Wittus\", 180.0], [357.0, \"Cristiano Caratti\", 178.0], [1321.0, \"Cyril Saulnier\", 190.0], [2.0, \"Cyril Suk\", 180.0], [0.0, \"Dacio Campos\", 185.0], [0.0, \"Dale Houston\", 188.0], [6.0, \"Damir Buljevic\", 196.0], [578.0, \"Damir Dzumhur\", 172.0], [0.0, \"Damir Keretic\", 178.0], [0.0, \"Dan Cassidy\", 178.0], [0.0, \"Dan Goldberg\", 185.0], [76.0, \"Dan Goldie\", 188.0], [0.0, \"Dan Nahirny\", 190.0], [240.0, \"Danai Udomchoke\", 173.0], [22.0, \"Danie Visser\", 180.0], [1.0, \"Daniel Berta\", 178.0], [1335.0, \"Daniel Brands\", 196.0], [33.0, \"Daniel Courcol\", 190.0], [23.0, \"Daniel Cox\", 170.0], [0.0, \"Daniel Dutra Da Silva\", 175.0], [95.0, \"Daniel Elsner\", 183.0], [635.0, \"Daniel Evans\", 175.0], [1221.0, \"Daniel Gimeno Traver\", 185.0], [28.0, \"Daniel King Turner\", 190.0], [86.0, \"Daniel Koellerer\", 180.0], [8.0, \"Daniel Marco\", 178.0], [3.0, \"Daniel Melo\", 185.0], [0.0, \"Daniel Montes De Oca\", 170.0], [1429.0, \"Daniel Nestor\", 190.0], [66.0, \"Daniel Orsanic\", 183.0], [2615.0, \"Daniel Vacek\", 190.0], [621.0, \"Daniele Bracciali\", 180.0], [42.0, \"Daniele Musa\", 183.0], [149.0, \"Danilo Marcelino\", 193.0], [0.0, \"Danny Saltz\", 193.0], [98.0, \"Danny Sapsford\", 173.0], [129.0, \"Darren Cahill\", 185.0], [0.0, \"Darren Patten\", 188.0], [120.0, \"Dave Randall\", 183.0], [108.0, \"David Adams\", 188.0], [2.0, \"David Caballero\", 180.0], [9.0, \"David Caldwell\", 180.0], [0.0, \"David Carter\", 183.0], [0.0, \"David De Miguel\", 175.0], [120.0, \"David Dilucia\", 173.0], [0.0, \"David Dowlen\", 178.0], [100.0, \"David Engel\", 180.0], [0.0, \"David Felgate\", 180.0], [2926.0, \"David Ferrer\", 175.0], [2433.0, \"David Goffin\", 163.0], [0.0, \"David Graham\", 180.0], [23.0, \"David Guez\", 185.0], [0.0, \"David Kass\", 180.0], [0.0, \"David Lewis\", 180.0], [0.0, \"David Livingston\", 180.0], [1.0, \"David Macpherson\", 175.0], [49.0, \"David Marrero\", 185.0], [2.0, \"David Martin\", 185.0], [7.0, \"David Miketa\", 183.0], [0.0, \"David Mustard\", 180.0], [188.0, \"David Nainkin\", 183.0], [2030.0, \"David Nalbandian\", 180.0], [209.0, \"David Pate\", 183.0], [2691.0, \"David Prinosil\", 185.0], [390.0, \"David Rikl\", 178.0], [480.0, \"David Sanchez\", 183.0], [0.0, \"David Schneider\", 185.0], [12.0, \"David Sherwood\", 193.0], [23.0, \"David Skoch\", 183.0], [0.0, \"David Smith\", 180.0], [0.0, \"David Wells Roth\", 178.0], [2471.0, \"David Wheaton\", 193.0], [281.0, \"David Witt\", 190.0], [2134.0, \"Davide Sanguinetti\", 188.0], [64.0, \"Davide Scala\", 180.0], [0.0, \"Dean Botha\", 175.0], [0.0, \"Denes Lukacs\", 180.0], [15.0, \"Denis Golovanov\", 188.0], [352.0, \"Denis Gremelmayr\", 183.0], [2956.0, \"Denis Istomin\", 188.0], [877.0, \"Denis Kudla\", 180.0], [0.0, \"Denis Langaskens\", 193.0], [8.0, \"Denis Matsukevitch\", 190.0], [0.0, \"Dennis Ralston\", 188.0], [4.0, \"Dennis Schmid\", 193.0], [416.0, \"Dennis Van Scheppingen\", 185.0], [0.0, \"Denys Maasdorp\", 183.0], [0.0, \"Derek Farren\", 183.0], [0.0, \"Derek Segal\", 178.0], [0.0, \"Derek Tarr\", 185.0], [966.0, \"Derrick Rostagno\", 185.0], [0.0, \"Desmond Tyson\", 185.0], [24.0, \"Devin Britton\", 193.0], [0.0, \"Dexter Macbride\", 193.0], [927.0, \"Dick Norman\", 203.0], [0.0, \"Dick Stockton\", 188.0], [13.0, \"Didac Perez\", 178.0], [9.0, \"Diego Ayala\", 175.0], [5.0, \"Diego Del Rio\", 175.0], [168.0, \"Diego Hartfield\", 185.0], [44.0, \"Diego Junqueira\", 178.0], [11.0, \"Diego Moyano\", 175.0], [1128.0, \"Diego Nargiso\", 188.0], [114.0, \"Diego Perez\", 178.0], [689.0, \"Diego Schwartzman\", 170.0], [17.0, \"Diego Veronelli\", 193.0], [19.0, \"Dieter Kindlmann\", 183.0], [146.0, \"Dimitri Poliakov\", 183.0], [183.0, \"Dinu Pescariu\", 185.0], [105.0, \"Dirk Dier\", 185.0], [0.0, \"Dirk Leppen\", 180.0], [3219.0, \"Dmitry Tursunov\", 185.0], [1.0, \"Dmitry Vlasov\", 188.0], [2605.0, \"Dominic Thiem\", 185.0], [0.0, \"Dominik Guido Utzinger\", 193.0], [3181.0, \"Dominik Hrbaty\", 183.0], [89.0, \"Dominik Meffert\", 198.0], [0.0, \"Dominique Bedel\", 185.0], [0.0, \"Don Mccormick\", 180.0], [0.0, \"Donald Dell\", 185.0], [69.0, \"Donald Johnson\", 190.0], [1008.0, \"Donald Young\", 183.0], [0.0, \"Dong Wook Song\", 175.0], [0.0, \"Donni Leaycraft\", 180.0], [1.0, \"Donny Susetyo\", 170.0], [0.0, \"Doug Burke\", 180.0], [0.0, \"Doug Crawford\", 188.0], [213.0, \"Doug Flach\", 183.0], [0.0, \"Drew Gitlin\", 178.0], [684.0, \"Dudi Sela\", 175.0], [1100.0, \"Dusan Lajovic\", 180.0], [193.0, \"Dusan Vemic\", 190.0], [1407.0, \"Dustin Brown\", 196.0], [0.0, \"E Victor Seixas\", 185.0], [0.0, \"Earl Butch Buchholz\", 188.0], [0.0, \"Eddie Dibbs\", 170.0], [0.0, \"Eddie Edwards\", 190.0], [72.0, \"Edgardo Massa\", 180.0], [0.0, \"Edoardo Mazza\", 175.0], [893.0, \"Edouard Roger Vasselin\", 188.0], [6.0, \"Eduardo Bengoechea\", 185.0], [0.0, \"Eduardo Furusho\", 168.0], [37.0, \"Eduardo Masso\", 178.0], [10.0, \"Eduardo Medica\", 180.0], [11.0, \"Eduardo Nicolas\", 173.0], [0.0, \"Eduardo Osta\", 160.0], [384.0, \"Eduardo Schwank\", 183.0], [0.0, \"Eduardo Velez\", 175.0], [0.0, \"Edvaldo Oliveira\", 178.0], [137.0, \"Edwin Kempes\", 188.0], [0.0, \"Egan Adams\", 178.0], [0.0, \"Eliot Teltscher\", 178.0], [64.0, \"Ellis Ferreira\", 188.0], [37.0, \"Emanuel Couto\", 183.0], [458.0, \"Emilio Benfele Alvarez\", 183.0], [990.0, \"Emilio Sanchez\", 180.0], [0.0, \"Emmanuel Marmillod\", 180.0], [0.0, \"Enrico Cocchi\", 190.0], [0.0, \"Eoin Collins\", 193.0], [0.0, \"Eric Amend\", 180.0], [0.0, \"Eric Fromm\", 178.0], [49.0, \"Eric Jelen\", 180.0], [0.0, \"Eric Korita\", 196.0], [68.0, \"Eric Prodon\", 178.0], [0.0, \"Eric Rosenfeld\", 180.0], [0.0, \"Eric Sherbeck\", 193.0], [141.0, \"Eric Taino\", 175.0], [22.0, \"Eric Winogradsky\", 188.0], [0.0, \"Erick Iskersky\", 180.0], [0.0, \"Erik Van Dillen\", 183.0], [0.0, \"Erik Vant Hof\", 188.0], [4239.0, \"Ernests Gulbis\", 190.0], [0.0, \"Ernie Fernandez\", 190.0], [23.0, \"Eui Jong Chang\", 183.0], [7.0, \"Evan King\", 185.0], [800.0, \"Evgeny Donskoy\", 185.0], [805.0, \"Evgeny Korolev\", 185.0], [38.0, \"Eyal Erlich\", 183.0], [141.0, \"Eyal Ran\", 183.0], [2172.0, \"Fabio Fognini\", 178.0], [3.0, \"Fabio Maggi\", 175.0], [3.0, \"Fabio Silberberg\", 190.0], [2609.0, \"Fabrice Santoro\", 178.0], [27.0, \"Farrukh Dustov\", 196.0], [96.0, \"Federico Browne\", 180.0], [1040.0, \"Federico Delbonis\", 190.0], [149.0, \"Federico Luzzi\", 188.0], [3.0, \"Federico Mordegan\", 170.0], [8.0, \"Federico Sanchez\", 168.0], [9733.0, \"Feliciano Lopez\", 188.0], [5.0, \"Felipe Parada\", 175.0], [33.0, \"Felipe Rivera\", 183.0], [8.0, \"Felix Barrientos\", 178.0], [1494.0, \"Felix Mantilla\", 180.0], [0.0, \"Ferdi Taygan\", 173.0], [3729.0, \"Fernando Gonzalez\", 183.0], [1.0, \"Fernando Luna\", 175.0], [1344.0, \"Fernando Meligeni\", 180.0], [108.0, \"Fernando Roese\", 190.0], [1.0, \"Fernando Romboli\", 180.0], [0.0, \"Fernando Soler\", 185.0], [5304.0, \"Fernando Verdasco\", 188.0], [1100.0, \"Fernando Vicente\", 180.0], [237.0, \"Fernon Wibier\", 188.0], [0.0, \"Ferrante Rocchi\", 180.0], [760.0, \"Filip Dewulf\", 190.0], [721.0, \"Filip Krajinovic\", 185.0], [0.0, \"Filip Polasek\", 196.0], [38.0, \"Filip Prpic\", 173.0], [5.0, \"Filip Urban\", 193.0], [12.0, \"Filippo Messori\", 173.0], [276.0, \"Filippo Volandri\", 183.0], [82.0, \"Flavio Cipolla\", 173.0], [580.0, \"Flavio Saretta\", 183.0], [1106.0, \"Florent Serra\", 180.0], [6.0, \"Florian Krumrey\", 190.0], [2034.0, \"Florian Mayer\", 190.0], [11.0, \"Florin Mergea\", 180.0], [0.0, \"Florin Segarceanu\", 180.0], [4.0, \"Francesco Aldi\", 175.0], [5.0, \"Francesco Cancellotti\", 183.0], [14.0, \"Francisco Cabello\", 190.0], [1227.0, \"Francisco Clavet\", 183.0], [15.0, \"Francisco Costa\", 180.0], [8.0, \"Francisco Fogues\", 190.0], [0.0, \"Francisco Gonzalez\", 193.0], [0.0, \"Francisco Maciel\", 185.0], [72.0, \"Francisco Montana\", 183.0], [248.0, \"Francisco Roig\", 175.0], [10.0, \"Francisco Yunis\", 190.0], [180.0, \"Franco Davin\", 173.0], [15.0, \"Franco Ferreiro\", 188.0], [1090.0, \"Franco Squillari\", 183.0], [0.0, \"Francois Errard\", 180.0], [0.0, \"Francois Jauffret\", 180.0], [1247.0, \"Frank Dancevic\", 185.0], [0.0, \"Frank Dennhardt\", 188.0], [0.0, \"Frank Froehling\", 190.0], [11.0, \"Frank Moser\", 193.0], [143.0, \"Franko Skugor\", 193.0], [81.0, \"Frantisek Cermak\", 193.0], [12.0, \"Fred Hemmes\", 183.0], [0.0, \"Fred Mcnair\", 183.0], [0.0, \"Fred Stolle\", 190.0], [82.0, \"Frederic Fontang\", 183.0], [289.0, \"Frederic Niemeyer\", 190.0], [11.0, \"Frederic Vitoux\", 173.0], [276.0, \"Frederico Gil\", 178.0], [350.0, \"Frederik Fetterlein\", 190.0], [89.0, \"Frederik Nielsen\", 190.0], [8.0, \"Fredrik Bergh\", 193.0], [209.0, \"Fredrik Jonsson\", 193.0], [0.0, \"Fredrik Rosenquist\", 180.0], [0.0, \"Fredrik Waern\", 185.0], [0.0, \"Frew Mcmillan\", 183.0], [0.0, \"Fritz Buehning\", 196.0], [2.0, \"G Jones\", 183.0], [198.0, \"Gabriel Markus\", 180.0], [3.0, \"Gabriel Moraru\", 180.0], [29.0, \"Gabriel Silberstein\", 178.0], [72.0, \"Gabriel Trifu\", 193.0], [0.0, \"Gabriel Urpi\", 173.0], [6201.0, \"Gael Monfils\", 193.0], [1309.0, \"Galo Blanco\", 173.0], [0.0, \"Gap Taik Ro\", 173.0], [0.0, \"Gary Donnelly\", 190.0], [0.0, \"Gary Lemon\", 190.0], [696.0, \"Gary Muller\", 190.0], [0.0, \"Gary Plock\", 175.0], [305.0, \"Gastao Elias\", 178.0], [418.0, \"Gaston Etlis\", 185.0], [1215.0, \"Gaston Gaudio\", 175.0], [0.0, \"Gd Jones\", 183.0], [0.0, \"Gene Mayer\", 183.0], [0.0, \"Gene Scott\", 185.0], [101.0, \"Geoff Grant\", 183.0], [0.0, \"Geoff Roper\", 183.0], [0.0, \"George Amaya\", 173.0], [678.0, \"George Bastl\", 183.0], [3.0, \"George Bezecny\", 183.0], [2.0, \"George Cosac\", 190.0], [18.0, \"George Kalovelonis\", 190.0], [0.0, \"Georges Goven\", 173.0], [0.0, \"Gerald Battrick\", 178.0], [42.0, \"Gerald Mandl\", 190.0], [0.0, \"Gerald Marzenell\", 180.0], [196.0, \"Gerard Solves\", 185.0], [0.0, \"Gerard Toulon\", 185.0], [0.0, \"Gerardo Mirad\", 180.0], [422.0, \"German Lopez\", 193.0], [55.0, \"German Puentes\", 173.0], [0.0, \"Gerry Perry\", 168.0], [1518.0, \"Gianluca Pozzi\", 180.0], [13.0, \"Gianni Mina\", 185.0], [0.0, \"Gianni Ocleppo\", 183.0], [176.0, \"Gilad Bloom\", 173.0], [286.0, \"Gilbert Schaller\", 180.0], [258.0, \"Gilles Elseneer\", 188.0], [0.0, \"Gilles Moretton\", 190.0], [5349.0, \"Gilles Muller\", 193.0], [3657.0, \"Gilles Simon\", 183.0], [65.0, \"Giorgio Galimberti\", 180.0], [108.0, \"Giovanni Lapentti\", 193.0], [5.0, \"Girts Dzelde\", 173.0], [0.0, \"Givaldo Barbosa\", 183.0], [116.0, \"Glenn Layendecker\", 185.0], [33.0, \"Glenn Michibata\", 175.0], [324.0, \"Glenn Weiner\", 188.0], [336.0, \"Go Soeda\", 178.0], [10131.0, \"Goran Ivanisevic\", 193.0], [308.0, \"Goran Prpic\", 180.0], [4.0, \"Gorka Fraile\", 180.0], [68.0, \"Gouichi Motomura\", 173.0], [0.0, \"Graham Stilwell\", 173.0], [387.0, \"Grant Connell\", 185.0], [58.0, \"Grant Doyle\", 180.0], [0.0, \"Grant Golden\", 175.0], [0.0, \"Grant Saacks\", 190.0], [680.0, \"Grant Stafford\", 188.0], [0.0, \"Greg Failla\", 180.0], [0.0, \"Greg Halder\", 188.0], [0.0, \"Greg Holmes\", 178.0], [52.0, \"Greg Jones\", 190.0], [7589.0, \"Greg Rusedski\", 193.0], [0.0, \"Greg Van Emburgh\", 188.0], [0.0, \"Greg Whitecross\", 185.0], [547.0, \"Grega Zemlja\", 183.0], [198.0, \"Gregoire Barrere\", 183.0], [0.0, \"Gregoire Rafaitin\", 180.0], [960.0, \"Gregory Carraz\", 190.0], [3666.0, \"Grigor Dimitrov\", 188.0], [4.0, \"Grzegorz Panfil\", 183.0], [1202.0, \"Guido Pella\", 185.0], [1821.0, \"Guillaume Raoux\", 180.0], [313.0, \"Guillaume Rufin\", 188.0], [11.0, \"Guillermo Alcaide\", 188.0], [2152.0, \"Guillermo Canas\", 185.0], [917.0, \"Guillermo Coria\", 175.0], [2360.0, \"Guillermo Garcia Lopez\", 188.0], [160.0, \"Guillermo Perez Roldan\", 178.0], [0.0, \"Guillermo Rivas\", 183.0], [0.0, \"Guillermo Stevens\", 180.0], [0.0, \"Guillermo Vilas\", 180.0], [0.0, \"Gustav Fichardt\", 185.0], [0.0, \"Gustavo Garetto\", 190.0], [0.0, \"Gustavo Giussani\", 180.0], [0.0, \"Gustavo Guerrero\", 180.0], [4290.0, \"Gustavo Kuerten\", 190.0], [0.0, \"Gustavo Luza\", 185.0], [0.0, \"Gustavo Tiberti\", 175.0], [2493.0, \"Guy Forget\", 190.0], [0.0, \"Hank Pfister\", 193.0], [0.0, \"Hans Dieter Beutel\", 185.0], [0.0, \"Hans Fredborg\", 183.0], [0.0, \"Hans Gildemeister\", 183.0], [0.0, \"Hans Peter Kandler\", 185.0], [0.0, \"Hans Schwaier\", 173.0], [0.0, \"Hans Simonsson\", 178.0], [0.0, \"Harald Rittersbacher\", 188.0], [497.0, \"Harel Levy\", 185.0], [0.0, \"Harold Solomon\", 168.0], [0.0, \"Haroon Ismail\", 178.0], [7.0, \"Harsh Mankad\", 173.0], [33.0, \"Heath Denman\", 183.0], [1.0, \"Hector Moretti\", 170.0], [0.0, \"Hector Ortiz\", 180.0], [0.0, \"Heiner Moraing\", 190.0], [0.0, \"Heinz Gildemeister\", 178.0], [0.0, \"Heinz Gunthardt\", 180.0], [1090.0, \"Hendrik Dreekmann\", 188.0], [124.0, \"Hendrik Jan Davids\", 183.0], [0.0, \"Henri De Wet\", 188.0], [783.0, \"Henri Leconte\", 185.0], [1670.0, \"Henrik Holm\", 183.0], [0.0, \"Henrik Sundstrom\", 188.0], [25.0, \"Herbert Wiltschnig\", 185.0], [18.0, \"Hermes Gamonal\", 180.0], [633.0, \"Hernan Gumy\", 188.0], [0.0, \"Herve Gauvain\", 180.0], [2.0, \"Herve Grenier\", 190.0], [1632.0, \"Hicham Arazi\", 175.0], [129.0, \"Horacio De La Pena\", 180.0], [1286.0, \"Horacio Zeballos\", 188.0], [8.0, \"Horia Tecau\", 193.0], [518.0, \"Horst Skoff\", 175.0], [0.0, \"Howard Herr\", 170.0], [0.0, \"Howard Sands\", 173.0], [126.0, \"Hugo Armando\", 183.0], [0.0, \"Hugo Chapacu\", 178.0], [0.0, \"Hugo Nunez\", 170.0], [0.0, \"Huub Van Boeckel\", 190.0], [902.0, \"Hyung Taik Lee\", 180.0], [21.0, \"Ignacio Hirigoyen\", 183.0], [4.0, \"Ignacio Martinez\", 185.0], [17.0, \"Ignacio Truyol\", 170.0], [2129.0, \"Igor Andreev\", 185.0], [10.0, \"Igor Gaudi\", 188.0], [648.0, \"Igor Kunitsyn\", 180.0], [5.0, \"Igor Saric\", 190.0], [956.0, \"Igor Sijsling\", 190.0], [0.0, \"Ilie Nastase\", 183.0], [349.0, \"Ilija Bozoljac\", 193.0], [621.0, \"Illya Marchenko\", 185.0], [1.0, \"Ilya Belyaev\", 180.0], [0.0, \"Ingo Neumuller\", 183.0], [24.0, \"Ion Moldovan\", 188.0], [550.0, \"Irakli Labadze\", 188.0], [18.0, \"Ivan Baron\", 185.0], [0.0, \"Ivan Cerovic\", 190.0], [2051.0, \"Ivan Dodig\", 183.0], [0.0, \"Ivan Kley\", 183.0], [1701.0, \"Ivan Lendl\", 188.0], [8108.0, \"Ivan Ljubicic\", 193.0], [55.0, \"Ivan Miranda\", 175.0], [671.0, \"Ivan Navarro\", 183.0], [6.0, \"Ivaylo Traykov\", 188.0], [670.0, \"Ivo Heuberger\", 188.0], [13653.0, \"Ivo Karlovic\", 208.0], [14.0, \"Ivo Klec\", 183.0], [528.0, \"Ivo Minar\", 183.0], [0.0, \"Ivo Werner\", 180.0], [98.0, \"Izak Van Der Merwe\", 196.0], [1926.0, \"Jacco Eltingh\", 188.0], [49.0, \"Jack Brasington\", 188.0], [1980.0, \"Jack Sock\", 185.0], [12.0, \"Jack Waite\", 185.0], [202.0, \"Jacobo Diaz\", 173.0], [0.0, \"Jacques Manset\", 185.0], [0.0, \"Jaime Fillol\", 180.0], [392.0, \"Jaime Oncins\", 196.0], [461.0, \"Jaime Yzaga\", 170.0], [0.0, \"Jairo Velasco Jr\", 183.0], [1803.0, \"Jakob Hlasek\", 188.0], [3472.0, \"James Blake\", 185.0], [760.0, \"James Duckworth\", 183.0], [27.0, \"James Greenhalgh\", 183.0], [0.0, \"James Schor\", 185.0], [48.0, \"James Sekulov\", 180.0], [0.0, \"James Turner\", 180.0], [462.0, \"James Ward\", 190.0], [202.0, \"Jamie Delgado\", 178.0], [1198.0, \"Jamie Morgan\", 185.0], [0.0, \"Jamie Murray\", 190.0], [492.0, \"Jan Apell\", 183.0], [35.0, \"Jan Frode Andersen\", 190.0], [209.0, \"Jan Gunnarsson\", 185.0], [321.0, \"Jan Hajek\", 180.0], [575.0, \"Jan Hernych\", 190.0], [0.0, \"Jan Kodes\", 175.0], [1.0, \"Jan Kodes Jr\", 178.0], [829.0, \"Jan Kroslak\", 188.0], [17.0, \"Jan Mertl\", 190.0], [4170.0, \"Jan Michael Gambill\", 190.0], [0.0, \"Jan Sandberg\", 188.0], [3386.0, \"Jan Siemerink\", 183.0], [407.0, \"Jan Vacek\", 198.0], [0.0, \"Jan Willem Lodder\", 193.0], [3452.0, \"Janko Tipsarevic\", 180.0], [546.0, \"Jared Palmer\", 190.0], [2181.0, \"Jarkko Nieminen\", 185.0], [0.0, \"Jaromir Becka\", 175.0], [6.0, \"Jaroslav Bulant\", 175.0], [1.0, \"Jaroslav Levinsky\", 196.0], [0.0, \"Jaroslav Navratil\", 196.0], [3.0, \"Jason Cask\", 178.0], [0.0, \"Jason Goodall\", 178.0], [0.0, \"Jason Netter\", 178.0], [2428.0, \"Jason Stoltenberg\", 185.0], [0.0, \"Javier Contreras\", 173.0], [1360.0, \"Javier Frana\", 185.0], [1.0, \"Javier Molina\", 178.0], [1222.0, \"Javier Sanchez\", 178.0], [11.0, \"Jay Berger\", 180.0], [2.0, \"Jay Gooding\", 188.0], [0.0, \"Jay Lapidus\", 188.0], [33.0, \"Jaymon Crabb\", 183.0], [46.0, \"Jean Baptiste Perlant\", 190.0], [33.0, \"Jean Christophe Faurel\", 175.0], [60.0, \"Jean Claude Scherrer\", 188.0], [39.0, \"Jean Francois Bachelot\", 183.0], [0.0, \"Jean Julien Rojer\", 183.0], [0.0, \"Jean Luc Cotard\", 178.0], [0.0, \"Jean Marc Piacentile\", 178.0], [479.0, \"Jean Philippe Fleurian\", 185.0], [260.0, \"Jean Rene Lisnard\", 173.0], [0.0, \"Jeff Borowiak\", 193.0], [0.0, \"Jeff Brown\", 193.0], [0.0, \"Jeff Coetzee\", 173.0], [0.0, \"Jeff Klaparda\", 173.0], [702.0, \"Jeff Morrison\", 185.0], [472.0, \"Jeff Salzenstein\", 185.0], [1817.0, \"Jeff Tarango\", 180.0], [0.0, \"Jeff Turpin\", 188.0], [811.0, \"Jens Knippschild\", 190.0], [22.0, \"Jens Woehrmann\", 180.0], [427.0, \"Jeremy Bates\", 180.0], [4583.0, \"Jeremy Chardy\", 188.0], [1557.0, \"Jerome Golmard\", 188.0], [105.0, \"Jerome Haehnel\", 185.0], [10.0, \"Jerome Hanquez\", 185.0], [0.0, \"Jerome Potier\", 180.0], [0.0, \"Jerome Vanier\", 175.0], [1585.0, \"Jerzy Janowicz\", 203.0], [207.0, \"Jesse Huta Galung\", 188.0], [470.0, \"Jesse Levine\", 175.0], [68.0, \"Jesse Witten\", 178.0], [0.0, \"Jesus Colas\", 170.0], [3.0, \"Jia Ping Xia\", 165.0], [2852.0, \"Jim Courier\", 185.0], [1240.0, \"Jim Grabb\", 193.0], [0.0, \"Jim Gurfein\", 175.0], [0.0, \"Jim Mcmanus\", 175.0], [0.0, \"Jim Osborne\", 185.0], [50.0, \"Jim Pugh\", 193.0], [7.0, \"Jim Thomas\", 193.0], [136.0, \"Jimmy Arias\", 175.0], [17.0, \"Jimmy Brown\", 180.0], [140.0, \"Jimmy Connors\", 178.0], [232.0, \"Jimmy Wang\", 178.0], [29.0, \"Jimy Szymanski\", 175.0], [0.0, \"Jin Sun Yoo\", 185.0], [0.0, \"Jiri Granat\", 185.0], [2245.0, \"Jiri Novak\", 190.0], [1104.0, \"Jiri Vanek\", 185.0], [6604.0, \"Jo-Wilfried Tsonga\", 188.0], [1723.0, \"Joachim Johansson\", 198.0], [0.0, \"Joakim Berner\", 178.0], [0.0, \"Joakim Nystrom\", 188.0], [164.0, \"Joao Cunha Silva\", 173.0], [0.0, \"Joao Soares\", 185.0], [1467.0, \"Joao Sousa\", 185.0], [383.0, \"Joao Souza\", 193.0], [4.0, \"Joao Zwetsch\", 180.0], [0.0, \"Joe De Foor\", 188.0], [666.0, \"Joern Renzenbrink\", 196.0], [0.0, \"Joey Blake\", 178.0], [5.0, \"Joey Rive\", 185.0], [26.0, \"Johan Anderson\", 183.0], [31.0, \"Johan Carlsson\", 183.0], [1.0, \"Johan De Beer\", 190.0], [1.0, \"Johan Donar\", 180.0], [53.0, \"Johan Kriek\", 175.0], [2.0, \"Johan Landsberg\", 183.0], [0.0, \"Johan Sandberg\", 193.0], [18.0, \"Johan Settergren\", 185.0], [482.0, \"Johan Van Herck\", 185.0], [0.0, \"Johan Vekemans\", 185.0], [4.0, \"Johannes Ager\", 196.0], [0.0, \"John Alexander\", 190.0], [0.0, \"John Austin\", 193.0], [0.0, \"John Barrett\", 185.0], [0.0, \"John Bartlett\", 188.0], [0.0, \"John Boytim\", 175.0], [0.0, \"John Feaver\", 190.0], [90.0, \"John Fitzgerald\", 183.0], [0.0, \"John Frawley\", 173.0], [0.0, \"John Hayes\", 193.0], [12569.0, \"John Isner\", 206.0], [0.0, \"John James\", 183.0], [5.0, \"John Laffnie De Jager\", 193.0], [0.0, \"John Letts\", 185.0], [0.0, \"John Lloyd\", 178.0], [0.0, \"John Mattke\", 183.0], [514.0, \"John McEnroe\", 180.0], [0.0, \"John Mccurdy\", 188.0], [844.0, \"John Millman\", 183.0], [0.0, \"John Newcombe\", 183.0], [8.0, \"John Paul Fruttero\", 185.0], [7.0, \"John Ross\", 185.0], [0.0, \"John Sadri\", 188.0], [1.0, \"John Sobel\", 173.0], [5.0, \"John Stimpson\", 183.0], [21.0, \"John Sullivan\", 188.0], [567.0, \"John Van Lottum\", 185.0], [0.0, \"John Whitlinger\", 180.0], [0.0, \"Johnny Goudenbour\", 178.0], [0.0, \"Jon Levine\", 178.0], [0.0, \"Jon Sorbo\", 190.0], [3085.0, \"Jonas Bjorkman\", 183.0], [492.0, \"Jonas Svensson\", 188.0], [22.0, \"Jonathan Canter\", 185.0], [54.0, \"Jonathan Erlich\", 180.0], [8.0, \"Jonathan Eysseric\", 180.0], [0.0, \"Jonathan Smith\", 188.0], [2555.0, \"Jonathan Stark\", 188.0], [107.0, \"Joost Winnink\", 180.0], [248.0, \"Jordi Arrese\", 175.0], [1265.0, \"Jordi Burillo\", 188.0], [0.0, \"Jorge Bardou\", 180.0], [1.0, \"Jorge Lozano\", 180.0], [0.0, \"Jorgen Windahl\", 183.0], [1916.0, \"Jose Acasuso\", 190.0], [16.0, \"Jose Antonio Pepe Conde\", 175.0], [0.0, \"Jose Ayala\", 180.0], [0.0, \"Jose Clavet\", 180.0], [20.0, \"Jose Daher\", 180.0], [188.0, \"Jose Francisco Altur\", 190.0], [0.0, \"Jose Higueras\", 178.0], [9.0, \"Jose Imaz Ruiz\", 178.0], [0.0, \"Jose Lopez Maeso\", 173.0], [4.0, \"Jose Luis Aparisi\", 178.0], [0.0, \"Jose Luis Clerc\", 185.0], [0.0, \"Jose Luis Damiani\", 185.0], [13.0, \"Jose Luis Noriega\", 178.0], [0.0, \"Jose Mandarino\", 173.0], [70.0, \"Jose Rubin Statham\", 183.0], [0.0, \"Josef Cihak\", 185.0], [0.0, \"Joseph Russell\", 188.0], [94.0, \"Joseph Sirianni\", 175.0], [38.0, \"Josh Goodall\", 188.0], [32.0, \"Joshua Eagle\", 183.0], [84.0, \"Joshua Goodall\", 188.0], [171.0, \"Josselin Ouanna\", 193.0], [5.0, \"Jozsef Krocsko\", 180.0], [32.0, \"Juan Aguilera\", 183.0], [395.0, \"Juan Albert Viloca Puig\", 185.0], [373.0, \"Juan Antonio Marin\", 175.0], [0.0, \"Juan Antonio Rodriguez\", 180.0], [0.0, \"Juan Avendano\", 178.0], [458.0, \"Juan Balcells\", 190.0], [5.0, \"Juan Carlos Baguena\", 183.0], [2850.0, \"Juan Carlos Ferrero\", 183.0], [0.0, \"Juan Farrow\", 180.0], [21.0, \"Juan Garat\", 180.0], [5.0, \"Juan Giner\", 178.0], [75.0, \"Juan Gisbert Jr\", 198.0], [1781.0, \"Juan Ignacio Chela\", 190.0], [0.0, \"Juan Manuel Elizondo\", 180.0], [4458.0, \"Juan Martin del Potro\", 198.0], [1309.0, \"Juan Monaco\", 185.0], [0.0, \"Juan Nunez\", 190.0], [41.0, \"Juan Pablo Brzezicki\", 178.0], [70.0, \"Juan Pablo Guzman\", 178.0], [0.0, \"Juan Pino\", 185.0], [0.0, \"Juan Rios\", 185.0], [483.0, \"Julian Alonso\", 185.0], [139.0, \"Julian Knowle\", 188.0], [162.0, \"Julian Reister\", 188.0], [3325.0, \"Julien Benneteau\", 185.0], [1417.0, \"Julien Boutter\", 190.0], [17.0, \"Julien Jeanpierre\", 188.0], [37.0, \"Julien Varlet\", 180.0], [0.0, \"Julio Goes\", 180.0], [34.0, \"Julio Silva\", 173.0], [0.0, \"Jun Kato\", 173.0], [3411.0, \"Jurgen Melzer\", 183.0], [244.0, \"Jurgen Zopp\", 190.0], [46.0, \"Justin Bower\", 190.0], [1854.0, \"Justin Gimelstob\", 196.0], [0.0, \"Karan Rastogi\", 178.0], [1913.0, \"Karel Novacek\", 190.0], [1404.0, \"Karim Alami\", 185.0], [0.0, \"Karl Coombes\", 180.0], [0.0, \"Karl Meiler\", 178.0], [0.0, \"Karl Richter\", 170.0], [1077.0, \"Karol Beck\", 180.0], [2416.0, \"Karol Kucera\", 188.0], [938.0, \"Karsten Braasch\", 180.0], [0.0, \"Karsten Schulz\", 183.0], [1947.0, \"Kei Nishikori\", 178.0], [0.0, \"Keith Carpenter\", 188.0], [80.0, \"Keith Evans\", 188.0], [0.0, \"Keith Richardson\", 185.0], [101.0, \"Kelly Evernden\", 175.0], [64.0, \"Kelly Jones\", 185.0], [0.0, \"Kelvin Belcher\", 185.0], [0.0, \"Ken Binns\", 175.0], [50.0, \"Ken Flach\", 185.0], [0.0, \"Ken Rosewall\", 175.0], [3956.0, \"Kenneth Carlsen\", 190.0], [715.0, \"Kenny De Schepper\", 203.0], [190.0, \"Kenny Thorne\", 188.0], [0.0, \"Kent Carlsson\", 180.0], [126.0, \"Kent Kinnear\", 196.0], [7111.0, \"Kevin Anderson\", 203.0], [500.0, \"Kevin Curren\", 185.0], [677.0, \"Kevin Kim\", 180.0], [19.0, \"Kevin Krawietz\", 190.0], [0.0, \"Kevin Moir\", 188.0], [0.0, \"Kevin Sorensen\", 183.0], [231.0, \"Kevin Ullyett\", 178.0], [0.0, \"Khalid Outaleb\", 183.0], [0.0, \"Kim Tiilikainen\", 180.0], [0.0, \"Kim Warwick\", 183.0], [0.0, \"Kimmo Alkio\", 178.0], [48.0, \"Kittipong Wachiramanowong\", 183.0], [14.0, \"Kj Hippensteel\", 190.0], [1.0, \"Komlavi Loglo\", 183.0], [5.0, \"Konstantin Don Gruber\", 183.0], [249.0, \"Konstantin Kravchuk\", 190.0], [56.0, \"Konstantinos Economidis\", 188.0], [112.0, \"Kris Goossens\", 180.0], [0.0, \"Krister Wedenby\", 185.0], [38.0, \"Kristian Capalik\", 188.0], [764.0, \"Kristian Pless\", 188.0], [1116.0, \"Kristof Vliegen\", 193.0], [2.0, \"Kyu Tae Im\", 185.0], [10.0, \"Ladislav Svarc\", 188.0], [0.0, \"Laird Dunlop\", 180.0], [29.0, \"Lamine Ouahab\", 185.0], [18.0, \"Lan Bale\", 175.0], [0.0, \"Larry Scott\", 188.0], [0.0, \"Larry Stefanki\", 178.0], [89.0, \"Lars Anders Wahlgren\", 193.0], [928.0, \"Lars Burgsmuller\", 183.0], [469.0, \"Lars Jonsson\", 188.0], [74.0, \"Lars Koslowski\", 188.0], [190.0, \"Lars Rehmann\", 196.0], [0.0, \"Laszlo Markovits\", 180.0], [729.0, \"Laurence Tieleman\", 180.0], [39.0, \"Laurent Prades\", 183.0], [0.0, \"Laurie Warder\", 183.0], [118.0, \"Laurynas Grigelis\", 183.0], [2.0, \"Lawson Duncan\", 185.0], [444.0, \"Leander Paes\", 178.0], [0.0, \"Leif Shiras\", 183.0], [0.0, \"Leighton Alfred\", 180.0], [0.0, \"Leo Palin\", 178.0], [8.0, \"Leonardo Azzaro\", 188.0], [0.0, \"Leonardo Kirche\", 188.0], [219.0, \"Leonardo Lavalle\", 188.0], [2329.0, \"Leonardo Mayer\", 188.0], [28.0, \"Leos Friedl\", 183.0], [0.0, \"Lester Cook\", 180.0], [6.0, \"Libor Nemecek\", 168.0], [8.0, \"Libor Pimek\", 196.0], [53.0, \"Lionel Barthez\", 180.0], [704.0, \"Lionel Roux\", 185.0], [1.0, \"Lior Mor\", 175.0], [5100.0, \"Lleyton Hewitt\", 180.0], [0.0, \"Lloyd Bourne\", 190.0], [0.0, \"Loic Courteau\", 175.0], [0.0, \"Lorenzo Fargas\", 173.0], [336.0, \"Lorenzo Manta\", 190.0], [63.0, \"Louis Gloria\", 175.0], [0.0, \"Louis Vosloo\", 178.0], [38.0, \"Louk Sorensen\", 175.0], [96.0, \"Lovro Zovko\", 190.0], [0.0, \"Luca Bottazzi\", 170.0], [129.0, \"Lucas Arnold Ker\", 180.0], [1873.0, \"Lucas Pouille\", 185.0], [61.0, \"Luis Adrian Morejon\", 178.0], [152.0, \"Luis Herrera\", 170.0], [1157.0, \"Luis Horna\", 180.0], [3.0, \"Luis Lobo\", 180.0], [861.0, \"Luiz Mattar\", 183.0], [360.0, \"Lukas Dlouhy\", 185.0], [1363.0, \"Lukas Lacko\", 185.0], [1773.0, \"Lukas Rosol\", 196.0], [997.0, \"Lukasz Kubot\", 190.0], [27.0, \"Luke Bourgeois\", 188.0], [145.0, \"Luke Jensen\", 190.0], [46.0, \"Luke Milligan\", 180.0], [36.0, \"Luke Smith\", 188.0], [1445.0, \"Magnus Gustafsson\", 185.0], [3078.0, \"Magnus Larsson\", 193.0], [2510.0, \"Magnus Norman\", 188.0], [0.0, \"Magnus Tideman\", 193.0], [112.0, \"Mahesh Bhupathi\", 185.0], [0.0, \"Malcolm Allen\", 178.0], [927.0, \"Malek Jaziri\", 185.0], [2026.0, \"Malivai Washington\", 180.0], [8.0, \"Mansour Bahrami\", 178.0], [0.0, \"Manuel Orantes\", 178.0], [3.0, \"Mao Xin Gong\", 178.0], [5632.0, \"Marat Safin\", 193.0], [0.0, \"Marc Flur\", 190.0], [1239.0, \"Marc Gicquel\", 188.0], [3595.0, \"Marc Kevin Goellner\", 196.0], [14.0, \"Marc Kimmich\", 183.0], [32.0, \"Marc Lopez\", 175.0], [6153.0, \"Marc Rosset\", 201.0], [0.0, \"Marcel Freeman\", 173.0], [1832.0, \"Marcel Granollers\", 190.0], [80.0, \"Marcello Craca\", 180.0], [52.0, \"Marcelo Charpentier\", 180.0], [526.0, \"Marcelo Filippini\", 178.0], [0.0, \"Marcelo Hennemann\", 170.0], [2.0, \"Marcelo Ingaramo\", 178.0], [0.0, \"Marcelo Melo\", 203.0], [2508.0, \"Marcelo Rios\", 175.0], [21.0, \"Marcelo Saliola\", 178.0], [5.0, \"Marcin Matkowski\", 188.0], [22.0, \"Marcio Carlsson\", 175.0], [0.0, \"Marco Armellini\", 188.0], [558.0, \"Marco Chiudinelli\", 185.0], [1.0, \"Marco Crugnola\", 188.0], [18.0, \"Marco Meneschincheri\", 180.0], [0.0, \"Marco Mirnegg\", 180.0], [221.0, \"Marcos Aurelio Gorriz\", 185.0], [4350.0, \"Marcos Baghdatis\", 183.0], [361.0, \"Marcos Daniel\", 180.0], [0.0, \"Marcos Hocevar\", 185.0], [651.0, \"Marcos Ondruska\", 183.0], [5.0, \"Marcos Perez Hubert\", 193.0], [0.0, \"Marcus Daniell\", 190.0], [18.0, \"Marcus Sarstrand\", 183.0], [4892.0, \"Mardy Fish\", 188.0], [124.0, \"Marian Vajda\", 173.0], [2.0, \"Mariano Delfino\", 183.0], [14.0, \"Mariano Hood\", 178.0], [841.0, \"Mariano Puerta\", 180.0], [1661.0, \"Mariano Zabaleta\", 183.0], [7082.0, \"Marin Cilic\", 198.0], [688.0, \"Marinko Matosevic\", 194.0], [2942.0, \"Mario Ancic\", 196.0], [0.0, \"Mario Martinez\", 170.0], [26.0, \"Mario Radic\", 188.0], [0.0, \"Mario Tabares\", 180.0], [36.0, \"Mario Visconti\", 185.0], [0.0, \"Marius Barnard\", 188.0], [1514.0, \"Marius Copil\", 193.0], [10.0, \"Mariusz Fyrstenberg\", 193.0], [0.0, \"Mark Basham\", 175.0], [0.0, \"Mark Buckley\", 178.0], [0.0, \"Mark Darby\", 185.0], [0.0, \"Mark Dickson\", 190.0], [31.0, \"Mark Draper\", 185.0], [0.0, \"Mark Edmondson\", 185.0], [0.0, \"Mark Ferreira\", 173.0], [17.0, \"Mark Hilton\", 170.0], [29.0, \"Mark Kaplan\", 185.0], [53.0, \"Mark Keil\", 185.0], [270.0, \"Mark Knowles\", 190.0], [243.0, \"Mark Koevermans\", 185.0], [72.0, \"Mark Kratzmann\", 178.0], [82.0, \"Mark Merklein\", 188.0], [20.0, \"Mark Nielsen\", 185.0], [0.0, \"Mark Ozer\", 196.0], [415.0, \"Mark Petchey\", 183.0], [6684.0, \"Mark Philippoussis\", 196.0], [0.0, \"Mark Turpin\", 183.0], [0.0, \"Mark Vines\", 170.0], [0.0, \"Mark Witsken\", 188.0], [1989.0, \"Mark Woodforde\", 188.0], [0.0, \"Mark Wooldridge\", 188.0], [0.0, \"Marko Ostoja\", 175.0], [7.0, \"Marko Tkalec\", 178.0], [0.0, \"Markus Gunthardt\", 178.0], [274.0, \"Markus Hantschk\", 188.0], [316.0, \"Markus Hipfl\", 178.0], [110.0, \"Markus Naewie\", 190.0], [0.0, \"Markus Rackl\", 180.0], [3.0, \"Markus Zillner\", 178.0], [995.0, \"Markus Zoecke\", 196.0], [501.0, \"Marsel Ilhan\", 190.0], [0.0, \"Martin Barba\", 180.0], [26.0, \"Martin Blackman\", 188.0], [2946.0, \"Martin Damm\", 188.0], [3.0, \"Martin Garcia\", 190.0], [383.0, \"Martin Jaite\", 178.0], [1292.0, \"Martin Klizan\", 190.0], [59.0, \"Martin Laurendeau\", 190.0], [324.0, \"Martin Lee\", 180.0], [372.0, \"Martin Rodriguez\", 178.0], [536.0, \"Martin Sinner\", 180.0], [32.0, \"Martin Spottl\", 180.0], [120.0, \"Martin Strelba\", 190.0], [43.0, \"Martin Stringari\", 188.0], [333.0, \"Martin Vassallo Arguello\", 183.0], [1505.0, \"Martin Verkerk\", 196.0], [27.0, \"Martin Wostenholme\", 183.0], [0.0, \"Marty Davis\", 183.0], [0.0, \"Marty Riessen\", 185.0], [349.0, \"Marzio Martelli\", 180.0], [35.0, \"Mashiska Washington\", 180.0], [0.0, \"Massimiliano Narducci\", 185.0], [2.0, \"Massimo Ardinghi\", 175.0], [0.0, \"Massimo Boscatto\", 178.0], [6.0, \"Massimo Calvelli\", 183.0], [26.0, \"Massimo Cierro\", 173.0], [62.0, \"Massimo Dellacqua\", 193.0], [28.0, \"Massimo Valeri\", 185.0], [25.0, \"Mathieu Montcourt\", 183.0], [363.0, \"Mats Wilander\", 183.0], [0.0, \"Matt Anger\", 188.0], [0.0, \"Matt Doyle\", 193.0], [2.0, \"Matt Lucena\", 178.0], [0.0, \"Matt Mitchell\", 180.0], [1130.0, \"Matthew Ebden\", 188.0], [585.0, \"Matthias Bachinger\", 188.0], [152.0, \"Maurice Ruah\", 178.0], [126.0, \"Mauricio Hadad\", 170.0], [3.0, \"Mauro Menezes\", 193.0], [4052.0, \"Max Mirnyi\", 196.0], [5.0, \"Maxime Huard\", 180.0], [155.0, \"Maximo Gonzalez\", 175.0], [8.0, \"Mehdi Tahiri\", 183.0], [0.0, \"Mel Purcell\", 178.0], [51.0, \"Melle Van Gemerden\", 183.0], [30.0, \"Menno Oosting\", 180.0], [0.0, \"Michael Bauer\", 173.0], [1322.0, \"Michael Berrer\", 193.0], [0.0, \"Michael Brown B395\", 175.0], [3357.0, \"Michael Chang\", 175.0], [0.0, \"Michael Daniel\", 188.0], [0.0, \"Michael Davies\", 183.0], [0.0, \"Michael Fancutt\", 190.0], [32.0, \"Michael Geserer\", 190.0], [0.0, \"Michael Grant\", 178.0], [73.0, \"Michael Hill\", 188.0], [395.0, \"Michael Joyce\", 180.0], [371.0, \"Michael Kohlmann\", 188.0], [0.0, \"Michael Kures\", 185.0], [64.0, \"Michael Lammer\", 185.0], [3091.0, \"Michael Llodra\", 190.0], [25.0, \"Michael Mcclune\", 188.0], [0.0, \"Michael Mortensen\", 188.0], [0.0, \"Michael Oberleitner\", 190.0], [2.0, \"Michael Robertson\", 185.0], [582.0, \"Michael Russell\", 173.0], [128.0, \"Michael Ryderstedt\", 188.0], [35.0, \"Michael Sell\", 180.0], [3452.0, \"Michael Stich\", 193.0], [5.0, \"Michael Tauson\", 193.0], [1633.0, \"Michael Tebbutt\", 190.0], [4.0, \"Michael Walker\", 183.0], [0.0, \"Michael Westphal\", 190.0], [90.0, \"Michael Yani\", 185.0], [45.0, \"Michail Elgin\", 183.0], [42.0, \"Michal Mertinak\", 180.0], [604.0, \"Michal Przysiezny\", 185.0], [285.0, \"Michal Tabara\", 175.0], [577.0, \"Michel Kratochvil\", 185.0], [0.0, \"Michele Fioroni\", 180.0], [255.0, \"Michiel Schapers\", 201.0], [18.0, \"Miguel Angel Lopez Jaen\", 188.0], [0.0, \"Miguel Nido\", 180.0], [66.0, \"Miguel Tobon\", 185.0], [0.0, \"Mihnea Ion Nastase\", 183.0], [172.0, \"Mikael Pernfors\", 173.0], [24.0, \"Mikael Stadling\", 188.0], [862.0, \"Mikael Tillstrom\", 185.0], [1.0, \"Mike Bauer\", 188.0], [0.0, \"Mike Briggs\", 178.0], [0.0, \"Mike Brown\", 183.0], [0.0, \"Mike Brunnberg\", 190.0], [46.0, \"Mike Bryan\", 190.0], [0.0, \"Mike Cahill\", 183.0], [0.0, \"Mike De Palmer\", 185.0], [0.0, \"Mike Estep\", 173.0], [0.0, \"Mike Fishbach\", 180.0], [0.0, \"Mike Leach\", 180.0], [0.0, \"Mike Lee\", 178.0], [0.0, \"Mike Scheidweiler\", 188.0], [4.0, \"Mikhail Elgin\", 183.0], [1136.0, \"Mikhail Kukushkin\", 183.0], [134.0, \"Mikhail Ledovskikh\", 188.0], [3501.0, \"Mikhail Youzhny\", 183.0], [0.0, \"Milan Holecek\", 190.0], [28.0, \"Milan Srejber\", 203.0], [76.0, \"Miles Maclagan\", 180.0], [7929.0, \"Milos Raonic\", 196.0], [0.0, \"Miloslav Lacek\", 175.0], [0.0, \"Miloslav Mecir\", 190.0], [1626.0, \"Mischa Zverev\", 190.0], [0.0, \"Mitch Sprengelmeyer\", 185.0], [0.0, \"Modesto Tito Vazquez\", 173.0], [96.0, \"Mohamed Safwat\", 183.0], [0.0, \"Morris Skip Strode\", 193.0], [47.0, \"Morten Christensen\", 190.0], [73.0, \"Mose Navarra\", 180.0], [11.0, \"Murphy Jensen\", 193.0], [0.0, \"Myron Franks\", 178.0], [156.0, \"Nathan Healey\", 180.0], [13.0, \"Nduka Odizor\", 183.0], [0.0, \"Nebojsa Djordjevic\", 190.0], [0.0, \"Ned Caswell\", 190.0], [365.0, \"Neil Borwick\", 193.0], [3.0, \"Neil Broad\", 190.0], [4.0, \"Nelson Aerts\", 188.0], [183.0, \"Nenad Zimonjic\", 190.0], [438.0, \"Neville Godwin\", 173.0], [27.0, \"Nick Brown\", 190.0], [0.0, \"Nick Fulwood\", 185.0], [3732.0, \"Nick Kyrgios\", 193.0], [39.0, \"Nick Lindahl\", 183.0], [0.0, \"Nick Saviano\", 180.0], [64.0, \"Nicklas Kroon\", 183.0], [1442.0, \"Nicklas Kulti\", 190.0], [5.0, \"Nicklas Timfjord\", 180.0], [35.0, \"Nicklas Utgren\", 188.0], [27.0, \"Nicola Bruno\", 178.0], [5477.0, \"Nicolas Almagro\", 183.0], [2.0, \"Nicolas Barrientos\", 175.0], [9.0, \"Nicolas Becerra\", 185.0], [108.0, \"Nicolas Coutelot\", 185.0], [263.0, \"Nicolas Devilder\", 173.0], [1856.0, \"Nicolas Escude\", 185.0], [0.0, \"Nicolas Kelaidis\", 178.0], [4081.0, \"Nicolas Kiefer\", 183.0], [2686.0, \"Nicolas Lapentti\", 188.0], [3111.0, \"Nicolas Mahut\", 190.0], [1886.0, \"Nicolas Massu\", 183.0], [731.0, \"Nicolas Pereira\", 188.0], [277.0, \"Nicolas Thomann\", 183.0], [2.0, \"Nicolas Todero\", 183.0], [2523.0, \"Nikolay Davydenko\", 178.0], [832.0, \"Nikoloz Basilashvili\", 185.0], [77.0, \"Noam Behr\", 188.0], [336.0, \"Noam Okun\", 185.0], [0.0, \"Norm Schellenger\", 180.0], [5887.0, \"Novak Djokovic\", 188.0], [252.0, \"Nuno Marques\", 190.0], [21.0, \"Ofer Sela\", 188.0], [0.0, \"Ola Jonsson J092\", 178.0], [3.0, \"Ola Kristiansson\", 188.0], [352.0, \"Oleg Ogorodov\", 193.0], [21.0, \"Oliver Fernandez\", 175.0], [0.0, \"Oliver Freund\", 178.0], [0.0, \"Oliver Fuchs\", 180.0], [409.0, \"Oliver Gross\", 185.0], [216.0, \"Oliver Marach\", 185.0], [831.0, \"Olivier Delaitre\", 170.0], [8.0, \"Olivier Malcor\", 180.0], [253.0, \"Olivier Mutis\", 175.0], [332.0, \"Olivier Patience\", 180.0], [840.0, \"Olivier Rochus\", 168.0], [14.0, \"Olivier Soules\", 188.0], [1.0, \"Olli Rahnasto\", 183.0], [1055.0, \"Omar Camporese\", 188.0], [0.0, \"Onny Parun\", 188.0], [7.0, \"Oren Motevassel\", 170.0], [302.0, \"Orlin Stanoytchev\", 185.0], [49.0, \"Oscar Burrieza\", 170.0], [455.0, \"Oscar Hernandez\", 180.0], [92.0, \"Oscar Martinez\", 185.0], [25.0, \"Oscar Ortiz\", 183.0], [27.0, \"Oscar Serrano\", 173.0], [67.0, \"Ota Fukarek\", 190.0], [0.0, \"Otavio Della\", 170.0], [0.0, \"Otis Smith\", 180.0], [0.0, \"Ove Nils Bengtson\", 196.0], [0.0, \"Owen Davidson\", 185.0], [20.0, \"Pablo Albano\", 178.0], [562.0, \"Pablo Andujar\", 180.0], [126.0, \"Pablo Arraya\", 180.0], [41.0, \"Pablo Campana\", 180.0], [1432.0, \"Pablo Carreno Busta\", 188.0], [2391.0, \"Pablo Cuevas\", 180.0], [3.0, \"Pablo Gonzalez\", 178.0], [0.0, \"Paolo Bertolucci\", 175.0], [305.0, \"Paolo Cane\", 180.0], [1159.0, \"Paolo Lorenzi\", 183.0], [10.0, \"Paolo Pambianco\", 190.0], [2478.0, \"Paradorn Srichaphan\", 185.0], [0.0, \"Paris Gemouchidis\", 175.0], [0.0, \"Pascal Deniau\", 185.0], [0.0, \"Pascal Portes\", 175.0], [0.0, \"Pasi Virtanen\", 188.0], [346.0, \"Pat Cash\", 183.0], [22.0, \"Pat Crow\", 188.0], [0.0, \"Pat Dupre\", 190.0], [0.0, \"Patrice Beust\", 170.0], [0.0, \"Patrice Dominguez\", 173.0], [0.0, \"Patrice Hagelauer\", 188.0], [0.0, \"Patrice Kuchna\", 178.0], [31.0, \"Patricio Arnold\", 183.0], [0.0, \"Patricio Cornejo\", 180.0], [0.0, \"Patricio Rodriguez Chi\", 188.0], [515.0, \"Patrick Baur\", 188.0], [0.0, \"Patrick Flynn\", 183.0], [0.0, \"Patrick Galbraith\", 183.0], [727.0, \"Patrick McEnroe\", 183.0], [11.0, \"Patrick Mohr\", 178.0], [0.0, \"Patrick Proisy\", 180.0], [3633.0, \"Patrick Rafter\", 185.0], [160.0, \"Patrik Fredriksson\", 185.0], [937.0, \"Patrik Kuhnen\", 190.0], [0.0, \"Patrik Wennberg\", 185.0], [82.0, \"Paul Annacone\", 185.0], [82.0, \"Paul Baccanello\", 183.0], [412.0, \"Paul Capdeville\", 190.0], [1.0, \"Paul Chamberlin\", 178.0], [0.0, \"Paul Dogger\", 185.0], [0.0, \"Paul Gerken\", 185.0], [469.0, \"Paul Goldstein\", 178.0], [1924.0, \"Paul Haarhuis\", 188.0], [6.0, \"Paul Hanley\", 183.0], [2783.0, \"Paul Henri Mathieu\", 185.0], [101.0, \"Paul Kilderry\", 175.0], [6.0, \"Paul Logtens\", 175.0], [0.0, \"Paul Mcnamee\", 178.0], [0.0, \"Paul Torre\", 180.0], [3.0, \"Paul Vojtischek\", 188.0], [95.0, \"Paul Wekesa\", 188.0], [0.0, \"Pavel Slozil\", 173.0], [22.0, \"Pavel Snobel\", 190.0], [3.0, \"Pavel Vizner\", 183.0], [2.0, \"Pedro Rebolledo\", 170.0], [90.0, \"Pedro Sousa\", 180.0], [3.0, \"Per Henricsson\", 190.0], [0.0, \"Per Hjertquist\", 183.0], [413.0, \"Pere Riba\", 183.0], [8689.0, \"Pete Sampras\", 185.0], [0.0, \"Peter Ballauff\", 188.0], [0.0, \"Peter Bastiansen\", 193.0], [0.0, \"Peter Burwash\", 175.0], [0.0, \"Peter Carlsson\", 183.0], [0.0, \"Peter Carter\", 180.0], [0.0, \"Peter Clarke\", 188.0], [8.0, \"Peter Doohan\", 190.0], [0.0, \"Peter Elter\", 178.0], [0.0, \"Peter Feigl\", 183.0], [0.0, \"Peter Fishbach\", 180.0], [0.0, \"Peter Fleming\", 196.0], [940.0, \"Peter Gojowczyk\", 185.0], [0.0, \"Peter Hajek\", 175.0], [0.0, \"Peter Johnston\", 178.0], [0.0, \"Peter Lindgren\", 175.0], [639.0, \"Peter Luczak\", 183.0], [285.0, \"Peter Lundgren\", 185.0], [0.0, \"Peter Mcnamara\", 185.0], [66.0, \"Peter Moraing\", 193.0], [51.0, \"Peter Nyborg\", 190.0], [0.0, \"Peter Palandjian\", 188.0], [220.0, \"Peter Polansky\", 180.0], [0.0, \"Peter Rennert\", 185.0], [0.0, \"Peter Svensson\", 183.0], [0.0, \"Peter Thrupp\", 183.0], [103.0, \"Peter Tramacchi\", 185.0], [902.0, \"Peter Wessels\", 196.0], [0.0, \"Peter Wright\", 185.0], [2223.0, \"Petr Korda\", 190.0], [18.0, \"Petr Kralert\", 188.0], [52.0, \"Petr Luxa\", 190.0], [1.0, \"Petr Pala\", 193.0], [0.0, \"Petru Alexandru Luncanu\", 185.0], [0.0, \"Phil Dent\", 183.0], [19.0, \"Philip Bester\", 188.0], [2.0, \"Philip Gubenco\", 188.0], [0.0, \"Philip Johnson\", 173.0], [4591.0, \"Philipp Kohlschreiber\", 178.0], [1378.0, \"Philipp Petzschner\", 185.0], [21.0, \"Philippe Pech\", 180.0], [37.0, \"Phillip King\", 175.0], [0.0, \"Phillipe Ventura\", 175.0], [12.0, \"Pier Gauthier\", 185.0], [20.0, \"Pierre Bouteyre\", 185.0], [1652.0, \"Pierre Hugues Herbert\", 188.0], [36.0, \"Piet Norval\", 185.0], [0.0, \"Pieter Aldrich\", 180.0], [3.0, \"Pietro Pennisi\", 173.0], [848.0, \"Potito Starace\", 188.0], [147.0, \"Prakash Amritraj\", 188.0], [23.0, \"Quino Munoz\", 178.0], [4112.0, \"Radek Stepanek\", 185.0], [198.0, \"Radomir Vasek\", 188.0], [1463.0, \"Raemon Sluiter\", 185.0], [3630.0, \"Rafael Nadal\", 185.0], [12.0, \"Rainer Eitzinger\", 178.0], [2121.0, \"Rainer Schuettler\", 180.0], [1137.0, \"Rajeev Ram\", 193.0], [0.0, \"Ramayah Ramachandran\", 160.0], [25.0, \"Ramesh Krishnan\", 170.0], [1095.0, \"Ramon Delgado\", 185.0], [0.0, \"Randy Crawford\", 188.0], [0.0, \"Randy Nixon\", 193.0], [1.0, \"Raphael Durek\", 188.0], [4.0, \"Rasmus Norby\", 183.0], [4.0, \"Raul Antonio Viver\", 190.0], [0.0, \"Raul Ramirez\", 183.0], [47.0, \"Raven Klaasen\", 180.0], [10.0, \"Raviv Weidenfeld\", 188.0], [0.0, \"Raymond Moore\", 183.0], [141.0, \"Razvan Sabau\", 185.0], [70.0, \"Reda El Amrani\", 185.0], [5.0, \"Reginald Willems\", 180.0], [0.0, \"Regis Brunet\", 183.0], [0.0, \"Rejean Genois\", 175.0], [0.0, \"Renald Etienne\", 175.0], [1253.0, \"Renzo Furlan\", 175.0], [963.0, \"Ricardas Berankis\", 175.0], [6.0, \"Ricardo Acioly\", 180.0], [0.0, \"Ricardo Acuna\", 175.0], [4.0, \"Ricardo Camargo\", 180.0], [0.0, \"Ricardo Cano\", 170.0], [28.0, \"Ricardo Hocevar\", 180.0], [351.0, \"Ricardo Mello\", 175.0], [0.0, \"Ricardo Ycaza\", 183.0], [11.0, \"Riccardo Ghedin\", 188.0], [163.0, \"Richard Bloomfield\", 185.0], [3687.0, \"Richard Fromberg\", 196.0], [4700.0, \"Richard Gasquet\", 185.0], [7648.0, \"Richard Krajicek\", 196.0], [98.0, \"Richard Matuszewski\", 188.0], [0.0, \"Richard Meyer\", 183.0], [0.0, \"Richard Pancho Gonzales\", 188.0], [12.0, \"Richard Schmidt\", 185.0], [28.0, \"Richard Vogel\", 193.0], [0.0, \"Richard Whichello\", 185.0], [1821.0, \"Richey Reneberg\", 180.0], [0.0, \"Rick Fagel\", 180.0], [70.0, \"Rick Leach\", 188.0], [0.0, \"Rick Meyers\", 173.0], [0.0, \"Rick Rudeen\", 188.0], [0.0, \"Ricki Osterthun\", 185.0], [0.0, \"Ricky Brown\", 178.0], [226.0, \"Rik De Voest\", 180.0], [19.0, \"Rikard Bergh\", 188.0], [0.0, \"Rill Baxter\", 183.0], [23.0, \"Robbie Koenig\", 173.0], [0.0, \"Robbie Venter\", 180.0], [208.0, \"Robbie Weiss\", 183.0], [2197.0, \"Robby Ginepri\", 183.0], [0.0, \"Robert Bettauer\", 175.0], [0.0, \"Robert Casey C100\", 188.0], [57.0, \"Robert Farah\", 193.0], [0.0, \"Robert Janecek\", 183.0], [1082.0, \"Robert Kendrick\", 190.0], [0.0, \"Robert Lindstedt\", 190.0], [0.0, \"Robert Lutz\", 180.0], [0.0, \"Robert Maud\", 180.0], [0.0, \"Robert Perry\", 188.0], [0.0, \"Robert Puddicombe\", 178.0], [0.0, \"Robert Reininger\", 185.0], [4.0, \"Robert Seguso\", 190.0], [67.0, \"Robert Smeets\", 188.0], [0.0, \"Robert Trogolo\", 180.0], [0.0, \"Robert Vant Hof\", 193.0], [0.0, \"Roberto Arguello\", 173.0], [120.0, \"Roberto Azar\", 185.0], [1528.0, \"Roberto Bautista Agut\", 183.0], [90.0, \"Roberto Carretero\", 178.0], [86.0, \"Roberto Jabali\", 190.0], [0.0, \"Roberto Saad\", 185.0], [0.0, \"Roberto Vizcaino\", 178.0], [3090.0, \"Robin Haase\", 190.0], [3868.0, \"Robin Soderling\", 193.0], [215.0, \"Robin Vik\", 183.0], [0.0, \"Rod Frawley\", 185.0], [0.0, \"Rod Laver\", 173.0], [0.0, \"Rodney Harmon\", 188.0], [22.0, \"Rodolphe Cadart\", 183.0], [768.0, \"Rodolphe Gilbert\", 183.0], [11311.0, \"Roger Federer\", 185.0], [0.0, \"Roger Knapp\", 183.0], [17.0, \"Roger Rasheed\", 183.0], [65.0, \"Roger Smith\", 185.0], [292.0, \"Rogerio Dutra Silva\", 178.0], [56.0, \"Rogier Wassen\", 190.0], [237.0, \"Rohan Bopanna\", 190.0], [208.0, \"Roko Karanusic\", 183.0], [16.0, \"Roland Burtscher\", 183.0], [0.0, \"Roland Stadler\", 178.0], [0.0, \"Rolf Gehring\", 185.0], [0.0, \"Rolf Hertzog\", 178.0], [0.0, \"Rolf Thung\", 190.0], [35.0, \"Romain Jouan\", 183.0], [1.0, \"Roman Valent\", 183.0], [0.0, \"Ron Hightower\", 185.0], [0.0, \"Ron Holmberg\", 185.0], [630.0, \"Ronald Agenor\", 180.0], [0.0, \"Ronnie Bathman\", 183.0], [0.0, \"Roscoe Tanner\", 183.0], [6.0, \"Ross Hutchins\", 190.0], [57.0, \"Ross Matheson\", 196.0], [0.0, \"Roy Barth\", 175.0], [0.0, \"Roy Emerson\", 183.0], [0.0, \"Royce Deppe\", 188.0], [596.0, \"Ruben Ramirez Hidalgo\", 183.0], [12.0, \"Rudiger Haas\", 193.0], [82.0, \"Rui Machado\", 178.0], [0.0, \"Russell Barlow\", 173.0], [0.0, \"Russell Simpson\", 188.0], [1909.0, \"Ryan Harrison\", 183.0], [10.0, \"Ryan Henry\", 183.0], [390.0, \"Ryan Sweeting\", 196.0], [4.0, \"Ryan Wolters\", 180.0], [38.0, \"Ryler Deheart\", 183.0], [23.0, \"Salvador Navarro\", 180.0], [8356.0, \"Sam Querrey\", 198.0], [75.0, \"Sam Warburg\", 190.0], [0.0, \"Sammy Giammalva\", 180.0], [0.0, \"Sammy Giammalva Jr\", 178.0], [0.0, \"Sanchai Ratiwatana\", 175.0], [35.0, \"Sander Groen\", 190.0], [1445.0, \"Sandon Stolle\", 193.0], [284.0, \"Sandor Noszaly\", 193.0], [21.0, \"Sandro Ehrat\", 180.0], [0.0, \"Sandy Mayer\", 178.0], [1258.0, \"Santiago Giraldo\", 188.0], [27.0, \"Santiago Gonzalez\", 190.0], [0.0, \"Santiago Mora\", 168.0], [361.0, \"Santiago Ventura\", 183.0], [1466.0, \"Sargis Sargsian\", 180.0], [49.0, \"Sasa Hirszon\", 185.0], [13.0, \"Sasa Tuksar\", 180.0], [6.0, \"Sascha Nensel\", 180.0], [0.0, \"Sashi Menon\", 180.0], [36.0, \"Satoshi Iwabuchi\", 175.0], [125.0, \"Scott Davis\", 188.0], [1535.0, \"Scott Draper\", 178.0], [4.0, \"Scott Gessner\", 183.0], [88.0, \"Scott Humphries\", 185.0], [8.0, \"Scott Lipsky\", 185.0], [0.0, \"Scott Mccain\", 180.0], [6.0, \"Scott Melville\", 188.0], [53.0, \"Scott Oudsema\", 190.0], [0.0, \"Scott Warner\", 196.0], [131.0, \"Scoville Jenkins\", 188.0], [0.0, \"Sean Brawley\", 178.0], [26.0, \"Sebastian Decoud\", 178.0], [48.0, \"Sebastian Prieto\", 180.0], [186.0, \"Sebastien De Chaunac\", 183.0], [3098.0, \"Sebastien Grosjean\", 175.0], [1269.0, \"Sebastien Lareau\", 183.0], [14.0, \"Sebastien Leblanc\", 193.0], [0.0, \"Sergei Leonjuk\", 183.0], [2181.0, \"Sergi Bruguera\", 188.0], [12.0, \"Sergio Casal\", 185.0], [14.0, \"Sergio Cortes\", 170.0], [241.0, \"Sergio Roitman\", 185.0], [2308.0, \"Sergiy Stakhovsky\", 193.0], [6.0, \"Shahar Perkiss\", 193.0], [0.0, \"Shane Barr\", 193.0], [15.0, \"Shao Xuan Zeng\", 185.0], [3.0, \"Shelby Cannon\", 180.0], [0.0, \"Sherwood Stewart\", 188.0], [0.0, \"Shlomo Glickstein\", 188.0], [1523.0, \"Shuzo Matsuoka\", 185.0], [0.0, \"Simon Aspelin\", 185.0], [438.0, \"Simon Greul\", 185.0], [71.0, \"Simon Larose\", 190.0], [0.0, \"Simon Robinson\", 198.0], [43.0, \"Simon Stadler\", 183.0], [314.0, \"Simon Youl\", 185.0], [1140.0, \"Simone Bolelli\", 183.0], [0.0, \"Simone Colombo\", 180.0], [5.0, \"Simone Vagnozzi\", 173.0], [2016.0, \"Sjeng Schalken\", 193.0], [955.0, \"Slava Dosedel\", 183.0], [109.0, \"Slobodan Zivojinovic\", 198.0], [449.0, \"Somdev Devvarman\", 180.0], [3.0, \"Sonchat Ratiwatana\", 175.0], [0.0, \"Srinivasan Vasudevan\", 190.0], [0.0, \"Stan Smith\", 193.0], [5819.0, \"Stan Wawrinka\", 183.0], [0.0, \"Stanislav Birner\", 170.0], [1.0, \"Stanislav Vovk\", 185.0], [0.0, \"Stanley Pasarell\", 185.0], [1405.0, \"Stefan Edberg\", 188.0], [1.0, \"Stefan Eriksson\", 193.0], [0.0, \"Stefan Heckmanns\", 193.0], [0.0, \"Stefan Hermann\", 190.0], [1517.0, \"Stefan Koubek\", 175.0], [0.0, \"Stefan Lochbihler\", 180.0], [0.0, \"Stefan Simonsson\", 175.0], [0.0, \"Stefan Svensson\", 185.0], [4.0, \"Stefano Cobolli\", 175.0], [144.0, \"Stefano Galvani\", 178.0], [1034.0, \"Stefano Pescosolido\", 185.0], [6.0, \"Stefano Tarallo\", 185.0], [0.0, \"Stephan Medem\", 185.0], [7.0, \"Stephan Rhode\", 188.0], [135.0, \"Stephane Bohli\", 185.0], [0.0, \"Stephane Bonneau\", 188.0], [0.0, \"Stephane Grenier\", 190.0], [316.0, \"Stephane Huet\", 180.0], [439.0, \"Stephane Robert\", 185.0], [12.0, \"Stephane Sansoni\", 180.0], [619.0, \"Stephane Simian\", 193.0], [0.0, \"Stephen Botfield\", 180.0], [0.0, \"Stephen Furlong\", 185.0], [15.0, \"Stephen Noteboom\", 185.0], [0.0, \"Stephen Temple\", 175.0], [150.0, \"Steve Bryan\", 178.0], [260.0, \"Steve Campbell\", 183.0], [0.0, \"Steve Cornell\", 178.0], [927.0, \"Steve Darcis\", 178.0], [0.0, \"Steve Denton\", 188.0], [13.0, \"Steve Devries\", 180.0], [4.0, \"Steve Guy\", 188.0], [2785.0, \"Steve Johnson\", 188.0], [0.0, \"Steve Kennedy\", 183.0], [0.0, \"Steve Krulevitz\", 175.0], [0.0, \"Steve Meister\", 193.0], [0.0, \"Steve Shaw\", 190.0], [0.0, \"Steven Alger\", 188.0], [1.0, \"Steven Baldas\", 180.0], [23.0, \"Steven Downs\", 183.0], [0.0, \"Stian Boretti\", 188.0], [0.0, \"Stuart Bale\", 185.0], [10.0, \"Sule Ladipo\", 180.0], [13.0, \"Suwandi Suwandi\", 178.0], [2.0, \"Sven Salumaa\", 196.0], [0.0, \"Syd Ball\", 188.0], [491.0, \"Takao Suzuki\", 175.0], [39.0, \"Tamer El Sawy\", 188.0], [0.0, \"Tarek El Sakka\", 180.0], [69.0, \"Tarik Benhabiles\", 175.0], [16.0, \"Tasuku Iwami\", 168.0], [358.0, \"Tatsuma Ito\", 180.0], [2129.0, \"Taylor Dent\", 188.0], [0.0, \"Ted Farnsworth\", 188.0], [0.0, \"Ted Scherman\", 188.0], [0.0, \"Terry Addison\", 180.0], [0.0, \"Terry Moor\", 178.0], [0.0, \"Terry Rocavert\", 180.0], [1388.0, \"Teymuraz Gabashvili\", 188.0], [81.0, \"Thiago Alves\", 178.0], [1149.0, \"Thiemo De Bakker\", 193.0], [272.0, \"Thierry Ascione\", 188.0], [254.0, \"Thierry Champion\", 183.0], [189.0, \"Thierry Guardiola\", 188.0], [0.0, \"Thierry Pham\", 178.0], [5.0, \"Thierry Tulasne\", 178.0], [56.0, \"Thomas Buchmayer\", 185.0], [5417.0, \"Thomas Enqvist\", 190.0], [47.0, \"Thomas Gollwitzer\", 178.0], [0.0, \"Thomas Haldin\", 185.0], [227.0, \"Thomas Hogstedt\", 190.0], [5113.0, \"Thomas Johansson\", 180.0], [15.0, \"Thomas Larsen\", 180.0], [1813.0, \"Thomas Muster\", 180.0], [17.0, \"Thomas Schiessling\", 180.0], [27.0, \"Thomas Schoorel\", 203.0], [14.0, \"Thomas Shimada\", 178.0], [0.0, \"Thomas Stalhandske\", 190.0], [2333.0, \"Thomaz Bellucci\", 188.0], [13.0, \"Ti Chen\", 183.0], [0.0, \"Tian C Viljoen\", 191.0], [0.0, \"Tim Donovan\", 175.0], [0.0, \"Tim Gullikson\", 180.0], [4306.0, \"Tim Henman\", 185.0], [181.0, \"Tim Mayotte\", 190.0], [0.0, \"Tim Siegel\", 175.0], [571.0, \"Tim Smyczek\", 175.0], [0.0, \"Tim Trigueiro\", 188.0], [0.0, \"Tim Wilkison\", 180.0], [0.0, \"Timo Nieminen\", 185.0], [3.0, \"Tino Anda\", 180.0], [36.0, \"Tj Middleton\", 183.0], [31.0, \"Tobias Clemens\", 185.0], [329.0, \"Tobias Kamke\", 180.0], [0.0, \"Tobias Klein\", 170.0], [39.0, \"Tobias Summerer\", 185.0], [0.0, \"Tobias Svantesson\", 193.0], [31.0, \"Todd Larkham\", 178.0], [5663.0, \"Todd Martin\", 198.0], [57.0, \"Todd Nelson\", 185.0], [2.0, \"Todd Perry\", 175.0], [115.0, \"Todd Reid\", 180.0], [180.0, \"Todd Witsken\", 183.0], [1224.0, \"Todd Woodbridge\", 178.0], [0.0, \"Tom Brown\", 185.0], [0.0, \"Tom Cain\", 185.0], [0.0, \"Tom Edlefsen\", 188.0], [0.0, \"Tom Frisher\", 175.0], [0.0, \"Tom Gorman\", 180.0], [0.0, \"Tom Gullikson\", 180.0], [59.0, \"Tom Kempers\", 188.0], [0.0, \"Tom Leonard\", 175.0], [6.0, \"Tom Mercer\", 185.0], [184.0, \"Tom Nijssen\", 175.0], [0.0, \"Tom Okker\", 178.0], [12.0, \"Tomas Anzari\", 180.0], [440.0, \"Tomas Behrend\", 193.0], [7195.0, \"Tomas Berdych\", 196.0], [69.0, \"Tomas Cakl\", 178.0], [824.0, \"Tomas Carbonell\", 178.0], [261.0, \"Tomas Nydahl\", 185.0], [0.0, \"Tomas Smid\", 190.0], [8.0, \"Tomas Tenconi\", 178.0], [479.0, \"Tomas Zib\", 178.0], [0.0, \"Tomm Warneke\", 193.0], [5893.0, \"Tommy Haas\", 188.0], [362.0, \"Tommy Ho\", 183.0], [3230.0, \"Tommy Robredo\", 180.0], [0.0, \"Tony Giammalva\", 190.0], [0.0, \"Tony Mmoh\", 178.0], [0.0, \"Tony Roche\", 178.0], [1.0, \"Torben Theine\", 183.0], [0.0, \"Tore Meinecke\", 180.0], [0.0, \"Toru Yonezawa\", 188.0], [4.0, \"Toshiaki Sakai\", 175.0], [12.0, \"Toshihide Matsui\", 180.0], [0.0, \"Tracy Delatte\", 178.0], [24.0, \"Travis Rettenmaier\", 188.0], [0.0, \"Treat Conrad Huey\", 178.0], [0.0, \"Trevor Allan\", 178.0], [4.0, \"Trevor Kronemann\", 193.0], [3.0, \"Trevor Spracklin\", 190.0], [0.0, \"Trey Waltke\", 173.0], [1.0, \"Tripp Phillips\", 185.0], [0.0, \"Tsuyoshi Fukui\", 170.0], [203.0, \"Tuomas Ketola\", 185.0], [118.0, \"Udo Riglewski\", 185.0], [0.0, \"Ugo Biagianti\", 173.0], [0.0, \"Ugo Colombini\", 183.0], [2.0, \"Ulf Stenlund\", 180.0], [60.0, \"Uros Vico\", 188.0], [20.0, \"Vaclav Roubicek\", 185.0], [41.0, \"Vadim Kutsenko\", 180.0], [0.0, \"Vallis Wilder\", 190.0], [0.0, \"Van Winitsky\", 185.0], [2505.0, \"Vasek Pospisil\", 193.0], [3.0, \"Vasilis Mazarakis\", 178.0], [65.0, \"Veli Paloheimo\", 183.0], [0.0, \"Vicente Solves\", 180.0], [0.0, \"Victor Amaya\", 201.0], [143.0, \"Victor Crivoi\", 185.0], [390.0, \"Victor Estrella\", 173.0], [1986.0, \"Victor Hanescu\", 198.0], [5.0, \"Victor Ionita\", 185.0], [0.0, \"Victor Pecci\", 193.0], [0.0, \"Victor Sendin\", 175.0], [0.0, \"Vijay Amritraj\", 193.0], [1.0, \"Viktor Nagy\", 178.0], [4195.0, \"Viktor Troicki\", 193.0], [0.0, \"Ville Jansson\", 183.0], [36.0, \"Ville Liukko\", 173.0], [122.0, \"Vincent Millot\", 173.0], [2338.0, \"Vincent Spadea\", 183.0], [0.0, \"Vincent Van Patten\", 180.0], [182.0, \"Vincenzo Santopadre\", 183.0], [17.0, \"Vishnu Vardhan\", 188.0], [0.0, \"Vitas Gerulaitis\", 183.0], [20.0, \"Vladimir Gabrichidze\", 175.0], [0.0, \"Vladimir Obradovic\", 196.0], [696.0, \"Vladimir Voltchkov\", 180.0], [0.0, \"Vojtech Flegl\", 180.0], [130.0, \"Wade Mcguire\", 188.0], [995.0, \"Wally Masur\", 180.0], [4341.0, \"Wayne Arthurs\", 190.0], [373.0, \"Wayne Black\", 170.0], [5566.0, \"Wayne Ferreira\", 185.0], [0.0, \"Wayne Hampson\", 183.0], [0.0, \"Wayne Hearn\", 188.0], [518.0, \"Wayne Odesnik\", 180.0], [0.0, \"Weller Evans\", 178.0], [277.0, \"Werner Eschauer\", 188.0], [1208.0, \"Wesley Moodie\", 196.0], [90.0, \"Wesley Whitehouse\", 190.0], [0.0, \"Wilhelm Bungert\", 188.0], [0.0, \"Will Bull\", 185.0], [0.0, \"William Alvarez\", 178.0], [0.0, \"William Notar\", 185.0], [0.0, \"Wojtek Fibak\", 183.0], [89.0, \"Wojtek Kowalski\", 183.0], [0.0, \"Wolfgang Popp\", 183.0], [89.0, \"Wolfgang Schranz\", 178.0], [0.0, \"Woo Ryong Lee\", 173.0], [0.0, \"Woody Blocher\", 173.0], [0.0, \"Woody Hunt\", 178.0], [24.0, \"Woong Sun Jun\", 190.0], [1.0, \"Xavier Avila\", 183.0], [99.0, \"Xavier Daufresne\", 193.0], [3722.0, \"Xavier Malisse\", 185.0], [44.0, \"Yahiya Doumbia\", 185.0], [12.0, \"Yann Marti\", 173.0], [84.0, \"Yannick Noah\", 193.0], [23.0, \"Yasufumi Yamamoto\", 175.0], [1546.0, \"Yen Hsun Lu\", 180.0], [4706.0, \"Yevgeny Kafelnikov\", 190.0], [38.0, \"Yong Il Yoon\", 175.0], [3108.0, \"Younes El Aynaoui\", 193.0], [0.0, \"Young Dae Jeon\", 183.0], [479.0, \"Yuichi Sugita\", 173.0], [92.0, \"Yuki Bhambri\", 183.0], [84.0, \"Yuri Schukin\", 188.0], [68.0, \"Yves Allegro\", 183.0], [138.0, \"Zack Fleishman\", 188.0], [4.0, \"Zbynek Mlynarik\", 175.0], [0.0, \"Zeeshan Ali\", 180.0], [95.0, \"Zeljko Krajan\", 178.0], [0.0, \"Zoltan Kuharszky\", 183.0]], \"hoverlabel\": {\"namelength\": 0}, \"hovertemplate\": \"player_ht=%{customdata[2]}<br>aces=%{customdata[0]}<br>player_name=%{customdata[1]}\", \"legendgroup\": \"\", \"marker\": {\"color\": \"#636efa\", \"symbol\": \"circle\"}, \"mode\": \"markers\", \"name\": \"\", \"showlegend\": false, \"type\": \"scattergl\", \"x\": [183.0, 180.0, 178.0, 193.0, 185.0, 175.0, 183.0, 190.0, 178.0, 185.0, 183.0, 183.0, 185.0, 180.0, 183.0, 183.0, 175.0, 175.0, 188.0, 173.0, 183.0, 203.0, 183.0, 180.0, 175.0, 188.0, 188.0, 173.0, 180.0, 175.0, 175.0, 193.0, 175.0, 185.0, 180.0, 180.0, 180.0, 183.0, 190.0, 175.0, 183.0, 185.0, 188.0, 183.0, 178.0, 190.0, 183.0, 180.0, 175.0, 183.0, 175.0, 188.0, 185.0, 185.0, 180.0, 183.0, 188.0, 183.0, 201.0, 193.0, 193.0, 185.0, 188.0, 188.0, 198.0, 185.0, 180.0, 190.0, 188.0, 193.0, 196.0, 188.0, 190.0, 181.0, 175.0, 180.0, 178.0, 185.0, 196.0, 183.0, 188.0, 178.0, 175.0, 185.0, 180.0, 180.0, 193.0, 185.0, 183.0, 190.0, 190.0, 190.0, 196.0, 175.0, 190.0, 180.0, 180.0, 188.0, 193.0, 183.0, 185.0, 183.0, 180.0, 178.0, 180.0, 185.0, 193.0, 180.0, 193.0, 178.0, 190.0, 190.0, 180.0, 193.0, 180.0, 188.0, 188.0, 201.0, 175.0, 185.0, 185.0, 185.0, 185.0, 178.0, 190.0, 180.0, 188.0, 183.0, 163.0, 183.0, 178.0, 180.0, 185.0, 180.0, 180.0, 183.0, 183.0, 173.0, 185.0, 188.0, 193.0, 178.0, 185.0, 193.0, 180.0, 183.0, 178.0, 185.0, 183.0, 188.0, 190.0, 180.0, 173.0, 178.0, 183.0, 170.0, 178.0, 185.0, 178.0, 185.0, 178.0, 175.0, 196.0, 185.0, 185.0, 173.0, 188.0, 193.0, 178.0, 185.0, 178.0, 188.0, 185.0, 178.0, 178.0, 180.0, 185.0, 180.0, 175.0, 175.0, 170.0, 188.0, 188.0, 180.0, 193.0, 183.0, 193.0, 190.0, 183.0, 165.0, 178.0, 190.0, 183.0, 188.0, 180.0, 173.0, 190.0, 180.0, 190.0, 185.0, 185.0, 175.0, 190.0, 183.0, 175.0, 188.0, 185.0, 178.0, 185.0, 178.0, 183.0, 183.0, 178.0, 183.0, 185.0, 190.0, 170.0, 185.0, 201.0, 173.0, 183.0, 183.0, 183.0, 183.0, 180.0, 183.0, 193.0, 190.0, 183.0, 190.0, 183.0, 180.0, 180.0, 190.0, 173.0, 175.0, 183.0, 175.0, 180.0, 185.0, 183.0, 193.0, 170.0, 188.0, 193.0, 175.0, 183.0, 183.0, 175.0, 175.0, 170.0, 180.0, 183.0, 190.0, 183.0, 180.0, 175.0, 175.0, 173.0, 190.0, 196.0, 193.0, 198.0, 196.0, 180.0, 173.0, 188.0, 183.0, 180.0, 183.0, 185.0, 196.0, 183.0, 185.0, 185.0, 178.0, 180.0, 180.0, 180.0, 198.0, 163.0, 196.0, 193.0, 180.0, 201.0, 178.0, 175.0, 185.0, 180.0, 183.0, 180.0, 188.0, 190.0, 180.0, 183.0, 183.0, 185.0, 188.0, 190.0, 183.0, 180.0, 185.0, 185.0, 185.0, 185.0, 178.0, 183.0, 170.0, 188.0, 185.0, 188.0, 180.0, 185.0, 196.0, 188.0, 190.0, 180.0, 178.0, 180.0, 185.0, 178.0, 188.0, 175.0, 188.0, 188.0, 185.0, 188.0, 188.0, 185.0, 188.0, 190.0, 178.0, 185.0, 188.0, 183.0, 190.0, 175.0, 180.0, 178.0, 190.0, 180.0, 185.0, 188.0, 196.0, 172.0, 178.0, 178.0, 185.0, 188.0, 190.0, 173.0, 180.0, 178.0, 196.0, 190.0, 170.0, 175.0, 183.0, 175.0, 185.0, 190.0, 180.0, 178.0, 185.0, 170.0, 190.0, 183.0, 190.0, 180.0, 183.0, 193.0, 193.0, 173.0, 185.0, 188.0, 183.0, 188.0, 180.0, 180.0, 183.0, 175.0, 173.0, 178.0, 180.0, 180.0, 175.0, 163.0, 180.0, 185.0, 180.0, 180.0, 180.0, 175.0, 185.0, 185.0, 183.0, 180.0, 183.0, 180.0, 183.0, 185.0, 178.0, 183.0, 185.0, 193.0, 183.0, 180.0, 178.0, 193.0, 190.0, 188.0, 180.0, 175.0, 180.0, 188.0, 183.0, 188.0, 180.0, 193.0, 190.0, 188.0, 193.0, 185.0, 183.0, 183.0, 178.0, 185.0, 185.0, 185.0, 193.0, 193.0, 203.0, 188.0, 178.0, 175.0, 175.0, 185.0, 178.0, 175.0, 188.0, 178.0, 170.0, 193.0, 183.0, 183.0, 185.0, 185.0, 180.0, 185.0, 188.0, 185.0, 193.0, 183.0, 198.0, 185.0, 180.0, 185.0, 190.0, 183.0, 175.0, 180.0, 170.0, 180.0, 188.0, 183.0, 178.0, 175.0, 180.0, 190.0, 196.0, 185.0, 188.0, 170.0, 190.0, 180.0, 175.0, 188.0, 185.0, 168.0, 178.0, 180.0, 173.0, 160.0, 183.0, 175.0, 178.0, 188.0, 178.0, 178.0, 188.0, 183.0, 183.0, 180.0, 180.0, 190.0, 193.0, 180.0, 178.0, 180.0, 196.0, 178.0, 180.0, 193.0, 175.0, 188.0, 180.0, 183.0, 188.0, 190.0, 190.0, 183.0, 185.0, 185.0, 185.0, 183.0, 183.0, 178.0, 175.0, 190.0, 178.0, 196.0, 180.0, 190.0, 188.0, 170.0, 168.0, 188.0, 175.0, 183.0, 178.0, 180.0, 173.0, 183.0, 175.0, 180.0, 190.0, 180.0, 185.0, 188.0, 180.0, 188.0, 180.0, 190.0, 185.0, 196.0, 173.0, 193.0, 173.0, 183.0, 173.0, 183.0, 180.0, 190.0, 190.0, 180.0, 180.0, 175.0, 183.0, 190.0, 183.0, 180.0, 190.0, 193.0, 185.0, 183.0, 175.0, 190.0, 173.0, 188.0, 183.0, 180.0, 180.0, 185.0, 188.0, 190.0, 193.0, 193.0, 193.0, 183.0, 183.0, 190.0, 183.0, 190.0, 173.0, 178.0, 190.0, 190.0, 193.0, 193.0, 180.0, 185.0, 183.0, 196.0, 183.0, 180.0, 180.0, 178.0, 193.0, 173.0, 193.0, 173.0, 173.0, 190.0, 190.0, 190.0, 175.0, 178.0, 185.0, 175.0, 183.0, 183.0, 185.0, 183.0, 183.0, 173.0, 183.0, 183.0, 190.0, 190.0, 173.0, 178.0, 190.0, 180.0, 185.0, 185.0, 180.0, 193.0, 173.0, 168.0, 180.0, 185.0, 183.0, 173.0, 180.0, 188.0, 190.0, 193.0, 183.0, 180.0, 193.0, 173.0, 183.0, 185.0, 175.0, 188.0, 178.0, 193.0, 180.0, 180.0, 173.0, 173.0, 185.0, 180.0, 175.0, 190.0, 188.0, 180.0, 188.0, 178.0, 190.0, 193.0, 188.0, 185.0, 183.0, 183.0, 180.0, 190.0, 188.0, 183.0, 185.0, 180.0, 188.0, 188.0, 185.0, 175.0, 188.0, 178.0, 183.0, 180.0, 180.0, 185.0, 190.0, 180.0, 180.0, 190.0, 185.0, 175.0, 190.0, 193.0, 185.0, 183.0, 183.0, 185.0, 173.0, 178.0, 188.0, 185.0, 168.0, 178.0, 173.0, 183.0, 170.0, 180.0, 190.0, 178.0, 180.0, 188.0, 183.0, 188.0, 185.0, 183.0, 188.0, 185.0, 180.0, 188.0, 180.0, 190.0, 175.0, 180.0, 188.0, 193.0, 175.0, 170.0, 173.0, 183.0, 178.0, 170.0, 190.0, 180.0, 183.0, 185.0, 170.0, 185.0, 188.0, 180.0, 190.0, 190.0, 183.0, 193.0, 185.0, 180.0, 183.0, 188.0, 188.0, 185.0, 190.0, 183.0, 183.0, 188.0, 193.0, 175.0, 183.0, 188.0, 188.0, 208.0, 183.0, 183.0, 180.0, 196.0, 188.0, 188.0, 185.0, 185.0, 173.0, 185.0, 180.0, 196.0, 170.0, 183.0, 188.0, 185.0, 183.0, 183.0, 185.0, 180.0, 180.0, 190.0, 178.0, 185.0, 190.0, 183.0, 190.0, 185.0, 180.0, 190.0, 175.0, 178.0, 188.0, 190.0, 190.0, 188.0, 183.0, 198.0, 193.0, 180.0, 190.0, 185.0, 175.0, 175.0, 196.0, 196.0, 178.0, 178.0, 178.0, 185.0, 173.0, 185.0, 178.0, 178.0, 180.0, 188.0, 188.0, 183.0, 190.0, 175.0, 188.0, 183.0, 183.0, 178.0, 178.0, 185.0, 173.0, 193.0, 193.0, 173.0, 173.0, 185.0, 185.0, 180.0, 188.0, 190.0, 180.0, 180.0, 188.0, 188.0, 185.0, 185.0, 180.0, 175.0, 203.0, 188.0, 175.0, 178.0, 170.0, 165.0, 185.0, 193.0, 175.0, 175.0, 185.0, 193.0, 193.0, 175.0, 180.0, 178.0, 178.0, 175.0, 185.0, 185.0, 190.0, 185.0, 188.0, 198.0, 178.0, 188.0, 173.0, 185.0, 185.0, 193.0, 180.0, 188.0, 196.0, 178.0, 185.0, 183.0, 183.0, 190.0, 180.0, 175.0, 183.0, 193.0, 185.0, 185.0, 185.0, 196.0, 190.0, 193.0, 185.0, 188.0, 175.0, 190.0, 183.0, 173.0, 193.0, 206.0, 183.0, 193.0, 185.0, 178.0, 183.0, 180.0, 188.0, 183.0, 183.0, 185.0, 185.0, 188.0, 173.0, 183.0, 188.0, 185.0, 180.0, 178.0, 178.0, 190.0, 183.0, 188.0, 185.0, 180.0, 180.0, 188.0, 188.0, 180.0, 175.0, 188.0, 180.0, 180.0, 183.0, 190.0, 175.0, 180.0, 180.0, 180.0, 190.0, 178.0, 178.0, 173.0, 178.0, 185.0, 185.0, 178.0, 173.0, 183.0, 185.0, 188.0, 175.0, 188.0, 183.0, 188.0, 193.0, 180.0, 183.0, 185.0, 175.0, 180.0, 178.0, 190.0, 183.0, 183.0, 180.0, 180.0, 178.0, 198.0, 190.0, 180.0, 198.0, 185.0, 190.0, 178.0, 178.0, 185.0, 185.0, 185.0, 188.0, 188.0, 185.0, 190.0, 188.0, 180.0, 180.0, 173.0, 173.0, 183.0, 190.0, 190.0, 196.0, 178.0, 190.0, 185.0, 180.0, 178.0, 170.0, 180.0, 188.0, 180.0, 183.0, 178.0, 188.0, 188.0, 185.0, 175.0, 185.0, 185.0, 175.0, 185.0, 175.0, 190.0, 203.0, 188.0, 180.0, 196.0, 203.0, 185.0, 180.0, 190.0, 188.0, 183.0, 178.0, 183.0, 180.0, 183.0, 178.0, 183.0, 190.0, 183.0, 183.0, 190.0, 188.0, 180.0, 185.0, 188.0, 188.0, 193.0, 185.0, 188.0, 180.0, 185.0, 175.0, 188.0, 178.0, 193.0, 183.0, 188.0, 188.0, 196.0, 180.0, 180.0, 183.0, 183.0, 183.0, 185.0, 178.0, 183.0, 180.0, 178.0, 188.0, 188.0, 188.0, 188.0, 183.0, 180.0, 168.0, 196.0, 180.0, 185.0, 175.0, 180.0, 190.0, 175.0, 173.0, 190.0, 175.0, 178.0, 175.0, 190.0, 170.0, 180.0, 185.0, 178.0, 170.0, 180.0, 180.0, 183.0, 185.0, 185.0, 196.0, 190.0, 188.0, 190.0, 180.0, 188.0, 185.0, 193.0, 188.0, 193.0, 185.0, 178.0, 185.0, 180.0, 178.0, 178.0, 178.0, 193.0, 190.0, 188.0, 196.0, 183.0, 175.0, 201.0, 173.0, 190.0, 180.0, 180.0, 178.0, 170.0, 178.0, 203.0, 175.0, 178.0, 188.0, 175.0, 188.0, 185.0, 188.0, 180.0, 180.0, 185.0, 183.0, 180.0, 185.0, 183.0, 193.0, 190.0, 183.0, 188.0, 173.0, 183.0, 178.0, 180.0, 183.0, 198.0, 194.0, 196.0, 170.0, 188.0, 180.0, 185.0, 188.0, 193.0, 193.0, 175.0, 178.0, 185.0, 190.0, 185.0, 185.0, 173.0, 170.0, 185.0, 185.0, 190.0, 185.0, 178.0, 188.0, 185.0, 196.0, 183.0, 196.0, 183.0, 170.0, 188.0, 188.0, 188.0, 175.0, 178.0, 178.0, 188.0, 178.0, 190.0, 180.0, 178.0, 196.0, 190.0, 180.0, 188.0, 188.0, 190.0, 178.0, 190.0, 190.0, 180.0, 178.0, 180.0, 180.0, 190.0, 188.0, 183.0, 196.0, 183.0, 183.0, 185.0, 180.0, 180.0, 185.0, 175.0, 178.0, 183.0, 173.0, 193.0, 185.0, 183.0, 183.0, 188.0, 193.0, 178.0, 180.0, 188.0, 188.0, 178.0, 170.0, 193.0, 196.0, 180.0, 175.0, 183.0, 178.0, 183.0, 180.0, 173.0, 193.0, 175.0, 175.0, 188.0, 183.0, 190.0, 190.0, 178.0, 188.0, 180.0, 188.0, 185.0, 185.0, 190.0, 188.0, 188.0, 190.0, 185.0, 173.0, 188.0, 180.0, 193.0, 193.0, 190.0, 183.0, 190.0, 185.0, 183.0, 180.0, 185.0, 175.0, 185.0, 180.0, 201.0, 188.0, 180.0, 185.0, 183.0, 173.0, 188.0, 185.0, 188.0, 178.0, 183.0, 190.0, 190.0, 183.0, 185.0, 173.0, 180.0, 180.0, 178.0, 188.0, 183.0, 183.0, 188.0, 183.0, 190.0, 203.0, 180.0, 196.0, 175.0, 190.0, 190.0, 185.0, 173.0, 183.0, 193.0, 190.0, 180.0, 193.0, 178.0, 180.0, 183.0, 190.0, 190.0, 193.0, 190.0, 188.0, 190.0, 173.0, 190.0, 185.0, 193.0, 183.0, 180.0, 183.0, 190.0, 180.0, 188.0, 178.0, 183.0, 175.0, 185.0, 185.0, 173.0, 185.0, 178.0, 183.0, 188.0, 190.0, 183.0, 188.0, 183.0, 183.0, 178.0, 185.0, 188.0, 185.0, 180.0, 188.0, 190.0, 188.0, 178.0, 188.0, 193.0, 175.0, 178.0, 180.0, 185.0, 185.0, 170.0, 180.0, 175.0, 180.0, 168.0, 188.0, 183.0, 188.0, 188.0, 170.0, 185.0, 170.0, 180.0, 185.0, 183.0, 173.0, 190.0, 170.0, 180.0, 196.0, 185.0, 178.0, 180.0, 180.0, 180.0, 188.0, 180.0, 178.0, 175.0, 180.0, 183.0, 190.0, 185.0, 175.0, 185.0, 175.0, 188.0, 183.0, 188.0, 190.0, 170.0, 173.0, 188.0, 178.0, 183.0, 180.0, 188.0, 188.0, 183.0, 183.0, 183.0, 178.0, 180.0, 185.0, 185.0, 190.0, 185.0, 185.0, 183.0, 190.0, 178.0, 185.0, 185.0, 178.0, 188.0, 183.0, 185.0, 175.0, 175.0, 178.0, 180.0, 188.0, 188.0, 173.0, 190.0, 183.0, 170.0, 180.0, 190.0, 183.0, 183.0, 185.0, 188.0, 193.0, 175.0, 183.0, 180.0, 188.0, 190.0, 178.0, 183.0, 180.0, 196.0, 185.0, 175.0, 178.0, 175.0, 183.0, 185.0, 185.0, 193.0, 190.0, 188.0, 180.0, 185.0, 183.0, 183.0, 185.0, 196.0, 185.0, 190.0, 188.0, 190.0, 193.0, 185.0, 183.0, 188.0, 188.0, 173.0, 178.0, 185.0, 180.0, 175.0, 175.0, 185.0, 185.0, 188.0, 185.0, 180.0, 173.0, 188.0, 188.0, 178.0, 185.0, 188.0, 185.0, 185.0, 178.0, 180.0, 193.0, 160.0, 170.0, 185.0, 188.0, 193.0, 188.0, 183.0, 190.0, 183.0, 180.0, 188.0, 183.0, 185.0, 185.0, 180.0, 183.0, 175.0, 175.0, 175.0, 175.0, 180.0, 175.0, 180.0, 170.0, 180.0, 175.0, 183.0, 188.0, 185.0, 196.0, 185.0, 196.0, 188.0, 183.0, 188.0, 185.0, 193.0, 185.0, 180.0, 180.0, 188.0, 173.0, 188.0, 185.0, 178.0, 180.0, 188.0, 183.0, 173.0, 180.0, 183.0, 183.0, 175.0, 188.0, 193.0, 183.0, 190.0, 190.0, 180.0, 180.0, 188.0, 178.0, 185.0, 190.0, 188.0, 180.0, 193.0, 173.0, 185.0, 183.0, 178.0, 190.0, 185.0, 178.0, 190.0, 193.0, 183.0, 185.0, 173.0, 188.0, 183.0, 183.0, 185.0, 183.0, 183.0, 185.0, 178.0, 190.0, 190.0, 183.0, 183.0, 178.0, 185.0, 178.0, 190.0, 183.0, 183.0, 185.0, 185.0, 180.0, 183.0, 183.0, 190.0, 196.0, 175.0, 183.0, 188.0, 183.0, 193.0, 178.0, 173.0, 188.0, 183.0, 183.0, 196.0, 180.0, 183.0, 180.0, 198.0, 190.0, 180.0, 178.0, 175.0, 190.0, 193.0, 193.0, 180.0, 178.0, 188.0, 190.0, 168.0, 183.0, 180.0, 185.0, 180.0, 180.0, 180.0, 175.0, 188.0, 178.0, 183.0, 185.0, 185.0, 180.0, 188.0, 190.0, 196.0, 188.0, 178.0, 178.0, 180.0, 183.0, 175.0, 183.0, 193.0, 183.0, 188.0, 185.0, 170.0, 185.0, 193.0, 193.0, 193.0, 185.0, 180.0, 188.0, 188.0, 185.0, 185.0, 185.0, 190.0, 198.0, 183.0, 185.0, 183.0, 180.0, 173.0, 193.0, 183.0, 198.0, 180.0, 175.0, 190.0, 193.0, 183.0, 170.0, 185.0, 185.0, 188.0, 193.0, 193.0, 190.0, 175.0, 180.0, 175.0, 185.0, 175.0, 178.0, 185.0, 185.0, 185.0, 188.0, 185.0, 188.0, 190.0, 180.0, 185.0, 180.0, 193.0, 180.0, 185.0, 185.0, 175.0, 178.0, 183.0, 178.0, 178.0, 188.0, 180.0, 188.0, 188.0, 183.0, 175.0, 193.0, 190.0, 188.0, 180.0, 183.0, 188.0, 185.0, 180.0, 178.0, 196.0, 188.0, 175.0, 188.0, 180.0, 175.0, 168.0, 180.0, 188.0, 188.0, 188.0, 180.0, 178.0, 180.0, 188.0, 178.0, 193.0, 188.0, 183.0, 188.0, 178.0, 178.0, 185.0, 190.0, 178.0, 185.0, 190.0, 180.0, 180.0, 180.0, 180.0, 203.0, 178.0, 190.0, 188.0, 183.0, 191.0, 175.0, 180.0, 185.0, 190.0, 175.0, 175.0, 188.0, 180.0, 185.0, 180.0, 183.0, 185.0, 180.0, 170.0, 185.0, 193.0, 178.0, 198.0, 185.0, 175.0, 180.0, 183.0, 178.0, 185.0, 185.0, 188.0, 175.0, 180.0, 180.0, 188.0, 175.0, 185.0, 175.0, 178.0, 180.0, 193.0, 196.0, 178.0, 178.0, 185.0, 190.0, 178.0, 178.0, 193.0, 188.0, 183.0, 180.0, 190.0, 178.0, 178.0, 183.0, 180.0, 188.0, 175.0, 180.0, 178.0, 188.0, 178.0, 178.0, 193.0, 190.0, 173.0, 185.0, 170.0, 185.0, 185.0, 173.0, 183.0, 180.0, 188.0, 185.0, 180.0, 190.0, 185.0, 193.0, 178.0, 183.0, 180.0, 201.0, 185.0, 173.0, 198.0, 185.0, 193.0, 175.0, 193.0, 178.0, 193.0, 183.0, 173.0, 173.0, 183.0, 180.0, 183.0, 188.0, 183.0, 175.0, 196.0, 180.0, 180.0, 188.0, 180.0, 190.0, 170.0, 185.0, 183.0, 188.0, 180.0, 178.0, 188.0, 196.0, 190.0, 188.0, 185.0, 178.0, 185.0, 183.0, 183.0, 183.0, 178.0, 173.0, 173.0, 178.0, 190.0, 183.0, 193.0, 185.0, 185.0, 173.0, 193.0, 175.0, 180.0, 190.0, 175.0, 193.0, 183.0, 173.0, 183.0, 188.0, 183.0, 188.0, 175.0, 180.0, 178.0, 183.0], \"xaxis\": \"x\", \"y\": [995.0, 0.0, 3.0, 31.0, 0.0, 89.0, 2051.0, 0.0, 115.0, 1585.0, 0.0, 2649.0, 3.0, 15.0, 0.0, 279.0, 7.0, 29.0, 0.0, 0.0, 26.0, 264.0, 88.0, 2207.0, 1804.0, 1382.0, 1594.0, 758.0, 355.0, 979.0, 0.0, 10.0, 0.0, 853.0, 0.0, 0.0, 154.0, 73.0, 6.0, 0.0, 110.0, 189.0, 532.0, 220.0, 388.0, 1051.0, 11.0, 2610.0, 71.0, 286.0, 101.0, 0.0, 1020.0, 970.0, 0.0, 126.0, 699.0, 273.0, 485.0, 53.0, 20.0, 12.0, 1898.0, 946.0, 3029.0, 0.0, 3147.0, 2.0, 200.0, 0.0, 12.0, 0.0, 34.0, 2050.0, 9.0, 44.0, 0.0, 0.0, 807.0, 23.0, 27.0, 0.0, 813.0, 0.0, 600.0, 4055.0, 19.0, 386.0, 1012.0, 42.0, 459.0, 814.0, 0.0, 0.0, 3692.0, 772.0, 656.0, 881.0, 2768.0, 16.0, 1759.0, 2390.0, 11.0, 459.0, 94.0, 0.0, 396.0, 7.0, 1.0, 0.0, 40.0, 103.0, 970.0, 13.0, 0.0, 11.0, 0.0, 152.0, 128.0, 679.0, 885.0, 0.0, 4.0, 0.0, 5816.0, 76.0, 9040.0, 2.0, 0.0, 0.0, 0.0, 90.0, 1539.0, 0.0, 0.0, 18.0, 1555.0, 3135.0, 400.0, 313.0, 7.0, 0.0, 0.0, 271.0, 104.0, 375.0, 0.0, 155.0, 0.0, 202.0, 0.0, 0.0, 0.0, 35.0, 8.0, 0.0, 95.0, 0.0, 11.0, 55.0, 2838.0, 0.0, 3961.0, 8.0, 0.0, 0.0, 0.0, 2765.0, 36.0, 1542.0, 0.0, 17.0, 0.0, 0.0, 0.0, 10.0, 33.0, 45.0, 803.0, 23.0, 0.0, 8.0, 515.0, 0.0, 390.0, 0.0, 0.0, 0.0, 0.0, 0.0, 0.0, 21.0, 885.0, 1471.0, 35.0, 2.0, 4362.0, 181.0, 1.0, 0.0, 1200.0, 28.0, 435.0, 4.0, 21.0, 150.0, 7.0, 57.0, 69.0, 1.0, 0.0, 0.0, 0.0, 6.0, 1038.0, 297.0, 96.0, 25.0, 97.0, 20.0, 0.0, 0.0, 16.0, 0.0, 540.0, 0.0, 0.0, 0.0, 170.0, 23.0, 18.0, 1.0, 0.0, 0.0, 0.0, 0.0, 6.0, 5.0, 0.0, 1786.0, 80.0, 0.0, 17.0, 0.0, 0.0, 1534.0, 0.0, 8.0, 0.0, 22.0, 30.0, 615.0, 995.0, 0.0, 1712.0, 16.0, 0.0, 0.0, 0.0, 4392.0, 8.0, 201.0, 236.0, 0.0, 63.0, 459.0, 3687.0, 254.0, 9.0, 1.0, 0.0, 0.0, 0.0, 0.0, 0.0, 0.0, 0.0, 0.0, 5.0, 0.0, 0.0, 73.0, 0.0, 148.0, 1386.0, 11.0, 0.0, 0.0, 0.0, 214.0, 333.0, 1255.0, 23.0, 472.0, 0.0, 0.0, 153.0, 582.0, 345.0, 200.0, 0.0, 0.0, 417.0, 0.0, 0.0, 0.0, 0.0, 588.0, 0.0, 101.0, 0.0, 2.0, 709.0, 6.0, 0.0, 1.0, 212.0, 0.0, 120.0, 23.0, 30.0, 0.0, 0.0, 1.0, 0.0, 0.0, 11.0, 0.0, 14.0, 2.0, 0.0, 0.0, 25.0, 0.0, 0.0, 0.0, 0.0, 0.0, 357.0, 1321.0, 2.0, 0.0, 0.0, 6.0, 578.0, 0.0, 0.0, 0.0, 76.0, 0.0, 240.0, 22.0, 1.0, 1335.0, 33.0, 23.0, 0.0, 95.0, 635.0, 1221.0, 28.0, 86.0, 8.0, 3.0, 0.0, 1429.0, 66.0, 2615.0, 621.0, 42.0, 149.0, 0.0, 98.0, 129.0, 0.0, 120.0, 108.0, 2.0, 9.0, 0.0, 0.0, 120.0, 0.0, 100.0, 0.0, 2926.0, 2433.0, 0.0, 23.0, 0.0, 0.0, 0.0, 1.0, 49.0, 2.0, 7.0, 0.0, 188.0, 2030.0, 209.0, 2691.0, 390.0, 480.0, 0.0, 12.0, 23.0, 0.0, 0.0, 2471.0, 281.0, 2134.0, 64.0, 0.0, 0.0, 15.0, 352.0, 2956.0, 877.0, 0.0, 8.0, 0.0, 4.0, 416.0, 0.0, 0.0, 0.0, 0.0, 966.0, 0.0, 24.0, 0.0, 927.0, 0.0, 13.0, 9.0, 5.0, 168.0, 44.0, 11.0, 1128.0, 114.0, 689.0, 17.0, 19.0, 146.0, 183.0, 105.0, 0.0, 3219.0, 1.0, 2605.0, 0.0, 3181.0, 89.0, 0.0, 0.0, 0.0, 69.0, 1008.0, 0.0, 0.0, 1.0, 0.0, 0.0, 213.0, 0.0, 684.0, 1100.0, 193.0, 1407.0, 0.0, 0.0, 0.0, 0.0, 72.0, 0.0, 893.0, 6.0, 0.0, 37.0, 10.0, 11.0, 0.0, 384.0, 0.0, 0.0, 137.0, 0.0, 0.0, 64.0, 37.0, 458.0, 990.0, 0.0, 0.0, 0.0, 0.0, 0.0, 49.0, 0.0, 68.0, 0.0, 0.0, 141.0, 22.0, 0.0, 0.0, 0.0, 4239.0, 0.0, 23.0, 7.0, 800.0, 805.0, 38.0, 141.0, 2172.0, 3.0, 3.0, 2609.0, 27.0, 96.0, 1040.0, 149.0, 3.0, 8.0, 9733.0, 5.0, 33.0, 8.0, 1494.0, 0.0, 3729.0, 1.0, 1344.0, 108.0, 1.0, 0.0, 5304.0, 1100.0, 237.0, 0.0, 760.0, 721.0, 0.0, 38.0, 5.0, 12.0, 276.0, 82.0, 580.0, 1106.0, 6.0, 2034.0, 11.0, 0.0, 4.0, 5.0, 14.0, 1227.0, 15.0, 8.0, 0.0, 0.0, 72.0, 248.0, 10.0, 180.0, 15.0, 1090.0, 0.0, 0.0, 1247.0, 0.0, 0.0, 11.0, 143.0, 81.0, 12.0, 0.0, 0.0, 82.0, 289.0, 11.0, 276.0, 350.0, 89.0, 8.0, 209.0, 0.0, 0.0, 0.0, 0.0, 2.0, 198.0, 3.0, 29.0, 72.0, 0.0, 6201.0, 1309.0, 0.0, 0.0, 0.0, 696.0, 0.0, 305.0, 418.0, 1215.0, 0.0, 0.0, 0.0, 101.0, 0.0, 0.0, 678.0, 3.0, 2.0, 18.0, 0.0, 0.0, 42.0, 0.0, 196.0, 0.0, 0.0, 422.0, 55.0, 0.0, 1518.0, 13.0, 0.0, 176.0, 286.0, 258.0, 0.0, 5349.0, 3657.0, 65.0, 108.0, 5.0, 0.0, 116.0, 33.0, 324.0, 336.0, 10131.0, 308.0, 4.0, 68.0, 0.0, 387.0, 58.0, 0.0, 0.0, 680.0, 0.0, 0.0, 0.0, 52.0, 7589.0, 0.0, 0.0, 547.0, 198.0, 0.0, 960.0, 3666.0, 4.0, 1202.0, 1821.0, 313.0, 11.0, 2152.0, 917.0, 2360.0, 160.0, 0.0, 0.0, 0.0, 0.0, 0.0, 0.0, 0.0, 4290.0, 0.0, 0.0, 2493.0, 0.0, 0.0, 0.0, 0.0, 0.0, 0.0, 0.0, 0.0, 497.0, 0.0, 0.0, 7.0, 33.0, 1.0, 0.0, 0.0, 0.0, 0.0, 1090.0, 124.0, 0.0, 783.0, 1670.0, 0.0, 25.0, 18.0, 633.0, 0.0, 2.0, 1632.0, 129.0, 1286.0, 8.0, 518.0, 0.0, 0.0, 126.0, 0.0, 0.0, 0.0, 902.0, 21.0, 4.0, 17.0, 2129.0, 10.0, 648.0, 5.0, 956.0, 0.0, 349.0, 621.0, 1.0, 0.0, 24.0, 550.0, 18.0, 0.0, 2051.0, 0.0, 1701.0, 8108.0, 55.0, 671.0, 6.0, 670.0, 13653.0, 14.0, 528.0, 0.0, 98.0, 1926.0, 49.0, 1980.0, 12.0, 202.0, 0.0, 0.0, 392.0, 461.0, 0.0, 1803.0, 3472.0, 760.0, 27.0, 0.0, 48.0, 0.0, 462.0, 202.0, 1198.0, 0.0, 492.0, 35.0, 209.0, 321.0, 575.0, 0.0, 1.0, 829.0, 17.0, 4170.0, 0.0, 3386.0, 407.0, 0.0, 3452.0, 546.0, 2181.0, 0.0, 6.0, 1.0, 0.0, 3.0, 0.0, 0.0, 2428.0, 0.0, 1360.0, 1.0, 1222.0, 11.0, 2.0, 0.0, 33.0, 46.0, 33.0, 60.0, 39.0, 0.0, 0.0, 0.0, 479.0, 260.0, 0.0, 0.0, 0.0, 0.0, 702.0, 472.0, 1817.0, 0.0, 811.0, 22.0, 427.0, 4583.0, 1557.0, 105.0, 10.0, 0.0, 0.0, 1585.0, 207.0, 470.0, 68.0, 0.0, 3.0, 2852.0, 1240.0, 0.0, 0.0, 0.0, 50.0, 7.0, 136.0, 17.0, 140.0, 232.0, 29.0, 0.0, 0.0, 2245.0, 1104.0, 6604.0, 1723.0, 0.0, 0.0, 164.0, 0.0, 1467.0, 383.0, 4.0, 0.0, 666.0, 0.0, 5.0, 26.0, 31.0, 1.0, 1.0, 53.0, 2.0, 0.0, 18.0, 482.0, 0.0, 4.0, 0.0, 0.0, 0.0, 0.0, 0.0, 0.0, 90.0, 0.0, 0.0, 12569.0, 0.0, 5.0, 0.0, 0.0, 0.0, 514.0, 0.0, 844.0, 0.0, 8.0, 7.0, 0.0, 1.0, 5.0, 21.0, 567.0, 0.0, 0.0, 0.0, 0.0, 3085.0, 492.0, 22.0, 54.0, 8.0, 0.0, 2555.0, 107.0, 248.0, 1265.0, 0.0, 1.0, 0.0, 1916.0, 16.0, 0.0, 0.0, 20.0, 188.0, 0.0, 9.0, 0.0, 4.0, 0.0, 0.0, 13.0, 0.0, 70.0, 0.0, 0.0, 94.0, 38.0, 32.0, 84.0, 171.0, 5.0, 32.0, 395.0, 373.0, 0.0, 0.0, 458.0, 5.0, 2850.0, 0.0, 21.0, 5.0, 75.0, 1781.0, 0.0, 4458.0, 1309.0, 0.0, 41.0, 70.0, 0.0, 0.0, 483.0, 139.0, 162.0, 3325.0, 1417.0, 17.0, 37.0, 0.0, 34.0, 0.0, 3411.0, 244.0, 46.0, 1854.0, 0.0, 1913.0, 1404.0, 0.0, 0.0, 0.0, 1077.0, 2416.0, 938.0, 0.0, 1947.0, 0.0, 80.0, 0.0, 101.0, 64.0, 0.0, 0.0, 50.0, 0.0, 3956.0, 715.0, 190.0, 0.0, 126.0, 7111.0, 500.0, 677.0, 19.0, 0.0, 0.0, 231.0, 0.0, 0.0, 0.0, 0.0, 48.0, 14.0, 1.0, 5.0, 249.0, 56.0, 112.0, 0.0, 38.0, 764.0, 1116.0, 2.0, 10.0, 0.0, 29.0, 18.0, 0.0, 0.0, 89.0, 928.0, 469.0, 74.0, 190.0, 0.0, 729.0, 39.0, 0.0, 118.0, 2.0, 444.0, 0.0, 0.0, 0.0, 8.0, 0.0, 219.0, 2329.0, 28.0, 0.0, 6.0, 8.0, 53.0, 704.0, 1.0, 5100.0, 0.0, 0.0, 0.0, 336.0, 63.0, 0.0, 38.0, 96.0, 0.0, 129.0, 1873.0, 61.0, 152.0, 1157.0, 3.0, 861.0, 360.0, 1363.0, 1773.0, 997.0, 27.0, 145.0, 46.0, 36.0, 1445.0, 3078.0, 2510.0, 0.0, 112.0, 0.0, 927.0, 2026.0, 8.0, 0.0, 3.0, 5632.0, 0.0, 1239.0, 3595.0, 14.0, 32.0, 6153.0, 0.0, 1832.0, 80.0, 52.0, 526.0, 0.0, 2.0, 0.0, 2508.0, 21.0, 5.0, 22.0, 0.0, 558.0, 1.0, 18.0, 0.0, 221.0, 4350.0, 361.0, 0.0, 651.0, 5.0, 0.0, 18.0, 4892.0, 124.0, 2.0, 14.0, 841.0, 1661.0, 7082.0, 688.0, 2942.0, 0.0, 26.0, 0.0, 36.0, 0.0, 1514.0, 10.0, 0.0, 0.0, 0.0, 0.0, 31.0, 0.0, 0.0, 17.0, 29.0, 53.0, 270.0, 243.0, 72.0, 82.0, 20.0, 0.0, 415.0, 6684.0, 0.0, 0.0, 0.0, 1989.0, 0.0, 0.0, 7.0, 0.0, 274.0, 316.0, 110.0, 0.0, 3.0, 995.0, 501.0, 0.0, 26.0, 2946.0, 3.0, 383.0, 1292.0, 59.0, 324.0, 372.0, 536.0, 32.0, 120.0, 43.0, 333.0, 1505.0, 27.0, 0.0, 0.0, 349.0, 35.0, 0.0, 2.0, 0.0, 6.0, 26.0, 62.0, 28.0, 25.0, 363.0, 0.0, 0.0, 2.0, 0.0, 1130.0, 585.0, 152.0, 126.0, 3.0, 4052.0, 5.0, 155.0, 8.0, 0.0, 51.0, 30.0, 0.0, 1322.0, 0.0, 3357.0, 0.0, 0.0, 0.0, 32.0, 0.0, 73.0, 395.0, 371.0, 0.0, 64.0, 3091.0, 25.0, 0.0, 0.0, 2.0, 582.0, 128.0, 35.0, 3452.0, 5.0, 1633.0, 4.0, 0.0, 90.0, 45.0, 42.0, 604.0, 285.0, 577.0, 0.0, 255.0, 18.0, 0.0, 66.0, 0.0, 172.0, 24.0, 862.0, 1.0, 0.0, 0.0, 0.0, 46.0, 0.0, 0.0, 0.0, 0.0, 0.0, 0.0, 0.0, 4.0, 1136.0, 134.0, 3501.0, 0.0, 28.0, 76.0, 7929.0, 0.0, 0.0, 1626.0, 0.0, 0.0, 96.0, 0.0, 47.0, 73.0, 11.0, 0.0, 156.0, 13.0, 0.0, 0.0, 365.0, 3.0, 4.0, 183.0, 438.0, 27.0, 0.0, 3732.0, 39.0, 0.0, 64.0, 1442.0, 5.0, 35.0, 27.0, 5477.0, 2.0, 9.0, 108.0, 263.0, 1856.0, 0.0, 4081.0, 2686.0, 3111.0, 1886.0, 731.0, 277.0, 2.0, 2523.0, 832.0, 77.0, 336.0, 0.0, 5887.0, 252.0, 21.0, 0.0, 3.0, 352.0, 21.0, 0.0, 0.0, 409.0, 216.0, 831.0, 8.0, 253.0, 332.0, 840.0, 14.0, 1.0, 1055.0, 0.0, 7.0, 302.0, 49.0, 455.0, 92.0, 25.0, 27.0, 67.0, 0.0, 0.0, 0.0, 0.0, 20.0, 562.0, 126.0, 41.0, 1432.0, 2391.0, 3.0, 0.0, 305.0, 1159.0, 10.0, 2478.0, 0.0, 0.0, 0.0, 0.0, 346.0, 22.0, 0.0, 0.0, 0.0, 0.0, 0.0, 31.0, 0.0, 0.0, 515.0, 0.0, 0.0, 727.0, 11.0, 0.0, 3633.0, 160.0, 937.0, 0.0, 82.0, 82.0, 412.0, 1.0, 0.0, 0.0, 469.0, 1924.0, 6.0, 2783.0, 101.0, 6.0, 0.0, 0.0, 3.0, 95.0, 0.0, 22.0, 3.0, 2.0, 90.0, 3.0, 0.0, 413.0, 8689.0, 0.0, 0.0, 0.0, 0.0, 0.0, 0.0, 8.0, 0.0, 0.0, 0.0, 0.0, 940.0, 0.0, 0.0, 0.0, 639.0, 285.0, 0.0, 66.0, 51.0, 0.0, 220.0, 0.0, 0.0, 0.0, 103.0, 902.0, 0.0, 2223.0, 18.0, 52.0, 1.0, 0.0, 0.0, 19.0, 2.0, 0.0, 4591.0, 1378.0, 21.0, 37.0, 0.0, 12.0, 20.0, 1652.0, 36.0, 0.0, 3.0, 848.0, 147.0, 23.0, 4112.0, 198.0, 1463.0, 3630.0, 12.0, 2121.0, 1137.0, 0.0, 25.0, 1095.0, 0.0, 0.0, 1.0, 4.0, 4.0, 0.0, 47.0, 10.0, 0.0, 141.0, 70.0, 5.0, 0.0, 0.0, 0.0, 1253.0, 963.0, 6.0, 0.0, 4.0, 0.0, 28.0, 351.0, 0.0, 11.0, 163.0, 3687.0, 4700.0, 7648.0, 98.0, 0.0, 0.0, 12.0, 28.0, 0.0, 1821.0, 0.0, 70.0, 0.0, 0.0, 0.0, 0.0, 226.0, 19.0, 0.0, 23.0, 0.0, 208.0, 2197.0, 0.0, 0.0, 57.0, 0.0, 1082.0, 0.0, 0.0, 0.0, 0.0, 0.0, 0.0, 4.0, 67.0, 0.0, 0.0, 0.0, 120.0, 1528.0, 90.0, 86.0, 0.0, 0.0, 3090.0, 3868.0, 215.0, 0.0, 0.0, 0.0, 22.0, 768.0, 11311.0, 0.0, 17.0, 65.0, 292.0, 56.0, 237.0, 208.0, 16.0, 0.0, 0.0, 0.0, 0.0, 35.0, 1.0, 0.0, 0.0, 630.0, 0.0, 0.0, 6.0, 57.0, 0.0, 0.0, 0.0, 596.0, 12.0, 82.0, 0.0, 0.0, 1909.0, 10.0, 390.0, 4.0, 38.0, 23.0, 8356.0, 75.0, 0.0, 0.0, 0.0, 35.0, 1445.0, 284.0, 21.0, 0.0, 1258.0, 27.0, 0.0, 361.0, 1466.0, 49.0, 13.0, 6.0, 0.0, 36.0, 125.0, 1535.0, 4.0, 88.0, 8.0, 0.0, 6.0, 53.0, 0.0, 131.0, 0.0, 26.0, 48.0, 186.0, 3098.0, 1269.0, 14.0, 0.0, 2181.0, 12.0, 14.0, 241.0, 2308.0, 6.0, 0.0, 15.0, 3.0, 0.0, 0.0, 1523.0, 0.0, 438.0, 71.0, 0.0, 43.0, 314.0, 1140.0, 0.0, 5.0, 2016.0, 955.0, 109.0, 449.0, 3.0, 0.0, 0.0, 5819.0, 0.0, 1.0, 0.0, 1405.0, 1.0, 0.0, 0.0, 1517.0, 0.0, 0.0, 0.0, 4.0, 144.0, 1034.0, 6.0, 0.0, 7.0, 135.0, 0.0, 0.0, 316.0, 439.0, 12.0, 619.0, 0.0, 0.0, 15.0, 0.0, 150.0, 260.0, 0.0, 927.0, 0.0, 13.0, 4.0, 2785.0, 0.0, 0.0, 0.0, 0.0, 0.0, 1.0, 23.0, 0.0, 0.0, 10.0, 13.0, 2.0, 0.0, 491.0, 39.0, 0.0, 69.0, 16.0, 358.0, 2129.0, 0.0, 0.0, 0.0, 0.0, 0.0, 1388.0, 81.0, 1149.0, 272.0, 254.0, 189.0, 0.0, 5.0, 56.0, 5417.0, 47.0, 0.0, 227.0, 5113.0, 15.0, 1813.0, 17.0, 27.0, 14.0, 0.0, 2333.0, 13.0, 0.0, 0.0, 0.0, 4306.0, 181.0, 0.0, 571.0, 0.0, 0.0, 0.0, 3.0, 36.0, 31.0, 329.0, 0.0, 39.0, 0.0, 31.0, 5663.0, 57.0, 2.0, 115.0, 180.0, 1224.0, 0.0, 0.0, 0.0, 0.0, 0.0, 0.0, 59.0, 0.0, 6.0, 184.0, 0.0, 12.0, 440.0, 7195.0, 69.0, 824.0, 261.0, 0.0, 8.0, 479.0, 0.0, 5893.0, 362.0, 3230.0, 0.0, 0.0, 0.0, 1.0, 0.0, 0.0, 4.0, 12.0, 0.0, 24.0, 0.0, 0.0, 4.0, 3.0, 0.0, 1.0, 0.0, 203.0, 118.0, 0.0, 0.0, 2.0, 60.0, 20.0, 41.0, 0.0, 0.0, 2505.0, 3.0, 65.0, 0.0, 0.0, 143.0, 390.0, 1986.0, 5.0, 0.0, 0.0, 0.0, 1.0, 4195.0, 0.0, 36.0, 122.0, 2338.0, 0.0, 182.0, 17.0, 0.0, 20.0, 0.0, 696.0, 0.0, 130.0, 995.0, 4341.0, 373.0, 5566.0, 0.0, 0.0, 518.0, 0.0, 277.0, 1208.0, 90.0, 0.0, 0.0, 0.0, 0.0, 0.0, 89.0, 0.0, 89.0, 0.0, 0.0, 0.0, 24.0, 1.0, 99.0, 3722.0, 44.0, 12.0, 84.0, 23.0, 1546.0, 4706.0, 38.0, 3108.0, 0.0, 479.0, 92.0, 84.0, 68.0, 138.0, 4.0, 0.0, 95.0, 0.0], \"yaxis\": \"y\"}, {\"hoverlabel\": {\"namelength\": 0}, \"hovertemplate\": \"<b>OLS trendline</b><br>aces = 46.0753 * player_ht + -7972.82<br>R<sup>2</sup>=0.058997<br><br>player_ht=%{x}<br>aces=%{y} <b>(trend)</b>\", \"legendgroup\": \"\", \"line\": {\"color\": \"red\"}, \"marker\": {\"color\": \"#636efa\", \"symbol\": \"circle\"}, \"mode\": \"lines\", \"name\": \"\", \"showlegend\": false, \"type\": \"scattergl\", \"x\": [160.0, 160.0, 163.0, 163.0, 163.0, 165.0, 165.0, 168.0, 168.0, 168.0, 168.0, 168.0, 168.0, 168.0, 168.0, 170.0, 170.0, 170.0, 170.0, 170.0, 170.0, 170.0, 170.0, 170.0, 170.0, 170.0, 170.0, 170.0, 170.0, 170.0, 170.0, 170.0, 170.0, 170.0, 170.0, 170.0, 170.0, 170.0, 170.0, 170.0, 170.0, 170.0, 170.0, 170.0, 170.0, 170.0, 170.0, 170.0, 170.0, 170.0, 170.0, 170.0, 170.0, 170.0, 172.0, 173.0, 173.0, 173.0, 173.0, 173.0, 173.0, 173.0, 173.0, 173.0, 173.0, 173.0, 173.0, 173.0, 173.0, 173.0, 173.0, 173.0, 173.0, 173.0, 173.0, 173.0, 173.0, 173.0, 173.0, 173.0, 173.0, 173.0, 173.0, 173.0, 173.0, 173.0, 173.0, 173.0, 173.0, 173.0, 173.0, 173.0, 173.0, 173.0, 173.0, 173.0, 173.0, 173.0, 173.0, 173.0, 173.0, 173.0, 173.0, 173.0, 173.0, 173.0, 173.0, 173.0, 173.0, 173.0, 173.0, 173.0, 173.0, 173.0, 173.0, 173.0, 173.0, 173.0, 173.0, 173.0, 173.0, 173.0, 173.0, 173.0, 173.0, 173.0, 173.0, 173.0, 173.0, 173.0, 173.0, 173.0, 175.0, 175.0, 175.0, 175.0, 175.0, 175.0, 175.0, 175.0, 175.0, 175.0, 175.0, 175.0, 175.0, 175.0, 175.0, 175.0, 175.0, 175.0, 175.0, 175.0, 175.0, 175.0, 175.0, 175.0, 175.0, 175.0, 175.0, 175.0, 175.0, 175.0, 175.0, 175.0, 175.0, 175.0, 175.0, 175.0, 175.0, 175.0, 175.0, 175.0, 175.0, 175.0, 175.0, 175.0, 175.0, 175.0, 175.0, 175.0, 175.0, 175.0, 175.0, 175.0, 175.0, 175.0, 175.0, 175.0, 175.0, 175.0, 175.0, 175.0, 175.0, 175.0, 175.0, 175.0, 175.0, 175.0, 175.0, 175.0, 175.0, 175.0, 175.0, 175.0, 175.0, 175.0, 175.0, 175.0, 175.0, 175.0, 175.0, 175.0, 175.0, 175.0, 175.0, 175.0, 175.0, 175.0, 175.0, 175.0, 175.0, 175.0, 175.0, 175.0, 175.0, 175.0, 175.0, 175.0, 175.0, 175.0, 175.0, 175.0, 175.0, 175.0, 175.0, 175.0, 175.0, 175.0, 175.0, 175.0, 175.0, 175.0, 175.0, 175.0, 175.0, 175.0, 175.0, 175.0, 175.0, 175.0, 175.0, 175.0, 175.0, 175.0, 175.0, 175.0, 175.0, 175.0, 175.0, 175.0, 175.0, 175.0, 175.0, 175.0, 175.0, 175.0, 175.0, 175.0, 175.0, 178.0, 178.0, 178.0, 178.0, 178.0, 178.0, 178.0, 178.0, 178.0, 178.0, 178.0, 178.0, 178.0, 178.0, 178.0, 178.0, 178.0, 178.0, 178.0, 178.0, 178.0, 178.0, 178.0, 178.0, 178.0, 178.0, 178.0, 178.0, 178.0, 178.0, 178.0, 178.0, 178.0, 178.0, 178.0, 178.0, 178.0, 178.0, 178.0, 178.0, 178.0, 178.0, 178.0, 178.0, 178.0, 178.0, 178.0, 178.0, 178.0, 178.0, 178.0, 178.0, 178.0, 178.0, 178.0, 178.0, 178.0, 178.0, 178.0, 178.0, 178.0, 178.0, 178.0, 178.0, 178.0, 178.0, 178.0, 178.0, 178.0, 178.0, 178.0, 178.0, 178.0, 178.0, 178.0, 178.0, 178.0, 178.0, 178.0, 178.0, 178.0, 178.0, 178.0, 178.0, 178.0, 178.0, 178.0, 178.0, 178.0, 178.0, 178.0, 178.0, 178.0, 178.0, 178.0, 178.0, 178.0, 178.0, 178.0, 178.0, 178.0, 178.0, 178.0, 178.0, 178.0, 178.0, 178.0, 178.0, 178.0, 178.0, 178.0, 178.0, 178.0, 178.0, 178.0, 178.0, 178.0, 178.0, 178.0, 178.0, 178.0, 178.0, 178.0, 178.0, 178.0, 178.0, 178.0, 178.0, 178.0, 178.0, 178.0, 178.0, 178.0, 178.0, 178.0, 178.0, 178.0, 178.0, 178.0, 178.0, 178.0, 178.0, 178.0, 178.0, 178.0, 178.0, 178.0, 178.0, 178.0, 178.0, 178.0, 178.0, 178.0, 178.0, 178.0, 178.0, 178.0, 178.0, 178.0, 178.0, 178.0, 178.0, 178.0, 178.0, 178.0, 178.0, 178.0, 178.0, 178.0, 178.0, 178.0, 178.0, 178.0, 178.0, 178.0, 178.0, 178.0, 178.0, 178.0, 178.0, 178.0, 180.0, 180.0, 180.0, 180.0, 180.0, 180.0, 180.0, 180.0, 180.0, 180.0, 180.0, 180.0, 180.0, 180.0, 180.0, 180.0, 180.0, 180.0, 180.0, 180.0, 180.0, 180.0, 180.0, 180.0, 180.0, 180.0, 180.0, 180.0, 180.0, 180.0, 180.0, 180.0, 180.0, 180.0, 180.0, 180.0, 180.0, 180.0, 180.0, 180.0, 180.0, 180.0, 180.0, 180.0, 180.0, 180.0, 180.0, 180.0, 180.0, 180.0, 180.0, 180.0, 180.0, 180.0, 180.0, 180.0, 180.0, 180.0, 180.0, 180.0, 180.0, 180.0, 180.0, 180.0, 180.0, 180.0, 180.0, 180.0, 180.0, 180.0, 180.0, 180.0, 180.0, 180.0, 180.0, 180.0, 180.0, 180.0, 180.0, 180.0, 180.0, 180.0, 180.0, 180.0, 180.0, 180.0, 180.0, 180.0, 180.0, 180.0, 180.0, 180.0, 180.0, 180.0, 180.0, 180.0, 180.0, 180.0, 180.0, 180.0, 180.0, 180.0, 180.0, 180.0, 180.0, 180.0, 180.0, 180.0, 180.0, 180.0, 180.0, 180.0, 180.0, 180.0, 180.0, 180.0, 180.0, 180.0, 180.0, 180.0, 180.0, 180.0, 180.0, 180.0, 180.0, 180.0, 180.0, 180.0, 180.0, 180.0, 180.0, 180.0, 180.0, 180.0, 180.0, 180.0, 180.0, 180.0, 180.0, 180.0, 180.0, 180.0, 180.0, 180.0, 180.0, 180.0, 180.0, 180.0, 180.0, 180.0, 180.0, 180.0, 180.0, 180.0, 180.0, 180.0, 180.0, 180.0, 180.0, 180.0, 180.0, 180.0, 180.0, 180.0, 180.0, 180.0, 180.0, 180.0, 180.0, 180.0, 180.0, 180.0, 180.0, 180.0, 180.0, 180.0, 180.0, 180.0, 180.0, 180.0, 180.0, 180.0, 180.0, 180.0, 180.0, 180.0, 180.0, 180.0, 180.0, 180.0, 180.0, 180.0, 180.0, 180.0, 180.0, 180.0, 180.0, 180.0, 180.0, 180.0, 180.0, 180.0, 180.0, 180.0, 180.0, 180.0, 180.0, 180.0, 180.0, 180.0, 180.0, 180.0, 180.0, 180.0, 180.0, 180.0, 180.0, 180.0, 180.0, 180.0, 180.0, 180.0, 180.0, 180.0, 180.0, 180.0, 180.0, 180.0, 180.0, 180.0, 180.0, 180.0, 180.0, 180.0, 180.0, 180.0, 180.0, 180.0, 180.0, 180.0, 180.0, 180.0, 180.0, 180.0, 180.0, 180.0, 180.0, 180.0, 180.0, 180.0, 180.0, 180.0, 180.0, 180.0, 180.0, 180.0, 180.0, 180.0, 180.0, 180.0, 180.0, 180.0, 180.0, 180.0, 180.0, 180.0, 180.0, 180.0, 180.0, 180.0, 180.0, 180.0, 180.0, 180.0, 180.0, 180.0, 180.0, 180.0, 180.0, 180.0, 180.0, 180.0, 181.0, 183.0, 183.0, 183.0, 183.0, 183.0, 183.0, 183.0, 183.0, 183.0, 183.0, 183.0, 183.0, 183.0, 183.0, 183.0, 183.0, 183.0, 183.0, 183.0, 183.0, 183.0, 183.0, 183.0, 183.0, 183.0, 183.0, 183.0, 183.0, 183.0, 183.0, 183.0, 183.0, 183.0, 183.0, 183.0, 183.0, 183.0, 183.0, 183.0, 183.0, 183.0, 183.0, 183.0, 183.0, 183.0, 183.0, 183.0, 183.0, 183.0, 183.0, 183.0, 183.0, 183.0, 183.0, 183.0, 183.0, 183.0, 183.0, 183.0, 183.0, 183.0, 183.0, 183.0, 183.0, 183.0, 183.0, 183.0, 183.0, 183.0, 183.0, 183.0, 183.0, 183.0, 183.0, 183.0, 183.0, 183.0, 183.0, 183.0, 183.0, 183.0, 183.0, 183.0, 183.0, 183.0, 183.0, 183.0, 183.0, 183.0, 183.0, 183.0, 183.0, 183.0, 183.0, 183.0, 183.0, 183.0, 183.0, 183.0, 183.0, 183.0, 183.0, 183.0, 183.0, 183.0, 183.0, 183.0, 183.0, 183.0, 183.0, 183.0, 183.0, 183.0, 183.0, 183.0, 183.0, 183.0, 183.0, 183.0, 183.0, 183.0, 183.0, 183.0, 183.0, 183.0, 183.0, 183.0, 183.0, 183.0, 183.0, 183.0, 183.0, 183.0, 183.0, 183.0, 183.0, 183.0, 183.0, 183.0, 183.0, 183.0, 183.0, 183.0, 183.0, 183.0, 183.0, 183.0, 183.0, 183.0, 183.0, 183.0, 183.0, 183.0, 183.0, 183.0, 183.0, 183.0, 183.0, 183.0, 183.0, 183.0, 183.0, 183.0, 183.0, 183.0, 183.0, 183.0, 183.0, 183.0, 183.0, 183.0, 183.0, 183.0, 183.0, 183.0, 183.0, 183.0, 183.0, 183.0, 183.0, 183.0, 183.0, 183.0, 183.0, 183.0, 183.0, 183.0, 183.0, 183.0, 183.0, 183.0, 183.0, 183.0, 183.0, 183.0, 183.0, 183.0, 183.0, 183.0, 183.0, 183.0, 183.0, 183.0, 183.0, 183.0, 183.0, 183.0, 183.0, 183.0, 183.0, 183.0, 183.0, 183.0, 183.0, 183.0, 183.0, 183.0, 183.0, 183.0, 183.0, 183.0, 183.0, 183.0, 183.0, 183.0, 183.0, 183.0, 183.0, 183.0, 183.0, 183.0, 183.0, 183.0, 183.0, 183.0, 183.0, 183.0, 183.0, 183.0, 183.0, 183.0, 183.0, 183.0, 183.0, 183.0, 183.0, 183.0, 183.0, 183.0, 183.0, 183.0, 183.0, 183.0, 183.0, 183.0, 183.0, 183.0, 183.0, 183.0, 183.0, 183.0, 183.0, 183.0, 183.0, 183.0, 183.0, 183.0, 183.0, 183.0, 183.0, 183.0, 183.0, 185.0, 185.0, 185.0, 185.0, 185.0, 185.0, 185.0, 185.0, 185.0, 185.0, 185.0, 185.0, 185.0, 185.0, 185.0, 185.0, 185.0, 185.0, 185.0, 185.0, 185.0, 185.0, 185.0, 185.0, 185.0, 185.0, 185.0, 185.0, 185.0, 185.0, 185.0, 185.0, 185.0, 185.0, 185.0, 185.0, 185.0, 185.0, 185.0, 185.0, 185.0, 185.0, 185.0, 185.0, 185.0, 185.0, 185.0, 185.0, 185.0, 185.0, 185.0, 185.0, 185.0, 185.0, 185.0, 185.0, 185.0, 185.0, 185.0, 185.0, 185.0, 185.0, 185.0, 185.0, 185.0, 185.0, 185.0, 185.0, 185.0, 185.0, 185.0, 185.0, 185.0, 185.0, 185.0, 185.0, 185.0, 185.0, 185.0, 185.0, 185.0, 185.0, 185.0, 185.0, 185.0, 185.0, 185.0, 185.0, 185.0, 185.0, 185.0, 185.0, 185.0, 185.0, 185.0, 185.0, 185.0, 185.0, 185.0, 185.0, 185.0, 185.0, 185.0, 185.0, 185.0, 185.0, 185.0, 185.0, 185.0, 185.0, 185.0, 185.0, 185.0, 185.0, 185.0, 185.0, 185.0, 185.0, 185.0, 185.0, 185.0, 185.0, 185.0, 185.0, 185.0, 185.0, 185.0, 185.0, 185.0, 185.0, 185.0, 185.0, 185.0, 185.0, 185.0, 185.0, 185.0, 185.0, 185.0, 185.0, 185.0, 185.0, 185.0, 185.0, 185.0, 185.0, 185.0, 185.0, 185.0, 185.0, 185.0, 185.0, 185.0, 185.0, 185.0, 185.0, 185.0, 185.0, 185.0, 185.0, 185.0, 185.0, 185.0, 185.0, 185.0, 185.0, 185.0, 185.0, 185.0, 185.0, 185.0, 185.0, 185.0, 185.0, 185.0, 185.0, 185.0, 185.0, 185.0, 185.0, 185.0, 185.0, 185.0, 185.0, 185.0, 185.0, 185.0, 185.0, 185.0, 185.0, 185.0, 185.0, 185.0, 185.0, 185.0, 185.0, 185.0, 185.0, 185.0, 185.0, 185.0, 185.0, 185.0, 185.0, 185.0, 185.0, 185.0, 185.0, 185.0, 185.0, 185.0, 185.0, 185.0, 185.0, 185.0, 185.0, 185.0, 185.0, 185.0, 185.0, 185.0, 185.0, 185.0, 185.0, 185.0, 185.0, 185.0, 185.0, 185.0, 185.0, 185.0, 185.0, 185.0, 185.0, 185.0, 185.0, 185.0, 185.0, 185.0, 185.0, 185.0, 185.0, 185.0, 185.0, 185.0, 185.0, 185.0, 185.0, 185.0, 185.0, 185.0, 185.0, 185.0, 185.0, 185.0, 185.0, 185.0, 185.0, 185.0, 185.0, 185.0, 185.0, 185.0, 185.0, 185.0, 185.0, 185.0, 185.0, 185.0, 185.0, 185.0, 185.0, 185.0, 185.0, 185.0, 185.0, 185.0, 185.0, 185.0, 185.0, 185.0, 188.0, 188.0, 188.0, 188.0, 188.0, 188.0, 188.0, 188.0, 188.0, 188.0, 188.0, 188.0, 188.0, 188.0, 188.0, 188.0, 188.0, 188.0, 188.0, 188.0, 188.0, 188.0, 188.0, 188.0, 188.0, 188.0, 188.0, 188.0, 188.0, 188.0, 188.0, 188.0, 188.0, 188.0, 188.0, 188.0, 188.0, 188.0, 188.0, 188.0, 188.0, 188.0, 188.0, 188.0, 188.0, 188.0, 188.0, 188.0, 188.0, 188.0, 188.0, 188.0, 188.0, 188.0, 188.0, 188.0, 188.0, 188.0, 188.0, 188.0, 188.0, 188.0, 188.0, 188.0, 188.0, 188.0, 188.0, 188.0, 188.0, 188.0, 188.0, 188.0, 188.0, 188.0, 188.0, 188.0, 188.0, 188.0, 188.0, 188.0, 188.0, 188.0, 188.0, 188.0, 188.0, 188.0, 188.0, 188.0, 188.0, 188.0, 188.0, 188.0, 188.0, 188.0, 188.0, 188.0, 188.0, 188.0, 188.0, 188.0, 188.0, 188.0, 188.0, 188.0, 188.0, 188.0, 188.0, 188.0, 188.0, 188.0, 188.0, 188.0, 188.0, 188.0, 188.0, 188.0, 188.0, 188.0, 188.0, 188.0, 188.0, 188.0, 188.0, 188.0, 188.0, 188.0, 188.0, 188.0, 188.0, 188.0, 188.0, 188.0, 188.0, 188.0, 188.0, 188.0, 188.0, 188.0, 188.0, 188.0, 188.0, 188.0, 188.0, 188.0, 188.0, 188.0, 188.0, 188.0, 188.0, 188.0, 188.0, 188.0, 188.0, 188.0, 188.0, 188.0, 188.0, 188.0, 188.0, 188.0, 188.0, 188.0, 188.0, 188.0, 188.0, 188.0, 188.0, 188.0, 188.0, 188.0, 188.0, 188.0, 188.0, 188.0, 188.0, 188.0, 188.0, 188.0, 188.0, 188.0, 188.0, 188.0, 188.0, 188.0, 188.0, 188.0, 188.0, 188.0, 188.0, 188.0, 188.0, 188.0, 188.0, 188.0, 188.0, 188.0, 188.0, 188.0, 188.0, 188.0, 188.0, 188.0, 188.0, 188.0, 188.0, 188.0, 188.0, 188.0, 188.0, 188.0, 188.0, 188.0, 188.0, 188.0, 188.0, 188.0, 188.0, 188.0, 188.0, 188.0, 188.0, 188.0, 188.0, 188.0, 188.0, 188.0, 188.0, 188.0, 188.0, 188.0, 188.0, 188.0, 188.0, 188.0, 188.0, 188.0, 188.0, 188.0, 188.0, 188.0, 188.0, 188.0, 190.0, 190.0, 190.0, 190.0, 190.0, 190.0, 190.0, 190.0, 190.0, 190.0, 190.0, 190.0, 190.0, 190.0, 190.0, 190.0, 190.0, 190.0, 190.0, 190.0, 190.0, 190.0, 190.0, 190.0, 190.0, 190.0, 190.0, 190.0, 190.0, 190.0, 190.0, 190.0, 190.0, 190.0, 190.0, 190.0, 190.0, 190.0, 190.0, 190.0, 190.0, 190.0, 190.0, 190.0, 190.0, 190.0, 190.0, 190.0, 190.0, 190.0, 190.0, 190.0, 190.0, 190.0, 190.0, 190.0, 190.0, 190.0, 190.0, 190.0, 190.0, 190.0, 190.0, 190.0, 190.0, 190.0, 190.0, 190.0, 190.0, 190.0, 190.0, 190.0, 190.0, 190.0, 190.0, 190.0, 190.0, 190.0, 190.0, 190.0, 190.0, 190.0, 190.0, 190.0, 190.0, 190.0, 190.0, 190.0, 190.0, 190.0, 190.0, 190.0, 190.0, 190.0, 190.0, 190.0, 190.0, 190.0, 190.0, 190.0, 190.0, 190.0, 190.0, 190.0, 190.0, 190.0, 190.0, 190.0, 190.0, 190.0, 190.0, 190.0, 190.0, 190.0, 190.0, 190.0, 190.0, 190.0, 190.0, 190.0, 190.0, 190.0, 190.0, 190.0, 190.0, 190.0, 190.0, 190.0, 190.0, 190.0, 190.0, 190.0, 190.0, 190.0, 190.0, 190.0, 190.0, 190.0, 190.0, 190.0, 190.0, 190.0, 190.0, 190.0, 190.0, 190.0, 190.0, 190.0, 190.0, 190.0, 190.0, 190.0, 190.0, 190.0, 190.0, 190.0, 190.0, 190.0, 190.0, 190.0, 190.0, 190.0, 190.0, 190.0, 190.0, 190.0, 190.0, 190.0, 190.0, 190.0, 190.0, 190.0, 190.0, 190.0, 190.0, 190.0, 190.0, 190.0, 190.0, 190.0, 190.0, 191.0, 193.0, 193.0, 193.0, 193.0, 193.0, 193.0, 193.0, 193.0, 193.0, 193.0, 193.0, 193.0, 193.0, 193.0, 193.0, 193.0, 193.0, 193.0, 193.0, 193.0, 193.0, 193.0, 193.0, 193.0, 193.0, 193.0, 193.0, 193.0, 193.0, 193.0, 193.0, 193.0, 193.0, 193.0, 193.0, 193.0, 193.0, 193.0, 193.0, 193.0, 193.0, 193.0, 193.0, 193.0, 193.0, 193.0, 193.0, 193.0, 193.0, 193.0, 193.0, 193.0, 193.0, 193.0, 193.0, 193.0, 193.0, 193.0, 193.0, 193.0, 193.0, 193.0, 193.0, 193.0, 193.0, 193.0, 193.0, 193.0, 193.0, 193.0, 193.0, 193.0, 193.0, 193.0, 193.0, 193.0, 193.0, 193.0, 193.0, 193.0, 193.0, 193.0, 193.0, 193.0, 193.0, 193.0, 193.0, 193.0, 193.0, 193.0, 193.0, 193.0, 193.0, 193.0, 193.0, 193.0, 193.0, 193.0, 193.0, 193.0, 193.0, 193.0, 193.0, 193.0, 193.0, 193.0, 193.0, 193.0, 193.0, 193.0, 193.0, 193.0, 193.0, 193.0, 193.0, 194.0, 196.0, 196.0, 196.0, 196.0, 196.0, 196.0, 196.0, 196.0, 196.0, 196.0, 196.0, 196.0, 196.0, 196.0, 196.0, 196.0, 196.0, 196.0, 196.0, 196.0, 196.0, 196.0, 196.0, 196.0, 196.0, 196.0, 196.0, 196.0, 196.0, 196.0, 196.0, 196.0, 196.0, 196.0, 196.0, 196.0, 196.0, 196.0, 196.0, 196.0, 196.0, 196.0, 196.0, 196.0, 196.0, 196.0, 196.0, 198.0, 198.0, 198.0, 198.0, 198.0, 198.0, 198.0, 198.0, 198.0, 198.0, 198.0, 198.0, 198.0, 198.0, 201.0, 201.0, 201.0, 201.0, 201.0, 201.0, 201.0, 203.0, 203.0, 203.0, 203.0, 203.0, 203.0, 203.0, 203.0, 206.0, 208.0], \"xaxis\": \"x\", \"y\": [-600.7710590856113, -600.7710590856113, -462.5451611166973, -462.5451611166973, -462.5451611166973, -370.39456247075486, -370.39456247075486, -232.1686645018408, -232.1686645018408, -232.1686645018408, -232.1686645018408, -232.1686645018408, -232.1686645018408, -232.1686645018408, -232.1686645018408, -140.01806585589839, -140.01806585589839, -140.01806585589839, -140.01806585589839, -140.01806585589839, -140.01806585589839, -140.01806585589839, -140.01806585589839, -140.01806585589839, -140.01806585589839, -140.01806585589839, -140.01806585589839, -140.01806585589839, -140.01806585589839, -140.01806585589839, -140.01806585589839, -140.01806585589839, -140.01806585589839, -140.01806585589839, -140.01806585589839, -140.01806585589839, -140.01806585589839, -140.01806585589839, -140.01806585589839, -140.01806585589839, -140.01806585589839, -140.01806585589839, -140.01806585589839, -140.01806585589839, -140.01806585589839, -140.01806585589839, -140.01806585589839, -140.01806585589839, -140.01806585589839, -140.01806585589839, -140.01806585589839, -140.01806585589839, -140.01806585589839, -140.01806585589839, -47.867467209955066, -1.7921678869843163, -1.7921678869843163, -1.7921678869843163, -1.7921678869843163, -1.7921678869843163, -1.7921678869843163, -1.7921678869843163, -1.7921678869843163, -1.7921678869843163, -1.7921678869843163, -1.7921678869843163, -1.7921678869843163, -1.7921678869843163, -1.7921678869843163, -1.7921678869843163, -1.7921678869843163, -1.7921678869843163, -1.7921678869843163, -1.7921678869843163, -1.7921678869843163, -1.7921678869843163, -1.7921678869843163, -1.7921678869843163, -1.7921678869843163, -1.7921678869843163, -1.7921678869843163, -1.7921678869843163, -1.7921678869843163, -1.7921678869843163, -1.7921678869843163, -1.7921678869843163, -1.7921678869843163, -1.7921678869843163, -1.7921678869843163, -1.7921678869843163, -1.7921678869843163, -1.7921678869843163, -1.7921678869843163, -1.7921678869843163, -1.7921678869843163, -1.7921678869843163, -1.7921678869843163, -1.7921678869843163, -1.7921678869843163, -1.7921678869843163, -1.7921678869843163, -1.7921678869843163, -1.7921678869843163, -1.7921678869843163, -1.7921678869843163, -1.7921678869843163, -1.7921678869843163, -1.7921678869843163, -1.7921678869843163, -1.7921678869843163, -1.7921678869843163, -1.7921678869843163, -1.7921678869843163, -1.7921678869843163, -1.7921678869843163, -1.7921678869843163, -1.7921678869843163, -1.7921678869843163, -1.7921678869843163, -1.7921678869843163, -1.7921678869843163, -1.7921678869843163, -1.7921678869843163, -1.7921678869843163, -1.7921678869843163, -1.7921678869843163, -1.7921678869843163, -1.7921678869843163, -1.7921678869843163, -1.7921678869843163, -1.7921678869843163, -1.7921678869843163, 90.3584307589581, 90.3584307589581, 90.3584307589581, 90.3584307589581, 90.3584307589581, 90.3584307589581, 90.3584307589581, 90.3584307589581, 90.3584307589581, 90.3584307589581, 90.3584307589581, 90.3584307589581, 90.3584307589581, 90.3584307589581, 90.3584307589581, 90.3584307589581, 90.3584307589581, 90.3584307589581, 90.3584307589581, 90.3584307589581, 90.3584307589581, 90.3584307589581, 90.3584307589581, 90.3584307589581, 90.3584307589581, 90.3584307589581, 90.3584307589581, 90.3584307589581, 90.3584307589581, 90.3584307589581, 90.3584307589581, 90.3584307589581, 90.3584307589581, 90.3584307589581, 90.3584307589581, 90.3584307589581, 90.3584307589581, 90.3584307589581, 90.3584307589581, 90.3584307589581, 90.3584307589581, 90.3584307589581, 90.3584307589581, 90.3584307589581, 90.3584307589581, 90.3584307589581, 90.3584307589581, 90.3584307589581, 90.3584307589581, 90.3584307589581, 90.3584307589581, 90.3584307589581, 90.3584307589581, 90.3584307589581, 90.3584307589581, 90.3584307589581, 90.3584307589581, 90.3584307589581, 90.3584307589581, 90.3584307589581, 90.3584307589581, 90.3584307589581, 90.3584307589581, 90.3584307589581, 90.3584307589581, 90.3584307589581, 90.3584307589581, 90.3584307589581, 90.3584307589581, 90.3584307589581, 90.3584307589581, 90.3584307589581, 90.3584307589581, 90.3584307589581, 90.3584307589581, 90.3584307589581, 90.3584307589581, 90.3584307589581, 90.3584307589581, 90.3584307589581, 90.3584307589581, 90.3584307589581, 90.3584307589581, 90.3584307589581, 90.3584307589581, 90.3584307589581, 90.3584307589581, 90.3584307589581, 90.3584307589581, 90.3584307589581, 90.3584307589581, 90.3584307589581, 90.3584307589581, 90.3584307589581, 90.3584307589581, 90.3584307589581, 90.3584307589581, 90.3584307589581, 90.3584307589581, 90.3584307589581, 90.3584307589581, 90.3584307589581, 90.3584307589581, 90.3584307589581, 90.3584307589581, 90.3584307589581, 90.3584307589581, 90.3584307589581, 90.3584307589581, 90.3584307589581, 90.3584307589581, 90.3584307589581, 90.3584307589581, 90.3584307589581, 90.3584307589581, 90.3584307589581, 90.3584307589581, 90.3584307589581, 90.3584307589581, 90.3584307589581, 90.3584307589581, 90.3584307589581, 90.3584307589581, 90.3584307589581, 90.3584307589581, 90.3584307589581, 90.3584307589581, 90.3584307589581, 90.3584307589581, 90.3584307589581, 90.3584307589581, 90.3584307589581, 90.3584307589581, 90.3584307589581, 90.3584307589581, 90.3584307589581, 90.3584307589581, 228.58432872787307, 228.58432872787307, 228.58432872787307, 228.58432872787307, 228.58432872787307, 228.58432872787307, 228.58432872787307, 228.58432872787307, 228.58432872787307, 228.58432872787307, 228.58432872787307, 228.58432872787307, 228.58432872787307, 228.58432872787307, 228.58432872787307, 228.58432872787307, 228.58432872787307, 228.58432872787307, 228.58432872787307, 228.58432872787307, 228.58432872787307, 228.58432872787307, 228.58432872787307, 228.58432872787307, 228.58432872787307, 228.58432872787307, 228.58432872787307, 228.58432872787307, 228.58432872787307, 228.58432872787307, 228.58432872787307, 228.58432872787307, 228.58432872787307, 228.58432872787307, 228.58432872787307, 228.58432872787307, 228.58432872787307, 228.58432872787307, 228.58432872787307, 228.58432872787307, 228.58432872787307, 228.58432872787307, 228.58432872787307, 228.58432872787307, 228.58432872787307, 228.58432872787307, 228.58432872787307, 228.58432872787307, 228.58432872787307, 228.58432872787307, 228.58432872787307, 228.58432872787307, 228.58432872787307, 228.58432872787307, 228.58432872787307, 228.58432872787307, 228.58432872787307, 228.58432872787307, 228.58432872787307, 228.58432872787307, 228.58432872787307, 228.58432872787307, 228.58432872787307, 228.58432872787307, 228.58432872787307, 228.58432872787307, 228.58432872787307, 228.58432872787307, 228.58432872787307, 228.58432872787307, 228.58432872787307, 228.58432872787307, 228.58432872787307, 228.58432872787307, 228.58432872787307, 228.58432872787307, 228.58432872787307, 228.58432872787307, 228.58432872787307, 228.58432872787307, 228.58432872787307, 228.58432872787307, 228.58432872787307, 228.58432872787307, 228.58432872787307, 228.58432872787307, 228.58432872787307, 228.58432872787307, 228.58432872787307, 228.58432872787307, 228.58432872787307, 228.58432872787307, 228.58432872787307, 228.58432872787307, 228.58432872787307, 228.58432872787307, 228.58432872787307, 228.58432872787307, 228.58432872787307, 228.58432872787307, 228.58432872787307, 228.58432872787307, 228.58432872787307, 228.58432872787307, 228.58432872787307, 228.58432872787307, 228.58432872787307, 228.58432872787307, 228.58432872787307, 228.58432872787307, 228.58432872787307, 228.58432872787307, 228.58432872787307, 228.58432872787307, 228.58432872787307, 228.58432872787307, 228.58432872787307, 228.58432872787307, 228.58432872787307, 228.58432872787307, 228.58432872787307, 228.58432872787307, 228.58432872787307, 228.58432872787307, 228.58432872787307, 228.58432872787307, 228.58432872787307, 228.58432872787307, 228.58432872787307, 228.58432872787307, 228.58432872787307, 228.58432872787307, 228.58432872787307, 228.58432872787307, 228.58432872787307, 228.58432872787307, 228.58432872787307, 228.58432872787307, 228.58432872787307, 228.58432872787307, 228.58432872787307, 228.58432872787307, 228.58432872787307, 228.58432872787307, 228.58432872787307, 228.58432872787307, 228.58432872787307, 228.58432872787307, 228.58432872787307, 228.58432872787307, 228.58432872787307, 228.58432872787307, 228.58432872787307, 228.58432872787307, 228.58432872787307, 228.58432872787307, 228.58432872787307, 228.58432872787307, 228.58432872787307, 228.58432872787307, 228.58432872787307, 228.58432872787307, 228.58432872787307, 228.58432872787307, 228.58432872787307, 228.58432872787307, 228.58432872787307, 228.58432872787307, 228.58432872787307, 228.58432872787307, 228.58432872787307, 228.58432872787307, 228.58432872787307, 228.58432872787307, 228.58432872787307, 228.58432872787307, 228.58432872787307, 228.58432872787307, 228.58432872787307, 228.58432872787307, 228.58432872787307, 320.73492737381457, 320.73492737381457, 320.73492737381457, 320.73492737381457, 320.73492737381457, 320.73492737381457, 320.73492737381457, 320.73492737381457, 320.73492737381457, 320.73492737381457, 320.73492737381457, 320.73492737381457, 320.73492737381457, 320.73492737381457, 320.73492737381457, 320.73492737381457, 320.73492737381457, 320.73492737381457, 320.73492737381457, 320.73492737381457, 320.73492737381457, 320.73492737381457, 320.73492737381457, 320.73492737381457, 320.73492737381457, 320.73492737381457, 320.73492737381457, 320.73492737381457, 320.73492737381457, 320.73492737381457, 320.73492737381457, 320.73492737381457, 320.73492737381457, 320.73492737381457, 320.73492737381457, 320.73492737381457, 320.73492737381457, 320.73492737381457, 320.73492737381457, 320.73492737381457, 320.73492737381457, 320.73492737381457, 320.73492737381457, 320.73492737381457, 320.73492737381457, 320.73492737381457, 320.73492737381457, 320.73492737381457, 320.73492737381457, 320.73492737381457, 320.73492737381457, 320.73492737381457, 320.73492737381457, 320.73492737381457, 320.73492737381457, 320.73492737381457, 320.73492737381457, 320.73492737381457, 320.73492737381457, 320.73492737381457, 320.73492737381457, 320.73492737381457, 320.73492737381457, 320.73492737381457, 320.73492737381457, 320.73492737381457, 320.73492737381457, 320.73492737381457, 320.73492737381457, 320.73492737381457, 320.73492737381457, 320.73492737381457, 320.73492737381457, 320.73492737381457, 320.73492737381457, 320.73492737381457, 320.73492737381457, 320.73492737381457, 320.73492737381457, 320.73492737381457, 320.73492737381457, 320.73492737381457, 320.73492737381457, 320.73492737381457, 320.73492737381457, 320.73492737381457, 320.73492737381457, 320.73492737381457, 320.73492737381457, 320.73492737381457, 320.73492737381457, 320.73492737381457, 320.73492737381457, 320.73492737381457, 320.73492737381457, 320.73492737381457, 320.73492737381457, 320.73492737381457, 320.73492737381457, 320.73492737381457, 320.73492737381457, 320.73492737381457, 320.73492737381457, 320.73492737381457, 320.73492737381457, 320.73492737381457, 320.73492737381457, 320.73492737381457, 320.73492737381457, 320.73492737381457, 320.73492737381457, 320.73492737381457, 320.73492737381457, 320.73492737381457, 320.73492737381457, 320.73492737381457, 320.73492737381457, 320.73492737381457, 320.73492737381457, 320.73492737381457, 320.73492737381457, 320.73492737381457, 320.73492737381457, 320.73492737381457, 320.73492737381457, 320.73492737381457, 320.73492737381457, 320.73492737381457, 320.73492737381457, 320.73492737381457, 320.73492737381457, 320.73492737381457, 320.73492737381457, 320.73492737381457, 320.73492737381457, 320.73492737381457, 320.73492737381457, 320.73492737381457, 320.73492737381457, 320.73492737381457, 320.73492737381457, 320.73492737381457, 320.73492737381457, 320.73492737381457, 320.73492737381457, 320.73492737381457, 320.73492737381457, 320.73492737381457, 320.73492737381457, 320.73492737381457, 320.73492737381457, 320.73492737381457, 320.73492737381457, 320.73492737381457, 320.73492737381457, 320.73492737381457, 320.73492737381457, 320.73492737381457, 320.73492737381457, 320.73492737381457, 320.73492737381457, 320.73492737381457, 320.73492737381457, 320.73492737381457, 320.73492737381457, 320.73492737381457, 320.73492737381457, 320.73492737381457, 320.73492737381457, 320.73492737381457, 320.73492737381457, 320.73492737381457, 320.73492737381457, 320.73492737381457, 320.73492737381457, 320.73492737381457, 320.73492737381457, 320.73492737381457, 320.73492737381457, 320.73492737381457, 320.73492737381457, 320.73492737381457, 320.73492737381457, 320.73492737381457, 320.73492737381457, 320.73492737381457, 320.73492737381457, 320.73492737381457, 320.73492737381457, 320.73492737381457, 320.73492737381457, 320.73492737381457, 320.73492737381457, 320.73492737381457, 320.73492737381457, 320.73492737381457, 320.73492737381457, 320.73492737381457, 320.73492737381457, 320.73492737381457, 320.73492737381457, 320.73492737381457, 320.73492737381457, 320.73492737381457, 320.73492737381457, 320.73492737381457, 320.73492737381457, 320.73492737381457, 320.73492737381457, 320.73492737381457, 320.73492737381457, 320.73492737381457, 320.73492737381457, 320.73492737381457, 320.73492737381457, 320.73492737381457, 320.73492737381457, 320.73492737381457, 320.73492737381457, 320.73492737381457, 320.73492737381457, 320.73492737381457, 320.73492737381457, 320.73492737381457, 320.73492737381457, 320.73492737381457, 320.73492737381457, 320.73492737381457, 320.73492737381457, 320.73492737381457, 320.73492737381457, 320.73492737381457, 320.73492737381457, 320.73492737381457, 320.73492737381457, 320.73492737381457, 320.73492737381457, 320.73492737381457, 320.73492737381457, 320.73492737381457, 320.73492737381457, 320.73492737381457, 320.73492737381457, 320.73492737381457, 320.73492737381457, 320.73492737381457, 320.73492737381457, 320.73492737381457, 320.73492737381457, 320.73492737381457, 320.73492737381457, 320.73492737381457, 320.73492737381457, 320.73492737381457, 320.73492737381457, 320.73492737381457, 320.73492737381457, 320.73492737381457, 320.73492737381457, 320.73492737381457, 320.73492737381457, 320.73492737381457, 320.73492737381457, 320.73492737381457, 320.73492737381457, 320.73492737381457, 320.73492737381457, 320.73492737381457, 320.73492737381457, 320.73492737381457, 320.73492737381457, 320.73492737381457, 320.73492737381457, 320.73492737381457, 320.73492737381457, 320.73492737381457, 320.73492737381457, 320.73492737381457, 320.73492737381457, 320.73492737381457, 320.73492737381457, 320.73492737381457, 366.81022669678714, 458.96082534272864, 458.96082534272864, 458.96082534272864, 458.96082534272864, 458.96082534272864, 458.96082534272864, 458.96082534272864, 458.96082534272864, 458.96082534272864, 458.96082534272864, 458.96082534272864, 458.96082534272864, 458.96082534272864, 458.96082534272864, 458.96082534272864, 458.96082534272864, 458.96082534272864, 458.96082534272864, 458.96082534272864, 458.96082534272864, 458.96082534272864, 458.96082534272864, 458.96082534272864, 458.96082534272864, 458.96082534272864, 458.96082534272864, 458.96082534272864, 458.96082534272864, 458.96082534272864, 458.96082534272864, 458.96082534272864, 458.96082534272864, 458.96082534272864, 458.96082534272864, 458.96082534272864, 458.96082534272864, 458.96082534272864, 458.96082534272864, 458.96082534272864, 458.96082534272864, 458.96082534272864, 458.96082534272864, 458.96082534272864, 458.96082534272864, 458.96082534272864, 458.96082534272864, 458.96082534272864, 458.96082534272864, 458.96082534272864, 458.96082534272864, 458.96082534272864, 458.96082534272864, 458.96082534272864, 458.96082534272864, 458.96082534272864, 458.96082534272864, 458.96082534272864, 458.96082534272864, 458.96082534272864, 458.96082534272864, 458.96082534272864, 458.96082534272864, 458.96082534272864, 458.96082534272864, 458.96082534272864, 458.96082534272864, 458.96082534272864, 458.96082534272864, 458.96082534272864, 458.96082534272864, 458.96082534272864, 458.96082534272864, 458.96082534272864, 458.96082534272864, 458.96082534272864, 458.96082534272864, 458.96082534272864, 458.96082534272864, 458.96082534272864, 458.96082534272864, 458.96082534272864, 458.96082534272864, 458.96082534272864, 458.96082534272864, 458.96082534272864, 458.96082534272864, 458.96082534272864, 458.96082534272864, 458.96082534272864, 458.96082534272864, 458.96082534272864, 458.96082534272864, 458.96082534272864, 458.96082534272864, 458.96082534272864, 458.96082534272864, 458.96082534272864, 458.96082534272864, 458.96082534272864, 458.96082534272864, 458.96082534272864, 458.96082534272864, 458.96082534272864, 458.96082534272864, 458.96082534272864, 458.96082534272864, 458.96082534272864, 458.96082534272864, 458.96082534272864, 458.96082534272864, 458.96082534272864, 458.96082534272864, 458.96082534272864, 458.96082534272864, 458.96082534272864, 458.96082534272864, 458.96082534272864, 458.96082534272864, 458.96082534272864, 458.96082534272864, 458.96082534272864, 458.96082534272864, 458.96082534272864, 458.96082534272864, 458.96082534272864, 458.96082534272864, 458.96082534272864, 458.96082534272864, 458.96082534272864, 458.96082534272864, 458.96082534272864, 458.96082534272864, 458.96082534272864, 458.96082534272864, 458.96082534272864, 458.96082534272864, 458.96082534272864, 458.96082534272864, 458.96082534272864, 458.96082534272864, 458.96082534272864, 458.96082534272864, 458.96082534272864, 458.96082534272864, 458.96082534272864, 458.96082534272864, 458.96082534272864, 458.96082534272864, 458.96082534272864, 458.96082534272864, 458.96082534272864, 458.96082534272864, 458.96082534272864, 458.96082534272864, 458.96082534272864, 458.96082534272864, 458.96082534272864, 458.96082534272864, 458.96082534272864, 458.96082534272864, 458.96082534272864, 458.96082534272864, 458.96082534272864, 458.96082534272864, 458.96082534272864, 458.96082534272864, 458.96082534272864, 458.96082534272864, 458.96082534272864, 458.96082534272864, 458.96082534272864, 458.96082534272864, 458.96082534272864, 458.96082534272864, 458.96082534272864, 458.96082534272864, 458.96082534272864, 458.96082534272864, 458.96082534272864, 458.96082534272864, 458.96082534272864, 458.96082534272864, 458.96082534272864, 458.96082534272864, 458.96082534272864, 458.96082534272864, 458.96082534272864, 458.96082534272864, 458.96082534272864, 458.96082534272864, 458.96082534272864, 458.96082534272864, 458.96082534272864, 458.96082534272864, 458.96082534272864, 458.96082534272864, 458.96082534272864, 458.96082534272864, 458.96082534272864, 458.96082534272864, 458.96082534272864, 458.96082534272864, 458.96082534272864, 458.96082534272864, 458.96082534272864, 458.96082534272864, 458.96082534272864, 458.96082534272864, 458.96082534272864, 458.96082534272864, 458.96082534272864, 458.96082534272864, 458.96082534272864, 458.96082534272864, 458.96082534272864, 458.96082534272864, 458.96082534272864, 458.96082534272864, 458.96082534272864, 458.96082534272864, 458.96082534272864, 458.96082534272864, 458.96082534272864, 458.96082534272864, 458.96082534272864, 458.96082534272864, 458.96082534272864, 458.96082534272864, 458.96082534272864, 458.96082534272864, 458.96082534272864, 458.96082534272864, 458.96082534272864, 458.96082534272864, 458.96082534272864, 458.96082534272864, 458.96082534272864, 458.96082534272864, 458.96082534272864, 458.96082534272864, 458.96082534272864, 458.96082534272864, 458.96082534272864, 458.96082534272864, 458.96082534272864, 458.96082534272864, 458.96082534272864, 458.96082534272864, 458.96082534272864, 458.96082534272864, 458.96082534272864, 458.96082534272864, 458.96082534272864, 458.96082534272864, 458.96082534272864, 458.96082534272864, 458.96082534272864, 458.96082534272864, 458.96082534272864, 458.96082534272864, 458.96082534272864, 458.96082534272864, 458.96082534272864, 458.96082534272864, 458.96082534272864, 458.96082534272864, 458.96082534272864, 458.96082534272864, 458.96082534272864, 458.96082534272864, 458.96082534272864, 458.96082534272864, 551.111423988672, 551.111423988672, 551.111423988672, 551.111423988672, 551.111423988672, 551.111423988672, 551.111423988672, 551.111423988672, 551.111423988672, 551.111423988672, 551.111423988672, 551.111423988672, 551.111423988672, 551.111423988672, 551.111423988672, 551.111423988672, 551.111423988672, 551.111423988672, 551.111423988672, 551.111423988672, 551.111423988672, 551.111423988672, 551.111423988672, 551.111423988672, 551.111423988672, 551.111423988672, 551.111423988672, 551.111423988672, 551.111423988672, 551.111423988672, 551.111423988672, 551.111423988672, 551.111423988672, 551.111423988672, 551.111423988672, 551.111423988672, 551.111423988672, 551.111423988672, 551.111423988672, 551.111423988672, 551.111423988672, 551.111423988672, 551.111423988672, 551.111423988672, 551.111423988672, 551.111423988672, 551.111423988672, 551.111423988672, 551.111423988672, 551.111423988672, 551.111423988672, 551.111423988672, 551.111423988672, 551.111423988672, 551.111423988672, 551.111423988672, 551.111423988672, 551.111423988672, 551.111423988672, 551.111423988672, 551.111423988672, 551.111423988672, 551.111423988672, 551.111423988672, 551.111423988672, 551.111423988672, 551.111423988672, 551.111423988672, 551.111423988672, 551.111423988672, 551.111423988672, 551.111423988672, 551.111423988672, 551.111423988672, 551.111423988672, 551.111423988672, 551.111423988672, 551.111423988672, 551.111423988672, 551.111423988672, 551.111423988672, 551.111423988672, 551.111423988672, 551.111423988672, 551.111423988672, 551.111423988672, 551.111423988672, 551.111423988672, 551.111423988672, 551.111423988672, 551.111423988672, 551.111423988672, 551.111423988672, 551.111423988672, 551.111423988672, 551.111423988672, 551.111423988672, 551.111423988672, 551.111423988672, 551.111423988672, 551.111423988672, 551.111423988672, 551.111423988672, 551.111423988672, 551.111423988672, 551.111423988672, 551.111423988672, 551.111423988672, 551.111423988672, 551.111423988672, 551.111423988672, 551.111423988672, 551.111423988672, 551.111423988672, 551.111423988672, 551.111423988672, 551.111423988672, 551.111423988672, 551.111423988672, 551.111423988672, 551.111423988672, 551.111423988672, 551.111423988672, 551.111423988672, 551.111423988672, 551.111423988672, 551.111423988672, 551.111423988672, 551.111423988672, 551.111423988672, 551.111423988672, 551.111423988672, 551.111423988672, 551.111423988672, 551.111423988672, 551.111423988672, 551.111423988672, 551.111423988672, 551.111423988672, 551.111423988672, 551.111423988672, 551.111423988672, 551.111423988672, 551.111423988672, 551.111423988672, 551.111423988672, 551.111423988672, 551.111423988672, 551.111423988672, 551.111423988672, 551.111423988672, 551.111423988672, 551.111423988672, 551.111423988672, 551.111423988672, 551.111423988672, 551.111423988672, 551.111423988672, 551.111423988672, 551.111423988672, 551.111423988672, 551.111423988672, 551.111423988672, 551.111423988672, 551.111423988672, 551.111423988672, 551.111423988672, 551.111423988672, 551.111423988672, 551.111423988672, 551.111423988672, 551.111423988672, 551.111423988672, 551.111423988672, 551.111423988672, 551.111423988672, 551.111423988672, 551.111423988672, 551.111423988672, 551.111423988672, 551.111423988672, 551.111423988672, 551.111423988672, 551.111423988672, 551.111423988672, 551.111423988672, 551.111423988672, 551.111423988672, 551.111423988672, 551.111423988672, 551.111423988672, 551.111423988672, 551.111423988672, 551.111423988672, 551.111423988672, 551.111423988672, 551.111423988672, 551.111423988672, 551.111423988672, 551.111423988672, 551.111423988672, 551.111423988672, 551.111423988672, 551.111423988672, 551.111423988672, 551.111423988672, 551.111423988672, 551.111423988672, 551.111423988672, 551.111423988672, 551.111423988672, 551.111423988672, 551.111423988672, 551.111423988672, 551.111423988672, 551.111423988672, 551.111423988672, 551.111423988672, 551.111423988672, 551.111423988672, 551.111423988672, 551.111423988672, 551.111423988672, 551.111423988672, 551.111423988672, 551.111423988672, 551.111423988672, 551.111423988672, 551.111423988672, 551.111423988672, 551.111423988672, 551.111423988672, 551.111423988672, 551.111423988672, 551.111423988672, 551.111423988672, 551.111423988672, 551.111423988672, 551.111423988672, 551.111423988672, 551.111423988672, 551.111423988672, 551.111423988672, 551.111423988672, 551.111423988672, 551.111423988672, 551.111423988672, 551.111423988672, 551.111423988672, 551.111423988672, 551.111423988672, 551.111423988672, 551.111423988672, 551.111423988672, 551.111423988672, 551.111423988672, 551.111423988672, 551.111423988672, 551.111423988672, 551.111423988672, 551.111423988672, 551.111423988672, 551.111423988672, 551.111423988672, 551.111423988672, 551.111423988672, 551.111423988672, 551.111423988672, 551.111423988672, 551.111423988672, 551.111423988672, 551.111423988672, 551.111423988672, 551.111423988672, 551.111423988672, 551.111423988672, 551.111423988672, 551.111423988672, 551.111423988672, 551.111423988672, 551.111423988672, 689.337321957586, 689.337321957586, 689.337321957586, 689.337321957586, 689.337321957586, 689.337321957586, 689.337321957586, 689.337321957586, 689.337321957586, 689.337321957586, 689.337321957586, 689.337321957586, 689.337321957586, 689.337321957586, 689.337321957586, 689.337321957586, 689.337321957586, 689.337321957586, 689.337321957586, 689.337321957586, 689.337321957586, 689.337321957586, 689.337321957586, 689.337321957586, 689.337321957586, 689.337321957586, 689.337321957586, 689.337321957586, 689.337321957586, 689.337321957586, 689.337321957586, 689.337321957586, 689.337321957586, 689.337321957586, 689.337321957586, 689.337321957586, 689.337321957586, 689.337321957586, 689.337321957586, 689.337321957586, 689.337321957586, 689.337321957586, 689.337321957586, 689.337321957586, 689.337321957586, 689.337321957586, 689.337321957586, 689.337321957586, 689.337321957586, 689.337321957586, 689.337321957586, 689.337321957586, 689.337321957586, 689.337321957586, 689.337321957586, 689.337321957586, 689.337321957586, 689.337321957586, 689.337321957586, 689.337321957586, 689.337321957586, 689.337321957586, 689.337321957586, 689.337321957586, 689.337321957586, 689.337321957586, 689.337321957586, 689.337321957586, 689.337321957586, 689.337321957586, 689.337321957586, 689.337321957586, 689.337321957586, 689.337321957586, 689.337321957586, 689.337321957586, 689.337321957586, 689.337321957586, 689.337321957586, 689.337321957586, 689.337321957586, 689.337321957586, 689.337321957586, 689.337321957586, 689.337321957586, 689.337321957586, 689.337321957586, 689.337321957586, 689.337321957586, 689.337321957586, 689.337321957586, 689.337321957586, 689.337321957586, 689.337321957586, 689.337321957586, 689.337321957586, 689.337321957586, 689.337321957586, 689.337321957586, 689.337321957586, 689.337321957586, 689.337321957586, 689.337321957586, 689.337321957586, 689.337321957586, 689.337321957586, 689.337321957586, 689.337321957586, 689.337321957586, 689.337321957586, 689.337321957586, 689.337321957586, 689.337321957586, 689.337321957586, 689.337321957586, 689.337321957586, 689.337321957586, 689.337321957586, 689.337321957586, 689.337321957586, 689.337321957586, 689.337321957586, 689.337321957586, 689.337321957586, 689.337321957586, 689.337321957586, 689.337321957586, 689.337321957586, 689.337321957586, 689.337321957586, 689.337321957586, 689.337321957586, 689.337321957586, 689.337321957586, 689.337321957586, 689.337321957586, 689.337321957586, 689.337321957586, 689.337321957586, 689.337321957586, 689.337321957586, 689.337321957586, 689.337321957586, 689.337321957586, 689.337321957586, 689.337321957586, 689.337321957586, 689.337321957586, 689.337321957586, 689.337321957586, 689.337321957586, 689.337321957586, 689.337321957586, 689.337321957586, 689.337321957586, 689.337321957586, 689.337321957586, 689.337321957586, 689.337321957586, 689.337321957586, 689.337321957586, 689.337321957586, 689.337321957586, 689.337321957586, 689.337321957586, 689.337321957586, 689.337321957586, 689.337321957586, 689.337321957586, 689.337321957586, 689.337321957586, 689.337321957586, 689.337321957586, 689.337321957586, 689.337321957586, 689.337321957586, 689.337321957586, 689.337321957586, 689.337321957586, 689.337321957586, 689.337321957586, 689.337321957586, 689.337321957586, 689.337321957586, 689.337321957586, 689.337321957586, 689.337321957586, 689.337321957586, 689.337321957586, 689.337321957586, 689.337321957586, 689.337321957586, 689.337321957586, 689.337321957586, 689.337321957586, 689.337321957586, 689.337321957586, 689.337321957586, 689.337321957586, 689.337321957586, 689.337321957586, 689.337321957586, 689.337321957586, 689.337321957586, 689.337321957586, 689.337321957586, 689.337321957586, 689.337321957586, 689.337321957586, 689.337321957586, 689.337321957586, 689.337321957586, 689.337321957586, 689.337321957586, 689.337321957586, 689.337321957586, 689.337321957586, 689.337321957586, 689.337321957586, 689.337321957586, 689.337321957586, 689.337321957586, 689.337321957586, 689.337321957586, 689.337321957586, 689.337321957586, 689.337321957586, 689.337321957586, 689.337321957586, 689.337321957586, 689.337321957586, 689.337321957586, 689.337321957586, 689.337321957586, 689.337321957586, 689.337321957586, 689.337321957586, 689.337321957586, 689.337321957586, 689.337321957586, 689.337321957586, 689.337321957586, 781.4879206035293, 781.4879206035293, 781.4879206035293, 781.4879206035293, 781.4879206035293, 781.4879206035293, 781.4879206035293, 781.4879206035293, 781.4879206035293, 781.4879206035293, 781.4879206035293, 781.4879206035293, 781.4879206035293, 781.4879206035293, 781.4879206035293, 781.4879206035293, 781.4879206035293, 781.4879206035293, 781.4879206035293, 781.4879206035293, 781.4879206035293, 781.4879206035293, 781.4879206035293, 781.4879206035293, 781.4879206035293, 781.4879206035293, 781.4879206035293, 781.4879206035293, 781.4879206035293, 781.4879206035293, 781.4879206035293, 781.4879206035293, 781.4879206035293, 781.4879206035293, 781.4879206035293, 781.4879206035293, 781.4879206035293, 781.4879206035293, 781.4879206035293, 781.4879206035293, 781.4879206035293, 781.4879206035293, 781.4879206035293, 781.4879206035293, 781.4879206035293, 781.4879206035293, 781.4879206035293, 781.4879206035293, 781.4879206035293, 781.4879206035293, 781.4879206035293, 781.4879206035293, 781.4879206035293, 781.4879206035293, 781.4879206035293, 781.4879206035293, 781.4879206035293, 781.4879206035293, 781.4879206035293, 781.4879206035293, 781.4879206035293, 781.4879206035293, 781.4879206035293, 781.4879206035293, 781.4879206035293, 781.4879206035293, 781.4879206035293, 781.4879206035293, 781.4879206035293, 781.4879206035293, 781.4879206035293, 781.4879206035293, 781.4879206035293, 781.4879206035293, 781.4879206035293, 781.4879206035293, 781.4879206035293, 781.4879206035293, 781.4879206035293, 781.4879206035293, 781.4879206035293, 781.4879206035293, 781.4879206035293, 781.4879206035293, 781.4879206035293, 781.4879206035293, 781.4879206035293, 781.4879206035293, 781.4879206035293, 781.4879206035293, 781.4879206035293, 781.4879206035293, 781.4879206035293, 781.4879206035293, 781.4879206035293, 781.4879206035293, 781.4879206035293, 781.4879206035293, 781.4879206035293, 781.4879206035293, 781.4879206035293, 781.4879206035293, 781.4879206035293, 781.4879206035293, 781.4879206035293, 781.4879206035293, 781.4879206035293, 781.4879206035293, 781.4879206035293, 781.4879206035293, 781.4879206035293, 781.4879206035293, 781.4879206035293, 781.4879206035293, 781.4879206035293, 781.4879206035293, 781.4879206035293, 781.4879206035293, 781.4879206035293, 781.4879206035293, 781.4879206035293, 781.4879206035293, 781.4879206035293, 781.4879206035293, 781.4879206035293, 781.4879206035293, 781.4879206035293, 781.4879206035293, 781.4879206035293, 781.4879206035293, 781.4879206035293, 781.4879206035293, 781.4879206035293, 781.4879206035293, 781.4879206035293, 781.4879206035293, 781.4879206035293, 781.4879206035293, 781.4879206035293, 781.4879206035293, 781.4879206035293, 781.4879206035293, 781.4879206035293, 781.4879206035293, 781.4879206035293, 781.4879206035293, 781.4879206035293, 781.4879206035293, 781.4879206035293, 781.4879206035293, 781.4879206035293, 781.4879206035293, 781.4879206035293, 781.4879206035293, 781.4879206035293, 781.4879206035293, 781.4879206035293, 781.4879206035293, 781.4879206035293, 781.4879206035293, 781.4879206035293, 781.4879206035293, 781.4879206035293, 781.4879206035293, 781.4879206035293, 781.4879206035293, 781.4879206035293, 781.4879206035293, 781.4879206035293, 781.4879206035293, 781.4879206035293, 781.4879206035293, 781.4879206035293, 781.4879206035293, 781.4879206035293, 781.4879206035293, 781.4879206035293, 781.4879206035293, 781.4879206035293, 781.4879206035293, 781.4879206035293, 827.5632199265001, 919.7138185724434, 919.7138185724434, 919.7138185724434, 919.7138185724434, 919.7138185724434, 919.7138185724434, 919.7138185724434, 919.7138185724434, 919.7138185724434, 919.7138185724434, 919.7138185724434, 919.7138185724434, 919.7138185724434, 919.7138185724434, 919.7138185724434, 919.7138185724434, 919.7138185724434, 919.7138185724434, 919.7138185724434, 919.7138185724434, 919.7138185724434, 919.7138185724434, 919.7138185724434, 919.7138185724434, 919.7138185724434, 919.7138185724434, 919.7138185724434, 919.7138185724434, 919.7138185724434, 919.7138185724434, 919.7138185724434, 919.7138185724434, 919.7138185724434, 919.7138185724434, 919.7138185724434, 919.7138185724434, 919.7138185724434, 919.7138185724434, 919.7138185724434, 919.7138185724434, 919.7138185724434, 919.7138185724434, 919.7138185724434, 919.7138185724434, 919.7138185724434, 919.7138185724434, 919.7138185724434, 919.7138185724434, 919.7138185724434, 919.7138185724434, 919.7138185724434, 919.7138185724434, 919.7138185724434, 919.7138185724434, 919.7138185724434, 919.7138185724434, 919.7138185724434, 919.7138185724434, 919.7138185724434, 919.7138185724434, 919.7138185724434, 919.7138185724434, 919.7138185724434, 919.7138185724434, 919.7138185724434, 919.7138185724434, 919.7138185724434, 919.7138185724434, 919.7138185724434, 919.7138185724434, 919.7138185724434, 919.7138185724434, 919.7138185724434, 919.7138185724434, 919.7138185724434, 919.7138185724434, 919.7138185724434, 919.7138185724434, 919.7138185724434, 919.7138185724434, 919.7138185724434, 919.7138185724434, 919.7138185724434, 919.7138185724434, 919.7138185724434, 919.7138185724434, 919.7138185724434, 919.7138185724434, 919.7138185724434, 919.7138185724434, 919.7138185724434, 919.7138185724434, 919.7138185724434, 919.7138185724434, 919.7138185724434, 919.7138185724434, 919.7138185724434, 919.7138185724434, 919.7138185724434, 919.7138185724434, 919.7138185724434, 919.7138185724434, 919.7138185724434, 919.7138185724434, 919.7138185724434, 919.7138185724434, 919.7138185724434, 919.7138185724434, 919.7138185724434, 919.7138185724434, 919.7138185724434, 919.7138185724434, 919.7138185724434, 919.7138185724434, 919.7138185724434, 965.7891178954142, 1057.9397165413575, 1057.9397165413575, 1057.9397165413575, 1057.9397165413575, 1057.9397165413575, 1057.9397165413575, 1057.9397165413575, 1057.9397165413575, 1057.9397165413575, 1057.9397165413575, 1057.9397165413575, 1057.9397165413575, 1057.9397165413575, 1057.9397165413575, 1057.9397165413575, 1057.9397165413575, 1057.9397165413575, 1057.9397165413575, 1057.9397165413575, 1057.9397165413575, 1057.9397165413575, 1057.9397165413575, 1057.9397165413575, 1057.9397165413575, 1057.9397165413575, 1057.9397165413575, 1057.9397165413575, 1057.9397165413575, 1057.9397165413575, 1057.9397165413575, 1057.9397165413575, 1057.9397165413575, 1057.9397165413575, 1057.9397165413575, 1057.9397165413575, 1057.9397165413575, 1057.9397165413575, 1057.9397165413575, 1057.9397165413575, 1057.9397165413575, 1057.9397165413575, 1057.9397165413575, 1057.9397165413575, 1057.9397165413575, 1057.9397165413575, 1057.9397165413575, 1057.9397165413575, 1150.090315187299, 1150.090315187299, 1150.090315187299, 1150.090315187299, 1150.090315187299, 1150.090315187299, 1150.090315187299, 1150.090315187299, 1150.090315187299, 1150.090315187299, 1150.090315187299, 1150.090315187299, 1150.090315187299, 1150.090315187299, 1288.316213156213, 1288.316213156213, 1288.316213156213, 1288.316213156213, 1288.316213156213, 1288.316213156213, 1288.316213156213, 1380.4668118021564, 1380.4668118021564, 1380.4668118021564, 1380.4668118021564, 1380.4668118021564, 1380.4668118021564, 1380.4668118021564, 1380.4668118021564, 1518.6927097710704, 1610.843308417012], \"yaxis\": \"y\"}],\n",
       "                        {\"legend\": {\"tracegroupgap\": 0}, \"margin\": {\"t\": 60}, \"template\": {\"data\": {\"bar\": [{\"error_x\": {\"color\": \"#2a3f5f\"}, \"error_y\": {\"color\": \"#2a3f5f\"}, \"marker\": {\"line\": {\"color\": \"#E5ECF6\", \"width\": 0.5}}, \"type\": \"bar\"}], \"barpolar\": [{\"marker\": {\"line\": {\"color\": \"#E5ECF6\", \"width\": 0.5}}, \"type\": \"barpolar\"}], \"carpet\": [{\"aaxis\": {\"endlinecolor\": \"#2a3f5f\", \"gridcolor\": \"white\", \"linecolor\": \"white\", \"minorgridcolor\": \"white\", \"startlinecolor\": \"#2a3f5f\"}, \"baxis\": {\"endlinecolor\": \"#2a3f5f\", \"gridcolor\": \"white\", \"linecolor\": \"white\", \"minorgridcolor\": \"white\", \"startlinecolor\": \"#2a3f5f\"}, \"type\": \"carpet\"}], \"choropleth\": [{\"colorbar\": {\"outlinewidth\": 0, \"ticks\": \"\"}, \"type\": \"choropleth\"}], \"contour\": [{\"colorbar\": {\"outlinewidth\": 0, \"ticks\": \"\"}, \"colorscale\": [[0.0, \"#0d0887\"], [0.1111111111111111, \"#46039f\"], [0.2222222222222222, \"#7201a8\"], [0.3333333333333333, \"#9c179e\"], [0.4444444444444444, \"#bd3786\"], [0.5555555555555556, \"#d8576b\"], [0.6666666666666666, \"#ed7953\"], [0.7777777777777778, \"#fb9f3a\"], [0.8888888888888888, \"#fdca26\"], [1.0, \"#f0f921\"]], \"type\": \"contour\"}], \"contourcarpet\": [{\"colorbar\": {\"outlinewidth\": 0, \"ticks\": \"\"}, \"type\": \"contourcarpet\"}], \"heatmap\": [{\"colorbar\": {\"outlinewidth\": 0, \"ticks\": \"\"}, \"colorscale\": [[0.0, \"#0d0887\"], [0.1111111111111111, \"#46039f\"], [0.2222222222222222, \"#7201a8\"], [0.3333333333333333, \"#9c179e\"], [0.4444444444444444, \"#bd3786\"], [0.5555555555555556, \"#d8576b\"], [0.6666666666666666, \"#ed7953\"], [0.7777777777777778, \"#fb9f3a\"], [0.8888888888888888, \"#fdca26\"], [1.0, \"#f0f921\"]], \"type\": \"heatmap\"}], \"heatmapgl\": [{\"colorbar\": {\"outlinewidth\": 0, \"ticks\": \"\"}, \"colorscale\": [[0.0, \"#0d0887\"], [0.1111111111111111, \"#46039f\"], [0.2222222222222222, \"#7201a8\"], [0.3333333333333333, \"#9c179e\"], [0.4444444444444444, \"#bd3786\"], [0.5555555555555556, \"#d8576b\"], [0.6666666666666666, \"#ed7953\"], [0.7777777777777778, \"#fb9f3a\"], [0.8888888888888888, \"#fdca26\"], [1.0, \"#f0f921\"]], \"type\": \"heatmapgl\"}], \"histogram\": [{\"marker\": {\"colorbar\": {\"outlinewidth\": 0, \"ticks\": \"\"}}, \"type\": \"histogram\"}], \"histogram2d\": [{\"colorbar\": {\"outlinewidth\": 0, \"ticks\": \"\"}, \"colorscale\": [[0.0, \"#0d0887\"], [0.1111111111111111, \"#46039f\"], [0.2222222222222222, \"#7201a8\"], [0.3333333333333333, \"#9c179e\"], [0.4444444444444444, \"#bd3786\"], [0.5555555555555556, \"#d8576b\"], [0.6666666666666666, \"#ed7953\"], [0.7777777777777778, \"#fb9f3a\"], [0.8888888888888888, \"#fdca26\"], [1.0, \"#f0f921\"]], \"type\": \"histogram2d\"}], \"histogram2dcontour\": [{\"colorbar\": {\"outlinewidth\": 0, \"ticks\": \"\"}, \"colorscale\": [[0.0, \"#0d0887\"], [0.1111111111111111, \"#46039f\"], [0.2222222222222222, \"#7201a8\"], [0.3333333333333333, \"#9c179e\"], [0.4444444444444444, \"#bd3786\"], [0.5555555555555556, \"#d8576b\"], [0.6666666666666666, \"#ed7953\"], [0.7777777777777778, \"#fb9f3a\"], [0.8888888888888888, \"#fdca26\"], [1.0, \"#f0f921\"]], \"type\": \"histogram2dcontour\"}], \"mesh3d\": [{\"colorbar\": {\"outlinewidth\": 0, \"ticks\": \"\"}, \"type\": \"mesh3d\"}], \"parcoords\": [{\"line\": {\"colorbar\": {\"outlinewidth\": 0, \"ticks\": \"\"}}, \"type\": \"parcoords\"}], \"pie\": [{\"automargin\": true, \"type\": \"pie\"}], \"scatter\": [{\"marker\": {\"colorbar\": {\"outlinewidth\": 0, \"ticks\": \"\"}}, \"type\": \"scatter\"}], \"scatter3d\": [{\"line\": {\"colorbar\": {\"outlinewidth\": 0, \"ticks\": \"\"}}, \"marker\": {\"colorbar\": {\"outlinewidth\": 0, \"ticks\": \"\"}}, \"type\": \"scatter3d\"}], \"scattercarpet\": [{\"marker\": {\"colorbar\": {\"outlinewidth\": 0, \"ticks\": \"\"}}, \"type\": \"scattercarpet\"}], \"scattergeo\": [{\"marker\": {\"colorbar\": {\"outlinewidth\": 0, \"ticks\": \"\"}}, \"type\": \"scattergeo\"}], \"scattergl\": [{\"marker\": {\"colorbar\": {\"outlinewidth\": 0, \"ticks\": \"\"}}, \"type\": \"scattergl\"}], \"scattermapbox\": [{\"marker\": {\"colorbar\": {\"outlinewidth\": 0, \"ticks\": \"\"}}, \"type\": \"scattermapbox\"}], \"scatterpolar\": [{\"marker\": {\"colorbar\": {\"outlinewidth\": 0, \"ticks\": \"\"}}, \"type\": \"scatterpolar\"}], \"scatterpolargl\": [{\"marker\": {\"colorbar\": {\"outlinewidth\": 0, \"ticks\": \"\"}}, \"type\": \"scatterpolargl\"}], \"scatterternary\": [{\"marker\": {\"colorbar\": {\"outlinewidth\": 0, \"ticks\": \"\"}}, \"type\": \"scatterternary\"}], \"surface\": [{\"colorbar\": {\"outlinewidth\": 0, \"ticks\": \"\"}, \"colorscale\": [[0.0, \"#0d0887\"], [0.1111111111111111, \"#46039f\"], [0.2222222222222222, \"#7201a8\"], [0.3333333333333333, \"#9c179e\"], [0.4444444444444444, \"#bd3786\"], [0.5555555555555556, \"#d8576b\"], [0.6666666666666666, \"#ed7953\"], [0.7777777777777778, \"#fb9f3a\"], [0.8888888888888888, \"#fdca26\"], [1.0, \"#f0f921\"]], \"type\": \"surface\"}], \"table\": [{\"cells\": {\"fill\": {\"color\": \"#EBF0F8\"}, \"line\": {\"color\": \"white\"}}, \"header\": {\"fill\": {\"color\": \"#C8D4E3\"}, \"line\": {\"color\": \"white\"}}, \"type\": \"table\"}]}, \"layout\": {\"annotationdefaults\": {\"arrowcolor\": \"#2a3f5f\", \"arrowhead\": 0, \"arrowwidth\": 1}, \"coloraxis\": {\"colorbar\": {\"outlinewidth\": 0, \"ticks\": \"\"}}, \"colorscale\": {\"diverging\": [[0, \"#8e0152\"], [0.1, \"#c51b7d\"], [0.2, \"#de77ae\"], [0.3, \"#f1b6da\"], [0.4, \"#fde0ef\"], [0.5, \"#f7f7f7\"], [0.6, \"#e6f5d0\"], [0.7, \"#b8e186\"], [0.8, \"#7fbc41\"], [0.9, \"#4d9221\"], [1, \"#276419\"]], \"sequential\": [[0.0, \"#0d0887\"], [0.1111111111111111, \"#46039f\"], [0.2222222222222222, \"#7201a8\"], [0.3333333333333333, \"#9c179e\"], [0.4444444444444444, \"#bd3786\"], [0.5555555555555556, \"#d8576b\"], [0.6666666666666666, \"#ed7953\"], [0.7777777777777778, \"#fb9f3a\"], [0.8888888888888888, \"#fdca26\"], [1.0, \"#f0f921\"]], \"sequentialminus\": [[0.0, \"#0d0887\"], [0.1111111111111111, \"#46039f\"], [0.2222222222222222, \"#7201a8\"], [0.3333333333333333, \"#9c179e\"], [0.4444444444444444, \"#bd3786\"], [0.5555555555555556, \"#d8576b\"], [0.6666666666666666, \"#ed7953\"], [0.7777777777777778, \"#fb9f3a\"], [0.8888888888888888, \"#fdca26\"], [1.0, \"#f0f921\"]]}, \"colorway\": [\"#636efa\", \"#EF553B\", \"#00cc96\", \"#ab63fa\", \"#FFA15A\", \"#19d3f3\", \"#FF6692\", \"#B6E880\", \"#FF97FF\", \"#FECB52\"], \"font\": {\"color\": \"#2a3f5f\"}, \"geo\": {\"bgcolor\": \"white\", \"lakecolor\": \"white\", \"landcolor\": \"#E5ECF6\", \"showlakes\": true, \"showland\": true, \"subunitcolor\": \"white\"}, \"hoverlabel\": {\"align\": \"left\"}, \"hovermode\": \"closest\", \"mapbox\": {\"style\": \"light\"}, \"paper_bgcolor\": \"white\", \"plot_bgcolor\": \"#E5ECF6\", \"polar\": {\"angularaxis\": {\"gridcolor\": \"white\", \"linecolor\": \"white\", \"ticks\": \"\"}, \"bgcolor\": \"#E5ECF6\", \"radialaxis\": {\"gridcolor\": \"white\", \"linecolor\": \"white\", \"ticks\": \"\"}}, \"scene\": {\"xaxis\": {\"backgroundcolor\": \"#E5ECF6\", \"gridcolor\": \"white\", \"gridwidth\": 2, \"linecolor\": \"white\", \"showbackground\": true, \"ticks\": \"\", \"zerolinecolor\": \"white\"}, \"yaxis\": {\"backgroundcolor\": \"#E5ECF6\", \"gridcolor\": \"white\", \"gridwidth\": 2, \"linecolor\": \"white\", \"showbackground\": true, \"ticks\": \"\", \"zerolinecolor\": \"white\"}, \"zaxis\": {\"backgroundcolor\": \"#E5ECF6\", \"gridcolor\": \"white\", \"gridwidth\": 2, \"linecolor\": \"white\", \"showbackground\": true, \"ticks\": \"\", \"zerolinecolor\": \"white\"}}, \"shapedefaults\": {\"line\": {\"color\": \"#2a3f5f\"}}, \"ternary\": {\"aaxis\": {\"gridcolor\": \"white\", \"linecolor\": \"white\", \"ticks\": \"\"}, \"baxis\": {\"gridcolor\": \"white\", \"linecolor\": \"white\", \"ticks\": \"\"}, \"bgcolor\": \"#E5ECF6\", \"caxis\": {\"gridcolor\": \"white\", \"linecolor\": \"white\", \"ticks\": \"\"}}, \"title\": {\"x\": 0.05}, \"xaxis\": {\"automargin\": true, \"gridcolor\": \"white\", \"linecolor\": \"white\", \"ticks\": \"\", \"title\": {\"standoff\": 15}, \"zerolinecolor\": \"white\", \"zerolinewidth\": 2}, \"yaxis\": {\"automargin\": true, \"gridcolor\": \"white\", \"linecolor\": \"white\", \"ticks\": \"\", \"title\": {\"standoff\": 15}, \"zerolinecolor\": \"white\", \"zerolinewidth\": 2}}}, \"xaxis\": {\"anchor\": \"y\", \"domain\": [0.0, 1.0], \"title\": {\"text\": \"player_ht\"}}, \"yaxis\": {\"anchor\": \"x\", \"domain\": [0.0, 1.0], \"title\": {\"text\": \"aces\"}}},\n",
       "                        {\"responsive\": true}\n",
       "                    ).then(function(){\n",
       "                            \n",
       "var gd = document.getElementById('b0730567-4e35-49e7-a0ab-8ff528e9c1ca');\n",
       "var x = new MutationObserver(function (mutations, observer) {{\n",
       "        var display = window.getComputedStyle(gd).display;\n",
       "        if (!display || display === 'none') {{\n",
       "            console.log([gd, 'removed!']);\n",
       "            Plotly.purge(gd);\n",
       "            observer.disconnect();\n",
       "        }}\n",
       "}});\n",
       "\n",
       "// Listen for the removal of the full notebook cells\n",
       "var notebookContainer = gd.closest('#notebook-container');\n",
       "if (notebookContainer) {{\n",
       "    x.observe(notebookContainer, {childList: true});\n",
       "}}\n",
       "\n",
       "// Listen for the clearing of the current output cell\n",
       "var outputEl = gd.closest('.output');\n",
       "if (outputEl) {{\n",
       "    x.observe(outputEl, {childList: true});\n",
       "}}\n",
       "\n",
       "                        })\n",
       "                };\n",
       "                });\n",
       "            </script>\n",
       "        </div>"
      ]
     },
     "metadata": {},
     "output_type": "display_data"
    }
   ],
   "source": [
    "import plotly.express as px\n",
    "\n",
    "\n",
    "\n",
    "fig = px.scatter(players_df,y='aces',x='player_ht',hover_data=['aces','player_name','player_ht'],trendline='ols',\n",
    "                trendline_color_override='red')\n",
    "fig.show()"
   ]
  },
  {
   "cell_type": "code",
   "execution_count": 46,
   "metadata": {},
   "outputs": [
    {
     "data": {
      "text/plain": [
       "Index(['tourney_id', 'tourney_name', 'surface', 'draw_size', 'tourney_level',\n",
       "       'tourney_date', 'match_num', 'winner_id', 'winner_seed', 'winner_entry',\n",
       "       'winner_name', 'winner_hand', 'winner_ht', 'winner_ioc', 'winner_age',\n",
       "       'loser_id', 'loser_seed', 'loser_entry', 'loser_name', 'loser_hand',\n",
       "       'loser_ht', 'loser_ioc', 'loser_age', 'score', 'best_of', 'round',\n",
       "       'minutes', 'w_ace', 'w_df', 'w_svpt', 'w_1stIn', 'w_1stWon', 'w_2ndWon',\n",
       "       'w_SvGms', 'w_bpSaved', 'w_bpFaced', 'l_ace', 'l_df', 'l_svpt',\n",
       "       'l_1stIn', 'l_1stWon', 'l_2ndWon', 'l_SvGms', 'l_bpSaved', 'l_bpFaced',\n",
       "       'winner_rank', 'winner_rank_points', 'loser_rank', 'loser_rank_points',\n",
       "       'Total_Aces', 'Match_Count'],\n",
       "      dtype='object')"
      ]
     },
     "execution_count": 46,
     "metadata": {},
     "output_type": "execute_result"
    }
   ],
   "source": [
    "master_match_df.columns"
   ]
  },
  {
   "cell_type": "code",
   "execution_count": 48,
   "metadata": {},
   "outputs": [],
   "source": [
    "surfaces=master_match_df.surface.unique().tolist()"
   ]
  },
  {
   "cell_type": "code",
   "execution_count": 51,
   "metadata": {},
   "outputs": [
    {
     "data": {
      "text/plain": [
       "['Grass', 'Clay', 'Carpet', 'Hard']"
      ]
     },
     "execution_count": 51,
     "metadata": {},
     "output_type": "execute_result"
    }
   ],
   "source": [
    "surfaces"
   ]
  },
  {
   "cell_type": "code",
   "execution_count": 189,
   "metadata": {},
   "outputs": [],
   "source": [
    "import numpy as np\n",
    "player_names=master_match_df.winner_name.unique().tolist()+master_match_df.loser_name.unique().tolist()\n",
    "player_names=np.unique(player_names)\n"
   ]
  },
  {
   "cell_type": "code",
   "execution_count": 190,
   "metadata": {},
   "outputs": [],
   "source": [
    "grass_win_record=np.zeros((len(player_names),))\n",
    "grass_loss_record=np.zeros((len(player_names),))"
   ]
  },
  {
   "cell_type": "code",
   "execution_count": 191,
   "metadata": {},
   "outputs": [],
   "source": [
    "clay_win_record=np.zeros((len(player_names),))\n",
    "clay_loss_record=np.zeros((len(player_names),))\n",
    "\n",
    "\n",
    "hard_win_record=np.zeros((len(player_names),))\n",
    "hard_loss_record=np.zeros((len(player_names),))"
   ]
  },
  {
   "cell_type": "code",
   "execution_count": 192,
   "metadata": {},
   "outputs": [],
   "source": [
    "overall_win_record=np.zeros((len(player_names),))\n",
    "overall_loss_record=np.zeros((len(player_names),))"
   ]
  },
  {
   "cell_type": "code",
   "execution_count": 193,
   "metadata": {},
   "outputs": [],
   "source": [
    "player_records={\n",
    "    'player_name':player_names\n",
    "    #,\n",
    "    #'overall_wins':overall_win_record,\n",
    "    #'overall_losses':overall_loss_record,\n",
    "    #'grass_wins':grass_win_record,\n",
    "    #'grass_losses':grass_loss_record,\n",
    "    #'clay_wins':clay_win_record,\n",
    "    #'clay_losses':clay_loss_record,\n",
    "    #'hard_wins':hard_win_record,\n",
    "    #'hard_losses':hard_loss_record\n",
    "    \n",
    "}\n",
    "\n",
    "\n",
    "player_records=pd.DataFrame.from_dict(player_records)"
   ]
  },
  {
   "cell_type": "code",
   "execution_count": 194,
   "metadata": {},
   "outputs": [],
   "source": [
    "surface_wins_df=master_match_df.groupby(['winner_name','surface'],as_index=False)['Match_Count'].sum()"
   ]
  },
  {
   "cell_type": "code",
   "execution_count": 195,
   "metadata": {},
   "outputs": [],
   "source": [
    "surface_losses_df=master_match_df.groupby(['loser_name','surface'],as_index=False)['Match_Count'].sum()"
   ]
  },
  {
   "cell_type": "code",
   "execution_count": 196,
   "metadata": {},
   "outputs": [],
   "source": [
    "overall_wins_df=master_match_df.groupby(['winner_name'],as_index=False)['Match_Count'].sum()"
   ]
  },
  {
   "cell_type": "code",
   "execution_count": 197,
   "metadata": {},
   "outputs": [],
   "source": [
    "overall_losses_df=master_match_df.groupby(['loser_name'],as_index=False)['Match_Count'].sum()"
   ]
  },
  {
   "cell_type": "code",
   "execution_count": 198,
   "metadata": {},
   "outputs": [],
   "source": [
    "grass_win_records=surface_wins_df[surface_wins_df.surface=='Grass']\n",
    "clay_win_records=surface_wins_df[surface_wins_df.surface=='Clay']\n",
    "hard_win_records=surface_wins_df[surface_wins_df.surface=='Hard']\n",
    "\n",
    "\n",
    "grass_loss_records=surface_losses_df[surface_losses_df.surface=='Grass']\n",
    "clay_loss_records=surface_losses_df[surface_losses_df.surface=='Clay']\n",
    "hard_loss_records=surface_losses_df[surface_losses_df.surface=='Hard']\n",
    "\n"
   ]
  },
  {
   "cell_type": "code",
   "execution_count": 199,
   "metadata": {},
   "outputs": [],
   "source": [
    "overall_wins_df=overall_wins_df.rename(\n",
    "columns={\n",
    "    \n",
    "    'winner_name':'player_name',\n",
    "    'Match_Count':'overall_wins'\n",
    "}\n",
    "\n",
    ")\n",
    "\n",
    "overall_losses_df=overall_losses_df.rename(\n",
    "columns={\n",
    "    \n",
    "    'loser_name':'player_name',\n",
    "    'Match_Count':'overall_losses'\n",
    "}\n",
    "\n",
    ")\n",
    "\n",
    "\n",
    "grass_win_records=grass_win_records.rename(\n",
    "\n",
    "columns={\n",
    "    \n",
    "    'winner_name':'player_name',\n",
    "    'Match_Count':'grass_wins'\n",
    "    \n",
    "}\n",
    "\n",
    ")\n",
    "\n",
    "\n",
    "grass_loss_records=grass_loss_records.rename(\n",
    "\n",
    "columns={\n",
    "    \n",
    "    'loser_name':'player_name',\n",
    "    'Match_Count':'grass_losses'\n",
    "    \n",
    "}\n",
    "\n",
    ")\n",
    "\n",
    "\n",
    "clay_win_records=clay_win_records.rename(\n",
    "\n",
    "columns={\n",
    "    \n",
    "    'winner_name':'player_name',\n",
    "    'Match_Count':'clay_wins'\n",
    "    \n",
    "}\n",
    "\n",
    ")\n",
    "\n",
    "\n",
    "clay_loss_records=clay_loss_records.rename(\n",
    "\n",
    "columns={\n",
    "    \n",
    "    'loser_name':'player_name',\n",
    "    'Match_Count':'clay_losses'\n",
    "    \n",
    "}\n",
    "\n",
    ")\n",
    "\n",
    "\n",
    "\n",
    "hard_win_records=hard_win_records.rename(\n",
    "\n",
    "columns={\n",
    "    \n",
    "    'winner_name':'player_name',\n",
    "    'Match_Count':'hard_wins'\n",
    "    \n",
    "}\n",
    "\n",
    ")\n",
    "\n",
    "\n",
    "\n",
    "hard_loss_records=hard_loss_records.rename(\n",
    "\n",
    "columns={\n",
    "    \n",
    "    'loser_name':'player_name',\n",
    "    'Match_Count':'hard_losses'\n",
    "    \n",
    "}\n",
    "\n",
    ")\n",
    "\n",
    "\n",
    "\n",
    "\n"
   ]
  },
  {
   "cell_type": "code",
   "execution_count": 201,
   "metadata": {},
   "outputs": [],
   "source": [
    "grass_win_records.drop(columns=['surface'],inplace=True)\n",
    "grass_loss_records.drop(columns=['surface'],inplace=True)\n",
    "hard_win_records.drop(columns=['surface'],inplace=True)\n",
    "hard_loss_records.drop(columns=['surface'],inplace=True)\n",
    "clay_win_records.drop(columns=['surface'],inplace=True)\n",
    "clay_loss_records.drop(columns=['surface'],inplace=True)"
   ]
  },
  {
   "cell_type": "code",
   "execution_count": 202,
   "metadata": {},
   "outputs": [],
   "source": [
    "player_records=player_records.merge(overall_wins_df,on='player_name',how='left')"
   ]
  },
  {
   "cell_type": "code",
   "execution_count": 203,
   "metadata": {},
   "outputs": [],
   "source": [
    "player_records=player_records.merge(overall_losses_df,on='player_name',how='left')\n",
    "player_records=player_records.merge(grass_win_records,on='player_name',how='left')\n",
    "player_records=player_records.merge(grass_loss_records,on='player_name',how='left')\n",
    "player_records=player_records.merge(clay_win_records,on='player_name',how='left')\n",
    "player_records=player_records.merge(clay_loss_records,on='player_name',how='left')\n",
    "player_records=player_records.merge(hard_win_records,on='player_name',how='left')\n",
    "player_records=player_records.merge(hard_loss_records,on='player_name',how='left')"
   ]
  },
  {
   "cell_type": "code",
   "execution_count": 207,
   "metadata": {},
   "outputs": [],
   "source": [
    "player_records['clay_win_index']=player_records['clay_wins']/(player_records['clay_wins']+player_records['clay_losses'])\n",
    "player_records['grass_win_index']=player_records['grass_wins']/(player_records['grass_wins']+player_records['grass_losses'])\n",
    "player_records['hard_win_index']=player_records['hard_wins']/(player_records['hard_wins']+player_records['hard_losses'])\n",
    "\n"
   ]
  },
  {
   "cell_type": "code",
   "execution_count": 212,
   "metadata": {},
   "outputs": [],
   "source": [
    "player_records=player_records.dropna()"
   ]
  },
  {
   "cell_type": "code",
   "execution_count": 221,
   "metadata": {},
   "outputs": [],
   "source": [
    "from sklearn.cluster import KMeans\n",
    "\n",
    "\n",
    "data= {'Clay_record': player_records.clay_win_index,\n",
    "       'Grass_record' :player_records.grass_win_index,\n",
    "       'Hard_record':player_records.hard_win_index}"
   ]
  },
  {
   "cell_type": "code",
   "execution_count": 224,
   "metadata": {},
   "outputs": [],
   "source": [
    "kmeans_df =  pd.DataFrame(data=data)\n",
    "\n",
    "kmeans = KMeans(n_clusters = 3, random_state = 0).fit(kmeans_df)\n",
    "kmeans_df['label'] = kmeans.labels_\n",
    "kmeans_df['player_name']=player_records.player_name"
   ]
  },
  {
   "cell_type": "code",
   "execution_count": 226,
   "metadata": {},
   "outputs": [
    {
     "data": {
      "application/vnd.plotly.v1+json": {
       "config": {
        "plotlyServerURL": "https://plot.ly"
       },
       "data": [
        {
         "customdata": [
          [
           0.583732057416268,
           0.5714285714285714,
           0.6513761467889908,
           0,
           "Aaron Krickstein"
          ],
          [
           0.25,
           0.25,
           0.4,
           1,
           "Abe Segal"
          ],
          [
           0.25,
           0.5903614457831325,
           0.46511627906976744,
           2,
           "Adrian Mannarino"
          ],
          [
           0.16666666666666666,
           0.25,
           0.2857142857142857,
           2,
           "Adrian Menendez Maceiras"
          ],
          [
           0.4666666666666667,
           0.2631578947368421,
           0.43636363636363634,
           1,
           "Adrian Voinea"
          ],
          [
           0.6928571428571428,
           0.5416666666666666,
           0.5180722891566265,
           0,
           "Adriano Panatta"
          ],
          [
           0.6,
           0.2857142857142857,
           0.4489795918367347,
           1,
           "Agustin Calleri"
          ],
          [
           0.5384615384615384,
           0.59375,
           0.5,
           0,
           "Aisam Ul Haq Qureshi"
          ],
          [
           0.4666666666666667,
           0.4,
           0.2727272727272727,
           1,
           "Aki Rahunen"
          ],
          [
           0.5,
           0.5,
           0.375,
           2,
           "Alan Fox"
          ],
          [
           0.6650485436893204,
           0.2222222222222222,
           0.49523809523809526,
           1,
           "Albert Costa"
          ],
          [
           0.5338345864661654,
           0.3157894736842105,
           0.3064516129032258,
           1,
           "Albert Montanes"
          ],
          [
           0.47388059701492535,
           0.21428571428571427,
           0.22448979591836735,
           1,
           "Albert Portas"
          ],
          [
           0.5401459854014599,
           0.3333333333333333,
           0.3764705882352941,
           1,
           "Albert Ramos"
          ],
          [
           0.5879396984924623,
           0.3333333333333333,
           0.4444444444444444,
           1,
           "Alberto Mancini"
          ],
          [
           0.5164473684210527,
           0.32,
           0.3464052287581699,
           1,
           "Alberto Martin"
          ],
          [
           0.42857142857142855,
           0.3902439024390244,
           0.39156626506024095,
           1,
           "Alejandro Falla"
          ],
          [
           0.2727272727272727,
           0.5416666666666666,
           0.5111111111111111,
           2,
           "Alejandro Olmedo"
          ],
          [
           0.2,
           0.2,
           0.17647058823529413,
           1,
           "Aleksandr Nedovyesov"
          ],
          [
           0.32608695652173914,
           0.3333333333333333,
           0.25,
           1,
           "Alessio Di Mauro"
          ],
          [
           0.3877551020408163,
           0.5142857142857142,
           0.45132743362831856,
           2,
           "Alex Antonitsch"
          ],
          [
           0.25,
           0.2571428571428571,
           0.125,
           1,
           "Alex Bogdanovic"
          ],
          [
           0.14285714285714285,
           0.44,
           0.41007194244604317,
           2,
           "Alex Bogomolov Jr"
          ],
          [
           0.40350877192982454,
           0.14285714285714285,
           0.4074074074074074,
           1,
           "Alex Calatrava"
          ],
          [
           0.6621315192743764,
           0.36363636363636365,
           0.5611814345991561,
           0,
           "Alex Corretja"
          ],
          [
           0.15384615384615385,
           0.4,
           0.6428571428571429,
           2,
           "Alex De Minaur"
          ],
          [
           0.3333333333333333,
           0.25,
           0.21428571428571427,
           1,
           "Alex Kuznetsov"
          ],
          [
           0.631578947368421,
           0.7863247863247863,
           0.7272727272727273,
           0,
           "Alex Metreveli"
          ],
          [
           0.3225806451612903,
           0.41935483870967744,
           0.42857142857142855,
           2,
           "Alex Obrien"
          ],
          [
           0.125,
           0.5263157894736842,
           0.44,
           2,
           "Alex Radulescu"
          ],
          [
           0.45454545454545453,
           0.5,
           0.4642857142857143,
           0,
           "Alexander Bublik"
          ],
          [
           0.2916666666666667,
           0.36363636363636365,
           0.358695652173913,
           2,
           "Alexander Mronz"
          ],
          [
           0.2916666666666667,
           0.21052631578947367,
           0.34782608695652173,
           1,
           "Alexander Peya"
          ],
          [
           0.19230769230769232,
           0.631578947368421,
           0.36585365853658536,
           2,
           "Alexander Popp"
          ],
          [
           0.4,
           0.582089552238806,
           0.5630630630630631,
           0,
           "Alexander Volkov"
          ],
          [
           0.3409090909090909,
           0.26666666666666666,
           0.23076923076923078,
           1,
           "Alexander Waske"
          ],
          [
           0.7,
           0.631578947368421,
           0.6531531531531531,
           0,
           "Alexander Zverev"
          ],
          [
           0.49206349206349204,
           0.5348837209302325,
           0.531496062992126,
           0,
           "Alexandr Dolgopolov"
          ],
          [
           0.3076923076923077,
           0.2,
           0.3333333333333333,
           1,
           "Alexandre Simoni"
          ],
          [
           0.2,
           0.3333333333333333,
           0.37142857142857144,
           2,
           "Alexei Popyrin"
          ],
          [
           0.25,
           0.6666666666666666,
           0.35294117647058826,
           2,
           "Alistair Hunt"
          ],
          [
           0.5,
           0.39285714285714285,
           0.4628099173553719,
           1,
           "Aljaz Bedene"
          ],
          [
           0.5,
           0.5581395348837209,
           0.4537037037037037,
           0,
           "Allan Stone"
          ],
          [
           0.5,
           0.5,
           0.5,
           0,
           "Altug Celikbilek"
          ],
          [
           0.25,
           0.2,
           0.42105263157894735,
           1,
           "Alvaro Fillol"
          ],
          [
           0.2682926829268293,
           0.17142857142857143,
           0.30303030303030304,
           1,
           "Alvin Gardiner"
          ],
          [
           0.2,
           0.25,
           0.4084507042253521,
           2,
           "Amer Delic"
          ],
          [
           0.2708333333333333,
           0.5737704918032787,
           0.6261127596439169,
           2,
           "Amos Mansdorf"
          ],
          [
           0.3595505617977528,
           0.38636363636363635,
           0.35802469135802467,
           2,
           "Anand Amritraj"
          ],
          [
           0.575,
           0.5384615384615384,
           0.5700483091787439,
           0,
           "Anders Jarryd"
          ],
          [
           0.7272727272727273,
           0.7352941176470589,
           0.7889182058047494,
           0,
           "Andre Agassi"
          ],
          [
           0.27906976744186046,
           0.37037037037037035,
           0.4126984126984127,
           2,
           "Andre Sa"
          ],
          [
           0.5585284280936454,
           0.1,
           0.375,
           1,
           "Andrea Gaudenzi"
          ],
          [
           0.36363636363636365,
           0.5,
           0.3684210526315789,
           2,
           "Andreas Beck"
          ],
          [
           0.3870967741935484,
           0.2857142857142857,
           0.3541666666666667,
           1,
           "Andreas Haider Maurer"
          ],
          [
           0.47619047619047616,
           0.5,
           0.37037037037037035,
           2,
           "Andreas Maurer"
          ],
          [
           0.4962121212121212,
           0.5660377358490566,
           0.4623115577889447,
           0,
           "Andreas Seppi"
          ],
          [
           0.43661971830985913,
           0.2857142857142857,
           0.48484848484848486,
           1,
           "Andreas Vinciguerra"
          ],
          [
           0.6415094339622641,
           0.2727272727272727,
           0.5682819383259912,
           1,
           "Andrei Chesnokov"
          ],
          [
           0.25,
           0.5,
           0.25,
           2,
           "Andrei Dirzu"
          ],
          [
           0.66796875,
           0.47058823529411764,
           0.5612903225806452,
           0,
           "Andrei Medvedev"
          ],
          [
           0.3076923076923077,
           0.5,
           0.32967032967032966,
           2,
           "Andrei Olhovskiy"
          ],
          [
           0.545,
           0.4489795918367347,
           0.4956896551724138,
           0,
           "Andrei Pavel"
          ],
          [
           0.375,
           0.35294117647058826,
           0.43478260869565216,
           2,
           "Andrei Stoliarov"
          ],
          [
           0.7142857142857143,
           0.7142857142857143,
           0.6103896103896104,
           0,
           "Andres Gimeno"
          ],
          [
           0.7021276595744681,
           0.5555555555555556,
           0.6439024390243903,
           0,
           "Andres Gomez"
          ],
          [
           0.25,
           0.27586206896551724,
           0.32432432432432434,
           2,
           "Andrew Castle"
          ],
          [
           0.5316455696202531,
           0.3125,
           0.3904761904761905,
           1,
           "Andrew Ilie"
          ],
          [
           0.3333333333333333,
           0.16666666666666666,
           0.4,
           1,
           "Andrew Jarrett"
          ],
          [
           0.5196850393700787,
           0.5147058823529411,
           0.5612244897959183,
           0,
           "Andrew Pattison"
          ],
          [
           0.36065573770491804,
           0.09090909090909091,
           0.3853211009174312,
           1,
           "Andrey Golubev"
          ],
          [
           0.44776119402985076,
           0.35,
           0.4666666666666667,
           1,
           "Andrey Kuznetsov"
          ],
          [
           0.5813953488372093,
           0.5714285714285714,
           0.6024096385542169,
           0,
           "Andrey Rublev"
          ],
          [
           0.36363636363636365,
           0.35,
           0.1875,
           1,
           "Andy Andrews"
          ],
          [
           0.1,
           0.3333333333333333,
           0.25925925925925924,
           2,
           "Andy Kohlberg"
          ],
          [
           0.6883116883116883,
           0.8307692307692308,
           0.7774030354131535,
           0,
           "Andy Murray"
          ],
          [
           0.6386554621848739,
           0.7981651376146789,
           0.75177304964539,
           0,
           "Andy Roddick"
          ],
          [
           0.4817073170731707,
           0.16666666666666666,
           0.35294117647058826,
           1,
           "Angel Gimenez"
          ],
          [
           0.3926940639269406,
           0.2777777777777778,
           0.19047619047619047,
           1,
           "Antonio Munoz"
          ],
          [
           0.4861878453038674,
           0.23529411764705882,
           0.2857142857142857,
           1,
           "Antonio Zugarelli"
          ],
          [
           0.3448275862068966,
           0.4634146341463415,
           0.40594059405940597,
           2,
           "Antony Dupuis"
          ],
          [
           0.38095238095238093,
           0.5555555555555556,
           0.37037037037037035,
           2,
           "Aqeel Khan"
          ],
          [
           0.3181818181818182,
           0.42105263157894735,
           0.1,
           2,
           "Armistead Neely"
          ],
          [
           0.47540983606557374,
           0.5428571428571428,
           0.5379746835443038,
           0,
           "Arnaud Boetsch"
          ],
          [
           0.4083333333333333,
           0.5376344086021505,
           0.5071225071225072,
           0,
           "Arnaud Clement"
          ],
          [
           0.47474747474747475,
           0.25,
           0.32727272727272727,
           1,
           "Arnaud Di Pasquale"
          ],
          [
           0.16666666666666666,
           0.5217391304347826,
           0.25,
           2,
           "Arne Thoms"
          ],
          [
           0.5,
           0.5,
           0.5714285714285714,
           0,
           "Artem Sitak"
          ],
          [
           0.7079646017699115,
           0.7638888888888888,
           0.7617021276595745,
           0,
           "Arthur Ashe"
          ],
          [
           0.6945054945054945,
           0.5185185185185185,
           0.52,
           0,
           "Balazs Taroczy"
          ],
          [
           0.3333333333333333,
           0.25,
           0.38461538461538464,
           1,
           "Barry Mackay"
          ],
          [
           0.4583333333333333,
           0.38461538461538464,
           0.36363636363636365,
           1,
           "Barry Moir"
          ],
          [
           0.5338983050847458,
           0.44776119402985076,
           0.34375,
           1,
           "Barry Phillips Moore"
          ],
          [
           0.40804597701149425,
           0.2727272727272727,
           0.25,
           1,
           "Belus Prajoux"
          ],
          [
           0.3684210526315789,
           0.5,
           0.4166666666666667,
           2,
           "Ben Testerman"
          ],
          [
           0.24444444444444444,
           0.5454545454545454,
           0.4061302681992337,
           2,
           "Benjamin Becker"
          ],
          [
           0.5161290322580645,
           0.5,
           0.4618320610687023,
           0,
           "Benoit Paire"
          ],
          [
           0.4745762711864407,
           0.25,
           0.43478260869565216,
           1,
           "Bernard Boileau"
          ],
          [
           0.3958333333333333,
           0.5,
           0.39285714285714285,
           2,
           "Bernard Fritz"
          ],
          [
           0.4166666666666667,
           0.42857142857142855,
           0.625,
           0,
           "Bernard Mignot"
          ],
          [
           0.3902439024390244,
           0.5142857142857142,
           0.5095541401273885,
           2,
           "Bernard Mitton"
          ],
          [
           0.3230769230769231,
           0.5428571428571428,
           0.5384615384615384,
           2,
           "Bernard Tomic"
          ],
          [
           0.5310344827586206,
           0.23529411764705882,
           0.4444444444444444,
           1,
           "Bernd Karbacher"
          ],
          [
           0.32142857142857145,
           0.5,
           0.3333333333333333,
           2,
           "Bernhard Pils"
          ],
          [
           0.4716981132075472,
           0.5945945945945946,
           0.39285714285714285,
           0,
           "Bill Bowrey"
          ],
          [
           0.3333333333333333,
           0.4,
           0.25,
           2,
           "Bill Freer"
          ],
          [
           0.21739130434782608,
           0.35,
           0.2,
           2,
           "Bill Lloyd"
          ],
          [
           0.1,
           0.18181818181818182,
           0.3333333333333333,
           2,
           "Bill Lofgren"
          ],
          [
           0.14285714285714285,
           0.3333333333333333,
           0.3333333333333333,
           2,
           "Bill Maze"
          ],
          [
           0.41975308641975306,
           0.59,
           0.5572916666666666,
           0,
           "Bill Scanlon"
          ],
          [
           0.44565217391304346,
           0.46511627906976744,
           0.4430379746835443,
           2,
           "Billy Martin"
          ],
          [
           0.8333333333333334,
           0.5,
           0.5,
           0,
           "Bing Pan"
          ],
          [
           0.3684210526315789,
           0.5,
           0.26666666666666666,
           2,
           "Birger Andersson"
          ],
          [
           0.8532110091743119,
           0.8470588235294118,
           0.7533333333333333,
           0,
           "Bjorn Borg"
          ],
          [
           0.35714285714285715,
           0.5,
           0.3333333333333333,
           2,
           "Bjorn Fratangelo"
          ],
          [
           0.3728813559322034,
           0.07142857142857142,
           0.4,
           1,
           "Bjorn Phau"
          ],
          [
           0.43333333333333335,
           0.1875,
           0.36363636363636365,
           1,
           "Blaz Kavcic"
          ],
          [
           0.47058823529411764,
           0.2,
           0.3333333333333333,
           1,
           "Blaz Rola"
          ],
          [
           0.375,
           0.5714285714285714,
           0.2631578947368421,
           2,
           "Bob Bryan"
          ],
          [
           0.47058823529411764,
           0.4842105263157895,
           0.49264705882352944,
           0,
           "Bob Carmichael"
          ],
          [
           0.32,
           0.5416666666666666,
           0.3125,
           2,
           "Bob Giltinan"
          ],
          [
           0.6223776223776224,
           0.6376811594202898,
           0.5684210526315789,
           0,
           "Bob Hewitt"
          ],
          [
           0.3333333333333333,
           0.29411764705882354,
           0.26666666666666666,
           1,
           "Bobby Reynolds"
          ],
          [
           0.5155555555555555,
           0.2631578947368421,
           0.4817073170731707,
           1,
           "Bohdan Ulihrach"
          ],
          [
           0.8888888888888888,
           0.3333333333333333,
           0.45,
           0,
           "Bong Soo Kim"
          ],
          [
           0.6594594594594595,
           0.8226950354609929,
           0.7586206896551724,
           0,
           "Boris Becker"
          ],
          [
           0.5684210526315789,
           0.5238095238095238,
           0.5163043478260869,
           0,
           "Borna Coric"
          ],
          [
           0.4032258064516129,
           0.5448717948717948,
           0.35555555555555557,
           2,
           "Brad Drewett"
          ],
          [
           0.5,
           0.5535714285714286,
           0.6856540084388185,
           0,
           "Brad Gilbert"
          ],
          [
           0.375,
           0.4666666666666667,
           0.32926829268292684,
           2,
           "Brad Pearce"
          ],
          [
           0.16666666666666666,
           0.5,
           0.5,
           2,
           "Brent Larkham"
          ],
          [
           0.42857142857142855,
           0.5932203389830508,
           0.5,
           0,
           "Brett Steven"
          ],
          [
           0.5555555555555556,
           0.5,
           0.24390243902439024,
           1,
           "Brian Baker"
          ],
          [
           0.35,
           0.42857142857142855,
           0.3333333333333333,
           2,
           "Brian Dabul"
          ],
          [
           0.48951048951048953,
           0.5531914893617021,
           0.52,
           0,
           "Brian Fairlie"
          ],
          [
           0.6311787072243346,
           0.6666666666666666,
           0.7146892655367232,
           0,
           "Brian Gottfried"
          ],
          [
           0.5204081632653061,
           0.6466165413533834,
           0.5927835051546392,
           0,
           "Brian Teacher"
          ],
          [
           0.16666666666666666,
           0.3,
           0.3541666666666667,
           2,
           "Brian Vahaly"
          ],
          [
           0.23809523809523808,
           0.3877551020408163,
           0.39325842696629215,
           2,
           "Broderick Dyke"
          ],
          [
           0.30303030303030304,
           0.3076923076923077,
           0.45,
           2,
           "Bruce Derlin"
          ],
          [
           0.3333333333333333,
           0.2222222222222222,
           0.17647058823529413,
           1,
           "Bruce Kleege"
          ],
          [
           0.4375,
           0.3333333333333333,
           0.45614035087719296,
           1,
           "Bruce Manson"
          ],
          [
           0.4857142857142857,
           0.5333333333333333,
           0.36936936936936937,
           2,
           "Bryan Shelton"
          ],
          [
           0.16666666666666666,
           0.5652173913043478,
           0.5,
           2,
           "Bud Schultz"
          ],
          [
           0.6561264822134387,
           0.5681818181818182,
           0.6216216216216216,
           0,
           "Buster C Mottram"
          ],
          [
           0.391304347826087,
           0.45714285714285713,
           0.3157894736842105,
           2,
           "Butch Seewagen"
          ],
          [
           0.4,
           0.45,
           0.5277777777777778,
           2,
           "Butch Walts"
          ],
          [
           0.3709677419354839,
           0.4864864864864865,
           0.4155844155844156,
           2,
           "Byron Bertram"
          ],
          [
           0.38636363636363635,
           0.6111111111111112,
           0.528125,
           0,
           "Byron Black"
          ],
          [
           0.43478260869565216,
           0.35714285714285715,
           0.4794520547945205,
           1,
           "Cameron Norrie"
          ],
          [
           0.3333333333333333,
           0.07142857142857142,
           0.375,
           1,
           "Carl Limberger"
          ],
          [
           0.47513812154696133,
           0.2222222222222222,
           0.5241935483870968,
           1,
           "Carl Uwe Steeb"
          ],
          [
           0.463302752293578,
           0.25,
           0.32558139534883723,
           1,
           "Carlos Berlocq"
          ],
          [
           0.599388379204893,
           0.375,
           0.4536082474226804,
           1,
           "Carlos Costa"
          ],
          [
           0.4803921568627451,
           0.42857142857142855,
           0.4666666666666667,
           1,
           "Carlos Kirmayr"
          ],
          [
           0.7033195020746889,
           0.4642857142857143,
           0.5955056179775281,
           0,
           "Carlos Moya"
          ],
          [
           0.3855421686746988,
           0.4,
           0.4117647058823529,
           2,
           "Cassio Motta"
          ],
          [
           0.30434782608695654,
           0.23529411764705882,
           0.3770491803278688,
           1,
           "Cecil Mamiit"
          ],
          [
           0.5363636363636364,
           0.5974025974025974,
           0.5551470588235294,
           0,
           "Cedric Pioline"
          ],
          [
           0.5294117647058824,
           0.25,
           0.30303030303030304,
           1,
           "Cedrik Marcel Stebe"
          ],
          [
           0.3793103448275862,
           0.4375,
           0.5128205128205128,
           2,
           "Charles Owens"
          ],
          [
           0.5,
           0.36585365853658536,
           0.2727272727272727,
           1,
           "Charlie Fancutt"
          ],
          [
           0.47619047619047616,
           0.6179775280898876,
           0.45714285714285713,
           0,
           "Charlie Pasarell"
          ],
          [
           0.4375,
           0.40625,
           0.4563106796116505,
           2,
           "Chip Hooper"
          ],
          [
           0.3333333333333333,
           0.55,
           0.36363636363636365,
           2,
           "Chris Delaney"
          ],
          [
           0.25,
           0.18181818181818182,
           0.38095238095238093,
           1,
           "Chris Dunk"
          ],
          [
           0.14285714285714285,
           0.4,
           0.4605263157894737,
           2,
           "Chris Guccione"
          ],
          [
           0.2608695652173913,
           0.42857142857142855,
           0.25,
           2,
           "Chris Johnstone"
          ],
          [
           0.18518518518518517,
           0.33962264150943394,
           0.25,
           2,
           "Chris Kachel"
          ],
          [
           0.5643564356435643,
           0.5420560747663551,
           0.5217391304347826,
           0,
           "Chris Lewis"
          ],
          [
           0.3611111111111111,
           0.125,
           0.4594594594594595,
           1,
           "Chris Mayotte"
          ],
          [
           0.2,
           0.35294117647058826,
           0.41379310344827586,
           2,
           "Chris Pridham"
          ],
          [
           0.4,
           0.4444444444444444,
           0.2,
           2,
           "Chris Wilkinson"
          ],
          [
           0.4634146341463415,
           0.5,
           0.5074626865671642,
           0,
           "Chris Woodruff"
          ],
          [
           0.45544554455445546,
           0.5185185185185185,
           0.5354330708661418,
           0,
           "Christian Bergstrom"
          ],
          [
           0.671875,
           0.2857142857142857,
           0.375,
           1,
           "Christian Garin"
          ],
          [
           0.6590909090909091,
           0.5,
           0.3333333333333333,
           0,
           "Christian Kuhnke"
          ],
          [
           0.3448275862068966,
           0.5476190476190477,
           0.28378378378378377,
           2,
           "Christian Saceanu"
          ],
          [
           0.21052631578947367,
           0.38461538461538464,
           0.27586206896551724,
           2,
           "Christian Vinck"
          ],
          [
           0.36363636363636365,
           0.5714285714285714,
           0.425531914893617,
           2,
           "Christo Steyn"
          ],
          [
           0.09090909090909091,
           0.6111111111111112,
           0.49710982658959535,
           2,
           "Christo Van Rensburg"
          ],
          [
           0.41566265060240964,
           0.12,
           0.3228346456692913,
           1,
           "Christophe Rochus"
          ],
          [
           0.44537815126050423,
           0.2,
           0.453125,
           1,
           "Christophe Roger Vasselin"
          ],
          [
           0.6666666666666666,
           0.5,
           0.46153846153846156,
           0,
           "Christophe Van Garsse"
          ],
          [
           0.08333333333333333,
           0.3,
           0.5074626865671642,
           2,
           "Chuck Adams"
          ],
          [
           0.6710526315789473,
           0.7325581395348837,
           0.6793893129770993,
           0,
           "Clark Graebner"
          ],
          [
           0.489247311827957,
           0.25,
           0.3953488372093023,
           1,
           "Claudio Mezzadri"
          ],
          [
           0.4444444444444444,
           0.3333333333333333,
           0.3888888888888889,
           1,
           "Claudio Panatta"
          ],
          [
           0.45962732919254656,
           0.2,
           0.10526315789473684,
           1,
           "Claudio Pistolesi"
          ],
          [
           0.6818181818181818,
           0.6493506493506493,
           0.6449704142011834,
           0,
           "Cliff Drysdale"
          ],
          [
           0.2727272727272727,
           0.43037974683544306,
           0.2857142857142857,
           2,
           "Cliff Letcher"
          ],
          [
           0.7010869565217391,
           0.6557377049180327,
           0.7029702970297029,
           0,
           "Cliff Richey"
          ],
          [
           0.48026315789473684,
           0.5802469135802469,
           0.48044692737430167,
           0,
           "Colin Dibley"
          ],
          [
           0.39215686274509803,
           0.3333333333333333,
           0.4810126582278481,
           1,
           "Colin Dowdeswell"
          ],
          [
           0.3333333333333333,
           0.3125,
           0.2,
           1,
           "Colin Stubs"
          ],
          [
           0.3333333333333333,
           0.2,
           0.5,
           1,
           "Conor Niland"
          ],
          [
           0.34615384615384615,
           0.5,
           0.4090909090909091,
           2,
           "Corentin Moutet"
          ],
          [
           0.6175,
           0.1111111111111111,
           0.5942028985507246,
           1,
           "Corrado Barazzutti"
          ],
          [
           0.3076923076923077,
           0.34210526315789475,
           0.26666666666666666,
           2,
           "Craig A Miller"
          ],
          [
           0.2777777777777778,
           0.4444444444444444,
           0.21428571428571427,
           2,
           "Craig Wittus"
          ],
          [
           0.3333333333333333,
           0.21428571428571427,
           0.40707964601769914,
           1,
           "Cristiano Caratti"
          ],
          [
           0.125,
           0.4166666666666667,
           0.40336134453781514,
           2,
           "Cyril Saulnier"
          ],
          [
           0.15384615384615385,
           0.23529411764705882,
           0.2,
           2,
           "D Richard Russell"
          ],
          [
           0.25,
           0.37777777777777777,
           0.4444444444444444,
           2,
           "Dale Collings"
          ],
          [
           0.45901639344262296,
           0.5555555555555556,
           0.4785276073619632,
           0,
           "Damir Dzumhur"
          ],
          [
           0.4620253164556962,
           0.3888888888888889,
           0.3125,
           1,
           "Damir Keretic"
          ],
          [
           0.23529411764705882,
           0.4117647058823529,
           0.359375,
           2,
           "Dan Cassidy"
          ],
          [
           0.25,
           0.5428571428571428,
           0.5337837837837838,
           2,
           "Dan Goldie"
          ],
          [
           0.45454545454545453,
           0.3157894736842105,
           0.46808510638297873,
           1,
           "Danai Udomchoke"
          ],
          [
           0.21052631578947367,
           0.4626865671641791,
           0.4322033898305085,
           2,
           "Danie Visser"
          ],
          [
           0.38181818181818183,
           0.4117647058823529,
           0.3875,
           2,
           "Daniel Brands"
          ],
          [
           0.32432432432432434,
           0.375,
           0.5,
           2,
           "Daniel Contet"
          ],
          [
           0.25,
           0.4230769230769231,
           0.5,
           2,
           "Daniel Evans"
          ],
          [
           0.42391304347826086,
           0.10526315789473684,
           0.2537313432835821,
           1,
           "Daniel Gimeno Traver"
          ],
          [
           0.2,
           0.4186046511627907,
           0.43548387096774194,
           2,
           "Daniel Nestor"
          ],
          [
           0.35294117647058826,
           0.425,
           0.45595854922279794,
           2,
           "Daniel Vacek"
          ],
          [
           0.38461538461538464,
           0.5294117647058824,
           0.3235294117647059,
           2,
           "Daniele Bracciali"
          ],
          [
           0.35714285714285715,
           0.6,
           0.7087912087912088,
           0,
           "Daniil Medvedev"
          ],
          [
           0.6666666666666666,
           0.4,
           0.5263157894736842,
           0,
           "Danny Saltz"
          ],
          [
           0.625,
           0.36363636363636365,
           0.36363636363636365,
           1,
           "Danny Sapsford"
          ],
          [
           0.5423728813559322,
           0.4666666666666667,
           0.5555555555555556,
           0,
           "Darren Cahill"
          ],
          [
           0.16666666666666666,
           0.25,
           0.46153846153846156,
           2,
           "Dave Siegler"
          ],
          [
           0.42391304347826086,
           0.3953488372093023,
           0.3469387755102041,
           1,
           "David Carter"
          ],
          [
           0.2,
           0.14285714285714285,
           0.42105263157894735,
           1,
           "David Dowlen"
          ],
          [
           0.3076923076923077,
           0.5714285714285714,
           0.3103448275862069,
           2,
           "David Engel"
          ],
          [
           0.7050209205020921,
           0.6285714285714286,
           0.6352087114337568,
           0,
           "David Ferrer"
          ],
          [
           0.6101694915254238,
           0.5581395348837209,
           0.6140939597315436,
           0,
           "David Goffin"
          ],
          [
           0.21875,
           0.3902439024390244,
           0.2,
           2,
           "David Lloyd"
          ],
          [
           0.3333333333333333,
           0.3333333333333333,
           0.26666666666666666,
           1,
           "David Mustard"
          ],
          [
           0.2,
           0.42857142857142855,
           0.3617021276595745,
           2,
           "David Nainkin"
          ],
          [
           0.6602870813397129,
           0.6888888888888889,
           0.6538461538461539,
           0,
           "David Nalbandian"
          ],
          [
           0.2777777777777778,
           0.543859649122807,
           0.5355450236966824,
           2,
           "David Pate"
          ],
          [
           0.23809523809523808,
           0.5645161290322581,
           0.4012738853503185,
           2,
           "David Prinosil"
          ],
          [
           0.41025641025641024,
           0.2,
           0.30434782608695654,
           1,
           "David Rikl"
          ],
          [
           0.18181818181818182,
           0.29411764705882354,
           0.3275862068965517,
           2,
           "David Schneider"
          ],
          [
           0.5263157894736842,
           0.6363636363636364,
           0.5530973451327433,
           0,
           "David Wheaton"
          ],
          [
           0.5,
           0.5384615384615384,
           0.21428571428571427,
           2,
           "David Witt"
          ],
          [
           0.3680555555555556,
           0.425531914893617,
           0.43956043956043955,
           2,
           "Davide Sanguinetti"
          ],
          [
           0.4666666666666667,
           0.2,
           0.32,
           1,
           "Denis Gremelmayr"
          ],
          [
           0.45384615384615384,
           0.5394736842105263,
           0.45390070921985815,
           0,
           "Denis Istomin"
          ],
          [
           0.2631578947368421,
           0.5116279069767442,
           0.28735632183908044,
           2,
           "Denis Kudla"
          ],
          [
           0.42857142857142855,
           0.5,
           0.25,
           2,
           "Denis Naegelen"
          ],
          [
           0.5483870967741935,
           0.25,
           0.5833333333333334,
           1,
           "Denis Shapovalov"
          ],
          [
           0.4117647058823529,
           0.5,
           0.3448275862068966,
           2,
           "Dennis Novak"
          ],
          [
           0.6153846153846154,
           0.6842105263157895,
           0.46774193548387094,
           0,
           "Dennis Ralston"
          ],
          [
           0.4318181818181818,
           0.3181818181818182,
           0.38461538461538464,
           1,
           "Dennis Van Scheppingen"
          ],
          [
           0.27586206896551724,
           0.375,
           0.5,
           2,
           "Deon Joubert"
          ],
          [
           0.2857142857142857,
           0.2,
           0.29411764705882354,
           1,
           "Derek Schroder"
          ],
          [
           0.3333333333333333,
           0.16666666666666666,
           0.3157894736842105,
           1,
           "Derek Tarr"
          ],
          [
           0.2972972972972973,
           0.5915492957746479,
           0.5288461538461539,
           2,
           "Derrick Rostagno"
          ],
          [
           0.5305343511450382,
           0.5347222222222222,
           0.48672566371681414,
           0,
           "Dick Crealy"
          ],
          [
           0.3,
           0.3,
           0.14285714285714285,
           1,
           "Dick Dell"
          ],
          [
           0.2857142857142857,
           0.41379310344827586,
           0.2222222222222222,
           2,
           "Dick Norman"
          ],
          [
           0.07142857142857142,
           0.43478260869565216,
           0.3076923076923077,
           2,
           "Dick R Bohrnstedt"
          ],
          [
           0.6484848484848484,
           0.6060606060606061,
           0.5272727272727272,
           0,
           "Dick Stockton"
          ],
          [
           0.32653061224489793,
           0.4230769230769231,
           0.4125,
           2,
           "Diego Nargiso"
          ],
          [
           0.5684931506849316,
           0.3333333333333333,
           0.5333333333333333,
           1,
           "Diego Schwartzman"
          ],
          [
           0.3787878787878788,
           0.25,
           0.25,
           1,
           "Dinu Pescariu"
          ],
          [
           0.3918918918918919,
           0.5522388059701493,
           0.5255972696245734,
           0,
           "Dmitry Tursunov"
          ],
          [
           0.7446808510638298,
           0.5172413793103449,
           0.6,
           0,
           "Dominic Thiem"
          ],
          [
           0.5362903225806451,
           0.24,
           0.5427728613569321,
           1,
           "Dominik Hrbaty"
          ],
          [
           0.5555555555555556,
           0.5,
           0.42857142857142855,
           0,
           "Dominik Koepfer"
          ],
          [
           0.3333333333333333,
           0.3333333333333333,
           0.42857142857142855,
           2,
           "Dominik Meffert"
          ],
          [
           0.125,
           0.2,
           0.5,
           2,
           "Don Mccormick"
          ],
          [
           0.21875,
           0.38461538461538464,
           0.4279835390946502,
           2,
           "Donald Young"
          ],
          [
           0.1111111111111111,
           0.47058823529411764,
           0.3902439024390244,
           2,
           "Doug Flach"
          ],
          [
           0.22727272727272727,
           0.14285714285714285,
           0.38461538461538464,
           1,
           "Douglas Palm"
          ],
          [
           0.5384615384615384,
           0.43478260869565216,
           0.35,
           1,
           "Drew Gitlin"
          ],
          [
           0.18604651162790697,
           0.48148148148148145,
           0.4491525423728814,
           2,
           "Dudi Sela"
          ],
          [
           0.5066666666666667,
           0.25,
           0.4090909090909091,
           1,
           "Dusan Lajovic"
          ],
          [
           0.5555555555555556,
           0.5,
           0.3333333333333333,
           0,
           "Dusan Vemic"
          ],
          [
           0.40384615384615385,
           0.45,
           0.3382352941176471,
           2,
           "Dustin Brown"
          ],
          [
           0.6,
           0.6666666666666666,
           0.5882352941176471,
           0,
           "Earl Butch Buchholz"
          ],
          [
           0.7380952380952381,
           0.5,
           0.684931506849315,
           0,
           "Eddie Dibbs"
          ],
          [
           0.38095238095238093,
           0.49382716049382713,
           0.3170731707317073,
           2,
           "Eddie Edwards"
          ],
          [
           0.6,
           0.2,
           0.5454545454545454,
           1,
           "Edison Mandarino"
          ],
          [
           0.37735849056603776,
           0.45714285714285713,
           0.4,
           2,
           "Edouard Roger Vasselin"
          ],
          [
           0.42857142857142855,
           0.3333333333333333,
           0.39285714285714285,
           1,
           "Eduardo Masso"
          ],
          [
           0.4696969696969697,
           0.125,
           0.25806451612903225,
           1,
           "Eduardo Schwank"
          ],
          [
           0.3333333333333333,
           0.5,
           0.3333333333333333,
           2,
           "Eduardo Velez"
          ],
          [
           0.6262626262626263,
           0.5,
           0.6995708154506438,
           0,
           "Eliot Teltscher"
          ],
          [
           0.2727272727272727,
           0.2,
           0.3684210526315789,
           1,
           "Emilio Montano"
          ],
          [
           0.643312101910828,
           0.2857142857142857,
           0.5833333333333334,
           1,
           "Emilio Sanchez"
          ],
          [
           0.423728813559322,
           0.3333333333333333,
           0.4166666666666667,
           1,
           "Eric Deblicker"
          ],
          [
           0.3333333333333333,
           0.2,
           0.30434782608695654,
           1,
           "Eric Friedler"
          ],
          [
           0.45,
           0.4,
           0.33962264150943394,
           1,
           "Eric Fromm"
          ],
          [
           0.3698630136986301,
           0.6346153846153846,
           0.4426229508196721,
           2,
           "Eric Jelen"
          ],
          [
           0.6153846153846154,
           0.14285714285714285,
           0.5185185185185185,
           1,
           "Eric Korita"
          ],
          [
           0.3888888888888889,
           0.4,
           0.21739130434782608,
           2,
           "Eric Winogradsky"
          ],
          [
           0.45652173913043476,
           0.48214285714285715,
           0.4251968503937008,
           2,
           "Erik Van Dillen"
          ],
          [
           0.3,
           0.3333333333333333,
           0.35714285714285715,
           2,
           "Ernesto Escobedo"
          ],
          [
           0.5241379310344828,
           0.38461538461538464,
           0.5071428571428571,
           1,
           "Ernests Gulbis"
          ],
          [
           0.7142857142857143,
           0.5,
           0.18181818181818182,
           1,
           "Eui Jong Chang"
          ],
          [
           0.20689655172413793,
           0.26666666666666666,
           0.36363636363636365,
           2,
           "Evgeny Donskoy"
          ],
          [
           0.3870967741935484,
           0.16666666666666666,
           0.5,
           1,
           "Evgeny Korolev"
          ],
          [
           0.3877551020408163,
           0.25,
           0.25,
           1,
           "Ezio Di Matteo"
          ],
          [
           0.5842696629213483,
           0.5135135135135135,
           0.47719298245614034,
           0,
           "Fabio Fognini"
          ],
          [
           0.48175182481751827,
           0.5714285714285714,
           0.5347826086956522,
           0,
           "Fabrice Santoro"
          ],
          [
           0.49429657794676807,
           0.6587301587301587,
           0.5055555555555555,
           0,
           "Feliciano Lopez"
          ],
          [
           0.5161290322580645,
           0.75,
           0.5277777777777778,
           0,
           "Felix Auger Aliassime"
          ],
          [
           0.8,
           0.6666666666666666,
           0.8,
           0,
           "Felix Barrientos"
          ],
          [
           0.659217877094972,
           0.3333333333333333,
           0.49635036496350365,
           1,
           "Felix Mantilla"
          ],
          [
           0.28,
           0.391304347826087,
           0.3333333333333333,
           2,
           "Ferdi Taygan"
          ],
          [
           0.7,
           0.6216216216216216,
           0.6102941176470589,
           0,
           "Fernando Gonzalez"
          ],
          [
           0.5513698630136986,
           0.14285714285714285,
           0.3486238532110092,
           1,
           "Fernando Meligeni"
          ],
          [
           0.610079575596817,
           0.5483870967741935,
           0.5357873210633947,
           0,
           "Fernando Verdasco"
          ],
          [
           0.46887966804979253,
           0.29411764705882354,
           0.3786407766990291,
           1,
           "Fernando Vicente"
          ],
          [
           0.16666666666666666,
           0.36363636363636365,
           0.36363636363636365,
           2,
           "Fernon Wibier"
          ],
          [
           0.5050505050505051,
           0.25,
           0.36764705882352944,
           1,
           "Filip Dewulf"
          ],
          [
           0.5339805825242718,
           0.15384615384615385,
           0.1323529411764706,
           1,
           "Filippo Volandri"
          ],
          [
           0.358974358974359,
           0.125,
           0.38181818181818183,
           1,
           "Flavio Cipolla"
          ],
          [
           0.5204081632653061,
           0.5,
           0.42857142857142855,
           0,
           "Flavio Saretta"
          ],
          [
           0.46153846153846156,
           0.34615384615384615,
           0.4166666666666667,
           1,
           "Florent Serra"
          ],
          [
           0.5,
           0.6,
           0.4297872340425532,
           0,
           "Florian Mayer"
          ],
          [
           0.46511627906976744,
           0.2,
           0.38461538461538464,
           1,
           "Florin Segarceanu"
          ],
          [
           0.3448275862068966,
           0.46153846153846156,
           0.43478260869565216,
           2,
           "Frances Tiafoe"
          ],
          [
           0.5782608695652174,
           0.5,
           0.4772727272727273,
           0,
           "Francisco Clavet"
          ],
          [
           0.35443037974683544,
           0.3953488372093023,
           0.41818181818181815,
           2,
           "Francisco Gonzalez"
          ],
          [
           0.4230769230769231,
           0.2,
           0.15789473684210525,
           1,
           "Francisco Montana"
          ],
          [
           0.38738738738738737,
           0.5,
           0.4166666666666667,
           2,
           "Francisco Roig"
          ],
          [
           0.5397489539748954,
           0.14285714285714285,
           0.36231884057971014,
           1,
           "Franco Squillari"
          ],
          [
           0.6241379310344828,
           0.4090909090909091,
           0.3076923076923077,
           1,
           "Francois Jauffret"
          ],
          [
           0.05263157894736842,
           0.4772727272727273,
           0.37735849056603776,
           2,
           "Frank Dancevic"
          ],
          [
           0.4918032786885246,
           0.38461538461538464,
           0.45,
           1,
           "Frank Froehling"
          ],
          [
           0.3611111111111111,
           0.4444444444444444,
           0.3076923076923077,
           2,
           "Frank Gebert"
          ],
          [
           0.375,
           0.38461538461538464,
           0.25,
           2,
           "Frank Sedgman"
          ],
          [
           0.4397163120567376,
           0.25,
           0.2857142857142857,
           1,
           "Frantisek Pala"
          ],
          [
           0.30120481927710846,
           0.4,
           0.1956521739130435,
           2,
           "Fred Mcnair"
          ],
          [
           0.5625,
           0.676923076923077,
           0.4864864864864865,
           0,
           "Fred Stolle"
          ],
          [
           0.3333333333333333,
           0.25,
           0.52,
           1,
           "Freddie Sauer"
          ],
          [
           0.36363636363636365,
           0.3333333333333333,
           0.15384615384615385,
           1,
           "Frederic Niemeyer"
          ],
          [
           0.5476190476190477,
           0.125,
           0.3877551020408163,
           1,
           "Frederico Gil"
          ],
          [
           0.2894736842105263,
           0.4444444444444444,
           0.48,
           2,
           "Frederik Fetterlein"
          ],
          [
           0.411214953271028,
           0.49230769230769234,
           0.421875,
           2,
           "Frew Mcmillan"
          ],
          [
           0.29411764705882354,
           0.55,
           0.48936170212765956,
           2,
           "Fritz Buehning"
          ],
          [
           0.6037735849056604,
           0.5797101449275363,
           0.6577319587628866,
           0,
           "Gael Monfils"
          ],
          [
           0.46835443037974683,
           0.14285714285714285,
           0.20408163265306123,
           1,
           "Galo Blanco"
          ],
          [
           0.4,
           0.42857142857142855,
           0.41732283464566927,
           2,
           "Gary Muller"
          ],
          [
           0.660436137071651,
           0.25,
           0.42105263157894735,
           1,
           "Gaston Gaudio"
          ],
          [
           0.6060606060606061,
           0.5357142857142857,
           0.7388535031847133,
           0,
           "Gene Mayer"
          ],
          [
           0.25,
           0.3333333333333333,
           0.32,
           2,
           "Gene Stuart Malin"
          ],
          [
           0.5040650406504065,
           0.49137931034482757,
           0.5,
           0,
           "Geoff Masters"
          ],
          [
           0.42857142857142855,
           0.6666666666666666,
           0.25,
           2,
           "George Amaya"
          ],
          [
           0.2222222222222222,
           0.1875,
           0.4065934065934066,
           1,
           "George Bastl"
          ],
          [
           0.29577464788732394,
           0.3142857142857143,
           0.37681159420289856,
           2,
           "George Hardie"
          ],
          [
           0.45185185185185184,
           0.4666666666666667,
           0.48,
           2,
           "Georges Goven"
          ],
          [
           0.44274809160305345,
           0.45,
           0.46835443037974683,
           2,
           "Gerald Battrick"
          ],
          [
           0.3333333333333333,
           0.5,
           0.16666666666666666,
           2,
           "German Puentes"
          ],
          [
           0.14634146341463414,
           0.47058823529411764,
           0.41732283464566927,
           2,
           "Gianluca Pozzi"
          ],
          [
           0.4,
           0.35714285714285715,
           0.49056603773584906,
           1,
           "Gianni Ocleppo"
          ],
          [
           0.25,
           0.45454545454545453,
           0.49230769230769234,
           2,
           "Gilad Bloom"
          ],
          [
           0.3333333333333333,
           0.45,
           0.3333333333333333,
           2,
           "Gilles Elseneer"
          ],
          [
           0.4069767441860465,
           0.2857142857142857,
           0.4444444444444444,
           1,
           "Gilles Moretton"
          ],
          [
           0.4576271186440678,
           0.5555555555555556,
           0.5272108843537415,
           0,
           "Gilles Muller"
          ],
          [
           0.5658914728682171,
           0.5777777777777777,
           0.5787401574803149,
           0,
           "Gilles Simon"
          ],
          [
           0.24,
           0.3333333333333333,
           0.4583333333333333,
           2,
           "Giovanni Lapentti"
          ],
          [
           0.3333333333333333,
           0.2,
           0.125,
           1,
           "Glen Holroyd"
          ],
          [
           0.25,
           0.4418604651162791,
           0.45054945054945056,
           2,
           "Glenn Layendecker"
          ],
          [
           0.29411764705882354,
           0.36,
           0.391304347826087,
           2,
           "Glenn Michibata"
          ],
          [
           0.3076923076923077,
           0.23529411764705882,
           0.36538461538461536,
           1,
           "Go Soeda"
          ],
          [
           0.618421052631579,
           0.7171717171717171,
           0.5830903790087464,
           0,
           "Goran Ivanisevic"
          ],
          [
           0.5581395348837209,
           0.16666666666666666,
           0.4642857142857143,
           1,
           "Goran Prpic"
          ],
          [
           0.3333333333333333,
           0.3333333333333333,
           0.3673469387755102,
           2,
           "Gouichi Motomura"
          ],
          [
           0.33783783783783783,
           0.4897959183673469,
           0.2982456140350877,
           2,
           "Graham Stilwell"
          ],
          [
           0.3333333333333333,
           0.5,
           0.424,
           2,
           "Grant Stafford"
          ],
          [
           0.3333333333333333,
           0.6,
           0.2727272727272727,
           2,
           "Graydon Garner"
          ],
          [
           0.1111111111111111,
           0.4074074074074074,
           0.5454545454545454,
           2,
           "Greg Holmes"
          ],
          [
           0.37037037037037035,
           0.7049180327868853,
           0.5907928388746803,
           0,
           "Greg Rusedski"
          ],
          [
           0.5,
           0.5333333333333333,
           0.40816326530612246,
           0,
           "Grega Zemlja"
          ],
          [
           0.16666666666666666,
           0.3333333333333333,
           0.34782608695652173,
           2,
           "Gregoire Barrere"
          ],
          [
           0.5867768595041323,
           0.5806451612903226,
           0.6131805157593123,
           0,
           "Grigor Dimitrov"
          ],
          [
           0.25,
           0.375,
           0.35555555555555557,
           2,
           "Grover Raz Reid"
          ],
          [
           0.2631578947368421,
           0.25,
           0.38461538461538464,
           1,
           "Guido Andreozzi"
          ],
          [
           0.5446428571428571,
           0.4444444444444444,
           0.4174757281553398,
           0,
           "Guido Pella"
          ],
          [
           0.28846153846153844,
           0.4375,
           0.46153846153846156,
           2,
           "Guillaume Raoux"
          ],
          [
           0.2777777777777778,
           0.3333333333333333,
           0.45,
           2,
           "Guillaume Rufin"
          ],
          [
           0.5904761904761905,
           0.5909090909090909,
           0.5536723163841808,
           0,
           "Guillermo Canas"
          ],
          [
           0.7165775401069518,
           0.5555555555555556,
           0.5862068965517241,
           0,
           "Guillermo Coria"
          ],
          [
           0.49635036496350365,
           0.48333333333333334,
           0.4222222222222222,
           0,
           "Guillermo Garcia Lopez"
          ],
          [
           0.7968936678614098,
           0.7291666666666666,
           0.6918238993710691,
           0,
           "Guillermo Vilas"
          ],
          [
           0.7011494252873564,
           0.4666666666666667,
           0.6228813559322034,
           0,
           "Gustavo Kuerten"
          ],
          [
           0.5210526315789473,
           0.5897435897435898,
           0.6074380165289256,
           0,
           "Guy Forget"
          ],
          [
           0.4230769230769231,
           0.6442953020134228,
           0.5647058823529412,
           0,
           "Hank Pfister"
          ],
          [
           0.21428571428571427,
           0.3333333333333333,
           0.2,
           2,
           "Hans Dieter Beutel"
          ],
          [
           0.6175548589341693,
           0.3333333333333333,
           0.2,
           1,
           "Hans Gildemeister"
          ],
          [
           0.3855421686746988,
           0.375,
           0.25,
           1,
           "Hans Joachim Ploetz"
          ],
          [
           0.5133333333333333,
           0.2857142857142857,
           0.5777777777777777,
           1,
           "Hans Jurgen Pohmann"
          ],
          [
           0.41295546558704455,
           0.2857142857142857,
           0.4666666666666667,
           1,
           "Hans Kary"
          ],
          [
           0.4262295081967213,
           0.5,
           0.30434782608695654,
           2,
           "Hans Schwaier"
          ],
          [
           0.3548387096774194,
           0.25,
           0.40625,
           1,
           "Hans Simonsson"
          ],
          [
           0.52,
           0.35294117647058826,
           0.5,
           1,
           "Harald Elschenbroich"
          ],
          [
           0.4146341463414634,
           0.375,
           0.38144329896907214,
           1,
           "Harel Levy"
          ],
          [
           0.690537084398977,
           0.2857142857142857,
           0.6472727272727272,
           0,
           "Harold Solomon"
          ],
          [
           0.3404255319148936,
           0.3333333333333333,
           0.47619047619047616,
           2,
           "Haroon Rahim"
          ],
          [
           0.5,
           0.5,
           0.2857142857142857,
           2,
           "Heiner Moraing"
          ],
          [
           0.5773195876288659,
           0.45454545454545453,
           0.5590551181102362,
           0,
           "Heinz Gunthardt"
          ],
          [
           0.3770491803278688,
           0.36666666666666664,
           0.532608695652174,
           2,
           "Hendrik Dreekmann"
          ],
          [
           0.1111111111111111,
           0.16666666666666666,
           0.36363636363636365,
           2,
           "Hendrik Jan Davids"
          ],
          [
           0.5970149253731343,
           0.6451612903225806,
           0.567741935483871,
           0,
           "Henri Leconte"
          ],
          [
           0.2631578947368421,
           0.5789473684210527,
           0.4811320754716981,
           2,
           "Henrik Holm"
          ],
          [
           0.6751269035532995,
           0.29411764705882354,
           0.34375,
           1,
           "Henrik Sundstrom"
          ],
          [
           0.3125,
           0.3333333333333333,
           0.3333333333333333,
           2,
           "Henry Bunis"
          ],
          [
           0.4,
           0.3,
           0.375,
           1,
           "Henry Hank Irvine"
          ],
          [
           0.6923076923076923,
           0.47619047619047616,
           0.5454545454545454,
           0,
           "Herb Fitzgibbon"
          ],
          [
           0.5,
           0.5142857142857142,
           0.4823529411764706,
           0,
           "Hicham Arazi"
          ],
          [
           0.453125,
           0.15384615384615385,
           0.37349397590361444,
           1,
           "Horacio Zeballos"
          ],
          [
           0.5907590759075908,
           0.14285714285714285,
           0.34328358208955223,
           1,
           "Horst Skoff"
          ],
          [
           0.4,
           0.5,
           0.4931506849315068,
           2,
           "Hubert Hurkacz"
          ],
          [
           0.28,
           0.3333333333333333,
           0.4,
           2,
           "Humphrey Hose"
          ],
          [
           0.3157894736842105,
           0.42857142857142855,
           0.26666666666666666,
           2,
           "Huub Van Boeckel"
          ],
          [
           0.5483870967741935,
           0.3333333333333333,
           0.5309734513274337,
           1,
           "Hyeon Chung"
          ],
          [
           0.5,
           0.48717948717948717,
           0.48325358851674644,
           0,
           "Hyung Taik Lee"
          ],
          [
           0.425531914893617,
           0.5365853658536586,
           0.45454545454545453,
           2,
           "Ian Fletcher"
          ],
          [
           0.5339366515837104,
           0.48484848484848486,
           0.47692307692307695,
           0,
           "Igor Andreev"
          ],
          [
           0.26666666666666666,
           0.32432432432432434,
           0.37662337662337664,
           2,
           "Igor Kunitsyn"
          ],
          [
           0.30303030303030304,
           0.43478260869565216,
           0.35365853658536583,
           2,
           "Igor Sijsling"
          ],
          [
           0.7833001988071571,
           0.7027027027027027,
           0.7025089605734767,
           0,
           "Ilie Nastase"
          ],
          [
           0.5,
           0.3333333333333333,
           0.2,
           1,
           "Ilija Bozoljac"
          ],
          [
           0.16666666666666666,
           0.3,
           0.45871559633027525,
           2,
           "Illya Marchenko"
          ],
          [
           0.14285714285714285,
           0.6666666666666666,
           0.4791666666666667,
           2,
           "Ilya Ivashka"
          ],
          [
           0.5652173913043478,
           0.2222222222222222,
           0.36363636363636365,
           1,
           "Ingo Buding"
          ],
          [
           0.375,
           0.25,
           0.3076923076923077,
           1,
           "Inigo Cervantes Huegun"
          ],
          [
           0.5934579439252337,
           0.4634146341463415,
           0.4027777777777778,
           0,
           "Ion Tiriac"
          ],
          [
           0.45,
           0.35714285714285715,
           0.3018867924528302,
           1,
           "Irakli Labadze"
          ],
          [
           0.47641509433962265,
           0.5066666666666667,
           0.4642857142857143,
           0,
           "Ismail El Shafei"
          ],
          [
           0.421875,
           0.5483870967741935,
           0.4539877300613497,
           2,
           "Ivan Dodig"
          ],
          [
           0.8103448275862069,
           0.75,
           0.8257261410788381,
           0,
           "Ivan Lendl"
          ],
          [
           0.5585106382978723,
           0.48,
           0.6034063260340633,
           0,
           "Ivan Ljubicic"
          ],
          [
           0.48484848484848486,
           0.6666666666666666,
           0.3,
           0,
           "Ivan Miranda"
          ],
          [
           0.49056603773584906,
           0.14285714285714285,
           0.26666666666666666,
           1,
           "Ivan Molina"
          ],
          [
           0.41379310344827586,
           0.35294117647058826,
           0.2,
           1,
           "Ivan Navarro"
          ],
          [
           0.125,
           0.3333333333333333,
           0.3181818181818182,
           2,
           "Ivo Heuberger"
          ],
          [
           0.42424242424242425,
           0.6293103448275862,
           0.5223214285714286,
           0,
           "Ivo Karlovic"
          ],
          [
           0.3181818181818182,
           0.23076923076923078,
           0.4090909090909091,
           1,
           "Ivo Minar"
          ],
          [
           0.3333333333333333,
           0.5,
           0.5652173913043478,
           2,
           "Izak Van Der Merwe"
          ],
          [
           0.4864864864864865,
           0.574468085106383,
           0.37755102040816324,
           0,
           "Jacco Eltingh"
          ],
          [
           0.5789473684210527,
           0.5217391304347826,
           0.555045871559633,
           0,
           "Jack Sock"
          ],
          [
           0.2857142857142857,
           0.25,
           0.125,
           1,
           "Jai Dilouie"
          ],
          [
           0.6363636363636364,
           0.524390243902439,
           0.5607476635514018,
           0,
           "Jaime Fillol"
          ],
          [
           0.475,
           0.5,
           0.42857142857142855,
           0,
           "Jaime Oncins"
          ],
          [
           0.44285714285714284,
           0.2,
           0.3333333333333333,
           1,
           "Jaime Pinto Bravo"
          ],
          [
           0.5401069518716578,
           0.4166666666666667,
           0.5634920634920635,
           0,
           "Jaime Yzaga"
          ],
          [
           0.5549738219895288,
           0.5142857142857142,
           0.5551601423487544,
           0,
           "Jakob Hlasek"
          ],
          [
           0.46,
           0.5161290322580645,
           0.6316964285714286,
           0,
           "James Blake"
          ],
          [
           0.15789473684210525,
           0.15384615384615385,
           0.42857142857142855,
           1,
           "James Chico Hagey"
          ],
          [
           0.25,
           0.2222222222222222,
           0.3387096774193548,
           1,
           "James Duckworth"
          ],
          [
           0.3333333333333333,
           0.25,
           0.25,
           1,
           "Jamie Baker"
          ],
          [
           0.3684210526315789,
           0.47619047619047616,
           0.43529411764705883,
           2,
           "Jamie Morgan"
          ],
          [
           0.3448275862068966,
           0.5454545454545454,
           0.4,
           2,
           "Jan Apell"
          ],
          [
           0.4842105263157895,
           0.47368421052631576,
           0.5447154471544715,
           0,
           "Jan Gunnarsson"
          ],
          [
           0.30952380952380953,
           0.475,
           0.4215686274509804,
           2,
           "Jan Hernych"
          ],
          [
           0.6924882629107981,
           0.6451612903225806,
           0.5225225225225225,
           0,
           "Jan Kodes"
          ],
          [
           0.3333333333333333,
           0.3076923076923077,
           0.4625,
           1,
           "Jan Kroslak"
          ],
          [
           0.4032258064516129,
           0.4,
           0.2777777777777778,
           2,
           "Jan Kukal"
          ],
          [
           0.45263157894736844,
           0.375,
           0.48255813953488375,
           1,
           "Jan Lennard Struff"
          ],
          [
           0.52,
           0.5714285714285714,
           0.6,
           0,
           "Jan Leschly"
          ],
          [
           0.2127659574468085,
           0.5227272727272727,
           0.5586206896551724,
           2,
           "Jan Michael Gambill"
          ],
          [
           0.2608695652173913,
           0.3333333333333333,
           0.39473684210526316,
           2,
           "Jan Norback"
          ],
          [
           0.3793103448275862,
           0.4666666666666667,
           0.5137254901960784,
           2,
           "Jan Siemerink"
          ],
          [
           0.26666666666666666,
           0.4827586206896552,
           0.26666666666666666,
           2,
           "Jan Vacek"
          ],
          [
           0.5140845070422535,
           0.5277777777777778,
           0.5356037151702786,
           0,
           "Janko Tipsarevic"
          ],
          [
           0.26666666666666666,
           0.42857142857142855,
           0.4691358024691358,
           2,
           "Jared Donaldson"
          ],
          [
           0.5263157894736842,
           0.3888888888888889,
           0.4625,
           1,
           "Jared Palmer"
          ],
          [
           0.5609756097560976,
           0.43859649122807015,
           0.5377969762419006,
           0,
           "Jarkko Nieminen"
          ],
          [
           0.3333333333333333,
           0.23529411764705882,
           0.3076923076923077,
           1,
           "Jasjit Singh"
          ],
          [
           0.5784313725490197,
           0.6145833333333334,
           0.5194029850746269,
           0,
           "Jason Stoltenberg"
          ],
          [
           0.5739130434782609,
           0.5555555555555556,
           0.4473684210526316,
           0,
           "Javier Frana"
          ],
          [
           0.5375,
           0.2727272727272727,
           0.45454545454545453,
           1,
           "Javier Sanchez"
          ],
          [
           0.6455696202531646,
           0.5,
           0.6612903225806451,
           0,
           "Jay Berger"
          ],
          [
           0.3953488372093023,
           0.42105263157894735,
           0.4444444444444444,
           2,
           "Jay Lapidus"
          ],
          [
           0.22727272727272727,
           0.4358974358974359,
           0.3548387096774194,
           2,
           "Jean Baptiste Chanfreau"
          ],
          [
           0.3333333333333333,
           0.125,
           0.42857142857142855,
           1,
           "Jean Claude Barclay"
          ],
          [
           0.4489795918367347,
           0.13333333333333333,
           0.3333333333333333,
           1,
           "Jean Francois Caujolle"
          ],
          [
           0.3125,
           0.3,
           0.45714285714285713,
           2,
           "Jean Louis Haillet"
          ],
          [
           0.5405405405405406,
           0.3870967741935484,
           0.375,
           1,
           "Jean Loup Rouyer"
          ],
          [
           0.3888888888888889,
           0.4,
           0.4097222222222222,
           2,
           "Jean Philippe Fleurian"
          ],
          [
           0.4084507042253521,
           0.2,
           0.3559322033898305,
           1,
           "Jean Rene Lisnard"
          ],
          [
           0.2631578947368421,
           0.36363636363636365,
           0.425,
           2,
           "Jeff Austin"
          ],
          [
           0.5251396648044693,
           0.44776119402985076,
           0.4588235294117647,
           0,
           "Jeff Borowiak"
          ],
          [
           0.14285714285714285,
           0.375,
           0.373134328358209,
           2,
           "Jeff Morrison"
          ],
          [
           0.25,
           0.3333333333333333,
           0.2727272727272727,
           2,
           "Jeff Salzenstein"
          ],
          [
           0.2647058823529412,
           0.5,
           0.22580645161290322,
           2,
           "Jeff Simpson"
          ],
          [
           0.4537037037037037,
           0.34146341463414637,
           0.46645367412140576,
           1,
           "Jeff Tarango"
          ],
          [
           0.6,
           0.3333333333333333,
           0.4,
           1,
           "Jeff Turpin"
          ],
          [
           0.39655172413793105,
           0.5454545454545454,
           0.3448275862068966,
           2,
           "Jens Knippschild"
          ],
          [
           0.4230769230769231,
           0.3333333333333333,
           0.3333333333333333,
           1,
           "Jens Woehrmann"
          ],
          [
           0.2564102564102564,
           0.4574468085106383,
           0.42028985507246375,
           2,
           "Jeremy Bates"
          ],
          [
           0.5228426395939086,
           0.4827586206896552,
           0.47896440129449835,
           0,
           "Jeremy Chardy"
          ],
          [
           0.4473684210526316,
           0.46875,
           0.5483870967741935,
           0,
           "Jerome Golmard"
          ],
          [
           0.3611111111111111,
           0.2222222222222222,
           0.4666666666666667,
           1,
           "Jerome Potier"
          ],
          [
           0.358974358974359,
           0.6153846153846154,
           0.52,
           0,
           "Jerzy Janowicz"
          ],
          [
           0.25,
           0.25,
           0.19047619047619047,
           1,
           "Jesse Huta Galung"
          ],
          [
           0.14285714285714285,
           0.4166666666666667,
           0.3125,
           2,
           "Jesse Levine"
          ],
          [
           0.875,
           0.5,
           0.6111111111111112,
           0,
           "Jia Ping Xia"
          ],
          [
           0.6845238095238095,
           0.6222222222222222,
           0.7094430992736077,
           0,
           "Jim Courier"
          ],
          [
           0.3283582089552239,
           0.43243243243243246,
           0.3709677419354839,
           2,
           "Jim Delaney"
          ],
          [
           0.1875,
           0.3333333333333333,
           0.50199203187251,
           2,
           "Jim Grabb"
          ],
          [
           0.4375,
           0.4,
           0.2571428571428571,
           1,
           "Jim Gurfein"
          ],
          [
           0.2345679012345679,
           0.4,
           0.36585365853658536,
           2,
           "Jim Mcmanus"
          ],
          [
           0.45161290322580644,
           0.4827586206896552,
           0.47540983606557374,
           0,
           "Jim Osborne"
          ],
          [
           0.3870967741935484,
           0.5555555555555556,
           0.47058823529411764,
           2,
           "Jim Pugh"
          ],
          [
           0.6108786610878661,
           0.5,
           0.5491071428571429,
           0,
           "Jimmy Arias"
          ],
          [
           0.7703703703703704,
           0.8207547169811321,
           0.819935691318328,
           0,
           "Jimmy Connors"
          ],
          [
           0.2857142857142857,
           0.391304347826087,
           0.46296296296296297,
           2,
           "Jimmy Wang"
          ],
          [
           0.5384615384615384,
           0.43478260869565216,
           0.4107142857142857,
           1,
           "Jiri Hrebec"
          ],
          [
           0.5638766519823789,
           0.4857142857142857,
           0.5735294117647058,
           0,
           "Jiri Novak"
          ],
          [
           0.42105263157894735,
           0.125,
           0.3,
           1,
           "Jiri Vanek"
          ],
          [
           0.5,
           0.6,
           0.4049586776859504,
           0,
           "Jiri Vesely"
          ],
          [
           0.6267605633802817,
           0.6933333333333334,
           0.6845493562231759,
           0,
           "Jo-Wilfried Tsonga"
          ],
          [
           0.17647058823529413,
           0.5,
           0.6082474226804123,
           2,
           "Joachim Johansson"
          ],
          [
           0.6559633027522935,
           0.6216216216216216,
           0.6593406593406593,
           0,
           "Joakim Nystrom"
          ],
          [
           0.32558139534883723,
           0.2,
           0.40625,
           1,
           "Joao Cunha Silva"
          ],
          [
           0.2923076923076923,
           0.3333333333333333,
           0.23076923076923078,
           2,
           "Joao Soares"
          ],
          [
           0.4968553459119497,
           0.4117647058823529,
           0.45045045045045046,
           1,
           "Joao Sousa"
          ],
          [
           0.43010752688172044,
           0.5121951219512195,
           0.3137254901960784,
           2,
           "Joaquin Loyo Mayo"
          ],
          [
           0.25,
           0.5,
           0.5,
           2,
           "Joe Meyers"
          ],
          [
           0.25,
           0.18181818181818182,
           0.47058823529411764,
           1,
           "Joern Renzenbrink"
          ],
          [
           0.25,
           0.5217391304347826,
           0.41975308641975306,
           2,
           "Joey Rive"
          ],
          [
           0.5,
           0.2,
           0.4,
           1,
           "Johan Anderson"
          ],
          [
           0.30434782608695654,
           0.3333333333333333,
           0.4673913043478261,
           2,
           "Johan Carlsson"
          ],
          [
           0.5,
           0.7264957264957265,
           0.6245353159851301,
           0,
           "Johan Kriek"
          ],
          [
           0.6238244514106583,
           0.5951219512195122,
           0.5747663551401869,
           0,
           "John Alexander"
          ],
          [
           0.46875,
           0.375,
           0.4,
           1,
           "John Andrews"
          ],
          [
           0.2727272727272727,
           0.32,
           0.4583333333333333,
           2,
           "John Austin"
          ],
          [
           0.24074074074074073,
           0.3170731707317073,
           0.1111111111111111,
           2,
           "John Bartlett"
          ],
          [
           0.3333333333333333,
           0.3076923076923077,
           0.4,
           1,
           "John Brown"
          ],
          [
           0.2857142857142857,
           0.5932203389830508,
           0.5098039215686274,
           2,
           "John Cooper"
          ],
          [
           0.2903225806451613,
           0.328125,
           0.21428571428571427,
           2,
           "John Feaver"
          ],
          [
           0.2777777777777778,
           0.5868263473053892,
           0.48677248677248675,
           2,
           "John Fitzgerald"
          ],
          [
           0.43333333333333335,
           0.36363636363636365,
           0.4878048780487805,
           1,
           "John Frawley"
          ],
          [
           0.3333333333333333,
           0.5,
           0.16666666666666666,
           2,
           "John Gardner"
          ],
          [
           0.5426356589147286,
           0.6712328767123288,
           0.626,
           0,
           "John Isner"
          ],
          [
           0.35294117647058826,
           0.4634146341463415,
           0.38461538461538464,
           2,
           "John James"
          ],
          [
           0.41007194244604317,
           0.49166666666666664,
           0.45864661654135336,
           2,
           "John Lloyd"
          ],
          [
           0.18181818181818182,
           0.3673469387755102,
           0.2,
           2,
           "John Marks"
          ],
          [
           0.5,
           0.25,
           0.4,
           1,
           "John Mattke"
          ],
          [
           0.7192982456140351,
           0.8581560283687943,
           0.8100558659217877,
           0,
           "John McEnroe"
          ],
          [
           0.36666666666666664,
           0.43478260869565216,
           0.48175182481751827,
           2,
           "John Millman"
          ],
          [
           0.7169811320754716,
           0.7837837837837838,
           0.7102272727272727,
           0,
           "John Newcombe"
          ],
          [
           0.24,
           0.4166666666666667,
           0.3076923076923077,
           2,
           "John Paish"
          ],
          [
           0.2631578947368421,
           0.4,
           0.3673469387755102,
           2,
           "John Ross"
          ],
          [
           0.4827586206896552,
           0.5964912280701754,
           0.4878048780487805,
           0,
           "John Sadri"
          ],
          [
           0.30952380952380953,
           0.4482758620689655,
           0.41025641025641024,
           2,
           "John Van Lottum"
          ],
          [
           0.30952380952380953,
           0.45454545454545453,
           0.375,
           2,
           "John Whitlinger"
          ],
          [
           0.39473684210526316,
           0.42857142857142855,
           0.38596491228070173,
           2,
           "John Yuill"
          ],
          [
           0.25,
           0.25,
           0.22727272727272727,
           1,
           "Jon Levine"
          ],
          [
           0.36,
           0.6507936507936508,
           0.5355555555555556,
           0,
           "Jonas Bjorkman"
          ],
          [
           0.4927536231884058,
           0.5,
           0.5844155844155844,
           0,
           "Jonas Svensson"
          ],
          [
           0.21428571428571427,
           0.375,
           0.47474747474747475,
           2,
           "Jonathan Canter"
          ],
          [
           0.36666666666666664,
           0.3584905660377358,
           0.3,
           1,
           "Jonathan Smith"
          ],
          [
           0.3684210526315789,
           0.4883720930232558,
           0.45698924731182794,
           2,
           "Jonathan Stark"
          ],
          [
           0.38095238095238093,
           0.38095238095238093,
           0.4418604651162791,
           2,
           "Jordan Thompson"
          ],
          [
           0.4697986577181208,
           0.5,
           0.2777777777777778,
           2,
           "Jordi Burillo"
          ],
          [
           0.20512820512820512,
           0.26666666666666666,
           0.17647058823529413,
           2,
           "Jorge Andrew"
          ],
          [
           0.3,
           0.25,
           0.3333333333333333,
           1,
           "Jorgen Ulrich"
          ],
          [
           0.6778169014084507,
           0.5,
           0.5576923076923077,
           0,
           "Jose Higueras"
          ],
          [
           0.416,
           0.3333333333333333,
           0.38095238095238093,
           1,
           "Jose Lopez Maeso"
          ],
          [
           0.7682619647355163,
           0.5238095238095238,
           0.7096774193548387,
           0,
           "Jose Luis Clerc"
          ],
          [
           0.4818181818181818,
           0.5,
           0.25,
           2,
           "Jose Luis Damiani"
          ],
          [
           0.40540540540540543,
           0.3125,
           0.2857142857142857,
           1,
           "Jose Mandarino"
          ],
          [
           0.545816733067729,
           0.5,
           0.2631578947368421,
           1,
           "Juan Aguilera"
          ],
          [
           0.44086021505376344,
           0.3333333333333333,
           0.20689655172413793,
           1,
           "Juan Albert Viloca Puig"
          ],
          [
           0.7277936962750716,
           0.6122448979591837,
           0.5705128205128205,
           0,
           "Juan Carlos Ferrero"
          ],
          [
           0.5601851851851852,
           0.6666666666666666,
           0.5409836065573771,
           0,
           "Juan Gisbert"
          ],
          [
           0.5963855421686747,
           0.26666666666666666,
           0.5,
           1,
           "Juan Ignacio Chela"
          ],
          [
           0.5777777777777777,
           0.3333333333333333,
           0.23529411764705882,
           1,
           "Juan Ignacio Londero"
          ],
          [
           0.6942148760330579,
           0.6896551724137931,
           0.7228637413394919,
           0,
           "Juan Martin del Potro"
          ],
          [
           0.6226912928759895,
           0.3888888888888889,
           0.463768115942029,
           0,
           "Juan Monaco"
          ],
          [
           0.4672897196261682,
           0.4444444444444444,
           0.4,
           2,
           "Julian Ganzabal"
          ],
          [
           0.14285714285714285,
           0.3333333333333333,
           0.1875,
           2,
           "Julian Knowle"
          ],
          [
           0.4144144144144144,
           0.47368421052631576,
           0.4943820224719101,
           2,
           "Julien Benneteau"
          ],
          [
           0.5172413793103449,
           0.1111111111111111,
           0.3559322033898305,
           1,
           "Julien Boutter"
          ],
          [
           0.4473684210526316,
           0.38235294117647056,
           0.37142857142857144,
           1,
           "Jun Kamiwazumi"
          ],
          [
           0.371900826446281,
           0.25,
           0.3939393939393939,
           1,
           "Jun Kuki"
          ],
          [
           0.5029940119760479,
           0.46875,
           0.5285714285714286,
           0,
           "Jurgen Fassbender"
          ],
          [
           0.5210084033613446,
           0.527027027027027,
           0.5098039215686274,
           0,
           "Jurgen Melzer"
          ],
          [
           0.16666666666666666,
           0.3333333333333333,
           0.5,
           2,
           "Justin Bower"
          ],
          [
           0.32,
           0.4067796610169492,
           0.3858695652173913,
           2,
           "Justin Gimelstob"
          ],
          [
           0.3333333333333333,
           0.25,
           0.3333333333333333,
           1,
           "Kamil Majchrzak"
          ],
          [
           0.6163934426229508,
           0.4166666666666667,
           0.49107142857142855,
           0,
           "Karel Novacek"
          ],
          [
           0.5714285714285714,
           0.6666666666666666,
           0.5345911949685535,
           0,
           "Karen Khachanov"
          ],
          [
           0.5313807531380753,
           0.3333333333333333,
           0.375,
           1,
           "Karim Alami"
          ],
          [
           0.545,
           0.5416666666666666,
           0.5625,
           0,
           "Karl Meiler"
          ],
          [
           0.09090909090909091,
           0.4375,
           0.36036036036036034,
           2,
           "Karol Beck"
          ],
          [
           0.475,
           0.5967741935483871,
           0.5515695067264574,
           0,
           "Karol Kucera"
          ],
          [
           0.3409090909090909,
           0.44,
           0.45454545454545453,
           2,
           "Karsten Braasch"
          ],
          [
           0.6879432624113475,
           0.6060606060606061,
           0.6750629722921915,
           0,
           "Kei Nishikori"
          ],
          [
           0.3333333333333333,
           0.42857142857142855,
           0.5,
           2,
           "Keith Diepraam"
          ],
          [
           0.42857142857142855,
           0.5846153846153846,
           0.46710526315789475,
           0,
           "Kelly Evernden"
          ],
          [
           0.8029197080291971,
           0.7894736842105263,
           0.7315789473684211,
           0,
           "Ken Rosewall"
          ],
          [
           0.11764705882352941,
           0.1111111111111111,
           0.2727272727272727,
           1,
           "Kenichi Hirai"
          ],
          [
           0.2909090909090909,
           0.45588235294117646,
           0.5062111801242236,
           2,
           "Kenneth Carlsen"
          ],
          [
           0.23076923076923078,
           0.42857142857142855,
           0.2926829268292683,
           2,
           "Kenny De Schepper"
          ],
          [
           0.5277777777777778,
           0.5909090909090909,
           0.6119402985074627,
           0,
           "Kevin Anderson"
          ],
          [
           0.3333333333333333,
           0.6635514018691588,
           0.56640625,
           0,
           "Kevin Curren"
          ],
          [
           0.2,
           0.2222222222222222,
           0.34615384615384615,
           2,
           "Kevin Kim"
          ],
          [
           0.51875,
           0.5675675675675675,
           0.45528455284552843,
           0,
           "Kim Warwick"
          ],
          [
           0.4887640449438202,
           0.2222222222222222,
           0.4318181818181818,
           1,
           "Kjell Johansson"
          ],
          [
           0.46808510638297873,
           0.3333333333333333,
           0.3076923076923077,
           1,
           "Klaus Eberhard"
          ],
          [
           0.4,
           0.18181818181818182,
           0.5,
           1,
           "Koji Watanabe"
          ],
          [
           0.5,
           0.2,
           0.2222222222222222,
           1,
           "Konstantin Kravchuk"
          ],
          [
           0.34615384615384615,
           0.25,
           0.40476190476190477,
           1,
           "Kristian Pless"
          ],
          [
           0.42857142857142855,
           0.37037037037037035,
           0.4222222222222222,
           1,
           "Kristof Vliegen"
          ],
          [
           0.49056603773584906,
           0.3870967741935484,
           0.5333333333333333,
           0,
           "Kyle Edmund"
          ],
          [
           0.375,
           0.2608695652173913,
           0.4473684210526316,
           1,
           "Larry Stefanki"
          ],
          [
           0.3125,
           0.3076923076923077,
           0.3923076923076923,
           2,
           "Lars Burgsmuller"
          ],
          [
           0.41025641025641024,
           0.2222222222222222,
           0.4027777777777778,
           1,
           "Lars Jonsson"
          ],
          [
           0.6338028169014085,
           0.2,
           0.21212121212121213,
           1,
           "Laslo Djere"
          ],
          [
           0.1,
           0.5263157894736842,
           0.38,
           2,
           "Laurence Tieleman"
          ],
          [
           0.42857142857142855,
           0.6571428571428571,
           0.40860215053763443,
           0,
           "Leander Paes"
          ],
          [
           0.4782608695652174,
           0.3333333333333333,
           0.3333333333333333,
           1,
           "Leif Johansson"
          ],
          [
           0.2727272727272727,
           0.5,
           0.30985915492957744,
           2,
           "Leif Shiras"
          ],
          [
           0.3,
           0.2,
           0.07692307692307693,
           1,
           "Lenny Schloss"
          ],
          [
           0.37209302325581395,
           0.2,
           0.3170731707317073,
           1,
           "Leo Palin"
          ],
          [
           0.4861111111111111,
           0.15384615384615385,
           0.4090909090909091,
           1,
           "Leonardo Lavalle"
          ],
          [
           0.5254237288135594,
           0.45714285714285713,
           0.4303030303030303,
           0,
           "Leonardo Mayer"
          ],
          [
           0.45,
           0.5714285714285714,
           0.5,
           0,
           "Lew Hoad"
          ],
          [
           0.3025210084033613,
           0.2,
           0.2,
           1,
           "Lito Alvarez"
          ],
          [
           0.6363636363636364,
           0.7543859649122807,
           0.7024482109227872,
           0,
           "Lleyton Hewitt"
          ],
          [
           0.45454545454545453,
           0.5098039215686274,
           0.38095238095238093,
           2,
           "Lloyd Bourne"
          ],
          [
           0.42424242424242425,
           0.375,
           0.3333333333333333,
           1,
           "Loic Courteau"
          ],
          [
           0.4772727272727273,
           0.625,
           0.3793103448275862,
           0,
           "Lorenzo Sonego"
          ],
          [
           0.3333333333333333,
           0.14285714285714285,
           0.18181818181818182,
           1,
           "Louis Gloria"
          ],
          [
           0.5555555555555556,
           0.5806451612903226,
           0.541095890410959,
           0,
           "Lucas Pouille"
          ],
          [
           0.47368421052631576,
           0.36363636363636365,
           0.6666666666666666,
           0,
           "Luis Ayala"
          ],
          [
           0.36666666666666664,
           0.48,
           0.3835616438356164,
           2,
           "Luis Herrera"
          ],
          [
           0.49390243902439024,
           0.14285714285714285,
           0.554140127388535,
           1,
           "Luiz Mattar"
          ],
          [
           0.35,
           0.2857142857142857,
           0.19047619047619047,
           1,
           "Lukas Dlouhy"
          ],
          [
           0.2,
           0.4186046511627907,
           0.41714285714285715,
           2,
           "Lukas Lacko"
          ],
          [
           0.5247524752475248,
           0.4,
           0.39375,
           1,
           "Lukas Rosol"
          ],
          [
           0.4742268041237113,
           0.52,
           0.36538461538461536,
           2,
           "Lukasz Kubot"
          ],
          [
           0.25,
           0.25,
           0.20689655172413793,
           1,
           "Luke Jensen"
          ],
          [
           0.3,
           0.625,
           0.35714285714285715,
           2,
           "Mackenzie McDonald"
          ],
          [
           0.649390243902439,
           0.5,
           0.546583850931677,
           0,
           "Magnus Gustafsson"
          ],
          [
           0.5699481865284974,
           0.5581395348837209,
           0.558252427184466,
           0,
           "Magnus Larsson"
          ],
          [
           0.6055555555555555,
           0.4666666666666667,
           0.5778894472361809,
           0,
           "Magnus Norman"
          ],
          [
           0.25,
           0.375,
           0.17647058823529413,
           2,
           "Mahesh Bhupathi"
          ],
          [
           0.35714285714285715,
           0.5932203389830508,
           0.6388888888888888,
           0,
           "Mal Anderson"
          ],
          [
           0.42592592592592593,
           0.2962962962962963,
           0.43243243243243246,
           1,
           "Malek Jaziri"
          ],
          [
           0.5657894736842105,
           0.5531914893617021,
           0.6016949152542372,
           0,
           "Malivai Washington"
          ],
          [
           0.7671232876712328,
           0.5740740740740741,
           0.5684210526315789,
           0,
           "Manuel Orantes"
          ],
          [
           0.7317073170731707,
           0.6428571428571429,
           0.5625,
           0,
           "Manuel Santana"
          ],
          [
           0.5960591133004927,
           0.5777777777777777,
           0.6033519553072626,
           0,
           "Marat Safin"
          ],
          [
           0.3333333333333333,
           0.4074074074074074,
           0.39622641509433965,
           2,
           "Marc Flur"
          ],
          [
           0.4406779661016949,
           0.4230769230769231,
           0.4215686274509804,
           2,
           "Marc Gicquel"
          ],
          [
           0.5117647058823529,
           0.4594594594594595,
           0.37373737373737376,
           1,
           "Marc Kevin Goellner"
          ],
          [
           0.425531914893617,
           0.3333333333333333,
           0.5,
           1,
           "Marc Lopez"
          ],
          [
           0.5042735042735043,
           0.4745762711864407,
           0.5436241610738255,
           0,
           "Marc Rosset"
          ],
          [
           0.38235294117647056,
           0.35,
           0.4027777777777778,
           1,
           "Marcel Freeman"
          ],
          [
           0.48130841121495327,
           0.4473684210526316,
           0.4129353233830846,
           2,
           "Marcel Granollers"
          ],
          [
           0.43,
           0.2727272727272727,
           0.358974358974359,
           1,
           "Marcello Lara"
          ],
          [
           0.688212927756654,
           0.5,
           0.6666666666666666,
           0,
           "Marcelo Rios"
          ],
          [
           0.45121951219512196,
           0.25,
           0.23255813953488372,
           1,
           "Marco Cecchinato"
          ],
          [
           0.25925925925925924,
           0.4,
           0.35294117647058826,
           2,
           "Marco Chiudinelli"
          ],
          [
           0.3448275862068966,
           0.25,
           0.23529411764705882,
           1,
           "Marcos Aurelio Gorriz"
          ],
          [
           0.4318181818181818,
           0.5789473684210527,
           0.5727699530516432,
           0,
           "Marcos Baghdatis"
          ],
          [
           0.3728813559322034,
           0.14285714285714285,
           0.041666666666666664,
           1,
           "Marcos Daniel"
          ],
          [
           0.48360655737704916,
           0.5217391304347826,
           0.4411764705882353,
           0,
           "Marcos Hocevar"
          ],
          [
           0.45,
           0.43333333333333335,
           0.46835443037974683,
           2,
           "Marcos Ondruska"
          ],
          [
           0.46153846153846156,
           0.6388888888888888,
           0.58994708994709,
           0,
           "Mardy Fish"
          ],
          [
           0.5193370165745856,
           0.25,
           0.3090909090909091,
           1,
           "Marian Vajda"
          ],
          [
           0.6188118811881188,
           0.6868686868686869,
           0.6497975708502024,
           0,
           "Marin Cilic"
          ],
          [
           0.2962962962962963,
           0.4,
           0.42857142857142855,
           2,
           "Marinko Matosevic"
          ],
          [
           0.5737704918032787,
           0.7358490566037735,
           0.578125,
           0,
           "Mario Ancic"
          ],
          [
           0.2702702702702703,
           0.4,
           0.4742268041237113,
           2,
           "Marius Copil"
          ],
          [
           0.5,
           0.5,
           0.6111111111111112,
           0,
           "Mark Bailey"
          ],
          [
           0.5620437956204379,
           0.6153846153846154,
           0.5670731707317073,
           0,
           "Mark Cox"
          ],
          [
           0.524390243902439,
           0.5789473684210527,
           0.5058823529411764,
           0,
           "Mark Dickson"
          ],
          [
           0.4421768707482993,
           0.6374269005847953,
           0.46788990825688076,
           0,
           "Mark Edmondson"
          ],
          [
           0.10526315789473684,
           0.44,
           0.14285714285714285,
           2,
           "Mark Farrell"
          ],
          [
           0.5,
           0.42857142857142855,
           0.2,
           1,
           "Mark Kaplan"
          ],
          [
           0.3333333333333333,
           0.47058823529411764,
           0.34285714285714286,
           2,
           "Mark Knowles"
          ],
          [
           0.5,
           0.5,
           0.43902439024390244,
           0,
           "Mark Koevermans"
          ],
          [
           0.1,
           0.5102040816326531,
           0.34177215189873417,
           2,
           "Mark Kratzmann"
          ],
          [
           0.36363636363636365,
           0.37777777777777777,
           0.25,
           2,
           "Mark Petchey"
          ],
          [
           0.5591397849462365,
           0.6891891891891891,
           0.5993377483443708,
           0,
           "Mark Philippoussis"
          ],
          [
           0.38738738738738737,
           0.5368421052631579,
           0.5359281437125748,
           0,
           "Mark Woodforde"
          ],
          [
           0.42105263157894735,
           0.42857142857142855,
           0.31343283582089554,
           2,
           "Marko Ostoja"
          ],
          [
           0.4444444444444444,
           0.25,
           0.3333333333333333,
           1,
           "Markus Hantschk"
          ],
          [
           0.509090909090909,
           0.14285714285714285,
           0.3076923076923077,
           1,
           "Markus Hipfl"
          ],
          [
           0.38235294117647056,
           0.25,
           0.38461538461538464,
           1,
           "Markus Naewie"
          ],
          [
           0.2222222222222222,
           0.3125,
           0.44554455445544555,
           2,
           "Markus Zoecke"
          ],
          [
           0.25,
           0.3333333333333333,
           0.39215686274509803,
           2,
           "Marsel Ilhan"
          ],
          [
           0.17647058823529413,
           0.46938775510204084,
           0.41304347826086957,
           2,
           "Martin Damm"
          ],
          [
           0.08333333333333333,
           0.25,
           0.3333333333333333,
           2,
           "Martin Fischer"
          ],
          [
           0.6637931034482759,
           0.4444444444444444,
           0.5543478260869565,
           0,
           "Martin Jaite"
          ],
          [
           0.553030303030303,
           0.23529411764705882,
           0.44666666666666666,
           1,
           "Martin Klizan"
          ],
          [
           0.2,
           0.39473684210526316,
           0.1875,
           2,
           "Martin Lee"
          ],
          [
           0.632,
           0.25,
           0.3684210526315789,
           1,
           "Martin Mulligan"
          ],
          [
           0.29411764705882354,
           0.14285714285714285,
           0.5,
           1,
           "Martin Robinson"
          ],
          [
           0.3170731707317073,
           0.14285714285714285,
           0.4166666666666667,
           1,
           "Martin Sinner"
          ],
          [
           0.43617021276595747,
           0.2857142857142857,
           0.14814814814814814,
           1,
           "Martin Vassallo Arguello"
          ],
          [
           0.5079365079365079,
           0.3333333333333333,
           0.38636363636363635,
           1,
           "Martin Verkerk"
          ],
          [
           0.39436619718309857,
           0.42857142857142855,
           0.3584905660377358,
           2,
           "Martin Wostenholme"
          ],
          [
           0.5555555555555556,
           0.3076923076923077,
           0.4946236559139785,
           1,
           "Marton Fucsovics"
          ],
          [
           0.3953488372093023,
           0.5263157894736842,
           0.49101796407185627,
           2,
           "Marty Davis"
          ],
          [
           0.6527777777777778,
           0.6213592233009708,
           0.5833333333333334,
           0,
           "Marty Riessen"
          ],
          [
           0.35294117647058826,
           0.3333333333333333,
           0.45454545454545453,
           2,
           "Marzio Martelli"
          ],
          [
           0.47058823529411764,
           0.3333333333333333,
           0.3333333333333333,
           1,
           "Massimiliano Narducci"
          ],
          [
           0.7667638483965015,
           0.7424242424242424,
           0.7153846153846154,
           0,
           "Mats Wilander"
          ],
          [
           0.36363636363636365,
           0.5306122448979592,
           0.42990654205607476,
           2,
           "Matt Anger"
          ],
          [
           0.32,
           0.4166666666666667,
           0.4875,
           2,
           "Matt Doyle"
          ],
          [
           0.2631578947368421,
           0.38636363636363635,
           0.39705882352941174,
           2,
           "Matt Mitchell"
          ],
          [
           0.6666666666666666,
           0.7222222222222222,
           0.4838709677419355,
           0,
           "Matteo Berrettini"
          ],
          [
           0.5,
           0.5,
           0.5,
           0,
           "Matthew Barton"
          ],
          [
           0.07142857142857142,
           0.4444444444444444,
           0.38235294117647056,
           2,
           "Matthew Ebden"
          ],
          [
           0.36666666666666664,
           0.2222222222222222,
           0.391304347826087,
           1,
           "Matthias Bachinger"
          ],
          [
           0.4230769230769231,
           0.25,
           0.4423076923076923,
           1,
           "Maurice Ruah"
          ],
          [
           0.40594059405940597,
           0.5357142857142857,
           0.5097276264591439,
           0,
           "Max Mirnyi"
          ],
          [
           0.4,
           0.14285714285714285,
           0.3125,
           1,
           "Maximilian Marterer"
          ],
          [
           0.577922077922078,
           0.47058823529411764,
           0.5606060606060606,
           0,
           "Mel Purcell"
          ],
          [
           0.4,
           0.5,
           0.25,
           2,
           "Melle Van Gemerden"
          ],
          [
           0.41935483870967744,
           0.4,
           0.47619047619047616,
           2,
           "Menno Oosting"
          ],
          [
           0.2978723404255319,
           0.2916666666666667,
           0.4125,
           2,
           "Michael Berrer"
          ],
          [
           0.6445783132530121,
           0.5454545454545454,
           0.7044673539518901,
           0,
           "Michael Chang"
          ],
          [
           0.16666666666666666,
           0.4375,
           0.45121951219512196,
           2,
           "Michael Joyce"
          ],
          [
           0.42857142857142855,
           0.35714285714285715,
           0.24,
           1,
           "Michael Kohlmann"
          ],
          [
           0.3333333333333333,
           0.5945945945945946,
           0.4538152610441767,
           2,
           "Michael Llodra"
          ],
          [
           0.25,
           0.25,
           0.3902439024390244,
           1,
           "Michael Robertson"
          ],
          [
           0.2553191489361702,
           0.30303030303030304,
           0.3741496598639456,
           2,
           "Michael Russell"
          ],
          [
           0.6687898089171974,
           0.782051282051282,
           0.6630434782608695,
           0,
           "Michael Stich"
          ],
          [
           0.4,
           0.26666666666666666,
           0.45555555555555555,
           1,
           "Michael Tebbutt"
          ],
          [
           0.3333333333333333,
           0.2857142857142857,
           0.25,
           1,
           "Michael Wayman"
          ],
          [
           0.45652173913043476,
           0.25,
           0.45454545454545453,
           1,
           "Michael Westphal"
          ],
          [
           0.4166666666666667,
           0.2857142857142857,
           0.5,
           1,
           "Michal Mertinak"
          ],
          [
           0.20689655172413793,
           0.3333333333333333,
           0.2807017543859649,
           2,
           "Michal Przysiezny"
          ],
          [
           0.3829787234042553,
           0.5238095238095238,
           0.43820224719101125,
           2,
           "Michel Kratochvil"
          ],
          [
           0.37142857142857144,
           0.559322033898305,
           0.4866666666666667,
           2,
           "Michiel Schapers"
          ],
          [
           0.4117647058823529,
           0.5,
           0.8,
           0,
           "Miguel Olvera"
          ],
          [
           0.475,
           0.6666666666666666,
           0.6097560975609756,
           0,
           "Mikael Pernfors"
          ],
          [
           0.4696969696969697,
           0.2727272727272727,
           0.5416666666666666,
           1,
           "Mikael Tillstrom"
          ],
          [
           0.13333333333333333,
           0.5660377358490566,
           0.3333333333333333,
           2,
           "Mike Bauer"
          ],
          [
           0.6470588235294118,
           0.5,
           0.4482758620689655,
           0,
           "Mike Belkin"
          ],
          [
           0.4,
           0.4,
           0.375,
           2,
           "Mike Brunnberg"
          ],
          [
           0.4583333333333333,
           0.4375,
           0.46835443037974683,
           2,
           "Mike De Palmer"
          ],
          [
           0.21666666666666667,
           0.532258064516129,
           0.45555555555555555,
           2,
           "Mike Estep"
          ],
          [
           0.42857142857142855,
           0.38461538461538464,
           0.3582089552238806,
           1,
           "Mike Leach"
          ],
          [
           0.07692307692307693,
           0.34285714285714286,
           0.30952380952380953,
           2,
           "Mike Machette"
          ],
          [
           0.37894736842105264,
           0.39473684210526316,
           0.47478991596638653,
           2,
           "Mikhail Kukushkin"
          ],
          [
           0.5114503816793893,
           0.5648148148148148,
           0.5436105476673428,
           0,
           "Mikhail Youzhny"
          ],
          [
           0.41964285714285715,
           0.4411764705882353,
           0.4358974358974359,
           2,
           "Milan Holecek"
          ],
          [
           0.4430379746835443,
           0.4375,
           0.5102040816326531,
           2,
           "Milan Srejber"
          ],
          [
           0.6310679611650486,
           0.6805555555555556,
           0.6827956989247311,
           0,
           "Milos Raonic"
          ],
          [
           0.6666666666666666,
           0.6666666666666666,
           0.7403846153846154,
           0,
           "Miloslav Mecir"
          ],
          [
           0.5454545454545454,
           0.6,
           0.5192307692307693,
           0,
           "Miomir Kecmanovic"
          ],
          [
           0.35294117647058826,
           0.3333333333333333,
           0.5,
           2,
           "Mirza Basic"
          ],
          [
           0.31645569620253167,
           0.5,
           0.40932642487046633,
           2,
           "Mischa Zverev"
          ],
          [
           0.2,
           0.5,
           0.3333333333333333,
           2,
           "Modesto Tito Vazquez"
          ],
          [
           0.3,
           0.5,
           0.25,
           2,
           "Mohamed Safwat"
          ],
          [
           0.75,
           0.875,
           0.2222222222222222,
           0,
           "Muhammad Khaliq Siddiq"
          ],
          [
           0.4482758620689655,
           0.5081967213114754,
           0.38613861386138615,
           2,
           "Nduka Odizor"
          ],
          [
           0.4,
           0.36363636363636365,
           0.5,
           2,
           "Neale Fraser"
          ],
          [
           0.2727272727272727,
           0.25,
           0.4375,
           1,
           "Nelson Aerts"
          ],
          [
           0.4222222222222222,
           0.45,
           0.4166666666666667,
           2,
           "Nicholas Kalogeropoulos"
          ],
          [
           0.5777777777777777,
           0.6111111111111112,
           0.6589595375722543,
           0,
           "Nick Kyrgios"
          ],
          [
           0.390625,
           0.4918032786885246,
           0.474025974025974,
           2,
           "Nick Saviano"
          ],
          [
           0.35294117647058826,
           0.36363636363636365,
           0.5098039215686274,
           2,
           "Nicklas Kroon"
          ],
          [
           0.4649122807017544,
           0.5357142857142857,
           0.421875,
           0,
           "Nicklas Kulti"
          ],
          [
           0.6140350877192983,
           0.2222222222222222,
           0.625,
           1,
           "Nicola Pietrangeli"
          ],
          [
           0.375,
           0.15789473684210525,
           0.42424242424242425,
           1,
           "Nicola Spear"
          ],
          [
           0.6565420560747663,
           0.4666666666666667,
           0.4744186046511628,
           0,
           "Nicolas Almagro"
          ],
          [
           0.38636363636363635,
           0.3333333333333333,
           0.23809523809523808,
           1,
           "Nicolas Devilder"
          ],
          [
           0.41509433962264153,
           0.6216216216216216,
           0.6111111111111112,
           0,
           "Nicolas Escude"
          ],
          [
           0.6065573770491803,
           0.4,
           0.2972972972972973,
           1,
           "Nicolas Jarry"
          ],
          [
           0.44715447154471544,
           0.5945945945945946,
           0.6037234042553191,
           0,
           "Nicolas Kiefer"
          ],
          [
           0.5617283950617284,
           0.36666666666666664,
           0.4890829694323144,
           1,
           "Nicolas Lapentti"
          ],
          [
           0.30357142857142855,
           0.6203703703703703,
           0.40789473684210525,
           2,
           "Nicolas Mahut"
          ],
          [
           0.5765124555160143,
           0.3333333333333333,
           0.4540229885057471,
           1,
           "Nicolas Massu"
          ],
          [
           0.39655172413793105,
           0.3793103448275862,
           0.4017857142857143,
           2,
           "Nicolas Pereira"
          ],
          [
           0.14285714285714285,
           0.3333333333333333,
           0.42105263157894735,
           2,
           "Nicolas Thomann"
          ],
          [
           0.5449438202247191,
           0.6973684210526315,
           0.5526315789473685,
           0,
           "Nikola Pilic"
          ],
          [
           0.6065573770491803,
           0.3333333333333333,
           0.5862068965517241,
           0,
           "Nikolay Davydenko"
          ],
          [
           0.47619047619047616,
           0.3684210526315789,
           0.4672131147540984,
           1,
           "Nikoloz Basilashvili"
          ],
          [
           0.4,
           0.3333333333333333,
           0.39436619718309857,
           1,
           "Noam Okun"
          ],
          [
           0.3220338983050847,
           0.5,
           0.2,
           2,
           "Norman Holmes"
          ],
          [
           0.8041958041958042,
           0.8407079646017699,
           0.8429752066115702,
           0,
           "Novak Djokovic"
          ],
          [
           0.3684210526315789,
           0.16666666666666666,
           0.40540540540540543,
           1,
           "Nuno Marques"
          ],
          [
           0.5,
           0.4,
           0.4838709677419355,
           1,
           "Oleg Ogorodov"
          ],
          [
           0.2727272727272727,
           0.42105263157894735,
           0.45394736842105265,
           2,
           "Olivier Delaitre"
          ],
          [
           0.4634146341463415,
           0.4,
           0.17647058823529413,
           1,
           "Olivier Mutis"
          ],
          [
           0.3584905660377358,
           0.5,
           0.21052631578947367,
           2,
           "Olivier Patience"
          ],
          [
           0.3935483870967742,
           0.5308641975308642,
           0.47619047619047616,
           2,
           "Olivier Rochus"
          ],
          [
           0.625,
           0.25,
           0.38095238095238093,
           1,
           "Olli Rahnasto"
          ],
          [
           0.461038961038961,
           0.38461538461538464,
           0.5263157894736842,
           1,
           "Omar Camporese"
          ],
          [
           0.5714285714285714,
           0.16666666666666666,
           0.75,
           1,
           "Omer Rashid"
          ],
          [
           0.5166051660516605,
           0.6027397260273972,
           0.5341614906832298,
           0,
           "Onny Parun"
          ],
          [
           0.3023255813953488,
           0.16666666666666666,
           0.21052631578947367,
           1,
           "Orlin Stanoytchev"
          ],
          [
           0.4125874125874126,
           0.1,
           0.13513513513513514,
           1,
           "Oscar Hernandez"
          ],
          [
           0.31666666666666665,
           0.4634146341463415,
           0.4368932038834951,
           2,
           "Ove Nils Bengtson"
          ],
          [
           0.375,
           0.6153846153846154,
           0.375,
           2,
           "Owen Davidson"
          ],
          [
           0.5097087378640777,
           0.11764705882352941,
           0.28125,
           1,
           "Pablo Andujar"
          ],
          [
           0.5375,
           0.2,
           0.5608465608465608,
           1,
           "Pablo Carreno Busta"
          ],
          [
           0.6007462686567164,
           0.4117647058823529,
           0.40540540540540543,
           1,
           "Pablo Cuevas"
          ],
          [
           0.41935483870967744,
           0.23076923076923078,
           0.5,
           1,
           "Pancho Guzman"
          ],
          [
           0.5,
           0.5,
           0.3,
           2,
           "Pancho Segura"
          ],
          [
           0.25,
           0.36363636363636365,
           0.3333333333333333,
           2,
           "Pancho Walthall"
          ],
          [
           0.6136363636363636,
           0.375,
           0.35714285714285715,
           1,
           "Paolo Bertolucci"
          ],
          [
           0.5310734463276836,
           0.25,
           0.5106382978723404,
           1,
           "Paolo Cane"
          ],
          [
           0.4195804195804196,
           0.2,
           0.36,
           1,
           "Paolo Lorenzi"
          ],
          [
           0.2553191489361702,
           0.5555555555555556,
           0.6049382716049383,
           2,
           "Paradorn Srichaphan"
          ],
          [
           0.4065934065934066,
           0.3333333333333333,
           0.5135135135135135,
           1,
           "Pascal Portes"
          ],
          [
           0.4,
           0.7279411764705882,
           0.5793650793650794,
           0,
           "Pat Cash"
          ],
          [
           0.22448979591836735,
           0.36363636363636365,
           0.44,
           2,
           "Pat Cramer"
          ],
          [
           0.46296296296296297,
           0.4791666666666667,
           0.5081967213114754,
           0,
           "Pat Dupre"
          ],
          [
           0.5026455026455027,
           0.6122448979591837,
           0.4745762711864407,
           0,
           "Patrice Dominguez"
          ],
          [
           0.44776119402985076,
           0.35,
           0.2777777777777778,
           1,
           "Patricio Cornejo"
          ],
          [
           0.2972972972972973,
           0.3333333333333333,
           0.42857142857142855,
           2,
           "Patrick Baur"
          ],
          [
           0.423728813559322,
           0.2727272727272727,
           0.6666666666666666,
           1,
           "Patrick Hombergen"
          ],
          [
           0.37142857142857144,
           0.4,
           0.5,
           2,
           "Patrick McEnroe"
          ],
          [
           0.5652173913043478,
           0.5,
           0.44680851063829785,
           0,
           "Patrick Proisy"
          ],
          [
           0.5142857142857142,
           0.7474747474747475,
           0.664576802507837,
           0,
           "Patrick Rafter"
          ],
          [
           0.391304347826087,
           0.4523809523809524,
           0.46218487394957986,
           2,
           "Patrik Kuhnen"
          ],
          [
           0.4666666666666667,
           0.6190476190476191,
           0.47580645161290325,
           0,
           "Paul Annacone"
          ],
          [
           0.39622641509433965,
           0.3,
           0.38095238095238093,
           1,
           "Paul Capdeville"
          ],
          [
           0.4625,
           0.47058823529411764,
           0.5217391304347826,
           0,
           "Paul Gerken"
          ],
          [
           0.4,
           0.5,
           0.4189189189189189,
           2,
           "Paul Goldstein"
          ],
          [
           0.46099290780141844,
           0.5283018867924528,
           0.5302325581395348,
           0,
           "Paul Haarhuis"
          ],
          [
           0.4864864864864865,
           0.4074074074074074,
           0.4618181818181818,
           1,
           "Paul Henri Mathieu"
          ],
          [
           0.37209302325581395,
           0.43859649122807015,
           0.36363636363636365,
           2,
           "Paul Kronk"
          ],
          [
           0.5045045045045045,
           0.5636363636363636,
           0.47297297297297297,
           0,
           "Paul Mcnamee"
          ],
          [
           0.46153846153846156,
           0.16666666666666666,
           0.4186046511627907,
           1,
           "Paul Wekesa"
          ],
          [
           0.625,
           0.8360655737704918,
           0.8014981273408239,
           0,
           "Pete Sampras"
          ],
          [
           0.2222222222222222,
           0.42857142857142855,
           0.2857142857142857,
           2,
           "Peter Carlsson"
          ],
          [
           0.16666666666666666,
           0.42857142857142855,
           0.3333333333333333,
           2,
           "Peter Curtis"
          ],
          [
           0.3,
           0.5205479452054794,
           0.17777777777777778,
           2,
           "Peter Doohan"
          ],
          [
           0.461038961038961,
           0.3333333333333333,
           0.35135135135135137,
           1,
           "Peter Elter"
          ],
          [
           0.5119047619047619,
           0.49019607843137253,
           0.5294117647058824,
           0,
           "Peter Feigl"
          ],
          [
           0.38596491228070173,
           0.4,
           0.5497076023391813,
           2,
           "Peter Fleming"
          ],
          [
           0.3333333333333333,
           0.4444444444444444,
           0.4631578947368421,
           2,
           "Peter Gojowczyk"
          ],
          [
           0.5,
           0.125,
           0.16666666666666666,
           1,
           "Peter Johnston"
          ],
          [
           0.3333333333333333,
           0.42857142857142855,
           0.6666666666666666,
           2,
           "Peter Kanderal"
          ],
          [
           0.27419354838709675,
           0.4444444444444444,
           0.3389830508474576,
           2,
           "Peter Luczak"
          ],
          [
           0.05263157894736842,
           0.5,
           0.525974025974026,
           2,
           "Peter Lundgren"
          ],
          [
           0.6502732240437158,
           0.43859649122807015,
           0.5128205128205128,
           0,
           "Peter Mcnamara"
          ],
          [
           0.5454545454545454,
           0.5641025641025641,
           0.3333333333333333,
           0,
           "Peter Rennert"
          ],
          [
           0.2222222222222222,
           0.5625,
           0.423728813559322,
           2,
           "Peter Wessels"
          ],
          [
           0.5769230769230769,
           0.6521739130434783,
           0.6305970149253731,
           0,
           "Petr Korda"
          ],
          [
           0.5333333333333333,
           0.6495327102803738,
           0.5153374233128835,
           0,
           "Phil Dent"
          ],
          [
           0.5619047619047619,
           0.5979381443298969,
           0.5331807780320366,
           0,
           "Philipp Kohlschreiber"
          ],
          [
           0.37209302325581395,
           0.525,
           0.46017699115044247,
           2,
           "Philipp Petzschner"
          ],
          [
           0.5645161290322581,
           0.5576923076923077,
           0.48148148148148145,
           0,
           "Pierre Barthes"
          ],
          [
           0.45454545454545453,
           0.5,
           0.4351145038167939,
           2,
           "Pierre Hugues Herbert"
          ],
          [
           0.5286885245901639,
           0.08333333333333333,
           0.3111111111111111,
           1,
           "Potito Starace"
          ],
          [
           0.5489130434782609,
           0.589041095890411,
           0.5555555555555556,
           0,
           "Radek Stepanek"
          ],
          [
           0.2962962962962963,
           0.3333333333333333,
           0.5,
           2,
           "Radomir Vasek"
          ],
          [
           0.43137254901960786,
           0.5,
           0.41228070175438597,
           2,
           "Radu Albot"
          ],
          [
           0.3870967741935484,
           0.46938775510204084,
           0.3953488372093023,
           2,
           "Raemon Sluiter"
          ],
          [
           0.9144602851323829,
           0.7802197802197802,
           0.7765451664025357,
           0,
           "Rafael Nadal"
          ],
          [
           0.39263803680981596,
           0.5555555555555556,
           0.5253333333333333,
           0,
           "Rainer Schuettler"
          ],
          [
           0.36363636363636365,
           0.5428571428571428,
           0.3238095238095238,
           2,
           "Rajeev Ram"
          ],
          [
           0.42857142857142855,
           0.3333333333333333,
           0.5,
           1,
           "Ramanathan Krishnan"
          ],
          [
           0.39285714285714285,
           0.5480769230769231,
           0.5704918032786885,
           0,
           "Ramesh Krishnan"
          ],
          [
           0.6265060240963856,
           0.18181818181818182,
           0.42857142857142855,
           1,
           "Ramon Delgado"
          ],
          [
           0.7267080745341615,
           0.6533333333333333,
           0.6604477611940298,
           0,
           "Raul Ramirez"
          ],
          [
           0.3333333333333333,
           0.375,
           0.3333333333333333,
           2,
           "Rauty Krog"
          ],
          [
           0.2857142857142857,
           0.40384615384615385,
           0.2413793103448276,
           2,
           "Ray Keldie"
          ],
          [
           0.5357142857142857,
           0.5785123966942148,
           0.4742268041237113,
           0,
           "Ray Ruffels"
          ],
          [
           0.44086021505376344,
           0.4948453608247423,
           0.5308641975308642,
           0,
           "Raymond Moore"
          ],
          [
           0.2,
           0.3333333333333333,
           0.14285714285714285,
           2,
           "Rayno Seegers"
          ],
          [
           0.3617021276595745,
           0.42857142857142855,
           0.25,
           2,
           "Razvan Sabau"
          ],
          [
           0.18181818181818182,
           0.4,
           0.5584415584415584,
           2,
           "Reilly Opelka"
          ],
          [
           0.49814126394052044,
           0.3333333333333333,
           0.44715447154471544,
           1,
           "Renzo Furlan"
          ],
          [
           0.27586206896551724,
           0.21052631578947367,
           0.5222222222222223,
           1,
           "Ricardas Berankis"
          ],
          [
           0.3230769230769231,
           0.5238095238095238,
           0.38095238095238093,
           2,
           "Ricardo Acuna"
          ],
          [
           0.45614035087719296,
           0.1111111111111111,
           0.39285714285714285,
           1,
           "Ricardo Mello"
          ],
          [
           0.48344370860927155,
           0.2,
           0.1,
           1,
           "Ricardo Ycaza"
          ],
          [
           0.5058365758754864,
           0.4473684210526316,
           0.47685185185185186,
           0,
           "Richard Fromberg"
          ],
          [
           0.6147186147186147,
           0.6666666666666666,
           0.6172607879924953,
           0,
           "Richard Gasquet"
          ],
          [
           0.5984848484848485,
           0.7078651685393258,
           0.6666666666666666,
           0,
           "Richard Krajicek"
          ],
          [
           0.2830188679245283,
           0.4084507042253521,
           0.47368421052631576,
           2,
           "Richard Lewis"
          ],
          [
           0.25,
           0.375,
           0.4146341463414634,
           2,
           "Richard Matuszewski"
          ],
          [
           0.28,
           0.4090909090909091,
           0.2903225806451613,
           2,
           "Richard Meyer"
          ],
          [
           0.631578947368421,
           0.6595744680851063,
           0.7763157894736842,
           0,
           "Richard Pancho Gonzales"
          ],
          [
           0.2,
           0.5,
           0.42857142857142855,
           2,
           "Richard Russell"
          ],
          [
           0.5111111111111111,
           0.5735294117647058,
           0.5512820512820513,
           0,
           "Richey Reneberg"
          ],
          [
           0.23076923076923078,
           0.36,
           0.3,
           2,
           "Rick Fisher"
          ],
          [
           0.2222222222222222,
           0.2727272727272727,
           0.42424242424242425,
           2,
           "Rik De Voest"
          ],
          [
           0.09090909090909091,
           0.4166666666666667,
           0.38823529411764707,
           2,
           "Robbie Weiss"
          ],
          [
           0.2857142857142857,
           0.48,
           0.5143884892086331,
           2,
           "Robby Ginepri"
          ],
          [
           0.16666666666666666,
           0.2222222222222222,
           0.3493975903614458,
           2,
           "Robert Kendrick"
          ],
          [
           0.17647058823529413,
           0.16666666666666666,
           0.32142857142857145,
           1,
           "Robert Kreiss"
          ],
          [
           0.5363636363636364,
           0.6407766990291263,
           0.6016260162601627,
           0,
           "Robert Lutz"
          ],
          [
           0.325,
           0.4,
           0.4,
           2,
           "Robert Machan"
          ],
          [
           0.4745762711864407,
           0.48717948717948717,
           0.39655172413793105,
           2,
           "Robert Maud"
          ],
          [
           0.13333333333333333,
           0.5384615384615384,
           0.46153846153846156,
           2,
           "Robert Mckinley"
          ],
          [
           0.23076923076923078,
           0.5405405405405406,
           0.5094339622641509,
           2,
           "Robert Seguso"
          ],
          [
           0.3333333333333333,
           0.25,
           0.46153846153846156,
           1,
           "Robert Trogolo"
          ],
          [
           0.3333333333333333,
           0.36363636363636365,
           0.5106382978723404,
           2,
           "Robert Vant Hof"
          ],
          [
           0.59375,
           0.7111111111111111,
           0.6352201257861635,
           0,
           "Roberto Bautista Agut"
          ],
          [
           0.5,
           0.16666666666666666,
           0.375,
           1,
           "Roberto Carballes Baena"
          ],
          [
           0.4,
           0.3333333333333333,
           0.25,
           1,
           "Roberto Saad"
          ],
          [
           0.3404255319148936,
           0.25,
           0.3333333333333333,
           1,
           "Robin Drysdale"
          ],
          [
           0.5058139534883721,
           0.4,
           0.44150943396226416,
           1,
           "Robin Haase"
          ],
          [
           0.6231884057971014,
           0.6046511627906976,
           0.6446886446886447,
           0,
           "Robin Soderling"
          ],
          [
           0.391304347826087,
           0.2,
           0.2857142857142857,
           1,
           "Robin Vik"
          ],
          [
           0.375,
           0.5319148936170213,
           0.42105263157894735,
           2,
           "Rod Frawley"
          ],
          [
           0.7769230769230769,
           0.84375,
           0.8296703296703297,
           0,
           "Rod Laver"
          ],
          [
           0.3888888888888889,
           0.42105263157894735,
           0.5277777777777778,
           2,
           "Rodney Harmon"
          ],
          [
           0.375,
           0.18181818181818182,
           0.38461538461538464,
           1,
           "Rodolphe Gilbert"
          ],
          [
           0.2727272727272727,
           0.25,
           0.2857142857142857,
           1,
           "Roger Dowdeswell"
          ],
          [
           0.7593220338983051,
           0.875,
           0.8326271186440678,
           0,
           "Roger Federer"
          ],
          [
           0.3181818181818182,
           0.4444444444444444,
           0.4266666666666667,
           2,
           "Roger Smith"
          ],
          [
           0.5641025641025641,
           0.6290322580645161,
           0.5669291338582677,
           0,
           "Roger Taylor"
          ],
          [
           0.5,
           0.5,
           0.6,
           0,
           "Rohan De Silva"
          ],
          [
           0.16666666666666666,
           0.3333333333333333,
           0.25806451612903225,
           2,
           "Roko Karanusic"
          ],
          [
           0.4876543209876543,
           0.4782608695652174,
           0.4074074074074074,
           2,
           "Rolf Gehring"
          ],
          [
           0.20930232558139536,
           0.2857142857142857,
           0.23529411764705882,
           2,
           "Rolf Thung"
          ],
          [
           0.4166666666666667,
           0.4583333333333333,
           0.29411764705882354,
           2,
           "Ron Holmberg"
          ],
          [
           0.5232974910394266,
           0.3333333333333333,
           0.37398373983739835,
           1,
           "Ronald Agenor"
          ],
          [
           0.21052631578947367,
           0.25,
           0.3,
           2,
           "Ronnie Bathman"
          ],
          [
           0.6298701298701299,
           0.7341772151898734,
           0.6750788643533123,
           0,
           "Roscoe Tanner"
          ],
          [
           0.47540983606557374,
           0.5611510791366906,
           0.5,
           0,
           "Ross Case"
          ],
          [
           0.1724137931034483,
           0.43243243243243246,
           0.21818181818181817,
           2,
           "Roy Barth"
          ],
          [
           0.6493506493506493,
           0.6779661016949152,
           0.5816326530612245,
           0,
           "Roy Emerson"
          ],
          [
           0.3333333333333333,
           0.3,
           0.3333333333333333,
           1,
           "Ruben Bemelmans"
          ],
          [
           0.28846153846153844,
           0.47863247863247865,
           0.4444444444444444,
           2,
           "Russell Simpson"
          ],
          [
           0.35714285714285715,
           0.35135135135135137,
           0.4623115577889447,
           2,
           "Ryan Harrison"
          ],
          [
           0.5333333333333333,
           0.3,
           0.3582089552238806,
           1,
           "Ryan Sweeting"
          ],
          [
           0.2,
           0.5357142857142857,
           0.3333333333333333,
           2,
           "Sam Groth"
          ],
          [
           0.4473684210526316,
           0.6415094339622641,
           0.5619469026548672,
           0,
           "Sam Querrey"
          ],
          [
           0.43103448275862066,
           0.5370370370370371,
           0.5225806451612903,
           0,
           "Sammy Giammalva Jr"
          ],
          [
           0.4,
           0.5714285714285714,
           0.4264705882352941,
           2,
           "Sandon Stolle"
          ],
          [
           0.6,
           0.627906976744186,
           0.6460674157303371,
           0,
           "Sandy Mayer"
          ],
          [
           0.5082872928176796,
           0.45161290322580644,
           0.3860759493670886,
           1,
           "Santiago Giraldo"
          ],
          [
           0.4326923076923077,
           0.4827586206896552,
           0.39766081871345027,
           2,
           "Sargis Sargsian"
          ],
          [
           0.19047619047619047,
           0.5,
           0.3333333333333333,
           2,
           "Sasa Hirszon"
          ],
          [
           0.3865546218487395,
           0.2765957446808511,
           0.32894736842105265,
           1,
           "Sashi Menon"
          ],
          [
           0.14285714285714285,
           0.3333333333333333,
           0.4,
           2,
           "Schalk Van Der Merwe"
          ],
          [
           0.5,
           0.2222222222222222,
           0.25,
           1,
           "Scott Carnahan"
          ],
          [
           0.23529411764705882,
           0.5084745762711864,
           0.5466101694915254,
           2,
           "Scott Davis"
          ],
          [
           0.34146341463414637,
           0.4888888888888889,
           0.47794117647058826,
           2,
           "Scott Draper"
          ],
          [
           0.25,
           0.2962962962962963,
           0.3448275862068966,
           2,
           "Scott Mccain"
          ],
          [
           0.4,
           0.5,
           0.21428571428571427,
           2,
           "Scoville Jenkins"
          ],
          [
           0.35,
           0.5,
           0.47058823529411764,
           2,
           "Sean Sorensen"
          ],
          [
           0.5827814569536424,
           0.6533333333333333,
           0.5635179153094463,
           0,
           "Sebastien Grosjean"
          ],
          [
           0.15,
           0.3870967741935484,
           0.4407894736842105,
           2,
           "Sebastien Lareau"
          ],
          [
           0.5,
           0.5,
           0.47058823529411764,
           0,
           "Selvam Veerasingam"
          ],
          [
           0.25,
           0.3333333333333333,
           0.5,
           2,
           "Sergei Bubka"
          ],
          [
           0.6867749419953596,
           0.5,
           0.5536723163841808,
           0,
           "Sergi Bruguera"
          ],
          [
           0.4581005586592179,
           0.16666666666666666,
           0.46808510638297873,
           1,
           "Sergio Casal"
          ],
          [
           0.3548387096774194,
           0.16666666666666666,
           0.1111111111111111,
           1,
           "Sergio Roitman"
          ],
          [
           0.375,
           0.48148148148148145,
           0.4649122807017544,
           2,
           "Sergiy Stakhovsky"
          ],
          [
           0.3684210526315789,
           0.46153846153846156,
           0.47692307692307695,
           2,
           "Shahar Perkiss"
          ],
          [
           0.4117647058823529,
           0.45901639344262296,
           0.42727272727272725,
           2,
           "Sherwood Stewart"
          ],
          [
           0.5612244897959183,
           0.475,
           0.5987261146496815,
           0,
           "Shlomo Glickstein"
          ],
          [
           0.3076923076923077,
           0.5581395348837209,
           0.4845360824742268,
           2,
           "Shuzo Matsuoka"
          ],
          [
           0.38461538461538464,
           0.3333333333333333,
           0.37735849056603776,
           1,
           "Simon Greul"
          ],
          [
           0.23333333333333334,
           0.40350877192982454,
           0.4409448818897638,
           2,
           "Simon Youl"
          ],
          [
           0.4745762711864407,
           0.5,
           0.36231884057971014,
           2,
           "Simone Bolelli"
          ],
          [
           0.4411764705882353,
           0.2,
           0.16666666666666666,
           1,
           "Simone Colombo"
          ],
          [
           0.4642857142857143,
           0.6103896103896104,
           0.527972027972028,
           0,
           "Sjeng Schalken"
          ],
          [
           0.5610687022900763,
           0.3333333333333333,
           0.42696629213483145,
           1,
           "Slava Dosedel"
          ],
          [
           0.5,
           0.6470588235294118,
           0.5126050420168067,
           0,
           "Slobodan Zivojinovic"
          ],
          [
           0.2857142857142857,
           0.25,
           0.4818181818181818,
           1,
           "Somdev Devvarman"
          ],
          [
           0.3333333333333333,
           0.6,
           0.6666666666666666,
           0,
           "Srinivasan Vasudevan"
          ],
          [
           0.6909090909090909,
           0.7469879518072289,
           0.7064220183486238,
           0,
           "Stan Smith"
          ],
          [
           0.6630824372759857,
           0.5,
           0.6376811594202898,
           0,
           "Stan Wawrinka"
          ],
          [
           0.3263157894736842,
           0.375,
           0.3684210526315789,
           2,
           "Stanislav Birner"
          ],
          [
           0.6766169154228856,
           0.7857142857142857,
           0.7865853658536586,
           0,
           "Stefan Edberg"
          ],
          [
           0.5,
           0.2962962962962963,
           0.44545454545454544,
           1,
           "Stefan Koubek"
          ],
          [
           0.463768115942029,
           0.5,
           0.41818181818181815,
           2,
           "Stefan Simonsson"
          ],
          [
           0.32142857142857145,
           0.42857142857142855,
           0.25,
           2,
           "Stefano Galvani"
          ],
          [
           0.4036697247706422,
           0.3333333333333333,
           0.4608695652173913,
           1,
           "Stefano Pescosolido"
          ],
          [
           0.7037037037037037,
           0.5333333333333333,
           0.624113475177305,
           0,
           "Stefanos Tsitsipas"
          ],
          [
           0.3684210526315789,
           0.2857142857142857,
           0.22727272727272727,
           1,
           "Stephane Huet"
          ],
          [
           0.30952380952380953,
           0.3333333333333333,
           0.3559322033898305,
           2,
           "Stephane Robert"
          ],
          [
           0.26666666666666666,
           0.48,
           0.359375,
           2,
           "Stephane Simian"
          ],
          [
           0.3333333333333333,
           0.2,
           0.3670886075949367,
           1,
           "Steve Bryan"
          ],
          [
           0.42857142857142855,
           0.375,
           0.36538461538461536,
           1,
           "Steve Campbell"
          ],
          [
           0.4666666666666667,
           0.45714285714285713,
           0.46099290780141844,
           2,
           "Steve Darcis"
          ],
          [
           0.36363636363636365,
           0.5416666666666666,
           0.5060240963855421,
           2,
           "Steve Denton"
          ],
          [
           0.2857142857142857,
           0.42424242424242425,
           0.4107142857142857,
           2,
           "Steve Docherty"
          ],
          [
           0.25,
           0.2222222222222222,
           0.4117647058823529,
           1,
           "Steve Faulk"
          ],
          [
           0.4915254237288136,
           0.5614035087719298,
           0.4888888888888889,
           0,
           "Steve Johnson"
          ],
          [
           0.3904109589041096,
           0.375,
           0.4157303370786517,
           2,
           "Steve Krulevitz"
          ],
          [
           0.3684210526315789,
           0.375,
           0.3404255319148936,
           2,
           "Steve Meister"
          ],
          [
           0.3181818181818182,
           0.3225806451612903,
           0.47058823529411764,
           2,
           "Steve Shaw"
          ],
          [
           0.24324324324324326,
           0.3333333333333333,
           0.15384615384615385,
           2,
           "Steve Turner"
          ],
          [
           0.25,
           0.45614035087719296,
           0.3018867924528302,
           2,
           "Syd Ball"
          ],
          [
           0.4057971014492754,
           0.5789473684210527,
           0.36363636363636365,
           2,
           "Szabolcz Baranyi"
          ],
          [
           0.6,
           0.16666666666666666,
           0.47761194029850745,
           1,
           "Takao Suzuki"
          ],
          [
           0.44554455445544555,
           0.2,
           0.3877551020408163,
           1,
           "Tarik Benhabiles"
          ],
          [
           0.3076923076923077,
           0.4,
           0.3283582089552239,
           2,
           "Tatsuma Ito"
          ],
          [
           0.25,
           0.5576923076923077,
           0.5280373831775701,
           2,
           "Taylor Dent"
          ],
          [
           0.5151515151515151,
           0.43478260869565216,
           0.5,
           0,
           "Taylor Fritz"
          ],
          [
           0.4444444444444444,
           0.5217391304347826,
           0.375,
           2,
           "Teimuraz Kakoulia"
          ],
          [
           0.20408163265306123,
           0.2857142857142857,
           0.30303030303030304,
           2,
           "Tenny Svensson"
          ],
          [
           0.32,
           0.5,
           0.43333333333333335,
           2,
           "Tennys Sandgren"
          ],
          [
           0.2857142857142857,
           0.5172413793103449,
           0.2631578947368421,
           2,
           "Terry Addison"
          ],
          [
           0.5697674418604651,
           0.48148148148148145,
           0.5220588235294118,
           0,
           "Terry Moor"
          ],
          [
           0.2916666666666667,
           0.3235294117647059,
           0.4838709677419355,
           2,
           "Terry Rocavert"
          ],
          [
           0.325,
           0.4864864864864865,
           0.34615384615384615,
           2,
           "Terry Ryan"
          ],
          [
           0.3904761904761905,
           0.2608695652173913,
           0.36363636363636365,
           1,
           "Teymuraz Gabashvili"
          ],
          [
           0.25,
           0.3333333333333333,
           0.41509433962264153,
           2,
           "Thanasi Kokkinakis"
          ],
          [
           0.1,
           0.4,
           0.21052631578947367,
           2,
           "Thiago Alves"
          ],
          [
           0.49295774647887325,
           0.3333333333333333,
           0.1935483870967742,
           1,
           "Thiago Monteiro"
          ],
          [
           0.48333333333333334,
           0.3888888888888889,
           0.4,
           1,
           "Thiemo De Bakker"
          ],
          [
           0.1111111111111111,
           0.2857142857142857,
           0.75,
           2,
           "Thierry Bernasconi"
          ],
          [
           0.4027777777777778,
           0.4782608695652174,
           0.359375,
           2,
           "Thierry Champion"
          ],
          [
           0.5627009646302251,
           0.2,
           0.42045454545454547,
           1,
           "Thierry Tulasne"
          ],
          [
           0.4793388429752066,
           0.4878048780487805,
           0.6397379912663755,
           0,
           "Thomas Enqvist"
          ],
          [
           0.25,
           0.5714285714285714,
           0.2708333333333333,
           2,
           "Thomas Fabbiano"
          ],
          [
           0.2727272727272727,
           0.18181818181818182,
           0.36153846153846153,
           1,
           "Thomas Hogstedt"
          ],
          [
           0.35514018691588783,
           0.6153846153846154,
           0.5623268698060941,
           0,
           "Thomas Johansson"
          ],
          [
           0.7661870503597122,
           0.4444444444444444,
           0.6371308016877637,
           0,
           "Thomas Muster"
          ],
          [
           0.5565217391304348,
           0.3333333333333333,
           0.40350877192982454,
           1,
           "Thomaz Bellucci"
          ],
          [
           0.5757575757575758,
           0.3235294117647059,
           0.5,
           1,
           "Thomaz Koch"
          ],
          [
           0.46153846153846156,
           0.6422018348623854,
           0.5681818181818182,
           0,
           "Tim Gullikson"
          ],
          [
           0.5294117647058824,
           0.7142857142857143,
           0.6517647058823529,
           0,
           "Tim Henman"
          ],
          [
           0.2962962962962963,
           0.7086614173228346,
           0.6064814814814815,
           0,
           "Tim Mayotte"
          ],
          [
           0.25,
           0.3333333333333333,
           0.3469387755102041,
           2,
           "Tim Smyczek"
          ],
          [
           0.4657534246575342,
           0.5447761194029851,
           0.5315985130111525,
           0,
           "Tim Wilkison"
          ],
          [
           0.4,
           0.5,
           0.5,
           2,
           "Tito Vazquez"
          ],
          [
           0.36363636363636365,
           0.4583333333333333,
           0.3673469387755102,
           2,
           "Tobias Kamke"
          ],
          [
           0.25,
           0.3333333333333333,
           0.1,
           2,
           "Todd Larkham"
          ],
          [
           0.5775862068965517,
           0.7093023255813954,
           0.6462395543175488,
           0,
           "Todd Martin"
          ],
          [
           0.3,
           0.34615384615384615,
           0.3235294117647059,
           2,
           "Todd Nelson"
          ],
          [
           0.3541666666666667,
           0.3,
           0.5126582278481012,
           1,
           "Todd Witsken"
          ],
          [
           0.3728813559322034,
           0.5921052631578947,
           0.5302491103202847,
           0,
           "Todd Woodbridge"
          ],
          [
           0.41379310344827586,
           0.35714285714285715,
           0.4318181818181818,
           1,
           "Tom Cain"
          ],
          [
           0.4090909090909091,
           0.4166666666666667,
           0.40540540540540543,
           2,
           "Tom Edlefsen"
          ],
          [
           0.5483870967741935,
           0.5726495726495726,
           0.596244131455399,
           0,
           "Tom Gorman"
          ],
          [
           0.45454545454545453,
           0.5520833333333334,
           0.5,
           0,
           "Tom Gullikson"
          ],
          [
           0.047619047619047616,
           0.4,
           0.410958904109589,
           2,
           "Tom Leonard"
          ],
          [
           0.3170731707317073,
           0.125,
           0.3611111111111111,
           1,
           "Tom Nijssen"
          ],
          [
           0.7166666666666667,
           0.7559055118110236,
           0.6813725490196079,
           0,
           "Tom Okker"
          ],
          [
           0.6370967741935484,
           0.6868686868686869,
           0.6482982171799028,
           0,
           "Tomas Berdych"
          ],
          [
           0.5145985401459854,
           0.35294117647058826,
           0.3875,
           1,
           "Tomas Carbonell"
          ],
          [
           0.4117647058823529,
           0.2,
           0.25925925925925924,
           1,
           "Tomas Nydahl"
          ],
          [
           0.6538461538461539,
           0.5294117647058824,
           0.6075268817204301,
           0,
           "Tomas Smid"
          ],
          [
           0.2909090909090909,
           0.375,
           0.3225806451612903,
           2,
           "Tomas Zib"
          ],
          [
           0.5929203539823009,
           0.6263736263736264,
           0.6316758747697975,
           0,
           "Tommy Haas"
          ],
          [
           0.6624365482233503,
           0.5535714285714286,
           0.5533980582524272,
           0,
           "Tommy Robredo"
          ],
          [
           0.07142857142857142,
           0.5,
           0.5,
           2,
           "Tony Bardsley"
          ],
          [
           0.4090909090909091,
           0.38095238095238093,
           0.4358974358974359,
           2,
           "Tony Giammalva"
          ],
          [
           0.25,
           0.3333333333333333,
           0.35294117647058826,
           2,
           "Tony Graham"
          ],
          [
           0.7012987012987013,
           0.7763975155279503,
           0.6,
           0,
           "Tony Roche"
          ],
          [
           0.1282051282051282,
           0.47368421052631576,
           0.21621621621621623,
           2,
           "Torben Ulrich"
          ],
          [
           0.4444444444444444,
           0.3333333333333333,
           0.4375,
           1,
           "Tore Meinecke"
          ],
          [
           0.375,
           0.4583333333333333,
           0.6428571428571429,
           0,
           "Toshiro Sakai"
          ],
          [
           0.2903225806451613,
           0.3333333333333333,
           0.49606299212598426,
           2,
           "Trey Waltke"
          ],
          [
           0.25,
           0.16666666666666666,
           0.3611111111111111,
           1,
           "Tuomas Ketola"
          ],
          [
           0.11458333333333333,
           0.034482758620689655,
           0.08695652173913043,
           1,
           "U Unknown"
          ],
          [
           0.3157894736842105,
           0.4,
           0.2857142857142857,
           2,
           "Udo Riglewski"
          ],
          [
           0.4166666666666667,
           0.6,
           0.49019607843137253,
           0,
           "Ugo Humbert"
          ],
          [
           0.5857142857142857,
           0.4,
           0.4666666666666667,
           0,
           "Ulf Stenlund"
          ],
          [
           0.5631067961165048,
           0.5,
           0.48148148148148145,
           0,
           "Ulrich Pinner"
          ],
          [
           0.45714285714285713,
           0.16666666666666666,
           0.47297297297297297,
           1,
           "Van Winitsky"
          ],
          [
           0.05,
           0.3902439024390244,
           0.49295774647887325,
           2,
           "Vasek Pospisil"
          ],
          [
           0.47058823529411764,
           0.4166666666666667,
           0.47619047619047616,
           1,
           "Veli Paloheimo"
          ],
          [
           0.41379310344827586,
           0.5675675675675675,
           0.5428571428571428,
           0,
           "Victor Amaya"
          ],
          [
           0.3333333333333333,
           0.3333333333333333,
           0.25,
           1,
           "Victor Crivoi"
          ],
          [
           0.6285714285714286,
           0.23529411764705882,
           0.43661971830985913,
           1,
           "Victor Estrella"
          ],
          [
           0.5416666666666666,
           0.40625,
           0.3419354838709677,
           1,
           "Victor Hanescu"
          ],
          [
           0.613882863340564,
           0.5641025641025641,
           0.5526315789473685,
           0,
           "Victor Pecci"
          ],
          [
           0.5362318840579711,
           0.6482758620689655,
           0.5343137254901961,
           0,
           "Vijay Amritraj"
          ],
          [
           0.5107913669064749,
           0.5161290322580645,
           0.5300546448087432,
           0,
           "Viktor Troicki"
          ],
          [
           0.42592592592592593,
           0.4090909090909091,
           0.4925373134328358,
           2,
           "Vincent Spadea"
          ],
          [
           0.2857142857142857,
           0.2,
           0.48739495798319327,
           1,
           "Vincent Van Patten"
          ],
          [
           0.39285714285714285,
           0.3333333333333333,
           0.38461538461538464,
           1,
           "Vincenzo Santopadre"
          ],
          [
           0.7105263157894737,
           0.6781609195402298,
           0.7323232323232324,
           0,
           "Vitas Gerulaitis"
          ],
          [
           0.5769230769230769,
           0.5,
           0.3333333333333333,
           0,
           "Vladimir Korotkov"
          ],
          [
           0.19047619047619047,
           0.45454545454545453,
           0.45977011494252873,
           2,
           "Vladimir Voltchkov"
          ],
          [
           0.48360655737704916,
           0.36,
           0.34615384615384615,
           1,
           "Vladimir Zednik"
          ],
          [
           0.32432432432432434,
           0.6436781609195402,
           0.5361216730038023,
           0,
           "Wally Masur"
          ],
          [
           0.32653061224489793,
           0.52,
           0.3333333333333333,
           2,
           "Wanaro N'Godrella"
          ],
          [
           0.37037037037037035,
           0.5652173913043478,
           0.43902439024390244,
           2,
           "Wayne Arthurs"
          ],
          [
           0.30434782608695654,
           0.3684210526315789,
           0.4491525423728814,
           2,
           "Wayne Black"
          ],
          [
           0.5769230769230769,
           0.6601941747572816,
           0.6332622601279317,
           0,
           "Wayne Ferreira"
          ],
          [
           0.14285714285714285,
           0.28,
           0.25,
           2,
           "Wayne Hampson"
          ],
          [
           0.32432432432432434,
           0.3333333333333333,
           0.14285714285714285,
           1,
           "Werner Eschauer"
          ],
          [
           0.375,
           0.4,
           0.36363636363636365,
           2,
           "Werner Zirngibl"
          ],
          [
           0.2916666666666667,
           0.29411764705882354,
           0.09523809523809523,
           1,
           "William Brown"
          ],
          [
           0.2916666666666667,
           0.36363636363636365,
           0.2727272727272727,
           2,
           "William Higgins"
          ],
          [
           0.625,
           0.5,
           0.625,
           0,
           "Wishaya Trongcharoenchaikul"
          ],
          [
           0.6567567567567567,
           0.5897435897435898,
           0.6408839779005525,
           0,
           "Wojtek Fibak"
          ],
          [
           0.34285714285714286,
           0.4444444444444444,
           0.3333333333333333,
           2,
           "Wolfgang Popp"
          ],
          [
           0.14285714285714285,
           0.125,
           0.18181818181818182,
           1,
           "Woody Blocher"
          ],
          [
           0.49572649572649574,
           0.625,
           0.4940119760479042,
           0,
           "Xavier Malisse"
          ],
          [
           0.7379310344827587,
           0.45454545454545453,
           0.7192982456140351,
           0,
           "Yannick Noah"
          ],
          [
           0.23076923076923078,
           0.4375,
           0.4217687074829932,
           2,
           "Yen Hsun Lu"
          ],
          [
           0.5778688524590164,
           0.696969696969697,
           0.6770833333333334,
           0,
           "Yevgeny Kafelnikov"
          ],
          [
           0.5833333333333334,
           0.5,
           0.5026737967914439,
           0,
           "Younes El Aynaoui"
          ],
          [
           0.17647058823529413,
           0.5,
           0.391304347826087,
           2,
           "Yuichi Sugita"
          ],
          [
           0.39655172413793105,
           0.25,
           0.2916666666666667,
           1,
           "Zan Guerry"
          ],
          [
           0.625,
           0.3333333333333333,
           0.2608695652173913,
           1,
           "Ze Zhang"
          ],
          [
           0.6309794988610479,
           0.42857142857142855,
           0.4939759036144578,
           0,
           "Zeljko Franulovic"
          ],
          [
           0.3888888888888889,
           0.375,
           0.3,
           1,
           "Zoltan Kuharszky"
          ]
         ],
         "hoverlabel": {
          "namelength": 0
         },
         "hovertemplate": "Clay_record=%{customdata[0]}<br>Grass_record=%{customdata[1]}<br>Hard_record=%{customdata[2]}<br>label=%{marker.color}<br>player_name=%{customdata[4]}",
         "legendgroup": "",
         "marker": {
          "color": [
           0,
           1,
           2,
           2,
           1,
           0,
           1,
           0,
           1,
           2,
           1,
           1,
           1,
           1,
           1,
           1,
           1,
           2,
           1,
           1,
           2,
           1,
           2,
           1,
           0,
           2,
           1,
           0,
           2,
           2,
           0,
           2,
           1,
           2,
           0,
           1,
           0,
           0,
           1,
           2,
           2,
           1,
           0,
           0,
           1,
           1,
           2,
           2,
           2,
           0,
           0,
           2,
           1,
           2,
           1,
           2,
           0,
           1,
           1,
           2,
           0,
           2,
           0,
           2,
           0,
           0,
           2,
           1,
           1,
           0,
           1,
           1,
           0,
           1,
           2,
           0,
           0,
           1,
           1,
           1,
           2,
           2,
           2,
           0,
           0,
           1,
           2,
           0,
           0,
           0,
           1,
           1,
           1,
           1,
           2,
           2,
           0,
           1,
           2,
           0,
           2,
           2,
           1,
           2,
           0,
           2,
           2,
           2,
           2,
           0,
           2,
           0,
           2,
           0,
           2,
           1,
           1,
           1,
           2,
           0,
           2,
           0,
           1,
           1,
           0,
           0,
           0,
           2,
           0,
           2,
           2,
           0,
           1,
           2,
           0,
           0,
           0,
           2,
           2,
           2,
           1,
           1,
           2,
           2,
           0,
           2,
           2,
           2,
           0,
           1,
           1,
           1,
           1,
           1,
           1,
           0,
           2,
           1,
           0,
           1,
           2,
           1,
           0,
           2,
           2,
           1,
           2,
           2,
           2,
           0,
           1,
           2,
           2,
           0,
           0,
           1,
           0,
           2,
           2,
           2,
           2,
           1,
           1,
           0,
           2,
           0,
           1,
           1,
           1,
           0,
           2,
           0,
           0,
           1,
           1,
           1,
           2,
           1,
           2,
           2,
           1,
           2,
           2,
           2,
           0,
           1,
           2,
           2,
           1,
           2,
           2,
           2,
           2,
           1,
           2,
           2,
           2,
           0,
           0,
           1,
           0,
           2,
           1,
           1,
           2,
           0,
           0,
           2,
           1,
           2,
           0,
           2,
           2,
           1,
           2,
           0,
           2,
           2,
           1,
           0,
           2,
           2,
           1,
           2,
           0,
           1,
           2,
           1,
           1,
           2,
           0,
           1,
           2,
           2,
           0,
           2,
           1,
           1,
           0,
           0,
           1,
           0,
           2,
           2,
           2,
           2,
           1,
           1,
           2,
           1,
           0,
           2,
           0,
           0,
           2,
           1,
           2,
           1,
           1,
           2,
           0,
           1,
           1,
           1,
           1,
           1,
           2,
           1,
           2,
           2,
           2,
           1,
           1,
           2,
           1,
           1,
           0,
           0,
           0,
           0,
           0,
           1,
           2,
           0,
           1,
           0,
           1,
           2,
           1,
           1,
           1,
           0,
           1,
           0,
           1,
           2,
           0,
           2,
           1,
           2,
           1,
           1,
           2,
           1,
           2,
           2,
           1,
           2,
           0,
           1,
           1,
           1,
           2,
           2,
           2,
           0,
           1,
           2,
           1,
           0,
           2,
           0,
           2,
           1,
           2,
           2,
           2,
           2,
           2,
           1,
           2,
           2,
           1,
           0,
           0,
           2,
           1,
           2,
           2,
           1,
           0,
           1,
           2,
           2,
           2,
           2,
           2,
           0,
           0,
           2,
           0,
           2,
           1,
           0,
           2,
           2,
           0,
           0,
           0,
           0,
           0,
           0,
           0,
           2,
           1,
           1,
           1,
           1,
           2,
           1,
           1,
           1,
           0,
           2,
           2,
           0,
           2,
           2,
           0,
           2,
           1,
           2,
           1,
           0,
           0,
           1,
           1,
           2,
           2,
           2,
           1,
           0,
           2,
           0,
           2,
           2,
           0,
           1,
           2,
           2,
           1,
           1,
           0,
           1,
           0,
           2,
           0,
           0,
           0,
           1,
           1,
           2,
           0,
           1,
           2,
           0,
           0,
           1,
           0,
           0,
           1,
           0,
           0,
           0,
           1,
           1,
           1,
           2,
           2,
           0,
           2,
           0,
           1,
           2,
           1,
           0,
           2,
           2,
           2,
           2,
           0,
           2,
           1,
           0,
           1,
           0,
           0,
           1,
           0,
           2,
           2,
           1,
           1,
           2,
           1,
           2,
           1,
           2,
           0,
           2,
           2,
           2,
           1,
           1,
           2,
           1,
           2,
           0,
           0,
           1,
           0,
           1,
           2,
           0,
           0,
           2,
           2,
           1,
           2,
           0,
           2,
           0,
           0,
           2,
           1,
           0,
           1,
           0,
           0,
           2,
           0,
           1,
           2,
           1,
           2,
           2,
           1,
           2,
           1,
           2,
           0,
           0,
           1,
           2,
           2,
           1,
           2,
           2,
           2,
           1,
           2,
           0,
           2,
           2,
           2,
           1,
           0,
           2,
           0,
           2,
           2,
           0,
           2,
           2,
           2,
           1,
           0,
           0,
           2,
           1,
           2,
           2,
           2,
           2,
           1,
           0,
           1,
           0,
           2,
           1,
           1,
           1,
           0,
           0,
           1,
           1,
           0,
           0,
           2,
           2,
           2,
           1,
           1,
           1,
           0,
           0,
           2,
           2,
           1,
           0,
           0,
           1,
           0,
           2,
           0,
           2,
           0,
           2,
           0,
           0,
           1,
           2,
           2,
           0,
           0,
           2,
           0,
           1,
           1,
           1,
           1,
           1,
           1,
           0,
           1,
           2,
           1,
           1,
           2,
           0,
           1,
           2,
           1,
           1,
           1,
           0,
           0,
           1,
           0,
           2,
           1,
           0,
           1,
           0,
           0,
           2,
           1,
           1,
           2,
           1,
           2,
           1,
           2,
           0,
           0,
           0,
           2,
           0,
           1,
           0,
           0,
           0,
           0,
           2,
           2,
           1,
           1,
           0,
           1,
           2,
           1,
           0,
           1,
           2,
           1,
           0,
           1,
           0,
           2,
           0,
           1,
           0,
           2,
           0,
           2,
           0,
           0,
           0,
           0,
           2,
           1,
           2,
           0,
           2,
           2,
           0,
           0,
           2,
           1,
           1,
           1,
           2,
           2,
           2,
           2,
           0,
           1,
           2,
           1,
           1,
           1,
           1,
           1,
           2,
           1,
           2,
           0,
           2,
           1,
           0,
           2,
           2,
           2,
           0,
           0,
           2,
           1,
           1,
           0,
           1,
           0,
           2,
           2,
           2,
           0,
           2,
           1,
           2,
           1,
           2,
           0,
           1,
           1,
           1,
           1,
           2,
           2,
           2,
           0,
           0,
           1,
           2,
           0,
           2,
           2,
           2,
           1,
           2,
           2,
           0,
           2,
           2,
           0,
           0,
           0,
           2,
           2,
           2,
           2,
           0,
           2,
           2,
           1,
           2,
           0,
           2,
           2,
           0,
           1,
           1,
           0,
           1,
           0,
           1,
           0,
           1,
           2,
           1,
           2,
           2,
           0,
           0,
           1,
           1,
           2,
           0,
           1,
           1,
           2,
           1,
           2,
           2,
           1,
           1,
           1,
           0,
           1,
           1,
           2,
           2,
           1,
           1,
           1,
           1,
           2,
           2,
           1,
           1,
           1,
           2,
           1,
           0,
           2,
           0,
           0,
           1,
           2,
           1,
           2,
           0,
           0,
           2,
           0,
           1,
           0,
           2,
           0,
           1,
           2,
           0,
           1,
           0,
           2,
           2,
           2,
           1,
           0,
           2,
           2,
           1,
           2,
           2,
           2,
           0,
           0,
           2,
           0,
           0,
           0,
           2,
           0,
           2,
           1,
           0,
           2,
           2,
           2,
           0,
           0,
           2,
           1,
           0,
           1,
           0,
           2,
           2,
           0,
           0,
           2,
           2,
           2,
           1,
           1,
           2,
           1,
           1,
           0,
           0,
           0,
           2,
           2,
           2,
           0,
           2,
           0,
           2,
           2,
           2,
           2,
           2,
           1,
           0,
           2,
           2,
           2,
           2,
           1,
           2,
           0,
           1,
           1,
           1,
           1,
           0,
           1,
           2,
           0,
           2,
           1,
           1,
           0,
           2,
           0,
           0,
           2,
           2,
           2,
           2,
           1,
           2,
           0,
           0,
           2,
           0,
           1,
           2,
           2,
           1,
           2,
           0,
           0,
           2,
           0,
           1,
           2,
           2,
           1,
           2,
           1,
           2,
           2,
           2,
           2,
           2,
           0,
           2,
           0,
           2,
           0,
           1,
           1,
           2,
           2,
           2,
           0,
           2,
           1,
           2,
           2,
           1,
           0,
           1,
           0,
           1,
           0,
           0,
           0,
           2,
           0,
           1,
           2,
           2,
           1,
           0,
           1,
           2,
           2,
           1,
           1,
           2,
           2,
           2,
           1,
           0,
           2,
           2,
           2,
           2,
           2,
           2,
           1,
           1,
           2,
           2,
           0,
           2,
           2,
           2,
           2,
           0,
           2,
           2,
           1,
           2,
           2,
           1,
           1,
           2,
           2,
           1,
           0,
           2,
           1,
           0,
           0,
           1,
           1,
           0,
           0,
           0,
           2,
           0,
           2,
           2,
           2,
           0,
           2,
           1,
           0,
           1,
           2,
           0,
           0,
           2,
           1,
           0,
           0,
           1,
           1,
           0,
           2,
           0,
           0,
           2,
           2,
           2,
           0,
           2,
           1,
           0,
           2,
           1,
           1,
           2,
           0,
           0,
           0,
           1,
           2,
           1,
           0,
           1,
           1,
           1,
           0,
           0,
           0,
           2,
           1,
           1,
           0,
           0,
           2,
           1,
           0,
           2,
           2,
           2,
           0,
           2,
           1,
           2,
           1,
           2,
           0,
           0,
           2,
           1,
           0,
           0,
           2,
           0,
           0,
           2,
           1,
           1,
           0,
           1
          ],
          "coloraxis": "coloraxis",
          "symbol": "circle"
         },
         "mode": "markers",
         "name": "",
         "scene": "scene",
         "showlegend": false,
         "type": "scatter3d",
         "x": [
          0.583732057416268,
          0.25,
          0.25,
          0.16666666666666666,
          0.4666666666666667,
          0.6928571428571428,
          0.6,
          0.5384615384615384,
          0.4666666666666667,
          0.5,
          0.6650485436893204,
          0.5338345864661654,
          0.47388059701492535,
          0.5401459854014599,
          0.5879396984924623,
          0.5164473684210527,
          0.42857142857142855,
          0.2727272727272727,
          0.2,
          0.32608695652173914,
          0.3877551020408163,
          0.25,
          0.14285714285714285,
          0.40350877192982454,
          0.6621315192743764,
          0.15384615384615385,
          0.3333333333333333,
          0.631578947368421,
          0.3225806451612903,
          0.125,
          0.45454545454545453,
          0.2916666666666667,
          0.2916666666666667,
          0.19230769230769232,
          0.4,
          0.3409090909090909,
          0.7,
          0.49206349206349204,
          0.3076923076923077,
          0.2,
          0.25,
          0.5,
          0.5,
          0.5,
          0.25,
          0.2682926829268293,
          0.2,
          0.2708333333333333,
          0.3595505617977528,
          0.575,
          0.7272727272727273,
          0.27906976744186046,
          0.5585284280936454,
          0.36363636363636365,
          0.3870967741935484,
          0.47619047619047616,
          0.4962121212121212,
          0.43661971830985913,
          0.6415094339622641,
          0.25,
          0.66796875,
          0.3076923076923077,
          0.545,
          0.375,
          0.7142857142857143,
          0.7021276595744681,
          0.25,
          0.5316455696202531,
          0.3333333333333333,
          0.5196850393700787,
          0.36065573770491804,
          0.44776119402985076,
          0.5813953488372093,
          0.36363636363636365,
          0.1,
          0.6883116883116883,
          0.6386554621848739,
          0.4817073170731707,
          0.3926940639269406,
          0.4861878453038674,
          0.3448275862068966,
          0.38095238095238093,
          0.3181818181818182,
          0.47540983606557374,
          0.4083333333333333,
          0.47474747474747475,
          0.16666666666666666,
          0.5,
          0.7079646017699115,
          0.6945054945054945,
          0.3333333333333333,
          0.4583333333333333,
          0.5338983050847458,
          0.40804597701149425,
          0.3684210526315789,
          0.24444444444444444,
          0.5161290322580645,
          0.4745762711864407,
          0.3958333333333333,
          0.4166666666666667,
          0.3902439024390244,
          0.3230769230769231,
          0.5310344827586206,
          0.32142857142857145,
          0.4716981132075472,
          0.3333333333333333,
          0.21739130434782608,
          0.1,
          0.14285714285714285,
          0.41975308641975306,
          0.44565217391304346,
          0.8333333333333334,
          0.3684210526315789,
          0.8532110091743119,
          0.35714285714285715,
          0.3728813559322034,
          0.43333333333333335,
          0.47058823529411764,
          0.375,
          0.47058823529411764,
          0.32,
          0.6223776223776224,
          0.3333333333333333,
          0.5155555555555555,
          0.8888888888888888,
          0.6594594594594595,
          0.5684210526315789,
          0.4032258064516129,
          0.5,
          0.375,
          0.16666666666666666,
          0.42857142857142855,
          0.5555555555555556,
          0.35,
          0.48951048951048953,
          0.6311787072243346,
          0.5204081632653061,
          0.16666666666666666,
          0.23809523809523808,
          0.30303030303030304,
          0.3333333333333333,
          0.4375,
          0.4857142857142857,
          0.16666666666666666,
          0.6561264822134387,
          0.391304347826087,
          0.4,
          0.3709677419354839,
          0.38636363636363635,
          0.43478260869565216,
          0.3333333333333333,
          0.47513812154696133,
          0.463302752293578,
          0.599388379204893,
          0.4803921568627451,
          0.7033195020746889,
          0.3855421686746988,
          0.30434782608695654,
          0.5363636363636364,
          0.5294117647058824,
          0.3793103448275862,
          0.5,
          0.47619047619047616,
          0.4375,
          0.3333333333333333,
          0.25,
          0.14285714285714285,
          0.2608695652173913,
          0.18518518518518517,
          0.5643564356435643,
          0.3611111111111111,
          0.2,
          0.4,
          0.4634146341463415,
          0.45544554455445546,
          0.671875,
          0.6590909090909091,
          0.3448275862068966,
          0.21052631578947367,
          0.36363636363636365,
          0.09090909090909091,
          0.41566265060240964,
          0.44537815126050423,
          0.6666666666666666,
          0.08333333333333333,
          0.6710526315789473,
          0.489247311827957,
          0.4444444444444444,
          0.45962732919254656,
          0.6818181818181818,
          0.2727272727272727,
          0.7010869565217391,
          0.48026315789473684,
          0.39215686274509803,
          0.3333333333333333,
          0.3333333333333333,
          0.34615384615384615,
          0.6175,
          0.3076923076923077,
          0.2777777777777778,
          0.3333333333333333,
          0.125,
          0.15384615384615385,
          0.25,
          0.45901639344262296,
          0.4620253164556962,
          0.23529411764705882,
          0.25,
          0.45454545454545453,
          0.21052631578947367,
          0.38181818181818183,
          0.32432432432432434,
          0.25,
          0.42391304347826086,
          0.2,
          0.35294117647058826,
          0.38461538461538464,
          0.35714285714285715,
          0.6666666666666666,
          0.625,
          0.5423728813559322,
          0.16666666666666666,
          0.42391304347826086,
          0.2,
          0.3076923076923077,
          0.7050209205020921,
          0.6101694915254238,
          0.21875,
          0.3333333333333333,
          0.2,
          0.6602870813397129,
          0.2777777777777778,
          0.23809523809523808,
          0.41025641025641024,
          0.18181818181818182,
          0.5263157894736842,
          0.5,
          0.3680555555555556,
          0.4666666666666667,
          0.45384615384615384,
          0.2631578947368421,
          0.42857142857142855,
          0.5483870967741935,
          0.4117647058823529,
          0.6153846153846154,
          0.4318181818181818,
          0.27586206896551724,
          0.2857142857142857,
          0.3333333333333333,
          0.2972972972972973,
          0.5305343511450382,
          0.3,
          0.2857142857142857,
          0.07142857142857142,
          0.6484848484848484,
          0.32653061224489793,
          0.5684931506849316,
          0.3787878787878788,
          0.3918918918918919,
          0.7446808510638298,
          0.5362903225806451,
          0.5555555555555556,
          0.3333333333333333,
          0.125,
          0.21875,
          0.1111111111111111,
          0.22727272727272727,
          0.5384615384615384,
          0.18604651162790697,
          0.5066666666666667,
          0.5555555555555556,
          0.40384615384615385,
          0.6,
          0.7380952380952381,
          0.38095238095238093,
          0.6,
          0.37735849056603776,
          0.42857142857142855,
          0.4696969696969697,
          0.3333333333333333,
          0.6262626262626263,
          0.2727272727272727,
          0.643312101910828,
          0.423728813559322,
          0.3333333333333333,
          0.45,
          0.3698630136986301,
          0.6153846153846154,
          0.3888888888888889,
          0.45652173913043476,
          0.3,
          0.5241379310344828,
          0.7142857142857143,
          0.20689655172413793,
          0.3870967741935484,
          0.3877551020408163,
          0.5842696629213483,
          0.48175182481751827,
          0.49429657794676807,
          0.5161290322580645,
          0.8,
          0.659217877094972,
          0.28,
          0.7,
          0.5513698630136986,
          0.610079575596817,
          0.46887966804979253,
          0.16666666666666666,
          0.5050505050505051,
          0.5339805825242718,
          0.358974358974359,
          0.5204081632653061,
          0.46153846153846156,
          0.5,
          0.46511627906976744,
          0.3448275862068966,
          0.5782608695652174,
          0.35443037974683544,
          0.4230769230769231,
          0.38738738738738737,
          0.5397489539748954,
          0.6241379310344828,
          0.05263157894736842,
          0.4918032786885246,
          0.3611111111111111,
          0.375,
          0.4397163120567376,
          0.30120481927710846,
          0.5625,
          0.3333333333333333,
          0.36363636363636365,
          0.5476190476190477,
          0.2894736842105263,
          0.411214953271028,
          0.29411764705882354,
          0.6037735849056604,
          0.46835443037974683,
          0.4,
          0.660436137071651,
          0.6060606060606061,
          0.25,
          0.5040650406504065,
          0.42857142857142855,
          0.2222222222222222,
          0.29577464788732394,
          0.45185185185185184,
          0.44274809160305345,
          0.3333333333333333,
          0.14634146341463414,
          0.4,
          0.25,
          0.3333333333333333,
          0.4069767441860465,
          0.4576271186440678,
          0.5658914728682171,
          0.24,
          0.3333333333333333,
          0.25,
          0.29411764705882354,
          0.3076923076923077,
          0.618421052631579,
          0.5581395348837209,
          0.3333333333333333,
          0.33783783783783783,
          0.3333333333333333,
          0.3333333333333333,
          0.1111111111111111,
          0.37037037037037035,
          0.5,
          0.16666666666666666,
          0.5867768595041323,
          0.25,
          0.2631578947368421,
          0.5446428571428571,
          0.28846153846153844,
          0.2777777777777778,
          0.5904761904761905,
          0.7165775401069518,
          0.49635036496350365,
          0.7968936678614098,
          0.7011494252873564,
          0.5210526315789473,
          0.4230769230769231,
          0.21428571428571427,
          0.6175548589341693,
          0.3855421686746988,
          0.5133333333333333,
          0.41295546558704455,
          0.4262295081967213,
          0.3548387096774194,
          0.52,
          0.4146341463414634,
          0.690537084398977,
          0.3404255319148936,
          0.5,
          0.5773195876288659,
          0.3770491803278688,
          0.1111111111111111,
          0.5970149253731343,
          0.2631578947368421,
          0.6751269035532995,
          0.3125,
          0.4,
          0.6923076923076923,
          0.5,
          0.453125,
          0.5907590759075908,
          0.4,
          0.28,
          0.3157894736842105,
          0.5483870967741935,
          0.5,
          0.425531914893617,
          0.5339366515837104,
          0.26666666666666666,
          0.30303030303030304,
          0.7833001988071571,
          0.5,
          0.16666666666666666,
          0.14285714285714285,
          0.5652173913043478,
          0.375,
          0.5934579439252337,
          0.45,
          0.47641509433962265,
          0.421875,
          0.8103448275862069,
          0.5585106382978723,
          0.48484848484848486,
          0.49056603773584906,
          0.41379310344827586,
          0.125,
          0.42424242424242425,
          0.3181818181818182,
          0.3333333333333333,
          0.4864864864864865,
          0.5789473684210527,
          0.2857142857142857,
          0.6363636363636364,
          0.475,
          0.44285714285714284,
          0.5401069518716578,
          0.5549738219895288,
          0.46,
          0.15789473684210525,
          0.25,
          0.3333333333333333,
          0.3684210526315789,
          0.3448275862068966,
          0.4842105263157895,
          0.30952380952380953,
          0.6924882629107981,
          0.3333333333333333,
          0.4032258064516129,
          0.45263157894736844,
          0.52,
          0.2127659574468085,
          0.2608695652173913,
          0.3793103448275862,
          0.26666666666666666,
          0.5140845070422535,
          0.26666666666666666,
          0.5263157894736842,
          0.5609756097560976,
          0.3333333333333333,
          0.5784313725490197,
          0.5739130434782609,
          0.5375,
          0.6455696202531646,
          0.3953488372093023,
          0.22727272727272727,
          0.3333333333333333,
          0.4489795918367347,
          0.3125,
          0.5405405405405406,
          0.3888888888888889,
          0.4084507042253521,
          0.2631578947368421,
          0.5251396648044693,
          0.14285714285714285,
          0.25,
          0.2647058823529412,
          0.4537037037037037,
          0.6,
          0.39655172413793105,
          0.4230769230769231,
          0.2564102564102564,
          0.5228426395939086,
          0.4473684210526316,
          0.3611111111111111,
          0.358974358974359,
          0.25,
          0.14285714285714285,
          0.875,
          0.6845238095238095,
          0.3283582089552239,
          0.1875,
          0.4375,
          0.2345679012345679,
          0.45161290322580644,
          0.3870967741935484,
          0.6108786610878661,
          0.7703703703703704,
          0.2857142857142857,
          0.5384615384615384,
          0.5638766519823789,
          0.42105263157894735,
          0.5,
          0.6267605633802817,
          0.17647058823529413,
          0.6559633027522935,
          0.32558139534883723,
          0.2923076923076923,
          0.4968553459119497,
          0.43010752688172044,
          0.25,
          0.25,
          0.25,
          0.5,
          0.30434782608695654,
          0.5,
          0.6238244514106583,
          0.46875,
          0.2727272727272727,
          0.24074074074074073,
          0.3333333333333333,
          0.2857142857142857,
          0.2903225806451613,
          0.2777777777777778,
          0.43333333333333335,
          0.3333333333333333,
          0.5426356589147286,
          0.35294117647058826,
          0.41007194244604317,
          0.18181818181818182,
          0.5,
          0.7192982456140351,
          0.36666666666666664,
          0.7169811320754716,
          0.24,
          0.2631578947368421,
          0.4827586206896552,
          0.30952380952380953,
          0.30952380952380953,
          0.39473684210526316,
          0.25,
          0.36,
          0.4927536231884058,
          0.21428571428571427,
          0.36666666666666664,
          0.3684210526315789,
          0.38095238095238093,
          0.4697986577181208,
          0.20512820512820512,
          0.3,
          0.6778169014084507,
          0.416,
          0.7682619647355163,
          0.4818181818181818,
          0.40540540540540543,
          0.545816733067729,
          0.44086021505376344,
          0.7277936962750716,
          0.5601851851851852,
          0.5963855421686747,
          0.5777777777777777,
          0.6942148760330579,
          0.6226912928759895,
          0.4672897196261682,
          0.14285714285714285,
          0.4144144144144144,
          0.5172413793103449,
          0.4473684210526316,
          0.371900826446281,
          0.5029940119760479,
          0.5210084033613446,
          0.16666666666666666,
          0.32,
          0.3333333333333333,
          0.6163934426229508,
          0.5714285714285714,
          0.5313807531380753,
          0.545,
          0.09090909090909091,
          0.475,
          0.3409090909090909,
          0.6879432624113475,
          0.3333333333333333,
          0.42857142857142855,
          0.8029197080291971,
          0.11764705882352941,
          0.2909090909090909,
          0.23076923076923078,
          0.5277777777777778,
          0.3333333333333333,
          0.2,
          0.51875,
          0.4887640449438202,
          0.46808510638297873,
          0.4,
          0.5,
          0.34615384615384615,
          0.42857142857142855,
          0.49056603773584906,
          0.375,
          0.3125,
          0.41025641025641024,
          0.6338028169014085,
          0.1,
          0.42857142857142855,
          0.4782608695652174,
          0.2727272727272727,
          0.3,
          0.37209302325581395,
          0.4861111111111111,
          0.5254237288135594,
          0.45,
          0.3025210084033613,
          0.6363636363636364,
          0.45454545454545453,
          0.42424242424242425,
          0.4772727272727273,
          0.3333333333333333,
          0.5555555555555556,
          0.47368421052631576,
          0.36666666666666664,
          0.49390243902439024,
          0.35,
          0.2,
          0.5247524752475248,
          0.4742268041237113,
          0.25,
          0.3,
          0.649390243902439,
          0.5699481865284974,
          0.6055555555555555,
          0.25,
          0.35714285714285715,
          0.42592592592592593,
          0.5657894736842105,
          0.7671232876712328,
          0.7317073170731707,
          0.5960591133004927,
          0.3333333333333333,
          0.4406779661016949,
          0.5117647058823529,
          0.425531914893617,
          0.5042735042735043,
          0.38235294117647056,
          0.48130841121495327,
          0.43,
          0.688212927756654,
          0.45121951219512196,
          0.25925925925925924,
          0.3448275862068966,
          0.4318181818181818,
          0.3728813559322034,
          0.48360655737704916,
          0.45,
          0.46153846153846156,
          0.5193370165745856,
          0.6188118811881188,
          0.2962962962962963,
          0.5737704918032787,
          0.2702702702702703,
          0.5,
          0.5620437956204379,
          0.524390243902439,
          0.4421768707482993,
          0.10526315789473684,
          0.5,
          0.3333333333333333,
          0.5,
          0.1,
          0.36363636363636365,
          0.5591397849462365,
          0.38738738738738737,
          0.42105263157894735,
          0.4444444444444444,
          0.509090909090909,
          0.38235294117647056,
          0.2222222222222222,
          0.25,
          0.17647058823529413,
          0.08333333333333333,
          0.6637931034482759,
          0.553030303030303,
          0.2,
          0.632,
          0.29411764705882354,
          0.3170731707317073,
          0.43617021276595747,
          0.5079365079365079,
          0.39436619718309857,
          0.5555555555555556,
          0.3953488372093023,
          0.6527777777777778,
          0.35294117647058826,
          0.47058823529411764,
          0.7667638483965015,
          0.36363636363636365,
          0.32,
          0.2631578947368421,
          0.6666666666666666,
          0.5,
          0.07142857142857142,
          0.36666666666666664,
          0.4230769230769231,
          0.40594059405940597,
          0.4,
          0.577922077922078,
          0.4,
          0.41935483870967744,
          0.2978723404255319,
          0.6445783132530121,
          0.16666666666666666,
          0.42857142857142855,
          0.3333333333333333,
          0.25,
          0.2553191489361702,
          0.6687898089171974,
          0.4,
          0.3333333333333333,
          0.45652173913043476,
          0.4166666666666667,
          0.20689655172413793,
          0.3829787234042553,
          0.37142857142857144,
          0.4117647058823529,
          0.475,
          0.4696969696969697,
          0.13333333333333333,
          0.6470588235294118,
          0.4,
          0.4583333333333333,
          0.21666666666666667,
          0.42857142857142855,
          0.07692307692307693,
          0.37894736842105264,
          0.5114503816793893,
          0.41964285714285715,
          0.4430379746835443,
          0.6310679611650486,
          0.6666666666666666,
          0.5454545454545454,
          0.35294117647058826,
          0.31645569620253167,
          0.2,
          0.3,
          0.75,
          0.4482758620689655,
          0.4,
          0.2727272727272727,
          0.4222222222222222,
          0.5777777777777777,
          0.390625,
          0.35294117647058826,
          0.4649122807017544,
          0.6140350877192983,
          0.375,
          0.6565420560747663,
          0.38636363636363635,
          0.41509433962264153,
          0.6065573770491803,
          0.44715447154471544,
          0.5617283950617284,
          0.30357142857142855,
          0.5765124555160143,
          0.39655172413793105,
          0.14285714285714285,
          0.5449438202247191,
          0.6065573770491803,
          0.47619047619047616,
          0.4,
          0.3220338983050847,
          0.8041958041958042,
          0.3684210526315789,
          0.5,
          0.2727272727272727,
          0.4634146341463415,
          0.3584905660377358,
          0.3935483870967742,
          0.625,
          0.461038961038961,
          0.5714285714285714,
          0.5166051660516605,
          0.3023255813953488,
          0.4125874125874126,
          0.31666666666666665,
          0.375,
          0.5097087378640777,
          0.5375,
          0.6007462686567164,
          0.41935483870967744,
          0.5,
          0.25,
          0.6136363636363636,
          0.5310734463276836,
          0.4195804195804196,
          0.2553191489361702,
          0.4065934065934066,
          0.4,
          0.22448979591836735,
          0.46296296296296297,
          0.5026455026455027,
          0.44776119402985076,
          0.2972972972972973,
          0.423728813559322,
          0.37142857142857144,
          0.5652173913043478,
          0.5142857142857142,
          0.391304347826087,
          0.4666666666666667,
          0.39622641509433965,
          0.4625,
          0.4,
          0.46099290780141844,
          0.4864864864864865,
          0.37209302325581395,
          0.5045045045045045,
          0.46153846153846156,
          0.625,
          0.2222222222222222,
          0.16666666666666666,
          0.3,
          0.461038961038961,
          0.5119047619047619,
          0.38596491228070173,
          0.3333333333333333,
          0.5,
          0.3333333333333333,
          0.27419354838709675,
          0.05263157894736842,
          0.6502732240437158,
          0.5454545454545454,
          0.2222222222222222,
          0.5769230769230769,
          0.5333333333333333,
          0.5619047619047619,
          0.37209302325581395,
          0.5645161290322581,
          0.45454545454545453,
          0.5286885245901639,
          0.5489130434782609,
          0.2962962962962963,
          0.43137254901960786,
          0.3870967741935484,
          0.9144602851323829,
          0.39263803680981596,
          0.36363636363636365,
          0.42857142857142855,
          0.39285714285714285,
          0.6265060240963856,
          0.7267080745341615,
          0.3333333333333333,
          0.2857142857142857,
          0.5357142857142857,
          0.44086021505376344,
          0.2,
          0.3617021276595745,
          0.18181818181818182,
          0.49814126394052044,
          0.27586206896551724,
          0.3230769230769231,
          0.45614035087719296,
          0.48344370860927155,
          0.5058365758754864,
          0.6147186147186147,
          0.5984848484848485,
          0.2830188679245283,
          0.25,
          0.28,
          0.631578947368421,
          0.2,
          0.5111111111111111,
          0.23076923076923078,
          0.2222222222222222,
          0.09090909090909091,
          0.2857142857142857,
          0.16666666666666666,
          0.17647058823529413,
          0.5363636363636364,
          0.325,
          0.4745762711864407,
          0.13333333333333333,
          0.23076923076923078,
          0.3333333333333333,
          0.3333333333333333,
          0.59375,
          0.5,
          0.4,
          0.3404255319148936,
          0.5058139534883721,
          0.6231884057971014,
          0.391304347826087,
          0.375,
          0.7769230769230769,
          0.3888888888888889,
          0.375,
          0.2727272727272727,
          0.7593220338983051,
          0.3181818181818182,
          0.5641025641025641,
          0.5,
          0.16666666666666666,
          0.4876543209876543,
          0.20930232558139536,
          0.4166666666666667,
          0.5232974910394266,
          0.21052631578947367,
          0.6298701298701299,
          0.47540983606557374,
          0.1724137931034483,
          0.6493506493506493,
          0.3333333333333333,
          0.28846153846153844,
          0.35714285714285715,
          0.5333333333333333,
          0.2,
          0.4473684210526316,
          0.43103448275862066,
          0.4,
          0.6,
          0.5082872928176796,
          0.4326923076923077,
          0.19047619047619047,
          0.3865546218487395,
          0.14285714285714285,
          0.5,
          0.23529411764705882,
          0.34146341463414637,
          0.25,
          0.4,
          0.35,
          0.5827814569536424,
          0.15,
          0.5,
          0.25,
          0.6867749419953596,
          0.4581005586592179,
          0.3548387096774194,
          0.375,
          0.3684210526315789,
          0.4117647058823529,
          0.5612244897959183,
          0.3076923076923077,
          0.38461538461538464,
          0.23333333333333334,
          0.4745762711864407,
          0.4411764705882353,
          0.4642857142857143,
          0.5610687022900763,
          0.5,
          0.2857142857142857,
          0.3333333333333333,
          0.6909090909090909,
          0.6630824372759857,
          0.3263157894736842,
          0.6766169154228856,
          0.5,
          0.463768115942029,
          0.32142857142857145,
          0.4036697247706422,
          0.7037037037037037,
          0.3684210526315789,
          0.30952380952380953,
          0.26666666666666666,
          0.3333333333333333,
          0.42857142857142855,
          0.4666666666666667,
          0.36363636363636365,
          0.2857142857142857,
          0.25,
          0.4915254237288136,
          0.3904109589041096,
          0.3684210526315789,
          0.3181818181818182,
          0.24324324324324326,
          0.25,
          0.4057971014492754,
          0.6,
          0.44554455445544555,
          0.3076923076923077,
          0.25,
          0.5151515151515151,
          0.4444444444444444,
          0.20408163265306123,
          0.32,
          0.2857142857142857,
          0.5697674418604651,
          0.2916666666666667,
          0.325,
          0.3904761904761905,
          0.25,
          0.1,
          0.49295774647887325,
          0.48333333333333334,
          0.1111111111111111,
          0.4027777777777778,
          0.5627009646302251,
          0.4793388429752066,
          0.25,
          0.2727272727272727,
          0.35514018691588783,
          0.7661870503597122,
          0.5565217391304348,
          0.5757575757575758,
          0.46153846153846156,
          0.5294117647058824,
          0.2962962962962963,
          0.25,
          0.4657534246575342,
          0.4,
          0.36363636363636365,
          0.25,
          0.5775862068965517,
          0.3,
          0.3541666666666667,
          0.3728813559322034,
          0.41379310344827586,
          0.4090909090909091,
          0.5483870967741935,
          0.45454545454545453,
          0.047619047619047616,
          0.3170731707317073,
          0.7166666666666667,
          0.6370967741935484,
          0.5145985401459854,
          0.4117647058823529,
          0.6538461538461539,
          0.2909090909090909,
          0.5929203539823009,
          0.6624365482233503,
          0.07142857142857142,
          0.4090909090909091,
          0.25,
          0.7012987012987013,
          0.1282051282051282,
          0.4444444444444444,
          0.375,
          0.2903225806451613,
          0.25,
          0.11458333333333333,
          0.3157894736842105,
          0.4166666666666667,
          0.5857142857142857,
          0.5631067961165048,
          0.45714285714285713,
          0.05,
          0.47058823529411764,
          0.41379310344827586,
          0.3333333333333333,
          0.6285714285714286,
          0.5416666666666666,
          0.613882863340564,
          0.5362318840579711,
          0.5107913669064749,
          0.42592592592592593,
          0.2857142857142857,
          0.39285714285714285,
          0.7105263157894737,
          0.5769230769230769,
          0.19047619047619047,
          0.48360655737704916,
          0.32432432432432434,
          0.32653061224489793,
          0.37037037037037035,
          0.30434782608695654,
          0.5769230769230769,
          0.14285714285714285,
          0.32432432432432434,
          0.375,
          0.2916666666666667,
          0.2916666666666667,
          0.625,
          0.6567567567567567,
          0.34285714285714286,
          0.14285714285714285,
          0.49572649572649574,
          0.7379310344827587,
          0.23076923076923078,
          0.5778688524590164,
          0.5833333333333334,
          0.17647058823529413,
          0.39655172413793105,
          0.625,
          0.6309794988610479,
          0.3888888888888889
         ],
         "y": [
          0.5714285714285714,
          0.25,
          0.5903614457831325,
          0.25,
          0.2631578947368421,
          0.5416666666666666,
          0.2857142857142857,
          0.59375,
          0.4,
          0.5,
          0.2222222222222222,
          0.3157894736842105,
          0.21428571428571427,
          0.3333333333333333,
          0.3333333333333333,
          0.32,
          0.3902439024390244,
          0.5416666666666666,
          0.2,
          0.3333333333333333,
          0.5142857142857142,
          0.2571428571428571,
          0.44,
          0.14285714285714285,
          0.36363636363636365,
          0.4,
          0.25,
          0.7863247863247863,
          0.41935483870967744,
          0.5263157894736842,
          0.5,
          0.36363636363636365,
          0.21052631578947367,
          0.631578947368421,
          0.582089552238806,
          0.26666666666666666,
          0.631578947368421,
          0.5348837209302325,
          0.2,
          0.3333333333333333,
          0.6666666666666666,
          0.39285714285714285,
          0.5581395348837209,
          0.5,
          0.2,
          0.17142857142857143,
          0.25,
          0.5737704918032787,
          0.38636363636363635,
          0.5384615384615384,
          0.7352941176470589,
          0.37037037037037035,
          0.1,
          0.5,
          0.2857142857142857,
          0.5,
          0.5660377358490566,
          0.2857142857142857,
          0.2727272727272727,
          0.5,
          0.47058823529411764,
          0.5,
          0.4489795918367347,
          0.35294117647058826,
          0.7142857142857143,
          0.5555555555555556,
          0.27586206896551724,
          0.3125,
          0.16666666666666666,
          0.5147058823529411,
          0.09090909090909091,
          0.35,
          0.5714285714285714,
          0.35,
          0.3333333333333333,
          0.8307692307692308,
          0.7981651376146789,
          0.16666666666666666,
          0.2777777777777778,
          0.23529411764705882,
          0.4634146341463415,
          0.5555555555555556,
          0.42105263157894735,
          0.5428571428571428,
          0.5376344086021505,
          0.25,
          0.5217391304347826,
          0.5,
          0.7638888888888888,
          0.5185185185185185,
          0.25,
          0.38461538461538464,
          0.44776119402985076,
          0.2727272727272727,
          0.5,
          0.5454545454545454,
          0.5,
          0.25,
          0.5,
          0.42857142857142855,
          0.5142857142857142,
          0.5428571428571428,
          0.23529411764705882,
          0.5,
          0.5945945945945946,
          0.4,
          0.35,
          0.18181818181818182,
          0.3333333333333333,
          0.59,
          0.46511627906976744,
          0.5,
          0.5,
          0.8470588235294118,
          0.5,
          0.07142857142857142,
          0.1875,
          0.2,
          0.5714285714285714,
          0.4842105263157895,
          0.5416666666666666,
          0.6376811594202898,
          0.29411764705882354,
          0.2631578947368421,
          0.3333333333333333,
          0.8226950354609929,
          0.5238095238095238,
          0.5448717948717948,
          0.5535714285714286,
          0.4666666666666667,
          0.5,
          0.5932203389830508,
          0.5,
          0.42857142857142855,
          0.5531914893617021,
          0.6666666666666666,
          0.6466165413533834,
          0.3,
          0.3877551020408163,
          0.3076923076923077,
          0.2222222222222222,
          0.3333333333333333,
          0.5333333333333333,
          0.5652173913043478,
          0.5681818181818182,
          0.45714285714285713,
          0.45,
          0.4864864864864865,
          0.6111111111111112,
          0.35714285714285715,
          0.07142857142857142,
          0.2222222222222222,
          0.25,
          0.375,
          0.42857142857142855,
          0.4642857142857143,
          0.4,
          0.23529411764705882,
          0.5974025974025974,
          0.25,
          0.4375,
          0.36585365853658536,
          0.6179775280898876,
          0.40625,
          0.55,
          0.18181818181818182,
          0.4,
          0.42857142857142855,
          0.33962264150943394,
          0.5420560747663551,
          0.125,
          0.35294117647058826,
          0.4444444444444444,
          0.5,
          0.5185185185185185,
          0.2857142857142857,
          0.5,
          0.5476190476190477,
          0.38461538461538464,
          0.5714285714285714,
          0.6111111111111112,
          0.12,
          0.2,
          0.5,
          0.3,
          0.7325581395348837,
          0.25,
          0.3333333333333333,
          0.2,
          0.6493506493506493,
          0.43037974683544306,
          0.6557377049180327,
          0.5802469135802469,
          0.3333333333333333,
          0.3125,
          0.2,
          0.5,
          0.1111111111111111,
          0.34210526315789475,
          0.4444444444444444,
          0.21428571428571427,
          0.4166666666666667,
          0.23529411764705882,
          0.37777777777777777,
          0.5555555555555556,
          0.3888888888888889,
          0.4117647058823529,
          0.5428571428571428,
          0.3157894736842105,
          0.4626865671641791,
          0.4117647058823529,
          0.375,
          0.4230769230769231,
          0.10526315789473684,
          0.4186046511627907,
          0.425,
          0.5294117647058824,
          0.6,
          0.4,
          0.36363636363636365,
          0.4666666666666667,
          0.25,
          0.3953488372093023,
          0.14285714285714285,
          0.5714285714285714,
          0.6285714285714286,
          0.5581395348837209,
          0.3902439024390244,
          0.3333333333333333,
          0.42857142857142855,
          0.6888888888888889,
          0.543859649122807,
          0.5645161290322581,
          0.2,
          0.29411764705882354,
          0.6363636363636364,
          0.5384615384615384,
          0.425531914893617,
          0.2,
          0.5394736842105263,
          0.5116279069767442,
          0.5,
          0.25,
          0.5,
          0.6842105263157895,
          0.3181818181818182,
          0.375,
          0.2,
          0.16666666666666666,
          0.5915492957746479,
          0.5347222222222222,
          0.3,
          0.41379310344827586,
          0.43478260869565216,
          0.6060606060606061,
          0.4230769230769231,
          0.3333333333333333,
          0.25,
          0.5522388059701493,
          0.5172413793103449,
          0.24,
          0.5,
          0.3333333333333333,
          0.2,
          0.38461538461538464,
          0.47058823529411764,
          0.14285714285714285,
          0.43478260869565216,
          0.48148148148148145,
          0.25,
          0.5,
          0.45,
          0.6666666666666666,
          0.5,
          0.49382716049382713,
          0.2,
          0.45714285714285713,
          0.3333333333333333,
          0.125,
          0.5,
          0.5,
          0.2,
          0.2857142857142857,
          0.3333333333333333,
          0.2,
          0.4,
          0.6346153846153846,
          0.14285714285714285,
          0.4,
          0.48214285714285715,
          0.3333333333333333,
          0.38461538461538464,
          0.5,
          0.26666666666666666,
          0.16666666666666666,
          0.25,
          0.5135135135135135,
          0.5714285714285714,
          0.6587301587301587,
          0.75,
          0.6666666666666666,
          0.3333333333333333,
          0.391304347826087,
          0.6216216216216216,
          0.14285714285714285,
          0.5483870967741935,
          0.29411764705882354,
          0.36363636363636365,
          0.25,
          0.15384615384615385,
          0.125,
          0.5,
          0.34615384615384615,
          0.6,
          0.2,
          0.46153846153846156,
          0.5,
          0.3953488372093023,
          0.2,
          0.5,
          0.14285714285714285,
          0.4090909090909091,
          0.4772727272727273,
          0.38461538461538464,
          0.4444444444444444,
          0.38461538461538464,
          0.25,
          0.4,
          0.676923076923077,
          0.25,
          0.3333333333333333,
          0.125,
          0.4444444444444444,
          0.49230769230769234,
          0.55,
          0.5797101449275363,
          0.14285714285714285,
          0.42857142857142855,
          0.25,
          0.5357142857142857,
          0.3333333333333333,
          0.49137931034482757,
          0.6666666666666666,
          0.1875,
          0.3142857142857143,
          0.4666666666666667,
          0.45,
          0.5,
          0.47058823529411764,
          0.35714285714285715,
          0.45454545454545453,
          0.45,
          0.2857142857142857,
          0.5555555555555556,
          0.5777777777777777,
          0.3333333333333333,
          0.2,
          0.4418604651162791,
          0.36,
          0.23529411764705882,
          0.7171717171717171,
          0.16666666666666666,
          0.3333333333333333,
          0.4897959183673469,
          0.5,
          0.6,
          0.4074074074074074,
          0.7049180327868853,
          0.5333333333333333,
          0.3333333333333333,
          0.5806451612903226,
          0.375,
          0.25,
          0.4444444444444444,
          0.4375,
          0.3333333333333333,
          0.5909090909090909,
          0.5555555555555556,
          0.48333333333333334,
          0.7291666666666666,
          0.4666666666666667,
          0.5897435897435898,
          0.6442953020134228,
          0.3333333333333333,
          0.3333333333333333,
          0.375,
          0.2857142857142857,
          0.2857142857142857,
          0.5,
          0.25,
          0.35294117647058826,
          0.375,
          0.2857142857142857,
          0.3333333333333333,
          0.5,
          0.45454545454545453,
          0.36666666666666664,
          0.16666666666666666,
          0.6451612903225806,
          0.5789473684210527,
          0.29411764705882354,
          0.3333333333333333,
          0.3,
          0.47619047619047616,
          0.5142857142857142,
          0.15384615384615385,
          0.14285714285714285,
          0.5,
          0.3333333333333333,
          0.42857142857142855,
          0.3333333333333333,
          0.48717948717948717,
          0.5365853658536586,
          0.48484848484848486,
          0.32432432432432434,
          0.43478260869565216,
          0.7027027027027027,
          0.3333333333333333,
          0.3,
          0.6666666666666666,
          0.2222222222222222,
          0.25,
          0.4634146341463415,
          0.35714285714285715,
          0.5066666666666667,
          0.5483870967741935,
          0.75,
          0.48,
          0.6666666666666666,
          0.14285714285714285,
          0.35294117647058826,
          0.3333333333333333,
          0.6293103448275862,
          0.23076923076923078,
          0.5,
          0.574468085106383,
          0.5217391304347826,
          0.25,
          0.524390243902439,
          0.5,
          0.2,
          0.4166666666666667,
          0.5142857142857142,
          0.5161290322580645,
          0.15384615384615385,
          0.2222222222222222,
          0.25,
          0.47619047619047616,
          0.5454545454545454,
          0.47368421052631576,
          0.475,
          0.6451612903225806,
          0.3076923076923077,
          0.4,
          0.375,
          0.5714285714285714,
          0.5227272727272727,
          0.3333333333333333,
          0.4666666666666667,
          0.4827586206896552,
          0.5277777777777778,
          0.42857142857142855,
          0.3888888888888889,
          0.43859649122807015,
          0.23529411764705882,
          0.6145833333333334,
          0.5555555555555556,
          0.2727272727272727,
          0.5,
          0.42105263157894735,
          0.4358974358974359,
          0.125,
          0.13333333333333333,
          0.3,
          0.3870967741935484,
          0.4,
          0.2,
          0.36363636363636365,
          0.44776119402985076,
          0.375,
          0.3333333333333333,
          0.5,
          0.34146341463414637,
          0.3333333333333333,
          0.5454545454545454,
          0.3333333333333333,
          0.4574468085106383,
          0.4827586206896552,
          0.46875,
          0.2222222222222222,
          0.6153846153846154,
          0.25,
          0.4166666666666667,
          0.5,
          0.6222222222222222,
          0.43243243243243246,
          0.3333333333333333,
          0.4,
          0.4,
          0.4827586206896552,
          0.5555555555555556,
          0.5,
          0.8207547169811321,
          0.391304347826087,
          0.43478260869565216,
          0.4857142857142857,
          0.125,
          0.6,
          0.6933333333333334,
          0.5,
          0.6216216216216216,
          0.2,
          0.3333333333333333,
          0.4117647058823529,
          0.5121951219512195,
          0.5,
          0.18181818181818182,
          0.5217391304347826,
          0.2,
          0.3333333333333333,
          0.7264957264957265,
          0.5951219512195122,
          0.375,
          0.32,
          0.3170731707317073,
          0.3076923076923077,
          0.5932203389830508,
          0.328125,
          0.5868263473053892,
          0.36363636363636365,
          0.5,
          0.6712328767123288,
          0.4634146341463415,
          0.49166666666666664,
          0.3673469387755102,
          0.25,
          0.8581560283687943,
          0.43478260869565216,
          0.7837837837837838,
          0.4166666666666667,
          0.4,
          0.5964912280701754,
          0.4482758620689655,
          0.45454545454545453,
          0.42857142857142855,
          0.25,
          0.6507936507936508,
          0.5,
          0.375,
          0.3584905660377358,
          0.4883720930232558,
          0.38095238095238093,
          0.5,
          0.26666666666666666,
          0.25,
          0.5,
          0.3333333333333333,
          0.5238095238095238,
          0.5,
          0.3125,
          0.5,
          0.3333333333333333,
          0.6122448979591837,
          0.6666666666666666,
          0.26666666666666666,
          0.3333333333333333,
          0.6896551724137931,
          0.3888888888888889,
          0.4444444444444444,
          0.3333333333333333,
          0.47368421052631576,
          0.1111111111111111,
          0.38235294117647056,
          0.25,
          0.46875,
          0.527027027027027,
          0.3333333333333333,
          0.4067796610169492,
          0.25,
          0.4166666666666667,
          0.6666666666666666,
          0.3333333333333333,
          0.5416666666666666,
          0.4375,
          0.5967741935483871,
          0.44,
          0.6060606060606061,
          0.42857142857142855,
          0.5846153846153846,
          0.7894736842105263,
          0.1111111111111111,
          0.45588235294117646,
          0.42857142857142855,
          0.5909090909090909,
          0.6635514018691588,
          0.2222222222222222,
          0.5675675675675675,
          0.2222222222222222,
          0.3333333333333333,
          0.18181818181818182,
          0.2,
          0.25,
          0.37037037037037035,
          0.3870967741935484,
          0.2608695652173913,
          0.3076923076923077,
          0.2222222222222222,
          0.2,
          0.5263157894736842,
          0.6571428571428571,
          0.3333333333333333,
          0.5,
          0.2,
          0.2,
          0.15384615384615385,
          0.45714285714285713,
          0.5714285714285714,
          0.2,
          0.7543859649122807,
          0.5098039215686274,
          0.375,
          0.625,
          0.14285714285714285,
          0.5806451612903226,
          0.36363636363636365,
          0.48,
          0.14285714285714285,
          0.2857142857142857,
          0.4186046511627907,
          0.4,
          0.52,
          0.25,
          0.625,
          0.5,
          0.5581395348837209,
          0.4666666666666667,
          0.375,
          0.5932203389830508,
          0.2962962962962963,
          0.5531914893617021,
          0.5740740740740741,
          0.6428571428571429,
          0.5777777777777777,
          0.4074074074074074,
          0.4230769230769231,
          0.4594594594594595,
          0.3333333333333333,
          0.4745762711864407,
          0.35,
          0.4473684210526316,
          0.2727272727272727,
          0.5,
          0.25,
          0.4,
          0.25,
          0.5789473684210527,
          0.14285714285714285,
          0.5217391304347826,
          0.43333333333333335,
          0.6388888888888888,
          0.25,
          0.6868686868686869,
          0.4,
          0.7358490566037735,
          0.4,
          0.5,
          0.6153846153846154,
          0.5789473684210527,
          0.6374269005847953,
          0.44,
          0.42857142857142855,
          0.47058823529411764,
          0.5,
          0.5102040816326531,
          0.37777777777777777,
          0.6891891891891891,
          0.5368421052631579,
          0.42857142857142855,
          0.25,
          0.14285714285714285,
          0.25,
          0.3125,
          0.3333333333333333,
          0.46938775510204084,
          0.25,
          0.4444444444444444,
          0.23529411764705882,
          0.39473684210526316,
          0.25,
          0.14285714285714285,
          0.14285714285714285,
          0.2857142857142857,
          0.3333333333333333,
          0.42857142857142855,
          0.3076923076923077,
          0.5263157894736842,
          0.6213592233009708,
          0.3333333333333333,
          0.3333333333333333,
          0.7424242424242424,
          0.5306122448979592,
          0.4166666666666667,
          0.38636363636363635,
          0.7222222222222222,
          0.5,
          0.4444444444444444,
          0.2222222222222222,
          0.25,
          0.5357142857142857,
          0.14285714285714285,
          0.47058823529411764,
          0.5,
          0.4,
          0.2916666666666667,
          0.5454545454545454,
          0.4375,
          0.35714285714285715,
          0.5945945945945946,
          0.25,
          0.30303030303030304,
          0.782051282051282,
          0.26666666666666666,
          0.2857142857142857,
          0.25,
          0.2857142857142857,
          0.3333333333333333,
          0.5238095238095238,
          0.559322033898305,
          0.5,
          0.6666666666666666,
          0.2727272727272727,
          0.5660377358490566,
          0.5,
          0.4,
          0.4375,
          0.532258064516129,
          0.38461538461538464,
          0.34285714285714286,
          0.39473684210526316,
          0.5648148148148148,
          0.4411764705882353,
          0.4375,
          0.6805555555555556,
          0.6666666666666666,
          0.6,
          0.3333333333333333,
          0.5,
          0.5,
          0.5,
          0.875,
          0.5081967213114754,
          0.36363636363636365,
          0.25,
          0.45,
          0.6111111111111112,
          0.4918032786885246,
          0.36363636363636365,
          0.5357142857142857,
          0.2222222222222222,
          0.15789473684210525,
          0.4666666666666667,
          0.3333333333333333,
          0.6216216216216216,
          0.4,
          0.5945945945945946,
          0.36666666666666664,
          0.6203703703703703,
          0.3333333333333333,
          0.3793103448275862,
          0.3333333333333333,
          0.6973684210526315,
          0.3333333333333333,
          0.3684210526315789,
          0.3333333333333333,
          0.5,
          0.8407079646017699,
          0.16666666666666666,
          0.4,
          0.42105263157894735,
          0.4,
          0.5,
          0.5308641975308642,
          0.25,
          0.38461538461538464,
          0.16666666666666666,
          0.6027397260273972,
          0.16666666666666666,
          0.1,
          0.4634146341463415,
          0.6153846153846154,
          0.11764705882352941,
          0.2,
          0.4117647058823529,
          0.23076923076923078,
          0.5,
          0.36363636363636365,
          0.375,
          0.25,
          0.2,
          0.5555555555555556,
          0.3333333333333333,
          0.7279411764705882,
          0.36363636363636365,
          0.4791666666666667,
          0.6122448979591837,
          0.35,
          0.3333333333333333,
          0.2727272727272727,
          0.4,
          0.5,
          0.7474747474747475,
          0.4523809523809524,
          0.6190476190476191,
          0.3,
          0.47058823529411764,
          0.5,
          0.5283018867924528,
          0.4074074074074074,
          0.43859649122807015,
          0.5636363636363636,
          0.16666666666666666,
          0.8360655737704918,
          0.42857142857142855,
          0.42857142857142855,
          0.5205479452054794,
          0.3333333333333333,
          0.49019607843137253,
          0.4,
          0.4444444444444444,
          0.125,
          0.42857142857142855,
          0.4444444444444444,
          0.5,
          0.43859649122807015,
          0.5641025641025641,
          0.5625,
          0.6521739130434783,
          0.6495327102803738,
          0.5979381443298969,
          0.525,
          0.5576923076923077,
          0.5,
          0.08333333333333333,
          0.589041095890411,
          0.3333333333333333,
          0.5,
          0.46938775510204084,
          0.7802197802197802,
          0.5555555555555556,
          0.5428571428571428,
          0.3333333333333333,
          0.5480769230769231,
          0.18181818181818182,
          0.6533333333333333,
          0.375,
          0.40384615384615385,
          0.5785123966942148,
          0.4948453608247423,
          0.3333333333333333,
          0.42857142857142855,
          0.4,
          0.3333333333333333,
          0.21052631578947367,
          0.5238095238095238,
          0.1111111111111111,
          0.2,
          0.4473684210526316,
          0.6666666666666666,
          0.7078651685393258,
          0.4084507042253521,
          0.375,
          0.4090909090909091,
          0.6595744680851063,
          0.5,
          0.5735294117647058,
          0.36,
          0.2727272727272727,
          0.4166666666666667,
          0.48,
          0.2222222222222222,
          0.16666666666666666,
          0.6407766990291263,
          0.4,
          0.48717948717948717,
          0.5384615384615384,
          0.5405405405405406,
          0.25,
          0.36363636363636365,
          0.7111111111111111,
          0.16666666666666666,
          0.3333333333333333,
          0.25,
          0.4,
          0.6046511627906976,
          0.2,
          0.5319148936170213,
          0.84375,
          0.42105263157894735,
          0.18181818181818182,
          0.25,
          0.875,
          0.4444444444444444,
          0.6290322580645161,
          0.5,
          0.3333333333333333,
          0.4782608695652174,
          0.2857142857142857,
          0.4583333333333333,
          0.3333333333333333,
          0.25,
          0.7341772151898734,
          0.5611510791366906,
          0.43243243243243246,
          0.6779661016949152,
          0.3,
          0.47863247863247865,
          0.35135135135135137,
          0.3,
          0.5357142857142857,
          0.6415094339622641,
          0.5370370370370371,
          0.5714285714285714,
          0.627906976744186,
          0.45161290322580644,
          0.4827586206896552,
          0.5,
          0.2765957446808511,
          0.3333333333333333,
          0.2222222222222222,
          0.5084745762711864,
          0.4888888888888889,
          0.2962962962962963,
          0.5,
          0.5,
          0.6533333333333333,
          0.3870967741935484,
          0.5,
          0.3333333333333333,
          0.5,
          0.16666666666666666,
          0.16666666666666666,
          0.48148148148148145,
          0.46153846153846156,
          0.45901639344262296,
          0.475,
          0.5581395348837209,
          0.3333333333333333,
          0.40350877192982454,
          0.5,
          0.2,
          0.6103896103896104,
          0.3333333333333333,
          0.6470588235294118,
          0.25,
          0.6,
          0.7469879518072289,
          0.5,
          0.375,
          0.7857142857142857,
          0.2962962962962963,
          0.5,
          0.42857142857142855,
          0.3333333333333333,
          0.5333333333333333,
          0.2857142857142857,
          0.3333333333333333,
          0.48,
          0.2,
          0.375,
          0.45714285714285713,
          0.5416666666666666,
          0.42424242424242425,
          0.2222222222222222,
          0.5614035087719298,
          0.375,
          0.375,
          0.3225806451612903,
          0.3333333333333333,
          0.45614035087719296,
          0.5789473684210527,
          0.16666666666666666,
          0.2,
          0.4,
          0.5576923076923077,
          0.43478260869565216,
          0.5217391304347826,
          0.2857142857142857,
          0.5,
          0.5172413793103449,
          0.48148148148148145,
          0.3235294117647059,
          0.4864864864864865,
          0.2608695652173913,
          0.3333333333333333,
          0.4,
          0.3333333333333333,
          0.3888888888888889,
          0.2857142857142857,
          0.4782608695652174,
          0.2,
          0.4878048780487805,
          0.5714285714285714,
          0.18181818181818182,
          0.6153846153846154,
          0.4444444444444444,
          0.3333333333333333,
          0.3235294117647059,
          0.6422018348623854,
          0.7142857142857143,
          0.7086614173228346,
          0.3333333333333333,
          0.5447761194029851,
          0.5,
          0.4583333333333333,
          0.3333333333333333,
          0.7093023255813954,
          0.34615384615384615,
          0.3,
          0.5921052631578947,
          0.35714285714285715,
          0.4166666666666667,
          0.5726495726495726,
          0.5520833333333334,
          0.4,
          0.125,
          0.7559055118110236,
          0.6868686868686869,
          0.35294117647058826,
          0.2,
          0.5294117647058824,
          0.375,
          0.6263736263736264,
          0.5535714285714286,
          0.5,
          0.38095238095238093,
          0.3333333333333333,
          0.7763975155279503,
          0.47368421052631576,
          0.3333333333333333,
          0.4583333333333333,
          0.3333333333333333,
          0.16666666666666666,
          0.034482758620689655,
          0.4,
          0.6,
          0.4,
          0.5,
          0.16666666666666666,
          0.3902439024390244,
          0.4166666666666667,
          0.5675675675675675,
          0.3333333333333333,
          0.23529411764705882,
          0.40625,
          0.5641025641025641,
          0.6482758620689655,
          0.5161290322580645,
          0.4090909090909091,
          0.2,
          0.3333333333333333,
          0.6781609195402298,
          0.5,
          0.45454545454545453,
          0.36,
          0.6436781609195402,
          0.52,
          0.5652173913043478,
          0.3684210526315789,
          0.6601941747572816,
          0.28,
          0.3333333333333333,
          0.4,
          0.29411764705882354,
          0.36363636363636365,
          0.5,
          0.5897435897435898,
          0.4444444444444444,
          0.125,
          0.625,
          0.45454545454545453,
          0.4375,
          0.696969696969697,
          0.5,
          0.5,
          0.25,
          0.3333333333333333,
          0.42857142857142855,
          0.375
         ],
         "z": [
          0.6513761467889908,
          0.4,
          0.46511627906976744,
          0.2857142857142857,
          0.43636363636363634,
          0.5180722891566265,
          0.4489795918367347,
          0.5,
          0.2727272727272727,
          0.375,
          0.49523809523809526,
          0.3064516129032258,
          0.22448979591836735,
          0.3764705882352941,
          0.4444444444444444,
          0.3464052287581699,
          0.39156626506024095,
          0.5111111111111111,
          0.17647058823529413,
          0.25,
          0.45132743362831856,
          0.125,
          0.41007194244604317,
          0.4074074074074074,
          0.5611814345991561,
          0.6428571428571429,
          0.21428571428571427,
          0.7272727272727273,
          0.42857142857142855,
          0.44,
          0.4642857142857143,
          0.358695652173913,
          0.34782608695652173,
          0.36585365853658536,
          0.5630630630630631,
          0.23076923076923078,
          0.6531531531531531,
          0.531496062992126,
          0.3333333333333333,
          0.37142857142857144,
          0.35294117647058826,
          0.4628099173553719,
          0.4537037037037037,
          0.5,
          0.42105263157894735,
          0.30303030303030304,
          0.4084507042253521,
          0.6261127596439169,
          0.35802469135802467,
          0.5700483091787439,
          0.7889182058047494,
          0.4126984126984127,
          0.375,
          0.3684210526315789,
          0.3541666666666667,
          0.37037037037037035,
          0.4623115577889447,
          0.48484848484848486,
          0.5682819383259912,
          0.25,
          0.5612903225806452,
          0.32967032967032966,
          0.4956896551724138,
          0.43478260869565216,
          0.6103896103896104,
          0.6439024390243903,
          0.32432432432432434,
          0.3904761904761905,
          0.4,
          0.5612244897959183,
          0.3853211009174312,
          0.4666666666666667,
          0.6024096385542169,
          0.1875,
          0.25925925925925924,
          0.7774030354131535,
          0.75177304964539,
          0.35294117647058826,
          0.19047619047619047,
          0.2857142857142857,
          0.40594059405940597,
          0.37037037037037035,
          0.1,
          0.5379746835443038,
          0.5071225071225072,
          0.32727272727272727,
          0.25,
          0.5714285714285714,
          0.7617021276595745,
          0.52,
          0.38461538461538464,
          0.36363636363636365,
          0.34375,
          0.25,
          0.4166666666666667,
          0.4061302681992337,
          0.4618320610687023,
          0.43478260869565216,
          0.39285714285714285,
          0.625,
          0.5095541401273885,
          0.5384615384615384,
          0.4444444444444444,
          0.3333333333333333,
          0.39285714285714285,
          0.25,
          0.2,
          0.3333333333333333,
          0.3333333333333333,
          0.5572916666666666,
          0.4430379746835443,
          0.5,
          0.26666666666666666,
          0.7533333333333333,
          0.3333333333333333,
          0.4,
          0.36363636363636365,
          0.3333333333333333,
          0.2631578947368421,
          0.49264705882352944,
          0.3125,
          0.5684210526315789,
          0.26666666666666666,
          0.4817073170731707,
          0.45,
          0.7586206896551724,
          0.5163043478260869,
          0.35555555555555557,
          0.6856540084388185,
          0.32926829268292684,
          0.5,
          0.5,
          0.24390243902439024,
          0.3333333333333333,
          0.52,
          0.7146892655367232,
          0.5927835051546392,
          0.3541666666666667,
          0.39325842696629215,
          0.45,
          0.17647058823529413,
          0.45614035087719296,
          0.36936936936936937,
          0.5,
          0.6216216216216216,
          0.3157894736842105,
          0.5277777777777778,
          0.4155844155844156,
          0.528125,
          0.4794520547945205,
          0.375,
          0.5241935483870968,
          0.32558139534883723,
          0.4536082474226804,
          0.4666666666666667,
          0.5955056179775281,
          0.4117647058823529,
          0.3770491803278688,
          0.5551470588235294,
          0.30303030303030304,
          0.5128205128205128,
          0.2727272727272727,
          0.45714285714285713,
          0.4563106796116505,
          0.36363636363636365,
          0.38095238095238093,
          0.4605263157894737,
          0.25,
          0.25,
          0.5217391304347826,
          0.4594594594594595,
          0.41379310344827586,
          0.2,
          0.5074626865671642,
          0.5354330708661418,
          0.375,
          0.3333333333333333,
          0.28378378378378377,
          0.27586206896551724,
          0.425531914893617,
          0.49710982658959535,
          0.3228346456692913,
          0.453125,
          0.46153846153846156,
          0.5074626865671642,
          0.6793893129770993,
          0.3953488372093023,
          0.3888888888888889,
          0.10526315789473684,
          0.6449704142011834,
          0.2857142857142857,
          0.7029702970297029,
          0.48044692737430167,
          0.4810126582278481,
          0.2,
          0.5,
          0.4090909090909091,
          0.5942028985507246,
          0.26666666666666666,
          0.21428571428571427,
          0.40707964601769914,
          0.40336134453781514,
          0.2,
          0.4444444444444444,
          0.4785276073619632,
          0.3125,
          0.359375,
          0.5337837837837838,
          0.46808510638297873,
          0.4322033898305085,
          0.3875,
          0.5,
          0.5,
          0.2537313432835821,
          0.43548387096774194,
          0.45595854922279794,
          0.3235294117647059,
          0.7087912087912088,
          0.5263157894736842,
          0.36363636363636365,
          0.5555555555555556,
          0.46153846153846156,
          0.3469387755102041,
          0.42105263157894735,
          0.3103448275862069,
          0.6352087114337568,
          0.6140939597315436,
          0.2,
          0.26666666666666666,
          0.3617021276595745,
          0.6538461538461539,
          0.5355450236966824,
          0.4012738853503185,
          0.30434782608695654,
          0.3275862068965517,
          0.5530973451327433,
          0.21428571428571427,
          0.43956043956043955,
          0.32,
          0.45390070921985815,
          0.28735632183908044,
          0.25,
          0.5833333333333334,
          0.3448275862068966,
          0.46774193548387094,
          0.38461538461538464,
          0.5,
          0.29411764705882354,
          0.3157894736842105,
          0.5288461538461539,
          0.48672566371681414,
          0.14285714285714285,
          0.2222222222222222,
          0.3076923076923077,
          0.5272727272727272,
          0.4125,
          0.5333333333333333,
          0.25,
          0.5255972696245734,
          0.6,
          0.5427728613569321,
          0.42857142857142855,
          0.42857142857142855,
          0.5,
          0.4279835390946502,
          0.3902439024390244,
          0.38461538461538464,
          0.35,
          0.4491525423728814,
          0.4090909090909091,
          0.3333333333333333,
          0.3382352941176471,
          0.5882352941176471,
          0.684931506849315,
          0.3170731707317073,
          0.5454545454545454,
          0.4,
          0.39285714285714285,
          0.25806451612903225,
          0.3333333333333333,
          0.6995708154506438,
          0.3684210526315789,
          0.5833333333333334,
          0.4166666666666667,
          0.30434782608695654,
          0.33962264150943394,
          0.4426229508196721,
          0.5185185185185185,
          0.21739130434782608,
          0.4251968503937008,
          0.35714285714285715,
          0.5071428571428571,
          0.18181818181818182,
          0.36363636363636365,
          0.5,
          0.25,
          0.47719298245614034,
          0.5347826086956522,
          0.5055555555555555,
          0.5277777777777778,
          0.8,
          0.49635036496350365,
          0.3333333333333333,
          0.6102941176470589,
          0.3486238532110092,
          0.5357873210633947,
          0.3786407766990291,
          0.36363636363636365,
          0.36764705882352944,
          0.1323529411764706,
          0.38181818181818183,
          0.42857142857142855,
          0.4166666666666667,
          0.4297872340425532,
          0.38461538461538464,
          0.43478260869565216,
          0.4772727272727273,
          0.41818181818181815,
          0.15789473684210525,
          0.4166666666666667,
          0.36231884057971014,
          0.3076923076923077,
          0.37735849056603776,
          0.45,
          0.3076923076923077,
          0.25,
          0.2857142857142857,
          0.1956521739130435,
          0.4864864864864865,
          0.52,
          0.15384615384615385,
          0.3877551020408163,
          0.48,
          0.421875,
          0.48936170212765956,
          0.6577319587628866,
          0.20408163265306123,
          0.41732283464566927,
          0.42105263157894735,
          0.7388535031847133,
          0.32,
          0.5,
          0.25,
          0.4065934065934066,
          0.37681159420289856,
          0.48,
          0.46835443037974683,
          0.16666666666666666,
          0.41732283464566927,
          0.49056603773584906,
          0.49230769230769234,
          0.3333333333333333,
          0.4444444444444444,
          0.5272108843537415,
          0.5787401574803149,
          0.4583333333333333,
          0.125,
          0.45054945054945056,
          0.391304347826087,
          0.36538461538461536,
          0.5830903790087464,
          0.4642857142857143,
          0.3673469387755102,
          0.2982456140350877,
          0.424,
          0.2727272727272727,
          0.5454545454545454,
          0.5907928388746803,
          0.40816326530612246,
          0.34782608695652173,
          0.6131805157593123,
          0.35555555555555557,
          0.38461538461538464,
          0.4174757281553398,
          0.46153846153846156,
          0.45,
          0.5536723163841808,
          0.5862068965517241,
          0.4222222222222222,
          0.6918238993710691,
          0.6228813559322034,
          0.6074380165289256,
          0.5647058823529412,
          0.2,
          0.2,
          0.25,
          0.5777777777777777,
          0.4666666666666667,
          0.30434782608695654,
          0.40625,
          0.5,
          0.38144329896907214,
          0.6472727272727272,
          0.47619047619047616,
          0.2857142857142857,
          0.5590551181102362,
          0.532608695652174,
          0.36363636363636365,
          0.567741935483871,
          0.4811320754716981,
          0.34375,
          0.3333333333333333,
          0.375,
          0.5454545454545454,
          0.4823529411764706,
          0.37349397590361444,
          0.34328358208955223,
          0.4931506849315068,
          0.4,
          0.26666666666666666,
          0.5309734513274337,
          0.48325358851674644,
          0.45454545454545453,
          0.47692307692307695,
          0.37662337662337664,
          0.35365853658536583,
          0.7025089605734767,
          0.2,
          0.45871559633027525,
          0.4791666666666667,
          0.36363636363636365,
          0.3076923076923077,
          0.4027777777777778,
          0.3018867924528302,
          0.4642857142857143,
          0.4539877300613497,
          0.8257261410788381,
          0.6034063260340633,
          0.3,
          0.26666666666666666,
          0.2,
          0.3181818181818182,
          0.5223214285714286,
          0.4090909090909091,
          0.5652173913043478,
          0.37755102040816324,
          0.555045871559633,
          0.125,
          0.5607476635514018,
          0.42857142857142855,
          0.3333333333333333,
          0.5634920634920635,
          0.5551601423487544,
          0.6316964285714286,
          0.42857142857142855,
          0.3387096774193548,
          0.25,
          0.43529411764705883,
          0.4,
          0.5447154471544715,
          0.4215686274509804,
          0.5225225225225225,
          0.4625,
          0.2777777777777778,
          0.48255813953488375,
          0.6,
          0.5586206896551724,
          0.39473684210526316,
          0.5137254901960784,
          0.26666666666666666,
          0.5356037151702786,
          0.4691358024691358,
          0.4625,
          0.5377969762419006,
          0.3076923076923077,
          0.5194029850746269,
          0.4473684210526316,
          0.45454545454545453,
          0.6612903225806451,
          0.4444444444444444,
          0.3548387096774194,
          0.42857142857142855,
          0.3333333333333333,
          0.45714285714285713,
          0.375,
          0.4097222222222222,
          0.3559322033898305,
          0.425,
          0.4588235294117647,
          0.373134328358209,
          0.2727272727272727,
          0.22580645161290322,
          0.46645367412140576,
          0.4,
          0.3448275862068966,
          0.3333333333333333,
          0.42028985507246375,
          0.47896440129449835,
          0.5483870967741935,
          0.4666666666666667,
          0.52,
          0.19047619047619047,
          0.3125,
          0.6111111111111112,
          0.7094430992736077,
          0.3709677419354839,
          0.50199203187251,
          0.2571428571428571,
          0.36585365853658536,
          0.47540983606557374,
          0.47058823529411764,
          0.5491071428571429,
          0.819935691318328,
          0.46296296296296297,
          0.4107142857142857,
          0.5735294117647058,
          0.3,
          0.4049586776859504,
          0.6845493562231759,
          0.6082474226804123,
          0.6593406593406593,
          0.40625,
          0.23076923076923078,
          0.45045045045045046,
          0.3137254901960784,
          0.5,
          0.47058823529411764,
          0.41975308641975306,
          0.4,
          0.4673913043478261,
          0.6245353159851301,
          0.5747663551401869,
          0.4,
          0.4583333333333333,
          0.1111111111111111,
          0.4,
          0.5098039215686274,
          0.21428571428571427,
          0.48677248677248675,
          0.4878048780487805,
          0.16666666666666666,
          0.626,
          0.38461538461538464,
          0.45864661654135336,
          0.2,
          0.4,
          0.8100558659217877,
          0.48175182481751827,
          0.7102272727272727,
          0.3076923076923077,
          0.3673469387755102,
          0.4878048780487805,
          0.41025641025641024,
          0.375,
          0.38596491228070173,
          0.22727272727272727,
          0.5355555555555556,
          0.5844155844155844,
          0.47474747474747475,
          0.3,
          0.45698924731182794,
          0.4418604651162791,
          0.2777777777777778,
          0.17647058823529413,
          0.3333333333333333,
          0.5576923076923077,
          0.38095238095238093,
          0.7096774193548387,
          0.25,
          0.2857142857142857,
          0.2631578947368421,
          0.20689655172413793,
          0.5705128205128205,
          0.5409836065573771,
          0.5,
          0.23529411764705882,
          0.7228637413394919,
          0.463768115942029,
          0.4,
          0.1875,
          0.4943820224719101,
          0.3559322033898305,
          0.37142857142857144,
          0.3939393939393939,
          0.5285714285714286,
          0.5098039215686274,
          0.5,
          0.3858695652173913,
          0.3333333333333333,
          0.49107142857142855,
          0.5345911949685535,
          0.375,
          0.5625,
          0.36036036036036034,
          0.5515695067264574,
          0.45454545454545453,
          0.6750629722921915,
          0.5,
          0.46710526315789475,
          0.7315789473684211,
          0.2727272727272727,
          0.5062111801242236,
          0.2926829268292683,
          0.6119402985074627,
          0.56640625,
          0.34615384615384615,
          0.45528455284552843,
          0.4318181818181818,
          0.3076923076923077,
          0.5,
          0.2222222222222222,
          0.40476190476190477,
          0.4222222222222222,
          0.5333333333333333,
          0.4473684210526316,
          0.3923076923076923,
          0.4027777777777778,
          0.21212121212121213,
          0.38,
          0.40860215053763443,
          0.3333333333333333,
          0.30985915492957744,
          0.07692307692307693,
          0.3170731707317073,
          0.4090909090909091,
          0.4303030303030303,
          0.5,
          0.2,
          0.7024482109227872,
          0.38095238095238093,
          0.3333333333333333,
          0.3793103448275862,
          0.18181818181818182,
          0.541095890410959,
          0.6666666666666666,
          0.3835616438356164,
          0.554140127388535,
          0.19047619047619047,
          0.41714285714285715,
          0.39375,
          0.36538461538461536,
          0.20689655172413793,
          0.35714285714285715,
          0.546583850931677,
          0.558252427184466,
          0.5778894472361809,
          0.17647058823529413,
          0.6388888888888888,
          0.43243243243243246,
          0.6016949152542372,
          0.5684210526315789,
          0.5625,
          0.6033519553072626,
          0.39622641509433965,
          0.4215686274509804,
          0.37373737373737376,
          0.5,
          0.5436241610738255,
          0.4027777777777778,
          0.4129353233830846,
          0.358974358974359,
          0.6666666666666666,
          0.23255813953488372,
          0.35294117647058826,
          0.23529411764705882,
          0.5727699530516432,
          0.041666666666666664,
          0.4411764705882353,
          0.46835443037974683,
          0.58994708994709,
          0.3090909090909091,
          0.6497975708502024,
          0.42857142857142855,
          0.578125,
          0.4742268041237113,
          0.6111111111111112,
          0.5670731707317073,
          0.5058823529411764,
          0.46788990825688076,
          0.14285714285714285,
          0.2,
          0.34285714285714286,
          0.43902439024390244,
          0.34177215189873417,
          0.25,
          0.5993377483443708,
          0.5359281437125748,
          0.31343283582089554,
          0.3333333333333333,
          0.3076923076923077,
          0.38461538461538464,
          0.44554455445544555,
          0.39215686274509803,
          0.41304347826086957,
          0.3333333333333333,
          0.5543478260869565,
          0.44666666666666666,
          0.1875,
          0.3684210526315789,
          0.5,
          0.4166666666666667,
          0.14814814814814814,
          0.38636363636363635,
          0.3584905660377358,
          0.4946236559139785,
          0.49101796407185627,
          0.5833333333333334,
          0.45454545454545453,
          0.3333333333333333,
          0.7153846153846154,
          0.42990654205607476,
          0.4875,
          0.39705882352941174,
          0.4838709677419355,
          0.5,
          0.38235294117647056,
          0.391304347826087,
          0.4423076923076923,
          0.5097276264591439,
          0.3125,
          0.5606060606060606,
          0.25,
          0.47619047619047616,
          0.4125,
          0.7044673539518901,
          0.45121951219512196,
          0.24,
          0.4538152610441767,
          0.3902439024390244,
          0.3741496598639456,
          0.6630434782608695,
          0.45555555555555555,
          0.25,
          0.45454545454545453,
          0.5,
          0.2807017543859649,
          0.43820224719101125,
          0.4866666666666667,
          0.8,
          0.6097560975609756,
          0.5416666666666666,
          0.3333333333333333,
          0.4482758620689655,
          0.375,
          0.46835443037974683,
          0.45555555555555555,
          0.3582089552238806,
          0.30952380952380953,
          0.47478991596638653,
          0.5436105476673428,
          0.4358974358974359,
          0.5102040816326531,
          0.6827956989247311,
          0.7403846153846154,
          0.5192307692307693,
          0.5,
          0.40932642487046633,
          0.3333333333333333,
          0.25,
          0.2222222222222222,
          0.38613861386138615,
          0.5,
          0.4375,
          0.4166666666666667,
          0.6589595375722543,
          0.474025974025974,
          0.5098039215686274,
          0.421875,
          0.625,
          0.42424242424242425,
          0.4744186046511628,
          0.23809523809523808,
          0.6111111111111112,
          0.2972972972972973,
          0.6037234042553191,
          0.4890829694323144,
          0.40789473684210525,
          0.4540229885057471,
          0.4017857142857143,
          0.42105263157894735,
          0.5526315789473685,
          0.5862068965517241,
          0.4672131147540984,
          0.39436619718309857,
          0.2,
          0.8429752066115702,
          0.40540540540540543,
          0.4838709677419355,
          0.45394736842105265,
          0.17647058823529413,
          0.21052631578947367,
          0.47619047619047616,
          0.38095238095238093,
          0.5263157894736842,
          0.75,
          0.5341614906832298,
          0.21052631578947367,
          0.13513513513513514,
          0.4368932038834951,
          0.375,
          0.28125,
          0.5608465608465608,
          0.40540540540540543,
          0.5,
          0.3,
          0.3333333333333333,
          0.35714285714285715,
          0.5106382978723404,
          0.36,
          0.6049382716049383,
          0.5135135135135135,
          0.5793650793650794,
          0.44,
          0.5081967213114754,
          0.4745762711864407,
          0.2777777777777778,
          0.42857142857142855,
          0.6666666666666666,
          0.5,
          0.44680851063829785,
          0.664576802507837,
          0.46218487394957986,
          0.47580645161290325,
          0.38095238095238093,
          0.5217391304347826,
          0.4189189189189189,
          0.5302325581395348,
          0.4618181818181818,
          0.36363636363636365,
          0.47297297297297297,
          0.4186046511627907,
          0.8014981273408239,
          0.2857142857142857,
          0.3333333333333333,
          0.17777777777777778,
          0.35135135135135137,
          0.5294117647058824,
          0.5497076023391813,
          0.4631578947368421,
          0.16666666666666666,
          0.6666666666666666,
          0.3389830508474576,
          0.525974025974026,
          0.5128205128205128,
          0.3333333333333333,
          0.423728813559322,
          0.6305970149253731,
          0.5153374233128835,
          0.5331807780320366,
          0.46017699115044247,
          0.48148148148148145,
          0.4351145038167939,
          0.3111111111111111,
          0.5555555555555556,
          0.5,
          0.41228070175438597,
          0.3953488372093023,
          0.7765451664025357,
          0.5253333333333333,
          0.3238095238095238,
          0.5,
          0.5704918032786885,
          0.42857142857142855,
          0.6604477611940298,
          0.3333333333333333,
          0.2413793103448276,
          0.4742268041237113,
          0.5308641975308642,
          0.14285714285714285,
          0.25,
          0.5584415584415584,
          0.44715447154471544,
          0.5222222222222223,
          0.38095238095238093,
          0.39285714285714285,
          0.1,
          0.47685185185185186,
          0.6172607879924953,
          0.6666666666666666,
          0.47368421052631576,
          0.4146341463414634,
          0.2903225806451613,
          0.7763157894736842,
          0.42857142857142855,
          0.5512820512820513,
          0.3,
          0.42424242424242425,
          0.38823529411764707,
          0.5143884892086331,
          0.3493975903614458,
          0.32142857142857145,
          0.6016260162601627,
          0.4,
          0.39655172413793105,
          0.46153846153846156,
          0.5094339622641509,
          0.46153846153846156,
          0.5106382978723404,
          0.6352201257861635,
          0.375,
          0.25,
          0.3333333333333333,
          0.44150943396226416,
          0.6446886446886447,
          0.2857142857142857,
          0.42105263157894735,
          0.8296703296703297,
          0.5277777777777778,
          0.38461538461538464,
          0.2857142857142857,
          0.8326271186440678,
          0.4266666666666667,
          0.5669291338582677,
          0.6,
          0.25806451612903225,
          0.4074074074074074,
          0.23529411764705882,
          0.29411764705882354,
          0.37398373983739835,
          0.3,
          0.6750788643533123,
          0.5,
          0.21818181818181817,
          0.5816326530612245,
          0.3333333333333333,
          0.4444444444444444,
          0.4623115577889447,
          0.3582089552238806,
          0.3333333333333333,
          0.5619469026548672,
          0.5225806451612903,
          0.4264705882352941,
          0.6460674157303371,
          0.3860759493670886,
          0.39766081871345027,
          0.3333333333333333,
          0.32894736842105265,
          0.4,
          0.25,
          0.5466101694915254,
          0.47794117647058826,
          0.3448275862068966,
          0.21428571428571427,
          0.47058823529411764,
          0.5635179153094463,
          0.4407894736842105,
          0.47058823529411764,
          0.5,
          0.5536723163841808,
          0.46808510638297873,
          0.1111111111111111,
          0.4649122807017544,
          0.47692307692307695,
          0.42727272727272725,
          0.5987261146496815,
          0.4845360824742268,
          0.37735849056603776,
          0.4409448818897638,
          0.36231884057971014,
          0.16666666666666666,
          0.527972027972028,
          0.42696629213483145,
          0.5126050420168067,
          0.4818181818181818,
          0.6666666666666666,
          0.7064220183486238,
          0.6376811594202898,
          0.3684210526315789,
          0.7865853658536586,
          0.44545454545454544,
          0.41818181818181815,
          0.25,
          0.4608695652173913,
          0.624113475177305,
          0.22727272727272727,
          0.3559322033898305,
          0.359375,
          0.3670886075949367,
          0.36538461538461536,
          0.46099290780141844,
          0.5060240963855421,
          0.4107142857142857,
          0.4117647058823529,
          0.4888888888888889,
          0.4157303370786517,
          0.3404255319148936,
          0.47058823529411764,
          0.15384615384615385,
          0.3018867924528302,
          0.36363636363636365,
          0.47761194029850745,
          0.3877551020408163,
          0.3283582089552239,
          0.5280373831775701,
          0.5,
          0.375,
          0.30303030303030304,
          0.43333333333333335,
          0.2631578947368421,
          0.5220588235294118,
          0.4838709677419355,
          0.34615384615384615,
          0.36363636363636365,
          0.41509433962264153,
          0.21052631578947367,
          0.1935483870967742,
          0.4,
          0.75,
          0.359375,
          0.42045454545454547,
          0.6397379912663755,
          0.2708333333333333,
          0.36153846153846153,
          0.5623268698060941,
          0.6371308016877637,
          0.40350877192982454,
          0.5,
          0.5681818181818182,
          0.6517647058823529,
          0.6064814814814815,
          0.3469387755102041,
          0.5315985130111525,
          0.5,
          0.3673469387755102,
          0.1,
          0.6462395543175488,
          0.3235294117647059,
          0.5126582278481012,
          0.5302491103202847,
          0.4318181818181818,
          0.40540540540540543,
          0.596244131455399,
          0.5,
          0.410958904109589,
          0.3611111111111111,
          0.6813725490196079,
          0.6482982171799028,
          0.3875,
          0.25925925925925924,
          0.6075268817204301,
          0.3225806451612903,
          0.6316758747697975,
          0.5533980582524272,
          0.5,
          0.4358974358974359,
          0.35294117647058826,
          0.6,
          0.21621621621621623,
          0.4375,
          0.6428571428571429,
          0.49606299212598426,
          0.3611111111111111,
          0.08695652173913043,
          0.2857142857142857,
          0.49019607843137253,
          0.4666666666666667,
          0.48148148148148145,
          0.47297297297297297,
          0.49295774647887325,
          0.47619047619047616,
          0.5428571428571428,
          0.25,
          0.43661971830985913,
          0.3419354838709677,
          0.5526315789473685,
          0.5343137254901961,
          0.5300546448087432,
          0.4925373134328358,
          0.48739495798319327,
          0.38461538461538464,
          0.7323232323232324,
          0.3333333333333333,
          0.45977011494252873,
          0.34615384615384615,
          0.5361216730038023,
          0.3333333333333333,
          0.43902439024390244,
          0.4491525423728814,
          0.6332622601279317,
          0.25,
          0.14285714285714285,
          0.36363636363636365,
          0.09523809523809523,
          0.2727272727272727,
          0.625,
          0.6408839779005525,
          0.3333333333333333,
          0.18181818181818182,
          0.4940119760479042,
          0.7192982456140351,
          0.4217687074829932,
          0.6770833333333334,
          0.5026737967914439,
          0.391304347826087,
          0.2916666666666667,
          0.2608695652173913,
          0.4939759036144578,
          0.3
         ]
        }
       ],
       "layout": {
        "coloraxis": {
         "colorbar": {
          "title": {
           "text": "label"
          }
         },
         "colorscale": [
          [
           0,
           "#0d0887"
          ],
          [
           0.1111111111111111,
           "#46039f"
          ],
          [
           0.2222222222222222,
           "#7201a8"
          ],
          [
           0.3333333333333333,
           "#9c179e"
          ],
          [
           0.4444444444444444,
           "#bd3786"
          ],
          [
           0.5555555555555556,
           "#d8576b"
          ],
          [
           0.6666666666666666,
           "#ed7953"
          ],
          [
           0.7777777777777778,
           "#fb9f3a"
          ],
          [
           0.8888888888888888,
           "#fdca26"
          ],
          [
           1,
           "#f0f921"
          ]
         ]
        },
        "legend": {
         "tracegroupgap": 0
        },
        "margin": {
         "t": 60
        },
        "scene": {
         "domain": {
          "x": [
           0,
           1
          ],
          "y": [
           0,
           1
          ]
         },
         "xaxis": {
          "title": {
           "text": "Clay_record"
          }
         },
         "yaxis": {
          "title": {
           "text": "Grass_record"
          }
         },
         "zaxis": {
          "title": {
           "text": "Hard_record"
          }
         }
        },
        "template": {
         "data": {
          "bar": [
           {
            "error_x": {
             "color": "#2a3f5f"
            },
            "error_y": {
             "color": "#2a3f5f"
            },
            "marker": {
             "line": {
              "color": "#E5ECF6",
              "width": 0.5
             }
            },
            "type": "bar"
           }
          ],
          "barpolar": [
           {
            "marker": {
             "line": {
              "color": "#E5ECF6",
              "width": 0.5
             }
            },
            "type": "barpolar"
           }
          ],
          "carpet": [
           {
            "aaxis": {
             "endlinecolor": "#2a3f5f",
             "gridcolor": "white",
             "linecolor": "white",
             "minorgridcolor": "white",
             "startlinecolor": "#2a3f5f"
            },
            "baxis": {
             "endlinecolor": "#2a3f5f",
             "gridcolor": "white",
             "linecolor": "white",
             "minorgridcolor": "white",
             "startlinecolor": "#2a3f5f"
            },
            "type": "carpet"
           }
          ],
          "choropleth": [
           {
            "colorbar": {
             "outlinewidth": 0,
             "ticks": ""
            },
            "type": "choropleth"
           }
          ],
          "contour": [
           {
            "colorbar": {
             "outlinewidth": 0,
             "ticks": ""
            },
            "colorscale": [
             [
              0,
              "#0d0887"
             ],
             [
              0.1111111111111111,
              "#46039f"
             ],
             [
              0.2222222222222222,
              "#7201a8"
             ],
             [
              0.3333333333333333,
              "#9c179e"
             ],
             [
              0.4444444444444444,
              "#bd3786"
             ],
             [
              0.5555555555555556,
              "#d8576b"
             ],
             [
              0.6666666666666666,
              "#ed7953"
             ],
             [
              0.7777777777777778,
              "#fb9f3a"
             ],
             [
              0.8888888888888888,
              "#fdca26"
             ],
             [
              1,
              "#f0f921"
             ]
            ],
            "type": "contour"
           }
          ],
          "contourcarpet": [
           {
            "colorbar": {
             "outlinewidth": 0,
             "ticks": ""
            },
            "type": "contourcarpet"
           }
          ],
          "heatmap": [
           {
            "colorbar": {
             "outlinewidth": 0,
             "ticks": ""
            },
            "colorscale": [
             [
              0,
              "#0d0887"
             ],
             [
              0.1111111111111111,
              "#46039f"
             ],
             [
              0.2222222222222222,
              "#7201a8"
             ],
             [
              0.3333333333333333,
              "#9c179e"
             ],
             [
              0.4444444444444444,
              "#bd3786"
             ],
             [
              0.5555555555555556,
              "#d8576b"
             ],
             [
              0.6666666666666666,
              "#ed7953"
             ],
             [
              0.7777777777777778,
              "#fb9f3a"
             ],
             [
              0.8888888888888888,
              "#fdca26"
             ],
             [
              1,
              "#f0f921"
             ]
            ],
            "type": "heatmap"
           }
          ],
          "heatmapgl": [
           {
            "colorbar": {
             "outlinewidth": 0,
             "ticks": ""
            },
            "colorscale": [
             [
              0,
              "#0d0887"
             ],
             [
              0.1111111111111111,
              "#46039f"
             ],
             [
              0.2222222222222222,
              "#7201a8"
             ],
             [
              0.3333333333333333,
              "#9c179e"
             ],
             [
              0.4444444444444444,
              "#bd3786"
             ],
             [
              0.5555555555555556,
              "#d8576b"
             ],
             [
              0.6666666666666666,
              "#ed7953"
             ],
             [
              0.7777777777777778,
              "#fb9f3a"
             ],
             [
              0.8888888888888888,
              "#fdca26"
             ],
             [
              1,
              "#f0f921"
             ]
            ],
            "type": "heatmapgl"
           }
          ],
          "histogram": [
           {
            "marker": {
             "colorbar": {
              "outlinewidth": 0,
              "ticks": ""
             }
            },
            "type": "histogram"
           }
          ],
          "histogram2d": [
           {
            "colorbar": {
             "outlinewidth": 0,
             "ticks": ""
            },
            "colorscale": [
             [
              0,
              "#0d0887"
             ],
             [
              0.1111111111111111,
              "#46039f"
             ],
             [
              0.2222222222222222,
              "#7201a8"
             ],
             [
              0.3333333333333333,
              "#9c179e"
             ],
             [
              0.4444444444444444,
              "#bd3786"
             ],
             [
              0.5555555555555556,
              "#d8576b"
             ],
             [
              0.6666666666666666,
              "#ed7953"
             ],
             [
              0.7777777777777778,
              "#fb9f3a"
             ],
             [
              0.8888888888888888,
              "#fdca26"
             ],
             [
              1,
              "#f0f921"
             ]
            ],
            "type": "histogram2d"
           }
          ],
          "histogram2dcontour": [
           {
            "colorbar": {
             "outlinewidth": 0,
             "ticks": ""
            },
            "colorscale": [
             [
              0,
              "#0d0887"
             ],
             [
              0.1111111111111111,
              "#46039f"
             ],
             [
              0.2222222222222222,
              "#7201a8"
             ],
             [
              0.3333333333333333,
              "#9c179e"
             ],
             [
              0.4444444444444444,
              "#bd3786"
             ],
             [
              0.5555555555555556,
              "#d8576b"
             ],
             [
              0.6666666666666666,
              "#ed7953"
             ],
             [
              0.7777777777777778,
              "#fb9f3a"
             ],
             [
              0.8888888888888888,
              "#fdca26"
             ],
             [
              1,
              "#f0f921"
             ]
            ],
            "type": "histogram2dcontour"
           }
          ],
          "mesh3d": [
           {
            "colorbar": {
             "outlinewidth": 0,
             "ticks": ""
            },
            "type": "mesh3d"
           }
          ],
          "parcoords": [
           {
            "line": {
             "colorbar": {
              "outlinewidth": 0,
              "ticks": ""
             }
            },
            "type": "parcoords"
           }
          ],
          "pie": [
           {
            "automargin": true,
            "type": "pie"
           }
          ],
          "scatter": [
           {
            "marker": {
             "colorbar": {
              "outlinewidth": 0,
              "ticks": ""
             }
            },
            "type": "scatter"
           }
          ],
          "scatter3d": [
           {
            "line": {
             "colorbar": {
              "outlinewidth": 0,
              "ticks": ""
             }
            },
            "marker": {
             "colorbar": {
              "outlinewidth": 0,
              "ticks": ""
             }
            },
            "type": "scatter3d"
           }
          ],
          "scattercarpet": [
           {
            "marker": {
             "colorbar": {
              "outlinewidth": 0,
              "ticks": ""
             }
            },
            "type": "scattercarpet"
           }
          ],
          "scattergeo": [
           {
            "marker": {
             "colorbar": {
              "outlinewidth": 0,
              "ticks": ""
             }
            },
            "type": "scattergeo"
           }
          ],
          "scattergl": [
           {
            "marker": {
             "colorbar": {
              "outlinewidth": 0,
              "ticks": ""
             }
            },
            "type": "scattergl"
           }
          ],
          "scattermapbox": [
           {
            "marker": {
             "colorbar": {
              "outlinewidth": 0,
              "ticks": ""
             }
            },
            "type": "scattermapbox"
           }
          ],
          "scatterpolar": [
           {
            "marker": {
             "colorbar": {
              "outlinewidth": 0,
              "ticks": ""
             }
            },
            "type": "scatterpolar"
           }
          ],
          "scatterpolargl": [
           {
            "marker": {
             "colorbar": {
              "outlinewidth": 0,
              "ticks": ""
             }
            },
            "type": "scatterpolargl"
           }
          ],
          "scatterternary": [
           {
            "marker": {
             "colorbar": {
              "outlinewidth": 0,
              "ticks": ""
             }
            },
            "type": "scatterternary"
           }
          ],
          "surface": [
           {
            "colorbar": {
             "outlinewidth": 0,
             "ticks": ""
            },
            "colorscale": [
             [
              0,
              "#0d0887"
             ],
             [
              0.1111111111111111,
              "#46039f"
             ],
             [
              0.2222222222222222,
              "#7201a8"
             ],
             [
              0.3333333333333333,
              "#9c179e"
             ],
             [
              0.4444444444444444,
              "#bd3786"
             ],
             [
              0.5555555555555556,
              "#d8576b"
             ],
             [
              0.6666666666666666,
              "#ed7953"
             ],
             [
              0.7777777777777778,
              "#fb9f3a"
             ],
             [
              0.8888888888888888,
              "#fdca26"
             ],
             [
              1,
              "#f0f921"
             ]
            ],
            "type": "surface"
           }
          ],
          "table": [
           {
            "cells": {
             "fill": {
              "color": "#EBF0F8"
             },
             "line": {
              "color": "white"
             }
            },
            "header": {
             "fill": {
              "color": "#C8D4E3"
             },
             "line": {
              "color": "white"
             }
            },
            "type": "table"
           }
          ]
         },
         "layout": {
          "annotationdefaults": {
           "arrowcolor": "#2a3f5f",
           "arrowhead": 0,
           "arrowwidth": 1
          },
          "coloraxis": {
           "colorbar": {
            "outlinewidth": 0,
            "ticks": ""
           }
          },
          "colorscale": {
           "diverging": [
            [
             0,
             "#8e0152"
            ],
            [
             0.1,
             "#c51b7d"
            ],
            [
             0.2,
             "#de77ae"
            ],
            [
             0.3,
             "#f1b6da"
            ],
            [
             0.4,
             "#fde0ef"
            ],
            [
             0.5,
             "#f7f7f7"
            ],
            [
             0.6,
             "#e6f5d0"
            ],
            [
             0.7,
             "#b8e186"
            ],
            [
             0.8,
             "#7fbc41"
            ],
            [
             0.9,
             "#4d9221"
            ],
            [
             1,
             "#276419"
            ]
           ],
           "sequential": [
            [
             0,
             "#0d0887"
            ],
            [
             0.1111111111111111,
             "#46039f"
            ],
            [
             0.2222222222222222,
             "#7201a8"
            ],
            [
             0.3333333333333333,
             "#9c179e"
            ],
            [
             0.4444444444444444,
             "#bd3786"
            ],
            [
             0.5555555555555556,
             "#d8576b"
            ],
            [
             0.6666666666666666,
             "#ed7953"
            ],
            [
             0.7777777777777778,
             "#fb9f3a"
            ],
            [
             0.8888888888888888,
             "#fdca26"
            ],
            [
             1,
             "#f0f921"
            ]
           ],
           "sequentialminus": [
            [
             0,
             "#0d0887"
            ],
            [
             0.1111111111111111,
             "#46039f"
            ],
            [
             0.2222222222222222,
             "#7201a8"
            ],
            [
             0.3333333333333333,
             "#9c179e"
            ],
            [
             0.4444444444444444,
             "#bd3786"
            ],
            [
             0.5555555555555556,
             "#d8576b"
            ],
            [
             0.6666666666666666,
             "#ed7953"
            ],
            [
             0.7777777777777778,
             "#fb9f3a"
            ],
            [
             0.8888888888888888,
             "#fdca26"
            ],
            [
             1,
             "#f0f921"
            ]
           ]
          },
          "colorway": [
           "#636efa",
           "#EF553B",
           "#00cc96",
           "#ab63fa",
           "#FFA15A",
           "#19d3f3",
           "#FF6692",
           "#B6E880",
           "#FF97FF",
           "#FECB52"
          ],
          "font": {
           "color": "#2a3f5f"
          },
          "geo": {
           "bgcolor": "white",
           "lakecolor": "white",
           "landcolor": "#E5ECF6",
           "showlakes": true,
           "showland": true,
           "subunitcolor": "white"
          },
          "hoverlabel": {
           "align": "left"
          },
          "hovermode": "closest",
          "mapbox": {
           "style": "light"
          },
          "paper_bgcolor": "white",
          "plot_bgcolor": "#E5ECF6",
          "polar": {
           "angularaxis": {
            "gridcolor": "white",
            "linecolor": "white",
            "ticks": ""
           },
           "bgcolor": "#E5ECF6",
           "radialaxis": {
            "gridcolor": "white",
            "linecolor": "white",
            "ticks": ""
           }
          },
          "scene": {
           "xaxis": {
            "backgroundcolor": "#E5ECF6",
            "gridcolor": "white",
            "gridwidth": 2,
            "linecolor": "white",
            "showbackground": true,
            "ticks": "",
            "zerolinecolor": "white"
           },
           "yaxis": {
            "backgroundcolor": "#E5ECF6",
            "gridcolor": "white",
            "gridwidth": 2,
            "linecolor": "white",
            "showbackground": true,
            "ticks": "",
            "zerolinecolor": "white"
           },
           "zaxis": {
            "backgroundcolor": "#E5ECF6",
            "gridcolor": "white",
            "gridwidth": 2,
            "linecolor": "white",
            "showbackground": true,
            "ticks": "",
            "zerolinecolor": "white"
           }
          },
          "shapedefaults": {
           "line": {
            "color": "#2a3f5f"
           }
          },
          "ternary": {
           "aaxis": {
            "gridcolor": "white",
            "linecolor": "white",
            "ticks": ""
           },
           "baxis": {
            "gridcolor": "white",
            "linecolor": "white",
            "ticks": ""
           },
           "bgcolor": "#E5ECF6",
           "caxis": {
            "gridcolor": "white",
            "linecolor": "white",
            "ticks": ""
           }
          },
          "title": {
           "x": 0.05
          },
          "xaxis": {
           "automargin": true,
           "gridcolor": "white",
           "linecolor": "white",
           "ticks": "",
           "title": {
            "standoff": 15
           },
           "zerolinecolor": "white",
           "zerolinewidth": 2
          },
          "yaxis": {
           "automargin": true,
           "gridcolor": "white",
           "linecolor": "white",
           "ticks": "",
           "title": {
            "standoff": 15
           },
           "zerolinecolor": "white",
           "zerolinewidth": 2
          }
         }
        }
       }
      },
      "text/html": [
       "<div>\n",
       "        \n",
       "        \n",
       "            <div id=\"ccc74337-e660-45aa-ade1-d80f04558784\" class=\"plotly-graph-div\" style=\"height:525px; width:100%;\"></div>\n",
       "            <script type=\"text/javascript\">\n",
       "                require([\"plotly\"], function(Plotly) {\n",
       "                    window.PLOTLYENV=window.PLOTLYENV || {};\n",
       "                    \n",
       "                if (document.getElementById(\"ccc74337-e660-45aa-ade1-d80f04558784\")) {\n",
       "                    Plotly.newPlot(\n",
       "                        'ccc74337-e660-45aa-ade1-d80f04558784',\n",
       "                        [{\"customdata\": [[0.583732057416268, 0.5714285714285714, 0.6513761467889908, 0.0, \"Aaron Krickstein\"], [0.25, 0.25, 0.4, 1.0, \"Abe Segal\"], [0.25, 0.5903614457831325, 0.46511627906976744, 2.0, \"Adrian Mannarino\"], [0.16666666666666666, 0.25, 0.2857142857142857, 2.0, \"Adrian Menendez Maceiras\"], [0.4666666666666667, 0.2631578947368421, 0.43636363636363634, 1.0, \"Adrian Voinea\"], [0.6928571428571428, 0.5416666666666666, 0.5180722891566265, 0.0, \"Adriano Panatta\"], [0.6, 0.2857142857142857, 0.4489795918367347, 1.0, \"Agustin Calleri\"], [0.5384615384615384, 0.59375, 0.5, 0.0, \"Aisam Ul Haq Qureshi\"], [0.4666666666666667, 0.4, 0.2727272727272727, 1.0, \"Aki Rahunen\"], [0.5, 0.5, 0.375, 2.0, \"Alan Fox\"], [0.6650485436893204, 0.2222222222222222, 0.49523809523809526, 1.0, \"Albert Costa\"], [0.5338345864661654, 0.3157894736842105, 0.3064516129032258, 1.0, \"Albert Montanes\"], [0.47388059701492535, 0.21428571428571427, 0.22448979591836735, 1.0, \"Albert Portas\"], [0.5401459854014599, 0.3333333333333333, 0.3764705882352941, 1.0, \"Albert Ramos\"], [0.5879396984924623, 0.3333333333333333, 0.4444444444444444, 1.0, \"Alberto Mancini\"], [0.5164473684210527, 0.32, 0.3464052287581699, 1.0, \"Alberto Martin\"], [0.42857142857142855, 0.3902439024390244, 0.39156626506024095, 1.0, \"Alejandro Falla\"], [0.2727272727272727, 0.5416666666666666, 0.5111111111111111, 2.0, \"Alejandro Olmedo\"], [0.2, 0.2, 0.17647058823529413, 1.0, \"Aleksandr Nedovyesov\"], [0.32608695652173914, 0.3333333333333333, 0.25, 1.0, \"Alessio Di Mauro\"], [0.3877551020408163, 0.5142857142857142, 0.45132743362831856, 2.0, \"Alex Antonitsch\"], [0.25, 0.2571428571428571, 0.125, 1.0, \"Alex Bogdanovic\"], [0.14285714285714285, 0.44, 0.41007194244604317, 2.0, \"Alex Bogomolov Jr\"], [0.40350877192982454, 0.14285714285714285, 0.4074074074074074, 1.0, \"Alex Calatrava\"], [0.6621315192743764, 0.36363636363636365, 0.5611814345991561, 0.0, \"Alex Corretja\"], [0.15384615384615385, 0.4, 0.6428571428571429, 2.0, \"Alex De Minaur\"], [0.3333333333333333, 0.25, 0.21428571428571427, 1.0, \"Alex Kuznetsov\"], [0.631578947368421, 0.7863247863247863, 0.7272727272727273, 0.0, \"Alex Metreveli\"], [0.3225806451612903, 0.41935483870967744, 0.42857142857142855, 2.0, \"Alex Obrien\"], [0.125, 0.5263157894736842, 0.44, 2.0, \"Alex Radulescu\"], [0.45454545454545453, 0.5, 0.4642857142857143, 0.0, \"Alexander Bublik\"], [0.2916666666666667, 0.36363636363636365, 0.358695652173913, 2.0, \"Alexander Mronz\"], [0.2916666666666667, 0.21052631578947367, 0.34782608695652173, 1.0, \"Alexander Peya\"], [0.19230769230769232, 0.631578947368421, 0.36585365853658536, 2.0, \"Alexander Popp\"], [0.4, 0.582089552238806, 0.5630630630630631, 0.0, \"Alexander Volkov\"], [0.3409090909090909, 0.26666666666666666, 0.23076923076923078, 1.0, \"Alexander Waske\"], [0.7, 0.631578947368421, 0.6531531531531531, 0.0, \"Alexander Zverev\"], [0.49206349206349204, 0.5348837209302325, 0.531496062992126, 0.0, \"Alexandr Dolgopolov\"], [0.3076923076923077, 0.2, 0.3333333333333333, 1.0, \"Alexandre Simoni\"], [0.2, 0.3333333333333333, 0.37142857142857144, 2.0, \"Alexei Popyrin\"], [0.25, 0.6666666666666666, 0.35294117647058826, 2.0, \"Alistair Hunt\"], [0.5, 0.39285714285714285, 0.4628099173553719, 1.0, \"Aljaz Bedene\"], [0.5, 0.5581395348837209, 0.4537037037037037, 0.0, \"Allan Stone\"], [0.5, 0.5, 0.5, 0.0, \"Altug Celikbilek\"], [0.25, 0.2, 0.42105263157894735, 1.0, \"Alvaro Fillol\"], [0.2682926829268293, 0.17142857142857143, 0.30303030303030304, 1.0, \"Alvin Gardiner\"], [0.2, 0.25, 0.4084507042253521, 2.0, \"Amer Delic\"], [0.2708333333333333, 0.5737704918032787, 0.6261127596439169, 2.0, \"Amos Mansdorf\"], [0.3595505617977528, 0.38636363636363635, 0.35802469135802467, 2.0, \"Anand Amritraj\"], [0.575, 0.5384615384615384, 0.5700483091787439, 0.0, \"Anders Jarryd\"], [0.7272727272727273, 0.7352941176470589, 0.7889182058047494, 0.0, \"Andre Agassi\"], [0.27906976744186046, 0.37037037037037035, 0.4126984126984127, 2.0, \"Andre Sa\"], [0.5585284280936454, 0.1, 0.375, 1.0, \"Andrea Gaudenzi\"], [0.36363636363636365, 0.5, 0.3684210526315789, 2.0, \"Andreas Beck\"], [0.3870967741935484, 0.2857142857142857, 0.3541666666666667, 1.0, \"Andreas Haider Maurer\"], [0.47619047619047616, 0.5, 0.37037037037037035, 2.0, \"Andreas Maurer\"], [0.4962121212121212, 0.5660377358490566, 0.4623115577889447, 0.0, \"Andreas Seppi\"], [0.43661971830985913, 0.2857142857142857, 0.48484848484848486, 1.0, \"Andreas Vinciguerra\"], [0.6415094339622641, 0.2727272727272727, 0.5682819383259912, 1.0, \"Andrei Chesnokov\"], [0.25, 0.5, 0.25, 2.0, \"Andrei Dirzu\"], [0.66796875, 0.47058823529411764, 0.5612903225806452, 0.0, \"Andrei Medvedev\"], [0.3076923076923077, 0.5, 0.32967032967032966, 2.0, \"Andrei Olhovskiy\"], [0.545, 0.4489795918367347, 0.4956896551724138, 0.0, \"Andrei Pavel\"], [0.375, 0.35294117647058826, 0.43478260869565216, 2.0, \"Andrei Stoliarov\"], [0.7142857142857143, 0.7142857142857143, 0.6103896103896104, 0.0, \"Andres Gimeno\"], [0.7021276595744681, 0.5555555555555556, 0.6439024390243903, 0.0, \"Andres Gomez\"], [0.25, 0.27586206896551724, 0.32432432432432434, 2.0, \"Andrew Castle\"], [0.5316455696202531, 0.3125, 0.3904761904761905, 1.0, \"Andrew Ilie\"], [0.3333333333333333, 0.16666666666666666, 0.4, 1.0, \"Andrew Jarrett\"], [0.5196850393700787, 0.5147058823529411, 0.5612244897959183, 0.0, \"Andrew Pattison\"], [0.36065573770491804, 0.09090909090909091, 0.3853211009174312, 1.0, \"Andrey Golubev\"], [0.44776119402985076, 0.35, 0.4666666666666667, 1.0, \"Andrey Kuznetsov\"], [0.5813953488372093, 0.5714285714285714, 0.6024096385542169, 0.0, \"Andrey Rublev\"], [0.36363636363636365, 0.35, 0.1875, 1.0, \"Andy Andrews\"], [0.1, 0.3333333333333333, 0.25925925925925924, 2.0, \"Andy Kohlberg\"], [0.6883116883116883, 0.8307692307692308, 0.7774030354131535, 0.0, \"Andy Murray\"], [0.6386554621848739, 0.7981651376146789, 0.75177304964539, 0.0, \"Andy Roddick\"], [0.4817073170731707, 0.16666666666666666, 0.35294117647058826, 1.0, \"Angel Gimenez\"], [0.3926940639269406, 0.2777777777777778, 0.19047619047619047, 1.0, \"Antonio Munoz\"], [0.4861878453038674, 0.23529411764705882, 0.2857142857142857, 1.0, \"Antonio Zugarelli\"], [0.3448275862068966, 0.4634146341463415, 0.40594059405940597, 2.0, \"Antony Dupuis\"], [0.38095238095238093, 0.5555555555555556, 0.37037037037037035, 2.0, \"Aqeel Khan\"], [0.3181818181818182, 0.42105263157894735, 0.1, 2.0, \"Armistead Neely\"], [0.47540983606557374, 0.5428571428571428, 0.5379746835443038, 0.0, \"Arnaud Boetsch\"], [0.4083333333333333, 0.5376344086021505, 0.5071225071225072, 0.0, \"Arnaud Clement\"], [0.47474747474747475, 0.25, 0.32727272727272727, 1.0, \"Arnaud Di Pasquale\"], [0.16666666666666666, 0.5217391304347826, 0.25, 2.0, \"Arne Thoms\"], [0.5, 0.5, 0.5714285714285714, 0.0, \"Artem Sitak\"], [0.7079646017699115, 0.7638888888888888, 0.7617021276595745, 0.0, \"Arthur Ashe\"], [0.6945054945054945, 0.5185185185185185, 0.52, 0.0, \"Balazs Taroczy\"], [0.3333333333333333, 0.25, 0.38461538461538464, 1.0, \"Barry Mackay\"], [0.4583333333333333, 0.38461538461538464, 0.36363636363636365, 1.0, \"Barry Moir\"], [0.5338983050847458, 0.44776119402985076, 0.34375, 1.0, \"Barry Phillips Moore\"], [0.40804597701149425, 0.2727272727272727, 0.25, 1.0, \"Belus Prajoux\"], [0.3684210526315789, 0.5, 0.4166666666666667, 2.0, \"Ben Testerman\"], [0.24444444444444444, 0.5454545454545454, 0.4061302681992337, 2.0, \"Benjamin Becker\"], [0.5161290322580645, 0.5, 0.4618320610687023, 0.0, \"Benoit Paire\"], [0.4745762711864407, 0.25, 0.43478260869565216, 1.0, \"Bernard Boileau\"], [0.3958333333333333, 0.5, 0.39285714285714285, 2.0, \"Bernard Fritz\"], [0.4166666666666667, 0.42857142857142855, 0.625, 0.0, \"Bernard Mignot\"], [0.3902439024390244, 0.5142857142857142, 0.5095541401273885, 2.0, \"Bernard Mitton\"], [0.3230769230769231, 0.5428571428571428, 0.5384615384615384, 2.0, \"Bernard Tomic\"], [0.5310344827586206, 0.23529411764705882, 0.4444444444444444, 1.0, \"Bernd Karbacher\"], [0.32142857142857145, 0.5, 0.3333333333333333, 2.0, \"Bernhard Pils\"], [0.4716981132075472, 0.5945945945945946, 0.39285714285714285, 0.0, \"Bill Bowrey\"], [0.3333333333333333, 0.4, 0.25, 2.0, \"Bill Freer\"], [0.21739130434782608, 0.35, 0.2, 2.0, \"Bill Lloyd\"], [0.1, 0.18181818181818182, 0.3333333333333333, 2.0, \"Bill Lofgren\"], [0.14285714285714285, 0.3333333333333333, 0.3333333333333333, 2.0, \"Bill Maze\"], [0.41975308641975306, 0.59, 0.5572916666666666, 0.0, \"Bill Scanlon\"], [0.44565217391304346, 0.46511627906976744, 0.4430379746835443, 2.0, \"Billy Martin\"], [0.8333333333333334, 0.5, 0.5, 0.0, \"Bing Pan\"], [0.3684210526315789, 0.5, 0.26666666666666666, 2.0, \"Birger Andersson\"], [0.8532110091743119, 0.8470588235294118, 0.7533333333333333, 0.0, \"Bjorn Borg\"], [0.35714285714285715, 0.5, 0.3333333333333333, 2.0, \"Bjorn Fratangelo\"], [0.3728813559322034, 0.07142857142857142, 0.4, 1.0, \"Bjorn Phau\"], [0.43333333333333335, 0.1875, 0.36363636363636365, 1.0, \"Blaz Kavcic\"], [0.47058823529411764, 0.2, 0.3333333333333333, 1.0, \"Blaz Rola\"], [0.375, 0.5714285714285714, 0.2631578947368421, 2.0, \"Bob Bryan\"], [0.47058823529411764, 0.4842105263157895, 0.49264705882352944, 0.0, \"Bob Carmichael\"], [0.32, 0.5416666666666666, 0.3125, 2.0, \"Bob Giltinan\"], [0.6223776223776224, 0.6376811594202898, 0.5684210526315789, 0.0, \"Bob Hewitt\"], [0.3333333333333333, 0.29411764705882354, 0.26666666666666666, 1.0, \"Bobby Reynolds\"], [0.5155555555555555, 0.2631578947368421, 0.4817073170731707, 1.0, \"Bohdan Ulihrach\"], [0.8888888888888888, 0.3333333333333333, 0.45, 0.0, \"Bong Soo Kim\"], [0.6594594594594595, 0.8226950354609929, 0.7586206896551724, 0.0, \"Boris Becker\"], [0.5684210526315789, 0.5238095238095238, 0.5163043478260869, 0.0, \"Borna Coric\"], [0.4032258064516129, 0.5448717948717948, 0.35555555555555557, 2.0, \"Brad Drewett\"], [0.5, 0.5535714285714286, 0.6856540084388185, 0.0, \"Brad Gilbert\"], [0.375, 0.4666666666666667, 0.32926829268292684, 2.0, \"Brad Pearce\"], [0.16666666666666666, 0.5, 0.5, 2.0, \"Brent Larkham\"], [0.42857142857142855, 0.5932203389830508, 0.5, 0.0, \"Brett Steven\"], [0.5555555555555556, 0.5, 0.24390243902439024, 1.0, \"Brian Baker\"], [0.35, 0.42857142857142855, 0.3333333333333333, 2.0, \"Brian Dabul\"], [0.48951048951048953, 0.5531914893617021, 0.52, 0.0, \"Brian Fairlie\"], [0.6311787072243346, 0.6666666666666666, 0.7146892655367232, 0.0, \"Brian Gottfried\"], [0.5204081632653061, 0.6466165413533834, 0.5927835051546392, 0.0, \"Brian Teacher\"], [0.16666666666666666, 0.3, 0.3541666666666667, 2.0, \"Brian Vahaly\"], [0.23809523809523808, 0.3877551020408163, 0.39325842696629215, 2.0, \"Broderick Dyke\"], [0.30303030303030304, 0.3076923076923077, 0.45, 2.0, \"Bruce Derlin\"], [0.3333333333333333, 0.2222222222222222, 0.17647058823529413, 1.0, \"Bruce Kleege\"], [0.4375, 0.3333333333333333, 0.45614035087719296, 1.0, \"Bruce Manson\"], [0.4857142857142857, 0.5333333333333333, 0.36936936936936937, 2.0, \"Bryan Shelton\"], [0.16666666666666666, 0.5652173913043478, 0.5, 2.0, \"Bud Schultz\"], [0.6561264822134387, 0.5681818181818182, 0.6216216216216216, 0.0, \"Buster C Mottram\"], [0.391304347826087, 0.45714285714285713, 0.3157894736842105, 2.0, \"Butch Seewagen\"], [0.4, 0.45, 0.5277777777777778, 2.0, \"Butch Walts\"], [0.3709677419354839, 0.4864864864864865, 0.4155844155844156, 2.0, \"Byron Bertram\"], [0.38636363636363635, 0.6111111111111112, 0.528125, 0.0, \"Byron Black\"], [0.43478260869565216, 0.35714285714285715, 0.4794520547945205, 1.0, \"Cameron Norrie\"], [0.3333333333333333, 0.07142857142857142, 0.375, 1.0, \"Carl Limberger\"], [0.47513812154696133, 0.2222222222222222, 0.5241935483870968, 1.0, \"Carl Uwe Steeb\"], [0.463302752293578, 0.25, 0.32558139534883723, 1.0, \"Carlos Berlocq\"], [0.599388379204893, 0.375, 0.4536082474226804, 1.0, \"Carlos Costa\"], [0.4803921568627451, 0.42857142857142855, 0.4666666666666667, 1.0, \"Carlos Kirmayr\"], [0.7033195020746889, 0.4642857142857143, 0.5955056179775281, 0.0, \"Carlos Moya\"], [0.3855421686746988, 0.4, 0.4117647058823529, 2.0, \"Cassio Motta\"], [0.30434782608695654, 0.23529411764705882, 0.3770491803278688, 1.0, \"Cecil Mamiit\"], [0.5363636363636364, 0.5974025974025974, 0.5551470588235294, 0.0, \"Cedric Pioline\"], [0.5294117647058824, 0.25, 0.30303030303030304, 1.0, \"Cedrik Marcel Stebe\"], [0.3793103448275862, 0.4375, 0.5128205128205128, 2.0, \"Charles Owens\"], [0.5, 0.36585365853658536, 0.2727272727272727, 1.0, \"Charlie Fancutt\"], [0.47619047619047616, 0.6179775280898876, 0.45714285714285713, 0.0, \"Charlie Pasarell\"], [0.4375, 0.40625, 0.4563106796116505, 2.0, \"Chip Hooper\"], [0.3333333333333333, 0.55, 0.36363636363636365, 2.0, \"Chris Delaney\"], [0.25, 0.18181818181818182, 0.38095238095238093, 1.0, \"Chris Dunk\"], [0.14285714285714285, 0.4, 0.4605263157894737, 2.0, \"Chris Guccione\"], [0.2608695652173913, 0.42857142857142855, 0.25, 2.0, \"Chris Johnstone\"], [0.18518518518518517, 0.33962264150943394, 0.25, 2.0, \"Chris Kachel\"], [0.5643564356435643, 0.5420560747663551, 0.5217391304347826, 0.0, \"Chris Lewis\"], [0.3611111111111111, 0.125, 0.4594594594594595, 1.0, \"Chris Mayotte\"], [0.2, 0.35294117647058826, 0.41379310344827586, 2.0, \"Chris Pridham\"], [0.4, 0.4444444444444444, 0.2, 2.0, \"Chris Wilkinson\"], [0.4634146341463415, 0.5, 0.5074626865671642, 0.0, \"Chris Woodruff\"], [0.45544554455445546, 0.5185185185185185, 0.5354330708661418, 0.0, \"Christian Bergstrom\"], [0.671875, 0.2857142857142857, 0.375, 1.0, \"Christian Garin\"], [0.6590909090909091, 0.5, 0.3333333333333333, 0.0, \"Christian Kuhnke\"], [0.3448275862068966, 0.5476190476190477, 0.28378378378378377, 2.0, \"Christian Saceanu\"], [0.21052631578947367, 0.38461538461538464, 0.27586206896551724, 2.0, \"Christian Vinck\"], [0.36363636363636365, 0.5714285714285714, 0.425531914893617, 2.0, \"Christo Steyn\"], [0.09090909090909091, 0.6111111111111112, 0.49710982658959535, 2.0, \"Christo Van Rensburg\"], [0.41566265060240964, 0.12, 0.3228346456692913, 1.0, \"Christophe Rochus\"], [0.44537815126050423, 0.2, 0.453125, 1.0, \"Christophe Roger Vasselin\"], [0.6666666666666666, 0.5, 0.46153846153846156, 0.0, \"Christophe Van Garsse\"], [0.08333333333333333, 0.3, 0.5074626865671642, 2.0, \"Chuck Adams\"], [0.6710526315789473, 0.7325581395348837, 0.6793893129770993, 0.0, \"Clark Graebner\"], [0.489247311827957, 0.25, 0.3953488372093023, 1.0, \"Claudio Mezzadri\"], [0.4444444444444444, 0.3333333333333333, 0.3888888888888889, 1.0, \"Claudio Panatta\"], [0.45962732919254656, 0.2, 0.10526315789473684, 1.0, \"Claudio Pistolesi\"], [0.6818181818181818, 0.6493506493506493, 0.6449704142011834, 0.0, \"Cliff Drysdale\"], [0.2727272727272727, 0.43037974683544306, 0.2857142857142857, 2.0, \"Cliff Letcher\"], [0.7010869565217391, 0.6557377049180327, 0.7029702970297029, 0.0, \"Cliff Richey\"], [0.48026315789473684, 0.5802469135802469, 0.48044692737430167, 0.0, \"Colin Dibley\"], [0.39215686274509803, 0.3333333333333333, 0.4810126582278481, 1.0, \"Colin Dowdeswell\"], [0.3333333333333333, 0.3125, 0.2, 1.0, \"Colin Stubs\"], [0.3333333333333333, 0.2, 0.5, 1.0, \"Conor Niland\"], [0.34615384615384615, 0.5, 0.4090909090909091, 2.0, \"Corentin Moutet\"], [0.6175, 0.1111111111111111, 0.5942028985507246, 1.0, \"Corrado Barazzutti\"], [0.3076923076923077, 0.34210526315789475, 0.26666666666666666, 2.0, \"Craig A Miller\"], [0.2777777777777778, 0.4444444444444444, 0.21428571428571427, 2.0, \"Craig Wittus\"], [0.3333333333333333, 0.21428571428571427, 0.40707964601769914, 1.0, \"Cristiano Caratti\"], [0.125, 0.4166666666666667, 0.40336134453781514, 2.0, \"Cyril Saulnier\"], [0.15384615384615385, 0.23529411764705882, 0.2, 2.0, \"D Richard Russell\"], [0.25, 0.37777777777777777, 0.4444444444444444, 2.0, \"Dale Collings\"], [0.45901639344262296, 0.5555555555555556, 0.4785276073619632, 0.0, \"Damir Dzumhur\"], [0.4620253164556962, 0.3888888888888889, 0.3125, 1.0, \"Damir Keretic\"], [0.23529411764705882, 0.4117647058823529, 0.359375, 2.0, \"Dan Cassidy\"], [0.25, 0.5428571428571428, 0.5337837837837838, 2.0, \"Dan Goldie\"], [0.45454545454545453, 0.3157894736842105, 0.46808510638297873, 1.0, \"Danai Udomchoke\"], [0.21052631578947367, 0.4626865671641791, 0.4322033898305085, 2.0, \"Danie Visser\"], [0.38181818181818183, 0.4117647058823529, 0.3875, 2.0, \"Daniel Brands\"], [0.32432432432432434, 0.375, 0.5, 2.0, \"Daniel Contet\"], [0.25, 0.4230769230769231, 0.5, 2.0, \"Daniel Evans\"], [0.42391304347826086, 0.10526315789473684, 0.2537313432835821, 1.0, \"Daniel Gimeno Traver\"], [0.2, 0.4186046511627907, 0.43548387096774194, 2.0, \"Daniel Nestor\"], [0.35294117647058826, 0.425, 0.45595854922279794, 2.0, \"Daniel Vacek\"], [0.38461538461538464, 0.5294117647058824, 0.3235294117647059, 2.0, \"Daniele Bracciali\"], [0.35714285714285715, 0.6, 0.7087912087912088, 0.0, \"Daniil Medvedev\"], [0.6666666666666666, 0.4, 0.5263157894736842, 0.0, \"Danny Saltz\"], [0.625, 0.36363636363636365, 0.36363636363636365, 1.0, \"Danny Sapsford\"], [0.5423728813559322, 0.4666666666666667, 0.5555555555555556, 0.0, \"Darren Cahill\"], [0.16666666666666666, 0.25, 0.46153846153846156, 2.0, \"Dave Siegler\"], [0.42391304347826086, 0.3953488372093023, 0.3469387755102041, 1.0, \"David Carter\"], [0.2, 0.14285714285714285, 0.42105263157894735, 1.0, \"David Dowlen\"], [0.3076923076923077, 0.5714285714285714, 0.3103448275862069, 2.0, \"David Engel\"], [0.7050209205020921, 0.6285714285714286, 0.6352087114337568, 0.0, \"David Ferrer\"], [0.6101694915254238, 0.5581395348837209, 0.6140939597315436, 0.0, \"David Goffin\"], [0.21875, 0.3902439024390244, 0.2, 2.0, \"David Lloyd\"], [0.3333333333333333, 0.3333333333333333, 0.26666666666666666, 1.0, \"David Mustard\"], [0.2, 0.42857142857142855, 0.3617021276595745, 2.0, \"David Nainkin\"], [0.6602870813397129, 0.6888888888888889, 0.6538461538461539, 0.0, \"David Nalbandian\"], [0.2777777777777778, 0.543859649122807, 0.5355450236966824, 2.0, \"David Pate\"], [0.23809523809523808, 0.5645161290322581, 0.4012738853503185, 2.0, \"David Prinosil\"], [0.41025641025641024, 0.2, 0.30434782608695654, 1.0, \"David Rikl\"], [0.18181818181818182, 0.29411764705882354, 0.3275862068965517, 2.0, \"David Schneider\"], [0.5263157894736842, 0.6363636363636364, 0.5530973451327433, 0.0, \"David Wheaton\"], [0.5, 0.5384615384615384, 0.21428571428571427, 2.0, \"David Witt\"], [0.3680555555555556, 0.425531914893617, 0.43956043956043955, 2.0, \"Davide Sanguinetti\"], [0.4666666666666667, 0.2, 0.32, 1.0, \"Denis Gremelmayr\"], [0.45384615384615384, 0.5394736842105263, 0.45390070921985815, 0.0, \"Denis Istomin\"], [0.2631578947368421, 0.5116279069767442, 0.28735632183908044, 2.0, \"Denis Kudla\"], [0.42857142857142855, 0.5, 0.25, 2.0, \"Denis Naegelen\"], [0.5483870967741935, 0.25, 0.5833333333333334, 1.0, \"Denis Shapovalov\"], [0.4117647058823529, 0.5, 0.3448275862068966, 2.0, \"Dennis Novak\"], [0.6153846153846154, 0.6842105263157895, 0.46774193548387094, 0.0, \"Dennis Ralston\"], [0.4318181818181818, 0.3181818181818182, 0.38461538461538464, 1.0, \"Dennis Van Scheppingen\"], [0.27586206896551724, 0.375, 0.5, 2.0, \"Deon Joubert\"], [0.2857142857142857, 0.2, 0.29411764705882354, 1.0, \"Derek Schroder\"], [0.3333333333333333, 0.16666666666666666, 0.3157894736842105, 1.0, \"Derek Tarr\"], [0.2972972972972973, 0.5915492957746479, 0.5288461538461539, 2.0, \"Derrick Rostagno\"], [0.5305343511450382, 0.5347222222222222, 0.48672566371681414, 0.0, \"Dick Crealy\"], [0.3, 0.3, 0.14285714285714285, 1.0, \"Dick Dell\"], [0.2857142857142857, 0.41379310344827586, 0.2222222222222222, 2.0, \"Dick Norman\"], [0.07142857142857142, 0.43478260869565216, 0.3076923076923077, 2.0, \"Dick R Bohrnstedt\"], [0.6484848484848484, 0.6060606060606061, 0.5272727272727272, 0.0, \"Dick Stockton\"], [0.32653061224489793, 0.4230769230769231, 0.4125, 2.0, \"Diego Nargiso\"], [0.5684931506849316, 0.3333333333333333, 0.5333333333333333, 1.0, \"Diego Schwartzman\"], [0.3787878787878788, 0.25, 0.25, 1.0, \"Dinu Pescariu\"], [0.3918918918918919, 0.5522388059701493, 0.5255972696245734, 0.0, \"Dmitry Tursunov\"], [0.7446808510638298, 0.5172413793103449, 0.6, 0.0, \"Dominic Thiem\"], [0.5362903225806451, 0.24, 0.5427728613569321, 1.0, \"Dominik Hrbaty\"], [0.5555555555555556, 0.5, 0.42857142857142855, 0.0, \"Dominik Koepfer\"], [0.3333333333333333, 0.3333333333333333, 0.42857142857142855, 2.0, \"Dominik Meffert\"], [0.125, 0.2, 0.5, 2.0, \"Don Mccormick\"], [0.21875, 0.38461538461538464, 0.4279835390946502, 2.0, \"Donald Young\"], [0.1111111111111111, 0.47058823529411764, 0.3902439024390244, 2.0, \"Doug Flach\"], [0.22727272727272727, 0.14285714285714285, 0.38461538461538464, 1.0, \"Douglas Palm\"], [0.5384615384615384, 0.43478260869565216, 0.35, 1.0, \"Drew Gitlin\"], [0.18604651162790697, 0.48148148148148145, 0.4491525423728814, 2.0, \"Dudi Sela\"], [0.5066666666666667, 0.25, 0.4090909090909091, 1.0, \"Dusan Lajovic\"], [0.5555555555555556, 0.5, 0.3333333333333333, 0.0, \"Dusan Vemic\"], [0.40384615384615385, 0.45, 0.3382352941176471, 2.0, \"Dustin Brown\"], [0.6, 0.6666666666666666, 0.5882352941176471, 0.0, \"Earl Butch Buchholz\"], [0.7380952380952381, 0.5, 0.684931506849315, 0.0, \"Eddie Dibbs\"], [0.38095238095238093, 0.49382716049382713, 0.3170731707317073, 2.0, \"Eddie Edwards\"], [0.6, 0.2, 0.5454545454545454, 1.0, \"Edison Mandarino\"], [0.37735849056603776, 0.45714285714285713, 0.4, 2.0, \"Edouard Roger Vasselin\"], [0.42857142857142855, 0.3333333333333333, 0.39285714285714285, 1.0, \"Eduardo Masso\"], [0.4696969696969697, 0.125, 0.25806451612903225, 1.0, \"Eduardo Schwank\"], [0.3333333333333333, 0.5, 0.3333333333333333, 2.0, \"Eduardo Velez\"], [0.6262626262626263, 0.5, 0.6995708154506438, 0.0, \"Eliot Teltscher\"], [0.2727272727272727, 0.2, 0.3684210526315789, 1.0, \"Emilio Montano\"], [0.643312101910828, 0.2857142857142857, 0.5833333333333334, 1.0, \"Emilio Sanchez\"], [0.423728813559322, 0.3333333333333333, 0.4166666666666667, 1.0, \"Eric Deblicker\"], [0.3333333333333333, 0.2, 0.30434782608695654, 1.0, \"Eric Friedler\"], [0.45, 0.4, 0.33962264150943394, 1.0, \"Eric Fromm\"], [0.3698630136986301, 0.6346153846153846, 0.4426229508196721, 2.0, \"Eric Jelen\"], [0.6153846153846154, 0.14285714285714285, 0.5185185185185185, 1.0, \"Eric Korita\"], [0.3888888888888889, 0.4, 0.21739130434782608, 2.0, \"Eric Winogradsky\"], [0.45652173913043476, 0.48214285714285715, 0.4251968503937008, 2.0, \"Erik Van Dillen\"], [0.3, 0.3333333333333333, 0.35714285714285715, 2.0, \"Ernesto Escobedo\"], [0.5241379310344828, 0.38461538461538464, 0.5071428571428571, 1.0, \"Ernests Gulbis\"], [0.7142857142857143, 0.5, 0.18181818181818182, 1.0, \"Eui Jong Chang\"], [0.20689655172413793, 0.26666666666666666, 0.36363636363636365, 2.0, \"Evgeny Donskoy\"], [0.3870967741935484, 0.16666666666666666, 0.5, 1.0, \"Evgeny Korolev\"], [0.3877551020408163, 0.25, 0.25, 1.0, \"Ezio Di Matteo\"], [0.5842696629213483, 0.5135135135135135, 0.47719298245614034, 0.0, \"Fabio Fognini\"], [0.48175182481751827, 0.5714285714285714, 0.5347826086956522, 0.0, \"Fabrice Santoro\"], [0.49429657794676807, 0.6587301587301587, 0.5055555555555555, 0.0, \"Feliciano Lopez\"], [0.5161290322580645, 0.75, 0.5277777777777778, 0.0, \"Felix Auger Aliassime\"], [0.8, 0.6666666666666666, 0.8, 0.0, \"Felix Barrientos\"], [0.659217877094972, 0.3333333333333333, 0.49635036496350365, 1.0, \"Felix Mantilla\"], [0.28, 0.391304347826087, 0.3333333333333333, 2.0, \"Ferdi Taygan\"], [0.7, 0.6216216216216216, 0.6102941176470589, 0.0, \"Fernando Gonzalez\"], [0.5513698630136986, 0.14285714285714285, 0.3486238532110092, 1.0, \"Fernando Meligeni\"], [0.610079575596817, 0.5483870967741935, 0.5357873210633947, 0.0, \"Fernando Verdasco\"], [0.46887966804979253, 0.29411764705882354, 0.3786407766990291, 1.0, \"Fernando Vicente\"], [0.16666666666666666, 0.36363636363636365, 0.36363636363636365, 2.0, \"Fernon Wibier\"], [0.5050505050505051, 0.25, 0.36764705882352944, 1.0, \"Filip Dewulf\"], [0.5339805825242718, 0.15384615384615385, 0.1323529411764706, 1.0, \"Filippo Volandri\"], [0.358974358974359, 0.125, 0.38181818181818183, 1.0, \"Flavio Cipolla\"], [0.5204081632653061, 0.5, 0.42857142857142855, 0.0, \"Flavio Saretta\"], [0.46153846153846156, 0.34615384615384615, 0.4166666666666667, 1.0, \"Florent Serra\"], [0.5, 0.6, 0.4297872340425532, 0.0, \"Florian Mayer\"], [0.46511627906976744, 0.2, 0.38461538461538464, 1.0, \"Florin Segarceanu\"], [0.3448275862068966, 0.46153846153846156, 0.43478260869565216, 2.0, \"Frances Tiafoe\"], [0.5782608695652174, 0.5, 0.4772727272727273, 0.0, \"Francisco Clavet\"], [0.35443037974683544, 0.3953488372093023, 0.41818181818181815, 2.0, \"Francisco Gonzalez\"], [0.4230769230769231, 0.2, 0.15789473684210525, 1.0, \"Francisco Montana\"], [0.38738738738738737, 0.5, 0.4166666666666667, 2.0, \"Francisco Roig\"], [0.5397489539748954, 0.14285714285714285, 0.36231884057971014, 1.0, \"Franco Squillari\"], [0.6241379310344828, 0.4090909090909091, 0.3076923076923077, 1.0, \"Francois Jauffret\"], [0.05263157894736842, 0.4772727272727273, 0.37735849056603776, 2.0, \"Frank Dancevic\"], [0.4918032786885246, 0.38461538461538464, 0.45, 1.0, \"Frank Froehling\"], [0.3611111111111111, 0.4444444444444444, 0.3076923076923077, 2.0, \"Frank Gebert\"], [0.375, 0.38461538461538464, 0.25, 2.0, \"Frank Sedgman\"], [0.4397163120567376, 0.25, 0.2857142857142857, 1.0, \"Frantisek Pala\"], [0.30120481927710846, 0.4, 0.1956521739130435, 2.0, \"Fred Mcnair\"], [0.5625, 0.676923076923077, 0.4864864864864865, 0.0, \"Fred Stolle\"], [0.3333333333333333, 0.25, 0.52, 1.0, \"Freddie Sauer\"], [0.36363636363636365, 0.3333333333333333, 0.15384615384615385, 1.0, \"Frederic Niemeyer\"], [0.5476190476190477, 0.125, 0.3877551020408163, 1.0, \"Frederico Gil\"], [0.2894736842105263, 0.4444444444444444, 0.48, 2.0, \"Frederik Fetterlein\"], [0.411214953271028, 0.49230769230769234, 0.421875, 2.0, \"Frew Mcmillan\"], [0.29411764705882354, 0.55, 0.48936170212765956, 2.0, \"Fritz Buehning\"], [0.6037735849056604, 0.5797101449275363, 0.6577319587628866, 0.0, \"Gael Monfils\"], [0.46835443037974683, 0.14285714285714285, 0.20408163265306123, 1.0, \"Galo Blanco\"], [0.4, 0.42857142857142855, 0.41732283464566927, 2.0, \"Gary Muller\"], [0.660436137071651, 0.25, 0.42105263157894735, 1.0, \"Gaston Gaudio\"], [0.6060606060606061, 0.5357142857142857, 0.7388535031847133, 0.0, \"Gene Mayer\"], [0.25, 0.3333333333333333, 0.32, 2.0, \"Gene Stuart Malin\"], [0.5040650406504065, 0.49137931034482757, 0.5, 0.0, \"Geoff Masters\"], [0.42857142857142855, 0.6666666666666666, 0.25, 2.0, \"George Amaya\"], [0.2222222222222222, 0.1875, 0.4065934065934066, 1.0, \"George Bastl\"], [0.29577464788732394, 0.3142857142857143, 0.37681159420289856, 2.0, \"George Hardie\"], [0.45185185185185184, 0.4666666666666667, 0.48, 2.0, \"Georges Goven\"], [0.44274809160305345, 0.45, 0.46835443037974683, 2.0, \"Gerald Battrick\"], [0.3333333333333333, 0.5, 0.16666666666666666, 2.0, \"German Puentes\"], [0.14634146341463414, 0.47058823529411764, 0.41732283464566927, 2.0, \"Gianluca Pozzi\"], [0.4, 0.35714285714285715, 0.49056603773584906, 1.0, \"Gianni Ocleppo\"], [0.25, 0.45454545454545453, 0.49230769230769234, 2.0, \"Gilad Bloom\"], [0.3333333333333333, 0.45, 0.3333333333333333, 2.0, \"Gilles Elseneer\"], [0.4069767441860465, 0.2857142857142857, 0.4444444444444444, 1.0, \"Gilles Moretton\"], [0.4576271186440678, 0.5555555555555556, 0.5272108843537415, 0.0, \"Gilles Muller\"], [0.5658914728682171, 0.5777777777777777, 0.5787401574803149, 0.0, \"Gilles Simon\"], [0.24, 0.3333333333333333, 0.4583333333333333, 2.0, \"Giovanni Lapentti\"], [0.3333333333333333, 0.2, 0.125, 1.0, \"Glen Holroyd\"], [0.25, 0.4418604651162791, 0.45054945054945056, 2.0, \"Glenn Layendecker\"], [0.29411764705882354, 0.36, 0.391304347826087, 2.0, \"Glenn Michibata\"], [0.3076923076923077, 0.23529411764705882, 0.36538461538461536, 1.0, \"Go Soeda\"], [0.618421052631579, 0.7171717171717171, 0.5830903790087464, 0.0, \"Goran Ivanisevic\"], [0.5581395348837209, 0.16666666666666666, 0.4642857142857143, 1.0, \"Goran Prpic\"], [0.3333333333333333, 0.3333333333333333, 0.3673469387755102, 2.0, \"Gouichi Motomura\"], [0.33783783783783783, 0.4897959183673469, 0.2982456140350877, 2.0, \"Graham Stilwell\"], [0.3333333333333333, 0.5, 0.424, 2.0, \"Grant Stafford\"], [0.3333333333333333, 0.6, 0.2727272727272727, 2.0, \"Graydon Garner\"], [0.1111111111111111, 0.4074074074074074, 0.5454545454545454, 2.0, \"Greg Holmes\"], [0.37037037037037035, 0.7049180327868853, 0.5907928388746803, 0.0, \"Greg Rusedski\"], [0.5, 0.5333333333333333, 0.40816326530612246, 0.0, \"Grega Zemlja\"], [0.16666666666666666, 0.3333333333333333, 0.34782608695652173, 2.0, \"Gregoire Barrere\"], [0.5867768595041323, 0.5806451612903226, 0.6131805157593123, 0.0, \"Grigor Dimitrov\"], [0.25, 0.375, 0.35555555555555557, 2.0, \"Grover Raz Reid\"], [0.2631578947368421, 0.25, 0.38461538461538464, 1.0, \"Guido Andreozzi\"], [0.5446428571428571, 0.4444444444444444, 0.4174757281553398, 0.0, \"Guido Pella\"], [0.28846153846153844, 0.4375, 0.46153846153846156, 2.0, \"Guillaume Raoux\"], [0.2777777777777778, 0.3333333333333333, 0.45, 2.0, \"Guillaume Rufin\"], [0.5904761904761905, 0.5909090909090909, 0.5536723163841808, 0.0, \"Guillermo Canas\"], [0.7165775401069518, 0.5555555555555556, 0.5862068965517241, 0.0, \"Guillermo Coria\"], [0.49635036496350365, 0.48333333333333334, 0.4222222222222222, 0.0, \"Guillermo Garcia Lopez\"], [0.7968936678614098, 0.7291666666666666, 0.6918238993710691, 0.0, \"Guillermo Vilas\"], [0.7011494252873564, 0.4666666666666667, 0.6228813559322034, 0.0, \"Gustavo Kuerten\"], [0.5210526315789473, 0.5897435897435898, 0.6074380165289256, 0.0, \"Guy Forget\"], [0.4230769230769231, 0.6442953020134228, 0.5647058823529412, 0.0, \"Hank Pfister\"], [0.21428571428571427, 0.3333333333333333, 0.2, 2.0, \"Hans Dieter Beutel\"], [0.6175548589341693, 0.3333333333333333, 0.2, 1.0, \"Hans Gildemeister\"], [0.3855421686746988, 0.375, 0.25, 1.0, \"Hans Joachim Ploetz\"], [0.5133333333333333, 0.2857142857142857, 0.5777777777777777, 1.0, \"Hans Jurgen Pohmann\"], [0.41295546558704455, 0.2857142857142857, 0.4666666666666667, 1.0, \"Hans Kary\"], [0.4262295081967213, 0.5, 0.30434782608695654, 2.0, \"Hans Schwaier\"], [0.3548387096774194, 0.25, 0.40625, 1.0, \"Hans Simonsson\"], [0.52, 0.35294117647058826, 0.5, 1.0, \"Harald Elschenbroich\"], [0.4146341463414634, 0.375, 0.38144329896907214, 1.0, \"Harel Levy\"], [0.690537084398977, 0.2857142857142857, 0.6472727272727272, 0.0, \"Harold Solomon\"], [0.3404255319148936, 0.3333333333333333, 0.47619047619047616, 2.0, \"Haroon Rahim\"], [0.5, 0.5, 0.2857142857142857, 2.0, \"Heiner Moraing\"], [0.5773195876288659, 0.45454545454545453, 0.5590551181102362, 0.0, \"Heinz Gunthardt\"], [0.3770491803278688, 0.36666666666666664, 0.532608695652174, 2.0, \"Hendrik Dreekmann\"], [0.1111111111111111, 0.16666666666666666, 0.36363636363636365, 2.0, \"Hendrik Jan Davids\"], [0.5970149253731343, 0.6451612903225806, 0.567741935483871, 0.0, \"Henri Leconte\"], [0.2631578947368421, 0.5789473684210527, 0.4811320754716981, 2.0, \"Henrik Holm\"], [0.6751269035532995, 0.29411764705882354, 0.34375, 1.0, \"Henrik Sundstrom\"], [0.3125, 0.3333333333333333, 0.3333333333333333, 2.0, \"Henry Bunis\"], [0.4, 0.3, 0.375, 1.0, \"Henry Hank Irvine\"], [0.6923076923076923, 0.47619047619047616, 0.5454545454545454, 0.0, \"Herb Fitzgibbon\"], [0.5, 0.5142857142857142, 0.4823529411764706, 0.0, \"Hicham Arazi\"], [0.453125, 0.15384615384615385, 0.37349397590361444, 1.0, \"Horacio Zeballos\"], [0.5907590759075908, 0.14285714285714285, 0.34328358208955223, 1.0, \"Horst Skoff\"], [0.4, 0.5, 0.4931506849315068, 2.0, \"Hubert Hurkacz\"], [0.28, 0.3333333333333333, 0.4, 2.0, \"Humphrey Hose\"], [0.3157894736842105, 0.42857142857142855, 0.26666666666666666, 2.0, \"Huub Van Boeckel\"], [0.5483870967741935, 0.3333333333333333, 0.5309734513274337, 1.0, \"Hyeon Chung\"], [0.5, 0.48717948717948717, 0.48325358851674644, 0.0, \"Hyung Taik Lee\"], [0.425531914893617, 0.5365853658536586, 0.45454545454545453, 2.0, \"Ian Fletcher\"], [0.5339366515837104, 0.48484848484848486, 0.47692307692307695, 0.0, \"Igor Andreev\"], [0.26666666666666666, 0.32432432432432434, 0.37662337662337664, 2.0, \"Igor Kunitsyn\"], [0.30303030303030304, 0.43478260869565216, 0.35365853658536583, 2.0, \"Igor Sijsling\"], [0.7833001988071571, 0.7027027027027027, 0.7025089605734767, 0.0, \"Ilie Nastase\"], [0.5, 0.3333333333333333, 0.2, 1.0, \"Ilija Bozoljac\"], [0.16666666666666666, 0.3, 0.45871559633027525, 2.0, \"Illya Marchenko\"], [0.14285714285714285, 0.6666666666666666, 0.4791666666666667, 2.0, \"Ilya Ivashka\"], [0.5652173913043478, 0.2222222222222222, 0.36363636363636365, 1.0, \"Ingo Buding\"], [0.375, 0.25, 0.3076923076923077, 1.0, \"Inigo Cervantes Huegun\"], [0.5934579439252337, 0.4634146341463415, 0.4027777777777778, 0.0, \"Ion Tiriac\"], [0.45, 0.35714285714285715, 0.3018867924528302, 1.0, \"Irakli Labadze\"], [0.47641509433962265, 0.5066666666666667, 0.4642857142857143, 0.0, \"Ismail El Shafei\"], [0.421875, 0.5483870967741935, 0.4539877300613497, 2.0, \"Ivan Dodig\"], [0.8103448275862069, 0.75, 0.8257261410788381, 0.0, \"Ivan Lendl\"], [0.5585106382978723, 0.48, 0.6034063260340633, 0.0, \"Ivan Ljubicic\"], [0.48484848484848486, 0.6666666666666666, 0.3, 0.0, \"Ivan Miranda\"], [0.49056603773584906, 0.14285714285714285, 0.26666666666666666, 1.0, \"Ivan Molina\"], [0.41379310344827586, 0.35294117647058826, 0.2, 1.0, \"Ivan Navarro\"], [0.125, 0.3333333333333333, 0.3181818181818182, 2.0, \"Ivo Heuberger\"], [0.42424242424242425, 0.6293103448275862, 0.5223214285714286, 0.0, \"Ivo Karlovic\"], [0.3181818181818182, 0.23076923076923078, 0.4090909090909091, 1.0, \"Ivo Minar\"], [0.3333333333333333, 0.5, 0.5652173913043478, 2.0, \"Izak Van Der Merwe\"], [0.4864864864864865, 0.574468085106383, 0.37755102040816324, 0.0, \"Jacco Eltingh\"], [0.5789473684210527, 0.5217391304347826, 0.555045871559633, 0.0, \"Jack Sock\"], [0.2857142857142857, 0.25, 0.125, 1.0, \"Jai Dilouie\"], [0.6363636363636364, 0.524390243902439, 0.5607476635514018, 0.0, \"Jaime Fillol\"], [0.475, 0.5, 0.42857142857142855, 0.0, \"Jaime Oncins\"], [0.44285714285714284, 0.2, 0.3333333333333333, 1.0, \"Jaime Pinto Bravo\"], [0.5401069518716578, 0.4166666666666667, 0.5634920634920635, 0.0, \"Jaime Yzaga\"], [0.5549738219895288, 0.5142857142857142, 0.5551601423487544, 0.0, \"Jakob Hlasek\"], [0.46, 0.5161290322580645, 0.6316964285714286, 0.0, \"James Blake\"], [0.15789473684210525, 0.15384615384615385, 0.42857142857142855, 1.0, \"James Chico Hagey\"], [0.25, 0.2222222222222222, 0.3387096774193548, 1.0, \"James Duckworth\"], [0.3333333333333333, 0.25, 0.25, 1.0, \"Jamie Baker\"], [0.3684210526315789, 0.47619047619047616, 0.43529411764705883, 2.0, \"Jamie Morgan\"], [0.3448275862068966, 0.5454545454545454, 0.4, 2.0, \"Jan Apell\"], [0.4842105263157895, 0.47368421052631576, 0.5447154471544715, 0.0, \"Jan Gunnarsson\"], [0.30952380952380953, 0.475, 0.4215686274509804, 2.0, \"Jan Hernych\"], [0.6924882629107981, 0.6451612903225806, 0.5225225225225225, 0.0, \"Jan Kodes\"], [0.3333333333333333, 0.3076923076923077, 0.4625, 1.0, \"Jan Kroslak\"], [0.4032258064516129, 0.4, 0.2777777777777778, 2.0, \"Jan Kukal\"], [0.45263157894736844, 0.375, 0.48255813953488375, 1.0, \"Jan Lennard Struff\"], [0.52, 0.5714285714285714, 0.6, 0.0, \"Jan Leschly\"], [0.2127659574468085, 0.5227272727272727, 0.5586206896551724, 2.0, \"Jan Michael Gambill\"], [0.2608695652173913, 0.3333333333333333, 0.39473684210526316, 2.0, \"Jan Norback\"], [0.3793103448275862, 0.4666666666666667, 0.5137254901960784, 2.0, \"Jan Siemerink\"], [0.26666666666666666, 0.4827586206896552, 0.26666666666666666, 2.0, \"Jan Vacek\"], [0.5140845070422535, 0.5277777777777778, 0.5356037151702786, 0.0, \"Janko Tipsarevic\"], [0.26666666666666666, 0.42857142857142855, 0.4691358024691358, 2.0, \"Jared Donaldson\"], [0.5263157894736842, 0.3888888888888889, 0.4625, 1.0, \"Jared Palmer\"], [0.5609756097560976, 0.43859649122807015, 0.5377969762419006, 0.0, \"Jarkko Nieminen\"], [0.3333333333333333, 0.23529411764705882, 0.3076923076923077, 1.0, \"Jasjit Singh\"], [0.5784313725490197, 0.6145833333333334, 0.5194029850746269, 0.0, \"Jason Stoltenberg\"], [0.5739130434782609, 0.5555555555555556, 0.4473684210526316, 0.0, \"Javier Frana\"], [0.5375, 0.2727272727272727, 0.45454545454545453, 1.0, \"Javier Sanchez\"], [0.6455696202531646, 0.5, 0.6612903225806451, 0.0, \"Jay Berger\"], [0.3953488372093023, 0.42105263157894735, 0.4444444444444444, 2.0, \"Jay Lapidus\"], [0.22727272727272727, 0.4358974358974359, 0.3548387096774194, 2.0, \"Jean Baptiste Chanfreau\"], [0.3333333333333333, 0.125, 0.42857142857142855, 1.0, \"Jean Claude Barclay\"], [0.4489795918367347, 0.13333333333333333, 0.3333333333333333, 1.0, \"Jean Francois Caujolle\"], [0.3125, 0.3, 0.45714285714285713, 2.0, \"Jean Louis Haillet\"], [0.5405405405405406, 0.3870967741935484, 0.375, 1.0, \"Jean Loup Rouyer\"], [0.3888888888888889, 0.4, 0.4097222222222222, 2.0, \"Jean Philippe Fleurian\"], [0.4084507042253521, 0.2, 0.3559322033898305, 1.0, \"Jean Rene Lisnard\"], [0.2631578947368421, 0.36363636363636365, 0.425, 2.0, \"Jeff Austin\"], [0.5251396648044693, 0.44776119402985076, 0.4588235294117647, 0.0, \"Jeff Borowiak\"], [0.14285714285714285, 0.375, 0.373134328358209, 2.0, \"Jeff Morrison\"], [0.25, 0.3333333333333333, 0.2727272727272727, 2.0, \"Jeff Salzenstein\"], [0.2647058823529412, 0.5, 0.22580645161290322, 2.0, \"Jeff Simpson\"], [0.4537037037037037, 0.34146341463414637, 0.46645367412140576, 1.0, \"Jeff Tarango\"], [0.6, 0.3333333333333333, 0.4, 1.0, \"Jeff Turpin\"], [0.39655172413793105, 0.5454545454545454, 0.3448275862068966, 2.0, \"Jens Knippschild\"], [0.4230769230769231, 0.3333333333333333, 0.3333333333333333, 1.0, \"Jens Woehrmann\"], [0.2564102564102564, 0.4574468085106383, 0.42028985507246375, 2.0, \"Jeremy Bates\"], [0.5228426395939086, 0.4827586206896552, 0.47896440129449835, 0.0, \"Jeremy Chardy\"], [0.4473684210526316, 0.46875, 0.5483870967741935, 0.0, \"Jerome Golmard\"], [0.3611111111111111, 0.2222222222222222, 0.4666666666666667, 1.0, \"Jerome Potier\"], [0.358974358974359, 0.6153846153846154, 0.52, 0.0, \"Jerzy Janowicz\"], [0.25, 0.25, 0.19047619047619047, 1.0, \"Jesse Huta Galung\"], [0.14285714285714285, 0.4166666666666667, 0.3125, 2.0, \"Jesse Levine\"], [0.875, 0.5, 0.6111111111111112, 0.0, \"Jia Ping Xia\"], [0.6845238095238095, 0.6222222222222222, 0.7094430992736077, 0.0, \"Jim Courier\"], [0.3283582089552239, 0.43243243243243246, 0.3709677419354839, 2.0, \"Jim Delaney\"], [0.1875, 0.3333333333333333, 0.50199203187251, 2.0, \"Jim Grabb\"], [0.4375, 0.4, 0.2571428571428571, 1.0, \"Jim Gurfein\"], [0.2345679012345679, 0.4, 0.36585365853658536, 2.0, \"Jim Mcmanus\"], [0.45161290322580644, 0.4827586206896552, 0.47540983606557374, 0.0, \"Jim Osborne\"], [0.3870967741935484, 0.5555555555555556, 0.47058823529411764, 2.0, \"Jim Pugh\"], [0.6108786610878661, 0.5, 0.5491071428571429, 0.0, \"Jimmy Arias\"], [0.7703703703703704, 0.8207547169811321, 0.819935691318328, 0.0, \"Jimmy Connors\"], [0.2857142857142857, 0.391304347826087, 0.46296296296296297, 2.0, \"Jimmy Wang\"], [0.5384615384615384, 0.43478260869565216, 0.4107142857142857, 1.0, \"Jiri Hrebec\"], [0.5638766519823789, 0.4857142857142857, 0.5735294117647058, 0.0, \"Jiri Novak\"], [0.42105263157894735, 0.125, 0.3, 1.0, \"Jiri Vanek\"], [0.5, 0.6, 0.4049586776859504, 0.0, \"Jiri Vesely\"], [0.6267605633802817, 0.6933333333333334, 0.6845493562231759, 0.0, \"Jo-Wilfried Tsonga\"], [0.17647058823529413, 0.5, 0.6082474226804123, 2.0, \"Joachim Johansson\"], [0.6559633027522935, 0.6216216216216216, 0.6593406593406593, 0.0, \"Joakim Nystrom\"], [0.32558139534883723, 0.2, 0.40625, 1.0, \"Joao Cunha Silva\"], [0.2923076923076923, 0.3333333333333333, 0.23076923076923078, 2.0, \"Joao Soares\"], [0.4968553459119497, 0.4117647058823529, 0.45045045045045046, 1.0, \"Joao Sousa\"], [0.43010752688172044, 0.5121951219512195, 0.3137254901960784, 2.0, \"Joaquin Loyo Mayo\"], [0.25, 0.5, 0.5, 2.0, \"Joe Meyers\"], [0.25, 0.18181818181818182, 0.47058823529411764, 1.0, \"Joern Renzenbrink\"], [0.25, 0.5217391304347826, 0.41975308641975306, 2.0, \"Joey Rive\"], [0.5, 0.2, 0.4, 1.0, \"Johan Anderson\"], [0.30434782608695654, 0.3333333333333333, 0.4673913043478261, 2.0, \"Johan Carlsson\"], [0.5, 0.7264957264957265, 0.6245353159851301, 0.0, \"Johan Kriek\"], [0.6238244514106583, 0.5951219512195122, 0.5747663551401869, 0.0, \"John Alexander\"], [0.46875, 0.375, 0.4, 1.0, \"John Andrews\"], [0.2727272727272727, 0.32, 0.4583333333333333, 2.0, \"John Austin\"], [0.24074074074074073, 0.3170731707317073, 0.1111111111111111, 2.0, \"John Bartlett\"], [0.3333333333333333, 0.3076923076923077, 0.4, 1.0, \"John Brown\"], [0.2857142857142857, 0.5932203389830508, 0.5098039215686274, 2.0, \"John Cooper\"], [0.2903225806451613, 0.328125, 0.21428571428571427, 2.0, \"John Feaver\"], [0.2777777777777778, 0.5868263473053892, 0.48677248677248675, 2.0, \"John Fitzgerald\"], [0.43333333333333335, 0.36363636363636365, 0.4878048780487805, 1.0, \"John Frawley\"], [0.3333333333333333, 0.5, 0.16666666666666666, 2.0, \"John Gardner\"], [0.5426356589147286, 0.6712328767123288, 0.626, 0.0, \"John Isner\"], [0.35294117647058826, 0.4634146341463415, 0.38461538461538464, 2.0, \"John James\"], [0.41007194244604317, 0.49166666666666664, 0.45864661654135336, 2.0, \"John Lloyd\"], [0.18181818181818182, 0.3673469387755102, 0.2, 2.0, \"John Marks\"], [0.5, 0.25, 0.4, 1.0, \"John Mattke\"], [0.7192982456140351, 0.8581560283687943, 0.8100558659217877, 0.0, \"John McEnroe\"], [0.36666666666666664, 0.43478260869565216, 0.48175182481751827, 2.0, \"John Millman\"], [0.7169811320754716, 0.7837837837837838, 0.7102272727272727, 0.0, \"John Newcombe\"], [0.24, 0.4166666666666667, 0.3076923076923077, 2.0, \"John Paish\"], [0.2631578947368421, 0.4, 0.3673469387755102, 2.0, \"John Ross\"], [0.4827586206896552, 0.5964912280701754, 0.4878048780487805, 0.0, \"John Sadri\"], [0.30952380952380953, 0.4482758620689655, 0.41025641025641024, 2.0, \"John Van Lottum\"], [0.30952380952380953, 0.45454545454545453, 0.375, 2.0, \"John Whitlinger\"], [0.39473684210526316, 0.42857142857142855, 0.38596491228070173, 2.0, \"John Yuill\"], [0.25, 0.25, 0.22727272727272727, 1.0, \"Jon Levine\"], [0.36, 0.6507936507936508, 0.5355555555555556, 0.0, \"Jonas Bjorkman\"], [0.4927536231884058, 0.5, 0.5844155844155844, 0.0, \"Jonas Svensson\"], [0.21428571428571427, 0.375, 0.47474747474747475, 2.0, \"Jonathan Canter\"], [0.36666666666666664, 0.3584905660377358, 0.3, 1.0, \"Jonathan Smith\"], [0.3684210526315789, 0.4883720930232558, 0.45698924731182794, 2.0, \"Jonathan Stark\"], [0.38095238095238093, 0.38095238095238093, 0.4418604651162791, 2.0, \"Jordan Thompson\"], [0.4697986577181208, 0.5, 0.2777777777777778, 2.0, \"Jordi Burillo\"], [0.20512820512820512, 0.26666666666666666, 0.17647058823529413, 2.0, \"Jorge Andrew\"], [0.3, 0.25, 0.3333333333333333, 1.0, \"Jorgen Ulrich\"], [0.6778169014084507, 0.5, 0.5576923076923077, 0.0, \"Jose Higueras\"], [0.416, 0.3333333333333333, 0.38095238095238093, 1.0, \"Jose Lopez Maeso\"], [0.7682619647355163, 0.5238095238095238, 0.7096774193548387, 0.0, \"Jose Luis Clerc\"], [0.4818181818181818, 0.5, 0.25, 2.0, \"Jose Luis Damiani\"], [0.40540540540540543, 0.3125, 0.2857142857142857, 1.0, \"Jose Mandarino\"], [0.545816733067729, 0.5, 0.2631578947368421, 1.0, \"Juan Aguilera\"], [0.44086021505376344, 0.3333333333333333, 0.20689655172413793, 1.0, \"Juan Albert Viloca Puig\"], [0.7277936962750716, 0.6122448979591837, 0.5705128205128205, 0.0, \"Juan Carlos Ferrero\"], [0.5601851851851852, 0.6666666666666666, 0.5409836065573771, 0.0, \"Juan Gisbert\"], [0.5963855421686747, 0.26666666666666666, 0.5, 1.0, \"Juan Ignacio Chela\"], [0.5777777777777777, 0.3333333333333333, 0.23529411764705882, 1.0, \"Juan Ignacio Londero\"], [0.6942148760330579, 0.6896551724137931, 0.7228637413394919, 0.0, \"Juan Martin del Potro\"], [0.6226912928759895, 0.3888888888888889, 0.463768115942029, 0.0, \"Juan Monaco\"], [0.4672897196261682, 0.4444444444444444, 0.4, 2.0, \"Julian Ganzabal\"], [0.14285714285714285, 0.3333333333333333, 0.1875, 2.0, \"Julian Knowle\"], [0.4144144144144144, 0.47368421052631576, 0.4943820224719101, 2.0, \"Julien Benneteau\"], [0.5172413793103449, 0.1111111111111111, 0.3559322033898305, 1.0, \"Julien Boutter\"], [0.4473684210526316, 0.38235294117647056, 0.37142857142857144, 1.0, \"Jun Kamiwazumi\"], [0.371900826446281, 0.25, 0.3939393939393939, 1.0, \"Jun Kuki\"], [0.5029940119760479, 0.46875, 0.5285714285714286, 0.0, \"Jurgen Fassbender\"], [0.5210084033613446, 0.527027027027027, 0.5098039215686274, 0.0, \"Jurgen Melzer\"], [0.16666666666666666, 0.3333333333333333, 0.5, 2.0, \"Justin Bower\"], [0.32, 0.4067796610169492, 0.3858695652173913, 2.0, \"Justin Gimelstob\"], [0.3333333333333333, 0.25, 0.3333333333333333, 1.0, \"Kamil Majchrzak\"], [0.6163934426229508, 0.4166666666666667, 0.49107142857142855, 0.0, \"Karel Novacek\"], [0.5714285714285714, 0.6666666666666666, 0.5345911949685535, 0.0, \"Karen Khachanov\"], [0.5313807531380753, 0.3333333333333333, 0.375, 1.0, \"Karim Alami\"], [0.545, 0.5416666666666666, 0.5625, 0.0, \"Karl Meiler\"], [0.09090909090909091, 0.4375, 0.36036036036036034, 2.0, \"Karol Beck\"], [0.475, 0.5967741935483871, 0.5515695067264574, 0.0, \"Karol Kucera\"], [0.3409090909090909, 0.44, 0.45454545454545453, 2.0, \"Karsten Braasch\"], [0.6879432624113475, 0.6060606060606061, 0.6750629722921915, 0.0, \"Kei Nishikori\"], [0.3333333333333333, 0.42857142857142855, 0.5, 2.0, \"Keith Diepraam\"], [0.42857142857142855, 0.5846153846153846, 0.46710526315789475, 0.0, \"Kelly Evernden\"], [0.8029197080291971, 0.7894736842105263, 0.7315789473684211, 0.0, \"Ken Rosewall\"], [0.11764705882352941, 0.1111111111111111, 0.2727272727272727, 1.0, \"Kenichi Hirai\"], [0.2909090909090909, 0.45588235294117646, 0.5062111801242236, 2.0, \"Kenneth Carlsen\"], [0.23076923076923078, 0.42857142857142855, 0.2926829268292683, 2.0, \"Kenny De Schepper\"], [0.5277777777777778, 0.5909090909090909, 0.6119402985074627, 0.0, \"Kevin Anderson\"], [0.3333333333333333, 0.6635514018691588, 0.56640625, 0.0, \"Kevin Curren\"], [0.2, 0.2222222222222222, 0.34615384615384615, 2.0, \"Kevin Kim\"], [0.51875, 0.5675675675675675, 0.45528455284552843, 0.0, \"Kim Warwick\"], [0.4887640449438202, 0.2222222222222222, 0.4318181818181818, 1.0, \"Kjell Johansson\"], [0.46808510638297873, 0.3333333333333333, 0.3076923076923077, 1.0, \"Klaus Eberhard\"], [0.4, 0.18181818181818182, 0.5, 1.0, \"Koji Watanabe\"], [0.5, 0.2, 0.2222222222222222, 1.0, \"Konstantin Kravchuk\"], [0.34615384615384615, 0.25, 0.40476190476190477, 1.0, \"Kristian Pless\"], [0.42857142857142855, 0.37037037037037035, 0.4222222222222222, 1.0, \"Kristof Vliegen\"], [0.49056603773584906, 0.3870967741935484, 0.5333333333333333, 0.0, \"Kyle Edmund\"], [0.375, 0.2608695652173913, 0.4473684210526316, 1.0, \"Larry Stefanki\"], [0.3125, 0.3076923076923077, 0.3923076923076923, 2.0, \"Lars Burgsmuller\"], [0.41025641025641024, 0.2222222222222222, 0.4027777777777778, 1.0, \"Lars Jonsson\"], [0.6338028169014085, 0.2, 0.21212121212121213, 1.0, \"Laslo Djere\"], [0.1, 0.5263157894736842, 0.38, 2.0, \"Laurence Tieleman\"], [0.42857142857142855, 0.6571428571428571, 0.40860215053763443, 0.0, \"Leander Paes\"], [0.4782608695652174, 0.3333333333333333, 0.3333333333333333, 1.0, \"Leif Johansson\"], [0.2727272727272727, 0.5, 0.30985915492957744, 2.0, \"Leif Shiras\"], [0.3, 0.2, 0.07692307692307693, 1.0, \"Lenny Schloss\"], [0.37209302325581395, 0.2, 0.3170731707317073, 1.0, \"Leo Palin\"], [0.4861111111111111, 0.15384615384615385, 0.4090909090909091, 1.0, \"Leonardo Lavalle\"], [0.5254237288135594, 0.45714285714285713, 0.4303030303030303, 0.0, \"Leonardo Mayer\"], [0.45, 0.5714285714285714, 0.5, 0.0, \"Lew Hoad\"], [0.3025210084033613, 0.2, 0.2, 1.0, \"Lito Alvarez\"], [0.6363636363636364, 0.7543859649122807, 0.7024482109227872, 0.0, \"Lleyton Hewitt\"], [0.45454545454545453, 0.5098039215686274, 0.38095238095238093, 2.0, \"Lloyd Bourne\"], [0.42424242424242425, 0.375, 0.3333333333333333, 1.0, \"Loic Courteau\"], [0.4772727272727273, 0.625, 0.3793103448275862, 0.0, \"Lorenzo Sonego\"], [0.3333333333333333, 0.14285714285714285, 0.18181818181818182, 1.0, \"Louis Gloria\"], [0.5555555555555556, 0.5806451612903226, 0.541095890410959, 0.0, \"Lucas Pouille\"], [0.47368421052631576, 0.36363636363636365, 0.6666666666666666, 0.0, \"Luis Ayala\"], [0.36666666666666664, 0.48, 0.3835616438356164, 2.0, \"Luis Herrera\"], [0.49390243902439024, 0.14285714285714285, 0.554140127388535, 1.0, \"Luiz Mattar\"], [0.35, 0.2857142857142857, 0.19047619047619047, 1.0, \"Lukas Dlouhy\"], [0.2, 0.4186046511627907, 0.41714285714285715, 2.0, \"Lukas Lacko\"], [0.5247524752475248, 0.4, 0.39375, 1.0, \"Lukas Rosol\"], [0.4742268041237113, 0.52, 0.36538461538461536, 2.0, \"Lukasz Kubot\"], [0.25, 0.25, 0.20689655172413793, 1.0, \"Luke Jensen\"], [0.3, 0.625, 0.35714285714285715, 2.0, \"Mackenzie McDonald\"], [0.649390243902439, 0.5, 0.546583850931677, 0.0, \"Magnus Gustafsson\"], [0.5699481865284974, 0.5581395348837209, 0.558252427184466, 0.0, \"Magnus Larsson\"], [0.6055555555555555, 0.4666666666666667, 0.5778894472361809, 0.0, \"Magnus Norman\"], [0.25, 0.375, 0.17647058823529413, 2.0, \"Mahesh Bhupathi\"], [0.35714285714285715, 0.5932203389830508, 0.6388888888888888, 0.0, \"Mal Anderson\"], [0.42592592592592593, 0.2962962962962963, 0.43243243243243246, 1.0, \"Malek Jaziri\"], [0.5657894736842105, 0.5531914893617021, 0.6016949152542372, 0.0, \"Malivai Washington\"], [0.7671232876712328, 0.5740740740740741, 0.5684210526315789, 0.0, \"Manuel Orantes\"], [0.7317073170731707, 0.6428571428571429, 0.5625, 0.0, \"Manuel Santana\"], [0.5960591133004927, 0.5777777777777777, 0.6033519553072626, 0.0, \"Marat Safin\"], [0.3333333333333333, 0.4074074074074074, 0.39622641509433965, 2.0, \"Marc Flur\"], [0.4406779661016949, 0.4230769230769231, 0.4215686274509804, 2.0, \"Marc Gicquel\"], [0.5117647058823529, 0.4594594594594595, 0.37373737373737376, 1.0, \"Marc Kevin Goellner\"], [0.425531914893617, 0.3333333333333333, 0.5, 1.0, \"Marc Lopez\"], [0.5042735042735043, 0.4745762711864407, 0.5436241610738255, 0.0, \"Marc Rosset\"], [0.38235294117647056, 0.35, 0.4027777777777778, 1.0, \"Marcel Freeman\"], [0.48130841121495327, 0.4473684210526316, 0.4129353233830846, 2.0, \"Marcel Granollers\"], [0.43, 0.2727272727272727, 0.358974358974359, 1.0, \"Marcello Lara\"], [0.688212927756654, 0.5, 0.6666666666666666, 0.0, \"Marcelo Rios\"], [0.45121951219512196, 0.25, 0.23255813953488372, 1.0, \"Marco Cecchinato\"], [0.25925925925925924, 0.4, 0.35294117647058826, 2.0, \"Marco Chiudinelli\"], [0.3448275862068966, 0.25, 0.23529411764705882, 1.0, \"Marcos Aurelio Gorriz\"], [0.4318181818181818, 0.5789473684210527, 0.5727699530516432, 0.0, \"Marcos Baghdatis\"], [0.3728813559322034, 0.14285714285714285, 0.041666666666666664, 1.0, \"Marcos Daniel\"], [0.48360655737704916, 0.5217391304347826, 0.4411764705882353, 0.0, \"Marcos Hocevar\"], [0.45, 0.43333333333333335, 0.46835443037974683, 2.0, \"Marcos Ondruska\"], [0.46153846153846156, 0.6388888888888888, 0.58994708994709, 0.0, \"Mardy Fish\"], [0.5193370165745856, 0.25, 0.3090909090909091, 1.0, \"Marian Vajda\"], [0.6188118811881188, 0.6868686868686869, 0.6497975708502024, 0.0, \"Marin Cilic\"], [0.2962962962962963, 0.4, 0.42857142857142855, 2.0, \"Marinko Matosevic\"], [0.5737704918032787, 0.7358490566037735, 0.578125, 0.0, \"Mario Ancic\"], [0.2702702702702703, 0.4, 0.4742268041237113, 2.0, \"Marius Copil\"], [0.5, 0.5, 0.6111111111111112, 0.0, \"Mark Bailey\"], [0.5620437956204379, 0.6153846153846154, 0.5670731707317073, 0.0, \"Mark Cox\"], [0.524390243902439, 0.5789473684210527, 0.5058823529411764, 0.0, \"Mark Dickson\"], [0.4421768707482993, 0.6374269005847953, 0.46788990825688076, 0.0, \"Mark Edmondson\"], [0.10526315789473684, 0.44, 0.14285714285714285, 2.0, \"Mark Farrell\"], [0.5, 0.42857142857142855, 0.2, 1.0, \"Mark Kaplan\"], [0.3333333333333333, 0.47058823529411764, 0.34285714285714286, 2.0, \"Mark Knowles\"], [0.5, 0.5, 0.43902439024390244, 0.0, \"Mark Koevermans\"], [0.1, 0.5102040816326531, 0.34177215189873417, 2.0, \"Mark Kratzmann\"], [0.36363636363636365, 0.37777777777777777, 0.25, 2.0, \"Mark Petchey\"], [0.5591397849462365, 0.6891891891891891, 0.5993377483443708, 0.0, \"Mark Philippoussis\"], [0.38738738738738737, 0.5368421052631579, 0.5359281437125748, 0.0, \"Mark Woodforde\"], [0.42105263157894735, 0.42857142857142855, 0.31343283582089554, 2.0, \"Marko Ostoja\"], [0.4444444444444444, 0.25, 0.3333333333333333, 1.0, \"Markus Hantschk\"], [0.509090909090909, 0.14285714285714285, 0.3076923076923077, 1.0, \"Markus Hipfl\"], [0.38235294117647056, 0.25, 0.38461538461538464, 1.0, \"Markus Naewie\"], [0.2222222222222222, 0.3125, 0.44554455445544555, 2.0, \"Markus Zoecke\"], [0.25, 0.3333333333333333, 0.39215686274509803, 2.0, \"Marsel Ilhan\"], [0.17647058823529413, 0.46938775510204084, 0.41304347826086957, 2.0, \"Martin Damm\"], [0.08333333333333333, 0.25, 0.3333333333333333, 2.0, \"Martin Fischer\"], [0.6637931034482759, 0.4444444444444444, 0.5543478260869565, 0.0, \"Martin Jaite\"], [0.553030303030303, 0.23529411764705882, 0.44666666666666666, 1.0, \"Martin Klizan\"], [0.2, 0.39473684210526316, 0.1875, 2.0, \"Martin Lee\"], [0.632, 0.25, 0.3684210526315789, 1.0, \"Martin Mulligan\"], [0.29411764705882354, 0.14285714285714285, 0.5, 1.0, \"Martin Robinson\"], [0.3170731707317073, 0.14285714285714285, 0.4166666666666667, 1.0, \"Martin Sinner\"], [0.43617021276595747, 0.2857142857142857, 0.14814814814814814, 1.0, \"Martin Vassallo Arguello\"], [0.5079365079365079, 0.3333333333333333, 0.38636363636363635, 1.0, \"Martin Verkerk\"], [0.39436619718309857, 0.42857142857142855, 0.3584905660377358, 2.0, \"Martin Wostenholme\"], [0.5555555555555556, 0.3076923076923077, 0.4946236559139785, 1.0, \"Marton Fucsovics\"], [0.3953488372093023, 0.5263157894736842, 0.49101796407185627, 2.0, \"Marty Davis\"], [0.6527777777777778, 0.6213592233009708, 0.5833333333333334, 0.0, \"Marty Riessen\"], [0.35294117647058826, 0.3333333333333333, 0.45454545454545453, 2.0, \"Marzio Martelli\"], [0.47058823529411764, 0.3333333333333333, 0.3333333333333333, 1.0, \"Massimiliano Narducci\"], [0.7667638483965015, 0.7424242424242424, 0.7153846153846154, 0.0, \"Mats Wilander\"], [0.36363636363636365, 0.5306122448979592, 0.42990654205607476, 2.0, \"Matt Anger\"], [0.32, 0.4166666666666667, 0.4875, 2.0, \"Matt Doyle\"], [0.2631578947368421, 0.38636363636363635, 0.39705882352941174, 2.0, \"Matt Mitchell\"], [0.6666666666666666, 0.7222222222222222, 0.4838709677419355, 0.0, \"Matteo Berrettini\"], [0.5, 0.5, 0.5, 0.0, \"Matthew Barton\"], [0.07142857142857142, 0.4444444444444444, 0.38235294117647056, 2.0, \"Matthew Ebden\"], [0.36666666666666664, 0.2222222222222222, 0.391304347826087, 1.0, \"Matthias Bachinger\"], [0.4230769230769231, 0.25, 0.4423076923076923, 1.0, \"Maurice Ruah\"], [0.40594059405940597, 0.5357142857142857, 0.5097276264591439, 0.0, \"Max Mirnyi\"], [0.4, 0.14285714285714285, 0.3125, 1.0, \"Maximilian Marterer\"], [0.577922077922078, 0.47058823529411764, 0.5606060606060606, 0.0, \"Mel Purcell\"], [0.4, 0.5, 0.25, 2.0, \"Melle Van Gemerden\"], [0.41935483870967744, 0.4, 0.47619047619047616, 2.0, \"Menno Oosting\"], [0.2978723404255319, 0.2916666666666667, 0.4125, 2.0, \"Michael Berrer\"], [0.6445783132530121, 0.5454545454545454, 0.7044673539518901, 0.0, \"Michael Chang\"], [0.16666666666666666, 0.4375, 0.45121951219512196, 2.0, \"Michael Joyce\"], [0.42857142857142855, 0.35714285714285715, 0.24, 1.0, \"Michael Kohlmann\"], [0.3333333333333333, 0.5945945945945946, 0.4538152610441767, 2.0, \"Michael Llodra\"], [0.25, 0.25, 0.3902439024390244, 1.0, \"Michael Robertson\"], [0.2553191489361702, 0.30303030303030304, 0.3741496598639456, 2.0, \"Michael Russell\"], [0.6687898089171974, 0.782051282051282, 0.6630434782608695, 0.0, \"Michael Stich\"], [0.4, 0.26666666666666666, 0.45555555555555555, 1.0, \"Michael Tebbutt\"], [0.3333333333333333, 0.2857142857142857, 0.25, 1.0, \"Michael Wayman\"], [0.45652173913043476, 0.25, 0.45454545454545453, 1.0, \"Michael Westphal\"], [0.4166666666666667, 0.2857142857142857, 0.5, 1.0, \"Michal Mertinak\"], [0.20689655172413793, 0.3333333333333333, 0.2807017543859649, 2.0, \"Michal Przysiezny\"], [0.3829787234042553, 0.5238095238095238, 0.43820224719101125, 2.0, \"Michel Kratochvil\"], [0.37142857142857144, 0.559322033898305, 0.4866666666666667, 2.0, \"Michiel Schapers\"], [0.4117647058823529, 0.5, 0.8, 0.0, \"Miguel Olvera\"], [0.475, 0.6666666666666666, 0.6097560975609756, 0.0, \"Mikael Pernfors\"], [0.4696969696969697, 0.2727272727272727, 0.5416666666666666, 1.0, \"Mikael Tillstrom\"], [0.13333333333333333, 0.5660377358490566, 0.3333333333333333, 2.0, \"Mike Bauer\"], [0.6470588235294118, 0.5, 0.4482758620689655, 0.0, \"Mike Belkin\"], [0.4, 0.4, 0.375, 2.0, \"Mike Brunnberg\"], [0.4583333333333333, 0.4375, 0.46835443037974683, 2.0, \"Mike De Palmer\"], [0.21666666666666667, 0.532258064516129, 0.45555555555555555, 2.0, \"Mike Estep\"], [0.42857142857142855, 0.38461538461538464, 0.3582089552238806, 1.0, \"Mike Leach\"], [0.07692307692307693, 0.34285714285714286, 0.30952380952380953, 2.0, \"Mike Machette\"], [0.37894736842105264, 0.39473684210526316, 0.47478991596638653, 2.0, \"Mikhail Kukushkin\"], [0.5114503816793893, 0.5648148148148148, 0.5436105476673428, 0.0, \"Mikhail Youzhny\"], [0.41964285714285715, 0.4411764705882353, 0.4358974358974359, 2.0, \"Milan Holecek\"], [0.4430379746835443, 0.4375, 0.5102040816326531, 2.0, \"Milan Srejber\"], [0.6310679611650486, 0.6805555555555556, 0.6827956989247311, 0.0, \"Milos Raonic\"], [0.6666666666666666, 0.6666666666666666, 0.7403846153846154, 0.0, \"Miloslav Mecir\"], [0.5454545454545454, 0.6, 0.5192307692307693, 0.0, \"Miomir Kecmanovic\"], [0.35294117647058826, 0.3333333333333333, 0.5, 2.0, \"Mirza Basic\"], [0.31645569620253167, 0.5, 0.40932642487046633, 2.0, \"Mischa Zverev\"], [0.2, 0.5, 0.3333333333333333, 2.0, \"Modesto Tito Vazquez\"], [0.3, 0.5, 0.25, 2.0, \"Mohamed Safwat\"], [0.75, 0.875, 0.2222222222222222, 0.0, \"Muhammad Khaliq Siddiq\"], [0.4482758620689655, 0.5081967213114754, 0.38613861386138615, 2.0, \"Nduka Odizor\"], [0.4, 0.36363636363636365, 0.5, 2.0, \"Neale Fraser\"], [0.2727272727272727, 0.25, 0.4375, 1.0, \"Nelson Aerts\"], [0.4222222222222222, 0.45, 0.4166666666666667, 2.0, \"Nicholas Kalogeropoulos\"], [0.5777777777777777, 0.6111111111111112, 0.6589595375722543, 0.0, \"Nick Kyrgios\"], [0.390625, 0.4918032786885246, 0.474025974025974, 2.0, \"Nick Saviano\"], [0.35294117647058826, 0.36363636363636365, 0.5098039215686274, 2.0, \"Nicklas Kroon\"], [0.4649122807017544, 0.5357142857142857, 0.421875, 0.0, \"Nicklas Kulti\"], [0.6140350877192983, 0.2222222222222222, 0.625, 1.0, \"Nicola Pietrangeli\"], [0.375, 0.15789473684210525, 0.42424242424242425, 1.0, \"Nicola Spear\"], [0.6565420560747663, 0.4666666666666667, 0.4744186046511628, 0.0, \"Nicolas Almagro\"], [0.38636363636363635, 0.3333333333333333, 0.23809523809523808, 1.0, \"Nicolas Devilder\"], [0.41509433962264153, 0.6216216216216216, 0.6111111111111112, 0.0, \"Nicolas Escude\"], [0.6065573770491803, 0.4, 0.2972972972972973, 1.0, \"Nicolas Jarry\"], [0.44715447154471544, 0.5945945945945946, 0.6037234042553191, 0.0, \"Nicolas Kiefer\"], [0.5617283950617284, 0.36666666666666664, 0.4890829694323144, 1.0, \"Nicolas Lapentti\"], [0.30357142857142855, 0.6203703703703703, 0.40789473684210525, 2.0, \"Nicolas Mahut\"], [0.5765124555160143, 0.3333333333333333, 0.4540229885057471, 1.0, \"Nicolas Massu\"], [0.39655172413793105, 0.3793103448275862, 0.4017857142857143, 2.0, \"Nicolas Pereira\"], [0.14285714285714285, 0.3333333333333333, 0.42105263157894735, 2.0, \"Nicolas Thomann\"], [0.5449438202247191, 0.6973684210526315, 0.5526315789473685, 0.0, \"Nikola Pilic\"], [0.6065573770491803, 0.3333333333333333, 0.5862068965517241, 0.0, \"Nikolay Davydenko\"], [0.47619047619047616, 0.3684210526315789, 0.4672131147540984, 1.0, \"Nikoloz Basilashvili\"], [0.4, 0.3333333333333333, 0.39436619718309857, 1.0, \"Noam Okun\"], [0.3220338983050847, 0.5, 0.2, 2.0, \"Norman Holmes\"], [0.8041958041958042, 0.8407079646017699, 0.8429752066115702, 0.0, \"Novak Djokovic\"], [0.3684210526315789, 0.16666666666666666, 0.40540540540540543, 1.0, \"Nuno Marques\"], [0.5, 0.4, 0.4838709677419355, 1.0, \"Oleg Ogorodov\"], [0.2727272727272727, 0.42105263157894735, 0.45394736842105265, 2.0, \"Olivier Delaitre\"], [0.4634146341463415, 0.4, 0.17647058823529413, 1.0, \"Olivier Mutis\"], [0.3584905660377358, 0.5, 0.21052631578947367, 2.0, \"Olivier Patience\"], [0.3935483870967742, 0.5308641975308642, 0.47619047619047616, 2.0, \"Olivier Rochus\"], [0.625, 0.25, 0.38095238095238093, 1.0, \"Olli Rahnasto\"], [0.461038961038961, 0.38461538461538464, 0.5263157894736842, 1.0, \"Omar Camporese\"], [0.5714285714285714, 0.16666666666666666, 0.75, 1.0, \"Omer Rashid\"], [0.5166051660516605, 0.6027397260273972, 0.5341614906832298, 0.0, \"Onny Parun\"], [0.3023255813953488, 0.16666666666666666, 0.21052631578947367, 1.0, \"Orlin Stanoytchev\"], [0.4125874125874126, 0.1, 0.13513513513513514, 1.0, \"Oscar Hernandez\"], [0.31666666666666665, 0.4634146341463415, 0.4368932038834951, 2.0, \"Ove Nils Bengtson\"], [0.375, 0.6153846153846154, 0.375, 2.0, \"Owen Davidson\"], [0.5097087378640777, 0.11764705882352941, 0.28125, 1.0, \"Pablo Andujar\"], [0.5375, 0.2, 0.5608465608465608, 1.0, \"Pablo Carreno Busta\"], [0.6007462686567164, 0.4117647058823529, 0.40540540540540543, 1.0, \"Pablo Cuevas\"], [0.41935483870967744, 0.23076923076923078, 0.5, 1.0, \"Pancho Guzman\"], [0.5, 0.5, 0.3, 2.0, \"Pancho Segura\"], [0.25, 0.36363636363636365, 0.3333333333333333, 2.0, \"Pancho Walthall\"], [0.6136363636363636, 0.375, 0.35714285714285715, 1.0, \"Paolo Bertolucci\"], [0.5310734463276836, 0.25, 0.5106382978723404, 1.0, \"Paolo Cane\"], [0.4195804195804196, 0.2, 0.36, 1.0, \"Paolo Lorenzi\"], [0.2553191489361702, 0.5555555555555556, 0.6049382716049383, 2.0, \"Paradorn Srichaphan\"], [0.4065934065934066, 0.3333333333333333, 0.5135135135135135, 1.0, \"Pascal Portes\"], [0.4, 0.7279411764705882, 0.5793650793650794, 0.0, \"Pat Cash\"], [0.22448979591836735, 0.36363636363636365, 0.44, 2.0, \"Pat Cramer\"], [0.46296296296296297, 0.4791666666666667, 0.5081967213114754, 0.0, \"Pat Dupre\"], [0.5026455026455027, 0.6122448979591837, 0.4745762711864407, 0.0, \"Patrice Dominguez\"], [0.44776119402985076, 0.35, 0.2777777777777778, 1.0, \"Patricio Cornejo\"], [0.2972972972972973, 0.3333333333333333, 0.42857142857142855, 2.0, \"Patrick Baur\"], [0.423728813559322, 0.2727272727272727, 0.6666666666666666, 1.0, \"Patrick Hombergen\"], [0.37142857142857144, 0.4, 0.5, 2.0, \"Patrick McEnroe\"], [0.5652173913043478, 0.5, 0.44680851063829785, 0.0, \"Patrick Proisy\"], [0.5142857142857142, 0.7474747474747475, 0.664576802507837, 0.0, \"Patrick Rafter\"], [0.391304347826087, 0.4523809523809524, 0.46218487394957986, 2.0, \"Patrik Kuhnen\"], [0.4666666666666667, 0.6190476190476191, 0.47580645161290325, 0.0, \"Paul Annacone\"], [0.39622641509433965, 0.3, 0.38095238095238093, 1.0, \"Paul Capdeville\"], [0.4625, 0.47058823529411764, 0.5217391304347826, 0.0, \"Paul Gerken\"], [0.4, 0.5, 0.4189189189189189, 2.0, \"Paul Goldstein\"], [0.46099290780141844, 0.5283018867924528, 0.5302325581395348, 0.0, \"Paul Haarhuis\"], [0.4864864864864865, 0.4074074074074074, 0.4618181818181818, 1.0, \"Paul Henri Mathieu\"], [0.37209302325581395, 0.43859649122807015, 0.36363636363636365, 2.0, \"Paul Kronk\"], [0.5045045045045045, 0.5636363636363636, 0.47297297297297297, 0.0, \"Paul Mcnamee\"], [0.46153846153846156, 0.16666666666666666, 0.4186046511627907, 1.0, \"Paul Wekesa\"], [0.625, 0.8360655737704918, 0.8014981273408239, 0.0, \"Pete Sampras\"], [0.2222222222222222, 0.42857142857142855, 0.2857142857142857, 2.0, \"Peter Carlsson\"], [0.16666666666666666, 0.42857142857142855, 0.3333333333333333, 2.0, \"Peter Curtis\"], [0.3, 0.5205479452054794, 0.17777777777777778, 2.0, \"Peter Doohan\"], [0.461038961038961, 0.3333333333333333, 0.35135135135135137, 1.0, \"Peter Elter\"], [0.5119047619047619, 0.49019607843137253, 0.5294117647058824, 0.0, \"Peter Feigl\"], [0.38596491228070173, 0.4, 0.5497076023391813, 2.0, \"Peter Fleming\"], [0.3333333333333333, 0.4444444444444444, 0.4631578947368421, 2.0, \"Peter Gojowczyk\"], [0.5, 0.125, 0.16666666666666666, 1.0, \"Peter Johnston\"], [0.3333333333333333, 0.42857142857142855, 0.6666666666666666, 2.0, \"Peter Kanderal\"], [0.27419354838709675, 0.4444444444444444, 0.3389830508474576, 2.0, \"Peter Luczak\"], [0.05263157894736842, 0.5, 0.525974025974026, 2.0, \"Peter Lundgren\"], [0.6502732240437158, 0.43859649122807015, 0.5128205128205128, 0.0, \"Peter Mcnamara\"], [0.5454545454545454, 0.5641025641025641, 0.3333333333333333, 0.0, \"Peter Rennert\"], [0.2222222222222222, 0.5625, 0.423728813559322, 2.0, \"Peter Wessels\"], [0.5769230769230769, 0.6521739130434783, 0.6305970149253731, 0.0, \"Petr Korda\"], [0.5333333333333333, 0.6495327102803738, 0.5153374233128835, 0.0, \"Phil Dent\"], [0.5619047619047619, 0.5979381443298969, 0.5331807780320366, 0.0, \"Philipp Kohlschreiber\"], [0.37209302325581395, 0.525, 0.46017699115044247, 2.0, \"Philipp Petzschner\"], [0.5645161290322581, 0.5576923076923077, 0.48148148148148145, 0.0, \"Pierre Barthes\"], [0.45454545454545453, 0.5, 0.4351145038167939, 2.0, \"Pierre Hugues Herbert\"], [0.5286885245901639, 0.08333333333333333, 0.3111111111111111, 1.0, \"Potito Starace\"], [0.5489130434782609, 0.589041095890411, 0.5555555555555556, 0.0, \"Radek Stepanek\"], [0.2962962962962963, 0.3333333333333333, 0.5, 2.0, \"Radomir Vasek\"], [0.43137254901960786, 0.5, 0.41228070175438597, 2.0, \"Radu Albot\"], [0.3870967741935484, 0.46938775510204084, 0.3953488372093023, 2.0, \"Raemon Sluiter\"], [0.9144602851323829, 0.7802197802197802, 0.7765451664025357, 0.0, \"Rafael Nadal\"], [0.39263803680981596, 0.5555555555555556, 0.5253333333333333, 0.0, \"Rainer Schuettler\"], [0.36363636363636365, 0.5428571428571428, 0.3238095238095238, 2.0, \"Rajeev Ram\"], [0.42857142857142855, 0.3333333333333333, 0.5, 1.0, \"Ramanathan Krishnan\"], [0.39285714285714285, 0.5480769230769231, 0.5704918032786885, 0.0, \"Ramesh Krishnan\"], [0.6265060240963856, 0.18181818181818182, 0.42857142857142855, 1.0, \"Ramon Delgado\"], [0.7267080745341615, 0.6533333333333333, 0.6604477611940298, 0.0, \"Raul Ramirez\"], [0.3333333333333333, 0.375, 0.3333333333333333, 2.0, \"Rauty Krog\"], [0.2857142857142857, 0.40384615384615385, 0.2413793103448276, 2.0, \"Ray Keldie\"], [0.5357142857142857, 0.5785123966942148, 0.4742268041237113, 0.0, \"Ray Ruffels\"], [0.44086021505376344, 0.4948453608247423, 0.5308641975308642, 0.0, \"Raymond Moore\"], [0.2, 0.3333333333333333, 0.14285714285714285, 2.0, \"Rayno Seegers\"], [0.3617021276595745, 0.42857142857142855, 0.25, 2.0, \"Razvan Sabau\"], [0.18181818181818182, 0.4, 0.5584415584415584, 2.0, \"Reilly Opelka\"], [0.49814126394052044, 0.3333333333333333, 0.44715447154471544, 1.0, \"Renzo Furlan\"], [0.27586206896551724, 0.21052631578947367, 0.5222222222222223, 1.0, \"Ricardas Berankis\"], [0.3230769230769231, 0.5238095238095238, 0.38095238095238093, 2.0, \"Ricardo Acuna\"], [0.45614035087719296, 0.1111111111111111, 0.39285714285714285, 1.0, \"Ricardo Mello\"], [0.48344370860927155, 0.2, 0.1, 1.0, \"Ricardo Ycaza\"], [0.5058365758754864, 0.4473684210526316, 0.47685185185185186, 0.0, \"Richard Fromberg\"], [0.6147186147186147, 0.6666666666666666, 0.6172607879924953, 0.0, \"Richard Gasquet\"], [0.5984848484848485, 0.7078651685393258, 0.6666666666666666, 0.0, \"Richard Krajicek\"], [0.2830188679245283, 0.4084507042253521, 0.47368421052631576, 2.0, \"Richard Lewis\"], [0.25, 0.375, 0.4146341463414634, 2.0, \"Richard Matuszewski\"], [0.28, 0.4090909090909091, 0.2903225806451613, 2.0, \"Richard Meyer\"], [0.631578947368421, 0.6595744680851063, 0.7763157894736842, 0.0, \"Richard Pancho Gonzales\"], [0.2, 0.5, 0.42857142857142855, 2.0, \"Richard Russell\"], [0.5111111111111111, 0.5735294117647058, 0.5512820512820513, 0.0, \"Richey Reneberg\"], [0.23076923076923078, 0.36, 0.3, 2.0, \"Rick Fisher\"], [0.2222222222222222, 0.2727272727272727, 0.42424242424242425, 2.0, \"Rik De Voest\"], [0.09090909090909091, 0.4166666666666667, 0.38823529411764707, 2.0, \"Robbie Weiss\"], [0.2857142857142857, 0.48, 0.5143884892086331, 2.0, \"Robby Ginepri\"], [0.16666666666666666, 0.2222222222222222, 0.3493975903614458, 2.0, \"Robert Kendrick\"], [0.17647058823529413, 0.16666666666666666, 0.32142857142857145, 1.0, \"Robert Kreiss\"], [0.5363636363636364, 0.6407766990291263, 0.6016260162601627, 0.0, \"Robert Lutz\"], [0.325, 0.4, 0.4, 2.0, \"Robert Machan\"], [0.4745762711864407, 0.48717948717948717, 0.39655172413793105, 2.0, \"Robert Maud\"], [0.13333333333333333, 0.5384615384615384, 0.46153846153846156, 2.0, \"Robert Mckinley\"], [0.23076923076923078, 0.5405405405405406, 0.5094339622641509, 2.0, \"Robert Seguso\"], [0.3333333333333333, 0.25, 0.46153846153846156, 1.0, \"Robert Trogolo\"], [0.3333333333333333, 0.36363636363636365, 0.5106382978723404, 2.0, \"Robert Vant Hof\"], [0.59375, 0.7111111111111111, 0.6352201257861635, 0.0, \"Roberto Bautista Agut\"], [0.5, 0.16666666666666666, 0.375, 1.0, \"Roberto Carballes Baena\"], [0.4, 0.3333333333333333, 0.25, 1.0, \"Roberto Saad\"], [0.3404255319148936, 0.25, 0.3333333333333333, 1.0, \"Robin Drysdale\"], [0.5058139534883721, 0.4, 0.44150943396226416, 1.0, \"Robin Haase\"], [0.6231884057971014, 0.6046511627906976, 0.6446886446886447, 0.0, \"Robin Soderling\"], [0.391304347826087, 0.2, 0.2857142857142857, 1.0, \"Robin Vik\"], [0.375, 0.5319148936170213, 0.42105263157894735, 2.0, \"Rod Frawley\"], [0.7769230769230769, 0.84375, 0.8296703296703297, 0.0, \"Rod Laver\"], [0.3888888888888889, 0.42105263157894735, 0.5277777777777778, 2.0, \"Rodney Harmon\"], [0.375, 0.18181818181818182, 0.38461538461538464, 1.0, \"Rodolphe Gilbert\"], [0.2727272727272727, 0.25, 0.2857142857142857, 1.0, \"Roger Dowdeswell\"], [0.7593220338983051, 0.875, 0.8326271186440678, 0.0, \"Roger Federer\"], [0.3181818181818182, 0.4444444444444444, 0.4266666666666667, 2.0, \"Roger Smith\"], [0.5641025641025641, 0.6290322580645161, 0.5669291338582677, 0.0, \"Roger Taylor\"], [0.5, 0.5, 0.6, 0.0, \"Rohan De Silva\"], [0.16666666666666666, 0.3333333333333333, 0.25806451612903225, 2.0, \"Roko Karanusic\"], [0.4876543209876543, 0.4782608695652174, 0.4074074074074074, 2.0, \"Rolf Gehring\"], [0.20930232558139536, 0.2857142857142857, 0.23529411764705882, 2.0, \"Rolf Thung\"], [0.4166666666666667, 0.4583333333333333, 0.29411764705882354, 2.0, \"Ron Holmberg\"], [0.5232974910394266, 0.3333333333333333, 0.37398373983739835, 1.0, \"Ronald Agenor\"], [0.21052631578947367, 0.25, 0.3, 2.0, \"Ronnie Bathman\"], [0.6298701298701299, 0.7341772151898734, 0.6750788643533123, 0.0, \"Roscoe Tanner\"], [0.47540983606557374, 0.5611510791366906, 0.5, 0.0, \"Ross Case\"], [0.1724137931034483, 0.43243243243243246, 0.21818181818181817, 2.0, \"Roy Barth\"], [0.6493506493506493, 0.6779661016949152, 0.5816326530612245, 0.0, \"Roy Emerson\"], [0.3333333333333333, 0.3, 0.3333333333333333, 1.0, \"Ruben Bemelmans\"], [0.28846153846153844, 0.47863247863247865, 0.4444444444444444, 2.0, \"Russell Simpson\"], [0.35714285714285715, 0.35135135135135137, 0.4623115577889447, 2.0, \"Ryan Harrison\"], [0.5333333333333333, 0.3, 0.3582089552238806, 1.0, \"Ryan Sweeting\"], [0.2, 0.5357142857142857, 0.3333333333333333, 2.0, \"Sam Groth\"], [0.4473684210526316, 0.6415094339622641, 0.5619469026548672, 0.0, \"Sam Querrey\"], [0.43103448275862066, 0.5370370370370371, 0.5225806451612903, 0.0, \"Sammy Giammalva Jr\"], [0.4, 0.5714285714285714, 0.4264705882352941, 2.0, \"Sandon Stolle\"], [0.6, 0.627906976744186, 0.6460674157303371, 0.0, \"Sandy Mayer\"], [0.5082872928176796, 0.45161290322580644, 0.3860759493670886, 1.0, \"Santiago Giraldo\"], [0.4326923076923077, 0.4827586206896552, 0.39766081871345027, 2.0, \"Sargis Sargsian\"], [0.19047619047619047, 0.5, 0.3333333333333333, 2.0, \"Sasa Hirszon\"], [0.3865546218487395, 0.2765957446808511, 0.32894736842105265, 1.0, \"Sashi Menon\"], [0.14285714285714285, 0.3333333333333333, 0.4, 2.0, \"Schalk Van Der Merwe\"], [0.5, 0.2222222222222222, 0.25, 1.0, \"Scott Carnahan\"], [0.23529411764705882, 0.5084745762711864, 0.5466101694915254, 2.0, \"Scott Davis\"], [0.34146341463414637, 0.4888888888888889, 0.47794117647058826, 2.0, \"Scott Draper\"], [0.25, 0.2962962962962963, 0.3448275862068966, 2.0, \"Scott Mccain\"], [0.4, 0.5, 0.21428571428571427, 2.0, \"Scoville Jenkins\"], [0.35, 0.5, 0.47058823529411764, 2.0, \"Sean Sorensen\"], [0.5827814569536424, 0.6533333333333333, 0.5635179153094463, 0.0, \"Sebastien Grosjean\"], [0.15, 0.3870967741935484, 0.4407894736842105, 2.0, \"Sebastien Lareau\"], [0.5, 0.5, 0.47058823529411764, 0.0, \"Selvam Veerasingam\"], [0.25, 0.3333333333333333, 0.5, 2.0, \"Sergei Bubka\"], [0.6867749419953596, 0.5, 0.5536723163841808, 0.0, \"Sergi Bruguera\"], [0.4581005586592179, 0.16666666666666666, 0.46808510638297873, 1.0, \"Sergio Casal\"], [0.3548387096774194, 0.16666666666666666, 0.1111111111111111, 1.0, \"Sergio Roitman\"], [0.375, 0.48148148148148145, 0.4649122807017544, 2.0, \"Sergiy Stakhovsky\"], [0.3684210526315789, 0.46153846153846156, 0.47692307692307695, 2.0, \"Shahar Perkiss\"], [0.4117647058823529, 0.45901639344262296, 0.42727272727272725, 2.0, \"Sherwood Stewart\"], [0.5612244897959183, 0.475, 0.5987261146496815, 0.0, \"Shlomo Glickstein\"], [0.3076923076923077, 0.5581395348837209, 0.4845360824742268, 2.0, \"Shuzo Matsuoka\"], [0.38461538461538464, 0.3333333333333333, 0.37735849056603776, 1.0, \"Simon Greul\"], [0.23333333333333334, 0.40350877192982454, 0.4409448818897638, 2.0, \"Simon Youl\"], [0.4745762711864407, 0.5, 0.36231884057971014, 2.0, \"Simone Bolelli\"], [0.4411764705882353, 0.2, 0.16666666666666666, 1.0, \"Simone Colombo\"], [0.4642857142857143, 0.6103896103896104, 0.527972027972028, 0.0, \"Sjeng Schalken\"], [0.5610687022900763, 0.3333333333333333, 0.42696629213483145, 1.0, \"Slava Dosedel\"], [0.5, 0.6470588235294118, 0.5126050420168067, 0.0, \"Slobodan Zivojinovic\"], [0.2857142857142857, 0.25, 0.4818181818181818, 1.0, \"Somdev Devvarman\"], [0.3333333333333333, 0.6, 0.6666666666666666, 0.0, \"Srinivasan Vasudevan\"], [0.6909090909090909, 0.7469879518072289, 0.7064220183486238, 0.0, \"Stan Smith\"], [0.6630824372759857, 0.5, 0.6376811594202898, 0.0, \"Stan Wawrinka\"], [0.3263157894736842, 0.375, 0.3684210526315789, 2.0, \"Stanislav Birner\"], [0.6766169154228856, 0.7857142857142857, 0.7865853658536586, 0.0, \"Stefan Edberg\"], [0.5, 0.2962962962962963, 0.44545454545454544, 1.0, \"Stefan Koubek\"], [0.463768115942029, 0.5, 0.41818181818181815, 2.0, \"Stefan Simonsson\"], [0.32142857142857145, 0.42857142857142855, 0.25, 2.0, \"Stefano Galvani\"], [0.4036697247706422, 0.3333333333333333, 0.4608695652173913, 1.0, \"Stefano Pescosolido\"], [0.7037037037037037, 0.5333333333333333, 0.624113475177305, 0.0, \"Stefanos Tsitsipas\"], [0.3684210526315789, 0.2857142857142857, 0.22727272727272727, 1.0, \"Stephane Huet\"], [0.30952380952380953, 0.3333333333333333, 0.3559322033898305, 2.0, \"Stephane Robert\"], [0.26666666666666666, 0.48, 0.359375, 2.0, \"Stephane Simian\"], [0.3333333333333333, 0.2, 0.3670886075949367, 1.0, \"Steve Bryan\"], [0.42857142857142855, 0.375, 0.36538461538461536, 1.0, \"Steve Campbell\"], [0.4666666666666667, 0.45714285714285713, 0.46099290780141844, 2.0, \"Steve Darcis\"], [0.36363636363636365, 0.5416666666666666, 0.5060240963855421, 2.0, \"Steve Denton\"], [0.2857142857142857, 0.42424242424242425, 0.4107142857142857, 2.0, \"Steve Docherty\"], [0.25, 0.2222222222222222, 0.4117647058823529, 1.0, \"Steve Faulk\"], [0.4915254237288136, 0.5614035087719298, 0.4888888888888889, 0.0, \"Steve Johnson\"], [0.3904109589041096, 0.375, 0.4157303370786517, 2.0, \"Steve Krulevitz\"], [0.3684210526315789, 0.375, 0.3404255319148936, 2.0, \"Steve Meister\"], [0.3181818181818182, 0.3225806451612903, 0.47058823529411764, 2.0, \"Steve Shaw\"], [0.24324324324324326, 0.3333333333333333, 0.15384615384615385, 2.0, \"Steve Turner\"], [0.25, 0.45614035087719296, 0.3018867924528302, 2.0, \"Syd Ball\"], [0.4057971014492754, 0.5789473684210527, 0.36363636363636365, 2.0, \"Szabolcz Baranyi\"], [0.6, 0.16666666666666666, 0.47761194029850745, 1.0, \"Takao Suzuki\"], [0.44554455445544555, 0.2, 0.3877551020408163, 1.0, \"Tarik Benhabiles\"], [0.3076923076923077, 0.4, 0.3283582089552239, 2.0, \"Tatsuma Ito\"], [0.25, 0.5576923076923077, 0.5280373831775701, 2.0, \"Taylor Dent\"], [0.5151515151515151, 0.43478260869565216, 0.5, 0.0, \"Taylor Fritz\"], [0.4444444444444444, 0.5217391304347826, 0.375, 2.0, \"Teimuraz Kakoulia\"], [0.20408163265306123, 0.2857142857142857, 0.30303030303030304, 2.0, \"Tenny Svensson\"], [0.32, 0.5, 0.43333333333333335, 2.0, \"Tennys Sandgren\"], [0.2857142857142857, 0.5172413793103449, 0.2631578947368421, 2.0, \"Terry Addison\"], [0.5697674418604651, 0.48148148148148145, 0.5220588235294118, 0.0, \"Terry Moor\"], [0.2916666666666667, 0.3235294117647059, 0.4838709677419355, 2.0, \"Terry Rocavert\"], [0.325, 0.4864864864864865, 0.34615384615384615, 2.0, \"Terry Ryan\"], [0.3904761904761905, 0.2608695652173913, 0.36363636363636365, 1.0, \"Teymuraz Gabashvili\"], [0.25, 0.3333333333333333, 0.41509433962264153, 2.0, \"Thanasi Kokkinakis\"], [0.1, 0.4, 0.21052631578947367, 2.0, \"Thiago Alves\"], [0.49295774647887325, 0.3333333333333333, 0.1935483870967742, 1.0, \"Thiago Monteiro\"], [0.48333333333333334, 0.3888888888888889, 0.4, 1.0, \"Thiemo De Bakker\"], [0.1111111111111111, 0.2857142857142857, 0.75, 2.0, \"Thierry Bernasconi\"], [0.4027777777777778, 0.4782608695652174, 0.359375, 2.0, \"Thierry Champion\"], [0.5627009646302251, 0.2, 0.42045454545454547, 1.0, \"Thierry Tulasne\"], [0.4793388429752066, 0.4878048780487805, 0.6397379912663755, 0.0, \"Thomas Enqvist\"], [0.25, 0.5714285714285714, 0.2708333333333333, 2.0, \"Thomas Fabbiano\"], [0.2727272727272727, 0.18181818181818182, 0.36153846153846153, 1.0, \"Thomas Hogstedt\"], [0.35514018691588783, 0.6153846153846154, 0.5623268698060941, 0.0, \"Thomas Johansson\"], [0.7661870503597122, 0.4444444444444444, 0.6371308016877637, 0.0, \"Thomas Muster\"], [0.5565217391304348, 0.3333333333333333, 0.40350877192982454, 1.0, \"Thomaz Bellucci\"], [0.5757575757575758, 0.3235294117647059, 0.5, 1.0, \"Thomaz Koch\"], [0.46153846153846156, 0.6422018348623854, 0.5681818181818182, 0.0, \"Tim Gullikson\"], [0.5294117647058824, 0.7142857142857143, 0.6517647058823529, 0.0, \"Tim Henman\"], [0.2962962962962963, 0.7086614173228346, 0.6064814814814815, 0.0, \"Tim Mayotte\"], [0.25, 0.3333333333333333, 0.3469387755102041, 2.0, \"Tim Smyczek\"], [0.4657534246575342, 0.5447761194029851, 0.5315985130111525, 0.0, \"Tim Wilkison\"], [0.4, 0.5, 0.5, 2.0, \"Tito Vazquez\"], [0.36363636363636365, 0.4583333333333333, 0.3673469387755102, 2.0, \"Tobias Kamke\"], [0.25, 0.3333333333333333, 0.1, 2.0, \"Todd Larkham\"], [0.5775862068965517, 0.7093023255813954, 0.6462395543175488, 0.0, \"Todd Martin\"], [0.3, 0.34615384615384615, 0.3235294117647059, 2.0, \"Todd Nelson\"], [0.3541666666666667, 0.3, 0.5126582278481012, 1.0, \"Todd Witsken\"], [0.3728813559322034, 0.5921052631578947, 0.5302491103202847, 0.0, \"Todd Woodbridge\"], [0.41379310344827586, 0.35714285714285715, 0.4318181818181818, 1.0, \"Tom Cain\"], [0.4090909090909091, 0.4166666666666667, 0.40540540540540543, 2.0, \"Tom Edlefsen\"], [0.5483870967741935, 0.5726495726495726, 0.596244131455399, 0.0, \"Tom Gorman\"], [0.45454545454545453, 0.5520833333333334, 0.5, 0.0, \"Tom Gullikson\"], [0.047619047619047616, 0.4, 0.410958904109589, 2.0, \"Tom Leonard\"], [0.3170731707317073, 0.125, 0.3611111111111111, 1.0, \"Tom Nijssen\"], [0.7166666666666667, 0.7559055118110236, 0.6813725490196079, 0.0, \"Tom Okker\"], [0.6370967741935484, 0.6868686868686869, 0.6482982171799028, 0.0, \"Tomas Berdych\"], [0.5145985401459854, 0.35294117647058826, 0.3875, 1.0, \"Tomas Carbonell\"], [0.4117647058823529, 0.2, 0.25925925925925924, 1.0, \"Tomas Nydahl\"], [0.6538461538461539, 0.5294117647058824, 0.6075268817204301, 0.0, \"Tomas Smid\"], [0.2909090909090909, 0.375, 0.3225806451612903, 2.0, \"Tomas Zib\"], [0.5929203539823009, 0.6263736263736264, 0.6316758747697975, 0.0, \"Tommy Haas\"], [0.6624365482233503, 0.5535714285714286, 0.5533980582524272, 0.0, \"Tommy Robredo\"], [0.07142857142857142, 0.5, 0.5, 2.0, \"Tony Bardsley\"], [0.4090909090909091, 0.38095238095238093, 0.4358974358974359, 2.0, \"Tony Giammalva\"], [0.25, 0.3333333333333333, 0.35294117647058826, 2.0, \"Tony Graham\"], [0.7012987012987013, 0.7763975155279503, 0.6, 0.0, \"Tony Roche\"], [0.1282051282051282, 0.47368421052631576, 0.21621621621621623, 2.0, \"Torben Ulrich\"], [0.4444444444444444, 0.3333333333333333, 0.4375, 1.0, \"Tore Meinecke\"], [0.375, 0.4583333333333333, 0.6428571428571429, 0.0, \"Toshiro Sakai\"], [0.2903225806451613, 0.3333333333333333, 0.49606299212598426, 2.0, \"Trey Waltke\"], [0.25, 0.16666666666666666, 0.3611111111111111, 1.0, \"Tuomas Ketola\"], [0.11458333333333333, 0.034482758620689655, 0.08695652173913043, 1.0, \"U Unknown\"], [0.3157894736842105, 0.4, 0.2857142857142857, 2.0, \"Udo Riglewski\"], [0.4166666666666667, 0.6, 0.49019607843137253, 0.0, \"Ugo Humbert\"], [0.5857142857142857, 0.4, 0.4666666666666667, 0.0, \"Ulf Stenlund\"], [0.5631067961165048, 0.5, 0.48148148148148145, 0.0, \"Ulrich Pinner\"], [0.45714285714285713, 0.16666666666666666, 0.47297297297297297, 1.0, \"Van Winitsky\"], [0.05, 0.3902439024390244, 0.49295774647887325, 2.0, \"Vasek Pospisil\"], [0.47058823529411764, 0.4166666666666667, 0.47619047619047616, 1.0, \"Veli Paloheimo\"], [0.41379310344827586, 0.5675675675675675, 0.5428571428571428, 0.0, \"Victor Amaya\"], [0.3333333333333333, 0.3333333333333333, 0.25, 1.0, \"Victor Crivoi\"], [0.6285714285714286, 0.23529411764705882, 0.43661971830985913, 1.0, \"Victor Estrella\"], [0.5416666666666666, 0.40625, 0.3419354838709677, 1.0, \"Victor Hanescu\"], [0.613882863340564, 0.5641025641025641, 0.5526315789473685, 0.0, \"Victor Pecci\"], [0.5362318840579711, 0.6482758620689655, 0.5343137254901961, 0.0, \"Vijay Amritraj\"], [0.5107913669064749, 0.5161290322580645, 0.5300546448087432, 0.0, \"Viktor Troicki\"], [0.42592592592592593, 0.4090909090909091, 0.4925373134328358, 2.0, \"Vincent Spadea\"], [0.2857142857142857, 0.2, 0.48739495798319327, 1.0, \"Vincent Van Patten\"], [0.39285714285714285, 0.3333333333333333, 0.38461538461538464, 1.0, \"Vincenzo Santopadre\"], [0.7105263157894737, 0.6781609195402298, 0.7323232323232324, 0.0, \"Vitas Gerulaitis\"], [0.5769230769230769, 0.5, 0.3333333333333333, 0.0, \"Vladimir Korotkov\"], [0.19047619047619047, 0.45454545454545453, 0.45977011494252873, 2.0, \"Vladimir Voltchkov\"], [0.48360655737704916, 0.36, 0.34615384615384615, 1.0, \"Vladimir Zednik\"], [0.32432432432432434, 0.6436781609195402, 0.5361216730038023, 0.0, \"Wally Masur\"], [0.32653061224489793, 0.52, 0.3333333333333333, 2.0, \"Wanaro N'Godrella\"], [0.37037037037037035, 0.5652173913043478, 0.43902439024390244, 2.0, \"Wayne Arthurs\"], [0.30434782608695654, 0.3684210526315789, 0.4491525423728814, 2.0, \"Wayne Black\"], [0.5769230769230769, 0.6601941747572816, 0.6332622601279317, 0.0, \"Wayne Ferreira\"], [0.14285714285714285, 0.28, 0.25, 2.0, \"Wayne Hampson\"], [0.32432432432432434, 0.3333333333333333, 0.14285714285714285, 1.0, \"Werner Eschauer\"], [0.375, 0.4, 0.36363636363636365, 2.0, \"Werner Zirngibl\"], [0.2916666666666667, 0.29411764705882354, 0.09523809523809523, 1.0, \"William Brown\"], [0.2916666666666667, 0.36363636363636365, 0.2727272727272727, 2.0, \"William Higgins\"], [0.625, 0.5, 0.625, 0.0, \"Wishaya Trongcharoenchaikul\"], [0.6567567567567567, 0.5897435897435898, 0.6408839779005525, 0.0, \"Wojtek Fibak\"], [0.34285714285714286, 0.4444444444444444, 0.3333333333333333, 2.0, \"Wolfgang Popp\"], [0.14285714285714285, 0.125, 0.18181818181818182, 1.0, \"Woody Blocher\"], [0.49572649572649574, 0.625, 0.4940119760479042, 0.0, \"Xavier Malisse\"], [0.7379310344827587, 0.45454545454545453, 0.7192982456140351, 0.0, \"Yannick Noah\"], [0.23076923076923078, 0.4375, 0.4217687074829932, 2.0, \"Yen Hsun Lu\"], [0.5778688524590164, 0.696969696969697, 0.6770833333333334, 0.0, \"Yevgeny Kafelnikov\"], [0.5833333333333334, 0.5, 0.5026737967914439, 0.0, \"Younes El Aynaoui\"], [0.17647058823529413, 0.5, 0.391304347826087, 2.0, \"Yuichi Sugita\"], [0.39655172413793105, 0.25, 0.2916666666666667, 1.0, \"Zan Guerry\"], [0.625, 0.3333333333333333, 0.2608695652173913, 1.0, \"Ze Zhang\"], [0.6309794988610479, 0.42857142857142855, 0.4939759036144578, 0.0, \"Zeljko Franulovic\"], [0.3888888888888889, 0.375, 0.3, 1.0, \"Zoltan Kuharszky\"]], \"hoverlabel\": {\"namelength\": 0}, \"hovertemplate\": \"Clay_record=%{customdata[0]}<br>Grass_record=%{customdata[1]}<br>Hard_record=%{customdata[2]}<br>label=%{marker.color}<br>player_name=%{customdata[4]}\", \"legendgroup\": \"\", \"marker\": {\"color\": [0, 1, 2, 2, 1, 0, 1, 0, 1, 2, 1, 1, 1, 1, 1, 1, 1, 2, 1, 1, 2, 1, 2, 1, 0, 2, 1, 0, 2, 2, 0, 2, 1, 2, 0, 1, 0, 0, 1, 2, 2, 1, 0, 0, 1, 1, 2, 2, 2, 0, 0, 2, 1, 2, 1, 2, 0, 1, 1, 2, 0, 2, 0, 2, 0, 0, 2, 1, 1, 0, 1, 1, 0, 1, 2, 0, 0, 1, 1, 1, 2, 2, 2, 0, 0, 1, 2, 0, 0, 0, 1, 1, 1, 1, 2, 2, 0, 1, 2, 0, 2, 2, 1, 2, 0, 2, 2, 2, 2, 0, 2, 0, 2, 0, 2, 1, 1, 1, 2, 0, 2, 0, 1, 1, 0, 0, 0, 2, 0, 2, 2, 0, 1, 2, 0, 0, 0, 2, 2, 2, 1, 1, 2, 2, 0, 2, 2, 2, 0, 1, 1, 1, 1, 1, 1, 0, 2, 1, 0, 1, 2, 1, 0, 2, 2, 1, 2, 2, 2, 0, 1, 2, 2, 0, 0, 1, 0, 2, 2, 2, 2, 1, 1, 0, 2, 0, 1, 1, 1, 0, 2, 0, 0, 1, 1, 1, 2, 1, 2, 2, 1, 2, 2, 2, 0, 1, 2, 2, 1, 2, 2, 2, 2, 1, 2, 2, 2, 0, 0, 1, 0, 2, 1, 1, 2, 0, 0, 2, 1, 2, 0, 2, 2, 1, 2, 0, 2, 2, 1, 0, 2, 2, 1, 2, 0, 1, 2, 1, 1, 2, 0, 1, 2, 2, 0, 2, 1, 1, 0, 0, 1, 0, 2, 2, 2, 2, 1, 1, 2, 1, 0, 2, 0, 0, 2, 1, 2, 1, 1, 2, 0, 1, 1, 1, 1, 1, 2, 1, 2, 2, 2, 1, 1, 2, 1, 1, 0, 0, 0, 0, 0, 1, 2, 0, 1, 0, 1, 2, 1, 1, 1, 0, 1, 0, 1, 2, 0, 2, 1, 2, 1, 1, 2, 1, 2, 2, 1, 2, 0, 1, 1, 1, 2, 2, 2, 0, 1, 2, 1, 0, 2, 0, 2, 1, 2, 2, 2, 2, 2, 1, 2, 2, 1, 0, 0, 2, 1, 2, 2, 1, 0, 1, 2, 2, 2, 2, 2, 0, 0, 2, 0, 2, 1, 0, 2, 2, 0, 0, 0, 0, 0, 0, 0, 2, 1, 1, 1, 1, 2, 1, 1, 1, 0, 2, 2, 0, 2, 2, 0, 2, 1, 2, 1, 0, 0, 1, 1, 2, 2, 2, 1, 0, 2, 0, 2, 2, 0, 1, 2, 2, 1, 1, 0, 1, 0, 2, 0, 0, 0, 1, 1, 2, 0, 1, 2, 0, 0, 1, 0, 0, 1, 0, 0, 0, 1, 1, 1, 2, 2, 0, 2, 0, 1, 2, 1, 0, 2, 2, 2, 2, 0, 2, 1, 0, 1, 0, 0, 1, 0, 2, 2, 1, 1, 2, 1, 2, 1, 2, 0, 2, 2, 2, 1, 1, 2, 1, 2, 0, 0, 1, 0, 1, 2, 0, 0, 2, 2, 1, 2, 0, 2, 0, 0, 2, 1, 0, 1, 0, 0, 2, 0, 1, 2, 1, 2, 2, 1, 2, 1, 2, 0, 0, 1, 2, 2, 1, 2, 2, 2, 1, 2, 0, 2, 2, 2, 1, 0, 2, 0, 2, 2, 0, 2, 2, 2, 1, 0, 0, 2, 1, 2, 2, 2, 2, 1, 0, 1, 0, 2, 1, 1, 1, 0, 0, 1, 1, 0, 0, 2, 2, 2, 1, 1, 1, 0, 0, 2, 2, 1, 0, 0, 1, 0, 2, 0, 2, 0, 2, 0, 0, 1, 2, 2, 0, 0, 2, 0, 1, 1, 1, 1, 1, 1, 0, 1, 2, 1, 1, 2, 0, 1, 2, 1, 1, 1, 0, 0, 1, 0, 2, 1, 0, 1, 0, 0, 2, 1, 1, 2, 1, 2, 1, 2, 0, 0, 0, 2, 0, 1, 0, 0, 0, 0, 2, 2, 1, 1, 0, 1, 2, 1, 0, 1, 2, 1, 0, 1, 0, 2, 0, 1, 0, 2, 0, 2, 0, 0, 0, 0, 2, 1, 2, 0, 2, 2, 0, 0, 2, 1, 1, 1, 2, 2, 2, 2, 0, 1, 2, 1, 1, 1, 1, 1, 2, 1, 2, 0, 2, 1, 0, 2, 2, 2, 0, 0, 2, 1, 1, 0, 1, 0, 2, 2, 2, 0, 2, 1, 2, 1, 2, 0, 1, 1, 1, 1, 2, 2, 2, 0, 0, 1, 2, 0, 2, 2, 2, 1, 2, 2, 0, 2, 2, 0, 0, 0, 2, 2, 2, 2, 0, 2, 2, 1, 2, 0, 2, 2, 0, 1, 1, 0, 1, 0, 1, 0, 1, 2, 1, 2, 2, 0, 0, 1, 1, 2, 0, 1, 1, 2, 1, 2, 2, 1, 1, 1, 0, 1, 1, 2, 2, 1, 1, 1, 1, 2, 2, 1, 1, 1, 2, 1, 0, 2, 0, 0, 1, 2, 1, 2, 0, 0, 2, 0, 1, 0, 2, 0, 1, 2, 0, 1, 0, 2, 2, 2, 1, 0, 2, 2, 1, 2, 2, 2, 0, 0, 2, 0, 0, 0, 2, 0, 2, 1, 0, 2, 2, 2, 0, 0, 2, 1, 0, 1, 0, 2, 2, 0, 0, 2, 2, 2, 1, 1, 2, 1, 1, 0, 0, 0, 2, 2, 2, 0, 2, 0, 2, 2, 2, 2, 2, 1, 0, 2, 2, 2, 2, 1, 2, 0, 1, 1, 1, 1, 0, 1, 2, 0, 2, 1, 1, 0, 2, 0, 0, 2, 2, 2, 2, 1, 2, 0, 0, 2, 0, 1, 2, 2, 1, 2, 0, 0, 2, 0, 1, 2, 2, 1, 2, 1, 2, 2, 2, 2, 2, 0, 2, 0, 2, 0, 1, 1, 2, 2, 2, 0, 2, 1, 2, 2, 1, 0, 1, 0, 1, 0, 0, 0, 2, 0, 1, 2, 2, 1, 0, 1, 2, 2, 1, 1, 2, 2, 2, 1, 0, 2, 2, 2, 2, 2, 2, 1, 1, 2, 2, 0, 2, 2, 2, 2, 0, 2, 2, 1, 2, 2, 1, 1, 2, 2, 1, 0, 2, 1, 0, 0, 1, 1, 0, 0, 0, 2, 0, 2, 2, 2, 0, 2, 1, 0, 1, 2, 0, 0, 2, 1, 0, 0, 1, 1, 0, 2, 0, 0, 2, 2, 2, 0, 2, 1, 0, 2, 1, 1, 2, 0, 0, 0, 1, 2, 1, 0, 1, 1, 1, 0, 0, 0, 2, 1, 1, 0, 0, 2, 1, 0, 2, 2, 2, 0, 2, 1, 2, 1, 2, 0, 0, 2, 1, 0, 0, 2, 0, 0, 2, 1, 1, 0, 1], \"coloraxis\": \"coloraxis\", \"symbol\": \"circle\"}, \"mode\": \"markers\", \"name\": \"\", \"scene\": \"scene\", \"showlegend\": false, \"type\": \"scatter3d\", \"x\": [0.583732057416268, 0.25, 0.25, 0.16666666666666666, 0.4666666666666667, 0.6928571428571428, 0.6, 0.5384615384615384, 0.4666666666666667, 0.5, 0.6650485436893204, 0.5338345864661654, 0.47388059701492535, 0.5401459854014599, 0.5879396984924623, 0.5164473684210527, 0.42857142857142855, 0.2727272727272727, 0.2, 0.32608695652173914, 0.3877551020408163, 0.25, 0.14285714285714285, 0.40350877192982454, 0.6621315192743764, 0.15384615384615385, 0.3333333333333333, 0.631578947368421, 0.3225806451612903, 0.125, 0.45454545454545453, 0.2916666666666667, 0.2916666666666667, 0.19230769230769232, 0.4, 0.3409090909090909, 0.7, 0.49206349206349204, 0.3076923076923077, 0.2, 0.25, 0.5, 0.5, 0.5, 0.25, 0.2682926829268293, 0.2, 0.2708333333333333, 0.3595505617977528, 0.575, 0.7272727272727273, 0.27906976744186046, 0.5585284280936454, 0.36363636363636365, 0.3870967741935484, 0.47619047619047616, 0.4962121212121212, 0.43661971830985913, 0.6415094339622641, 0.25, 0.66796875, 0.3076923076923077, 0.545, 0.375, 0.7142857142857143, 0.7021276595744681, 0.25, 0.5316455696202531, 0.3333333333333333, 0.5196850393700787, 0.36065573770491804, 0.44776119402985076, 0.5813953488372093, 0.36363636363636365, 0.1, 0.6883116883116883, 0.6386554621848739, 0.4817073170731707, 0.3926940639269406, 0.4861878453038674, 0.3448275862068966, 0.38095238095238093, 0.3181818181818182, 0.47540983606557374, 0.4083333333333333, 0.47474747474747475, 0.16666666666666666, 0.5, 0.7079646017699115, 0.6945054945054945, 0.3333333333333333, 0.4583333333333333, 0.5338983050847458, 0.40804597701149425, 0.3684210526315789, 0.24444444444444444, 0.5161290322580645, 0.4745762711864407, 0.3958333333333333, 0.4166666666666667, 0.3902439024390244, 0.3230769230769231, 0.5310344827586206, 0.32142857142857145, 0.4716981132075472, 0.3333333333333333, 0.21739130434782608, 0.1, 0.14285714285714285, 0.41975308641975306, 0.44565217391304346, 0.8333333333333334, 0.3684210526315789, 0.8532110091743119, 0.35714285714285715, 0.3728813559322034, 0.43333333333333335, 0.47058823529411764, 0.375, 0.47058823529411764, 0.32, 0.6223776223776224, 0.3333333333333333, 0.5155555555555555, 0.8888888888888888, 0.6594594594594595, 0.5684210526315789, 0.4032258064516129, 0.5, 0.375, 0.16666666666666666, 0.42857142857142855, 0.5555555555555556, 0.35, 0.48951048951048953, 0.6311787072243346, 0.5204081632653061, 0.16666666666666666, 0.23809523809523808, 0.30303030303030304, 0.3333333333333333, 0.4375, 0.4857142857142857, 0.16666666666666666, 0.6561264822134387, 0.391304347826087, 0.4, 0.3709677419354839, 0.38636363636363635, 0.43478260869565216, 0.3333333333333333, 0.47513812154696133, 0.463302752293578, 0.599388379204893, 0.4803921568627451, 0.7033195020746889, 0.3855421686746988, 0.30434782608695654, 0.5363636363636364, 0.5294117647058824, 0.3793103448275862, 0.5, 0.47619047619047616, 0.4375, 0.3333333333333333, 0.25, 0.14285714285714285, 0.2608695652173913, 0.18518518518518517, 0.5643564356435643, 0.3611111111111111, 0.2, 0.4, 0.4634146341463415, 0.45544554455445546, 0.671875, 0.6590909090909091, 0.3448275862068966, 0.21052631578947367, 0.36363636363636365, 0.09090909090909091, 0.41566265060240964, 0.44537815126050423, 0.6666666666666666, 0.08333333333333333, 0.6710526315789473, 0.489247311827957, 0.4444444444444444, 0.45962732919254656, 0.6818181818181818, 0.2727272727272727, 0.7010869565217391, 0.48026315789473684, 0.39215686274509803, 0.3333333333333333, 0.3333333333333333, 0.34615384615384615, 0.6175, 0.3076923076923077, 0.2777777777777778, 0.3333333333333333, 0.125, 0.15384615384615385, 0.25, 0.45901639344262296, 0.4620253164556962, 0.23529411764705882, 0.25, 0.45454545454545453, 0.21052631578947367, 0.38181818181818183, 0.32432432432432434, 0.25, 0.42391304347826086, 0.2, 0.35294117647058826, 0.38461538461538464, 0.35714285714285715, 0.6666666666666666, 0.625, 0.5423728813559322, 0.16666666666666666, 0.42391304347826086, 0.2, 0.3076923076923077, 0.7050209205020921, 0.6101694915254238, 0.21875, 0.3333333333333333, 0.2, 0.6602870813397129, 0.2777777777777778, 0.23809523809523808, 0.41025641025641024, 0.18181818181818182, 0.5263157894736842, 0.5, 0.3680555555555556, 0.4666666666666667, 0.45384615384615384, 0.2631578947368421, 0.42857142857142855, 0.5483870967741935, 0.4117647058823529, 0.6153846153846154, 0.4318181818181818, 0.27586206896551724, 0.2857142857142857, 0.3333333333333333, 0.2972972972972973, 0.5305343511450382, 0.3, 0.2857142857142857, 0.07142857142857142, 0.6484848484848484, 0.32653061224489793, 0.5684931506849316, 0.3787878787878788, 0.3918918918918919, 0.7446808510638298, 0.5362903225806451, 0.5555555555555556, 0.3333333333333333, 0.125, 0.21875, 0.1111111111111111, 0.22727272727272727, 0.5384615384615384, 0.18604651162790697, 0.5066666666666667, 0.5555555555555556, 0.40384615384615385, 0.6, 0.7380952380952381, 0.38095238095238093, 0.6, 0.37735849056603776, 0.42857142857142855, 0.4696969696969697, 0.3333333333333333, 0.6262626262626263, 0.2727272727272727, 0.643312101910828, 0.423728813559322, 0.3333333333333333, 0.45, 0.3698630136986301, 0.6153846153846154, 0.3888888888888889, 0.45652173913043476, 0.3, 0.5241379310344828, 0.7142857142857143, 0.20689655172413793, 0.3870967741935484, 0.3877551020408163, 0.5842696629213483, 0.48175182481751827, 0.49429657794676807, 0.5161290322580645, 0.8, 0.659217877094972, 0.28, 0.7, 0.5513698630136986, 0.610079575596817, 0.46887966804979253, 0.16666666666666666, 0.5050505050505051, 0.5339805825242718, 0.358974358974359, 0.5204081632653061, 0.46153846153846156, 0.5, 0.46511627906976744, 0.3448275862068966, 0.5782608695652174, 0.35443037974683544, 0.4230769230769231, 0.38738738738738737, 0.5397489539748954, 0.6241379310344828, 0.05263157894736842, 0.4918032786885246, 0.3611111111111111, 0.375, 0.4397163120567376, 0.30120481927710846, 0.5625, 0.3333333333333333, 0.36363636363636365, 0.5476190476190477, 0.2894736842105263, 0.411214953271028, 0.29411764705882354, 0.6037735849056604, 0.46835443037974683, 0.4, 0.660436137071651, 0.6060606060606061, 0.25, 0.5040650406504065, 0.42857142857142855, 0.2222222222222222, 0.29577464788732394, 0.45185185185185184, 0.44274809160305345, 0.3333333333333333, 0.14634146341463414, 0.4, 0.25, 0.3333333333333333, 0.4069767441860465, 0.4576271186440678, 0.5658914728682171, 0.24, 0.3333333333333333, 0.25, 0.29411764705882354, 0.3076923076923077, 0.618421052631579, 0.5581395348837209, 0.3333333333333333, 0.33783783783783783, 0.3333333333333333, 0.3333333333333333, 0.1111111111111111, 0.37037037037037035, 0.5, 0.16666666666666666, 0.5867768595041323, 0.25, 0.2631578947368421, 0.5446428571428571, 0.28846153846153844, 0.2777777777777778, 0.5904761904761905, 0.7165775401069518, 0.49635036496350365, 0.7968936678614098, 0.7011494252873564, 0.5210526315789473, 0.4230769230769231, 0.21428571428571427, 0.6175548589341693, 0.3855421686746988, 0.5133333333333333, 0.41295546558704455, 0.4262295081967213, 0.3548387096774194, 0.52, 0.4146341463414634, 0.690537084398977, 0.3404255319148936, 0.5, 0.5773195876288659, 0.3770491803278688, 0.1111111111111111, 0.5970149253731343, 0.2631578947368421, 0.6751269035532995, 0.3125, 0.4, 0.6923076923076923, 0.5, 0.453125, 0.5907590759075908, 0.4, 0.28, 0.3157894736842105, 0.5483870967741935, 0.5, 0.425531914893617, 0.5339366515837104, 0.26666666666666666, 0.30303030303030304, 0.7833001988071571, 0.5, 0.16666666666666666, 0.14285714285714285, 0.5652173913043478, 0.375, 0.5934579439252337, 0.45, 0.47641509433962265, 0.421875, 0.8103448275862069, 0.5585106382978723, 0.48484848484848486, 0.49056603773584906, 0.41379310344827586, 0.125, 0.42424242424242425, 0.3181818181818182, 0.3333333333333333, 0.4864864864864865, 0.5789473684210527, 0.2857142857142857, 0.6363636363636364, 0.475, 0.44285714285714284, 0.5401069518716578, 0.5549738219895288, 0.46, 0.15789473684210525, 0.25, 0.3333333333333333, 0.3684210526315789, 0.3448275862068966, 0.4842105263157895, 0.30952380952380953, 0.6924882629107981, 0.3333333333333333, 0.4032258064516129, 0.45263157894736844, 0.52, 0.2127659574468085, 0.2608695652173913, 0.3793103448275862, 0.26666666666666666, 0.5140845070422535, 0.26666666666666666, 0.5263157894736842, 0.5609756097560976, 0.3333333333333333, 0.5784313725490197, 0.5739130434782609, 0.5375, 0.6455696202531646, 0.3953488372093023, 0.22727272727272727, 0.3333333333333333, 0.4489795918367347, 0.3125, 0.5405405405405406, 0.3888888888888889, 0.4084507042253521, 0.2631578947368421, 0.5251396648044693, 0.14285714285714285, 0.25, 0.2647058823529412, 0.4537037037037037, 0.6, 0.39655172413793105, 0.4230769230769231, 0.2564102564102564, 0.5228426395939086, 0.4473684210526316, 0.3611111111111111, 0.358974358974359, 0.25, 0.14285714285714285, 0.875, 0.6845238095238095, 0.3283582089552239, 0.1875, 0.4375, 0.2345679012345679, 0.45161290322580644, 0.3870967741935484, 0.6108786610878661, 0.7703703703703704, 0.2857142857142857, 0.5384615384615384, 0.5638766519823789, 0.42105263157894735, 0.5, 0.6267605633802817, 0.17647058823529413, 0.6559633027522935, 0.32558139534883723, 0.2923076923076923, 0.4968553459119497, 0.43010752688172044, 0.25, 0.25, 0.25, 0.5, 0.30434782608695654, 0.5, 0.6238244514106583, 0.46875, 0.2727272727272727, 0.24074074074074073, 0.3333333333333333, 0.2857142857142857, 0.2903225806451613, 0.2777777777777778, 0.43333333333333335, 0.3333333333333333, 0.5426356589147286, 0.35294117647058826, 0.41007194244604317, 0.18181818181818182, 0.5, 0.7192982456140351, 0.36666666666666664, 0.7169811320754716, 0.24, 0.2631578947368421, 0.4827586206896552, 0.30952380952380953, 0.30952380952380953, 0.39473684210526316, 0.25, 0.36, 0.4927536231884058, 0.21428571428571427, 0.36666666666666664, 0.3684210526315789, 0.38095238095238093, 0.4697986577181208, 0.20512820512820512, 0.3, 0.6778169014084507, 0.416, 0.7682619647355163, 0.4818181818181818, 0.40540540540540543, 0.545816733067729, 0.44086021505376344, 0.7277936962750716, 0.5601851851851852, 0.5963855421686747, 0.5777777777777777, 0.6942148760330579, 0.6226912928759895, 0.4672897196261682, 0.14285714285714285, 0.4144144144144144, 0.5172413793103449, 0.4473684210526316, 0.371900826446281, 0.5029940119760479, 0.5210084033613446, 0.16666666666666666, 0.32, 0.3333333333333333, 0.6163934426229508, 0.5714285714285714, 0.5313807531380753, 0.545, 0.09090909090909091, 0.475, 0.3409090909090909, 0.6879432624113475, 0.3333333333333333, 0.42857142857142855, 0.8029197080291971, 0.11764705882352941, 0.2909090909090909, 0.23076923076923078, 0.5277777777777778, 0.3333333333333333, 0.2, 0.51875, 0.4887640449438202, 0.46808510638297873, 0.4, 0.5, 0.34615384615384615, 0.42857142857142855, 0.49056603773584906, 0.375, 0.3125, 0.41025641025641024, 0.6338028169014085, 0.1, 0.42857142857142855, 0.4782608695652174, 0.2727272727272727, 0.3, 0.37209302325581395, 0.4861111111111111, 0.5254237288135594, 0.45, 0.3025210084033613, 0.6363636363636364, 0.45454545454545453, 0.42424242424242425, 0.4772727272727273, 0.3333333333333333, 0.5555555555555556, 0.47368421052631576, 0.36666666666666664, 0.49390243902439024, 0.35, 0.2, 0.5247524752475248, 0.4742268041237113, 0.25, 0.3, 0.649390243902439, 0.5699481865284974, 0.6055555555555555, 0.25, 0.35714285714285715, 0.42592592592592593, 0.5657894736842105, 0.7671232876712328, 0.7317073170731707, 0.5960591133004927, 0.3333333333333333, 0.4406779661016949, 0.5117647058823529, 0.425531914893617, 0.5042735042735043, 0.38235294117647056, 0.48130841121495327, 0.43, 0.688212927756654, 0.45121951219512196, 0.25925925925925924, 0.3448275862068966, 0.4318181818181818, 0.3728813559322034, 0.48360655737704916, 0.45, 0.46153846153846156, 0.5193370165745856, 0.6188118811881188, 0.2962962962962963, 0.5737704918032787, 0.2702702702702703, 0.5, 0.5620437956204379, 0.524390243902439, 0.4421768707482993, 0.10526315789473684, 0.5, 0.3333333333333333, 0.5, 0.1, 0.36363636363636365, 0.5591397849462365, 0.38738738738738737, 0.42105263157894735, 0.4444444444444444, 0.509090909090909, 0.38235294117647056, 0.2222222222222222, 0.25, 0.17647058823529413, 0.08333333333333333, 0.6637931034482759, 0.553030303030303, 0.2, 0.632, 0.29411764705882354, 0.3170731707317073, 0.43617021276595747, 0.5079365079365079, 0.39436619718309857, 0.5555555555555556, 0.3953488372093023, 0.6527777777777778, 0.35294117647058826, 0.47058823529411764, 0.7667638483965015, 0.36363636363636365, 0.32, 0.2631578947368421, 0.6666666666666666, 0.5, 0.07142857142857142, 0.36666666666666664, 0.4230769230769231, 0.40594059405940597, 0.4, 0.577922077922078, 0.4, 0.41935483870967744, 0.2978723404255319, 0.6445783132530121, 0.16666666666666666, 0.42857142857142855, 0.3333333333333333, 0.25, 0.2553191489361702, 0.6687898089171974, 0.4, 0.3333333333333333, 0.45652173913043476, 0.4166666666666667, 0.20689655172413793, 0.3829787234042553, 0.37142857142857144, 0.4117647058823529, 0.475, 0.4696969696969697, 0.13333333333333333, 0.6470588235294118, 0.4, 0.4583333333333333, 0.21666666666666667, 0.42857142857142855, 0.07692307692307693, 0.37894736842105264, 0.5114503816793893, 0.41964285714285715, 0.4430379746835443, 0.6310679611650486, 0.6666666666666666, 0.5454545454545454, 0.35294117647058826, 0.31645569620253167, 0.2, 0.3, 0.75, 0.4482758620689655, 0.4, 0.2727272727272727, 0.4222222222222222, 0.5777777777777777, 0.390625, 0.35294117647058826, 0.4649122807017544, 0.6140350877192983, 0.375, 0.6565420560747663, 0.38636363636363635, 0.41509433962264153, 0.6065573770491803, 0.44715447154471544, 0.5617283950617284, 0.30357142857142855, 0.5765124555160143, 0.39655172413793105, 0.14285714285714285, 0.5449438202247191, 0.6065573770491803, 0.47619047619047616, 0.4, 0.3220338983050847, 0.8041958041958042, 0.3684210526315789, 0.5, 0.2727272727272727, 0.4634146341463415, 0.3584905660377358, 0.3935483870967742, 0.625, 0.461038961038961, 0.5714285714285714, 0.5166051660516605, 0.3023255813953488, 0.4125874125874126, 0.31666666666666665, 0.375, 0.5097087378640777, 0.5375, 0.6007462686567164, 0.41935483870967744, 0.5, 0.25, 0.6136363636363636, 0.5310734463276836, 0.4195804195804196, 0.2553191489361702, 0.4065934065934066, 0.4, 0.22448979591836735, 0.46296296296296297, 0.5026455026455027, 0.44776119402985076, 0.2972972972972973, 0.423728813559322, 0.37142857142857144, 0.5652173913043478, 0.5142857142857142, 0.391304347826087, 0.4666666666666667, 0.39622641509433965, 0.4625, 0.4, 0.46099290780141844, 0.4864864864864865, 0.37209302325581395, 0.5045045045045045, 0.46153846153846156, 0.625, 0.2222222222222222, 0.16666666666666666, 0.3, 0.461038961038961, 0.5119047619047619, 0.38596491228070173, 0.3333333333333333, 0.5, 0.3333333333333333, 0.27419354838709675, 0.05263157894736842, 0.6502732240437158, 0.5454545454545454, 0.2222222222222222, 0.5769230769230769, 0.5333333333333333, 0.5619047619047619, 0.37209302325581395, 0.5645161290322581, 0.45454545454545453, 0.5286885245901639, 0.5489130434782609, 0.2962962962962963, 0.43137254901960786, 0.3870967741935484, 0.9144602851323829, 0.39263803680981596, 0.36363636363636365, 0.42857142857142855, 0.39285714285714285, 0.6265060240963856, 0.7267080745341615, 0.3333333333333333, 0.2857142857142857, 0.5357142857142857, 0.44086021505376344, 0.2, 0.3617021276595745, 0.18181818181818182, 0.49814126394052044, 0.27586206896551724, 0.3230769230769231, 0.45614035087719296, 0.48344370860927155, 0.5058365758754864, 0.6147186147186147, 0.5984848484848485, 0.2830188679245283, 0.25, 0.28, 0.631578947368421, 0.2, 0.5111111111111111, 0.23076923076923078, 0.2222222222222222, 0.09090909090909091, 0.2857142857142857, 0.16666666666666666, 0.17647058823529413, 0.5363636363636364, 0.325, 0.4745762711864407, 0.13333333333333333, 0.23076923076923078, 0.3333333333333333, 0.3333333333333333, 0.59375, 0.5, 0.4, 0.3404255319148936, 0.5058139534883721, 0.6231884057971014, 0.391304347826087, 0.375, 0.7769230769230769, 0.3888888888888889, 0.375, 0.2727272727272727, 0.7593220338983051, 0.3181818181818182, 0.5641025641025641, 0.5, 0.16666666666666666, 0.4876543209876543, 0.20930232558139536, 0.4166666666666667, 0.5232974910394266, 0.21052631578947367, 0.6298701298701299, 0.47540983606557374, 0.1724137931034483, 0.6493506493506493, 0.3333333333333333, 0.28846153846153844, 0.35714285714285715, 0.5333333333333333, 0.2, 0.4473684210526316, 0.43103448275862066, 0.4, 0.6, 0.5082872928176796, 0.4326923076923077, 0.19047619047619047, 0.3865546218487395, 0.14285714285714285, 0.5, 0.23529411764705882, 0.34146341463414637, 0.25, 0.4, 0.35, 0.5827814569536424, 0.15, 0.5, 0.25, 0.6867749419953596, 0.4581005586592179, 0.3548387096774194, 0.375, 0.3684210526315789, 0.4117647058823529, 0.5612244897959183, 0.3076923076923077, 0.38461538461538464, 0.23333333333333334, 0.4745762711864407, 0.4411764705882353, 0.4642857142857143, 0.5610687022900763, 0.5, 0.2857142857142857, 0.3333333333333333, 0.6909090909090909, 0.6630824372759857, 0.3263157894736842, 0.6766169154228856, 0.5, 0.463768115942029, 0.32142857142857145, 0.4036697247706422, 0.7037037037037037, 0.3684210526315789, 0.30952380952380953, 0.26666666666666666, 0.3333333333333333, 0.42857142857142855, 0.4666666666666667, 0.36363636363636365, 0.2857142857142857, 0.25, 0.4915254237288136, 0.3904109589041096, 0.3684210526315789, 0.3181818181818182, 0.24324324324324326, 0.25, 0.4057971014492754, 0.6, 0.44554455445544555, 0.3076923076923077, 0.25, 0.5151515151515151, 0.4444444444444444, 0.20408163265306123, 0.32, 0.2857142857142857, 0.5697674418604651, 0.2916666666666667, 0.325, 0.3904761904761905, 0.25, 0.1, 0.49295774647887325, 0.48333333333333334, 0.1111111111111111, 0.4027777777777778, 0.5627009646302251, 0.4793388429752066, 0.25, 0.2727272727272727, 0.35514018691588783, 0.7661870503597122, 0.5565217391304348, 0.5757575757575758, 0.46153846153846156, 0.5294117647058824, 0.2962962962962963, 0.25, 0.4657534246575342, 0.4, 0.36363636363636365, 0.25, 0.5775862068965517, 0.3, 0.3541666666666667, 0.3728813559322034, 0.41379310344827586, 0.4090909090909091, 0.5483870967741935, 0.45454545454545453, 0.047619047619047616, 0.3170731707317073, 0.7166666666666667, 0.6370967741935484, 0.5145985401459854, 0.4117647058823529, 0.6538461538461539, 0.2909090909090909, 0.5929203539823009, 0.6624365482233503, 0.07142857142857142, 0.4090909090909091, 0.25, 0.7012987012987013, 0.1282051282051282, 0.4444444444444444, 0.375, 0.2903225806451613, 0.25, 0.11458333333333333, 0.3157894736842105, 0.4166666666666667, 0.5857142857142857, 0.5631067961165048, 0.45714285714285713, 0.05, 0.47058823529411764, 0.41379310344827586, 0.3333333333333333, 0.6285714285714286, 0.5416666666666666, 0.613882863340564, 0.5362318840579711, 0.5107913669064749, 0.42592592592592593, 0.2857142857142857, 0.39285714285714285, 0.7105263157894737, 0.5769230769230769, 0.19047619047619047, 0.48360655737704916, 0.32432432432432434, 0.32653061224489793, 0.37037037037037035, 0.30434782608695654, 0.5769230769230769, 0.14285714285714285, 0.32432432432432434, 0.375, 0.2916666666666667, 0.2916666666666667, 0.625, 0.6567567567567567, 0.34285714285714286, 0.14285714285714285, 0.49572649572649574, 0.7379310344827587, 0.23076923076923078, 0.5778688524590164, 0.5833333333333334, 0.17647058823529413, 0.39655172413793105, 0.625, 0.6309794988610479, 0.3888888888888889], \"y\": [0.5714285714285714, 0.25, 0.5903614457831325, 0.25, 0.2631578947368421, 0.5416666666666666, 0.2857142857142857, 0.59375, 0.4, 0.5, 0.2222222222222222, 0.3157894736842105, 0.21428571428571427, 0.3333333333333333, 0.3333333333333333, 0.32, 0.3902439024390244, 0.5416666666666666, 0.2, 0.3333333333333333, 0.5142857142857142, 0.2571428571428571, 0.44, 0.14285714285714285, 0.36363636363636365, 0.4, 0.25, 0.7863247863247863, 0.41935483870967744, 0.5263157894736842, 0.5, 0.36363636363636365, 0.21052631578947367, 0.631578947368421, 0.582089552238806, 0.26666666666666666, 0.631578947368421, 0.5348837209302325, 0.2, 0.3333333333333333, 0.6666666666666666, 0.39285714285714285, 0.5581395348837209, 0.5, 0.2, 0.17142857142857143, 0.25, 0.5737704918032787, 0.38636363636363635, 0.5384615384615384, 0.7352941176470589, 0.37037037037037035, 0.1, 0.5, 0.2857142857142857, 0.5, 0.5660377358490566, 0.2857142857142857, 0.2727272727272727, 0.5, 0.47058823529411764, 0.5, 0.4489795918367347, 0.35294117647058826, 0.7142857142857143, 0.5555555555555556, 0.27586206896551724, 0.3125, 0.16666666666666666, 0.5147058823529411, 0.09090909090909091, 0.35, 0.5714285714285714, 0.35, 0.3333333333333333, 0.8307692307692308, 0.7981651376146789, 0.16666666666666666, 0.2777777777777778, 0.23529411764705882, 0.4634146341463415, 0.5555555555555556, 0.42105263157894735, 0.5428571428571428, 0.5376344086021505, 0.25, 0.5217391304347826, 0.5, 0.7638888888888888, 0.5185185185185185, 0.25, 0.38461538461538464, 0.44776119402985076, 0.2727272727272727, 0.5, 0.5454545454545454, 0.5, 0.25, 0.5, 0.42857142857142855, 0.5142857142857142, 0.5428571428571428, 0.23529411764705882, 0.5, 0.5945945945945946, 0.4, 0.35, 0.18181818181818182, 0.3333333333333333, 0.59, 0.46511627906976744, 0.5, 0.5, 0.8470588235294118, 0.5, 0.07142857142857142, 0.1875, 0.2, 0.5714285714285714, 0.4842105263157895, 0.5416666666666666, 0.6376811594202898, 0.29411764705882354, 0.2631578947368421, 0.3333333333333333, 0.8226950354609929, 0.5238095238095238, 0.5448717948717948, 0.5535714285714286, 0.4666666666666667, 0.5, 0.5932203389830508, 0.5, 0.42857142857142855, 0.5531914893617021, 0.6666666666666666, 0.6466165413533834, 0.3, 0.3877551020408163, 0.3076923076923077, 0.2222222222222222, 0.3333333333333333, 0.5333333333333333, 0.5652173913043478, 0.5681818181818182, 0.45714285714285713, 0.45, 0.4864864864864865, 0.6111111111111112, 0.35714285714285715, 0.07142857142857142, 0.2222222222222222, 0.25, 0.375, 0.42857142857142855, 0.4642857142857143, 0.4, 0.23529411764705882, 0.5974025974025974, 0.25, 0.4375, 0.36585365853658536, 0.6179775280898876, 0.40625, 0.55, 0.18181818181818182, 0.4, 0.42857142857142855, 0.33962264150943394, 0.5420560747663551, 0.125, 0.35294117647058826, 0.4444444444444444, 0.5, 0.5185185185185185, 0.2857142857142857, 0.5, 0.5476190476190477, 0.38461538461538464, 0.5714285714285714, 0.6111111111111112, 0.12, 0.2, 0.5, 0.3, 0.7325581395348837, 0.25, 0.3333333333333333, 0.2, 0.6493506493506493, 0.43037974683544306, 0.6557377049180327, 0.5802469135802469, 0.3333333333333333, 0.3125, 0.2, 0.5, 0.1111111111111111, 0.34210526315789475, 0.4444444444444444, 0.21428571428571427, 0.4166666666666667, 0.23529411764705882, 0.37777777777777777, 0.5555555555555556, 0.3888888888888889, 0.4117647058823529, 0.5428571428571428, 0.3157894736842105, 0.4626865671641791, 0.4117647058823529, 0.375, 0.4230769230769231, 0.10526315789473684, 0.4186046511627907, 0.425, 0.5294117647058824, 0.6, 0.4, 0.36363636363636365, 0.4666666666666667, 0.25, 0.3953488372093023, 0.14285714285714285, 0.5714285714285714, 0.6285714285714286, 0.5581395348837209, 0.3902439024390244, 0.3333333333333333, 0.42857142857142855, 0.6888888888888889, 0.543859649122807, 0.5645161290322581, 0.2, 0.29411764705882354, 0.6363636363636364, 0.5384615384615384, 0.425531914893617, 0.2, 0.5394736842105263, 0.5116279069767442, 0.5, 0.25, 0.5, 0.6842105263157895, 0.3181818181818182, 0.375, 0.2, 0.16666666666666666, 0.5915492957746479, 0.5347222222222222, 0.3, 0.41379310344827586, 0.43478260869565216, 0.6060606060606061, 0.4230769230769231, 0.3333333333333333, 0.25, 0.5522388059701493, 0.5172413793103449, 0.24, 0.5, 0.3333333333333333, 0.2, 0.38461538461538464, 0.47058823529411764, 0.14285714285714285, 0.43478260869565216, 0.48148148148148145, 0.25, 0.5, 0.45, 0.6666666666666666, 0.5, 0.49382716049382713, 0.2, 0.45714285714285713, 0.3333333333333333, 0.125, 0.5, 0.5, 0.2, 0.2857142857142857, 0.3333333333333333, 0.2, 0.4, 0.6346153846153846, 0.14285714285714285, 0.4, 0.48214285714285715, 0.3333333333333333, 0.38461538461538464, 0.5, 0.26666666666666666, 0.16666666666666666, 0.25, 0.5135135135135135, 0.5714285714285714, 0.6587301587301587, 0.75, 0.6666666666666666, 0.3333333333333333, 0.391304347826087, 0.6216216216216216, 0.14285714285714285, 0.5483870967741935, 0.29411764705882354, 0.36363636363636365, 0.25, 0.15384615384615385, 0.125, 0.5, 0.34615384615384615, 0.6, 0.2, 0.46153846153846156, 0.5, 0.3953488372093023, 0.2, 0.5, 0.14285714285714285, 0.4090909090909091, 0.4772727272727273, 0.38461538461538464, 0.4444444444444444, 0.38461538461538464, 0.25, 0.4, 0.676923076923077, 0.25, 0.3333333333333333, 0.125, 0.4444444444444444, 0.49230769230769234, 0.55, 0.5797101449275363, 0.14285714285714285, 0.42857142857142855, 0.25, 0.5357142857142857, 0.3333333333333333, 0.49137931034482757, 0.6666666666666666, 0.1875, 0.3142857142857143, 0.4666666666666667, 0.45, 0.5, 0.47058823529411764, 0.35714285714285715, 0.45454545454545453, 0.45, 0.2857142857142857, 0.5555555555555556, 0.5777777777777777, 0.3333333333333333, 0.2, 0.4418604651162791, 0.36, 0.23529411764705882, 0.7171717171717171, 0.16666666666666666, 0.3333333333333333, 0.4897959183673469, 0.5, 0.6, 0.4074074074074074, 0.7049180327868853, 0.5333333333333333, 0.3333333333333333, 0.5806451612903226, 0.375, 0.25, 0.4444444444444444, 0.4375, 0.3333333333333333, 0.5909090909090909, 0.5555555555555556, 0.48333333333333334, 0.7291666666666666, 0.4666666666666667, 0.5897435897435898, 0.6442953020134228, 0.3333333333333333, 0.3333333333333333, 0.375, 0.2857142857142857, 0.2857142857142857, 0.5, 0.25, 0.35294117647058826, 0.375, 0.2857142857142857, 0.3333333333333333, 0.5, 0.45454545454545453, 0.36666666666666664, 0.16666666666666666, 0.6451612903225806, 0.5789473684210527, 0.29411764705882354, 0.3333333333333333, 0.3, 0.47619047619047616, 0.5142857142857142, 0.15384615384615385, 0.14285714285714285, 0.5, 0.3333333333333333, 0.42857142857142855, 0.3333333333333333, 0.48717948717948717, 0.5365853658536586, 0.48484848484848486, 0.32432432432432434, 0.43478260869565216, 0.7027027027027027, 0.3333333333333333, 0.3, 0.6666666666666666, 0.2222222222222222, 0.25, 0.4634146341463415, 0.35714285714285715, 0.5066666666666667, 0.5483870967741935, 0.75, 0.48, 0.6666666666666666, 0.14285714285714285, 0.35294117647058826, 0.3333333333333333, 0.6293103448275862, 0.23076923076923078, 0.5, 0.574468085106383, 0.5217391304347826, 0.25, 0.524390243902439, 0.5, 0.2, 0.4166666666666667, 0.5142857142857142, 0.5161290322580645, 0.15384615384615385, 0.2222222222222222, 0.25, 0.47619047619047616, 0.5454545454545454, 0.47368421052631576, 0.475, 0.6451612903225806, 0.3076923076923077, 0.4, 0.375, 0.5714285714285714, 0.5227272727272727, 0.3333333333333333, 0.4666666666666667, 0.4827586206896552, 0.5277777777777778, 0.42857142857142855, 0.3888888888888889, 0.43859649122807015, 0.23529411764705882, 0.6145833333333334, 0.5555555555555556, 0.2727272727272727, 0.5, 0.42105263157894735, 0.4358974358974359, 0.125, 0.13333333333333333, 0.3, 0.3870967741935484, 0.4, 0.2, 0.36363636363636365, 0.44776119402985076, 0.375, 0.3333333333333333, 0.5, 0.34146341463414637, 0.3333333333333333, 0.5454545454545454, 0.3333333333333333, 0.4574468085106383, 0.4827586206896552, 0.46875, 0.2222222222222222, 0.6153846153846154, 0.25, 0.4166666666666667, 0.5, 0.6222222222222222, 0.43243243243243246, 0.3333333333333333, 0.4, 0.4, 0.4827586206896552, 0.5555555555555556, 0.5, 0.8207547169811321, 0.391304347826087, 0.43478260869565216, 0.4857142857142857, 0.125, 0.6, 0.6933333333333334, 0.5, 0.6216216216216216, 0.2, 0.3333333333333333, 0.4117647058823529, 0.5121951219512195, 0.5, 0.18181818181818182, 0.5217391304347826, 0.2, 0.3333333333333333, 0.7264957264957265, 0.5951219512195122, 0.375, 0.32, 0.3170731707317073, 0.3076923076923077, 0.5932203389830508, 0.328125, 0.5868263473053892, 0.36363636363636365, 0.5, 0.6712328767123288, 0.4634146341463415, 0.49166666666666664, 0.3673469387755102, 0.25, 0.8581560283687943, 0.43478260869565216, 0.7837837837837838, 0.4166666666666667, 0.4, 0.5964912280701754, 0.4482758620689655, 0.45454545454545453, 0.42857142857142855, 0.25, 0.6507936507936508, 0.5, 0.375, 0.3584905660377358, 0.4883720930232558, 0.38095238095238093, 0.5, 0.26666666666666666, 0.25, 0.5, 0.3333333333333333, 0.5238095238095238, 0.5, 0.3125, 0.5, 0.3333333333333333, 0.6122448979591837, 0.6666666666666666, 0.26666666666666666, 0.3333333333333333, 0.6896551724137931, 0.3888888888888889, 0.4444444444444444, 0.3333333333333333, 0.47368421052631576, 0.1111111111111111, 0.38235294117647056, 0.25, 0.46875, 0.527027027027027, 0.3333333333333333, 0.4067796610169492, 0.25, 0.4166666666666667, 0.6666666666666666, 0.3333333333333333, 0.5416666666666666, 0.4375, 0.5967741935483871, 0.44, 0.6060606060606061, 0.42857142857142855, 0.5846153846153846, 0.7894736842105263, 0.1111111111111111, 0.45588235294117646, 0.42857142857142855, 0.5909090909090909, 0.6635514018691588, 0.2222222222222222, 0.5675675675675675, 0.2222222222222222, 0.3333333333333333, 0.18181818181818182, 0.2, 0.25, 0.37037037037037035, 0.3870967741935484, 0.2608695652173913, 0.3076923076923077, 0.2222222222222222, 0.2, 0.5263157894736842, 0.6571428571428571, 0.3333333333333333, 0.5, 0.2, 0.2, 0.15384615384615385, 0.45714285714285713, 0.5714285714285714, 0.2, 0.7543859649122807, 0.5098039215686274, 0.375, 0.625, 0.14285714285714285, 0.5806451612903226, 0.36363636363636365, 0.48, 0.14285714285714285, 0.2857142857142857, 0.4186046511627907, 0.4, 0.52, 0.25, 0.625, 0.5, 0.5581395348837209, 0.4666666666666667, 0.375, 0.5932203389830508, 0.2962962962962963, 0.5531914893617021, 0.5740740740740741, 0.6428571428571429, 0.5777777777777777, 0.4074074074074074, 0.4230769230769231, 0.4594594594594595, 0.3333333333333333, 0.4745762711864407, 0.35, 0.4473684210526316, 0.2727272727272727, 0.5, 0.25, 0.4, 0.25, 0.5789473684210527, 0.14285714285714285, 0.5217391304347826, 0.43333333333333335, 0.6388888888888888, 0.25, 0.6868686868686869, 0.4, 0.7358490566037735, 0.4, 0.5, 0.6153846153846154, 0.5789473684210527, 0.6374269005847953, 0.44, 0.42857142857142855, 0.47058823529411764, 0.5, 0.5102040816326531, 0.37777777777777777, 0.6891891891891891, 0.5368421052631579, 0.42857142857142855, 0.25, 0.14285714285714285, 0.25, 0.3125, 0.3333333333333333, 0.46938775510204084, 0.25, 0.4444444444444444, 0.23529411764705882, 0.39473684210526316, 0.25, 0.14285714285714285, 0.14285714285714285, 0.2857142857142857, 0.3333333333333333, 0.42857142857142855, 0.3076923076923077, 0.5263157894736842, 0.6213592233009708, 0.3333333333333333, 0.3333333333333333, 0.7424242424242424, 0.5306122448979592, 0.4166666666666667, 0.38636363636363635, 0.7222222222222222, 0.5, 0.4444444444444444, 0.2222222222222222, 0.25, 0.5357142857142857, 0.14285714285714285, 0.47058823529411764, 0.5, 0.4, 0.2916666666666667, 0.5454545454545454, 0.4375, 0.35714285714285715, 0.5945945945945946, 0.25, 0.30303030303030304, 0.782051282051282, 0.26666666666666666, 0.2857142857142857, 0.25, 0.2857142857142857, 0.3333333333333333, 0.5238095238095238, 0.559322033898305, 0.5, 0.6666666666666666, 0.2727272727272727, 0.5660377358490566, 0.5, 0.4, 0.4375, 0.532258064516129, 0.38461538461538464, 0.34285714285714286, 0.39473684210526316, 0.5648148148148148, 0.4411764705882353, 0.4375, 0.6805555555555556, 0.6666666666666666, 0.6, 0.3333333333333333, 0.5, 0.5, 0.5, 0.875, 0.5081967213114754, 0.36363636363636365, 0.25, 0.45, 0.6111111111111112, 0.4918032786885246, 0.36363636363636365, 0.5357142857142857, 0.2222222222222222, 0.15789473684210525, 0.4666666666666667, 0.3333333333333333, 0.6216216216216216, 0.4, 0.5945945945945946, 0.36666666666666664, 0.6203703703703703, 0.3333333333333333, 0.3793103448275862, 0.3333333333333333, 0.6973684210526315, 0.3333333333333333, 0.3684210526315789, 0.3333333333333333, 0.5, 0.8407079646017699, 0.16666666666666666, 0.4, 0.42105263157894735, 0.4, 0.5, 0.5308641975308642, 0.25, 0.38461538461538464, 0.16666666666666666, 0.6027397260273972, 0.16666666666666666, 0.1, 0.4634146341463415, 0.6153846153846154, 0.11764705882352941, 0.2, 0.4117647058823529, 0.23076923076923078, 0.5, 0.36363636363636365, 0.375, 0.25, 0.2, 0.5555555555555556, 0.3333333333333333, 0.7279411764705882, 0.36363636363636365, 0.4791666666666667, 0.6122448979591837, 0.35, 0.3333333333333333, 0.2727272727272727, 0.4, 0.5, 0.7474747474747475, 0.4523809523809524, 0.6190476190476191, 0.3, 0.47058823529411764, 0.5, 0.5283018867924528, 0.4074074074074074, 0.43859649122807015, 0.5636363636363636, 0.16666666666666666, 0.8360655737704918, 0.42857142857142855, 0.42857142857142855, 0.5205479452054794, 0.3333333333333333, 0.49019607843137253, 0.4, 0.4444444444444444, 0.125, 0.42857142857142855, 0.4444444444444444, 0.5, 0.43859649122807015, 0.5641025641025641, 0.5625, 0.6521739130434783, 0.6495327102803738, 0.5979381443298969, 0.525, 0.5576923076923077, 0.5, 0.08333333333333333, 0.589041095890411, 0.3333333333333333, 0.5, 0.46938775510204084, 0.7802197802197802, 0.5555555555555556, 0.5428571428571428, 0.3333333333333333, 0.5480769230769231, 0.18181818181818182, 0.6533333333333333, 0.375, 0.40384615384615385, 0.5785123966942148, 0.4948453608247423, 0.3333333333333333, 0.42857142857142855, 0.4, 0.3333333333333333, 0.21052631578947367, 0.5238095238095238, 0.1111111111111111, 0.2, 0.4473684210526316, 0.6666666666666666, 0.7078651685393258, 0.4084507042253521, 0.375, 0.4090909090909091, 0.6595744680851063, 0.5, 0.5735294117647058, 0.36, 0.2727272727272727, 0.4166666666666667, 0.48, 0.2222222222222222, 0.16666666666666666, 0.6407766990291263, 0.4, 0.48717948717948717, 0.5384615384615384, 0.5405405405405406, 0.25, 0.36363636363636365, 0.7111111111111111, 0.16666666666666666, 0.3333333333333333, 0.25, 0.4, 0.6046511627906976, 0.2, 0.5319148936170213, 0.84375, 0.42105263157894735, 0.18181818181818182, 0.25, 0.875, 0.4444444444444444, 0.6290322580645161, 0.5, 0.3333333333333333, 0.4782608695652174, 0.2857142857142857, 0.4583333333333333, 0.3333333333333333, 0.25, 0.7341772151898734, 0.5611510791366906, 0.43243243243243246, 0.6779661016949152, 0.3, 0.47863247863247865, 0.35135135135135137, 0.3, 0.5357142857142857, 0.6415094339622641, 0.5370370370370371, 0.5714285714285714, 0.627906976744186, 0.45161290322580644, 0.4827586206896552, 0.5, 0.2765957446808511, 0.3333333333333333, 0.2222222222222222, 0.5084745762711864, 0.4888888888888889, 0.2962962962962963, 0.5, 0.5, 0.6533333333333333, 0.3870967741935484, 0.5, 0.3333333333333333, 0.5, 0.16666666666666666, 0.16666666666666666, 0.48148148148148145, 0.46153846153846156, 0.45901639344262296, 0.475, 0.5581395348837209, 0.3333333333333333, 0.40350877192982454, 0.5, 0.2, 0.6103896103896104, 0.3333333333333333, 0.6470588235294118, 0.25, 0.6, 0.7469879518072289, 0.5, 0.375, 0.7857142857142857, 0.2962962962962963, 0.5, 0.42857142857142855, 0.3333333333333333, 0.5333333333333333, 0.2857142857142857, 0.3333333333333333, 0.48, 0.2, 0.375, 0.45714285714285713, 0.5416666666666666, 0.42424242424242425, 0.2222222222222222, 0.5614035087719298, 0.375, 0.375, 0.3225806451612903, 0.3333333333333333, 0.45614035087719296, 0.5789473684210527, 0.16666666666666666, 0.2, 0.4, 0.5576923076923077, 0.43478260869565216, 0.5217391304347826, 0.2857142857142857, 0.5, 0.5172413793103449, 0.48148148148148145, 0.3235294117647059, 0.4864864864864865, 0.2608695652173913, 0.3333333333333333, 0.4, 0.3333333333333333, 0.3888888888888889, 0.2857142857142857, 0.4782608695652174, 0.2, 0.4878048780487805, 0.5714285714285714, 0.18181818181818182, 0.6153846153846154, 0.4444444444444444, 0.3333333333333333, 0.3235294117647059, 0.6422018348623854, 0.7142857142857143, 0.7086614173228346, 0.3333333333333333, 0.5447761194029851, 0.5, 0.4583333333333333, 0.3333333333333333, 0.7093023255813954, 0.34615384615384615, 0.3, 0.5921052631578947, 0.35714285714285715, 0.4166666666666667, 0.5726495726495726, 0.5520833333333334, 0.4, 0.125, 0.7559055118110236, 0.6868686868686869, 0.35294117647058826, 0.2, 0.5294117647058824, 0.375, 0.6263736263736264, 0.5535714285714286, 0.5, 0.38095238095238093, 0.3333333333333333, 0.7763975155279503, 0.47368421052631576, 0.3333333333333333, 0.4583333333333333, 0.3333333333333333, 0.16666666666666666, 0.034482758620689655, 0.4, 0.6, 0.4, 0.5, 0.16666666666666666, 0.3902439024390244, 0.4166666666666667, 0.5675675675675675, 0.3333333333333333, 0.23529411764705882, 0.40625, 0.5641025641025641, 0.6482758620689655, 0.5161290322580645, 0.4090909090909091, 0.2, 0.3333333333333333, 0.6781609195402298, 0.5, 0.45454545454545453, 0.36, 0.6436781609195402, 0.52, 0.5652173913043478, 0.3684210526315789, 0.6601941747572816, 0.28, 0.3333333333333333, 0.4, 0.29411764705882354, 0.36363636363636365, 0.5, 0.5897435897435898, 0.4444444444444444, 0.125, 0.625, 0.45454545454545453, 0.4375, 0.696969696969697, 0.5, 0.5, 0.25, 0.3333333333333333, 0.42857142857142855, 0.375], \"z\": [0.6513761467889908, 0.4, 0.46511627906976744, 0.2857142857142857, 0.43636363636363634, 0.5180722891566265, 0.4489795918367347, 0.5, 0.2727272727272727, 0.375, 0.49523809523809526, 0.3064516129032258, 0.22448979591836735, 0.3764705882352941, 0.4444444444444444, 0.3464052287581699, 0.39156626506024095, 0.5111111111111111, 0.17647058823529413, 0.25, 0.45132743362831856, 0.125, 0.41007194244604317, 0.4074074074074074, 0.5611814345991561, 0.6428571428571429, 0.21428571428571427, 0.7272727272727273, 0.42857142857142855, 0.44, 0.4642857142857143, 0.358695652173913, 0.34782608695652173, 0.36585365853658536, 0.5630630630630631, 0.23076923076923078, 0.6531531531531531, 0.531496062992126, 0.3333333333333333, 0.37142857142857144, 0.35294117647058826, 0.4628099173553719, 0.4537037037037037, 0.5, 0.42105263157894735, 0.30303030303030304, 0.4084507042253521, 0.6261127596439169, 0.35802469135802467, 0.5700483091787439, 0.7889182058047494, 0.4126984126984127, 0.375, 0.3684210526315789, 0.3541666666666667, 0.37037037037037035, 0.4623115577889447, 0.48484848484848486, 0.5682819383259912, 0.25, 0.5612903225806452, 0.32967032967032966, 0.4956896551724138, 0.43478260869565216, 0.6103896103896104, 0.6439024390243903, 0.32432432432432434, 0.3904761904761905, 0.4, 0.5612244897959183, 0.3853211009174312, 0.4666666666666667, 0.6024096385542169, 0.1875, 0.25925925925925924, 0.7774030354131535, 0.75177304964539, 0.35294117647058826, 0.19047619047619047, 0.2857142857142857, 0.40594059405940597, 0.37037037037037035, 0.1, 0.5379746835443038, 0.5071225071225072, 0.32727272727272727, 0.25, 0.5714285714285714, 0.7617021276595745, 0.52, 0.38461538461538464, 0.36363636363636365, 0.34375, 0.25, 0.4166666666666667, 0.4061302681992337, 0.4618320610687023, 0.43478260869565216, 0.39285714285714285, 0.625, 0.5095541401273885, 0.5384615384615384, 0.4444444444444444, 0.3333333333333333, 0.39285714285714285, 0.25, 0.2, 0.3333333333333333, 0.3333333333333333, 0.5572916666666666, 0.4430379746835443, 0.5, 0.26666666666666666, 0.7533333333333333, 0.3333333333333333, 0.4, 0.36363636363636365, 0.3333333333333333, 0.2631578947368421, 0.49264705882352944, 0.3125, 0.5684210526315789, 0.26666666666666666, 0.4817073170731707, 0.45, 0.7586206896551724, 0.5163043478260869, 0.35555555555555557, 0.6856540084388185, 0.32926829268292684, 0.5, 0.5, 0.24390243902439024, 0.3333333333333333, 0.52, 0.7146892655367232, 0.5927835051546392, 0.3541666666666667, 0.39325842696629215, 0.45, 0.17647058823529413, 0.45614035087719296, 0.36936936936936937, 0.5, 0.6216216216216216, 0.3157894736842105, 0.5277777777777778, 0.4155844155844156, 0.528125, 0.4794520547945205, 0.375, 0.5241935483870968, 0.32558139534883723, 0.4536082474226804, 0.4666666666666667, 0.5955056179775281, 0.4117647058823529, 0.3770491803278688, 0.5551470588235294, 0.30303030303030304, 0.5128205128205128, 0.2727272727272727, 0.45714285714285713, 0.4563106796116505, 0.36363636363636365, 0.38095238095238093, 0.4605263157894737, 0.25, 0.25, 0.5217391304347826, 0.4594594594594595, 0.41379310344827586, 0.2, 0.5074626865671642, 0.5354330708661418, 0.375, 0.3333333333333333, 0.28378378378378377, 0.27586206896551724, 0.425531914893617, 0.49710982658959535, 0.3228346456692913, 0.453125, 0.46153846153846156, 0.5074626865671642, 0.6793893129770993, 0.3953488372093023, 0.3888888888888889, 0.10526315789473684, 0.6449704142011834, 0.2857142857142857, 0.7029702970297029, 0.48044692737430167, 0.4810126582278481, 0.2, 0.5, 0.4090909090909091, 0.5942028985507246, 0.26666666666666666, 0.21428571428571427, 0.40707964601769914, 0.40336134453781514, 0.2, 0.4444444444444444, 0.4785276073619632, 0.3125, 0.359375, 0.5337837837837838, 0.46808510638297873, 0.4322033898305085, 0.3875, 0.5, 0.5, 0.2537313432835821, 0.43548387096774194, 0.45595854922279794, 0.3235294117647059, 0.7087912087912088, 0.5263157894736842, 0.36363636363636365, 0.5555555555555556, 0.46153846153846156, 0.3469387755102041, 0.42105263157894735, 0.3103448275862069, 0.6352087114337568, 0.6140939597315436, 0.2, 0.26666666666666666, 0.3617021276595745, 0.6538461538461539, 0.5355450236966824, 0.4012738853503185, 0.30434782608695654, 0.3275862068965517, 0.5530973451327433, 0.21428571428571427, 0.43956043956043955, 0.32, 0.45390070921985815, 0.28735632183908044, 0.25, 0.5833333333333334, 0.3448275862068966, 0.46774193548387094, 0.38461538461538464, 0.5, 0.29411764705882354, 0.3157894736842105, 0.5288461538461539, 0.48672566371681414, 0.14285714285714285, 0.2222222222222222, 0.3076923076923077, 0.5272727272727272, 0.4125, 0.5333333333333333, 0.25, 0.5255972696245734, 0.6, 0.5427728613569321, 0.42857142857142855, 0.42857142857142855, 0.5, 0.4279835390946502, 0.3902439024390244, 0.38461538461538464, 0.35, 0.4491525423728814, 0.4090909090909091, 0.3333333333333333, 0.3382352941176471, 0.5882352941176471, 0.684931506849315, 0.3170731707317073, 0.5454545454545454, 0.4, 0.39285714285714285, 0.25806451612903225, 0.3333333333333333, 0.6995708154506438, 0.3684210526315789, 0.5833333333333334, 0.4166666666666667, 0.30434782608695654, 0.33962264150943394, 0.4426229508196721, 0.5185185185185185, 0.21739130434782608, 0.4251968503937008, 0.35714285714285715, 0.5071428571428571, 0.18181818181818182, 0.36363636363636365, 0.5, 0.25, 0.47719298245614034, 0.5347826086956522, 0.5055555555555555, 0.5277777777777778, 0.8, 0.49635036496350365, 0.3333333333333333, 0.6102941176470589, 0.3486238532110092, 0.5357873210633947, 0.3786407766990291, 0.36363636363636365, 0.36764705882352944, 0.1323529411764706, 0.38181818181818183, 0.42857142857142855, 0.4166666666666667, 0.4297872340425532, 0.38461538461538464, 0.43478260869565216, 0.4772727272727273, 0.41818181818181815, 0.15789473684210525, 0.4166666666666667, 0.36231884057971014, 0.3076923076923077, 0.37735849056603776, 0.45, 0.3076923076923077, 0.25, 0.2857142857142857, 0.1956521739130435, 0.4864864864864865, 0.52, 0.15384615384615385, 0.3877551020408163, 0.48, 0.421875, 0.48936170212765956, 0.6577319587628866, 0.20408163265306123, 0.41732283464566927, 0.42105263157894735, 0.7388535031847133, 0.32, 0.5, 0.25, 0.4065934065934066, 0.37681159420289856, 0.48, 0.46835443037974683, 0.16666666666666666, 0.41732283464566927, 0.49056603773584906, 0.49230769230769234, 0.3333333333333333, 0.4444444444444444, 0.5272108843537415, 0.5787401574803149, 0.4583333333333333, 0.125, 0.45054945054945056, 0.391304347826087, 0.36538461538461536, 0.5830903790087464, 0.4642857142857143, 0.3673469387755102, 0.2982456140350877, 0.424, 0.2727272727272727, 0.5454545454545454, 0.5907928388746803, 0.40816326530612246, 0.34782608695652173, 0.6131805157593123, 0.35555555555555557, 0.38461538461538464, 0.4174757281553398, 0.46153846153846156, 0.45, 0.5536723163841808, 0.5862068965517241, 0.4222222222222222, 0.6918238993710691, 0.6228813559322034, 0.6074380165289256, 0.5647058823529412, 0.2, 0.2, 0.25, 0.5777777777777777, 0.4666666666666667, 0.30434782608695654, 0.40625, 0.5, 0.38144329896907214, 0.6472727272727272, 0.47619047619047616, 0.2857142857142857, 0.5590551181102362, 0.532608695652174, 0.36363636363636365, 0.567741935483871, 0.4811320754716981, 0.34375, 0.3333333333333333, 0.375, 0.5454545454545454, 0.4823529411764706, 0.37349397590361444, 0.34328358208955223, 0.4931506849315068, 0.4, 0.26666666666666666, 0.5309734513274337, 0.48325358851674644, 0.45454545454545453, 0.47692307692307695, 0.37662337662337664, 0.35365853658536583, 0.7025089605734767, 0.2, 0.45871559633027525, 0.4791666666666667, 0.36363636363636365, 0.3076923076923077, 0.4027777777777778, 0.3018867924528302, 0.4642857142857143, 0.4539877300613497, 0.8257261410788381, 0.6034063260340633, 0.3, 0.26666666666666666, 0.2, 0.3181818181818182, 0.5223214285714286, 0.4090909090909091, 0.5652173913043478, 0.37755102040816324, 0.555045871559633, 0.125, 0.5607476635514018, 0.42857142857142855, 0.3333333333333333, 0.5634920634920635, 0.5551601423487544, 0.6316964285714286, 0.42857142857142855, 0.3387096774193548, 0.25, 0.43529411764705883, 0.4, 0.5447154471544715, 0.4215686274509804, 0.5225225225225225, 0.4625, 0.2777777777777778, 0.48255813953488375, 0.6, 0.5586206896551724, 0.39473684210526316, 0.5137254901960784, 0.26666666666666666, 0.5356037151702786, 0.4691358024691358, 0.4625, 0.5377969762419006, 0.3076923076923077, 0.5194029850746269, 0.4473684210526316, 0.45454545454545453, 0.6612903225806451, 0.4444444444444444, 0.3548387096774194, 0.42857142857142855, 0.3333333333333333, 0.45714285714285713, 0.375, 0.4097222222222222, 0.3559322033898305, 0.425, 0.4588235294117647, 0.373134328358209, 0.2727272727272727, 0.22580645161290322, 0.46645367412140576, 0.4, 0.3448275862068966, 0.3333333333333333, 0.42028985507246375, 0.47896440129449835, 0.5483870967741935, 0.4666666666666667, 0.52, 0.19047619047619047, 0.3125, 0.6111111111111112, 0.7094430992736077, 0.3709677419354839, 0.50199203187251, 0.2571428571428571, 0.36585365853658536, 0.47540983606557374, 0.47058823529411764, 0.5491071428571429, 0.819935691318328, 0.46296296296296297, 0.4107142857142857, 0.5735294117647058, 0.3, 0.4049586776859504, 0.6845493562231759, 0.6082474226804123, 0.6593406593406593, 0.40625, 0.23076923076923078, 0.45045045045045046, 0.3137254901960784, 0.5, 0.47058823529411764, 0.41975308641975306, 0.4, 0.4673913043478261, 0.6245353159851301, 0.5747663551401869, 0.4, 0.4583333333333333, 0.1111111111111111, 0.4, 0.5098039215686274, 0.21428571428571427, 0.48677248677248675, 0.4878048780487805, 0.16666666666666666, 0.626, 0.38461538461538464, 0.45864661654135336, 0.2, 0.4, 0.8100558659217877, 0.48175182481751827, 0.7102272727272727, 0.3076923076923077, 0.3673469387755102, 0.4878048780487805, 0.41025641025641024, 0.375, 0.38596491228070173, 0.22727272727272727, 0.5355555555555556, 0.5844155844155844, 0.47474747474747475, 0.3, 0.45698924731182794, 0.4418604651162791, 0.2777777777777778, 0.17647058823529413, 0.3333333333333333, 0.5576923076923077, 0.38095238095238093, 0.7096774193548387, 0.25, 0.2857142857142857, 0.2631578947368421, 0.20689655172413793, 0.5705128205128205, 0.5409836065573771, 0.5, 0.23529411764705882, 0.7228637413394919, 0.463768115942029, 0.4, 0.1875, 0.4943820224719101, 0.3559322033898305, 0.37142857142857144, 0.3939393939393939, 0.5285714285714286, 0.5098039215686274, 0.5, 0.3858695652173913, 0.3333333333333333, 0.49107142857142855, 0.5345911949685535, 0.375, 0.5625, 0.36036036036036034, 0.5515695067264574, 0.45454545454545453, 0.6750629722921915, 0.5, 0.46710526315789475, 0.7315789473684211, 0.2727272727272727, 0.5062111801242236, 0.2926829268292683, 0.6119402985074627, 0.56640625, 0.34615384615384615, 0.45528455284552843, 0.4318181818181818, 0.3076923076923077, 0.5, 0.2222222222222222, 0.40476190476190477, 0.4222222222222222, 0.5333333333333333, 0.4473684210526316, 0.3923076923076923, 0.4027777777777778, 0.21212121212121213, 0.38, 0.40860215053763443, 0.3333333333333333, 0.30985915492957744, 0.07692307692307693, 0.3170731707317073, 0.4090909090909091, 0.4303030303030303, 0.5, 0.2, 0.7024482109227872, 0.38095238095238093, 0.3333333333333333, 0.3793103448275862, 0.18181818181818182, 0.541095890410959, 0.6666666666666666, 0.3835616438356164, 0.554140127388535, 0.19047619047619047, 0.41714285714285715, 0.39375, 0.36538461538461536, 0.20689655172413793, 0.35714285714285715, 0.546583850931677, 0.558252427184466, 0.5778894472361809, 0.17647058823529413, 0.6388888888888888, 0.43243243243243246, 0.6016949152542372, 0.5684210526315789, 0.5625, 0.6033519553072626, 0.39622641509433965, 0.4215686274509804, 0.37373737373737376, 0.5, 0.5436241610738255, 0.4027777777777778, 0.4129353233830846, 0.358974358974359, 0.6666666666666666, 0.23255813953488372, 0.35294117647058826, 0.23529411764705882, 0.5727699530516432, 0.041666666666666664, 0.4411764705882353, 0.46835443037974683, 0.58994708994709, 0.3090909090909091, 0.6497975708502024, 0.42857142857142855, 0.578125, 0.4742268041237113, 0.6111111111111112, 0.5670731707317073, 0.5058823529411764, 0.46788990825688076, 0.14285714285714285, 0.2, 0.34285714285714286, 0.43902439024390244, 0.34177215189873417, 0.25, 0.5993377483443708, 0.5359281437125748, 0.31343283582089554, 0.3333333333333333, 0.3076923076923077, 0.38461538461538464, 0.44554455445544555, 0.39215686274509803, 0.41304347826086957, 0.3333333333333333, 0.5543478260869565, 0.44666666666666666, 0.1875, 0.3684210526315789, 0.5, 0.4166666666666667, 0.14814814814814814, 0.38636363636363635, 0.3584905660377358, 0.4946236559139785, 0.49101796407185627, 0.5833333333333334, 0.45454545454545453, 0.3333333333333333, 0.7153846153846154, 0.42990654205607476, 0.4875, 0.39705882352941174, 0.4838709677419355, 0.5, 0.38235294117647056, 0.391304347826087, 0.4423076923076923, 0.5097276264591439, 0.3125, 0.5606060606060606, 0.25, 0.47619047619047616, 0.4125, 0.7044673539518901, 0.45121951219512196, 0.24, 0.4538152610441767, 0.3902439024390244, 0.3741496598639456, 0.6630434782608695, 0.45555555555555555, 0.25, 0.45454545454545453, 0.5, 0.2807017543859649, 0.43820224719101125, 0.4866666666666667, 0.8, 0.6097560975609756, 0.5416666666666666, 0.3333333333333333, 0.4482758620689655, 0.375, 0.46835443037974683, 0.45555555555555555, 0.3582089552238806, 0.30952380952380953, 0.47478991596638653, 0.5436105476673428, 0.4358974358974359, 0.5102040816326531, 0.6827956989247311, 0.7403846153846154, 0.5192307692307693, 0.5, 0.40932642487046633, 0.3333333333333333, 0.25, 0.2222222222222222, 0.38613861386138615, 0.5, 0.4375, 0.4166666666666667, 0.6589595375722543, 0.474025974025974, 0.5098039215686274, 0.421875, 0.625, 0.42424242424242425, 0.4744186046511628, 0.23809523809523808, 0.6111111111111112, 0.2972972972972973, 0.6037234042553191, 0.4890829694323144, 0.40789473684210525, 0.4540229885057471, 0.4017857142857143, 0.42105263157894735, 0.5526315789473685, 0.5862068965517241, 0.4672131147540984, 0.39436619718309857, 0.2, 0.8429752066115702, 0.40540540540540543, 0.4838709677419355, 0.45394736842105265, 0.17647058823529413, 0.21052631578947367, 0.47619047619047616, 0.38095238095238093, 0.5263157894736842, 0.75, 0.5341614906832298, 0.21052631578947367, 0.13513513513513514, 0.4368932038834951, 0.375, 0.28125, 0.5608465608465608, 0.40540540540540543, 0.5, 0.3, 0.3333333333333333, 0.35714285714285715, 0.5106382978723404, 0.36, 0.6049382716049383, 0.5135135135135135, 0.5793650793650794, 0.44, 0.5081967213114754, 0.4745762711864407, 0.2777777777777778, 0.42857142857142855, 0.6666666666666666, 0.5, 0.44680851063829785, 0.664576802507837, 0.46218487394957986, 0.47580645161290325, 0.38095238095238093, 0.5217391304347826, 0.4189189189189189, 0.5302325581395348, 0.4618181818181818, 0.36363636363636365, 0.47297297297297297, 0.4186046511627907, 0.8014981273408239, 0.2857142857142857, 0.3333333333333333, 0.17777777777777778, 0.35135135135135137, 0.5294117647058824, 0.5497076023391813, 0.4631578947368421, 0.16666666666666666, 0.6666666666666666, 0.3389830508474576, 0.525974025974026, 0.5128205128205128, 0.3333333333333333, 0.423728813559322, 0.6305970149253731, 0.5153374233128835, 0.5331807780320366, 0.46017699115044247, 0.48148148148148145, 0.4351145038167939, 0.3111111111111111, 0.5555555555555556, 0.5, 0.41228070175438597, 0.3953488372093023, 0.7765451664025357, 0.5253333333333333, 0.3238095238095238, 0.5, 0.5704918032786885, 0.42857142857142855, 0.6604477611940298, 0.3333333333333333, 0.2413793103448276, 0.4742268041237113, 0.5308641975308642, 0.14285714285714285, 0.25, 0.5584415584415584, 0.44715447154471544, 0.5222222222222223, 0.38095238095238093, 0.39285714285714285, 0.1, 0.47685185185185186, 0.6172607879924953, 0.6666666666666666, 0.47368421052631576, 0.4146341463414634, 0.2903225806451613, 0.7763157894736842, 0.42857142857142855, 0.5512820512820513, 0.3, 0.42424242424242425, 0.38823529411764707, 0.5143884892086331, 0.3493975903614458, 0.32142857142857145, 0.6016260162601627, 0.4, 0.39655172413793105, 0.46153846153846156, 0.5094339622641509, 0.46153846153846156, 0.5106382978723404, 0.6352201257861635, 0.375, 0.25, 0.3333333333333333, 0.44150943396226416, 0.6446886446886447, 0.2857142857142857, 0.42105263157894735, 0.8296703296703297, 0.5277777777777778, 0.38461538461538464, 0.2857142857142857, 0.8326271186440678, 0.4266666666666667, 0.5669291338582677, 0.6, 0.25806451612903225, 0.4074074074074074, 0.23529411764705882, 0.29411764705882354, 0.37398373983739835, 0.3, 0.6750788643533123, 0.5, 0.21818181818181817, 0.5816326530612245, 0.3333333333333333, 0.4444444444444444, 0.4623115577889447, 0.3582089552238806, 0.3333333333333333, 0.5619469026548672, 0.5225806451612903, 0.4264705882352941, 0.6460674157303371, 0.3860759493670886, 0.39766081871345027, 0.3333333333333333, 0.32894736842105265, 0.4, 0.25, 0.5466101694915254, 0.47794117647058826, 0.3448275862068966, 0.21428571428571427, 0.47058823529411764, 0.5635179153094463, 0.4407894736842105, 0.47058823529411764, 0.5, 0.5536723163841808, 0.46808510638297873, 0.1111111111111111, 0.4649122807017544, 0.47692307692307695, 0.42727272727272725, 0.5987261146496815, 0.4845360824742268, 0.37735849056603776, 0.4409448818897638, 0.36231884057971014, 0.16666666666666666, 0.527972027972028, 0.42696629213483145, 0.5126050420168067, 0.4818181818181818, 0.6666666666666666, 0.7064220183486238, 0.6376811594202898, 0.3684210526315789, 0.7865853658536586, 0.44545454545454544, 0.41818181818181815, 0.25, 0.4608695652173913, 0.624113475177305, 0.22727272727272727, 0.3559322033898305, 0.359375, 0.3670886075949367, 0.36538461538461536, 0.46099290780141844, 0.5060240963855421, 0.4107142857142857, 0.4117647058823529, 0.4888888888888889, 0.4157303370786517, 0.3404255319148936, 0.47058823529411764, 0.15384615384615385, 0.3018867924528302, 0.36363636363636365, 0.47761194029850745, 0.3877551020408163, 0.3283582089552239, 0.5280373831775701, 0.5, 0.375, 0.30303030303030304, 0.43333333333333335, 0.2631578947368421, 0.5220588235294118, 0.4838709677419355, 0.34615384615384615, 0.36363636363636365, 0.41509433962264153, 0.21052631578947367, 0.1935483870967742, 0.4, 0.75, 0.359375, 0.42045454545454547, 0.6397379912663755, 0.2708333333333333, 0.36153846153846153, 0.5623268698060941, 0.6371308016877637, 0.40350877192982454, 0.5, 0.5681818181818182, 0.6517647058823529, 0.6064814814814815, 0.3469387755102041, 0.5315985130111525, 0.5, 0.3673469387755102, 0.1, 0.6462395543175488, 0.3235294117647059, 0.5126582278481012, 0.5302491103202847, 0.4318181818181818, 0.40540540540540543, 0.596244131455399, 0.5, 0.410958904109589, 0.3611111111111111, 0.6813725490196079, 0.6482982171799028, 0.3875, 0.25925925925925924, 0.6075268817204301, 0.3225806451612903, 0.6316758747697975, 0.5533980582524272, 0.5, 0.4358974358974359, 0.35294117647058826, 0.6, 0.21621621621621623, 0.4375, 0.6428571428571429, 0.49606299212598426, 0.3611111111111111, 0.08695652173913043, 0.2857142857142857, 0.49019607843137253, 0.4666666666666667, 0.48148148148148145, 0.47297297297297297, 0.49295774647887325, 0.47619047619047616, 0.5428571428571428, 0.25, 0.43661971830985913, 0.3419354838709677, 0.5526315789473685, 0.5343137254901961, 0.5300546448087432, 0.4925373134328358, 0.48739495798319327, 0.38461538461538464, 0.7323232323232324, 0.3333333333333333, 0.45977011494252873, 0.34615384615384615, 0.5361216730038023, 0.3333333333333333, 0.43902439024390244, 0.4491525423728814, 0.6332622601279317, 0.25, 0.14285714285714285, 0.36363636363636365, 0.09523809523809523, 0.2727272727272727, 0.625, 0.6408839779005525, 0.3333333333333333, 0.18181818181818182, 0.4940119760479042, 0.7192982456140351, 0.4217687074829932, 0.6770833333333334, 0.5026737967914439, 0.391304347826087, 0.2916666666666667, 0.2608695652173913, 0.4939759036144578, 0.3]}],\n",
       "                        {\"coloraxis\": {\"colorbar\": {\"title\": {\"text\": \"label\"}}, \"colorscale\": [[0.0, \"#0d0887\"], [0.1111111111111111, \"#46039f\"], [0.2222222222222222, \"#7201a8\"], [0.3333333333333333, \"#9c179e\"], [0.4444444444444444, \"#bd3786\"], [0.5555555555555556, \"#d8576b\"], [0.6666666666666666, \"#ed7953\"], [0.7777777777777778, \"#fb9f3a\"], [0.8888888888888888, \"#fdca26\"], [1.0, \"#f0f921\"]]}, \"legend\": {\"tracegroupgap\": 0}, \"margin\": {\"t\": 60}, \"scene\": {\"domain\": {\"x\": [0.0, 1.0], \"y\": [0.0, 1.0]}, \"xaxis\": {\"title\": {\"text\": \"Clay_record\"}}, \"yaxis\": {\"title\": {\"text\": \"Grass_record\"}}, \"zaxis\": {\"title\": {\"text\": \"Hard_record\"}}}, \"template\": {\"data\": {\"bar\": [{\"error_x\": {\"color\": \"#2a3f5f\"}, \"error_y\": {\"color\": \"#2a3f5f\"}, \"marker\": {\"line\": {\"color\": \"#E5ECF6\", \"width\": 0.5}}, \"type\": \"bar\"}], \"barpolar\": [{\"marker\": {\"line\": {\"color\": \"#E5ECF6\", \"width\": 0.5}}, \"type\": \"barpolar\"}], \"carpet\": [{\"aaxis\": {\"endlinecolor\": \"#2a3f5f\", \"gridcolor\": \"white\", \"linecolor\": \"white\", \"minorgridcolor\": \"white\", \"startlinecolor\": \"#2a3f5f\"}, \"baxis\": {\"endlinecolor\": \"#2a3f5f\", \"gridcolor\": \"white\", \"linecolor\": \"white\", \"minorgridcolor\": \"white\", \"startlinecolor\": \"#2a3f5f\"}, \"type\": \"carpet\"}], \"choropleth\": [{\"colorbar\": {\"outlinewidth\": 0, \"ticks\": \"\"}, \"type\": \"choropleth\"}], \"contour\": [{\"colorbar\": {\"outlinewidth\": 0, \"ticks\": \"\"}, \"colorscale\": [[0.0, \"#0d0887\"], [0.1111111111111111, \"#46039f\"], [0.2222222222222222, \"#7201a8\"], [0.3333333333333333, \"#9c179e\"], [0.4444444444444444, \"#bd3786\"], [0.5555555555555556, \"#d8576b\"], [0.6666666666666666, \"#ed7953\"], [0.7777777777777778, \"#fb9f3a\"], [0.8888888888888888, \"#fdca26\"], [1.0, \"#f0f921\"]], \"type\": \"contour\"}], \"contourcarpet\": [{\"colorbar\": {\"outlinewidth\": 0, \"ticks\": \"\"}, \"type\": \"contourcarpet\"}], \"heatmap\": [{\"colorbar\": {\"outlinewidth\": 0, \"ticks\": \"\"}, \"colorscale\": [[0.0, \"#0d0887\"], [0.1111111111111111, \"#46039f\"], [0.2222222222222222, \"#7201a8\"], [0.3333333333333333, \"#9c179e\"], [0.4444444444444444, \"#bd3786\"], [0.5555555555555556, \"#d8576b\"], [0.6666666666666666, \"#ed7953\"], [0.7777777777777778, \"#fb9f3a\"], [0.8888888888888888, \"#fdca26\"], [1.0, \"#f0f921\"]], \"type\": \"heatmap\"}], \"heatmapgl\": [{\"colorbar\": {\"outlinewidth\": 0, \"ticks\": \"\"}, \"colorscale\": [[0.0, \"#0d0887\"], [0.1111111111111111, \"#46039f\"], [0.2222222222222222, \"#7201a8\"], [0.3333333333333333, \"#9c179e\"], [0.4444444444444444, \"#bd3786\"], [0.5555555555555556, \"#d8576b\"], [0.6666666666666666, \"#ed7953\"], [0.7777777777777778, \"#fb9f3a\"], [0.8888888888888888, \"#fdca26\"], [1.0, \"#f0f921\"]], \"type\": \"heatmapgl\"}], \"histogram\": [{\"marker\": {\"colorbar\": {\"outlinewidth\": 0, \"ticks\": \"\"}}, \"type\": \"histogram\"}], \"histogram2d\": [{\"colorbar\": {\"outlinewidth\": 0, \"ticks\": \"\"}, \"colorscale\": [[0.0, \"#0d0887\"], [0.1111111111111111, \"#46039f\"], [0.2222222222222222, \"#7201a8\"], [0.3333333333333333, \"#9c179e\"], [0.4444444444444444, \"#bd3786\"], [0.5555555555555556, \"#d8576b\"], [0.6666666666666666, \"#ed7953\"], [0.7777777777777778, \"#fb9f3a\"], [0.8888888888888888, \"#fdca26\"], [1.0, \"#f0f921\"]], \"type\": \"histogram2d\"}], \"histogram2dcontour\": [{\"colorbar\": {\"outlinewidth\": 0, \"ticks\": \"\"}, \"colorscale\": [[0.0, \"#0d0887\"], [0.1111111111111111, \"#46039f\"], [0.2222222222222222, \"#7201a8\"], [0.3333333333333333, \"#9c179e\"], [0.4444444444444444, \"#bd3786\"], [0.5555555555555556, \"#d8576b\"], [0.6666666666666666, \"#ed7953\"], [0.7777777777777778, \"#fb9f3a\"], [0.8888888888888888, \"#fdca26\"], [1.0, \"#f0f921\"]], \"type\": \"histogram2dcontour\"}], \"mesh3d\": [{\"colorbar\": {\"outlinewidth\": 0, \"ticks\": \"\"}, \"type\": \"mesh3d\"}], \"parcoords\": [{\"line\": {\"colorbar\": {\"outlinewidth\": 0, \"ticks\": \"\"}}, \"type\": \"parcoords\"}], \"pie\": [{\"automargin\": true, \"type\": \"pie\"}], \"scatter\": [{\"marker\": {\"colorbar\": {\"outlinewidth\": 0, \"ticks\": \"\"}}, \"type\": \"scatter\"}], \"scatter3d\": [{\"line\": {\"colorbar\": {\"outlinewidth\": 0, \"ticks\": \"\"}}, \"marker\": {\"colorbar\": {\"outlinewidth\": 0, \"ticks\": \"\"}}, \"type\": \"scatter3d\"}], \"scattercarpet\": [{\"marker\": {\"colorbar\": {\"outlinewidth\": 0, \"ticks\": \"\"}}, \"type\": \"scattercarpet\"}], \"scattergeo\": [{\"marker\": {\"colorbar\": {\"outlinewidth\": 0, \"ticks\": \"\"}}, \"type\": \"scattergeo\"}], \"scattergl\": [{\"marker\": {\"colorbar\": {\"outlinewidth\": 0, \"ticks\": \"\"}}, \"type\": \"scattergl\"}], \"scattermapbox\": [{\"marker\": {\"colorbar\": {\"outlinewidth\": 0, \"ticks\": \"\"}}, \"type\": \"scattermapbox\"}], \"scatterpolar\": [{\"marker\": {\"colorbar\": {\"outlinewidth\": 0, \"ticks\": \"\"}}, \"type\": \"scatterpolar\"}], \"scatterpolargl\": [{\"marker\": {\"colorbar\": {\"outlinewidth\": 0, \"ticks\": \"\"}}, \"type\": \"scatterpolargl\"}], \"scatterternary\": [{\"marker\": {\"colorbar\": {\"outlinewidth\": 0, \"ticks\": \"\"}}, \"type\": \"scatterternary\"}], \"surface\": [{\"colorbar\": {\"outlinewidth\": 0, \"ticks\": \"\"}, \"colorscale\": [[0.0, \"#0d0887\"], [0.1111111111111111, \"#46039f\"], [0.2222222222222222, \"#7201a8\"], [0.3333333333333333, \"#9c179e\"], [0.4444444444444444, \"#bd3786\"], [0.5555555555555556, \"#d8576b\"], [0.6666666666666666, \"#ed7953\"], [0.7777777777777778, \"#fb9f3a\"], [0.8888888888888888, \"#fdca26\"], [1.0, \"#f0f921\"]], \"type\": \"surface\"}], \"table\": [{\"cells\": {\"fill\": {\"color\": \"#EBF0F8\"}, \"line\": {\"color\": \"white\"}}, \"header\": {\"fill\": {\"color\": \"#C8D4E3\"}, \"line\": {\"color\": \"white\"}}, \"type\": \"table\"}]}, \"layout\": {\"annotationdefaults\": {\"arrowcolor\": \"#2a3f5f\", \"arrowhead\": 0, \"arrowwidth\": 1}, \"coloraxis\": {\"colorbar\": {\"outlinewidth\": 0, \"ticks\": \"\"}}, \"colorscale\": {\"diverging\": [[0, \"#8e0152\"], [0.1, \"#c51b7d\"], [0.2, \"#de77ae\"], [0.3, \"#f1b6da\"], [0.4, \"#fde0ef\"], [0.5, \"#f7f7f7\"], [0.6, \"#e6f5d0\"], [0.7, \"#b8e186\"], [0.8, \"#7fbc41\"], [0.9, \"#4d9221\"], [1, \"#276419\"]], \"sequential\": [[0.0, \"#0d0887\"], [0.1111111111111111, \"#46039f\"], [0.2222222222222222, \"#7201a8\"], [0.3333333333333333, \"#9c179e\"], [0.4444444444444444, \"#bd3786\"], [0.5555555555555556, \"#d8576b\"], [0.6666666666666666, \"#ed7953\"], [0.7777777777777778, \"#fb9f3a\"], [0.8888888888888888, \"#fdca26\"], [1.0, \"#f0f921\"]], \"sequentialminus\": [[0.0, \"#0d0887\"], [0.1111111111111111, \"#46039f\"], [0.2222222222222222, \"#7201a8\"], [0.3333333333333333, \"#9c179e\"], [0.4444444444444444, \"#bd3786\"], [0.5555555555555556, \"#d8576b\"], [0.6666666666666666, \"#ed7953\"], [0.7777777777777778, \"#fb9f3a\"], [0.8888888888888888, \"#fdca26\"], [1.0, \"#f0f921\"]]}, \"colorway\": [\"#636efa\", \"#EF553B\", \"#00cc96\", \"#ab63fa\", \"#FFA15A\", \"#19d3f3\", \"#FF6692\", \"#B6E880\", \"#FF97FF\", \"#FECB52\"], \"font\": {\"color\": \"#2a3f5f\"}, \"geo\": {\"bgcolor\": \"white\", \"lakecolor\": \"white\", \"landcolor\": \"#E5ECF6\", \"showlakes\": true, \"showland\": true, \"subunitcolor\": \"white\"}, \"hoverlabel\": {\"align\": \"left\"}, \"hovermode\": \"closest\", \"mapbox\": {\"style\": \"light\"}, \"paper_bgcolor\": \"white\", \"plot_bgcolor\": \"#E5ECF6\", \"polar\": {\"angularaxis\": {\"gridcolor\": \"white\", \"linecolor\": \"white\", \"ticks\": \"\"}, \"bgcolor\": \"#E5ECF6\", \"radialaxis\": {\"gridcolor\": \"white\", \"linecolor\": \"white\", \"ticks\": \"\"}}, \"scene\": {\"xaxis\": {\"backgroundcolor\": \"#E5ECF6\", \"gridcolor\": \"white\", \"gridwidth\": 2, \"linecolor\": \"white\", \"showbackground\": true, \"ticks\": \"\", \"zerolinecolor\": \"white\"}, \"yaxis\": {\"backgroundcolor\": \"#E5ECF6\", \"gridcolor\": \"white\", \"gridwidth\": 2, \"linecolor\": \"white\", \"showbackground\": true, \"ticks\": \"\", \"zerolinecolor\": \"white\"}, \"zaxis\": {\"backgroundcolor\": \"#E5ECF6\", \"gridcolor\": \"white\", \"gridwidth\": 2, \"linecolor\": \"white\", \"showbackground\": true, \"ticks\": \"\", \"zerolinecolor\": \"white\"}}, \"shapedefaults\": {\"line\": {\"color\": \"#2a3f5f\"}}, \"ternary\": {\"aaxis\": {\"gridcolor\": \"white\", \"linecolor\": \"white\", \"ticks\": \"\"}, \"baxis\": {\"gridcolor\": \"white\", \"linecolor\": \"white\", \"ticks\": \"\"}, \"bgcolor\": \"#E5ECF6\", \"caxis\": {\"gridcolor\": \"white\", \"linecolor\": \"white\", \"ticks\": \"\"}}, \"title\": {\"x\": 0.05}, \"xaxis\": {\"automargin\": true, \"gridcolor\": \"white\", \"linecolor\": \"white\", \"ticks\": \"\", \"title\": {\"standoff\": 15}, \"zerolinecolor\": \"white\", \"zerolinewidth\": 2}, \"yaxis\": {\"automargin\": true, \"gridcolor\": \"white\", \"linecolor\": \"white\", \"ticks\": \"\", \"title\": {\"standoff\": 15}, \"zerolinecolor\": \"white\", \"zerolinewidth\": 2}}}},\n",
       "                        {\"responsive\": true}\n",
       "                    ).then(function(){\n",
       "                            \n",
       "var gd = document.getElementById('ccc74337-e660-45aa-ade1-d80f04558784');\n",
       "var x = new MutationObserver(function (mutations, observer) {{\n",
       "        var display = window.getComputedStyle(gd).display;\n",
       "        if (!display || display === 'none') {{\n",
       "            console.log([gd, 'removed!']);\n",
       "            Plotly.purge(gd);\n",
       "            observer.disconnect();\n",
       "        }}\n",
       "}});\n",
       "\n",
       "// Listen for the removal of the full notebook cells\n",
       "var notebookContainer = gd.closest('#notebook-container');\n",
       "if (notebookContainer) {{\n",
       "    x.observe(notebookContainer, {childList: true});\n",
       "}}\n",
       "\n",
       "// Listen for the clearing of the current output cell\n",
       "var outputEl = gd.closest('.output');\n",
       "if (outputEl) {{\n",
       "    x.observe(outputEl, {childList: true});\n",
       "}}\n",
       "\n",
       "                        })\n",
       "                };\n",
       "                });\n",
       "            </script>\n",
       "        </div>"
      ]
     },
     "metadata": {},
     "output_type": "display_data"
    }
   ],
   "source": [
    "import plotly.express as px\n",
    "\n",
    "fig = px.scatter_3d(kmeans_df, x='Clay_record', y='Grass_record', z='Hard_record',\n",
    "              color='label',hover_data=kmeans_df.columns.values)\n",
    "fig.show()"
   ]
  },
  {
   "cell_type": "code",
   "execution_count": 227,
   "metadata": {},
   "outputs": [
    {
     "data": {
      "text/html": [
       "<div>\n",
       "<style scoped>\n",
       "    .dataframe tbody tr th:only-of-type {\n",
       "        vertical-align: middle;\n",
       "    }\n",
       "\n",
       "    .dataframe tbody tr th {\n",
       "        vertical-align: top;\n",
       "    }\n",
       "\n",
       "    .dataframe thead th {\n",
       "        text-align: right;\n",
       "    }\n",
       "</style>\n",
       "<table border=\"1\" class=\"dataframe\">\n",
       "  <thead>\n",
       "    <tr style=\"text-align: right;\">\n",
       "      <th></th>\n",
       "      <th>Clay_record</th>\n",
       "      <th>Grass_record</th>\n",
       "      <th>Hard_record</th>\n",
       "      <th>label</th>\n",
       "    </tr>\n",
       "  </thead>\n",
       "  <tbody>\n",
       "    <tr>\n",
       "      <th>Clay_record</th>\n",
       "      <td>1.000000</td>\n",
       "      <td>0.351174</td>\n",
       "      <td>0.503692</td>\n",
       "      <td>-0.726325</td>\n",
       "    </tr>\n",
       "    <tr>\n",
       "      <th>Grass_record</th>\n",
       "      <td>0.351174</td>\n",
       "      <td>1.000000</td>\n",
       "      <td>0.554982</td>\n",
       "      <td>-0.330191</td>\n",
       "    </tr>\n",
       "    <tr>\n",
       "      <th>Hard_record</th>\n",
       "      <td>0.503692</td>\n",
       "      <td>0.554982</td>\n",
       "      <td>1.000000</td>\n",
       "      <td>-0.520263</td>\n",
       "    </tr>\n",
       "    <tr>\n",
       "      <th>label</th>\n",
       "      <td>-0.726325</td>\n",
       "      <td>-0.330191</td>\n",
       "      <td>-0.520263</td>\n",
       "      <td>1.000000</td>\n",
       "    </tr>\n",
       "  </tbody>\n",
       "</table>\n",
       "</div>"
      ],
      "text/plain": [
       "              Clay_record  Grass_record  Hard_record     label\n",
       "Clay_record      1.000000      0.351174     0.503692 -0.726325\n",
       "Grass_record     0.351174      1.000000     0.554982 -0.330191\n",
       "Hard_record      0.503692      0.554982     1.000000 -0.520263\n",
       "label           -0.726325     -0.330191    -0.520263  1.000000"
      ]
     },
     "execution_count": 227,
     "metadata": {},
     "output_type": "execute_result"
    }
   ],
   "source": [
    "kmeans_df.corr()"
   ]
  },
  {
   "cell_type": "code",
   "execution_count": null,
   "metadata": {},
   "outputs": [],
   "source": []
  },
  {
   "cell_type": "markdown",
   "metadata": {},
   "source": []
  }
 ],
 "metadata": {
  "kernelspec": {
   "display_name": "Python 3",
   "language": "python",
   "name": "python3"
  },
  "language_info": {
   "codemirror_mode": {
    "name": "ipython",
    "version": 3
   },
   "file_extension": ".py",
   "mimetype": "text/x-python",
   "name": "python",
   "nbconvert_exporter": "python",
   "pygments_lexer": "ipython3",
   "version": "3.7.3"
  }
 },
 "nbformat": 4,
 "nbformat_minor": 2
}
